{
  "nbformat": 4,
  "nbformat_minor": 0,
  "metadata": {
    "colab": {
      "name": "Keras_Model_save_load_and retrain",
      "version": "0.3.2",
      "provenance": []
    },
    "kernelspec": {
      "name": "python3",
      "display_name": "Python 3"
    }
  },
  "cells": [
    {
      "cell_type": "markdown",
      "metadata": {
        "id": "view-in-github",
        "colab_type": "text"
      },
      "source": [
        "[View in Colaboratory](https://colab.research.google.com/github/sungreong/TIL/blob/master/Keras_Model_save_load_and_retrain.ipynb)"
      ]
    },
    {
      "metadata": {
        "id": "5HnKcXtdQQcp",
        "colab_type": "code",
        "colab": {
          "base_uri": "https://localhost:8080/",
          "height": 35
        },
        "outputId": "646d5010-f5eb-4728-b009-ff463fcaa194"
      },
      "cell_type": "code",
      "source": [
        "from __future__ import print_function\n",
        "import keras\n",
        "import os.path\n",
        "from keras.datasets import mnist\n",
        "from keras.models import Sequential\n",
        "from keras.layers import Dense, Dropout, Flatten\n",
        "from keras.layers import Conv2D, MaxPooling2D\n",
        "from keras import backend as K\n",
        "from keras.callbacks import ModelCheckpoint"
      ],
      "execution_count": 1,
      "outputs": [
        {
          "output_type": "stream",
          "text": [
            "Using TensorFlow backend.\n"
          ],
          "name": "stderr"
        }
      ]
    },
    {
      "metadata": {
        "id": "rnb0Y8lUQRXZ",
        "colab_type": "code",
        "colab": {}
      },
      "cell_type": "code",
      "source": [
        "# Path to saved model weights(as hdf5)\n",
        "resume_weights = \"./mnist-cnn-best.hdf5\"\n",
        "\n",
        "# Where to save Checkpoint(In the /output folder)\n",
        "filepath = \"./mnist-cnn-best.hdf5\"\n",
        "\n",
        "# Hyper-parameters\n",
        "batch_size = 128\n",
        "num_classes = 10\n",
        "epochs = 12\n",
        "\n",
        "# input image dimensions\n",
        "img_rows, img_cols = 28, 28"
      ],
      "execution_count": 0,
      "outputs": []
    },
    {
      "metadata": {
        "id": "IKgtcWsVQZVo",
        "colab_type": "code",
        "colab": {
          "base_uri": "https://localhost:8080/",
          "height": 107
        },
        "outputId": "6ea56d33-9801-46c1-c0ce-0cb57eb6ae21"
      },
      "cell_type": "code",
      "source": [
        "# MNIST handwritten image classification\n",
        "# the data, shuffled and split between train and test sets\n",
        "(x_train, y_train), (x_test, y_test) = mnist.load_data()\n",
        "\n",
        "# Reshape strategy according to backend\n",
        "if K.image_data_format() == 'channels_first':\n",
        "    x_train = x_train.reshape(x_train.shape[0], 1, img_rows, img_cols)\n",
        "    x_test = x_test.reshape(x_test.shape[0], 1, img_rows, img_cols)\n",
        "    # 1 x 28 x 28 [number_of_channels (colors) x height x weight]\n",
        "    input_shape = (1, img_rows, img_cols)\n",
        "else:\n",
        "    x_train = x_train.reshape(x_train.shape[0], img_rows, img_cols, 1)\n",
        "    x_test = x_test.reshape(x_test.shape[0], img_rows, img_cols, 1)\n",
        "    # 28 x 28 x 1 [height x weight x number_of_channels (colors)]\n",
        "    input_shape = (img_rows, img_cols, 1)\n",
        "\n",
        "# Reshape, type, normalized, print\n",
        "x_train = x_train.astype('float32')\n",
        "x_test = x_test.astype('float32')\n",
        "x_train /= 255\n",
        "x_test /= 255\n",
        "\n",
        "# Dataset info\n",
        "print('x_train shape:', x_train.shape)\n",
        "print(x_train.shape[0], 'train samples')\n",
        "print(x_test.shape[0], 'test samples')\n",
        "\n",
        "# convert class vectors to binary class matrices\n",
        "y_train = keras.utils.to_categorical(y_train, num_classes)\n",
        "y_test = keras.utils.to_categorical(y_test, num_classes)"
      ],
      "execution_count": 3,
      "outputs": [
        {
          "output_type": "stream",
          "text": [
            "Downloading data from https://s3.amazonaws.com/img-datasets/mnist.npz\n",
            "11493376/11490434 [==============================] - 3s 0us/step\n",
            "x_train shape: (60000, 28, 28, 1)\n",
            "60000 train samples\n",
            "10000 test samples\n"
          ],
          "name": "stdout"
        }
      ]
    },
    {
      "metadata": {
        "id": "rtAArWXhQfH_",
        "colab_type": "code",
        "colab": {
          "base_uri": "https://localhost:8080/",
          "height": 431
        },
        "outputId": "c50d672c-0c5b-4fa0-eff3-54b059a0a281"
      },
      "cell_type": "code",
      "source": [
        "model = Sequential()\n",
        "model.add(Conv2D(32, kernel_size=(3, 3),\n",
        "                    activation='relu',\n",
        "                    input_shape=input_shape))\n",
        "model.add(Conv2D(64, (3, 3), activation='relu'))\n",
        "model.add(MaxPooling2D(pool_size=(2, 2)))\n",
        "model.add(Dropout(0.25))\n",
        "model.add(Flatten())\n",
        "model.add(Dense(128, activation='relu'))\n",
        "model.add(Dropout(0.5))\n",
        "model.add(Dense(num_classes, activation='softmax'))\n",
        "\n",
        "model.summary()"
      ],
      "execution_count": 4,
      "outputs": [
        {
          "output_type": "stream",
          "text": [
            "_________________________________________________________________\n",
            "Layer (type)                 Output Shape              Param #   \n",
            "=================================================================\n",
            "conv2d_1 (Conv2D)            (None, 26, 26, 32)        320       \n",
            "_________________________________________________________________\n",
            "conv2d_2 (Conv2D)            (None, 24, 24, 64)        18496     \n",
            "_________________________________________________________________\n",
            "max_pooling2d_1 (MaxPooling2 (None, 12, 12, 64)        0         \n",
            "_________________________________________________________________\n",
            "dropout_1 (Dropout)          (None, 12, 12, 64)        0         \n",
            "_________________________________________________________________\n",
            "flatten_1 (Flatten)          (None, 9216)              0         \n",
            "_________________________________________________________________\n",
            "dense_1 (Dense)              (None, 128)               1179776   \n",
            "_________________________________________________________________\n",
            "dropout_2 (Dropout)          (None, 128)               0         \n",
            "_________________________________________________________________\n",
            "dense_2 (Dense)              (None, 10)                1290      \n",
            "=================================================================\n",
            "Total params: 1,199,882\n",
            "Trainable params: 1,199,882\n",
            "Non-trainable params: 0\n",
            "_________________________________________________________________\n"
          ],
          "name": "stdout"
        }
      ]
    },
    {
      "metadata": {
        "id": "LpeN_w9XQkcH",
        "colab_type": "code",
        "colab": {
          "base_uri": "https://localhost:8080/",
          "height": 35
        },
        "outputId": "9943319b-e792-41f9-d92d-d62be3c5c2de"
      },
      "cell_type": "code",
      "source": [
        "# If exists a best model, load its weights!\n",
        "if os.path.isfile(resume_weights):\n",
        "    print (\"Resumed model's weights from {}\".format(resume_weights))\n",
        "    # load weights\n",
        "    model.load_weights(resume_weights)"
      ],
      "execution_count": 13,
      "outputs": [
        {
          "output_type": "stream",
          "text": [
            "Resumed model's weights from ./mnist-cnn-best.hdf5\n"
          ],
          "name": "stdout"
        }
      ]
    },
    {
      "metadata": {
        "id": "T7p2_W8ZQpIX",
        "colab_type": "code",
        "colab": {}
      },
      "cell_type": "code",
      "source": [
        "model.compile(loss=keras.losses.categorical_crossentropy,\n",
        "            optimizer=keras.optimizers.Adam(),\n",
        "            metrics=['accuracy'])"
      ],
      "execution_count": 0,
      "outputs": []
    },
    {
      "metadata": {
        "id": "DRYto6iwQtsf",
        "colab_type": "code",
        "colab": {}
      },
      "cell_type": "code",
      "source": [
        "checkpoint = ModelCheckpoint(filepath,\n",
        "                            monitor='val_acc',\n",
        "                            verbose=1,\n",
        "                            save_best_only=True,\n",
        "                            mode='max')"
      ],
      "execution_count": 0,
      "outputs": []
    },
    {
      "metadata": {
        "id": "Nlo5_lo_QwA_",
        "colab_type": "code",
        "colab": {
          "base_uri": "https://localhost:8080/",
          "height": 955
        },
        "outputId": "0d2e1e11-a6a0-48a5-fd1f-f3ddf31908fe"
      },
      "cell_type": "code",
      "source": [
        "# Train\n",
        "model.fit(x_train, y_train,\n",
        "                batch_size=batch_size,\n",
        "                epochs=epochs,\n",
        "                verbose=1,\n",
        "                validation_data=(x_test, y_test),\n",
        "                callbacks=[checkpoint])\n",
        "\n",
        "# Eval\n",
        "score = model.evaluate(x_test, y_test, verbose=0)\n",
        "print('Test loss:', score[0])\n",
        "print('Test accuracy:', score[1])"
      ],
      "execution_count": 16,
      "outputs": [
        {
          "output_type": "stream",
          "text": [
            "Train on 60000 samples, validate on 10000 samples\n",
            "Epoch 1/12\n",
            "60000/60000 [==============================] - 162s 3ms/step - loss: 0.0167 - acc: 0.9944 - val_loss: 0.0289 - val_acc: 0.9922\n",
            "\n",
            "Epoch 00001: val_acc improved from -inf to 0.99220, saving model to ./mnist-cnn-best.hdf5\n",
            "Epoch 2/12\n",
            "10624/60000 [====>.........................] - ETA: 2:10 - loss: 0.0097 - acc: 0.9965"
          ],
          "name": "stdout"
        },
        {
          "output_type": "stream",
          "text": [
            "60000/60000 [==============================] - 164s 3ms/step - loss: 0.0136 - acc: 0.9955 - val_loss: 0.0297 - val_acc: 0.9926\n",
            "\n",
            "Epoch 00002: val_acc improved from 0.99220 to 0.99260, saving model to ./mnist-cnn-best.hdf5\n",
            "Epoch 3/12\n",
            "27008/60000 [============>.................] - ETA: 1:26 - loss: 0.0120 - acc: 0.9954"
          ],
          "name": "stdout"
        },
        {
          "output_type": "stream",
          "text": [
            "60000/60000 [==============================] - 163s 3ms/step - loss: 0.0130 - acc: 0.9955 - val_loss: 0.0339 - val_acc: 0.9918\n",
            "\n",
            "Epoch 00003: val_acc did not improve from 0.99260\n",
            "Epoch 4/12\n",
            "36352/60000 [=================>............] - ETA: 1:01 - loss: 0.0143 - acc: 0.9952"
          ],
          "name": "stdout"
        },
        {
          "output_type": "stream",
          "text": [
            "60000/60000 [==============================] - 162s 3ms/step - loss: 0.0148 - acc: 0.9950 - val_loss: 0.0275 - val_acc: 0.9929\n",
            "\n",
            "Epoch 00004: val_acc improved from 0.99260 to 0.99290, saving model to ./mnist-cnn-best.hdf5\n",
            "Epoch 5/12\n",
            "33920/60000 [===============>..............] - ETA: 1:08 - loss: 0.0102 - acc: 0.9967"
          ],
          "name": "stdout"
        },
        {
          "output_type": "stream",
          "text": [
            "60000/60000 [==============================] - 162s 3ms/step - loss: 0.0109 - acc: 0.9964 - val_loss: 0.0337 - val_acc: 0.9923\n",
            "\n",
            "Epoch 00005: val_acc did not improve from 0.99290\n",
            "Epoch 6/12\n",
            "38528/60000 [==================>...........] - ETA: 55s - loss: 0.0126 - acc: 0.9956"
          ],
          "name": "stdout"
        },
        {
          "output_type": "stream",
          "text": [
            "60000/60000 [==============================] - 162s 3ms/step - loss: 0.0130 - acc: 0.9955 - val_loss: 0.0309 - val_acc: 0.9930\n",
            "\n",
            "Epoch 00006: val_acc improved from 0.99290 to 0.99300, saving model to ./mnist-cnn-best.hdf5\n",
            "Epoch 7/12\n",
            "34432/60000 [================>.............] - ETA: 1:05 - loss: 0.0094 - acc: 0.9967"
          ],
          "name": "stdout"
        },
        {
          "output_type": "stream",
          "text": [
            "60000/60000 [==============================] - 161s 3ms/step - loss: 0.0114 - acc: 0.9963 - val_loss: 0.0339 - val_acc: 0.9924\n",
            "\n",
            "Epoch 00007: val_acc did not improve from 0.99300\n",
            "Epoch 8/12\n",
            "38656/60000 [==================>...........] - ETA: 55s - loss: 0.0120 - acc: 0.9959"
          ],
          "name": "stdout"
        },
        {
          "output_type": "stream",
          "text": [
            "60000/60000 [==============================] - 161s 3ms/step - loss: 0.0121 - acc: 0.9959 - val_loss: 0.0310 - val_acc: 0.9934\n",
            "\n",
            "Epoch 00008: val_acc improved from 0.99300 to 0.99340, saving model to ./mnist-cnn-best.hdf5\n",
            "Epoch 9/12\n",
            "34560/60000 [================>.............] - ETA: 1:05 - loss: 0.0117 - acc: 0.9957"
          ],
          "name": "stdout"
        },
        {
          "output_type": "stream",
          "text": [
            "60000/60000 [==============================] - 161s 3ms/step - loss: 0.0111 - acc: 0.9962 - val_loss: 0.0322 - val_acc: 0.9930\n",
            "\n",
            "Epoch 00009: val_acc did not improve from 0.99340\n",
            "Epoch 10/12\n",
            "38528/60000 [==================>...........] - ETA: 55s - loss: 0.0105 - acc: 0.9962"
          ],
          "name": "stdout"
        },
        {
          "output_type": "stream",
          "text": [
            "60000/60000 [==============================] - 161s 3ms/step - loss: 0.0110 - acc: 0.9962 - val_loss: 0.0333 - val_acc: 0.9933\n",
            "\n",
            "Epoch 00010: val_acc did not improve from 0.99340\n",
            "Epoch 11/12\n",
            "39808/60000 [==================>...........] - ETA: 52s - loss: 0.0101 - acc: 0.9965"
          ],
          "name": "stdout"
        },
        {
          "output_type": "stream",
          "text": [
            "60000/60000 [==============================] - 162s 3ms/step - loss: 0.0097 - acc: 0.9964 - val_loss: 0.0324 - val_acc: 0.9924\n",
            "\n",
            "Epoch 00011: val_acc did not improve from 0.99340\n",
            "Epoch 12/12\n",
            "40192/60000 [===================>..........] - ETA: 51s - loss: 0.0097 - acc: 0.9966"
          ],
          "name": "stdout"
        },
        {
          "output_type": "stream",
          "text": [
            "60000/60000 [==============================] - 163s 3ms/step - loss: 0.0095 - acc: 0.9965 - val_loss: 0.0329 - val_acc: 0.9924\n",
            "\n",
            "Epoch 00012: val_acc did not improve from 0.99340\n",
            "Test loss: 0.03288496296733142\n",
            "Test accuracy: 0.9924\n"
          ],
          "name": "stdout"
        }
      ]
    },
    {
      "metadata": {
        "id": "mNsboF9VU-Yo",
        "colab_type": "code",
        "colab": {
          "base_uri": "https://localhost:8080/",
          "height": 35
        },
        "outputId": "b3ac78e0-7ac7-4c61-ece4-39a9e81535d6"
      },
      "cell_type": "code",
      "source": [
        "!ls"
      ],
      "execution_count": 17,
      "outputs": [
        {
          "output_type": "stream",
          "text": [
            "datalab  mnist-cnn-best.hdf5\r\n"
          ],
          "name": "stdout"
        }
      ]
    },
    {
      "metadata": {
        "id": "MKSo3BYSQ0sf",
        "colab_type": "code",
        "colab": {}
      },
      "cell_type": "code",
      "source": [
        ""
      ],
      "execution_count": 0,
      "outputs": []
    },
    {
      "metadata": {
        "id": "R65389QqQ8cg",
        "colab_type": "code",
        "colab": {}
      },
      "cell_type": "code",
      "source": [
        ""
      ],
      "execution_count": 0,
      "outputs": []
    }
  ]
}