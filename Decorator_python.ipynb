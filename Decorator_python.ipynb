{
  "nbformat": 4,
  "nbformat_minor": 0,
  "metadata": {
    "colab": {
      "name": "Decorator_python.ipynb",
      "version": "0.3.2",
      "provenance": [],
      "include_colab_link": true
    },
    "kernelspec": {
      "name": "python3",
      "display_name": "Python 3"
    }
  },
  "cells": [
    {
      "cell_type": "markdown",
      "metadata": {
        "id": "view-in-github",
        "colab_type": "text"
      },
      "source": [
        "[View in Colaboratory](https://colab.research.google.com/github/sungreong/TIL/blob/master/Decorator_python.ipynb)"
      ]
    },
    {
      "metadata": {
        "id": "GEy_zJpbR1K9",
        "colab_type": "code",
        "colab": {}
      },
      "cell_type": "code",
      "source": [
        "def outer_function() : \n",
        "    print( \"1. this is outer function!\")\n",
        "    def inner_function() :\n",
        "        print( \"2 . this is inner function , inside outer function!\")\n",
        "    print(\"3 . this is outside inner function inside outer function!\")\n",
        "    return inner_function()\n",
        "\n"
      ],
      "execution_count": 0,
      "outputs": []
    },
    {
      "metadata": {
        "id": "gC2aZKFgSCLZ",
        "colab_type": "code",
        "colab": {
          "base_uri": "https://localhost:8080/",
          "height": 71
        },
        "outputId": "536dcce9-8f7a-476b-9b08-500814b7e760"
      },
      "cell_type": "code",
      "source": [
        "func_assign = outer_function()\n"
      ],
      "execution_count": 4,
      "outputs": [
        {
          "output_type": "stream",
          "text": [
            "1. this is outer function!\n",
            "3 . this is outside inner function inside outer function!\n",
            "2 . this is inner function , inside outer function!\n"
          ],
          "name": "stdout"
        }
      ]
    },
    {
      "metadata": {
        "id": "acOvwbN-SpoR",
        "colab_type": "text"
      },
      "cell_type": "markdown",
      "source": [
        "innef_function이 마지막으로 출력이 되는 것을 확인\n",
        "1번 3번 진행 후 2번이 프린트가 된다  \n",
        "\n",
        "Python decorator 는 \n",
        "\n",
        "1 . value 값을 return 하는 것 처럼 다른 함수를 return 해주거나 2\n",
        ". argument 처럼 함수를 받아준다."
      ]
    },
    {
      "metadata": {
        "id": "mpGcRG4cTO4p",
        "colab_type": "code",
        "colab": {
          "base_uri": "https://localhost:8080/",
          "height": 91
        },
        "outputId": "4757b92a-e62b-4223-959e-6fa3e09eaf8b"
      },
      "cell_type": "code",
      "source": [
        "import time\n",
        "\n",
        "def timetest( input_func ) :\n",
        "    \n",
        "    def timed(*args , **kwargs ) :\n",
        "        start_time = time.time()\n",
        "        result = input_func( *args , **kwargs )\n",
        "        end_time = time.time()\n",
        "        \n",
        "        print(\" method name -{0} , args - {1}, Kwargs - {2} , Execution Time -{3}\".format(\n",
        "        input_func.__name__ , \n",
        "        args ,\n",
        "        kwargs ,\n",
        "        end_time - start_time )\n",
        "             )\n",
        "        return result\n",
        "    return timed\n",
        "\n",
        "@timetest\n",
        "def foobar( *args , **kwargs ) :\n",
        "    time.sleep(0.3)\n",
        "    print(\" inside foobar \")\n",
        "    print( args , kwargs )\n",
        " \n",
        "\n",
        "foobar([\"hello , world\",[\"foo\"]], foo=\"1\" , bar= 5  , bar2= \"aa\")"
      ],
      "execution_count": 10,
      "outputs": [
        {
          "output_type": "stream",
          "text": [
            " inside foobar \n",
            "(['hello , world', ['foo']],) {'foo': '1', 'bar': 5, 'bar2': 'aa'}\n",
            " method name -foobar , args - (['hello , world', ['foo']],), Kwargs - {'foo': '1', 'bar': 5, 'bar2': 'aa'} , Execution Time -0.30121350288391113\n"
          ],
          "name": "stdout"
        }
      ]
    },
    {
      "metadata": {
        "id": "bWlNgidMVBNT",
        "colab_type": "text"
      },
      "cell_type": "markdown",
      "source": [
        "@ 를 이용하여 decorator 를 호출하고 데코레이터 함수를 전달한다"
      ]
    },
    {
      "metadata": {
        "id": "9q2gvZ97W5UT",
        "colab_type": "text"
      },
      "cell_type": "markdown",
      "source": [
        "Method Decorator\n",
        "\n",
        "이것을 이용하면 class properties 를 decorating 으로써 overriding 해준다 따른 calling function 찾지 않아도!"
      ]
    },
    {
      "metadata": {
        "id": "STnPsR0mR6s7",
        "colab_type": "code",
        "colab": {
          "base_uri": "https://localhost:8080/",
          "height": 35
        },
        "outputId": "52017507-b16e-41fc-ab53-b42df5aa1aae"
      },
      "cell_type": "code",
      "source": [
        "def method_decorator(method):\n",
        "\n",
        "    def inner(city_instance):\n",
        "        if city_instance.name == \"SFO\":\n",
        "            print(\"Its a cool place to live in.\")\n",
        "        else : \n",
        "            method(city_instance)\n",
        "    return inner\n",
        "\n",
        "\n",
        "class City(object):\n",
        "\n",
        "    def __init__(self, name):\n",
        "        self.name = name\n",
        "\n",
        "    @method_decorator\n",
        "    def print_test(self):\n",
        "        print(\"1\")\n",
        "        print(self.name)\n",
        "\n",
        "p1 = City(\"SFO\")\n",
        "\n",
        "p1.print_test()\n"
      ],
      "execution_count": 24,
      "outputs": [
        {
          "output_type": "stream",
          "text": [
            "Its a cool place to live in.\n"
          ],
          "name": "stdout"
        }
      ]
    },
    {
      "metadata": {
        "id": "SBOOAY_YXm8D",
        "colab_type": "text"
      },
      "cell_type": "markdown",
      "source": [
        "Class Decorators\n",
        "* If you want to create a callable returning another callable, the function decorator approach is easier\n",
        "* If you want the return to be a function, function decorators should be preferred, however if you want the decorator to return a custom object that does something different to what a function does, in that case a class decorator should be used."
      ]
    },
    {
      "metadata": {
        "id": "IhvSqM9nR605",
        "colab_type": "code",
        "colab": {
          "base_uri": "https://localhost:8080/",
          "height": 125
        },
        "outputId": "cac8c739-9d51-4cec-c42c-711d77545f55"
      },
      "cell_type": "code",
      "source": [
        "class decoclass(object) : \n",
        "    \n",
        "    def __init__(self , f ) : \n",
        "        self.f = f \n",
        "   \n",
        "    def __call__(self , *args ,**kwargs ) :\n",
        "        # before f actions\n",
        "        print( \"decorator initialised \")\n",
        "        self.f(*args ,**kwargs ) \n",
        "        print(\"decorator terminated \")\n",
        "        # after f actions\n",
        "        \n",
        "        \n",
        "@decoclass \n",
        "def klass( *args  , **kwargs ) :\n",
        "    print(\"decorator 초기와 끝남 사이에서 동작한다. \" )\n",
        "    s  = 0 \n",
        "    for i in args : \n",
        "        s += i \n",
        "        \n",
        "    for i , j in kwargs.items() :\n",
        "        print( i , j )\n",
        "    print(\"sum is\" , s )\n",
        "\n",
        "klass( 1, 3 , 5 , name=\"item\" , sport =\"ho~\" )"
      ],
      "execution_count": 43,
      "outputs": [
        {
          "output_type": "stream",
          "text": [
            "decorator initialised \n",
            "decorator 초기와 끝남 사이에서 동작한다. \n",
            "name item\n",
            "sport ho~\n",
            "sum is 9\n",
            "decorator terminated \n"
          ],
          "name": "stdout"
        }
      ]
    },
    {
      "metadata": {
        "id": "u6KEEsUzagem",
        "colab_type": "text"
      },
      "cell_type": "markdown",
      "source": [
        "Chaining Decorators\n",
        "* The chaining of decorator is similar to how multiple inheritance can be used to construct classes We can write as many decorator as we want and include them one by one in decoration line with decoration syntax before the definition of function to be decorated."
      ]
    },
    {
      "metadata": {
        "id": "sQ3HOziPR6-g",
        "colab_type": "code",
        "colab": {
          "base_uri": "https://localhost:8080/",
          "height": 35
        },
        "outputId": "931a495c-84e3-4dfd-a546-5764cb7f5c60"
      },
      "cell_type": "code",
      "source": [
        "def makebold(f) :\n",
        "    return lambda : \"<b>\" + f() + \"</b>\"\n",
        "\n",
        "def makeitalic(f) :\n",
        "    return lambda : \"<i>\" + f() + \"</i>\"\n",
        "\n",
        "@makebold\n",
        "@makeitalic\n",
        "def say() :\n",
        "    return \"Hello\"\n",
        "\n",
        "print(say())"
      ],
      "execution_count": 45,
      "outputs": [
        {
          "output_type": "stream",
          "text": [
            "<b><i>Hello</i></b>\n"
          ],
          "name": "stdout"
        }
      ]
    },
    {
      "metadata": {
        "id": "OT3ndifwbN6v",
        "colab_type": "text"
      },
      "cell_type": "markdown",
      "source": [
        "함수순서대로 감싸는 것 출력되는것 확인\n",
        "* One thing should be kept in mind that the order of decorators we set matters. \n",
        "* When you chain decorators, the order in which they are stacked is bottom to top."
      ]
    },
    {
      "metadata": {
        "id": "FVExnrGxbhX1",
        "colab_type": "code",
        "colab": {}
      },
      "cell_type": "code",
      "source": [
        "def decorator(func):\n",
        "    #\"\"\"decorator docstring\"\"\"\n",
        "    def inner_function(*args, **kwargs):\n",
        "    #\"\"\"inner function docstring \"\"\"\n",
        "        print(func.__name__ + \" was called\")\n",
        "        return func(*args, **kwargs)\n",
        "    return inner_function\n",
        "\n",
        "\n",
        "@decorator\n",
        "def foobar(x):\n",
        "    #\"\"\"foobar docstring\"\"\"\n",
        "    return x**2"
      ],
      "execution_count": 0,
      "outputs": []
    },
    {
      "metadata": {
        "id": "OZSShB61bin9",
        "colab_type": "code",
        "colab": {
          "base_uri": "https://localhost:8080/",
          "height": 89
        },
        "outputId": "012086c2-fc8b-4aa6-dd22-053b68c363d8"
      },
      "cell_type": "code",
      "source": [
        "print( foobar.__name__)\n",
        "print( foobar.__doc__)\n",
        "foobar(2)"
      ],
      "execution_count": 63,
      "outputs": [
        {
          "output_type": "stream",
          "text": [
            "inner_function\n",
            "None\n",
            "foobar was called\n"
          ],
          "name": "stdout"
        },
        {
          "output_type": "execute_result",
          "data": {
            "text/plain": [
              "4"
            ]
          },
          "metadata": {
            "tags": []
          },
          "execution_count": 63
        }
      ]
    },
    {
      "metadata": {
        "id": "Vs7FmPP9cW6u",
        "colab_type": "text"
      },
      "cell_type": "markdown",
      "source": [
        "inner_function에 의해서 foobar가 대체되는 것을 확인했다.\n",
        "* 이것은 통과할 때 함수의 정보를 잃는 것이라는 의미다\n",
        "\n",
        "\n",
        "functional.wraps 는 이것을 해결해줄 수 있다.\n",
        "*  It takes the function used in the decorator and adds the functionality of copying over the function name, docstring, arguemnets etc. \n",
        "\n",
        "Lets decorate without losing information:\n"
      ]
    },
    {
      "metadata": {
        "id": "o-zC_msjbjb2",
        "colab_type": "code",
        "colab": {
          "base_uri": "https://localhost:8080/",
          "height": 35
        },
        "outputId": "a6932d0b-f212-408c-dd5e-7ca57ff01e67"
      },
      "cell_type": "code",
      "source": [
        "from functools import wraps\n",
        "\n",
        "def wrapped_decorator( func ) : \n",
        "    # wrapped decorator docstring\n",
        "    @wraps(func)\n",
        "    def inner_function( *args , **kwargs ) :\n",
        "        ## inner function docstring\n",
        "        print( func.__name__ + \" was called \")\n",
        "        return func(*args ,**kwargs)\n",
        "    return inner_function\n",
        "\n",
        "@wrapped_decorator\n",
        "def foobar(x) :\n",
        "    # foobar docstring\n",
        "    return x**2\n",
        "\n"
      ],
      "execution_count": 58,
      "outputs": [
        {
          "output_type": "stream",
          "text": [
            "foobar\n"
          ],
          "name": "stdout"
        }
      ]
    },
    {
      "metadata": {
        "id": "Ah5W6phWbkJO",
        "colab_type": "code",
        "colab": {
          "base_uri": "https://localhost:8080/",
          "height": 89
        },
        "outputId": "e1424d03-5243-44cd-86d6-a2f4c1b57583"
      },
      "cell_type": "code",
      "source": [
        "print(foobar.__name__)\n",
        "print(foobar.__doc__)\n",
        "print(foobar(2))"
      ],
      "execution_count": 61,
      "outputs": [
        {
          "output_type": "stream",
          "text": [
            "foobar\n",
            "None\n",
            "foobar was called \n",
            "4\n"
          ],
          "name": "stdout"
        }
      ]
    },
    {
      "metadata": {
        "id": "fYw8iesphKQp",
        "colab_type": "text"
      },
      "cell_type": "markdown",
      "source": [
        "## wraps 쓰고 안쓰고의 차이\n",
        "\n",
        "* 복수의 데코레이터를 스택해서 사용하면 아래쪽 데코레이터부터 실행되는데, 위의 코드의 경우에는 #1의 my_logger가 먼저 실행되고 #2의 my_timer에게 #3에서 wrapper 함수를 인자로써 리턴하기 때문에 생기는 현상입니다.\n",
        "* #4에서 original_function은 물론 wrapper 함수와 같습니다.\n",
        "\n",
        "* 위와 같은 현상을 방지하기 위해서 만들어진 모듈이 있는데 그것이 functools 모듈의 wraps 데코레이터입니다"
      ]
    },
    {
      "metadata": {
        "id": "PA5-MfOMg04Z",
        "colab_type": "code",
        "colab": {
          "base_uri": "https://localhost:8080/",
          "height": 53
        },
        "outputId": "2b4a0dff-e728-4163-8980-8a74b14b0f92"
      },
      "cell_type": "code",
      "source": [
        "import datetime\n",
        "import time\n",
        "\n",
        "\n",
        "def my_logger(original_function):\n",
        "    import logging\n",
        "    logging.basicConfig(filename='{}.log'.format(original_function.__name__), level=logging.INFO)\n",
        "    \n",
        "    def wrapper(*args, **kwargs):\n",
        "        timestamp = datetime.datetime.now().strftime('%Y-%m-%d %H:%M')\n",
        "        logging.info(\n",
        "            '[{}] 실행결과 args - {}, kwargs - {}'.format(timestamp, args, kwargs))\n",
        "        return original_function(*args, **kwargs)\n",
        "\n",
        "    return wrapper  #3\n",
        "\n",
        "\n",
        "def my_timer(original_function):  #4\n",
        "    import time\n",
        "\n",
        "    def wrapper(*args, **kwargs):\n",
        "        t1 = time.time()\n",
        "        result = original_function(*args, **kwargs)\n",
        "        t2 = time.time() - t1\n",
        "        print('{} 함수가 실행된 총 시간: {} 초'.format(original_function.__name__, t2))\n",
        "        return result\n",
        "\n",
        "    return wrapper\n",
        "\n",
        " \n",
        "@my_timer  #2\n",
        "@my_logger #1\n",
        "def display_info(name, age):\n",
        "    time.sleep(1)\n",
        "    print('display_info({}, {}) 함수가 실행됐습니다.'.format(name, age))\n",
        "\n",
        "display_info('John', 25)"
      ],
      "execution_count": 96,
      "outputs": [
        {
          "output_type": "stream",
          "text": [
            "display_info(John, 25) 함수가 실행됐습니다.\n",
            "wrapper 함수가 실행된 총 시간: 1.002373456954956 초\n"
          ],
          "name": "stdout"
        }
      ]
    },
    {
      "metadata": {
        "id": "wllGgyJwd44_",
        "colab_type": "code",
        "colab": {}
      },
      "cell_type": "code",
      "source": [
        "from functools import wraps\n",
        "import datetime\n",
        "import time\n",
        "\n",
        "\n",
        "def my_logger(original_function):\n",
        "    import logging\n",
        "    logging.basicConfig(filename='{}.log'.format(original_function.__name__), level=logging.INFO)\n",
        "    \n",
        "    @wraps(original_function)  #1\n",
        "    def wrapper(*args, **kwargs):\n",
        "        timestamp = datetime.datetime.now().strftime('%Y-%m-%d %H:%M')\n",
        "        logging.info(\n",
        "            '[{}] 실행결과 args - {}, kwargs - {}'.format(timestamp, args, kwargs))\n",
        "        return original_function(*args, **kwargs)\n",
        "\n",
        "    return wrapper\n",
        "\n",
        "\n",
        "def my_timer(original_function):\n",
        "    import time\n",
        "\n",
        "    @wraps(original_function)  #2\n",
        "    def wrapper(*args, **kwargs):\n",
        "        t1 = time.time()\n",
        "        result = original_function(*args, **kwargs)\n",
        "        t2 = time.time() - t1\n",
        "        print('{} 함수가 실행된 총 시간: {} 초'.format(original_function.__name__, t2))\n",
        "        return result\n",
        "\n",
        "    return wrapper\n",
        "\n",
        "\n",
        "\n"
      ],
      "execution_count": 0,
      "outputs": []
    },
    {
      "metadata": {
        "id": "7Dnzjjjxd4-v",
        "colab_type": "code",
        "colab": {}
      },
      "cell_type": "code",
      "source": [
        "@my_timer\n",
        "@my_logger\n",
        "def display_info(name, age):\n",
        "    time.sleep(1)\n",
        "    print('display_info({}, {}) 함수가 실행됐습니다.'.format(name, age))\n",
        "\n"
      ],
      "execution_count": 0,
      "outputs": []
    },
    {
      "metadata": {
        "id": "fHS2XteSe1Xp",
        "colab_type": "code",
        "colab": {
          "base_uri": "https://localhost:8080/",
          "height": 53
        },
        "outputId": "4f73c893-69f4-42ff-894a-f564aa7bbc72"
      },
      "cell_type": "code",
      "source": [
        "display_info('Jimmy', 30)"
      ],
      "execution_count": 93,
      "outputs": [
        {
          "output_type": "stream",
          "text": [
            "display_info(Jimmy, 30) 함수가 실행됐습니다.\n",
            "display_info 함수가 실행된 총 시간: 1.0015435218811035 초\n"
          ],
          "name": "stdout"
        }
      ]
    },
    {
      "metadata": {
        "id": "AC5R2gIKd5SV",
        "colab_type": "code",
        "colab": {}
      },
      "cell_type": "code",
      "source": [
        ""
      ],
      "execution_count": 0,
      "outputs": []
    }
  ]
}