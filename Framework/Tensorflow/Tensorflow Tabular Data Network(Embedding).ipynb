{
 "cells": [
  {
   "cell_type": "code",
   "execution_count": 156,
   "metadata": {},
   "outputs": [],
   "source": [
    "import pandas as pd\n",
    "import tensorflow as tf\n",
    "from sklearn.model_selection import train_test_split\n",
    "from sklearn.preprocessing import LabelEncoder , power_transform as PowerTransform\n",
    "import numpy as np\n",
    "from tqdm.notebook import trange, tqdm\n",
    "import seaborn as sns\n",
    "import matplotlib.pyplot as plt\n",
    "from sklearn.metrics import auc , roc_auc_score , confusion_matrix\n",
    "from IPython.display import clear_output\n",
    "import logging"
   ]
  },
  {
   "cell_type": "code",
   "execution_count": 157,
   "metadata": {},
   "outputs": [],
   "source": [
    "PATH = \"/home/advice/Python/SR/Data/Rain/weatherAUS.csv\"\n",
    "data = pd.read_csv(PATH)"
   ]
  },
  {
   "cell_type": "code",
   "execution_count": 158,
   "metadata": {},
   "outputs": [
    {
     "data": {
      "text/plain": [
       "(142193, 24)"
      ]
     },
     "execution_count": 158,
     "metadata": {},
     "output_type": "execute_result"
    }
   ],
   "source": [
    "data.shape"
   ]
  },
  {
   "cell_type": "code",
   "execution_count": 159,
   "metadata": {},
   "outputs": [],
   "source": [
    "notuse = [\"RISK_MM\", \"Date\"]\n",
    "d = data[notuse]"
   ]
  },
  {
   "cell_type": "code",
   "execution_count": 160,
   "metadata": {},
   "outputs": [],
   "source": [
    "data = data.drop(notuse , axis = 1)"
   ]
  },
  {
   "cell_type": "code",
   "execution_count": 161,
   "metadata": {},
   "outputs": [
    {
     "data": {
      "text/plain": [
       "(142193, 22)"
      ]
     },
     "execution_count": 161,
     "metadata": {},
     "output_type": "execute_result"
    }
   ],
   "source": [
    "data.shape"
   ]
  },
  {
   "cell_type": "code",
   "execution_count": 162,
   "metadata": {},
   "outputs": [],
   "source": [
    "target = data.pop(\"RainTomorrow\")"
   ]
  },
  {
   "cell_type": "code",
   "execution_count": 163,
   "metadata": {},
   "outputs": [
    {
     "data": {
      "text/plain": [
       "0    No\n",
       "1    No\n",
       "2    No\n",
       "3    No\n",
       "4    No\n",
       "Name: RainTomorrow, dtype: object"
      ]
     },
     "execution_count": 163,
     "metadata": {},
     "output_type": "execute_result"
    }
   ],
   "source": [
    "target.head()"
   ]
  },
  {
   "cell_type": "code",
   "execution_count": 164,
   "metadata": {},
   "outputs": [],
   "source": [
    "objcol = data.select_dtypes(\"object\").columns.tolist()"
   ]
  },
  {
   "cell_type": "code",
   "execution_count": 165,
   "metadata": {},
   "outputs": [],
   "source": [
    "numcol = data.select_dtypes(\"float\").columns.tolist()"
   ]
  },
  {
   "cell_type": "code",
   "execution_count": 166,
   "metadata": {},
   "outputs": [],
   "source": [
    "ModelCol = numcol + objcol\n",
    "total_dim = len(ModelCol)\n",
    "data = data[ModelCol]"
   ]
  },
  {
   "cell_type": "code",
   "execution_count": 167,
   "metadata": {},
   "outputs": [],
   "source": [
    "totalcol = data.columns.tolist()\n",
    "objinfo = [idx for idx , col in enumerate(totalcol) if col in objcol ]"
   ]
  },
  {
   "cell_type": "code",
   "execution_count": 168,
   "metadata": {},
   "outputs": [],
   "source": [
    "target = LabelEncoder().fit_transform(target)"
   ]
  },
  {
   "cell_type": "code",
   "execution_count": 169,
   "metadata": {},
   "outputs": [],
   "source": [
    "train_X , test_X , train_Y , test_Y =\\\n",
    "train_test_split(data, target , test_size = 0.3 , stratify = target )"
   ]
  },
  {
   "cell_type": "code",
   "execution_count": 170,
   "metadata": {},
   "outputs": [
    {
     "data": {
      "text/plain": [
       "((99535, 21), (99535,))"
      ]
     },
     "execution_count": 170,
     "metadata": {},
     "output_type": "execute_result"
    }
   ],
   "source": [
    "train_X.shape , train_Y.shape"
   ]
  },
  {
   "cell_type": "code",
   "execution_count": 171,
   "metadata": {},
   "outputs": [
    {
     "data": {
      "text/plain": [
       "array([0, 0, 0, ..., 0, 0, 0])"
      ]
     },
     "execution_count": 171,
     "metadata": {},
     "output_type": "execute_result"
    }
   ],
   "source": [
    "target"
   ]
  },
  {
   "cell_type": "code",
   "execution_count": 172,
   "metadata": {},
   "outputs": [
    {
     "data": {
      "text/plain": [
       "((42658, 21), (42658,))"
      ]
     },
     "execution_count": 172,
     "metadata": {},
     "output_type": "execute_result"
    }
   ],
   "source": [
    "test_X.shape , test_Y.shape"
   ]
  },
  {
   "cell_type": "code",
   "execution_count": 173,
   "metadata": {},
   "outputs": [
    {
     "data": {
      "text/plain": [
       "(        MinTemp  MaxTemp  Rainfall  Evaporation  Sunshine  WindGustSpeed  \\\n",
       " 11257      13.8     24.7       0.0          NaN       NaN           46.0   \n",
       " 124038      9.2     17.0       0.0          NaN       NaN           22.0   \n",
       " 90105      19.0     22.1       0.0          NaN       NaN           37.0   \n",
       " 85477      14.5     27.2       0.0          4.8      10.6           35.0   \n",
       " 49791       6.7     15.6       7.6          NaN       NaN           54.0   \n",
       " \n",
       "         WindSpeed9am  WindSpeed3pm  Humidity9am  Humidity3pm  ...  \\\n",
       " 11257           19.0          31.0         55.0         53.0  ...   \n",
       " 124038           6.0           4.0         81.0         62.0  ...   \n",
       " 90105           19.0          17.0         89.0         48.0  ...   \n",
       " 85477            0.0          19.0         64.0         58.0  ...   \n",
       " 49791           22.0          15.0         58.0         41.0  ...   \n",
       " \n",
       "         Pressure3pm  Cloud9am  Cloud3pm  Temp9am  Temp3pm      Location  \\\n",
       " 11257        1026.8       NaN       NaN     21.1     22.7  CoffsHarbour   \n",
       " 124038       1021.3       NaN       NaN     11.5     16.2       Walpole   \n",
       " 90105        1013.7       NaN       NaN     19.5     20.5     GoldCoast   \n",
       " 85477        1014.2       2.0       1.0     22.4     26.1        Cairns   \n",
       " 49791        1014.1       NaN       NaN      8.5     13.9   Tuggeranong   \n",
       " \n",
       "        WindGustDir WindDir9am WindDir3pm RainToday  \n",
       " 11257          NNE         NW         NE        No  \n",
       " 124038          NE         NE          E        No  \n",
       " 90105          WNW        WNW        WNW        No  \n",
       " 85477          ENE        NaN         NE        No  \n",
       " 49791          SSE          S          S       Yes  \n",
       " \n",
       " [5 rows x 21 columns], array([0, 0, 0, ..., 0, 0, 0]))"
      ]
     },
     "execution_count": 173,
     "metadata": {},
     "output_type": "execute_result"
    }
   ],
   "source": [
    "train_X.head() , train_Y"
   ]
  },
  {
   "cell_type": "code",
   "execution_count": 174,
   "metadata": {},
   "outputs": [
    {
     "data": {
      "text/plain": [
       "49"
      ]
     },
     "execution_count": 174,
     "metadata": {},
     "output_type": "execute_result"
    }
   ],
   "source": [
    "len(set(train_X[\"Location\"].unique()) & set(test_X[\"Location\"].unique()))"
   ]
  },
  {
   "cell_type": "code",
   "execution_count": 175,
   "metadata": {},
   "outputs": [
    {
     "data": {
      "text/plain": [
       "49"
      ]
     },
     "execution_count": 175,
     "metadata": {},
     "output_type": "execute_result"
    }
   ],
   "source": [
    "len(set(train_X[\"Location\"].unique()) )"
   ]
  },
  {
   "cell_type": "code",
   "execution_count": 176,
   "metadata": {},
   "outputs": [
    {
     "name": "stdout",
     "output_type": "stream",
     "text": [
      "Location\n",
      "WindGustDir\n",
      "WindDir9am\n",
      "WindDir3pm\n",
      "RainToday\n"
     ]
    },
    {
     "name": "stderr",
     "output_type": "stream",
     "text": [
      "/root/anaconda3/lib/python3.6/site-packages/ipykernel_launcher.py:7: SettingWithCopyWarning: \n",
      "A value is trying to be set on a copy of a slice from a DataFrame.\n",
      "Try using .loc[row_indexer,col_indexer] = value instead\n",
      "\n",
      "See the caveats in the documentation: http://pandas.pydata.org/pandas-docs/stable/user_guide/indexing.html#returning-a-view-versus-a-copy\n",
      "  import sys\n",
      "/root/anaconda3/lib/python3.6/site-packages/ipykernel_launcher.py:8: SettingWithCopyWarning: \n",
      "A value is trying to be set on a copy of a slice from a DataFrame.\n",
      "Try using .loc[row_indexer,col_indexer] = value instead\n",
      "\n",
      "See the caveats in the documentation: http://pandas.pydata.org/pandas-docs/stable/user_guide/indexing.html#returning-a-view-versus-a-copy\n",
      "  \n"
     ]
    }
   ],
   "source": [
    "LabelEncoding = {}\n",
    "for col in objcol :\n",
    "    print(col)\n",
    "    encoding = LabelEncoder()\n",
    "    category = list(set(list(train_X[col].unique()) + [np.nan]))\n",
    "    encoding.fit(category)\n",
    "    train_X[col] = train_X[col].fillna('nan')\n",
    "    train_X[col] = encoding.transform(train_X[col])\n",
    "    LabelEncoding[col] = encoding"
   ]
  },
  {
   "cell_type": "markdown",
   "metadata": {},
   "source": [
    "## 변형셋 모으기 "
   ]
  },
  {
   "cell_type": "code",
   "execution_count": 177,
   "metadata": {},
   "outputs": [
    {
     "name": "stdout",
     "output_type": "stream",
     "text": [
      "0.023242950439453125초\n"
     ]
    }
   ],
   "source": [
    "from time import time\n",
    "start = time()\n",
    "change = {}\n",
    "for col in objcol :\n",
    "    change[col] = {}\n",
    "    LABLEncoder = LabelEncoding[col]\n",
    "    unknownlabel = set(test_X[col].unique()).difference(set(LABLEncoder.classes_))\n",
    "    c = dict(zip(unknownlabel , [np.nan] * len(unknownlabel)))\n",
    "    c[np.nan] = 'nan'\n",
    "    change[col] = c\n",
    "    \n",
    "print(\"{}초\".format(time()- start))"
   ]
  },
  {
   "cell_type": "code",
   "execution_count": 178,
   "metadata": {},
   "outputs": [
    {
     "name": "stdout",
     "output_type": "stream",
     "text": [
      "Location\n",
      "WindGustDir\n",
      "WindDir9am\n",
      "WindDir3pm\n",
      "RainToday\n"
     ]
    },
    {
     "name": "stderr",
     "output_type": "stream",
     "text": [
      "/root/anaconda3/lib/python3.6/site-packages/ipykernel_launcher.py:7: SettingWithCopyWarning: \n",
      "A value is trying to be set on a copy of a slice from a DataFrame.\n",
      "Try using .loc[row_indexer,col_indexer] = value instead\n",
      "\n",
      "See the caveats in the documentation: http://pandas.pydata.org/pandas-docs/stable/user_guide/indexing.html#returning-a-view-versus-a-copy\n",
      "  import sys\n",
      "/root/anaconda3/lib/python3.6/site-packages/ipykernel_launcher.py:8: SettingWithCopyWarning: \n",
      "A value is trying to be set on a copy of a slice from a DataFrame.\n",
      "Try using .loc[row_indexer,col_indexer] = value instead\n",
      "\n",
      "See the caveats in the documentation: http://pandas.pydata.org/pandas-docs/stable/user_guide/indexing.html#returning-a-view-versus-a-copy\n",
      "  \n"
     ]
    }
   ],
   "source": [
    "for col in objcol :\n",
    "    print(col)\n",
    "    LABLEncoder = LabelEncoding[col]\n",
    "    unknownlabel = set(test_X[col].unique()).difference(set(LABLEncoder.classes_))\n",
    "    c = dict(zip(unknownlabel , [np.nan] * len(unknownlabel)))\n",
    "    c[np.nan] = 'nan'\n",
    "    test_X[col] = test_X[col].replace(c)   \n",
    "    test_X[col] = LABLEncoder.transform(test_X[col])"
   ]
  },
  {
   "cell_type": "code",
   "execution_count": 179,
   "metadata": {},
   "outputs": [],
   "source": [
    "train_X = train_X.astype(np.float32)\n",
    "test_X = test_X.astype(np.float32)\n",
    "from sklearn.impute import SimpleImputer\n",
    "from sklearn.preprocessing import RobustScaler , StandardScaler\n",
    "imp_mean = SimpleImputer(missing_values=np.nan, strategy='mean')\n",
    "imp_mean.fit(train_X[numcol])\n",
    "train_X[numcol] = imp_mean.transform(train_X[numcol])\n",
    "test_X[numcol] = imp_mean.transform(test_X[numcol])"
   ]
  },
  {
   "cell_type": "code",
   "execution_count": 180,
   "metadata": {},
   "outputs": [
    {
     "name": "stdout",
     "output_type": "stream",
     "text": [
      "WindGustSpeed\n",
      "Pressure9am\n"
     ]
    },
    {
     "name": "stderr",
     "output_type": "stream",
     "text": [
      "/root/anaconda3/lib/python3.6/site-packages/numpy/core/_methods.py:195: RuntimeWarning: overflow encountered in multiply\n",
      "  x = um.multiply(x, x, out=x)\n",
      "/root/anaconda3/lib/python3.6/site-packages/numpy/core/_methods.py:195: RuntimeWarning: overflow encountered in multiply\n",
      "  x = um.multiply(x, x, out=x)\n",
      "/root/anaconda3/lib/python3.6/site-packages/numpy/core/_methods.py:195: RuntimeWarning: overflow encountered in multiply\n",
      "  x = um.multiply(x, x, out=x)\n"
     ]
    },
    {
     "name": "stdout",
     "output_type": "stream",
     "text": [
      "Pressure3pm\n"
     ]
    },
    {
     "name": "stderr",
     "output_type": "stream",
     "text": [
      "/root/anaconda3/lib/python3.6/site-packages/numpy/core/_methods.py:195: RuntimeWarning: overflow encountered in multiply\n",
      "  x = um.multiply(x, x, out=x)\n"
     ]
    }
   ],
   "source": [
    "for col in numcol :\n",
    "    ck = np.sum(train_X[col] <= 0)\n",
    "    if ck == 0 :\n",
    "        print(col)\n",
    "        train_X[col] = PowerTransform(train_X[col].values.reshape(-1,1),\n",
    "                                      method = \"box-cox\")\n",
    "        test_X[col] = PowerTransform(test_X[col].values.reshape(-1,1),\n",
    "                                     method = \"box-cox\")"
   ]
  },
  {
   "cell_type": "code",
   "execution_count": 181,
   "metadata": {},
   "outputs": [],
   "source": [
    "robust = RobustScaler(quantile_range=(10.0, 90.0))\n",
    "robust = StandardScaler()\n",
    "robust.fit(train_X[numcol])\n",
    "train_X[numcol] = robust.transform(train_X[numcol])\n",
    "test_X[numcol] = robust.transform(test_X[numcol])"
   ]
  },
  {
   "cell_type": "code",
   "execution_count": 182,
   "metadata": {},
   "outputs": [
    {
     "data": {
      "text/plain": [
       "{16: 49, 17: 17, 18: 17, 19: 17, 20: 3}"
      ]
     },
     "execution_count": 182,
     "metadata": {},
     "output_type": "execute_result"
    }
   ],
   "source": [
    "objdict = {}\n",
    "for i in objinfo :\n",
    "    objdict[i] = train_X.iloc[:, i].nunique()\n",
    "objdict"
   ]
  },
  {
   "cell_type": "code",
   "execution_count": 183,
   "metadata": {},
   "outputs": [
    {
     "data": {
      "text/plain": [
       "(<tf.Tensor 'Placeholder:0' shape=(?, 21) dtype=float32>,\n",
       " <tf.Tensor 'Placeholder_1:0' shape=(?,) dtype=float32>)"
      ]
     },
     "execution_count": 183,
     "metadata": {},
     "output_type": "execute_result"
    }
   ],
   "source": [
    "tf.reset_default_graph()\n",
    "batch_size = tf.placeholder(tf.int64, name=\"Batchsize\")\n",
    "X =  tf.placeholder(tf.float32 , shape = [None , total_dim])\n",
    "y = tf.placeholder(tf.float32 , [None])\n",
    "dropoutRate = tf.placeholder(tf.float32, name =\"dropoutRate\")\n",
    "InputdropoutRate = tf.placeholder(tf.float32, name =\"InputdropoutRate\")\n",
    "#y = tf.string_to_number(y)\n",
    "X , y "
   ]
  },
  {
   "cell_type": "code",
   "execution_count": 184,
   "metadata": {},
   "outputs": [
    {
     "data": {
      "text/plain": [
       "3"
      ]
     },
     "execution_count": 184,
     "metadata": {},
     "output_type": "execute_result"
    }
   ],
   "source": [
    "idx = objinfo[4]\n",
    "split = tf.slice(X , [0 , idx ] ,\n",
    "                 [batch_size , 1 ] )\n",
    "split = tf.reshape(split , shape=(-1,))\n",
    "split = tf.to_int32(split)\n",
    "_len_ = objdict[idx]\n",
    "_len_"
   ]
  },
  {
   "cell_type": "code",
   "execution_count": 185,
   "metadata": {},
   "outputs": [],
   "source": [
    "def emb(split =None, _len_=None , n = None , ratio = None) :\n",
    "    split = tf.reshape(split , shape=(-1,))\n",
    "    split = tf.to_int32(split)\n",
    "    if _len_ < n :\n",
    "        first =  _len_\n",
    "        to = _len_\n",
    "        Cat = tf.one_hot(split ,depth=_len_)\n",
    "    else :\n",
    "        first =  _len_\n",
    "        to = int(_len_/2)\n",
    "        # 2/_len_\n",
    "        embeddings = tf.Variable(tf.truncated_normal([first , to], \n",
    "                                                     stddev =  0.1 ) ,\n",
    "                                 dtype = tf.float32)  \n",
    "        Cat = tf.nn.embedding_lookup(embeddings, split)\n",
    "        Cat = tf.nn.dropout(Cat , ratio)\n",
    "    print(\"Onehot Shape : [{}] --> Embedding Shape : [{}] \".format(first , to))\n",
    "    return Cat\n",
    "\n",
    "def EmbeddingLayer(X , objdict, batch_size , inputratio ) :\n",
    "    inputs = []\n",
    "    for idx , (key, values )in enumerate(objdict.items()) :\n",
    "        if idx == 0 :\n",
    "            ## 1번째\n",
    "            split = tf.slice(X , [0 , idx ] ,[batch_size , key] ) # \n",
    "            split = tf.nn.dropout(split , inputratio)\n",
    "            inputs.append(split)\n",
    "            category = tf.slice(X , [0 , key ] ,[batch_size , 1 ] )\n",
    "            _len_ = values\n",
    "            Cat = emb(category , _len_ , 4 , inputratio)\n",
    "            inputs.append(Cat)\n",
    "        else :\n",
    "            split = tf.slice(X , [0 , key ] ,[batch_size , 1 ] )\n",
    "            _len_ = values\n",
    "            Cat = emb(split , _len_ , 4 , inputratio)\n",
    "            inputs.append(Cat)\n",
    "    concatenated_layer = tf.concat(inputs, axis=1, name='concatenate')\n",
    "    return concatenated_layer"
   ]
  },
  {
   "cell_type": "code",
   "execution_count": 186,
   "metadata": {},
   "outputs": [],
   "source": [
    "def tf_feature(X , objcol , objdict , batch_size , InputdropoutRate) :\n",
    "    if objcol == [] :\n",
    "        featureX = tf.nn.dropout(X , InputdropoutRate)\n",
    "    else :\n",
    "        featureX = EmbeddingLayer(X , objdict, batch_size , InputdropoutRate)\n",
    "    return featureX"
   ]
  },
  {
   "cell_type": "code",
   "execution_count": 187,
   "metadata": {},
   "outputs": [
    {
     "name": "stdout",
     "output_type": "stream",
     "text": [
      "Onehot Shape : [49] --> Embedding Shape : [24] \n",
      "Onehot Shape : [17] --> Embedding Shape : [8] \n",
      "Onehot Shape : [17] --> Embedding Shape : [8] \n",
      "Onehot Shape : [17] --> Embedding Shape : [8] \n",
      "Onehot Shape : [3] --> Embedding Shape : [3] \n"
     ]
    }
   ],
   "source": [
    "XX = tf_feature(X , objcol , objdict , batch_size , InputdropoutRate)"
   ]
  },
  {
   "cell_type": "code",
   "execution_count": 188,
   "metadata": {},
   "outputs": [
    {
     "data": {
      "text/plain": [
       "2"
      ]
     },
     "execution_count": 188,
     "metadata": {},
     "output_type": "execute_result"
    }
   ],
   "source": [
    "target_dim = len(np.unique(target))\n",
    "target_dim"
   ]
  },
  {
   "cell_type": "code",
   "execution_count": 189,
   "metadata": {},
   "outputs": [],
   "source": [
    "def tf_mish(x) :\n",
    "    return x * tf.nn.tanh(tf.nn.softplus(x))\n",
    "from tensorflow.contrib.layers import *\n",
    "def get_weight_variable(shape, name=None,\n",
    "                        type='xavier_uniform', regularize=True, **kwargs):\n",
    "    initialise_from_constant = False\n",
    "    if type == 'xavier_uniform':\n",
    "        initial = xavier_initializer(uniform=True, dtype=tf.float32)\n",
    "    elif type == 'xavier_normal':\n",
    "        initial = xavier_initializer(uniform=False, dtype=tf.float32)\n",
    "    elif type == 'he_normal':\n",
    "        initial = variance_scaling_initializer(uniform=False, factor=2.0, mode='FAN_IN', dtype=tf.float32)\n",
    "    elif type == 'he_uniform':\n",
    "        initial = variance_scaling_initializer(uniform=True, factor=2.0, mode='FAN_IN', dtype=tf.float32)\n",
    "    elif type == 'caffe_uniform':\n",
    "        initial = variance_scaling_initializer(uniform=True, factor=1.0, mode='FAN_IN', dtype=tf.float32)\n",
    "    elif type == 'simple':\n",
    "        stddev = kwargs.get('stddev', 0.02)\n",
    "        initial = tf.truncated_normal(shape, stddev=stddev, dtype=tf.float32)\n",
    "        initialise_from_constant = True\n",
    "    elif type == 'bilinear':\n",
    "        weights = _bilinear_upsample_weights(shape)\n",
    "        initial = tf.constant(weights, shape=shape, dtype=tf.float32)\n",
    "        initialise_from_constant = True\n",
    "    else:\n",
    "        raise ValueError('Unknown initialisation requested: %s' % type)\n",
    "\n",
    "    if name is None:  # This keeps to option open to use unnamed Variables\n",
    "        weight = tf.Variable(initial)\n",
    "    else:\n",
    "        if initialise_from_constant:\n",
    "            weight = tf.get_variable(name, initializer=initial)\n",
    "        else:\n",
    "            weight = tf.get_variable(name, shape=shape, initializer=initial)\n",
    "    if regularize:\n",
    "        tf.add_to_collection('weight_variables', weight)\n",
    "    return weight \n",
    "\n",
    "def Network(X , dims , dropoutRate) :\n",
    "    with tf.variable_scope(\"Network\"):\n",
    "        for idx , h_dim in enumerate(dims) :\n",
    "            init = tf.keras.initializers.lecun_normal(seed = 1234 + idx)\n",
    "            if idx == 0 :    \n",
    "                TOTAL_DIM = XX.get_shape().as_list()[1]\n",
    "                Weight =get_weight_variable(shape = [TOTAL_DIM , h_dim], name=\"W\"+str(idx),\n",
    "                                    type='xavier_normal', regularize=True)\n",
    "#                 Weight = tf.get_variable(\"W\" + str(idx) , dtype = tf.float32 , \n",
    "#                                          shape = [TOTAL_DIM , h_dim] , initializer = init)\n",
    "                Bias = tf.get_variable(\"Bias\" + str(idx) ,\n",
    "                                           shape = [h_dim] , dtype = tf.float32 , \n",
    "                                           initializer = tf.constant_initializer(0.0))\n",
    "                Layer = tf.nn.selu(tf.matmul( X , Weight) + Bias)\n",
    "                Layer = tf.contrib.nn.alpha_dropout(Layer , dropoutRate ) \n",
    "            else :\n",
    "#                 Weight = tf.get_variable(\"W\" + str(idx) , dtype = tf.float32 , \n",
    "#                                          shape = [dims[idx-1] ,h_dim ] , initializer = init)\n",
    "                Weight =get_weight_variable(shape = [dims[idx-1] ,h_dim ], \n",
    "                                            name=\"W\"+str(idx),\n",
    "                                            type='xavier_normal', regularize=True)\n",
    "                Bias = tf.get_variable(\"Bias\" + str(idx) ,\n",
    "                                           shape = [h_dim] , dtype = tf.float32 , \n",
    "                                           initializer = tf.constant_initializer(0.0))\n",
    "                Layer = tf.matmul( Layer , Weight) + Bias\n",
    "                if len(dims) == idx+1 :pass\n",
    "                else : \n",
    "                    Layer = tf.nn.selu(Layer)\n",
    "                    Layer = tf.contrib.nn.alpha_dropout(Layer , dropoutRate ) \n",
    "    return Layer\n"
   ]
  },
  {
   "cell_type": "code",
   "execution_count": 190,
   "metadata": {},
   "outputs": [],
   "source": [
    "Logit = Network(XX , dims = [55 , 40 , 35 , 10 , target_dim] , dropoutRate=dropoutRate)\n",
    "Probs = tf.nn.softmax(Logit)"
   ]
  },
  {
   "cell_type": "markdown",
   "metadata": {},
   "source": [
    "## Label Smoothing"
   ]
  },
  {
   "cell_type": "code",
   "execution_count": 191,
   "metadata": {},
   "outputs": [],
   "source": [
    "alpha = 0.95\n",
    "y_one_hot = tf.add(alpha* tf.one_hot( tf.cast(y , tf.int32) , depth=target_dim) ,\n",
    "                   (1-alpha) / target_dim)"
   ]
  },
  {
   "cell_type": "code",
   "execution_count": 192,
   "metadata": {},
   "outputs": [
    {
     "name": "stdout",
     "output_type": "stream",
     "text": [
      "Device mapping:\n",
      "/job:localhost/replica:0/task:0/device:XLA_CPU:0 -> device: XLA_CPU device\n",
      "/job:localhost/replica:0/task:0/device:XLA_GPU:0 -> device: XLA_GPU device\n",
      "/job:localhost/replica:0/task:0/device:XLA_GPU:1 -> device: XLA_GPU device\n",
      "/job:localhost/replica:0/task:0/device:GPU:0 -> device: 0, name: TITAN X (Pascal), pci bus id: 0000:03:00.0, compute capability: 6.1\n",
      "/job:localhost/replica:0/task:0/device:GPU:1 -> device: 1, name: TITAN X (Pascal), pci bus id: 0000:04:00.0, compute capability: 6.1\n",
      "\n"
     ]
    },
    {
     "data": {
      "text/html": [
       "<div>\n",
       "<style scoped>\n",
       "    .dataframe tbody tr th:only-of-type {\n",
       "        vertical-align: middle;\n",
       "    }\n",
       "\n",
       "    .dataframe tbody tr th {\n",
       "        vertical-align: top;\n",
       "    }\n",
       "\n",
       "    .dataframe thead th {\n",
       "        text-align: right;\n",
       "    }\n",
       "</style>\n",
       "<table border=\"1\" class=\"dataframe\">\n",
       "  <thead>\n",
       "    <tr style=\"text-align: right;\">\n",
       "      <th></th>\n",
       "      <th>0</th>\n",
       "      <th>1</th>\n",
       "      <th>2</th>\n",
       "      <th>3</th>\n",
       "      <th>4</th>\n",
       "      <th>5</th>\n",
       "      <th>6</th>\n",
       "      <th>7</th>\n",
       "      <th>8</th>\n",
       "      <th>9</th>\n",
       "      <th>...</th>\n",
       "      <th>57</th>\n",
       "      <th>58</th>\n",
       "      <th>59</th>\n",
       "      <th>60</th>\n",
       "      <th>61</th>\n",
       "      <th>62</th>\n",
       "      <th>63</th>\n",
       "      <th>64</th>\n",
       "      <th>65</th>\n",
       "      <th>66</th>\n",
       "    </tr>\n",
       "  </thead>\n",
       "  <tbody>\n",
       "    <tr>\n",
       "      <td>0</td>\n",
       "      <td>0.279576</td>\n",
       "      <td>0.232992</td>\n",
       "      <td>-0.308601</td>\n",
       "      <td>-2.160952e-08</td>\n",
       "      <td>5.004391e-08</td>\n",
       "      <td>0.616969</td>\n",
       "      <td>0.62296</td>\n",
       "      <td>1.57158</td>\n",
       "      <td>-0.813044</td>\n",
       "      <td>0.0</td>\n",
       "      <td>...</td>\n",
       "      <td>-0.004253</td>\n",
       "      <td>0.067238</td>\n",
       "      <td>0.035231</td>\n",
       "      <td>0.127263</td>\n",
       "      <td>-0.085512</td>\n",
       "      <td>-0.194128</td>\n",
       "      <td>0.179249</td>\n",
       "      <td>1.0</td>\n",
       "      <td>0.0</td>\n",
       "      <td>0.0</td>\n",
       "    </tr>\n",
       "  </tbody>\n",
       "</table>\n",
       "<p>1 rows × 67 columns</p>\n",
       "</div>"
      ],
      "text/plain": [
       "         0         1         2             3             4         5   \\\n",
       "0  0.279576  0.232992 -0.308601 -2.160952e-08  5.004391e-08  0.616969   \n",
       "\n",
       "        6        7         8    9   ...        57        58        59  \\\n",
       "0  0.62296  1.57158 -0.813044  0.0  ... -0.004253  0.067238  0.035231   \n",
       "\n",
       "         60        61        62        63   64   65   66  \n",
       "0  0.127263 -0.085512 -0.194128  0.179249  1.0  0.0  0.0  \n",
       "\n",
       "[1 rows x 67 columns]"
      ]
     },
     "execution_count": 192,
     "metadata": {},
     "output_type": "execute_result"
    }
   ],
   "source": [
    "config=tf.ConfigProto(log_device_placement=True)\n",
    "config.gpu_options.allow_growth = True\n",
    "sess = tf.Session(config = config)\n",
    "sess.run(tf.global_variables_initializer())\n",
    "pd.DataFrame(sess.run(XX , feed_dict ={ X : train_X.values ,\n",
    "                                       batch_size : 1 , \n",
    "                                       InputdropoutRate : 0.9\n",
    "                                      }))"
   ]
  },
  {
   "cell_type": "code",
   "execution_count": 193,
   "metadata": {},
   "outputs": [
    {
     "data": {
      "text/html": [
       "<div>\n",
       "<style scoped>\n",
       "    .dataframe tbody tr th:only-of-type {\n",
       "        vertical-align: middle;\n",
       "    }\n",
       "\n",
       "    .dataframe tbody tr th {\n",
       "        vertical-align: top;\n",
       "    }\n",
       "\n",
       "    .dataframe thead th {\n",
       "        text-align: right;\n",
       "    }\n",
       "</style>\n",
       "<table border=\"1\" class=\"dataframe\">\n",
       "  <thead>\n",
       "    <tr style=\"text-align: right;\">\n",
       "      <th></th>\n",
       "      <th>0</th>\n",
       "      <th>1</th>\n",
       "    </tr>\n",
       "  </thead>\n",
       "  <tbody>\n",
       "    <tr>\n",
       "      <td>0</td>\n",
       "      <td>0.033937</td>\n",
       "      <td>-1.614929</td>\n",
       "    </tr>\n",
       "  </tbody>\n",
       "</table>\n",
       "</div>"
      ],
      "text/plain": [
       "          0         1\n",
       "0  0.033937 -1.614929"
      ]
     },
     "execution_count": 193,
     "metadata": {},
     "output_type": "execute_result"
    }
   ],
   "source": [
    "pd.DataFrame(sess.run(Logit , feed_dict ={ X : train_X.values ,\n",
    "                                          batch_size : 1,\n",
    "                                          InputdropoutRate : 0.8 ,\n",
    "                                          dropoutRate : 0.8\n",
    "                                         }))"
   ]
  },
  {
   "cell_type": "code",
   "execution_count": 194,
   "metadata": {},
   "outputs": [
    {
     "data": {
      "text/html": [
       "<div>\n",
       "<style scoped>\n",
       "    .dataframe tbody tr th:only-of-type {\n",
       "        vertical-align: middle;\n",
       "    }\n",
       "\n",
       "    .dataframe tbody tr th {\n",
       "        vertical-align: top;\n",
       "    }\n",
       "\n",
       "    .dataframe thead th {\n",
       "        text-align: right;\n",
       "    }\n",
       "</style>\n",
       "<table border=\"1\" class=\"dataframe\">\n",
       "  <thead>\n",
       "    <tr style=\"text-align: right;\">\n",
       "      <th></th>\n",
       "      <th>0</th>\n",
       "      <th>1</th>\n",
       "    </tr>\n",
       "  </thead>\n",
       "  <tbody>\n",
       "    <tr>\n",
       "      <td>0</td>\n",
       "      <td>0.975</td>\n",
       "      <td>0.025</td>\n",
       "    </tr>\n",
       "  </tbody>\n",
       "</table>\n",
       "</div>"
      ],
      "text/plain": [
       "       0      1\n",
       "0  0.975  0.025"
      ]
     },
     "execution_count": 194,
     "metadata": {},
     "output_type": "execute_result"
    }
   ],
   "source": [
    "pd.DataFrame(sess.run(y_one_hot , feed_dict ={ y : train_Y , batch_size : 1})).head(1)"
   ]
  },
  {
   "cell_type": "code",
   "execution_count": 195,
   "metadata": {},
   "outputs": [],
   "source": [
    "from sklearn.utils.class_weight import compute_class_weight\n",
    "y_weight_info = compute_class_weight(class_weight= \"balanced\" , \n",
    "                     classes = np.unique(train_Y),\n",
    "                     y= np.squeeze(train_Y))\n",
    "weight = tf.constant([ y_weight_info[1] ] ) #\n",
    "WCE = tf.nn.weighted_cross_entropy_with_logits(targets = y_one_hot ,\n",
    "                                               logits = Logit , \n",
    "                                               pos_weight =  weight)"
   ]
  },
  {
   "cell_type": "code",
   "execution_count": 196,
   "metadata": {},
   "outputs": [],
   "source": [
    "Loss = tf.reduce_mean(WCE)"
   ]
  },
  {
   "cell_type": "code",
   "execution_count": 197,
   "metadata": {},
   "outputs": [],
   "source": [
    "vars = tf.get_collection(tf.GraphKeys.GLOBAL_VARIABLES,scope=\"Network\")"
   ]
  },
  {
   "cell_type": "code",
   "execution_count": 198,
   "metadata": {},
   "outputs": [],
   "source": [
    "WEIGHTS = tf.get_collection(\"weight_variables\")\n",
    "import re \n",
    "L2 = []\n",
    "for v in WEIGHTS :\n",
    "    L2.append(tf.nn.l2_loss(v))\n",
    "Loss += tf.add_n(L2)  * 0.0001\n",
    "# l1_regularizer = tf.contrib.layers.l1_regularizer(scale=0.005, scope=None)\n",
    "# regularization_penalty = tf.contrib.layers.apply_regularization(l1_regularizer, WEIGHTS )\n",
    "# Loss += regularization_penalty\n"
   ]
  },
  {
   "cell_type": "code",
   "execution_count": 199,
   "metadata": {},
   "outputs": [],
   "source": [
    "solver = tf.train.AdamOptimizer(learning_rate= 2e-5).minimize(Loss ,var_list = vars )"
   ]
  },
  {
   "cell_type": "code",
   "execution_count": 200,
   "metadata": {},
   "outputs": [],
   "source": [
    "target_0_list = []\n",
    "target_1_list = []\n",
    "_=[target_1_list.append(idx) if i == 1 else target_0_list.append(idx) for idx , i in enumerate(list(train_Y))]"
   ]
  },
  {
   "cell_type": "code",
   "execution_count": 201,
   "metadata": {},
   "outputs": [
    {
     "data": {
      "text/plain": [
       "array([3, 4, 5, 1, 4, 2, 3])"
      ]
     },
     "execution_count": 201,
     "metadata": {},
     "output_type": "execute_result"
    }
   ],
   "source": [
    "np.random.permutation([1,2,3,4,5,4,3])"
   ]
  },
  {
   "cell_type": "code",
   "execution_count": null,
   "metadata": {
    "scrolled": false
   },
   "outputs": [
    {
     "name": "stderr",
     "output_type": "stream",
     "text": [
      "I0105 15:38:47.194380 140713105065728 <ipython-input-202-3ee84b636d33>:67] Epoch : 1700 argmax\n",
      "I0105 15:38:47.195420 140713105065728 <ipython-input-202-3ee84b636d33>:68] [[26053  7042]\n",
      " [ 2547  7016]]\n"
     ]
    },
    {
     "data": {
      "image/png": "[encoded data removed]",
      "text/plain": [
       "<Figure size 432x288 with 1 Axes>"
      ]
     },
     "metadata": {
      "needs_background": "light"
     },
     "output_type": "display_data"
    },
    {
     "data": {
      "image/png": "[encoded data removed]",
      "text/plain": [
       "<Figure size 432x288 with 1 Axes>"
      ]
     },
     "metadata": {
      "needs_background": "light"
     },
     "output_type": "display_data"
    },
    {
     "data": {
      "image/png": "[encoded data removed]",
      "text/plain": [
       "<Figure size 432x288 with 1 Axes>"
      ]
     },
     "metadata": {
      "needs_background": "light"
     },
     "output_type": "display_data"
    },
    {
     "data": {
      "image/png": "[encoded data removed]",
      "text/plain": [
       "<Figure size 432x288 with 1 Axes>"
      ]
     },
     "metadata": {
      "needs_background": "light"
     },
     "output_type": "display_data"
    },
    {
     "name": "stderr",
     "output_type": "stream",
     "text": [
      "I0105 15:38:48.210268 140713105065728 <ipython-input-202-3ee84b636d33>:89] Epoch : 1700 change\n",
      "I0105 15:38:48.211511 140713105065728 <ipython-input-202-3ee84b636d33>:90] [[25037  8058]\n",
      " [ 2188  7375]]\n",
      "I0105 15:39:00.888108 140713105065728 <ipython-input-202-3ee84b636d33>:53] Epoch : 1710  Boosting List : 10174\n",
      "I0105 15:39:14.516105 140713105065728 <ipython-input-202-3ee84b636d33>:53] Epoch : 1720  Boosting List : 5925\n",
      "I0105 15:39:27.184625 140713105065728 <ipython-input-202-3ee84b636d33>:53] Epoch : 1730  Boosting List : 10227\n",
      "I0105 15:39:42.335347 140713105065728 <ipython-input-202-3ee84b636d33>:53] Epoch : 1740  Boosting List : 5952\n",
      "I0105 15:39:54.818200 140713105065728 <ipython-input-202-3ee84b636d33>:53] Epoch : 1750  Boosting List : 10107\n"
     ]
    }
   ],
   "source": [
    "_Loss_ = []\n",
    "Epoch= 50000\n",
    "mb_size = 500\n",
    "import scikitplot as skplt\n",
    "print(\"Train\")\n",
    "log = logging.getLogger('TF_log')\n",
    "log.setLevel(logging.DEBUG)\n",
    "fileHandler = logging.FileHandler('./tf_log.txt' , mode= \"w\")\n",
    "log.addHandler(fileHandler)\n",
    "\n",
    "config=tf.ConfigProto(log_device_placement=True)\n",
    "config.gpu_options.allow_growth = True\n",
    "sess = tf.Session(config = config)\n",
    "sess.run(tf.global_variables_initializer())\n",
    "for epoch in trange(Epoch , desc = \"Loop\" ) :\n",
    "    idx = list(np.random.permutation(len(train_X)))\n",
    "    if (epoch > 0 ) & (epoch > 10) :\n",
    "        idx = idx + BoostingList\n",
    "        idx = list(np.random.permutation(idx))\n",
    "        mb_size = 1000\n",
    "    else : \n",
    "        mb_size = 500\n",
    "    XX = train_X.iloc[idx, : ].values\n",
    "    YY = train_Y[idx]\n",
    "    batch_iter = int(len(XX) / mb_size)\n",
    "    _Loss2_ = []\n",
    "    for idx in range(batch_iter) :\n",
    "        X_mb = XX[idx*mb_size:(idx+1)*mb_size]\n",
    "        Y_mb = YY[idx*mb_size:(idx+1)*mb_size]\n",
    "        Feed = {X : X_mb ,\n",
    "                y : Y_mb , \n",
    "                batch_size : mb_size , \n",
    "                InputdropoutRate : 0.8 ,\n",
    "                dropoutRate : 0.8\n",
    "               }\n",
    "        _ , LOSS  = sess.run([solver , Loss] , feed_dict= Feed)\n",
    "        _Loss2_.append(LOSS)\n",
    "    _Loss_.append(np.mean(_Loss2_))\n",
    "    if (epoch > 0 ) & (epoch % 10 == 0) :\n",
    "        Feed = { X : train_X.values ,\n",
    "                batch_size : len(train_X.values) ,\n",
    "                InputdropoutRate : 0.8 ,\n",
    "                dropoutRate : 0.8\n",
    "               }\n",
    "        probs  = sess.run(Probs , feed_dict= Feed)\n",
    "        trainDD = pd.DataFrame([train_Y ,probs[:,1]],\n",
    "                          index = [\"t\",\"prob\"]).T\n",
    "        ### Target 1 Boosting List\n",
    "        DD2 = trainDD[(trainDD.t == 1) & (trainDD.prob <0.5)]\n",
    "        BoostingList = 3 * DD2.index.tolist()\n",
    "        msg = \"Epoch : {}  Boosting List : {}\".\\\n",
    "              format(epoch,len(DD2.index.tolist()))\n",
    "        log.info(msg)\n",
    "    if (epoch > 0)  & (epoch % 100 == 0) :\n",
    "        Feed = { X : test_X.values ,\n",
    "                batch_size : len(test_X.values) ,\n",
    "                InputdropoutRate : 0.8 ,\n",
    "                dropoutRate : 0.8\n",
    "               }\n",
    "        probs  = sess.run(Probs , feed_dict= Feed)\n",
    "        AUC = roc_auc_score(test_Y ,  probs[:,1])\n",
    "        DD = pd.DataFrame([test_Y ,probs[:,1]],\n",
    "                          index = [\"t\",\"prob\"]).T\n",
    "        \n",
    "        clear_output()\n",
    "        msg = confusion_matrix(test_Y , np.argmax(probs,axis =1) )\n",
    "        log.info(\"Epoch : {} argmax\".format(str(epoch)))\n",
    "        log.info(msg)\n",
    "        msg = \"Epoch : {} , Loss :{:.5f}, AUC : {:.2f}\".format(epoch ,LOSS ,AUC*100)\n",
    "        sns.boxplot(x=\"t\", y=\"prob\", data=trainDD)\n",
    "        plt.title(\"Train Boxplot\")\n",
    "        plt.savefig(\"./NN_Train_Boxplot.png\")\n",
    "        plt.show()\n",
    "        sns.boxplot(x=\"t\", y=\"prob\", data=DD)\n",
    "        plt.title(\"Test Boxplot\")\n",
    "        plt.savefig(\"./NN_Test_Boxplot.png\")\n",
    "        plt.show()\n",
    "        plt.plot(np.arange(len(_Loss_)), _Loss_ )\n",
    "        plt.title(msg)\n",
    "        plt.savefig(\"./NN_LOSS_Plot.png\")\n",
    "        plt.show()        \n",
    "        pp = skplt.metrics.plot_ks_statistic(test_Y, probs)\n",
    "        plt.savefig(\"./NN_KS_Plot.png\")\n",
    "        plt.show()\n",
    "        b , c = pp.get_legend_handles_labels()\n",
    "        threshold = float(c[2].split(\"at \")[1])\n",
    "        aaa = np.where( probs[:,1] < threshold , 0 , 1 )\n",
    "        msg = confusion_matrix(test_Y , aaa )\n",
    "        log.info(\"Epoch : {} change\".format(str(epoch)))\n",
    "        log.info(msg)"
   ]
  },
  {
   "cell_type": "code",
   "execution_count": null,
   "metadata": {},
   "outputs": [],
   "source": [
    "import os , re\n",
    "import smtplib\n",
    "from email.mime.text import MIMEText\n",
    "from email.mime.image import MIMEImage\n",
    "from email.mime.multipart import MIMEMultipart\n",
    "login = '#########@gmail.com'\n",
    "password = '############'\n",
    "sender_email = login\n",
    "receiver_email = login\n",
    "msg = MIMEMultipart('SendMail')\n",
    "msg['Subject'] = \"Train Complete\"\n",
    "msg['From'] = sender_email\n",
    "msg['To'] = receiver_email\n",
    "text = \"학습 완료! 체크!\"\n",
    "part2 = MIMEText(text)\n",
    "msg.attach(part2)\n",
    "static = os.getcwd()\n",
    "img_path = [os.path.join(static, i) for i in os.listdir(static) if re.search(\"NN_\" , i ) ]\n",
    "for ImgFileName in img_path :\n",
    "    img_data = open(ImgFileName, 'rb').read()\n",
    "    image = MIMEImage(img_data, name=os.path.basename(ImgFileName))\n",
    "    msg.attach(image)    \n",
    "filename = \"text.txt\"\n",
    "import codecs\n",
    "filename = os.path.join(static ,\"tf_log.txt\" )\n",
    "f = codecs.open(filename, 'rb', 'utf-8')\n",
    "attachment = MIMEText(f.read())\n",
    "attachment.add_header('Content-Disposition', 'attachment', filename=\"tf_log.txt\")           \n",
    "msg.attach(attachment)\n",
    "with smtplib.SMTP_SSL(\"smtp.gmail.com\") as server:\n",
    "    server.login(login, password)\n",
    "    server.sendmail(sender_email,\n",
    "                    receiver_email,\n",
    "                    msg.as_string())\n",
    "print('Sent') "
   ]
  }
 ],
 "metadata": {
  "kernelspec": {
   "display_name": "base",
   "language": "python",
   "name": "base"
  },
  "language_info": {
   "codemirror_mode": {
    "name": "ipython",
    "version": 3
   },
   "file_extension": ".py",
   "mimetype": "text/x-python",
   "name": "python",
   "nbconvert_exporter": "python",
   "pygments_lexer": "ipython3",
   "version": "3.6.7"
  }
 },
 "nbformat": 4,
 "nbformat_minor": 2
}
