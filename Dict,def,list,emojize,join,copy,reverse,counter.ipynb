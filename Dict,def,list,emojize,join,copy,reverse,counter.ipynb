{
  "nbformat": 4,
  "nbformat_minor": 0,
  "metadata": {
    "colab": {
      "name": "Dict,def,list,emojize,join,copy,reverse,counter.ipynb",
      "version": "0.3.2",
      "provenance": [],
      "collapsed_sections": [],
      "include_colab_link": true
    },
    "kernelspec": {
      "name": "python3",
      "display_name": "Python 3"
    }
  },
  "cells": [
    {
      "cell_type": "markdown",
      "metadata": {
        "id": "view-in-github",
        "colab_type": "text"
      },
      "source": [
        "<a href=\"https://colab.research.google.com/github/sungreong/TIL/blob/master/Dict,def,list,emojize,join,copy,reverse,counter.ipynb\" target=\"_parent\"><img src=\"https://colab.research.google.com/assets/colab-badge.svg\" alt=\"Open In Colab\"/></a>"
      ]
    },
    {
      "metadata": {
        "id": "HsJzS6UqaKSH",
        "colab_type": "text"
      },
      "cell_type": "markdown",
      "source": [
        "# def 안에 임의의 def 넣기"
      ]
    },
    {
      "metadata": {
        "id": "AXjc6DHVZBT4",
        "colab_type": "code",
        "colab": {
          "base_uri": "https://localhost:8080/",
          "height": 194
        },
        "outputId": "e270542c-85d7-4ccd-9714-e2c1bdb32136"
      },
      "cell_type": "code",
      "source": [
        "b = 6\n",
        "print(4< b < 7)\n",
        "print(1 == b <20 )\n",
        "\n",
        "def product(a, b) :\n",
        "    return a * b \n",
        "def square_sum(a,b) :\n",
        "    return a**2 + b**2\n",
        "\n",
        "def add(a,b , f = None ) :\n",
        "    c = 5\n",
        "    return f(a+b, c )\n",
        "print(add( 1, 2, product))\n",
        "print(add( 1, 2, square_sum))\n",
        "\n",
        "\"\"\"\n",
        "함수로만 이루이지고 값은 밖에다가 넣는 방식으로\n",
        "\"\"\"\n",
        "\n",
        "b= True\n",
        "print((product if b else add)(5,7))\n",
        "\n",
        "\n",
        "for i in [0.2, 0.5] :\n",
        "    for j in [0.2, 0.3] :\n",
        "        print((product if b else add)(i,j))\n",
        "        \n",
        "[(product if b else add)(i,j) for i in [0.2, 0.5] for j in [0.2, 0.3]]        "
      ],
      "execution_count": 85,
      "outputs": [
        {
          "output_type": "stream",
          "text": [
            "True\n",
            "False\n",
            "15\n",
            "34\n",
            "35\n",
            "0.04000000000000001\n",
            "0.06\n",
            "0.1\n",
            "0.15\n"
          ],
          "name": "stdout"
        },
        {
          "output_type": "execute_result",
          "data": {
            "text/plain": [
              "[0.04000000000000001, 0.06, 0.1, 0.15]"
            ]
          },
          "metadata": {
            "tags": []
          },
          "execution_count": 85
        }
      ]
    },
    {
      "metadata": {
        "id": "jnKJpyiiRIgp",
        "colab_type": "text"
      },
      "cell_type": "markdown",
      "source": [
        "# Dict 정리!!"
      ]
    },
    {
      "metadata": {
        "id": "j5wf7ZwhRGYM",
        "colab_type": "code",
        "colab": {
          "base_uri": "https://localhost:8080/",
          "height": 105
        },
        "outputId": "7292e0bd-4a42-4c73-9f12-82b24d46781e"
      },
      "cell_type": "code",
      "source": [
        "\n",
        "d = {\"a\" : 1, \"b\" : 2}\n",
        "## 없으면 새로 생성\n",
        "print(d.get(\"c\" , 3 )) \n",
        "## 해당하는 값 부리기\n",
        "print(d.get(\"a\")) \n",
        "print(d)\n",
        "print(d.items())\n",
        "print(*d.items())"
      ],
      "execution_count": 3,
      "outputs": [
        {
          "output_type": "stream",
          "text": [
            "3\n",
            "1\n",
            "{'a': 1, 'b': 2}\n",
            "dict_items([('a', 1), ('b', 2)])\n",
            "('a', 1) ('b', 2)\n"
          ],
          "name": "stdout"
        }
      ]
    },
    {
      "metadata": {
        "id": "HlTa-RdeS6Iw",
        "colab_type": "text"
      },
      "cell_type": "markdown",
      "source": [
        "## DICT 정렬\n",
        "## Tuple to Dict\n",
        "## list to Dict"
      ]
    },
    {
      "metadata": {
        "id": "CsucKqxSRTVx",
        "colab_type": "code",
        "colab": {
          "base_uri": "https://localhost:8080/",
          "height": 123
        },
        "outputId": "d5318676-022b-4036-b222-26ce18aace04"
      },
      "cell_type": "code",
      "source": [
        "\n",
        "d= {\"apple\" : 10 ,\"orange\" : 20 , \"banana\" : 5 , \"tomato\" : 10}\n",
        "\n",
        "print(d.items())\n",
        "\n",
        "## 숫자순 \n",
        "print(sorted(d.items() , key = lambda x : x[1]))\n",
        "## 문자순\n",
        "print(sorted(d.items() , key = lambda x : x[0]))\n",
        "\n",
        "\"\"\"\n",
        "Tuple to Dict\n",
        "\"\"\"\n",
        "t = sorted(d.items() , key = lambda x : x[0])\n",
        "print(\"sorted\" , t)\n",
        "print(dict((x, y) for x, y in t))\n",
        "\n",
        "\"\"\"\n",
        "List to Dict\n",
        "https://www.quora.com/How-do-I-convert-list-of-key-value-values-to-dictionary-in-Python\n",
        "\"\"\"\n",
        "import itertools\n",
        "List = ['abc=def', 'ghi=jkl', 'mno=1', 'pqr=']\n",
        "dict(map(str, x.split('=')) for x in List) \n",
        "\n",
        "a = [[1,\"aa\",3],[2,\"bb\",4],[4,\"cc\",6]]\n",
        "b={x[1]:x[2] for x in a}\n",
        "print(b)"
      ],
      "execution_count": 40,
      "outputs": [
        {
          "output_type": "stream",
          "text": [
            "dict_items([('apple', 10), ('orange', 20), ('banana', 5), ('tomato', 10)])\n",
            "[('banana', 5), ('apple', 10), ('tomato', 10), ('orange', 20)]\n",
            "[('apple', 10), ('banana', 5), ('orange', 20), ('tomato', 10)]\n",
            "sorted [('apple', 10), ('banana', 5), ('orange', 20), ('tomato', 10)]\n",
            "{'apple': 10, 'banana': 5, 'orange': 20, 'tomato': 10}\n",
            "{'aa': 3, 'bb': 4, 'cc': 6}\n"
          ],
          "name": "stdout"
        }
      ]
    },
    {
      "metadata": {
        "id": "TcXQ_u3fU56g",
        "colab_type": "text"
      },
      "cell_type": "markdown",
      "source": [
        "## Dict  Update / Intersection "
      ]
    },
    {
      "metadata": {
        "id": "DlGnSGuERgp4",
        "colab_type": "code",
        "colab": {
          "base_uri": "https://localhost:8080/",
          "height": 87
        },
        "outputId": "70ff4228-f708-4b49-ecba-784924e0b17f"
      },
      "cell_type": "code",
      "source": [
        "\n",
        "d1 = {\"a\" : 1 , \"b\" : 2 }\n",
        "d2 = {\"b\" : 2, \"c\" : 10  }\n",
        "\"\"\"\n",
        "** 해주고 { }로 감싸주기\n",
        "\"\"\"\n",
        "print({**d1 , **d2})\n",
        "## 두개의 dict 에서 합집합 \n",
        "print( dict(d1.items()  | d2.items()))\n",
        "## 두개의 dict 에서 교집합\n",
        "print( dict(d1.items()  & d2.items()))\n",
        "\n",
        "## 가장 간단한거는 계속 update 해주는 방법인 듯\n",
        "d1.update(d2)\n",
        "print(d1)\n"
      ],
      "execution_count": 7,
      "outputs": [
        {
          "output_type": "stream",
          "text": [
            "{'a': 1, 'b': 2, 'c': 10}\n",
            "{'c': 10, 'b': 2, 'a': 1}\n",
            "{'b': 2}\n",
            "{'a': 1, 'b': 2, 'c': 10}\n"
          ],
          "name": "stdout"
        }
      ]
    },
    {
      "metadata": {
        "id": "4zheS2sPU_vC",
        "colab_type": "text"
      },
      "cell_type": "markdown",
      "source": [
        "## orderdict -> dict\n",
        "##  two list ->  dict\n",
        "## seperate keys , values "
      ]
    },
    {
      "metadata": {
        "id": "yTK13ADcRneA",
        "colab_type": "code",
        "colab": {
          "base_uri": "https://localhost:8080/",
          "height": 70
        },
        "outputId": "55d422ce-728c-4880-94be-64bebdbb1aea"
      },
      "cell_type": "code",
      "source": [
        "from collections import OrderedDict, Counter\n",
        "\n",
        "\"\"\"\n",
        "OrderDict 을 사용해서 간단하게 dict type 으로 변경하기 \n",
        "\"\"\"\n",
        "x = OrderedDict( a= 1 , c = 2, b= 3)\n",
        "print(x  , type(x))\n",
        "print(dict(x) , type(dict(x)))\n",
        "\n",
        "\n",
        "\"\"\"\n",
        "하지만 dict 과 zip을 이용해서 하는 것이 훨씬 간편해보임 \n",
        "\"\"\"\n",
        "keys = ['a', 'b', 'c', \"e\"]\n",
        "vals = [1, 2, 3 , 4]\n",
        "zipped = dict(zip(keys, vals))\n",
        "\n",
        "\"\"\"\n",
        "dict 에서 key 와 value 나눠서 뽑기 \n",
        "\"\"\"\n",
        "keys , values = zip(*zipped.items())\n",
        "\"\"\"\n",
        "그냥 뽑으면 tuple / list 걸면 list 형식으로 \n",
        "\"\"\"\n",
        "print(list(keys) ,values )\n"
      ],
      "execution_count": 32,
      "outputs": [
        {
          "output_type": "stream",
          "text": [
            "OrderedDict([('a', 1), ('c', 2), ('b', 3)]) <class 'collections.OrderedDict'>\n",
            "{'a': 1, 'c': 2, 'b': 3} <class 'dict'>\n",
            "['a', 'b', 'c', 'e'] (1, 2, 3, 4)\n"
          ],
          "name": "stdout"
        }
      ]
    },
    {
      "metadata": {
        "id": "JsVEG4XJR7AS",
        "colab_type": "code",
        "colab": {
          "base_uri": "https://localhost:8080/",
          "height": 34
        },
        "outputId": "0b0552c4-b757-40c4-ce27-b5099c13bc2e"
      },
      "cell_type": "code",
      "source": [
        "# Counts the frequency of each character\n",
        "y = Counter(\"Hello World!  \")\n",
        "print(y)"
      ],
      "execution_count": 33,
      "outputs": [
        {
          "output_type": "stream",
          "text": [
            "Counter({'l': 3, ' ': 3, 'o': 2, 'H': 1, 'e': 1, 'W': 1, 'r': 1, 'd': 1, '!': 1})\n"
          ],
          "name": "stdout"
        }
      ]
    },
    {
      "metadata": {
        "id": "Ylm7VSogVaWh",
        "colab_type": "text"
      },
      "cell_type": "markdown",
      "source": [
        "# List\n",
        "\n",
        "tuple 각각 elements 별로 뽑아주기 "
      ]
    },
    {
      "metadata": {
        "id": "7VkbtyeEVN0o",
        "colab_type": "code",
        "colab": {
          "base_uri": "https://localhost:8080/",
          "height": 123
        },
        "outputId": "aa258709-8764-48d0-93bb-11022871b661"
      },
      "cell_type": "code",
      "source": [
        "l = [(1,2), (3,4), (8,9)]\n",
        "## tuple 로 묶을 때\n",
        "print(list(zip(*l)))\n",
        "## list로 묶을 때 \n",
        "a = [list(t) for t in zip(*l)]\n",
        "print(a)\n",
        "\n",
        "l = [[1,2], [3,4] , [8,9]]\n",
        "## tuple 로 묶을 때\n",
        "print(list(zip(*l)))\n",
        "## list로 묶을 때 \n",
        "a = [list(t) for t in zip(*l)]\n",
        "print(a)\n",
        "\"\"\"\n",
        "뽑은 것을 다시 Dict 형태로 만들어주기\n",
        "\"\"\"\n",
        "print( dict( zip(a[0] , a[1]) )  )\n",
        "\"\"\"\n",
        "아니면\n",
        "\"\"\"\n",
        "print(dict((x, y) for x, y in l ))"
      ],
      "execution_count": 42,
      "outputs": [
        {
          "output_type": "stream",
          "text": [
            "[(1, 3, 8), (2, 4, 9)]\n",
            "[[1, 3, 8], [2, 4, 9]]\n",
            "[(1, 3, 8), (2, 4, 9)]\n",
            "[[1, 3, 8], [2, 4, 9]]\n",
            "{1: 2, 3: 4, 8: 9}\n",
            "{1: 2, 3: 4, 8: 9}\n"
          ],
          "name": "stdout"
        }
      ]
    },
    {
      "metadata": {
        "id": "PHl-WqvhWMqQ",
        "colab_type": "text"
      },
      "cell_type": "markdown",
      "source": [
        "## map로 만든것은 list로 뽑아주기\n"
      ]
    },
    {
      "metadata": {
        "id": "73IjklyiVXEQ",
        "colab_type": "code",
        "colab": {
          "base_uri": "https://localhost:8080/",
          "height": 52
        },
        "outputId": "c9d1c7f4-4449-42ca-cb80-aec159079eb9"
      },
      "cell_type": "code",
      "source": [
        "x = [1,2,3]\n",
        "y = map( lambda x : x+1 , x )\n",
        "## map 도 list로 호출해줘야한다.\n",
        "print(y)\n",
        "print(list(y))\n",
        "\n"
      ],
      "execution_count": 43,
      "outputs": [
        {
          "output_type": "stream",
          "text": [
            "<map object at 0x7fe40b792320>\n",
            "[2, 3, 4]\n"
          ],
          "name": "stdout"
        }
      ]
    },
    {
      "metadata": {
        "id": "T4JhlMq3WTLf",
        "colab_type": "text"
      },
      "cell_type": "markdown",
      "source": [
        "## 짝수 홀수 나누기 \n",
        "* not in 을 사용해 그 해당하는 부분 외에 것을 뽑게 하는 아이디어가 좋은듯 "
      ]
    },
    {
      "metadata": {
        "id": "Qlzn6o98WNW4",
        "colab_type": "code",
        "colab": {}
      },
      "cell_type": "code",
      "source": [
        "numbers = [1,2,3,4,5,6,7]\n",
        "evens = [x for x in numbers if x % 2 is 0 ]\n",
        "odds = [y for y in numbers if y not in evens]\n",
        "print(evens , odds)\n"
      ],
      "execution_count": 0,
      "outputs": []
    },
    {
      "metadata": {
        "id": "HaEo_sr4Way4",
        "colab_type": "text"
      },
      "cell_type": "markdown",
      "source": [
        "## emojize\n",
        "\n",
        "https://www.webpagefx.com/tools/emoji-cheat-sheet/\n",
        "이미지를 넣을 수 있다.\n"
      ]
    },
    {
      "metadata": {
        "id": "WIuZyIRVWbd3",
        "colab_type": "code",
        "colab": {
          "base_uri": "https://localhost:8080/",
          "height": 143
        },
        "outputId": "d3c3cd38-a9d5-4b4f-df40-25c0a8cd556c"
      },
      "cell_type": "code",
      "source": [
        "#!pip install emoji\n",
        "from emoji import emojize\n",
        "print(emojize(\":thumbs_up:\"))\n",
        "thumb = emojize(\":thumbs_up:\", use_aliases=True)\n",
        "cake = emojize(\":dog:\", use_aliases=True)\n",
        "print(cake , \"type 은 \" , type(cake))\n",
        "\"\"\"\n",
        "안에 넣을 수도 있다.\n",
        "\"\"\"\n",
        "table = [thumb , cake]\n",
        "import pandas as pd\n",
        "pd.DataFrame(table)"
      ],
      "execution_count": 52,
      "outputs": [
        {
          "output_type": "stream",
          "text": [
            "👍\n",
            "🐶 type 은  <class 'str'>\n"
          ],
          "name": "stdout"
        },
        {
          "output_type": "execute_result",
          "data": {
            "text/html": [
              "<div>\n",
              "<style scoped>\n",
              "    .dataframe tbody tr th:only-of-type {\n",
              "        vertical-align: middle;\n",
              "    }\n",
              "\n",
              "    .dataframe tbody tr th {\n",
              "        vertical-align: top;\n",
              "    }\n",
              "\n",
              "    .dataframe thead th {\n",
              "        text-align: right;\n",
              "    }\n",
              "</style>\n",
              "<table border=\"1\" class=\"dataframe\">\n",
              "  <thead>\n",
              "    <tr style=\"text-align: right;\">\n",
              "      <th></th>\n",
              "      <th>0</th>\n",
              "    </tr>\n",
              "  </thead>\n",
              "  <tbody>\n",
              "    <tr>\n",
              "      <th>0</th>\n",
              "      <td>👍</td>\n",
              "    </tr>\n",
              "    <tr>\n",
              "      <th>1</th>\n",
              "      <td>🐶</td>\n",
              "    </tr>\n",
              "  </tbody>\n",
              "</table>\n",
              "</div>"
            ],
            "text/plain": [
              "   0\n",
              "0  👍\n",
              "1  🐶"
            ]
          },
          "metadata": {
            "tags": []
          },
          "execution_count": 52
        }
      ]
    },
    {
      "metadata": {
        "id": "Ztlmx8sbXMHo",
        "colab_type": "text"
      },
      "cell_type": "markdown",
      "source": [
        "\n",
        "* local 변수에 \"x\" 라는 객체가 있는지 여부 확인\n",
        "* 안에 내장되어 있는 것들을 볼 수 있다! \n",
        "* Ever wondered how you can look inside a Python object and see what attributes it has? Of course you have.\n"
      ]
    },
    {
      "metadata": {
        "id": "PyP3TU1uWb7A",
        "colab_type": "code",
        "colab": {
          "base_uri": "https://localhost:8080/",
          "height": 107
        },
        "outputId": "289320df-6b63-40b4-862e-67961b4389ae"
      },
      "cell_type": "code",
      "source": [
        "\"\"\"\n",
        "\n",
        "\"\"\"\n",
        "import numpy as np\n",
        "\n",
        "print(\"x\" in locals())\n",
        "\n",
        "print(dir())\n",
        "print(dir(\"Hello World\"))\n",
        "print(dir(np))\n",
        "\n"
      ],
      "execution_count": 56,
      "outputs": [
        {
          "output_type": "stream",
          "text": [
            "True\n",
            "['Counter', 'Dict', 'In', 'List', 'OrderedDict', 'Out', '_', '_14', '_29', '_36', '_37', '_46', '_47', '_48', '_49', '_50', '_51', '_52', '__', '___', '__builtin__', '__builtins__', '__doc__', '__loader__', '__name__', '__package__', '__spec__', '_dh', '_exit_code', '_i', '_i1', '_i10', '_i11', '_i12', '_i13', '_i14', '_i15', '_i16', '_i17', '_i18', '_i19', '_i2', '_i20', '_i21', '_i22', '_i23', '_i24', '_i25', '_i26', '_i27', '_i28', '_i29', '_i3', '_i30', '_i31', '_i32', '_i33', '_i34', '_i35', '_i36', '_i37', '_i38', '_i39', '_i4', '_i40', '_i41', '_i42', '_i43', '_i44', '_i45', '_i46', '_i47', '_i48', '_i49', '_i5', '_i50', '_i51', '_i52', '_i53', '_i54', '_i55', '_i56', '_i6', '_i7', '_i8', '_i9', '_ih', '_ii', '_iii', '_oh', '_sh', 'a', 'b', 'cake', 'd', 'd1', 'd2', 'emojize', 'exit', 'get_ipython', 'i', 'itertools', 'keys', 'l', 'np', 'pd', 'quit', 't', 'table', 'thumb', 'vals', 'values', 'x', 'y', 'zip_longest', 'zipped']\n",
            "['__add__', '__class__', '__contains__', '__delattr__', '__dir__', '__doc__', '__eq__', '__format__', '__ge__', '__getattribute__', '__getitem__', '__getnewargs__', '__gt__', '__hash__', '__init__', '__init_subclass__', '__iter__', '__le__', '__len__', '__lt__', '__mod__', '__mul__', '__ne__', '__new__', '__reduce__', '__reduce_ex__', '__repr__', '__rmod__', '__rmul__', '__setattr__', '__sizeof__', '__str__', '__subclasshook__', 'capitalize', 'casefold', 'center', 'count', 'encode', 'endswith', 'expandtabs', 'find', 'format', 'format_map', 'index', 'isalnum', 'isalpha', 'isdecimal', 'isdigit', 'isidentifier', 'islower', 'isnumeric', 'isprintable', 'isspace', 'istitle', 'isupper', 'join', 'ljust', 'lower', 'lstrip', 'maketrans', 'partition', 'replace', 'rfind', 'rindex', 'rjust', 'rpartition', 'rsplit', 'rstrip', 'split', 'splitlines', 'startswith', 'strip', 'swapcase', 'title', 'translate', 'upper', 'zfill']\n",
            "['ALLOW_THREADS', 'AxisError', 'BUFSIZE', 'CLIP', 'ComplexWarning', 'DataSource', 'ERR_CALL', 'ERR_DEFAULT', 'ERR_IGNORE', 'ERR_LOG', 'ERR_PRINT', 'ERR_RAISE', 'ERR_WARN', 'FLOATING_POINT_SUPPORT', 'FPE_DIVIDEBYZERO', 'FPE_INVALID', 'FPE_OVERFLOW', 'FPE_UNDERFLOW', 'False_', 'Inf', 'Infinity', 'MAXDIMS', 'MAY_SHARE_BOUNDS', 'MAY_SHARE_EXACT', 'MachAr', 'ModuleDeprecationWarning', 'NAN', 'NINF', 'NZERO', 'NaN', 'PINF', 'PZERO', 'PackageLoader', 'RAISE', 'RankWarning', 'SHIFT_DIVIDEBYZERO', 'SHIFT_INVALID', 'SHIFT_OVERFLOW', 'SHIFT_UNDERFLOW', 'ScalarType', 'Tester', 'TooHardError', 'True_', 'UFUNC_BUFSIZE_DEFAULT', 'UFUNC_PYVALS_NAME', 'VisibleDeprecationWarning', 'WRAP', '_NoValue', '__NUMPY_SETUP__', '__all__', '__builtins__', '__cached__', '__config__', '__doc__', '__file__', '__git_revision__', '__loader__', '__name__', '__package__', '__path__', '__spec__', '__version__', '_distributor_init', '_globals', '_import_tools', '_mat', '_numpy_tester', 'abs', 'absolute', 'absolute_import', 'add', 'add_docstring', 'add_newdoc', 'add_newdoc_ufunc', 'add_newdocs', 'alen', 'all', 'allclose', 'alltrue', 'amax', 'amin', 'angle', 'any', 'append', 'apply_along_axis', 'apply_over_axes', 'arange', 'arccos', 'arccosh', 'arcsin', 'arcsinh', 'arctan', 'arctan2', 'arctanh', 'argmax', 'argmin', 'argpartition', 'argsort', 'argwhere', 'around', 'array', 'array2string', 'array_equal', 'array_equiv', 'array_repr', 'array_split', 'array_str', 'asanyarray', 'asarray', 'asarray_chkfinite', 'ascontiguousarray', 'asfarray', 'asfortranarray', 'asmatrix', 'asscalar', 'atleast_1d', 'atleast_2d', 'atleast_3d', 'average', 'bartlett', 'base_repr', 'bench', 'binary_repr', 'bincount', 'bitwise_and', 'bitwise_not', 'bitwise_or', 'bitwise_xor', 'blackman', 'block', 'bmat', 'bool', 'bool8', 'bool_', 'broadcast', 'broadcast_arrays', 'broadcast_to', 'busday_count', 'busday_offset', 'busdaycalendar', 'byte', 'byte_bounds', 'bytes0', 'bytes_', 'c_', 'can_cast', 'cast', 'cbrt', 'cdouble', 'ceil', 'cfloat', 'char', 'character', 'chararray', 'choose', 'clip', 'clongdouble', 'clongfloat', 'column_stack', 'common_type', 'compare_chararrays', 'compat', 'complex', 'complex128', 'complex256', 'complex64', 'complex_', 'complexfloating', 'compress', 'concatenate', 'conj', 'conjugate', 'convolve', 'copy', 'copysign', 'copyto', 'core', 'corrcoef', 'correlate', 'cos', 'cosh', 'count_nonzero', 'cov', 'cross', 'csingle', 'ctypeslib', 'cumprod', 'cumproduct', 'cumsum', 'datetime64', 'datetime_as_string', 'datetime_data', 'deg2rad', 'degrees', 'delete', 'deprecate', 'deprecate_with_doc', 'diag', 'diag_indices', 'diag_indices_from', 'diagflat', 'diagonal', 'diff', 'digitize', 'disp', 'divide', 'division', 'divmod', 'dot', 'double', 'dsplit', 'dstack', 'dtype', 'dual', 'e', 'ediff1d', 'einsum', 'einsum_path', 'emath', 'empty', 'empty_like', 'equal', 'errstate', 'euler_gamma', 'exp', 'exp2', 'expand_dims', 'expm1', 'extract', 'eye', 'fabs', 'fastCopyAndTranspose', 'fft', 'fill_diagonal', 'find_common_type', 'finfo', 'fix', 'flatiter', 'flatnonzero', 'flexible', 'flip', 'fliplr', 'flipud', 'float', 'float128', 'float16', 'float32', 'float64', 'float_', 'float_power', 'floating', 'floor', 'floor_divide', 'fmax', 'fmin', 'fmod', 'format_float_positional', 'format_float_scientific', 'format_parser', 'frexp', 'frombuffer', 'fromfile', 'fromfunction', 'fromiter', 'frompyfunc', 'fromregex', 'fromstring', 'full', 'full_like', 'fv', 'generic', 'genfromtxt', 'geomspace', 'get_array_wrap', 'get_include', 'get_printoptions', 'getbufsize', 'geterr', 'geterrcall', 'geterrobj', 'gradient', 'greater', 'greater_equal', 'half', 'hamming', 'hanning', 'heaviside', 'histogram', 'histogram2d', 'histogramdd', 'hsplit', 'hstack', 'hypot', 'i0', 'identity', 'iinfo', 'imag', 'in1d', 'index_exp', 'indices', 'inexact', 'inf', 'info', 'infty', 'inner', 'insert', 'int', 'int0', 'int16', 'int32', 'int64', 'int8', 'int_', 'int_asbuffer', 'intc', 'integer', 'interp', 'intersect1d', 'intp', 'invert', 'ipmt', 'irr', 'is_busday', 'isclose', 'iscomplex', 'iscomplexobj', 'isfinite', 'isfortran', 'isin', 'isinf', 'isnan', 'isnat', 'isneginf', 'isposinf', 'isreal', 'isrealobj', 'isscalar', 'issctype', 'issubclass_', 'issubdtype', 'issubsctype', 'iterable', 'ix_', 'kaiser', 'kron', 'ldexp', 'left_shift', 'less', 'less_equal', 'lexsort', 'lib', 'linalg', 'linspace', 'little_endian', 'load', 'loads', 'loadtxt', 'log', 'log10', 'log1p', 'log2', 'logaddexp', 'logaddexp2', 'logical_and', 'logical_not', 'logical_or', 'logical_xor', 'logspace', 'long', 'longcomplex', 'longdouble', 'longfloat', 'longlong', 'lookfor', 'ma', 'mafromtxt', 'mask_indices', 'mat', 'math', 'matlib', 'matmul', 'matrix', 'matrixlib', 'max', 'maximum', 'maximum_sctype', 'may_share_memory', 'mean', 'median', 'memmap', 'meshgrid', 'mgrid', 'min', 'min_scalar_type', 'minimum', 'mintypecode', 'mirr', 'mod', 'modf', 'moveaxis', 'msort', 'multiply', 'nan', 'nan_to_num', 'nanargmax', 'nanargmin', 'nancumprod', 'nancumsum', 'nanmax', 'nanmean', 'nanmedian', 'nanmin', 'nanpercentile', 'nanprod', 'nanstd', 'nansum', 'nanvar', 'nbytes', 'ndarray', 'ndenumerate', 'ndfromtxt', 'ndim', 'ndindex', 'nditer', 'negative', 'nested_iters', 'newaxis', 'nextafter', 'nonzero', 'not_equal', 'nper', 'npv', 'numarray', 'number', 'obj2sctype', 'object', 'object0', 'object_', 'ogrid', 'oldnumeric', 'ones', 'ones_like', 'outer', 'packbits', 'pad', 'partition', 'percentile', 'pi', 'piecewise', 'pkgload', 'place', 'pmt', 'poly', 'poly1d', 'polyadd', 'polyder', 'polydiv', 'polyfit', 'polyint', 'polymul', 'polynomial', 'polysub', 'polyval', 'positive', 'power', 'ppmt', 'print_function', 'prod', 'product', 'promote_types', 'ptp', 'put', 'putmask', 'pv', 'r_', 'rad2deg', 'radians', 'random', 'rank', 'rate', 'ravel', 'ravel_multi_index', 'real', 'real_if_close', 'rec', 'recarray', 'recfromcsv', 'recfromtxt', 'reciprocal', 'record', 'remainder', 'repeat', 'require', 'reshape', 'resize', 'result_type', 'right_shift', 'rint', 'roll', 'rollaxis', 'roots', 'rot90', 'round', 'round_', 'row_stack', 's_', 'safe_eval', 'save', 'savetxt', 'savez', 'savez_compressed', 'sctype2char', 'sctypeDict', 'sctypeNA', 'sctypes', 'searchsorted', 'select', 'set_numeric_ops', 'set_printoptions', 'set_string_function', 'setbufsize', 'setdiff1d', 'seterr', 'seterrcall', 'seterrobj', 'setxor1d', 'shape', 'shares_memory', 'short', 'show_config', 'sign', 'signbit', 'signedinteger', 'sin', 'sinc', 'single', 'singlecomplex', 'sinh', 'size', 'sometrue', 'sort', 'sort_complex', 'source', 'spacing', 'split', 'sqrt', 'square', 'squeeze', 'stack', 'std', 'str', 'str0', 'str_', 'string_', 'subtract', 'sum', 'swapaxes', 'sys', 'take', 'tan', 'tanh', 'tensordot', 'test', 'testing', 'tile', 'timedelta64', 'trace', 'tracemalloc_domain', 'transpose', 'trapz', 'tri', 'tril', 'tril_indices', 'tril_indices_from', 'trim_zeros', 'triu', 'triu_indices', 'triu_indices_from', 'true_divide', 'trunc', 'typeDict', 'typeNA', 'typecodes', 'typename', 'ubyte', 'ufunc', 'uint', 'uint0', 'uint16', 'uint32', 'uint64', 'uint8', 'uintc', 'uintp', 'ulonglong', 'unicode', 'unicode_', 'union1d', 'unique', 'unpackbits', 'unravel_index', 'unsignedinteger', 'unwrap', 'ushort', 'vander', 'var', 'vdot', 'vectorize', 'version', 'void', 'void0', 'vsplit', 'vstack', 'warnings', 'where', 'who', 'zeros', 'zeros_like']\n"
          ],
          "name": "stdout"
        }
      ]
    },
    {
      "metadata": {
        "id": "UqP6fjbiXTi_",
        "colab_type": "text"
      },
      "cell_type": "markdown",
      "source": [
        "## Checking \n",
        "만족하는 조건으로만 뽑아서 진행하는 법 any(x)  all(x)"
      ]
    },
    {
      "metadata": {
        "id": "w9sLXJmhXAbI",
        "colab_type": "code",
        "colab": {
          "base_uri": "https://localhost:8080/",
          "height": 70
        },
        "outputId": "f8bb6aac-ec66-480a-aa13-7fedf1c8f5ca"
      },
      "cell_type": "code",
      "source": [
        "x = [True, True, False , True]\n",
        "if any(x):\n",
        "    print(\"At least one True\")\n",
        "if all(x):\n",
        "    print(\"Not one False\")\n",
        "if any(x) and not all(x):\n",
        "    print(\"At least one True and one False\")\n",
        "if any(x) and  np.sum(x) <=2 :\n",
        "    print(\"1개 이상 2개 이하에 있는지\")\n",
        "elif any(x) and  np.sum(x) <=3 :\n",
        "    print(\"1개 이상 3개 이하안에 있는지 \")\n",
        "\n"
      ],
      "execution_count": 57,
      "outputs": [
        {
          "output_type": "stream",
          "text": [
            "At least one True\n",
            "At least one True and one False\n",
            "1개 이상 3개 이하안에 있는지 \n"
          ],
          "name": "stdout"
        }
      ]
    },
    {
      "metadata": {
        "id": "ssJ7141tXg7H",
        "colab_type": "text"
      },
      "cell_type": "markdown",
      "source": [
        "## Orderdict을 사용해서 duplicate 제거\n"
      ]
    },
    {
      "metadata": {
        "id": "zNfj2cOhXSf4",
        "colab_type": "code",
        "colab": {
          "base_uri": "https://localhost:8080/",
          "height": 52
        },
        "outputId": "eddebbb1-f069-46f7-bf6b-465524235529"
      },
      "cell_type": "code",
      "source": [
        "\"\"\"\n",
        "문자형\n",
        "\"\"\"\n",
        "items = [\"foo\", \"bar\",\"bar\",\"foo\"]\n",
        "# sorting + duplicate remove \n",
        "print(list(sorted(OrderedDict.fromkeys(items).keys())))\n",
        "\n",
        "\"\"\"\n",
        "숫자형\n",
        "\"\"\"\n",
        "items = [2,2,3,3,1]\n",
        "newitems = list(set(items))\n",
        "print(newitems)\n"
      ],
      "execution_count": 60,
      "outputs": [
        {
          "output_type": "stream",
          "text": [
            "['bar', 'foo']\n",
            "[1, 2, 3]\n"
          ],
          "name": "stdout"
        }
      ]
    },
    {
      "metadata": {
        "id": "YiFi1hsqXtbA",
        "colab_type": "text"
      },
      "cell_type": "markdown",
      "source": [
        "## min , max index 찾기 "
      ]
    },
    {
      "metadata": {
        "id": "uA6Yq7daXe9A",
        "colab_type": "code",
        "colab": {
          "base_uri": "https://localhost:8080/",
          "height": 52
        },
        "outputId": "8176692d-45f0-4a61-ebe6-2aa4ca949b43"
      },
      "cell_type": "code",
      "source": [
        "lst = [40 ,10 ,12, 13]\n",
        "def minindex(list) :\n",
        "    return min( range( len(list )) , key = list.__getitem__ ) \n",
        "def maxindex(list) :\n",
        "    return max( range( len(list )) , key = list.__getitem__ ) \n",
        "\n",
        "\n",
        "print(minindex( lst ))\n",
        "print(maxindex( lst ))\n"
      ],
      "execution_count": 61,
      "outputs": [
        {
          "output_type": "stream",
          "text": [
            "1\n",
            "0\n"
          ],
          "name": "stdout"
        }
      ]
    },
    {
      "metadata": {
        "id": "qDeeOPySXzJJ",
        "colab_type": "text"
      },
      "cell_type": "markdown",
      "source": [
        "# \" \".JOIN 이용하기\n",
        "\n",
        "* map을 사용해서 type 통일 시키기 \n",
        "* pandas 에서 여러개 불러오는 str.contains 와 많이 사용함"
      ]
    },
    {
      "metadata": {
        "id": "IomOp58fXs1A",
        "colab_type": "code",
        "colab": {
          "base_uri": "https://localhost:8080/",
          "height": 87
        },
        "outputId": "d0a5e598-3549-43cb-f952-ea74a52685ef"
      },
      "cell_type": "code",
      "source": [
        "items = [\"foo\",\"bar\",\"xyz\"]\n",
        "print(\"|\".join(items))\n",
        "\n",
        "numbers = [2,3,4,5]\n",
        "print(\",\".join( map(str , numbers )))\n",
        "\n",
        "data = [2, \"hello\", 3,3.4]\n",
        "print(\",\".join( map( str , data )))\n",
        "\n",
        "a= [\"a\" , \"is\" , \"A\"]\n",
        "print(\" \".join(a))\n"
      ],
      "execution_count": 87,
      "outputs": [
        {
          "output_type": "stream",
          "text": [
            "foo|bar|xyz\n",
            "2,3,4,5\n",
            "2,hello,3,3.4\n",
            "a is A\n"
          ],
          "name": "stdout"
        }
      ]
    },
    {
      "metadata": {
        "id": "tFR00V3yX_Lp",
        "colab_type": "text"
      },
      "cell_type": "markdown",
      "source": [
        "# for문과 break 함께 사용"
      ]
    },
    {
      "metadata": {
        "id": "z2-dCW7wX1lg",
        "colab_type": "code",
        "colab": {
          "base_uri": "https://localhost:8080/",
          "height": 34
        },
        "outputId": "5765b2fe-d2bf-4da1-ca55-9c85500926c0"
      },
      "cell_type": "code",
      "source": [
        "a = [1,2,3,4,5]\n",
        "for el in a :\n",
        "    check = el - 4 \n",
        "    if check == 0 :\n",
        "        print(\"{0}에서 탈출!\".format(el))\n",
        "        break\n",
        "else :\n",
        "    print(\"did not break out of for loop\")\n",
        "\n"
      ],
      "execution_count": 63,
      "outputs": [
        {
          "output_type": "stream",
          "text": [
            "4에서 탈출!\n"
          ],
          "name": "stdout"
        }
      ]
    },
    {
      "metadata": {
        "id": "UwShUGomYJ1x",
        "colab_type": "text"
      },
      "cell_type": "markdown",
      "source": [
        "## copy deepcopy 구분지어서 사용하기"
      ]
    },
    {
      "metadata": {
        "id": "1bYEIaL-X9Tz",
        "colab_type": "code",
        "colab": {
          "base_uri": "https://localhost:8080/",
          "height": 158
        },
        "outputId": "78a07fd9-8f9e-4f44-e0e8-3cc8da82ea72"
      },
      "cell_type": "code",
      "source": [
        "import copy\n",
        "\n",
        "\n",
        "\"\"\"\n",
        "shallow copy\n",
        "\"\"\"\n",
        "a = [1, [1, 2, 3]]\n",
        "b = copy.copy(a)    # shallow copy 발생\n",
        "print(b)    # [1, [1, 2, 3]] 출력\n",
        "b[0] = 100\n",
        "print(b)    # [100, [1, 2, 3]] 출력,\n",
        "print(a)    # [1, [1, 2, 3]] 출력, shallow copy 가 발생해 복사된 리스트는 별도의 객체이므로 item을 수정하면 복사본만 수정된다. (immutable 객체의 경우)\n",
        "\n",
        "c = copy.copy(a)\n",
        "c[1].append(4)    # 리스트의 두번째 item(내부리스트)에 4를 추가\n",
        "print(c)    # [1, [1, 2, 3, 4]] 출력\n",
        "print(a)    # [1, [1, 2, 3, 4]] 출력, a가 c와 똑같이 수정된 이유는 리스트의 item 내부의 객체는 동일한 객체이므로 mutable한 리스트를 수정할때는 둘다 값이 변경됨\n",
        "\n",
        "\"\"\"\n",
        "deepcopy\n",
        "\"\"\"\n",
        "\n",
        "a = [1, [1, 2, 3]]\n",
        "b = copy.deepcopy(a)    # deep copy 실행\n",
        "print(b)    # [1, [1, 2, 3]] 출력\n",
        "b[0] = 100\n",
        "b[1].append(4)\n",
        "print(b)    # [100, [1, 2, 3, 4]] 출력\n",
        "print(a)    # [1, [1, 2, 3]] 출력"
      ],
      "execution_count": 68,
      "outputs": [
        {
          "output_type": "stream",
          "text": [
            "[1, [1, 2, 3]]\n",
            "[100, [1, 2, 3]]\n",
            "[1, [1, 2, 3]]\n",
            "[1, [1, 2, 3, 4]]\n",
            "[1, [1, 2, 3, 4]]\n",
            "[1, [1, 2, 3]]\n",
            "[100, [1, 2, 3, 4]]\n",
            "[1, [1, 2, 3]]\n"
          ],
          "name": "stdout"
        }
      ]
    },
    {
      "metadata": {
        "id": "1R3NcaaHY0RI",
        "colab_type": "text"
      },
      "cell_type": "markdown",
      "source": [
        "## 숫자 문자 순서 뒤집는거 편하기 하기!\n",
        "\n",
        "* str 로 바꾸고 [::-1]  사용하기"
      ]
    },
    {
      "metadata": {
        "id": "mFQYfinDYMtw",
        "colab_type": "code",
        "colab": {
          "base_uri": "https://localhost:8080/",
          "height": 70
        },
        "outputId": "3fb39353-538b-43b2-bf63-3920cb43d7ac"
      },
      "cell_type": "code",
      "source": [
        "a = \"abcd\"\n",
        "\n",
        "print(a[::-1])\n",
        "\n",
        "num =123456789\n",
        "print(int(str(num)[::-1]))\n",
        "\n",
        "c = [5,4,3,2,1]\n",
        "print(c[::-1])"
      ],
      "execution_count": 69,
      "outputs": [
        {
          "output_type": "stream",
          "text": [
            "dcba\n",
            "987654321\n",
            "[1, 2, 3, 4, 5]\n"
          ],
          "name": "stdout"
        }
      ]
    },
    {
      "metadata": {
        "id": "d7CBdG8uZA3x",
        "colab_type": "text"
      },
      "cell_type": "markdown",
      "source": [
        "## Counter\n",
        "https://docs.python.org/2/library/collections.html#collections.Counter\n",
        "\n",
        "자세한 문서는 저기로 \n",
        "더하거나 빼는 것도 가능해보인다."
      ]
    },
    {
      "metadata": {
        "id": "E7MWfKDcY55B",
        "colab_type": "code",
        "colab": {
          "base_uri": "https://localhost:8080/",
          "height": 143
        },
        "outputId": "8a06ee07-95a9-4a77-c53b-fbcd88f36fe8"
      },
      "cell_type": "code",
      "source": [
        "a = [1,2,3,1,2,3,4,2,4,5,6]\n",
        "b = [1,2,3,1,2,3,5,2,4,5,6]\n",
        "from collections import Counter\n",
        "cnt = Counter(a)\n",
        "print(cnt)\n",
        "print(cnt.most_common(2))\n",
        "cnt2 = Counter(b)\n",
        "## 한개 정도 다르게 하니 다르다고 인식함\n",
        "print(cnt == cnt2)\n",
        "\n",
        "\n",
        "s = 'How many words in this sentense show me everything and show me more python'\n",
        "words = s.split()\n",
        "word2 = Counter(words)\n",
        "print(word2)\n",
        "print(dict(word2))\n",
        "Counter(dict(word2)) - Counter(dict(word2))"
      ],
      "execution_count": 80,
      "outputs": [
        {
          "output_type": "stream",
          "text": [
            "Counter({2: 3, 1: 2, 3: 2, 4: 2, 5: 1, 6: 1})\n",
            "[(2, 3), (1, 2)]\n",
            "False\n",
            "Counter({'show': 2, 'me': 2, 'How': 1, 'many': 1, 'words': 1, 'in': 1, 'this': 1, 'sentense': 1, 'everything': 1, 'and': 1, 'more': 1, 'python': 1})\n",
            "{'How': 1, 'many': 1, 'words': 1, 'in': 1, 'this': 1, 'sentense': 1, 'show': 2, 'me': 2, 'everything': 1, 'and': 1, 'more': 1, 'python': 1}\n"
          ],
          "name": "stdout"
        },
        {
          "output_type": "execute_result",
          "data": {
            "text/plain": [
              "Counter()"
            ]
          },
          "metadata": {
            "tags": []
          },
          "execution_count": 80
        }
      ]
    },
    {
      "metadata": {
        "id": "jB5qkDLVaOtf",
        "colab_type": "code",
        "colab": {
          "base_uri": "https://localhost:8080/",
          "height": 34
        },
        "outputId": "cfdaf350-01e6-4742-a87c-3ce2f1640958"
      },
      "cell_type": "code",
      "source": [
        "original =[[\"a\",\"b\"],[\"c\",\"d\"],[\"e\",\"f\"]]\n",
        "transposed = zip(*original)\n",
        "print(list(transposed))"
      ],
      "execution_count": 86,
      "outputs": [
        {
          "output_type": "stream",
          "text": [
            "[('a', 'c', 'e'), ('b', 'd', 'f')]\n"
          ],
          "name": "stdout"
        }
      ]
    },
    {
      "metadata": {
        "id": "_sEI92ClbCoX",
        "colab_type": "code",
        "colab": {}
      },
      "cell_type": "code",
      "source": [
        ""
      ],
      "execution_count": 0,
      "outputs": []
    }
  ]
}