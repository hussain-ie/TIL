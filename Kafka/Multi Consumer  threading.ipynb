{
 "cells": [
  {
   "cell_type": "markdown",
   "metadata": {},
   "source": [
    "## https://kafka-python.readthedocs.io/en/master/apidoc/KafkaConsumer.html#"
   ]
  },
  {
   "cell_type": "code",
   "execution_count": 1,
   "metadata": {},
   "outputs": [
    {
     "name": "stdout",
     "output_type": "stream",
     "text": [
      "Consumer 연결\n"
     ]
    }
   ],
   "source": [
    "from kafka import KafkaConsumer\n",
    "from json import loads\n",
    "\n",
    "print(\"Consumer 연결\")\n",
    "consumer = KafkaConsumer(\n",
    "     bootstrap_servers=['localhost:9092'],\n",
    "     auto_offset_reset='latest' , # 'earliest',\n",
    "     enable_auto_commit= True ,\n",
    "     group_id='sr',\n",
    "     value_deserializer=lambda x: loads(x.decode('utf-8')))"
   ]
  },
  {
   "cell_type": "code",
   "execution_count": 2,
   "metadata": {},
   "outputs": [
    {
     "data": {
      "text/plain": [
       "{'my', 'my-topic', 'my_topic', 'numtest', 'numtest2', 'output'}"
      ]
     },
     "execution_count": 2,
     "metadata": {},
     "output_type": "execute_result"
    }
   ],
   "source": [
    "consumer.topics()"
   ]
  },
  {
   "cell_type": "code",
   "execution_count": 3,
   "metadata": {},
   "outputs": [],
   "source": [
    "consumer.subscribe(\"numtest\")"
   ]
  },
  {
   "cell_type": "code",
   "execution_count": 4,
   "metadata": {},
   "outputs": [
    {
     "data": {
      "text/plain": [
       "{'numtest'}"
      ]
     },
     "execution_count": 4,
     "metadata": {},
     "output_type": "execute_result"
    }
   ],
   "source": [
    "consumer.subscription()"
   ]
  },
  {
   "cell_type": "markdown",
   "metadata": {},
   "source": [
    "## 발견\n",
    "\n",
    "### 껏다 켜도 계속 offset(고유한 아이디)계속 유지됨!\n",
    "\n",
    "* group_id 를 다르게하면?\n",
    "    * group_id를 다르게하면 offset이 다시 시작!\n",
    "* 다시 원래 group_id로 바꾸면? \n",
    "    * 다시 원래했던것 이후로 진행됨!\n",
    "* 다른 토픽(numtest2)에서 오게 된다면? (같은 consumer_id / 다른 토픽)\n",
    "    * message가 보내지지 않음\n",
    "    * 다시 원래 topic (numtest)로 다시 보내면?\n",
    "        * 다시 offset을 유지하면서 보내짐!\n",
    "    \n",
    "### Producer에서 그냥 send할 때 아이디를 바꾸니 그냥 들어가짐"
   ]
  },
  {
   "cell_type": "code",
   "execution_count": null,
   "metadata": {},
   "outputs": [
    {
     "name": "stdout",
     "output_type": "stream",
     "text": [
      "topic=numtest partition=0 offset=792: key=None value={'1': '1'}\n",
      "topic=numtest partition=0 offset=793: key=None value={'2': '2'}\n",
      "topic=numtest partition=0 offset=794: key=None value={'3': '3'}\n",
      "topic=numtest partition=0 offset=795: key=None value={'4': '4'}\n",
      "topic=numtest partition=0 offset=796: key=None value={'5': '5'}\n",
      "topic=numtest partition=0 offset=797: key=None value={'6': '6'}\n",
      "topic=numtest partition=0 offset=798: key=None value={'7': '7'}\n",
      "topic=numtest partition=0 offset=799: key=None value={'8': '8'}\n",
      "topic=numtest partition=0 offset=800: key=None value={'9': '9'}\n",
      "topic=numtest partition=0 offset=801: key=None value={'10': '10'}\n",
      "topic=numtest partition=0 offset=802: key=None value={'11': '11'}\n",
      "topic=numtest partition=0 offset=803: key=None value={'12': '12'}\n",
      "topic=numtest partition=0 offset=804: key=None value={'13': '13'}\n",
      "topic=numtest partition=0 offset=805: key=None value={'14': '14'}\n",
      "topic=numtest partition=0 offset=806: key=None value={'15': '15'}\n",
      "topic=numtest partition=0 offset=807: key=None value={'16': '16'}\n",
      "topic=numtest partition=0 offset=808: key=None value={'17': '17'}\n",
      "topic=numtest partition=0 offset=809: key=None value={'18': '18'}\n",
      "topic=numtest partition=0 offset=810: key=None value={'19': '19'}\n",
      "topic=numtest partition=0 offset=811: key=None value={'20': '20'}\n",
      "topic=numtest partition=0 offset=812: key=None value={'21': '21'}\n",
      "topic=numtest partition=0 offset=813: key=None value={'22': '22'}\n",
      "topic=numtest partition=0 offset=814: key=None value={'23': '23'}\n",
      "topic=numtest partition=0 offset=815: key=None value={'24': '24'}\n",
      "topic=numtest partition=0 offset=816: key=None value={'25': '25'}\n",
      "topic=numtest partition=0 offset=817: key=None value={'26': '26'}\n",
      "topic=numtest partition=0 offset=818: key=None value={'27': '27'}\n",
      "topic=numtest partition=0 offset=819: key=None value={'28': '28'}\n",
      "topic=numtest partition=0 offset=820: key=None value={'29': '29'}\n",
      "topic=numtest partition=0 offset=821: key=None value={'30': '30'}\n",
      "topic=numtest partition=0 offset=822: key=None value={'31': '31'}\n",
      "topic=numtest partition=0 offset=823: key=None value={'32': '32'}\n",
      "topic=numtest partition=0 offset=824: key=None value={'33': '33'}\n",
      "topic=numtest partition=0 offset=825: key=None value={'34': '34'}\n",
      "topic=numtest partition=0 offset=826: key=None value={'35': '35'}\n",
      "topic=numtest partition=0 offset=827: key=None value={'36': '36'}\n",
      "topic=numtest partition=0 offset=828: key=None value={'37': '37'}\n",
      "topic=numtest partition=0 offset=829: key=None value={'38': '38'}\n",
      "topic=numtest partition=0 offset=830: key=None value={'39': '39'}\n",
      "topic=numtest partition=0 offset=831: key=None value={'40': '40'}\n",
      "topic=numtest partition=0 offset=832: key=None value={'41': '41'}\n",
      "topic=numtest partition=0 offset=833: key=None value={'42': '42'}\n",
      "topic=numtest partition=0 offset=834: key=None value={'43': '43'}\n",
      "topic=numtest partition=0 offset=835: key=None value={'44': '44'}\n",
      "topic=numtest partition=0 offset=836: key=None value={'45': '45'}\n",
      "topic=numtest partition=0 offset=837: key=None value={'46': '46'}\n",
      "topic=numtest partition=0 offset=838: key=None value={'47': '47'}\n",
      "topic=numtest partition=0 offset=839: key=None value={'48': '48'}\n",
      "topic=numtest partition=0 offset=840: key=None value={'49': '49'}\n",
      "topic=numtest partition=0 offset=841: key=None value={'50': '50'}\n",
      "topic=numtest partition=0 offset=842: key=None value={'51': '51'}\n",
      "topic=numtest partition=0 offset=843: key=None value={'52': '52'}\n",
      "topic=numtest partition=0 offset=844: key=None value={'53': '53'}\n",
      "topic=numtest partition=0 offset=845: key=None value={'54': '54'}\n",
      "topic=numtest partition=0 offset=846: key=None value={'55': '55'}\n",
      "topic=numtest partition=0 offset=847: key=None value={'56': '56'}\n",
      "topic=numtest partition=0 offset=848: key=None value={'57': '57'}\n",
      "topic=numtest partition=0 offset=849: key=None value={'58': '58'}\n",
      "topic=numtest partition=0 offset=850: key=None value={'59': '59'}\n",
      "topic=numtest partition=0 offset=851: key=None value={'60': '60'}\n",
      "topic=numtest partition=0 offset=852: key=None value={'61': '61'}\n",
      "topic=numtest partition=0 offset=853: key=None value={'62': '62'}\n",
      "topic=numtest partition=0 offset=854: key=None value={'63': '63'}\n",
      "topic=numtest partition=0 offset=855: key=None value={'64': '64'}\n",
      "topic=numtest partition=0 offset=856: key=None value={'65': '65'}\n",
      "topic=numtest partition=0 offset=857: key=None value={'66': '66'}\n",
      "topic=numtest partition=0 offset=858: key=None value={'67': '67'}\n",
      "topic=numtest partition=0 offset=859: key=None value={'68': '68'}\n",
      "topic=numtest partition=0 offset=860: key=None value={'69': '69'}\n",
      "topic=numtest partition=0 offset=861: key=None value={'70': '70'}\n",
      "topic=numtest partition=0 offset=862: key=None value={'71': '71'}\n",
      "topic=numtest partition=0 offset=863: key=None value={'72': '72'}\n",
      "topic=numtest partition=0 offset=864: key=None value={'73': '73'}\n",
      "topic=numtest partition=0 offset=865: key=None value={'74': '74'}\n",
      "topic=numtest partition=0 offset=866: key=None value={'75': '75'}\n",
      "topic=numtest partition=0 offset=867: key=None value={'76': '76'}\n",
      "topic=numtest partition=0 offset=868: key=None value={'77': '77'}\n",
      "topic=numtest partition=0 offset=869: key=None value={'78': '78'}\n",
      "topic=numtest partition=0 offset=870: key=None value={'79': '79'}\n",
      "topic=numtest partition=0 offset=871: key=None value={'80': '80'}\n",
      "topic=numtest partition=0 offset=872: key=None value={'81': '81'}\n",
      "topic=numtest partition=0 offset=873: key=None value={'82': '82'}\n",
      "topic=numtest partition=0 offset=874: key=None value={'83': '83'}\n",
      "topic=numtest partition=0 offset=875: key=None value={'84': '84'}\n",
      "topic=numtest partition=0 offset=876: key=None value={'85': '85'}\n",
      "topic=numtest partition=0 offset=877: key=None value={'86': '86'}\n",
      "topic=numtest partition=0 offset=878: key=None value={'87': '87'}\n",
      "topic=numtest partition=0 offset=879: key=None value={'88': '88'}\n",
      "topic=numtest partition=0 offset=880: key=None value={'89': '89'}\n",
      "topic=numtest partition=0 offset=881: key=None value={'90': '90'}\n",
      "topic=numtest partition=0 offset=882: key=None value={'91': '91'}\n",
      "topic=numtest partition=0 offset=883: key=None value={'92': '92'}\n",
      "topic=numtest partition=0 offset=884: key=None value={'93': '93'}\n",
      "topic=numtest partition=0 offset=885: key=None value={'94': '94'}\n",
      "topic=numtest partition=0 offset=886: key=None value={'95': '95'}\n",
      "topic=numtest partition=0 offset=887: key=None value={'96': '96'}\n",
      "topic=numtest partition=0 offset=888: key=None value={'97': '97'}\n",
      "topic=numtest partition=0 offset=889: key=None value={'98': '98'}\n",
      "topic=numtest partition=0 offset=890: key=None value={'99': '99'}\n",
      "topic=numtest partition=0 offset=891: key=None value={'0': '0'}\n",
      "topic=numtest partition=0 offset=892: key=None value={'1': '1'}\n",
      "topic=numtest partition=0 offset=893: key=None value={'2': '2'}\n",
      "topic=numtest partition=0 offset=894: key=None value={'3': '3'}\n",
      "topic=numtest partition=0 offset=895: key=None value={'4': '4'}\n",
      "topic=numtest partition=0 offset=896: key=None value={'5': '5'}\n",
      "topic=numtest partition=0 offset=897: key=None value={'6': '6'}\n",
      "topic=numtest partition=0 offset=898: key=None value={'7': '7'}\n",
      "topic=numtest partition=0 offset=899: key=None value={'8': '8'}\n",
      "topic=numtest partition=0 offset=900: key=None value={'9': '9'}\n",
      "topic=numtest partition=0 offset=901: key=None value={'10': '10'}\n",
      "topic=numtest partition=0 offset=902: key=None value={'11': '11'}\n",
      "topic=numtest partition=0 offset=903: key=None value={'12': '12'}\n",
      "topic=numtest partition=0 offset=904: key=None value={'13': '13'}\n",
      "topic=numtest partition=0 offset=905: key=None value={'14': '14'}\n",
      "topic=numtest partition=0 offset=906: key=None value={'15': '15'}\n",
      "topic=numtest partition=0 offset=907: key=None value={'16': '16'}\n",
      "topic=numtest partition=0 offset=908: key=None value={'17': '17'}\n",
      "topic=numtest partition=0 offset=909: key=None value={'18': '18'}\n",
      "topic=numtest partition=0 offset=910: key=None value={'19': '19'}\n",
      "topic=numtest partition=0 offset=911: key=None value={'20': '20'}\n",
      "topic=numtest partition=0 offset=912: key=None value={'21': '21'}\n",
      "topic=numtest partition=0 offset=913: key=None value={'22': '22'}\n",
      "topic=numtest partition=0 offset=914: key=None value={'23': '23'}\n",
      "topic=numtest partition=0 offset=915: key=None value={'24': '24'}\n",
      "topic=numtest partition=0 offset=916: key=None value={'25': '25'}\n",
      "topic=numtest partition=0 offset=917: key=None value={'26': '26'}\n",
      "topic=numtest partition=0 offset=918: key=None value={'27': '27'}\n",
      "topic=numtest partition=0 offset=919: key=None value={'28': '28'}\n",
      "topic=numtest partition=0 offset=920: key=None value={'29': '29'}\n",
      "topic=numtest partition=0 offset=921: key=None value={'30': '30'}\n",
      "topic=numtest partition=0 offset=922: key=None value={'31': '31'}\n",
      "topic=numtest partition=0 offset=923: key=None value={'32': '32'}\n",
      "topic=numtest partition=0 offset=924: key=None value={'33': '33'}\n",
      "topic=numtest partition=0 offset=925: key=None value={'34': '34'}\n",
      "topic=numtest partition=0 offset=926: key=None value={'35': '35'}\n",
      "topic=numtest partition=0 offset=927: key=None value={'36': '36'}\n",
      "topic=numtest partition=0 offset=928: key=None value={'37': '37'}\n",
      "topic=numtest partition=0 offset=929: key=None value={'38': '38'}\n",
      "topic=numtest partition=0 offset=930: key=None value={'39': '39'}\n",
      "topic=numtest partition=0 offset=931: key=None value={'40': '40'}\n",
      "topic=numtest partition=0 offset=932: key=None value={'41': '41'}\n",
      "topic=numtest partition=0 offset=933: key=None value={'42': '42'}\n",
      "topic=numtest partition=0 offset=934: key=None value={'43': '43'}\n",
      "topic=numtest partition=0 offset=935: key=None value={'44': '44'}\n",
      "topic=numtest partition=0 offset=936: key=None value={'45': '45'}\n",
      "topic=numtest partition=0 offset=937: key=None value={'46': '46'}\n",
      "topic=numtest partition=0 offset=938: key=None value={'47': '47'}\n",
      "topic=numtest partition=0 offset=939: key=None value={'48': '48'}\n",
      "topic=numtest partition=0 offset=940: key=None value={'49': '49'}\n",
      "topic=numtest partition=0 offset=941: key=None value={'50': '50'}\n",
      "topic=numtest partition=0 offset=942: key=None value={'51': '51'}\n",
      "topic=numtest partition=0 offset=943: key=None value={'52': '52'}\n",
      "topic=numtest partition=0 offset=944: key=None value={'53': '53'}\n",
      "topic=numtest partition=0 offset=945: key=None value={'54': '54'}\n",
      "topic=numtest partition=0 offset=946: key=None value={'55': '55'}\n",
      "topic=numtest partition=0 offset=947: key=None value={'56': '56'}\n",
      "topic=numtest partition=0 offset=948: key=None value={'57': '57'}\n",
      "topic=numtest partition=0 offset=949: key=None value={'58': '58'}\n",
      "topic=numtest partition=0 offset=950: key=None value={'59': '59'}\n",
      "topic=numtest partition=0 offset=951: key=None value={'60': '60'}\n",
      "topic=numtest partition=0 offset=952: key=None value={'61': '61'}\n",
      "topic=numtest partition=0 offset=953: key=None value={'62': '62'}\n",
      "topic=numtest partition=0 offset=954: key=None value={'63': '63'}\n",
      "topic=numtest partition=0 offset=955: key=None value={'64': '64'}\n",
      "topic=numtest partition=0 offset=956: key=None value={'65': '65'}\n",
      "topic=numtest partition=0 offset=957: key=None value={'66': '66'}\n",
      "topic=numtest partition=0 offset=958: key=None value={'67': '67'}\n",
      "topic=numtest partition=0 offset=959: key=None value={'68': '68'}\n",
      "topic=numtest partition=0 offset=960: key=None value={'69': '69'}\n",
      "topic=numtest partition=0 offset=961: key=None value={'70': '70'}\n",
      "topic=numtest partition=0 offset=962: key=None value={'71': '71'}\n",
      "topic=numtest partition=0 offset=963: key=None value={'72': '72'}\n",
      "topic=numtest partition=0 offset=964: key=None value={'73': '73'}\n",
      "topic=numtest partition=0 offset=965: key=None value={'74': '74'}\n",
      "topic=numtest partition=0 offset=966: key=None value={'75': '75'}\n",
      "topic=numtest partition=0 offset=967: key=None value={'76': '76'}\n",
      "topic=numtest partition=0 offset=968: key=None value={'77': '77'}\n",
      "topic=numtest partition=0 offset=969: key=None value={'78': '78'}\n",
      "topic=numtest partition=0 offset=970: key=None value={'79': '79'}\n",
      "topic=numtest partition=0 offset=971: key=None value={'80': '80'}\n",
      "topic=numtest partition=0 offset=972: key=None value={'81': '81'}\n",
      "topic=numtest partition=0 offset=973: key=None value={'82': '82'}\n",
      "topic=numtest partition=0 offset=974: key=None value={'83': '83'}\n",
      "topic=numtest partition=0 offset=975: key=None value={'84': '84'}\n",
      "topic=numtest partition=0 offset=976: key=None value={'85': '85'}\n",
      "topic=numtest partition=0 offset=977: key=None value={'86': '86'}\n",
      "topic=numtest partition=0 offset=978: key=None value={'87': '87'}\n",
      "topic=numtest partition=0 offset=979: key=None value={'88': '88'}\n",
      "topic=numtest partition=0 offset=980: key=None value={'89': '89'}\n",
      "topic=numtest partition=0 offset=981: key=None value={'90': '90'}\n",
      "topic=numtest partition=0 offset=982: key=None value={'91': '91'}\n",
      "topic=numtest partition=0 offset=983: key=None value={'92': '92'}\n",
      "topic=numtest partition=0 offset=984: key=None value={'93': '93'}\n",
      "topic=numtest partition=0 offset=985: key=None value={'94': '94'}\n",
      "topic=numtest partition=0 offset=986: key=None value={'95': '95'}\n",
      "topic=numtest partition=0 offset=987: key=None value={'96': '96'}\n",
      "topic=numtest partition=0 offset=988: key=None value={'97': '97'}\n",
      "topic=numtest partition=0 offset=989: key=None value={'98': '98'}\n",
      "topic=numtest partition=0 offset=990: key=None value={'99': '99'}\n",
      "topic=numtest partition=0 offset=991: key=None value={'0': '0'}\n",
      "topic=numtest partition=0 offset=992: key=None value={'1': '1'}\n",
      "topic=numtest partition=0 offset=993: key=None value={'2': '2'}\n",
      "topic=numtest partition=0 offset=994: key=None value={'3': '3'}\n",
      "topic=numtest partition=0 offset=995: key=None value={'4': '4'}\n",
      "topic=numtest partition=0 offset=996: key=None value={'5': '5'}\n",
      "topic=numtest partition=0 offset=997: key=None value={'6': '6'}\n",
      "topic=numtest partition=0 offset=998: key=None value={'7': '7'}\n",
      "topic=numtest partition=0 offset=999: key=None value={'8': '8'}\n",
      "topic=numtest partition=0 offset=1000: key=None value={'9': '9'}\n",
      "topic=numtest partition=0 offset=1001: key=None value={'10': '10'}\n",
      "topic=numtest partition=0 offset=1002: key=None value={'11': '11'}\n",
      "topic=numtest partition=0 offset=1003: key=None value={'12': '12'}\n",
      "topic=numtest partition=0 offset=1004: key=None value={'13': '13'}\n",
      "topic=numtest partition=0 offset=1005: key=None value={'14': '14'}\n",
      "topic=numtest partition=0 offset=1006: key=None value={'15': '15'}\n",
      "topic=numtest partition=0 offset=1007: key=None value={'16': '16'}\n",
      "topic=numtest partition=0 offset=1008: key=None value={'17': '17'}\n",
      "topic=numtest partition=0 offset=1009: key=None value={'18': '18'}\n",
      "topic=numtest partition=0 offset=1010: key=None value={'19': '19'}\n",
      "topic=numtest partition=0 offset=1011: key=None value={'20': '20'}\n",
      "topic=numtest partition=0 offset=1012: key=None value={'21': '21'}\n",
      "topic=numtest partition=0 offset=1013: key=None value={'22': '22'}\n",
      "topic=numtest partition=0 offset=1014: key=None value={'23': '23'}\n",
      "topic=numtest partition=0 offset=1015: key=None value={'24': '24'}\n",
      "topic=numtest partition=0 offset=1016: key=None value={'25': '25'}\n",
      "topic=numtest partition=0 offset=1017: key=None value={'26': '26'}\n",
      "topic=numtest partition=0 offset=1018: key=None value={'27': '27'}\n",
      "topic=numtest partition=0 offset=1019: key=None value={'28': '28'}\n",
      "topic=numtest partition=0 offset=1020: key=None value={'29': '29'}\n",
      "topic=numtest partition=0 offset=1021: key=None value={'30': '30'}\n",
      "topic=numtest partition=0 offset=1022: key=None value={'31': '31'}\n",
      "topic=numtest partition=0 offset=1023: key=None value={'32': '32'}\n",
      "topic=numtest partition=0 offset=1024: key=None value={'33': '33'}\n",
      "topic=numtest partition=0 offset=1025: key=None value={'34': '34'}\n",
      "topic=numtest partition=0 offset=1026: key=None value={'35': '35'}\n",
      "topic=numtest partition=0 offset=1027: key=None value={'36': '36'}\n",
      "topic=numtest partition=0 offset=1028: key=None value={'37': '37'}\n",
      "topic=numtest partition=0 offset=1029: key=None value={'38': '38'}\n",
      "topic=numtest partition=0 offset=1030: key=None value={'39': '39'}\n",
      "topic=numtest partition=0 offset=1031: key=None value={'40': '40'}\n",
      "topic=numtest partition=0 offset=1032: key=None value={'41': '41'}\n",
      "topic=numtest partition=0 offset=1033: key=None value={'42': '42'}\n",
      "topic=numtest partition=0 offset=1034: key=None value={'43': '43'}\n",
      "topic=numtest partition=0 offset=1035: key=None value={'44': '44'}\n",
      "topic=numtest partition=0 offset=1036: key=None value={'45': '45'}\n",
      "topic=numtest partition=0 offset=1037: key=None value={'46': '46'}\n",
      "topic=numtest partition=0 offset=1038: key=None value={'47': '47'}\n",
      "topic=numtest partition=0 offset=1039: key=None value={'48': '48'}\n",
      "topic=numtest partition=0 offset=1040: key=None value={'49': '49'}\n",
      "topic=numtest partition=0 offset=1041: key=None value={'50': '50'}\n",
      "topic=numtest partition=0 offset=1042: key=None value={'51': '51'}\n",
      "topic=numtest partition=0 offset=1043: key=None value={'52': '52'}\n",
      "topic=numtest partition=0 offset=1044: key=None value={'53': '53'}\n",
      "topic=numtest partition=0 offset=1045: key=None value={'54': '54'}\n",
      "topic=numtest partition=0 offset=1046: key=None value={'55': '55'}\n",
      "topic=numtest partition=0 offset=1047: key=None value={'56': '56'}\n",
      "topic=numtest partition=0 offset=1048: key=None value={'57': '57'}\n",
      "topic=numtest partition=0 offset=1049: key=None value={'58': '58'}\n",
      "topic=numtest partition=0 offset=1050: key=None value={'59': '59'}\n",
      "topic=numtest partition=0 offset=1051: key=None value={'60': '60'}\n",
      "topic=numtest partition=0 offset=1052: key=None value={'61': '61'}\n",
      "topic=numtest partition=0 offset=1053: key=None value={'62': '62'}\n",
      "topic=numtest partition=0 offset=1054: key=None value={'63': '63'}\n",
      "topic=numtest partition=0 offset=1055: key=None value={'64': '64'}\n",
      "topic=numtest partition=0 offset=1056: key=None value={'65': '65'}\n",
      "topic=numtest partition=0 offset=1057: key=None value={'66': '66'}\n",
      "topic=numtest partition=0 offset=1058: key=None value={'67': '67'}\n",
      "topic=numtest partition=0 offset=1059: key=None value={'68': '68'}\n",
      "topic=numtest partition=0 offset=1060: key=None value={'69': '69'}\n",
      "topic=numtest partition=0 offset=1061: key=None value={'70': '70'}\n",
      "topic=numtest partition=0 offset=1062: key=None value={'71': '71'}\n",
      "topic=numtest partition=0 offset=1063: key=None value={'72': '72'}\n",
      "topic=numtest partition=0 offset=1064: key=None value={'73': '73'}\n",
      "topic=numtest partition=0 offset=1065: key=None value={'74': '74'}\n",
      "topic=numtest partition=0 offset=1066: key=None value={'75': '75'}\n",
      "topic=numtest partition=0 offset=1067: key=None value={'76': '76'}\n",
      "topic=numtest partition=0 offset=1068: key=None value={'77': '77'}\n",
      "topic=numtest partition=0 offset=1069: key=None value={'78': '78'}\n",
      "topic=numtest partition=0 offset=1070: key=None value={'79': '79'}\n",
      "topic=numtest partition=0 offset=1071: key=None value={'80': '80'}\n",
      "topic=numtest partition=0 offset=1072: key=None value={'81': '81'}\n",
      "topic=numtest partition=0 offset=1073: key=None value={'82': '82'}\n",
      "topic=numtest partition=0 offset=1074: key=None value={'83': '83'}\n",
      "topic=numtest partition=0 offset=1075: key=None value={'84': '84'}\n",
      "topic=numtest partition=0 offset=1076: key=None value={'85': '85'}\n",
      "topic=numtest partition=0 offset=1077: key=None value={'86': '86'}\n",
      "topic=numtest partition=0 offset=1078: key=None value={'87': '87'}\n",
      "topic=numtest partition=0 offset=1079: key=None value={'88': '88'}\n",
      "topic=numtest partition=0 offset=1080: key=None value={'89': '89'}\n",
      "topic=numtest partition=0 offset=1081: key=None value={'90': '90'}\n",
      "topic=numtest partition=0 offset=1082: key=None value={'91': '91'}\n",
      "topic=numtest partition=0 offset=1083: key=None value={'92': '92'}\n",
      "topic=numtest partition=0 offset=1084: key=None value={'93': '93'}\n",
      "topic=numtest partition=0 offset=1085: key=None value={'94': '94'}\n",
      "topic=numtest partition=0 offset=1086: key=None value={'95': '95'}\n",
      "topic=numtest partition=0 offset=1087: key=None value={'96': '96'}\n",
      "topic=numtest partition=0 offset=1088: key=None value={'97': '97'}\n",
      "topic=numtest partition=0 offset=1089: key=None value={'98': '98'}\n",
      "topic=numtest partition=0 offset=1090: key=None value={'99': '99'}\n",
      "topic=numtest partition=0 offset=1091: key=None value={'0': '0'}\n",
      "topic=numtest partition=0 offset=1092: key=None value={'1': '1'}\n",
      "topic=numtest partition=0 offset=1093: key=None value={'2': '2'}\n",
      "topic=numtest partition=0 offset=1094: key=None value={'3': '3'}\n",
      "topic=numtest partition=0 offset=1095: key=None value={'4': '4'}\n",
      "topic=numtest partition=0 offset=1096: key=None value={'5': '5'}\n",
      "topic=numtest partition=0 offset=1097: key=None value={'6': '6'}\n",
      "topic=numtest partition=0 offset=1098: key=None value={'7': '7'}\n",
      "topic=numtest partition=0 offset=1099: key=None value={'8': '8'}\n",
      "topic=numtest partition=0 offset=1100: key=None value={'9': '9'}\n",
      "topic=numtest partition=0 offset=1101: key=None value={'10': '10'}\n",
      "topic=numtest partition=0 offset=1102: key=None value={'11': '11'}\n",
      "topic=numtest partition=0 offset=1103: key=None value={'12': '12'}\n",
      "topic=numtest partition=0 offset=1104: key=None value={'13': '13'}\n",
      "topic=numtest partition=0 offset=1105: key=None value={'14': '14'}\n",
      "topic=numtest partition=0 offset=1106: key=None value={'15': '15'}\n",
      "topic=numtest partition=0 offset=1107: key=None value={'16': '16'}\n",
      "topic=numtest partition=0 offset=1108: key=None value={'17': '17'}\n",
      "topic=numtest partition=0 offset=1109: key=None value={'18': '18'}\n",
      "topic=numtest partition=0 offset=1110: key=None value={'19': '19'}\n",
      "topic=numtest partition=0 offset=1111: key=None value={'20': '20'}\n",
      "topic=numtest partition=0 offset=1112: key=None value={'21': '21'}\n",
      "topic=numtest partition=0 offset=1113: key=None value={'22': '22'}\n",
      "topic=numtest partition=0 offset=1114: key=None value={'23': '23'}\n",
      "topic=numtest partition=0 offset=1115: key=None value={'24': '24'}\n",
      "topic=numtest partition=0 offset=1116: key=None value={'25': '25'}\n",
      "topic=numtest partition=0 offset=1117: key=None value={'26': '26'}\n",
      "topic=numtest partition=0 offset=1118: key=None value={'27': '27'}\n",
      "topic=numtest partition=0 offset=1119: key=None value={'28': '28'}\n",
      "topic=numtest partition=0 offset=1120: key=None value={'29': '29'}\n",
      "topic=numtest partition=0 offset=1121: key=None value={'30': '30'}\n",
      "topic=numtest partition=0 offset=1122: key=None value={'31': '31'}\n",
      "topic=numtest partition=0 offset=1123: key=None value={'32': '32'}\n",
      "topic=numtest partition=0 offset=1124: key=None value={'33': '33'}\n",
      "topic=numtest partition=0 offset=1125: key=None value={'34': '34'}\n",
      "topic=numtest partition=0 offset=1126: key=None value={'35': '35'}\n",
      "topic=numtest partition=0 offset=1127: key=None value={'36': '36'}\n",
      "topic=numtest partition=0 offset=1128: key=None value={'37': '37'}\n",
      "topic=numtest partition=0 offset=1129: key=None value={'38': '38'}\n",
      "topic=numtest partition=0 offset=1130: key=None value={'39': '39'}\n",
      "topic=numtest partition=0 offset=1131: key=None value={'40': '40'}\n",
      "topic=numtest partition=0 offset=1132: key=None value={'41': '41'}\n",
      "topic=numtest partition=0 offset=1133: key=None value={'42': '42'}\n",
      "topic=numtest partition=0 offset=1134: key=None value={'43': '43'}\n",
      "topic=numtest partition=0 offset=1135: key=None value={'44': '44'}\n",
      "topic=numtest partition=0 offset=1136: key=None value={'45': '45'}\n",
      "topic=numtest partition=0 offset=1137: key=None value={'46': '46'}\n",
      "topic=numtest partition=0 offset=1138: key=None value={'47': '47'}\n",
      "topic=numtest partition=0 offset=1139: key=None value={'48': '48'}\n",
      "topic=numtest partition=0 offset=1140: key=None value={'49': '49'}\n",
      "topic=numtest partition=0 offset=1141: key=None value={'50': '50'}\n",
      "topic=numtest partition=0 offset=1142: key=None value={'51': '51'}\n",
      "topic=numtest partition=0 offset=1143: key=None value={'52': '52'}\n",
      "topic=numtest partition=0 offset=1144: key=None value={'53': '53'}\n",
      "topic=numtest partition=0 offset=1145: key=None value={'54': '54'}\n",
      "topic=numtest partition=0 offset=1146: key=None value={'55': '55'}\n",
      "topic=numtest partition=0 offset=1147: key=None value={'56': '56'}\n",
      "topic=numtest partition=0 offset=1148: key=None value={'57': '57'}\n",
      "topic=numtest partition=0 offset=1149: key=None value={'58': '58'}\n",
      "topic=numtest partition=0 offset=1150: key=None value={'59': '59'}\n",
      "topic=numtest partition=0 offset=1151: key=None value={'60': '60'}\n",
      "topic=numtest partition=0 offset=1152: key=None value={'61': '61'}\n",
      "topic=numtest partition=0 offset=1153: key=None value={'62': '62'}\n",
      "topic=numtest partition=0 offset=1154: key=None value={'63': '63'}\n",
      "topic=numtest partition=0 offset=1155: key=None value={'64': '64'}\n",
      "topic=numtest partition=0 offset=1156: key=None value={'65': '65'}\n",
      "topic=numtest partition=0 offset=1157: key=None value={'66': '66'}\n",
      "topic=numtest partition=0 offset=1158: key=None value={'67': '67'}\n",
      "topic=numtest partition=0 offset=1159: key=None value={'68': '68'}\n",
      "topic=numtest partition=0 offset=1160: key=None value={'69': '69'}\n",
      "topic=numtest partition=0 offset=1161: key=None value={'70': '70'}\n",
      "topic=numtest partition=0 offset=1162: key=None value={'71': '71'}\n",
      "topic=numtest partition=0 offset=1163: key=None value={'72': '72'}\n",
      "topic=numtest partition=0 offset=1164: key=None value={'73': '73'}\n",
      "topic=numtest partition=0 offset=1165: key=None value={'74': '74'}\n",
      "topic=numtest partition=0 offset=1166: key=None value={'75': '75'}\n",
      "topic=numtest partition=0 offset=1167: key=None value={'76': '76'}\n",
      "topic=numtest partition=0 offset=1168: key=None value={'77': '77'}\n",
      "topic=numtest partition=0 offset=1169: key=None value={'78': '78'}\n",
      "topic=numtest partition=0 offset=1170: key=None value={'79': '79'}\n",
      "topic=numtest partition=0 offset=1171: key=None value={'80': '80'}\n",
      "topic=numtest partition=0 offset=1172: key=None value={'81': '81'}\n",
      "topic=numtest partition=0 offset=1173: key=None value={'82': '82'}\n",
      "topic=numtest partition=0 offset=1174: key=None value={'83': '83'}\n",
      "topic=numtest partition=0 offset=1175: key=None value={'84': '84'}\n",
      "topic=numtest partition=0 offset=1176: key=None value={'85': '85'}\n",
      "topic=numtest partition=0 offset=1177: key=None value={'86': '86'}\n",
      "topic=numtest partition=0 offset=1178: key=None value={'87': '87'}\n",
      "topic=numtest partition=0 offset=1179: key=None value={'88': '88'}\n",
      "topic=numtest partition=0 offset=1180: key=None value={'89': '89'}\n",
      "topic=numtest partition=0 offset=1181: key=None value={'90': '90'}\n",
      "topic=numtest partition=0 offset=1182: key=None value={'91': '91'}\n",
      "topic=numtest partition=0 offset=1183: key=None value={'92': '92'}\n",
      "topic=numtest partition=0 offset=1184: key=None value={'93': '93'}\n",
      "topic=numtest partition=0 offset=1185: key=None value={'94': '94'}\n",
      "topic=numtest partition=0 offset=1186: key=None value={'95': '95'}\n",
      "topic=numtest partition=0 offset=1187: key=None value={'96': '96'}\n",
      "topic=numtest partition=0 offset=1188: key=None value={'97': '97'}\n",
      "topic=numtest partition=0 offset=1189: key=None value={'98': '98'}\n",
      "topic=numtest partition=0 offset=1190: key=None value={'99': '99'}\n",
      "topic=numtest partition=0 offset=1191: key=None value={'0': '0'}\n",
      "topic=numtest partition=0 offset=1192: key=None value={'1': '1'}\n",
      "topic=numtest partition=0 offset=1193: key=None value={'2': '2'}\n",
      "topic=numtest partition=0 offset=1194: key=None value={'3': '3'}\n",
      "topic=numtest partition=0 offset=1195: key=None value={'4': '4'}\n",
      "topic=numtest partition=0 offset=1196: key=None value={'5': '5'}\n",
      "topic=numtest partition=0 offset=1197: key=None value={'6': '6'}\n",
      "topic=numtest partition=0 offset=1198: key=None value={'7': '7'}\n",
      "topic=numtest partition=0 offset=1199: key=None value={'8': '8'}\n",
      "topic=numtest partition=0 offset=1200: key=None value={'9': '9'}\n",
      "topic=numtest partition=0 offset=1201: key=None value={'10': '10'}\n",
      "topic=numtest partition=0 offset=1202: key=None value={'11': '11'}\n",
      "topic=numtest partition=0 offset=1203: key=None value={'12': '12'}\n",
      "topic=numtest partition=0 offset=1204: key=None value={'13': '13'}\n",
      "topic=numtest partition=0 offset=1205: key=None value={'14': '14'}\n",
      "topic=numtest partition=0 offset=1206: key=None value={'15': '15'}\n",
      "topic=numtest partition=0 offset=1207: key=None value={'16': '16'}\n",
      "topic=numtest partition=0 offset=1208: key=None value={'17': '17'}\n",
      "topic=numtest partition=0 offset=1209: key=None value={'18': '18'}\n",
      "topic=numtest partition=0 offset=1210: key=None value={'19': '19'}\n",
      "topic=numtest partition=0 offset=1211: key=None value={'20': '20'}\n",
      "topic=numtest partition=0 offset=1212: key=None value={'21': '21'}\n",
      "topic=numtest partition=0 offset=1213: key=None value={'22': '22'}\n",
      "topic=numtest partition=0 offset=1214: key=None value={'23': '23'}\n",
      "topic=numtest partition=0 offset=1215: key=None value={'24': '24'}\n",
      "topic=numtest partition=0 offset=1216: key=None value={'25': '25'}\n",
      "topic=numtest partition=0 offset=1217: key=None value={'26': '26'}\n",
      "topic=numtest partition=0 offset=1218: key=None value={'27': '27'}\n",
      "topic=numtest partition=0 offset=1219: key=None value={'28': '28'}\n",
      "topic=numtest partition=0 offset=1220: key=None value={'29': '29'}\n",
      "topic=numtest partition=0 offset=1221: key=None value={'30': '30'}\n",
      "topic=numtest partition=0 offset=1222: key=None value={'31': '31'}\n",
      "topic=numtest partition=0 offset=1223: key=None value={'32': '32'}\n",
      "topic=numtest partition=0 offset=1224: key=None value={'33': '33'}\n",
      "topic=numtest partition=0 offset=1225: key=None value={'34': '34'}\n",
      "topic=numtest partition=0 offset=1226: key=None value={'35': '35'}\n",
      "topic=numtest partition=0 offset=1227: key=None value={'36': '36'}\n",
      "topic=numtest partition=0 offset=1228: key=None value={'37': '37'}\n",
      "topic=numtest partition=0 offset=1229: key=None value={'38': '38'}\n",
      "topic=numtest partition=0 offset=1230: key=None value={'39': '39'}\n",
      "topic=numtest partition=0 offset=1231: key=None value={'40': '40'}\n",
      "topic=numtest partition=0 offset=1232: key=None value={'41': '41'}\n",
      "topic=numtest partition=0 offset=1233: key=None value={'42': '42'}\n",
      "topic=numtest partition=0 offset=1234: key=None value={'43': '43'}\n",
      "topic=numtest partition=0 offset=1235: key=None value={'44': '44'}\n",
      "topic=numtest partition=0 offset=1236: key=None value={'45': '45'}\n",
      "topic=numtest partition=0 offset=1237: key=None value={'46': '46'}\n",
      "topic=numtest partition=0 offset=1238: key=None value={'47': '47'}\n",
      "topic=numtest partition=0 offset=1239: key=None value={'48': '48'}\n",
      "topic=numtest partition=0 offset=1240: key=None value={'49': '49'}\n",
      "topic=numtest partition=0 offset=1241: key=None value={'50': '50'}\n",
      "topic=numtest partition=0 offset=1242: key=None value={'51': '51'}\n",
      "topic=numtest partition=0 offset=1243: key=None value={'52': '52'}\n",
      "topic=numtest partition=0 offset=1244: key=None value={'53': '53'}\n",
      "topic=numtest partition=0 offset=1245: key=None value={'54': '54'}\n",
      "topic=numtest partition=0 offset=1246: key=None value={'55': '55'}\n",
      "topic=numtest partition=0 offset=1247: key=None value={'56': '56'}\n",
      "topic=numtest partition=0 offset=1248: key=None value={'57': '57'}\n",
      "topic=numtest partition=0 offset=1249: key=None value={'58': '58'}\n",
      "topic=numtest partition=0 offset=1250: key=None value={'59': '59'}\n",
      "topic=numtest partition=0 offset=1251: key=None value={'60': '60'}\n",
      "topic=numtest partition=0 offset=1252: key=None value={'61': '61'}\n",
      "topic=numtest partition=0 offset=1253: key=None value={'62': '62'}\n",
      "topic=numtest partition=0 offset=1254: key=None value={'63': '63'}\n",
      "topic=numtest partition=0 offset=1255: key=None value={'64': '64'}\n",
      "topic=numtest partition=0 offset=1256: key=None value={'65': '65'}\n",
      "topic=numtest partition=0 offset=1257: key=None value={'66': '66'}\n",
      "topic=numtest partition=0 offset=1258: key=None value={'67': '67'}\n",
      "topic=numtest partition=0 offset=1259: key=None value={'68': '68'}\n",
      "topic=numtest partition=0 offset=1260: key=None value={'69': '69'}\n",
      "topic=numtest partition=0 offset=1261: key=None value={'70': '70'}\n",
      "topic=numtest partition=0 offset=1262: key=None value={'71': '71'}\n",
      "topic=numtest partition=0 offset=1263: key=None value={'72': '72'}\n",
      "topic=numtest partition=0 offset=1264: key=None value={'73': '73'}\n",
      "topic=numtest partition=0 offset=1265: key=None value={'74': '74'}\n",
      "topic=numtest partition=0 offset=1266: key=None value={'75': '75'}\n",
      "topic=numtest partition=0 offset=1267: key=None value={'76': '76'}\n",
      "topic=numtest partition=0 offset=1268: key=None value={'77': '77'}\n",
      "topic=numtest partition=0 offset=1269: key=None value={'78': '78'}\n",
      "topic=numtest partition=0 offset=1270: key=None value={'79': '79'}\n",
      "topic=numtest partition=0 offset=1271: key=None value={'80': '80'}\n",
      "topic=numtest partition=0 offset=1272: key=None value={'81': '81'}\n",
      "topic=numtest partition=0 offset=1273: key=None value={'82': '82'}\n",
      "topic=numtest partition=0 offset=1274: key=None value={'83': '83'}\n",
      "topic=numtest partition=0 offset=1275: key=None value={'84': '84'}\n",
      "topic=numtest partition=0 offset=1276: key=None value={'85': '85'}\n",
      "topic=numtest partition=0 offset=1277: key=None value={'86': '86'}\n",
      "topic=numtest partition=0 offset=1278: key=None value={'87': '87'}\n",
      "topic=numtest partition=0 offset=1279: key=None value={'88': '88'}\n",
      "topic=numtest partition=0 offset=1280: key=None value={'89': '89'}\n",
      "topic=numtest partition=0 offset=1281: key=None value={'90': '90'}\n",
      "topic=numtest partition=0 offset=1282: key=None value={'91': '91'}\n",
      "topic=numtest partition=0 offset=1283: key=None value={'92': '92'}\n",
      "topic=numtest partition=0 offset=1284: key=None value={'93': '93'}\n",
      "topic=numtest partition=0 offset=1285: key=None value={'94': '94'}\n",
      "topic=numtest partition=0 offset=1286: key=None value={'95': '95'}\n",
      "topic=numtest partition=0 offset=1287: key=None value={'96': '96'}\n",
      "topic=numtest partition=0 offset=1288: key=None value={'97': '97'}\n",
      "topic=numtest partition=0 offset=1289: key=None value={'98': '98'}\n",
      "topic=numtest partition=0 offset=1290: key=None value={'99': '99'}\n",
      "topic=numtest partition=0 offset=1291: key=None value={'0': '0'}\n",
      "topic=numtest partition=0 offset=1292: key=None value={'1': '1'}\n",
      "topic=numtest partition=0 offset=1293: key=None value={'2': '2'}\n",
      "topic=numtest partition=0 offset=1294: key=None value={'3': '3'}\n",
      "topic=numtest partition=0 offset=1295: key=None value={'4': '4'}\n",
      "topic=numtest partition=0 offset=1296: key=None value={'5': '5'}\n",
      "topic=numtest partition=0 offset=1297: key=None value={'6': '6'}\n",
      "topic=numtest partition=0 offset=1298: key=None value={'7': '7'}\n",
      "topic=numtest partition=0 offset=1299: key=None value={'8': '8'}\n",
      "topic=numtest partition=0 offset=1300: key=None value={'9': '9'}\n",
      "topic=numtest partition=0 offset=1301: key=None value={'10': '10'}\n",
      "topic=numtest partition=0 offset=1302: key=None value={'11': '11'}\n",
      "topic=numtest partition=0 offset=1303: key=None value={'12': '12'}\n",
      "topic=numtest partition=0 offset=1304: key=None value={'13': '13'}\n",
      "topic=numtest partition=0 offset=1305: key=None value={'14': '14'}\n",
      "topic=numtest partition=0 offset=1306: key=None value={'15': '15'}\n",
      "topic=numtest partition=0 offset=1307: key=None value={'16': '16'}\n",
      "topic=numtest partition=0 offset=1308: key=None value={'17': '17'}\n",
      "topic=numtest partition=0 offset=1309: key=None value={'18': '18'}\n",
      "topic=numtest partition=0 offset=1310: key=None value={'19': '19'}\n",
      "topic=numtest partition=0 offset=1311: key=None value={'20': '20'}\n",
      "topic=numtest partition=0 offset=1312: key=None value={'21': '21'}\n",
      "topic=numtest partition=0 offset=1313: key=None value={'22': '22'}\n",
      "topic=numtest partition=0 offset=1314: key=None value={'23': '23'}\n",
      "topic=numtest partition=0 offset=1315: key=None value={'24': '24'}\n",
      "topic=numtest partition=0 offset=1316: key=None value={'25': '25'}\n",
      "topic=numtest partition=0 offset=1317: key=None value={'26': '26'}\n",
      "topic=numtest partition=0 offset=1318: key=None value={'27': '27'}\n",
      "topic=numtest partition=0 offset=1319: key=None value={'28': '28'}\n",
      "topic=numtest partition=0 offset=1320: key=None value={'29': '29'}\n",
      "topic=numtest partition=0 offset=1321: key=None value={'30': '30'}\n",
      "topic=numtest partition=0 offset=1322: key=None value={'31': '31'}\n",
      "topic=numtest partition=0 offset=1323: key=None value={'32': '32'}\n",
      "topic=numtest partition=0 offset=1324: key=None value={'33': '33'}\n",
      "topic=numtest partition=0 offset=1325: key=None value={'34': '34'}\n",
      "topic=numtest partition=0 offset=1326: key=None value={'35': '35'}\n",
      "topic=numtest partition=0 offset=1327: key=None value={'36': '36'}\n",
      "topic=numtest partition=0 offset=1328: key=None value={'37': '37'}\n",
      "topic=numtest partition=0 offset=1329: key=None value={'38': '38'}\n",
      "topic=numtest partition=0 offset=1330: key=None value={'39': '39'}\n",
      "topic=numtest partition=0 offset=1331: key=None value={'40': '40'}\n",
      "topic=numtest partition=0 offset=1332: key=None value={'41': '41'}\n",
      "topic=numtest partition=0 offset=1333: key=None value={'42': '42'}\n",
      "topic=numtest partition=0 offset=1334: key=None value={'43': '43'}\n",
      "topic=numtest partition=0 offset=1335: key=None value={'44': '44'}\n",
      "topic=numtest partition=0 offset=1336: key=None value={'45': '45'}\n",
      "topic=numtest partition=0 offset=1337: key=None value={'46': '46'}\n",
      "topic=numtest partition=0 offset=1338: key=None value={'47': '47'}\n",
      "topic=numtest partition=0 offset=1339: key=None value={'48': '48'}\n",
      "topic=numtest partition=0 offset=1340: key=None value={'49': '49'}\n",
      "topic=numtest partition=0 offset=1341: key=None value={'50': '50'}\n",
      "topic=numtest partition=0 offset=1342: key=None value={'51': '51'}\n",
      "topic=numtest partition=0 offset=1343: key=None value={'52': '52'}\n",
      "topic=numtest partition=0 offset=1344: key=None value={'53': '53'}\n",
      "topic=numtest partition=0 offset=1345: key=None value={'54': '54'}\n",
      "topic=numtest partition=0 offset=1346: key=None value={'55': '55'}\n",
      "topic=numtest partition=0 offset=1347: key=None value={'56': '56'}\n",
      "topic=numtest partition=0 offset=1348: key=None value={'57': '57'}\n",
      "topic=numtest partition=0 offset=1349: key=None value={'58': '58'}\n",
      "topic=numtest partition=0 offset=1350: key=None value={'59': '59'}\n",
      "topic=numtest partition=0 offset=1351: key=None value={'60': '60'}\n",
      "topic=numtest partition=0 offset=1352: key=None value={'61': '61'}\n",
      "topic=numtest partition=0 offset=1353: key=None value={'62': '62'}\n",
      "topic=numtest partition=0 offset=1354: key=None value={'63': '63'}\n",
      "topic=numtest partition=0 offset=1355: key=None value={'64': '64'}\n",
      "topic=numtest partition=0 offset=1356: key=None value={'65': '65'}\n",
      "topic=numtest partition=0 offset=1357: key=None value={'66': '66'}\n",
      "topic=numtest partition=0 offset=1358: key=None value={'67': '67'}\n",
      "topic=numtest partition=0 offset=1359: key=None value={'68': '68'}\n",
      "topic=numtest partition=0 offset=1360: key=None value={'69': '69'}\n",
      "topic=numtest partition=0 offset=1361: key=None value={'70': '70'}\n",
      "topic=numtest partition=0 offset=1362: key=None value={'71': '71'}\n",
      "topic=numtest partition=0 offset=1363: key=None value={'72': '72'}\n",
      "topic=numtest partition=0 offset=1364: key=None value={'73': '73'}\n",
      "topic=numtest partition=0 offset=1365: key=None value={'74': '74'}\n",
      "topic=numtest partition=0 offset=1366: key=None value={'75': '75'}\n",
      "topic=numtest partition=0 offset=1367: key=None value={'76': '76'}\n",
      "topic=numtest partition=0 offset=1368: key=None value={'77': '77'}\n",
      "topic=numtest partition=0 offset=1369: key=None value={'78': '78'}\n",
      "topic=numtest partition=0 offset=1370: key=None value={'79': '79'}\n",
      "topic=numtest partition=0 offset=1371: key=None value={'80': '80'}\n",
      "topic=numtest partition=0 offset=1372: key=None value={'81': '81'}\n",
      "topic=numtest partition=0 offset=1373: key=None value={'82': '82'}\n",
      "topic=numtest partition=0 offset=1374: key=None value={'83': '83'}\n",
      "topic=numtest partition=0 offset=1375: key=None value={'84': '84'}\n",
      "topic=numtest partition=0 offset=1376: key=None value={'85': '85'}\n",
      "topic=numtest partition=0 offset=1377: key=None value={'86': '86'}\n",
      "topic=numtest partition=0 offset=1378: key=None value={'87': '87'}\n",
      "topic=numtest partition=0 offset=1379: key=None value={'88': '88'}\n",
      "topic=numtest partition=0 offset=1380: key=None value={'89': '89'}\n",
      "topic=numtest partition=0 offset=1381: key=None value={'90': '90'}\n",
      "topic=numtest partition=0 offset=1382: key=None value={'91': '91'}\n",
      "topic=numtest partition=0 offset=1383: key=None value={'92': '92'}\n",
      "topic=numtest partition=0 offset=1384: key=None value={'93': '93'}\n",
      "topic=numtest partition=0 offset=1385: key=None value={'94': '94'}\n",
      "topic=numtest partition=0 offset=1386: key=None value={'95': '95'}\n",
      "topic=numtest partition=0 offset=1387: key=None value={'96': '96'}\n",
      "topic=numtest partition=0 offset=1388: key=None value={'97': '97'}\n",
      "topic=numtest partition=0 offset=1389: key=None value={'98': '98'}\n",
      "topic=numtest partition=0 offset=1390: key=None value={'99': '99'}\n",
      "topic=numtest partition=0 offset=1391: key=None value={'0': '0'}\n",
      "topic=numtest partition=0 offset=1392: key=None value={'1': '1'}\n",
      "topic=numtest partition=0 offset=1393: key=None value={'2': '2'}\n",
      "topic=numtest partition=0 offset=1394: key=None value={'3': '3'}\n",
      "topic=numtest partition=0 offset=1395: key=None value={'4': '4'}\n",
      "topic=numtest partition=0 offset=1396: key=None value={'5': '5'}\n",
      "topic=numtest partition=0 offset=1397: key=None value={'6': '6'}\n",
      "topic=numtest partition=0 offset=1398: key=None value={'7': '7'}\n",
      "topic=numtest partition=0 offset=1399: key=None value={'8': '8'}\n",
      "topic=numtest partition=0 offset=1400: key=None value={'9': '9'}\n",
      "topic=numtest partition=0 offset=1401: key=None value={'10': '10'}\n",
      "topic=numtest partition=0 offset=1402: key=None value={'11': '11'}\n",
      "topic=numtest partition=0 offset=1403: key=None value={'12': '12'}\n",
      "topic=numtest partition=0 offset=1404: key=None value={'13': '13'}\n",
      "topic=numtest partition=0 offset=1405: key=None value={'14': '14'}\n",
      "topic=numtest partition=0 offset=1406: key=None value={'15': '15'}\n",
      "topic=numtest partition=0 offset=1407: key=None value={'16': '16'}\n",
      "topic=numtest partition=0 offset=1408: key=None value={'17': '17'}\n",
      "topic=numtest partition=0 offset=1409: key=None value={'18': '18'}\n",
      "topic=numtest partition=0 offset=1410: key=None value={'19': '19'}\n",
      "topic=numtest partition=0 offset=1411: key=None value={'20': '20'}\n",
      "topic=numtest partition=0 offset=1412: key=None value={'21': '21'}\n",
      "topic=numtest partition=0 offset=1413: key=None value={'22': '22'}\n",
      "topic=numtest partition=0 offset=1414: key=None value={'23': '23'}\n",
      "topic=numtest partition=0 offset=1415: key=None value={'24': '24'}\n",
      "topic=numtest partition=0 offset=1416: key=None value={'25': '25'}\n",
      "topic=numtest partition=0 offset=1417: key=None value={'26': '26'}\n",
      "topic=numtest partition=0 offset=1418: key=None value={'27': '27'}\n",
      "topic=numtest partition=0 offset=1419: key=None value={'28': '28'}\n",
      "topic=numtest partition=0 offset=1420: key=None value={'29': '29'}\n",
      "topic=numtest partition=0 offset=1421: key=None value={'30': '30'}\n",
      "topic=numtest partition=0 offset=1422: key=None value={'31': '31'}\n",
      "topic=numtest partition=0 offset=1423: key=None value={'32': '32'}\n",
      "topic=numtest partition=0 offset=1424: key=None value={'33': '33'}\n",
      "topic=numtest partition=0 offset=1425: key=None value={'34': '34'}\n",
      "topic=numtest partition=0 offset=1426: key=None value={'35': '35'}\n",
      "topic=numtest partition=0 offset=1427: key=None value={'36': '36'}\n",
      "topic=numtest partition=0 offset=1428: key=None value={'37': '37'}\n",
      "topic=numtest partition=0 offset=1429: key=None value={'38': '38'}\n",
      "topic=numtest partition=0 offset=1430: key=None value={'39': '39'}\n",
      "topic=numtest partition=0 offset=1431: key=None value={'40': '40'}\n",
      "topic=numtest partition=0 offset=1432: key=None value={'41': '41'}\n",
      "topic=numtest partition=0 offset=1433: key=None value={'42': '42'}\n",
      "topic=numtest partition=0 offset=1434: key=None value={'43': '43'}\n",
      "topic=numtest partition=0 offset=1435: key=None value={'44': '44'}\n",
      "topic=numtest partition=0 offset=1436: key=None value={'45': '45'}\n",
      "topic=numtest partition=0 offset=1437: key=None value={'46': '46'}\n",
      "topic=numtest partition=0 offset=1438: key=None value={'47': '47'}\n",
      "topic=numtest partition=0 offset=1439: key=None value={'48': '48'}\n",
      "topic=numtest partition=0 offset=1440: key=None value={'49': '49'}\n",
      "topic=numtest partition=0 offset=1441: key=None value={'50': '50'}\n",
      "topic=numtest partition=0 offset=1442: key=None value={'51': '51'}\n",
      "topic=numtest partition=0 offset=1443: key=None value={'52': '52'}\n",
      "topic=numtest partition=0 offset=1444: key=None value={'53': '53'}\n",
      "topic=numtest partition=0 offset=1445: key=None value={'54': '54'}\n",
      "topic=numtest partition=0 offset=1446: key=None value={'55': '55'}\n",
      "topic=numtest partition=0 offset=1447: key=None value={'56': '56'}\n",
      "topic=numtest partition=0 offset=1448: key=None value={'57': '57'}\n",
      "topic=numtest partition=0 offset=1449: key=None value={'58': '58'}\n",
      "topic=numtest partition=0 offset=1450: key=None value={'59': '59'}\n",
      "topic=numtest partition=0 offset=1451: key=None value={'60': '60'}\n",
      "topic=numtest partition=0 offset=1452: key=None value={'61': '61'}\n",
      "topic=numtest partition=0 offset=1453: key=None value={'62': '62'}\n",
      "topic=numtest partition=0 offset=1454: key=None value={'63': '63'}\n",
      "topic=numtest partition=0 offset=1455: key=None value={'64': '64'}\n",
      "topic=numtest partition=0 offset=1456: key=None value={'65': '65'}\n",
      "topic=numtest partition=0 offset=1457: key=None value={'66': '66'}\n",
      "topic=numtest partition=0 offset=1458: key=None value={'67': '67'}\n",
      "topic=numtest partition=0 offset=1459: key=None value={'68': '68'}\n",
      "topic=numtest partition=0 offset=1460: key=None value={'69': '69'}\n",
      "topic=numtest partition=0 offset=1461: key=None value={'70': '70'}\n",
      "topic=numtest partition=0 offset=1462: key=None value={'71': '71'}\n",
      "topic=numtest partition=0 offset=1463: key=None value={'72': '72'}\n",
      "topic=numtest partition=0 offset=1464: key=None value={'73': '73'}\n",
      "topic=numtest partition=0 offset=1465: key=None value={'74': '74'}\n",
      "topic=numtest partition=0 offset=1466: key=None value={'75': '75'}\n",
      "topic=numtest partition=0 offset=1467: key=None value={'76': '76'}\n",
      "topic=numtest partition=0 offset=1468: key=None value={'77': '77'}\n",
      "topic=numtest partition=0 offset=1469: key=None value={'78': '78'}\n",
      "topic=numtest partition=0 offset=1470: key=None value={'79': '79'}\n",
      "topic=numtest partition=0 offset=1471: key=None value={'80': '80'}\n",
      "topic=numtest partition=0 offset=1472: key=None value={'81': '81'}\n",
      "topic=numtest partition=0 offset=1473: key=None value={'82': '82'}\n",
      "topic=numtest partition=0 offset=1474: key=None value={'83': '83'}\n",
      "topic=numtest partition=0 offset=1475: key=None value={'84': '84'}\n",
      "topic=numtest partition=0 offset=1476: key=None value={'85': '85'}\n",
      "topic=numtest partition=0 offset=1477: key=None value={'86': '86'}\n",
      "topic=numtest partition=0 offset=1478: key=None value={'87': '87'}\n",
      "topic=numtest partition=0 offset=1479: key=None value={'88': '88'}\n",
      "topic=numtest partition=0 offset=1480: key=None value={'89': '89'}\n",
      "topic=numtest partition=0 offset=1481: key=None value={'90': '90'}\n",
      "topic=numtest partition=0 offset=1482: key=None value={'91': '91'}\n",
      "topic=numtest partition=0 offset=1483: key=None value={'92': '92'}\n",
      "topic=numtest partition=0 offset=1484: key=None value={'93': '93'}\n",
      "topic=numtest partition=0 offset=1485: key=None value={'94': '94'}\n",
      "topic=numtest partition=0 offset=1486: key=None value={'95': '95'}\n",
      "topic=numtest partition=0 offset=1487: key=None value={'96': '96'}\n",
      "topic=numtest partition=0 offset=1488: key=None value={'97': '97'}\n",
      "topic=numtest partition=0 offset=1489: key=None value={'98': '98'}\n",
      "topic=numtest partition=0 offset=1490: key=None value={'99': '99'}\n",
      "topic=numtest partition=0 offset=1491: key=None value={'0': '0'}\n",
      "topic=numtest partition=0 offset=1492: key=None value={'1': '1'}\n",
      "topic=numtest partition=0 offset=1493: key=None value={'2': '2'}\n",
      "topic=numtest partition=0 offset=1494: key=None value={'3': '3'}\n",
      "topic=numtest partition=0 offset=1495: key=None value={'4': '4'}\n",
      "topic=numtest partition=0 offset=1496: key=None value={'5': '5'}\n",
      "topic=numtest partition=0 offset=1497: key=None value={'6': '6'}\n",
      "topic=numtest partition=0 offset=1498: key=None value={'7': '7'}\n",
      "topic=numtest partition=0 offset=1499: key=None value={'8': '8'}\n",
      "topic=numtest partition=0 offset=1500: key=None value={'9': '9'}\n",
      "topic=numtest partition=0 offset=1501: key=None value={'10': '10'}\n",
      "topic=numtest partition=0 offset=1502: key=None value={'11': '11'}\n",
      "topic=numtest partition=0 offset=1503: key=None value={'12': '12'}\n",
      "topic=numtest partition=0 offset=1504: key=None value={'13': '13'}\n",
      "topic=numtest partition=0 offset=1505: key=None value={'14': '14'}\n",
      "topic=numtest partition=0 offset=1506: key=None value={'15': '15'}\n",
      "topic=numtest partition=0 offset=1507: key=None value={'16': '16'}\n",
      "topic=numtest partition=0 offset=1508: key=None value={'17': '17'}\n",
      "topic=numtest partition=0 offset=1509: key=None value={'18': '18'}\n",
      "topic=numtest partition=0 offset=1510: key=None value={'19': '19'}\n",
      "topic=numtest partition=0 offset=1511: key=None value={'20': '20'}\n",
      "topic=numtest partition=0 offset=1512: key=None value={'21': '21'}\n",
      "topic=numtest partition=0 offset=1513: key=None value={'22': '22'}\n",
      "topic=numtest partition=0 offset=1514: key=None value={'23': '23'}\n",
      "topic=numtest partition=0 offset=1515: key=None value={'24': '24'}\n",
      "topic=numtest partition=0 offset=1516: key=None value={'25': '25'}\n",
      "topic=numtest partition=0 offset=1517: key=None value={'26': '26'}\n",
      "topic=numtest partition=0 offset=1518: key=None value={'27': '27'}\n",
      "topic=numtest partition=0 offset=1519: key=None value={'28': '28'}\n",
      "topic=numtest partition=0 offset=1520: key=None value={'29': '29'}\n",
      "topic=numtest partition=0 offset=1521: key=None value={'30': '30'}\n",
      "topic=numtest partition=0 offset=1522: key=None value={'31': '31'}\n",
      "topic=numtest partition=0 offset=1523: key=None value={'32': '32'}\n",
      "topic=numtest partition=0 offset=1524: key=None value={'33': '33'}\n",
      "topic=numtest partition=0 offset=1525: key=None value={'34': '34'}\n",
      "topic=numtest partition=0 offset=1526: key=None value={'35': '35'}\n",
      "topic=numtest partition=0 offset=1527: key=None value={'36': '36'}\n",
      "topic=numtest partition=0 offset=1528: key=None value={'37': '37'}\n",
      "topic=numtest partition=0 offset=1529: key=None value={'38': '38'}\n",
      "topic=numtest partition=0 offset=1530: key=None value={'39': '39'}\n",
      "topic=numtest partition=0 offset=1531: key=None value={'40': '40'}\n",
      "topic=numtest partition=0 offset=1532: key=None value={'41': '41'}\n",
      "topic=numtest partition=0 offset=1533: key=None value={'42': '42'}\n",
      "topic=numtest partition=0 offset=1534: key=None value={'43': '43'}\n",
      "topic=numtest partition=0 offset=1535: key=None value={'44': '44'}\n",
      "topic=numtest partition=0 offset=1536: key=None value={'45': '45'}\n",
      "topic=numtest partition=0 offset=1537: key=None value={'46': '46'}\n",
      "topic=numtest partition=0 offset=1538: key=None value={'47': '47'}\n",
      "topic=numtest partition=0 offset=1539: key=None value={'48': '48'}\n",
      "topic=numtest partition=0 offset=1540: key=None value={'49': '49'}\n",
      "topic=numtest partition=0 offset=1541: key=None value={'50': '50'}\n",
      "topic=numtest partition=0 offset=1542: key=None value={'51': '51'}\n",
      "topic=numtest partition=0 offset=1543: key=None value={'52': '52'}\n",
      "topic=numtest partition=0 offset=1544: key=None value={'53': '53'}\n",
      "topic=numtest partition=0 offset=1545: key=None value={'54': '54'}\n",
      "topic=numtest partition=0 offset=1546: key=None value={'55': '55'}\n",
      "topic=numtest partition=0 offset=1547: key=None value={'56': '56'}\n",
      "topic=numtest partition=0 offset=1548: key=None value={'57': '57'}\n",
      "topic=numtest partition=0 offset=1549: key=None value={'58': '58'}\n",
      "topic=numtest partition=0 offset=1550: key=None value={'59': '59'}\n",
      "topic=numtest partition=0 offset=1551: key=None value={'60': '60'}\n",
      "topic=numtest partition=0 offset=1552: key=None value={'61': '61'}\n",
      "topic=numtest partition=0 offset=1553: key=None value={'62': '62'}\n",
      "topic=numtest partition=0 offset=1554: key=None value={'63': '63'}\n",
      "topic=numtest partition=0 offset=1555: key=None value={'64': '64'}\n",
      "topic=numtest partition=0 offset=1556: key=None value={'65': '65'}\n",
      "topic=numtest partition=0 offset=1557: key=None value={'66': '66'}\n",
      "topic=numtest partition=0 offset=1558: key=None value={'67': '67'}\n",
      "topic=numtest partition=0 offset=1559: key=None value={'68': '68'}\n",
      "topic=numtest partition=0 offset=1560: key=None value={'69': '69'}\n",
      "topic=numtest partition=0 offset=1561: key=None value={'70': '70'}\n",
      "topic=numtest partition=0 offset=1562: key=None value={'71': '71'}\n",
      "topic=numtest partition=0 offset=1563: key=None value={'72': '72'}\n",
      "topic=numtest partition=0 offset=1564: key=None value={'73': '73'}\n",
      "topic=numtest partition=0 offset=1565: key=None value={'74': '74'}\n",
      "topic=numtest partition=0 offset=1566: key=None value={'75': '75'}\n",
      "topic=numtest partition=0 offset=1567: key=None value={'76': '76'}\n",
      "topic=numtest partition=0 offset=1568: key=None value={'77': '77'}\n",
      "topic=numtest partition=0 offset=1569: key=None value={'78': '78'}\n",
      "topic=numtest partition=0 offset=1570: key=None value={'79': '79'}\n",
      "topic=numtest partition=0 offset=1571: key=None value={'80': '80'}\n",
      "topic=numtest partition=0 offset=1572: key=None value={'81': '81'}\n",
      "topic=numtest partition=0 offset=1573: key=None value={'82': '82'}\n",
      "topic=numtest partition=0 offset=1574: key=None value={'83': '83'}\n",
      "topic=numtest partition=0 offset=1575: key=None value={'84': '84'}\n",
      "topic=numtest partition=0 offset=1576: key=None value={'85': '85'}\n",
      "topic=numtest partition=0 offset=1577: key=None value={'86': '86'}\n",
      "topic=numtest partition=0 offset=1578: key=None value={'87': '87'}\n",
      "topic=numtest partition=0 offset=1579: key=None value={'88': '88'}\n",
      "topic=numtest partition=0 offset=1580: key=None value={'89': '89'}\n",
      "topic=numtest partition=0 offset=1581: key=None value={'90': '90'}\n",
      "topic=numtest partition=0 offset=1582: key=None value={'91': '91'}\n",
      "topic=numtest partition=0 offset=1583: key=None value={'92': '92'}\n",
      "topic=numtest partition=0 offset=1584: key=None value={'93': '93'}\n",
      "topic=numtest partition=0 offset=1585: key=None value={'94': '94'}\n",
      "topic=numtest partition=0 offset=1586: key=None value={'95': '95'}\n",
      "topic=numtest partition=0 offset=1587: key=None value={'96': '96'}\n",
      "topic=numtest partition=0 offset=1588: key=None value={'97': '97'}\n",
      "topic=numtest partition=0 offset=1589: key=None value={'98': '98'}\n",
      "topic=numtest partition=0 offset=1590: key=None value={'99': '99'}\n",
      "topic=numtest partition=0 offset=1591: key=None value={'0': '0'}\n",
      "topic=numtest partition=0 offset=1592: key=None value={'1': '1'}\n",
      "topic=numtest partition=0 offset=1593: key=None value={'2': '2'}\n",
      "topic=numtest partition=0 offset=1594: key=None value={'3': '3'}\n",
      "topic=numtest partition=0 offset=1595: key=None value={'4': '4'}\n",
      "topic=numtest partition=0 offset=1596: key=None value={'5': '5'}\n",
      "topic=numtest partition=0 offset=1597: key=None value={'6': '6'}\n",
      "topic=numtest partition=0 offset=1598: key=None value={'7': '7'}\n",
      "topic=numtest partition=0 offset=1599: key=None value={'8': '8'}\n",
      "topic=numtest partition=0 offset=1600: key=None value={'9': '9'}\n",
      "topic=numtest partition=0 offset=1601: key=None value={'10': '10'}\n",
      "topic=numtest partition=0 offset=1602: key=None value={'11': '11'}\n",
      "topic=numtest partition=0 offset=1603: key=None value={'12': '12'}\n",
      "topic=numtest partition=0 offset=1604: key=None value={'13': '13'}\n",
      "topic=numtest partition=0 offset=1605: key=None value={'14': '14'}\n",
      "topic=numtest partition=0 offset=1606: key=None value={'15': '15'}\n",
      "topic=numtest partition=0 offset=1607: key=None value={'16': '16'}\n",
      "topic=numtest partition=0 offset=1608: key=None value={'17': '17'}\n",
      "topic=numtest partition=0 offset=1609: key=None value={'18': '18'}\n",
      "topic=numtest partition=0 offset=1610: key=None value={'19': '19'}\n",
      "topic=numtest partition=0 offset=1611: key=None value={'20': '20'}\n",
      "topic=numtest partition=0 offset=1612: key=None value={'21': '21'}\n",
      "topic=numtest partition=0 offset=1613: key=None value={'22': '22'}\n",
      "topic=numtest partition=0 offset=1614: key=None value={'23': '23'}\n",
      "topic=numtest partition=0 offset=1615: key=None value={'24': '24'}\n",
      "topic=numtest partition=0 offset=1616: key=None value={'25': '25'}\n",
      "topic=numtest partition=0 offset=1617: key=None value={'26': '26'}\n",
      "topic=numtest partition=0 offset=1618: key=None value={'27': '27'}\n",
      "topic=numtest partition=0 offset=1619: key=None value={'28': '28'}\n",
      "topic=numtest partition=0 offset=1620: key=None value={'29': '29'}\n",
      "topic=numtest partition=0 offset=1621: key=None value={'30': '30'}\n",
      "topic=numtest partition=0 offset=1622: key=None value={'31': '31'}\n",
      "topic=numtest partition=0 offset=1623: key=None value={'32': '32'}\n",
      "topic=numtest partition=0 offset=1624: key=None value={'33': '33'}\n",
      "topic=numtest partition=0 offset=1625: key=None value={'34': '34'}\n",
      "topic=numtest partition=0 offset=1626: key=None value={'35': '35'}\n",
      "topic=numtest partition=0 offset=1627: key=None value={'36': '36'}\n",
      "topic=numtest partition=0 offset=1628: key=None value={'37': '37'}\n",
      "topic=numtest partition=0 offset=1629: key=None value={'38': '38'}\n",
      "topic=numtest partition=0 offset=1630: key=None value={'39': '39'}\n",
      "topic=numtest partition=0 offset=1631: key=None value={'40': '40'}\n",
      "topic=numtest partition=0 offset=1632: key=None value={'41': '41'}\n",
      "topic=numtest partition=0 offset=1633: key=None value={'42': '42'}\n",
      "topic=numtest partition=0 offset=1634: key=None value={'43': '43'}\n",
      "topic=numtest partition=0 offset=1635: key=None value={'44': '44'}\n",
      "topic=numtest partition=0 offset=1636: key=None value={'45': '45'}\n",
      "topic=numtest partition=0 offset=1637: key=None value={'46': '46'}\n",
      "topic=numtest partition=0 offset=1638: key=None value={'47': '47'}\n",
      "topic=numtest partition=0 offset=1639: key=None value={'48': '48'}\n",
      "topic=numtest partition=0 offset=1640: key=None value={'49': '49'}\n",
      "topic=numtest partition=0 offset=1641: key=None value={'50': '50'}\n",
      "topic=numtest partition=0 offset=1642: key=None value={'51': '51'}\n",
      "topic=numtest partition=0 offset=1643: key=None value={'52': '52'}\n",
      "topic=numtest partition=0 offset=1644: key=None value={'53': '53'}\n",
      "topic=numtest partition=0 offset=1645: key=None value={'54': '54'}\n",
      "topic=numtest partition=0 offset=1646: key=None value={'55': '55'}\n",
      "topic=numtest partition=0 offset=1647: key=None value={'56': '56'}\n",
      "topic=numtest partition=0 offset=1648: key=None value={'57': '57'}\n",
      "topic=numtest partition=0 offset=1649: key=None value={'58': '58'}\n",
      "topic=numtest partition=0 offset=1650: key=None value={'59': '59'}\n",
      "topic=numtest partition=0 offset=1651: key=None value={'60': '60'}\n",
      "topic=numtest partition=0 offset=1652: key=None value={'61': '61'}\n",
      "topic=numtest partition=0 offset=1653: key=None value={'62': '62'}\n",
      "topic=numtest partition=0 offset=1654: key=None value={'63': '63'}\n",
      "topic=numtest partition=0 offset=1655: key=None value={'64': '64'}\n",
      "topic=numtest partition=0 offset=1656: key=None value={'65': '65'}\n",
      "topic=numtest partition=0 offset=1657: key=None value={'66': '66'}\n",
      "topic=numtest partition=0 offset=1658: key=None value={'67': '67'}\n",
      "topic=numtest partition=0 offset=1659: key=None value={'68': '68'}\n",
      "topic=numtest partition=0 offset=1660: key=None value={'69': '69'}\n",
      "topic=numtest partition=0 offset=1661: key=None value={'70': '70'}\n",
      "topic=numtest partition=0 offset=1662: key=None value={'71': '71'}\n",
      "topic=numtest partition=0 offset=1663: key=None value={'72': '72'}\n",
      "topic=numtest partition=0 offset=1664: key=None value={'73': '73'}\n",
      "topic=numtest partition=0 offset=1665: key=None value={'74': '74'}\n",
      "topic=numtest partition=0 offset=1666: key=None value={'75': '75'}\n",
      "topic=numtest partition=0 offset=1667: key=None value={'76': '76'}\n",
      "topic=numtest partition=0 offset=1668: key=None value={'77': '77'}\n",
      "topic=numtest partition=0 offset=1669: key=None value={'78': '78'}\n",
      "topic=numtest partition=0 offset=1670: key=None value={'79': '79'}\n",
      "topic=numtest partition=0 offset=1671: key=None value={'80': '80'}\n",
      "topic=numtest partition=0 offset=1672: key=None value={'81': '81'}\n",
      "topic=numtest partition=0 offset=1673: key=None value={'82': '82'}\n",
      "topic=numtest partition=0 offset=1674: key=None value={'83': '83'}\n",
      "topic=numtest partition=0 offset=1675: key=None value={'84': '84'}\n",
      "topic=numtest partition=0 offset=1676: key=None value={'85': '85'}\n",
      "topic=numtest partition=0 offset=1677: key=None value={'86': '86'}\n",
      "topic=numtest partition=0 offset=1678: key=None value={'87': '87'}\n",
      "topic=numtest partition=0 offset=1679: key=None value={'88': '88'}\n",
      "topic=numtest partition=0 offset=1680: key=None value={'89': '89'}\n",
      "topic=numtest partition=0 offset=1681: key=None value={'90': '90'}\n"
     ]
    },
    {
     "name": "stdout",
     "output_type": "stream",
     "text": [
      "topic=numtest partition=0 offset=1682: key=None value={'91': '91'}\n",
      "topic=numtest partition=0 offset=1683: key=None value={'92': '92'}\n",
      "topic=numtest partition=0 offset=1684: key=None value={'93': '93'}\n",
      "topic=numtest partition=0 offset=1685: key=None value={'94': '94'}\n",
      "topic=numtest partition=0 offset=1686: key=None value={'95': '95'}\n",
      "topic=numtest partition=0 offset=1687: key=None value={'96': '96'}\n",
      "topic=numtest partition=0 offset=1688: key=None value={'97': '97'}\n",
      "topic=numtest partition=0 offset=1689: key=None value={'98': '98'}\n",
      "topic=numtest partition=0 offset=1690: key=None value={'99': '99'}\n",
      "topic=numtest partition=0 offset=1691: key=None value={'0': '0'}\n",
      "topic=numtest partition=0 offset=1692: key=None value={'1': '1'}\n",
      "topic=numtest partition=0 offset=1693: key=None value={'2': '2'}\n",
      "topic=numtest partition=0 offset=1694: key=None value={'3': '3'}\n",
      "topic=numtest partition=0 offset=1695: key=None value={'4': '4'}\n",
      "topic=numtest partition=0 offset=1696: key=None value={'5': '5'}\n",
      "topic=numtest partition=0 offset=1697: key=None value={'6': '6'}\n",
      "topic=numtest partition=0 offset=1698: key=None value={'7': '7'}\n",
      "topic=numtest partition=0 offset=1699: key=None value={'8': '8'}\n",
      "topic=numtest partition=0 offset=1700: key=None value={'9': '9'}\n",
      "topic=numtest partition=0 offset=1701: key=None value={'10': '10'}\n",
      "topic=numtest partition=0 offset=1702: key=None value={'11': '11'}\n",
      "topic=numtest partition=0 offset=1703: key=None value={'12': '12'}\n",
      "topic=numtest partition=0 offset=1704: key=None value={'13': '13'}\n",
      "topic=numtest partition=0 offset=1705: key=None value={'14': '14'}\n",
      "topic=numtest partition=0 offset=1706: key=None value={'15': '15'}\n",
      "topic=numtest partition=0 offset=1707: key=None value={'16': '16'}\n",
      "topic=numtest partition=0 offset=1708: key=None value={'17': '17'}\n",
      "topic=numtest partition=0 offset=1709: key=None value={'18': '18'}\n",
      "topic=numtest partition=0 offset=1710: key=None value={'19': '19'}\n",
      "topic=numtest partition=0 offset=1711: key=None value={'20': '20'}\n",
      "topic=numtest partition=0 offset=1712: key=None value={'21': '21'}\n",
      "topic=numtest partition=0 offset=1713: key=None value={'22': '22'}\n",
      "topic=numtest partition=0 offset=1714: key=None value={'23': '23'}\n",
      "topic=numtest partition=0 offset=1715: key=None value={'24': '24'}\n",
      "topic=numtest partition=0 offset=1716: key=None value={'25': '25'}\n",
      "topic=numtest partition=0 offset=1717: key=None value={'26': '26'}\n",
      "topic=numtest partition=0 offset=1718: key=None value={'27': '27'}\n",
      "topic=numtest partition=0 offset=1719: key=None value={'28': '28'}\n",
      "topic=numtest partition=0 offset=1720: key=None value={'29': '29'}\n",
      "topic=numtest partition=0 offset=1721: key=None value={'30': '30'}\n",
      "topic=numtest partition=0 offset=1722: key=None value={'31': '31'}\n",
      "topic=numtest partition=0 offset=1723: key=None value={'32': '32'}\n",
      "topic=numtest partition=0 offset=1724: key=None value={'33': '33'}\n",
      "topic=numtest partition=0 offset=1725: key=None value={'34': '34'}\n",
      "topic=numtest partition=0 offset=1726: key=None value={'35': '35'}\n",
      "topic=numtest partition=0 offset=1727: key=None value={'36': '36'}\n",
      "topic=numtest partition=0 offset=1728: key=None value={'37': '37'}\n",
      "topic=numtest partition=0 offset=1729: key=None value={'38': '38'}\n",
      "topic=numtest partition=0 offset=1730: key=None value={'39': '39'}\n",
      "topic=numtest partition=0 offset=1731: key=None value={'40': '40'}\n",
      "topic=numtest partition=0 offset=1732: key=None value={'41': '41'}\n",
      "topic=numtest partition=0 offset=1733: key=None value={'42': '42'}\n",
      "topic=numtest partition=0 offset=1734: key=None value={'43': '43'}\n",
      "topic=numtest partition=0 offset=1735: key=None value={'44': '44'}\n",
      "topic=numtest partition=0 offset=1736: key=None value={'45': '45'}\n",
      "topic=numtest partition=0 offset=1737: key=None value={'46': '46'}\n",
      "topic=numtest partition=0 offset=1738: key=None value={'47': '47'}\n",
      "topic=numtest partition=0 offset=1739: key=None value={'48': '48'}\n",
      "topic=numtest partition=0 offset=1740: key=None value={'49': '49'}\n",
      "topic=numtest partition=0 offset=1741: key=None value={'50': '50'}\n",
      "topic=numtest partition=0 offset=1742: key=None value={'51': '51'}\n",
      "topic=numtest partition=0 offset=1743: key=None value={'52': '52'}\n",
      "topic=numtest partition=0 offset=1744: key=None value={'53': '53'}\n",
      "topic=numtest partition=0 offset=1745: key=None value={'54': '54'}\n",
      "topic=numtest partition=0 offset=1746: key=None value={'55': '55'}\n",
      "topic=numtest partition=0 offset=1747: key=None value={'56': '56'}\n",
      "topic=numtest partition=0 offset=1748: key=None value={'57': '57'}\n",
      "topic=numtest partition=0 offset=1749: key=None value={'58': '58'}\n",
      "topic=numtest partition=0 offset=1750: key=None value={'59': '59'}\n",
      "topic=numtest partition=0 offset=1751: key=None value={'60': '60'}\n",
      "topic=numtest partition=0 offset=1752: key=None value={'61': '61'}\n",
      "topic=numtest partition=0 offset=1753: key=None value={'62': '62'}\n",
      "topic=numtest partition=0 offset=1754: key=None value={'63': '63'}\n",
      "topic=numtest partition=0 offset=1755: key=None value={'64': '64'}\n",
      "topic=numtest partition=0 offset=1756: key=None value={'65': '65'}\n",
      "topic=numtest partition=0 offset=1757: key=None value={'66': '66'}\n",
      "topic=numtest partition=0 offset=1758: key=None value={'67': '67'}\n",
      "topic=numtest partition=0 offset=1759: key=None value={'68': '68'}\n",
      "topic=numtest partition=0 offset=1760: key=None value={'69': '69'}\n",
      "topic=numtest partition=0 offset=1761: key=None value={'70': '70'}\n",
      "topic=numtest partition=0 offset=1762: key=None value={'71': '71'}\n",
      "topic=numtest partition=0 offset=1763: key=None value={'72': '72'}\n",
      "topic=numtest partition=0 offset=1764: key=None value={'73': '73'}\n",
      "topic=numtest partition=0 offset=1765: key=None value={'74': '74'}\n",
      "topic=numtest partition=0 offset=1766: key=None value={'75': '75'}\n",
      "topic=numtest partition=0 offset=1767: key=None value={'76': '76'}\n",
      "topic=numtest partition=0 offset=1768: key=None value={'77': '77'}\n",
      "topic=numtest partition=0 offset=1769: key=None value={'78': '78'}\n",
      "topic=numtest partition=0 offset=1770: key=None value={'79': '79'}\n",
      "topic=numtest partition=0 offset=1771: key=None value={'80': '80'}\n",
      "topic=numtest partition=0 offset=1772: key=None value={'81': '81'}\n",
      "topic=numtest partition=0 offset=1773: key=None value={'82': '82'}\n",
      "topic=numtest partition=0 offset=1774: key=None value={'83': '83'}\n",
      "topic=numtest partition=0 offset=1775: key=None value={'84': '84'}\n",
      "topic=numtest partition=0 offset=1776: key=None value={'85': '85'}\n",
      "topic=numtest partition=0 offset=1777: key=None value={'86': '86'}\n",
      "topic=numtest partition=0 offset=1778: key=None value={'87': '87'}\n",
      "topic=numtest partition=0 offset=1779: key=None value={'88': '88'}\n",
      "topic=numtest partition=0 offset=1780: key=None value={'89': '89'}\n",
      "topic=numtest partition=0 offset=1781: key=None value={'90': '90'}\n",
      "topic=numtest partition=0 offset=1782: key=None value={'91': '91'}\n",
      "topic=numtest partition=0 offset=1783: key=None value={'92': '92'}\n",
      "topic=numtest partition=0 offset=1784: key=None value={'93': '93'}\n",
      "topic=numtest partition=0 offset=1785: key=None value={'94': '94'}\n",
      "topic=numtest partition=0 offset=1786: key=None value={'95': '95'}\n",
      "topic=numtest partition=0 offset=1787: key=None value={'96': '96'}\n",
      "topic=numtest partition=0 offset=1788: key=None value={'97': '97'}\n",
      "topic=numtest partition=0 offset=1789: key=None value={'98': '98'}\n",
      "topic=numtest partition=0 offset=1790: key=None value={'99': '99'}\n"
     ]
    }
   ],
   "source": [
    "for message in consumer:\n",
    "    print (\"topic=%s partition=%d offset=%d: key=%s value=%s\" % (message.topic, message.partition,\n",
    "                                          message.offset, message.key,\n",
    "                                          message.value))"
   ]
  },
  {
   "cell_type": "markdown",
   "metadata": {},
   "source": [
    "## MultiConsumer\n",
    "\n",
    "\n",
    "*  https://kafka-python.readthedocs.io/en/master/usage.html\n"
   ]
  },
  {
   "cell_type": "markdown",
   "metadata": {},
   "source": [
    "## https://stackoverflow.com/questions/46491616/python-kafka-multiprocess-vs-thread"
   ]
  },
  {
   "cell_type": "code",
   "execution_count": 67,
   "metadata": {},
   "outputs": [],
   "source": [
    "from kafka import KafkaConsumer\n",
    "from json import loads\n",
    "class KafkaWrapper():\n",
    "    def __init__(self , group):\n",
    "        self.consumer = KafkaConsumer(bootstrap_servers=['localhost:9092'],\n",
    "                                      group_id= group ,\n",
    "                                      value_deserializer=lambda x: loads(x.decode('utf-8')))\n",
    "    def consume(self, topic):\n",
    "        self.consumer.subscribe(topic)\n",
    "        for message in self.consumer:\n",
    "            print (\"topic=%s partition=%d offset=%d: key=%s value=%s\" % (message.topic, message.partition,\n",
    "                                          message.offset, message.key,\n",
    "                                          message.value))\n",
    "            \n",
    "class ServiceInterface():\n",
    "    def __init__(self):\n",
    "        self.kafka_wrapper = KafkaWrapper()\n",
    "\n",
    "    def start(self, topic):\n",
    "        self.kafka_wrapper.consume(topic)\n",
    "class ServiceA(ServiceInterface):\n",
    "    pass\n",
    "\n",
    "class ServiceB(ServiceInterface):\n",
    "    pass"
   ]
  },
  {
   "cell_type": "code",
   "execution_count": 68,
   "metadata": {},
   "outputs": [
    {
     "name": "stdout",
     "output_type": "stream",
     "text": [
      "topic=numtest partition=0 offset=2391: key=None value={'number': '-1.1721794412232729,-2.8434495303559766,-2.4780186666432678,-0.15353940368527141,3.7994969095373134,-1.26741467501264,3.2932817431063284'}\n",
      "topic=numtest partition=0 offset=2392: key=None value={'number': '2.418759111661469,-0.3053797910655847,0.6390188987519233,-0.252476595449088,1.2542857296649408,-0.11087191221842442,-1.284581100475891'}\n",
      "topic=numtest partition=0 offset=2393: key=None value={'number': '-1.2999215339990704,-2.580674200808202,0.3905496713901315,0.47006115668818377,-0.8156885876419141,-1.120137014602392,-3.7723102557034527'}\n",
      "topic=numtest partition=0 offset=2394: key=None value={'number': '-0.9719979764803452,1.1950085106031594,4.1224773705678155,1.4080074000057887,-0.06689012411011727,0.8529028058895654,-2.1047258897081313'}\n",
      "topic=numtest partition=0 offset=2395: key=None value={'number': '0.5524914294671762,0.3809049442255284,-6.858426751037779,2.7185068729340096,3.7818593937807323,0.9129708056103354,4.601458593041477'}\n",
      "topic=numtest partition=0 offset=2396: key=None value={'number': '1.0749211857966978,2.3832391085981897,-2.2530584323253544,0.4879224007638018,0.3319439688576831,2.8691431641605405,-0.7806534190661966'}\n",
      "topic=numtest partition=0 offset=2397: key=None value={'number': '-2.1069467318338853,-0.662481791186488,-4.195673128620066,-2.8085979859181407,-2.6527884407134734,-1.2923203963646681,0.07783642929928056'}\n",
      "topic=numtest partition=0 offset=2398: key=None value={'number': '0.4835618326632068,0.630020678877483,3.66351464786785,0.040062156297118706,0.21207261226383628,1.4827443102475375,-2.100583867019073'}\n",
      "topic=numtest partition=0 offset=2399: key=None value={'number': '-4.489193590280147,0.024505693350872805,-1.3588532225821823,1.1071685097939343,4.082225785711167,0.06802852749965566,3.179989736111769'}\n",
      "topic=numtest partition=0 offset=2400: key=None value={'number': '-0.2835692565225846,-4.672914762755546,-1.0914569383962054,-1.5609998208903502,2.2676787014377653,-1.2512332343440222,1.5834198837640017'}\n",
      "topic=numtest partition=0 offset=2401: key=None value={'number': '1.2333900885775555,-3.043053824537577,0.2483659148294558,0.8120398672307726,-1.0270693810211349,-1.5173197809515202,-0.25102148064670116'}\n",
      "topic=numtest partition=0 offset=2402: key=None value={'number': '0.13211107003753308,1.0916210016669219,-2.982721385956293,1.844290175472803,-0.2760695221887943,1.7013891575926583,0.7436220798762384'}\n",
      "topic=numtest partition=0 offset=2403: key=None value={'number': '-1.0595159649046109,2.193012171673385,1.0804144368998736,1.0077588795781847,-2.2078679262428818,-0.3547028179622906,-1.8644075287486424'}\n",
      "topic=numtest partition=0 offset=2404: key=None value={'number': '-2.3243794104747604,3.3034342546441873,-2.4259970000624134,-1.0870165775946425,0.9408272708297434,1.198415283956743,2.31358594767956'}\n",
      "topic=numtest partition=0 offset=2405: key=None value={'number': '0.8524264140652102,2.4819521112724225,0.5584500903783708,0.08953042505156295,-2.9586720329593126,2.018610536736091,0.6236286183845899'}\n",
      "topic=numtest partition=0 offset=2406: key=None value={'number': '-0.5630909972593268,-1.0275960365795445,1.8767129932912658,4.1883854073477975,-1.437860857982211,-1.8525562638030797,-2.8825225746442737'}\n",
      "topic=numtest partition=0 offset=2407: key=None value={'number': '-1.8317142551374423,1.3594773480133064,-0.4763499555113978,-1.9064984952051633,-0.39609237250627033,-0.568168617116418,-0.7329974058129566'}\n",
      "topic=numtest partition=0 offset=2408: key=None value={'number': '2.3713022742941603,1.5370867156210504,1.5559028804099677,0.04439831831421823,1.4439292785193623,-0.9513543006540273,0.8191408366875753'}\n",
      "topic=numtest partition=0 offset=2409: key=None value={'number': '-0.45764949121877135,-1.4014527695758003,1.7576823342769854,0.7620937296974277,-0.6815662531592082,0.23689602036507912,-1.0107142717754052'}\n",
      "topic=numtest partition=0 offset=2410: key=None value={'number': '2.1424689948389912,0.09233239375374414,-1.7891939224963371,0.3976842756531996,-0.31589452399702267,-1.1233617497186992,-1.6285871325065842'}\n",
      "topic=numtest partition=0 offset=2411: key=None value={'number': '1.286835522941614,2.54692590317419,-2.0907551872450783,1.5847264762620674,-1.4147370252358944,-0.9661222099940364,-4.789744621341479'}\n",
      "topic=numtest partition=0 offset=2412: key=None value={'number': '-0.5990634675219776,1.223337345683397,2.623317194187093,2.795682344574344,-2.1007912162530404,-1.9628094433895826,1.3785469947785758'}\n",
      "topic=numtest partition=0 offset=2413: key=None value={'number': '-0.6586073163742281,-3.082148574387837,-1.2392656479877875,1.9827144152758425,2.009240477916484,3.524763182628163,0.16277159954156709'}\n",
      "topic=numtest partition=0 offset=2414: key=None value={'number': '2.1854925593297447,-5.646502090170769,-2.878635588569936,-1.593678486423301,-0.7709513075226314,2.2239099630437504,-3.4117431572933365'}\n",
      "topic=numtest partition=0 offset=2415: key=None value={'number': '0.19695791844839827,1.3981714417859001,0.17885519209529518,2.185676237712027,2.0185181786402455,4.1267352286908805,2.286888008254224'}\n",
      "topic=numtest partition=0 offset=2416: key=None value={'number': '-0.8477170450429854,2.145388770208176,0.4761643836527985,1.3842546905281077,-0.08553802397002867,1.5365514260222413,3.201058322599044'}\n",
      "topic=numtest partition=0 offset=2417: key=None value={'number': '3.0034242863450866,2.4863833379258637,-2.272145323101163,-1.8928163038779378,-2.3775738908890296,-1.6925840672626082,0.12321998424355944'}\n",
      "topic=numtest partition=0 offset=2418: key=None value={'number': '-0.07854694801256117,-1.3659949015749229,-0.8977214238901682,-1.2741834200847393,-3.9002009820355132,4.965217904616757,-0.6529920906269618'}\n",
      "topic=numtest partition=0 offset=2419: key=None value={'number': '3.448715521529805,0.933702956973211,1.9703377029868012,0.45911353283616846,2.6570216372476008,0.45683699190091775,-3.3462573060575447'}\n",
      "topic=numtest partition=0 offset=2420: key=None value={'number': '2.8508118995719443,-3.1069273783844458,1.9481140098942125,-0.4751406530992029,0.7767127393482836,0.9465854645587775,1.4412978182308172'}\n",
      "topic=numtest partition=0 offset=2421: key=None value={'number': '-2.0299331330508132,-2.055579135260618,2.2041681856768864,2.003346607538189,2.2402751602373456,-1.7414569884196995,-0.08622980357740655'}\n",
      "topic=numtest partition=0 offset=2422: key=None value={'number': '0.7414724232945451,0.4415781225013439,-0.24767542419476654,-0.6605723610962899,-0.8521502902687337,2.390558316428864,1.4629104873969534'}\n",
      "topic=numtest partition=0 offset=2423: key=None value={'number': '-1.1365589351398475,-3.060633690117929,-1.3617792228987113,-0.9379295278369154,-1.8064227426541029,2.634600430700614,0.15812871884877994'}\n",
      "topic=numtest partition=0 offset=2424: key=None value={'number': '-2.531759949871748,1.1307872116470947,-1.2985053127490993,-2.094093876231063,6.174957595150247,-2.6106412712763114,1.9288934099333337'}\n",
      "topic=numtest partition=0 offset=2425: key=None value={'number': '-0.3814252014221458,3.6315642294636845,-2.0612589458487354,-0.41603485384298305,-0.6917111741145651,-2.791245372667348,-0.13655552922129585'}\n",
      "topic=numtest partition=0 offset=2426: key=None value={'number': '-0.34804320041364006,0.7166225071582305,-0.19204872494353387,2.318181131413161,-1.0387383802032915,0.26853736585603777,2.9611241878787333'}\n",
      "topic=numtest partition=0 offset=2427: key=None value={'number': '3.2855106165131214,-1.432814845728194,-0.05659267363009677,-0.6611310974111861,-0.758966704295357,1.6893629312262997,-0.016521424761992896'}\n",
      "topic=numtest partition=0 offset=2428: key=None value={'number': '2.221725787021782,-0.34543717664849527,-0.2674881334048357,2.4148629274955145,-1.317666576551252,-2.5206005338514426,-1.630838376977424'}\n",
      "topic=numtest partition=0 offset=2429: key=None value={'number': '1.087624286995051,1.4854100002268391,-1.34651632385234,0.12035200263350485,-1.1560367634616469,0.850968275168344,1.7599446611701928'}\n",
      "topic=numtest partition=0 offset=2430: key=None value={'number': '-1.077413522119802,-1.5380897258873851,-3.1534036727460237,1.4452165627818445,1.448294184175306,1.020392540819404,0.5366616475324124'}\n",
      "topic=numtest partition=0 offset=2431: key=None value={'number': '-2.0711232312814714,1.9569855338128752,3.6959095138499465,0.6731048494473231,1.100918574011733,-1.2029624495763283,1.8568491927598516'}\n"
     ]
    },
    {
     "name": "stdout",
     "output_type": "stream",
     "text": [
      "topic=numtest partition=0 offset=2432: key=None value={'number': '0.9883842650833415,0.27175525227518904,0.7250664454677396,-1.674674717949462,-1.3902614124693118,-0.6268654862672335,4.402993100472009'}\n",
      "topic=numtest partition=0 offset=2433: key=None value={'number': '0.761495942059185,-0.24764019008581115,0.9001467261828155,3.148033081526886,-2.2678021764099294,0.6505188766695884,-0.9032844237380079'}\n",
      "topic=numtest partition=0 offset=2434: key=None value={'number': '-0.027145842560542862,-1.3230357075450314,-0.10723544399015178,0.3233102023971298,-0.9826732110365531,-3.403997326334082,1.4059935583438763'}\n",
      "topic=numtest partition=0 offset=2435: key=None value={'number': '4.465676656076265,5.1787250848598045,0.618110969383493,-2.639333981139516,0.03586957375615451,-4.959886176110123,-4.235214903406125'}\n",
      "topic=numtest partition=0 offset=2436: key=None value={'number': '0.9830607085074095,0.5643165182804899,0.9947158710381102,0.39649797171140255,0.4136984079809396,1.0112885306721615,-1.761480198492153'}\n",
      "topic=numtest partition=0 offset=2437: key=None value={'number': '0.5901987991655261,-0.4567336332247393,-4.992488675332771,-2.216247480659874,2.503285803664083,-2.1488237420301854,-0.44997740881243925'}\n",
      "topic=numtest partition=0 offset=2438: key=None value={'number': '0.9109154520053745,1.6749738463515862,0.8539648742910955,-0.7871662005007004,-0.8017981150597882,-4.469323895456411,0.8524588996402728'}\n",
      "topic=numtest partition=0 offset=2439: key=None value={'number': '-1.3731252606032813,2.2213171226572603,-1.4806831190122987,3.5579025440218506,1.1979183056721308,0.8766272719782806,-2.032288739610847'}\n",
      "topic=numtest partition=0 offset=2440: key=None value={'number': '-0.10749185083602232,-0.024889085784436223,0.3472025923518369,-0.8464965734456537,-2.192103803526364,1.4120059103476643,-1.0933055400354403'}\n",
      "topic=numtest partition=0 offset=2441: key=None value={'number': '-1.2349643528730863,-0.019383369732942704,0.42597414201305434,-2.7240984055139763,0.641034264131097,0.0679712313272042,3.3122005103626457'}\n",
      "topic=numtest partition=0 offset=2442: key=None value={'number': '0.7174219139585283,-0.4364578593497027,-2.7313332183563466,-0.2653375293457579,-0.6849990714863202,-1.666285953259203,2.1497931163390436'}\n",
      "topic=numtest partition=0 offset=2443: key=None value={'number': '-0.7741675162061294,1.8992910854894187,-0.5487446868858483,1.260128499025695,4.206761477697617,0.37715363486520337,-0.8769483578584013'}\n",
      "topic=numtest partition=0 offset=2444: key=None value={'number': '-1.8237285731533883,1.0723466241517716,0.10207104940945629,-0.041627736743845026,-0.991889395457295,-2.2226951821709,-2.227375013007631'}\n",
      "topic=numtest partition=0 offset=2445: key=None value={'number': '0.4520011956821287,-3.7966053707209166,-4.520746916039971,1.030332328989883,0.07404496622808798,1.9840920870078134,-2.0927143655299454'}\n",
      "topic=numtest partition=0 offset=2446: key=None value={'number': '-0.30904619549115103,4.879520169028029,0.3124780141464084,-1.8637042228230742,2.581990010962564,-1.328311860397573,-0.3629619159361582'}\n",
      "topic=numtest partition=0 offset=2447: key=None value={'number': '0.5933428249358129,1.7399877901890652,2.878641666490173,3.3737401487539103,-0.5196651625197946,-0.5041965715363899,0.920061615036054'}\n",
      "topic=numtest partition=0 offset=2448: key=None value={'number': '2.2644009713093887,4.219577177324041,-3.7817729659331465,3.2393835362180115,-2.562072643818688,-0.5591397101525593,2.204933985387457'}\n",
      "topic=numtest partition=0 offset=2449: key=None value={'number': '-2.788590527421625,0.5163603434639432,3.6745835957455846,-1.2031966139545753,-1.9667348408442304,-3.3631535427110872,4.028127378179013'}\n",
      "topic=numtest partition=0 offset=2450: key=None value={'number': '-2.069557595665905,0.8042407370121729,-1.7921158908652195,0.42438845896283306,1.068460673952616,-0.7203758202125784,0.6645784271481976'}\n",
      "topic=numtest partition=0 offset=2451: key=None value={'number': '1.1442445943146817,2.579742357903798,0.01565800211725393,2.7410734844364937,-1.6627060122687527,0.4246812906858572,2.863223817770933'}\n",
      "topic=numtest partition=0 offset=2452: key=None value={'number': '-4.677255521596945,-0.4358671204860531,-0.9428007478672797,-5.814132929246145,-3.5430827525965323,-0.09249299475824332,-0.31976340532098035'}\n",
      "topic=numtest partition=0 offset=2453: key=None value={'number': '1.553247078075089,2.047044290370558,1.4541025374459196,0.699510810176425,-2.0015654442849242,3.3844852606798463,-1.5807315663079056'}\n",
      "topic=numtest partition=0 offset=2454: key=None value={'number': '-0.35602059455607393,1.9717900407525482,-1.4822194814123435,3.725446522804472,2.068237525242657,6.595089570980519,-2.2783623110843534'}\n",
      "topic=numtest partition=0 offset=2455: key=None value={'number': '-0.6966205200944885,-2.0829863268242264,-0.8305717106088105,-1.4698654111295018,-0.8540724560764961,1.8178888307827057,1.1183824685346013'}\n",
      "topic=numtest partition=0 offset=2456: key=None value={'number': '-2.926184715433451,0.7049739989882436,-1.8179731677512951,0.3422667990992354,1.1399182111694153,4.795034556487588,1.6313981873661354'}\n",
      "topic=numtest partition=0 offset=2457: key=None value={'number': '-2.0869412170007298,-3.4972860653761373,2.4106064383015546,3.973783521196211,-1.0137986026829917,0.8781395070224612,0.35622807944345813'}\n",
      "topic=numtest partition=0 offset=2458: key=None value={'number': '0.5180010578023866,-1.4757208551651888,-1.5068124726149683,0.9019529266578593,-2.121231763361984,1.0757808475853103,-2.3086734080688855'}\n",
      "topic=numtest partition=0 offset=2459: key=None value={'number': '-0.7315005548157708,-0.7348797769982841,0.3920153515240214,2.2738200321434596,-1.919323640478568,2.7793237438448464,-3.2094680420180697'}\n",
      "topic=numtest partition=0 offset=2460: key=None value={'number': '-0.3080736236140533,2.093359303778636,1.0546933978994082,-0.6357450302720676,0.1768962260085966,-0.5717977018138084,-3.222913826450693'}\n",
      "topic=numtest partition=0 offset=2461: key=None value={'number': '0.3966632615439896,0.18120074979770412,-3.271098735832214,-0.39101002152915965,1.667235086028776,2.1165147516825153,3.913204359046103'}\n",
      "topic=numtest partition=0 offset=2462: key=None value={'number': '-1.401899749794744,-1.769464999712008,2.161086831834573,1.607558021135654,1.0709135136012107,-0.8574463722692188,-0.5744107770335136'}\n",
      "topic=numtest partition=0 offset=2463: key=None value={'number': '2.5996809547158546,0.5552372034330199,-3.1963872251806276,0.47072899710475574,0.31556279816677,-0.5284001996436561,-2.1171392347534153'}\n",
      "topic=numtest partition=0 offset=2464: key=None value={'number': '0.054098685919530216,0.22089175561933808,0.011371938151611267,-1.0948834961416154,-0.33459596518436696,-2.6587675711750207,0.3559578606366761'}\n",
      "topic=numtest partition=0 offset=2465: key=None value={'number': '3.3318830752640136,1.2239901720932593,-0.3456062327735833,-1.5915864416303356,0.6596009313382706,3.125778517474835,-3.8244488487518566'}\n",
      "topic=numtest partition=0 offset=2466: key=None value={'number': '1.352903334709722,1.4642436566196277,-4.648791208444007,3.2627284551211013,3.179562119549981,1.2344898651523364,-0.014405332670768059'}\n",
      "topic=numtest partition=0 offset=2467: key=None value={'number': '2.1756686685958333,-0.8444425798238555,0.6732120036092683,2.3433834337321002,-3.0054221878887697,-1.4088403582025693,0.6372365373714136'}\n",
      "topic=numtest partition=0 offset=2468: key=None value={'number': '-1.7072051726077542,-2.2537760429401468,-0.6817186060185989,-2.18033475606998,-2.842389828571426,-1.9631638814136598,-1.5856303569200967'}\n",
      "topic=numtest partition=0 offset=2469: key=None value={'number': '0.43403744616569734,0.9700716114511116,-1.8623428816821588,-1.9226473174713774,0.6816361690867672,1.4481638473013108,0.7191819332796634'}\n",
      "topic=numtest partition=0 offset=2470: key=None value={'number': '1.6735835466704785,-1.8420246440583388,-1.0411247105807995,1.1963757318741928,0.7407365373341466,-1.0096505779548395,-0.41011159717917195'}\n",
      "topic=numtest partition=0 offset=2471: key=None value={'number': '1.7406424750462441,1.47678646994582,-1.565783268479735,-0.003572235947819144,2.8411282169538388,1.0384083608654608,-0.2723434320873059'}\n",
      "topic=numtest partition=0 offset=2472: key=None value={'number': '0.5249569354622498,-0.92489679086117,0.35372802492854655,2.9741474948928652,-0.5669607004764978,-2.0748606022048954,-0.8588069722321781'}\n"
     ]
    },
    {
     "name": "stdout",
     "output_type": "stream",
     "text": [
      "topic=numtest partition=0 offset=2473: key=None value={'number': '-1.4257369424086288,-1.2978151322116445,-0.3699837765586046,0.6565670608149118,-2.6849037695635243,1.8552422784609646,0.8797146910466938'}\n",
      "topic=numtest partition=0 offset=2474: key=None value={'number': '0.2921080047612905,3.8676693143328453,2.3983221609276497,0.30824230679140685,3.975460301301472,2.7876508374776443,-3.289752448378517'}\n",
      "topic=numtest partition=0 offset=2475: key=None value={'number': '1.5632872119861325,-1.063321700871199,2.788587890768307,-1.751690316825282,-0.3220194523881114,-0.4907065486241377,-0.16402497334125288'}\n",
      "topic=numtest partition=0 offset=2476: key=None value={'number': '-1.18297559297418,1.0137915903755021,-4.138421241418767,1.6991936574779436,1.2677919838553688,0.5545673274480417,2.010822374508445'}\n",
      "topic=numtest partition=0 offset=2477: key=None value={'number': '2.376854307533483,0.686888025407521,-3.046034075202233,2.9944358507665627,3.21052450396922,3.6693025869605473,0.19877133781415166'}\n",
      "topic=numtest partition=0 offset=2478: key=None value={'number': '-0.18366383610612086,0.358458609935226,-0.923417815976753,2.341391397785019,1.7449076803471284,0.38293570564905133,0.47765946509136775'}\n",
      "topic=numtest partition=0 offset=2479: key=None value={'number': '-0.9155972597756168,1.3080698628293228,-1.6061698485059455,-1.7764111075665001,-3.320542334284859,1.8833524224630305,1.447277567728177'}\n",
      "topic=numtest partition=0 offset=2480: key=None value={'number': '2.961684580323747,0.8605858339845617,3.816210743945423,-4.226556562702167,-3.336415649126742,-0.7825208870646356,0.4742859458872592'}\n",
      "topic=numtest partition=0 offset=2481: key=None value={'number': '-1.018831551491009,1.1243394324902232,3.936493181364872,-0.0025273890414798435,1.2675554598022274,-1.4136473842398178,4.404561592624612'}\n",
      "topic=numtest partition=0 offset=2482: key=None value={'number': '-3.7401106036740774,-1.0689400962845441,2.473808899258521,-1.9432097741697676,1.9374292964072477,1.4816657248870344,-2.8962931237208096'}\n",
      "topic=numtest partition=0 offset=2483: key=None value={'number': '-1.3150599522765722,-3.5977313783040628,-0.5219300606788468,-0.8342656279463454,4.486343370432687,0.10682275500187266,0.9231709383661413'}\n",
      "topic=numtest partition=0 offset=2484: key=None value={'number': '-1.4669993265591932,-2.2022351095864194,0.5890094800206219,-0.7762774791968116,1.69405077270672,6.368251385238386,-4.2786215901677584'}\n",
      "topic=numtest partition=0 offset=2485: key=None value={'number': '1.5473788121506202,1.5383037992080992,1.1122640279413545,-0.9324871845597344,-2.1913704106460865,-1.9812498764415445,2.021263674344717'}\n",
      "topic=numtest partition=0 offset=2486: key=None value={'number': '-1.2625306909819394,-1.445038404856354,0.4993478621197394,2.2436641198500595,1.2893361513338177,0.39460848918899555,2.4208428718005686'}\n",
      "topic=numtest partition=0 offset=2487: key=None value={'number': '2.5176707346030383,-4.136906056066666,0.4607288173924248,0.16489204930562765,0.48771778266426613,-1.7011913423410097,1.832081742873684'}\n",
      "topic=numtest partition=0 offset=2488: key=None value={'number': '-1.5286993336251011,1.4095189274611375,2.038295033923098,2.905927854341751,0.971276188321578,1.8290658716655102,-0.4323028240273121'}\n",
      "topic=numtest partition=0 offset=2489: key=None value={'number': '1.2327465335863679,-1.5295292004105456,1.5250403122052534,-0.7131941808787416,1.583153683396107,-0.23999409046659118,0.6343999738232747'}\n",
      "topic=numtest partition=0 offset=2490: key=None value={'number': '-1.1195953171246815,1.6822240428369,2.6787825330447816,-1.1316459159385335,-2.8311567804320403,3.5918699369740676,0.7242375153425779'}\n",
      "topic=numtest partition=0 offset=2491: key=None value={'number': '-3.0636065442257343,-1.0864539640599662,0.6450213807478342,-0.5902918196447156,-1.4231409379210422,0.0988108819208588,0.733458841746309'}\n",
      "topic=numtest partition=0 offset=2492: key=None value={'number': '3.5570948999775918,0.9850107706534201,1.1979973277840759,2.2938912133076768,-1.1530710881475972,3.090950530248847,-1.9219986654883996'}\n",
      "topic=numtest partition=0 offset=2493: key=None value={'number': '-5.6138976770745685,0.4229369568051027,2.0624841358399637,-0.9682715743311053,-1.2246102055106336,-2.0106895701629157,0.9131710386583638'}\n",
      "topic=numtest partition=0 offset=2494: key=None value={'number': '2.9848252023187944,-3.227347659125896,0.8495658352386634,0.7535505035637925,0.7592547763173679,-0.020605129048332425,1.1048197677551845'}\n",
      "topic=numtest partition=0 offset=2495: key=None value={'number': '0.02463157599941125,0.030620006533794136,-0.11429866682803838,-2.17056892375681,-1.9645867433253192,2.9291959455350316,-0.04691161898300356'}\n",
      "topic=numtest partition=0 offset=2496: key=None value={'number': '-2.6645506910390835,1.2531337575999468,-2.123411343005202,-1.1685336131381008,3.456596566395613,-0.2564901383366377,0.4415541615915531'}\n",
      "topic=numtest partition=0 offset=2497: key=None value={'number': '1.2771950762301185,1.579372488649925,1.4605439383011167,-0.39256514013844324,1.6472507894156327,1.0235555677091395,0.22490761923421976'}\n",
      "topic=numtest partition=0 offset=2498: key=None value={'number': '-0.8845105131368358,-0.6749881285637404,-2.1141845977620233,-2.3640149495124496,1.4974701854458785,-1.5884584740883758,-0.033757122231141246'}\n",
      "topic=numtest partition=0 offset=2499: key=None value={'number': '1.1867351732622955,-0.2221397592850856,2.704630587932942,3.420659364519422,-2.253101738227084,2.1557716574276466,-1.914015582323717'}\n",
      "topic=numtest partition=0 offset=2500: key=None value={'number': '1.1607597612807856,2.188814764785091,1.5812334224848836,-2.6554949769387517,0.6345601926672184,2.287525740120834,1.3521087535053655'}\n",
      "topic=numtest partition=0 offset=2501: key=None value={'number': '0.5276467988527856,-3.733009069274322,2.8428283916347454,0.40138610470674113,2.144998236826847,1.0729656864716886,2.715304007791494'}\n",
      "topic=numtest partition=0 offset=2502: key=None value={'number': '0.2609620365588546,-0.70355471338367,-2.591094585552692,-1.2873123386056358,-3.111306133073395,4.106486527595056,1.2695569501793833'}\n",
      "topic=numtest partition=0 offset=2503: key=None value={'number': '0.6663149140310898,1.2067672356932466,-2.5376569215033933,-2.5547495260674618,-1.17128817615311,0.5295279136477447,3.966959468907283'}\n",
      "topic=numtest partition=0 offset=2504: key=None value={'number': '-1.7227898422375743,-1.8549924869721073,1.921829080786866,0.08785336863551141,-0.4240779554335252,2.6442053914963637,-2.379300678776322'}\n",
      "topic=numtest partition=0 offset=2505: key=None value={'number': '-4.969939846228819,-0.28704617541518024,-3.1253188049753793,-0.5240389099821141,1.3530090294714414,-0.33357006378379706,0.1676457672335399'}\n",
      "topic=numtest partition=0 offset=2506: key=None value={'number': '-2.4220923418626166,0.14165359648227482,-3.890353400721739,1.3793532848811847,-2.6620903704464878,-2.507888751155273,2.1142529042244997'}\n",
      "topic=numtest partition=0 offset=2507: key=None value={'number': '0.7395854215276924,0.9806628963306232,-1.491876879177083,-1.1812835414815097,-0.4381727270055163,-0.9148374650599251,2.1321433010185644'}\n",
      "topic=numtest partition=0 offset=2508: key=None value={'number': '-3.709858235810433,-1.0080026057491611,-5.847131638364643,-0.42744883543628903,1.8148740970710746,-1.35048833021367,0.9780982199518934'}\n",
      "topic=numtest partition=0 offset=2509: key=None value={'number': '1.8486461514333545,1.7638907568120072,-1.3551608230594803,-2.4518704122864885,2.614679250739631,1.8247956198043858,-1.4916467237325925'}\n",
      "topic=numtest partition=0 offset=2510: key=None value={'number': '-0.9951960236068411,-0.5667470472603452,2.5962793058294973,3.820371227207442,0.12333320916947964,-0.29228269112987537,0.5764891495770176'}\n",
      "topic=numtest partition=0 offset=2511: key=None value={'number': '1.1033158395898819,1.2760831757007898,0.4042669565001903,-3.2188112822649715,-0.460454268442355,-0.621273349264075,-1.0112006799185935'}\n",
      "topic=numtest partition=0 offset=2512: key=None value={'number': '0.8578778329260495,1.8109158687454032,-1.9396081735688662,-1.608128647784023,1.9268177707045202,0.560188905227303,0.533543506082409'}\n",
      "topic=numtest partition=0 offset=2513: key=None value={'number': '1.2834695859965015,-1.807845616462261,-4.181930119586023,3.5781225432663164,-1.0675894036793543,0.26136251897760165,1.7875640776729027'}\n"
     ]
    },
    {
     "name": "stdout",
     "output_type": "stream",
     "text": [
      "topic=numtest partition=0 offset=2514: key=None value={'number': '0.38006360867262534,-1.15748345683913,-1.3674900197169966,1.4368575514279613,-3.80652256631662,-2.640083940855342,1.0734295789105006'}\n",
      "topic=numtest partition=0 offset=2515: key=None value={'number': '-3.762602100378467,-2.047633331278757,-3.5900028484725515,-0.040827198777377754,-2.6519189299964148,1.6124833068689952,1.1268043775086598'}\n",
      "topic=numtest partition=0 offset=2516: key=None value={'number': '-0.8042400380756547,-2.3938948394731754,0.02829851647687355,0.31042172050103867,1.6378585723963521,4.668738269942773,-1.7108412320678854'}\n",
      "topic=numtest partition=0 offset=2517: key=None value={'number': '0.7030118263893109,2.600655244405826,1.1434054555507356,3.2419276860298076,-1.3159299789536922,-1.3549598544267007,0.766284893380281'}\n",
      "topic=numtest partition=0 offset=2518: key=None value={'number': '-4.620804625659034,-1.4186319635764164,-2.4690267487079507,0.939725102871583,-0.616409035294302,-1.1381033168232637,-0.6588002882566913'}\n",
      "topic=numtest partition=0 offset=2519: key=None value={'number': '-0.6759293364880812,-0.449283965377718,0.9191273239374859,4.2373659403382185,-0.3941975374431281,1.6450633143132731,0.12170379670133342'}\n",
      "topic=numtest partition=0 offset=2520: key=None value={'number': '1.0982799667790275,0.04060892997519626,4.998666392512084,-2.7177015875170314,2.133539488589936,-0.8317394317066036,0.4760095108221839'}\n",
      "topic=numtest partition=0 offset=2521: key=None value={'number': '2.88192520590955,5.096431655433191,0.8418110404874956,5.198288694228219,-0.9254265772916462,-0.558104857648458,0.1326429349589361'}\n",
      "topic=numtest partition=0 offset=2522: key=None value={'number': '1.2787429179446654,-0.405014253037053,4.050185925004125,-0.39983862102702905,-0.9580185252047997,-5.69790737920838,-2.7409953267912885'}\n",
      "topic=numtest partition=0 offset=2523: key=None value={'number': '-0.33256605684613355,-1.704149600464617,4.10395374266872,2.3695466911201675,1.6297651996122688,4.142680986185604,0.676681284765845'}\n",
      "topic=numtest partition=0 offset=2524: key=None value={'number': '1.1243770843752674,1.3623074353659188,-2.8708978731028125,-0.8247363583090912,1.2556686775057526,-1.0953343851302673,-1.62819224188775'}\n",
      "topic=numtest partition=0 offset=2525: key=None value={'number': '-1.2153946182409152,-0.6313717832546006,-1.8607798467793817,1.737525567102746,0.7190338323111473,0.9542227902546184,-1.42674043560254'}\n",
      "topic=numtest partition=0 offset=2526: key=None value={'number': '1.6464304905654825,1.4966627365651974,7.118730844478124,1.5944895884123507,1.4484027150430925,1.5213316508932226,0.920415457966326'}\n",
      "topic=numtest partition=0 offset=2527: key=None value={'number': '3.8883798041832742,0.5034866506567508,1.3311447444895166,0.1787388824417196,0.6561115458987118,1.2497628846207485,-0.7417945832755055'}\n",
      "topic=numtest partition=0 offset=2528: key=None value={'number': '2.2743588309685943,1.5882532698044263,0.31247953363825814,-0.6588115127444374,2.6001836619684355,1.225035713106982,2.953870941426536'}\n",
      "topic=numtest partition=0 offset=2529: key=None value={'number': '0.17996405297239096,1.1418011742967087,-1.586120362557275,-2.6920775243749007,1.0054672078248652,-3.1139185603469186,-0.41098468541048916'}\n",
      "topic=numtest partition=0 offset=2530: key=None value={'number': '-0.896698458748182,-0.12838981244814876,-1.5248043948866392,-2.5208115697842963,-2.9289789481130977,2.2689600199759776,3.8743308019123393'}\n",
      "topic=numtest partition=0 offset=2531: key=None value={'number': '1.992720408487504,-1.2799191233740908,-2.0124740353560573,-4.2248925979867975,-0.4190065669261831,-1.281130707388798,1.9483276318097087'}\n",
      "topic=numtest partition=0 offset=2532: key=None value={'number': '2.109965615939567,2.2468817940839263,0.5985838259200974,3.173577154259924,2.0831164437701295,-0.583254794908938,3.7796937989027897'}\n",
      "topic=numtest partition=0 offset=2533: key=None value={'number': '2.5920668665623996,-1.7103178055371873,2.8921774044355857,-0.332701094216718,1.2244767910379448,0.5562852667477077,-0.48072260042505915'}\n",
      "topic=numtest partition=0 offset=2534: key=None value={'number': '-0.4647407287803964,-0.20589652417378274,2.8559348793427954,0.22167207073488454,-0.163609794061551,-0.18206774354792526,2.1904459808669654'}\n",
      "topic=numtest partition=0 offset=2535: key=None value={'number': '-2.859732487168726,0.4717810594332241,-1.0532533910431408,1.6283481730829321,1.4604348502520175,0.9557729491715017,-0.60946702673659'}\n",
      "topic=numtest partition=0 offset=2536: key=None value={'number': '3.0419905607858624,-0.16188623378774128,-2.7677827870677385,0.619044991672154,-2.082639074597505,0.3605814087476566,-0.19066071023165532'}\n",
      "topic=numtest partition=0 offset=2537: key=None value={'number': '1.0026278199142578,5.526748545182427,-3.126170844855504,0.013739248390606128,-2.468823304447078,0.29470896702179444,0.8914383802732052'}\n",
      "topic=numtest partition=0 offset=2538: key=None value={'number': '0.24966320549014626,-1.2805690997401105,-1.7069249341661872,3.014690355546047,4.315354913132573,2.9812300344393643,1.969930093720207'}\n",
      "topic=numtest partition=0 offset=2539: key=None value={'number': '0.05858122381675039,-2.0389953334422573,3.0192736380821947,-0.4265365274587868,-0.25598005929824125,1.8666363513401512,1.4436096432908556'}\n",
      "topic=numtest partition=0 offset=2540: key=None value={'number': '1.2585291916109027,0.10933924428161178,1.9068349640192328,-1.0690645498526263,1.1071688486896896,-1.795020025794489,-1.97359073312715'}\n",
      "topic=numtest partition=0 offset=2541: key=None value={'number': '-2.275343323935865,3.1198488626447634,-0.9166831869118697,-1.2963590717549835,-1.3956598456186182,-1.1139228227544178,0.44495568702512067'}\n",
      "topic=numtest partition=0 offset=2542: key=None value={'number': '-2.9677070559959455,-2.675486057196209,1.7292656774350739,-0.5401075338792634,0.9052850882922863,-1.4158670681633205,-1.1305300342011486'}\n",
      "topic=numtest partition=0 offset=2543: key=None value={'number': '-0.013260089778785417,-0.2362089058702053,-0.6356846457391911,0.3303409512040447,2.3730470865357662,-0.23977979430471458,2.532260427412278'}\n",
      "topic=numtest partition=0 offset=2544: key=None value={'number': '-1.0986149026242673,1.5406032376011713,2.6616739680035204,-1.0078590516476913,-2.2318860168825503,1.6132491807476899,-0.6501490258038339'}\n",
      "topic=numtest partition=0 offset=2545: key=None value={'number': '3.0705054711423765,-3.1874364457572826,-0.34704199087970194,1.5934104477985755,-3.515744460947845,1.1880457420706019,-0.5674799087469995'}\n",
      "topic=numtest partition=0 offset=2546: key=None value={'number': '-1.2775015145224964,0.6676561064951418,-1.237811961596459,-1.3932294585665255,2.0629840460345314,2.2253404008697197,0.625708028369299'}\n",
      "topic=numtest partition=0 offset=2547: key=None value={'number': '-0.6531436006391804,-1.2500380139231049,-0.7958144058485923,-0.7264223281394948,-2.8701341888238243,0.5554641768463955,-6.088712538870654'}\n",
      "topic=numtest partition=0 offset=2548: key=None value={'number': '-1.303879943957084,-0.8756111684514191,-1.9599137603817316,1.920170323004113,2.593975543152327,3.312369661649136,3.7763815715844125'}\n",
      "topic=numtest partition=0 offset=2549: key=None value={'number': '-0.5179877911570808,2.3929785861854596,2.7035864094609616,-1.8502359571539557,0.8733628036858239,1.3750839230468581,4.073828350935458'}\n",
      "topic=numtest partition=0 offset=2550: key=None value={'number': '0.7467734148804585,0.6752155828289219,0.2741609162680027,1.4006810481096716,-2.620789883390928,2.1089765092632566,-0.6709376054579874'}\n",
      "topic=numtest partition=0 offset=2551: key=None value={'number': '-0.24512658657224815,-2.942879630785217,-1.584278072505035,0.5107476464336487,0.5666366261177909,2.0867839011112914,-3.317687984667421'}\n",
      "topic=numtest partition=0 offset=2552: key=None value={'number': '1.6153828759089859,2.077672715366679,0.02093720587507333,-2.533094427632575,2.1893124306103418,-3.7150858274984295,0.9582652352985177'}\n",
      "topic=numtest partition=0 offset=2553: key=None value={'number': '-0.4399674011110449,-2.8912973113885037,-0.4500428004560018,1.37608201382785,-0.5420363076216318,-1.725467137554413,2.52457242021792'}\n",
      "topic=numtest partition=0 offset=2554: key=None value={'number': '-1.1882672350197734,0.9658276231299721,-3.474397870541752,-2.756782219964605,-1.950219372391736,0.7423622265157145,1.739292766781032'}\n"
     ]
    },
    {
     "name": "stdout",
     "output_type": "stream",
     "text": [
      "topic=numtest partition=0 offset=2555: key=None value={'number': '2.1016789929106654,0.43647464934844504,2.5822008914152788,-3.0470516276729356,1.2907316156021518,3.0209629487269165,0.3335115614068234'}\n",
      "topic=numtest partition=0 offset=2556: key=None value={'number': '4.550653642039893,-0.6859926549017848,-2.121346748879311,-1.798019773180126,-0.6888638985596098,1.5196723379340933,-3.7156394288316013'}\n",
      "topic=numtest partition=0 offset=2557: key=None value={'number': '0.8688902378607047,-4.736912970458504,3.061070574418463,-0.4845731510462197,-2.649489065889078,-0.623667679131103,-3.301860494710355'}\n",
      "topic=numtest partition=0 offset=2558: key=None value={'number': '1.7990923788999957,3.108953378642475,0.6851225542970476,-3.674289095235223,-0.766641298118458,-1.7730496918280172,-2.2520131873047218'}\n",
      "topic=numtest partition=0 offset=2559: key=None value={'number': '2.162700543546723,-0.9830154569510642,-1.0777950511154797,-2.9850372896847284,2.752299676127807,-0.5182771325868211,-0.4893261289755752'}\n",
      "topic=numtest partition=0 offset=2560: key=None value={'number': '-1.7207377128405135,-2.4075719006269685,1.7403845932769417,2.0733112245988097,2.7719658700145007,0.6569840483677115,-1.0666168624787413'}\n",
      "topic=numtest partition=0 offset=2561: key=None value={'number': '1.7669249566523022,-0.08680113348430152,-0.8295883659233655,-0.026428517501646917,-1.156279314842147,-5.733876179504159,0.9262241840954031'}\n",
      "topic=numtest partition=0 offset=2562: key=None value={'number': '-3.7447572791149204,0.9210979358217517,3.6755547424419177,-3.326936078246624,0.9562988443106837,1.9810651205552754,1.905931709700062'}\n",
      "topic=numtest partition=0 offset=2563: key=None value={'number': '-1.4805186789253895,2.258936288501069,-3.514176940895081,-0.5051435682785046,-5.020215459050889,-0.07369742469184291,0.3396943835618075'}\n",
      "topic=numtest partition=0 offset=2564: key=None value={'number': '-1.2118787810414,1.3595074682456436,0.5413692984662332,3.3290809561651047,1.1546266277540223,0.02127516073569599,0.014882502167842723'}\n",
      "topic=numtest partition=0 offset=2565: key=None value={'number': '-2.15939118718921,-0.3478284362122228,2.022850268826753,-0.8264187481293418,1.8958391116511808,-2.301225396776503,0.15802286235873036'}\n",
      "topic=numtest partition=0 offset=2566: key=None value={'number': '2.2262394304879125,0.9644246406561011,2.195527248755314,-4.545542235538419,1.5881526518528017,2.531599527348891,-0.0380442017611217'}\n",
      "topic=numtest partition=0 offset=2567: key=None value={'number': '0.5838926703301117,0.6217478857548779,3.8701283466259992,2.159974736846025,-1.54455383409543,-2.3738558718769536,-4.161790549106656'}\n",
      "topic=numtest partition=0 offset=2568: key=None value={'number': '0.21491298071034295,1.5485840236957518,-0.006171861077182633,-2.756798630729758,0.3532947718780141,-1.2150597402122951,-1.2860480032226136'}\n",
      "topic=numtest partition=0 offset=2569: key=None value={'number': '1.37056929740806,-0.7029447932315852,-1.02264996657973,-0.06470091653932675,-5.5417175017199805,-2.367223022831498,2.1446532839199257'}\n",
      "topic=numtest partition=0 offset=2570: key=None value={'number': '-0.1441272136328487,2.5722406346989595,-1.7956508626026906,1.3376308359880764,1.6810850157563297,0.12434888616865877,1.1507271494522966'}\n",
      "topic=numtest partition=0 offset=2571: key=None value={'number': '-2.1302737282016113,0.4147981739575612,0.8830211339875141,2.421150393367537,-0.7912471688561731,-0.11921154641231477,1.2122829811404063'}\n",
      "topic=numtest partition=0 offset=2572: key=None value={'number': '-0.966826820385455,-3.218215514905178,-1.5291514919230642,-2.3648345061832226,2.972145955134831,1.128415097539838,4.921634144634781'}\n",
      "topic=numtest partition=0 offset=2573: key=None value={'number': '-4.234419950603731,-1.9124946141506203,-0.4589911686494299,-0.017875563995654056,-0.6553206153351471,-0.5356238814369787,-3.2732706567696255'}\n",
      "topic=numtest partition=0 offset=2574: key=None value={'number': '0.464023459822082,-0.3524757637405346,-0.6250439343435246,-0.5810526373732623,-1.0189358745494248,-1.741681200175678,-3.4601902321674993'}\n",
      "topic=numtest partition=0 offset=2575: key=None value={'number': '-3.45252729252779,-0.5182163381648152,1.7384951986136126,-1.9653388704194301,0.6636805161691222,-3.1119303250259,1.7168604196936568'}\n",
      "topic=numtest partition=0 offset=2576: key=None value={'number': '0.793991292454689,-1.1926903270241629,2.9940157510075256,0.15270393398049242,-2.1150722360278253,2.736096451954347,2.9033136995724416'}\n",
      "topic=numtest partition=0 offset=2577: key=None value={'number': '-2.1870692045038886,-0.3346070870080284,-0.1112391582468947,2.4997834216519963,-3.8608516335221132,-0.691178112275052,1.0396042805894183'}\n",
      "topic=numtest partition=0 offset=2578: key=None value={'number': '0.3469701929761415,-0.6804472853643018,2.0781592497386683,1.2045826154612398,-2.8554930702399917,-0.03268415517060851,-1.3516861990597318'}\n",
      "topic=numtest partition=0 offset=2579: key=None value={'number': '-0.3417413519211332,-2.5210402330126653,0.27849178667712865,-2.538374157856066,-0.8948682498971241,-0.7625442640642205,-2.9465312408963835'}\n",
      "topic=numtest partition=0 offset=2580: key=None value={'number': '1.6537805682035014,-2.999889950881972,1.4758497047208594,1.4567383206914526,-0.8755978241870029,-3.3033161869169887,0.41592022859358946'}\n",
      "topic=numtest partition=0 offset=2581: key=None value={'number': '1.5491303204544378,-0.2749017849105951,0.18071558519183908,-3.3198559270221937,0.7479889884496003,-0.29542274838075383,-2.184181459905214'}\n",
      "topic=numtest partition=0 offset=2582: key=None value={'number': '0.47184253379017205,3.486483690199909,0.903015488076282,2.5367930528405087,-0.28559665098671144,0.10764751521023223,-1.9027054727453878'}\n",
      "topic=numtest partition=0 offset=2583: key=None value={'number': '2.4881446896552997,0.5850288410147065,1.293818772061315,-3.2289389981503573,1.1532130513459495,1.6103425649541194,2.2081037559743546'}\n",
      "topic=numtest partition=0 offset=2584: key=None value={'number': '-0.6649181750811702,0.6904337889294085,-3.291232085631958,-0.7709792339201094,-1.1324095834877477,1.8660561822688357,2.3264848480593834'}\n",
      "topic=numtest partition=0 offset=2585: key=None value={'number': '-2.9880723863412375,1.4183078852048425,-2.269939877629364,1.731121214498667,-0.02476637257547338,2.77350142375716,-3.328996217697339'}\n",
      "topic=numtest partition=0 offset=2586: key=None value={'number': '1.8677557961105618,3.3216446705593263,-3.7238672487028137,0.5107208314577568,2.6068318897718306,-0.3288007669333762,-0.23483447301921181'}\n",
      "topic=numtest partition=0 offset=2587: key=None value={'number': '0.6704808109126119,0.5818140834212632,1.3540579389545913,-0.6951200436044906,-4.525293732912939,2.2258728970572648,3.2937602949284854'}\n",
      "topic=numtest partition=0 offset=2588: key=None value={'number': '-2.0555139543536143,-1.3709222947802113,0.8304814727272078,-2.232551386367966,0.6612765737861523,1.0956592229141024,-2.7360833063153196'}\n",
      "topic=numtest partition=0 offset=2589: key=None value={'number': '-0.1411787641238269,-1.7788650092832239,-1.124086450971011,-3.5538536412029442,-0.5104212962172686,-2.6404035481719776,0.8112635133694728'}\n",
      "topic=numtest partition=0 offset=2590: key=None value={'number': '2.574189412476535,-0.7135653898821557,2.053413978068671,-0.05658246779651949,0.20342156272423376,-2.464200466219985,1.2123074203204898'}\n",
      "topic=numtest partition=0 offset=2591: key=None value={'number': '2.5765609163058376,-3.4450056706681473,-2.521559007042397,-0.8254087664948988,-0.4217138482693088,5.265121700220585,-0.28463582509496366'}\n",
      "topic=numtest partition=0 offset=2592: key=None value={'number': '0.8154700185408594,-0.23134035348436674,0.299032783021988,-0.6411548451641408,-1.854704339435924,-1.3737406583916156,3.2418088675163257'}\n",
      "topic=numtest partition=0 offset=2593: key=None value={'number': '-0.46291322653725775,0.3271890599548265,-1.0654004607142313,1.2422140308183072,-1.478353590089536,5.814201959447355,1.6354779963272843'}\n",
      "topic=numtest partition=0 offset=2594: key=None value={'number': '3.400541961888031,-2.264463661592307,3.6009735593857375,2.843635400704289,-3.8441935659861928,3.283729869171759,-1.024185867315943'}\n",
      "topic=numtest partition=0 offset=2595: key=None value={'number': '-1.4817068217705567,-1.0682386553301355,0.23319726520195755,-0.4267005885073163,-1.3815350537368891,-0.40754069135213733,0.8728574235259853'}\n"
     ]
    },
    {
     "name": "stdout",
     "output_type": "stream",
     "text": [
      "topic=numtest partition=0 offset=2596: key=None value={'number': '3.424793880702804,2.325526923283475,0.8709619444455153,3.2691534968781615,-0.7563177974416054,-2.2030241149654928,1.5408229619459437'}\n",
      "topic=numtest partition=0 offset=2597: key=None value={'number': '3.068964341411884,0.2646930738386754,1.3878247090153826,-0.46011776336526045,4.632011792685278,-2.078186352285265,-2.662700894460357'}\n",
      "topic=numtest partition=0 offset=2598: key=None value={'number': '-1.2576376752706888,-2.4621888703022097,2.238881814669995,-0.699124098564995,-0.46272081166491985,-1.1163076132599141,-1.334453149436568'}\n",
      "topic=numtest partition=0 offset=2599: key=None value={'number': '0.9386831086586501,-5.448217409851349,0.3935047708280658,-4.245168721755631,-0.6040750728287657,5.25580083730074,0.9006645219167685'}\n",
      "topic=numtest partition=0 offset=2600: key=None value={'number': '3.6712343914165255,-0.03186351336089239,-1.6787811254032874,0.1746150684942841,-1.6291084883811946,0.23931093693057795,1.2235434754973051'}\n",
      "topic=numtest partition=0 offset=2601: key=None value={'number': '-0.027288322128956436,2.768782065140234,-0.9023490896431513,-0.6223275172073135,4.877495979619956,-0.2677227649403624,3.701332988824457'}\n",
      "topic=numtest partition=0 offset=2602: key=None value={'number': '1.3158400665480994,-2.3943452266071557,1.8900098067024302,-1.1510722405106073,-0.6656736094182355,-0.5283697386918101,-2.724904847807604'}\n",
      "topic=numtest partition=0 offset=2603: key=None value={'number': '-2.713310113934837,-1.0572796309803139,-0.4506291262936491,0.014522800417017569,-0.5758601801576997,0.21679626909373995,-1.8619458927810006'}\n",
      "topic=numtest partition=0 offset=2604: key=None value={'number': '-2.0379618011786116,1.462784179205815,1.5865306410593571,0.3424597955310942,1.4346952303883493,4.396790310355369,-1.2478340233285607'}\n",
      "topic=numtest partition=0 offset=2605: key=None value={'number': '0.4967087855080467,3.0007245365518433,-0.26952420433922625,-1.1732164520071147,0.752179576056536,-1.5624292775799506,2.327295963568342'}\n",
      "topic=numtest partition=0 offset=2606: key=None value={'number': '-0.34473414183755047,-2.327184356758091,-1.7612115824936312,0.204013346793656,-2.726590797221658,3.1671958341260775,0.5984037279409091'}\n",
      "topic=numtest partition=0 offset=2607: key=None value={'number': '-0.002125522877233428,-0.8631999152482127,1.5013610736151484,-1.7546323675084117,-0.15827381384706615,0.9602637201847418,-1.0168779777404777'}\n",
      "topic=numtest partition=0 offset=2608: key=None value={'number': '-2.8212402647555535,2.372796559815474,-0.38074761254306233,0.8968541374697028,2.35108792316328,0.46315192218879697,-2.2941582357406705'}\n",
      "topic=numtest partition=0 offset=2609: key=None value={'number': '2.4193723510311567,-1.9240583972260057,0.8527386884177168,-1.3683537044136405,0.7898659606556477,1.3211478910164485,-3.3128168206674906'}\n",
      "topic=numtest partition=0 offset=2610: key=None value={'number': '1.1048473812806194,-2.0365391855586563,0.945023688015607,-3.1097001183114252,1.3304421927910661,0.6381105992199433,1.1318076233718737'}\n",
      "topic=numtest partition=0 offset=2611: key=None value={'number': '-0.514393934826753,-0.6625041949238754,-0.37393814677164716,0.6497155352274968,-3.271125474789558,-4.080588578888166,0.0017119636581792125'}\n",
      "topic=numtest partition=0 offset=2612: key=None value={'number': '0.46668167704241453,0.4440693129197426,3.8970112749899606,0.5418320507717305,-1.3296808260686408,-0.8914429634134814,0.6603101477618468'}\n",
      "topic=numtest partition=0 offset=2613: key=None value={'number': '2.91011536116353,0.5426035546879997,0.7563557195990217,-4.605907292672648,-0.1627884848304428,-2.590383249331287,-0.4971219578154407'}\n",
      "topic=numtest partition=0 offset=2614: key=None value={'number': '-1.274379554897958,-0.7759183490849676,-0.7083056699104698,0.5343338534068852,-1.238956056074459,1.1151689980193518,0.014611373595146294'}\n",
      "topic=numtest partition=0 offset=2615: key=None value={'number': '-0.6056576332039453,0.08837758833334207,-2.5693824565744077,0.9281023670020517,2.3029166892410604,-2.2755203267994006,0.425238041073114'}\n",
      "topic=numtest partition=0 offset=2616: key=None value={'number': '0.15601238848101354,0.48612514843220417,0.49985659461991033,1.7891437605689142,0.3281771461303481,2.967288980872279,-0.42857093423096265'}\n",
      "topic=numtest partition=0 offset=2617: key=None value={'number': '1.428487349749177,-2.4225802448449234,-2.8410177442723143,-0.04174368401711548,-2.4718833754032197,2.117471235267275,-0.7213386025127053'}\n",
      "topic=numtest partition=0 offset=2618: key=None value={'number': '3.7704684147097605,-0.5536225567120122,-1.341239372126504,-2.0578966380772354,-0.3646213707294928,2.042461327200382,-1.30150553045451'}\n",
      "topic=numtest partition=0 offset=2619: key=None value={'number': '-4.025992719613194,4.404615783753509,-1.7382339200312649,1.4052309786430786,1.6663377029584352,1.2735442009495634,1.2720359869181548'}\n",
      "topic=numtest partition=0 offset=2620: key=None value={'number': '-2.2301156319862967,-0.5519494356003342,-0.5127962219915055,-2.2933625662717216,-2.6074429950479288,1.8029844075308155,0.48033010282343686'}\n",
      "topic=numtest partition=0 offset=2621: key=None value={'number': '3.6195737954276774,0.5398253524459175,0.2860864975878461,0.2855520415123283,-0.8235261828530874,2.464167890209908,2.361096514052006'}\n",
      "topic=numtest partition=0 offset=2622: key=None value={'number': '1.5730500378615493,3.5092474478329168,2.747542716814909,3.4456875449147693,3.1461246015195514,0.7027630978360448,-0.3893143349228635'}\n",
      "topic=numtest partition=0 offset=2623: key=None value={'number': '2.289493850842291,2.134052580282139,1.2041359345175302,-3.4019754432304,0.2734391959777662,2.5571546560674197,-1.4814069889687038'}\n",
      "topic=numtest partition=0 offset=2624: key=None value={'number': '-2.5886566629438112,-2.0136028734916573,0.1995237058357669,0.7829814998493578,-1.0591675843232025,-3.4593930492472103,1.167847554612165'}\n",
      "topic=numtest partition=0 offset=2625: key=None value={'number': '0.15881221602009507,2.546474211758563,5.048187181140135,0.18929236793086568,3.2524681320481,-2.9115698261284084,0.9346075792026777'}\n",
      "topic=numtest partition=0 offset=2626: key=None value={'number': '-1.4543638584430185,0.028527696190873784,-0.5479980915452267,-0.0008775024259553639,1.383665765866865,-1.4783225629922228,-4.209681956104592'}\n",
      "topic=numtest partition=0 offset=2627: key=None value={'number': '0.5369870920650258,1.1298588805003313,2.936432434389577,-1.0376600090123376,0.12133476391626465,-3.5548725329953594,1.6013717346800993'}\n",
      "topic=numtest partition=0 offset=2628: key=None value={'number': '-1.6754273354811382,-3.8571900807181514,2.0079336685130786,2.46151606265825,0.8426078564010945,0.9619223488058555,1.6455127685952537'}\n",
      "topic=numtest partition=0 offset=2629: key=None value={'number': '-2.6595936122347457,-2.099194336005291,2.894542107148731,0.45567273272618447,-1.7525668202570326,-0.3392457204135937,3.067038809118081'}\n",
      "topic=numtest partition=0 offset=2630: key=None value={'number': '-0.12595156977662036,0.7887775022727094,0.729714313024256,-3.4270455496845855,-0.47455636305097343,-1.7543158267672707,0.056648554529183076'}\n",
      "topic=numtest partition=0 offset=2631: key=None value={'number': '-0.5026925781206821,-2.0017284433297173,3.948734473607479,3.0001516445390073,-0.5794559213320503,-2.041659923853469,0.5394890606853576'}\n",
      "topic=numtest partition=0 offset=2632: key=None value={'number': '-1.1952988415836396,3.6130334905267336,2.535213631475574,4.9906732753262695,-0.14745967466744114,2.3443053445828284,-0.9574648906922026'}\n",
      "topic=numtest partition=0 offset=2633: key=None value={'number': '-0.5155175604298939,2.0609538692008,0.9699341535213389,-0.3079976419337289,-1.370709041294249,2.4482505655568425,-2.921713378194274'}\n",
      "topic=numtest partition=0 offset=2634: key=None value={'number': '2.7475743044411427,-1.968770691269557,0.11870940762327763,-2.6381862344163802,-4.241085440520755,-4.71702922557979,-0.6685786252518777'}\n",
      "topic=numtest partition=0 offset=2635: key=None value={'number': '1.8667349426531308,4.261601806529512,-0.04183131634629129,-0.15679427468136845,-0.2441721538672115,2.5815126403344375,1.1984993294298614'}\n",
      "topic=numtest partition=0 offset=2636: key=None value={'number': '-1.389870365322612,3.353589128818703,0.9460517149441435,-4.318938535261886,3.2864442054107323,1.7441615112463296,0.41043745022269706'}\n"
     ]
    },
    {
     "name": "stdout",
     "output_type": "stream",
     "text": [
      "topic=numtest partition=0 offset=2637: key=None value={'number': '-1.142786040943622,-4.506403311366157,1.5385030720076986,-0.49069540636271014,-1.4741405776493335,-0.12137774948783492,1.8219794750457645'}\n",
      "topic=numtest partition=0 offset=2638: key=None value={'number': '2.9204632777620616,3.129327631648572,1.6671546334942773,-3.69515478275924,-0.9177212004310071,3.3475532102274284,0.022271607208044615'}\n",
      "topic=numtest partition=0 offset=2639: key=None value={'number': '1.119655172872572,1.109851425047946,0.09598304841369701,1.9017993109597084,-1.6135549972722434,-2.0519667259007974,-0.51008593796091'}\n",
      "topic=numtest partition=0 offset=2640: key=None value={'number': '-2.7151032269979765,1.636882874813865,-1.0961139137634281,0.32780321524557443,-1.0421765074712455,-2.280179107787587,-1.9876573303442366'}\n",
      "topic=numtest partition=0 offset=2641: key=None value={'number': '0.15057985007723818,0.7113320463725417,1.4385849796501502,-0.4609070711622894,-0.9117785653513562,0.6774862116578417,-1.6016416060709795'}\n",
      "topic=numtest partition=0 offset=2642: key=None value={'number': '1.397031044171008,-0.4227281075621688,-1.588162701300147,-0.9385368694146774,-2.7149753010348623,2.7946842833999432,1.777274610869681'}\n",
      "topic=numtest partition=0 offset=2643: key=None value={'number': '-0.559445824557476,-0.32349187911663435,4.843306175900379,-0.39713526821171913,1.706409961688882,1.673245693454672,0.23598586339866715'}\n",
      "topic=numtest partition=0 offset=2644: key=None value={'number': '-3.4619305256376616,0.6871571338992815,1.0141131752631418,0.6568869630360743,1.752132882755365,-0.26869564332327683,4.2279783658741765'}\n",
      "topic=numtest partition=0 offset=2645: key=None value={'number': '-1.937274194141319,-2.4235266582029746,1.2842333359946851,-2.9022376459956924,0.9617338949854396,-0.21298227575880493,4.574504467110611'}\n",
      "topic=numtest partition=0 offset=2646: key=None value={'number': '-2.4677321737638755,1.3493977112104882,0.010977943529716105,-1.7889100217612721,-1.5478294672812103,-1.393054486226468,3.2028941619925417'}\n",
      "topic=numtest partition=0 offset=2647: key=None value={'number': '4.494637314815825,-1.7310914108802211,4.459755615152487,-1.2716774992038147,2.45089039389026,-1.5975561405425673,-1.141613913590435'}\n",
      "topic=numtest partition=0 offset=2648: key=None value={'number': '-3.514830130478766,-0.8549841972201369,2.754157405166564,-4.603694161440758,-0.8659915443007054,-1.9328723804068868,0.2884528315566765'}\n",
      "topic=numtest partition=0 offset=2649: key=None value={'number': '1.5171662725060264,-1.7655364316764741,1.768383021694851,-1.1472146228109834,1.3457427277843894,-0.9989852550851706,-2.0118225966675682'}\n",
      "topic=numtest partition=0 offset=2650: key=None value={'number': '-0.7171279252090047,-2.3518290799764374,0.7416547100743331,1.2837662090395867,-1.9257866880237682,-0.5433143428993894,-1.0160958695232536'}\n",
      "topic=numtest partition=0 offset=2651: key=None value={'number': '-3.0644965895692717,1.7536487589767085,0.13881107829008646,-0.5092569678511359,-0.9874155594946175,-1.2228654174483387,-5.407904296760231'}\n",
      "topic=numtest partition=0 offset=2652: key=None value={'number': '1.3936067558664043,3.856913937660132,0.20982720110840453,-0.2721007099657049,-0.9531738781801291,-0.3694582622995966,-4.885084972375377'}\n",
      "topic=numtest partition=0 offset=2653: key=None value={'number': '-0.14988091293648856,-0.6194513749086291,-1.6964300661783367,1.498295796391593,0.4562293990533775,-0.38348902055467016,1.4399799487899247'}\n",
      "topic=numtest partition=0 offset=2654: key=None value={'number': '0.3911650875298271,-0.552593134870538,-0.0176667521829494,-2.6219345859091456,-4.726571946623492,-0.06234460512708287,0.35919742276473704'}\n",
      "topic=numtest partition=0 offset=2655: key=None value={'number': '4.326204438303564,2.0646640944023242,-1.1999949226754294,-1.8829523886584616,-3.2537543272926444,-1.3698211297245684,1.3882819219359184'}\n",
      "topic=numtest partition=0 offset=2656: key=None value={'number': '-1.681249837132046,-0.2158151986759596,0.042128235116556445,0.4218461838684805,0.11006528274202089,-2.0288629460390517,-0.8747868907906367'}\n",
      "topic=numtest partition=0 offset=2657: key=None value={'number': '-3.9172045509173032,-0.47192898694181534,0.5738988771006702,-1.2958200942407472,-0.7681700445007802,-0.07123951252774514,1.390592201697169'}\n",
      "topic=numtest partition=0 offset=2658: key=None value={'number': '-2.5811082171693225,-0.4198754933059472,1.9810575455196169,-4.0699760913589405,3.0383557343423404,-1.0030562573032722,-0.5126759926474194'}\n",
      "topic=numtest partition=0 offset=2659: key=None value={'number': '2.406227694012393,-1.3360416233490313,1.0864788011315065,-0.42221231764326406,3.744110493558423,-0.08168144802967744,-2.8156387154980993'}\n",
      "topic=numtest partition=0 offset=2660: key=None value={'number': '2.6565566787105444,0.13948518157617149,0.13457409767022235,3.923871056283491,2.4985031765302113,-3.7414356690260675,-0.31116030901885094'}\n",
      "topic=numtest partition=0 offset=2661: key=None value={'number': '0.9578039851273873,3.126436949316032,-0.09603659381213972,-1.5349375871180237,-2.585133741700589,-0.1421746641254671,-1.1498142150136599'}\n",
      "topic=numtest partition=0 offset=2662: key=None value={'number': '-2.4689390748899087,-4.004187867234098,3.7995927340847713,-0.09638663835486082,-4.482957843355016,0.9410279106794097,-0.012828160819696302'}\n",
      "topic=numtest partition=0 offset=2663: key=None value={'number': '-0.7962458518916916,0.4785153988044288,3.0851826074398376,-2.834252863949768,-2.555428064656676,1.6455879384895438,-0.5194667178820853'}\n",
      "topic=numtest partition=0 offset=2664: key=None value={'number': '0.6116931287701355,-0.48512277075031035,1.1371861520227389,-1.4202114391063498,-0.026378433781821656,-1.634748094006768,2.3783231444191983'}\n",
      "topic=numtest partition=0 offset=2665: key=None value={'number': '-1.2994758026084805,-0.8504563045731629,1.5089567928349443,3.8934184750215657,0.5009571324722251,-4.115195364630203,0.5726739188068368'}\n",
      "topic=numtest partition=0 offset=2666: key=None value={'number': '0.7354310121709371,-3.1714719852579276,-0.8056775617217163,-0.665743638311473,-0.21964436566634354,-0.24396751628955327,-1.666751793180404'}\n",
      "topic=numtest partition=0 offset=2667: key=None value={'number': '-3.1797533337174646,-1.2484033378966124,2.6605172002264963,0.7112561712668871,0.5780334606389491,-1.289257157453404,-2.902795993652712'}\n",
      "topic=numtest partition=0 offset=2668: key=None value={'number': '0.21262064039478895,-0.28254026312230107,1.5301412001813353,3.2182357294775428,3.1444347139130246,0.1545174725564832,-1.660905304947575'}\n",
      "topic=numtest partition=0 offset=2669: key=None value={'number': '-1.0392167033560549,-5.903361426848938,0.8674370773293599,1.49783831667533,0.4687324279093977,-3.145712830947763,0.7333651810702018'}\n",
      "topic=numtest partition=0 offset=2670: key=None value={'number': '-1.4721830353461982,-0.46196374110688326,0.06577837731000585,-0.5911006858088061,-0.97372313400501,0.2501995787848611,0.5622156306374602'}\n",
      "topic=numtest partition=0 offset=2671: key=None value={'number': '-2.314016525368576,0.6679046929787879,0.16151361898333003,3.2049968559686075,2.795639218463942,-1.8225363170713489,-2.6459266518528666'}\n",
      "topic=numtest partition=0 offset=2672: key=None value={'number': '-1.3601743991026696,-2.32091699587809,1.6622722795098177,-2.3253459056044816,-0.5641132060944023,1.8752336522300646,-0.3760263217742384'}\n",
      "topic=numtest partition=0 offset=2673: key=None value={'number': '1.134296410806817,1.5855130983672763,-1.1020646478863505,0.28864421358892106,0.13189000731233663,-0.060992598257928715,2.156896696034103'}\n",
      "topic=numtest partition=0 offset=2674: key=None value={'number': '-2.1882216421297156,-0.06854532715820072,-3.5495729381250767,-1.4084064312296207,2.561769737109764,4.282385956150129,-2.2229481448383783'}\n",
      "topic=numtest partition=0 offset=2675: key=None value={'number': '-0.7237262090415514,-1.1883786532928826,-2.678717211369793,-0.19696175707692182,0.7077335123651723,2.308850477561759,1.107796720187401'}\n",
      "topic=numtest partition=0 offset=2676: key=None value={'number': '-0.4620535184367938,1.624286893972246,1.6076918702921106,-0.2951715680861952,-1.4972209362610058,-4.252430824664903,2.425750031283134'}\n",
      "topic=numtest partition=0 offset=2677: key=None value={'number': '-2.06567768537195,-2.163067399088278,1.3140492603423366,1.7967206721716613,-0.24293988304743505,-0.17887646943094188,0.14011554675832052'}\n"
     ]
    },
    {
     "name": "stdout",
     "output_type": "stream",
     "text": [
      "topic=numtest partition=0 offset=2678: key=None value={'number': '-3.5048301699648103,-3.3741735838319546,4.150387935932507,0.813620473122508,-3.616351066846906,3.838700298506135,1.4770792698507411'}\n",
      "topic=numtest partition=0 offset=2679: key=None value={'number': '-0.24671447572183458,1.534506253554559,1.1533227764413463,0.7270663421515885,0.7036563120113164,-1.154024463344776,0.5777250554891982'}\n",
      "topic=numtest partition=0 offset=2680: key=None value={'number': '-1.6161337370903603,-0.042302251408659744,1.3384385822150149,-1.149110777290236,-2.1214566492892613,3.2384610240115506,2.9418066132739655'}\n",
      "topic=numtest partition=0 offset=2681: key=None value={'number': '0.0533718324243321,1.0681223094637888,1.0490921693694095,-0.9555012398864241,-2.3074577001688077,-0.9895493770771115,2.1905294475285233'}\n",
      "topic=numtest partition=0 offset=2682: key=None value={'number': '-3.421125375829057,0.46726584198655885,-2.06049587454261,0.4230561592264079,-1.2596981200527155,-0.10558821214443997,-5.840476871520046'}\n",
      "topic=numtest partition=0 offset=2683: key=None value={'number': '1.728646643851288,0.5100322666512114,1.6898104657431678,-3.054204846115775,-4.245800656667057,1.7217640882112963,0.9714722297058571'}\n",
      "topic=numtest partition=0 offset=2684: key=None value={'number': '-1.9310277858244456,-0.8204342982643422,-1.3407774926048304,-3.4888856218310096,2.0988392614057485,-1.6369114009798116,-1.2295374571484723'}\n",
      "topic=numtest partition=0 offset=2685: key=None value={'number': '2.4181644658508343,1.6283665125973459,-1.0344370582948657,2.7728088302247436,2.0883372760891876,-0.8885217514094718,-1.8782071575945327'}\n",
      "topic=numtest partition=0 offset=2686: key=None value={'number': '6.062836300109522,-1.5551240670080644,0.6811815623859874,-0.36797070141469096,3.219288192404118,-1.5820639799187541,-0.14124420757155381'}\n",
      "topic=numtest partition=0 offset=2687: key=None value={'number': '-0.7352232289181319,-0.1010816115554388,-0.48865666205786873,-1.6257170095153555,1.2861039900886153,-1.9417611155184418,-0.5568600864264436'}\n",
      "topic=numtest partition=0 offset=2688: key=None value={'number': '2.014978406760189,-0.0512264748680924,0.1676857816402667,0.5758365265538098,1.6305785533233765,0.034872935012397376,2.1040149617455977'}\n",
      "topic=numtest partition=0 offset=2689: key=None value={'number': '-0.4646827931686793,3.9451164641478265,1.767560634809376,2.0922088314181395,0.621993379586874,-1.5508893816212121,-0.0632521126268545'}\n",
      "topic=numtest partition=0 offset=2690: key=None value={'number': '-0.19618854864777338,-1.2374925190020132,1.9860507903274318,-1.853597656804875,-2.304660481985127,-1.3460341628275088,-0.7410883828434658'}\n",
      "topic=numtest partition=0 offset=2691: key=None value={'number': '3.1978122658687926,1.3293837333574676,0.39788767844937156,-0.8400541764143784,-2.5516936619181165,-0.07433747430478106,1.3552468000392601'}\n",
      "topic=numtest partition=0 offset=2692: key=None value={'number': '-2.1100754411463982,0.45487005585284823,2.279818002516285,3.892146271666041,-0.2697669840950282,0.9619578017174771,-3.7832617474867063'}\n",
      "topic=numtest partition=0 offset=2693: key=None value={'number': '0.8872592772814939,1.9280461609142956,1.225996846996532,-3.782919466485452,2.3694636574740815,-3.9733258883195224,-4.352707033382548'}\n",
      "topic=numtest partition=0 offset=2694: key=None value={'number': '-0.003943114057660559,4.3263378672932555,-0.9530576711446431,0.21090469436138592,1.7669545826123394,1.2971961546384765,4.078633042603535'}\n",
      "topic=numtest partition=0 offset=2695: key=None value={'number': '-4.075933366564726,1.0705437343053645,0.9376743830674986,0.35864595261437493,-0.9861985940463884,3.127764849031363,-1.5181562063671226'}\n",
      "topic=numtest partition=0 offset=2696: key=None value={'number': '4.680354486265767,-1.8403484194910145,3.8145826709142168,0.49018013365176305,3.069388495499426,-0.457705600411636,0.9191365863255707'}\n",
      "topic=numtest partition=0 offset=2697: key=None value={'number': '-1.0719750166020272,-1.4298213414114993,1.8135474907696854,-0.9939824971407458,-1.6224427328129232,1.5185985197383671,-0.3584544990740421'}\n",
      "topic=numtest partition=0 offset=2698: key=None value={'number': '-2.2712898787985725,1.5543717875562655,-6.0356380437596036,1.5465586796856665,-1.680362830059647,-1.6510797643632515,-0.5960863298735095'}\n",
      "topic=numtest partition=0 offset=2699: key=None value={'number': '-2.6611887226314637,-0.3295124497078964,0.7430892313165529,2.273709904604306,-1.4790219201936374,-1.4496980957823273,1.158381021229911'}\n",
      "topic=numtest partition=0 offset=2700: key=None value={'number': '1.025514377592173,-2.091445758016803,-0.3884393264959206,-0.6051479294938849,-3.0905665345033175,1.1496122666115474,3.286035723908019'}\n",
      "topic=numtest partition=0 offset=2701: key=None value={'number': '-1.6316465158574225,-4.618539533313059,-1.4770173944628964,0.5781074451608702,-0.5407719810150359,3.7015496383691917,0.5057504224546108'}\n",
      "topic=numtest partition=0 offset=2702: key=None value={'number': '1.6939342389339351,-1.3251709166835806,2.209639433068739,-0.9660617567295879,-0.8728149079514631,0.5335173868502768,0.6477515469290762'}\n",
      "topic=numtest partition=0 offset=2703: key=None value={'number': '-2.943616519569922,2.2783016641180036,0.31466545568733584,-0.2986892984309409,0.9331442094777275,-0.3288315656076943,-5.455077873545075'}\n",
      "topic=numtest partition=0 offset=2704: key=None value={'number': '1.969384132671499,-1.839108915372678,-1.2210947881893277,-0.2059641953254147,-0.930248621245456,-1.7158445763519112,-0.6921059390778678'}\n",
      "topic=numtest partition=0 offset=2705: key=None value={'number': '2.496012587063616,0.8609853287925386,2.547069456261618,-0.3025227465136474,-1.1788961351378515,3.7957161805451642,-0.493037979633223'}\n",
      "topic=numtest partition=0 offset=2706: key=None value={'number': '-0.335289754946871,-3.025713933868149,-0.9600346433447007,0.9855764376757975,2.4769742625493163,3.44801537827678,0.9180872337419143'}\n",
      "topic=numtest partition=0 offset=2707: key=None value={'number': '-1.0434972569878571,-0.28422212720262097,1.2263415814896101,-0.3146804228324774,-1.3709642177106864,0.39676416511968293,1.830710730002375'}\n",
      "topic=numtest partition=0 offset=2708: key=None value={'number': '-1.366111742519455,5.154725394167388,0.12564432532954734,-3.1270094016171464,1.6319604203276923,1.6014835112599395,-0.04350936331436167'}\n",
      "topic=numtest partition=0 offset=2709: key=None value={'number': '1.0494400724645867,0.9919544189776054,3.5764214841490074,1.8025684571320792,-0.27443612432214665,1.919102688284198,1.1141575220616127'}\n",
      "topic=numtest partition=0 offset=2710: key=None value={'number': '2.293932148852882,3.519827877564413,-1.6702162037403456,1.106861237371688,-1.6253689571519796,0.3566796960443742,1.106163645101713'}\n",
      "topic=numtest partition=0 offset=2711: key=None value={'number': '-1.7878326901355917,3.4337056106965558,1.274889212883258,0.043136982808606145,0.13846775710826567,-0.6662138237819787,-1.427931580705471'}\n",
      "topic=numtest partition=0 offset=2712: key=None value={'number': '3.95860990685015,-2.6889319505123184,2.342106293891954,-0.37710767980142706,1.1240176761318412,-2.504599496144167,-2.095265359923158'}\n",
      "topic=numtest partition=0 offset=2713: key=None value={'number': '0.11076343358170113,2.6302953685211263,3.9103544713889056,-0.4616352781622053,-2.397881217557152,-1.6218975728187779,-2.92212565599073'}\n",
      "topic=numtest partition=0 offset=2714: key=None value={'number': '1.0610664846188886,0.7896345585429329,-2.838672963831105,-1.9804299767361733,1.017482299255733,-2.5567491617971942,2.3026918946090564'}\n",
      "topic=numtest partition=0 offset=2715: key=None value={'number': '2.0381632731760155,0.8638932258276134,1.6594261759265188,-1.2927777774106808,-1.7340636764853945,-2.8895921181192166,-0.5555552371212438'}\n",
      "topic=numtest partition=0 offset=2716: key=None value={'number': '-4.675606731220046,1.3487549295381918,3.990945581660331,-1.6723132825247256,-1.1919228079430138,-1.719056291661684,2.3804726639236073'}\n",
      "topic=numtest partition=0 offset=2717: key=None value={'number': '-1.2206866192538313,0.91346977857858,-0.014238541561353358,-1.0934702803849357,-0.7370976500175392,-0.8564889924652136,0.33162142379848275'}\n",
      "topic=numtest partition=0 offset=2718: key=None value={'number': '-1.901803272891196,1.777825668140194,-5.231822108696275,0.40527105751290915,1.8353197518170454,-0.3837507561555538,-0.8884259085929944'}\n"
     ]
    },
    {
     "name": "stdout",
     "output_type": "stream",
     "text": [
      "topic=numtest partition=0 offset=2719: key=None value={'number': '0.2806883996569247,-0.895750936512115,-0.8062187220752738,2.331581229568641,2.6226745050310813,1.0019985698165692,-0.3035439911812817'}\n",
      "topic=numtest partition=0 offset=2720: key=None value={'number': '-1.1727567344775376,-0.40460820364477484,1.243219541765071,-0.6876651422660356,-0.1743442824792133,4.25758354935135,1.898823066530756'}\n",
      "topic=numtest partition=0 offset=2721: key=None value={'number': '-3.627955494484428,-0.3732173086066937,1.3674020466457804,2.615258895402599,-2.1381328324436253,3.4611080758687454,2.4524971928491976'}\n",
      "topic=numtest partition=0 offset=2722: key=None value={'number': '-1.4868492352287193,0.6286076838946832,-1.7101829108323268,3.099479003569444,2.1837444975841143,-1.9990722781447405,8.6170246430795'}\n",
      "topic=numtest partition=0 offset=2723: key=None value={'number': '-0.19879228632561496,-1.0532810851027794,0.933596248898738,-1.2555529086827226,0.3204248765307218,-2.437784203023797,1.9115939751348552'}\n",
      "topic=numtest partition=0 offset=2724: key=None value={'number': '2.2214168829014183,0.1361350398403679,-1.8265850141435798,-1.8291638503198329,0.6378924887341638,1.1801342712889045,-0.04183321136901989'}\n",
      "topic=numtest partition=0 offset=2725: key=None value={'number': '0.7879754066943311,-1.6319269543257715,-1.330627624981974,-0.26635424274780256,2.27190684295723,0.08205789666829759,0.1593515055073688'}\n",
      "topic=numtest partition=0 offset=2726: key=None value={'number': '-0.9380279479029138,1.779825623188197,1.758340379254206,0.2905915089892824,1.7846562887722024,3.006488945323555,-6.965301803808878'}\n",
      "topic=numtest partition=0 offset=2727: key=None value={'number': '-3.973695254441071,-0.540429503518473,0.5170331131432162,4.5636823699368225,0.03298418816495448,0.1455380049267685,1.1391305562067466'}\n",
      "topic=numtest partition=0 offset=2728: key=None value={'number': '-2.459949763437233,1.6828381673831343,2.9230628838753,-1.2419428637305832,0.8593423448403853,0.467482336561122,-1.6962520100001346'}\n",
      "topic=numtest partition=0 offset=2729: key=None value={'number': '1.8380196999057454,-0.25737725094753544,2.3293230789891397,-0.5619192972036474,1.6612865064293612,-0.020373799038044895,-3.4502155063689597'}\n",
      "topic=numtest partition=0 offset=2730: key=None value={'number': '-0.35190400546532435,-2.7473921306653093,-3.8209999579754625,-0.00622642591676969,-2.1586644707106903,-0.5960601443762379,2.5810011850630366'}\n",
      "topic=numtest partition=0 offset=2731: key=None value={'number': '-2.1770832087669567,0.25168015143601236,-2.0124560835071335,0.8020834731797601,0.7479618681931953,2.854803697114737,-2.5708424164345307'}\n",
      "topic=numtest partition=0 offset=2732: key=None value={'number': '2.4839785087124246,-1.094102207244555,0.044525428703331385,-0.043966154007000956,-1.1250374706854087,-1.418930026721365,-1.2283058698978058'}\n",
      "topic=numtest partition=0 offset=2733: key=None value={'number': '-1.373338743625518,-3.72666946509422,5.123261598322918,-0.3456048787446488,-2.918193224000066,1.8811612462544927,-0.3385716040495723'}\n",
      "topic=numtest partition=0 offset=2734: key=None value={'number': '3.5546064503480217,-3.6076616134818904,2.89332541162146,-1.9850508609173858,1.865430039653089,1.3927043182049166,0.21692582650145475'}\n",
      "topic=numtest partition=0 offset=2735: key=None value={'number': '0.2892637974249364,1.4104742363340568,3.7625565465266764,1.0762183064257098,0.039585267617323124,1.6919361678451053,-2.151713359313804'}\n",
      "topic=numtest partition=0 offset=2736: key=None value={'number': '-0.46037973140738053,1.4984365833330833,-2.5758074502275115,-0.6228290944153918,1.8675474687701563,-1.8703073428993096,1.9088419372108039'}\n",
      "topic=numtest partition=0 offset=2737: key=None value={'number': '-2.3541836580562756,-0.4016935538010755,-4.215682765507315,-0.7419235102280415,0.574791060793442,1.4461736464922477,2.017510533288538'}\n",
      "topic=numtest partition=0 offset=2738: key=None value={'number': '2.0255753727836185,1.3419790830476799,1.0670870890425463,-1.6773277427687534,0.23219744985912663,-0.9489360781481117,1.0283828796383212'}\n",
      "topic=numtest partition=0 offset=2739: key=None value={'number': '-2.2037844362885854,2.7598650140462917,-0.8495859939139591,-2.873559226880084,-0.13398168762683707,-0.6482446240625634,0.545059858423615'}\n",
      "topic=numtest partition=0 offset=2740: key=None value={'number': '-0.8683842472631383,-1.093934334103576,-0.50428056142869,1.228051267178999,3.8621539045197957,-1.6653969494921164,4.1013237247005865'}\n",
      "topic=numtest partition=0 offset=2741: key=None value={'number': '-1.965836335806353,0.014800973534029527,0.9365515516747118,6.369306035896434,2.2048650220461345,-0.07154290050001158,-1.342830511854216'}\n",
      "topic=numtest partition=0 offset=2742: key=None value={'number': '-0.044894738796423875,3.758280096424699,0.16952052214952404,0.5039261308101507,-0.8185411952229713,-0.478906711893905,3.7138589927154677'}\n",
      "topic=numtest partition=0 offset=2743: key=None value={'number': '-0.17056489716759896,-2.560739818598748,6.463114662547538,1.3479269224342925,3.6390390120699334,2.322631444679519,3.6561936503478667'}\n",
      "topic=numtest partition=0 offset=2744: key=None value={'number': '-1.5659015537613066,1.8253881493907778,-0.03737541376705626,-1.1652423707302038,-1.3295571477952286,-1.952008725168985,-1.3963012047105392'}\n",
      "topic=numtest partition=0 offset=2745: key=None value={'number': '-3.098511713665467,0.6590450073326456,-0.44603435817687487,1.3043024261301706,-1.0090757772493557,1.4018217159201634,-3.5743642180858015'}\n",
      "topic=numtest partition=0 offset=2746: key=None value={'number': '3.192129532830403,-1.4265669849583706,1.6154953276386395,-0.03524656669403318,-3.3917315612467602,0.9554811804747851,-0.2760570770793155'}\n",
      "topic=numtest partition=0 offset=2747: key=None value={'number': '0.521519572621015,-1.114600859443479,0.4169331891116968,3.8055917205624423,-1.205074138719469,-2.0312572120369365,0.7928974057804796'}\n",
      "topic=numtest partition=0 offset=2748: key=None value={'number': '-1.7105640134192734,1.6620656725319256,-0.9340081664160355,0.05918979985022079,2.469255814648326,-0.5829781640511742,0.13861836066564998'}\n",
      "topic=numtest partition=0 offset=2749: key=None value={'number': '-0.5525795978272695,-1.7911916668941665,-0.5530729237943679,0.04999311092254554,-2.0394884834208122,-2.9399978717582487,1.5711867009991836'}\n",
      "topic=numtest partition=0 offset=2750: key=None value={'number': '0.4262502799362392,-0.10305881193746241,-5.433661967794903,-0.47638149355848086,-3.0861607484551943,1.6162891467841078,-0.2886831949200703'}\n",
      "topic=numtest partition=0 offset=2751: key=None value={'number': '3.8140860107877317,-1.577827104495069,1.9152530455774823,-0.565891053079948,3.3452060477644197,-2.785596567830522,2.399705724079454'}\n",
      "topic=numtest partition=0 offset=2752: key=None value={'number': '-0.41467151877490804,0.2607604368997274,-3.159039264183682,2.239485581128472,-0.7169236838795027,0.5326685606406985,0.43222518981150887'}\n",
      "topic=numtest partition=0 offset=2753: key=None value={'number': '1.3871403658778396,-0.681907587253559,0.7144699347683285,-2.6730207959409005,1.0021619047688297,-1.6789960677503013,-2.0324159001465563'}\n",
      "topic=numtest partition=0 offset=2754: key=None value={'number': '1.8570000412684189,-0.6587218768099264,-1.707821725193344,-1.9855207159164454,3.5263413373897783,-2.7422927713431826,-2.386284429649115'}\n",
      "topic=numtest partition=0 offset=2755: key=None value={'number': '1.1435471931580927,2.7185274721510218,-1.3757316379036892,2.090908841971997,2.6575294505933553,0.16929186576943825,1.7366313995585907'}\n",
      "topic=numtest partition=0 offset=2756: key=None value={'number': '0.4622509925002677,4.269692671788143,-1.721071668664749,1.3778842909486486,0.35617966172177395,-1.1476001694968085,3.1918880975671047'}\n",
      "topic=numtest partition=0 offset=2757: key=None value={'number': '2.6022862837302245,-0.7394580724207298,1.3318577963685831,-2.7752842961669257,-3.092410397567178,0.17734842171990067,2.1229032219562347'}\n",
      "topic=numtest partition=0 offset=2758: key=None value={'number': '2.4527736297652036,-2.9860396579602333,-1.8856725887166632,-4.064032917158448,-1.3708577036380665,2.099643445749786,-0.8337212323414241'}\n",
      "topic=numtest partition=0 offset=2759: key=None value={'number': '-0.5131158742593958,1.1987377203808633,-1.1099614209588546,0.9095325469630778,1.4844929362065338,0.2453693944747118,2.5445842316020055'}\n"
     ]
    },
    {
     "name": "stdout",
     "output_type": "stream",
     "text": [
      "topic=numtest partition=0 offset=2760: key=None value={'number': '0.05062715707388991,-1.9659004289735704,-5.050489014861552,1.9268026707817276,-2.2372486164399317,1.897783264010703,0.24178241852223215'}\n",
      "topic=numtest partition=0 offset=2761: key=None value={'number': '1.378067238794489,0.7249023426812232,1.932192772410695,-2.8115569756228793,1.615796268574826,-1.7299782648607773,-0.5850495193328287'}\n",
      "topic=numtest partition=0 offset=2762: key=None value={'number': '-1.374393509214291,-0.19909882829309827,-1.4555750801585174,2.580219670681628,-2.827112916169333,-2.043202512921254,0.8431004460516578'}\n",
      "topic=numtest partition=0 offset=2763: key=None value={'number': '-1.287943448657659,-0.6180626890083548,-0.13949167145935412,0.7108569743065324,0.4249411734415704,0.9331920290398295,1.5035162933468287'}\n",
      "topic=numtest partition=0 offset=2764: key=None value={'number': '1.4963948333743518,2.332951742806583,2.0704071108571203,2.5243818959844666,0.17321274087187943,-0.7968418679315166,-1.0185631533322763'}\n",
      "topic=numtest partition=0 offset=2765: key=None value={'number': '-2.9170433531109965,-0.7767804460984287,-1.3322207934365156,0.27580456795189734,0.6487590401743137,0.9539559371120833,-0.5836497564317722'}\n",
      "topic=numtest partition=0 offset=2766: key=None value={'number': '-1.1669507165530404,3.3405162126292844,-1.3422681467397986,0.6876646912125607,-1.2884308685090515,2.100711398433945,2.879578071347971'}\n",
      "topic=numtest partition=0 offset=2767: key=None value={'number': '0.0704046402606381,-1.504455528191258,-0.2989424340528331,2.931513571377761,0.3260230461238748,-2.153331282141361,3.3131890313063903'}\n",
      "topic=numtest partition=0 offset=2768: key=None value={'number': '0.9817626218317524,-1.0066049564321677,0.41960884133127724,1.8694735872274117,-2.816007842691137,0.5329526609864383,-3.1985084573295706'}\n",
      "topic=numtest partition=0 offset=2769: key=None value={'number': '-0.6530373794455183,-1.6099071481979412,1.7452499579805476,0.38688010612097623,2.7112397553914374,-1.702836494692032,0.04064146069805701'}\n",
      "topic=numtest partition=0 offset=2770: key=None value={'number': '-0.6216078838047274,2.3356651112537103,1.8815480220404939,0.12552258867493724,-1.4624524364559601,0.013055586181946686,-0.21984374604157225'}\n",
      "topic=numtest partition=0 offset=2771: key=None value={'number': '-3.0651449446293815,-0.32372963331847093,-1.8617420939462983,-0.6882106543522089,-1.5029797641608833,1.6674545256671007,0.8694552396479694'}\n",
      "topic=numtest partition=0 offset=2772: key=None value={'number': '1.0172922127881694,-0.23018732980594386,-0.4349211787827887,-1.3688763897773522,2.373552324723749,-0.28807323739678153,1.7308459387371562'}\n",
      "topic=numtest partition=0 offset=2773: key=None value={'number': '1.8293083786974051,-0.898414313860688,1.7317584354503672,0.14504363129491823,1.5456278621601804,1.496337116180893,4.630171897571787'}\n",
      "topic=numtest partition=0 offset=2774: key=None value={'number': '-1.3013525828697223,2.478609556316338,3.0462815939843995,2.2301781346911795,-3.8985681424897183,-1.4178638767557599,-0.8786506149201507'}\n",
      "topic=numtest partition=0 offset=2775: key=None value={'number': '-4.294481031259939,3.3291045105425288,0.11753057242782337,-0.7794054040117058,-1.6393423789761665,0.8977911906427708,3.507082517013104'}\n",
      "topic=numtest partition=0 offset=2776: key=None value={'number': '-2.771679588213157,0.31402128936720325,-1.259157655810805,-0.3395106327187427,-0.4505660716243028,-1.1567244575438718,1.8227195452868694'}\n",
      "topic=numtest partition=0 offset=2777: key=None value={'number': '-3.2260511856799443,1.5587134282923925,0.21001279821839172,-2.009282717712744,0.7664257116533414,0.4023360083076699,-0.36996035989307974'}\n",
      "topic=numtest partition=0 offset=2778: key=None value={'number': '2.134122934555634,-1.1825172166672613,-0.9285796629378421,-3.839082955324834,1.4045867135815975,1.0227157954833808,-2.395172751586593'}\n",
      "topic=numtest partition=0 offset=2779: key=None value={'number': '-1.4696942036860754,5.110561034513874,-0.030152044042472542,1.1324044543623195,0.6868873101042853,1.9719429052197452,3.4129096475557583'}\n",
      "topic=numtest partition=0 offset=2780: key=None value={'number': '1.0397778776283917,-0.022805426290596304,3.943758994529921,-1.2829196073518174,-2.9382105892090067,0.23559508148434505,0.6660679291938983'}\n",
      "topic=numtest partition=0 offset=2781: key=None value={'number': '0.07848163544128463,-0.032344581654904815,-1.2680641058029405,-2.16450999934967,-0.3022723737011695,-0.36122181123194486,1.3061776539032017'}\n",
      "topic=numtest partition=0 offset=2782: key=None value={'number': '-0.15711055939004356,0.2282334981105228,0.1887391327070515,1.2278147157453316,0.7082331814591873,0.8711134601863715,-0.5538751250113314'}\n",
      "topic=numtest partition=0 offset=2783: key=None value={'number': '0.5888596236183146,1.0258350785065764,0.4628233947497849,-1.9572397117849183,-0.6586507222524106,2.0727577003619415,-0.8647060162039317'}\n",
      "topic=numtest partition=0 offset=2784: key=None value={'number': '-0.8405881144998822,4.123249397572856,0.031658804271245664,-2.165655064263594,1.8341803423961591,-2.387647060590731,-0.04537062654021881'}\n",
      "topic=numtest partition=0 offset=2785: key=None value={'number': '1.1817802308082588,0.104167873007594,-0.6142624893382664,1.0149586982586376,-2.395560803805177,-2.27716543925791,-0.36590516234696774'}\n",
      "topic=numtest partition=0 offset=2786: key=None value={'number': '-0.25388888836633755,0.30974960149677583,4.940501043531214,0.25521731803573733,-0.7412952065450726,1.8351068199795175,0.1703866364014326'}\n",
      "topic=numtest partition=0 offset=2787: key=None value={'number': '-5.628477861915027,1.3495675047208016,-3.7225620118620166,-0.6447012382010324,0.11322231535993565,0.6383828397783872,1.9271596733199843'}\n",
      "topic=numtest partition=0 offset=2788: key=None value={'number': '0.25080670333265886,1.3159621920539881,1.6478988845069913,-1.532161249985765,-1.7570598863343219,-1.1312151545049087,-4.996584361209932'}\n",
      "topic=numtest partition=0 offset=2789: key=None value={'number': '0.4249763874081606,1.8732073828723736,-1.4579324639218347,-1.0260125264010647,3.1844628775661805,-0.038986869037598335,-0.9644614029132317'}\n",
      "topic=numtest partition=0 offset=2790: key=None value={'number': '-0.9451770709973193,0.5778156270499586,1.1940731030358285,1.4755527351949926,0.3329580135142674,-1.9070559467728627,4.517469191251592'}\n"
     ]
    },
    {
     "name": "stderr",
     "output_type": "stream",
     "text": [
      "Process Process-60:\n",
      "Process Process-59:\n",
      "Traceback (most recent call last):\n",
      "Traceback (most recent call last):\n",
      "  File \"/root/anaconda3/envs/kafka/lib/python3.7/multiprocessing/process.py\", line 297, in _bootstrap\n",
      "    self.run()\n"
     ]
    },
    {
     "ename": "KeyboardInterrupt",
     "evalue": "",
     "output_type": "error",
     "traceback": [
      "\u001b[0;31m--------------------------------------------------------------------\u001b[0m",
      "\u001b[0;31mKeyboardInterrupt\u001b[0m                  Traceback (most recent call last)",
      "\u001b[0;32m<ipython-input-68-445fe3442f01>\u001b[0m in \u001b[0;36m<module>\u001b[0;34m\u001b[0m\n\u001b[1;32m     15\u001b[0m         \u001b[0mjob\u001b[0m\u001b[0;34m.\u001b[0m\u001b[0mjoin\u001b[0m\u001b[0;34m(\u001b[0m\u001b[0;34m)\u001b[0m\u001b[0;34m\u001b[0m\u001b[0;34m\u001b[0m\u001b[0m\n\u001b[1;32m     16\u001b[0m \u001b[0;32mif\u001b[0m \u001b[0m__name__\u001b[0m \u001b[0;34m==\u001b[0m \u001b[0;34m\"__main__\"\u001b[0m\u001b[0;34m:\u001b[0m\u001b[0;34m\u001b[0m\u001b[0;34m\u001b[0m\u001b[0m\n\u001b[0;32m---> 17\u001b[0;31m     \u001b[0mmain\u001b[0m\u001b[0;34m(\u001b[0m\u001b[0;34m)\u001b[0m\u001b[0;34m\u001b[0m\u001b[0;34m\u001b[0m\u001b[0m\n\u001b[0m",
      "\u001b[0;32m<ipython-input-68-445fe3442f01>\u001b[0m in \u001b[0;36mmain\u001b[0;34m()\u001b[0m\n\u001b[1;32m     13\u001b[0m \u001b[0;34m\u001b[0m\u001b[0m\n\u001b[1;32m     14\u001b[0m     \u001b[0;32mfor\u001b[0m \u001b[0mjob\u001b[0m \u001b[0;32min\u001b[0m \u001b[0mjobs\u001b[0m\u001b[0;34m:\u001b[0m\u001b[0;34m\u001b[0m\u001b[0;34m\u001b[0m\u001b[0m\n\u001b[0;32m---> 15\u001b[0;31m         \u001b[0mjob\u001b[0m\u001b[0;34m.\u001b[0m\u001b[0mjoin\u001b[0m\u001b[0;34m(\u001b[0m\u001b[0;34m)\u001b[0m\u001b[0;34m\u001b[0m\u001b[0;34m\u001b[0m\u001b[0m\n\u001b[0m\u001b[1;32m     16\u001b[0m \u001b[0;32mif\u001b[0m \u001b[0m__name__\u001b[0m \u001b[0;34m==\u001b[0m \u001b[0;34m\"__main__\"\u001b[0m\u001b[0;34m:\u001b[0m\u001b[0;34m\u001b[0m\u001b[0;34m\u001b[0m\u001b[0m\n\u001b[1;32m     17\u001b[0m     \u001b[0mmain\u001b[0m\u001b[0;34m(\u001b[0m\u001b[0;34m)\u001b[0m\u001b[0;34m\u001b[0m\u001b[0;34m\u001b[0m\u001b[0m\n",
      "\u001b[0;32m~/anaconda3/envs/kafka/lib/python3.7/multiprocessing/process.py\u001b[0m in \u001b[0;36mjoin\u001b[0;34m(self, timeout)\u001b[0m\n\u001b[1;32m    138\u001b[0m         \u001b[0;32massert\u001b[0m \u001b[0mself\u001b[0m\u001b[0;34m.\u001b[0m\u001b[0m_parent_pid\u001b[0m \u001b[0;34m==\u001b[0m \u001b[0mos\u001b[0m\u001b[0;34m.\u001b[0m\u001b[0mgetpid\u001b[0m\u001b[0;34m(\u001b[0m\u001b[0;34m)\u001b[0m\u001b[0;34m,\u001b[0m \u001b[0;34m'can only join a child process'\u001b[0m\u001b[0;34m\u001b[0m\u001b[0;34m\u001b[0m\u001b[0m\n\u001b[1;32m    139\u001b[0m         \u001b[0;32massert\u001b[0m \u001b[0mself\u001b[0m\u001b[0;34m.\u001b[0m\u001b[0m_popen\u001b[0m \u001b[0;32mis\u001b[0m \u001b[0;32mnot\u001b[0m \u001b[0;32mNone\u001b[0m\u001b[0;34m,\u001b[0m \u001b[0;34m'can only join a started process'\u001b[0m\u001b[0;34m\u001b[0m\u001b[0;34m\u001b[0m\u001b[0m\n\u001b[0;32m--> 140\u001b[0;31m         \u001b[0mres\u001b[0m \u001b[0;34m=\u001b[0m \u001b[0mself\u001b[0m\u001b[0;34m.\u001b[0m\u001b[0m_popen\u001b[0m\u001b[0;34m.\u001b[0m\u001b[0mwait\u001b[0m\u001b[0;34m(\u001b[0m\u001b[0mtimeout\u001b[0m\u001b[0;34m)\u001b[0m\u001b[0;34m\u001b[0m\u001b[0;34m\u001b[0m\u001b[0m\n\u001b[0m\u001b[1;32m    141\u001b[0m         \u001b[0;32mif\u001b[0m \u001b[0mres\u001b[0m \u001b[0;32mis\u001b[0m \u001b[0;32mnot\u001b[0m \u001b[0;32mNone\u001b[0m\u001b[0;34m:\u001b[0m\u001b[0;34m\u001b[0m\u001b[0;34m\u001b[0m\u001b[0m\n\u001b[1;32m    142\u001b[0m             \u001b[0m_children\u001b[0m\u001b[0;34m.\u001b[0m\u001b[0mdiscard\u001b[0m\u001b[0;34m(\u001b[0m\u001b[0mself\u001b[0m\u001b[0;34m)\u001b[0m\u001b[0;34m\u001b[0m\u001b[0;34m\u001b[0m\u001b[0m\n",
      "\u001b[0;32m~/anaconda3/envs/kafka/lib/python3.7/multiprocessing/popen_fork.py\u001b[0m in \u001b[0;36mwait\u001b[0;34m(self, timeout)\u001b[0m\n\u001b[1;32m     46\u001b[0m                     \u001b[0;32mreturn\u001b[0m \u001b[0;32mNone\u001b[0m\u001b[0;34m\u001b[0m\u001b[0;34m\u001b[0m\u001b[0m\n\u001b[1;32m     47\u001b[0m             \u001b[0;31m# This shouldn't block if wait() returned successfully.\u001b[0m\u001b[0;34m\u001b[0m\u001b[0;34m\u001b[0m\u001b[0;34m\u001b[0m\u001b[0m\n\u001b[0;32m---> 48\u001b[0;31m             \u001b[0;32mreturn\u001b[0m \u001b[0mself\u001b[0m\u001b[0;34m.\u001b[0m\u001b[0mpoll\u001b[0m\u001b[0;34m(\u001b[0m\u001b[0mos\u001b[0m\u001b[0;34m.\u001b[0m\u001b[0mWNOHANG\u001b[0m \u001b[0;32mif\u001b[0m \u001b[0mtimeout\u001b[0m \u001b[0;34m==\u001b[0m \u001b[0;36m0.0\u001b[0m \u001b[0;32melse\u001b[0m \u001b[0;36m0\u001b[0m\u001b[0;34m)\u001b[0m\u001b[0;34m\u001b[0m\u001b[0;34m\u001b[0m\u001b[0m\n\u001b[0m\u001b[1;32m     49\u001b[0m         \u001b[0;32mreturn\u001b[0m \u001b[0mself\u001b[0m\u001b[0;34m.\u001b[0m\u001b[0mreturncode\u001b[0m\u001b[0;34m\u001b[0m\u001b[0;34m\u001b[0m\u001b[0m\n\u001b[1;32m     50\u001b[0m \u001b[0;34m\u001b[0m\u001b[0m\n",
      "\u001b[0;32m~/anaconda3/envs/kafka/lib/python3.7/multiprocessing/popen_fork.py\u001b[0m in \u001b[0;36mpoll\u001b[0;34m(self, flag)\u001b[0m\n\u001b[1;32m     26\u001b[0m         \u001b[0;32mif\u001b[0m \u001b[0mself\u001b[0m\u001b[0;34m.\u001b[0m\u001b[0mreturncode\u001b[0m \u001b[0;32mis\u001b[0m \u001b[0;32mNone\u001b[0m\u001b[0;34m:\u001b[0m\u001b[0;34m\u001b[0m\u001b[0;34m\u001b[0m\u001b[0m\n\u001b[1;32m     27\u001b[0m             \u001b[0;32mtry\u001b[0m\u001b[0;34m:\u001b[0m\u001b[0;34m\u001b[0m\u001b[0;34m\u001b[0m\u001b[0m\n\u001b[0;32m---> 28\u001b[0;31m                 \u001b[0mpid\u001b[0m\u001b[0;34m,\u001b[0m \u001b[0msts\u001b[0m \u001b[0;34m=\u001b[0m \u001b[0mos\u001b[0m\u001b[0;34m.\u001b[0m\u001b[0mwaitpid\u001b[0m\u001b[0;34m(\u001b[0m\u001b[0mself\u001b[0m\u001b[0;34m.\u001b[0m\u001b[0mpid\u001b[0m\u001b[0;34m,\u001b[0m \u001b[0mflag\u001b[0m\u001b[0;34m)\u001b[0m\u001b[0;34m\u001b[0m\u001b[0;34m\u001b[0m\u001b[0m\n\u001b[0m\u001b[1;32m     29\u001b[0m             \u001b[0;32mexcept\u001b[0m \u001b[0mOSError\u001b[0m \u001b[0;32mas\u001b[0m \u001b[0me\u001b[0m\u001b[0;34m:\u001b[0m\u001b[0;34m\u001b[0m\u001b[0;34m\u001b[0m\u001b[0m\n\u001b[1;32m     30\u001b[0m                 \u001b[0;31m# Child process not yet created. See #1731717\u001b[0m\u001b[0;34m\u001b[0m\u001b[0;34m\u001b[0m\u001b[0;34m\u001b[0m\u001b[0m\n",
      "\u001b[0;31mKeyboardInterrupt\u001b[0m: "
     ]
    },
    {
     "name": "stderr",
     "output_type": "stream",
     "text": [
      "  File \"/root/anaconda3/envs/kafka/lib/python3.7/multiprocessing/process.py\", line 297, in _bootstrap\n",
      "    self.run()\n",
      "  File \"/root/anaconda3/envs/kafka/lib/python3.7/multiprocessing/process.py\", line 99, in run\n",
      "    self._target(*self._args, **self._kwargs)\n",
      "  File \"/root/anaconda3/envs/kafka/lib/python3.7/multiprocessing/process.py\", line 99, in run\n",
      "    self._target(*self._args, **self._kwargs)\n",
      "  File \"<ipython-input-67-d99385664870>\", line 20, in start\n",
      "    self.kafka_wrapper.consume(topic)\n",
      "  File \"<ipython-input-67-d99385664870>\", line 20, in start\n",
      "    self.kafka_wrapper.consume(topic)\n",
      "  File \"<ipython-input-67-d99385664870>\", line 10, in consume\n",
      "    for message in self.consumer:\n",
      "  File \"<ipython-input-67-d99385664870>\", line 10, in consume\n",
      "    for message in self.consumer:\n",
      "  File \"/root/anaconda3/envs/kafka/lib/python3.7/site-packages/kafka/consumer/group.py\", line 1120, in __next__\n",
      "    return next(self._iterator)\n",
      "  File \"/root/anaconda3/envs/kafka/lib/python3.7/site-packages/kafka/consumer/group.py\", line 1120, in __next__\n",
      "    return next(self._iterator)\n",
      "  File \"/root/anaconda3/envs/kafka/lib/python3.7/site-packages/kafka/consumer/group.py\", line 1075, in _message_generator\n",
      "    self._client.poll(timeout_ms=poll_ms)\n",
      "  File \"/root/anaconda3/envs/kafka/lib/python3.7/site-packages/kafka/consumer/group.py\", line 1075, in _message_generator\n",
      "    self._client.poll(timeout_ms=poll_ms)\n",
      "  File \"/root/anaconda3/envs/kafka/lib/python3.7/site-packages/kafka/client_async.py\", line 593, in poll\n",
      "    self._poll(timeout)\n",
      "  File \"/root/anaconda3/envs/kafka/lib/python3.7/site-packages/kafka/client_async.py\", line 593, in poll\n",
      "    self._poll(timeout)\n",
      "  File \"/root/anaconda3/envs/kafka/lib/python3.7/site-packages/kafka/client_async.py\", line 614, in _poll\n",
      "    ready = self._selector.select(timeout)\n",
      "  File \"/root/anaconda3/envs/kafka/lib/python3.7/site-packages/kafka/client_async.py\", line 614, in _poll\n",
      "    ready = self._selector.select(timeout)\n",
      "  File \"/root/anaconda3/envs/kafka/lib/python3.7/selectors.py\", line 468, in select\n",
      "    fd_event_list = self._selector.poll(timeout, max_ev)\n",
      "  File \"/root/anaconda3/envs/kafka/lib/python3.7/selectors.py\", line 468, in select\n",
      "    fd_event_list = self._selector.poll(timeout, max_ev)\n",
      "KeyboardInterrupt\n",
      "KeyboardInterrupt\n"
     ]
    }
   ],
   "source": [
    "from multiprocessing import Process\n",
    "def main():\n",
    "    serviceA = ServiceA()\n",
    "    serviceB = ServiceB()\n",
    "\n",
    "    jobs=[]\n",
    "    # The code works fine if I used threading.Thread here instead of Process\n",
    "    jobs.append(Process(target=serviceA.start, args=(\"numtest\",)))\n",
    "    jobs.append(Process(target=serviceB.start, args=(\"numtest\",)))\n",
    "\n",
    "    for job in jobs:\n",
    "        job.start()\n",
    "\n",
    "    for job in jobs:\n",
    "        job.join()\n",
    "        \n",
    "if __name__ == \"__main__\":\n",
    "    main()"
   ]
  },
  {
   "cell_type": "code",
   "execution_count": 86,
   "metadata": {},
   "outputs": [],
   "source": [
    "from kafka import KafkaConsumer\n",
    "from json import loads\n",
    "from json import dumps\n",
    "from kafka import KafkaProducer\n",
    "\n",
    "\n",
    "def on_send_success(record_metadata):\n",
    "    print(\"topic : {} , partition : {} , offset : {}\".\\\n",
    "          format( record_metadata.topic , record_metadata.partition , record_metadata.offset))\n",
    "\n",
    "class KafkaWrapper():\n",
    "    def __init__(self,) :\n",
    "        self.producer = KafkaProducer(bootstrap_servers=['localhost:9092'],\n",
    "                         value_serializer=lambda x: \n",
    "                         dumps(x).encode('utf-8'))\n",
    "    \n",
    "    \n",
    "    def consume(self, topic , group):\n",
    "        consumer = KafkaConsumer(bootstrap_servers=['localhost:9092'],\n",
    "                                      group_id=group,\n",
    "                                      value_deserializer=lambda x: loads(x.decode('utf-8')))\n",
    "        consumer.subscribe(topic)\n",
    "        for message in consumer:\n",
    "            print (\"topic=%s partition=%d offset=%d: key=%s value=%s\" % (message.topic, message.partition,\n",
    "                                          message.offset, message.key,\n",
    "                                          message.value))\n",
    "            data = {group : str(message.offset)}\n",
    "            producer = KafkaProducer(bootstrap_servers=['localhost:9092'],\n",
    "                         value_serializer=lambda x: \n",
    "                         dumps(x).encode('utf-8'))\n",
    "            producer.send( \"result\", value = data ).add_callback(on_send_success)\n",
    "            \n",
    "class ServiceInterface():\n",
    "    def __init__(self):\n",
    "        self.kafka_wrapper = KafkaWrapper()\n",
    "\n",
    "    def start(self, topic , group):\n",
    "        self.kafka_wrapper.consume(topic , group)\n",
    "class ServiceA(ServiceInterface):\n",
    "    pass\n",
    "\n",
    "class ServiceB(ServiceInterface):\n",
    "    pass"
   ]
  },
  {
   "cell_type": "code",
   "execution_count": 89,
   "metadata": {},
   "outputs": [
    {
     "name": "stderr",
     "output_type": "stream",
     "text": [
      "2019-08-17 17:29:19,846.846.2638854980469:kafka.conn:139956971476736:INFO:19220:<BrokerConnection node_id=bootstrap-0 host=localhost:9092 <connecting> [IPv6 ('::1', 9092, 0, 0)]>: connecting to localhost:9092 [('::1', 9092, 0, 0) IPv6]\n",
      "2019-08-17 17:29:19,848.848.160982131958:kafka.conn:139956971476736:INFO:19220:Probing node bootstrap-0 broker version\n",
      "2019-08-17 17:29:19,849.849.9977588653564:kafka.conn:139956971476736:INFO:19220:<BrokerConnection node_id=bootstrap-0 host=localhost:9092 <connecting> [IPv6 ('::1', 9092, 0, 0)]>: Connection complete.\n",
      "2019-08-17 17:29:19,955.955.6076526641846:kafka.conn:139956971476736:INFO:19220:Broker version identifed as 1.0.0\n",
      "2019-08-17 17:29:19,959.959.4199657440186:kafka.conn:139956971476736:INFO:19220:Set configuration api_version=(1, 0, 0) to skip auto check_version requests on startup\n",
      "2019-08-17 17:29:19,976.976.158618927002:kafka.conn:139956971476736:INFO:19220:<BrokerConnection node_id=bootstrap-0 host=localhost:9092 <connecting> [IPv6 ('::1', 9092, 0, 0)]>: connecting to localhost:9092 [('::1', 9092, 0, 0) IPv6]\n",
      "2019-08-17 17:29:19,977.977.9107570648193:kafka.conn:139956971476736:INFO:19220:Probing node bootstrap-0 broker version\n",
      "2019-08-17 17:29:19,979.979.4869422912598:kafka.conn:139956971476736:INFO:19220:<BrokerConnection node_id=bootstrap-0 host=localhost:9092 <connecting> [IPv6 ('::1', 9092, 0, 0)]>: Connection complete.\n",
      "2019-08-17 17:29:20,083.83.97245407104492:kafka.conn:139956971476736:INFO:19220:Broker version identifed as 1.0.0\n",
      "2019-08-17 17:29:20,085.85.16860008239746:kafka.conn:139956971476736:INFO:19220:Set configuration api_version=(1, 0, 0) to skip auto check_version requests on startup\n",
      "2019-08-17 17:29:20,111.111.43636703491211:kafka.conn:139956971476736:INFO:1998:<BrokerConnection node_id=bootstrap-0 host=localhost:9092 <connecting> [IPv6 ('::1', 9092, 0, 0)]>: connecting to localhost:9092 [('::1', 9092, 0, 0) IPv6]\n",
      "2019-08-17 17:29:20,116.116.7600154876709:kafka.conn:139956971476736:INFO:1998:Probing node bootstrap-0 broker version\n",
      "2019-08-17 17:29:20,116.116.4100170135498:kafka.conn:139956971476736:INFO:2000:<BrokerConnection node_id=bootstrap-0 host=localhost:9092 <connecting> [IPv6 ('::1', 9092, 0, 0)]>: connecting to localhost:9092 [('::1', 9092, 0, 0) IPv6]\n",
      "2019-08-17 17:29:20,119.119.27032470703125:kafka.conn:139956971476736:INFO:1998:<BrokerConnection node_id=bootstrap-0 host=localhost:9092 <connecting> [IPv6 ('::1', 9092, 0, 0)]>: Connection complete.\n",
      "2019-08-17 17:29:20,121.121.24371528625488:kafka.conn:139956971476736:INFO:2000:Probing node bootstrap-0 broker version\n",
      "2019-08-17 17:29:20,123.123.41976165771484:kafka.conn:139956971476736:INFO:2000:<BrokerConnection node_id=bootstrap-0 host=localhost:9092 <connecting> [IPv6 ('::1', 9092, 0, 0)]>: Connection complete.\n",
      "2019-08-17 17:29:20,225.225.59452056884766:kafka.conn:139956971476736:INFO:1998:Broker version identifed as 1.0.0\n",
      "2019-08-17 17:29:20,227.227.56075859069824:kafka.conn:139956971476736:INFO:1998:Set configuration api_version=(1, 0, 0) to skip auto check_version requests on startup\n",
      "2019-08-17 17:29:20,229.229.447603225708:kafka.conn:139956971476736:INFO:2000:Broker version identifed as 1.0.0\n",
      "2019-08-17 17:29:20,231.231.32872581481934:kafka.conn:139956971476736:INFO:2000:Set configuration api_version=(1, 0, 0) to skip auto check_version requests on startup\n",
      "2019-08-17 17:29:20,231.231.2033176422119:kafka.consumer.subscription_state:139956971476736:INFO:1998:Updating subscribed topics to: ['my_topic']\n",
      "2019-08-17 17:29:20,235.235.0478172302246:kafka.consumer.subscription_state:139956971476736:INFO:2000:Updating subscribed topics to: ['my-topic']\n",
      "2019-08-17 17:29:20,235.235.7349395751953:kafka.cluster:139956971476736:INFO:1998:Group coordinator for SR1 is BrokerMetadata(nodeId=0, host='ubuntu', port=9092, rack=None)\n",
      "2019-08-17 17:29:20,237.237.701416015625:kafka.coordinator:139956971476736:INFO:1998:Discovered coordinator 0 for group SR1\n",
      "2019-08-17 17:29:20,238.238.8925552368164:kafka.cluster:139956971476736:INFO:2000:Group coordinator for SR3 is BrokerMetadata(nodeId=0, host='ubuntu', port=9092, rack=None)\n",
      "2019-08-17 17:29:20,239.239.5915985107422:kafka.coordinator:139956971476736:INFO:1998:Starting new heartbeat thread\n",
      "2019-08-17 17:29:20,240.240.60821533203125:kafka.coordinator:139956971476736:INFO:2000:Discovered coordinator 0 for group SR3\n",
      "2019-08-17 17:29:20,241.241.97697639465332:kafka.coordinator.consumer:139956971476736:INFO:1998:Revoking previously assigned partitions set() for group SR1\n",
      "2019-08-17 17:29:20,242.242.5837516784668:kafka.coordinator:139956971476736:INFO:2000:Starting new heartbeat thread\n",
      "2019-08-17 17:29:20,244.244.87709999084473:kafka.conn:139956971476736:INFO:1998:<BrokerConnection node_id=0 host=ubuntu:9092 <connecting> [IPv4 ('127.0.1.1', 9092)]>: connecting to ubuntu:9092 [('127.0.1.1', 9092) IPv4]\n",
      "2019-08-17 17:29:20,244.244.91477012634277:kafka.coordinator.consumer:139956971476736:INFO:2000:Revoking previously assigned partitions set() for group SR3\n",
      "2019-08-17 17:29:20,247.247.45440483093262:kafka.conn:139956971476736:INFO:2000:<BrokerConnection node_id=0 host=ubuntu:9092 <connecting> [IPv4 ('127.0.1.1', 9092)]>: connecting to ubuntu:9092 [('127.0.1.1', 9092) IPv4]\n",
      "2019-08-17 17:29:20,347.347.9039669036865:kafka.conn:139956971476736:INFO:1998:<BrokerConnection node_id=0 host=ubuntu:9092 <connecting> [IPv4 ('127.0.1.1', 9092)]>: Connection complete.\n",
      "2019-08-17 17:29:20,349.349.7657775878906:kafka.conn:139956971476736:INFO:1998:<BrokerConnection node_id=bootstrap-0 host=localhost:9092 <connected> [IPv6 ('::1', 9092, 0, 0)]>: Closing connection. \n",
      "2019-08-17 17:29:20,350.350.0497341156006:kafka.conn:139956971476736:INFO:2000:<BrokerConnection node_id=0 host=ubuntu:9092 <connecting> [IPv4 ('127.0.1.1', 9092)]>: Connection complete.\n",
      "2019-08-17 17:29:20,351.351.8197536468506:kafka.conn:139956971476736:INFO:2000:<BrokerConnection node_id=bootstrap-0 host=localhost:9092 <connected> [IPv6 ('::1', 9092, 0, 0)]>: Closing connection. \n",
      "2019-08-17 17:29:20,452.452.2521495819092:kafka.coordinator:139956971476736:INFO:1998:(Re-)joining group SR1\n",
      "2019-08-17 17:29:20,454.454.01716232299805:kafka.coordinator:139956971476736:INFO:2000:(Re-)joining group SR3\n",
      "2019-08-17 17:29:26,961.961.2133502960205:kafka.coordinator:139956971476736:INFO:1998:Elected group leader -- performing partition assignments using range\n",
      "2019-08-17 17:29:26,965.965.9996032714844:kafka.coordinator:139956971476736:INFO:1998:Successfully joined group SR1 with generation 37\n",
      "2019-08-17 17:29:26,968.968.0149555206299:kafka.consumer.subscription_state:139956971476736:INFO:1998:Updated partition assignment: [TopicPartition(topic='my_topic', partition=0)]\n",
      "2019-08-17 17:29:26,969.969.9573516845703:kafka.coordinator.consumer:139956971476736:INFO:1998:Setting newly assigned partitions {TopicPartition(topic='my_topic', partition=0)} for group SR1\n",
      "2019-08-17 17:29:27,331.331.9540023803711:kafka.coordinator:139956971476736:INFO:2000:Elected group leader -- performing partition assignments using range\n",
      "2019-08-17 17:29:27,335.335.69884300231934:kafka.coordinator:139956971476736:INFO:2000:Successfully joined group SR3 with generation 10\n",
      "2019-08-17 17:29:27,337.337.6786708831787:kafka.consumer.subscription_state:139956971476736:INFO:2000:Updated partition assignment: [TopicPartition(topic='my-topic', partition=0)]\n",
      "2019-08-17 17:29:27,339.339.42222595214844:kafka.coordinator.consumer:139956971476736:INFO:2000:Setting newly assigned partitions {TopicPartition(topic='my-topic', partition=0)} for group SR3\n"
     ]
    },
    {
     "name": "stdout",
     "output_type": "stream",
     "text": [
      "topic=my-topic partition=0 offset=2300: key=None value={'number_2': '6.476247172566793,18.6998425263037,-22.239809251875084,0.8993833695170785,-4.708090694944051'}\n",
      "topic=my_topic partition=0 offset=2900: key=None value={'number_1': '26.77861074513024,21.489973404180134,-3.2981147820169614,-26.922375719571654,4.044432283062741'}\n"
     ]
    },
    {
     "name": "stderr",
     "output_type": "stream",
     "text": [
      "2019-08-17 17:29:32,831.831.7060470581055:kafka.conn:139956971476736:INFO:2000:<BrokerConnection node_id=bootstrap-0 host=localhost:9092 <connecting> [IPv6 ('::1', 9092, 0, 0)]>: connecting to localhost:9092 [('::1', 9092, 0, 0) IPv6]\n",
      "2019-08-17 17:29:32,831.831.8266868591309:kafka.conn:139956971476736:INFO:1998:<BrokerConnection node_id=bootstrap-0 host=localhost:9092 <connecting> [IPv6 ('::1', 9092, 0, 0)]>: connecting to localhost:9092 [('::1', 9092, 0, 0) IPv6]\n",
      "2019-08-17 17:29:32,833.833.648681640625:kafka.conn:139956971476736:INFO:2000:Probing node bootstrap-0 broker version\n",
      "2019-08-17 17:29:32,833.833.8930606842041:kafka.conn:139956971476736:INFO:1998:Probing node bootstrap-0 broker version\n",
      "2019-08-17 17:29:32,835.835.5205059051514:kafka.conn:139956971476736:INFO:2000:<BrokerConnection node_id=bootstrap-0 host=localhost:9092 <connecting> [IPv6 ('::1', 9092, 0, 0)]>: Connection complete.\n",
      "2019-08-17 17:29:32,835.835.8886241912842:kafka.conn:139956971476736:INFO:1998:<BrokerConnection node_id=bootstrap-0 host=localhost:9092 <connecting> [IPv6 ('::1', 9092, 0, 0)]>: Connection complete.\n",
      "2019-08-17 17:29:32,940.940.8824443817139:kafka.conn:139956971476736:INFO:2000:Broker version identifed as 1.0.0\n",
      "2019-08-17 17:29:32,941.941.0359859466553:kafka.conn:139956971476736:INFO:1998:Broker version identifed as 1.0.0\n",
      "2019-08-17 17:29:32,942.942.7473545074463:kafka.conn:139956971476736:INFO:2000:Set configuration api_version=(1, 0, 0) to skip auto check_version requests on startup\n",
      "2019-08-17 17:29:32,942.942.9621696472168:kafka.conn:139956971476736:INFO:1998:Set configuration api_version=(1, 0, 0) to skip auto check_version requests on startup\n"
     ]
    },
    {
     "name": "stdout",
     "output_type": "stream",
     "text": [
      "topic=my_topic partition=0 offset=2901: key=None value={'number_1': '51.6498230702154,37.84968414631213,-4.776026913900955,30.629674489653993,-14.178639891725293'}\n",
      "topic=my-topic partition=0 offset=2301: key=None value={'number_2': '-12.245307968664502,5.292500650077468,4.006699736693014,-12.908338636151022,-2.50952959829298'}\n"
     ]
    },
    {
     "name": "stderr",
     "output_type": "stream",
     "text": [
      "2019-08-17 17:29:32,955.955.4352760314941:kafka.conn:139954520844032:INFO:2000:<BrokerConnection node_id=0 host=ubuntu:9092 <connecting> [IPv4 ('127.0.1.1', 9092)]>: connecting to ubuntu:9092 [('127.0.1.1', 9092) IPv4]\n",
      "2019-08-17 17:29:32,955.955.3961753845215:kafka.conn:139954520844032:INFO:1998:<BrokerConnection node_id=0 host=ubuntu:9092 <connecting> [IPv4 ('127.0.1.1', 9092)]>: connecting to ubuntu:9092 [('127.0.1.1', 9092) IPv4]\n",
      "2019-08-17 17:29:33,077.77.07905769348145:kafka.producer.kafka:139956971476736:INFO:2000:Closing the Kafka producer with 0 secs timeout.\n",
      "2019-08-17 17:29:33,078.78.64522933959961:kafka.conn:139954520844032:INFO:2000:<BrokerConnection node_id=0 host=ubuntu:9092 <connecting> [IPv4 ('127.0.1.1', 9092)]>: Connection complete.\n",
      "2019-08-17 17:29:33,079.79.18667793273926:kafka.producer.kafka:139956971476736:INFO:2000:Closing the Kafka producer with 0 secs timeout.\n",
      "2019-08-17 17:29:33,080.80.76667785644531:kafka.conn:139954520844032:INFO:2000:<BrokerConnection node_id=bootstrap-0 host=localhost:9092 <connected> [IPv6 ('::1', 9092, 0, 0)]>: Closing connection. \n",
      "2019-08-17 17:29:33,082.82.33094215393066:kafka.producer.kafka:139956971476736:INFO:2000:Closing the Kafka producer with 0 secs timeout.\n"
     ]
    },
    {
     "name": "stdout",
     "output_type": "stream",
     "text": [
      "topic : result , partition : 0 , offset : 766\n"
     ]
    },
    {
     "name": "stderr",
     "output_type": "stream",
     "text": [
      "2019-08-17 17:29:33,087.87.57710456848145:kafka.producer.kafka:139956971476736:INFO:2000:Closing the Kafka producer with 0 secs timeout.\n",
      "2019-08-17 17:29:33,089.89.66588973999023:kafka.producer.kafka:139956971476736:INFO:2000:Closing the Kafka producer with 0 secs timeout.\n",
      "2019-08-17 17:29:33,091.91.17364883422852:kafka.producer.kafka:139956971476736:INFO:2000:Closing the Kafka producer with 0 secs timeout.\n",
      "2019-08-17 17:29:33,092.92.65661239624023:kafka.producer.kafka:139956971476736:INFO:2000:Closing the Kafka producer with 0 secs timeout.\n",
      "2019-08-17 17:29:33,094.94.21062469482422:kafka.producer.kafka:139956971476736:INFO:2000:Closing the Kafka producer with 0 secs timeout.\n",
      "2019-08-17 17:29:33,095.95.58844566345215:kafka.producer.kafka:139956971476736:INFO:2000:Closing the Kafka producer with 0 secs timeout.\n",
      "2019-08-17 17:29:33,097.97.03707695007324:kafka.producer.kafka:139956971476736:INFO:2000:Closing the Kafka producer with 0 secs timeout.\n",
      "2019-08-17 17:29:33,098.98.36030006408691:kafka.producer.kafka:139956971476736:INFO:2000:Closing the Kafka producer with 0 secs timeout.\n",
      "2019-08-17 17:29:33,099.99.62630271911621:kafka.producer.kafka:139956971476736:INFO:2000:Closing the Kafka producer with 0 secs timeout.\n",
      "2019-08-17 17:29:33,100.100.91042518615723:kafka.producer.kafka:139956971476736:INFO:2000:Closing the Kafka producer with 0 secs timeout.\n",
      "2019-08-17 17:29:33,102.102.23913192749023:kafka.producer.kafka:139956971476736:INFO:2000:Closing the Kafka producer with 0 secs timeout.\n",
      "2019-08-17 17:29:33,103.103.49750518798828:kafka.producer.kafka:139956971476736:INFO:2000:Closing the Kafka producer with 0 secs timeout.\n",
      "2019-08-17 17:29:33,104.104.75873947143555:kafka.producer.kafka:139956971476736:INFO:2000:Closing the Kafka producer with 0 secs timeout.\n",
      "2019-08-17 17:29:33,106.106.14371299743652:kafka.producer.kafka:139956971476736:INFO:2000:Closing the Kafka producer with 0 secs timeout.\n",
      "2019-08-17 17:29:33,105.105.96609115600586:kafka.producer.kafka:139956971476736:INFO:1998:Closing the Kafka producer with 0 secs timeout.\n",
      "2019-08-17 17:29:33,107.107.56969451904297:kafka.producer.kafka:139956971476736:INFO:2000:Closing the Kafka producer with 0 secs timeout.\n",
      "2019-08-17 17:29:33,107.107.48791694641113:kafka.conn:139954520844032:INFO:1998:<BrokerConnection node_id=0 host=ubuntu:9092 <connecting> [IPv4 ('127.0.1.1', 9092)]>: Connection complete.\n",
      "2019-08-17 17:29:33,108.108.98447036743164:kafka.producer.kafka:139956971476736:INFO:2000:Closing the Kafka producer with 0 secs timeout.\n",
      "2019-08-17 17:29:33,108.108.0617904663086:kafka.producer.kafka:139956971476736:INFO:1998:Closing the Kafka producer with 0 secs timeout.\n",
      "2019-08-17 17:29:33,110.110.28409004211426:kafka.producer.kafka:139956971476736:INFO:2000:Closing the Kafka producer with 0 secs timeout.\n",
      "2019-08-17 17:29:33,109.109.72166061401367:kafka.conn:139954520844032:INFO:1998:<BrokerConnection node_id=bootstrap-0 host=localhost:9092 <connected> [IPv6 ('::1', 9092, 0, 0)]>: Closing connection. \n",
      "2019-08-17 17:29:33,111.111.55152320861816:kafka.producer.kafka:139956971476736:INFO:2000:Closing the Kafka producer with 0 secs timeout.\n",
      "2019-08-17 17:29:33,113.113.04926872253418:kafka.producer.kafka:139956971476736:INFO:2000:Closing the Kafka producer with 0 secs timeout.\n",
      "2019-08-17 17:29:33,114.114.51888084411621:kafka.producer.kafka:139956971476736:INFO:2000:Closing the Kafka producer with 0 secs timeout.\n",
      "2019-08-17 17:29:33,111.111.10854148864746:kafka.producer.kafka:139956971476736:INFO:1998:Closing the Kafka producer with 0 secs timeout.\n",
      "2019-08-17 17:29:33,115.115.8599853515625:kafka.producer.kafka:139956971476736:INFO:2000:Closing the Kafka producer with 0 secs timeout.\n"
     ]
    },
    {
     "name": "stdout",
     "output_type": "stream",
     "text": [
      "topic : result , partition : 0 , offset : 767\n"
     ]
    },
    {
     "name": "stderr",
     "output_type": "stream",
     "text": [
      "2019-08-17 17:29:33,124.124.8164176940918:kafka.conn:139956971476736:INFO:2000:<BrokerConnection node_id=bootstrap-0 host=localhost:9092 <connecting> [IPv6 ('::1', 9092, 0, 0)]>: connecting to localhost:9092 [('::1', 9092, 0, 0) IPv6]\n",
      "2019-08-17 17:29:33,116.116.61744117736816:kafka.producer.kafka:139956971476736:INFO:1998:Closing the Kafka producer with 0 secs timeout.\n",
      "2019-08-17 17:29:33,126.126.7085075378418:kafka.conn:139956971476736:INFO:2000:Probing node bootstrap-0 broker version\n",
      "2019-08-17 17:29:33,126.126.90377235412598:kafka.producer.kafka:139956971476736:INFO:1998:Closing the Kafka producer with 0 secs timeout.\n",
      "2019-08-17 17:29:33,128.128.51333618164062:kafka.conn:139956971476736:INFO:2000:<BrokerConnection node_id=bootstrap-0 host=localhost:9092 <connecting> [IPv6 ('::1', 9092, 0, 0)]>: Connection complete.\n",
      "2019-08-17 17:29:33,128.128.6470890045166:kafka.producer.kafka:139956971476736:INFO:1998:Closing the Kafka producer with 0 secs timeout.\n",
      "2019-08-17 17:29:33,130.130.3410530090332:kafka.producer.kafka:139956971476736:INFO:1998:Closing the Kafka producer with 0 secs timeout.\n",
      "2019-08-17 17:29:33,131.131.91628456115723:kafka.producer.kafka:139956971476736:INFO:1998:Closing the Kafka producer with 0 secs timeout.\n",
      "2019-08-17 17:29:33,133.133.48793983459473:kafka.producer.kafka:139956971476736:INFO:1998:Closing the Kafka producer with 0 secs timeout.\n",
      "2019-08-17 17:29:33,135.135.1010799407959:kafka.producer.kafka:139956971476736:INFO:1998:Closing the Kafka producer with 0 secs timeout.\n",
      "2019-08-17 17:29:33,136.136.63220405578613:kafka.producer.kafka:139956971476736:INFO:1998:Closing the Kafka producer with 0 secs timeout.\n",
      "2019-08-17 17:29:33,138.138.15832138061523:kafka.producer.kafka:139956971476736:INFO:1998:Closing the Kafka producer with 0 secs timeout.\n",
      "2019-08-17 17:29:33,139.139.6172046661377:kafka.producer.kafka:139956971476736:INFO:1998:Closing the Kafka producer with 0 secs timeout.\n",
      "2019-08-17 17:29:33,141.141.0677433013916:kafka.producer.kafka:139956971476736:INFO:1998:Closing the Kafka producer with 0 secs timeout.\n",
      "2019-08-17 17:29:33,142.142.59076118469238:kafka.producer.kafka:139956971476736:INFO:1998:Closing the Kafka producer with 0 secs timeout.\n",
      "2019-08-17 17:29:33,143.143.96119117736816:kafka.producer.kafka:139956971476736:INFO:1998:Closing the Kafka producer with 0 secs timeout.\n",
      "2019-08-17 17:29:33,145.145.45440673828125:kafka.producer.kafka:139956971476736:INFO:1998:Closing the Kafka producer with 0 secs timeout.\n",
      "2019-08-17 17:29:33,147.147.02749252319336:kafka.producer.kafka:139956971476736:INFO:1998:Closing the Kafka producer with 0 secs timeout.\n",
      "2019-08-17 17:29:33,148.148.43106269836426:kafka.producer.kafka:139956971476736:INFO:1998:Closing the Kafka producer with 0 secs timeout.\n",
      "2019-08-17 17:29:33,149.149.88470077514648:kafka.producer.kafka:139956971476736:INFO:1998:Closing the Kafka producer with 0 secs timeout.\n",
      "2019-08-17 17:29:33,151.151.34811401367188:kafka.producer.kafka:139956971476736:INFO:1998:Closing the Kafka producer with 0 secs timeout.\n",
      "2019-08-17 17:29:33,152.152.70328521728516:kafka.producer.kafka:139956971476736:INFO:1998:Closing the Kafka producer with 0 secs timeout.\n",
      "2019-08-17 17:29:33,154.154.1461944580078:kafka.producer.kafka:139956971476736:INFO:1998:Closing the Kafka producer with 0 secs timeout.\n",
      "2019-08-17 17:29:33,155.155.56645393371582:kafka.producer.kafka:139956971476736:INFO:1998:Closing the Kafka producer with 0 secs timeout.\n",
      "2019-08-17 17:29:33,162.162.7197265625:kafka.conn:139956971476736:INFO:1998:<BrokerConnection node_id=bootstrap-0 host=localhost:9092 <connecting> [IPv6 ('::1', 9092, 0, 0)]>: connecting to localhost:9092 [('::1', 9092, 0, 0) IPv6]\n",
      "2019-08-17 17:29:33,164.164.09039497375488:kafka.conn:139956971476736:INFO:1998:Probing node bootstrap-0 broker version\n",
      "2019-08-17 17:29:33,165.165.73238372802734:kafka.conn:139956971476736:INFO:1998:<BrokerConnection node_id=bootstrap-0 host=localhost:9092 <connecting> [IPv6 ('::1', 9092, 0, 0)]>: Connection complete.\n",
      "2019-08-17 17:29:33,233.233.3662509918213:kafka.conn:139956971476736:INFO:2000:Broker version identifed as 1.0.0\n",
      "2019-08-17 17:29:33,234.234.97319221496582:kafka.conn:139956971476736:INFO:2000:Set configuration api_version=(1, 0, 0) to skip auto check_version requests on startup\n",
      "2019-08-17 17:29:33,238.238.80958557128906:kafka.producer.kafka:139956971476736:INFO:2000:Closing the Kafka producer with 0 secs timeout.\n",
      "2019-08-17 17:29:33,242.242.28334426879883:kafka.producer.kafka:139956971476736:INFO:2000:Proceeding to force close the producer since pending requests could not be completed within timeout 0.\n",
      "2019-08-17 17:29:33,244.244.34351921081543:kafka.conn:139954520844032:INFO:2000:<BrokerConnection node_id=0 host=ubuntu:9092 <connected> [IPv4 ('127.0.1.1', 9092)]>: Closing connection. \n"
     ]
    },
    {
     "name": "stdout",
     "output_type": "stream",
     "text": [
      "topic=my-topic partition=0 offset=2302: key=None value={'number_2': '-7.031633781313724,-20.409671313397077,-18.47927961432077,-2.717283999491204,-7.855542087476973'}\n"
     ]
    },
    {
     "name": "stderr",
     "output_type": "stream",
     "text": [
      "2019-08-17 17:29:33,249.249.22680854797363:kafka.conn:139956890081024:INFO:2000:<BrokerConnection node_id=0 host=ubuntu:9092 <connecting> [IPv4 ('127.0.1.1', 9092)]>: connecting to ubuntu:9092 [('127.0.1.1', 9092) IPv4]\n",
      "2019-08-17 17:29:33,251.251.47247314453125:kafka.conn:139956971476736:INFO:2000:<BrokerConnection node_id=bootstrap-0 host=localhost:9092 <connecting> [IPv6 ('::1', 9092, 0, 0)]>: connecting to localhost:9092 [('::1', 9092, 0, 0) IPv6]\n",
      "2019-08-17 17:29:33,253.253.35097312927246:kafka.conn:139956890081024:INFO:2000:<BrokerConnection node_id=0 host=ubuntu:9092 <connecting> [IPv4 ('127.0.1.1', 9092)]>: Connection complete.\n",
      "2019-08-17 17:29:33,254.254.01759147644043:kafka.conn:139956971476736:INFO:2000:Probing node bootstrap-0 broker version\n",
      "2019-08-17 17:29:33,255.255.6133270263672:kafka.conn:139956890081024:INFO:2000:<BrokerConnection node_id=bootstrap-0 host=localhost:9092 <connected> [IPv6 ('::1', 9092, 0, 0)]>: Closing connection. \n",
      "2019-08-17 17:29:33,257.257.54404067993164:kafka.conn:139956971476736:INFO:2000:<BrokerConnection node_id=bootstrap-0 host=localhost:9092 <connecting> [IPv6 ('::1', 9092, 0, 0)]>: Connection complete.\n"
     ]
    },
    {
     "name": "stdout",
     "output_type": "stream",
     "text": [
      "topic : result , partition : 0 , offset : 768\n"
     ]
    },
    {
     "name": "stderr",
     "output_type": "stream",
     "text": [
      "2019-08-17 17:29:33,270.270.37525177001953:kafka.conn:139956971476736:INFO:1998:Broker version identifed as 1.0.0\n",
      "2019-08-17 17:29:33,272.272.04394340515137:kafka.conn:139956971476736:INFO:1998:Set configuration api_version=(1, 0, 0) to skip auto check_version requests on startup\n",
      "2019-08-17 17:29:33,276.276.0803699493408:kafka.producer.kafka:139956971476736:INFO:1998:Closing the Kafka producer with 0 secs timeout.\n",
      "2019-08-17 17:29:33,279.279.9186706542969:kafka.producer.kafka:139956971476736:INFO:1998:Proceeding to force close the producer since pending requests could not be completed within timeout 0.\n",
      "2019-08-17 17:29:33,281.281.9650173187256:kafka.conn:139954520844032:INFO:1998:<BrokerConnection node_id=0 host=ubuntu:9092 <connected> [IPv4 ('127.0.1.1', 9092)]>: Closing connection. \n"
     ]
    },
    {
     "name": "stdout",
     "output_type": "stream",
     "text": [
      "topic=my_topic partition=0 offset=2902: key=None value={'number_1': '-23.998649677263813,9.232698223025022,42.32173054618633,-11.14519396466942,18.197671904122522'}\n"
     ]
    },
    {
     "name": "stderr",
     "output_type": "stream",
     "text": [
      "2019-08-17 17:29:33,287.287.31393814086914:kafka.conn:139954529236736:INFO:1998:<BrokerConnection node_id=0 host=ubuntu:9092 <connecting> [IPv4 ('127.0.1.1', 9092)]>: connecting to ubuntu:9092 [('127.0.1.1', 9092) IPv4]\n",
      "2019-08-17 17:29:33,288.288.26403617858887:kafka.conn:139956971476736:INFO:1998:<BrokerConnection node_id=bootstrap-0 host=localhost:9092 <connecting> [IPv6 ('::1', 9092, 0, 0)]>: connecting to localhost:9092 [('::1', 9092, 0, 0) IPv6]\n",
      "2019-08-17 17:29:33,289.289.8685932159424:kafka.conn:139954529236736:INFO:1998:<BrokerConnection node_id=0 host=ubuntu:9092 <connecting> [IPv4 ('127.0.1.1', 9092)]>: Connection complete.\n",
      "2019-08-17 17:29:33,290.290.3923988342285:kafka.conn:139956971476736:INFO:1998:Probing node bootstrap-0 broker version\n",
      "2019-08-17 17:29:33,291.291.7640209197998:kafka.conn:139954529236736:INFO:1998:<BrokerConnection node_id=bootstrap-0 host=localhost:9092 <connected> [IPv6 ('::1', 9092, 0, 0)]>: Closing connection. \n",
      "2019-08-17 17:29:33,293.293.6279773712158:kafka.conn:139956971476736:INFO:1998:<BrokerConnection node_id=bootstrap-0 host=localhost:9092 <connecting> [IPv6 ('::1', 9092, 0, 0)]>: Connection complete.\n"
     ]
    },
    {
     "name": "stdout",
     "output_type": "stream",
     "text": [
      "topic : result , partition : 0 , offset : 769\n"
     ]
    },
    {
     "name": "stderr",
     "output_type": "stream",
     "text": [
      "2019-08-17 17:29:33,366.366.16969108581543:kafka.conn:139956971476736:INFO:2000:Broker version identifed as 1.0.0\n",
      "2019-08-17 17:29:33,367.367.6950931549072:kafka.conn:139956971476736:INFO:2000:Set configuration api_version=(1, 0, 0) to skip auto check_version requests on startup\n",
      "2019-08-17 17:29:33,371.371.5980052947998:kafka.producer.kafka:139956971476736:INFO:2000:Closing the Kafka producer with 0 secs timeout.\n",
      "2019-08-17 17:29:33,375.375.37670135498047:kafka.producer.kafka:139956971476736:INFO:2000:Proceeding to force close the producer since pending requests could not be completed within timeout 0.\n",
      "2019-08-17 17:29:33,377.377.41661071777344:kafka.conn:139956890081024:INFO:2000:<BrokerConnection node_id=0 host=ubuntu:9092 <connected> [IPv4 ('127.0.1.1', 9092)]>: Closing connection. \n"
     ]
    },
    {
     "name": "stdout",
     "output_type": "stream",
     "text": [
      "topic=my-topic partition=0 offset=2303: key=None value={'number_2': '7.072395011919891,6.889510666127122,-9.272013305169027,25.13809467103699,-14.216758219016143'}\n"
     ]
    },
    {
     "name": "stderr",
     "output_type": "stream",
     "text": [
      "2019-08-17 17:29:33,383.383.11076164245605:kafka.conn:139954520844032:INFO:2000:<BrokerConnection node_id=0 host=ubuntu:9092 <connecting> [IPv4 ('127.0.1.1', 9092)]>: connecting to ubuntu:9092 [('127.0.1.1', 9092) IPv4]\n",
      "2019-08-17 17:29:33,384.384.28807258605957:kafka.conn:139956971476736:INFO:2000:<BrokerConnection node_id=bootstrap-0 host=localhost:9092 <connecting> [IPv6 ('::1', 9092, 0, 0)]>: connecting to localhost:9092 [('::1', 9092, 0, 0) IPv6]\n",
      "2019-08-17 17:29:33,386.386.4121437072754:kafka.conn:139954520844032:INFO:2000:<BrokerConnection node_id=0 host=ubuntu:9092 <connecting> [IPv4 ('127.0.1.1', 9092)]>: Connection complete.\n",
      "2019-08-17 17:29:33,386.386.86466217041016:kafka.conn:139956971476736:INFO:2000:Probing node bootstrap-0 broker version\n",
      "2019-08-17 17:29:33,388.388.55838775634766:kafka.conn:139954520844032:INFO:2000:<BrokerConnection node_id=bootstrap-0 host=localhost:9092 <connected> [IPv6 ('::1', 9092, 0, 0)]>: Closing connection. \n",
      "2019-08-17 17:29:33,390.390.4294967651367:kafka.conn:139956971476736:INFO:2000:<BrokerConnection node_id=bootstrap-0 host=localhost:9092 <connecting> [IPv6 ('::1', 9092, 0, 0)]>: Connection complete.\n"
     ]
    },
    {
     "name": "stdout",
     "output_type": "stream",
     "text": [
      "topic : result , partition : 0 , offset : 770\n"
     ]
    },
    {
     "name": "stderr",
     "output_type": "stream",
     "text": [
      "2019-08-17 17:29:33,401.401.9906520843506:kafka.conn:139956971476736:INFO:1998:Broker version identifed as 1.0.0\n",
      "2019-08-17 17:29:33,403.403.52725982666016:kafka.conn:139956971476736:INFO:1998:Set configuration api_version=(1, 0, 0) to skip auto check_version requests on startup\n",
      "2019-08-17 17:29:33,409.409.33799743652344:kafka.producer.kafka:139956971476736:INFO:1998:Closing the Kafka producer with 0 secs timeout.\n",
      "2019-08-17 17:29:33,412.412.16135025024414:kafka.producer.kafka:139956971476736:INFO:1998:Proceeding to force close the producer since pending requests could not be completed within timeout 0.\n",
      "2019-08-17 17:29:33,413.413.7077331542969:kafka.conn:139954529236736:INFO:1998:<BrokerConnection node_id=0 host=ubuntu:9092 <connected> [IPv4 ('127.0.1.1', 9092)]>: Closing connection. \n",
      "2019-08-17 17:29:33,416.416.8078899383545:kafka.conn:139956890081024:INFO:1998:<BrokerConnection node_id=0 host=ubuntu:9092 <connecting> [IPv4 ('127.0.1.1', 9092)]>: connecting to ubuntu:9092 [('127.0.1.1', 9092) IPv4]\n"
     ]
    },
    {
     "name": "stdout",
     "output_type": "stream",
     "text": [
      "topic=my_topic partition=0 offset=2903: key=None value={'number_1': '35.71962186386464,13.556311221032708,9.140206447147335,1.538440627475806,8.736038543243769'}\n"
     ]
    },
    {
     "name": "stderr",
     "output_type": "stream",
     "text": [
      "2019-08-17 17:29:33,420.420.03512382507324:kafka.conn:139956890081024:INFO:1998:<BrokerConnection node_id=0 host=ubuntu:9092 <connecting> [IPv4 ('127.0.1.1', 9092)]>: Connection complete.\n",
      "2019-08-17 17:29:33,420.420.99666595458984:kafka.conn:139956971476736:INFO:1998:<BrokerConnection node_id=bootstrap-0 host=localhost:9092 <connecting> [IPv6 ('::1', 9092, 0, 0)]>: connecting to localhost:9092 [('::1', 9092, 0, 0) IPv6]\n",
      "2019-08-17 17:29:33,421.421.56314849853516:kafka.conn:139956890081024:INFO:1998:<BrokerConnection node_id=bootstrap-0 host=localhost:9092 <connected> [IPv6 ('::1', 9092, 0, 0)]>: Closing connection. \n",
      "2019-08-17 17:29:33,422.422.9567050933838:kafka.conn:139956971476736:INFO:1998:Probing node bootstrap-0 broker version\n",
      "2019-08-17 17:29:33,426.426.85699462890625:kafka.conn:139956971476736:INFO:1998:<BrokerConnection node_id=bootstrap-0 host=localhost:9092 <connecting> [IPv6 ('::1', 9092, 0, 0)]>: Connection complete.\n"
     ]
    },
    {
     "name": "stdout",
     "output_type": "stream",
     "text": [
      "topic : result , partition : 0 , offset : 771\n"
     ]
    },
    {
     "name": "stderr",
     "output_type": "stream",
     "text": [
      "2019-08-17 17:29:33,497.497.85828590393066:kafka.conn:139956971476736:INFO:2000:Broker version identifed as 1.0.0\n",
      "2019-08-17 17:29:33,499.499.55201148986816:kafka.conn:139956971476736:INFO:2000:Set configuration api_version=(1, 0, 0) to skip auto check_version requests on startup\n",
      "2019-08-17 17:29:33,503.503.6296844482422:kafka.producer.kafka:139956971476736:INFO:2000:Closing the Kafka producer with 0 secs timeout.\n",
      "2019-08-17 17:29:33,507.507.84921646118164:kafka.producer.kafka:139956971476736:INFO:2000:Proceeding to force close the producer since pending requests could not be completed within timeout 0.\n",
      "2019-08-17 17:29:33,509.509.8850727081299:kafka.conn:139954520844032:INFO:2000:<BrokerConnection node_id=0 host=ubuntu:9092 <connected> [IPv4 ('127.0.1.1', 9092)]>: Closing connection. \n",
      "2019-08-17 17:29:33,513.513.4944915771484:kafka.conn:139956890081024:INFO:2000:<BrokerConnection node_id=0 host=ubuntu:9092 <connecting> [IPv4 ('127.0.1.1', 9092)]>: connecting to ubuntu:9092 [('127.0.1.1', 9092) IPv4]\n",
      "2019-08-17 17:29:33,515.515.5239105224609:kafka.conn:139956890081024:INFO:2000:<BrokerConnection node_id=0 host=ubuntu:9092 <connecting> [IPv4 ('127.0.1.1', 9092)]>: Connection complete.\n",
      "2019-08-17 17:29:33,517.517.073392868042:kafka.conn:139956890081024:INFO:2000:<BrokerConnection node_id=bootstrap-0 host=localhost:9092 <connected> [IPv6 ('::1', 9092, 0, 0)]>: Closing connection. \n"
     ]
    },
    {
     "name": "stdout",
     "output_type": "stream",
     "text": [
      "topic : result , partition : 0 , offset : 772\n"
     ]
    },
    {
     "name": "stderr",
     "output_type": "stream",
     "text": [
      "2019-08-17 17:29:33,531.531.9535732269287:kafka.conn:139956971476736:INFO:1998:Broker version identifed as 1.0.0\n",
      "2019-08-17 17:29:33,533.533.4751605987549:kafka.conn:139956971476736:INFO:1998:Set configuration api_version=(1, 0, 0) to skip auto check_version requests on startup\n",
      "2019-08-17 17:29:33,537.537.2114181518555:kafka.producer.kafka:139956971476736:INFO:1998:Closing the Kafka producer with 0 secs timeout.\n",
      "2019-08-17 17:29:33,542.542.125940322876:kafka.producer.kafka:139956971476736:INFO:1998:Proceeding to force close the producer since pending requests could not be completed within timeout 0.\n",
      "2019-08-17 17:29:33,543.543.7009334564209:kafka.conn:139956890081024:INFO:1998:<BrokerConnection node_id=0 host=ubuntu:9092 <connected> [IPv4 ('127.0.1.1', 9092)]>: Closing connection. \n"
     ]
    },
    {
     "name": "stdout",
     "output_type": "stream",
     "text": [
      "topic=my_topic partition=0 offset=2904: key=None value={'number_1': '17.828589540802753,16.270371731929195,5.635470018436579,57.85561866679207,9.846045487275443'}\n"
     ]
    },
    {
     "name": "stderr",
     "output_type": "stream",
     "text": [
      "2019-08-17 17:29:33,547.547.8875637054443:kafka.conn:139954529236736:INFO:1998:<BrokerConnection node_id=0 host=ubuntu:9092 <connecting> [IPv4 ('127.0.1.1', 9092)]>: connecting to ubuntu:9092 [('127.0.1.1', 9092) IPv4]\n",
      "2019-08-17 17:29:33,550.550.349235534668:kafka.conn:139956971476736:INFO:1998:<BrokerConnection node_id=bootstrap-0 host=localhost:9092 <connecting> [IPv6 ('::1', 9092, 0, 0)]>: connecting to localhost:9092 [('::1', 9092, 0, 0) IPv6]\n",
      "2019-08-17 17:29:33,550.550.9486198425293:kafka.conn:139954529236736:INFO:1998:<BrokerConnection node_id=0 host=ubuntu:9092 <connecting> [IPv4 ('127.0.1.1', 9092)]>: Connection complete.\n",
      "2019-08-17 17:29:33,552.552.558183670044:kafka.conn:139956971476736:INFO:1998:Probing node bootstrap-0 broker version\n",
      "2019-08-17 17:29:33,554.554.1770458221436:kafka.conn:139954529236736:INFO:1998:<BrokerConnection node_id=bootstrap-0 host=localhost:9092 <connected> [IPv6 ('::1', 9092, 0, 0)]>: Closing connection. \n",
      "2019-08-17 17:29:33,555.555.9639930725098:kafka.conn:139956971476736:INFO:1998:<BrokerConnection node_id=bootstrap-0 host=localhost:9092 <connecting> [IPv6 ('::1', 9092, 0, 0)]>: Connection complete.\n"
     ]
    },
    {
     "name": "stdout",
     "output_type": "stream",
     "text": [
      "topic : result , partition : 0 , offset : 773\n",
      "topic=my-topic partition=0 offset=2304: key=None value={'number_2': '10.481423413681645,-13.277203141199106,-6.569356711200459,-12.917049604323251,6.466243113312578'}\n"
     ]
    },
    {
     "name": "stderr",
     "output_type": "stream",
     "text": [
      "2019-08-17 17:29:33,566.566.3506984710693:kafka.conn:139956971476736:INFO:2000:<BrokerConnection node_id=bootstrap-0 host=localhost:9092 <connecting> [IPv6 ('::1', 9092, 0, 0)]>: connecting to localhost:9092 [('::1', 9092, 0, 0) IPv6]\n",
      "2019-08-17 17:29:33,567.567.889928817749:kafka.conn:139956971476736:INFO:2000:Probing node bootstrap-0 broker version\n",
      "2019-08-17 17:29:33,569.569.7746276855469:kafka.conn:139956971476736:INFO:2000:<BrokerConnection node_id=bootstrap-0 host=localhost:9092 <connecting> [IPv6 ('::1', 9092, 0, 0)]>: Connection complete.\n",
      "2019-08-17 17:29:33,664.664.7059917449951:kafka.conn:139956971476736:INFO:1998:Broker version identifed as 1.0.0\n",
      "2019-08-17 17:29:33,666.666.3880348205566:kafka.conn:139956971476736:INFO:1998:Set configuration api_version=(1, 0, 0) to skip auto check_version requests on startup\n",
      "2019-08-17 17:29:33,670.670.536994934082:kafka.producer.kafka:139956971476736:INFO:1998:Closing the Kafka producer with 0 secs timeout.\n",
      "2019-08-17 17:29:33,674.674.2825508117676:kafka.producer.kafka:139956971476736:INFO:1998:Proceeding to force close the producer since pending requests could not be completed within timeout 0.\n",
      "2019-08-17 17:29:33,674.674.6735572814941:kafka.conn:139956971476736:INFO:2000:Broker version identifed as 1.0.0\n",
      "2019-08-17 17:29:33,676.676.4092445373535:kafka.conn:139956971476736:INFO:2000:Set configuration api_version=(1, 0, 0) to skip auto check_version requests on startup\n",
      "2019-08-17 17:29:33,676.676.3489246368408:kafka.conn:139954529236736:INFO:1998:<BrokerConnection node_id=0 host=ubuntu:9092 <connected> [IPv4 ('127.0.1.1', 9092)]>: Closing connection. \n",
      "2019-08-17 17:29:33,680.680.5675029754639:kafka.producer.kafka:139956971476736:INFO:2000:Closing the Kafka producer with 0 secs timeout.\n"
     ]
    },
    {
     "name": "stdout",
     "output_type": "stream",
     "text": [
      "topic=my_topic partition=0 offset=2905: key=None value={'number_1': '-10.709479376150995,13.315660176741142,10.314631288140179,29.9676858817759,42.085467437176035'}\n"
     ]
    },
    {
     "name": "stderr",
     "output_type": "stream",
     "text": [
      "2019-08-17 17:29:33,681.681.0791492462158:kafka.conn:139956890081024:INFO:1998:<BrokerConnection node_id=0 host=ubuntu:9092 <connecting> [IPv4 ('127.0.1.1', 9092)]>: connecting to ubuntu:9092 [('127.0.1.1', 9092) IPv4]\n",
      "2019-08-17 17:29:33,682.682.3315620422363:kafka.producer.kafka:139956971476736:INFO:2000:Proceeding to force close the producer since pending requests could not be completed within timeout 0.\n",
      "2019-08-17 17:29:33,683.683.8493347167969:kafka.conn:139956971476736:INFO:1998:<BrokerConnection node_id=bootstrap-0 host=localhost:9092 <connecting> [IPv6 ('::1', 9092, 0, 0)]>: connecting to localhost:9092 [('::1', 9092, 0, 0) IPv6]\n",
      "2019-08-17 17:29:33,685.685.2340698242188:kafka.conn:139956890081024:INFO:1998:<BrokerConnection node_id=0 host=ubuntu:9092 <connecting> [IPv4 ('127.0.1.1', 9092)]>: Connection complete.\n",
      "2019-08-17 17:29:33,686.686.6328716278076:kafka.conn:139956890081024:INFO:2000:<BrokerConnection node_id=0 host=ubuntu:9092 <connected> [IPv4 ('127.0.1.1', 9092)]>: Closing connection. \n",
      "2019-08-17 17:29:33,685.685.8229637145996:kafka.conn:139956971476736:INFO:1998:Probing node bootstrap-0 broker version\n",
      "2019-08-17 17:29:33,687.687.3247623443604:kafka.conn:139956890081024:INFO:1998:<BrokerConnection node_id=bootstrap-0 host=localhost:9092 <connected> [IPv6 ('::1', 9092, 0, 0)]>: Closing connection. \n"
     ]
    },
    {
     "name": "stdout",
     "output_type": "stream",
     "text": [
      "topic=my-topic partition=0 offset=2305: key=None value={'number_2': '-7.005941983308829,-16.74778806173389,4.158186545337555,11.139196862886369,4.0583713796284675'}\n"
     ]
    },
    {
     "name": "stderr",
     "output_type": "stream",
     "text": [
      "2019-08-17 17:29:33,689.689.220666885376:kafka.conn:139956971476736:INFO:1998:<BrokerConnection node_id=bootstrap-0 host=localhost:9092 <connecting> [IPv6 ('::1', 9092, 0, 0)]>: Connection complete.\n",
      "2019-08-17 17:29:33,690.690.9356117248535:kafka.conn:139954520844032:INFO:2000:<BrokerConnection node_id=0 host=ubuntu:9092 <connecting> [IPv4 ('127.0.1.1', 9092)]>: connecting to ubuntu:9092 [('127.0.1.1', 9092) IPv4]\n"
     ]
    },
    {
     "name": "stdout",
     "output_type": "stream",
     "text": [
      "topic : result , partition : 0 , offset : 774\n"
     ]
    },
    {
     "name": "stderr",
     "output_type": "stream",
     "text": [
      "2019-08-17 17:29:33,694.694.2117214202881:kafka.conn:139954520844032:INFO:2000:<BrokerConnection node_id=0 host=ubuntu:9092 <connecting> [IPv4 ('127.0.1.1', 9092)]>: Connection complete.\n",
      "2019-08-17 17:29:33,694.694.4472789764404:kafka.conn:139956971476736:INFO:2000:<BrokerConnection node_id=bootstrap-0 host=localhost:9092 <connecting> [IPv6 ('::1', 9092, 0, 0)]>: connecting to localhost:9092 [('::1', 9092, 0, 0) IPv6]\n",
      "2019-08-17 17:29:33,696.696.0582733154297:kafka.conn:139954520844032:INFO:2000:<BrokerConnection node_id=bootstrap-0 host=localhost:9092 <connected> [IPv6 ('::1', 9092, 0, 0)]>: Closing connection. \n",
      "2019-08-17 17:29:33,697.697.8340148925781:kafka.conn:139956971476736:INFO:2000:Probing node bootstrap-0 broker version\n"
     ]
    },
    {
     "name": "stdout",
     "output_type": "stream",
     "text": [
      "topic : result , partition : 0 , offset : 775\n"
     ]
    },
    {
     "name": "stderr",
     "output_type": "stream",
     "text": [
      "2019-08-17 17:29:33,702.702.3360729217529:kafka.conn:139956971476736:INFO:2000:<BrokerConnection node_id=bootstrap-0 host=localhost:9092 <connecting> [IPv6 ('::1', 9092, 0, 0)]>: Connection complete.\n",
      "2019-08-17 17:29:33,796.796.1790561676025:kafka.conn:139956971476736:INFO:1998:Broker version identifed as 1.0.0\n",
      "2019-08-17 17:29:33,797.797.9059219360352:kafka.conn:139956971476736:INFO:1998:Set configuration api_version=(1, 0, 0) to skip auto check_version requests on startup\n",
      "2019-08-17 17:29:33,802.802.016019821167:kafka.producer.kafka:139956971476736:INFO:1998:Closing the Kafka producer with 0 secs timeout.\n",
      "2019-08-17 17:29:33,806.806.0989379882812:kafka.producer.kafka:139956971476736:INFO:1998:Proceeding to force close the producer since pending requests could not be completed within timeout 0.\n",
      "2019-08-17 17:29:33,807.807.8615665435791:kafka.conn:139956890081024:INFO:1998:<BrokerConnection node_id=0 host=ubuntu:9092 <connected> [IPv4 ('127.0.1.1', 9092)]>: Closing connection. \n",
      "2019-08-17 17:29:33,807.807.913064956665:kafka.conn:139956971476736:INFO:2000:Broker version identifed as 1.0.0\n",
      "2019-08-17 17:29:33,809.809.5991611480713:kafka.conn:139956971476736:INFO:2000:Set configuration api_version=(1, 0, 0) to skip auto check_version requests on startup\n"
     ]
    },
    {
     "name": "stdout",
     "output_type": "stream",
     "text": [
      "topic=my_topic partition=0 offset=2906: key=None value={'number_1': '4.107855569052211,26.83594619142368,-5.663159342871902,24.288168082739183,-4.690471424259924'}\n"
     ]
    },
    {
     "name": "stderr",
     "output_type": "stream",
     "text": [
      "2019-08-17 17:29:33,812.812.5004768371582:kafka.conn:139954881533696:INFO:1998:<BrokerConnection node_id=0 host=ubuntu:9092 <connecting> [IPv4 ('127.0.1.1', 9092)]>: connecting to ubuntu:9092 [('127.0.1.1', 9092) IPv4]\n",
      "2019-08-17 17:29:33,813.813.7288093566895:kafka.producer.kafka:139956971476736:INFO:2000:Closing the Kafka producer with 0 secs timeout.\n",
      "2019-08-17 17:29:33,814.814.5709037780762:kafka.conn:139956971476736:INFO:1998:<BrokerConnection node_id=bootstrap-0 host=localhost:9092 <connecting> [IPv6 ('::1', 9092, 0, 0)]>: connecting to localhost:9092 [('::1', 9092, 0, 0) IPv6]\n",
      "2019-08-17 17:29:33,817.817.6171779632568:kafka.producer.kafka:139956971476736:INFO:2000:Proceeding to force close the producer since pending requests could not be completed within timeout 0.\n",
      "2019-08-17 17:29:33,816.816.0934448242188:kafka.conn:139954881533696:INFO:1998:<BrokerConnection node_id=0 host=ubuntu:9092 <connecting> [IPv4 ('127.0.1.1', 9092)]>: Connection complete.\n",
      "2019-08-17 17:29:33,819.819.4265365600586:kafka.conn:139954520844032:INFO:2000:<BrokerConnection node_id=0 host=ubuntu:9092 <connected> [IPv4 ('127.0.1.1', 9092)]>: Closing connection. \n",
      "2019-08-17 17:29:33,818.818.5656070709229:kafka.conn:139956971476736:INFO:1998:Probing node bootstrap-0 broker version\n",
      "2019-08-17 17:29:33,820.820.0900554656982:kafka.conn:139954881533696:INFO:1998:<BrokerConnection node_id=bootstrap-0 host=localhost:9092 <connected> [IPv6 ('::1', 9092, 0, 0)]>: Closing connection. \n"
     ]
    },
    {
     "name": "stdout",
     "output_type": "stream",
     "text": [
      "topic=my-topic partition=0 offset=2306: key=None value={'number_2': '3.0030976944909056,8.676323291226375,4.433981620389071,8.19075778413583,11.158827864490096'}\n"
     ]
    },
    {
     "name": "stderr",
     "output_type": "stream",
     "text": [
      "2019-08-17 17:29:33,823.823.3952522277832:kafka.conn:139954529236736:INFO:2000:<BrokerConnection node_id=0 host=ubuntu:9092 <connecting> [IPv4 ('127.0.1.1', 9092)]>: connecting to ubuntu:9092 [('127.0.1.1', 9092) IPv4]\n",
      "2019-08-17 17:29:33,821.821.8529224395752:kafka.conn:139956971476736:INFO:1998:<BrokerConnection node_id=bootstrap-0 host=localhost:9092 <connecting> [IPv6 ('::1', 9092, 0, 0)]>: Connection complete.\n",
      "2019-08-17 17:29:33,825.825.62255859375:kafka.conn:139956971476736:INFO:2000:<BrokerConnection node_id=bootstrap-0 host=localhost:9092 <connecting> [IPv6 ('::1', 9092, 0, 0)]>: connecting to localhost:9092 [('::1', 9092, 0, 0) IPv6]\n"
     ]
    },
    {
     "name": "stdout",
     "output_type": "stream",
     "text": [
      "topic : result , partition : 0 , offset : 776\n"
     ]
    },
    {
     "name": "stderr",
     "output_type": "stream",
     "text": [
      "2019-08-17 17:29:33,826.826.8754482269287:kafka.conn:139954529236736:INFO:2000:<BrokerConnection node_id=0 host=ubuntu:9092 <connecting> [IPv4 ('127.0.1.1', 9092)]>: Connection complete.\n",
      "2019-08-17 17:29:33,827.827.5818824768066:kafka.conn:139956971476736:INFO:2000:Probing node bootstrap-0 broker version\n",
      "2019-08-17 17:29:33,829.829.3931484222412:kafka.conn:139954529236736:INFO:2000:<BrokerConnection node_id=bootstrap-0 host=localhost:9092 <connected> [IPv6 ('::1', 9092, 0, 0)]>: Closing connection. \n",
      "2019-08-17 17:29:33,831.831.2187194824219:kafka.conn:139956971476736:INFO:2000:<BrokerConnection node_id=bootstrap-0 host=localhost:9092 <connecting> [IPv6 ('::1', 9092, 0, 0)]>: Connection complete.\n"
     ]
    },
    {
     "name": "stdout",
     "output_type": "stream",
     "text": [
      "topic : result , partition : 0 , offset : 777\n"
     ]
    },
    {
     "name": "stderr",
     "output_type": "stream",
     "text": [
      "2019-08-17 17:29:33,931.931.1559200286865:kafka.conn:139956971476736:INFO:1998:Broker version identifed as 1.0.0\n",
      "2019-08-17 17:29:33,932.932.7964782714844:kafka.conn:139956971476736:INFO:1998:Set configuration api_version=(1, 0, 0) to skip auto check_version requests on startup\n",
      "2019-08-17 17:29:33,936.936.9738101959229:kafka.producer.kafka:139956971476736:INFO:1998:Closing the Kafka producer with 0 secs timeout.\n",
      "2019-08-17 17:29:33,939.939.0311241149902:kafka.conn:139956971476736:INFO:2000:Broker version identifed as 1.0.0\n",
      "2019-08-17 17:29:33,940.940.7179355621338:kafka.conn:139956971476736:INFO:2000:Set configuration api_version=(1, 0, 0) to skip auto check_version requests on startup\n",
      "2019-08-17 17:29:33,941.941.838264465332:kafka.producer.kafka:139956971476736:INFO:1998:Proceeding to force close the producer since pending requests could not be completed within timeout 0.\n",
      "2019-08-17 17:29:33,944.944.8115825653076:kafka.producer.kafka:139956971476736:INFO:2000:Closing the Kafka producer with 0 secs timeout.\n",
      "2019-08-17 17:29:33,945.945.030927658081:kafka.conn:139954881533696:INFO:1998:<BrokerConnection node_id=0 host=ubuntu:9092 <connected> [IPv4 ('127.0.1.1', 9092)]>: Closing connection. \n"
     ]
    },
    {
     "name": "stdout",
     "output_type": "stream",
     "text": [
      "topic=my_topic partition=0 offset=2907: key=None value={'number_1': '-3.6324643704259056,-16.985269038437774,8.279397690151084,10.289043768314801,30.135161942528303'}\n"
     ]
    },
    {
     "name": "stderr",
     "output_type": "stream",
     "text": [
      "2019-08-17 17:29:33,949.949.3460655212402:kafka.conn:139954529236736:INFO:1998:<BrokerConnection node_id=0 host=ubuntu:9092 <connecting> [IPv4 ('127.0.1.1', 9092)]>: connecting to ubuntu:9092 [('127.0.1.1', 9092) IPv4]\n",
      "2019-08-17 17:29:33,949.949.9819278717041:kafka.producer.kafka:139956971476736:INFO:2000:Proceeding to force close the producer since pending requests could not be completed within timeout 0.\n",
      "2019-08-17 17:29:33,951.951.8072605133057:kafka.conn:139954529236736:INFO:2000:<BrokerConnection node_id=0 host=ubuntu:9092 <connected> [IPv4 ('127.0.1.1', 9092)]>: Closing connection. \n",
      "2019-08-17 17:29:33,951.951.8735408782959:kafka.conn:139956971476736:INFO:1998:<BrokerConnection node_id=bootstrap-0 host=localhost:9092 <connecting> [IPv6 ('::1', 9092, 0, 0)]>: connecting to localhost:9092 [('::1', 9092, 0, 0) IPv6]\n",
      "2019-08-17 17:29:33,953.953.2835483551025:kafka.conn:139954529236736:INFO:1998:<BrokerConnection node_id=0 host=ubuntu:9092 <connecting> [IPv4 ('127.0.1.1', 9092)]>: Connection complete.\n"
     ]
    },
    {
     "name": "stdout",
     "output_type": "stream",
     "text": [
      "topic=my-topic partition=0 offset=2307: key=None value={'number_2': '-3.046581235059506,15.76642323992928,0.5354046416626177,12.360741381377967,-11.650666251268762'}\n"
     ]
    },
    {
     "name": "stderr",
     "output_type": "stream",
     "text": [
      "2019-08-17 17:29:33,953.953.8493156433105:kafka.conn:139956971476736:INFO:1998:Probing node bootstrap-0 broker version\n",
      "2019-08-17 17:29:33,956.956.0434818267822:kafka.conn:139954520844032:INFO:2000:<BrokerConnection node_id=0 host=ubuntu:9092 <connecting> [IPv4 ('127.0.1.1', 9092)]>: connecting to ubuntu:9092 [('127.0.1.1', 9092) IPv4]\n",
      "2019-08-17 17:29:33,955.955.3537368774414:kafka.conn:139954529236736:INFO:1998:<BrokerConnection node_id=bootstrap-0 host=localhost:9092 <connected> [IPv6 ('::1', 9092, 0, 0)]>: Closing connection. \n",
      "2019-08-17 17:29:33,958.958.552360534668:kafka.conn:139956971476736:INFO:2000:<BrokerConnection node_id=bootstrap-0 host=localhost:9092 <connecting> [IPv6 ('::1', 9092, 0, 0)]>: connecting to localhost:9092 [('::1', 9092, 0, 0) IPv6]\n",
      "2019-08-17 17:29:33,957.957.1106433868408:kafka.conn:139956971476736:INFO:1998:<BrokerConnection node_id=bootstrap-0 host=localhost:9092 <connecting> [IPv6 ('::1', 9092, 0, 0)]>: Connection complete.\n",
      "2019-08-17 17:29:33,959.959.8379135131836:kafka.conn:139954520844032:INFO:2000:<BrokerConnection node_id=0 host=ubuntu:9092 <connecting> [IPv4 ('127.0.1.1', 9092)]>: Connection complete.\n"
     ]
    },
    {
     "name": "stdout",
     "output_type": "stream",
     "text": [
      "topic : result , partition : 0 , offset : 778\n"
     ]
    },
    {
     "name": "stderr",
     "output_type": "stream",
     "text": [
      "2019-08-17 17:29:33,960.960.6423377990723:kafka.conn:139956971476736:INFO:2000:Probing node bootstrap-0 broker version\n",
      "2019-08-17 17:29:33,962.962.2116088867188:kafka.conn:139954520844032:INFO:2000:<BrokerConnection node_id=bootstrap-0 host=localhost:9092 <connected> [IPv6 ('::1', 9092, 0, 0)]>: Closing connection. \n",
      "2019-08-17 17:29:33,964.964.1745090484619:kafka.conn:139956971476736:INFO:2000:<BrokerConnection node_id=bootstrap-0 host=localhost:9092 <connecting> [IPv6 ('::1', 9092, 0, 0)]>: Connection complete.\n"
     ]
    },
    {
     "name": "stdout",
     "output_type": "stream",
     "text": [
      "topic : result , partition : 0 , offset : 779\n"
     ]
    },
    {
     "name": "stderr",
     "output_type": "stream",
     "text": [
      "2019-08-17 17:29:34,065.65.77801704406738:kafka.conn:139956971476736:INFO:1998:Broker version identifed as 1.0.0\n",
      "2019-08-17 17:29:34,067.67.52538681030273:kafka.conn:139956971476736:INFO:1998:Set configuration api_version=(1, 0, 0) to skip auto check_version requests on startup\n",
      "2019-08-17 17:29:34,071.71.54273986816406:kafka.producer.kafka:139956971476736:INFO:1998:Closing the Kafka producer with 0 secs timeout.\n",
      "2019-08-17 17:29:34,071.71.7167854309082:kafka.conn:139956971476736:INFO:2000:Broker version identifed as 1.0.0\n",
      "2019-08-17 17:29:34,073.73.33731651306152:kafka.conn:139956971476736:INFO:2000:Set configuration api_version=(1, 0, 0) to skip auto check_version requests on startup\n",
      "2019-08-17 17:29:34,075.75.02102851867676:kafka.producer.kafka:139956971476736:INFO:1998:Proceeding to force close the producer since pending requests could not be completed within timeout 0.\n",
      "2019-08-17 17:29:34,076.76.7667293548584:kafka.conn:139954529236736:INFO:1998:<BrokerConnection node_id=0 host=ubuntu:9092 <connected> [IPv4 ('127.0.1.1', 9092)]>: Closing connection. \n",
      "2019-08-17 17:29:34,077.77.3932933807373:kafka.producer.kafka:139956971476736:INFO:2000:Closing the Kafka producer with 0 secs timeout.\n",
      "2019-08-17 17:29:34,081.81.17938041687012:kafka.producer.kafka:139956971476736:INFO:2000:Proceeding to force close the producer since pending requests could not be completed within timeout 0.\n",
      "2019-08-17 17:29:34,083.83.17446708679199:kafka.conn:139954520844032:INFO:2000:<BrokerConnection node_id=0 host=ubuntu:9092 <connected> [IPv4 ('127.0.1.1', 9092)]>: Closing connection. \n",
      "2019-08-17 17:29:34,080.80.83581924438477:kafka.conn:139954881533696:INFO:1998:<BrokerConnection node_id=0 host=ubuntu:9092 <connecting> [IPv4 ('127.0.1.1', 9092)]>: connecting to ubuntu:9092 [('127.0.1.1', 9092) IPv4]\n"
     ]
    },
    {
     "name": "stdout",
     "output_type": "stream",
     "text": [
      "topic=my_topic partition=0 offset=2908: key=None value={'number_1': '5.271952038022699,36.079931372738,-4.956006909432398,15.155049065507454,-1.701548920579281'}\n"
     ]
    },
    {
     "name": "stderr",
     "output_type": "stream",
     "text": [
      "2019-08-17 17:29:34,087.87.26859092712402:kafka.conn:139954529236736:INFO:2000:<BrokerConnection node_id=0 host=ubuntu:9092 <connecting> [IPv4 ('127.0.1.1', 9092)]>: connecting to ubuntu:9092 [('127.0.1.1', 9092) IPv4]\n",
      "2019-08-17 17:29:34,087.87.59522438049316:kafka.conn:139954881533696:INFO:1998:<BrokerConnection node_id=0 host=ubuntu:9092 <connecting> [IPv4 ('127.0.1.1', 9092)]>: Connection complete.\n",
      "2019-08-17 17:29:34,090.90.09909629821777:kafka.conn:139956971476736:INFO:1998:<BrokerConnection node_id=bootstrap-0 host=localhost:9092 <connecting> [IPv6 ('::1', 9092, 0, 0)]>: connecting to localhost:9092 [('::1', 9092, 0, 0) IPv6]\n"
     ]
    },
    {
     "name": "stdout",
     "output_type": "stream",
     "text": [
      "topic=my-topic partition=0 offset=2308: key=None value={'number_2': '7.0863895945626245,10.39449615430284,-20.129858575715033,-5.193758908239024,2.6133012546160477'}\n"
     ]
    },
    {
     "name": "stderr",
     "output_type": "stream",
     "text": [
      "2019-08-17 17:29:34,090.90.49725532531738:kafka.conn:139954881533696:INFO:1998:<BrokerConnection node_id=bootstrap-0 host=localhost:9092 <connected> [IPv6 ('::1', 9092, 0, 0)]>: Closing connection. \n",
      "2019-08-17 17:29:34,092.92.3604965209961:kafka.conn:139956971476736:INFO:1998:Probing node bootstrap-0 broker version\n",
      "2019-08-17 17:29:34,093.93.13249588012695:kafka.conn:139954529236736:INFO:2000:<BrokerConnection node_id=0 host=ubuntu:9092 <connecting> [IPv4 ('127.0.1.1', 9092)]>: Connection complete.\n",
      "2019-08-17 17:29:34,095.95.57127952575684:kafka.conn:139956971476736:INFO:2000:<BrokerConnection node_id=bootstrap-0 host=localhost:9092 <connecting> [IPv6 ('::1', 9092, 0, 0)]>: connecting to localhost:9092 [('::1', 9092, 0, 0) IPv6]\n",
      "2019-08-17 17:29:34,095.95.81661224365234:kafka.conn:139954529236736:INFO:2000:<BrokerConnection node_id=bootstrap-0 host=localhost:9092 <connected> [IPv6 ('::1', 9092, 0, 0)]>: Closing connection. \n"
     ]
    },
    {
     "name": "stdout",
     "output_type": "stream",
     "text": [
      "topic : result , partition : 0 , offset : 780\n"
     ]
    },
    {
     "name": "stderr",
     "output_type": "stream",
     "text": [
      "2019-08-17 17:29:34,097.97.94330596923828:kafka.conn:139956971476736:INFO:1998:<BrokerConnection node_id=bootstrap-0 host=localhost:9092 <connecting> [IPv6 ('::1', 9092, 0, 0)]>: Connection complete.\n",
      "2019-08-17 17:29:34,097.97.51200675964355:kafka.conn:139956971476736:INFO:2000:Probing node bootstrap-0 broker version\n"
     ]
    },
    {
     "name": "stdout",
     "output_type": "stream",
     "text": [
      "topic : result , partition : 0 , offset : 781\n"
     ]
    },
    {
     "name": "stderr",
     "output_type": "stream",
     "text": [
      "2019-08-17 17:29:34,102.102.8585433959961:kafka.conn:139956971476736:INFO:2000:<BrokerConnection node_id=bootstrap-0 host=localhost:9092 <connecting> [IPv6 ('::1', 9092, 0, 0)]>: Connection complete.\n",
      "2019-08-17 17:29:34,202.202.789306640625:kafka.conn:139956971476736:INFO:1998:Broker version identifed as 1.0.0\n",
      "2019-08-17 17:29:34,204.204.64324951171875:kafka.conn:139956971476736:INFO:1998:Set configuration api_version=(1, 0, 0) to skip auto check_version requests on startup\n",
      "2019-08-17 17:29:34,207.207.86499977111816:kafka.conn:139956971476736:INFO:2000:Broker version identifed as 1.0.0\n",
      "2019-08-17 17:29:34,209.209.58685874938965:kafka.conn:139956971476736:INFO:2000:Set configuration api_version=(1, 0, 0) to skip auto check_version requests on startup\n",
      "2019-08-17 17:29:34,211.211.63678169250488:kafka.producer.kafka:139956971476736:INFO:1998:Closing the Kafka producer with 0 secs timeout.\n",
      "2019-08-17 17:29:34,214.214.83087539672852:kafka.producer.kafka:139956971476736:INFO:1998:Proceeding to force close the producer since pending requests could not be completed within timeout 0.\n",
      "2019-08-17 17:29:34,213.213.8373851776123:kafka.producer.kafka:139956971476736:INFO:2000:Closing the Kafka producer with 0 secs timeout.\n",
      "2019-08-17 17:29:34,216.216.81666374206543:kafka.conn:139954881533696:INFO:1998:<BrokerConnection node_id=0 host=ubuntu:9092 <connected> [IPv4 ('127.0.1.1', 9092)]>: Closing connection. \n",
      "2019-08-17 17:29:34,216.216.94231033325195:kafka.producer.kafka:139956971476736:INFO:2000:Proceeding to force close the producer since pending requests could not be completed within timeout 0.\n",
      "2019-08-17 17:29:34,218.218.86968612670898:kafka.conn:139954529236736:INFO:2000:<BrokerConnection node_id=0 host=ubuntu:9092 <connected> [IPv4 ('127.0.1.1', 9092)]>: Closing connection. \n"
     ]
    },
    {
     "name": "stdout",
     "output_type": "stream",
     "text": [
      "topic=my_topic partition=0 offset=2909: key=None value={'number_1': '42.63048565789245,10.759813231888938,18.681324951352998,-7.496816351033388,5.17421238194512'}\n",
      "topic=my-topic partition=0 offset=2309: key=None value={'number_2': '-3.3625454756360087,0.803405866299149,0.2672151321966727,3.3852283983151077,-3.520432155480875'}\n"
     ]
    },
    {
     "name": "stderr",
     "output_type": "stream",
     "text": [
      "2019-08-17 17:29:34,221.221.1017608642578:kafka.conn:139954529236736:INFO:1998:<BrokerConnection node_id=0 host=ubuntu:9092 <connecting> [IPv4 ('127.0.1.1', 9092)]>: connecting to ubuntu:9092 [('127.0.1.1', 9092) IPv4]\n",
      "2019-08-17 17:29:34,222.222.99838066101074:kafka.conn:139954520844032:INFO:2000:<BrokerConnection node_id=0 host=ubuntu:9092 <connecting> [IPv4 ('127.0.1.1', 9092)]>: connecting to ubuntu:9092 [('127.0.1.1', 9092) IPv4]\n",
      "2019-08-17 17:29:34,223.223.6316204071045:kafka.conn:139956971476736:INFO:1998:<BrokerConnection node_id=bootstrap-0 host=localhost:9092 <connecting> [IPv6 ('::1', 9092, 0, 0)]>: connecting to localhost:9092 [('::1', 9092, 0, 0) IPv6]\n",
      "2019-08-17 17:29:34,225.225.60834884643555:kafka.conn:139956971476736:INFO:2000:<BrokerConnection node_id=bootstrap-0 host=localhost:9092 <connecting> [IPv6 ('::1', 9092, 0, 0)]>: connecting to localhost:9092 [('::1', 9092, 0, 0) IPv6]\n",
      "2019-08-17 17:29:34,225.225.25787353515625:kafka.conn:139954529236736:INFO:1998:<BrokerConnection node_id=0 host=ubuntu:9092 <connecting> [IPv4 ('127.0.1.1', 9092)]>: Connection complete.\n",
      "2019-08-17 17:29:34,227.227.07462310791016:kafka.conn:139954520844032:INFO:2000:<BrokerConnection node_id=0 host=ubuntu:9092 <connecting> [IPv4 ('127.0.1.1', 9092)]>: Connection complete.\n",
      "2019-08-17 17:29:34,226.226.90320014953613:kafka.conn:139956971476736:INFO:1998:Probing node bootstrap-0 broker version\n",
      "2019-08-17 17:29:34,227.227.63800621032715:kafka.conn:139956971476736:INFO:2000:Probing node bootstrap-0 broker version\n",
      "2019-08-17 17:29:34,228.228.57093811035156:kafka.conn:139954529236736:INFO:1998:<BrokerConnection node_id=bootstrap-0 host=localhost:9092 <connected> [IPv6 ('::1', 9092, 0, 0)]>: Closing connection. \n",
      "2019-08-17 17:29:34,229.229.2463779449463:kafka.conn:139954520844032:INFO:2000:<BrokerConnection node_id=bootstrap-0 host=localhost:9092 <connected> [IPv6 ('::1', 9092, 0, 0)]>: Closing connection. \n",
      "2019-08-17 17:29:34,230.230.67140579223633:kafka.conn:139956971476736:INFO:1998:<BrokerConnection node_id=bootstrap-0 host=localhost:9092 <connecting> [IPv6 ('::1', 9092, 0, 0)]>: Connection complete.\n",
      "2019-08-17 17:29:34,231.231.06813430786133:kafka.conn:139956971476736:INFO:2000:<BrokerConnection node_id=bootstrap-0 host=localhost:9092 <connecting> [IPv6 ('::1', 9092, 0, 0)]>: Connection complete.\n"
     ]
    },
    {
     "name": "stdout",
     "output_type": "stream",
     "text": [
      "topic : result , partition : 0 , offset : 782\n",
      "topic : result , partition : 0 , offset : 783\n"
     ]
    },
    {
     "name": "stderr",
     "output_type": "stream",
     "text": [
      "2019-08-17 17:29:34,337.337.79406547546387:kafka.conn:139956971476736:INFO:1998:Broker version identifed as 1.0.0\n",
      "2019-08-17 17:29:34,339.339.47181701660156:kafka.conn:139956971476736:INFO:1998:Set configuration api_version=(1, 0, 0) to skip auto check_version requests on startup\n",
      "2019-08-17 17:29:34,339.339.6642208099365:kafka.conn:139956971476736:INFO:2000:Broker version identifed as 1.0.0\n",
      "2019-08-17 17:29:34,341.341.2282466888428:kafka.conn:139956971476736:INFO:2000:Set configuration api_version=(1, 0, 0) to skip auto check_version requests on startup\n",
      "2019-08-17 17:29:34,343.343.20068359375:kafka.producer.kafka:139956971476736:INFO:1998:Closing the Kafka producer with 0 secs timeout.\n",
      "2019-08-17 17:29:34,344.344.9902534484863:kafka.producer.kafka:139956971476736:INFO:1998:Proceeding to force close the producer since pending requests could not be completed within timeout 0.\n",
      "2019-08-17 17:29:34,345.345.4580307006836:kafka.producer.kafka:139956971476736:INFO:2000:Closing the Kafka producer with 0 secs timeout.\n",
      "2019-08-17 17:29:34,352.352.80585289001465:kafka.conn:139954529236736:INFO:1998:<BrokerConnection node_id=0 host=ubuntu:9092 <connected> [IPv4 ('127.0.1.1', 9092)]>: Closing connection. \n",
      "2019-08-17 17:29:34,352.352.5986671447754:kafka.producer.kafka:139956971476736:INFO:2000:Proceeding to force close the producer since pending requests could not be completed within timeout 0.\n",
      "2019-08-17 17:29:34,354.354.7244071960449:kafka.conn:139954520844032:INFO:2000:<BrokerConnection node_id=0 host=ubuntu:9092 <connected> [IPv4 ('127.0.1.1', 9092)]>: Closing connection. \n"
     ]
    },
    {
     "name": "stdout",
     "output_type": "stream",
     "text": [
      "topic=my_topic partition=0 offset=2910: key=None value={'number_1': '11.376933496308038,12.672359094136873,2.042246579841284,5.722940557712536,42.219421123442395'}\n"
     ]
    },
    {
     "name": "stderr",
     "output_type": "stream",
     "text": [
      "2019-08-17 17:29:34,356.356.80675506591797:kafka.conn:139956890081024:INFO:1998:<BrokerConnection node_id=0 host=ubuntu:9092 <connecting> [IPv4 ('127.0.1.1', 9092)]>: connecting to ubuntu:9092 [('127.0.1.1', 9092) IPv4]\n"
     ]
    },
    {
     "name": "stdout",
     "output_type": "stream",
     "text": [
      "topic=my-topic partition=0 offset=2310: key=None value={'number_2': '4.121798156478688,10.912842627150658,14.441325136502636,11.898813516399064,-7.427642010885953'}\n"
     ]
    },
    {
     "name": "stderr",
     "output_type": "stream",
     "text": [
      "2019-08-17 17:29:34,359.359.44557189941406:kafka.conn:139956890081024:INFO:2000:<BrokerConnection node_id=0 host=ubuntu:9092 <connecting> [IPv4 ('127.0.1.1', 9092)]>: connecting to ubuntu:9092 [('127.0.1.1', 9092) IPv4]\n",
      "2019-08-17 17:29:34,359.359.06410217285156:kafka.conn:139956971476736:INFO:1998:<BrokerConnection node_id=bootstrap-0 host=localhost:9092 <connecting> [IPv6 ('::1', 9092, 0, 0)]>: connecting to localhost:9092 [('::1', 9092, 0, 0) IPv6]\n",
      "2019-08-17 17:29:34,361.361.544132232666:kafka.conn:139956971476736:INFO:2000:<BrokerConnection node_id=bootstrap-0 host=localhost:9092 <connecting> [IPv6 ('::1', 9092, 0, 0)]>: connecting to localhost:9092 [('::1', 9092, 0, 0) IPv6]\n",
      "2019-08-17 17:29:34,360.360.7950210571289:kafka.conn:139956890081024:INFO:1998:<BrokerConnection node_id=0 host=ubuntu:9092 <connecting> [IPv4 ('127.0.1.1', 9092)]>: Connection complete.\n",
      "2019-08-17 17:29:34,362.362.5667095184326:kafka.conn:139956890081024:INFO:2000:<BrokerConnection node_id=0 host=ubuntu:9092 <connecting> [IPv4 ('127.0.1.1', 9092)]>: Connection complete.\n",
      "2019-08-17 17:29:34,361.361.386775970459:kafka.conn:139956971476736:INFO:1998:Probing node bootstrap-0 broker version\n",
      "2019-08-17 17:29:34,363.363.1114959716797:kafka.conn:139956971476736:INFO:2000:Probing node bootstrap-0 broker version\n",
      "2019-08-17 17:29:34,362.362.96534538269043:kafka.conn:139956890081024:INFO:1998:<BrokerConnection node_id=bootstrap-0 host=localhost:9092 <connected> [IPv6 ('::1', 9092, 0, 0)]>: Closing connection. \n",
      "2019-08-17 17:29:34,364.364.64571952819824:kafka.conn:139956890081024:INFO:2000:<BrokerConnection node_id=bootstrap-0 host=localhost:9092 <connected> [IPv6 ('::1', 9092, 0, 0)]>: Closing connection. \n",
      "2019-08-17 17:29:34,364.364.81213569641113:kafka.conn:139956971476736:INFO:1998:<BrokerConnection node_id=bootstrap-0 host=localhost:9092 <connecting> [IPv6 ('::1', 9092, 0, 0)]>: Connection complete.\n",
      "2019-08-17 17:29:34,366.366.10865592956543:kafka.conn:139956971476736:INFO:2000:<BrokerConnection node_id=bootstrap-0 host=localhost:9092 <connecting> [IPv6 ('::1', 9092, 0, 0)]>: Connection complete.\n"
     ]
    },
    {
     "name": "stdout",
     "output_type": "stream",
     "text": [
      "topic : result , partition : 0 , offset : 784\n",
      "topic : result , partition : 0 , offset : 785\n"
     ]
    },
    {
     "name": "stderr",
     "output_type": "stream",
     "text": [
      "2019-08-17 17:29:34,473.473.7892150878906:kafka.conn:139956971476736:INFO:1998:Broker version identifed as 1.0.0\n",
      "2019-08-17 17:29:34,475.475.13818740844727:kafka.conn:139956971476736:INFO:2000:Broker version identifed as 1.0.0\n",
      "2019-08-17 17:29:34,475.475.419282913208:kafka.conn:139956971476736:INFO:1998:Set configuration api_version=(1, 0, 0) to skip auto check_version requests on startup\n",
      "2019-08-17 17:29:34,476.476.7436981201172:kafka.conn:139956971476736:INFO:2000:Set configuration api_version=(1, 0, 0) to skip auto check_version requests on startup\n",
      "2019-08-17 17:29:34,479.479.4807434082031:kafka.producer.kafka:139956971476736:INFO:1998:Closing the Kafka producer with 0 secs timeout.\n",
      "2019-08-17 17:29:34,480.480.6942939758301:kafka.producer.kafka:139956971476736:INFO:2000:Closing the Kafka producer with 0 secs timeout.\n",
      "2019-08-17 17:29:34,483.483.31522941589355:kafka.producer.kafka:139956971476736:INFO:1998:Proceeding to force close the producer since pending requests could not be completed within timeout 0.\n",
      "2019-08-17 17:29:34,484.484.6320152282715:kafka.producer.kafka:139956971476736:INFO:2000:Proceeding to force close the producer since pending requests could not be completed within timeout 0.\n",
      "2019-08-17 17:29:34,485.485.3098392486572:kafka.conn:139956890081024:INFO:1998:<BrokerConnection node_id=0 host=ubuntu:9092 <connected> [IPv4 ('127.0.1.1', 9092)]>: Closing connection. \n",
      "2019-08-17 17:29:34,486.486.73486709594727:kafka.conn:139956890081024:INFO:2000:<BrokerConnection node_id=0 host=ubuntu:9092 <connected> [IPv4 ('127.0.1.1', 9092)]>: Closing connection. \n"
     ]
    },
    {
     "name": "stdout",
     "output_type": "stream",
     "text": [
      "topic=my_topic partition=0 offset=2911: key=None value={'number_1': '18.532126091341524,-15.293877740765463,-7.868393751511917,-12.207202056931106,21.68878474084676'}\n"
     ]
    },
    {
     "name": "stderr",
     "output_type": "stream",
     "text": [
      "2019-08-17 17:29:34,489.489.6683692932129:kafka.conn:139954529236736:INFO:1998:<BrokerConnection node_id=0 host=ubuntu:9092 <connecting> [IPv4 ('127.0.1.1', 9092)]>: connecting to ubuntu:9092 [('127.0.1.1', 9092) IPv4]\n"
     ]
    },
    {
     "name": "stdout",
     "output_type": "stream",
     "text": [
      "topic=my-topic partition=0 offset=2311: key=None value={'number_2': '-4.724000786182959,6.005848697064325,5.255481060811191,-0.4706720161233002,-14.53166787300801'}\n"
     ]
    },
    {
     "name": "stderr",
     "output_type": "stream",
     "text": [
      "2019-08-17 17:29:34,491.491.2302494049072:kafka.conn:139954520844032:INFO:2000:<BrokerConnection node_id=0 host=ubuntu:9092 <connecting> [IPv4 ('127.0.1.1', 9092)]>: connecting to ubuntu:9092 [('127.0.1.1', 9092) IPv4]\n",
      "2019-08-17 17:29:34,492.492.5038814544678:kafka.conn:139956971476736:INFO:1998:<BrokerConnection node_id=bootstrap-0 host=localhost:9092 <connecting> [IPv6 ('::1', 9092, 0, 0)]>: connecting to localhost:9092 [('::1', 9092, 0, 0) IPv6]\n",
      "2019-08-17 17:29:34,492.492.72751808166504:kafka.conn:139954529236736:INFO:1998:<BrokerConnection node_id=0 host=ubuntu:9092 <connecting> [IPv4 ('127.0.1.1', 9092)]>: Connection complete.\n",
      "2019-08-17 17:29:34,493.493.85690689086914:kafka.conn:139956971476736:INFO:2000:<BrokerConnection node_id=bootstrap-0 host=localhost:9092 <connecting> [IPv6 ('::1', 9092, 0, 0)]>: connecting to localhost:9092 [('::1', 9092, 0, 0) IPv6]\n",
      "2019-08-17 17:29:34,495.495.4030513763428:kafka.conn:139954520844032:INFO:2000:<BrokerConnection node_id=0 host=ubuntu:9092 <connecting> [IPv4 ('127.0.1.1', 9092)]>: Connection complete.\n",
      "2019-08-17 17:29:34,494.494.8606491088867:kafka.conn:139956971476736:INFO:1998:Probing node bootstrap-0 broker version\n",
      "2019-08-17 17:29:34,495.495.84174156188965:kafka.conn:139956971476736:INFO:2000:Probing node bootstrap-0 broker version\n",
      "2019-08-17 17:29:34,495.495.73659896850586:kafka.conn:139954529236736:INFO:1998:<BrokerConnection node_id=bootstrap-0 host=localhost:9092 <connected> [IPv6 ('::1', 9092, 0, 0)]>: Closing connection. \n",
      "2019-08-17 17:29:34,497.497.4374771118164:kafka.conn:139954520844032:INFO:2000:<BrokerConnection node_id=bootstrap-0 host=localhost:9092 <connected> [IPv6 ('::1', 9092, 0, 0)]>: Closing connection. \n",
      "2019-08-17 17:29:34,497.497.80917167663574:kafka.conn:139956971476736:INFO:1998:<BrokerConnection node_id=bootstrap-0 host=localhost:9092 <connecting> [IPv6 ('::1', 9092, 0, 0)]>: Connection complete.\n",
      "2019-08-17 17:29:34,499.499.26137924194336:kafka.conn:139956971476736:INFO:2000:<BrokerConnection node_id=bootstrap-0 host=localhost:9092 <connecting> [IPv6 ('::1', 9092, 0, 0)]>: Connection complete.\n"
     ]
    },
    {
     "name": "stdout",
     "output_type": "stream",
     "text": [
      "topic : result , partition : 0 , offset : 786\n",
      "topic : result , partition : 0 , offset : 787\n"
     ]
    },
    {
     "name": "stderr",
     "output_type": "stream",
     "text": [
      "2019-08-17 17:29:34,606.606.3694953918457:kafka.conn:139956971476736:INFO:1998:Broker version identifed as 1.0.0\n",
      "2019-08-17 17:29:34,606.606.4016819000244:kafka.conn:139956971476736:INFO:2000:Broker version identifed as 1.0.0\n",
      "2019-08-17 17:29:34,608.608.0238819122314:kafka.conn:139956971476736:INFO:1998:Set configuration api_version=(1, 0, 0) to skip auto check_version requests on startup\n",
      "2019-08-17 17:29:34,608.608.2582473754883:kafka.conn:139956971476736:INFO:2000:Set configuration api_version=(1, 0, 0) to skip auto check_version requests on startup\n",
      "2019-08-17 17:29:34,612.612.0896339416504:kafka.producer.kafka:139956971476736:INFO:1998:Closing the Kafka producer with 0 secs timeout.\n",
      "2019-08-17 17:29:34,612.612.6227378845215:kafka.producer.kafka:139956971476736:INFO:2000:Closing the Kafka producer with 0 secs timeout.\n",
      "2019-08-17 17:29:34,616.616.0824298858643:kafka.producer.kafka:139956971476736:INFO:1998:Proceeding to force close the producer since pending requests could not be completed within timeout 0.\n",
      "2019-08-17 17:29:34,616.616.5544986724854:kafka.producer.kafka:139956971476736:INFO:2000:Proceeding to force close the producer since pending requests could not be completed within timeout 0.\n",
      "2019-08-17 17:29:34,618.618.0393695831299:kafka.conn:139954529236736:INFO:1998:<BrokerConnection node_id=0 host=ubuntu:9092 <connected> [IPv4 ('127.0.1.1', 9092)]>: Closing connection. \n",
      "2019-08-17 17:29:34,618.618.6857223510742:kafka.conn:139954520844032:INFO:2000:<BrokerConnection node_id=0 host=ubuntu:9092 <connected> [IPv4 ('127.0.1.1', 9092)]>: Closing connection. \n"
     ]
    },
    {
     "name": "stdout",
     "output_type": "stream",
     "text": [
      "topic=my_topic partition=0 offset=2912: key=None value={'number_1': '21.397940580261576,-14.374542102823394,-3.2186408386858503,-2.1784513445474722,12.873444806213893'}\n",
      "topic=my-topic partition=0 offset=2312: key=None value={'number_2': '3.901701612633599,11.164399863658495,-1.9756622984232066,15.600403395813913,-4.095534061305647'}\n"
     ]
    },
    {
     "name": "stderr",
     "output_type": "stream",
     "text": [
      "2019-08-17 17:29:34,622.622.3230361938477:kafka.conn:139954881533696:INFO:1998:<BrokerConnection node_id=0 host=ubuntu:9092 <connecting> [IPv4 ('127.0.1.1', 9092)]>: connecting to ubuntu:9092 [('127.0.1.1', 9092) IPv4]\n",
      "2019-08-17 17:29:34,624.624.2313385009766:kafka.conn:139956890081024:INFO:2000:<BrokerConnection node_id=0 host=ubuntu:9092 <connecting> [IPv4 ('127.0.1.1', 9092)]>: connecting to ubuntu:9092 [('127.0.1.1', 9092) IPv4]\n",
      "2019-08-17 17:29:34,625.625.3664493560791:kafka.conn:139954881533696:INFO:1998:<BrokerConnection node_id=0 host=ubuntu:9092 <connecting> [IPv4 ('127.0.1.1', 9092)]>: Connection complete.\n",
      "2019-08-17 17:29:34,624.624.6681213378906:kafka.conn:139956971476736:INFO:2000:<BrokerConnection node_id=bootstrap-0 host=localhost:9092 <connecting> [IPv6 ('::1', 9092, 0, 0)]>: connecting to localhost:9092 [('::1', 9092, 0, 0) IPv6]\n",
      "2019-08-17 17:29:34,625.625.6420612335205:kafka.conn:139956971476736:INFO:1998:<BrokerConnection node_id=bootstrap-0 host=localhost:9092 <connecting> [IPv6 ('::1', 9092, 0, 0)]>: connecting to localhost:9092 [('::1', 9092, 0, 0) IPv6]\n",
      "2019-08-17 17:29:34,627.627.5396347045898:kafka.conn:139956890081024:INFO:2000:<BrokerConnection node_id=0 host=ubuntu:9092 <connecting> [IPv4 ('127.0.1.1', 9092)]>: Connection complete.\n",
      "2019-08-17 17:29:34,628.628.0672550201416:kafka.conn:139954881533696:INFO:1998:<BrokerConnection node_id=bootstrap-0 host=localhost:9092 <connected> [IPv6 ('::1', 9092, 0, 0)]>: Closing connection. \n",
      "2019-08-17 17:29:34,628.628.1404495239258:kafka.conn:139956971476736:INFO:2000:Probing node bootstrap-0 broker version\n",
      "2019-08-17 17:29:34,628.628.8461685180664:kafka.conn:139956971476736:INFO:1998:Probing node bootstrap-0 broker version\n",
      "2019-08-17 17:29:34,629.629.7848224639893:kafka.conn:139956890081024:INFO:2000:<BrokerConnection node_id=bootstrap-0 host=localhost:9092 <connected> [IPv6 ('::1', 9092, 0, 0)]>: Closing connection. \n"
     ]
    },
    {
     "name": "stdout",
     "output_type": "stream",
     "text": [
      "topic : result , partition : 0 , offset : 788\n"
     ]
    },
    {
     "name": "stderr",
     "output_type": "stream",
     "text": [
      "2019-08-17 17:29:34,633.633.3439350128174:kafka.conn:139956971476736:INFO:1998:<BrokerConnection node_id=bootstrap-0 host=localhost:9092 <connecting> [IPv6 ('::1', 9092, 0, 0)]>: Connection complete.\n",
      "2019-08-17 17:29:34,631.631.6306591033936:kafka.conn:139956971476736:INFO:2000:<BrokerConnection node_id=bootstrap-0 host=localhost:9092 <connecting> [IPv6 ('::1', 9092, 0, 0)]>: Connection complete.\n"
     ]
    },
    {
     "name": "stdout",
     "output_type": "stream",
     "text": [
      "topic : result , partition : 0 , offset : 789\n"
     ]
    },
    {
     "name": "stderr",
     "output_type": "stream",
     "text": [
      "2019-08-17 17:29:34,738.738.7363910675049:kafka.conn:139956971476736:INFO:1998:Broker version identifed as 1.0.0\n",
      "2019-08-17 17:29:34,739.739.4363880157471:kafka.conn:139956971476736:INFO:2000:Broker version identifed as 1.0.0\n",
      "2019-08-17 17:29:34,740.740.3030395507812:kafka.conn:139956971476736:INFO:1998:Set configuration api_version=(1, 0, 0) to skip auto check_version requests on startup\n",
      "2019-08-17 17:29:34,740.740.9698963165283:kafka.conn:139956971476736:INFO:2000:Set configuration api_version=(1, 0, 0) to skip auto check_version requests on startup\n",
      "2019-08-17 17:29:34,744.744.5204257965088:kafka.producer.kafka:139956971476736:INFO:2000:Closing the Kafka producer with 0 secs timeout.\n",
      "2019-08-17 17:29:34,744.744.07958984375:kafka.producer.kafka:139956971476736:INFO:1998:Closing the Kafka producer with 0 secs timeout.\n",
      "2019-08-17 17:29:34,749.749.453067779541:kafka.producer.kafka:139956971476736:INFO:1998:Proceeding to force close the producer since pending requests could not be completed within timeout 0.\n",
      "2019-08-17 17:29:34,750.750.1506805419922:kafka.producer.kafka:139956971476736:INFO:2000:Proceeding to force close the producer since pending requests could not be completed within timeout 0.\n",
      "2019-08-17 17:29:34,751.751.1782646179199:kafka.conn:139954881533696:INFO:1998:<BrokerConnection node_id=0 host=ubuntu:9092 <connected> [IPv4 ('127.0.1.1', 9092)]>: Closing connection. \n",
      "2019-08-17 17:29:34,751.751.9106864929199:kafka.conn:139956890081024:INFO:2000:<BrokerConnection node_id=0 host=ubuntu:9092 <connected> [IPv4 ('127.0.1.1', 9092)]>: Closing connection. \n"
     ]
    },
    {
     "name": "stdout",
     "output_type": "stream",
     "text": [
      "topic=my_topic partition=0 offset=2913: key=None value={'number_1': '-16.756563535242897,7.646182170059463,-33.459251515919206,9.256426630538575,15.861270061346183'}\n"
     ]
    },
    {
     "name": "stderr",
     "output_type": "stream",
     "text": [
      "2019-08-17 17:29:34,755.755.2011013031006:kafka.conn:139956890081024:INFO:1998:<BrokerConnection node_id=0 host=ubuntu:9092 <connecting> [IPv4 ('127.0.1.1', 9092)]>: connecting to ubuntu:9092 [('127.0.1.1', 9092) IPv4]\n"
     ]
    },
    {
     "name": "stdout",
     "output_type": "stream",
     "text": [
      "topic=my-topic partition=0 offset=2313: key=None value={'number_2': '-13.292384898275277,-9.408999557414225,-13.304897342438773,5.655743851265002,-8.298974613538357'}\n"
     ]
    },
    {
     "name": "stderr",
     "output_type": "stream",
     "text": [
      "2019-08-17 17:29:34,755.755.913496017456:kafka.conn:139954520844032:INFO:2000:<BrokerConnection node_id=0 host=ubuntu:9092 <connecting> [IPv4 ('127.0.1.1', 9092)]>: connecting to ubuntu:9092 [('127.0.1.1', 9092) IPv4]\n",
      "2019-08-17 17:29:34,757.757.9922676086426:kafka.conn:139956971476736:INFO:1998:<BrokerConnection node_id=bootstrap-0 host=localhost:9092 <connecting> [IPv6 ('::1', 9092, 0, 0)]>: connecting to localhost:9092 [('::1', 9092, 0, 0) IPv6]\n",
      "2019-08-17 17:29:34,758.758.9511871337891:kafka.conn:139954520844032:INFO:2000:<BrokerConnection node_id=0 host=ubuntu:9092 <connecting> [IPv4 ('127.0.1.1', 9092)]>: Connection complete.\n",
      "2019-08-17 17:29:34,759.759.364128112793:kafka.conn:139956890081024:INFO:1998:<BrokerConnection node_id=0 host=ubuntu:9092 <connecting> [IPv4 ('127.0.1.1', 9092)]>: Connection complete.\n",
      "2019-08-17 17:29:34,759.759.221076965332:kafka.conn:139956971476736:INFO:2000:<BrokerConnection node_id=bootstrap-0 host=localhost:9092 <connecting> [IPv6 ('::1', 9092, 0, 0)]>: connecting to localhost:9092 [('::1', 9092, 0, 0) IPv6]\n",
      "2019-08-17 17:29:34,760.760.0212097167969:kafka.conn:139956971476736:INFO:1998:Probing node bootstrap-0 broker version\n",
      "2019-08-17 17:29:34,760.760.7200145721436:kafka.conn:139954520844032:INFO:2000:<BrokerConnection node_id=bootstrap-0 host=localhost:9092 <connected> [IPv6 ('::1', 9092, 0, 0)]>: Closing connection. \n",
      "2019-08-17 17:29:34,761.761.5327835083008:kafka.conn:139956890081024:INFO:1998:<BrokerConnection node_id=bootstrap-0 host=localhost:9092 <connected> [IPv6 ('::1', 9092, 0, 0)]>: Closing connection. \n",
      "2019-08-17 17:29:34,762.762.3577117919922:kafka.conn:139956971476736:INFO:2000:Probing node bootstrap-0 broker version\n",
      "2019-08-17 17:29:34,763.763.2770538330078:kafka.conn:139956971476736:INFO:1998:<BrokerConnection node_id=bootstrap-0 host=localhost:9092 <connecting> [IPv6 ('::1', 9092, 0, 0)]>: Connection complete.\n"
     ]
    },
    {
     "name": "stdout",
     "output_type": "stream",
     "text": [
      "topic : result , partition : 0 , offset : 790\n"
     ]
    },
    {
     "name": "stderr",
     "output_type": "stream",
     "text": [
      "2019-08-17 17:29:34,766.766.5512561798096:kafka.conn:139956971476736:INFO:2000:<BrokerConnection node_id=bootstrap-0 host=localhost:9092 <connecting> [IPv6 ('::1', 9092, 0, 0)]>: Connection complete.\n"
     ]
    },
    {
     "name": "stdout",
     "output_type": "stream",
     "text": [
      "topic : result , partition : 0 , offset : 791\n"
     ]
    },
    {
     "name": "stderr",
     "output_type": "stream",
     "text": [
      "2019-08-17 17:29:34,870.870.6910610198975:kafka.conn:139956971476736:INFO:1998:Broker version identifed as 1.0.0\n",
      "2019-08-17 17:29:34,872.872.255802154541:kafka.conn:139956971476736:INFO:1998:Set configuration api_version=(1, 0, 0) to skip auto check_version requests on startup\n",
      "2019-08-17 17:29:34,872.872.0085620880127:kafka.conn:139956971476736:INFO:2000:Broker version identifed as 1.0.0\n",
      "2019-08-17 17:29:34,873.873.9657402038574:kafka.conn:139956971476736:INFO:2000:Set configuration api_version=(1, 0, 0) to skip auto check_version requests on startup\n",
      "2019-08-17 17:29:34,876.876.1239051818848:kafka.producer.kafka:139956971476736:INFO:1998:Closing the Kafka producer with 0 secs timeout.\n",
      "2019-08-17 17:29:34,877.877.7015209197998:kafka.producer.kafka:139956971476736:INFO:1998:Proceeding to force close the producer since pending requests could not be completed within timeout 0.\n",
      "2019-08-17 17:29:34,877.877.8319358825684:kafka.producer.kafka:139956971476736:INFO:2000:Closing the Kafka producer with 0 secs timeout.\n",
      "2019-08-17 17:29:34,881.881.8018436431885:kafka.producer.kafka:139956971476736:INFO:2000:Proceeding to force close the producer since pending requests could not be completed within timeout 0.\n",
      "2019-08-17 17:29:34,881.881.8578720092773:kafka.conn:139956890081024:INFO:1998:<BrokerConnection node_id=0 host=ubuntu:9092 <connected> [IPv4 ('127.0.1.1', 9092)]>: Closing connection. \n",
      "2019-08-17 17:29:34,883.883.6216926574707:kafka.conn:139954520844032:INFO:2000:<BrokerConnection node_id=0 host=ubuntu:9092 <connected> [IPv4 ('127.0.1.1', 9092)]>: Closing connection. \n"
     ]
    },
    {
     "name": "stdout",
     "output_type": "stream",
     "text": [
      "topic=my_topic partition=0 offset=2914: key=None value={'number_1': '25.417971356192727,6.260264836869903,9.609847112251298,23.72070960708582,14.52303504378931'}\n",
      "topic=my-topic partition=0 offset=2314: key=None value={'number_2': '7.919532664927339,2.1266675519951255,-18.580793711693296,15.586615199704443,-7.156610053991725'}\n"
     ]
    },
    {
     "name": "stderr",
     "output_type": "stream",
     "text": [
      "2019-08-17 17:29:34,886.886.0311508178711:kafka.conn:139954529236736:INFO:1998:<BrokerConnection node_id=0 host=ubuntu:9092 <connecting> [IPv4 ('127.0.1.1', 9092)]>: connecting to ubuntu:9092 [('127.0.1.1', 9092) IPv4]\n",
      "2019-08-17 17:29:34,889.889.0562057495117:kafka.conn:139956971476736:INFO:1998:<BrokerConnection node_id=bootstrap-0 host=localhost:9092 <connecting> [IPv6 ('::1', 9092, 0, 0)]>: connecting to localhost:9092 [('::1', 9092, 0, 0) IPv6]\n",
      "2019-08-17 17:29:34,889.889.1022205352783:kafka.conn:139956890081024:INFO:2000:<BrokerConnection node_id=0 host=ubuntu:9092 <connecting> [IPv4 ('127.0.1.1', 9092)]>: connecting to ubuntu:9092 [('127.0.1.1', 9092) IPv4]\n",
      "2019-08-17 17:29:34,890.890.1019096374512:kafka.conn:139954529236736:INFO:1998:<BrokerConnection node_id=0 host=ubuntu:9092 <connecting> [IPv4 ('127.0.1.1', 9092)]>: Connection complete.\n",
      "2019-08-17 17:29:34,890.890.1774883270264:kafka.conn:139956971476736:INFO:2000:<BrokerConnection node_id=bootstrap-0 host=localhost:9092 <connecting> [IPv6 ('::1', 9092, 0, 0)]>: connecting to localhost:9092 [('::1', 9092, 0, 0) IPv6]\n",
      "2019-08-17 17:29:34,890.890.7279968261719:kafka.conn:139956971476736:INFO:1998:Probing node bootstrap-0 broker version\n",
      "2019-08-17 17:29:34,891.891.8945789337158:kafka.conn:139956890081024:INFO:2000:<BrokerConnection node_id=0 host=ubuntu:9092 <connecting> [IPv4 ('127.0.1.1', 9092)]>: Connection complete.\n",
      "2019-08-17 17:29:34,892.892.4887180328369:kafka.conn:139956971476736:INFO:2000:Probing node bootstrap-0 broker version\n",
      "2019-08-17 17:29:34,892.892.1077251434326:kafka.conn:139954529236736:INFO:1998:<BrokerConnection node_id=bootstrap-0 host=localhost:9092 <connected> [IPv6 ('::1', 9092, 0, 0)]>: Closing connection. \n",
      "2019-08-17 17:29:34,893.893.9976692199707:kafka.conn:139956890081024:INFO:2000:<BrokerConnection node_id=bootstrap-0 host=localhost:9092 <connected> [IPv6 ('::1', 9092, 0, 0)]>: Closing connection. \n",
      "2019-08-17 17:29:34,894.894.0000534057617:kafka.conn:139956971476736:INFO:1998:<BrokerConnection node_id=bootstrap-0 host=localhost:9092 <connecting> [IPv6 ('::1', 9092, 0, 0)]>: Connection complete.\n"
     ]
    },
    {
     "name": "stdout",
     "output_type": "stream",
     "text": [
      "topic : result , partition : 0 , offset : 792\n"
     ]
    },
    {
     "name": "stderr",
     "output_type": "stream",
     "text": [
      "2019-08-17 17:29:34,895.895.8096504211426:kafka.conn:139956971476736:INFO:2000:<BrokerConnection node_id=bootstrap-0 host=localhost:9092 <connecting> [IPv6 ('::1', 9092, 0, 0)]>: Connection complete.\n"
     ]
    },
    {
     "name": "stdout",
     "output_type": "stream",
     "text": [
      "topic : result , partition : 0 , offset : 793\n"
     ]
    },
    {
     "name": "stderr",
     "output_type": "stream",
     "text": [
      "2019-08-17 17:29:35,002.2.7647018432617188:kafka.conn:139956971476736:INFO:1998:Broker version identifed as 1.0.0\n",
      "2019-08-17 17:29:35,003.3.586292266845703:kafka.conn:139956971476736:INFO:2000:Broker version identifed as 1.0.0\n",
      "2019-08-17 17:29:35,004.4.41741943359375:kafka.conn:139956971476736:INFO:1998:Set configuration api_version=(1, 0, 0) to skip auto check_version requests on startup\n",
      "2019-08-17 17:29:35,005.5.157470703125:kafka.conn:139956971476736:INFO:2000:Set configuration api_version=(1, 0, 0) to skip auto check_version requests on startup\n",
      "2019-08-17 17:29:35,008.8.173942565917969:kafka.producer.kafka:139956971476736:INFO:1998:Closing the Kafka producer with 0 secs timeout.\n",
      "2019-08-17 17:29:35,009.9.043693542480469:kafka.producer.kafka:139956971476736:INFO:2000:Closing the Kafka producer with 0 secs timeout.\n",
      "2019-08-17 17:29:35,011.11.904478073120117:kafka.producer.kafka:139956971476736:INFO:1998:Proceeding to force close the producer since pending requests could not be completed within timeout 0.\n",
      "2019-08-17 17:29:35,012.12.343406677246094:kafka.producer.kafka:139956971476736:INFO:2000:Proceeding to force close the producer since pending requests could not be completed within timeout 0.\n",
      "2019-08-17 17:29:35,013.13.818025588989258:kafka.conn:139954529236736:INFO:1998:<BrokerConnection node_id=0 host=ubuntu:9092 <connected> [IPv4 ('127.0.1.1', 9092)]>: Closing connection. \n",
      "2019-08-17 17:29:35,014.14.176607131958008:kafka.conn:139956890081024:INFO:2000:<BrokerConnection node_id=0 host=ubuntu:9092 <connected> [IPv4 ('127.0.1.1', 9092)]>: Closing connection. \n"
     ]
    },
    {
     "name": "stdout",
     "output_type": "stream",
     "text": [
      "topic=my_topic partition=0 offset=2915: key=None value={'number_1': '10.510788232176091,-3.7231981207828646,10.26995999628815,21.584085884920512,29.97317611158303'}\n",
      "topic=my-topic partition=0 offset=2315: key=None value={'number_2': '-13.290755858999198,-2.8856952359829773,-3.1113318826570158,2.874565771565787,8.999489181074594'}\n"
     ]
    },
    {
     "name": "stderr",
     "output_type": "stream",
     "text": [
      "2019-08-17 17:29:35,018.18.360137939453125:kafka.conn:139954520844032:INFO:2000:<BrokerConnection node_id=0 host=ubuntu:9092 <connecting> [IPv4 ('127.0.1.1', 9092)]>: connecting to ubuntu:9092 [('127.0.1.1', 9092) IPv4]\n",
      "2019-08-17 17:29:35,018.18.362998962402344:kafka.conn:139954881533696:INFO:1998:<BrokerConnection node_id=0 host=ubuntu:9092 <connecting> [IPv4 ('127.0.1.1', 9092)]>: connecting to ubuntu:9092 [('127.0.1.1', 9092) IPv4]\n",
      "2019-08-17 17:29:35,021.21.29340171813965:kafka.conn:139956971476736:INFO:1998:<BrokerConnection node_id=bootstrap-0 host=localhost:9092 <connecting> [IPv6 ('::1', 9092, 0, 0)]>: connecting to localhost:9092 [('::1', 9092, 0, 0) IPv6]\n",
      "2019-08-17 17:29:35,021.21.687984466552734:kafka.conn:139954520844032:INFO:2000:<BrokerConnection node_id=0 host=ubuntu:9092 <connecting> [IPv4 ('127.0.1.1', 9092)]>: Connection complete.\n",
      "2019-08-17 17:29:35,021.21.70085906982422:kafka.conn:139954881533696:INFO:1998:<BrokerConnection node_id=0 host=ubuntu:9092 <connecting> [IPv4 ('127.0.1.1', 9092)]>: Connection complete.\n",
      "2019-08-17 17:29:35,022.22.7205753326416:kafka.conn:139956971476736:INFO:2000:<BrokerConnection node_id=bootstrap-0 host=localhost:9092 <connecting> [IPv6 ('::1', 9092, 0, 0)]>: connecting to localhost:9092 [('::1', 9092, 0, 0) IPv6]\n",
      "2019-08-17 17:29:35,023.23.443937301635742:kafka.conn:139956971476736:INFO:1998:Probing node bootstrap-0 broker version\n",
      "2019-08-17 17:29:35,023.23.617267608642578:kafka.conn:139954520844032:INFO:2000:<BrokerConnection node_id=bootstrap-0 host=localhost:9092 <connected> [IPv6 ('::1', 9092, 0, 0)]>: Closing connection. \n",
      "2019-08-17 17:29:35,025.25.128602981567383:kafka.conn:139954881533696:INFO:1998:<BrokerConnection node_id=bootstrap-0 host=localhost:9092 <connected> [IPv6 ('::1', 9092, 0, 0)]>: Closing connection. \n",
      "2019-08-17 17:29:35,025.25.767087936401367:kafka.conn:139956971476736:INFO:2000:Probing node bootstrap-0 broker version\n",
      "2019-08-17 17:29:35,026.26.967287063598633:kafka.conn:139956971476736:INFO:1998:<BrokerConnection node_id=bootstrap-0 host=localhost:9092 <connecting> [IPv6 ('::1', 9092, 0, 0)]>: Connection complete.\n"
     ]
    },
    {
     "name": "stdout",
     "output_type": "stream",
     "text": [
      "topic : result , partition : 0 , offset : 795\n"
     ]
    },
    {
     "name": "stderr",
     "output_type": "stream",
     "text": [
      "2019-08-17 17:29:35,030.30.92336654663086:kafka.conn:139956971476736:INFO:2000:<BrokerConnection node_id=bootstrap-0 host=localhost:9092 <connecting> [IPv6 ('::1', 9092, 0, 0)]>: Connection complete.\n"
     ]
    },
    {
     "name": "stdout",
     "output_type": "stream",
     "text": [
      "topic : result , partition : 0 , offset : 794\n"
     ]
    },
    {
     "name": "stderr",
     "output_type": "stream",
     "text": [
      "2019-08-17 17:29:35,135.135.67876815795898:kafka.conn:139956971476736:INFO:1998:Broker version identifed as 1.0.0\n",
      "2019-08-17 17:29:35,136.136.81340217590332:kafka.conn:139956971476736:INFO:2000:Broker version identifed as 1.0.0\n",
      "2019-08-17 17:29:35,137.137.3465061187744:kafka.conn:139956971476736:INFO:1998:Set configuration api_version=(1, 0, 0) to skip auto check_version requests on startup\n",
      "2019-08-17 17:29:35,138.138.48400115966797:kafka.conn:139956971476736:INFO:2000:Set configuration api_version=(1, 0, 0) to skip auto check_version requests on startup\n",
      "2019-08-17 17:29:35,141.141.5555477142334:kafka.producer.kafka:139956971476736:INFO:1998:Closing the Kafka producer with 0 secs timeout.\n",
      "2019-08-17 17:29:35,142.142.4872875213623:kafka.producer.kafka:139956971476736:INFO:2000:Closing the Kafka producer with 0 secs timeout.\n",
      "2019-08-17 17:29:35,146.146.6362476348877:kafka.producer.kafka:139956971476736:INFO:1998:Proceeding to force close the producer since pending requests could not be completed within timeout 0.\n",
      "2019-08-17 17:29:35,147.147.5961208343506:kafka.producer.kafka:139956971476736:INFO:2000:Proceeding to force close the producer since pending requests could not be completed within timeout 0.\n",
      "2019-08-17 17:29:35,148.148.6506462097168:kafka.conn:139954881533696:INFO:1998:<BrokerConnection node_id=0 host=ubuntu:9092 <connected> [IPv4 ('127.0.1.1', 9092)]>: Closing connection. \n",
      "2019-08-17 17:29:35,149.149.4126319885254:kafka.conn:139954520844032:INFO:2000:<BrokerConnection node_id=0 host=ubuntu:9092 <connected> [IPv4 ('127.0.1.1', 9092)]>: Closing connection. \n"
     ]
    },
    {
     "name": "stdout",
     "output_type": "stream",
     "text": [
      "topic=my_topic partition=0 offset=2916: key=None value={'number_1': '34.3295291877868,8.402907153628489,25.275632592348003,19.642679289200892,-12.461800661917014'}\n",
      "topic=my-topic partition=0 offset=2316: key=None value={'number_2': '31.225448929254405,-3.5208175279716643,-9.023917199582034,10.295064632124769,0.34542598638397976'}\n"
     ]
    },
    {
     "name": "stderr",
     "output_type": "stream",
     "text": [
      "2019-08-17 17:29:35,153.153.01513671875:kafka.conn:139954529236736:INFO:1998:<BrokerConnection node_id=0 host=ubuntu:9092 <connecting> [IPv4 ('127.0.1.1', 9092)]>: connecting to ubuntu:9092 [('127.0.1.1', 9092) IPv4]\n",
      "2019-08-17 17:29:35,153.153.75208854675293:kafka.conn:139956890081024:INFO:2000:<BrokerConnection node_id=0 host=ubuntu:9092 <connecting> [IPv4 ('127.0.1.1', 9092)]>: connecting to ubuntu:9092 [('127.0.1.1', 9092) IPv4]\n",
      "2019-08-17 17:29:35,156.156.0208797454834:kafka.conn:139954529236736:INFO:1998:<BrokerConnection node_id=0 host=ubuntu:9092 <connecting> [IPv4 ('127.0.1.1', 9092)]>: Connection complete.\n",
      "2019-08-17 17:29:35,156.156.23188018798828:kafka.conn:139956971476736:INFO:2000:<BrokerConnection node_id=bootstrap-0 host=localhost:9092 <connecting> [IPv6 ('::1', 9092, 0, 0)]>: connecting to localhost:9092 [('::1', 9092, 0, 0) IPv6]\n",
      "2019-08-17 17:29:35,157.157.04059600830078:kafka.conn:139956971476736:INFO:1998:<BrokerConnection node_id=bootstrap-0 host=localhost:9092 <connecting> [IPv6 ('::1', 9092, 0, 0)]>: connecting to localhost:9092 [('::1', 9092, 0, 0) IPv6]\n",
      "2019-08-17 17:29:35,157.157.72175788879395:kafka.conn:139956890081024:INFO:2000:<BrokerConnection node_id=0 host=ubuntu:9092 <connecting> [IPv4 ('127.0.1.1', 9092)]>: Connection complete.\n",
      "2019-08-17 17:29:35,157.157.67383575439453:kafka.conn:139954529236736:INFO:1998:<BrokerConnection node_id=bootstrap-0 host=localhost:9092 <connected> [IPv6 ('::1', 9092, 0, 0)]>: Closing connection. \n",
      "2019-08-17 17:29:35,158.158.29086303710938:kafka.conn:139956971476736:INFO:2000:Probing node bootstrap-0 broker version\n",
      "2019-08-17 17:29:35,160.160.54248809814453:kafka.conn:139956971476736:INFO:1998:Probing node bootstrap-0 broker version\n",
      "2019-08-17 17:29:35,159.159.83247756958008:kafka.conn:139956890081024:INFO:2000:<BrokerConnection node_id=bootstrap-0 host=localhost:9092 <connected> [IPv6 ('::1', 9092, 0, 0)]>: Closing connection. \n",
      "2019-08-17 17:29:35,162.162.49966621398926:kafka.conn:139956971476736:INFO:2000:<BrokerConnection node_id=bootstrap-0 host=localhost:9092 <connecting> [IPv6 ('::1', 9092, 0, 0)]>: Connection complete.\n",
      "2019-08-17 17:29:35,163.163.80548477172852:kafka.conn:139956971476736:INFO:1998:<BrokerConnection node_id=bootstrap-0 host=localhost:9092 <connecting> [IPv6 ('::1', 9092, 0, 0)]>: Connection complete.\n"
     ]
    },
    {
     "name": "stdout",
     "output_type": "stream",
     "text": [
      "topic : result , partition : 0 , offset : 796\n",
      "topic : result , partition : 0 , offset : 797\n"
     ]
    },
    {
     "name": "stderr",
     "output_type": "stream",
     "text": [
      "2019-08-17 17:29:35,269.269.06657218933105:kafka.conn:139956971476736:INFO:1998:Broker version identifed as 1.0.0\n",
      "2019-08-17 17:29:35,269.269.99497413635254:kafka.conn:139956971476736:INFO:2000:Broker version identifed as 1.0.0\n",
      "2019-08-17 17:29:35,270.270.688533782959:kafka.conn:139956971476736:INFO:1998:Set configuration api_version=(1, 0, 0) to skip auto check_version requests on startup\n",
      "2019-08-17 17:29:35,271.271.4686393737793:kafka.conn:139956971476736:INFO:2000:Set configuration api_version=(1, 0, 0) to skip auto check_version requests on startup\n",
      "2019-08-17 17:29:35,274.274.6453285217285:kafka.producer.kafka:139956971476736:INFO:1998:Closing the Kafka producer with 0 secs timeout.\n",
      "2019-08-17 17:29:35,276.276.0941982269287:kafka.producer.kafka:139956971476736:INFO:2000:Closing the Kafka producer with 0 secs timeout.\n",
      "2019-08-17 17:29:35,278.278.55396270751953:kafka.producer.kafka:139956971476736:INFO:1998:Proceeding to force close the producer since pending requests could not be completed within timeout 0.\n",
      "2019-08-17 17:29:35,279.279.2377471923828:kafka.producer.kafka:139956971476736:INFO:2000:Proceeding to force close the producer since pending requests could not be completed within timeout 0.\n",
      "2019-08-17 17:29:35,280.280.44748306274414:kafka.conn:139954529236736:INFO:1998:<BrokerConnection node_id=0 host=ubuntu:9092 <connected> [IPv4 ('127.0.1.1', 9092)]>: Closing connection. \n",
      "2019-08-17 17:29:35,281.281.30626678466797:kafka.conn:139956890081024:INFO:2000:<BrokerConnection node_id=0 host=ubuntu:9092 <connected> [IPv4 ('127.0.1.1', 9092)]>: Closing connection. \n"
     ]
    },
    {
     "name": "stdout",
     "output_type": "stream",
     "text": [
      "topic=my_topic partition=0 offset=2917: key=None value={'number_1': '-6.493938504820097,-34.40367450497517,10.876591615767806,-4.174274912640181,3.8449557779549606'}\n",
      "topic=my-topic partition=0 offset=2317: key=None value={'number_2': '-14.181527680044528,-12.505497802315439,-2.2187288422586176,-3.0673176616604603,8.102863850018734'}\n"
     ]
    },
    {
     "name": "stderr",
     "output_type": "stream",
     "text": [
      "2019-08-17 17:29:35,286.286.91577911376953:kafka.conn:139956881688320:INFO:1998:<BrokerConnection node_id=0 host=ubuntu:9092 <connecting> [IPv4 ('127.0.1.1', 9092)]>: connecting to ubuntu:9092 [('127.0.1.1', 9092) IPv4]\n",
      "2019-08-17 17:29:35,287.287.2204780578613:kafka.conn:139954529236736:INFO:2000:<BrokerConnection node_id=0 host=ubuntu:9092 <connecting> [IPv4 ('127.0.1.1', 9092)]>: connecting to ubuntu:9092 [('127.0.1.1', 9092) IPv4]\n",
      "2019-08-17 17:29:35,288.288.0115509033203:kafka.conn:139956971476736:INFO:1998:<BrokerConnection node_id=bootstrap-0 host=localhost:9092 <connecting> [IPv6 ('::1', 9092, 0, 0)]>: connecting to localhost:9092 [('::1', 9092, 0, 0) IPv6]\n",
      "2019-08-17 17:29:35,288.288.346529006958:kafka.conn:139956971476736:INFO:2000:<BrokerConnection node_id=bootstrap-0 host=localhost:9092 <connecting> [IPv6 ('::1', 9092, 0, 0)]>: connecting to localhost:9092 [('::1', 9092, 0, 0) IPv6]\n",
      "2019-08-17 17:29:35,289.289.86144065856934:kafka.conn:139956881688320:INFO:1998:<BrokerConnection node_id=0 host=ubuntu:9092 <connecting> [IPv4 ('127.0.1.1', 9092)]>: Connection complete.\n",
      "2019-08-17 17:29:35,290.290.09294509887695:kafka.conn:139954529236736:INFO:2000:<BrokerConnection node_id=0 host=ubuntu:9092 <connecting> [IPv4 ('127.0.1.1', 9092)]>: Connection complete.\n",
      "2019-08-17 17:29:35,290.290.9960746765137:kafka.conn:139956971476736:INFO:1998:Probing node bootstrap-0 broker version\n",
      "2019-08-17 17:29:35,290.290.89975357055664:kafka.conn:139956971476736:INFO:2000:Probing node bootstrap-0 broker version\n",
      "2019-08-17 17:29:35,291.291.72468185424805:kafka.conn:139956881688320:INFO:1998:<BrokerConnection node_id=bootstrap-0 host=localhost:9092 <connected> [IPv6 ('::1', 9092, 0, 0)]>: Closing connection. \n",
      "2019-08-17 17:29:35,292.292.38080978393555:kafka.conn:139954529236736:INFO:2000:<BrokerConnection node_id=bootstrap-0 host=localhost:9092 <connected> [IPv6 ('::1', 9092, 0, 0)]>: Closing connection. \n",
      "2019-08-17 17:29:35,293.293.4839725494385:kafka.conn:139956971476736:INFO:1998:<BrokerConnection node_id=bootstrap-0 host=localhost:9092 <connecting> [IPv6 ('::1', 9092, 0, 0)]>: Connection complete.\n",
      "2019-08-17 17:29:35,294.294.3382263183594:kafka.conn:139956971476736:INFO:2000:<BrokerConnection node_id=bootstrap-0 host=localhost:9092 <connecting> [IPv6 ('::1', 9092, 0, 0)]>: Connection complete.\n"
     ]
    },
    {
     "name": "stdout",
     "output_type": "stream",
     "text": [
      "topic : result , partition : 0 , offset : 798\n",
      "topic : result , partition : 0 , offset : 799\n"
     ]
    },
    {
     "name": "stderr",
     "output_type": "stream",
     "text": [
      "2019-08-17 17:29:35,401.401.9968509674072:kafka.conn:139956971476736:INFO:1998:Broker version identifed as 1.0.0\n",
      "2019-08-17 17:29:35,402.402.2939205169678:kafka.conn:139956971476736:INFO:2000:Broker version identifed as 1.0.0\n",
      "2019-08-17 17:29:35,403.403.63240242004395:kafka.conn:139956971476736:INFO:1998:Set configuration api_version=(1, 0, 0) to skip auto check_version requests on startup\n",
      "2019-08-17 17:29:35,403.403.9804935455322:kafka.conn:139956971476736:INFO:2000:Set configuration api_version=(1, 0, 0) to skip auto check_version requests on startup\n",
      "2019-08-17 17:29:35,407.407.8695774078369:kafka.producer.kafka:139956971476736:INFO:1998:Closing the Kafka producer with 0 secs timeout.\n",
      "2019-08-17 17:29:35,411.411.2732410430908:kafka.producer.kafka:139956971476736:INFO:1998:Proceeding to force close the producer since pending requests could not be completed within timeout 0.\n",
      "2019-08-17 17:29:35,413.413.19942474365234:kafka.conn:139956881688320:INFO:1998:<BrokerConnection node_id=0 host=ubuntu:9092 <connected> [IPv4 ('127.0.1.1', 9092)]>: Closing connection. \n",
      "2019-08-17 17:29:35,411.411.78202629089355:kafka.producer.kafka:139956971476736:INFO:2000:Closing the Kafka producer with 0 secs timeout.\n"
     ]
    },
    {
     "name": "stdout",
     "output_type": "stream",
     "text": [
      "topic=my_topic partition=0 offset=2918: key=None value={'number_1': '-9.84981977546828,-4.380988669357407,-2.279589511040374,31.162806144737736,-7.120307942334431'}\n"
     ]
    },
    {
     "name": "stderr",
     "output_type": "stream",
     "text": [
      "2019-08-17 17:29:35,416.416.1417484283447:kafka.producer.kafka:139956971476736:INFO:2000:Proceeding to force close the producer since pending requests could not be completed within timeout 0.\n",
      "2019-08-17 17:29:35,418.418.09964179992676:kafka.conn:139954529236736:INFO:2000:<BrokerConnection node_id=0 host=ubuntu:9092 <connected> [IPv4 ('127.0.1.1', 9092)]>: Closing connection. \n",
      "2019-08-17 17:29:35,417.417.94371604919434:kafka.conn:139954529236736:INFO:1998:<BrokerConnection node_id=0 host=ubuntu:9092 <connecting> [IPv4 ('127.0.1.1', 9092)]>: connecting to ubuntu:9092 [('127.0.1.1', 9092) IPv4]\n",
      "2019-08-17 17:29:35,420.420.6376075744629:kafka.conn:139956971476736:INFO:1998:<BrokerConnection node_id=bootstrap-0 host=localhost:9092 <connecting> [IPv6 ('::1', 9092, 0, 0)]>: connecting to localhost:9092 [('::1', 9092, 0, 0) IPv6]\n"
     ]
    },
    {
     "name": "stdout",
     "output_type": "stream",
     "text": [
      "topic=my-topic partition=0 offset=2318: key=None value={'number_2': '7.214074343038672,20.84061651274765,12.897765901015765,-3.794950076446338,-1.8427329054738015'}\n"
     ]
    },
    {
     "name": "stderr",
     "output_type": "stream",
     "text": [
      "2019-08-17 17:29:35,421.421.28896713256836:kafka.conn:139954529236736:INFO:1998:<BrokerConnection node_id=0 host=ubuntu:9092 <connecting> [IPv4 ('127.0.1.1', 9092)]>: Connection complete.\n",
      "2019-08-17 17:29:35,422.422.4691390991211:kafka.conn:139956890081024:INFO:2000:<BrokerConnection node_id=0 host=ubuntu:9092 <connecting> [IPv4 ('127.0.1.1', 9092)]>: connecting to ubuntu:9092 [('127.0.1.1', 9092) IPv4]\n",
      "2019-08-17 17:29:35,423.423.83384704589844:kafka.conn:139956971476736:INFO:1998:Probing node bootstrap-0 broker version\n",
      "2019-08-17 17:29:35,425.425.10199546813965:kafka.conn:139956971476736:INFO:2000:<BrokerConnection node_id=bootstrap-0 host=localhost:9092 <connecting> [IPv6 ('::1', 9092, 0, 0)]>: connecting to localhost:9092 [('::1', 9092, 0, 0) IPv6]\n",
      "2019-08-17 17:29:35,424.424.6354103088379:kafka.conn:139954529236736:INFO:1998:<BrokerConnection node_id=bootstrap-0 host=localhost:9092 <connected> [IPv6 ('::1', 9092, 0, 0)]>: Closing connection. \n",
      "2019-08-17 17:29:35,426.426.51915550231934:kafka.conn:139956890081024:INFO:2000:<BrokerConnection node_id=0 host=ubuntu:9092 <connecting> [IPv4 ('127.0.1.1', 9092)]>: Connection complete.\n",
      "2019-08-17 17:29:35,426.426.39923095703125:kafka.conn:139956971476736:INFO:1998:<BrokerConnection node_id=bootstrap-0 host=localhost:9092 <connecting> [IPv6 ('::1', 9092, 0, 0)]>: Connection complete.\n",
      "2019-08-17 17:29:35,427.427.25419998168945:kafka.conn:139956971476736:INFO:2000:Probing node bootstrap-0 broker version\n",
      "2019-08-17 17:29:35,428.428.8198947906494:kafka.conn:139956890081024:INFO:2000:<BrokerConnection node_id=bootstrap-0 host=localhost:9092 <connected> [IPv6 ('::1', 9092, 0, 0)]>: Closing connection. \n"
     ]
    },
    {
     "name": "stdout",
     "output_type": "stream",
     "text": [
      "topic : result , partition : 0 , offset : 800\n"
     ]
    },
    {
     "name": "stderr",
     "output_type": "stream",
     "text": [
      "2019-08-17 17:29:35,430.430.8145046234131:kafka.conn:139956971476736:INFO:2000:<BrokerConnection node_id=bootstrap-0 host=localhost:9092 <connecting> [IPv6 ('::1', 9092, 0, 0)]>: Connection complete.\n"
     ]
    },
    {
     "name": "stdout",
     "output_type": "stream",
     "text": [
      "topic : result , partition : 0 , offset : 801\n"
     ]
    },
    {
     "name": "stderr",
     "output_type": "stream",
     "text": [
      "2019-08-17 17:29:35,533.533.2503318786621:kafka.conn:139956971476736:INFO:1998:Broker version identifed as 1.0.0\n",
      "2019-08-17 17:29:35,534.534.9540710449219:kafka.conn:139956971476736:INFO:1998:Set configuration api_version=(1, 0, 0) to skip auto check_version requests on startup\n",
      "2019-08-17 17:29:35,539.539.6647453308105:kafka.conn:139956971476736:INFO:2000:Broker version identifed as 1.0.0\n",
      "2019-08-17 17:29:35,541.541.0749912261963:kafka.producer.kafka:139956971476736:INFO:1998:Closing the Kafka producer with 0 secs timeout.\n",
      "2019-08-17 17:29:35,541.541.395902633667:kafka.conn:139956971476736:INFO:2000:Set configuration api_version=(1, 0, 0) to skip auto check_version requests on startup\n",
      "2019-08-17 17:29:35,546.546.3807582855225:kafka.producer.kafka:139956971476736:INFO:1998:Proceeding to force close the producer since pending requests could not be completed within timeout 0.\n",
      "2019-08-17 17:29:35,548.548.3148097991943:kafka.conn:139954529236736:INFO:1998:<BrokerConnection node_id=0 host=ubuntu:9092 <connected> [IPv4 ('127.0.1.1', 9092)]>: Closing connection. \n",
      "2019-08-17 17:29:35,545.545.6066131591797:kafka.producer.kafka:139956971476736:INFO:2000:Closing the Kafka producer with 0 secs timeout.\n",
      "2019-08-17 17:29:35,550.550.8327484130859:kafka.producer.kafka:139956971476736:INFO:2000:Proceeding to force close the producer since pending requests could not be completed within timeout 0.\n"
     ]
    },
    {
     "name": "stdout",
     "output_type": "stream",
     "text": [
      "topic=my_topic partition=0 offset=2919: key=None value={'number_1': '6.724979967167766,17.636110407603645,-5.670657851484362,-34.256736767837744,-9.98856862553733'}\n"
     ]
    },
    {
     "name": "stderr",
     "output_type": "stream",
     "text": [
      "2019-08-17 17:29:35,552.552.8061389923096:kafka.conn:139956890081024:INFO:2000:<BrokerConnection node_id=0 host=ubuntu:9092 <connected> [IPv4 ('127.0.1.1', 9092)]>: Closing connection. \n",
      "2019-08-17 17:29:35,552.552.8514385223389:kafka.conn:139956881688320:INFO:1998:<BrokerConnection node_id=0 host=ubuntu:9092 <connecting> [IPv4 ('127.0.1.1', 9092)]>: connecting to ubuntu:9092 [('127.0.1.1', 9092) IPv4]\n"
     ]
    },
    {
     "name": "stdout",
     "output_type": "stream",
     "text": [
      "topic=my-topic partition=0 offset=2319: key=None value={'number_2': '-24.643433268416167,-3.050598366701002,-11.943779083627843,-16.158476586786477,7.605215041155262'}\n"
     ]
    },
    {
     "name": "stderr",
     "output_type": "stream",
     "text": [
      "2019-08-17 17:29:35,556.556.1227798461914:kafka.conn:139956881688320:INFO:1998:<BrokerConnection node_id=0 host=ubuntu:9092 <connecting> [IPv4 ('127.0.1.1', 9092)]>: Connection complete.\n",
      "2019-08-17 17:29:35,557.557.9309463500977:kafka.conn:139954529236736:INFO:2000:<BrokerConnection node_id=0 host=ubuntu:9092 <connecting> [IPv4 ('127.0.1.1', 9092)]>: connecting to ubuntu:9092 [('127.0.1.1', 9092) IPv4]\n",
      "2019-08-17 17:29:35,556.556.328535079956:kafka.conn:139956971476736:INFO:1998:<BrokerConnection node_id=bootstrap-0 host=localhost:9092 <connecting> [IPv6 ('::1', 9092, 0, 0)]>: connecting to localhost:9092 [('::1', 9092, 0, 0) IPv6]\n",
      "2019-08-17 17:29:35,557.557.9137802124023:kafka.conn:139956881688320:INFO:1998:<BrokerConnection node_id=bootstrap-0 host=localhost:9092 <connected> [IPv6 ('::1', 9092, 0, 0)]>: Closing connection. \n",
      "2019-08-17 17:29:35,560.560.6727600097656:kafka.conn:139954529236736:INFO:2000:<BrokerConnection node_id=0 host=ubuntu:9092 <connecting> [IPv4 ('127.0.1.1', 9092)]>: Connection complete.\n",
      "2019-08-17 17:29:35,560.560.8797073364258:kafka.conn:139956971476736:INFO:2000:<BrokerConnection node_id=bootstrap-0 host=localhost:9092 <connecting> [IPv6 ('::1', 9092, 0, 0)]>: connecting to localhost:9092 [('::1', 9092, 0, 0) IPv6]\n",
      "2019-08-17 17:29:35,560.560.0032806396484:kafka.conn:139956971476736:INFO:1998:Probing node bootstrap-0 broker version\n",
      "2019-08-17 17:29:35,562.562.3140335083008:kafka.conn:139954529236736:INFO:2000:<BrokerConnection node_id=bootstrap-0 host=localhost:9092 <connected> [IPv6 ('::1', 9092, 0, 0)]>: Closing connection. \n"
     ]
    },
    {
     "name": "stdout",
     "output_type": "stream",
     "text": [
      "topic : result , partition : 0 , offset : 802\n"
     ]
    },
    {
     "name": "stderr",
     "output_type": "stream",
     "text": [
      "2019-08-17 17:29:35,566.566.2686824798584:kafka.conn:139956971476736:INFO:1998:<BrokerConnection node_id=bootstrap-0 host=localhost:9092 <connecting> [IPv6 ('::1', 9092, 0, 0)]>: Connection complete.\n",
      "2019-08-17 17:29:35,564.564.0840530395508:kafka.conn:139956971476736:INFO:2000:Probing node bootstrap-0 broker version\n"
     ]
    },
    {
     "name": "stdout",
     "output_type": "stream",
     "text": [
      "topic : result , partition : 0 , offset : 803\n"
     ]
    },
    {
     "name": "stderr",
     "output_type": "stream",
     "text": [
      "2019-08-17 17:29:35,569.569.537878036499:kafka.conn:139956971476736:INFO:2000:<BrokerConnection node_id=bootstrap-0 host=localhost:9092 <connecting> [IPv6 ('::1', 9092, 0, 0)]>: Connection complete.\n",
      "2019-08-17 17:29:35,671.671.4794635772705:kafka.conn:139956971476736:INFO:1998:Broker version identifed as 1.0.0\n",
      "2019-08-17 17:29:35,673.673.0878353118896:kafka.conn:139956971476736:INFO:1998:Set configuration api_version=(1, 0, 0) to skip auto check_version requests on startup\n",
      "2019-08-17 17:29:35,674.674.0686893463135:kafka.conn:139956971476736:INFO:2000:Broker version identifed as 1.0.0\n",
      "2019-08-17 17:29:35,675.675.7462024688721:kafka.conn:139956971476736:INFO:2000:Set configuration api_version=(1, 0, 0) to skip auto check_version requests on startup\n",
      "2019-08-17 17:29:35,677.677.2632598876953:kafka.producer.kafka:139956971476736:INFO:1998:Closing the Kafka producer with 0 secs timeout.\n",
      "2019-08-17 17:29:35,679.679.5337200164795:kafka.producer.kafka:139956971476736:INFO:2000:Closing the Kafka producer with 0 secs timeout.\n",
      "2019-08-17 17:29:35,680.680.8755397796631:kafka.producer.kafka:139956971476736:INFO:1998:Proceeding to force close the producer since pending requests could not be completed within timeout 0.\n",
      "2019-08-17 17:29:35,682.682.8083992004395:kafka.conn:139956881688320:INFO:1998:<BrokerConnection node_id=0 host=ubuntu:9092 <connected> [IPv4 ('127.0.1.1', 9092)]>: Closing connection. \n",
      "2019-08-17 17:29:35,683.683.5739612579346:kafka.producer.kafka:139956971476736:INFO:2000:Proceeding to force close the producer since pending requests could not be completed within timeout 0.\n"
     ]
    },
    {
     "name": "stdout",
     "output_type": "stream",
     "text": [
      "topic=my_topic partition=0 offset=2920: key=None value={'number_1': '5.084962994095815,-15.235281779018468,24.266102941010278,21.240017149198785,-20.14179000890188'}\n"
     ]
    },
    {
     "name": "stderr",
     "output_type": "stream",
     "text": [
      "2019-08-17 17:29:35,685.685.5599880218506:kafka.conn:139954529236736:INFO:2000:<BrokerConnection node_id=0 host=ubuntu:9092 <connected> [IPv4 ('127.0.1.1', 9092)]>: Closing connection. \n",
      "2019-08-17 17:29:35,687.687.0975494384766:kafka.conn:139954529236736:INFO:1998:<BrokerConnection node_id=0 host=ubuntu:9092 <connecting> [IPv4 ('127.0.1.1', 9092)]>: connecting to ubuntu:9092 [('127.0.1.1', 9092) IPv4]\n"
     ]
    },
    {
     "name": "stdout",
     "output_type": "stream",
     "text": [
      "topic=my-topic partition=0 offset=2320: key=None value={'number_2': '-7.898760840781623,9.11080419312231,8.811036615191117,2.1965722595953157,3.8886621718274035'}\n"
     ]
    },
    {
     "name": "stderr",
     "output_type": "stream",
     "text": [
      "2019-08-17 17:29:35,689.689.7130012512207:kafka.conn:139956971476736:INFO:1998:<BrokerConnection node_id=bootstrap-0 host=localhost:9092 <connecting> [IPv6 ('::1', 9092, 0, 0)]>: connecting to localhost:9092 [('::1', 9092, 0, 0) IPv6]\n",
      "2019-08-17 17:29:35,690.690.1977062225342:kafka.conn:139956890081024:INFO:2000:<BrokerConnection node_id=0 host=ubuntu:9092 <connecting> [IPv4 ('127.0.1.1', 9092)]>: connecting to ubuntu:9092 [('127.0.1.1', 9092) IPv4]\n",
      "2019-08-17 17:29:35,691.691.3051605224609:kafka.conn:139954529236736:INFO:1998:<BrokerConnection node_id=0 host=ubuntu:9092 <connecting> [IPv4 ('127.0.1.1', 9092)]>: Connection complete.\n",
      "2019-08-17 17:29:35,692.692.8460597991943:kafka.conn:139956971476736:INFO:2000:<BrokerConnection node_id=bootstrap-0 host=localhost:9092 <connecting> [IPv6 ('::1', 9092, 0, 0)]>: connecting to localhost:9092 [('::1', 9092, 0, 0) IPv6]\n",
      "2019-08-17 17:29:35,692.692.0554637908936:kafka.conn:139956971476736:INFO:1998:Probing node bootstrap-0 broker version\n",
      "2019-08-17 17:29:35,694.694.472074508667:kafka.conn:139956890081024:INFO:2000:<BrokerConnection node_id=0 host=ubuntu:9092 <connecting> [IPv4 ('127.0.1.1', 9092)]>: Connection complete.\n",
      "2019-08-17 17:29:35,693.693.7508583068848:kafka.conn:139954529236736:INFO:1998:<BrokerConnection node_id=bootstrap-0 host=localhost:9092 <connected> [IPv6 ('::1', 9092, 0, 0)]>: Closing connection. \n",
      "2019-08-17 17:29:35,695.695.2624320983887:kafka.conn:139956971476736:INFO:2000:Probing node bootstrap-0 broker version\n",
      "2019-08-17 17:29:35,695.695.5540180206299:kafka.conn:139956971476736:INFO:1998:<BrokerConnection node_id=bootstrap-0 host=localhost:9092 <connecting> [IPv6 ('::1', 9092, 0, 0)]>: Connection complete.\n",
      "2019-08-17 17:29:35,696.696.8061923980713:kafka.conn:139956890081024:INFO:2000:<BrokerConnection node_id=bootstrap-0 host=localhost:9092 <connected> [IPv6 ('::1', 9092, 0, 0)]>: Closing connection. \n"
     ]
    },
    {
     "name": "stdout",
     "output_type": "stream",
     "text": [
      "topic : result , partition : 0 , offset : 804\n"
     ]
    },
    {
     "name": "stderr",
     "output_type": "stream",
     "text": [
      "2019-08-17 17:29:35,698.698.8768577575684:kafka.conn:139956971476736:INFO:2000:<BrokerConnection node_id=bootstrap-0 host=localhost:9092 <connecting> [IPv6 ('::1', 9092, 0, 0)]>: Connection complete.\n"
     ]
    },
    {
     "name": "stdout",
     "output_type": "stream",
     "text": [
      "topic : result , partition : 0 , offset : 805\n"
     ]
    },
    {
     "name": "stderr",
     "output_type": "stream",
     "text": [
      "2019-08-17 17:29:35,802.802.2868633270264:kafka.conn:139956971476736:INFO:1998:Broker version identifed as 1.0.0\n",
      "2019-08-17 17:29:35,803.803.9932250976562:kafka.conn:139956971476736:INFO:1998:Set configuration api_version=(1, 0, 0) to skip auto check_version requests on startup\n",
      "2019-08-17 17:29:35,806.806.1785697937012:kafka.conn:139956971476736:INFO:2000:Broker version identifed as 1.0.0\n",
      "2019-08-17 17:29:35,807.807.8203201293945:kafka.conn:139956971476736:INFO:2000:Set configuration api_version=(1, 0, 0) to skip auto check_version requests on startup\n",
      "2019-08-17 17:29:35,808.808.0441951751709:kafka.producer.kafka:139956971476736:INFO:1998:Closing the Kafka producer with 0 secs timeout.\n",
      "2019-08-17 17:29:35,811.811.7923736572266:kafka.producer.kafka:139956971476736:INFO:2000:Closing the Kafka producer with 0 secs timeout.\n",
      "2019-08-17 17:29:35,812.812.0498657226562:kafka.producer.kafka:139956971476736:INFO:1998:Proceeding to force close the producer since pending requests could not be completed within timeout 0.\n",
      "2019-08-17 17:29:35,814.814.0766620635986:kafka.conn:139954529236736:INFO:1998:<BrokerConnection node_id=0 host=ubuntu:9092 <connected> [IPv4 ('127.0.1.1', 9092)]>: Closing connection. \n",
      "2019-08-17 17:29:35,813.813.4257793426514:kafka.producer.kafka:139956971476736:INFO:2000:Proceeding to force close the producer since pending requests could not be completed within timeout 0.\n"
     ]
    },
    {
     "name": "stdout",
     "output_type": "stream",
     "text": [
      "topic=my_topic partition=0 offset=2921: key=None value={'number_1': '19.603856284387543,3.6525775910087113,-5.7844540874870365,5.708425621390255,-1.4714930122832826'}\n"
     ]
    },
    {
     "name": "stderr",
     "output_type": "stream",
     "text": [
      "2019-08-17 17:29:35,818.818.0632591247559:kafka.conn:139956890081024:INFO:2000:<BrokerConnection node_id=0 host=ubuntu:9092 <connected> [IPv4 ('127.0.1.1', 9092)]>: Closing connection. \n",
      "2019-08-17 17:29:35,818.818.3348178863525:kafka.conn:139956881688320:INFO:1998:<BrokerConnection node_id=0 host=ubuntu:9092 <connecting> [IPv4 ('127.0.1.1', 9092)]>: connecting to ubuntu:9092 [('127.0.1.1', 9092) IPv4]\n",
      "2019-08-17 17:29:35,821.821.953296661377:kafka.conn:139956881688320:INFO:1998:<BrokerConnection node_id=0 host=ubuntu:9092 <connecting> [IPv4 ('127.0.1.1', 9092)]>: Connection complete.\n"
     ]
    },
    {
     "name": "stdout",
     "output_type": "stream",
     "text": [
      "topic=my-topic partition=0 offset=2321: key=None value={'number_2': '-3.4249567020976146,-2.344324539514778,5.056329549303741,1.6793354307478419,3.2955670496221274'}\n"
     ]
    },
    {
     "name": "stderr",
     "output_type": "stream",
     "text": [
      "2019-08-17 17:29:35,822.822.4780559539795:kafka.conn:139954529236736:INFO:2000:<BrokerConnection node_id=0 host=ubuntu:9092 <connecting> [IPv4 ('127.0.1.1', 9092)]>: connecting to ubuntu:9092 [('127.0.1.1', 9092) IPv4]\n",
      "2019-08-17 17:29:35,823.823.0783939361572:kafka.conn:139956971476736:INFO:1998:<BrokerConnection node_id=bootstrap-0 host=localhost:9092 <connecting> [IPv6 ('::1', 9092, 0, 0)]>: connecting to localhost:9092 [('::1', 9092, 0, 0) IPv6]\n",
      "2019-08-17 17:29:35,825.825.5476951599121:kafka.conn:139954529236736:INFO:2000:<BrokerConnection node_id=0 host=ubuntu:9092 <connecting> [IPv4 ('127.0.1.1', 9092)]>: Connection complete.\n",
      "2019-08-17 17:29:35,823.823.8236904144287:kafka.conn:139956881688320:INFO:1998:<BrokerConnection node_id=bootstrap-0 host=localhost:9092 <connected> [IPv6 ('::1', 9092, 0, 0)]>: Closing connection. \n",
      "2019-08-17 17:29:35,825.825.8733749389648:kafka.conn:139956971476736:INFO:2000:<BrokerConnection node_id=bootstrap-0 host=localhost:9092 <connecting> [IPv6 ('::1', 9092, 0, 0)]>: connecting to localhost:9092 [('::1', 9092, 0, 0) IPv6]\n",
      "2019-08-17 17:29:35,827.827.3496627807617:kafka.conn:139954529236736:INFO:2000:<BrokerConnection node_id=bootstrap-0 host=localhost:9092 <connected> [IPv6 ('::1', 9092, 0, 0)]>: Closing connection. \n",
      "2019-08-17 17:29:35,826.826.2181282043457:kafka.conn:139956971476736:INFO:1998:Probing node bootstrap-0 broker version\n"
     ]
    },
    {
     "name": "stdout",
     "output_type": "stream",
     "text": [
      "topic : result , partition : 0 , offset : 806\n"
     ]
    },
    {
     "name": "stderr",
     "output_type": "stream",
     "text": [
      "2019-08-17 17:29:35,829.829.0448188781738:kafka.conn:139956971476736:INFO:2000:Probing node bootstrap-0 broker version\n",
      "2019-08-17 17:29:35,831.831.9618701934814:kafka.conn:139956971476736:INFO:1998:<BrokerConnection node_id=bootstrap-0 host=localhost:9092 <connecting> [IPv6 ('::1', 9092, 0, 0)]>: Connection complete.\n"
     ]
    },
    {
     "name": "stdout",
     "output_type": "stream",
     "text": [
      "topic : result , partition : 0 , offset : 807\n"
     ]
    },
    {
     "name": "stderr",
     "output_type": "stream",
     "text": [
      "2019-08-17 17:29:35,834.834.277868270874:kafka.conn:139956971476736:INFO:2000:<BrokerConnection node_id=bootstrap-0 host=localhost:9092 <connecting> [IPv6 ('::1', 9092, 0, 0)]>: Connection complete.\n",
      "2019-08-17 17:29:35,936.936.2754821777344:kafka.conn:139956971476736:INFO:1998:Broker version identifed as 1.0.0\n",
      "2019-08-17 17:29:35,938.938.0950927734375:kafka.conn:139956971476736:INFO:1998:Set configuration api_version=(1, 0, 0) to skip auto check_version requests on startup\n",
      "2019-08-17 17:29:35,939.939.1851425170898:kafka.conn:139956971476736:INFO:2000:Broker version identifed as 1.0.0\n",
      "2019-08-17 17:29:35,940.940.643310546875:kafka.conn:139956971476736:INFO:2000:Set configuration api_version=(1, 0, 0) to skip auto check_version requests on startup\n",
      "2019-08-17 17:29:35,942.942.2273635864258:kafka.producer.kafka:139956971476736:INFO:1998:Closing the Kafka producer with 0 secs timeout.\n",
      "2019-08-17 17:29:35,944.944.9520111083984:kafka.producer.kafka:139956971476736:INFO:2000:Closing the Kafka producer with 0 secs timeout.\n",
      "2019-08-17 17:29:35,947.947.6492404937744:kafka.producer.kafka:139956971476736:INFO:1998:Proceeding to force close the producer since pending requests could not be completed within timeout 0.\n",
      "2019-08-17 17:29:35,949.949.5513439178467:kafka.conn:139956881688320:INFO:1998:<BrokerConnection node_id=0 host=ubuntu:9092 <connected> [IPv4 ('127.0.1.1', 9092)]>: Closing connection. \n",
      "2019-08-17 17:29:35,950.950.1755237579346:kafka.producer.kafka:139956971476736:INFO:2000:Proceeding to force close the producer since pending requests could not be completed within timeout 0.\n",
      "2019-08-17 17:29:35,952.952.1381855010986:kafka.conn:139954529236736:INFO:2000:<BrokerConnection node_id=0 host=ubuntu:9092 <connected> [IPv4 ('127.0.1.1', 9092)]>: Closing connection. \n"
     ]
    },
    {
     "name": "stdout",
     "output_type": "stream",
     "text": [
      "topic=my_topic partition=0 offset=2922: key=None value={'number_1': '29.463244258473438,41.174526989115435,15.804388142634512,3.869392612734087,17.69090825621487'}\n"
     ]
    },
    {
     "name": "stderr",
     "output_type": "stream",
     "text": [
      "2019-08-17 17:29:35,953.953.749418258667:kafka.conn:139954529236736:INFO:1998:<BrokerConnection node_id=0 host=ubuntu:9092 <connecting> [IPv4 ('127.0.1.1', 9092)]>: connecting to ubuntu:9092 [('127.0.1.1', 9092) IPv4]\n"
     ]
    },
    {
     "name": "stdout",
     "output_type": "stream",
     "text": [
      "topic=my-topic partition=0 offset=2322: key=None value={'number_2': '15.69242670269424,12.438333445403394,-13.99470734804336,16.901349671160236,-9.41351198300112'}\n"
     ]
    },
    {
     "name": "stderr",
     "output_type": "stream",
     "text": [
      "2019-08-17 17:29:35,956.956.4838409423828:kafka.conn:139956971476736:INFO:1998:<BrokerConnection node_id=bootstrap-0 host=localhost:9092 <connecting> [IPv6 ('::1', 9092, 0, 0)]>: connecting to localhost:9092 [('::1', 9092, 0, 0) IPv6]\n",
      "2019-08-17 17:29:35,956.956.4194679260254:kafka.conn:139956890081024:INFO:2000:<BrokerConnection node_id=0 host=ubuntu:9092 <connecting> [IPv4 ('127.0.1.1', 9092)]>: connecting to ubuntu:9092 [('127.0.1.1', 9092) IPv4]\n",
      "2019-08-17 17:29:35,957.957.7100276947021:kafka.conn:139954529236736:INFO:1998:<BrokerConnection node_id=0 host=ubuntu:9092 <connecting> [IPv4 ('127.0.1.1', 9092)]>: Connection complete.\n",
      "2019-08-17 17:29:35,958.958.8353633880615:kafka.conn:139956971476736:INFO:2000:<BrokerConnection node_id=bootstrap-0 host=localhost:9092 <connecting> [IPv6 ('::1', 9092, 0, 0)]>: connecting to localhost:9092 [('::1', 9092, 0, 0) IPv6]\n",
      "2019-08-17 17:29:35,958.958.3010673522949:kafka.conn:139956971476736:INFO:1998:Probing node bootstrap-0 broker version\n",
      "2019-08-17 17:29:35,960.960.4494571685791:kafka.conn:139956890081024:INFO:2000:<BrokerConnection node_id=0 host=ubuntu:9092 <connecting> [IPv4 ('127.0.1.1', 9092)]>: Connection complete.\n",
      "2019-08-17 17:29:35,959.959.7926139831543:kafka.conn:139954529236736:INFO:1998:<BrokerConnection node_id=bootstrap-0 host=localhost:9092 <connected> [IPv6 ('::1', 9092, 0, 0)]>: Closing connection. \n",
      "2019-08-17 17:29:35,960.960.8819484710693:kafka.conn:139956971476736:INFO:2000:Probing node bootstrap-0 broker version\n",
      "2019-08-17 17:29:35,962.962.2678756713867:kafka.conn:139956890081024:INFO:2000:<BrokerConnection node_id=bootstrap-0 host=localhost:9092 <connected> [IPv6 ('::1', 9092, 0, 0)]>: Closing connection. \n",
      "2019-08-17 17:29:35,962.962.587833404541:kafka.conn:139956971476736:INFO:1998:<BrokerConnection node_id=bootstrap-0 host=localhost:9092 <connecting> [IPv6 ('::1', 9092, 0, 0)]>: Connection complete.\n",
      "2019-08-17 17:29:35,963.963.9170169830322:kafka.conn:139956971476736:INFO:2000:<BrokerConnection node_id=bootstrap-0 host=localhost:9092 <connecting> [IPv6 ('::1', 9092, 0, 0)]>: Connection complete.\n"
     ]
    },
    {
     "name": "stdout",
     "output_type": "stream",
     "text": [
      "topic : result , partition : 0 , offset : 808\n",
      "topic : result , partition : 0 , offset : 809\n"
     ]
    },
    {
     "name": "stderr",
     "output_type": "stream",
     "text": [
      "2019-08-17 17:29:36,070.70.25671005249023:kafka.conn:139956971476736:INFO:1998:Broker version identifed as 1.0.0\n",
      "2019-08-17 17:29:36,071.71.59280776977539:kafka.conn:139956971476736:INFO:2000:Broker version identifed as 1.0.0\n",
      "2019-08-17 17:29:36,071.71.9914436340332:kafka.conn:139956971476736:INFO:1998:Set configuration api_version=(1, 0, 0) to skip auto check_version requests on startup\n",
      "2019-08-17 17:29:36,073.73.27055931091309:kafka.conn:139956971476736:INFO:2000:Set configuration api_version=(1, 0, 0) to skip auto check_version requests on startup\n",
      "2019-08-17 17:29:36,076.76.13134384155273:kafka.producer.kafka:139956971476736:INFO:1998:Closing the Kafka producer with 0 secs timeout.\n",
      "2019-08-17 17:29:36,080.80.36637306213379:kafka.producer.kafka:139956971476736:INFO:1998:Proceeding to force close the producer since pending requests could not be completed within timeout 0.\n",
      "2019-08-17 17:29:36,077.77.60119438171387:kafka.producer.kafka:139956971476736:INFO:2000:Closing the Kafka producer with 0 secs timeout.\n",
      "2019-08-17 17:29:36,082.82.11493492126465:kafka.producer.kafka:139956971476736:INFO:2000:Proceeding to force close the producer since pending requests could not be completed within timeout 0.\n",
      "2019-08-17 17:29:36,082.82.27896690368652:kafka.conn:139954529236736:INFO:1998:<BrokerConnection node_id=0 host=ubuntu:9092 <connected> [IPv4 ('127.0.1.1', 9092)]>: Closing connection. \n",
      "2019-08-17 17:29:36,083.83.99796485900879:kafka.conn:139956890081024:INFO:2000:<BrokerConnection node_id=0 host=ubuntu:9092 <connected> [IPv4 ('127.0.1.1', 9092)]>: Closing connection. \n"
     ]
    },
    {
     "name": "stdout",
     "output_type": "stream",
     "text": [
      "topic=my_topic partition=0 offset=2923: key=None value={'number_1': '-0.22433953627245806,4.098954128908641,10.798387399803843,-25.26872758699526,5.85185786894555'}\n",
      "topic=my-topic partition=0 offset=2323: key=None value={'number_2': '-20.195714160894923,-1.9041461871341965,-26.883387712302454,-10.00241438705406,-4.7800128961406'}\n"
     ]
    },
    {
     "name": "stderr",
     "output_type": "stream",
     "text": [
      "2019-08-17 17:29:36,086.86.72094345092773:kafka.conn:139954881533696:INFO:1998:<BrokerConnection node_id=0 host=ubuntu:9092 <connecting> [IPv4 ('127.0.1.1', 9092)]>: connecting to ubuntu:9092 [('127.0.1.1', 9092) IPv4]\n",
      "2019-08-17 17:29:36,088.88.41300010681152:kafka.conn:139954529236736:INFO:2000:<BrokerConnection node_id=0 host=ubuntu:9092 <connecting> [IPv4 ('127.0.1.1', 9092)]>: connecting to ubuntu:9092 [('127.0.1.1', 9092) IPv4]\n",
      "2019-08-17 17:29:36,089.89.17570114135742:kafka.conn:139956971476736:INFO:1998:<BrokerConnection node_id=bootstrap-0 host=localhost:9092 <connecting> [IPv6 ('::1', 9092, 0, 0)]>: connecting to localhost:9092 [('::1', 9092, 0, 0) IPv6]\n",
      "2019-08-17 17:29:36,090.90.67964553833008:kafka.conn:139954881533696:INFO:1998:<BrokerConnection node_id=0 host=ubuntu:9092 <connecting> [IPv4 ('127.0.1.1', 9092)]>: Connection complete.\n",
      "2019-08-17 17:29:36,091.91.21155738830566:kafka.conn:139954529236736:INFO:2000:<BrokerConnection node_id=0 host=ubuntu:9092 <connecting> [IPv4 ('127.0.1.1', 9092)]>: Connection complete.\n",
      "2019-08-17 17:29:36,091.91.14813804626465:kafka.conn:139956971476736:INFO:1998:Probing node bootstrap-0 broker version\n",
      "2019-08-17 17:29:36,091.91.47500991821289:kafka.conn:139956971476736:INFO:2000:<BrokerConnection node_id=bootstrap-0 host=localhost:9092 <connecting> [IPv6 ('::1', 9092, 0, 0)]>: connecting to localhost:9092 [('::1', 9092, 0, 0) IPv6]\n",
      "2019-08-17 17:29:36,092.92.6666259765625:kafka.conn:139954881533696:INFO:1998:<BrokerConnection node_id=bootstrap-0 host=localhost:9092 <connected> [IPv6 ('::1', 9092, 0, 0)]>: Closing connection. \n",
      "2019-08-17 17:29:36,093.93.20235252380371:kafka.conn:139954529236736:INFO:2000:<BrokerConnection node_id=bootstrap-0 host=localhost:9092 <connected> [IPv6 ('::1', 9092, 0, 0)]>: Closing connection. \n",
      "2019-08-17 17:29:36,094.94.58255767822266:kafka.conn:139956971476736:INFO:1998:<BrokerConnection node_id=bootstrap-0 host=localhost:9092 <connecting> [IPv6 ('::1', 9092, 0, 0)]>: Connection complete.\n",
      "2019-08-17 17:29:36,094.94.98238563537598:kafka.conn:139956971476736:INFO:2000:Probing node bootstrap-0 broker version\n"
     ]
    },
    {
     "name": "stdout",
     "output_type": "stream",
     "text": [
      "topic : result , partition : 0 , offset : 810\n"
     ]
    },
    {
     "name": "stderr",
     "output_type": "stream",
     "text": [
      "2019-08-17 17:29:36,099.99.02000427246094:kafka.conn:139956971476736:INFO:2000:<BrokerConnection node_id=bootstrap-0 host=localhost:9092 <connecting> [IPv6 ('::1', 9092, 0, 0)]>: Connection complete.\n"
     ]
    },
    {
     "name": "stdout",
     "output_type": "stream",
     "text": [
      "topic : result , partition : 0 , offset : 811\n"
     ]
    },
    {
     "name": "stderr",
     "output_type": "stream",
     "text": [
      "2019-08-17 17:29:36,202.202.76880264282227:kafka.conn:139956971476736:INFO:1998:Broker version identifed as 1.0.0\n",
      "2019-08-17 17:29:36,204.204.43391799926758:kafka.conn:139956971476736:INFO:1998:Set configuration api_version=(1, 0, 0) to skip auto check_version requests on startup\n",
      "2019-08-17 17:29:36,204.204.5156955718994:kafka.conn:139956971476736:INFO:2000:Broker version identifed as 1.0.0\n",
      "2019-08-17 17:29:36,206.206.26044273376465:kafka.conn:139956971476736:INFO:2000:Set configuration api_version=(1, 0, 0) to skip auto check_version requests on startup\n",
      "2019-08-17 17:29:36,208.208.5258960723877:kafka.producer.kafka:139956971476736:INFO:1998:Closing the Kafka producer with 0 secs timeout.\n",
      "2019-08-17 17:29:36,210.210.21604537963867:kafka.producer.kafka:139956971476736:INFO:2000:Closing the Kafka producer with 0 secs timeout.\n",
      "2019-08-17 17:29:36,212.212.08429336547852:kafka.producer.kafka:139956971476736:INFO:1998:Proceeding to force close the producer since pending requests could not be completed within timeout 0.\n",
      "2019-08-17 17:29:36,213.213.92488479614258:kafka.producer.kafka:139956971476736:INFO:2000:Proceeding to force close the producer since pending requests could not be completed within timeout 0.\n",
      "2019-08-17 17:29:36,213.213.95373344421387:kafka.conn:139954881533696:INFO:1998:<BrokerConnection node_id=0 host=ubuntu:9092 <connected> [IPv4 ('127.0.1.1', 9092)]>: Closing connection. \n",
      "2019-08-17 17:29:36,215.215.834379196167:kafka.conn:139954529236736:INFO:2000:<BrokerConnection node_id=0 host=ubuntu:9092 <connected> [IPv4 ('127.0.1.1', 9092)]>: Closing connection. \n",
      "2019-08-17 17:29:36,217.217.74697303771973:kafka.conn:139956890081024:INFO:1998:<BrokerConnection node_id=0 host=ubuntu:9092 <connecting> [IPv4 ('127.0.1.1', 9092)]>: connecting to ubuntu:9092 [('127.0.1.1', 9092) IPv4]\n"
     ]
    },
    {
     "name": "stdout",
     "output_type": "stream",
     "text": [
      "topic=my-topic partition=0 offset=2324: key=None value={'number_2': '-9.526106349352233,-13.940932619756127,4.159735905102423,21.89598480080807,19.5115185255025'}\n"
     ]
    },
    {
     "name": "stderr",
     "output_type": "stream",
     "text": [
      "2019-08-17 17:29:36,219.219.8927402496338:kafka.conn:139956890081024:INFO:1998:<BrokerConnection node_id=0 host=ubuntu:9092 <connecting> [IPv4 ('127.0.1.1', 9092)]>: Connection complete.\n",
      "2019-08-17 17:29:36,220.220.045804977417:kafka.conn:139954520844032:INFO:2000:<BrokerConnection node_id=0 host=ubuntu:9092 <connecting> [IPv4 ('127.0.1.1', 9092)]>: connecting to ubuntu:9092 [('127.0.1.1', 9092) IPv4]\n",
      "2019-08-17 17:29:36,221.221.5290069580078:kafka.conn:139956890081024:INFO:1998:<BrokerConnection node_id=bootstrap-0 host=localhost:9092 <connected> [IPv6 ('::1', 9092, 0, 0)]>: Closing connection. \n",
      "2019-08-17 17:29:36,222.222.57757186889648:kafka.conn:139956971476736:INFO:2000:<BrokerConnection node_id=bootstrap-0 host=localhost:9092 <connecting> [IPv6 ('::1', 9092, 0, 0)]>: connecting to localhost:9092 [('::1', 9092, 0, 0) IPv6]\n",
      "2019-08-17 17:29:36,223.223.82354736328125:kafka.conn:139954520844032:INFO:2000:<BrokerConnection node_id=0 host=ubuntu:9092 <connecting> [IPv4 ('127.0.1.1', 9092)]>: Connection complete.\n"
     ]
    },
    {
     "name": "stdout",
     "output_type": "stream",
     "text": [
      "topic : result , partition : 0 , offset : 812\n"
     ]
    },
    {
     "name": "stderr",
     "output_type": "stream",
     "text": [
      "2019-08-17 17:29:36,224.224.57647323608398:kafka.conn:139956971476736:INFO:2000:Probing node bootstrap-0 broker version\n",
      "2019-08-17 17:29:36,226.226.20201110839844:kafka.conn:139954520844032:INFO:2000:<BrokerConnection node_id=bootstrap-0 host=localhost:9092 <connected> [IPv6 ('::1', 9092, 0, 0)]>: Closing connection. \n",
      "2019-08-17 17:29:36,227.227.93245315551758:kafka.conn:139956971476736:INFO:2000:<BrokerConnection node_id=bootstrap-0 host=localhost:9092 <connecting> [IPv6 ('::1', 9092, 0, 0)]>: Connection complete.\n"
     ]
    },
    {
     "name": "stdout",
     "output_type": "stream",
     "text": [
      "topic : result , partition : 0 , offset : 813\n",
      "topic=my_topic partition=0 offset=2924: key=None value={'number_1': '8.250436661888342,-15.992106134674838,-23.725341118787334,-1.528758435599105,4.137163531382772'}\n"
     ]
    },
    {
     "name": "stderr",
     "output_type": "stream",
     "text": [
      "2019-08-17 17:29:36,272.272.3526954650879:kafka.conn:139956971476736:INFO:1998:<BrokerConnection node_id=bootstrap-0 host=localhost:9092 <connecting> [IPv6 ('::1', 9092, 0, 0)]>: connecting to localhost:9092 [('::1', 9092, 0, 0) IPv6]\n",
      "2019-08-17 17:29:36,274.274.1093635559082:kafka.conn:139956971476736:INFO:1998:Probing node bootstrap-0 broker version\n",
      "2019-08-17 17:29:36,275.275.9544849395752:kafka.conn:139956971476736:INFO:1998:<BrokerConnection node_id=bootstrap-0 host=localhost:9092 <connecting> [IPv6 ('::1', 9092, 0, 0)]>: Connection complete.\n",
      "2019-08-17 17:29:36,335.335.1573944091797:kafka.conn:139956971476736:INFO:2000:Broker version identifed as 1.0.0\n",
      "2019-08-17 17:29:36,336.336.6870880126953:kafka.conn:139956971476736:INFO:2000:Set configuration api_version=(1, 0, 0) to skip auto check_version requests on startup\n",
      "2019-08-17 17:29:36,340.340.5616283416748:kafka.producer.kafka:139956971476736:INFO:2000:Closing the Kafka producer with 0 secs timeout.\n",
      "2019-08-17 17:29:36,345.345.54505348205566:kafka.producer.kafka:139956971476736:INFO:2000:Proceeding to force close the producer since pending requests could not be completed within timeout 0.\n",
      "2019-08-17 17:29:36,347.347.41854667663574:kafka.conn:139954520844032:INFO:2000:<BrokerConnection node_id=0 host=ubuntu:9092 <connected> [IPv4 ('127.0.1.1', 9092)]>: Closing connection. \n"
     ]
    },
    {
     "name": "stdout",
     "output_type": "stream",
     "text": [
      "topic=my-topic partition=0 offset=2325: key=None value={'number_2': '-1.537878785193696,0.7711311594130439,-5.325127589840326,6.0204985161979705,-2.0376141852746827'}\n"
     ]
    },
    {
     "name": "stderr",
     "output_type": "stream",
     "text": [
      "2019-08-17 17:29:36,351.351.6554832458496:kafka.conn:139954529236736:INFO:2000:<BrokerConnection node_id=0 host=ubuntu:9092 <connecting> [IPv4 ('127.0.1.1', 9092)]>: connecting to ubuntu:9092 [('127.0.1.1', 9092) IPv4]\n",
      "2019-08-17 17:29:36,354.354.02631759643555:kafka.conn:139956971476736:INFO:2000:<BrokerConnection node_id=bootstrap-0 host=localhost:9092 <connecting> [IPv6 ('::1', 9092, 0, 0)]>: connecting to localhost:9092 [('::1', 9092, 0, 0) IPv6]\n",
      "2019-08-17 17:29:36,355.355.6811809539795:kafka.conn:139954529236736:INFO:2000:<BrokerConnection node_id=0 host=ubuntu:9092 <connecting> [IPv4 ('127.0.1.1', 9092)]>: Connection complete.\n",
      "2019-08-17 17:29:36,356.356.58955574035645:kafka.conn:139956971476736:INFO:2000:Probing node bootstrap-0 broker version\n",
      "2019-08-17 17:29:36,358.358.2487106323242:kafka.conn:139954529236736:INFO:2000:<BrokerConnection node_id=bootstrap-0 host=localhost:9092 <connected> [IPv6 ('::1', 9092, 0, 0)]>: Closing connection. \n",
      "2019-08-17 17:29:36,360.360.2142333984375:kafka.conn:139956971476736:INFO:2000:<BrokerConnection node_id=bootstrap-0 host=localhost:9092 <connecting> [IPv6 ('::1', 9092, 0, 0)]>: Connection complete.\n"
     ]
    },
    {
     "name": "stdout",
     "output_type": "stream",
     "text": [
      "topic : result , partition : 0 , offset : 814\n"
     ]
    },
    {
     "name": "stderr",
     "output_type": "stream",
     "text": [
      "2019-08-17 17:29:36,380.380.70082664489746:kafka.conn:139956971476736:INFO:1998:Broker version identifed as 1.0.0\n",
      "2019-08-17 17:29:36,382.382.2970390319824:kafka.conn:139956971476736:INFO:1998:Set configuration api_version=(1, 0, 0) to skip auto check_version requests on startup\n",
      "2019-08-17 17:29:36,386.386.51394844055176:kafka.producer.kafka:139956971476736:INFO:1998:Closing the Kafka producer with 0 secs timeout.\n",
      "2019-08-17 17:29:36,391.391.664981842041:kafka.producer.kafka:139956971476736:INFO:1998:Proceeding to force close the producer since pending requests could not be completed within timeout 0.\n",
      "2019-08-17 17:29:36,393.393.5229778289795:kafka.conn:139956890081024:INFO:1998:<BrokerConnection node_id=0 host=ubuntu:9092 <connected> [IPv4 ('127.0.1.1', 9092)]>: Closing connection. \n"
     ]
    },
    {
     "name": "stdout",
     "output_type": "stream",
     "text": [
      "topic=my_topic partition=0 offset=2925: key=None value={'number_1': '4.4548404627041425,-9.073510525779731,39.84013832924108,-35.1071612409763,4.333326181742892'}\n"
     ]
    },
    {
     "name": "stderr",
     "output_type": "stream",
     "text": [
      "2019-08-17 17:29:36,399.399.6596336364746:kafka.conn:139954881533696:INFO:1998:<BrokerConnection node_id=0 host=ubuntu:9092 <connecting> [IPv4 ('127.0.1.1', 9092)]>: connecting to ubuntu:9092 [('127.0.1.1', 9092) IPv4]\n",
      "2019-08-17 17:29:36,400.400.84362030029297:kafka.conn:139956971476736:INFO:1998:<BrokerConnection node_id=bootstrap-0 host=localhost:9092 <connecting> [IPv6 ('::1', 9092, 0, 0)]>: connecting to localhost:9092 [('::1', 9092, 0, 0) IPv6]\n",
      "2019-08-17 17:29:36,402.402.9207229614258:kafka.conn:139954881533696:INFO:1998:<BrokerConnection node_id=0 host=ubuntu:9092 <connecting> [IPv4 ('127.0.1.1', 9092)]>: Connection complete.\n",
      "2019-08-17 17:29:36,403.403.53894233703613:kafka.conn:139956971476736:INFO:1998:Probing node bootstrap-0 broker version\n",
      "2019-08-17 17:29:36,405.405.137300491333:kafka.conn:139954881533696:INFO:1998:<BrokerConnection node_id=bootstrap-0 host=localhost:9092 <connected> [IPv6 ('::1', 9092, 0, 0)]>: Closing connection. \n",
      "2019-08-17 17:29:36,406.406.97574615478516:kafka.conn:139956971476736:INFO:1998:<BrokerConnection node_id=bootstrap-0 host=localhost:9092 <connecting> [IPv6 ('::1', 9092, 0, 0)]>: Connection complete.\n"
     ]
    },
    {
     "name": "stdout",
     "output_type": "stream",
     "text": [
      "topic : result , partition : 0 , offset : 815\n"
     ]
    },
    {
     "name": "stderr",
     "output_type": "stream",
     "text": [
      "2019-08-17 17:29:36,468.468.2016372680664:kafka.conn:139956971476736:INFO:2000:Broker version identifed as 1.0.0\n",
      "2019-08-17 17:29:36,469.469.85650062561035:kafka.conn:139956971476736:INFO:2000:Set configuration api_version=(1, 0, 0) to skip auto check_version requests on startup\n",
      "2019-08-17 17:29:36,473.473.6948013305664:kafka.producer.kafka:139956971476736:INFO:2000:Closing the Kafka producer with 0 secs timeout.\n",
      "2019-08-17 17:29:36,477.477.51855850219727:kafka.producer.kafka:139956971476736:INFO:2000:Proceeding to force close the producer since pending requests could not be completed within timeout 0.\n",
      "2019-08-17 17:29:36,479.479.54344749450684:kafka.conn:139954529236736:INFO:2000:<BrokerConnection node_id=0 host=ubuntu:9092 <connected> [IPv4 ('127.0.1.1', 9092)]>: Closing connection. \n"
     ]
    },
    {
     "name": "stdout",
     "output_type": "stream",
     "text": [
      "topic=my-topic partition=0 offset=2326: key=None value={'number_2': '-17.066383280908756,-13.54979137923544,-8.062268334334862,-10.215825953839433,19.40318083182555'}\n"
     ]
    },
    {
     "name": "stderr",
     "output_type": "stream",
     "text": [
      "2019-08-17 17:29:36,484.484.24839973449707:kafka.conn:139954520844032:INFO:2000:<BrokerConnection node_id=0 host=ubuntu:9092 <connecting> [IPv4 ('127.0.1.1', 9092)]>: connecting to ubuntu:9092 [('127.0.1.1', 9092) IPv4]\n",
      "2019-08-17 17:29:36,486.486.9720935821533:kafka.conn:139956971476736:INFO:2000:<BrokerConnection node_id=bootstrap-0 host=localhost:9092 <connecting> [IPv6 ('::1', 9092, 0, 0)]>: connecting to localhost:9092 [('::1', 9092, 0, 0) IPv6]\n",
      "2019-08-17 17:29:36,488.488.5590076446533:kafka.conn:139954520844032:INFO:2000:<BrokerConnection node_id=0 host=ubuntu:9092 <connecting> [IPv4 ('127.0.1.1', 9092)]>: Connection complete.\n",
      "2019-08-17 17:29:36,489.489.3913269042969:kafka.conn:139956971476736:INFO:2000:Probing node bootstrap-0 broker version\n",
      "2019-08-17 17:29:36,491.491.0855293273926:kafka.conn:139954520844032:INFO:2000:<BrokerConnection node_id=bootstrap-0 host=localhost:9092 <connected> [IPv6 ('::1', 9092, 0, 0)]>: Closing connection. \n",
      "2019-08-17 17:29:36,493.493.12400817871094:kafka.conn:139956971476736:INFO:2000:<BrokerConnection node_id=bootstrap-0 host=localhost:9092 <connecting> [IPv6 ('::1', 9092, 0, 0)]>: Connection complete.\n"
     ]
    },
    {
     "name": "stdout",
     "output_type": "stream",
     "text": [
      "topic : result , partition : 0 , offset : 816\n"
     ]
    },
    {
     "name": "stderr",
     "output_type": "stream",
     "text": [
      "2019-08-17 17:29:36,515.515.0570869445801:kafka.conn:139956971476736:INFO:1998:Broker version identifed as 1.0.0\n",
      "2019-08-17 17:29:36,516.516.6571140289307:kafka.conn:139956971476736:INFO:1998:Set configuration api_version=(1, 0, 0) to skip auto check_version requests on startup\n",
      "2019-08-17 17:29:36,520.520.6012725830078:kafka.producer.kafka:139956971476736:INFO:1998:Closing the Kafka producer with 0 secs timeout.\n",
      "2019-08-17 17:29:36,524.524.116039276123:kafka.producer.kafka:139956971476736:INFO:1998:Proceeding to force close the producer since pending requests could not be completed within timeout 0.\n",
      "2019-08-17 17:29:36,525.525.9265899658203:kafka.conn:139954881533696:INFO:1998:<BrokerConnection node_id=0 host=ubuntu:9092 <connected> [IPv4 ('127.0.1.1', 9092)]>: Closing connection. \n"
     ]
    },
    {
     "name": "stdout",
     "output_type": "stream",
     "text": [
      "topic=my_topic partition=0 offset=2926: key=None value={'number_1': '12.480122891219782,27.88429461919487,-4.330784539562618,-15.528364926534643,11.89031420240751'}\n"
     ]
    },
    {
     "name": "stderr",
     "output_type": "stream",
     "text": [
      "2019-08-17 17:29:36,530.530.1060676574707:kafka.conn:139956890081024:INFO:1998:<BrokerConnection node_id=0 host=ubuntu:9092 <connecting> [IPv4 ('127.0.1.1', 9092)]>: connecting to ubuntu:9092 [('127.0.1.1', 9092) IPv4]\n",
      "2019-08-17 17:29:36,532.532.5922966003418:kafka.conn:139956971476736:INFO:1998:<BrokerConnection node_id=bootstrap-0 host=localhost:9092 <connecting> [IPv6 ('::1', 9092, 0, 0)]>: connecting to localhost:9092 [('::1', 9092, 0, 0) IPv6]\n",
      "2019-08-17 17:29:36,533.533.2095623016357:kafka.conn:139956890081024:INFO:1998:<BrokerConnection node_id=0 host=ubuntu:9092 <connecting> [IPv4 ('127.0.1.1', 9092)]>: Connection complete.\n",
      "2019-08-17 17:29:36,534.534.827709197998:kafka.conn:139956971476736:INFO:1998:Probing node bootstrap-0 broker version\n",
      "2019-08-17 17:29:36,536.536.2427234649658:kafka.conn:139956890081024:INFO:1998:<BrokerConnection node_id=bootstrap-0 host=localhost:9092 <connected> [IPv6 ('::1', 9092, 0, 0)]>: Closing connection. \n",
      "2019-08-17 17:29:36,538.538.1379127502441:kafka.conn:139956971476736:INFO:1998:<BrokerConnection node_id=bootstrap-0 host=localhost:9092 <connecting> [IPv6 ('::1', 9092, 0, 0)]>: Connection complete.\n"
     ]
    },
    {
     "name": "stdout",
     "output_type": "stream",
     "text": [
      "topic : result , partition : 0 , offset : 817\n"
     ]
    },
    {
     "name": "stderr",
     "output_type": "stream",
     "text": [
      "2019-08-17 17:29:36,601.601.8381118774414:kafka.conn:139956971476736:INFO:2000:Broker version identifed as 1.0.0\n",
      "2019-08-17 17:29:36,603.603.6860942840576:kafka.conn:139956971476736:INFO:2000:Set configuration api_version=(1, 0, 0) to skip auto check_version requests on startup\n",
      "2019-08-17 17:29:36,607.607.8567504882812:kafka.producer.kafka:139956971476736:INFO:2000:Closing the Kafka producer with 0 secs timeout.\n",
      "2019-08-17 17:29:36,611.611.8457317352295:kafka.producer.kafka:139956971476736:INFO:2000:Proceeding to force close the producer since pending requests could not be completed within timeout 0.\n",
      "2019-08-17 17:29:36,613.613.8010025024414:kafka.conn:139954520844032:INFO:2000:<BrokerConnection node_id=0 host=ubuntu:9092 <connected> [IPv4 ('127.0.1.1', 9092)]>: Closing connection. \n"
     ]
    },
    {
     "name": "stdout",
     "output_type": "stream",
     "text": [
      "topic=my-topic partition=0 offset=2327: key=None value={'number_2': '5.4942261452039745,4.754127225285997,3.100226333559999,-3.343057636461668,2.393725873679606'}\n"
     ]
    },
    {
     "name": "stderr",
     "output_type": "stream",
     "text": [
      "2019-08-17 17:29:36,618.618.6611652374268:kafka.conn:139954529236736:INFO:2000:<BrokerConnection node_id=0 host=ubuntu:9092 <connecting> [IPv4 ('127.0.1.1', 9092)]>: connecting to ubuntu:9092 [('127.0.1.1', 9092) IPv4]\n",
      "2019-08-17 17:29:36,621.621.2437152862549:kafka.conn:139956971476736:INFO:2000:<BrokerConnection node_id=bootstrap-0 host=localhost:9092 <connecting> [IPv6 ('::1', 9092, 0, 0)]>: connecting to localhost:9092 [('::1', 9092, 0, 0) IPv6]\n",
      "2019-08-17 17:29:36,621.621.8316555023193:kafka.conn:139954529236736:INFO:2000:<BrokerConnection node_id=0 host=ubuntu:9092 <connecting> [IPv4 ('127.0.1.1', 9092)]>: Connection complete.\n",
      "2019-08-17 17:29:36,623.623.6586570739746:kafka.conn:139956971476736:INFO:2000:Probing node bootstrap-0 broker version\n",
      "2019-08-17 17:29:36,625.625.3716945648193:kafka.conn:139954529236736:INFO:2000:<BrokerConnection node_id=bootstrap-0 host=localhost:9092 <connected> [IPv6 ('::1', 9092, 0, 0)]>: Closing connection. \n",
      "2019-08-17 17:29:36,627.627.373456954956:kafka.conn:139956971476736:INFO:2000:<BrokerConnection node_id=bootstrap-0 host=localhost:9092 <connecting> [IPv6 ('::1', 9092, 0, 0)]>: Connection complete.\n"
     ]
    },
    {
     "name": "stdout",
     "output_type": "stream",
     "text": [
      "topic : result , partition : 0 , offset : 818\n"
     ]
    },
    {
     "name": "stderr",
     "output_type": "stream",
     "text": [
      "2019-08-17 17:29:36,646.646.0044384002686:kafka.conn:139956971476736:INFO:1998:Broker version identifed as 1.0.0\n",
      "2019-08-17 17:29:36,647.647.5472450256348:kafka.conn:139956971476736:INFO:1998:Set configuration api_version=(1, 0, 0) to skip auto check_version requests on startup\n",
      "2019-08-17 17:29:36,651.651.0534286499023:kafka.producer.kafka:139956971476736:INFO:1998:Closing the Kafka producer with 0 secs timeout.\n",
      "2019-08-17 17:29:36,654.654.7896862030029:kafka.producer.kafka:139956971476736:INFO:1998:Proceeding to force close the producer since pending requests could not be completed within timeout 0.\n",
      "2019-08-17 17:29:36,656.656.5554141998291:kafka.conn:139956890081024:INFO:1998:<BrokerConnection node_id=0 host=ubuntu:9092 <connected> [IPv4 ('127.0.1.1', 9092)]>: Closing connection. \n"
     ]
    },
    {
     "name": "stdout",
     "output_type": "stream",
     "text": [
      "topic=my_topic partition=0 offset=2927: key=None value={'number_1': '42.797394511465214,29.260865386689236,14.255197725135643,0.5439875706257791,7.167342317047167'}\n"
     ]
    },
    {
     "name": "stderr",
     "output_type": "stream",
     "text": [
      "2019-08-17 17:29:36,661.661.7562770843506:kafka.conn:139954881533696:INFO:1998:<BrokerConnection node_id=0 host=ubuntu:9092 <connecting> [IPv4 ('127.0.1.1', 9092)]>: connecting to ubuntu:9092 [('127.0.1.1', 9092) IPv4]\n",
      "2019-08-17 17:29:36,662.662.893533706665:kafka.conn:139956971476736:INFO:1998:<BrokerConnection node_id=bootstrap-0 host=localhost:9092 <connecting> [IPv6 ('::1', 9092, 0, 0)]>: connecting to localhost:9092 [('::1', 9092, 0, 0) IPv6]\n",
      "2019-08-17 17:29:36,664.664.8032665252686:kafka.conn:139954881533696:INFO:1998:<BrokerConnection node_id=0 host=ubuntu:9092 <connecting> [IPv4 ('127.0.1.1', 9092)]>: Connection complete.\n",
      "2019-08-17 17:29:36,665.665.6455993652344:kafka.conn:139956971476736:INFO:1998:Probing node bootstrap-0 broker version\n",
      "2019-08-17 17:29:36,667.667.515754699707:kafka.conn:139954881533696:INFO:1998:<BrokerConnection node_id=bootstrap-0 host=localhost:9092 <connected> [IPv6 ('::1', 9092, 0, 0)]>: Closing connection. \n",
      "2019-08-17 17:29:36,669.669.2016124725342:kafka.conn:139956971476736:INFO:1998:<BrokerConnection node_id=bootstrap-0 host=localhost:9092 <connecting> [IPv6 ('::1', 9092, 0, 0)]>: Connection complete.\n"
     ]
    },
    {
     "name": "stdout",
     "output_type": "stream",
     "text": [
      "topic : result , partition : 0 , offset : 819\n"
     ]
    },
    {
     "name": "stderr",
     "output_type": "stream",
     "text": [
      "2019-08-17 17:29:36,734.734.938383102417:kafka.conn:139956971476736:INFO:2000:Broker version identifed as 1.0.0\n",
      "2019-08-17 17:29:36,736.736.5679740905762:kafka.conn:139956971476736:INFO:2000:Set configuration api_version=(1, 0, 0) to skip auto check_version requests on startup\n",
      "2019-08-17 17:29:36,740.740.7646179199219:kafka.producer.kafka:139956971476736:INFO:2000:Closing the Kafka producer with 0 secs timeout.\n",
      "2019-08-17 17:29:36,746.746.1962699890137:kafka.producer.kafka:139956971476736:INFO:2000:Proceeding to force close the producer since pending requests could not be completed within timeout 0.\n",
      "2019-08-17 17:29:36,748.748.1021881103516:kafka.conn:139954529236736:INFO:2000:<BrokerConnection node_id=0 host=ubuntu:9092 <connected> [IPv4 ('127.0.1.1', 9092)]>: Closing connection. \n"
     ]
    },
    {
     "name": "stdout",
     "output_type": "stream",
     "text": [
      "topic=my-topic partition=0 offset=2328: key=None value={'number_2': '-17.848673362149686,0.30080656195552213,14.04856311366437,0.15207691701657938,-2.4268433495743897'}\n"
     ]
    },
    {
     "name": "stderr",
     "output_type": "stream",
     "text": [
      "2019-08-17 17:29:36,752.752.5336742401123:kafka.conn:139954520844032:INFO:2000:<BrokerConnection node_id=0 host=ubuntu:9092 <connecting> [IPv4 ('127.0.1.1', 9092)]>: connecting to ubuntu:9092 [('127.0.1.1', 9092) IPv4]\n",
      "2019-08-17 17:29:36,755.755.5830478668213:kafka.conn:139956971476736:INFO:2000:<BrokerConnection node_id=bootstrap-0 host=localhost:9092 <connecting> [IPv6 ('::1', 9092, 0, 0)]>: connecting to localhost:9092 [('::1', 9092, 0, 0) IPv6]\n",
      "2019-08-17 17:29:36,756.756.6874027252197:kafka.conn:139954520844032:INFO:2000:<BrokerConnection node_id=0 host=ubuntu:9092 <connecting> [IPv4 ('127.0.1.1', 9092)]>: Connection complete.\n",
      "2019-08-17 17:29:36,757.757.4458122253418:kafka.conn:139956971476736:INFO:2000:Probing node bootstrap-0 broker version\n",
      "2019-08-17 17:29:36,759.759.3467235565186:kafka.conn:139954520844032:INFO:2000:<BrokerConnection node_id=bootstrap-0 host=localhost:9092 <connected> [IPv6 ('::1', 9092, 0, 0)]>: Closing connection. \n",
      "2019-08-17 17:29:36,761.761.2645626068115:kafka.conn:139956971476736:INFO:2000:<BrokerConnection node_id=bootstrap-0 host=localhost:9092 <connecting> [IPv6 ('::1', 9092, 0, 0)]>: Connection complete.\n"
     ]
    },
    {
     "name": "stdout",
     "output_type": "stream",
     "text": [
      "topic : result , partition : 0 , offset : 820\n"
     ]
    },
    {
     "name": "stderr",
     "output_type": "stream",
     "text": [
      "2019-08-17 17:29:36,776.776.5333652496338:kafka.conn:139956971476736:INFO:1998:Broker version identifed as 1.0.0\n",
      "2019-08-17 17:29:36,778.778.0508995056152:kafka.conn:139956971476736:INFO:1998:Set configuration api_version=(1, 0, 0) to skip auto check_version requests on startup\n",
      "2019-08-17 17:29:36,783.783.4324836730957:kafka.producer.kafka:139956971476736:INFO:1998:Closing the Kafka producer with 0 secs timeout.\n",
      "2019-08-17 17:29:36,788.788.3255481719971:kafka.producer.kafka:139956971476736:INFO:1998:Proceeding to force close the producer since pending requests could not be completed within timeout 0.\n",
      "2019-08-17 17:29:36,790.790.1439666748047:kafka.conn:139954881533696:INFO:1998:<BrokerConnection node_id=0 host=ubuntu:9092 <connected> [IPv4 ('127.0.1.1', 9092)]>: Closing connection. \n"
     ]
    },
    {
     "name": "stdout",
     "output_type": "stream",
     "text": [
      "topic=my_topic partition=0 offset=2928: key=None value={'number_1': '4.824148077075211,-1.989161857007602,45.72388654845474,32.547042402158745,32.45876097426131'}\n"
     ]
    },
    {
     "name": "stderr",
     "output_type": "stream",
     "text": [
      "2019-08-17 17:29:36,793.793.6868667602539:kafka.conn:139956890081024:INFO:1998:<BrokerConnection node_id=0 host=ubuntu:9092 <connecting> [IPv4 ('127.0.1.1', 9092)]>: connecting to ubuntu:9092 [('127.0.1.1', 9092) IPv4]\n",
      "2019-08-17 17:29:36,797.797.2707748413086:kafka.conn:139956971476736:INFO:1998:<BrokerConnection node_id=bootstrap-0 host=localhost:9092 <connecting> [IPv6 ('::1', 9092, 0, 0)]>: connecting to localhost:9092 [('::1', 9092, 0, 0) IPv6]\n",
      "2019-08-17 17:29:36,798.798.5424995422363:kafka.conn:139956890081024:INFO:1998:<BrokerConnection node_id=0 host=ubuntu:9092 <connecting> [IPv4 ('127.0.1.1', 9092)]>: Connection complete.\n",
      "2019-08-17 17:29:36,799.799.4019985198975:kafka.conn:139956971476736:INFO:1998:Probing node bootstrap-0 broker version\n",
      "2019-08-17 17:29:36,801.801.0768890380859:kafka.conn:139956890081024:INFO:1998:<BrokerConnection node_id=bootstrap-0 host=localhost:9092 <connected> [IPv6 ('::1', 9092, 0, 0)]>: Closing connection. \n",
      "2019-08-17 17:29:36,803.803.0209541320801:kafka.conn:139956971476736:INFO:1998:<BrokerConnection node_id=bootstrap-0 host=localhost:9092 <connecting> [IPv6 ('::1', 9092, 0, 0)]>: Connection complete.\n"
     ]
    },
    {
     "name": "stdout",
     "output_type": "stream",
     "text": [
      "topic : result , partition : 0 , offset : 821\n"
     ]
    },
    {
     "name": "stderr",
     "output_type": "stream",
     "text": [
      "2019-08-17 17:29:36,869.869.9088096618652:kafka.conn:139956971476736:INFO:2000:Broker version identifed as 1.0.0\n",
      "2019-08-17 17:29:36,871.871.4704513549805:kafka.conn:139956971476736:INFO:2000:Set configuration api_version=(1, 0, 0) to skip auto check_version requests on startup\n",
      "2019-08-17 17:29:36,875.875.4737377166748:kafka.producer.kafka:139956971476736:INFO:2000:Closing the Kafka producer with 0 secs timeout.\n",
      "2019-08-17 17:29:36,878.878.9043426513672:kafka.producer.kafka:139956971476736:INFO:2000:Proceeding to force close the producer since pending requests could not be completed within timeout 0.\n",
      "2019-08-17 17:29:36,880.880.8889389038086:kafka.conn:139954520844032:INFO:2000:<BrokerConnection node_id=0 host=ubuntu:9092 <connected> [IPv4 ('127.0.1.1', 9092)]>: Closing connection. \n"
     ]
    },
    {
     "name": "stdout",
     "output_type": "stream",
     "text": [
      "topic=my-topic partition=0 offset=2329: key=None value={'number_2': '4.1921190064984835,-5.676614574888488,-1.2834112581074686,10.052165365455298,-2.087846122398705'}\n"
     ]
    },
    {
     "name": "stderr",
     "output_type": "stream",
     "text": [
      "2019-08-17 17:29:36,885.885.3294849395752:kafka.conn:139956890081024:INFO:2000:<BrokerConnection node_id=0 host=ubuntu:9092 <connecting> [IPv4 ('127.0.1.1', 9092)]>: connecting to ubuntu:9092 [('127.0.1.1', 9092) IPv4]\n",
      "2019-08-17 17:29:36,888.888.4408473968506:kafka.conn:139956890081024:INFO:2000:<BrokerConnection node_id=0 host=ubuntu:9092 <connecting> [IPv4 ('127.0.1.1', 9092)]>: Connection complete.\n",
      "2019-08-17 17:29:36,888.888.7288570404053:kafka.conn:139956971476736:INFO:2000:<BrokerConnection node_id=bootstrap-0 host=localhost:9092 <connecting> [IPv6 ('::1', 9092, 0, 0)]>: connecting to localhost:9092 [('::1', 9092, 0, 0) IPv6]\n",
      "2019-08-17 17:29:36,890.890.2652263641357:kafka.conn:139956890081024:INFO:2000:<BrokerConnection node_id=bootstrap-0 host=localhost:9092 <connected> [IPv6 ('::1', 9092, 0, 0)]>: Closing connection. \n",
      "2019-08-17 17:29:36,891.891.9963836669922:kafka.conn:139956971476736:INFO:2000:Probing node bootstrap-0 broker version\n"
     ]
    },
    {
     "name": "stdout",
     "output_type": "stream",
     "text": [
      "topic : result , partition : 0 , offset : 822\n"
     ]
    },
    {
     "name": "stderr",
     "output_type": "stream",
     "text": [
      "2019-08-17 17:29:36,897.897.2220420837402:kafka.conn:139956971476736:INFO:2000:<BrokerConnection node_id=bootstrap-0 host=localhost:9092 <connecting> [IPv6 ('::1', 9092, 0, 0)]>: Connection complete.\n",
      "2019-08-17 17:29:36,910.910.1419448852539:kafka.conn:139956971476736:INFO:1998:Broker version identifed as 1.0.0\n",
      "2019-08-17 17:29:36,911.911.7708206176758:kafka.conn:139956971476736:INFO:1998:Set configuration api_version=(1, 0, 0) to skip auto check_version requests on startup\n",
      "2019-08-17 17:29:36,915.915.3597354888916:kafka.producer.kafka:139956971476736:INFO:1998:Closing the Kafka producer with 0 secs timeout.\n",
      "2019-08-17 17:29:36,918.918.9760684967041:kafka.producer.kafka:139956971476736:INFO:1998:Proceeding to force close the producer since pending requests could not be completed within timeout 0.\n",
      "2019-08-17 17:29:36,920.920.8641052246094:kafka.conn:139956890081024:INFO:1998:<BrokerConnection node_id=0 host=ubuntu:9092 <connected> [IPv4 ('127.0.1.1', 9092)]>: Closing connection. \n"
     ]
    },
    {
     "name": "stdout",
     "output_type": "stream",
     "text": [
      "topic=my_topic partition=0 offset=2929: key=None value={'number_1': '6.030384339781536,49.132565562195964,-5.785201886858198,4.044561389321793,37.00058090599133'}\n"
     ]
    },
    {
     "name": "stderr",
     "output_type": "stream",
     "text": [
      "2019-08-17 17:29:36,925.925.1549243927002:kafka.conn:139956881688320:INFO:1998:<BrokerConnection node_id=0 host=ubuntu:9092 <connecting> [IPv4 ('127.0.1.1', 9092)]>: connecting to ubuntu:9092 [('127.0.1.1', 9092) IPv4]\n",
      "2019-08-17 17:29:36,927.927.649736404419:kafka.conn:139956881688320:INFO:1998:<BrokerConnection node_id=0 host=ubuntu:9092 <connecting> [IPv4 ('127.0.1.1', 9092)]>: Connection complete.\n",
      "2019-08-17 17:29:36,928.928.4520149230957:kafka.conn:139956971476736:INFO:1998:<BrokerConnection node_id=bootstrap-0 host=localhost:9092 <connecting> [IPv6 ('::1', 9092, 0, 0)]>: connecting to localhost:9092 [('::1', 9092, 0, 0) IPv6]\n",
      "2019-08-17 17:29:36,929.929.1033744812012:kafka.conn:139956881688320:INFO:1998:<BrokerConnection node_id=bootstrap-0 host=localhost:9092 <connected> [IPv6 ('::1', 9092, 0, 0)]>: Closing connection. \n",
      "2019-08-17 17:29:36,930.930.8545589447021:kafka.conn:139956971476736:INFO:1998:Probing node bootstrap-0 broker version\n"
     ]
    },
    {
     "name": "stdout",
     "output_type": "stream",
     "text": [
      "topic : result , partition : 0 , offset : 823\n"
     ]
    },
    {
     "name": "stderr",
     "output_type": "stream",
     "text": [
      "2019-08-17 17:29:36,935.935.8747005462646:kafka.conn:139956971476736:INFO:1998:<BrokerConnection node_id=bootstrap-0 host=localhost:9092 <connecting> [IPv6 ('::1', 9092, 0, 0)]>: Connection complete.\n",
      "2019-08-17 17:29:37,002.2.146482467651367:kafka.conn:139956971476736:INFO:2000:Broker version identifed as 1.0.0\n",
      "2019-08-17 17:29:37,003.3.7221908569335938:kafka.conn:139956971476736:INFO:2000:Set configuration api_version=(1, 0, 0) to skip auto check_version requests on startup\n",
      "2019-08-17 17:29:37,007.7.672786712646484:kafka.producer.kafka:139956971476736:INFO:2000:Closing the Kafka producer with 0 secs timeout.\n",
      "2019-08-17 17:29:37,011.11.37232780456543:kafka.producer.kafka:139956971476736:INFO:2000:Proceeding to force close the producer since pending requests could not be completed within timeout 0.\n",
      "2019-08-17 17:29:37,013.13.247966766357422:kafka.conn:139956890081024:INFO:2000:<BrokerConnection node_id=0 host=ubuntu:9092 <connected> [IPv4 ('127.0.1.1', 9092)]>: Closing connection. \n"
     ]
    },
    {
     "name": "stdout",
     "output_type": "stream",
     "text": [
      "topic=my-topic partition=0 offset=2330: key=None value={'number_2': '-17.96757737806662,-22.190478495627445,-2.950215671694865,-11.035270029737799,-10.653835861989247'}\n"
     ]
    },
    {
     "name": "stderr",
     "output_type": "stream",
     "text": [
      "2019-08-17 17:29:37,017.17.62247085571289:kafka.conn:139954529236736:INFO:2000:<BrokerConnection node_id=0 host=ubuntu:9092 <connecting> [IPv4 ('127.0.1.1', 9092)]>: connecting to ubuntu:9092 [('127.0.1.1', 9092) IPv4]\n",
      "2019-08-17 17:29:37,020.20.77031135559082:kafka.conn:139954529236736:INFO:2000:<BrokerConnection node_id=0 host=ubuntu:9092 <connecting> [IPv4 ('127.0.1.1', 9092)]>: Connection complete.\n",
      "2019-08-17 17:29:37,021.21.819591522216797:kafka.conn:139956971476736:INFO:2000:<BrokerConnection node_id=bootstrap-0 host=localhost:9092 <connecting> [IPv6 ('::1', 9092, 0, 0)]>: connecting to localhost:9092 [('::1', 9092, 0, 0) IPv6]\n",
      "2019-08-17 17:29:37,022.22.550582885742188:kafka.conn:139954529236736:INFO:2000:<BrokerConnection node_id=bootstrap-0 host=localhost:9092 <connected> [IPv6 ('::1', 9092, 0, 0)]>: Closing connection. \n",
      "2019-08-17 17:29:37,024.24.320363998413086:kafka.conn:139956971476736:INFO:2000:Probing node bootstrap-0 broker version\n"
     ]
    },
    {
     "name": "stdout",
     "output_type": "stream",
     "text": [
      "topic : result , partition : 0 , offset : 824\n"
     ]
    },
    {
     "name": "stderr",
     "output_type": "stream",
     "text": [
      "2019-08-17 17:29:37,029.29.89482879638672:kafka.conn:139956971476736:INFO:2000:<BrokerConnection node_id=bootstrap-0 host=localhost:9092 <connecting> [IPv6 ('::1', 9092, 0, 0)]>: Connection complete.\n",
      "2019-08-17 17:29:37,040.40.52233695983887:kafka.conn:139956971476736:INFO:1998:Broker version identifed as 1.0.0\n",
      "2019-08-17 17:29:37,042.42.04392433166504:kafka.conn:139956971476736:INFO:1998:Set configuration api_version=(1, 0, 0) to skip auto check_version requests on startup\n",
      "2019-08-17 17:29:37,045.45.738935470581055:kafka.producer.kafka:139956971476736:INFO:1998:Closing the Kafka producer with 0 secs timeout.\n",
      "2019-08-17 17:29:37,049.49.93772506713867:kafka.producer.kafka:139956971476736:INFO:1998:Proceeding to force close the producer since pending requests could not be completed within timeout 0.\n",
      "2019-08-17 17:29:37,051.51.86033248901367:kafka.conn:139956881688320:INFO:1998:<BrokerConnection node_id=0 host=ubuntu:9092 <connected> [IPv4 ('127.0.1.1', 9092)]>: Closing connection. \n"
     ]
    },
    {
     "name": "stdout",
     "output_type": "stream",
     "text": [
      "topic=my_topic partition=0 offset=2930: key=None value={'number_1': '-13.241011938129038,45.659861828553574,5.913217575270695,15.475466601021827,-16.078063387284516'}\n"
     ]
    },
    {
     "name": "stderr",
     "output_type": "stream",
     "text": [
      "2019-08-17 17:29:37,056.56.37717247009277:kafka.conn:139956890081024:INFO:1998:<BrokerConnection node_id=0 host=ubuntu:9092 <connecting> [IPv4 ('127.0.1.1', 9092)]>: connecting to ubuntu:9092 [('127.0.1.1', 9092) IPv4]\n",
      "2019-08-17 17:29:37,058.58.82143974304199:kafka.conn:139956971476736:INFO:1998:<BrokerConnection node_id=bootstrap-0 host=localhost:9092 <connecting> [IPv6 ('::1', 9092, 0, 0)]>: connecting to localhost:9092 [('::1', 9092, 0, 0) IPv6]\n",
      "2019-08-17 17:29:37,060.60.166358947753906:kafka.conn:139956890081024:INFO:1998:<BrokerConnection node_id=0 host=ubuntu:9092 <connecting> [IPv4 ('127.0.1.1', 9092)]>: Connection complete.\n",
      "2019-08-17 17:29:37,060.60.926198959350586:kafka.conn:139956971476736:INFO:1998:Probing node bootstrap-0 broker version\n",
      "2019-08-17 17:29:37,062.62.40105628967285:kafka.conn:139956890081024:INFO:1998:<BrokerConnection node_id=bootstrap-0 host=localhost:9092 <connected> [IPv6 ('::1', 9092, 0, 0)]>: Closing connection. \n",
      "2019-08-17 17:29:37,064.64.22066688537598:kafka.conn:139956971476736:INFO:1998:<BrokerConnection node_id=bootstrap-0 host=localhost:9092 <connecting> [IPv6 ('::1', 9092, 0, 0)]>: Connection complete.\n"
     ]
    },
    {
     "name": "stdout",
     "output_type": "stream",
     "text": [
      "topic : result , partition : 0 , offset : 825\n"
     ]
    },
    {
     "name": "stderr",
     "output_type": "stream",
     "text": [
      "2019-08-17 17:29:37,134.134.82141494750977:kafka.conn:139956971476736:INFO:2000:Broker version identifed as 1.0.0\n",
      "2019-08-17 17:29:37,136.136.41095161437988:kafka.conn:139956971476736:INFO:2000:Set configuration api_version=(1, 0, 0) to skip auto check_version requests on startup\n",
      "2019-08-17 17:29:37,140.140.3803825378418:kafka.producer.kafka:139956971476736:INFO:2000:Closing the Kafka producer with 0 secs timeout.\n",
      "2019-08-17 17:29:37,145.145.67899703979492:kafka.producer.kafka:139956971476736:INFO:2000:Proceeding to force close the producer since pending requests could not be completed within timeout 0.\n",
      "2019-08-17 17:29:37,147.147.57394790649414:kafka.conn:139954529236736:INFO:2000:<BrokerConnection node_id=0 host=ubuntu:9092 <connected> [IPv4 ('127.0.1.1', 9092)]>: Closing connection. \n"
     ]
    },
    {
     "name": "stdout",
     "output_type": "stream",
     "text": [
      "topic=my-topic partition=0 offset=2331: key=None value={'number_2': '-14.072045843934564,2.561886756712516,-0.17211111739019277,2.031595091182852,-8.37122330552315'}\n"
     ]
    },
    {
     "name": "stderr",
     "output_type": "stream",
     "text": [
      "2019-08-17 17:29:37,151.151.84426307678223:kafka.conn:139954520844032:INFO:2000:<BrokerConnection node_id=0 host=ubuntu:9092 <connecting> [IPv4 ('127.0.1.1', 9092)]>: connecting to ubuntu:9092 [('127.0.1.1', 9092) IPv4]\n",
      "2019-08-17 17:29:37,154.154.17957305908203:kafka.conn:139956971476736:INFO:2000:<BrokerConnection node_id=bootstrap-0 host=localhost:9092 <connecting> [IPv6 ('::1', 9092, 0, 0)]>: connecting to localhost:9092 [('::1', 9092, 0, 0) IPv6]\n",
      "2019-08-17 17:29:37,155.155.37309646606445:kafka.conn:139954520844032:INFO:2000:<BrokerConnection node_id=0 host=ubuntu:9092 <connecting> [IPv4 ('127.0.1.1', 9092)]>: Connection complete.\n",
      "2019-08-17 17:29:37,156.156.0990810394287:kafka.conn:139956971476736:INFO:2000:Probing node bootstrap-0 broker version\n",
      "2019-08-17 17:29:37,157.157.7017307281494:kafka.conn:139954520844032:INFO:2000:<BrokerConnection node_id=bootstrap-0 host=localhost:9092 <connected> [IPv6 ('::1', 9092, 0, 0)]>: Closing connection. \n",
      "2019-08-17 17:29:37,159.159.5003604888916:kafka.conn:139956971476736:INFO:2000:<BrokerConnection node_id=bootstrap-0 host=localhost:9092 <connecting> [IPv6 ('::1', 9092, 0, 0)]>: Connection complete.\n"
     ]
    },
    {
     "name": "stdout",
     "output_type": "stream",
     "text": [
      "topic : result , partition : 0 , offset : 826\n"
     ]
    },
    {
     "name": "stderr",
     "output_type": "stream",
     "text": [
      "2019-08-17 17:29:37,172.172.27554321289062:kafka.conn:139956971476736:INFO:1998:Broker version identifed as 1.0.0\n",
      "2019-08-17 17:29:37,174.174.02076721191406:kafka.conn:139956971476736:INFO:1998:Set configuration api_version=(1, 0, 0) to skip auto check_version requests on startup\n",
      "2019-08-17 17:29:37,177.177.3672103881836:kafka.producer.kafka:139956971476736:INFO:1998:Closing the Kafka producer with 0 secs timeout.\n",
      "2019-08-17 17:29:37,183.183.0270290374756:kafka.producer.kafka:139956971476736:INFO:1998:Proceeding to force close the producer since pending requests could not be completed within timeout 0.\n",
      "2019-08-17 17:29:37,185.185.01663208007812:kafka.conn:139956890081024:INFO:1998:<BrokerConnection node_id=0 host=ubuntu:9092 <connected> [IPv4 ('127.0.1.1', 9092)]>: Closing connection. \n"
     ]
    },
    {
     "name": "stdout",
     "output_type": "stream",
     "text": [
      "topic=my_topic partition=0 offset=2931: key=None value={'number_1': '28.30111862477495,-15.239734901612799,-0.2567918868132253,22.935423191709106,1.5434522000837898'}\n"
     ]
    },
    {
     "name": "stderr",
     "output_type": "stream",
     "text": [
      "2019-08-17 17:29:37,189.189.03851509094238:kafka.conn:139954529236736:INFO:1998:<BrokerConnection node_id=0 host=ubuntu:9092 <connecting> [IPv4 ('127.0.1.1', 9092)]>: connecting to ubuntu:9092 [('127.0.1.1', 9092) IPv4]\n",
      "2019-08-17 17:29:37,193.193.30811500549316:kafka.conn:139956971476736:INFO:1998:<BrokerConnection node_id=bootstrap-0 host=localhost:9092 <connecting> [IPv6 ('::1', 9092, 0, 0)]>: connecting to localhost:9092 [('::1', 9092, 0, 0) IPv6]\n",
      "2019-08-17 17:29:37,194.194.6563720703125:kafka.conn:139954529236736:INFO:1998:<BrokerConnection node_id=0 host=ubuntu:9092 <connecting> [IPv4 ('127.0.1.1', 9092)]>: Connection complete.\n",
      "2019-08-17 17:29:37,195.195.3573226928711:kafka.conn:139956971476736:INFO:1998:Probing node bootstrap-0 broker version\n",
      "2019-08-17 17:29:37,196.196.81620597839355:kafka.conn:139954529236736:INFO:1998:<BrokerConnection node_id=bootstrap-0 host=localhost:9092 <connected> [IPv6 ('::1', 9092, 0, 0)]>: Closing connection. \n",
      "2019-08-17 17:29:37,199.199.41186904907227:kafka.conn:139956971476736:INFO:1998:<BrokerConnection node_id=bootstrap-0 host=localhost:9092 <connecting> [IPv6 ('::1', 9092, 0, 0)]>: Connection complete.\n"
     ]
    },
    {
     "name": "stdout",
     "output_type": "stream",
     "text": [
      "topic : result , partition : 0 , offset : 827\n"
     ]
    },
    {
     "name": "stderr",
     "output_type": "stream",
     "text": [
      "2019-08-17 17:29:37,266.266.035795211792:kafka.conn:139956971476736:INFO:2000:Broker version identifed as 1.0.0\n",
      "2019-08-17 17:29:37,267.267.47703552246094:kafka.conn:139956971476736:INFO:2000:Set configuration api_version=(1, 0, 0) to skip auto check_version requests on startup\n",
      "2019-08-17 17:29:37,270.270.6494331359863:kafka.producer.kafka:139956971476736:INFO:2000:Closing the Kafka producer with 0 secs timeout.\n",
      "2019-08-17 17:29:37,274.274.60527420043945:kafka.producer.kafka:139956971476736:INFO:2000:Proceeding to force close the producer since pending requests could not be completed within timeout 0.\n",
      "2019-08-17 17:29:37,276.276.57365798950195:kafka.conn:139954520844032:INFO:2000:<BrokerConnection node_id=0 host=ubuntu:9092 <connected> [IPv4 ('127.0.1.1', 9092)]>: Closing connection. \n"
     ]
    },
    {
     "name": "stdout",
     "output_type": "stream",
     "text": [
      "topic=my-topic partition=0 offset=2332: key=None value={'number_2': '12.240448695162549,16.275373321154483,1.7740751922094586,-4.9044077181213765,-6.220447743176751'}\n"
     ]
    },
    {
     "name": "stderr",
     "output_type": "stream",
     "text": [
      "2019-08-17 17:29:37,282.282.38749504089355:kafka.conn:139954529236736:INFO:2000:<BrokerConnection node_id=0 host=ubuntu:9092 <connecting> [IPv4 ('127.0.1.1', 9092)]>: connecting to ubuntu:9092 [('127.0.1.1', 9092) IPv4]\n",
      "2019-08-17 17:29:37,283.283.43868255615234:kafka.conn:139956971476736:INFO:2000:<BrokerConnection node_id=bootstrap-0 host=localhost:9092 <connecting> [IPv6 ('::1', 9092, 0, 0)]>: connecting to localhost:9092 [('::1', 9092, 0, 0) IPv6]\n",
      "2019-08-17 17:29:37,284.284.8324775695801:kafka.conn:139954529236736:INFO:2000:<BrokerConnection node_id=0 host=ubuntu:9092 <connecting> [IPv4 ('127.0.1.1', 9092)]>: Connection complete.\n",
      "2019-08-17 17:29:37,286.286.6497039794922:kafka.conn:139956971476736:INFO:2000:Probing node bootstrap-0 broker version\n",
      "2019-08-17 17:29:37,288.288.2068157196045:kafka.conn:139954529236736:INFO:2000:<BrokerConnection node_id=bootstrap-0 host=localhost:9092 <connected> [IPv6 ('::1', 9092, 0, 0)]>: Closing connection. \n",
      "2019-08-17 17:29:37,290.290.255069732666:kafka.conn:139956971476736:INFO:2000:<BrokerConnection node_id=bootstrap-0 host=localhost:9092 <connecting> [IPv6 ('::1', 9092, 0, 0)]>: Connection complete.\n"
     ]
    },
    {
     "name": "stdout",
     "output_type": "stream",
     "text": [
      "topic : result , partition : 0 , offset : 828\n"
     ]
    },
    {
     "name": "stderr",
     "output_type": "stream",
     "text": [
      "2019-08-17 17:29:37,306.306.7004680633545:kafka.conn:139956971476736:INFO:1998:Broker version identifed as 1.0.0\n",
      "2019-08-17 17:29:37,308.308.5658550262451:kafka.conn:139956971476736:INFO:1998:Set configuration api_version=(1, 0, 0) to skip auto check_version requests on startup\n",
      "2019-08-17 17:29:37,312.312.899112701416:kafka.producer.kafka:139956971476736:INFO:1998:Closing the Kafka producer with 0 secs timeout.\n",
      "2019-08-17 17:29:37,316.316.53571128845215:kafka.producer.kafka:139956971476736:INFO:1998:Proceeding to force close the producer since pending requests could not be completed within timeout 0.\n",
      "2019-08-17 17:29:37,318.318.44353675842285:kafka.conn:139954529236736:INFO:1998:<BrokerConnection node_id=0 host=ubuntu:9092 <connected> [IPv4 ('127.0.1.1', 9092)]>: Closing connection. \n"
     ]
    },
    {
     "name": "stdout",
     "output_type": "stream",
     "text": [
      "topic=my_topic partition=0 offset=2932: key=None value={'number_1': '27.14488406735817,4.897264898459936,-19.698474997393497,8.68894165460363,11.83602543642193'}\n"
     ]
    },
    {
     "name": "stderr",
     "output_type": "stream",
     "text": [
      "2019-08-17 17:29:37,322.322.8940963745117:kafka.conn:139956881688320:INFO:1998:<BrokerConnection node_id=0 host=ubuntu:9092 <connecting> [IPv4 ('127.0.1.1', 9092)]>: connecting to ubuntu:9092 [('127.0.1.1', 9092) IPv4]\n",
      "2019-08-17 17:29:37,325.325.3629207611084:kafka.conn:139956971476736:INFO:1998:<BrokerConnection node_id=bootstrap-0 host=localhost:9092 <connecting> [IPv6 ('::1', 9092, 0, 0)]>: connecting to localhost:9092 [('::1', 9092, 0, 0) IPv6]\n",
      "2019-08-17 17:29:37,326.326.951265335083:kafka.conn:139956881688320:INFO:1998:<BrokerConnection node_id=0 host=ubuntu:9092 <connecting> [IPv4 ('127.0.1.1', 9092)]>: Connection complete.\n",
      "2019-08-17 17:29:37,327.327.55041122436523:kafka.conn:139956971476736:INFO:1998:Probing node bootstrap-0 broker version\n",
      "2019-08-17 17:29:37,329.329.6034336090088:kafka.conn:139956881688320:INFO:1998:<BrokerConnection node_id=bootstrap-0 host=localhost:9092 <connected> [IPv6 ('::1', 9092, 0, 0)]>: Closing connection. \n",
      "2019-08-17 17:29:37,331.331.3930034637451:kafka.conn:139956971476736:INFO:1998:<BrokerConnection node_id=bootstrap-0 host=localhost:9092 <connecting> [IPv6 ('::1', 9092, 0, 0)]>: Connection complete.\n"
     ]
    },
    {
     "name": "stdout",
     "output_type": "stream",
     "text": [
      "topic : result , partition : 0 , offset : 829\n"
     ]
    },
    {
     "name": "stderr",
     "output_type": "stream",
     "text": [
      "2019-08-17 17:29:37,398.398.47683906555176:kafka.conn:139956971476736:INFO:2000:Broker version identifed as 1.0.0\n",
      "2019-08-17 17:29:37,400.400.1650810241699:kafka.conn:139956971476736:INFO:2000:Set configuration api_version=(1, 0, 0) to skip auto check_version requests on startup\n",
      "2019-08-17 17:29:37,404.404.40964698791504:kafka.producer.kafka:139956971476736:INFO:2000:Closing the Kafka producer with 0 secs timeout.\n",
      "2019-08-17 17:29:37,408.408.32972526550293:kafka.producer.kafka:139956971476736:INFO:2000:Proceeding to force close the producer since pending requests could not be completed within timeout 0.\n",
      "2019-08-17 17:29:37,410.410.3426933288574:kafka.conn:139954529236736:INFO:2000:<BrokerConnection node_id=0 host=ubuntu:9092 <connected> [IPv4 ('127.0.1.1', 9092)]>: Closing connection. \n"
     ]
    },
    {
     "name": "stdout",
     "output_type": "stream",
     "text": [
      "topic=my-topic partition=0 offset=2333: key=None value={'number_2': '1.9063806653255315,-13.750603191846393,16.833089454995978,-10.374381055702372,6.606555460336207'}\n"
     ]
    },
    {
     "name": "stderr",
     "output_type": "stream",
     "text": [
      "2019-08-17 17:29:37,415.415.03095626831055:kafka.conn:139954520844032:INFO:2000:<BrokerConnection node_id=0 host=ubuntu:9092 <connecting> [IPv4 ('127.0.1.1', 9092)]>: connecting to ubuntu:9092 [('127.0.1.1', 9092) IPv4]\n",
      "2019-08-17 17:29:37,417.417.12164878845215:kafka.conn:139956971476736:INFO:2000:<BrokerConnection node_id=bootstrap-0 host=localhost:9092 <connecting> [IPv6 ('::1', 9092, 0, 0)]>: connecting to localhost:9092 [('::1', 9092, 0, 0) IPv6]\n",
      "2019-08-17 17:29:37,419.419.09193992614746:kafka.conn:139954520844032:INFO:2000:<BrokerConnection node_id=0 host=ubuntu:9092 <connecting> [IPv4 ('127.0.1.1', 9092)]>: Connection complete.\n",
      "2019-08-17 17:29:37,419.419.6157455444336:kafka.conn:139956971476736:INFO:2000:Probing node bootstrap-0 broker version\n",
      "2019-08-17 17:29:37,421.421.3368892669678:kafka.conn:139954520844032:INFO:2000:<BrokerConnection node_id=bootstrap-0 host=localhost:9092 <connected> [IPv6 ('::1', 9092, 0, 0)]>: Closing connection. \n",
      "2019-08-17 17:29:37,423.423.4130382537842:kafka.conn:139956971476736:INFO:2000:<BrokerConnection node_id=bootstrap-0 host=localhost:9092 <connecting> [IPv6 ('::1', 9092, 0, 0)]>: Connection complete.\n"
     ]
    },
    {
     "name": "stdout",
     "output_type": "stream",
     "text": [
      "topic : result , partition : 0 , offset : 830\n"
     ]
    },
    {
     "name": "stderr",
     "output_type": "stream",
     "text": [
      "2019-08-17 17:29:37,439.439.3572807312012:kafka.conn:139956971476736:INFO:1998:Broker version identifed as 1.0.0\n",
      "2019-08-17 17:29:37,441.441.00475311279297:kafka.conn:139956971476736:INFO:1998:Set configuration api_version=(1, 0, 0) to skip auto check_version requests on startup\n",
      "2019-08-17 17:29:37,444.444.84710693359375:kafka.producer.kafka:139956971476736:INFO:1998:Closing the Kafka producer with 0 secs timeout.\n",
      "2019-08-17 17:29:37,448.448.6696720123291:kafka.producer.kafka:139956971476736:INFO:1998:Proceeding to force close the producer since pending requests could not be completed within timeout 0.\n",
      "2019-08-17 17:29:37,450.450.46257972717285:kafka.conn:139956881688320:INFO:1998:<BrokerConnection node_id=0 host=ubuntu:9092 <connected> [IPv4 ('127.0.1.1', 9092)]>: Closing connection. \n"
     ]
    },
    {
     "name": "stdout",
     "output_type": "stream",
     "text": [
      "topic=my_topic partition=0 offset=2933: key=None value={'number_1': '0.875340455893518,-6.709173730813017,31.399402995416104,-0.9648633855374058,34.43274700645168'}\n"
     ]
    },
    {
     "name": "stderr",
     "output_type": "stream",
     "text": [
      "2019-08-17 17:29:37,455.455.74331283569336:kafka.conn:139954529236736:INFO:1998:<BrokerConnection node_id=0 host=ubuntu:9092 <connecting> [IPv4 ('127.0.1.1', 9092)]>: connecting to ubuntu:9092 [('127.0.1.1', 9092) IPv4]\n",
      "2019-08-17 17:29:37,456.456.7403793334961:kafka.conn:139956971476736:INFO:1998:<BrokerConnection node_id=bootstrap-0 host=localhost:9092 <connecting> [IPv6 ('::1', 9092, 0, 0)]>: connecting to localhost:9092 [('::1', 9092, 0, 0) IPv6]\n",
      "2019-08-17 17:29:37,458.458.45651626586914:kafka.conn:139954529236736:INFO:1998:<BrokerConnection node_id=0 host=ubuntu:9092 <connecting> [IPv4 ('127.0.1.1', 9092)]>: Connection complete.\n",
      "2019-08-17 17:29:37,459.459.05494689941406:kafka.conn:139956971476736:INFO:1998:Probing node bootstrap-0 broker version\n",
      "2019-08-17 17:29:37,460.460.54768562316895:kafka.conn:139954529236736:INFO:1998:<BrokerConnection node_id=bootstrap-0 host=localhost:9092 <connected> [IPv6 ('::1', 9092, 0, 0)]>: Closing connection. \n",
      "2019-08-17 17:29:37,462.462.2526168823242:kafka.conn:139956971476736:INFO:1998:<BrokerConnection node_id=bootstrap-0 host=localhost:9092 <connecting> [IPv6 ('::1', 9092, 0, 0)]>: Connection complete.\n"
     ]
    },
    {
     "name": "stdout",
     "output_type": "stream",
     "text": [
      "topic : result , partition : 0 , offset : 831\n"
     ]
    },
    {
     "name": "stderr",
     "output_type": "stream",
     "text": [
      "2019-08-17 17:29:37,531.531.623125076294:kafka.conn:139956971476736:INFO:2000:Broker version identifed as 1.0.0\n",
      "2019-08-17 17:29:37,533.533.2431793212891:kafka.conn:139956971476736:INFO:2000:Set configuration api_version=(1, 0, 0) to skip auto check_version requests on startup\n",
      "2019-08-17 17:29:37,537.537.4143123626709:kafka.producer.kafka:139956971476736:INFO:2000:Closing the Kafka producer with 0 secs timeout.\n",
      "2019-08-17 17:29:37,542.542.3846244812012:kafka.producer.kafka:139956971476736:INFO:2000:Proceeding to force close the producer since pending requests could not be completed within timeout 0.\n",
      "2019-08-17 17:29:37,544.544.5399284362793:kafka.conn:139954520844032:INFO:2000:<BrokerConnection node_id=0 host=ubuntu:9092 <connected> [IPv4 ('127.0.1.1', 9092)]>: Closing connection. \n",
      "2019-08-17 17:29:37,548.548.3975410461426:kafka.conn:139954529236736:INFO:2000:<BrokerConnection node_id=0 host=ubuntu:9092 <connecting> [IPv4 ('127.0.1.1', 9092)]>: connecting to ubuntu:9092 [('127.0.1.1', 9092) IPv4]\n",
      "2019-08-17 17:29:37,551.551.1221885681152:kafka.conn:139954529236736:INFO:2000:<BrokerConnection node_id=0 host=ubuntu:9092 <connecting> [IPv4 ('127.0.1.1', 9092)]>: Connection complete.\n",
      "2019-08-17 17:29:37,552.552.7615547180176:kafka.conn:139954529236736:INFO:2000:<BrokerConnection node_id=bootstrap-0 host=localhost:9092 <connected> [IPv6 ('::1', 9092, 0, 0)]>: Closing connection. \n"
     ]
    },
    {
     "name": "stdout",
     "output_type": "stream",
     "text": [
      "topic : result , partition : 0 , offset : 832\n"
     ]
    },
    {
     "name": "stderr",
     "output_type": "stream",
     "text": [
      "2019-08-17 17:29:37,570.570.5347061157227:kafka.conn:139956971476736:INFO:1998:Broker version identifed as 1.0.0\n",
      "2019-08-17 17:29:37,572.572.1194744110107:kafka.conn:139956971476736:INFO:1998:Set configuration api_version=(1, 0, 0) to skip auto check_version requests on startup\n",
      "2019-08-17 17:29:37,575.575.9792327880859:kafka.producer.kafka:139956971476736:INFO:1998:Closing the Kafka producer with 0 secs timeout.\n",
      "2019-08-17 17:29:37,581.581.3040733337402:kafka.producer.kafka:139956971476736:INFO:1998:Proceeding to force close the producer since pending requests could not be completed within timeout 0.\n",
      "2019-08-17 17:29:37,583.583.2693576812744:kafka.conn:139954529236736:INFO:1998:<BrokerConnection node_id=0 host=ubuntu:9092 <connected> [IPv4 ('127.0.1.1', 9092)]>: Closing connection. \n"
     ]
    },
    {
     "name": "stdout",
     "output_type": "stream",
     "text": [
      "topic=my_topic partition=0 offset=2934: key=None value={'number_1': '4.44703019776192,-11.54484445624345,-6.947968499692514,33.75786096157313,28.044455124460118'}\n"
     ]
    },
    {
     "name": "stderr",
     "output_type": "stream",
     "text": [
      "2019-08-17 17:29:37,588.588.6096954345703:kafka.conn:139956881688320:INFO:1998:<BrokerConnection node_id=0 host=ubuntu:9092 <connecting> [IPv4 ('127.0.1.1', 9092)]>: connecting to ubuntu:9092 [('127.0.1.1', 9092) IPv4]\n",
      "2019-08-17 17:29:37,591.591.1056995391846:kafka.conn:139956971476736:INFO:1998:<BrokerConnection node_id=bootstrap-0 host=localhost:9092 <connecting> [IPv6 ('::1', 9092, 0, 0)]>: connecting to localhost:9092 [('::1', 9092, 0, 0) IPv6]\n",
      "2019-08-17 17:29:37,592.592.536211013794:kafka.conn:139956881688320:INFO:1998:<BrokerConnection node_id=0 host=ubuntu:9092 <connecting> [IPv4 ('127.0.1.1', 9092)]>: Connection complete.\n",
      "2019-08-17 17:29:37,593.593.4734344482422:kafka.conn:139956971476736:INFO:1998:Probing node bootstrap-0 broker version\n",
      "2019-08-17 17:29:37,595.595.0093269348145:kafka.conn:139956881688320:INFO:1998:<BrokerConnection node_id=bootstrap-0 host=localhost:9092 <connected> [IPv6 ('::1', 9092, 0, 0)]>: Closing connection. \n",
      "2019-08-17 17:29:37,596.596.9197750091553:kafka.conn:139956971476736:INFO:1998:<BrokerConnection node_id=bootstrap-0 host=localhost:9092 <connecting> [IPv6 ('::1', 9092, 0, 0)]>: Connection complete.\n"
     ]
    },
    {
     "name": "stdout",
     "output_type": "stream",
     "text": [
      "topic=my-topic partition=0 offset=2334: key=None value={'number_2': '-10.97512163743405,11.233916413104444,-17.752211728663198,-4.72284355792773,-5.68412192427467'}\n",
      "topic : result , partition : 0 , offset : 833\n"
     ]
    },
    {
     "name": "stderr",
     "output_type": "stream",
     "text": [
      "2019-08-17 17:29:37,602.602.4155616760254:kafka.conn:139956971476736:INFO:2000:<BrokerConnection node_id=bootstrap-0 host=localhost:9092 <connecting> [IPv6 ('::1', 9092, 0, 0)]>: connecting to localhost:9092 [('::1', 9092, 0, 0) IPv6]\n",
      "2019-08-17 17:29:37,604.604.0687561035156:kafka.conn:139956971476736:INFO:2000:Probing node bootstrap-0 broker version\n",
      "2019-08-17 17:29:37,605.605.8180332183838:kafka.conn:139956971476736:INFO:2000:<BrokerConnection node_id=bootstrap-0 host=localhost:9092 <connecting> [IPv6 ('::1', 9092, 0, 0)]>: Connection complete.\n",
      "2019-08-17 17:29:37,703.703.6843299865723:kafka.conn:139956971476736:INFO:1998:Broker version identifed as 1.0.0\n",
      "2019-08-17 17:29:37,705.705.2552700042725:kafka.conn:139956971476736:INFO:1998:Set configuration api_version=(1, 0, 0) to skip auto check_version requests on startup\n",
      "2019-08-17 17:29:37,710.710.3462219238281:kafka.conn:139956971476736:INFO:2000:Broker version identifed as 1.0.0\n",
      "2019-08-17 17:29:37,711.711.9648456573486:kafka.conn:139956971476736:INFO:2000:Set configuration api_version=(1, 0, 0) to skip auto check_version requests on startup\n",
      "2019-08-17 17:29:37,825.825.1354694366455:kafka.producer.kafka:139956971476736:INFO:1998:Closing the Kafka producer with 0 secs timeout.\n",
      "2019-08-17 17:29:37,828.828.6399841308594:kafka.producer.kafka:139956971476736:INFO:1998:Proceeding to force close the producer since pending requests could not be completed within timeout 0.\n",
      "2019-08-17 17:29:37,828.828.9525508880615:kafka.producer.kafka:139956971476736:INFO:2000:Closing the Kafka producer with 0 secs timeout.\n",
      "2019-08-17 17:29:37,830.830.3382396697998:kafka.conn:139956881688320:INFO:1998:<BrokerConnection node_id=0 host=ubuntu:9092 <connected> [IPv4 ('127.0.1.1', 9092)]>: Closing connection. \n",
      "2019-08-17 17:29:37,832.832.7510356903076:kafka.producer.kafka:139956971476736:INFO:2000:Proceeding to force close the producer since pending requests could not be completed within timeout 0.\n"
     ]
    },
    {
     "name": "stdout",
     "output_type": "stream",
     "text": [
      "topic=my_topic partition=0 offset=2935: key=None value={'number_1': '68.62661871537645,30.05191262059167,37.35001046732587,-14.222784264290986,0.4272830021933842'}\n"
     ]
    },
    {
     "name": "stderr",
     "output_type": "stream",
     "text": [
      "2019-08-17 17:29:37,834.834.5818519592285:kafka.conn:139954529236736:INFO:2000:<BrokerConnection node_id=0 host=ubuntu:9092 <connected> [IPv4 ('127.0.1.1', 9092)]>: Closing connection. \n",
      "2019-08-17 17:29:37,834.834.3448638916016:kafka.conn:139954529236736:INFO:1998:<BrokerConnection node_id=0 host=ubuntu:9092 <connecting> [IPv4 ('127.0.1.1', 9092)]>: connecting to ubuntu:9092 [('127.0.1.1', 9092) IPv4]\n",
      "2019-08-17 17:29:37,836.836.784839630127:kafka.conn:139956971476736:INFO:1998:<BrokerConnection node_id=bootstrap-0 host=localhost:9092 <connecting> [IPv6 ('::1', 9092, 0, 0)]>: connecting to localhost:9092 [('::1', 9092, 0, 0) IPv6]\n"
     ]
    },
    {
     "name": "stdout",
     "output_type": "stream",
     "text": [
      "topic=my-topic partition=0 offset=2335: key=None value={'number_2': '6.87790710469927,9.117274786889139,6.252505036724676,-8.86419643348853,-8.547846090980627'}\n"
     ]
    },
    {
     "name": "stderr",
     "output_type": "stream",
     "text": [
      "2019-08-17 17:29:37,838.838.0866050720215:kafka.conn:139954529236736:INFO:1998:<BrokerConnection node_id=0 host=ubuntu:9092 <connecting> [IPv4 ('127.0.1.1', 9092)]>: Connection complete.\n",
      "2019-08-17 17:29:37,838.838.8299942016602:kafka.conn:139954520844032:INFO:2000:<BrokerConnection node_id=0 host=ubuntu:9092 <connecting> [IPv4 ('127.0.1.1', 9092)]>: connecting to ubuntu:9092 [('127.0.1.1', 9092) IPv4]\n",
      "2019-08-17 17:29:37,838.838.7537002563477:kafka.conn:139956971476736:INFO:1998:Probing node bootstrap-0 broker version\n",
      "2019-08-17 17:29:37,841.841.2270545959473:kafka.conn:139956971476736:INFO:2000:<BrokerConnection node_id=bootstrap-0 host=localhost:9092 <connecting> [IPv6 ('::1', 9092, 0, 0)]>: connecting to localhost:9092 [('::1', 9092, 0, 0) IPv6]\n",
      "2019-08-17 17:29:37,840.840.1534557342529:kafka.conn:139954529236736:INFO:1998:<BrokerConnection node_id=bootstrap-0 host=localhost:9092 <connected> [IPv6 ('::1', 9092, 0, 0)]>: Closing connection. \n",
      "2019-08-17 17:29:37,841.841.8495655059814:kafka.conn:139954520844032:INFO:2000:<BrokerConnection node_id=0 host=ubuntu:9092 <connecting> [IPv4 ('127.0.1.1', 9092)]>: Connection complete.\n",
      "2019-08-17 17:29:37,841.841.9070243835449:kafka.conn:139956971476736:INFO:1998:<BrokerConnection node_id=bootstrap-0 host=localhost:9092 <connecting> [IPv6 ('::1', 9092, 0, 0)]>: Connection complete.\n",
      "2019-08-17 17:29:37,843.843.320369720459:kafka.conn:139956971476736:INFO:2000:Probing node bootstrap-0 broker version\n",
      "2019-08-17 17:29:37,844.844.7363376617432:kafka.conn:139954520844032:INFO:2000:<BrokerConnection node_id=bootstrap-0 host=localhost:9092 <connected> [IPv6 ('::1', 9092, 0, 0)]>: Closing connection. \n"
     ]
    },
    {
     "name": "stdout",
     "output_type": "stream",
     "text": [
      "topic : result , partition : 0 , offset : 834\n"
     ]
    },
    {
     "name": "stderr",
     "output_type": "stream",
     "text": [
      "2019-08-17 17:29:37,847.847.1956253051758:kafka.conn:139956971476736:INFO:2000:<BrokerConnection node_id=bootstrap-0 host=localhost:9092 <connecting> [IPv6 ('::1', 9092, 0, 0)]>: Connection complete.\n"
     ]
    },
    {
     "name": "stdout",
     "output_type": "stream",
     "text": [
      "topic : result , partition : 0 , offset : 835\n"
     ]
    },
    {
     "name": "stderr",
     "output_type": "stream",
     "text": [
      "2019-08-17 17:29:37,950.950.0699043273926:kafka.conn:139956971476736:INFO:1998:Broker version identifed as 1.0.0\n",
      "2019-08-17 17:29:37,951.951.6615867614746:kafka.conn:139956971476736:INFO:1998:Set configuration api_version=(1, 0, 0) to skip auto check_version requests on startup\n",
      "2019-08-17 17:29:37,954.954.6627998352051:kafka.conn:139956971476736:INFO:2000:Broker version identifed as 1.0.0\n",
      "2019-08-17 17:29:37,956.956.230878829956:kafka.conn:139956971476736:INFO:2000:Set configuration api_version=(1, 0, 0) to skip auto check_version requests on startup\n",
      "2019-08-17 17:29:37,956.956.0151100158691:kafka.producer.kafka:139956971476736:INFO:1998:Closing the Kafka producer with 0 secs timeout.\n",
      "2019-08-17 17:29:37,959.959.7487449645996:kafka.producer.kafka:139956971476736:INFO:1998:Proceeding to force close the producer since pending requests could not be completed within timeout 0.\n",
      "2019-08-17 17:29:37,960.960.3033065795898:kafka.producer.kafka:139956971476736:INFO:2000:Closing the Kafka producer with 0 secs timeout.\n",
      "2019-08-17 17:29:37,961.961.7424011230469:kafka.conn:139954529236736:INFO:1998:<BrokerConnection node_id=0 host=ubuntu:9092 <connected> [IPv4 ('127.0.1.1', 9092)]>: Closing connection. \n",
      "2019-08-17 17:29:37,963.963.615894317627:kafka.producer.kafka:139956971476736:INFO:2000:Proceeding to force close the producer since pending requests could not be completed within timeout 0.\n"
     ]
    },
    {
     "name": "stdout",
     "output_type": "stream",
     "text": [
      "topic=my_topic partition=0 offset=2936: key=None value={'number_1': '27.153254144746462,12.22464393048661,0.8254978063811684,-9.277971331492822,55.77782733465432'}\n"
     ]
    },
    {
     "name": "stderr",
     "output_type": "stream",
     "text": [
      "2019-08-17 17:29:37,965.965.484619140625:kafka.conn:139954520844032:INFO:2000:<BrokerConnection node_id=0 host=ubuntu:9092 <connected> [IPv4 ('127.0.1.1', 9092)]>: Closing connection. \n",
      "2019-08-17 17:29:37,966.966.0334587097168:kafka.conn:139956881688320:INFO:1998:<BrokerConnection node_id=0 host=ubuntu:9092 <connecting> [IPv4 ('127.0.1.1', 9092)]>: connecting to ubuntu:9092 [('127.0.1.1', 9092) IPv4]\n"
     ]
    },
    {
     "name": "stdout",
     "output_type": "stream",
     "text": [
      "topic=my-topic partition=0 offset=2336: key=None value={'number_2': '5.201160375676304,5.626639701072914,-9.156193067027928,-23.249255055917104,-1.372945717138876'}\n"
     ]
    },
    {
     "name": "stderr",
     "output_type": "stream",
     "text": [
      "2019-08-17 17:29:37,968.968.52707862854:kafka.conn:139956971476736:INFO:1998:<BrokerConnection node_id=bootstrap-0 host=localhost:9092 <connecting> [IPv6 ('::1', 9092, 0, 0)]>: connecting to localhost:9092 [('::1', 9092, 0, 0) IPv6]\n",
      "2019-08-17 17:29:37,969.969.8965549468994:kafka.conn:139956881688320:INFO:1998:<BrokerConnection node_id=0 host=ubuntu:9092 <connecting> [IPv4 ('127.0.1.1', 9092)]>: Connection complete.\n",
      "2019-08-17 17:29:37,971.971.4651107788086:kafka.conn:139954529236736:INFO:2000:<BrokerConnection node_id=0 host=ubuntu:9092 <connecting> [IPv4 ('127.0.1.1', 9092)]>: connecting to ubuntu:9092 [('127.0.1.1', 9092) IPv4]\n",
      "2019-08-17 17:29:37,972.972.5761413574219:kafka.conn:139956971476736:INFO:2000:<BrokerConnection node_id=bootstrap-0 host=localhost:9092 <connecting> [IPv6 ('::1', 9092, 0, 0)]>: connecting to localhost:9092 [('::1', 9092, 0, 0) IPv6]\n",
      "2019-08-17 17:29:37,970.970.5612659454346:kafka.conn:139956971476736:INFO:1998:Probing node bootstrap-0 broker version\n",
      "2019-08-17 17:29:37,974.974.6413230895996:kafka.conn:139954529236736:INFO:2000:<BrokerConnection node_id=0 host=ubuntu:9092 <connecting> [IPv4 ('127.0.1.1', 9092)]>: Connection complete.\n",
      "2019-08-17 17:29:37,972.972.2576141357422:kafka.conn:139956881688320:INFO:1998:<BrokerConnection node_id=bootstrap-0 host=localhost:9092 <connected> [IPv6 ('::1', 9092, 0, 0)]>: Closing connection. \n",
      "2019-08-17 17:29:37,975.975.2788543701172:kafka.conn:139956971476736:INFO:2000:Probing node bootstrap-0 broker version\n",
      "2019-08-17 17:29:37,976.976.7849445343018:kafka.conn:139954529236736:INFO:2000:<BrokerConnection node_id=bootstrap-0 host=localhost:9092 <connected> [IPv6 ('::1', 9092, 0, 0)]>: Closing connection. \n",
      "2019-08-17 17:29:37,977.977.783203125:kafka.conn:139956971476736:INFO:1998:<BrokerConnection node_id=bootstrap-0 host=localhost:9092 <connecting> [IPv6 ('::1', 9092, 0, 0)]>: Connection complete.\n"
     ]
    },
    {
     "name": "stdout",
     "output_type": "stream",
     "text": [
      "topic : result , partition : 0 , offset : 836\n"
     ]
    },
    {
     "name": "stderr",
     "output_type": "stream",
     "text": [
      "2019-08-17 17:29:37,979.979.2261123657227:kafka.conn:139956971476736:INFO:2000:<BrokerConnection node_id=bootstrap-0 host=localhost:9092 <connecting> [IPv6 ('::1', 9092, 0, 0)]>: Connection complete.\n"
     ]
    },
    {
     "name": "stdout",
     "output_type": "stream",
     "text": [
      "topic : result , partition : 0 , offset : 837\n"
     ]
    },
    {
     "name": "stderr",
     "output_type": "stream",
     "text": [
      "2019-08-17 17:29:38,085.85.35361289978027:kafka.conn:139956971476736:INFO:1998:Broker version identifed as 1.0.0\n",
      "2019-08-17 17:29:38,086.86.55786514282227:kafka.conn:139956971476736:INFO:2000:Broker version identifed as 1.0.0\n",
      "2019-08-17 17:29:38,086.86.98487281799316:kafka.conn:139956971476736:INFO:1998:Set configuration api_version=(1, 0, 0) to skip auto check_version requests on startup\n",
      "2019-08-17 17:29:38,088.88.06037902832031:kafka.conn:139956971476736:INFO:2000:Set configuration api_version=(1, 0, 0) to skip auto check_version requests on startup\n",
      "2019-08-17 17:29:38,091.91.28904342651367:kafka.producer.kafka:139956971476736:INFO:1998:Closing the Kafka producer with 0 secs timeout.\n",
      "2019-08-17 17:29:38,092.92.09227561950684:kafka.producer.kafka:139956971476736:INFO:2000:Closing the Kafka producer with 0 secs timeout.\n",
      "2019-08-17 17:29:38,095.95.2749252319336:kafka.producer.kafka:139956971476736:INFO:1998:Proceeding to force close the producer since pending requests could not be completed within timeout 0.\n",
      "2019-08-17 17:29:38,096.96.2979793548584:kafka.producer.kafka:139956971476736:INFO:2000:Proceeding to force close the producer since pending requests could not be completed within timeout 0.\n",
      "2019-08-17 17:29:38,097.97.18680381774902:kafka.conn:139956881688320:INFO:1998:<BrokerConnection node_id=0 host=ubuntu:9092 <connected> [IPv4 ('127.0.1.1', 9092)]>: Closing connection. \n",
      "2019-08-17 17:29:38,098.98.11782836914062:kafka.conn:139954529236736:INFO:2000:<BrokerConnection node_id=0 host=ubuntu:9092 <connected> [IPv4 ('127.0.1.1', 9092)]>: Closing connection. \n"
     ]
    },
    {
     "name": "stdout",
     "output_type": "stream",
     "text": [
      "topic=my_topic partition=0 offset=2937: key=None value={'number_1': '30.912478496445935,-12.587644173668366,16.773242810528117,35.676411596924424,21.385749795494956'}\n",
      "topic=my-topic partition=0 offset=2337: key=None value={'number_2': '-6.7297482155207415,1.3819065934246422,-4.930117388979683,-11.394644070981863,-3.575679397174669'}\n"
     ]
    },
    {
     "name": "stderr",
     "output_type": "stream",
     "text": [
      "2019-08-17 17:29:38,102.102.36954689025879:kafka.conn:139956890081024:INFO:2000:<BrokerConnection node_id=0 host=ubuntu:9092 <connecting> [IPv4 ('127.0.1.1', 9092)]>: connecting to ubuntu:9092 [('127.0.1.1', 9092) IPv4]\n",
      "2019-08-17 17:29:38,101.101.76753997802734:kafka.conn:139954529236736:INFO:1998:<BrokerConnection node_id=0 host=ubuntu:9092 <connecting> [IPv4 ('127.0.1.1', 9092)]>: connecting to ubuntu:9092 [('127.0.1.1', 9092) IPv4]\n",
      "2019-08-17 17:29:38,104.104.45165634155273:kafka.conn:139956971476736:INFO:1998:<BrokerConnection node_id=bootstrap-0 host=localhost:9092 <connecting> [IPv6 ('::1', 9092, 0, 0)]>: connecting to localhost:9092 [('::1', 9092, 0, 0) IPv6]\n",
      "2019-08-17 17:29:38,105.105.84449768066406:kafka.conn:139956890081024:INFO:2000:<BrokerConnection node_id=0 host=ubuntu:9092 <connecting> [IPv4 ('127.0.1.1', 9092)]>: Connection complete.\n",
      "2019-08-17 17:29:38,105.105.93032836914062:kafka.conn:139954529236736:INFO:1998:<BrokerConnection node_id=0 host=ubuntu:9092 <connecting> [IPv4 ('127.0.1.1', 9092)]>: Connection complete.\n",
      "2019-08-17 17:29:38,107.107.0394515991211:kafka.conn:139956971476736:INFO:2000:<BrokerConnection node_id=bootstrap-0 host=localhost:9092 <connecting> [IPv6 ('::1', 9092, 0, 0)]>: connecting to localhost:9092 [('::1', 9092, 0, 0) IPv6]\n",
      "2019-08-17 17:29:38,106.106.46224021911621:kafka.conn:139956971476736:INFO:1998:Probing node bootstrap-0 broker version\n",
      "2019-08-17 17:29:38,107.107.64074325561523:kafka.conn:139956890081024:INFO:2000:<BrokerConnection node_id=bootstrap-0 host=localhost:9092 <connected> [IPv6 ('::1', 9092, 0, 0)]>: Closing connection. \n",
      "2019-08-17 17:29:38,108.108.02865028381348:kafka.conn:139954529236736:INFO:1998:<BrokerConnection node_id=bootstrap-0 host=localhost:9092 <connected> [IPv6 ('::1', 9092, 0, 0)]>: Closing connection. \n",
      "2019-08-17 17:29:38,109.109.95793342590332:kafka.conn:139956971476736:INFO:1998:<BrokerConnection node_id=bootstrap-0 host=localhost:9092 <connecting> [IPv6 ('::1', 9092, 0, 0)]>: Connection complete.\n",
      "2019-08-17 17:29:38,109.109.48300361633301:kafka.conn:139956971476736:INFO:2000:Probing node bootstrap-0 broker version\n"
     ]
    },
    {
     "name": "stdout",
     "output_type": "stream",
     "text": [
      "topic : result , partition : 0 , offset : 838\n",
      "topic : result , partition : 0 , offset : 839\n"
     ]
    },
    {
     "name": "stderr",
     "output_type": "stream",
     "text": [
      "2019-08-17 17:29:38,114.114.83240127563477:kafka.conn:139956971476736:INFO:2000:<BrokerConnection node_id=bootstrap-0 host=localhost:9092 <connecting> [IPv6 ('::1', 9092, 0, 0)]>: Connection complete.\n",
      "2019-08-17 17:29:38,216.216.7048454284668:kafka.conn:139956971476736:INFO:1998:Broker version identifed as 1.0.0\n",
      "2019-08-17 17:29:38,218.218.31798553466797:kafka.conn:139956971476736:INFO:1998:Set configuration api_version=(1, 0, 0) to skip auto check_version requests on startup\n",
      "2019-08-17 17:29:38,219.219.0563678741455:kafka.conn:139956971476736:INFO:2000:Broker version identifed as 1.0.0\n",
      "2019-08-17 17:29:38,220.220.46446800231934:kafka.conn:139956971476736:INFO:2000:Set configuration api_version=(1, 0, 0) to skip auto check_version requests on startup\n",
      "2019-08-17 17:29:38,223.223.2201099395752:kafka.producer.kafka:139956971476736:INFO:1998:Closing the Kafka producer with 0 secs timeout.\n",
      "2019-08-17 17:29:38,225.225.6176471710205:kafka.producer.kafka:139956971476736:INFO:2000:Closing the Kafka producer with 0 secs timeout.\n",
      "2019-08-17 17:29:38,227.227.12111473083496:kafka.producer.kafka:139956971476736:INFO:1998:Proceeding to force close the producer since pending requests could not be completed within timeout 0.\n",
      "2019-08-17 17:29:38,229.229.0935516357422:kafka.conn:139954529236736:INFO:1998:<BrokerConnection node_id=0 host=ubuntu:9092 <connected> [IPv4 ('127.0.1.1', 9092)]>: Closing connection. \n",
      "2019-08-17 17:29:38,229.229.60853576660156:kafka.producer.kafka:139956971476736:INFO:2000:Proceeding to force close the producer since pending requests could not be completed within timeout 0.\n",
      "2019-08-17 17:29:38,231.231.4748764038086:kafka.conn:139956890081024:INFO:2000:<BrokerConnection node_id=0 host=ubuntu:9092 <connected> [IPv4 ('127.0.1.1', 9092)]>: Closing connection. \n"
     ]
    },
    {
     "name": "stdout",
     "output_type": "stream",
     "text": [
      "topic=my_topic partition=0 offset=2938: key=None value={'number_1': '-7.945688023273931,-24.25199167632605,44.59808579095139,7.1329372985506,27.17829730076295'}\n",
      "topic=my-topic partition=0 offset=2338: key=None value={'number_2': '-5.980495471667933,15.663053316063781,-19.595056095377704,-5.310868266288143,-13.35209596673663'}\n"
     ]
    },
    {
     "name": "stderr",
     "output_type": "stream",
     "text": [
      "2019-08-17 17:29:38,233.233.51120948791504:kafka.conn:139956881688320:INFO:1998:<BrokerConnection node_id=0 host=ubuntu:9092 <connecting> [IPv4 ('127.0.1.1', 9092)]>: connecting to ubuntu:9092 [('127.0.1.1', 9092) IPv4]\n",
      "2019-08-17 17:29:38,236.236.26375198364258:kafka.conn:139956881688320:INFO:1998:<BrokerConnection node_id=0 host=ubuntu:9092 <connecting> [IPv4 ('127.0.1.1', 9092)]>: Connection complete.\n",
      "2019-08-17 17:29:38,237.237.32352256774902:kafka.conn:139956971476736:INFO:1998:<BrokerConnection node_id=bootstrap-0 host=localhost:9092 <connecting> [IPv6 ('::1', 9092, 0, 0)]>: connecting to localhost:9092 [('::1', 9092, 0, 0) IPv6]\n",
      "2019-08-17 17:29:38,235.235.97002029418945:kafka.conn:139954529236736:INFO:2000:<BrokerConnection node_id=0 host=ubuntu:9092 <connecting> [IPv4 ('127.0.1.1', 9092)]>: connecting to ubuntu:9092 [('127.0.1.1', 9092) IPv4]\n",
      "2019-08-17 17:29:38,238.238.3568286895752:kafka.conn:139956881688320:INFO:1998:<BrokerConnection node_id=bootstrap-0 host=localhost:9092 <connected> [IPv6 ('::1', 9092, 0, 0)]>: Closing connection. \n",
      "2019-08-17 17:29:38,240.240.25893211364746:kafka.conn:139956971476736:INFO:2000:<BrokerConnection node_id=bootstrap-0 host=localhost:9092 <connecting> [IPv6 ('::1', 9092, 0, 0)]>: connecting to localhost:9092 [('::1', 9092, 0, 0) IPv6]\n",
      "2019-08-17 17:29:38,242.242.29741096496582:kafka.conn:139954529236736:INFO:2000:<BrokerConnection node_id=0 host=ubuntu:9092 <connecting> [IPv4 ('127.0.1.1', 9092)]>: Connection complete.\n",
      "2019-08-17 17:29:38,240.240.16714096069336:kafka.conn:139956971476736:INFO:1998:Probing node bootstrap-0 broker version\n"
     ]
    },
    {
     "name": "stdout",
     "output_type": "stream",
     "text": [
      "topic : result , partition : 0 , offset : 840\n"
     ]
    },
    {
     "name": "stderr",
     "output_type": "stream",
     "text": [
      "2019-08-17 17:29:38,242.242.78521537780762:kafka.conn:139956971476736:INFO:2000:Probing node bootstrap-0 broker version\n",
      "2019-08-17 17:29:38,245.245.70608139038086:kafka.conn:139956971476736:INFO:1998:<BrokerConnection node_id=bootstrap-0 host=localhost:9092 <connecting> [IPv6 ('::1', 9092, 0, 0)]>: Connection complete.\n",
      "2019-08-17 17:29:38,244.244.28343772888184:kafka.conn:139954529236736:INFO:2000:<BrokerConnection node_id=bootstrap-0 host=localhost:9092 <connected> [IPv6 ('::1', 9092, 0, 0)]>: Closing connection. \n",
      "2019-08-17 17:29:38,246.246.49357795715332:kafka.conn:139956971476736:INFO:2000:<BrokerConnection node_id=bootstrap-0 host=localhost:9092 <connecting> [IPv6 ('::1', 9092, 0, 0)]>: Connection complete.\n"
     ]
    },
    {
     "name": "stdout",
     "output_type": "stream",
     "text": [
      "topic : result , partition : 0 , offset : 841\n"
     ]
    },
    {
     "name": "stderr",
     "output_type": "stream",
     "text": [
      "2019-08-17 17:29:38,350.350.21471977233887:kafka.conn:139956971476736:INFO:1998:Broker version identifed as 1.0.0\n",
      "2019-08-17 17:29:38,351.351.6726493835449:kafka.conn:139956971476736:INFO:1998:Set configuration api_version=(1, 0, 0) to skip auto check_version requests on startup\n",
      "2019-08-17 17:29:38,354.354.6135425567627:kafka.conn:139956971476736:INFO:2000:Broker version identifed as 1.0.0\n",
      "2019-08-17 17:29:38,355.355.59535026550293:kafka.producer.kafka:139956971476736:INFO:1998:Closing the Kafka producer with 0 secs timeout.\n",
      "2019-08-17 17:29:38,356.356.44054412841797:kafka.conn:139956971476736:INFO:2000:Set configuration api_version=(1, 0, 0) to skip auto check_version requests on startup\n",
      "2019-08-17 17:29:38,359.359.4207763671875:kafka.producer.kafka:139956971476736:INFO:1998:Proceeding to force close the producer since pending requests could not be completed within timeout 0.\n",
      "2019-08-17 17:29:38,360.360.959529876709:kafka.producer.kafka:139956971476736:INFO:2000:Closing the Kafka producer with 0 secs timeout.\n",
      "2019-08-17 17:29:38,361.361.2959384918213:kafka.conn:139956881688320:INFO:1998:<BrokerConnection node_id=0 host=ubuntu:9092 <connected> [IPv4 ('127.0.1.1', 9092)]>: Closing connection. \n",
      "2019-08-17 17:29:38,362.362.28275299072266:kafka.producer.kafka:139956971476736:INFO:2000:Proceeding to force close the producer since pending requests could not be completed within timeout 0.\n"
     ]
    },
    {
     "name": "stdout",
     "output_type": "stream",
     "text": [
      "topic=my_topic partition=0 offset=2939: key=None value={'number_1': '40.28877774074369,-4.887115974776982,-12.636568941420556,23.061141157983453,47.675237248973794'}\n"
     ]
    },
    {
     "name": "stderr",
     "output_type": "stream",
     "text": [
      "2019-08-17 17:29:38,364.364.72463607788086:kafka.conn:139956890081024:INFO:1998:<BrokerConnection node_id=0 host=ubuntu:9092 <connecting> [IPv4 ('127.0.1.1', 9092)]>: connecting to ubuntu:9092 [('127.0.1.1', 9092) IPv4]\n",
      "2019-08-17 17:29:38,366.366.1012649536133:kafka.conn:139954529236736:INFO:2000:<BrokerConnection node_id=0 host=ubuntu:9092 <connected> [IPv4 ('127.0.1.1', 9092)]>: Closing connection. \n",
      "2019-08-17 17:29:38,368.368.1151866912842:kafka.conn:139956890081024:INFO:1998:<BrokerConnection node_id=0 host=ubuntu:9092 <connecting> [IPv4 ('127.0.1.1', 9092)]>: Connection complete.\n"
     ]
    },
    {
     "name": "stdout",
     "output_type": "stream",
     "text": [
      "topic=my-topic partition=0 offset=2339: key=None value={'number_2': '-8.517336480930734,-10.447490894897875,15.588092022160913,-16.5351289039507,-6.291709730100566'}\n"
     ]
    },
    {
     "name": "stderr",
     "output_type": "stream",
     "text": [
      "2019-08-17 17:29:38,369.369.0173625946045:kafka.conn:139956971476736:INFO:1998:<BrokerConnection node_id=bootstrap-0 host=localhost:9092 <connecting> [IPv6 ('::1', 9092, 0, 0)]>: connecting to localhost:9092 [('::1', 9092, 0, 0) IPv6]\n",
      "2019-08-17 17:29:38,369.369.5809841156006:kafka.conn:139956890081024:INFO:1998:<BrokerConnection node_id=bootstrap-0 host=localhost:9092 <connected> [IPv6 ('::1', 9092, 0, 0)]>: Closing connection. \n",
      "2019-08-17 17:29:38,370.370.24545669555664:kafka.conn:139956890081024:INFO:2000:<BrokerConnection node_id=0 host=ubuntu:9092 <connecting> [IPv4 ('127.0.1.1', 9092)]>: connecting to ubuntu:9092 [('127.0.1.1', 9092) IPv4]\n",
      "2019-08-17 17:29:38,373.373.0926513671875:kafka.conn:139956971476736:INFO:2000:<BrokerConnection node_id=bootstrap-0 host=localhost:9092 <connecting> [IPv6 ('::1', 9092, 0, 0)]>: connecting to localhost:9092 [('::1', 9092, 0, 0) IPv6]\n",
      "2019-08-17 17:29:38,371.371.30188941955566:kafka.conn:139956971476736:INFO:1998:Probing node bootstrap-0 broker version\n"
     ]
    },
    {
     "name": "stdout",
     "output_type": "stream",
     "text": [
      "topic : result , partition : 0 , offset : 842\n"
     ]
    },
    {
     "name": "stderr",
     "output_type": "stream",
     "text": [
      "2019-08-17 17:29:38,374.374.6664524078369:kafka.conn:139956890081024:INFO:2000:<BrokerConnection node_id=0 host=ubuntu:9092 <connecting> [IPv4 ('127.0.1.1', 9092)]>: Connection complete.\n",
      "2019-08-17 17:29:38,375.375.78749656677246:kafka.conn:139956971476736:INFO:1998:<BrokerConnection node_id=bootstrap-0 host=localhost:9092 <connecting> [IPv6 ('::1', 9092, 0, 0)]>: Connection complete.\n",
      "2019-08-17 17:29:38,375.375.27966499328613:kafka.conn:139956971476736:INFO:2000:Probing node bootstrap-0 broker version\n",
      "2019-08-17 17:29:38,377.377.0885467529297:kafka.conn:139956890081024:INFO:2000:<BrokerConnection node_id=bootstrap-0 host=localhost:9092 <connected> [IPv6 ('::1', 9092, 0, 0)]>: Closing connection. \n",
      "2019-08-17 17:29:38,379.379.00328636169434:kafka.conn:139956971476736:INFO:2000:<BrokerConnection node_id=bootstrap-0 host=localhost:9092 <connecting> [IPv6 ('::1', 9092, 0, 0)]>: Connection complete.\n"
     ]
    },
    {
     "name": "stdout",
     "output_type": "stream",
     "text": [
      "topic : result , partition : 0 , offset : 843\n"
     ]
    },
    {
     "name": "stderr",
     "output_type": "stream",
     "text": [
      "2019-08-17 17:29:38,480.480.7744026184082:kafka.conn:139956971476736:INFO:1998:Broker version identifed as 1.0.0\n",
      "2019-08-17 17:29:38,482.482.7556610107422:kafka.conn:139956971476736:INFO:1998:Set configuration api_version=(1, 0, 0) to skip auto check_version requests on startup\n",
      "2019-08-17 17:29:38,487.487.0333671569824:kafka.producer.kafka:139956971476736:INFO:1998:Closing the Kafka producer with 0 secs timeout.\n",
      "2019-08-17 17:29:38,487.487.5640869140625:kafka.conn:139956971476736:INFO:2000:Broker version identifed as 1.0.0\n",
      "2019-08-17 17:29:38,489.489.35914039611816:kafka.conn:139956971476736:INFO:2000:Set configuration api_version=(1, 0, 0) to skip auto check_version requests on startup\n",
      "2019-08-17 17:29:38,490.490.7407760620117:kafka.producer.kafka:139956971476736:INFO:1998:Proceeding to force close the producer since pending requests could not be completed within timeout 0.\n",
      "2019-08-17 17:29:38,492.492.4192428588867:kafka.conn:139956890081024:INFO:1998:<BrokerConnection node_id=0 host=ubuntu:9092 <connected> [IPv4 ('127.0.1.1', 9092)]>: Closing connection. \n"
     ]
    },
    {
     "name": "stdout",
     "output_type": "stream",
     "text": [
      "topic=my_topic partition=0 offset=2940: key=None value={'number_1': '-16.390123226387615,44.146209989189416,-20.335556273948523,66.56814258568296,22.060321403257326'}\n"
     ]
    },
    {
     "name": "stderr",
     "output_type": "stream",
     "text": [
      "2019-08-17 17:29:38,493.493.6103820800781:kafka.producer.kafka:139956971476736:INFO:2000:Closing the Kafka producer with 0 secs timeout.\n",
      "2019-08-17 17:29:38,496.496.33026123046875:kafka.conn:139954529236736:INFO:1998:<BrokerConnection node_id=0 host=ubuntu:9092 <connecting> [IPv4 ('127.0.1.1', 9092)]>: connecting to ubuntu:9092 [('127.0.1.1', 9092) IPv4]\n",
      "2019-08-17 17:29:38,498.498.1842041015625:kafka.producer.kafka:139956971476736:INFO:2000:Proceeding to force close the producer since pending requests could not be completed within timeout 0.\n",
      "2019-08-17 17:29:38,498.498.67796897888184:kafka.conn:139956971476736:INFO:1998:<BrokerConnection node_id=bootstrap-0 host=localhost:9092 <connecting> [IPv6 ('::1', 9092, 0, 0)]>: connecting to localhost:9092 [('::1', 9092, 0, 0) IPv6]\n",
      "2019-08-17 17:29:38,500.500.0290870666504:kafka.conn:139956890081024:INFO:2000:<BrokerConnection node_id=0 host=ubuntu:9092 <connected> [IPv4 ('127.0.1.1', 9092)]>: Closing connection. \n",
      "2019-08-17 17:29:38,500.500.1201629638672:kafka.conn:139954529236736:INFO:1998:<BrokerConnection node_id=0 host=ubuntu:9092 <connecting> [IPv4 ('127.0.1.1', 9092)]>: Connection complete.\n",
      "2019-08-17 17:29:38,500.500.6721019744873:kafka.conn:139956971476736:INFO:1998:Probing node bootstrap-0 broker version\n"
     ]
    },
    {
     "name": "stdout",
     "output_type": "stream",
     "text": [
      "topic=my-topic partition=0 offset=2340: key=None value={'number_2': '10.10533625404895,-3.352807904553514,-11.857957310265325,-11.260809379121241,-16.444584589691736'}\n"
     ]
    },
    {
     "name": "stderr",
     "output_type": "stream",
     "text": [
      "2019-08-17 17:29:38,502.502.0558834075928:kafka.conn:139954529236736:INFO:1998:<BrokerConnection node_id=bootstrap-0 host=localhost:9092 <connected> [IPv6 ('::1', 9092, 0, 0)]>: Closing connection. \n",
      "2019-08-17 17:29:38,504.504.11534309387207:kafka.conn:139954520844032:INFO:2000:<BrokerConnection node_id=0 host=ubuntu:9092 <connecting> [IPv4 ('127.0.1.1', 9092)]>: connecting to ubuntu:9092 [('127.0.1.1', 9092) IPv4]\n",
      "2019-08-17 17:29:38,503.503.69834899902344:kafka.conn:139956971476736:INFO:1998:<BrokerConnection node_id=bootstrap-0 host=localhost:9092 <connecting> [IPv6 ('::1', 9092, 0, 0)]>: Connection complete.\n",
      "2019-08-17 17:29:38,506.506.8941116333008:kafka.conn:139954520844032:INFO:2000:<BrokerConnection node_id=0 host=ubuntu:9092 <connecting> [IPv4 ('127.0.1.1', 9092)]>: Connection complete.\n"
     ]
    },
    {
     "name": "stdout",
     "output_type": "stream",
     "text": [
      "topic : result , partition : 0 , offset : 844\n"
     ]
    },
    {
     "name": "stderr",
     "output_type": "stream",
     "text": [
      "2019-08-17 17:29:38,507.507.1742534637451:kafka.conn:139956971476736:INFO:2000:<BrokerConnection node_id=bootstrap-0 host=localhost:9092 <connecting> [IPv6 ('::1', 9092, 0, 0)]>: connecting to localhost:9092 [('::1', 9092, 0, 0) IPv6]\n",
      "2019-08-17 17:29:38,508.508.6028575897217:kafka.conn:139954520844032:INFO:2000:<BrokerConnection node_id=bootstrap-0 host=localhost:9092 <connected> [IPv6 ('::1', 9092, 0, 0)]>: Closing connection. \n",
      "2019-08-17 17:29:38,510.510.27536392211914:kafka.conn:139956971476736:INFO:2000:Probing node bootstrap-0 broker version\n"
     ]
    },
    {
     "name": "stdout",
     "output_type": "stream",
     "text": [
      "topic : result , partition : 0 , offset : 845\n"
     ]
    },
    {
     "name": "stderr",
     "output_type": "stream",
     "text": [
      "2019-08-17 17:29:38,514.514.9049758911133:kafka.conn:139956971476736:INFO:2000:<BrokerConnection node_id=bootstrap-0 host=localhost:9092 <connecting> [IPv6 ('::1', 9092, 0, 0)]>: Connection complete.\n",
      "2019-08-17 17:29:38,610.610.8369827270508:kafka.conn:139956971476736:INFO:1998:Broker version identifed as 1.0.0\n",
      "2019-08-17 17:29:38,612.612.0142936706543:kafka.conn:139956971476736:INFO:1998:Set configuration api_version=(1, 0, 0) to skip auto check_version requests on startup\n",
      "2019-08-17 17:29:38,616.616.2662506103516:kafka.producer.kafka:139956971476736:INFO:1998:Closing the Kafka producer with 0 secs timeout.\n",
      "2019-08-17 17:29:38,619.619.149923324585:kafka.conn:139956971476736:INFO:2000:Broker version identifed as 1.0.0\n",
      "2019-08-17 17:29:38,620.620.107889175415:kafka.producer.kafka:139956971476736:INFO:1998:Proceeding to force close the producer since pending requests could not be completed within timeout 0.\n",
      "2019-08-17 17:29:38,620.620.4967498779297:kafka.conn:139956971476736:INFO:2000:Set configuration api_version=(1, 0, 0) to skip auto check_version requests on startup\n",
      "2019-08-17 17:29:38,622.622.0059394836426:kafka.conn:139954529236736:INFO:1998:<BrokerConnection node_id=0 host=ubuntu:9092 <connected> [IPv4 ('127.0.1.1', 9092)]>: Closing connection. \n"
     ]
    },
    {
     "name": "stdout",
     "output_type": "stream",
     "text": [
      "topic=my_topic partition=0 offset=2941: key=None value={'number_1': '8.408127518890593,-6.909911124344404,21.814162681906225,-9.886808570387764,26.225632030923684'}\n"
     ]
    },
    {
     "name": "stderr",
     "output_type": "stream",
     "text": [
      "2019-08-17 17:29:38,625.625.8432865142822:kafka.conn:139956890081024:INFO:1998:<BrokerConnection node_id=0 host=ubuntu:9092 <connecting> [IPv4 ('127.0.1.1', 9092)]>: connecting to ubuntu:9092 [('127.0.1.1', 9092) IPv4]\n",
      "2019-08-17 17:29:38,625.625.2956390380859:kafka.producer.kafka:139956971476736:INFO:2000:Closing the Kafka producer with 0 secs timeout.\n",
      "2019-08-17 17:29:38,627.627.8085708618164:kafka.conn:139956971476736:INFO:1998:<BrokerConnection node_id=bootstrap-0 host=localhost:9092 <connecting> [IPv6 ('::1', 9092, 0, 0)]>: connecting to localhost:9092 [('::1', 9092, 0, 0) IPv6]\n",
      "2019-08-17 17:29:38,628.628.7646293640137:kafka.producer.kafka:139956971476736:INFO:2000:Proceeding to force close the producer since pending requests could not be completed within timeout 0.\n",
      "2019-08-17 17:29:38,628.628.8650035858154:kafka.conn:139956890081024:INFO:1998:<BrokerConnection node_id=0 host=ubuntu:9092 <connecting> [IPv4 ('127.0.1.1', 9092)]>: Connection complete.\n",
      "2019-08-17 17:29:38,629.629.3239593505859:kafka.conn:139956971476736:INFO:1998:Probing node bootstrap-0 broker version\n",
      "2019-08-17 17:29:38,630.630.3708553314209:kafka.conn:139954520844032:INFO:2000:<BrokerConnection node_id=0 host=ubuntu:9092 <connected> [IPv4 ('127.0.1.1', 9092)]>: Closing connection. \n",
      "2019-08-17 17:29:38,630.630.415678024292:kafka.conn:139956890081024:INFO:1998:<BrokerConnection node_id=bootstrap-0 host=localhost:9092 <connected> [IPv6 ('::1', 9092, 0, 0)]>: Closing connection. \n"
     ]
    },
    {
     "name": "stdout",
     "output_type": "stream",
     "text": [
      "topic=my-topic partition=0 offset=2341: key=None value={'number_2': '-18.12717855476708,-4.6180166782390675,9.911346311503683,4.773759894343366,2.967397033447296'}\n"
     ]
    },
    {
     "name": "stderr",
     "output_type": "stream",
     "text": [
      "2019-08-17 17:29:38,632.632.2088241577148:kafka.conn:139956971476736:INFO:1998:<BrokerConnection node_id=bootstrap-0 host=localhost:9092 <connecting> [IPv6 ('::1', 9092, 0, 0)]>: Connection complete.\n",
      "2019-08-17 17:29:38,633.633.9199542999268:kafka.conn:139954881533696:INFO:2000:<BrokerConnection node_id=0 host=ubuntu:9092 <connecting> [IPv4 ('127.0.1.1', 9092)]>: connecting to ubuntu:9092 [('127.0.1.1', 9092) IPv4]\n"
     ]
    },
    {
     "name": "stdout",
     "output_type": "stream",
     "text": [
      "topic : result , partition : 0 , offset : 846\n"
     ]
    },
    {
     "name": "stderr",
     "output_type": "stream",
     "text": [
      "2019-08-17 17:29:38,636.636.2359523773193:kafka.conn:139954881533696:INFO:2000:<BrokerConnection node_id=0 host=ubuntu:9092 <connecting> [IPv4 ('127.0.1.1', 9092)]>: Connection complete.\n",
      "2019-08-17 17:29:38,637.637.0699405670166:kafka.conn:139956971476736:INFO:2000:<BrokerConnection node_id=bootstrap-0 host=localhost:9092 <connecting> [IPv6 ('::1', 9092, 0, 0)]>: connecting to localhost:9092 [('::1', 9092, 0, 0) IPv6]\n",
      "2019-08-17 17:29:38,637.637.4857425689697:kafka.conn:139954881533696:INFO:2000:<BrokerConnection node_id=bootstrap-0 host=localhost:9092 <connected> [IPv6 ('::1', 9092, 0, 0)]>: Closing connection. \n",
      "2019-08-17 17:29:38,638.638.892650604248:kafka.conn:139956971476736:INFO:2000:Probing node bootstrap-0 broker version\n"
     ]
    },
    {
     "name": "stdout",
     "output_type": "stream",
     "text": [
      "topic : result , partition : 0 , offset : 847\n"
     ]
    },
    {
     "name": "stderr",
     "output_type": "stream",
     "text": [
      "2019-08-17 17:29:38,642.642.3556804656982:kafka.conn:139956971476736:INFO:2000:<BrokerConnection node_id=bootstrap-0 host=localhost:9092 <connecting> [IPv6 ('::1', 9092, 0, 0)]>: Connection complete.\n",
      "2019-08-17 17:29:38,738.738.4703159332275:kafka.conn:139956971476736:INFO:1998:Broker version identifed as 1.0.0\n",
      "2019-08-17 17:29:38,739.739.8293018341064:kafka.conn:139956971476736:INFO:1998:Set configuration api_version=(1, 0, 0) to skip auto check_version requests on startup\n",
      "2019-08-17 17:29:38,743.743.1149482727051:kafka.producer.kafka:139956971476736:INFO:1998:Closing the Kafka producer with 0 secs timeout.\n",
      "2019-08-17 17:29:38,746.746.6051578521729:kafka.producer.kafka:139956971476736:INFO:1998:Proceeding to force close the producer since pending requests could not be completed within timeout 0.\n",
      "2019-08-17 17:29:38,747.747.3347187042236:kafka.conn:139956971476736:INFO:2000:Broker version identifed as 1.0.0\n",
      "2019-08-17 17:29:38,748.748.4416961669922:kafka.conn:139956890081024:INFO:1998:<BrokerConnection node_id=0 host=ubuntu:9092 <connected> [IPv4 ('127.0.1.1', 9092)]>: Closing connection. \n",
      "2019-08-17 17:29:38,748.748.6448287963867:kafka.conn:139956971476736:INFO:2000:Set configuration api_version=(1, 0, 0) to skip auto check_version requests on startup\n"
     ]
    },
    {
     "name": "stdout",
     "output_type": "stream",
     "text": [
      "topic=my_topic partition=0 offset=2942: key=None value={'number_1': '-6.7532050343469265,-5.855325266100049,20.9013098778578,-27.65116414980617,33.450412514154706'}\n"
     ]
    },
    {
     "name": "stderr",
     "output_type": "stream",
     "text": [
      "2019-08-17 17:29:38,752.752.5007724761963:kafka.producer.kafka:139956971476736:INFO:2000:Closing the Kafka producer with 0 secs timeout.\n",
      "2019-08-17 17:29:38,752.752.6531219482422:kafka.conn:139954529236736:INFO:1998:<BrokerConnection node_id=0 host=ubuntu:9092 <connecting> [IPv4 ('127.0.1.1', 9092)]>: connecting to ubuntu:9092 [('127.0.1.1', 9092) IPv4]\n",
      "2019-08-17 17:29:38,755.755.7024955749512:kafka.conn:139954529236736:INFO:1998:<BrokerConnection node_id=0 host=ubuntu:9092 <connecting> [IPv4 ('127.0.1.1', 9092)]>: Connection complete.\n",
      "2019-08-17 17:29:38,754.754.1117668151855:kafka.producer.kafka:139956971476736:INFO:2000:Proceeding to force close the producer since pending requests could not be completed within timeout 0.\n",
      "2019-08-17 17:29:38,756.756.6566467285156:kafka.conn:139956971476736:INFO:1998:<BrokerConnection node_id=bootstrap-0 host=localhost:9092 <connecting> [IPv6 ('::1', 9092, 0, 0)]>: connecting to localhost:9092 [('::1', 9092, 0, 0) IPv6]\n",
      "2019-08-17 17:29:38,758.758.5306167602539:kafka.conn:139954881533696:INFO:2000:<BrokerConnection node_id=0 host=ubuntu:9092 <connected> [IPv4 ('127.0.1.1', 9092)]>: Closing connection. \n",
      "2019-08-17 17:29:38,757.757.3564052581787:kafka.conn:139954529236736:INFO:1998:<BrokerConnection node_id=bootstrap-0 host=localhost:9092 <connected> [IPv6 ('::1', 9092, 0, 0)]>: Closing connection. \n",
      "2019-08-17 17:29:38,759.759.0339183807373:kafka.conn:139956971476736:INFO:1998:Probing node bootstrap-0 broker version\n"
     ]
    },
    {
     "name": "stdout",
     "output_type": "stream",
     "text": [
      "topic=my-topic partition=0 offset=2342: key=None value={'number_2': '2.0854614007775423,-2.706213992484947,-5.790239317557288,9.488731789060763,26.017740558395296'}\n",
      "topic : result , partition : 0 , offset : 848\n"
     ]
    },
    {
     "name": "stderr",
     "output_type": "stream",
     "text": [
      "2019-08-17 17:29:38,763.763.2851600646973:kafka.conn:139956971476736:INFO:1998:<BrokerConnection node_id=bootstrap-0 host=localhost:9092 <connecting> [IPv6 ('::1', 9092, 0, 0)]>: Connection complete.\n",
      "2019-08-17 17:29:38,762.762.5384330749512:kafka.conn:139956890081024:INFO:2000:<BrokerConnection node_id=0 host=ubuntu:9092 <connecting> [IPv4 ('127.0.1.1', 9092)]>: connecting to ubuntu:9092 [('127.0.1.1', 9092) IPv4]\n",
      "2019-08-17 17:29:38,765.765.2199268341064:kafka.conn:139956971476736:INFO:2000:<BrokerConnection node_id=bootstrap-0 host=localhost:9092 <connecting> [IPv6 ('::1', 9092, 0, 0)]>: connecting to localhost:9092 [('::1', 9092, 0, 0) IPv6]\n",
      "2019-08-17 17:29:38,766.766.4790153503418:kafka.conn:139956890081024:INFO:2000:<BrokerConnection node_id=0 host=ubuntu:9092 <connecting> [IPv4 ('127.0.1.1', 9092)]>: Connection complete.\n",
      "2019-08-17 17:29:38,767.767.0469284057617:kafka.conn:139956971476736:INFO:2000:Probing node bootstrap-0 broker version\n",
      "2019-08-17 17:29:38,768.768.3360576629639:kafka.conn:139956890081024:INFO:2000:<BrokerConnection node_id=bootstrap-0 host=localhost:9092 <connected> [IPv6 ('::1', 9092, 0, 0)]>: Closing connection. \n",
      "2019-08-17 17:29:38,770.770.1511383056641:kafka.conn:139956971476736:INFO:2000:<BrokerConnection node_id=bootstrap-0 host=localhost:9092 <connecting> [IPv6 ('::1', 9092, 0, 0)]>: Connection complete.\n"
     ]
    },
    {
     "name": "stdout",
     "output_type": "stream",
     "text": [
      "topic : result , partition : 0 , offset : 849\n"
     ]
    },
    {
     "name": "stderr",
     "output_type": "stream",
     "text": [
      "2019-08-17 17:29:38,868.868.4828281402588:kafka.conn:139956971476736:INFO:1998:Broker version identifed as 1.0.0\n",
      "2019-08-17 17:29:38,870.870.0006008148193:kafka.conn:139956971476736:INFO:1998:Set configuration api_version=(1, 0, 0) to skip auto check_version requests on startup\n",
      "2019-08-17 17:29:38,873.873.8329410552979:kafka.producer.kafka:139956971476736:INFO:1998:Closing the Kafka producer with 0 secs timeout.\n",
      "2019-08-17 17:29:38,877.877.2923946380615:kafka.producer.kafka:139956971476736:INFO:1998:Proceeding to force close the producer since pending requests could not be completed within timeout 0.\n",
      "2019-08-17 17:29:38,877.877.6836395263672:kafka.conn:139956971476736:INFO:2000:Broker version identifed as 1.0.0\n",
      "2019-08-17 17:29:38,879.879.1592121124268:kafka.conn:139956971476736:INFO:2000:Set configuration api_version=(1, 0, 0) to skip auto check_version requests on startup\n",
      "2019-08-17 17:29:38,879.879.0616989135742:kafka.conn:139954529236736:INFO:1998:<BrokerConnection node_id=0 host=ubuntu:9092 <connected> [IPv4 ('127.0.1.1', 9092)]>: Closing connection. \n",
      "2019-08-17 17:29:38,882.882.4987411499023:kafka.producer.kafka:139956971476736:INFO:2000:Closing the Kafka producer with 0 secs timeout.\n"
     ]
    },
    {
     "name": "stdout",
     "output_type": "stream",
     "text": [
      "topic=my_topic partition=0 offset=2943: key=None value={'number_1': '-11.441126227710612,26.16700182043119,27.592758377790826,17.565839200065696,19.67163927838709'}\n"
     ]
    },
    {
     "name": "stderr",
     "output_type": "stream",
     "text": [
      "2019-08-17 17:29:38,883.883.2523822784424:kafka.conn:139956890081024:INFO:1998:<BrokerConnection node_id=0 host=ubuntu:9092 <connecting> [IPv4 ('127.0.1.1', 9092)]>: connecting to ubuntu:9092 [('127.0.1.1', 9092) IPv4]\n",
      "2019-08-17 17:29:38,885.885.8029842376709:kafka.producer.kafka:139956971476736:INFO:2000:Proceeding to force close the producer since pending requests could not be completed within timeout 0.\n",
      "2019-08-17 17:29:38,885.885.7793807983398:kafka.conn:139956971476736:INFO:1998:<BrokerConnection node_id=bootstrap-0 host=localhost:9092 <connecting> [IPv6 ('::1', 9092, 0, 0)]>: connecting to localhost:9092 [('::1', 9092, 0, 0) IPv6]\n",
      "2019-08-17 17:29:38,887.887.3605728149414:kafka.conn:139956890081024:INFO:2000:<BrokerConnection node_id=0 host=ubuntu:9092 <connected> [IPv4 ('127.0.1.1', 9092)]>: Closing connection. \n",
      "2019-08-17 17:29:38,886.886.319637298584:kafka.conn:139956890081024:INFO:1998:<BrokerConnection node_id=0 host=ubuntu:9092 <connecting> [IPv4 ('127.0.1.1', 9092)]>: Connection complete.\n",
      "2019-08-17 17:29:38,887.887.9716396331787:kafka.conn:139956971476736:INFO:1998:Probing node bootstrap-0 broker version\n"
     ]
    },
    {
     "name": "stdout",
     "output_type": "stream",
     "text": [
      "topic=my-topic partition=0 offset=2343: key=None value={'number_2': '5.362646414982002,1.8136826227230982,-13.291679705821277,-5.772847342213487,7.049077387624888'}\n"
     ]
    },
    {
     "name": "stderr",
     "output_type": "stream",
     "text": [
      "2019-08-17 17:29:38,889.889.3673419952393:kafka.conn:139956890081024:INFO:1998:<BrokerConnection node_id=bootstrap-0 host=localhost:9092 <connected> [IPv6 ('::1', 9092, 0, 0)]>: Closing connection. \n",
      "2019-08-17 17:29:38,891.891.4134502410889:kafka.conn:139954881533696:INFO:2000:<BrokerConnection node_id=0 host=ubuntu:9092 <connecting> [IPv4 ('127.0.1.1', 9092)]>: connecting to ubuntu:9092 [('127.0.1.1', 9092) IPv4]\n",
      "2019-08-17 17:29:38,890.890.9993171691895:kafka.conn:139956971476736:INFO:1998:<BrokerConnection node_id=bootstrap-0 host=localhost:9092 <connecting> [IPv6 ('::1', 9092, 0, 0)]>: Connection complete.\n",
      "2019-08-17 17:29:38,893.893.5825824737549:kafka.conn:139956971476736:INFO:2000:<BrokerConnection node_id=bootstrap-0 host=localhost:9092 <connecting> [IPv6 ('::1', 9092, 0, 0)]>: connecting to localhost:9092 [('::1', 9092, 0, 0) IPv6]\n"
     ]
    },
    {
     "name": "stdout",
     "output_type": "stream",
     "text": [
      "topic : result , partition : 0 , offset : 850\n"
     ]
    },
    {
     "name": "stderr",
     "output_type": "stream",
     "text": [
      "2019-08-17 17:29:38,894.894.8817253112793:kafka.conn:139954881533696:INFO:2000:<BrokerConnection node_id=0 host=ubuntu:9092 <connecting> [IPv4 ('127.0.1.1', 9092)]>: Connection complete.\n",
      "2019-08-17 17:29:38,895.895.2093124389648:kafka.conn:139956971476736:INFO:2000:Probing node bootstrap-0 broker version\n",
      "2019-08-17 17:29:38,896.896.5542316436768:kafka.conn:139954881533696:INFO:2000:<BrokerConnection node_id=bootstrap-0 host=localhost:9092 <connected> [IPv6 ('::1', 9092, 0, 0)]>: Closing connection. \n",
      "2019-08-17 17:29:38,898.898.1015682220459:kafka.conn:139956971476736:INFO:2000:<BrokerConnection node_id=bootstrap-0 host=localhost:9092 <connecting> [IPv6 ('::1', 9092, 0, 0)]>: Connection complete.\n"
     ]
    },
    {
     "name": "stdout",
     "output_type": "stream",
     "text": [
      "topic : result , partition : 0 , offset : 851\n"
     ]
    },
    {
     "name": "stderr",
     "output_type": "stream",
     "text": [
      "2019-08-17 17:29:38,997.997.4126815795898:kafka.conn:139956971476736:INFO:1998:Broker version identifed as 1.0.0\n",
      "2019-08-17 17:29:38,998.998.8670349121094:kafka.conn:139956971476736:INFO:1998:Set configuration api_version=(1, 0, 0) to skip auto check_version requests on startup\n",
      "2019-08-17 17:29:39,003.3.131389617919922:kafka.producer.kafka:139956971476736:INFO:1998:Closing the Kafka producer with 0 secs timeout.\n",
      "2019-08-17 17:29:39,005.5.421638488769531:kafka.conn:139956971476736:INFO:2000:Broker version identifed as 1.0.0\n",
      "2019-08-17 17:29:39,006.6.7596435546875:kafka.producer.kafka:139956971476736:INFO:1998:Proceeding to force close the producer since pending requests could not be completed within timeout 0.\n",
      "2019-08-17 17:29:39,006.6.886720657348633:kafka.conn:139956971476736:INFO:2000:Set configuration api_version=(1, 0, 0) to skip auto check_version requests on startup\n",
      "2019-08-17 17:29:39,008.8.43048095703125:kafka.conn:139956890081024:INFO:1998:<BrokerConnection node_id=0 host=ubuntu:9092 <connected> [IPv4 ('127.0.1.1', 9092)]>: Closing connection. \n"
     ]
    },
    {
     "name": "stdout",
     "output_type": "stream",
     "text": [
      "topic=my_topic partition=0 offset=2944: key=None value={'number_1': '18.47710561450505,30.221425301600835,-1.9410468146298303,-8.245124713527364,18.430367518329806'}\n"
     ]
    },
    {
     "name": "stderr",
     "output_type": "stream",
     "text": [
      "2019-08-17 17:29:39,012.12.327909469604492:kafka.conn:139956881688320:INFO:1998:<BrokerConnection node_id=0 host=ubuntu:9092 <connecting> [IPv4 ('127.0.1.1', 9092)]>: connecting to ubuntu:9092 [('127.0.1.1', 9092) IPv4]\n",
      "2019-08-17 17:29:39,011.11.331319808959961:kafka.producer.kafka:139956971476736:INFO:2000:Closing the Kafka producer with 0 secs timeout.\n",
      "2019-08-17 17:29:39,014.14.679908752441406:kafka.conn:139956971476736:INFO:1998:<BrokerConnection node_id=bootstrap-0 host=localhost:9092 <connecting> [IPv6 ('::1', 9092, 0, 0)]>: connecting to localhost:9092 [('::1', 9092, 0, 0) IPv6]\n",
      "2019-08-17 17:29:39,015.15.09857177734375:kafka.producer.kafka:139956971476736:INFO:2000:Proceeding to force close the producer since pending requests could not be completed within timeout 0.\n",
      "2019-08-17 17:29:39,016.16.00956916809082:kafka.conn:139956881688320:INFO:1998:<BrokerConnection node_id=0 host=ubuntu:9092 <connecting> [IPv4 ('127.0.1.1', 9092)]>: Connection complete.\n",
      "2019-08-17 17:29:39,016.16.657114028930664:kafka.conn:139954881533696:INFO:2000:<BrokerConnection node_id=0 host=ubuntu:9092 <connected> [IPv4 ('127.0.1.1', 9092)]>: Closing connection. \n",
      "2019-08-17 17:29:39,016.16.434431076049805:kafka.conn:139956971476736:INFO:1998:Probing node bootstrap-0 broker version\n",
      "2019-08-17 17:29:39,017.17.806053161621094:kafka.conn:139956881688320:INFO:1998:<BrokerConnection node_id=bootstrap-0 host=localhost:9092 <connected> [IPv6 ('::1', 9092, 0, 0)]>: Closing connection. \n",
      "2019-08-17 17:29:39,020.20.64204216003418:kafka.conn:139956890081024:INFO:2000:<BrokerConnection node_id=0 host=ubuntu:9092 <connecting> [IPv4 ('127.0.1.1', 9092)]>: connecting to ubuntu:9092 [('127.0.1.1', 9092) IPv4]\n"
     ]
    },
    {
     "name": "stdout",
     "output_type": "stream",
     "text": [
      "topic=my-topic partition=0 offset=2344: key=None value={'number_2': '8.128198374220629,-9.97113054696234,-10.834181149440438,-0.3365175685630616,-4.8355038415535745'}\n"
     ]
    },
    {
     "name": "stderr",
     "output_type": "stream",
     "text": [
      "2019-08-17 17:29:39,019.19.484758377075195:kafka.conn:139956971476736:INFO:1998:<BrokerConnection node_id=bootstrap-0 host=localhost:9092 <connecting> [IPv6 ('::1', 9092, 0, 0)]>: Connection complete.\n"
     ]
    },
    {
     "name": "stdout",
     "output_type": "stream",
     "text": [
      "topic : result , partition : 0 , offset : 852\n"
     ]
    },
    {
     "name": "stderr",
     "output_type": "stream",
     "text": [
      "2019-08-17 17:29:39,022.22.222280502319336:kafka.conn:139956890081024:INFO:2000:<BrokerConnection node_id=0 host=ubuntu:9092 <connecting> [IPv4 ('127.0.1.1', 9092)]>: Connection complete.\n",
      "2019-08-17 17:29:39,024.24.25217628479004:kafka.conn:139956971476736:INFO:2000:<BrokerConnection node_id=bootstrap-0 host=localhost:9092 <connecting> [IPv6 ('::1', 9092, 0, 0)]>: connecting to localhost:9092 [('::1', 9092, 0, 0) IPv6]\n",
      "2019-08-17 17:29:39,024.24.632692337036133:kafka.conn:139956890081024:INFO:2000:<BrokerConnection node_id=bootstrap-0 host=localhost:9092 <connected> [IPv6 ('::1', 9092, 0, 0)]>: Closing connection. \n",
      "2019-08-17 17:29:39,025.25.755643844604492:kafka.conn:139956971476736:INFO:2000:Probing node bootstrap-0 broker version\n",
      "2019-08-17 17:29:39,028.28.70035171508789:kafka.conn:139956971476736:INFO:2000:<BrokerConnection node_id=bootstrap-0 host=localhost:9092 <connecting> [IPv6 ('::1', 9092, 0, 0)]>: Connection complete.\n"
     ]
    },
    {
     "name": "stdout",
     "output_type": "stream",
     "text": [
      "topic : result , partition : 0 , offset : 853\n"
     ]
    },
    {
     "name": "stderr",
     "output_type": "stream",
     "text": [
      "2019-08-17 17:29:39,126.126.67965888977051:kafka.conn:139956971476736:INFO:1998:Broker version identifed as 1.0.0\n",
      "2019-08-17 17:29:39,127.127.9911994934082:kafka.conn:139956971476736:INFO:1998:Set configuration api_version=(1, 0, 0) to skip auto check_version requests on startup\n",
      "2019-08-17 17:29:39,133.133.8651180267334:kafka.conn:139956971476736:INFO:2000:Broker version identifed as 1.0.0\n",
      "2019-08-17 17:29:39,131.131.8953037261963:kafka.producer.kafka:139956971476736:INFO:1998:Closing the Kafka producer with 0 secs timeout.\n",
      "2019-08-17 17:29:39,135.135.51998138427734:kafka.conn:139956971476736:INFO:2000:Set configuration api_version=(1, 0, 0) to skip auto check_version requests on startup\n",
      "2019-08-17 17:29:39,136.136.030912399292:kafka.producer.kafka:139956971476736:INFO:1998:Proceeding to force close the producer since pending requests could not be completed within timeout 0.\n",
      "2019-08-17 17:29:39,137.137.25686073303223:kafka.conn:139956881688320:INFO:1998:<BrokerConnection node_id=0 host=ubuntu:9092 <connected> [IPv4 ('127.0.1.1', 9092)]>: Closing connection. \n",
      "2019-08-17 17:29:39,139.139.00327682495117:kafka.producer.kafka:139956971476736:INFO:2000:Closing the Kafka producer with 0 secs timeout.\n"
     ]
    },
    {
     "name": "stdout",
     "output_type": "stream",
     "text": [
      "topic=my_topic partition=0 offset=2945: key=None value={'number_1': '7.011764278293236,-6.485960382310061,11.690276934452639,33.03860777451609,-12.279997861765697'}\n"
     ]
    },
    {
     "name": "stderr",
     "output_type": "stream",
     "text": [
      "2019-08-17 17:29:39,140.140.05708694458008:kafka.conn:139954529236736:INFO:1998:<BrokerConnection node_id=0 host=ubuntu:9092 <connecting> [IPv4 ('127.0.1.1', 9092)]>: connecting to ubuntu:9092 [('127.0.1.1', 9092) IPv4]\n",
      "2019-08-17 17:29:39,142.142.71926879882812:kafka.producer.kafka:139956971476736:INFO:2000:Proceeding to force close the producer since pending requests could not be completed within timeout 0.\n",
      "2019-08-17 17:29:39,142.142.61198043823242:kafka.conn:139954529236736:INFO:1998:<BrokerConnection node_id=0 host=ubuntu:9092 <connecting> [IPv4 ('127.0.1.1', 9092)]>: Connection complete.\n",
      "2019-08-17 17:29:39,144.144.46544647216797:kafka.conn:139956890081024:INFO:2000:<BrokerConnection node_id=0 host=ubuntu:9092 <connected> [IPv4 ('127.0.1.1', 9092)]>: Closing connection. \n",
      "2019-08-17 17:29:39,144.144.4544792175293:kafka.conn:139956971476736:INFO:1998:<BrokerConnection node_id=bootstrap-0 host=localhost:9092 <connecting> [IPv6 ('::1', 9092, 0, 0)]>: connecting to localhost:9092 [('::1', 9092, 0, 0) IPv6]\n",
      "2019-08-17 17:29:39,145.145.1725959777832:kafka.conn:139954529236736:INFO:1998:<BrokerConnection node_id=bootstrap-0 host=localhost:9092 <connected> [IPv6 ('::1', 9092, 0, 0)]>: Closing connection. \n"
     ]
    },
    {
     "name": "stdout",
     "output_type": "stream",
     "text": [
      "topic=my-topic partition=0 offset=2345: key=None value={'number_2': '-1.288410042627365,2.6338984586794907,5.825509553889296,-9.515339451976232,-6.562419402463671'}\n"
     ]
    },
    {
     "name": "stderr",
     "output_type": "stream",
     "text": [
      "2019-08-17 17:29:39,146.146.5141773223877:kafka.conn:139956971476736:INFO:1998:Probing node bootstrap-0 broker version\n"
     ]
    },
    {
     "name": "stdout",
     "output_type": "stream",
     "text": [
      "topic : result , partition : 0 , offset : 854\n"
     ]
    },
    {
     "name": "stderr",
     "output_type": "stream",
     "text": [
      "2019-08-17 17:29:39,148.148.60105514526367:kafka.conn:139954520844032:INFO:2000:<BrokerConnection node_id=0 host=ubuntu:9092 <connecting> [IPv4 ('127.0.1.1', 9092)]>: connecting to ubuntu:9092 [('127.0.1.1', 9092) IPv4]\n",
      "2019-08-17 17:29:39,150.150.93445777893066:kafka.conn:139956971476736:INFO:1998:<BrokerConnection node_id=bootstrap-0 host=localhost:9092 <connecting> [IPv6 ('::1', 9092, 0, 0)]>: Connection complete.\n",
      "2019-08-17 17:29:39,150.150.96354484558105:kafka.conn:139956971476736:INFO:2000:<BrokerConnection node_id=bootstrap-0 host=localhost:9092 <connecting> [IPv6 ('::1', 9092, 0, 0)]>: connecting to localhost:9092 [('::1', 9092, 0, 0) IPv6]\n",
      "2019-08-17 17:29:39,152.152.4665355682373:kafka.conn:139954520844032:INFO:2000:<BrokerConnection node_id=0 host=ubuntu:9092 <connecting> [IPv4 ('127.0.1.1', 9092)]>: Connection complete.\n",
      "2019-08-17 17:29:39,153.153.11598777770996:kafka.conn:139956971476736:INFO:2000:Probing node bootstrap-0 broker version\n",
      "2019-08-17 17:29:39,154.154.6015739440918:kafka.conn:139954520844032:INFO:2000:<BrokerConnection node_id=bootstrap-0 host=localhost:9092 <connected> [IPv6 ('::1', 9092, 0, 0)]>: Closing connection. \n",
      "2019-08-17 17:29:39,156.156.33726119995117:kafka.conn:139956971476736:INFO:2000:<BrokerConnection node_id=bootstrap-0 host=localhost:9092 <connecting> [IPv6 ('::1', 9092, 0, 0)]>: Connection complete.\n"
     ]
    },
    {
     "name": "stdout",
     "output_type": "stream",
     "text": [
      "topic : result , partition : 0 , offset : 855\n"
     ]
    },
    {
     "name": "stderr",
     "output_type": "stream",
     "text": [
      "2019-08-17 17:29:39,254.254.7452449798584:kafka.conn:139956971476736:INFO:1998:Broker version identifed as 1.0.0\n",
      "2019-08-17 17:29:39,255.255.8901309967041:kafka.conn:139956971476736:INFO:1998:Set configuration api_version=(1, 0, 0) to skip auto check_version requests on startup\n",
      "2019-08-17 17:29:39,259.259.5088481903076:kafka.producer.kafka:139956971476736:INFO:1998:Closing the Kafka producer with 0 secs timeout.\n",
      "2019-08-17 17:29:39,263.263.09967041015625:kafka.producer.kafka:139956971476736:INFO:1998:Proceeding to force close the producer since pending requests could not be completed within timeout 0.\n",
      "2019-08-17 17:29:39,264.264.6787166595459:kafka.conn:139954529236736:INFO:1998:<BrokerConnection node_id=0 host=ubuntu:9092 <connected> [IPv4 ('127.0.1.1', 9092)]>: Closing connection. \n",
      "2019-08-17 17:29:39,264.264.1117572784424:kafka.conn:139956971476736:INFO:2000:Broker version identifed as 1.0.0\n"
     ]
    },
    {
     "name": "stdout",
     "output_type": "stream",
     "text": [
      "topic=my_topic partition=0 offset=2946: key=None value={'number_1': '-22.9172808077291,-5.675596539827371,14.38258812903381,31.025208409664028,3.7331285946758053'}\n"
     ]
    },
    {
     "name": "stderr",
     "output_type": "stream",
     "text": [
      "2019-08-17 17:29:39,269.269.13905143737793:kafka.conn:139956971476736:INFO:2000:Set configuration api_version=(1, 0, 0) to skip auto check_version requests on startup\n",
      "2019-08-17 17:29:39,269.269.25134658813477:kafka.conn:139956881688320:INFO:1998:<BrokerConnection node_id=0 host=ubuntu:9092 <connecting> [IPv4 ('127.0.1.1', 9092)]>: connecting to ubuntu:9092 [('127.0.1.1', 9092) IPv4]\n",
      "2019-08-17 17:29:39,272.272.0499038696289:kafka.conn:139956971476736:INFO:1998:<BrokerConnection node_id=bootstrap-0 host=localhost:9092 <connecting> [IPv6 ('::1', 9092, 0, 0)]>: connecting to localhost:9092 [('::1', 9092, 0, 0) IPv6]\n",
      "2019-08-17 17:29:39,272.272.28236198425293:kafka.producer.kafka:139956971476736:INFO:2000:Closing the Kafka producer with 0 secs timeout.\n",
      "2019-08-17 17:29:39,273.273.38671684265137:kafka.conn:139956881688320:INFO:1998:<BrokerConnection node_id=0 host=ubuntu:9092 <connecting> [IPv4 ('127.0.1.1', 9092)]>: Connection complete.\n",
      "2019-08-17 17:29:39,274.274.95670318603516:kafka.producer.kafka:139956971476736:INFO:2000:Proceeding to force close the producer since pending requests could not be completed within timeout 0.\n",
      "2019-08-17 17:29:39,274.274.2891311645508:kafka.conn:139956971476736:INFO:1998:Probing node bootstrap-0 broker version\n",
      "2019-08-17 17:29:39,276.276.4110565185547:kafka.conn:139954520844032:INFO:2000:<BrokerConnection node_id=0 host=ubuntu:9092 <connected> [IPv4 ('127.0.1.1', 9092)]>: Closing connection. \n",
      "2019-08-17 17:29:39,275.275.78020095825195:kafka.conn:139956881688320:INFO:1998:<BrokerConnection node_id=bootstrap-0 host=localhost:9092 <connected> [IPv6 ('::1', 9092, 0, 0)]>: Closing connection. \n",
      "2019-08-17 17:29:39,277.277.3313522338867:kafka.conn:139956971476736:INFO:1998:<BrokerConnection node_id=bootstrap-0 host=localhost:9092 <connecting> [IPv6 ('::1', 9092, 0, 0)]>: Connection complete.\n"
     ]
    },
    {
     "name": "stdout",
     "output_type": "stream",
     "text": [
      "topic=my-topic partition=0 offset=2346: key=None value={'number_2': '1.2407120437239192,11.277869521875218,22.599758857292194,-4.602474941232304,-4.298987890628351'}\n"
     ]
    },
    {
     "name": "stderr",
     "output_type": "stream",
     "text": [
      "2019-08-17 17:29:39,280.280.0126075744629:kafka.conn:139956890081024:INFO:2000:<BrokerConnection node_id=0 host=ubuntu:9092 <connecting> [IPv4 ('127.0.1.1', 9092)]>: connecting to ubuntu:9092 [('127.0.1.1', 9092) IPv4]\n"
     ]
    },
    {
     "name": "stdout",
     "output_type": "stream",
     "text": [
      "topic : result , partition : 0 , offset : 856\n"
     ]
    },
    {
     "name": "stderr",
     "output_type": "stream",
     "text": [
      "2019-08-17 17:29:39,282.282.09948539733887:kafka.conn:139956971476736:INFO:2000:<BrokerConnection node_id=bootstrap-0 host=localhost:9092 <connecting> [IPv6 ('::1', 9092, 0, 0)]>: connecting to localhost:9092 [('::1', 9092, 0, 0) IPv6]\n",
      "2019-08-17 17:29:39,283.283.31565856933594:kafka.conn:139956890081024:INFO:2000:<BrokerConnection node_id=0 host=ubuntu:9092 <connecting> [IPv4 ('127.0.1.1', 9092)]>: Connection complete.\n",
      "2019-08-17 17:29:39,284.284.0080261230469:kafka.conn:139956971476736:INFO:2000:Probing node bootstrap-0 broker version\n",
      "2019-08-17 17:29:39,285.285.6316566467285:kafka.conn:139956890081024:INFO:2000:<BrokerConnection node_id=bootstrap-0 host=localhost:9092 <connected> [IPv6 ('::1', 9092, 0, 0)]>: Closing connection. \n",
      "2019-08-17 17:29:39,287.287.0955467224121:kafka.conn:139956971476736:INFO:2000:<BrokerConnection node_id=bootstrap-0 host=localhost:9092 <connecting> [IPv6 ('::1', 9092, 0, 0)]>: Connection complete.\n"
     ]
    },
    {
     "name": "stdout",
     "output_type": "stream",
     "text": [
      "topic : result , partition : 0 , offset : 857\n"
     ]
    },
    {
     "name": "stderr",
     "output_type": "stream",
     "text": [
      "2019-08-17 17:29:39,382.382.74502754211426:kafka.conn:139956971476736:INFO:1998:Broker version identifed as 1.0.0\n",
      "2019-08-17 17:29:39,384.384.0315341949463:kafka.conn:139956971476736:INFO:1998:Set configuration api_version=(1, 0, 0) to skip auto check_version requests on startup\n",
      "2019-08-17 17:29:39,388.388.87739181518555:kafka.producer.kafka:139956971476736:INFO:1998:Closing the Kafka producer with 0 secs timeout.\n",
      "2019-08-17 17:29:39,392.392.49634742736816:kafka.producer.kafka:139956971476736:INFO:1998:Proceeding to force close the producer since pending requests could not be completed within timeout 0.\n",
      "2019-08-17 17:29:39,394.394.3510055541992:kafka.conn:139956881688320:INFO:1998:<BrokerConnection node_id=0 host=ubuntu:9092 <connected> [IPv4 ('127.0.1.1', 9092)]>: Closing connection. \n",
      "2019-08-17 17:29:39,395.395.04003524780273:kafka.conn:139956971476736:INFO:2000:Broker version identifed as 1.0.0\n",
      "2019-08-17 17:29:39,396.396.7480659484863:kafka.conn:139956971476736:INFO:2000:Set configuration api_version=(1, 0, 0) to skip auto check_version requests on startup\n"
     ]
    },
    {
     "name": "stdout",
     "output_type": "stream",
     "text": [
      "topic=my_topic partition=0 offset=2947: key=None value={'number_1': '12.780955947288781,34.38314002644297,10.136988139169167,5.399444436366067,25.871642543286047'}\n"
     ]
    },
    {
     "name": "stderr",
     "output_type": "stream",
     "text": [
      "2019-08-17 17:29:39,399.399.22618865966797:kafka.conn:139954520844032:INFO:1998:<BrokerConnection node_id=0 host=ubuntu:9092 <connecting> [IPv4 ('127.0.1.1', 9092)]>: connecting to ubuntu:9092 [('127.0.1.1', 9092) IPv4]\n",
      "2019-08-17 17:29:39,401.401.71170234680176:kafka.conn:139956971476736:INFO:1998:<BrokerConnection node_id=bootstrap-0 host=localhost:9092 <connecting> [IPv6 ('::1', 9092, 0, 0)]>: connecting to localhost:9092 [('::1', 9092, 0, 0) IPv6]\n",
      "2019-08-17 17:29:39,402.402.04453468322754:kafka.producer.kafka:139956971476736:INFO:2000:Closing the Kafka producer with 0 secs timeout.\n",
      "2019-08-17 17:29:39,403.403.14412117004395:kafka.conn:139954520844032:INFO:1998:<BrokerConnection node_id=0 host=ubuntu:9092 <connecting> [IPv4 ('127.0.1.1', 9092)]>: Connection complete.\n",
      "2019-08-17 17:29:39,404.404.646635055542:kafka.conn:139956971476736:INFO:1998:Probing node bootstrap-0 broker version\n",
      "2019-08-17 17:29:39,405.405.7927131652832:kafka.producer.kafka:139956971476736:INFO:2000:Proceeding to force close the producer since pending requests could not be completed within timeout 0.\n",
      "2019-08-17 17:29:39,405.405.61723709106445:kafka.conn:139954520844032:INFO:1998:<BrokerConnection node_id=bootstrap-0 host=localhost:9092 <connected> [IPv6 ('::1', 9092, 0, 0)]>: Closing connection. \n",
      "2019-08-17 17:29:39,407.407.6557159423828:kafka.conn:139956890081024:INFO:2000:<BrokerConnection node_id=0 host=ubuntu:9092 <connected> [IPv4 ('127.0.1.1', 9092)]>: Closing connection. \n",
      "2019-08-17 17:29:39,407.407.6383113861084:kafka.conn:139956971476736:INFO:1998:<BrokerConnection node_id=bootstrap-0 host=localhost:9092 <connecting> [IPv6 ('::1', 9092, 0, 0)]>: Connection complete.\n"
     ]
    },
    {
     "name": "stdout",
     "output_type": "stream",
     "text": [
      "topic=my-topic partition=0 offset=2347: key=None value={'number_2': '9.639618608477363,-15.61111392138168,-3.2411254703395675,-18.42000768774112,6.608042320279016'}\n"
     ]
    },
    {
     "name": "stderr",
     "output_type": "stream",
     "text": [
      "2019-08-17 17:29:39,411.411.80920600891113:kafka.conn:139954520844032:INFO:2000:<BrokerConnection node_id=0 host=ubuntu:9092 <connecting> [IPv4 ('127.0.1.1', 9092)]>: connecting to ubuntu:9092 [('127.0.1.1', 9092) IPv4]\n"
     ]
    },
    {
     "name": "stdout",
     "output_type": "stream",
     "text": [
      "topic : result , partition : 0 , offset : 858\n"
     ]
    },
    {
     "name": "stderr",
     "output_type": "stream",
     "text": [
      "2019-08-17 17:29:39,414.414.3218994140625:kafka.conn:139956971476736:INFO:2000:<BrokerConnection node_id=bootstrap-0 host=localhost:9092 <connecting> [IPv6 ('::1', 9092, 0, 0)]>: connecting to localhost:9092 [('::1', 9092, 0, 0) IPv6]\n",
      "2019-08-17 17:29:39,415.415.693998336792:kafka.conn:139954520844032:INFO:2000:<BrokerConnection node_id=0 host=ubuntu:9092 <connecting> [IPv4 ('127.0.1.1', 9092)]>: Connection complete.\n",
      "2019-08-17 17:29:39,416.416.28527641296387:kafka.conn:139956971476736:INFO:2000:Probing node bootstrap-0 broker version\n",
      "2019-08-17 17:29:39,417.417.68503189086914:kafka.conn:139954520844032:INFO:2000:<BrokerConnection node_id=bootstrap-0 host=localhost:9092 <connected> [IPv6 ('::1', 9092, 0, 0)]>: Closing connection. \n",
      "2019-08-17 17:29:39,419.419.4066524505615:kafka.conn:139956971476736:INFO:2000:<BrokerConnection node_id=bootstrap-0 host=localhost:9092 <connecting> [IPv6 ('::1', 9092, 0, 0)]>: Connection complete.\n"
     ]
    },
    {
     "name": "stdout",
     "output_type": "stream",
     "text": [
      "topic : result , partition : 0 , offset : 859\n"
     ]
    },
    {
     "name": "stderr",
     "output_type": "stream",
     "text": [
      "2019-08-17 17:29:39,514.514.585018157959:kafka.conn:139956971476736:INFO:1998:Broker version identifed as 1.0.0\n",
      "2019-08-17 17:29:39,516.516.2594318389893:kafka.conn:139956971476736:INFO:1998:Set configuration api_version=(1, 0, 0) to skip auto check_version requests on startup\n",
      "2019-08-17 17:29:39,520.520.4677581787109:kafka.producer.kafka:139956971476736:INFO:1998:Closing the Kafka producer with 0 secs timeout.\n",
      "2019-08-17 17:29:39,522.522.2928524017334:kafka.producer.kafka:139956971476736:INFO:1998:Proceeding to force close the producer since pending requests could not be completed within timeout 0.\n",
      "2019-08-17 17:29:39,526.526.484489440918:kafka.conn:139954520844032:INFO:1998:<BrokerConnection node_id=0 host=ubuntu:9092 <connected> [IPv4 ('127.0.1.1', 9092)]>: Closing connection. \n",
      "2019-08-17 17:29:39,526.526.8409252166748:kafka.conn:139956971476736:INFO:2000:Broker version identifed as 1.0.0\n",
      "2019-08-17 17:29:39,528.528.5098552703857:kafka.conn:139956971476736:INFO:2000:Set configuration api_version=(1, 0, 0) to skip auto check_version requests on startup\n"
     ]
    },
    {
     "name": "stdout",
     "output_type": "stream",
     "text": [
      "topic=my_topic partition=0 offset=2948: key=None value={'number_1': '8.639554240592899,20.677392072895664,-4.607231792197574,14.45633624583908,5.674587984851375'}\n"
     ]
    },
    {
     "name": "stderr",
     "output_type": "stream",
     "text": [
      "2019-08-17 17:29:39,531.531.0404300689697:kafka.conn:139956881688320:INFO:1998:<BrokerConnection node_id=0 host=ubuntu:9092 <connecting> [IPv4 ('127.0.1.1', 9092)]>: connecting to ubuntu:9092 [('127.0.1.1', 9092) IPv4]\n",
      "2019-08-17 17:29:39,534.534.196138381958:kafka.conn:139956881688320:INFO:1998:<BrokerConnection node_id=0 host=ubuntu:9092 <connecting> [IPv4 ('127.0.1.1', 9092)]>: Connection complete.\n",
      "2019-08-17 17:29:39,532.532.1822166442871:kafka.producer.kafka:139956971476736:INFO:2000:Closing the Kafka producer with 0 secs timeout.\n",
      "2019-08-17 17:29:39,534.534.3785285949707:kafka.conn:139956971476736:INFO:1998:<BrokerConnection node_id=bootstrap-0 host=localhost:9092 <connecting> [IPv6 ('::1', 9092, 0, 0)]>: connecting to localhost:9092 [('::1', 9092, 0, 0) IPv6]\n",
      "2019-08-17 17:29:39,536.536.5805625915527:kafka.producer.kafka:139956971476736:INFO:2000:Proceeding to force close the producer since pending requests could not be completed within timeout 0.\n",
      "2019-08-17 17:29:39,535.535.6476306915283:kafka.conn:139956881688320:INFO:1998:<BrokerConnection node_id=bootstrap-0 host=localhost:9092 <connected> [IPv6 ('::1', 9092, 0, 0)]>: Closing connection. \n",
      "2019-08-17 17:29:39,538.538.3267402648926:kafka.conn:139954520844032:INFO:2000:<BrokerConnection node_id=0 host=ubuntu:9092 <connected> [IPv4 ('127.0.1.1', 9092)]>: Closing connection. \n",
      "2019-08-17 17:29:39,538.538.1414890289307:kafka.conn:139956971476736:INFO:1998:Probing node bootstrap-0 broker version\n"
     ]
    },
    {
     "name": "stdout",
     "output_type": "stream",
     "text": [
      "topic : result , partition : 0 , offset : 860\n",
      "topic=my-topic partition=0 offset=2348: key=None value={'number_2': '-6.281084950813664,0.6875996995024782,16.232400112252392,0.5415048228054915,5.28518581735195'}\n"
     ]
    },
    {
     "name": "stderr",
     "output_type": "stream",
     "text": [
      "2019-08-17 17:29:39,542.542.3567295074463:kafka.conn:139956971476736:INFO:1998:<BrokerConnection node_id=bootstrap-0 host=localhost:9092 <connecting> [IPv6 ('::1', 9092, 0, 0)]>: Connection complete.\n",
      "2019-08-17 17:29:39,542.542.4678325653076:kafka.conn:139956890081024:INFO:2000:<BrokerConnection node_id=0 host=ubuntu:9092 <connecting> [IPv4 ('127.0.1.1', 9092)]>: connecting to ubuntu:9092 [('127.0.1.1', 9092) IPv4]\n",
      "2019-08-17 17:29:39,545.545.0611114501953:kafka.conn:139956971476736:INFO:2000:<BrokerConnection node_id=bootstrap-0 host=localhost:9092 <connecting> [IPv6 ('::1', 9092, 0, 0)]>: connecting to localhost:9092 [('::1', 9092, 0, 0) IPv6]\n",
      "2019-08-17 17:29:39,546.546.4432239532471:kafka.conn:139956890081024:INFO:2000:<BrokerConnection node_id=0 host=ubuntu:9092 <connecting> [IPv4 ('127.0.1.1', 9092)]>: Connection complete.\n",
      "2019-08-17 17:29:39,547.547.0664501190186:kafka.conn:139956971476736:INFO:2000:Probing node bootstrap-0 broker version\n",
      "2019-08-17 17:29:39,548.548.4945774078369:kafka.conn:139956890081024:INFO:2000:<BrokerConnection node_id=bootstrap-0 host=localhost:9092 <connected> [IPv6 ('::1', 9092, 0, 0)]>: Closing connection. \n",
      "2019-08-17 17:29:39,550.550.2564907073975:kafka.conn:139956971476736:INFO:2000:<BrokerConnection node_id=bootstrap-0 host=localhost:9092 <connecting> [IPv6 ('::1', 9092, 0, 0)]>: Connection complete.\n"
     ]
    },
    {
     "name": "stdout",
     "output_type": "stream",
     "text": [
      "topic : result , partition : 0 , offset : 861\n"
     ]
    },
    {
     "name": "stderr",
     "output_type": "stream",
     "text": [
      "2019-08-17 17:29:39,647.647.2947597503662:kafka.conn:139956971476736:INFO:1998:Broker version identifed as 1.0.0\n",
      "2019-08-17 17:29:39,648.648.9241123199463:kafka.conn:139956971476736:INFO:1998:Set configuration api_version=(1, 0, 0) to skip auto check_version requests on startup\n",
      "2019-08-17 17:29:39,653.653.0132293701172:kafka.producer.kafka:139956971476736:INFO:1998:Closing the Kafka producer with 0 secs timeout.\n",
      "2019-08-17 17:29:39,656.656.5847396850586:kafka.producer.kafka:139956971476736:INFO:1998:Proceeding to force close the producer since pending requests could not be completed within timeout 0.\n",
      "2019-08-17 17:29:39,657.657.4327945709229:kafka.conn:139956971476736:INFO:2000:Broker version identifed as 1.0.0\n",
      "2019-08-17 17:29:39,658.658.5292816162109:kafka.conn:139956881688320:INFO:1998:<BrokerConnection node_id=0 host=ubuntu:9092 <connected> [IPv4 ('127.0.1.1', 9092)]>: Closing connection. \n",
      "2019-08-17 17:29:39,659.659.0163707733154:kafka.conn:139956971476736:INFO:2000:Set configuration api_version=(1, 0, 0) to skip auto check_version requests on startup\n"
     ]
    },
    {
     "name": "stdout",
     "output_type": "stream",
     "text": [
      "topic=my_topic partition=0 offset=2949: key=None value={'number_1': '12.32267239844527,-17.449723921896215,1.3533317133982585,-43.66810666245084,13.9756479305072'}\n"
     ]
    },
    {
     "name": "stderr",
     "output_type": "stream",
     "text": [
      "2019-08-17 17:29:39,662.662.9233360290527:kafka.producer.kafka:139956971476736:INFO:2000:Closing the Kafka producer with 0 secs timeout.\n",
      "2019-08-17 17:29:39,663.663.0904674530029:kafka.conn:139956890081024:INFO:1998:<BrokerConnection node_id=0 host=ubuntu:9092 <connecting> [IPv4 ('127.0.1.1', 9092)]>: connecting to ubuntu:9092 [('127.0.1.1', 9092) IPv4]\n",
      "2019-08-17 17:29:39,665.665.8024787902832:kafka.conn:139956971476736:INFO:1998:<BrokerConnection node_id=bootstrap-0 host=localhost:9092 <connecting> [IPv6 ('::1', 9092, 0, 0)]>: connecting to localhost:9092 [('::1', 9092, 0, 0) IPv6]\n",
      "2019-08-17 17:29:39,666.666.5880680084229:kafka.producer.kafka:139956971476736:INFO:2000:Proceeding to force close the producer since pending requests could not be completed within timeout 0.\n",
      "2019-08-17 17:29:39,668.668.4176921844482:kafka.conn:139956890081024:INFO:2000:<BrokerConnection node_id=0 host=ubuntu:9092 <connected> [IPv4 ('127.0.1.1', 9092)]>: Closing connection. \n",
      "2019-08-17 17:29:39,667.667.4487590789795:kafka.conn:139956890081024:INFO:1998:<BrokerConnection node_id=0 host=ubuntu:9092 <connecting> [IPv4 ('127.0.1.1', 9092)]>: Connection complete.\n",
      "2019-08-17 17:29:39,668.668.0965423583984:kafka.conn:139956971476736:INFO:1998:Probing node bootstrap-0 broker version\n"
     ]
    },
    {
     "name": "stdout",
     "output_type": "stream",
     "text": [
      "topic=my-topic partition=0 offset=2349: key=None value={'number_2': '-20.738961897485247,-0.9451884818033306,-16.2762362458051,9.118478461337267,-6.139637961603006'}\n"
     ]
    },
    {
     "name": "stderr",
     "output_type": "stream",
     "text": [
      "2019-08-17 17:29:39,670.670.0167655944824:kafka.conn:139956890081024:INFO:1998:<BrokerConnection node_id=bootstrap-0 host=localhost:9092 <connected> [IPv6 ('::1', 9092, 0, 0)]>: Closing connection. \n",
      "2019-08-17 17:29:39,674.674.3009090423584:kafka.conn:139954520844032:INFO:2000:<BrokerConnection node_id=0 host=ubuntu:9092 <connecting> [IPv4 ('127.0.1.1', 9092)]>: connecting to ubuntu:9092 [('127.0.1.1', 9092) IPv4]\n",
      "2019-08-17 17:29:39,671.671.8873977661133:kafka.conn:139956971476736:INFO:1998:<BrokerConnection node_id=bootstrap-0 host=localhost:9092 <connecting> [IPv6 ('::1', 9092, 0, 0)]>: Connection complete.\n",
      "2019-08-17 17:29:39,675.675.4488945007324:kafka.conn:139956971476736:INFO:2000:<BrokerConnection node_id=bootstrap-0 host=localhost:9092 <connecting> [IPv6 ('::1', 9092, 0, 0)]>: connecting to localhost:9092 [('::1', 9092, 0, 0) IPv6]\n"
     ]
    },
    {
     "name": "stdout",
     "output_type": "stream",
     "text": [
      "topic : result , partition : 0 , offset : 862\n"
     ]
    },
    {
     "name": "stderr",
     "output_type": "stream",
     "text": [
      "2019-08-17 17:29:39,676.676.4872074127197:kafka.conn:139954520844032:INFO:2000:<BrokerConnection node_id=0 host=ubuntu:9092 <connecting> [IPv4 ('127.0.1.1', 9092)]>: Connection complete.\n",
      "2019-08-17 17:29:39,678.678.0762672424316:kafka.conn:139956971476736:INFO:2000:Probing node bootstrap-0 broker version\n",
      "2019-08-17 17:29:39,679.679.5990467071533:kafka.conn:139954520844032:INFO:2000:<BrokerConnection node_id=bootstrap-0 host=localhost:9092 <connected> [IPv6 ('::1', 9092, 0, 0)]>: Closing connection. \n",
      "2019-08-17 17:29:39,681.681.4219951629639:kafka.conn:139956971476736:INFO:2000:<BrokerConnection node_id=bootstrap-0 host=localhost:9092 <connecting> [IPv6 ('::1', 9092, 0, 0)]>: Connection complete.\n"
     ]
    },
    {
     "name": "stdout",
     "output_type": "stream",
     "text": [
      "topic : result , partition : 0 , offset : 863\n"
     ]
    },
    {
     "name": "stderr",
     "output_type": "stream",
     "text": [
      "2019-08-17 17:29:39,780.780.7033061981201:kafka.conn:139956971476736:INFO:1998:Broker version identifed as 1.0.0\n",
      "2019-08-17 17:29:39,782.782.3569774627686:kafka.conn:139956971476736:INFO:1998:Set configuration api_version=(1, 0, 0) to skip auto check_version requests on startup\n",
      "2019-08-17 17:29:39,787.787.5261306762695:kafka.producer.kafka:139956971476736:INFO:1998:Closing the Kafka producer with 0 secs timeout.\n",
      "2019-08-17 17:29:39,789.789.6606922149658:kafka.conn:139956971476736:INFO:2000:Broker version identifed as 1.0.0\n",
      "2019-08-17 17:29:39,791.791.2652492523193:kafka.conn:139956971476736:INFO:2000:Set configuration api_version=(1, 0, 0) to skip auto check_version requests on startup\n",
      "2019-08-17 17:29:39,788.788.8789176940918:kafka.producer.kafka:139956971476736:INFO:1998:Proceeding to force close the producer since pending requests could not be completed within timeout 0.\n",
      "2019-08-17 17:29:39,793.793.5802936553955:kafka.conn:139956890081024:INFO:1998:<BrokerConnection node_id=0 host=ubuntu:9092 <connected> [IPv4 ('127.0.1.1', 9092)]>: Closing connection. \n",
      "2019-08-17 17:29:39,796.796.466588973999:kafka.producer.kafka:139956971476736:INFO:2000:Closing the Kafka producer with 0 secs timeout.\n"
     ]
    },
    {
     "name": "stdout",
     "output_type": "stream",
     "text": [
      "topic=my_topic partition=0 offset=2950: key=None value={'number_1': '-14.675302605599,0.2299606634112692,35.996659490933055,22.696682835061928,6.737084822077537'}\n"
     ]
    },
    {
     "name": "stderr",
     "output_type": "stream",
     "text": [
      "2019-08-17 17:29:39,797.797.9471683502197:kafka.conn:139956881688320:INFO:1998:<BrokerConnection node_id=0 host=ubuntu:9092 <connecting> [IPv4 ('127.0.1.1', 9092)]>: connecting to ubuntu:9092 [('127.0.1.1', 9092) IPv4]\n",
      "2019-08-17 17:29:39,798.798.2380390167236:kafka.producer.kafka:139956971476736:INFO:2000:Proceeding to force close the producer since pending requests could not be completed within timeout 0.\n",
      "2019-08-17 17:29:39,801.801.0749816894531:kafka.conn:139956881688320:INFO:1998:<BrokerConnection node_id=0 host=ubuntu:9092 <connecting> [IPv4 ('127.0.1.1', 9092)]>: Connection complete.\n",
      "2019-08-17 17:29:39,801.801.9287586212158:kafka.conn:139954520844032:INFO:2000:<BrokerConnection node_id=0 host=ubuntu:9092 <connected> [IPv4 ('127.0.1.1', 9092)]>: Closing connection. \n",
      "2019-08-17 17:29:39,802.802.1368980407715:kafka.conn:139956971476736:INFO:1998:<BrokerConnection node_id=bootstrap-0 host=localhost:9092 <connecting> [IPv6 ('::1', 9092, 0, 0)]>: connecting to localhost:9092 [('::1', 9092, 0, 0) IPv6]\n",
      "2019-08-17 17:29:39,802.802.8881549835205:kafka.conn:139956881688320:INFO:1998:<BrokerConnection node_id=bootstrap-0 host=localhost:9092 <connected> [IPv6 ('::1', 9092, 0, 0)]>: Closing connection. \n"
     ]
    },
    {
     "name": "stdout",
     "output_type": "stream",
     "text": [
      "topic=my-topic partition=0 offset=2350: key=None value={'number_2': '4.319614549462364,0.26797659577811284,-8.566646396360353,2.874088447070216,-0.8158312201589215'}\n"
     ]
    },
    {
     "name": "stderr",
     "output_type": "stream",
     "text": [
      "2019-08-17 17:29:39,806.806.4413070678711:kafka.conn:139956890081024:INFO:2000:<BrokerConnection node_id=0 host=ubuntu:9092 <connecting> [IPv4 ('127.0.1.1', 9092)]>: connecting to ubuntu:9092 [('127.0.1.1', 9092) IPv4]\n",
      "2019-08-17 17:29:39,804.804.7122955322266:kafka.conn:139956971476736:INFO:1998:Probing node bootstrap-0 broker version\n"
     ]
    },
    {
     "name": "stdout",
     "output_type": "stream",
     "text": [
      "topic : result , partition : 0 , offset : 864\n"
     ]
    },
    {
     "name": "stderr",
     "output_type": "stream",
     "text": [
      "2019-08-17 17:29:39,809.809.0741634368896:kafka.conn:139956971476736:INFO:2000:<BrokerConnection node_id=bootstrap-0 host=localhost:9092 <connecting> [IPv6 ('::1', 9092, 0, 0)]>: connecting to localhost:9092 [('::1', 9092, 0, 0) IPv6]\n",
      "2019-08-17 17:29:39,810.810.2285861968994:kafka.conn:139956971476736:INFO:1998:<BrokerConnection node_id=bootstrap-0 host=localhost:9092 <connecting> [IPv6 ('::1', 9092, 0, 0)]>: Connection complete.\n",
      "2019-08-17 17:29:39,810.810.3907108306885:kafka.conn:139956890081024:INFO:2000:<BrokerConnection node_id=0 host=ubuntu:9092 <connecting> [IPv4 ('127.0.1.1', 9092)]>: Connection complete.\n",
      "2019-08-17 17:29:39,810.810.9536170959473:kafka.conn:139956971476736:INFO:2000:Probing node bootstrap-0 broker version\n",
      "2019-08-17 17:29:39,812.812.2856616973877:kafka.conn:139956890081024:INFO:2000:<BrokerConnection node_id=bootstrap-0 host=localhost:9092 <connected> [IPv6 ('::1', 9092, 0, 0)]>: Closing connection. \n",
      "2019-08-17 17:29:39,814.814.1307830810547:kafka.conn:139956971476736:INFO:2000:<BrokerConnection node_id=bootstrap-0 host=localhost:9092 <connecting> [IPv6 ('::1', 9092, 0, 0)]>: Connection complete.\n"
     ]
    },
    {
     "name": "stdout",
     "output_type": "stream",
     "text": [
      "topic : result , partition : 0 , offset : 865\n"
     ]
    },
    {
     "name": "stderr",
     "output_type": "stream",
     "text": [
      "2019-08-17 17:29:39,914.914.9074554443359:kafka.conn:139956971476736:INFO:1998:Broker version identifed as 1.0.0\n",
      "2019-08-17 17:29:39,916.916.5248870849609:kafka.conn:139956971476736:INFO:1998:Set configuration api_version=(1, 0, 0) to skip auto check_version requests on startup\n",
      "2019-08-17 17:29:39,920.920.4232692718506:kafka.producer.kafka:139956971476736:INFO:1998:Closing the Kafka producer with 0 secs timeout.\n",
      "2019-08-17 17:29:39,921.921.755313873291:kafka.conn:139956971476736:INFO:2000:Broker version identifed as 1.0.0\n",
      "2019-08-17 17:29:39,924.924.0505695343018:kafka.producer.kafka:139956971476736:INFO:1998:Proceeding to force close the producer since pending requests could not be completed within timeout 0.\n",
      "2019-08-17 17:29:39,924.924.5221614837646:kafka.conn:139956971476736:INFO:2000:Set configuration api_version=(1, 0, 0) to skip auto check_version requests on startup\n",
      "2019-08-17 17:29:39,926.926.128625869751:kafka.conn:139956881688320:INFO:1998:<BrokerConnection node_id=0 host=ubuntu:9092 <connected> [IPv4 ('127.0.1.1', 9092)]>: Closing connection. \n",
      "2019-08-17 17:29:39,928.928.966760635376:kafka.producer.kafka:139956971476736:INFO:2000:Closing the Kafka producer with 0 secs timeout.\n"
     ]
    },
    {
     "name": "stdout",
     "output_type": "stream",
     "text": [
      "topic=my_topic partition=0 offset=2951: key=None value={'number_1': '-10.474612213992224,-16.506140469544093,17.845822297160506,-11.72585096617307,3.8320948424924737'}\n"
     ]
    },
    {
     "name": "stderr",
     "output_type": "stream",
     "text": [
      "2019-08-17 17:29:39,930.930.6387901306152:kafka.conn:139954520844032:INFO:1998:<BrokerConnection node_id=0 host=ubuntu:9092 <connecting> [IPv4 ('127.0.1.1', 9092)]>: connecting to ubuntu:9092 [('127.0.1.1', 9092) IPv4]\n",
      "2019-08-17 17:29:39,932.932.8491687774658:kafka.producer.kafka:139956971476736:INFO:2000:Proceeding to force close the producer since pending requests could not be completed within timeout 0.\n",
      "2019-08-17 17:29:39,934.934.0155124664307:kafka.conn:139954520844032:INFO:1998:<BrokerConnection node_id=0 host=ubuntu:9092 <connecting> [IPv4 ('127.0.1.1', 9092)]>: Connection complete.\n",
      "2019-08-17 17:29:39,934.934.5846176147461:kafka.conn:139956890081024:INFO:2000:<BrokerConnection node_id=0 host=ubuntu:9092 <connected> [IPv4 ('127.0.1.1', 9092)]>: Closing connection. \n",
      "2019-08-17 17:29:39,935.935.4603290557861:kafka.conn:139956971476736:INFO:1998:<BrokerConnection node_id=bootstrap-0 host=localhost:9092 <connecting> [IPv6 ('::1', 9092, 0, 0)]>: connecting to localhost:9092 [('::1', 9092, 0, 0) IPv6]\n",
      "2019-08-17 17:29:39,936.936.030387878418:kafka.conn:139954520844032:INFO:1998:<BrokerConnection node_id=bootstrap-0 host=localhost:9092 <connected> [IPv6 ('::1', 9092, 0, 0)]>: Closing connection. \n"
     ]
    },
    {
     "name": "stdout",
     "output_type": "stream",
     "text": [
      "topic=my-topic partition=0 offset=2351: key=None value={'number_2': '-4.483680690003103,-1.1788791319949485,23.139663532726082,2.452956955783297,7.234939172838449'}\n"
     ]
    },
    {
     "name": "stderr",
     "output_type": "stream",
     "text": [
      "2019-08-17 17:29:39,939.939.1083717346191:kafka.conn:139954520844032:INFO:2000:<BrokerConnection node_id=0 host=ubuntu:9092 <connecting> [IPv4 ('127.0.1.1', 9092)]>: connecting to ubuntu:9092 [('127.0.1.1', 9092) IPv4]\n",
      "2019-08-17 17:29:39,937.937.6394748687744:kafka.conn:139956971476736:INFO:1998:Probing node bootstrap-0 broker version\n"
     ]
    },
    {
     "name": "stdout",
     "output_type": "stream",
     "text": [
      "topic : result , partition : 0 , offset : 866\n"
     ]
    },
    {
     "name": "stderr",
     "output_type": "stream",
     "text": [
      "2019-08-17 17:29:39,942.942.2435760498047:kafka.conn:139954520844032:INFO:2000:<BrokerConnection node_id=0 host=ubuntu:9092 <connecting> [IPv4 ('127.0.1.1', 9092)]>: Connection complete.\n",
      "2019-08-17 17:29:39,942.942.5938129425049:kafka.conn:139956971476736:INFO:1998:<BrokerConnection node_id=bootstrap-0 host=localhost:9092 <connecting> [IPv6 ('::1', 9092, 0, 0)]>: Connection complete.\n",
      "2019-08-17 17:29:39,943.943.234920501709:kafka.conn:139956971476736:INFO:2000:<BrokerConnection node_id=bootstrap-0 host=localhost:9092 <connecting> [IPv6 ('::1', 9092, 0, 0)]>: connecting to localhost:9092 [('::1', 9092, 0, 0) IPv6]\n",
      "2019-08-17 17:29:39,943.943.9189434051514:kafka.conn:139954520844032:INFO:2000:<BrokerConnection node_id=bootstrap-0 host=localhost:9092 <connected> [IPv6 ('::1', 9092, 0, 0)]>: Closing connection. \n",
      "2019-08-17 17:29:39,946.946.4192390441895:kafka.conn:139956971476736:INFO:2000:Probing node bootstrap-0 broker version\n"
     ]
    },
    {
     "name": "stdout",
     "output_type": "stream",
     "text": [
      "topic : result , partition : 0 , offset : 867\n"
     ]
    },
    {
     "name": "stderr",
     "output_type": "stream",
     "text": [
      "2019-08-17 17:29:39,950.950.4802227020264:kafka.conn:139956971476736:INFO:2000:<BrokerConnection node_id=bootstrap-0 host=localhost:9092 <connecting> [IPv6 ('::1', 9092, 0, 0)]>: Connection complete.\n",
      "2019-08-17 17:29:40,046.46.60606384277344:kafka.conn:139956971476736:INFO:1998:Broker version identifed as 1.0.0\n",
      "2019-08-17 17:29:40,048.48.02083969116211:kafka.conn:139956971476736:INFO:1998:Set configuration api_version=(1, 0, 0) to skip auto check_version requests on startup\n",
      "2019-08-17 17:29:40,051.51.981210708618164:kafka.producer.kafka:139956971476736:INFO:1998:Closing the Kafka producer with 0 secs timeout.\n",
      "2019-08-17 17:29:40,054.54.72159385681152:kafka.conn:139956971476736:INFO:2000:Broker version identifed as 1.0.0\n",
      "2019-08-17 17:29:40,055.55.53936958312988:kafka.producer.kafka:139956971476736:INFO:1998:Proceeding to force close the producer since pending requests could not be completed within timeout 0.\n",
      "2019-08-17 17:29:40,056.56.25176429748535:kafka.conn:139956971476736:INFO:2000:Set configuration api_version=(1, 0, 0) to skip auto check_version requests on startup\n",
      "2019-08-17 17:29:40,057.57.44218826293945:kafka.conn:139954520844032:INFO:1998:<BrokerConnection node_id=0 host=ubuntu:9092 <connected> [IPv4 ('127.0.1.1', 9092)]>: Closing connection. \n",
      "2019-08-17 17:29:40,060.60.24432182312012:kafka.producer.kafka:139956971476736:INFO:2000:Closing the Kafka producer with 0 secs timeout.\n"
     ]
    },
    {
     "name": "stdout",
     "output_type": "stream",
     "text": [
      "topic=my_topic partition=0 offset=2952: key=None value={'number_1': '-18.13194446217192,0.15685100734534707,-0.927795907262162,32.16649313763199,16.891588507256333'}\n"
     ]
    },
    {
     "name": "stderr",
     "output_type": "stream",
     "text": [
      "2019-08-17 17:29:40,061.61.74612045288086:kafka.conn:139956881688320:INFO:1998:<BrokerConnection node_id=0 host=ubuntu:9092 <connecting> [IPv4 ('127.0.1.1', 9092)]>: connecting to ubuntu:9092 [('127.0.1.1', 9092) IPv4]\n",
      "2019-08-17 17:29:40,063.63.86160850524902:kafka.producer.kafka:139956971476736:INFO:2000:Proceeding to force close the producer since pending requests could not be completed within timeout 0.\n",
      "2019-08-17 17:29:40,064.64.37206268310547:kafka.conn:139956971476736:INFO:1998:<BrokerConnection node_id=bootstrap-0 host=localhost:9092 <connecting> [IPv6 ('::1', 9092, 0, 0)]>: connecting to localhost:9092 [('::1', 9092, 0, 0) IPv6]\n",
      "2019-08-17 17:29:40,065.65.60611724853516:kafka.conn:139954520844032:INFO:2000:<BrokerConnection node_id=0 host=ubuntu:9092 <connected> [IPv4 ('127.0.1.1', 9092)]>: Closing connection. \n",
      "2019-08-17 17:29:40,065.65.06109237670898:kafka.conn:139956881688320:INFO:1998:<BrokerConnection node_id=0 host=ubuntu:9092 <connecting> [IPv4 ('127.0.1.1', 9092)]>: Connection complete.\n"
     ]
    },
    {
     "name": "stdout",
     "output_type": "stream",
     "text": [
      "topic=my-topic partition=0 offset=2352: key=None value={'number_2': '-11.238339633178043,5.819133388359459,8.154646936366177,5.510221599523492,-2.671588689033669'}\n"
     ]
    },
    {
     "name": "stderr",
     "output_type": "stream",
     "text": [
      "2019-08-17 17:29:40,066.66.63203239440918:kafka.conn:139956971476736:INFO:1998:Probing node bootstrap-0 broker version\n",
      "2019-08-17 17:29:40,068.68.17865371704102:kafka.conn:139956881688320:INFO:1998:<BrokerConnection node_id=bootstrap-0 host=localhost:9092 <connected> [IPv6 ('::1', 9092, 0, 0)]>: Closing connection. \n",
      "2019-08-17 17:29:40,069.69.29612159729004:kafka.conn:139954881533696:INFO:2000:<BrokerConnection node_id=0 host=ubuntu:9092 <connecting> [IPv4 ('127.0.1.1', 9092)]>: connecting to ubuntu:9092 [('127.0.1.1', 9092) IPv4]\n",
      "2019-08-17 17:29:40,071.71.35343551635742:kafka.conn:139956971476736:INFO:2000:<BrokerConnection node_id=bootstrap-0 host=localhost:9092 <connecting> [IPv6 ('::1', 9092, 0, 0)]>: connecting to localhost:9092 [('::1', 9092, 0, 0) IPv6]\n",
      "2019-08-17 17:29:40,070.70.13583183288574:kafka.conn:139956971476736:INFO:1998:<BrokerConnection node_id=bootstrap-0 host=localhost:9092 <connecting> [IPv6 ('::1', 9092, 0, 0)]>: Connection complete.\n",
      "2019-08-17 17:29:40,072.72.16596603393555:kafka.conn:139954881533696:INFO:2000:<BrokerConnection node_id=0 host=ubuntu:9092 <connecting> [IPv4 ('127.0.1.1', 9092)]>: Connection complete.\n"
     ]
    },
    {
     "name": "stdout",
     "output_type": "stream",
     "text": [
      "topic : result , partition : 0 , offset : 868\n"
     ]
    },
    {
     "name": "stderr",
     "output_type": "stream",
     "text": [
      "2019-08-17 17:29:40,073.73.7144947052002:kafka.conn:139956971476736:INFO:2000:Probing node bootstrap-0 broker version\n",
      "2019-08-17 17:29:40,075.75.26803016662598:kafka.conn:139954881533696:INFO:2000:<BrokerConnection node_id=bootstrap-0 host=localhost:9092 <connected> [IPv6 ('::1', 9092, 0, 0)]>: Closing connection. \n",
      "2019-08-17 17:29:40,077.77.03423500061035:kafka.conn:139956971476736:INFO:2000:<BrokerConnection node_id=bootstrap-0 host=localhost:9092 <connecting> [IPv6 ('::1', 9092, 0, 0)]>: Connection complete.\n"
     ]
    },
    {
     "name": "stdout",
     "output_type": "stream",
     "text": [
      "topic : result , partition : 0 , offset : 869\n"
     ]
    },
    {
     "name": "stderr",
     "output_type": "stream",
     "text": [
      "2019-08-17 17:29:40,178.178.41219902038574:kafka.conn:139956971476736:INFO:1998:Broker version identifed as 1.0.0\n",
      "2019-08-17 17:29:40,180.180.04655838012695:kafka.conn:139956971476736:INFO:1998:Set configuration api_version=(1, 0, 0) to skip auto check_version requests on startup\n",
      "2019-08-17 17:29:40,184.184.8154067993164:kafka.conn:139956971476736:INFO:2000:Broker version identifed as 1.0.0\n",
      "2019-08-17 17:29:40,185.185.12487411499023:kafka.producer.kafka:139956971476736:INFO:1998:Closing the Kafka producer with 0 secs timeout.\n",
      "2019-08-17 17:29:40,186.186.49673461914062:kafka.conn:139956971476736:INFO:2000:Set configuration api_version=(1, 0, 0) to skip auto check_version requests on startup\n",
      "2019-08-17 17:29:40,188.188.6463165283203:kafka.producer.kafka:139956971476736:INFO:1998:Proceeding to force close the producer since pending requests could not be completed within timeout 0.\n",
      "2019-08-17 17:29:40,190.190.54269790649414:kafka.conn:139956881688320:INFO:1998:<BrokerConnection node_id=0 host=ubuntu:9092 <connected> [IPv4 ('127.0.1.1', 9092)]>: Closing connection. \n",
      "2019-08-17 17:29:40,191.191.6201114654541:kafka.producer.kafka:139956971476736:INFO:2000:Closing the Kafka producer with 0 secs timeout.\n"
     ]
    },
    {
     "name": "stdout",
     "output_type": "stream",
     "text": [
      "topic=my_topic partition=0 offset=2953: key=None value={'number_1': '3.435146342764633,6.119959644941236,-2.1930841102996865,-10.660099183694726,17.566585846534323'}\n"
     ]
    },
    {
     "name": "stderr",
     "output_type": "stream",
     "text": [
      "2019-08-17 17:29:40,195.195.63603401184082:kafka.producer.kafka:139956971476736:INFO:2000:Proceeding to force close the producer since pending requests could not be completed within timeout 0.\n",
      "2019-08-17 17:29:40,195.195.3132152557373:kafka.conn:139956890081024:INFO:1998:<BrokerConnection node_id=0 host=ubuntu:9092 <connecting> [IPv4 ('127.0.1.1', 9092)]>: connecting to ubuntu:9092 [('127.0.1.1', 9092) IPv4]\n",
      "2019-08-17 17:29:40,197.197.4329948425293:kafka.conn:139954881533696:INFO:2000:<BrokerConnection node_id=0 host=ubuntu:9092 <connected> [IPv4 ('127.0.1.1', 9092)]>: Closing connection. \n",
      "2019-08-17 17:29:40,197.197.96133041381836:kafka.conn:139956971476736:INFO:1998:<BrokerConnection node_id=bootstrap-0 host=localhost:9092 <connecting> [IPv6 ('::1', 9092, 0, 0)]>: connecting to localhost:9092 [('::1', 9092, 0, 0) IPv6]\n",
      "2019-08-17 17:29:40,198.198.55523109436035:kafka.conn:139956890081024:INFO:1998:<BrokerConnection node_id=0 host=ubuntu:9092 <connecting> [IPv4 ('127.0.1.1', 9092)]>: Connection complete.\n"
     ]
    },
    {
     "name": "stdout",
     "output_type": "stream",
     "text": [
      "topic=my-topic partition=0 offset=2353: key=None value={'number_2': '-5.401838982175993,-5.208632719559478,-0.6421769877062465,9.309766541501762,18.82914506987843'}\n"
     ]
    },
    {
     "name": "stderr",
     "output_type": "stream",
     "text": [
      "2019-08-17 17:29:40,201.201.4167308807373:kafka.conn:139956890081024:INFO:2000:<BrokerConnection node_id=0 host=ubuntu:9092 <connecting> [IPv4 ('127.0.1.1', 9092)]>: connecting to ubuntu:9092 [('127.0.1.1', 9092) IPv4]\n",
      "2019-08-17 17:29:40,200.200.0296115875244:kafka.conn:139956971476736:INFO:1998:Probing node bootstrap-0 broker version\n",
      "2019-08-17 17:29:40,201.201.70331001281738:kafka.conn:139956890081024:INFO:1998:<BrokerConnection node_id=bootstrap-0 host=localhost:9092 <connected> [IPv6 ('::1', 9092, 0, 0)]>: Closing connection. \n",
      "2019-08-17 17:29:40,204.204.50663566589355:kafka.conn:139956890081024:INFO:2000:<BrokerConnection node_id=0 host=ubuntu:9092 <connecting> [IPv4 ('127.0.1.1', 9092)]>: Connection complete.\n",
      "2019-08-17 17:29:40,203.203.49788665771484:kafka.conn:139956971476736:INFO:1998:<BrokerConnection node_id=bootstrap-0 host=localhost:9092 <connecting> [IPv6 ('::1', 9092, 0, 0)]>: Connection complete.\n",
      "2019-08-17 17:29:40,204.204.73170280456543:kafka.conn:139956971476736:INFO:2000:<BrokerConnection node_id=bootstrap-0 host=localhost:9092 <connecting> [IPv6 ('::1', 9092, 0, 0)]>: connecting to localhost:9092 [('::1', 9092, 0, 0) IPv6]\n"
     ]
    },
    {
     "name": "stdout",
     "output_type": "stream",
     "text": [
      "topic : result , partition : 0 , offset : 870\n"
     ]
    },
    {
     "name": "stderr",
     "output_type": "stream",
     "text": [
      "2019-08-17 17:29:40,206.206.38394355773926:kafka.conn:139956890081024:INFO:2000:<BrokerConnection node_id=bootstrap-0 host=localhost:9092 <connected> [IPv6 ('::1', 9092, 0, 0)]>: Closing connection. \n",
      "2019-08-17 17:29:40,208.208.0976963043213:kafka.conn:139956971476736:INFO:2000:Probing node bootstrap-0 broker version\n",
      "2019-08-17 17:29:40,212.212.12267875671387:kafka.conn:139956971476736:INFO:2000:<BrokerConnection node_id=bootstrap-0 host=localhost:9092 <connecting> [IPv6 ('::1', 9092, 0, 0)]>: Connection complete.\n"
     ]
    },
    {
     "name": "stdout",
     "output_type": "stream",
     "text": [
      "topic : result , partition : 0 , offset : 871\n"
     ]
    },
    {
     "name": "stderr",
     "output_type": "stream",
     "text": [
      "2019-08-17 17:29:40,311.311.25831604003906:kafka.conn:139956971476736:INFO:1998:Broker version identifed as 1.0.0\n",
      "2019-08-17 17:29:40,312.312.8948211669922:kafka.conn:139956971476736:INFO:1998:Set configuration api_version=(1, 0, 0) to skip auto check_version requests on startup\n",
      "2019-08-17 17:29:40,316.316.8647289276123:kafka.producer.kafka:139956971476736:INFO:1998:Closing the Kafka producer with 0 secs timeout.\n",
      "2019-08-17 17:29:40,317.317.02327728271484:kafka.conn:139956971476736:INFO:2000:Broker version identifed as 1.0.0\n",
      "2019-08-17 17:29:40,318.318.742036819458:kafka.conn:139956971476736:INFO:2000:Set configuration api_version=(1, 0, 0) to skip auto check_version requests on startup\n",
      "2019-08-17 17:29:40,320.320.690393447876:kafka.producer.kafka:139956971476736:INFO:1998:Proceeding to force close the producer since pending requests could not be completed within timeout 0.\n",
      "2019-08-17 17:29:40,322.322.76320457458496:kafka.producer.kafka:139956971476736:INFO:2000:Closing the Kafka producer with 0 secs timeout.\n",
      "2019-08-17 17:29:40,323.323.0400085449219:kafka.conn:139956890081024:INFO:1998:<BrokerConnection node_id=0 host=ubuntu:9092 <connected> [IPv4 ('127.0.1.1', 9092)]>: Closing connection. \n"
     ]
    },
    {
     "name": "stdout",
     "output_type": "stream",
     "text": [
      "topic=my_topic partition=0 offset=2954: key=None value={'number_1': '48.10352265255179,11.849367099293612,9.996328870749783,47.136108769118515,18.493299066803914'}\n"
     ]
    },
    {
     "name": "stderr",
     "output_type": "stream",
     "text": [
      "2019-08-17 17:29:40,324.324.53227043151855:kafka.producer.kafka:139956971476736:INFO:2000:Proceeding to force close the producer since pending requests could not be completed within timeout 0.\n",
      "2019-08-17 17:29:40,328.328.6614418029785:kafka.conn:139956890081024:INFO:2000:<BrokerConnection node_id=0 host=ubuntu:9092 <connected> [IPv4 ('127.0.1.1', 9092)]>: Closing connection. \n",
      "2019-08-17 17:29:40,327.327.531099319458:kafka.conn:139954520844032:INFO:1998:<BrokerConnection node_id=0 host=ubuntu:9092 <connecting> [IPv4 ('127.0.1.1', 9092)]>: connecting to ubuntu:9092 [('127.0.1.1', 9092) IPv4]\n",
      "2019-08-17 17:29:40,330.330.6281566619873:kafka.conn:139956971476736:INFO:1998:<BrokerConnection node_id=bootstrap-0 host=localhost:9092 <connecting> [IPv6 ('::1', 9092, 0, 0)]>: connecting to localhost:9092 [('::1', 9092, 0, 0) IPv6]\n"
     ]
    },
    {
     "name": "stdout",
     "output_type": "stream",
     "text": [
      "topic=my-topic partition=0 offset=2354: key=None value={'number_2': '17.523705308877265,-9.99104003249506,1.9820642365102152,-10.355872187559115,4.693002911569633'}\n"
     ]
    },
    {
     "name": "stderr",
     "output_type": "stream",
     "text": [
      "2019-08-17 17:29:40,332.332.92174339294434:kafka.conn:139954520844032:INFO:2000:<BrokerConnection node_id=0 host=ubuntu:9092 <connecting> [IPv4 ('127.0.1.1', 9092)]>: connecting to ubuntu:9092 [('127.0.1.1', 9092) IPv4]\n",
      "2019-08-17 17:29:40,331.331.44378662109375:kafka.conn:139954520844032:INFO:1998:<BrokerConnection node_id=0 host=ubuntu:9092 <connecting> [IPv4 ('127.0.1.1', 9092)]>: Connection complete.\n",
      "2019-08-17 17:29:40,333.333.282470703125:kafka.conn:139956971476736:INFO:1998:Probing node bootstrap-0 broker version\n",
      "2019-08-17 17:29:40,335.335.843563079834:kafka.conn:139954520844032:INFO:2000:<BrokerConnection node_id=0 host=ubuntu:9092 <connecting> [IPv4 ('127.0.1.1', 9092)]>: Connection complete.\n",
      "2019-08-17 17:29:40,335.335.186243057251:kafka.conn:139954520844032:INFO:1998:<BrokerConnection node_id=bootstrap-0 host=localhost:9092 <connected> [IPv6 ('::1', 9092, 0, 0)]>: Closing connection. \n",
      "2019-08-17 17:29:40,336.336.85922622680664:kafka.conn:139956971476736:INFO:2000:<BrokerConnection node_id=bootstrap-0 host=localhost:9092 <connecting> [IPv6 ('::1', 9092, 0, 0)]>: connecting to localhost:9092 [('::1', 9092, 0, 0) IPv6]\n",
      "2019-08-17 17:29:40,337.337.37778663635254:kafka.conn:139954520844032:INFO:2000:<BrokerConnection node_id=bootstrap-0 host=localhost:9092 <connected> [IPv6 ('::1', 9092, 0, 0)]>: Closing connection. \n",
      "2019-08-17 17:29:40,337.337.19706535339355:kafka.conn:139956971476736:INFO:1998:<BrokerConnection node_id=bootstrap-0 host=localhost:9092 <connecting> [IPv6 ('::1', 9092, 0, 0)]>: Connection complete.\n"
     ]
    },
    {
     "name": "stdout",
     "output_type": "stream",
     "text": [
      "topic : result , partition : 0 , offset : 872\n"
     ]
    },
    {
     "name": "stderr",
     "output_type": "stream",
     "text": [
      "2019-08-17 17:29:40,339.339.0462398529053:kafka.conn:139956971476736:INFO:2000:Probing node bootstrap-0 broker version\n"
     ]
    },
    {
     "name": "stdout",
     "output_type": "stream",
     "text": [
      "topic : result , partition : 0 , offset : 873\n"
     ]
    },
    {
     "name": "stderr",
     "output_type": "stream",
     "text": [
      "2019-08-17 17:29:40,344.344.45667266845703:kafka.conn:139956971476736:INFO:2000:<BrokerConnection node_id=bootstrap-0 host=localhost:9092 <connecting> [IPv6 ('::1', 9092, 0, 0)]>: Connection complete.\n",
      "2019-08-17 17:29:40,445.445.1935291290283:kafka.conn:139956971476736:INFO:1998:Broker version identifed as 1.0.0\n",
      "2019-08-17 17:29:40,446.446.7742443084717:kafka.conn:139956971476736:INFO:1998:Set configuration api_version=(1, 0, 0) to skip auto check_version requests on startup\n",
      "2019-08-17 17:29:40,448.448.9266872406006:kafka.conn:139956971476736:INFO:2000:Broker version identifed as 1.0.0\n",
      "2019-08-17 17:29:40,450.450.4249095916748:kafka.conn:139956971476736:INFO:2000:Set configuration api_version=(1, 0, 0) to skip auto check_version requests on startup\n",
      "2019-08-17 17:29:40,450.450.78325271606445:kafka.producer.kafka:139956971476736:INFO:1998:Closing the Kafka producer with 0 secs timeout.\n",
      "2019-08-17 17:29:40,454.454.2727470397949:kafka.producer.kafka:139956971476736:INFO:2000:Closing the Kafka producer with 0 secs timeout.\n",
      "2019-08-17 17:29:40,454.454.5402526855469:kafka.producer.kafka:139956971476736:INFO:1998:Proceeding to force close the producer since pending requests could not be completed within timeout 0.\n",
      "2019-08-17 17:29:40,456.456.1498165130615:kafka.conn:139954520844032:INFO:1998:<BrokerConnection node_id=0 host=ubuntu:9092 <connected> [IPv4 ('127.0.1.1', 9092)]>: Closing connection. \n",
      "2019-08-17 17:29:40,455.455.9140205383301:kafka.producer.kafka:139956971476736:INFO:2000:Proceeding to force close the producer since pending requests could not be completed within timeout 0.\n",
      "2019-08-17 17:29:40,460.460.3152275085449:kafka.conn:139954520844032:INFO:2000:<BrokerConnection node_id=0 host=ubuntu:9092 <connected> [IPv4 ('127.0.1.1', 9092)]>: Closing connection. \n"
     ]
    },
    {
     "name": "stdout",
     "output_type": "stream",
     "text": [
      "topic=my_topic partition=0 offset=2955: key=None value={'number_1': '32.36099734540346,-18.129193549444835,7.880631660343327,43.36666703807342,-1.7126315074204257'}\n"
     ]
    },
    {
     "name": "stderr",
     "output_type": "stream",
     "text": [
      "2019-08-17 17:29:40,462.462.0044231414795:kafka.conn:139956890081024:INFO:1998:<BrokerConnection node_id=0 host=ubuntu:9092 <connecting> [IPv4 ('127.0.1.1', 9092)]>: connecting to ubuntu:9092 [('127.0.1.1', 9092) IPv4]\n"
     ]
    },
    {
     "name": "stdout",
     "output_type": "stream",
     "text": [
      "topic=my-topic partition=0 offset=2355: key=None value={'number_2': '-8.199458660741602,12.787514188477335,11.721582939548634,-1.443116354200757,-6.814510770718'}\n"
     ]
    },
    {
     "name": "stderr",
     "output_type": "stream",
     "text": [
      "2019-08-17 17:29:40,464.464.54429626464844:kafka.conn:139956890081024:INFO:2000:<BrokerConnection node_id=0 host=ubuntu:9092 <connecting> [IPv4 ('127.0.1.1', 9092)]>: connecting to ubuntu:9092 [('127.0.1.1', 9092) IPv4]\n",
      "2019-08-17 17:29:40,464.464.16783332824707:kafka.conn:139956971476736:INFO:1998:<BrokerConnection node_id=bootstrap-0 host=localhost:9092 <connecting> [IPv6 ('::1', 9092, 0, 0)]>: connecting to localhost:9092 [('::1', 9092, 0, 0) IPv6]\n",
      "2019-08-17 17:29:40,464.464.9689197540283:kafka.conn:139956890081024:INFO:1998:<BrokerConnection node_id=0 host=ubuntu:9092 <connecting> [IPv4 ('127.0.1.1', 9092)]>: Connection complete.\n",
      "2019-08-17 17:29:40,467.467.0383930206299:kafka.conn:139956890081024:INFO:2000:<BrokerConnection node_id=0 host=ubuntu:9092 <connecting> [IPv4 ('127.0.1.1', 9092)]>: Connection complete.\n",
      "2019-08-17 17:29:40,466.466.65191650390625:kafka.conn:139956971476736:INFO:1998:Probing node bootstrap-0 broker version\n",
      "2019-08-17 17:29:40,467.467.7455425262451:kafka.conn:139956971476736:INFO:2000:<BrokerConnection node_id=bootstrap-0 host=localhost:9092 <connecting> [IPv6 ('::1', 9092, 0, 0)]>: connecting to localhost:9092 [('::1', 9092, 0, 0) IPv6]\n",
      "2019-08-17 17:29:40,468.468.4154987335205:kafka.conn:139956890081024:INFO:2000:<BrokerConnection node_id=bootstrap-0 host=localhost:9092 <connected> [IPv6 ('::1', 9092, 0, 0)]>: Closing connection. \n",
      "2019-08-17 17:29:40,468.468.20950508117676:kafka.conn:139956890081024:INFO:1998:<BrokerConnection node_id=bootstrap-0 host=localhost:9092 <connected> [IPv6 ('::1', 9092, 0, 0)]>: Closing connection. \n",
      "2019-08-17 17:29:40,469.469.9850082397461:kafka.conn:139956971476736:INFO:2000:Probing node bootstrap-0 broker version\n",
      "2019-08-17 17:29:40,470.470.09778022766113:kafka.conn:139956971476736:INFO:1998:<BrokerConnection node_id=bootstrap-0 host=localhost:9092 <connecting> [IPv6 ('::1', 9092, 0, 0)]>: Connection complete.\n"
     ]
    },
    {
     "name": "stdout",
     "output_type": "stream",
     "text": [
      "topic : result , partition : 0 , offset : 874\n",
      "topic : result , partition : 0 , offset : 875\n"
     ]
    },
    {
     "name": "stderr",
     "output_type": "stream",
     "text": [
      "2019-08-17 17:29:40,474.474.7436046600342:kafka.conn:139956971476736:INFO:2000:<BrokerConnection node_id=bootstrap-0 host=localhost:9092 <connecting> [IPv6 ('::1', 9092, 0, 0)]>: Connection complete.\n",
      "2019-08-17 17:29:40,578.578.5074234008789:kafka.conn:139956971476736:INFO:1998:Broker version identifed as 1.0.0\n",
      "2019-08-17 17:29:40,579.579.2474746704102:kafka.conn:139956971476736:INFO:2000:Broker version identifed as 1.0.0\n",
      "2019-08-17 17:29:40,580.580.2459716796875:kafka.conn:139956971476736:INFO:1998:Set configuration api_version=(1, 0, 0) to skip auto check_version requests on startup\n",
      "2019-08-17 17:29:40,580.580.6357860565186:kafka.conn:139956971476736:INFO:2000:Set configuration api_version=(1, 0, 0) to skip auto check_version requests on startup\n",
      "2019-08-17 17:29:40,585.585.3650569915771:kafka.producer.kafka:139956971476736:INFO:1998:Closing the Kafka producer with 0 secs timeout.\n",
      "2019-08-17 17:29:40,585.585.780143737793:kafka.producer.kafka:139956971476736:INFO:2000:Closing the Kafka producer with 0 secs timeout.\n",
      "2019-08-17 17:29:40,589.589.632511138916:kafka.producer.kafka:139956971476736:INFO:2000:Proceeding to force close the producer since pending requests could not be completed within timeout 0.\n",
      "2019-08-17 17:29:40,589.589.1356468200684:kafka.producer.kafka:139956971476736:INFO:1998:Proceeding to force close the producer since pending requests could not be completed within timeout 0.\n",
      "2019-08-17 17:29:40,591.591.2051200866699:kafka.conn:139956890081024:INFO:2000:<BrokerConnection node_id=0 host=ubuntu:9092 <connected> [IPv4 ('127.0.1.1', 9092)]>: Closing connection. \n",
      "2019-08-17 17:29:40,591.591.4955139160156:kafka.conn:139956890081024:INFO:1998:<BrokerConnection node_id=0 host=ubuntu:9092 <connected> [IPv4 ('127.0.1.1', 9092)]>: Closing connection. \n"
     ]
    },
    {
     "name": "stdout",
     "output_type": "stream",
     "text": [
      "topic=my-topic partition=0 offset=2356: key=None value={'number_2': '5.191613146760035,-9.792034922167327,15.33280806044547,25.441944556730665,10.4847006872107'}\n",
      "topic=my_topic partition=0 offset=2956: key=None value={'number_1': '2.5097224334252877,39.53168183177324,7.4835112523961165,23.44723881574344,11.636812908492642'}\n"
     ]
    },
    {
     "name": "stderr",
     "output_type": "stream",
     "text": [
      "2019-08-17 17:29:40,596.596.3678359985352:kafka.conn:139954881533696:INFO:2000:<BrokerConnection node_id=0 host=ubuntu:9092 <connecting> [IPv4 ('127.0.1.1', 9092)]>: connecting to ubuntu:9092 [('127.0.1.1', 9092) IPv4]\n",
      "2019-08-17 17:29:40,597.597.1219539642334:kafka.conn:139954520844032:INFO:1998:<BrokerConnection node_id=0 host=ubuntu:9092 <connecting> [IPv4 ('127.0.1.1', 9092)]>: connecting to ubuntu:9092 [('127.0.1.1', 9092) IPv4]\n",
      "2019-08-17 17:29:40,597.597.3169803619385:kafka.conn:139956971476736:INFO:2000:<BrokerConnection node_id=bootstrap-0 host=localhost:9092 <connecting> [IPv6 ('::1', 9092, 0, 0)]>: connecting to localhost:9092 [('::1', 9092, 0, 0) IPv6]\n",
      "2019-08-17 17:29:40,598.598.1614589691162:kafka.conn:139956971476736:INFO:1998:<BrokerConnection node_id=bootstrap-0 host=localhost:9092 <connecting> [IPv6 ('::1', 9092, 0, 0)]>: connecting to localhost:9092 [('::1', 9092, 0, 0) IPv6]\n",
      "2019-08-17 17:29:40,598.598.341703414917:kafka.conn:139954881533696:INFO:2000:<BrokerConnection node_id=0 host=ubuntu:9092 <connecting> [IPv4 ('127.0.1.1', 9092)]>: Connection complete.\n",
      "2019-08-17 17:29:40,599.599.9023914337158:kafka.conn:139954520844032:INFO:1998:<BrokerConnection node_id=0 host=ubuntu:9092 <connecting> [IPv4 ('127.0.1.1', 9092)]>: Connection complete.\n",
      "2019-08-17 17:29:40,599.599.9600887298584:kafka.conn:139956971476736:INFO:2000:Probing node bootstrap-0 broker version\n",
      "2019-08-17 17:29:40,600.600.550651550293:kafka.conn:139956971476736:INFO:1998:Probing node bootstrap-0 broker version\n",
      "2019-08-17 17:29:40,601.601.2961864471436:kafka.conn:139954881533696:INFO:2000:<BrokerConnection node_id=bootstrap-0 host=localhost:9092 <connected> [IPv6 ('::1', 9092, 0, 0)]>: Closing connection. \n",
      "2019-08-17 17:29:40,601.601.9959449768066:kafka.conn:139954520844032:INFO:1998:<BrokerConnection node_id=bootstrap-0 host=localhost:9092 <connected> [IPv6 ('::1', 9092, 0, 0)]>: Closing connection. \n",
      "2019-08-17 17:29:40,602.602.8289794921875:kafka.conn:139956971476736:INFO:2000:<BrokerConnection node_id=bootstrap-0 host=localhost:9092 <connecting> [IPv6 ('::1', 9092, 0, 0)]>: Connection complete.\n",
      "2019-08-17 17:29:40,603.603.748083114624:kafka.conn:139956971476736:INFO:1998:<BrokerConnection node_id=bootstrap-0 host=localhost:9092 <connecting> [IPv6 ('::1', 9092, 0, 0)]>: Connection complete.\n"
     ]
    },
    {
     "name": "stdout",
     "output_type": "stream",
     "text": [
      "topic : result , partition : 0 , offset : 876\n",
      "topic : result , partition : 0 , offset : 877\n"
     ]
    },
    {
     "name": "stderr",
     "output_type": "stream",
     "text": [
      "2019-08-17 17:29:40,710.710.5495929718018:kafka.conn:139956971476736:INFO:2000:Broker version identifed as 1.0.0\n",
      "2019-08-17 17:29:40,711.711.1208438873291:kafka.conn:139956971476736:INFO:1998:Broker version identifed as 1.0.0\n",
      "2019-08-17 17:29:40,712.712.2046947479248:kafka.conn:139956971476736:INFO:2000:Set configuration api_version=(1, 0, 0) to skip auto check_version requests on startup\n",
      "2019-08-17 17:29:40,712.712.648868560791:kafka.conn:139956971476736:INFO:1998:Set configuration api_version=(1, 0, 0) to skip auto check_version requests on startup\n",
      "2019-08-17 17:29:40,716.716.5670394897461:kafka.producer.kafka:139956971476736:INFO:1998:Closing the Kafka producer with 0 secs timeout.\n",
      "2019-08-17 17:29:40,716.716.1519527435303:kafka.producer.kafka:139956971476736:INFO:2000:Closing the Kafka producer with 0 secs timeout.\n",
      "2019-08-17 17:29:40,720.720.1929092407227:kafka.producer.kafka:139956971476736:INFO:2000:Proceeding to force close the producer since pending requests could not be completed within timeout 0.\n",
      "2019-08-17 17:29:40,720.720.74294090271:kafka.producer.kafka:139956971476736:INFO:1998:Proceeding to force close the producer since pending requests could not be completed within timeout 0.\n",
      "2019-08-17 17:29:40,722.722.0442295074463:kafka.conn:139954881533696:INFO:2000:<BrokerConnection node_id=0 host=ubuntu:9092 <connected> [IPv4 ('127.0.1.1', 9092)]>: Closing connection. \n",
      "2019-08-17 17:29:40,722.722.5210666656494:kafka.conn:139954520844032:INFO:1998:<BrokerConnection node_id=0 host=ubuntu:9092 <connected> [IPv4 ('127.0.1.1', 9092)]>: Closing connection. \n"
     ]
    },
    {
     "name": "stdout",
     "output_type": "stream",
     "text": [
      "topic=my-topic partition=0 offset=2357: key=None value={'number_2': '19.68720734959437,-5.2906438500424535,-2.3344451126542545,2.830546457569463,0.3728166203083383'}\n",
      "topic=my_topic partition=0 offset=2957: key=None value={'number_1': '-8.346148114386764,29.274426365006764,4.109916556305054,18.841912380994096,-3.339437844762255'}\n"
     ]
    },
    {
     "name": "stderr",
     "output_type": "stream",
     "text": [
      "2019-08-17 17:29:40,726.726.747989654541:kafka.conn:139956890081024:INFO:1998:<BrokerConnection node_id=0 host=ubuntu:9092 <connecting> [IPv4 ('127.0.1.1', 9092)]>: connecting to ubuntu:9092 [('127.0.1.1', 9092) IPv4]\n",
      "2019-08-17 17:29:40,726.726.0041236877441:kafka.conn:139956890081024:INFO:2000:<BrokerConnection node_id=0 host=ubuntu:9092 <connecting> [IPv4 ('127.0.1.1', 9092)]>: connecting to ubuntu:9092 [('127.0.1.1', 9092) IPv4]\n",
      "2019-08-17 17:29:40,728.728.7514209747314:kafka.conn:139956971476736:INFO:2000:<BrokerConnection node_id=bootstrap-0 host=localhost:9092 <connecting> [IPv6 ('::1', 9092, 0, 0)]>: connecting to localhost:9092 [('::1', 9092, 0, 0) IPv6]\n",
      "2019-08-17 17:29:40,729.729.7143936157227:kafka.conn:139956971476736:INFO:1998:<BrokerConnection node_id=bootstrap-0 host=localhost:9092 <connecting> [IPv6 ('::1', 9092, 0, 0)]>: connecting to localhost:9092 [('::1', 9092, 0, 0) IPv6]\n",
      "2019-08-17 17:29:40,730.730.2947044372559:kafka.conn:139956890081024:INFO:2000:<BrokerConnection node_id=0 host=ubuntu:9092 <connecting> [IPv4 ('127.0.1.1', 9092)]>: Connection complete.\n",
      "2019-08-17 17:29:40,731.731.0547828674316:kafka.conn:139956890081024:INFO:1998:<BrokerConnection node_id=0 host=ubuntu:9092 <connecting> [IPv4 ('127.0.1.1', 9092)]>: Connection complete.\n",
      "2019-08-17 17:29:40,731.731.6443920135498:kafka.conn:139956971476736:INFO:2000:Probing node bootstrap-0 broker version\n",
      "2019-08-17 17:29:40,731.731.7094802856445:kafka.conn:139956971476736:INFO:1998:Probing node bootstrap-0 broker version\n",
      "2019-08-17 17:29:40,732.732.3789596557617:kafka.conn:139956890081024:INFO:2000:<BrokerConnection node_id=bootstrap-0 host=localhost:9092 <connected> [IPv6 ('::1', 9092, 0, 0)]>: Closing connection. \n",
      "2019-08-17 17:29:40,733.733.2770824432373:kafka.conn:139956890081024:INFO:1998:<BrokerConnection node_id=bootstrap-0 host=localhost:9092 <connected> [IPv6 ('::1', 9092, 0, 0)]>: Closing connection. \n",
      "2019-08-17 17:29:40,734.734.3692779541016:kafka.conn:139956971476736:INFO:2000:<BrokerConnection node_id=bootstrap-0 host=localhost:9092 <connecting> [IPv6 ('::1', 9092, 0, 0)]>: Connection complete.\n",
      "2019-08-17 17:29:40,735.735.1388931274414:kafka.conn:139956971476736:INFO:1998:<BrokerConnection node_id=bootstrap-0 host=localhost:9092 <connecting> [IPv6 ('::1', 9092, 0, 0)]>: Connection complete.\n"
     ]
    },
    {
     "name": "stdout",
     "output_type": "stream",
     "text": [
      "topic : result , partition : 0 , offset : 879\n",
      "topic : result , partition : 0 , offset : 878\n"
     ]
    },
    {
     "name": "stderr",
     "output_type": "stream",
     "text": [
      "2019-08-17 17:29:40,842.842.2150611877441:kafka.conn:139956971476736:INFO:2000:Broker version identifed as 1.0.0\n",
      "2019-08-17 17:29:40,843.843.2333469390869:kafka.conn:139956971476736:INFO:1998:Broker version identifed as 1.0.0\n",
      "2019-08-17 17:29:40,843.843.7743186950684:kafka.conn:139956971476736:INFO:2000:Set configuration api_version=(1, 0, 0) to skip auto check_version requests on startup\n",
      "2019-08-17 17:29:40,844.844.5892333984375:kafka.conn:139956971476736:INFO:1998:Set configuration api_version=(1, 0, 0) to skip auto check_version requests on startup\n",
      "2019-08-17 17:29:40,848.848.6225605010986:kafka.producer.kafka:139956971476736:INFO:1998:Closing the Kafka producer with 0 secs timeout.\n",
      "2019-08-17 17:29:40,852.852.541446685791:kafka.producer.kafka:139956971476736:INFO:1998:Proceeding to force close the producer since pending requests could not be completed within timeout 0.\n",
      "2019-08-17 17:29:40,851.851.5725135803223:kafka.producer.kafka:139956971476736:INFO:2000:Closing the Kafka producer with 0 secs timeout.\n",
      "2019-08-17 17:29:40,854.854.4337749481201:kafka.conn:139956890081024:INFO:1998:<BrokerConnection node_id=0 host=ubuntu:9092 <connected> [IPv4 ('127.0.1.1', 9092)]>: Closing connection. \n",
      "2019-08-17 17:29:40,855.855.5364608764648:kafka.producer.kafka:139956971476736:INFO:2000:Proceeding to force close the producer since pending requests could not be completed within timeout 0.\n",
      "2019-08-17 17:29:40,857.857.196569442749:kafka.conn:139956890081024:INFO:2000:<BrokerConnection node_id=0 host=ubuntu:9092 <connected> [IPv4 ('127.0.1.1', 9092)]>: Closing connection. \n"
     ]
    },
    {
     "name": "stdout",
     "output_type": "stream",
     "text": [
      "topic=my_topic partition=0 offset=2958: key=None value={'number_1': '54.64646181563167,23.466879145007685,11.560352990852858,-14.187445201888536,15.993204002886523'}\n"
     ]
    },
    {
     "name": "stderr",
     "output_type": "stream",
     "text": [
      "2019-08-17 17:29:40,858.858.8595390319824:kafka.conn:139956881688320:INFO:1998:<BrokerConnection node_id=0 host=ubuntu:9092 <connecting> [IPv4 ('127.0.1.1', 9092)]>: connecting to ubuntu:9092 [('127.0.1.1', 9092) IPv4]\n"
     ]
    },
    {
     "name": "stdout",
     "output_type": "stream",
     "text": [
      "topic=my-topic partition=0 offset=2358: key=None value={'number_2': '-3.53097001218756,8.983335413279335,-1.9424282801118657,-4.823432982825054,-2.0551537160692392'}\n"
     ]
    },
    {
     "name": "stderr",
     "output_type": "stream",
     "text": [
      "2019-08-17 17:29:40,861.861.8912696838379:kafka.conn:139956971476736:INFO:1998:<BrokerConnection node_id=bootstrap-0 host=localhost:9092 <connecting> [IPv6 ('::1', 9092, 0, 0)]>: connecting to localhost:9092 [('::1', 9092, 0, 0) IPv6]\n",
      "2019-08-17 17:29:40,861.861.7608547210693:kafka.conn:139954520844032:INFO:2000:<BrokerConnection node_id=0 host=ubuntu:9092 <connecting> [IPv4 ('127.0.1.1', 9092)]>: connecting to ubuntu:9092 [('127.0.1.1', 9092) IPv4]\n",
      "2019-08-17 17:29:40,862.862.2925281524658:kafka.conn:139956881688320:INFO:1998:<BrokerConnection node_id=0 host=ubuntu:9092 <connecting> [IPv4 ('127.0.1.1', 9092)]>: Connection complete.\n",
      "2019-08-17 17:29:40,864.864.5033836364746:kafka.conn:139956971476736:INFO:2000:<BrokerConnection node_id=bootstrap-0 host=localhost:9092 <connecting> [IPv6 ('::1', 9092, 0, 0)]>: connecting to localhost:9092 [('::1', 9092, 0, 0) IPv6]\n",
      "2019-08-17 17:29:40,863.863.9242649078369:kafka.conn:139956971476736:INFO:1998:Probing node bootstrap-0 broker version\n",
      "2019-08-17 17:29:40,866.866.0638332366943:kafka.conn:139954520844032:INFO:2000:<BrokerConnection node_id=0 host=ubuntu:9092 <connecting> [IPv4 ('127.0.1.1', 9092)]>: Connection complete.\n",
      "2019-08-17 17:29:40,865.865.6015396118164:kafka.conn:139956881688320:INFO:1998:<BrokerConnection node_id=bootstrap-0 host=localhost:9092 <connected> [IPv6 ('::1', 9092, 0, 0)]>: Closing connection. \n",
      "2019-08-17 17:29:40,866.866.7411804199219:kafka.conn:139956971476736:INFO:2000:Probing node bootstrap-0 broker version\n",
      "2019-08-17 17:29:40,867.867.340087890625:kafka.conn:139956971476736:INFO:1998:<BrokerConnection node_id=bootstrap-0 host=localhost:9092 <connecting> [IPv6 ('::1', 9092, 0, 0)]>: Connection complete.\n",
      "2019-08-17 17:29:40,868.868.2777881622314:kafka.conn:139954520844032:INFO:2000:<BrokerConnection node_id=bootstrap-0 host=localhost:9092 <connected> [IPv6 ('::1', 9092, 0, 0)]>: Closing connection. \n"
     ]
    },
    {
     "name": "stdout",
     "output_type": "stream",
     "text": [
      "topic : result , partition : 0 , offset : 880\n"
     ]
    },
    {
     "name": "stderr",
     "output_type": "stream",
     "text": [
      "2019-08-17 17:29:40,869.869.9729442596436:kafka.conn:139956971476736:INFO:2000:<BrokerConnection node_id=bootstrap-0 host=localhost:9092 <connecting> [IPv6 ('::1', 9092, 0, 0)]>: Connection complete.\n"
     ]
    },
    {
     "name": "stdout",
     "output_type": "stream",
     "text": [
      "topic : result , partition : 0 , offset : 881\n"
     ]
    },
    {
     "name": "stderr",
     "output_type": "stream",
     "text": [
      "2019-08-17 17:29:40,975.975.3155708312988:kafka.conn:139956971476736:INFO:1998:Broker version identifed as 1.0.0\n",
      "2019-08-17 17:29:40,977.977.015495300293:kafka.conn:139956971476736:INFO:1998:Set configuration api_version=(1, 0, 0) to skip auto check_version requests on startup\n",
      "2019-08-17 17:29:40,977.977.5130748748779:kafka.conn:139956971476736:INFO:2000:Broker version identifed as 1.0.0\n",
      "2019-08-17 17:29:40,978.978.9080619812012:kafka.conn:139956971476736:INFO:2000:Set configuration api_version=(1, 0, 0) to skip auto check_version requests on startup\n",
      "2019-08-17 17:29:40,981.981.9061756134033:kafka.producer.kafka:139956971476736:INFO:1998:Closing the Kafka producer with 0 secs timeout.\n",
      "2019-08-17 17:29:40,983.983.1728935241699:kafka.producer.kafka:139956971476736:INFO:2000:Closing the Kafka producer with 0 secs timeout.\n",
      "2019-08-17 17:29:40,985.985.8942031860352:kafka.producer.kafka:139956971476736:INFO:1998:Proceeding to force close the producer since pending requests could not be completed within timeout 0.\n",
      "2019-08-17 17:29:40,987.987.2522354125977:kafka.producer.kafka:139956971476736:INFO:2000:Proceeding to force close the producer since pending requests could not be completed within timeout 0.\n",
      "2019-08-17 17:29:40,987.987.9443645477295:kafka.conn:139956881688320:INFO:1998:<BrokerConnection node_id=0 host=ubuntu:9092 <connected> [IPv4 ('127.0.1.1', 9092)]>: Closing connection. \n",
      "2019-08-17 17:29:40,988.988.9965057373047:kafka.conn:139954520844032:INFO:2000:<BrokerConnection node_id=0 host=ubuntu:9092 <connected> [IPv4 ('127.0.1.1', 9092)]>: Closing connection. \n"
     ]
    },
    {
     "name": "stdout",
     "output_type": "stream",
     "text": [
      "topic=my_topic partition=0 offset=2959: key=None value={'number_1': '-7.721187369858992,-5.705857684848922,0.23152371318015597,15.268984246713732,15.057193562945896'}\n",
      "topic=my-topic partition=0 offset=2359: key=None value={'number_2': '-8.102629181109682,3.5109440108093866,-8.17657593210354,5.383406282696815,-10.641242006066197'}\n"
     ]
    },
    {
     "name": "stderr",
     "output_type": "stream",
     "text": [
      "2019-08-17 17:29:40,992.992.4333095550537:kafka.conn:139954520844032:INFO:1998:<BrokerConnection node_id=0 host=ubuntu:9092 <connecting> [IPv4 ('127.0.1.1', 9092)]>: connecting to ubuntu:9092 [('127.0.1.1', 9092) IPv4]\n",
      "2019-08-17 17:29:40,993.993.4842586517334:kafka.conn:139956890081024:INFO:2000:<BrokerConnection node_id=0 host=ubuntu:9092 <connecting> [IPv4 ('127.0.1.1', 9092)]>: connecting to ubuntu:9092 [('127.0.1.1', 9092) IPv4]\n",
      "2019-08-17 17:29:40,995.995.5174922943115:kafka.conn:139954520844032:INFO:1998:<BrokerConnection node_id=0 host=ubuntu:9092 <connecting> [IPv4 ('127.0.1.1', 9092)]>: Connection complete.\n",
      "2019-08-17 17:29:40,996.996.1485862731934:kafka.conn:139956971476736:INFO:2000:<BrokerConnection node_id=bootstrap-0 host=localhost:9092 <connecting> [IPv6 ('::1', 9092, 0, 0)]>: connecting to localhost:9092 [('::1', 9092, 0, 0) IPv6]\n",
      "2019-08-17 17:29:40,995.995.7385063171387:kafka.conn:139956971476736:INFO:1998:<BrokerConnection node_id=bootstrap-0 host=localhost:9092 <connecting> [IPv6 ('::1', 9092, 0, 0)]>: connecting to localhost:9092 [('::1', 9092, 0, 0) IPv6]\n",
      "2019-08-17 17:29:40,997.997.5953102111816:kafka.conn:139956890081024:INFO:2000:<BrokerConnection node_id=0 host=ubuntu:9092 <connecting> [IPv4 ('127.0.1.1', 9092)]>: Connection complete.\n",
      "2019-08-17 17:29:40,997.997.4033832550049:kafka.conn:139954520844032:INFO:1998:<BrokerConnection node_id=bootstrap-0 host=localhost:9092 <connected> [IPv6 ('::1', 9092, 0, 0)]>: Closing connection. \n",
      "2019-08-17 17:29:40,998.998.3115196228027:kafka.conn:139956971476736:INFO:2000:Probing node bootstrap-0 broker version\n",
      "2019-08-17 17:29:40,999.999.0286827087402:kafka.conn:139956971476736:INFO:1998:Probing node bootstrap-0 broker version\n",
      "2019-08-17 17:29:40,999.999.8719692230225:kafka.conn:139956890081024:INFO:2000:<BrokerConnection node_id=bootstrap-0 host=localhost:9092 <connected> [IPv6 ('::1', 9092, 0, 0)]>: Closing connection. \n"
     ]
    },
    {
     "name": "stdout",
     "output_type": "stream",
     "text": [
      "topic : result , partition : 0 , offset : 882\n"
     ]
    },
    {
     "name": "stderr",
     "output_type": "stream",
     "text": [
      "2019-08-17 17:29:41,004.4.177093505859375:kafka.conn:139956971476736:INFO:1998:<BrokerConnection node_id=bootstrap-0 host=localhost:9092 <connecting> [IPv6 ('::1', 9092, 0, 0)]>: Connection complete.\n",
      "2019-08-17 17:29:41,001.1.8815994262695312:kafka.conn:139956971476736:INFO:2000:<BrokerConnection node_id=bootstrap-0 host=localhost:9092 <connecting> [IPv6 ('::1', 9092, 0, 0)]>: Connection complete.\n"
     ]
    },
    {
     "name": "stdout",
     "output_type": "stream",
     "text": [
      "topic : result , partition : 0 , offset : 883\n"
     ]
    },
    {
     "name": "stderr",
     "output_type": "stream",
     "text": [
      "2019-08-17 17:29:41,108.108.00457000732422:kafka.conn:139956971476736:INFO:1998:Broker version identifed as 1.0.0\n",
      "2019-08-17 17:29:41,109.109.43412780761719:kafka.conn:139956971476736:INFO:1998:Set configuration api_version=(1, 0, 0) to skip auto check_version requests on startup\n",
      "2019-08-17 17:29:41,110.110.09025573730469:kafka.conn:139956971476736:INFO:2000:Broker version identifed as 1.0.0\n",
      "2019-08-17 17:29:41,111.111.52076721191406:kafka.conn:139956971476736:INFO:2000:Set configuration api_version=(1, 0, 0) to skip auto check_version requests on startup\n",
      "2019-08-17 17:29:41,113.113.48176002502441:kafka.producer.kafka:139956971476736:INFO:1998:Closing the Kafka producer with 0 secs timeout.\n",
      "2019-08-17 17:29:41,115.115.36717414855957:kafka.producer.kafka:139956971476736:INFO:2000:Closing the Kafka producer with 0 secs timeout.\n",
      "2019-08-17 17:29:41,116.116.85585975646973:kafka.producer.kafka:139956971476736:INFO:1998:Proceeding to force close the producer since pending requests could not be completed within timeout 0.\n",
      "2019-08-17 17:29:41,118.118.72458457946777:kafka.conn:139954520844032:INFO:1998:<BrokerConnection node_id=0 host=ubuntu:9092 <connected> [IPv4 ('127.0.1.1', 9092)]>: Closing connection. \n",
      "2019-08-17 17:29:41,116.116.99819564819336:kafka.producer.kafka:139956971476736:INFO:2000:Proceeding to force close the producer since pending requests could not be completed within timeout 0.\n",
      "2019-08-17 17:29:41,121.121.2613582611084:kafka.conn:139956890081024:INFO:2000:<BrokerConnection node_id=0 host=ubuntu:9092 <connected> [IPv4 ('127.0.1.1', 9092)]>: Closing connection. \n"
     ]
    },
    {
     "name": "stdout",
     "output_type": "stream",
     "text": [
      "topic=my_topic partition=0 offset=2960: key=None value={'number_1': '18.841861989983016,16.193278459371342,-22.607535770917046,-0.938049801032637,22.02641533235434'}\n"
     ]
    },
    {
     "name": "stderr",
     "output_type": "stream",
     "text": [
      "2019-08-17 17:29:41,122.122.9555606842041:kafka.conn:139956890081024:INFO:1998:<BrokerConnection node_id=0 host=ubuntu:9092 <connecting> [IPv4 ('127.0.1.1', 9092)]>: connecting to ubuntu:9092 [('127.0.1.1', 9092) IPv4]\n"
     ]
    },
    {
     "name": "stdout",
     "output_type": "stream",
     "text": [
      "topic=my-topic partition=0 offset=2360: key=None value={'number_2': '8.390159842347547,-2.1125643696617167,18.11659975765551,-4.563425543201481,-11.237749265672452'}\n"
     ]
    },
    {
     "name": "stderr",
     "output_type": "stream",
     "text": [
      "2019-08-17 17:29:41,124.124.9394416809082:kafka.conn:139954520844032:INFO:2000:<BrokerConnection node_id=0 host=ubuntu:9092 <connecting> [IPv4 ('127.0.1.1', 9092)]>: connecting to ubuntu:9092 [('127.0.1.1', 9092) IPv4]\n",
      "2019-08-17 17:29:41,126.126.09457969665527:kafka.conn:139956890081024:INFO:1998:<BrokerConnection node_id=0 host=ubuntu:9092 <connecting> [IPv4 ('127.0.1.1', 9092)]>: Connection complete.\n",
      "2019-08-17 17:29:41,126.126.3725757598877:kafka.conn:139956971476736:INFO:1998:<BrokerConnection node_id=bootstrap-0 host=localhost:9092 <connecting> [IPv6 ('::1', 9092, 0, 0)]>: connecting to localhost:9092 [('::1', 9092, 0, 0) IPv6]\n",
      "2019-08-17 17:29:41,127.127.98857688903809:kafka.conn:139954520844032:INFO:2000:<BrokerConnection node_id=0 host=ubuntu:9092 <connecting> [IPv4 ('127.0.1.1', 9092)]>: Connection complete.\n",
      "2019-08-17 17:29:41,127.127.96187400817871:kafka.conn:139956890081024:INFO:1998:<BrokerConnection node_id=bootstrap-0 host=localhost:9092 <connected> [IPv6 ('::1', 9092, 0, 0)]>: Closing connection. \n",
      "2019-08-17 17:29:41,129.129.01878356933594:kafka.conn:139956971476736:INFO:2000:<BrokerConnection node_id=bootstrap-0 host=localhost:9092 <connecting> [IPv6 ('::1', 9092, 0, 0)]>: connecting to localhost:9092 [('::1', 9092, 0, 0) IPv6]\n",
      "2019-08-17 17:29:41,129.129.93669509887695:kafka.conn:139954520844032:INFO:2000:<BrokerConnection node_id=bootstrap-0 host=localhost:9092 <connected> [IPv6 ('::1', 9092, 0, 0)]>: Closing connection. \n",
      "2019-08-17 17:29:41,129.129.7283172607422:kafka.conn:139956971476736:INFO:1998:Probing node bootstrap-0 broker version\n",
      "2019-08-17 17:29:41,131.131.6967010498047:kafka.conn:139956971476736:INFO:2000:Probing node bootstrap-0 broker version\n"
     ]
    },
    {
     "name": "stdout",
     "output_type": "stream",
     "text": [
      "topic : result , partition : 0 , offset : 884\n"
     ]
    },
    {
     "name": "stderr",
     "output_type": "stream",
     "text": [
      "2019-08-17 17:29:41,134.134.70125198364258:kafka.conn:139956971476736:INFO:1998:<BrokerConnection node_id=bootstrap-0 host=localhost:9092 <connecting> [IPv6 ('::1', 9092, 0, 0)]>: Connection complete.\n"
     ]
    },
    {
     "name": "stdout",
     "output_type": "stream",
     "text": [
      "topic : result , partition : 0 , offset : 885\n"
     ]
    },
    {
     "name": "stderr",
     "output_type": "stream",
     "text": [
      "2019-08-17 17:29:41,135.135.64753532409668:kafka.conn:139956971476736:INFO:2000:<BrokerConnection node_id=bootstrap-0 host=localhost:9092 <connecting> [IPv6 ('::1', 9092, 0, 0)]>: Connection complete.\n",
      "2019-08-17 17:29:41,239.239.19320106506348:kafka.conn:139956971476736:INFO:1998:Broker version identifed as 1.0.0\n",
      "2019-08-17 17:29:41,240.240.48209190368652:kafka.conn:139956971476736:INFO:1998:Set configuration api_version=(1, 0, 0) to skip auto check_version requests on startup\n",
      "2019-08-17 17:29:41,241.241.26172065734863:kafka.conn:139956971476736:INFO:2000:Broker version identifed as 1.0.0\n",
      "2019-08-17 17:29:41,242.242.94662475585938:kafka.conn:139956971476736:INFO:2000:Set configuration api_version=(1, 0, 0) to skip auto check_version requests on startup\n",
      "2019-08-17 17:29:41,244.244.93956565856934:kafka.producer.kafka:139956971476736:INFO:1998:Closing the Kafka producer with 0 secs timeout.\n",
      "2019-08-17 17:29:41,247.247.42889404296875:kafka.producer.kafka:139956971476736:INFO:2000:Closing the Kafka producer with 0 secs timeout.\n",
      "2019-08-17 17:29:41,248.248.48079681396484:kafka.producer.kafka:139956971476736:INFO:1998:Proceeding to force close the producer since pending requests could not be completed within timeout 0.\n",
      "2019-08-17 17:29:41,250.250.46467781066895:kafka.conn:139956890081024:INFO:1998:<BrokerConnection node_id=0 host=ubuntu:9092 <connected> [IPv4 ('127.0.1.1', 9092)]>: Closing connection. \n",
      "2019-08-17 17:29:41,251.251.29127502441406:kafka.producer.kafka:139956971476736:INFO:2000:Proceeding to force close the producer since pending requests could not be completed within timeout 0.\n",
      "2019-08-17 17:29:41,253.253.0362606048584:kafka.conn:139954520844032:INFO:2000:<BrokerConnection node_id=0 host=ubuntu:9092 <connected> [IPv4 ('127.0.1.1', 9092)]>: Closing connection. \n"
     ]
    },
    {
     "name": "stdout",
     "output_type": "stream",
     "text": [
      "topic=my_topic partition=0 offset=2961: key=None value={'number_1': '1.3205319491376493,13.346671266626794,-10.415412725967066,5.302087804242667,-5.315955918865363'}\n"
     ]
    },
    {
     "name": "stderr",
     "output_type": "stream",
     "text": [
      "2019-08-17 17:29:41,254.254.89211082458496:kafka.conn:139956881688320:INFO:1998:<BrokerConnection node_id=0 host=ubuntu:9092 <connecting> [IPv4 ('127.0.1.1', 9092)]>: connecting to ubuntu:9092 [('127.0.1.1', 9092) IPv4]\n"
     ]
    },
    {
     "name": "stdout",
     "output_type": "stream",
     "text": [
      "topic=my-topic partition=0 offset=2361: key=None value={'number_2': '-8.69242480002516,6.4272345810886575,-11.359024949354946,-5.595527674538046,13.485639317128207'}\n"
     ]
    },
    {
     "name": "stderr",
     "output_type": "stream",
     "text": [
      "2019-08-17 17:29:41,257.257.80773162841797:kafka.conn:139956971476736:INFO:1998:<BrokerConnection node_id=bootstrap-0 host=localhost:9092 <connecting> [IPv6 ('::1', 9092, 0, 0)]>: connecting to localhost:9092 [('::1', 9092, 0, 0) IPv6]\n",
      "2019-08-17 17:29:41,257.257.2479248046875:kafka.conn:139956890081024:INFO:2000:<BrokerConnection node_id=0 host=ubuntu:9092 <connecting> [IPv4 ('127.0.1.1', 9092)]>: connecting to ubuntu:9092 [('127.0.1.1', 9092) IPv4]\n",
      "2019-08-17 17:29:41,258.258.2731246948242:kafka.conn:139956881688320:INFO:1998:<BrokerConnection node_id=0 host=ubuntu:9092 <connecting> [IPv4 ('127.0.1.1', 9092)]>: Connection complete.\n",
      "2019-08-17 17:29:41,259.259.68122482299805:kafka.conn:139956971476736:INFO:2000:<BrokerConnection node_id=bootstrap-0 host=localhost:9092 <connecting> [IPv6 ('::1', 9092, 0, 0)]>: connecting to localhost:9092 [('::1', 9092, 0, 0) IPv6]\n",
      "2019-08-17 17:29:41,259.259.9062919616699:kafka.conn:139956971476736:INFO:1998:Probing node bootstrap-0 broker version\n",
      "2019-08-17 17:29:41,261.261.1277103424072:kafka.conn:139956890081024:INFO:2000:<BrokerConnection node_id=0 host=ubuntu:9092 <connecting> [IPv4 ('127.0.1.1', 9092)]>: Connection complete.\n",
      "2019-08-17 17:29:41,261.261.4550590515137:kafka.conn:139956881688320:INFO:1998:<BrokerConnection node_id=bootstrap-0 host=localhost:9092 <connected> [IPv6 ('::1', 9092, 0, 0)]>: Closing connection. \n",
      "2019-08-17 17:29:41,261.261.80362701416016:kafka.conn:139956971476736:INFO:2000:Probing node bootstrap-0 broker version\n",
      "2019-08-17 17:29:41,263.263.3483409881592:kafka.conn:139956890081024:INFO:2000:<BrokerConnection node_id=bootstrap-0 host=localhost:9092 <connected> [IPv6 ('::1', 9092, 0, 0)]>: Closing connection. \n",
      "2019-08-17 17:29:41,263.263.22245597839355:kafka.conn:139956971476736:INFO:1998:<BrokerConnection node_id=bootstrap-0 host=localhost:9092 <connecting> [IPv6 ('::1', 9092, 0, 0)]>: Connection complete.\n"
     ]
    },
    {
     "name": "stdout",
     "output_type": "stream",
     "text": [
      "topic : result , partition : 0 , offset : 886\n"
     ]
    },
    {
     "name": "stderr",
     "output_type": "stream",
     "text": [
      "2019-08-17 17:29:41,265.265.3653621673584:kafka.conn:139956971476736:INFO:2000:<BrokerConnection node_id=bootstrap-0 host=localhost:9092 <connecting> [IPv6 ('::1', 9092, 0, 0)]>: Connection complete.\n"
     ]
    },
    {
     "name": "stdout",
     "output_type": "stream",
     "text": [
      "topic : result , partition : 0 , offset : 887\n"
     ]
    },
    {
     "name": "stderr",
     "output_type": "stream",
     "text": [
      "2019-08-17 17:29:41,370.370.62740325927734:kafka.conn:139956971476736:INFO:1998:Broker version identifed as 1.0.0\n",
      "2019-08-17 17:29:41,371.371.95682525634766:kafka.conn:139956971476736:INFO:1998:Set configuration api_version=(1, 0, 0) to skip auto check_version requests on startup\n",
      "2019-08-17 17:29:41,373.373.7621307373047:kafka.conn:139956971476736:INFO:2000:Broker version identifed as 1.0.0\n",
      "2019-08-17 17:29:41,375.375.50973892211914:kafka.conn:139956971476736:INFO:2000:Set configuration api_version=(1, 0, 0) to skip auto check_version requests on startup\n",
      "2019-08-17 17:29:41,376.376.8589496612549:kafka.producer.kafka:139956971476736:INFO:1998:Closing the Kafka producer with 0 secs timeout.\n",
      "2019-08-17 17:29:41,380.380.78761100769043:kafka.producer.kafka:139956971476736:INFO:1998:Proceeding to force close the producer since pending requests could not be completed within timeout 0.\n",
      "2019-08-17 17:29:41,381.381.0560703277588:kafka.producer.kafka:139956971476736:INFO:2000:Closing the Kafka producer with 0 secs timeout.\n",
      "2019-08-17 17:29:41,382.382.75885581970215:kafka.conn:139956881688320:INFO:1998:<BrokerConnection node_id=0 host=ubuntu:9092 <connected> [IPv4 ('127.0.1.1', 9092)]>: Closing connection. \n",
      "2019-08-17 17:29:41,385.385.0278854370117:kafka.producer.kafka:139956971476736:INFO:2000:Proceeding to force close the producer since pending requests could not be completed within timeout 0.\n"
     ]
    },
    {
     "name": "stdout",
     "output_type": "stream",
     "text": [
      "topic=my_topic partition=0 offset=2962: key=None value={'number_1': '0.9733837234512546,-2.179963581930643,24.01458348409564,-21.916774440956104,-1.2683167045947883'}\n"
     ]
    },
    {
     "name": "stderr",
     "output_type": "stream",
     "text": [
      "2019-08-17 17:29:41,386.386.87586784362793:kafka.conn:139956890081024:INFO:2000:<BrokerConnection node_id=0 host=ubuntu:9092 <connected> [IPv4 ('127.0.1.1', 9092)]>: Closing connection. \n",
      "2019-08-17 17:29:41,388.388.516902923584:kafka.conn:139956890081024:INFO:1998:<BrokerConnection node_id=0 host=ubuntu:9092 <connecting> [IPv4 ('127.0.1.1', 9092)]>: connecting to ubuntu:9092 [('127.0.1.1', 9092) IPv4]\n"
     ]
    },
    {
     "name": "stdout",
     "output_type": "stream",
     "text": [
      "topic=my-topic partition=0 offset=2362: key=None value={'number_2': '-6.347203258907708,3.195580484776461,18.9776210825992,-1.8400092661603462,12.732002081473677'}\n"
     ]
    },
    {
     "name": "stderr",
     "output_type": "stream",
     "text": [
      "2019-08-17 17:29:41,389.389.58239555358887:kafka.conn:139956971476736:INFO:1998:<BrokerConnection node_id=bootstrap-0 host=localhost:9092 <connecting> [IPv6 ('::1', 9092, 0, 0)]>: connecting to localhost:9092 [('::1', 9092, 0, 0) IPv6]\n",
      "2019-08-17 17:29:41,391.391.36314392089844:kafka.conn:139956890081024:INFO:1998:<BrokerConnection node_id=0 host=ubuntu:9092 <connecting> [IPv4 ('127.0.1.1', 9092)]>: Connection complete.\n",
      "2019-08-17 17:29:41,391.391.01481437683105:kafka.conn:139954881533696:INFO:2000:<BrokerConnection node_id=0 host=ubuntu:9092 <connecting> [IPv4 ('127.0.1.1', 9092)]>: connecting to ubuntu:9092 [('127.0.1.1', 9092) IPv4]\n",
      "2019-08-17 17:29:41,391.391.91484451293945:kafka.conn:139956971476736:INFO:1998:Probing node bootstrap-0 broker version\n",
      "2019-08-17 17:29:41,393.393.54443550109863:kafka.conn:139956971476736:INFO:2000:<BrokerConnection node_id=bootstrap-0 host=localhost:9092 <connecting> [IPv6 ('::1', 9092, 0, 0)]>: connecting to localhost:9092 [('::1', 9092, 0, 0) IPv6]\n",
      "2019-08-17 17:29:41,393.393.39184761047363:kafka.conn:139956890081024:INFO:1998:<BrokerConnection node_id=bootstrap-0 host=localhost:9092 <connected> [IPv6 ('::1', 9092, 0, 0)]>: Closing connection. \n",
      "2019-08-17 17:29:41,394.394.88863945007324:kafka.conn:139954881533696:INFO:2000:<BrokerConnection node_id=0 host=ubuntu:9092 <connecting> [IPv4 ('127.0.1.1', 9092)]>: Connection complete.\n",
      "2019-08-17 17:29:41,395.395.4939842224121:kafka.conn:139956971476736:INFO:2000:Probing node bootstrap-0 broker version\n",
      "2019-08-17 17:29:41,395.395.2145576477051:kafka.conn:139956971476736:INFO:1998:<BrokerConnection node_id=bootstrap-0 host=localhost:9092 <connecting> [IPv6 ('::1', 9092, 0, 0)]>: Connection complete.\n",
      "2019-08-17 17:29:41,396.396.94786071777344:kafka.conn:139954881533696:INFO:2000:<BrokerConnection node_id=bootstrap-0 host=localhost:9092 <connected> [IPv6 ('::1', 9092, 0, 0)]>: Closing connection. \n"
     ]
    },
    {
     "name": "stdout",
     "output_type": "stream",
     "text": [
      "topic : result , partition : 0 , offset : 888\n"
     ]
    },
    {
     "name": "stderr",
     "output_type": "stream",
     "text": [
      "2019-08-17 17:29:41,398.398.728609085083:kafka.conn:139956971476736:INFO:2000:<BrokerConnection node_id=bootstrap-0 host=localhost:9092 <connecting> [IPv6 ('::1', 9092, 0, 0)]>: Connection complete.\n"
     ]
    },
    {
     "name": "stdout",
     "output_type": "stream",
     "text": [
      "topic : result , partition : 0 , offset : 889\n"
     ]
    },
    {
     "name": "stderr",
     "output_type": "stream",
     "text": [
      "2019-08-17 17:29:41,503.503.1266212463379:kafka.conn:139956971476736:INFO:1998:Broker version identifed as 1.0.0\n",
      "2019-08-17 17:29:41,504.504.7171115875244:kafka.conn:139956971476736:INFO:1998:Set configuration api_version=(1, 0, 0) to skip auto check_version requests on startup\n",
      "2019-08-17 17:29:41,506.506.47521018981934:kafka.conn:139956971476736:INFO:2000:Broker version identifed as 1.0.0\n",
      "2019-08-17 17:29:41,508.508.0530643463135:kafka.conn:139956971476736:INFO:2000:Set configuration api_version=(1, 0, 0) to skip auto check_version requests on startup\n",
      "2019-08-17 17:29:41,508.508.23116302490234:kafka.producer.kafka:139956971476736:INFO:1998:Closing the Kafka producer with 0 secs timeout.\n",
      "2019-08-17 17:29:41,511.511.8887424468994:kafka.producer.kafka:139956971476736:INFO:2000:Closing the Kafka producer with 0 secs timeout.\n",
      "2019-08-17 17:29:41,512.512.362003326416:kafka.producer.kafka:139956971476736:INFO:1998:Proceeding to force close the producer since pending requests could not be completed within timeout 0.\n",
      "2019-08-17 17:29:41,515.515.5155658721924:kafka.producer.kafka:139956971476736:INFO:2000:Proceeding to force close the producer since pending requests could not be completed within timeout 0.\n",
      "2019-08-17 17:29:41,516.516.5235996246338:kafka.conn:139956890081024:INFO:1998:<BrokerConnection node_id=0 host=ubuntu:9092 <connected> [IPv4 ('127.0.1.1', 9092)]>: Closing connection. \n",
      "2019-08-17 17:29:41,517.517.385721206665:kafka.conn:139954881533696:INFO:2000:<BrokerConnection node_id=0 host=ubuntu:9092 <connected> [IPv4 ('127.0.1.1', 9092)]>: Closing connection. \n"
     ]
    },
    {
     "name": "stdout",
     "output_type": "stream",
     "text": [
      "topic=my_topic partition=0 offset=2963: key=None value={'number_1': '16.131811687615922,39.233093782904774,15.22660863852136,32.928037054789,44.97328432972478'}\n",
      "topic=my-topic partition=0 offset=2363: key=None value={'number_2': '1.02908934513653,10.43347282646113,-12.369987071451847,-0.8196336366731181,-3.3226588150959624'}\n"
     ]
    },
    {
     "name": "stderr",
     "output_type": "stream",
     "text": [
      "2019-08-17 17:29:41,520.520.937442779541:kafka.conn:139956881688320:INFO:1998:<BrokerConnection node_id=0 host=ubuntu:9092 <connecting> [IPv4 ('127.0.1.1', 9092)]>: connecting to ubuntu:9092 [('127.0.1.1', 9092) IPv4]\n",
      "2019-08-17 17:29:41,521.521.58522605896:kafka.conn:139956890081024:INFO:2000:<BrokerConnection node_id=0 host=ubuntu:9092 <connecting> [IPv4 ('127.0.1.1', 9092)]>: connecting to ubuntu:9092 [('127.0.1.1', 9092) IPv4]\n",
      "2019-08-17 17:29:41,523.523.3783721923828:kafka.conn:139956971476736:INFO:1998:<BrokerConnection node_id=bootstrap-0 host=localhost:9092 <connecting> [IPv6 ('::1', 9092, 0, 0)]>: connecting to localhost:9092 [('::1', 9092, 0, 0) IPv6]\n",
      "2019-08-17 17:29:41,523.523.9822864532471:kafka.conn:139956971476736:INFO:2000:<BrokerConnection node_id=bootstrap-0 host=localhost:9092 <connecting> [IPv6 ('::1', 9092, 0, 0)]>: connecting to localhost:9092 [('::1', 9092, 0, 0) IPv6]\n",
      "2019-08-17 17:29:41,524.524.1472721099854:kafka.conn:139956881688320:INFO:1998:<BrokerConnection node_id=0 host=ubuntu:9092 <connecting> [IPv4 ('127.0.1.1', 9092)]>: Connection complete.\n",
      "2019-08-17 17:29:41,525.525.428056716919:kafka.conn:139956890081024:INFO:2000:<BrokerConnection node_id=0 host=ubuntu:9092 <connecting> [IPv4 ('127.0.1.1', 9092)]>: Connection complete.\n",
      "2019-08-17 17:29:41,525.525.8219242095947:kafka.conn:139956971476736:INFO:1998:Probing node bootstrap-0 broker version\n",
      "2019-08-17 17:29:41,526.526.1201858520508:kafka.conn:139956971476736:INFO:2000:Probing node bootstrap-0 broker version\n",
      "2019-08-17 17:29:41,527.527.3380279541016:kafka.conn:139956881688320:INFO:1998:<BrokerConnection node_id=bootstrap-0 host=localhost:9092 <connected> [IPv6 ('::1', 9092, 0, 0)]>: Closing connection. \n",
      "2019-08-17 17:29:41,527.527.6610851287842:kafka.conn:139956890081024:INFO:2000:<BrokerConnection node_id=bootstrap-0 host=localhost:9092 <connected> [IPv6 ('::1', 9092, 0, 0)]>: Closing connection. \n",
      "2019-08-17 17:29:41,529.529.1779041290283:kafka.conn:139956971476736:INFO:1998:<BrokerConnection node_id=bootstrap-0 host=localhost:9092 <connecting> [IPv6 ('::1', 9092, 0, 0)]>: Connection complete.\n",
      "2019-08-17 17:29:41,529.529.681921005249:kafka.conn:139956971476736:INFO:2000:<BrokerConnection node_id=bootstrap-0 host=localhost:9092 <connecting> [IPv6 ('::1', 9092, 0, 0)]>: Connection complete.\n"
     ]
    },
    {
     "name": "stdout",
     "output_type": "stream",
     "text": [
      "topic : result , partition : 0 , offset : 890\n",
      "topic : result , partition : 0 , offset : 891\n"
     ]
    },
    {
     "name": "stderr",
     "output_type": "stream",
     "text": [
      "2019-08-17 17:29:41,637.637.1314525604248:kafka.conn:139956971476736:INFO:1998:Broker version identifed as 1.0.0\n",
      "2019-08-17 17:29:41,638.638.0844116210938:kafka.conn:139956971476736:INFO:2000:Broker version identifed as 1.0.0\n",
      "2019-08-17 17:29:41,638.638.7994289398193:kafka.conn:139956971476736:INFO:1998:Set configuration api_version=(1, 0, 0) to skip auto check_version requests on startup\n",
      "2019-08-17 17:29:41,639.639.592170715332:kafka.conn:139956971476736:INFO:2000:Set configuration api_version=(1, 0, 0) to skip auto check_version requests on startup\n",
      "2019-08-17 17:29:41,643.643.1407928466797:kafka.producer.kafka:139956971476736:INFO:1998:Closing the Kafka producer with 0 secs timeout.\n",
      "2019-08-17 17:29:41,643.643.8519954681396:kafka.producer.kafka:139956971476736:INFO:2000:Closing the Kafka producer with 0 secs timeout.\n",
      "2019-08-17 17:29:41,647.647.3472118377686:kafka.producer.kafka:139956971476736:INFO:1998:Proceeding to force close the producer since pending requests could not be completed within timeout 0.\n",
      "2019-08-17 17:29:41,647.647.7046012878418:kafka.producer.kafka:139956971476736:INFO:2000:Proceeding to force close the producer since pending requests could not be completed within timeout 0.\n",
      "2019-08-17 17:29:41,649.649.3921279907227:kafka.conn:139956881688320:INFO:1998:<BrokerConnection node_id=0 host=ubuntu:9092 <connected> [IPv4 ('127.0.1.1', 9092)]>: Closing connection. \n",
      "2019-08-17 17:29:41,649.649.8172283172607:kafka.conn:139956890081024:INFO:2000:<BrokerConnection node_id=0 host=ubuntu:9092 <connected> [IPv4 ('127.0.1.1', 9092)]>: Closing connection. \n"
     ]
    },
    {
     "name": "stdout",
     "output_type": "stream",
     "text": [
      "topic=my_topic partition=0 offset=2964: key=None value={'number_1': '3.7584105658316123,-0.3471229714667228,21.928462012767614,-17.84289642801933,-22.91842979324344'}\n",
      "topic=my-topic partition=0 offset=2364: key=None value={'number_2': '-7.524299206181853,5.402623957924762,13.378918861254704,12.171836925162772,-13.207641597470737'}\n"
     ]
    },
    {
     "name": "stderr",
     "output_type": "stream",
     "text": [
      "2019-08-17 17:29:41,653.653.9673805236816:kafka.conn:139956890081024:INFO:1998:<BrokerConnection node_id=0 host=ubuntu:9092 <connecting> [IPv4 ('127.0.1.1', 9092)]>: connecting to ubuntu:9092 [('127.0.1.1', 9092) IPv4]\n",
      "2019-08-17 17:29:41,654.654.3483734130859:kafka.conn:139954881533696:INFO:2000:<BrokerConnection node_id=0 host=ubuntu:9092 <connecting> [IPv4 ('127.0.1.1', 9092)]>: connecting to ubuntu:9092 [('127.0.1.1', 9092) IPv4]\n",
      "2019-08-17 17:29:41,656.656.6822528839111:kafka.conn:139956971476736:INFO:1998:<BrokerConnection node_id=bootstrap-0 host=localhost:9092 <connecting> [IPv6 ('::1', 9092, 0, 0)]>: connecting to localhost:9092 [('::1', 9092, 0, 0) IPv6]\n",
      "2019-08-17 17:29:41,657.657.0196151733398:kafka.conn:139956971476736:INFO:2000:<BrokerConnection node_id=bootstrap-0 host=localhost:9092 <connecting> [IPv6 ('::1', 9092, 0, 0)]>: connecting to localhost:9092 [('::1', 9092, 0, 0) IPv6]\n",
      "2019-08-17 17:29:41,658.658.0464839935303:kafka.conn:139956890081024:INFO:1998:<BrokerConnection node_id=0 host=ubuntu:9092 <connecting> [IPv4 ('127.0.1.1', 9092)]>: Connection complete.\n",
      "2019-08-17 17:29:41,658.658.4281921386719:kafka.conn:139954881533696:INFO:2000:<BrokerConnection node_id=0 host=ubuntu:9092 <connecting> [IPv4 ('127.0.1.1', 9092)]>: Connection complete.\n",
      "2019-08-17 17:29:41,658.658.632755279541:kafka.conn:139956971476736:INFO:1998:Probing node bootstrap-0 broker version\n",
      "2019-08-17 17:29:41,659.659.045934677124:kafka.conn:139956971476736:INFO:2000:Probing node bootstrap-0 broker version\n",
      "2019-08-17 17:29:41,660.660.1414680480957:kafka.conn:139956890081024:INFO:1998:<BrokerConnection node_id=bootstrap-0 host=localhost:9092 <connected> [IPv6 ('::1', 9092, 0, 0)]>: Closing connection. \n",
      "2019-08-17 17:29:41,660.660.801887512207:kafka.conn:139954881533696:INFO:2000:<BrokerConnection node_id=bootstrap-0 host=localhost:9092 <connected> [IPv6 ('::1', 9092, 0, 0)]>: Closing connection. \n",
      "2019-08-17 17:29:41,661.661.9327068328857:kafka.conn:139956971476736:INFO:1998:<BrokerConnection node_id=bootstrap-0 host=localhost:9092 <connecting> [IPv6 ('::1', 9092, 0, 0)]>: Connection complete.\n",
      "2019-08-17 17:29:41,662.662.8098487854004:kafka.conn:139956971476736:INFO:2000:<BrokerConnection node_id=bootstrap-0 host=localhost:9092 <connecting> [IPv6 ('::1', 9092, 0, 0)]>: Connection complete.\n"
     ]
    },
    {
     "name": "stdout",
     "output_type": "stream",
     "text": [
      "topic : result , partition : 0 , offset : 892\n",
      "topic : result , partition : 0 , offset : 893\n"
     ]
    },
    {
     "name": "stderr",
     "output_type": "stream",
     "text": [
      "2019-08-17 17:29:41,770.770.1630592346191:kafka.conn:139956971476736:INFO:1998:Broker version identifed as 1.0.0\n",
      "2019-08-17 17:29:41,771.771.0592746734619:kafka.conn:139956971476736:INFO:2000:Broker version identifed as 1.0.0\n",
      "2019-08-17 17:29:41,771.771.7688083648682:kafka.conn:139956971476736:INFO:1998:Set configuration api_version=(1, 0, 0) to skip auto check_version requests on startup\n",
      "2019-08-17 17:29:41,773.773.2603549957275:kafka.conn:139956971476736:INFO:2000:Set configuration api_version=(1, 0, 0) to skip auto check_version requests on startup\n",
      "2019-08-17 17:29:41,777.777.0040035247803:kafka.producer.kafka:139956971476736:INFO:1998:Closing the Kafka producer with 0 secs timeout.\n",
      "2019-08-17 17:29:41,780.780.677318572998:kafka.producer.kafka:139956971476736:INFO:1998:Proceeding to force close the producer since pending requests could not be completed within timeout 0.\n",
      "2019-08-17 17:29:41,780.780.7190418243408:kafka.producer.kafka:139956971476736:INFO:2000:Closing the Kafka producer with 0 secs timeout.\n",
      "2019-08-17 17:29:41,782.782.6282978057861:kafka.conn:139956890081024:INFO:1998:<BrokerConnection node_id=0 host=ubuntu:9092 <connected> [IPv4 ('127.0.1.1', 9092)]>: Closing connection. \n",
      "2019-08-17 17:29:41,784.784.0497493743896:kafka.producer.kafka:139956971476736:INFO:2000:Proceeding to force close the producer since pending requests could not be completed within timeout 0.\n"
     ]
    },
    {
     "name": "stdout",
     "output_type": "stream",
     "text": [
      "topic=my_topic partition=0 offset=2965: key=None value={'number_1': '44.05153866302394,31.526594325326755,0.1201810193010342,-4.727022678516072,14.16302826119857'}\n"
     ]
    },
    {
     "name": "stderr",
     "output_type": "stream",
     "text": [
      "2019-08-17 17:29:41,786.786.0212326049805:kafka.conn:139954881533696:INFO:2000:<BrokerConnection node_id=0 host=ubuntu:9092 <connected> [IPv4 ('127.0.1.1', 9092)]>: Closing connection. \n",
      "2019-08-17 17:29:41,787.787.2273921966553:kafka.conn:139956881688320:INFO:1998:<BrokerConnection node_id=0 host=ubuntu:9092 <connecting> [IPv4 ('127.0.1.1', 9092)]>: connecting to ubuntu:9092 [('127.0.1.1', 9092) IPv4]\n"
     ]
    },
    {
     "name": "stdout",
     "output_type": "stream",
     "text": [
      "topic=my-topic partition=0 offset=2365: key=None value={'number_2': '-14.920999645184832,-6.814447597261452,0.7379586283987162,5.281909364362864,7.853252063887749'}\n"
     ]
    },
    {
     "name": "stderr",
     "output_type": "stream",
     "text": [
      "2019-08-17 17:29:41,789.789.8995876312256:kafka.conn:139956971476736:INFO:1998:<BrokerConnection node_id=bootstrap-0 host=localhost:9092 <connecting> [IPv6 ('::1', 9092, 0, 0)]>: connecting to localhost:9092 [('::1', 9092, 0, 0) IPv6]\n",
      "2019-08-17 17:29:41,789.789.6435260772705:kafka.conn:139956890081024:INFO:2000:<BrokerConnection node_id=0 host=ubuntu:9092 <connecting> [IPv4 ('127.0.1.1', 9092)]>: connecting to ubuntu:9092 [('127.0.1.1', 9092) IPv4]\n",
      "2019-08-17 17:29:41,791.791.3491725921631:kafka.conn:139956881688320:INFO:1998:<BrokerConnection node_id=0 host=ubuntu:9092 <connecting> [IPv4 ('127.0.1.1', 9092)]>: Connection complete.\n",
      "2019-08-17 17:29:41,793.793.1399345397949:kafka.conn:139956890081024:INFO:2000:<BrokerConnection node_id=0 host=ubuntu:9092 <connecting> [IPv4 ('127.0.1.1', 9092)]>: Connection complete.\n",
      "2019-08-17 17:29:41,791.791.9933795928955:kafka.conn:139956971476736:INFO:1998:Probing node bootstrap-0 broker version\n",
      "2019-08-17 17:29:41,793.793.9884662628174:kafka.conn:139956971476736:INFO:2000:<BrokerConnection node_id=bootstrap-0 host=localhost:9092 <connecting> [IPv6 ('::1', 9092, 0, 0)]>: connecting to localhost:9092 [('::1', 9092, 0, 0) IPv6]\n",
      "2019-08-17 17:29:41,793.793.7431335449219:kafka.conn:139956881688320:INFO:1998:<BrokerConnection node_id=bootstrap-0 host=localhost:9092 <connected> [IPv6 ('::1', 9092, 0, 0)]>: Closing connection. \n",
      "2019-08-17 17:29:41,794.794.8081493377686:kafka.conn:139956890081024:INFO:2000:<BrokerConnection node_id=bootstrap-0 host=localhost:9092 <connected> [IPv6 ('::1', 9092, 0, 0)]>: Closing connection. \n",
      "2019-08-17 17:29:41,795.795.6838607788086:kafka.conn:139956971476736:INFO:1998:<BrokerConnection node_id=bootstrap-0 host=localhost:9092 <connecting> [IPv6 ('::1', 9092, 0, 0)]>: Connection complete.\n",
      "2019-08-17 17:29:41,796.796.302080154419:kafka.conn:139956971476736:INFO:2000:Probing node bootstrap-0 broker version\n"
     ]
    },
    {
     "name": "stdout",
     "output_type": "stream",
     "text": [
      "topic : result , partition : 0 , offset : 894\n",
      "topic : result , partition : 0 , offset : 895\n"
     ]
    },
    {
     "name": "stderr",
     "output_type": "stream",
     "text": [
      "2019-08-17 17:29:41,800.800.1246452331543:kafka.conn:139956971476736:INFO:2000:<BrokerConnection node_id=bootstrap-0 host=localhost:9092 <connecting> [IPv6 ('::1', 9092, 0, 0)]>: Connection complete.\n",
      "2019-08-17 17:29:41,904.904.0608406066895:kafka.conn:139956971476736:INFO:1998:Broker version identifed as 1.0.0\n",
      "2019-08-17 17:29:41,905.905.6558609008789:kafka.conn:139956971476736:INFO:1998:Set configuration api_version=(1, 0, 0) to skip auto check_version requests on startup\n",
      "2019-08-17 17:29:41,906.906.1357975006104:kafka.conn:139956971476736:INFO:2000:Broker version identifed as 1.0.0\n",
      "2019-08-17 17:29:41,907.907.7222347259521:kafka.conn:139956971476736:INFO:2000:Set configuration api_version=(1, 0, 0) to skip auto check_version requests on startup\n",
      "2019-08-17 17:29:41,909.909.9016189575195:kafka.producer.kafka:139956971476736:INFO:1998:Closing the Kafka producer with 0 secs timeout.\n",
      "2019-08-17 17:29:41,911.911.8483066558838:kafka.producer.kafka:139956971476736:INFO:2000:Closing the Kafka producer with 0 secs timeout.\n",
      "2019-08-17 17:29:41,913.913.71750831604:kafka.producer.kafka:139956971476736:INFO:1998:Proceeding to force close the producer since pending requests could not be completed within timeout 0.\n",
      "2019-08-17 17:29:41,915.915.5580997467041:kafka.conn:139956881688320:INFO:1998:<BrokerConnection node_id=0 host=ubuntu:9092 <connected> [IPv4 ('127.0.1.1', 9092)]>: Closing connection. \n",
      "2019-08-17 17:29:41,915.915.7121181488037:kafka.producer.kafka:139956971476736:INFO:2000:Proceeding to force close the producer since pending requests could not be completed within timeout 0.\n",
      "2019-08-17 17:29:41,917.917.5972938537598:kafka.conn:139956890081024:INFO:2000:<BrokerConnection node_id=0 host=ubuntu:9092 <connected> [IPv4 ('127.0.1.1', 9092)]>: Closing connection. \n"
     ]
    },
    {
     "name": "stdout",
     "output_type": "stream",
     "text": [
      "topic=my_topic partition=0 offset=2966: key=None value={'number_1': '36.270163656661026,-5.384769334606085,-25.19894683915632,38.419277193628034,19.234134879597264'}\n",
      "topic=my-topic partition=0 offset=2366: key=None value={'number_2': '-18.277921459262508,-1.5244050116595587,1.7786886774641766,-19.862454429747736,-14.836956936559913'}\n"
     ]
    },
    {
     "name": "stderr",
     "output_type": "stream",
     "text": [
      "2019-08-17 17:29:41,921.921.1063385009766:kafka.conn:139956890081024:INFO:1998:<BrokerConnection node_id=0 host=ubuntu:9092 <connecting> [IPv4 ('127.0.1.1', 9092)]>: connecting to ubuntu:9092 [('127.0.1.1', 9092) IPv4]\n",
      "2019-08-17 17:29:41,922.922.0502376556396:kafka.conn:139954881533696:INFO:2000:<BrokerConnection node_id=0 host=ubuntu:9092 <connecting> [IPv4 ('127.0.1.1', 9092)]>: connecting to ubuntu:9092 [('127.0.1.1', 9092) IPv4]\n",
      "2019-08-17 17:29:41,922.922.2180843353271:kafka.conn:139956971476736:INFO:1998:<BrokerConnection node_id=bootstrap-0 host=localhost:9092 <connecting> [IPv6 ('::1', 9092, 0, 0)]>: connecting to localhost:9092 [('::1', 9092, 0, 0) IPv6]\n",
      "2019-08-17 17:29:41,924.924.7980117797852:kafka.conn:139956971476736:INFO:2000:<BrokerConnection node_id=bootstrap-0 host=localhost:9092 <connecting> [IPv6 ('::1', 9092, 0, 0)]>: connecting to localhost:9092 [('::1', 9092, 0, 0) IPv6]\n",
      "2019-08-17 17:29:41,924.924.0362644195557:kafka.conn:139956890081024:INFO:1998:<BrokerConnection node_id=0 host=ubuntu:9092 <connecting> [IPv4 ('127.0.1.1', 9092)]>: Connection complete.\n",
      "2019-08-17 17:29:41,924.924.6871471405029:kafka.conn:139956971476736:INFO:1998:Probing node bootstrap-0 broker version\n",
      "2019-08-17 17:29:41,925.925.5108833312988:kafka.conn:139954881533696:INFO:2000:<BrokerConnection node_id=0 host=ubuntu:9092 <connecting> [IPv4 ('127.0.1.1', 9092)]>: Connection complete.\n",
      "2019-08-17 17:29:41,926.926.2361526489258:kafka.conn:139956890081024:INFO:1998:<BrokerConnection node_id=bootstrap-0 host=localhost:9092 <connected> [IPv6 ('::1', 9092, 0, 0)]>: Closing connection. \n",
      "2019-08-17 17:29:41,927.927.4246692657471:kafka.conn:139956971476736:INFO:2000:Probing node bootstrap-0 broker version\n",
      "2019-08-17 17:29:41,928.928.2946586608887:kafka.conn:139956971476736:INFO:1998:<BrokerConnection node_id=bootstrap-0 host=localhost:9092 <connecting> [IPv6 ('::1', 9092, 0, 0)]>: Connection complete.\n",
      "2019-08-17 17:29:41,929.929.189920425415:kafka.conn:139954881533696:INFO:2000:<BrokerConnection node_id=bootstrap-0 host=localhost:9092 <connected> [IPv6 ('::1', 9092, 0, 0)]>: Closing connection. \n"
     ]
    },
    {
     "name": "stdout",
     "output_type": "stream",
     "text": [
      "topic : result , partition : 0 , offset : 896\n"
     ]
    },
    {
     "name": "stderr",
     "output_type": "stream",
     "text": [
      "2019-08-17 17:29:41,931.931.0610294342041:kafka.conn:139956971476736:INFO:2000:<BrokerConnection node_id=bootstrap-0 host=localhost:9092 <connecting> [IPv6 ('::1', 9092, 0, 0)]>: Connection complete.\n"
     ]
    },
    {
     "name": "stdout",
     "output_type": "stream",
     "text": [
      "topic : result , partition : 0 , offset : 897\n"
     ]
    },
    {
     "name": "stderr",
     "output_type": "stream",
     "text": [
      "2019-08-17 17:29:42,036.36.50355339050293:kafka.conn:139956971476736:INFO:1998:Broker version identifed as 1.0.0\n",
      "2019-08-17 17:29:42,038.38.22970390319824:kafka.conn:139956971476736:INFO:1998:Set configuration api_version=(1, 0, 0) to skip auto check_version requests on startup\n",
      "2019-08-17 17:29:42,039.39.5970344543457:kafka.conn:139956971476736:INFO:2000:Broker version identifed as 1.0.0\n",
      "2019-08-17 17:29:42,041.41.13340377807617:kafka.conn:139956971476736:INFO:2000:Set configuration api_version=(1, 0, 0) to skip auto check_version requests on startup\n",
      "2019-08-17 17:29:42,042.42.23179817199707:kafka.producer.kafka:139956971476736:INFO:1998:Closing the Kafka producer with 0 secs timeout.\n",
      "2019-08-17 17:29:42,045.45.33052444458008:kafka.producer.kafka:139956971476736:INFO:2000:Closing the Kafka producer with 0 secs timeout.\n",
      "2019-08-17 17:29:42,046.46.02527618408203:kafka.producer.kafka:139956971476736:INFO:1998:Proceeding to force close the producer since pending requests could not be completed within timeout 0.\n",
      "2019-08-17 17:29:42,047.47.8672981262207:kafka.conn:139956890081024:INFO:1998:<BrokerConnection node_id=0 host=ubuntu:9092 <connected> [IPv4 ('127.0.1.1', 9092)]>: Closing connection. \n",
      "2019-08-17 17:29:42,049.49.82495307922363:kafka.producer.kafka:139956971476736:INFO:2000:Proceeding to force close the producer since pending requests could not be completed within timeout 0.\n"
     ]
    },
    {
     "name": "stdout",
     "output_type": "stream",
     "text": [
      "topic=my_topic partition=0 offset=2967: key=None value={'number_1': '17.145749953581102,15.119822542038545,-29.86755862133373,3.737263259167573,2.0409606329132153'}\n"
     ]
    },
    {
     "name": "stderr",
     "output_type": "stream",
     "text": [
      "2019-08-17 17:29:42,051.51.70249938964844:kafka.conn:139954881533696:INFO:2000:<BrokerConnection node_id=0 host=ubuntu:9092 <connected> [IPv4 ('127.0.1.1', 9092)]>: Closing connection. \n",
      "2019-08-17 17:29:42,052.52.1395206451416:kafka.conn:139956881688320:INFO:1998:<BrokerConnection node_id=0 host=ubuntu:9092 <connecting> [IPv4 ('127.0.1.1', 9092)]>: connecting to ubuntu:9092 [('127.0.1.1', 9092) IPv4]\n"
     ]
    },
    {
     "name": "stdout",
     "output_type": "stream",
     "text": [
      "topic=my-topic partition=0 offset=2367: key=None value={'number_2': '9.966626345682997,-10.170791117554252,9.2088586563437,-4.974112475217783,-16.09390706455277'}\n"
     ]
    },
    {
     "name": "stderr",
     "output_type": "stream",
     "text": [
      "2019-08-17 17:29:42,054.54.863929748535156:kafka.conn:139956971476736:INFO:1998:<BrokerConnection node_id=bootstrap-0 host=localhost:9092 <connecting> [IPv6 ('::1', 9092, 0, 0)]>: connecting to localhost:9092 [('::1', 9092, 0, 0) IPv6]\n",
      "2019-08-17 17:29:42,056.56.29992485046387:kafka.conn:139956881688320:INFO:1998:<BrokerConnection node_id=0 host=ubuntu:9092 <connecting> [IPv4 ('127.0.1.1', 9092)]>: Connection complete.\n",
      "2019-08-17 17:29:42,057.57.535409927368164:kafka.conn:139956890081024:INFO:2000:<BrokerConnection node_id=0 host=ubuntu:9092 <connecting> [IPv4 ('127.0.1.1', 9092)]>: connecting to ubuntu:9092 [('127.0.1.1', 9092) IPv4]\n",
      "2019-08-17 17:29:42,056.56.87427520751953:kafka.conn:139956971476736:INFO:1998:Probing node bootstrap-0 broker version\n",
      "2019-08-17 17:29:42,058.58.63618850708008:kafka.conn:139956971476736:INFO:2000:<BrokerConnection node_id=bootstrap-0 host=localhost:9092 <connecting> [IPv6 ('::1', 9092, 0, 0)]>: connecting to localhost:9092 [('::1', 9092, 0, 0) IPv6]\n",
      "2019-08-17 17:29:42,058.58.4568977355957:kafka.conn:139956881688320:INFO:1998:<BrokerConnection node_id=bootstrap-0 host=localhost:9092 <connected> [IPv6 ('::1', 9092, 0, 0)]>: Closing connection. \n",
      "2019-08-17 17:29:42,060.60.53519248962402:kafka.conn:139956890081024:INFO:2000:<BrokerConnection node_id=0 host=ubuntu:9092 <connecting> [IPv4 ('127.0.1.1', 9092)]>: Connection complete.\n",
      "2019-08-17 17:29:42,060.60.379743576049805:kafka.conn:139956971476736:INFO:1998:<BrokerConnection node_id=bootstrap-0 host=localhost:9092 <connecting> [IPv6 ('::1', 9092, 0, 0)]>: Connection complete.\n",
      "2019-08-17 17:29:42,061.61.12360954284668:kafka.conn:139956971476736:INFO:2000:Probing node bootstrap-0 broker version\n"
     ]
    },
    {
     "name": "stdout",
     "output_type": "stream",
     "text": [
      "topic : result , partition : 0 , offset : 898\n"
     ]
    },
    {
     "name": "stderr",
     "output_type": "stream",
     "text": [
      "2019-08-17 17:29:42,062.62.879323959350586:kafka.conn:139956890081024:INFO:2000:<BrokerConnection node_id=bootstrap-0 host=localhost:9092 <connected> [IPv6 ('::1', 9092, 0, 0)]>: Closing connection. \n",
      "2019-08-17 17:29:42,064.64.96310234069824:kafka.conn:139956971476736:INFO:2000:<BrokerConnection node_id=bootstrap-0 host=localhost:9092 <connecting> [IPv6 ('::1', 9092, 0, 0)]>: Connection complete.\n"
     ]
    },
    {
     "name": "stdout",
     "output_type": "stream",
     "text": [
      "topic : result , partition : 0 , offset : 899\n"
     ]
    },
    {
     "name": "stderr",
     "output_type": "stream",
     "text": [
      "2019-08-17 17:29:42,167.167.93441772460938:kafka.conn:139956971476736:INFO:1998:Broker version identifed as 1.0.0\n",
      "2019-08-17 17:29:42,169.169.56639289855957:kafka.conn:139956971476736:INFO:1998:Set configuration api_version=(1, 0, 0) to skip auto check_version requests on startup\n",
      "2019-08-17 17:29:42,172.172.60336875915527:kafka.conn:139956971476736:INFO:2000:Broker version identifed as 1.0.0\n",
      "2019-08-17 17:29:42,174.174.16906356811523:kafka.conn:139956971476736:INFO:2000:Set configuration api_version=(1, 0, 0) to skip auto check_version requests on startup\n",
      "2019-08-17 17:29:42,174.174.73530769348145:kafka.producer.kafka:139956971476736:INFO:1998:Closing the Kafka producer with 0 secs timeout.\n",
      "2019-08-17 17:29:42,176.176.41949653625488:kafka.producer.kafka:139956971476736:INFO:1998:Proceeding to force close the producer since pending requests could not be completed within timeout 0.\n",
      "2019-08-17 17:29:42,180.180.7105541229248:kafka.conn:139956881688320:INFO:1998:<BrokerConnection node_id=0 host=ubuntu:9092 <connected> [IPv4 ('127.0.1.1', 9092)]>: Closing connection. \n",
      "2019-08-17 17:29:42,179.179.31699752807617:kafka.producer.kafka:139956971476736:INFO:2000:Closing the Kafka producer with 0 secs timeout.\n",
      "2019-08-17 17:29:42,183.183.6678981781006:kafka.producer.kafka:139956971476736:INFO:2000:Proceeding to force close the producer since pending requests could not be completed within timeout 0.\n"
     ]
    },
    {
     "name": "stdout",
     "output_type": "stream",
     "text": [
      "topic=my_topic partition=0 offset=2968: key=None value={'number_1': '-27.571384129563235,-3.344742675492876,-7.584498381023668,2.752077300962398,30.117982797736826'}\n"
     ]
    },
    {
     "name": "stderr",
     "output_type": "stream",
     "text": [
      "2019-08-17 17:29:42,185.185.36376953125:kafka.conn:139956890081024:INFO:2000:<BrokerConnection node_id=0 host=ubuntu:9092 <connected> [IPv4 ('127.0.1.1', 9092)]>: Closing connection. \n",
      "2019-08-17 17:29:42,185.185.09936332702637:kafka.conn:139956890081024:INFO:1998:<BrokerConnection node_id=0 host=ubuntu:9092 <connecting> [IPv4 ('127.0.1.1', 9092)]>: connecting to ubuntu:9092 [('127.0.1.1', 9092) IPv4]\n",
      "2019-08-17 17:29:42,188.188.5223388671875:kafka.conn:139956890081024:INFO:1998:<BrokerConnection node_id=0 host=ubuntu:9092 <connecting> [IPv4 ('127.0.1.1', 9092)]>: Connection complete.\n"
     ]
    },
    {
     "name": "stdout",
     "output_type": "stream",
     "text": [
      "topic=my-topic partition=0 offset=2368: key=None value={'number_2': '13.03539010802394,-6.27254332440823,-2.304927238160341,-2.590976763180742,4.557300534704451'}\n"
     ]
    },
    {
     "name": "stderr",
     "output_type": "stream",
     "text": [
      "2019-08-17 17:29:42,189.189.62955474853516:kafka.conn:139954881533696:INFO:2000:<BrokerConnection node_id=0 host=ubuntu:9092 <connecting> [IPv4 ('127.0.1.1', 9092)]>: connecting to ubuntu:9092 [('127.0.1.1', 9092) IPv4]\n",
      "2019-08-17 17:29:42,188.188.74597549438477:kafka.conn:139956971476736:INFO:1998:<BrokerConnection node_id=bootstrap-0 host=localhost:9092 <connecting> [IPv6 ('::1', 9092, 0, 0)]>: connecting to localhost:9092 [('::1', 9092, 0, 0) IPv6]\n",
      "2019-08-17 17:29:42,190.190.22202491760254:kafka.conn:139956890081024:INFO:1998:<BrokerConnection node_id=bootstrap-0 host=localhost:9092 <connected> [IPv6 ('::1', 9092, 0, 0)]>: Closing connection. \n",
      "2019-08-17 17:29:42,192.192.1703815460205:kafka.conn:139956971476736:INFO:2000:<BrokerConnection node_id=bootstrap-0 host=localhost:9092 <connecting> [IPv6 ('::1', 9092, 0, 0)]>: connecting to localhost:9092 [('::1', 9092, 0, 0) IPv6]\n",
      "2019-08-17 17:29:42,192.192.10076332092285:kafka.conn:139956971476736:INFO:1998:Probing node bootstrap-0 broker version\n",
      "2019-08-17 17:29:42,193.193.55297088623047:kafka.conn:139954881533696:INFO:2000:<BrokerConnection node_id=0 host=ubuntu:9092 <connecting> [IPv4 ('127.0.1.1', 9092)]>: Connection complete.\n",
      "2019-08-17 17:29:42,195.195.1308250427246:kafka.conn:139956971476736:INFO:2000:Probing node bootstrap-0 broker version\n",
      "2019-08-17 17:29:42,196.196.13265991210938:kafka.conn:139956971476736:INFO:1998:<BrokerConnection node_id=bootstrap-0 host=localhost:9092 <connecting> [IPv6 ('::1', 9092, 0, 0)]>: Connection complete.\n",
      "2019-08-17 17:29:42,195.195.7869529724121:kafka.conn:139954881533696:INFO:2000:<BrokerConnection node_id=bootstrap-0 host=localhost:9092 <connected> [IPv6 ('::1', 9092, 0, 0)]>: Closing connection. \n"
     ]
    },
    {
     "name": "stdout",
     "output_type": "stream",
     "text": [
      "topic : result , partition : 0 , offset : 900\n"
     ]
    },
    {
     "name": "stderr",
     "output_type": "stream",
     "text": [
      "2019-08-17 17:29:42,197.197.65853881835938:kafka.conn:139956971476736:INFO:2000:<BrokerConnection node_id=bootstrap-0 host=localhost:9092 <connecting> [IPv6 ('::1', 9092, 0, 0)]>: Connection complete.\n"
     ]
    },
    {
     "name": "stdout",
     "output_type": "stream",
     "text": [
      "topic : result , partition : 0 , offset : 901\n"
     ]
    },
    {
     "name": "stderr",
     "output_type": "stream",
     "text": [
      "2019-08-17 17:29:42,301.301.7115592956543:kafka.conn:139956971476736:INFO:1998:Broker version identifed as 1.0.0\n",
      "2019-08-17 17:29:42,303.303.3404350280762:kafka.conn:139956971476736:INFO:1998:Set configuration api_version=(1, 0, 0) to skip auto check_version requests on startup\n",
      "2019-08-17 17:29:42,306.306.41841888427734:kafka.conn:139956971476736:INFO:2000:Broker version identifed as 1.0.0\n",
      "2019-08-17 17:29:42,307.307.4178695678711:kafka.producer.kafka:139956971476736:INFO:1998:Closing the Kafka producer with 0 secs timeout.\n",
      "2019-08-17 17:29:42,308.308.05182456970215:kafka.conn:139956971476736:INFO:2000:Set configuration api_version=(1, 0, 0) to skip auto check_version requests on startup\n",
      "2019-08-17 17:29:42,311.311.7260932922363:kafka.producer.kafka:139956971476736:INFO:1998:Proceeding to force close the producer since pending requests could not be completed within timeout 0.\n",
      "2019-08-17 17:29:42,312.312.4656677246094:kafka.producer.kafka:139956971476736:INFO:2000:Closing the Kafka producer with 0 secs timeout.\n",
      "2019-08-17 17:29:42,313.313.6913776397705:kafka.conn:139956890081024:INFO:1998:<BrokerConnection node_id=0 host=ubuntu:9092 <connected> [IPv4 ('127.0.1.1', 9092)]>: Closing connection. \n",
      "2019-08-17 17:29:42,316.316.417932510376:kafka.producer.kafka:139956971476736:INFO:2000:Proceeding to force close the producer since pending requests could not be completed within timeout 0.\n",
      "2019-08-17 17:29:42,318.318.23134422302246:kafka.conn:139954881533696:INFO:2000:<BrokerConnection node_id=0 host=ubuntu:9092 <connected> [IPv4 ('127.0.1.1', 9092)]>: Closing connection. \n",
      "2019-08-17 17:29:42,318.318.7546730041504:kafka.conn:139956881688320:INFO:1998:<BrokerConnection node_id=0 host=ubuntu:9092 <connecting> [IPv4 ('127.0.1.1', 9092)]>: connecting to ubuntu:9092 [('127.0.1.1', 9092) IPv4]\n"
     ]
    },
    {
     "name": "stdout",
     "output_type": "stream",
     "text": [
      "topic=my_topic partition=0 offset=2969: key=None value={'number_1': '17.95669525858036,19.218832304514947,7.263343705320158,-14.644743611358596,-21.587756423637792'}\n"
     ]
    },
    {
     "name": "stderr",
     "output_type": "stream",
     "text": [
      "2019-08-17 17:29:42,321.321.61450386047363:kafka.conn:139956881688320:INFO:1998:<BrokerConnection node_id=0 host=ubuntu:9092 <connecting> [IPv4 ('127.0.1.1', 9092)]>: Connection complete.\n",
      "2019-08-17 17:29:42,322.322.0503330230713:kafka.conn:139956890081024:INFO:2000:<BrokerConnection node_id=0 host=ubuntu:9092 <connecting> [IPv4 ('127.0.1.1', 9092)]>: connecting to ubuntu:9092 [('127.0.1.1', 9092) IPv4]\n"
     ]
    },
    {
     "name": "stdout",
     "output_type": "stream",
     "text": [
      "topic=my-topic partition=0 offset=2369: key=None value={'number_2': '12.892639152005472,-9.08494908513127,-13.629295444971167,-0.11178135527042345,-6.1175781140637655'}\n"
     ]
    },
    {
     "name": "stderr",
     "output_type": "stream",
     "text": [
      "2019-08-17 17:29:42,323.323.98366928100586:kafka.conn:139956881688320:INFO:1998:<BrokerConnection node_id=bootstrap-0 host=localhost:9092 <connected> [IPv6 ('::1', 9092, 0, 0)]>: Closing connection. \n",
      "2019-08-17 17:29:42,325.325.9720802307129:kafka.conn:139956890081024:INFO:2000:<BrokerConnection node_id=0 host=ubuntu:9092 <connecting> [IPv4 ('127.0.1.1', 9092)]>: Connection complete.\n",
      "2019-08-17 17:29:42,325.325.12426376342773:kafka.conn:139956971476736:INFO:1998:<BrokerConnection node_id=bootstrap-0 host=localhost:9092 <connecting> [IPv6 ('::1', 9092, 0, 0)]>: connecting to localhost:9092 [('::1', 9092, 0, 0) IPv6]\n",
      "2019-08-17 17:29:42,327.327.01969146728516:kafka.conn:139956971476736:INFO:2000:<BrokerConnection node_id=bootstrap-0 host=localhost:9092 <connecting> [IPv6 ('::1', 9092, 0, 0)]>: connecting to localhost:9092 [('::1', 9092, 0, 0) IPv6]\n"
     ]
    },
    {
     "name": "stdout",
     "output_type": "stream",
     "text": [
      "topic : result , partition : 0 , offset : 902\n"
     ]
    },
    {
     "name": "stderr",
     "output_type": "stream",
     "text": [
      "2019-08-17 17:29:42,329.329.21457290649414:kafka.conn:139956971476736:INFO:1998:Probing node bootstrap-0 broker version\n",
      "2019-08-17 17:29:42,327.327.8658390045166:kafka.conn:139956890081024:INFO:2000:<BrokerConnection node_id=bootstrap-0 host=localhost:9092 <connected> [IPv6 ('::1', 9092, 0, 0)]>: Closing connection. \n",
      "2019-08-17 17:29:42,331.331.03442192077637:kafka.conn:139956971476736:INFO:1998:<BrokerConnection node_id=bootstrap-0 host=localhost:9092 <connecting> [IPv6 ('::1', 9092, 0, 0)]>: Connection complete.\n",
      "2019-08-17 17:29:42,329.329.77938652038574:kafka.conn:139956971476736:INFO:2000:Probing node bootstrap-0 broker version\n",
      "2019-08-17 17:29:42,334.334.24973487854004:kafka.conn:139956971476736:INFO:2000:<BrokerConnection node_id=bootstrap-0 host=localhost:9092 <connecting> [IPv6 ('::1', 9092, 0, 0)]>: Connection complete.\n"
     ]
    },
    {
     "name": "stdout",
     "output_type": "stream",
     "text": [
      "topic : result , partition : 0 , offset : 903\n"
     ]
    },
    {
     "name": "stderr",
     "output_type": "stream",
     "text": [
      "2019-08-17 17:29:42,435.435.3914260864258:kafka.conn:139956971476736:INFO:1998:Broker version identifed as 1.0.0\n",
      "2019-08-17 17:29:42,437.437.0119571685791:kafka.conn:139956971476736:INFO:1998:Set configuration api_version=(1, 0, 0) to skip auto check_version requests on startup\n",
      "2019-08-17 17:29:42,439.439.6529197692871:kafka.conn:139956971476736:INFO:2000:Broker version identifed as 1.0.0\n",
      "2019-08-17 17:29:42,441.441.2226676940918:kafka.conn:139956971476736:INFO:2000:Set configuration api_version=(1, 0, 0) to skip auto check_version requests on startup\n",
      "2019-08-17 17:29:42,441.441.3723945617676:kafka.producer.kafka:139956971476736:INFO:1998:Closing the Kafka producer with 0 secs timeout.\n",
      "2019-08-17 17:29:42,445.445.42884826660156:kafka.producer.kafka:139956971476736:INFO:2000:Closing the Kafka producer with 0 secs timeout.\n",
      "2019-08-17 17:29:42,445.445.1878070831299:kafka.producer.kafka:139956971476736:INFO:1998:Proceeding to force close the producer since pending requests could not be completed within timeout 0.\n",
      "2019-08-17 17:29:42,447.447.6184844970703:kafka.conn:139956881688320:INFO:1998:<BrokerConnection node_id=0 host=ubuntu:9092 <connected> [IPv4 ('127.0.1.1', 9092)]>: Closing connection. \n",
      "2019-08-17 17:29:42,449.449.9621391296387:kafka.producer.kafka:139956971476736:INFO:2000:Proceeding to force close the producer since pending requests could not be completed within timeout 0.\n",
      "2019-08-17 17:29:42,451.451.59363746643066:kafka.conn:139954520844032:INFO:1998:<BrokerConnection node_id=0 host=ubuntu:9092 <connecting> [IPv4 ('127.0.1.1', 9092)]>: connecting to ubuntu:9092 [('127.0.1.1', 9092) IPv4]\n",
      "2019-08-17 17:29:42,451.451.85279846191406:kafka.conn:139956890081024:INFO:2000:<BrokerConnection node_id=0 host=ubuntu:9092 <connected> [IPv4 ('127.0.1.1', 9092)]>: Closing connection. \n",
      "2019-08-17 17:29:42,453.453.7789821624756:kafka.conn:139954520844032:INFO:1998:<BrokerConnection node_id=0 host=ubuntu:9092 <connecting> [IPv4 ('127.0.1.1', 9092)]>: Connection complete.\n",
      "2019-08-17 17:29:42,455.455.40452003479004:kafka.conn:139954520844032:INFO:1998:<BrokerConnection node_id=bootstrap-0 host=localhost:9092 <connected> [IPv6 ('::1', 9092, 0, 0)]>: Closing connection. \n"
     ]
    },
    {
     "name": "stdout",
     "output_type": "stream",
     "text": [
      "topic=my-topic partition=0 offset=2370: key=None value={'number_2': '6.883718937141584,13.81924409734715,-6.618278952977391,6.260078436352995,13.357500521415428'}\n"
     ]
    },
    {
     "name": "stderr",
     "output_type": "stream",
     "text": [
      "2019-08-17 17:29:42,456.456.45952224731445:kafka.conn:139954520844032:INFO:2000:<BrokerConnection node_id=0 host=ubuntu:9092 <connecting> [IPv4 ('127.0.1.1', 9092)]>: connecting to ubuntu:9092 [('127.0.1.1', 9092) IPv4]\n"
     ]
    },
    {
     "name": "stdout",
     "output_type": "stream",
     "text": [
      "topic : result , partition : 0 , offset : 904\n"
     ]
    },
    {
     "name": "stderr",
     "output_type": "stream",
     "text": [
      "2019-08-17 17:29:42,458.458.97483825683594:kafka.conn:139956971476736:INFO:2000:<BrokerConnection node_id=bootstrap-0 host=localhost:9092 <connecting> [IPv6 ('::1', 9092, 0, 0)]>: connecting to localhost:9092 [('::1', 9092, 0, 0) IPv6]\n",
      "2019-08-17 17:29:42,460.460.35146713256836:kafka.conn:139954520844032:INFO:2000:<BrokerConnection node_id=0 host=ubuntu:9092 <connecting> [IPv4 ('127.0.1.1', 9092)]>: Connection complete.\n",
      "2019-08-17 17:29:42,460.460.9968662261963:kafka.conn:139956971476736:INFO:2000:Probing node bootstrap-0 broker version\n",
      "2019-08-17 17:29:42,462.462.5561237335205:kafka.conn:139954520844032:INFO:2000:<BrokerConnection node_id=bootstrap-0 host=localhost:9092 <connected> [IPv6 ('::1', 9092, 0, 0)]>: Closing connection. \n",
      "2019-08-17 17:29:42,464.464.0648365020752:kafka.conn:139956971476736:INFO:2000:<BrokerConnection node_id=bootstrap-0 host=localhost:9092 <connecting> [IPv6 ('::1', 9092, 0, 0)]>: Connection complete.\n"
     ]
    },
    {
     "name": "stdout",
     "output_type": "stream",
     "text": [
      "topic : result , partition : 0 , offset : 905\n",
      "topic=my_topic partition=0 offset=2970: key=None value={'number_1': '-12.082716318424414,13.119549633355408,13.864198811913365,-6.798091253416793,5.870822202864237'}\n"
     ]
    },
    {
     "name": "stderr",
     "output_type": "stream",
     "text": [
      "2019-08-17 17:29:42,503.503.8421154022217:kafka.conn:139956971476736:INFO:1998:<BrokerConnection node_id=bootstrap-0 host=localhost:9092 <connecting> [IPv6 ('::1', 9092, 0, 0)]>: connecting to localhost:9092 [('::1', 9092, 0, 0) IPv6]\n",
      "2019-08-17 17:29:42,505.505.43999671936035:kafka.conn:139956971476736:INFO:1998:Probing node bootstrap-0 broker version\n",
      "2019-08-17 17:29:42,507.507.0815086364746:kafka.conn:139956971476736:INFO:1998:<BrokerConnection node_id=bootstrap-0 host=localhost:9092 <connecting> [IPv6 ('::1', 9092, 0, 0)]>: Connection complete.\n",
      "2019-08-17 17:29:42,571.571.6958045959473:kafka.conn:139956971476736:INFO:2000:Broker version identifed as 1.0.0\n",
      "2019-08-17 17:29:42,573.573.3389854431152:kafka.conn:139956971476736:INFO:2000:Set configuration api_version=(1, 0, 0) to skip auto check_version requests on startup\n",
      "2019-08-17 17:29:42,578.578.5543918609619:kafka.producer.kafka:139956971476736:INFO:2000:Closing the Kafka producer with 0 secs timeout.\n",
      "2019-08-17 17:29:42,582.582.5228691101074:kafka.producer.kafka:139956971476736:INFO:2000:Proceeding to force close the producer since pending requests could not be completed within timeout 0.\n",
      "2019-08-17 17:29:42,584.584.3601226806641:kafka.conn:139954520844032:INFO:2000:<BrokerConnection node_id=0 host=ubuntu:9092 <connected> [IPv4 ('127.0.1.1', 9092)]>: Closing connection. \n",
      "2019-08-17 17:29:42,588.588.4084701538086:kafka.conn:139956890081024:INFO:2000:<BrokerConnection node_id=0 host=ubuntu:9092 <connecting> [IPv4 ('127.0.1.1', 9092)]>: connecting to ubuntu:9092 [('127.0.1.1', 9092) IPv4]\n",
      "2019-08-17 17:29:42,590.590.7680988311768:kafka.conn:139956890081024:INFO:2000:<BrokerConnection node_id=0 host=ubuntu:9092 <connecting> [IPv4 ('127.0.1.1', 9092)]>: Connection complete.\n",
      "2019-08-17 17:29:42,592.592.4942493438721:kafka.conn:139956890081024:INFO:2000:<BrokerConnection node_id=bootstrap-0 host=localhost:9092 <connected> [IPv6 ('::1', 9092, 0, 0)]>: Closing connection. \n"
     ]
    },
    {
     "name": "stdout",
     "output_type": "stream",
     "text": [
      "topic : result , partition : 0 , offset : 906\n"
     ]
    },
    {
     "name": "stderr",
     "output_type": "stream",
     "text": [
      "2019-08-17 17:29:42,611.611.5312576293945:kafka.conn:139956971476736:INFO:1998:Broker version identifed as 1.0.0\n",
      "2019-08-17 17:29:42,613.613.1811141967773:kafka.conn:139956971476736:INFO:1998:Set configuration api_version=(1, 0, 0) to skip auto check_version requests on startup\n",
      "2019-08-17 17:29:42,618.618.1001663208008:kafka.producer.kafka:139956971476736:INFO:1998:Closing the Kafka producer with 0 secs timeout.\n",
      "2019-08-17 17:29:42,622.622.0388412475586:kafka.producer.kafka:139956971476736:INFO:1998:Proceeding to force close the producer since pending requests could not be completed within timeout 0.\n",
      "2019-08-17 17:29:42,624.624.0441799163818:kafka.conn:139954520844032:INFO:1998:<BrokerConnection node_id=0 host=ubuntu:9092 <connected> [IPv4 ('127.0.1.1', 9092)]>: Closing connection. \n"
     ]
    },
    {
     "name": "stdout",
     "output_type": "stream",
     "text": [
      "topic=my_topic partition=0 offset=2971: key=None value={'number_1': '-4.425118654875867,19.11466786500221,8.275538963875277,15.359031508987272,-6.8376070499098915'}\n"
     ]
    },
    {
     "name": "stderr",
     "output_type": "stream",
     "text": [
      "2019-08-17 17:29:42,628.628.5083293914795:kafka.conn:139956881688320:INFO:1998:<BrokerConnection node_id=0 host=ubuntu:9092 <connecting> [IPv4 ('127.0.1.1', 9092)]>: connecting to ubuntu:9092 [('127.0.1.1', 9092) IPv4]\n",
      "2019-08-17 17:29:42,631.631.4430236816406:kafka.conn:139956881688320:INFO:1998:<BrokerConnection node_id=0 host=ubuntu:9092 <connecting> [IPv4 ('127.0.1.1', 9092)]>: Connection complete.\n",
      "2019-08-17 17:29:42,631.631.6547393798828:kafka.conn:139956971476736:INFO:1998:<BrokerConnection node_id=bootstrap-0 host=localhost:9092 <connecting> [IPv6 ('::1', 9092, 0, 0)]>: connecting to localhost:9092 [('::1', 9092, 0, 0) IPv6]\n",
      "2019-08-17 17:29:42,633.633.2230567932129:kafka.conn:139956881688320:INFO:1998:<BrokerConnection node_id=bootstrap-0 host=localhost:9092 <connected> [IPv6 ('::1', 9092, 0, 0)]>: Closing connection. \n",
      "2019-08-17 17:29:42,634.634.9766254425049:kafka.conn:139956971476736:INFO:1998:Probing node bootstrap-0 broker version\n"
     ]
    },
    {
     "name": "stdout",
     "output_type": "stream",
     "text": [
      "topic : result , partition : 0 , offset : 907\n"
     ]
    },
    {
     "name": "stderr",
     "output_type": "stream",
     "text": [
      "2019-08-17 17:29:42,640.640.3238773345947:kafka.conn:139956971476736:INFO:1998:<BrokerConnection node_id=bootstrap-0 host=localhost:9092 <connecting> [IPv6 ('::1', 9092, 0, 0)]>: Connection complete.\n"
     ]
    },
    {
     "name": "stdout",
     "output_type": "stream",
     "text": [
      "topic=my-topic partition=0 offset=2371: key=None value={'number_2': '2.613410506336591,-3.5005906216855283,12.392760146265422,-0.9489498167434919,-12.909725269018178'}\n"
     ]
    },
    {
     "name": "stderr",
     "output_type": "stream",
     "text": [
      "2019-08-17 17:29:42,695.695.1103210449219:kafka.conn:139956971476736:INFO:2000:<BrokerConnection node_id=bootstrap-0 host=localhost:9092 <connecting> [IPv6 ('::1', 9092, 0, 0)]>: connecting to localhost:9092 [('::1', 9092, 0, 0) IPv6]\n",
      "2019-08-17 17:29:42,696.696.8352794647217:kafka.conn:139956971476736:INFO:2000:Probing node bootstrap-0 broker version\n",
      "2019-08-17 17:29:42,698.698.7917423248291:kafka.conn:139956971476736:INFO:2000:<BrokerConnection node_id=bootstrap-0 host=localhost:9092 <connecting> [IPv6 ('::1', 9092, 0, 0)]>: Connection complete.\n",
      "2019-08-17 17:29:42,744.744.992733001709:kafka.conn:139956971476736:INFO:1998:Broker version identifed as 1.0.0\n",
      "2019-08-17 17:29:42,746.746.6659545898438:kafka.conn:139956971476736:INFO:1998:Set configuration api_version=(1, 0, 0) to skip auto check_version requests on startup\n",
      "2019-08-17 17:29:42,750.750.8409023284912:kafka.producer.kafka:139956971476736:INFO:1998:Closing the Kafka producer with 0 secs timeout.\n",
      "2019-08-17 17:29:42,754.754.9934387207031:kafka.producer.kafka:139956971476736:INFO:1998:Proceeding to force close the producer since pending requests could not be completed within timeout 0.\n",
      "2019-08-17 17:29:42,756.756.8676471710205:kafka.conn:139956881688320:INFO:1998:<BrokerConnection node_id=0 host=ubuntu:9092 <connected> [IPv4 ('127.0.1.1', 9092)]>: Closing connection. \n"
     ]
    },
    {
     "name": "stdout",
     "output_type": "stream",
     "text": [
      "topic=my_topic partition=0 offset=2972: key=None value={'number_1': '-11.366233042653057,-6.111418041485457,21.007097247565692,5.8372192161866066,14.812433620033028'}\n"
     ]
    },
    {
     "name": "stderr",
     "output_type": "stream",
     "text": [
      "2019-08-17 17:29:42,761.761.3086700439453:kafka.conn:139954520844032:INFO:1998:<BrokerConnection node_id=0 host=ubuntu:9092 <connecting> [IPv4 ('127.0.1.1', 9092)]>: connecting to ubuntu:9092 [('127.0.1.1', 9092) IPv4]\n",
      "2019-08-17 17:29:42,764.764.1618251800537:kafka.conn:139954520844032:INFO:1998:<BrokerConnection node_id=0 host=ubuntu:9092 <connecting> [IPv4 ('127.0.1.1', 9092)]>: Connection complete.\n",
      "2019-08-17 17:29:42,764.764.4691467285156:kafka.conn:139956971476736:INFO:1998:<BrokerConnection node_id=bootstrap-0 host=localhost:9092 <connecting> [IPv6 ('::1', 9092, 0, 0)]>: connecting to localhost:9092 [('::1', 9092, 0, 0) IPv6]\n",
      "2019-08-17 17:29:42,766.766.2866115570068:kafka.conn:139954520844032:INFO:1998:<BrokerConnection node_id=bootstrap-0 host=localhost:9092 <connected> [IPv6 ('::1', 9092, 0, 0)]>: Closing connection. \n",
      "2019-08-17 17:29:42,768.768.0501937866211:kafka.conn:139956971476736:INFO:1998:Probing node bootstrap-0 broker version\n"
     ]
    },
    {
     "name": "stdout",
     "output_type": "stream",
     "text": [
      "topic : result , partition : 0 , offset : 908\n"
     ]
    },
    {
     "name": "stderr",
     "output_type": "stream",
     "text": [
      "2019-08-17 17:29:42,773.773.4241485595703:kafka.conn:139956971476736:INFO:1998:<BrokerConnection node_id=bootstrap-0 host=localhost:9092 <connecting> [IPv6 ('::1', 9092, 0, 0)]>: Connection complete.\n",
      "2019-08-17 17:29:42,803.803.647518157959:kafka.conn:139956971476736:INFO:2000:Broker version identifed as 1.0.0\n",
      "2019-08-17 17:29:42,805.805.516242980957:kafka.conn:139956971476736:INFO:2000:Set configuration api_version=(1, 0, 0) to skip auto check_version requests on startup\n",
      "2019-08-17 17:29:42,809.809.6206188201904:kafka.producer.kafka:139956971476736:INFO:2000:Closing the Kafka producer with 0 secs timeout.\n",
      "2019-08-17 17:29:42,813.813.3718967437744:kafka.producer.kafka:139956971476736:INFO:2000:Proceeding to force close the producer since pending requests could not be completed within timeout 0.\n",
      "2019-08-17 17:29:42,815.815.3588771820068:kafka.conn:139956890081024:INFO:2000:<BrokerConnection node_id=0 host=ubuntu:9092 <connected> [IPv4 ('127.0.1.1', 9092)]>: Closing connection. \n"
     ]
    },
    {
     "name": "stdout",
     "output_type": "stream",
     "text": [
      "topic=my-topic partition=0 offset=2372: key=None value={'number_2': '-2.0578378690285315,-2.8174346704415547,7.399591359512288,13.567591996724387,0.8976922479515059'}\n"
     ]
    },
    {
     "name": "stderr",
     "output_type": "stream",
     "text": [
      "2019-08-17 17:29:42,819.819.878339767456:kafka.conn:139954520844032:INFO:2000:<BrokerConnection node_id=0 host=ubuntu:9092 <connecting> [IPv4 ('127.0.1.1', 9092)]>: connecting to ubuntu:9092 [('127.0.1.1', 9092) IPv4]\n",
      "2019-08-17 17:29:42,822.822.6757049560547:kafka.conn:139954520844032:INFO:2000:<BrokerConnection node_id=0 host=ubuntu:9092 <connecting> [IPv4 ('127.0.1.1', 9092)]>: Connection complete.\n",
      "2019-08-17 17:29:42,822.822.9334354400635:kafka.conn:139956971476736:INFO:2000:<BrokerConnection node_id=bootstrap-0 host=localhost:9092 <connecting> [IPv6 ('::1', 9092, 0, 0)]>: connecting to localhost:9092 [('::1', 9092, 0, 0) IPv6]\n",
      "2019-08-17 17:29:42,824.824.4237899780273:kafka.conn:139954520844032:INFO:2000:<BrokerConnection node_id=bootstrap-0 host=localhost:9092 <connected> [IPv6 ('::1', 9092, 0, 0)]>: Closing connection. \n",
      "2019-08-17 17:29:42,826.826.2374401092529:kafka.conn:139956971476736:INFO:2000:Probing node bootstrap-0 broker version\n"
     ]
    },
    {
     "name": "stdout",
     "output_type": "stream",
     "text": [
      "topic : result , partition : 0 , offset : 909\n"
     ]
    },
    {
     "name": "stderr",
     "output_type": "stream",
     "text": [
      "2019-08-17 17:29:42,831.831.1347961425781:kafka.conn:139956971476736:INFO:2000:<BrokerConnection node_id=bootstrap-0 host=localhost:9092 <connecting> [IPv6 ('::1', 9092, 0, 0)]>: Connection complete.\n",
      "2019-08-17 17:29:42,878.878.1411647796631:kafka.conn:139956971476736:INFO:1998:Broker version identifed as 1.0.0\n",
      "2019-08-17 17:29:42,879.879.7507286071777:kafka.conn:139956971476736:INFO:1998:Set configuration api_version=(1, 0, 0) to skip auto check_version requests on startup\n",
      "2019-08-17 17:29:42,883.883.739709854126:kafka.producer.kafka:139956971476736:INFO:1998:Closing the Kafka producer with 0 secs timeout.\n",
      "2019-08-17 17:29:42,887.887.4728679656982:kafka.producer.kafka:139956971476736:INFO:1998:Proceeding to force close the producer since pending requests could not be completed within timeout 0.\n",
      "2019-08-17 17:29:42,889.889.4882202148438:kafka.conn:139954520844032:INFO:1998:<BrokerConnection node_id=0 host=ubuntu:9092 <connected> [IPv4 ('127.0.1.1', 9092)]>: Closing connection. \n"
     ]
    },
    {
     "name": "stdout",
     "output_type": "stream",
     "text": [
      "topic=my_topic partition=0 offset=2973: key=None value={'number_1': '12.611380185843247,22.107155725322816,3.4822084005098564,10.859191488856522,32.859413756743834'}\n"
     ]
    },
    {
     "name": "stderr",
     "output_type": "stream",
     "text": [
      "2019-08-17 17:29:42,894.894.0706253051758:kafka.conn:139956890081024:INFO:1998:<BrokerConnection node_id=0 host=ubuntu:9092 <connecting> [IPv4 ('127.0.1.1', 9092)]>: connecting to ubuntu:9092 [('127.0.1.1', 9092) IPv4]\n",
      "2019-08-17 17:29:42,897.897.3898887634277:kafka.conn:139956890081024:INFO:1998:<BrokerConnection node_id=0 host=ubuntu:9092 <connecting> [IPv4 ('127.0.1.1', 9092)]>: Connection complete.\n",
      "2019-08-17 17:29:42,898.898.5011577606201:kafka.conn:139956971476736:INFO:1998:<BrokerConnection node_id=bootstrap-0 host=localhost:9092 <connecting> [IPv6 ('::1', 9092, 0, 0)]>: connecting to localhost:9092 [('::1', 9092, 0, 0) IPv6]\n",
      "2019-08-17 17:29:42,899.899.1103172302246:kafka.conn:139956890081024:INFO:1998:<BrokerConnection node_id=bootstrap-0 host=localhost:9092 <connected> [IPv6 ('::1', 9092, 0, 0)]>: Closing connection. \n",
      "2019-08-17 17:29:42,900.900.9630680084229:kafka.conn:139956971476736:INFO:1998:Probing node bootstrap-0 broker version\n"
     ]
    },
    {
     "name": "stdout",
     "output_type": "stream",
     "text": [
      "topic : result , partition : 0 , offset : 910\n"
     ]
    },
    {
     "name": "stderr",
     "output_type": "stream",
     "text": [
      "2019-08-17 17:29:42,905.905.6267738342285:kafka.conn:139956971476736:INFO:1998:<BrokerConnection node_id=bootstrap-0 host=localhost:9092 <connecting> [IPv6 ('::1', 9092, 0, 0)]>: Connection complete.\n",
      "2019-08-17 17:29:42,935.935.5363845825195:kafka.conn:139956971476736:INFO:2000:Broker version identifed as 1.0.0\n",
      "2019-08-17 17:29:42,937.937.1249675750732:kafka.conn:139956971476736:INFO:2000:Set configuration api_version=(1, 0, 0) to skip auto check_version requests on startup\n",
      "2019-08-17 17:29:42,941.941.0867691040039:kafka.producer.kafka:139956971476736:INFO:2000:Closing the Kafka producer with 0 secs timeout.\n",
      "2019-08-17 17:29:42,944.944.866418838501:kafka.producer.kafka:139956971476736:INFO:2000:Proceeding to force close the producer since pending requests could not be completed within timeout 0.\n",
      "2019-08-17 17:29:42,946.946.9406604766846:kafka.conn:139954520844032:INFO:2000:<BrokerConnection node_id=0 host=ubuntu:9092 <connected> [IPv4 ('127.0.1.1', 9092)]>: Closing connection. \n"
     ]
    },
    {
     "name": "stdout",
     "output_type": "stream",
     "text": [
      "topic=my-topic partition=0 offset=2373: key=None value={'number_2': '0.7123302738398002,-6.440326974349286,-13.92493333850223,5.1568689944979,0.5596759635817502'}\n"
     ]
    },
    {
     "name": "stderr",
     "output_type": "stream",
     "text": [
      "2019-08-17 17:29:42,951.951.7195224761963:kafka.conn:139956890081024:INFO:2000:<BrokerConnection node_id=0 host=ubuntu:9092 <connecting> [IPv4 ('127.0.1.1', 9092)]>: connecting to ubuntu:9092 [('127.0.1.1', 9092) IPv4]\n",
      "2019-08-17 17:29:42,954.954.2667865753174:kafka.conn:139956971476736:INFO:2000:<BrokerConnection node_id=bootstrap-0 host=localhost:9092 <connecting> [IPv6 ('::1', 9092, 0, 0)]>: connecting to localhost:9092 [('::1', 9092, 0, 0) IPv6]\n",
      "2019-08-17 17:29:42,954.954.9500942230225:kafka.conn:139956890081024:INFO:2000:<BrokerConnection node_id=0 host=ubuntu:9092 <connecting> [IPv4 ('127.0.1.1', 9092)]>: Connection complete.\n",
      "2019-08-17 17:29:42,956.956.6066265106201:kafka.conn:139956971476736:INFO:2000:Probing node bootstrap-0 broker version\n",
      "2019-08-17 17:29:42,958.958.2047462463379:kafka.conn:139956890081024:INFO:2000:<BrokerConnection node_id=bootstrap-0 host=localhost:9092 <connected> [IPv6 ('::1', 9092, 0, 0)]>: Closing connection. \n",
      "2019-08-17 17:29:42,960.960.0121974945068:kafka.conn:139956971476736:INFO:2000:<BrokerConnection node_id=bootstrap-0 host=localhost:9092 <connecting> [IPv6 ('::1', 9092, 0, 0)]>: Connection complete.\n"
     ]
    },
    {
     "name": "stdout",
     "output_type": "stream",
     "text": [
      "topic : result , partition : 0 , offset : 911\n"
     ]
    },
    {
     "name": "stderr",
     "output_type": "stream",
     "text": [
      "2019-08-17 17:29:43,010.10.974645614624023:kafka.conn:139956971476736:INFO:1998:Broker version identifed as 1.0.0\n",
      "2019-08-17 17:29:43,012.12.526273727416992:kafka.conn:139956971476736:INFO:1998:Set configuration api_version=(1, 0, 0) to skip auto check_version requests on startup\n",
      "2019-08-17 17:29:43,017.17.334938049316406:kafka.producer.kafka:139956971476736:INFO:1998:Closing the Kafka producer with 0 secs timeout.\n",
      "2019-08-17 17:29:43,021.21.198749542236328:kafka.producer.kafka:139956971476736:INFO:1998:Proceeding to force close the producer since pending requests could not be completed within timeout 0.\n",
      "2019-08-17 17:29:43,023.23.14591407775879:kafka.conn:139956890081024:INFO:1998:<BrokerConnection node_id=0 host=ubuntu:9092 <connected> [IPv4 ('127.0.1.1', 9092)]>: Closing connection. \n"
     ]
    },
    {
     "name": "stdout",
     "output_type": "stream",
     "text": [
      "topic=my_topic partition=0 offset=2974: key=None value={'number_1': '10.369619812666004,-5.303590094249817,7.0050542332961045,-3.1431844366659796,-23.96119800513921'}\n"
     ]
    },
    {
     "name": "stderr",
     "output_type": "stream",
     "text": [
      "2019-08-17 17:29:43,027.27.525901794433594:kafka.conn:139954520844032:INFO:1998:<BrokerConnection node_id=0 host=ubuntu:9092 <connecting> [IPv4 ('127.0.1.1', 9092)]>: connecting to ubuntu:9092 [('127.0.1.1', 9092) IPv4]\n",
      "2019-08-17 17:29:43,030.30.08246421813965:kafka.conn:139956971476736:INFO:1998:<BrokerConnection node_id=bootstrap-0 host=localhost:9092 <connecting> [IPv6 ('::1', 9092, 0, 0)]>: connecting to localhost:9092 [('::1', 9092, 0, 0) IPv6]\n",
      "2019-08-17 17:29:43,031.31.620502471923828:kafka.conn:139954520844032:INFO:1998:<BrokerConnection node_id=0 host=ubuntu:9092 <connecting> [IPv4 ('127.0.1.1', 9092)]>: Connection complete.\n",
      "2019-08-17 17:29:43,032.32.288551330566406:kafka.conn:139956971476736:INFO:1998:Probing node bootstrap-0 broker version\n",
      "2019-08-17 17:29:43,033.33.93197059631348:kafka.conn:139954520844032:INFO:1998:<BrokerConnection node_id=bootstrap-0 host=localhost:9092 <connected> [IPv6 ('::1', 9092, 0, 0)]>: Closing connection. \n",
      "2019-08-17 17:29:43,035.35.920143127441406:kafka.conn:139956971476736:INFO:1998:<BrokerConnection node_id=bootstrap-0 host=localhost:9092 <connecting> [IPv6 ('::1', 9092, 0, 0)]>: Connection complete.\n"
     ]
    },
    {
     "name": "stdout",
     "output_type": "stream",
     "text": [
      "topic : result , partition : 0 , offset : 912\n"
     ]
    },
    {
     "name": "stderr",
     "output_type": "stream",
     "text": [
      "2019-08-17 17:29:43,067.67.93928146362305:kafka.conn:139956971476736:INFO:2000:Broker version identifed as 1.0.0\n",
      "2019-08-17 17:29:43,069.69.57244873046875:kafka.conn:139956971476736:INFO:2000:Set configuration api_version=(1, 0, 0) to skip auto check_version requests on startup\n",
      "2019-08-17 17:29:43,074.74.72443580627441:kafka.producer.kafka:139956971476736:INFO:2000:Closing the Kafka producer with 0 secs timeout.\n",
      "2019-08-17 17:29:43,078.78.5207748413086:kafka.producer.kafka:139956971476736:INFO:2000:Proceeding to force close the producer since pending requests could not be completed within timeout 0.\n",
      "2019-08-17 17:29:43,080.80.34467697143555:kafka.conn:139956890081024:INFO:2000:<BrokerConnection node_id=0 host=ubuntu:9092 <connected> [IPv4 ('127.0.1.1', 9092)]>: Closing connection. \n"
     ]
    },
    {
     "name": "stdout",
     "output_type": "stream",
     "text": [
      "topic=my-topic partition=0 offset=2374: key=None value={'number_2': '1.6527970270393606,-15.13049239610452,10.81188969464198,13.018692538285386,2.0409319317553014'}\n"
     ]
    },
    {
     "name": "stderr",
     "output_type": "stream",
     "text": [
      "2019-08-17 17:29:43,084.84.76424217224121:kafka.conn:139954520844032:INFO:2000:<BrokerConnection node_id=0 host=ubuntu:9092 <connecting> [IPv4 ('127.0.1.1', 9092)]>: connecting to ubuntu:9092 [('127.0.1.1', 9092) IPv4]\n",
      "2019-08-17 17:29:43,087.87.11123466491699:kafka.conn:139956971476736:INFO:2000:<BrokerConnection node_id=bootstrap-0 host=localhost:9092 <connecting> [IPv6 ('::1', 9092, 0, 0)]>: connecting to localhost:9092 [('::1', 9092, 0, 0) IPv6]\n",
      "2019-08-17 17:29:43,088.88.41800689697266:kafka.conn:139954520844032:INFO:2000:<BrokerConnection node_id=0 host=ubuntu:9092 <connecting> [IPv4 ('127.0.1.1', 9092)]>: Connection complete.\n",
      "2019-08-17 17:29:43,089.89.01500701904297:kafka.conn:139956971476736:INFO:2000:Probing node bootstrap-0 broker version\n",
      "2019-08-17 17:29:43,090.90.56949615478516:kafka.conn:139954520844032:INFO:2000:<BrokerConnection node_id=bootstrap-0 host=localhost:9092 <connected> [IPv6 ('::1', 9092, 0, 0)]>: Closing connection. \n",
      "2019-08-17 17:29:43,092.92.39578247070312:kafka.conn:139956971476736:INFO:2000:<BrokerConnection node_id=bootstrap-0 host=localhost:9092 <connecting> [IPv6 ('::1', 9092, 0, 0)]>: Connection complete.\n"
     ]
    },
    {
     "name": "stdout",
     "output_type": "stream",
     "text": [
      "topic : result , partition : 0 , offset : 913\n"
     ]
    },
    {
     "name": "stderr",
     "output_type": "stream",
     "text": [
      "2019-08-17 17:29:43,144.144.4549560546875:kafka.conn:139956971476736:INFO:1998:Broker version identifed as 1.0.0\n",
      "2019-08-17 17:29:43,146.146.1620330810547:kafka.conn:139956971476736:INFO:1998:Set configuration api_version=(1, 0, 0) to skip auto check_version requests on startup\n",
      "2019-08-17 17:29:43,150.150.16579627990723:kafka.producer.kafka:139956971476736:INFO:1998:Closing the Kafka producer with 0 secs timeout.\n",
      "2019-08-17 17:29:43,153.153.8832187652588:kafka.producer.kafka:139956971476736:INFO:1998:Proceeding to force close the producer since pending requests could not be completed within timeout 0.\n",
      "2019-08-17 17:29:43,155.155.77363967895508:kafka.conn:139954520844032:INFO:1998:<BrokerConnection node_id=0 host=ubuntu:9092 <connected> [IPv4 ('127.0.1.1', 9092)]>: Closing connection. \n"
     ]
    },
    {
     "name": "stdout",
     "output_type": "stream",
     "text": [
      "topic=my_topic partition=0 offset=2975: key=None value={'number_1': '-17.172997154618592,-2.9185025868370644,21.91130213516633,-3.716300904704932,27.43567293456636'}\n"
     ]
    },
    {
     "name": "stderr",
     "output_type": "stream",
     "text": [
      "2019-08-17 17:29:43,160.160.40730476379395:kafka.conn:139956890081024:INFO:1998:<BrokerConnection node_id=0 host=ubuntu:9092 <connecting> [IPv4 ('127.0.1.1', 9092)]>: connecting to ubuntu:9092 [('127.0.1.1', 9092) IPv4]\n",
      "2019-08-17 17:29:43,163.163.03539276123047:kafka.conn:139956971476736:INFO:1998:<BrokerConnection node_id=bootstrap-0 host=localhost:9092 <connecting> [IPv6 ('::1', 9092, 0, 0)]>: connecting to localhost:9092 [('::1', 9092, 0, 0) IPv6]\n",
      "2019-08-17 17:29:43,164.164.45255279541016:kafka.conn:139956890081024:INFO:1998:<BrokerConnection node_id=0 host=ubuntu:9092 <connecting> [IPv4 ('127.0.1.1', 9092)]>: Connection complete.\n",
      "2019-08-17 17:29:43,165.165.09032249450684:kafka.conn:139956971476736:INFO:1998:Probing node bootstrap-0 broker version\n",
      "2019-08-17 17:29:43,166.166.75114631652832:kafka.conn:139956890081024:INFO:1998:<BrokerConnection node_id=bootstrap-0 host=localhost:9092 <connected> [IPv6 ('::1', 9092, 0, 0)]>: Closing connection. \n",
      "2019-08-17 17:29:43,168.168.63083839416504:kafka.conn:139956971476736:INFO:1998:<BrokerConnection node_id=bootstrap-0 host=localhost:9092 <connecting> [IPv6 ('::1', 9092, 0, 0)]>: Connection complete.\n"
     ]
    },
    {
     "name": "stdout",
     "output_type": "stream",
     "text": [
      "topic : result , partition : 0 , offset : 914\n"
     ]
    },
    {
     "name": "stderr",
     "output_type": "stream",
     "text": [
      "2019-08-17 17:29:43,200.200.18529891967773:kafka.conn:139956971476736:INFO:2000:Broker version identifed as 1.0.0\n",
      "2019-08-17 17:29:43,201.201.84898376464844:kafka.conn:139956971476736:INFO:2000:Set configuration api_version=(1, 0, 0) to skip auto check_version requests on startup\n",
      "2019-08-17 17:29:43,205.205.88064193725586:kafka.producer.kafka:139956971476736:INFO:2000:Closing the Kafka producer with 0 secs timeout.\n",
      "2019-08-17 17:29:43,209.209.69223976135254:kafka.producer.kafka:139956971476736:INFO:2000:Proceeding to force close the producer since pending requests could not be completed within timeout 0.\n",
      "2019-08-17 17:29:43,211.211.6999626159668:kafka.conn:139954520844032:INFO:2000:<BrokerConnection node_id=0 host=ubuntu:9092 <connected> [IPv4 ('127.0.1.1', 9092)]>: Closing connection. \n"
     ]
    },
    {
     "name": "stdout",
     "output_type": "stream",
     "text": [
      "topic=my-topic partition=0 offset=2375: key=None value={'number_2': '5.269604181050901,-0.13907486235024605,-1.9099466962836975,3.1039555792710276,1.5459721976706846'}\n"
     ]
    },
    {
     "name": "stderr",
     "output_type": "stream",
     "text": [
      "2019-08-17 17:29:43,217.217.37098693847656:kafka.conn:139956890081024:INFO:2000:<BrokerConnection node_id=0 host=ubuntu:9092 <connecting> [IPv4 ('127.0.1.1', 9092)]>: connecting to ubuntu:9092 [('127.0.1.1', 9092) IPv4]\n",
      "2019-08-17 17:29:43,218.218.45459938049316:kafka.conn:139956971476736:INFO:2000:<BrokerConnection node_id=bootstrap-0 host=localhost:9092 <connecting> [IPv6 ('::1', 9092, 0, 0)]>: connecting to localhost:9092 [('::1', 9092, 0, 0) IPv6]\n",
      "2019-08-17 17:29:43,219.219.5298671722412:kafka.conn:139956890081024:INFO:2000:<BrokerConnection node_id=0 host=ubuntu:9092 <connecting> [IPv4 ('127.0.1.1', 9092)]>: Connection complete.\n",
      "2019-08-17 17:29:43,221.221.3761806488037:kafka.conn:139956971476736:INFO:2000:Probing node bootstrap-0 broker version\n",
      "2019-08-17 17:29:43,223.223.02627563476562:kafka.conn:139956890081024:INFO:2000:<BrokerConnection node_id=bootstrap-0 host=localhost:9092 <connected> [IPv6 ('::1', 9092, 0, 0)]>: Closing connection. \n",
      "2019-08-17 17:29:43,225.225.15177726745605:kafka.conn:139956971476736:INFO:2000:<BrokerConnection node_id=bootstrap-0 host=localhost:9092 <connecting> [IPv6 ('::1', 9092, 0, 0)]>: Connection complete.\n"
     ]
    },
    {
     "name": "stdout",
     "output_type": "stream",
     "text": [
      "topic : result , partition : 0 , offset : 915\n"
     ]
    },
    {
     "name": "stderr",
     "output_type": "stream",
     "text": [
      "2019-08-17 17:29:43,276.276.66258811950684:kafka.conn:139956971476736:INFO:1998:Broker version identifed as 1.0.0\n",
      "2019-08-17 17:29:43,278.278.33104133605957:kafka.conn:139956971476736:INFO:1998:Set configuration api_version=(1, 0, 0) to skip auto check_version requests on startup\n",
      "2019-08-17 17:29:43,282.282.4537754058838:kafka.producer.kafka:139956971476736:INFO:1998:Closing the Kafka producer with 0 secs timeout.\n",
      "2019-08-17 17:29:43,286.286.2658500671387:kafka.producer.kafka:139956971476736:INFO:1998:Proceeding to force close the producer since pending requests could not be completed within timeout 0.\n",
      "2019-08-17 17:29:43,288.288.0885601043701:kafka.conn:139956890081024:INFO:1998:<BrokerConnection node_id=0 host=ubuntu:9092 <connected> [IPv4 ('127.0.1.1', 9092)]>: Closing connection. \n"
     ]
    },
    {
     "name": "stdout",
     "output_type": "stream",
     "text": [
      "topic=my_topic partition=0 offset=2976: key=None value={'number_1': '-1.3186191680683308,35.69275668684971,12.576760383070969,30.879256858937584,9.120524462975265'}\n"
     ]
    },
    {
     "name": "stderr",
     "output_type": "stream",
     "text": [
      "2019-08-17 17:29:43,293.293.9577102661133:kafka.conn:139954520844032:INFO:1998:<BrokerConnection node_id=0 host=ubuntu:9092 <connecting> [IPv4 ('127.0.1.1', 9092)]>: connecting to ubuntu:9092 [('127.0.1.1', 9092) IPv4]\n",
      "2019-08-17 17:29:43,295.295.0892448425293:kafka.conn:139956971476736:INFO:1998:<BrokerConnection node_id=bootstrap-0 host=localhost:9092 <connecting> [IPv6 ('::1', 9092, 0, 0)]>: connecting to localhost:9092 [('::1', 9092, 0, 0) IPv6]\n",
      "2019-08-17 17:29:43,296.296.12112045288086:kafka.conn:139954520844032:INFO:1998:<BrokerConnection node_id=0 host=ubuntu:9092 <connecting> [IPv4 ('127.0.1.1', 9092)]>: Connection complete.\n",
      "2019-08-17 17:29:43,297.297.8699207305908:kafka.conn:139956971476736:INFO:1998:Probing node bootstrap-0 broker version\n",
      "2019-08-17 17:29:43,299.299.501895904541:kafka.conn:139954520844032:INFO:1998:<BrokerConnection node_id=bootstrap-0 host=localhost:9092 <connected> [IPv6 ('::1', 9092, 0, 0)]>: Closing connection. \n",
      "2019-08-17 17:29:43,301.301.40233039855957:kafka.conn:139956971476736:INFO:1998:<BrokerConnection node_id=bootstrap-0 host=localhost:9092 <connecting> [IPv6 ('::1', 9092, 0, 0)]>: Connection complete.\n"
     ]
    },
    {
     "name": "stdout",
     "output_type": "stream",
     "text": [
      "topic : result , partition : 0 , offset : 916\n"
     ]
    },
    {
     "name": "stderr",
     "output_type": "stream",
     "text": [
      "2019-08-17 17:29:43,333.333.68992805480957:kafka.conn:139956971476736:INFO:2000:Broker version identifed as 1.0.0\n",
      "2019-08-17 17:29:43,335.335.33453941345215:kafka.conn:139956971476736:INFO:2000:Set configuration api_version=(1, 0, 0) to skip auto check_version requests on startup\n",
      "2019-08-17 17:29:43,339.339.5078182220459:kafka.producer.kafka:139956971476736:INFO:2000:Closing the Kafka producer with 0 secs timeout.\n",
      "2019-08-17 17:29:43,343.343.4276580810547:kafka.producer.kafka:139956971476736:INFO:2000:Proceeding to force close the producer since pending requests could not be completed within timeout 0.\n",
      "2019-08-17 17:29:43,345.345.45397758483887:kafka.conn:139956890081024:INFO:2000:<BrokerConnection node_id=0 host=ubuntu:9092 <connected> [IPv4 ('127.0.1.1', 9092)]>: Closing connection. \n"
     ]
    },
    {
     "name": "stdout",
     "output_type": "stream",
     "text": [
      "topic=my-topic partition=0 offset=2376: key=None value={'number_2': '3.066223311141398,4.321051995715292,19.90819884947974,3.3796275316908546,-1.763876173513532'}\n"
     ]
    },
    {
     "name": "stderr",
     "output_type": "stream",
     "text": [
      "2019-08-17 17:29:43,349.349.9588966369629:kafka.conn:139954520844032:INFO:2000:<BrokerConnection node_id=0 host=ubuntu:9092 <connecting> [IPv4 ('127.0.1.1', 9092)]>: connecting to ubuntu:9092 [('127.0.1.1', 9092) IPv4]\n",
      "2019-08-17 17:29:43,352.352.5402545928955:kafka.conn:139956971476736:INFO:2000:<BrokerConnection node_id=bootstrap-0 host=localhost:9092 <connecting> [IPv6 ('::1', 9092, 0, 0)]>: connecting to localhost:9092 [('::1', 9092, 0, 0) IPv6]\n",
      "2019-08-17 17:29:43,353.353.89208793640137:kafka.conn:139954520844032:INFO:2000:<BrokerConnection node_id=0 host=ubuntu:9092 <connecting> [IPv4 ('127.0.1.1', 9092)]>: Connection complete.\n",
      "2019-08-17 17:29:43,354.354.51531410217285:kafka.conn:139956971476736:INFO:2000:Probing node bootstrap-0 broker version\n",
      "2019-08-17 17:29:43,355.355.9691905975342:kafka.conn:139954520844032:INFO:2000:<BrokerConnection node_id=bootstrap-0 host=localhost:9092 <connected> [IPv6 ('::1', 9092, 0, 0)]>: Closing connection. \n",
      "2019-08-17 17:29:43,357.357.8531742095947:kafka.conn:139956971476736:INFO:2000:<BrokerConnection node_id=bootstrap-0 host=localhost:9092 <connecting> [IPv6 ('::1', 9092, 0, 0)]>: Connection complete.\n"
     ]
    },
    {
     "name": "stdout",
     "output_type": "stream",
     "text": [
      "topic : result , partition : 0 , offset : 917\n"
     ]
    },
    {
     "name": "stderr",
     "output_type": "stream",
     "text": [
      "2019-08-17 17:29:43,409.409.96479988098145:kafka.conn:139956971476736:INFO:1998:Broker version identifed as 1.0.0\n",
      "2019-08-17 17:29:43,411.411.6048812866211:kafka.conn:139956971476736:INFO:1998:Set configuration api_version=(1, 0, 0) to skip auto check_version requests on startup\n",
      "2019-08-17 17:29:43,416.416.66698455810547:kafka.producer.kafka:139956971476736:INFO:1998:Closing the Kafka producer with 0 secs timeout.\n",
      "2019-08-17 17:29:43,420.420.55726051330566:kafka.producer.kafka:139956971476736:INFO:1998:Proceeding to force close the producer since pending requests could not be completed within timeout 0.\n",
      "2019-08-17 17:29:43,422.422.3814010620117:kafka.conn:139954520844032:INFO:1998:<BrokerConnection node_id=0 host=ubuntu:9092 <connected> [IPv4 ('127.0.1.1', 9092)]>: Closing connection. \n"
     ]
    },
    {
     "name": "stdout",
     "output_type": "stream",
     "text": [
      "topic=my_topic partition=0 offset=2977: key=None value={'number_1': '-7.329473463004053,1.6068743542079638,20.273902094772918,44.924234905432584,36.00576897501443'}\n"
     ]
    },
    {
     "name": "stderr",
     "output_type": "stream",
     "text": [
      "2019-08-17 17:29:43,427.427.97064781188965:kafka.conn:139956890081024:INFO:1998:<BrokerConnection node_id=0 host=ubuntu:9092 <connecting> [IPv4 ('127.0.1.1', 9092)]>: connecting to ubuntu:9092 [('127.0.1.1', 9092) IPv4]\n",
      "2019-08-17 17:29:43,429.429.1234016418457:kafka.conn:139956971476736:INFO:1998:<BrokerConnection node_id=bootstrap-0 host=localhost:9092 <connecting> [IPv6 ('::1', 9092, 0, 0)]>: connecting to localhost:9092 [('::1', 9092, 0, 0) IPv6]\n",
      "2019-08-17 17:29:43,430.430.1786422729492:kafka.conn:139956890081024:INFO:1998:<BrokerConnection node_id=0 host=ubuntu:9092 <connecting> [IPv4 ('127.0.1.1', 9092)]>: Connection complete.\n",
      "2019-08-17 17:29:43,431.431.88023567199707:kafka.conn:139956971476736:INFO:1998:Probing node bootstrap-0 broker version\n",
      "2019-08-17 17:29:43,433.433.41732025146484:kafka.conn:139956890081024:INFO:1998:<BrokerConnection node_id=bootstrap-0 host=localhost:9092 <connected> [IPv6 ('::1', 9092, 0, 0)]>: Closing connection. \n",
      "2019-08-17 17:29:43,435.435.32490730285645:kafka.conn:139956971476736:INFO:1998:<BrokerConnection node_id=bootstrap-0 host=localhost:9092 <connecting> [IPv6 ('::1', 9092, 0, 0)]>: Connection complete.\n"
     ]
    },
    {
     "name": "stdout",
     "output_type": "stream",
     "text": [
      "topic : result , partition : 0 , offset : 918\n"
     ]
    },
    {
     "name": "stderr",
     "output_type": "stream",
     "text": [
      "2019-08-17 17:29:43,466.466.46833419799805:kafka.conn:139956971476736:INFO:2000:Broker version identifed as 1.0.0\n",
      "2019-08-17 17:29:43,468.468.10221672058105:kafka.conn:139956971476736:INFO:2000:Set configuration api_version=(1, 0, 0) to skip auto check_version requests on startup\n",
      "2019-08-17 17:29:43,543.543.5984134674072:kafka.conn:139956971476736:INFO:1998:Broker version identifed as 1.0.0\n",
      "2019-08-17 17:29:43,545.545.9518432617188:kafka.conn:139956971476736:INFO:1998:Set configuration api_version=(1, 0, 0) to skip auto check_version requests on startup\n",
      "2019-08-17 17:29:43,550.550.4050254821777:kafka.producer.kafka:139956971476736:INFO:1998:Closing the Kafka producer with 0 secs timeout.\n",
      "2019-08-17 17:29:43,554.554.3203353881836:kafka.producer.kafka:139956971476736:INFO:1998:Proceeding to force close the producer since pending requests could not be completed within timeout 0.\n",
      "2019-08-17 17:29:43,556.556.1003684997559:kafka.conn:139956890081024:INFO:1998:<BrokerConnection node_id=0 host=ubuntu:9092 <connected> [IPv4 ('127.0.1.1', 9092)]>: Closing connection. \n"
     ]
    },
    {
     "name": "stdout",
     "output_type": "stream",
     "text": [
      "topic=my_topic partition=0 offset=2978: key=None value={'number_1': '16.85410839131095,32.162324526037416,-15.594129610790162,30.18254217237216,13.682677435257453'}\n"
     ]
    },
    {
     "name": "stderr",
     "output_type": "stream",
     "text": [
      "2019-08-17 17:29:43,560.560.248613357544:kafka.conn:139954520844032:INFO:1998:<BrokerConnection node_id=0 host=ubuntu:9092 <connecting> [IPv4 ('127.0.1.1', 9092)]>: connecting to ubuntu:9092 [('127.0.1.1', 9092) IPv4]\n",
      "2019-08-17 17:29:43,562.562.7875328063965:kafka.conn:139956971476736:INFO:1998:<BrokerConnection node_id=bootstrap-0 host=localhost:9092 <connecting> [IPv6 ('::1', 9092, 0, 0)]>: connecting to localhost:9092 [('::1', 9092, 0, 0) IPv6]\n",
      "2019-08-17 17:29:43,564.564.2096996307373:kafka.conn:139954520844032:INFO:1998:<BrokerConnection node_id=0 host=ubuntu:9092 <connecting> [IPv4 ('127.0.1.1', 9092)]>: Connection complete.\n",
      "2019-08-17 17:29:43,564.564.8236274719238:kafka.conn:139956971476736:INFO:1998:Probing node bootstrap-0 broker version\n",
      "2019-08-17 17:29:43,566.566.2052631378174:kafka.conn:139954520844032:INFO:1998:<BrokerConnection node_id=bootstrap-0 host=localhost:9092 <connected> [IPv6 ('::1', 9092, 0, 0)]>: Closing connection. \n",
      "2019-08-17 17:29:43,567.567.9135322570801:kafka.conn:139956971476736:INFO:1998:<BrokerConnection node_id=bootstrap-0 host=localhost:9092 <connecting> [IPv6 ('::1', 9092, 0, 0)]>: Connection complete.\n"
     ]
    },
    {
     "name": "stdout",
     "output_type": "stream",
     "text": [
      "topic : result , partition : 0 , offset : 919\n"
     ]
    },
    {
     "name": "stderr",
     "output_type": "stream",
     "text": [
      "2019-08-17 17:29:43,582.582.4680328369141:kafka.producer.kafka:139956971476736:INFO:2000:Closing the Kafka producer with 0 secs timeout.\n",
      "2019-08-17 17:29:43,586.586.3852500915527:kafka.producer.kafka:139956971476736:INFO:2000:Proceeding to force close the producer since pending requests could not be completed within timeout 0.\n",
      "2019-08-17 17:29:43,588.588.0417823791504:kafka.conn:139954520844032:INFO:2000:<BrokerConnection node_id=0 host=ubuntu:9092 <connected> [IPv4 ('127.0.1.1', 9092)]>: Closing connection. \n"
     ]
    },
    {
     "name": "stdout",
     "output_type": "stream",
     "text": [
      "topic=my-topic partition=0 offset=2377: key=None value={'number_2': '-19.955845370829774,-14.381965567331177,-1.3327406532775354,-10.328466495390495,16.189501011347783'}\n"
     ]
    },
    {
     "name": "stderr",
     "output_type": "stream",
     "text": [
      "2019-08-17 17:29:43,592.592.2608375549316:kafka.conn:139956890081024:INFO:2000:<BrokerConnection node_id=0 host=ubuntu:9092 <connecting> [IPv4 ('127.0.1.1', 9092)]>: connecting to ubuntu:9092 [('127.0.1.1', 9092) IPv4]\n",
      "2019-08-17 17:29:43,594.594.5930480957031:kafka.conn:139956971476736:INFO:2000:<BrokerConnection node_id=bootstrap-0 host=localhost:9092 <connecting> [IPv6 ('::1', 9092, 0, 0)]>: connecting to localhost:9092 [('::1', 9092, 0, 0) IPv6]\n",
      "2019-08-17 17:29:43,595.595.9722995758057:kafka.conn:139956890081024:INFO:2000:<BrokerConnection node_id=0 host=ubuntu:9092 <connecting> [IPv4 ('127.0.1.1', 9092)]>: Connection complete.\n",
      "2019-08-17 17:29:43,596.596.3549613952637:kafka.conn:139956971476736:INFO:2000:Probing node bootstrap-0 broker version\n",
      "2019-08-17 17:29:43,597.597.9516506195068:kafka.conn:139956890081024:INFO:2000:<BrokerConnection node_id=bootstrap-0 host=localhost:9092 <connected> [IPv6 ('::1', 9092, 0, 0)]>: Closing connection. \n",
      "2019-08-17 17:29:43,599.599.780797958374:kafka.conn:139956971476736:INFO:2000:<BrokerConnection node_id=bootstrap-0 host=localhost:9092 <connecting> [IPv6 ('::1', 9092, 0, 0)]>: Connection complete.\n"
     ]
    },
    {
     "name": "stdout",
     "output_type": "stream",
     "text": [
      "topic : result , partition : 0 , offset : 920\n"
     ]
    },
    {
     "name": "stderr",
     "output_type": "stream",
     "text": [
      "2019-08-17 17:29:43,674.674.8378276824951:kafka.conn:139956971476736:INFO:1998:Broker version identifed as 1.0.0\n",
      "2019-08-17 17:29:43,676.676.3706207275391:kafka.conn:139956971476736:INFO:1998:Set configuration api_version=(1, 0, 0) to skip auto check_version requests on startup\n",
      "2019-08-17 17:29:43,680.680.5663108825684:kafka.producer.kafka:139956971476736:INFO:1998:Closing the Kafka producer with 0 secs timeout.\n",
      "2019-08-17 17:29:43,684.684.5862865447998:kafka.producer.kafka:139956971476736:INFO:1998:Proceeding to force close the producer since pending requests could not be completed within timeout 0.\n",
      "2019-08-17 17:29:43,686.686.3622665405273:kafka.conn:139954520844032:INFO:1998:<BrokerConnection node_id=0 host=ubuntu:9092 <connected> [IPv4 ('127.0.1.1', 9092)]>: Closing connection. \n"
     ]
    },
    {
     "name": "stdout",
     "output_type": "stream",
     "text": [
      "topic=my_topic partition=0 offset=2979: key=None value={'number_1': '34.05707488526265,17.479691718646393,29.6319200836217,19.923610675173972,8.002296868039743'}\n"
     ]
    },
    {
     "name": "stderr",
     "output_type": "stream",
     "text": [
      "2019-08-17 17:29:43,691.691.4408206939697:kafka.conn:139956890081024:INFO:1998:<BrokerConnection node_id=0 host=ubuntu:9092 <connecting> [IPv4 ('127.0.1.1', 9092)]>: connecting to ubuntu:9092 [('127.0.1.1', 9092) IPv4]\n",
      "2019-08-17 17:29:43,693.693.6168670654297:kafka.conn:139956971476736:INFO:1998:<BrokerConnection node_id=bootstrap-0 host=localhost:9092 <connecting> [IPv6 ('::1', 9092, 0, 0)]>: connecting to localhost:9092 [('::1', 9092, 0, 0) IPv6]\n",
      "2019-08-17 17:29:43,694.694.6685314178467:kafka.conn:139956890081024:INFO:1998:<BrokerConnection node_id=0 host=ubuntu:9092 <connecting> [IPv4 ('127.0.1.1', 9092)]>: Connection complete.\n",
      "2019-08-17 17:29:43,696.696.4325904846191:kafka.conn:139956971476736:INFO:1998:Probing node bootstrap-0 broker version\n",
      "2019-08-17 17:29:43,698.698.021411895752:kafka.conn:139956890081024:INFO:1998:<BrokerConnection node_id=bootstrap-0 host=localhost:9092 <connected> [IPv6 ('::1', 9092, 0, 0)]>: Closing connection. \n",
      "2019-08-17 17:29:43,699.699.8782157897949:kafka.conn:139956971476736:INFO:1998:<BrokerConnection node_id=bootstrap-0 host=localhost:9092 <connecting> [IPv6 ('::1', 9092, 0, 0)]>: Connection complete.\n"
     ]
    },
    {
     "name": "stdout",
     "output_type": "stream",
     "text": [
      "topic : result , partition : 0 , offset : 921\n"
     ]
    },
    {
     "name": "stderr",
     "output_type": "stream",
     "text": [
      "2019-08-17 17:29:43,707.707.3256969451904:kafka.conn:139956971476736:INFO:2000:Broker version identifed as 1.0.0\n",
      "2019-08-17 17:29:43,708.708.9872360229492:kafka.conn:139956971476736:INFO:2000:Set configuration api_version=(1, 0, 0) to skip auto check_version requests on startup\n",
      "2019-08-17 17:29:43,713.713.0744457244873:kafka.producer.kafka:139956971476736:INFO:2000:Closing the Kafka producer with 0 secs timeout.\n",
      "2019-08-17 17:29:43,716.716.7294025421143:kafka.producer.kafka:139956971476736:INFO:2000:Proceeding to force close the producer since pending requests could not be completed within timeout 0.\n",
      "2019-08-17 17:29:43,718.718.5993194580078:kafka.conn:139956890081024:INFO:2000:<BrokerConnection node_id=0 host=ubuntu:9092 <connected> [IPv4 ('127.0.1.1', 9092)]>: Closing connection. \n"
     ]
    },
    {
     "name": "stdout",
     "output_type": "stream",
     "text": [
      "topic=my-topic partition=0 offset=2378: key=None value={'number_2': '-6.256586042525173,-9.348968462422665,-1.6076619221065402,8.159068352043846,13.806515919546001'}\n"
     ]
    },
    {
     "name": "stderr",
     "output_type": "stream",
     "text": [
      "2019-08-17 17:29:43,722.722.6941585540771:kafka.conn:139954520844032:INFO:2000:<BrokerConnection node_id=0 host=ubuntu:9092 <connecting> [IPv4 ('127.0.1.1', 9092)]>: connecting to ubuntu:9092 [('127.0.1.1', 9092) IPv4]\n",
      "2019-08-17 17:29:43,725.725.2576351165771:kafka.conn:139956971476736:INFO:2000:<BrokerConnection node_id=bootstrap-0 host=localhost:9092 <connecting> [IPv6 ('::1', 9092, 0, 0)]>: connecting to localhost:9092 [('::1', 9092, 0, 0) IPv6]\n",
      "2019-08-17 17:29:43,725.725.6112098693848:kafka.conn:139954520844032:INFO:2000:<BrokerConnection node_id=0 host=ubuntu:9092 <connecting> [IPv4 ('127.0.1.1', 9092)]>: Connection complete.\n",
      "2019-08-17 17:29:43,727.727.4136543273926:kafka.conn:139956971476736:INFO:2000:Probing node bootstrap-0 broker version\n",
      "2019-08-17 17:29:43,728.728.9915084838867:kafka.conn:139954520844032:INFO:2000:<BrokerConnection node_id=bootstrap-0 host=localhost:9092 <connected> [IPv6 ('::1', 9092, 0, 0)]>: Closing connection. \n",
      "2019-08-17 17:29:43,730.730.7984828948975:kafka.conn:139956971476736:INFO:2000:<BrokerConnection node_id=bootstrap-0 host=localhost:9092 <connecting> [IPv6 ('::1', 9092, 0, 0)]>: Connection complete.\n"
     ]
    },
    {
     "name": "stdout",
     "output_type": "stream",
     "text": [
      "topic : result , partition : 0 , offset : 922\n"
     ]
    },
    {
     "name": "stderr",
     "output_type": "stream",
     "text": [
      "2019-08-17 17:29:43,808.808.3541393280029:kafka.conn:139956971476736:INFO:1998:Broker version identifed as 1.0.0\n",
      "2019-08-17 17:29:43,810.810.1272583007812:kafka.conn:139956971476736:INFO:1998:Set configuration api_version=(1, 0, 0) to skip auto check_version requests on startup\n",
      "2019-08-17 17:29:43,837.837.5105857849121:kafka.conn:139956971476736:INFO:2000:Broker version identifed as 1.0.0\n",
      "2019-08-17 17:29:43,839.839.123010635376:kafka.conn:139956971476736:INFO:2000:Set configuration api_version=(1, 0, 0) to skip auto check_version requests on startup\n",
      "2019-08-17 17:29:43,843.843.0256843566895:kafka.producer.kafka:139956971476736:INFO:2000:Closing the Kafka producer with 0 secs timeout.\n",
      "2019-08-17 17:29:43,846.846.8341827392578:kafka.producer.kafka:139956971476736:INFO:2000:Proceeding to force close the producer since pending requests could not be completed within timeout 0.\n",
      "2019-08-17 17:29:43,848.848.5407829284668:kafka.conn:139954520844032:INFO:2000:<BrokerConnection node_id=0 host=ubuntu:9092 <connected> [IPv4 ('127.0.1.1', 9092)]>: Closing connection. \n"
     ]
    },
    {
     "name": "stdout",
     "output_type": "stream",
     "text": [
      "topic=my-topic partition=0 offset=2379: key=None value={'number_2': '-11.226872402621437,10.05073786944672,2.5478227893811605,11.676181432023318,2.055120728893055'}\n"
     ]
    },
    {
     "name": "stderr",
     "output_type": "stream",
     "text": [
      "2019-08-17 17:29:43,852.852.7255058288574:kafka.conn:139954881533696:INFO:2000:<BrokerConnection node_id=0 host=ubuntu:9092 <connecting> [IPv4 ('127.0.1.1', 9092)]>: connecting to ubuntu:9092 [('127.0.1.1', 9092) IPv4]\n",
      "2019-08-17 17:29:43,855.855.2687168121338:kafka.conn:139956971476736:INFO:2000:<BrokerConnection node_id=bootstrap-0 host=localhost:9092 <connecting> [IPv6 ('::1', 9092, 0, 0)]>: connecting to localhost:9092 [('::1', 9092, 0, 0) IPv6]\n",
      "2019-08-17 17:29:43,856.856.5244674682617:kafka.conn:139954881533696:INFO:2000:<BrokerConnection node_id=0 host=ubuntu:9092 <connecting> [IPv4 ('127.0.1.1', 9092)]>: Connection complete.\n",
      "2019-08-17 17:29:43,857.857.1176528930664:kafka.conn:139956971476736:INFO:2000:Probing node bootstrap-0 broker version\n",
      "2019-08-17 17:29:43,858.858.5295677185059:kafka.conn:139954881533696:INFO:2000:<BrokerConnection node_id=bootstrap-0 host=localhost:9092 <connected> [IPv6 ('::1', 9092, 0, 0)]>: Closing connection. \n",
      "2019-08-17 17:29:43,860.860.2621555328369:kafka.conn:139956971476736:INFO:2000:<BrokerConnection node_id=bootstrap-0 host=localhost:9092 <connecting> [IPv6 ('::1', 9092, 0, 0)]>: Connection complete.\n"
     ]
    },
    {
     "name": "stdout",
     "output_type": "stream",
     "text": [
      "topic : result , partition : 0 , offset : 923\n"
     ]
    },
    {
     "name": "stderr",
     "output_type": "stream",
     "text": [
      "2019-08-17 17:29:43,929.929.6574592590332:kafka.producer.kafka:139956971476736:INFO:1998:Closing the Kafka producer with 0 secs timeout.\n",
      "2019-08-17 17:29:43,932.932.8434467315674:kafka.producer.kafka:139956971476736:INFO:1998:Proceeding to force close the producer since pending requests could not be completed within timeout 0.\n",
      "2019-08-17 17:29:43,934.934.4415664672852:kafka.conn:139956890081024:INFO:1998:<BrokerConnection node_id=0 host=ubuntu:9092 <connected> [IPv4 ('127.0.1.1', 9092)]>: Closing connection. \n"
     ]
    },
    {
     "name": "stdout",
     "output_type": "stream",
     "text": [
      "topic=my_topic partition=0 offset=2980: key=None value={'number_1': '60.59386284102815,3.7503101028433363,-1.4573135494434002,40.87743891523618,-20.530052450523456'}\n"
     ]
    },
    {
     "name": "stderr",
     "output_type": "stream",
     "text": [
      "2019-08-17 17:29:43,938.938.5383129119873:kafka.conn:139956881688320:INFO:1998:<BrokerConnection node_id=0 host=ubuntu:9092 <connecting> [IPv4 ('127.0.1.1', 9092)]>: connecting to ubuntu:9092 [('127.0.1.1', 9092) IPv4]\n",
      "2019-08-17 17:29:43,941.941.0622119903564:kafka.conn:139956971476736:INFO:1998:<BrokerConnection node_id=bootstrap-0 host=localhost:9092 <connecting> [IPv6 ('::1', 9092, 0, 0)]>: connecting to localhost:9092 [('::1', 9092, 0, 0) IPv6]\n",
      "2019-08-17 17:29:43,941.941.880464553833:kafka.conn:139956881688320:INFO:1998:<BrokerConnection node_id=0 host=ubuntu:9092 <connecting> [IPv4 ('127.0.1.1', 9092)]>: Connection complete.\n",
      "2019-08-17 17:29:43,946.946.2404251098633:kafka.conn:139956971476736:INFO:1998:Probing node bootstrap-0 broker version\n",
      "2019-08-17 17:29:43,948.948.2846260070801:kafka.conn:139956881688320:INFO:1998:<BrokerConnection node_id=bootstrap-0 host=localhost:9092 <connected> [IPv6 ('::1', 9092, 0, 0)]>: Closing connection. \n",
      "2019-08-17 17:29:43,949.949.9824047088623:kafka.conn:139956971476736:INFO:1998:<BrokerConnection node_id=bootstrap-0 host=localhost:9092 <connecting> [IPv6 ('::1', 9092, 0, 0)]>: Connection complete.\n"
     ]
    },
    {
     "name": "stdout",
     "output_type": "stream",
     "text": [
      "topic : result , partition : 0 , offset : 924\n"
     ]
    },
    {
     "name": "stderr",
     "output_type": "stream",
     "text": [
      "2019-08-17 17:29:43,967.967.5867557525635:kafka.conn:139956971476736:INFO:2000:Broker version identifed as 1.0.0\n",
      "2019-08-17 17:29:43,969.969.1174030303955:kafka.conn:139956971476736:INFO:2000:Set configuration api_version=(1, 0, 0) to skip auto check_version requests on startup\n",
      "2019-08-17 17:29:43,974.974.2047786712646:kafka.producer.kafka:139956971476736:INFO:2000:Closing the Kafka producer with 0 secs timeout.\n",
      "2019-08-17 17:29:43,977.977.0939350128174:kafka.producer.kafka:139956971476736:INFO:2000:Proceeding to force close the producer since pending requests could not be completed within timeout 0.\n",
      "2019-08-17 17:29:43,979.979.022741317749:kafka.conn:139954881533696:INFO:2000:<BrokerConnection node_id=0 host=ubuntu:9092 <connected> [IPv4 ('127.0.1.1', 9092)]>: Closing connection. \n"
     ]
    },
    {
     "name": "stdout",
     "output_type": "stream",
     "text": [
      "topic=my-topic partition=0 offset=2380: key=None value={'number_2': '-7.647985839317334,-7.475370961974782,1.1017944561718405,-6.23496147786301,7.940374482125386'}\n"
     ]
    },
    {
     "name": "stderr",
     "output_type": "stream",
     "text": [
      "2019-08-17 17:29:43,983.983.2768440246582:kafka.conn:139954520844032:INFO:2000:<BrokerConnection node_id=0 host=ubuntu:9092 <connecting> [IPv4 ('127.0.1.1', 9092)]>: connecting to ubuntu:9092 [('127.0.1.1', 9092) IPv4]\n",
      "2019-08-17 17:29:43,985.985.8746528625488:kafka.conn:139954520844032:INFO:2000:<BrokerConnection node_id=0 host=ubuntu:9092 <connecting> [IPv4 ('127.0.1.1', 9092)]>: Connection complete.\n",
      "2019-08-17 17:29:43,986.986.6304397583008:kafka.conn:139956971476736:INFO:2000:<BrokerConnection node_id=bootstrap-0 host=localhost:9092 <connecting> [IPv6 ('::1', 9092, 0, 0)]>: connecting to localhost:9092 [('::1', 9092, 0, 0) IPv6]\n",
      "2019-08-17 17:29:43,987.987.2522354125977:kafka.conn:139954520844032:INFO:2000:<BrokerConnection node_id=bootstrap-0 host=localhost:9092 <connected> [IPv6 ('::1', 9092, 0, 0)]>: Closing connection. \n",
      "2019-08-17 17:29:43,989.989.0048503875732:kafka.conn:139956971476736:INFO:2000:Probing node bootstrap-0 broker version\n"
     ]
    },
    {
     "name": "stdout",
     "output_type": "stream",
     "text": [
      "topic : result , partition : 0 , offset : 925\n"
     ]
    },
    {
     "name": "stderr",
     "output_type": "stream",
     "text": [
      "2019-08-17 17:29:43,992.992.5966262817383:kafka.conn:139956971476736:INFO:2000:<BrokerConnection node_id=bootstrap-0 host=localhost:9092 <connecting> [IPv6 ('::1', 9092, 0, 0)]>: Connection complete.\n",
      "2019-08-17 17:29:44,058.58.18295478820801:kafka.conn:139956971476736:INFO:1998:Broker version identifed as 1.0.0\n",
      "2019-08-17 17:29:44,059.59.9675178527832:kafka.conn:139956971476736:INFO:1998:Set configuration api_version=(1, 0, 0) to skip auto check_version requests on startup\n",
      "2019-08-17 17:29:44,064.64.31818008422852:kafka.producer.kafka:139956971476736:INFO:1998:Closing the Kafka producer with 0 secs timeout.\n",
      "2019-08-17 17:29:44,067.67.9936408996582:kafka.producer.kafka:139956971476736:INFO:1998:Proceeding to force close the producer since pending requests could not be completed within timeout 0.\n",
      "2019-08-17 17:29:44,069.69.92006301879883:kafka.conn:139956881688320:INFO:1998:<BrokerConnection node_id=0 host=ubuntu:9092 <connected> [IPv4 ('127.0.1.1', 9092)]>: Closing connection. \n"
     ]
    },
    {
     "name": "stdout",
     "output_type": "stream",
     "text": [
      "topic=my_topic partition=0 offset=2981: key=None value={'number_1': '14.298856047598505,51.14722534227361,-4.385684193506055,-6.224961505366672,-11.446605641170486'}\n"
     ]
    },
    {
     "name": "stderr",
     "output_type": "stream",
     "text": [
      "2019-08-17 17:29:44,074.74.6450424194336:kafka.conn:139956890081024:INFO:1998:<BrokerConnection node_id=0 host=ubuntu:9092 <connecting> [IPv4 ('127.0.1.1', 9092)]>: connecting to ubuntu:9092 [('127.0.1.1', 9092) IPv4]\n",
      "2019-08-17 17:29:44,076.76.79367065429688:kafka.conn:139956971476736:INFO:1998:<BrokerConnection node_id=bootstrap-0 host=localhost:9092 <connecting> [IPv6 ('::1', 9092, 0, 0)]>: connecting to localhost:9092 [('::1', 9092, 0, 0) IPv6]\n",
      "2019-08-17 17:29:44,077.77.50725746154785:kafka.conn:139956890081024:INFO:1998:<BrokerConnection node_id=0 host=ubuntu:9092 <connecting> [IPv4 ('127.0.1.1', 9092)]>: Connection complete.\n",
      "2019-08-17 17:29:44,079.79.36477661132812:kafka.conn:139956971476736:INFO:1998:Probing node bootstrap-0 broker version\n",
      "2019-08-17 17:29:44,081.81.05611801147461:kafka.conn:139956890081024:INFO:1998:<BrokerConnection node_id=bootstrap-0 host=localhost:9092 <connected> [IPv6 ('::1', 9092, 0, 0)]>: Closing connection. \n",
      "2019-08-17 17:29:44,083.83.03570747375488:kafka.conn:139956971476736:INFO:1998:<BrokerConnection node_id=bootstrap-0 host=localhost:9092 <connecting> [IPv6 ('::1', 9092, 0, 0)]>: Connection complete.\n"
     ]
    },
    {
     "name": "stdout",
     "output_type": "stream",
     "text": [
      "topic : result , partition : 0 , offset : 926\n"
     ]
    },
    {
     "name": "stderr",
     "output_type": "stream",
     "text": [
      "2019-08-17 17:29:44,130.130.23018836975098:kafka.conn:139956971476736:INFO:2000:Broker version identifed as 1.0.0\n",
      "2019-08-17 17:29:44,131.131.84738159179688:kafka.conn:139956971476736:INFO:2000:Set configuration api_version=(1, 0, 0) to skip auto check_version requests on startup\n",
      "2019-08-17 17:29:44,136.136.03830337524414:kafka.producer.kafka:139956971476736:INFO:2000:Closing the Kafka producer with 0 secs timeout.\n",
      "2019-08-17 17:29:44,139.139.4214630126953:kafka.producer.kafka:139956971476736:INFO:2000:Proceeding to force close the producer since pending requests could not be completed within timeout 0.\n",
      "2019-08-17 17:29:44,141.141.1571502685547:kafka.conn:139954520844032:INFO:2000:<BrokerConnection node_id=0 host=ubuntu:9092 <connected> [IPv4 ('127.0.1.1', 9092)]>: Closing connection. \n"
     ]
    },
    {
     "name": "stdout",
     "output_type": "stream",
     "text": [
      "topic=my-topic partition=0 offset=2381: key=None value={'number_2': '3.033881520771779,-2.307261315392071,-1.0729649561248205,1.3220415974833302,10.499976708230523'}\n"
     ]
    },
    {
     "name": "stderr",
     "output_type": "stream",
     "text": [
      "2019-08-17 17:29:44,145.145.44272422790527:kafka.conn:139956881688320:INFO:2000:<BrokerConnection node_id=0 host=ubuntu:9092 <connecting> [IPv4 ('127.0.1.1', 9092)]>: connecting to ubuntu:9092 [('127.0.1.1', 9092) IPv4]\n",
      "2019-08-17 17:29:44,148.148.04768562316895:kafka.conn:139956971476736:INFO:2000:<BrokerConnection node_id=bootstrap-0 host=localhost:9092 <connecting> [IPv6 ('::1', 9092, 0, 0)]>: connecting to localhost:9092 [('::1', 9092, 0, 0) IPv6]\n",
      "2019-08-17 17:29:44,149.149.44148063659668:kafka.conn:139956881688320:INFO:2000:<BrokerConnection node_id=0 host=ubuntu:9092 <connecting> [IPv4 ('127.0.1.1', 9092)]>: Connection complete.\n",
      "2019-08-17 17:29:44,150.150.12669563293457:kafka.conn:139956971476736:INFO:2000:Probing node bootstrap-0 broker version\n",
      "2019-08-17 17:29:44,151.151.74174308776855:kafka.conn:139956881688320:INFO:2000:<BrokerConnection node_id=bootstrap-0 host=localhost:9092 <connected> [IPv6 ('::1', 9092, 0, 0)]>: Closing connection. \n",
      "2019-08-17 17:29:44,153.153.5470485687256:kafka.conn:139956971476736:INFO:2000:<BrokerConnection node_id=bootstrap-0 host=localhost:9092 <connecting> [IPv6 ('::1', 9092, 0, 0)]>: Connection complete.\n"
     ]
    },
    {
     "name": "stdout",
     "output_type": "stream",
     "text": [
      "topic : result , partition : 0 , offset : 927\n"
     ]
    },
    {
     "name": "stderr",
     "output_type": "stream",
     "text": [
      "2019-08-17 17:29:44,191.191.20454788208008:kafka.conn:139956971476736:INFO:1998:Broker version identifed as 1.0.0\n",
      "2019-08-17 17:29:44,192.192.72518157958984:kafka.conn:139956971476736:INFO:1998:Set configuration api_version=(1, 0, 0) to skip auto check_version requests on startup\n",
      "2019-08-17 17:29:44,196.196.54560089111328:kafka.producer.kafka:139956971476736:INFO:1998:Closing the Kafka producer with 0 secs timeout.\n",
      "2019-08-17 17:29:44,198.198.10748100280762:kafka.producer.kafka:139956971476736:INFO:1998:Proceeding to force close the producer since pending requests could not be completed within timeout 0.\n",
      "2019-08-17 17:29:44,201.201.97391510009766:kafka.conn:139956890081024:INFO:1998:<BrokerConnection node_id=0 host=ubuntu:9092 <connected> [IPv4 ('127.0.1.1', 9092)]>: Closing connection. \n"
     ]
    },
    {
     "name": "stdout",
     "output_type": "stream",
     "text": [
      "topic=my_topic partition=0 offset=2982: key=None value={'number_1': '-1.0910007130196835,-12.841895655356037,-2.4095084456037323,9.368299792852513,-8.098519038194226'}\n"
     ]
    },
    {
     "name": "stderr",
     "output_type": "stream",
     "text": [
      "2019-08-17 17:29:44,207.207.69429206848145:kafka.conn:139956881688320:INFO:1998:<BrokerConnection node_id=0 host=ubuntu:9092 <connecting> [IPv4 ('127.0.1.1', 9092)]>: connecting to ubuntu:9092 [('127.0.1.1', 9092) IPv4]\n",
      "2019-08-17 17:29:44,208.208.95075798034668:kafka.conn:139956971476736:INFO:1998:<BrokerConnection node_id=bootstrap-0 host=localhost:9092 <connecting> [IPv6 ('::1', 9092, 0, 0)]>: connecting to localhost:9092 [('::1', 9092, 0, 0) IPv6]\n",
      "2019-08-17 17:29:44,210.210.86525917053223:kafka.conn:139956881688320:INFO:1998:<BrokerConnection node_id=0 host=ubuntu:9092 <connecting> [IPv4 ('127.0.1.1', 9092)]>: Connection complete.\n",
      "2019-08-17 17:29:44,211.211.34114265441895:kafka.conn:139956971476736:INFO:1998:Probing node bootstrap-0 broker version\n",
      "2019-08-17 17:29:44,212.212.89420127868652:kafka.conn:139956881688320:INFO:1998:<BrokerConnection node_id=bootstrap-0 host=localhost:9092 <connected> [IPv6 ('::1', 9092, 0, 0)]>: Closing connection. \n",
      "2019-08-17 17:29:44,214.214.71047401428223:kafka.conn:139956971476736:INFO:1998:<BrokerConnection node_id=bootstrap-0 host=localhost:9092 <connecting> [IPv6 ('::1', 9092, 0, 0)]>: Connection complete.\n"
     ]
    },
    {
     "name": "stdout",
     "output_type": "stream",
     "text": [
      "topic : result , partition : 0 , offset : 928\n"
     ]
    },
    {
     "name": "stderr",
     "output_type": "stream",
     "text": [
      "2019-08-17 17:29:44,260.260.29014587402344:kafka.conn:139956971476736:INFO:2000:Broker version identifed as 1.0.0\n",
      "2019-08-17 17:29:44,262.262.0866298675537:kafka.conn:139956971476736:INFO:2000:Set configuration api_version=(1, 0, 0) to skip auto check_version requests on startup\n",
      "2019-08-17 17:29:44,266.266.2854194641113:kafka.producer.kafka:139956971476736:INFO:2000:Closing the Kafka producer with 0 secs timeout.\n",
      "2019-08-17 17:29:44,270.270.1590061187744:kafka.producer.kafka:139956971476736:INFO:2000:Proceeding to force close the producer since pending requests could not be completed within timeout 0.\n",
      "2019-08-17 17:29:44,272.272.108793258667:kafka.conn:139956881688320:INFO:2000:<BrokerConnection node_id=0 host=ubuntu:9092 <connected> [IPv4 ('127.0.1.1', 9092)]>: Closing connection. \n"
     ]
    },
    {
     "name": "stdout",
     "output_type": "stream",
     "text": [
      "topic=my-topic partition=0 offset=2382: key=None value={'number_2': '-16.343832450456787,14.072116381111426,10.685154359423588,-2.0311201910482426,-9.355617520022829'}\n"
     ]
    },
    {
     "name": "stderr",
     "output_type": "stream",
     "text": [
      "2019-08-17 17:29:44,277.277.9505252838135:kafka.conn:139954520844032:INFO:2000:<BrokerConnection node_id=0 host=ubuntu:9092 <connecting> [IPv4 ('127.0.1.1', 9092)]>: connecting to ubuntu:9092 [('127.0.1.1', 9092) IPv4]\n",
      "2019-08-17 17:29:44,279.279.13904190063477:kafka.conn:139956971476736:INFO:2000:<BrokerConnection node_id=bootstrap-0 host=localhost:9092 <connecting> [IPv6 ('::1', 9092, 0, 0)]>: connecting to localhost:9092 [('::1', 9092, 0, 0) IPv6]\n",
      "2019-08-17 17:29:44,280.280.2741527557373:kafka.conn:139954520844032:INFO:2000:<BrokerConnection node_id=0 host=ubuntu:9092 <connecting> [IPv4 ('127.0.1.1', 9092)]>: Connection complete.\n",
      "2019-08-17 17:29:44,282.282.84192085266113:kafka.conn:139956971476736:INFO:2000:Probing node bootstrap-0 broker version\n",
      "2019-08-17 17:29:44,283.283.5056781768799:kafka.conn:139954520844032:INFO:2000:<BrokerConnection node_id=bootstrap-0 host=localhost:9092 <connected> [IPv6 ('::1', 9092, 0, 0)]>: Closing connection. \n",
      "2019-08-17 17:29:44,285.285.6137752532959:kafka.conn:139956971476736:INFO:2000:<BrokerConnection node_id=bootstrap-0 host=localhost:9092 <connecting> [IPv6 ('::1', 9092, 0, 0)]>: Connection complete.\n"
     ]
    },
    {
     "name": "stdout",
     "output_type": "stream",
     "text": [
      "topic : result , partition : 0 , offset : 929\n"
     ]
    },
    {
     "name": "stderr",
     "output_type": "stream",
     "text": [
      "2019-08-17 17:29:44,322.322.7870464324951:kafka.conn:139956971476736:INFO:1998:Broker version identifed as 1.0.0\n",
      "2019-08-17 17:29:44,324.324.2683410644531:kafka.conn:139956971476736:INFO:1998:Set configuration api_version=(1, 0, 0) to skip auto check_version requests on startup\n",
      "2019-08-17 17:29:44,329.329.4863700866699:kafka.producer.kafka:139956971476736:INFO:1998:Closing the Kafka producer with 0 secs timeout.\n",
      "2019-08-17 17:29:44,333.333.52208137512207:kafka.producer.kafka:139956971476736:INFO:1998:Proceeding to force close the producer since pending requests could not be completed within timeout 0.\n",
      "2019-08-17 17:29:44,335.335.50214767456055:kafka.conn:139956881688320:INFO:1998:<BrokerConnection node_id=0 host=ubuntu:9092 <connected> [IPv4 ('127.0.1.1', 9092)]>: Closing connection. \n"
     ]
    },
    {
     "name": "stdout",
     "output_type": "stream",
     "text": [
      "topic=my_topic partition=0 offset=2983: key=None value={'number_1': '34.58358999812717,12.275535192613809,-35.12190465733727,-0.030848105343892485,5.774169258061251'}\n"
     ]
    },
    {
     "name": "stderr",
     "output_type": "stream",
     "text": [
      "2019-08-17 17:29:44,340.340.0554656982422:kafka.conn:139954520844032:INFO:1998:<BrokerConnection node_id=0 host=ubuntu:9092 <connecting> [IPv4 ('127.0.1.1', 9092)]>: connecting to ubuntu:9092 [('127.0.1.1', 9092) IPv4]\n",
      "2019-08-17 17:29:44,342.342.67687797546387:kafka.conn:139956971476736:INFO:1998:<BrokerConnection node_id=bootstrap-0 host=localhost:9092 <connecting> [IPv6 ('::1', 9092, 0, 0)]>: connecting to localhost:9092 [('::1', 9092, 0, 0) IPv6]\n",
      "2019-08-17 17:29:44,344.344.0110683441162:kafka.conn:139954520844032:INFO:1998:<BrokerConnection node_id=0 host=ubuntu:9092 <connecting> [IPv4 ('127.0.1.1', 9092)]>: Connection complete.\n",
      "2019-08-17 17:29:44,344.344.79212760925293:kafka.conn:139956971476736:INFO:1998:Probing node bootstrap-0 broker version\n",
      "2019-08-17 17:29:44,346.346.508264541626:kafka.conn:139954520844032:INFO:1998:<BrokerConnection node_id=bootstrap-0 host=localhost:9092 <connected> [IPv6 ('::1', 9092, 0, 0)]>: Closing connection. \n",
      "2019-08-17 17:29:44,348.348.64091873168945:kafka.conn:139956971476736:INFO:1998:<BrokerConnection node_id=bootstrap-0 host=localhost:9092 <connecting> [IPv6 ('::1', 9092, 0, 0)]>: Connection complete.\n"
     ]
    },
    {
     "name": "stdout",
     "output_type": "stream",
     "text": [
      "topic : result , partition : 0 , offset : 930\n"
     ]
    },
    {
     "name": "stderr",
     "output_type": "stream",
     "text": [
      "2019-08-17 17:29:44,394.394.29187774658203:kafka.conn:139956971476736:INFO:2000:Broker version identifed as 1.0.0\n",
      "2019-08-17 17:29:44,395.395.9951400756836:kafka.conn:139956971476736:INFO:2000:Set configuration api_version=(1, 0, 0) to skip auto check_version requests on startup\n",
      "2019-08-17 17:29:44,401.401.1812210083008:kafka.producer.kafka:139956971476736:INFO:2000:Closing the Kafka producer with 0 secs timeout.\n",
      "2019-08-17 17:29:44,405.405.14135360717773:kafka.producer.kafka:139956971476736:INFO:2000:Proceeding to force close the producer since pending requests could not be completed within timeout 0.\n",
      "2019-08-17 17:29:44,407.407.03272819519043:kafka.conn:139954520844032:INFO:2000:<BrokerConnection node_id=0 host=ubuntu:9092 <connected> [IPv4 ('127.0.1.1', 9092)]>: Closing connection. \n"
     ]
    },
    {
     "name": "stdout",
     "output_type": "stream",
     "text": [
      "topic=my-topic partition=0 offset=2383: key=None value={'number_2': '11.18259296625242,-0.7989193006236857,4.786441264890762,10.581534996130266,-10.684221714292255'}\n"
     ]
    },
    {
     "name": "stderr",
     "output_type": "stream",
     "text": [
      "2019-08-17 17:29:44,412.412.4138355255127:kafka.conn:139956881688320:INFO:2000:<BrokerConnection node_id=0 host=ubuntu:9092 <connecting> [IPv4 ('127.0.1.1', 9092)]>: connecting to ubuntu:9092 [('127.0.1.1', 9092) IPv4]\n",
      "2019-08-17 17:29:44,413.413.45930099487305:kafka.conn:139956971476736:INFO:2000:<BrokerConnection node_id=bootstrap-0 host=localhost:9092 <connecting> [IPv6 ('::1', 9092, 0, 0)]>: connecting to localhost:9092 [('::1', 9092, 0, 0) IPv6]\n",
      "2019-08-17 17:29:44,415.415.15350341796875:kafka.conn:139956881688320:INFO:2000:<BrokerConnection node_id=0 host=ubuntu:9092 <connecting> [IPv4 ('127.0.1.1', 9092)]>: Connection complete.\n",
      "2019-08-17 17:29:44,415.415.7998561859131:kafka.conn:139956971476736:INFO:2000:Probing node bootstrap-0 broker version\n",
      "2019-08-17 17:29:44,417.417.28949546813965:kafka.conn:139956881688320:INFO:2000:<BrokerConnection node_id=bootstrap-0 host=localhost:9092 <connected> [IPv6 ('::1', 9092, 0, 0)]>: Closing connection. \n",
      "2019-08-17 17:29:44,419.419.0061092376709:kafka.conn:139956971476736:INFO:2000:<BrokerConnection node_id=bootstrap-0 host=localhost:9092 <connecting> [IPv6 ('::1', 9092, 0, 0)]>: Connection complete.\n"
     ]
    },
    {
     "name": "stdout",
     "output_type": "stream",
     "text": [
      "topic : result , partition : 0 , offset : 931\n"
     ]
    },
    {
     "name": "stderr",
     "output_type": "stream",
     "text": [
      "2019-08-17 17:29:44,455.455.6238651275635:kafka.conn:139956971476736:INFO:1998:Broker version identifed as 1.0.0\n",
      "2019-08-17 17:29:44,457.457.2000503540039:kafka.conn:139956971476736:INFO:1998:Set configuration api_version=(1, 0, 0) to skip auto check_version requests on startup\n",
      "2019-08-17 17:29:44,463.463.2000923156738:kafka.producer.kafka:139956971476736:INFO:1998:Closing the Kafka producer with 0 secs timeout.\n",
      "2019-08-17 17:29:44,467.467.1003818511963:kafka.producer.kafka:139956971476736:INFO:1998:Proceeding to force close the producer since pending requests could not be completed within timeout 0.\n",
      "2019-08-17 17:29:44,468.468.95289421081543:kafka.conn:139954520844032:INFO:1998:<BrokerConnection node_id=0 host=ubuntu:9092 <connected> [IPv4 ('127.0.1.1', 9092)]>: Closing connection. \n"
     ]
    },
    {
     "name": "stdout",
     "output_type": "stream",
     "text": [
      "topic=my_topic partition=0 offset=2984: key=None value={'number_1': '25.528029875631994,23.579659396205095,-3.999088746561494,10.338792859818406,21.25368329138795'}\n"
     ]
    },
    {
     "name": "stderr",
     "output_type": "stream",
     "text": [
      "2019-08-17 17:29:44,473.473.49023818969727:kafka.conn:139956881688320:INFO:1998:<BrokerConnection node_id=0 host=ubuntu:9092 <connecting> [IPv4 ('127.0.1.1', 9092)]>: connecting to ubuntu:9092 [('127.0.1.1', 9092) IPv4]\n",
      "2019-08-17 17:29:44,476.476.2001037597656:kafka.conn:139956971476736:INFO:1998:<BrokerConnection node_id=bootstrap-0 host=localhost:9092 <connecting> [IPv6 ('::1', 9092, 0, 0)]>: connecting to localhost:9092 [('::1', 9092, 0, 0) IPv6]\n",
      "2019-08-17 17:29:44,477.477.68449783325195:kafka.conn:139956881688320:INFO:1998:<BrokerConnection node_id=0 host=ubuntu:9092 <connecting> [IPv4 ('127.0.1.1', 9092)]>: Connection complete.\n",
      "2019-08-17 17:29:44,478.478.50656509399414:kafka.conn:139956971476736:INFO:1998:Probing node bootstrap-0 broker version\n",
      "2019-08-17 17:29:44,480.480.1676273345947:kafka.conn:139956881688320:INFO:1998:<BrokerConnection node_id=bootstrap-0 host=localhost:9092 <connected> [IPv6 ('::1', 9092, 0, 0)]>: Closing connection. \n",
      "2019-08-17 17:29:44,482.482.15246200561523:kafka.conn:139956971476736:INFO:1998:<BrokerConnection node_id=bootstrap-0 host=localhost:9092 <connecting> [IPv6 ('::1', 9092, 0, 0)]>: Connection complete.\n"
     ]
    },
    {
     "name": "stdout",
     "output_type": "stream",
     "text": [
      "topic : result , partition : 0 , offset : 932\n"
     ]
    },
    {
     "name": "stderr",
     "output_type": "stream",
     "text": [
      "2019-08-17 17:29:44,527.527.2054672241211:kafka.conn:139956971476736:INFO:2000:Broker version identifed as 1.0.0\n",
      "2019-08-17 17:29:44,528.528.8150310516357:kafka.conn:139956971476736:INFO:2000:Set configuration api_version=(1, 0, 0) to skip auto check_version requests on startup\n",
      "2019-08-17 17:29:44,533.533.1699848175049:kafka.producer.kafka:139956971476736:INFO:2000:Closing the Kafka producer with 0 secs timeout.\n",
      "2019-08-17 17:29:44,537.537.489652633667:kafka.producer.kafka:139956971476736:INFO:2000:Proceeding to force close the producer since pending requests could not be completed within timeout 0.\n",
      "2019-08-17 17:29:44,539.539.4060611724854:kafka.conn:139956881688320:INFO:2000:<BrokerConnection node_id=0 host=ubuntu:9092 <connected> [IPv4 ('127.0.1.1', 9092)]>: Closing connection. \n"
     ]
    },
    {
     "name": "stdout",
     "output_type": "stream",
     "text": [
      "topic=my-topic partition=0 offset=2384: key=None value={'number_2': '-4.269047903340207,-2.8949277574191075,17.53891256988191,24.14836970684967,-13.532820095391148'}\n"
     ]
    },
    {
     "name": "stderr",
     "output_type": "stream",
     "text": [
      "2019-08-17 17:29:44,543.543.8711643218994:kafka.conn:139954520844032:INFO:2000:<BrokerConnection node_id=0 host=ubuntu:9092 <connecting> [IPv4 ('127.0.1.1', 9092)]>: connecting to ubuntu:9092 [('127.0.1.1', 9092) IPv4]\n",
      "2019-08-17 17:29:44,547.547.0502376556396:kafka.conn:139956971476736:INFO:2000:<BrokerConnection node_id=bootstrap-0 host=localhost:9092 <connecting> [IPv6 ('::1', 9092, 0, 0)]>: connecting to localhost:9092 [('::1', 9092, 0, 0) IPv6]\n",
      "2019-08-17 17:29:44,547.547.447919845581:kafka.conn:139954520844032:INFO:2000:<BrokerConnection node_id=0 host=ubuntu:9092 <connecting> [IPv4 ('127.0.1.1', 9092)]>: Connection complete.\n",
      "2019-08-17 17:29:44,549.549.2289066314697:kafka.conn:139956971476736:INFO:2000:Probing node bootstrap-0 broker version\n",
      "2019-08-17 17:29:44,550.550.7729053497314:kafka.conn:139954520844032:INFO:2000:<BrokerConnection node_id=bootstrap-0 host=localhost:9092 <connected> [IPv6 ('::1', 9092, 0, 0)]>: Closing connection. \n",
      "2019-08-17 17:29:44,552.552.6704788208008:kafka.conn:139956971476736:INFO:2000:<BrokerConnection node_id=bootstrap-0 host=localhost:9092 <connecting> [IPv6 ('::1', 9092, 0, 0)]>: Connection complete.\n"
     ]
    },
    {
     "name": "stdout",
     "output_type": "stream",
     "text": [
      "topic : result , partition : 0 , offset : 933\n"
     ]
    },
    {
     "name": "stderr",
     "output_type": "stream",
     "text": [
      "2019-08-17 17:29:44,590.590.0990962982178:kafka.conn:139956971476736:INFO:1998:Broker version identifed as 1.0.0\n",
      "2019-08-17 17:29:44,591.591.5877819061279:kafka.conn:139956971476736:INFO:1998:Set configuration api_version=(1, 0, 0) to skip auto check_version requests on startup\n",
      "2019-08-17 17:29:44,595.595.8011150360107:kafka.producer.kafka:139956971476736:INFO:1998:Closing the Kafka producer with 0 secs timeout.\n",
      "2019-08-17 17:29:44,599.599.2035865783691:kafka.producer.kafka:139956971476736:INFO:1998:Proceeding to force close the producer since pending requests could not be completed within timeout 0.\n",
      "2019-08-17 17:29:44,601.601.1266708374023:kafka.conn:139956881688320:INFO:1998:<BrokerConnection node_id=0 host=ubuntu:9092 <connected> [IPv4 ('127.0.1.1', 9092)]>: Closing connection. \n"
     ]
    },
    {
     "name": "stdout",
     "output_type": "stream",
     "text": [
      "topic=my_topic partition=0 offset=2985: key=None value={'number_1': '-6.344939316743936,13.971521881470728,-23.08427460113566,15.539302954181847,18.089151586128157'}\n"
     ]
    },
    {
     "name": "stderr",
     "output_type": "stream",
     "text": [
      "2019-08-17 17:29:44,605.605.5264472961426:kafka.conn:139954520844032:INFO:1998:<BrokerConnection node_id=0 host=ubuntu:9092 <connecting> [IPv4 ('127.0.1.1', 9092)]>: connecting to ubuntu:9092 [('127.0.1.1', 9092) IPv4]\n",
      "2019-08-17 17:29:44,607.607.851505279541:kafka.conn:139956971476736:INFO:1998:<BrokerConnection node_id=bootstrap-0 host=localhost:9092 <connecting> [IPv6 ('::1', 9092, 0, 0)]>: connecting to localhost:9092 [('::1', 9092, 0, 0) IPv6]\n",
      "2019-08-17 17:29:44,609.609.6572875976562:kafka.conn:139954520844032:INFO:1998:<BrokerConnection node_id=0 host=ubuntu:9092 <connecting> [IPv4 ('127.0.1.1', 9092)]>: Connection complete.\n",
      "2019-08-17 17:29:44,610.610.2793216705322:kafka.conn:139956971476736:INFO:1998:Probing node bootstrap-0 broker version\n",
      "2019-08-17 17:29:44,612.612.0870113372803:kafka.conn:139954520844032:INFO:1998:<BrokerConnection node_id=bootstrap-0 host=localhost:9092 <connected> [IPv6 ('::1', 9092, 0, 0)]>: Closing connection. \n",
      "2019-08-17 17:29:44,614.614.9225234985352:kafka.conn:139956971476736:INFO:1998:<BrokerConnection node_id=bootstrap-0 host=localhost:9092 <connecting> [IPv6 ('::1', 9092, 0, 0)]>: Connection complete.\n"
     ]
    },
    {
     "name": "stdout",
     "output_type": "stream",
     "text": [
      "topic : result , partition : 0 , offset : 934\n"
     ]
    },
    {
     "name": "stderr",
     "output_type": "stream",
     "text": [
      "2019-08-17 17:29:44,660.660.3262424468994:kafka.conn:139956971476736:INFO:2000:Broker version identifed as 1.0.0\n",
      "2019-08-17 17:29:44,661.661.9091033935547:kafka.conn:139956971476736:INFO:2000:Set configuration api_version=(1, 0, 0) to skip auto check_version requests on startup\n",
      "2019-08-17 17:29:44,665.665.6522750854492:kafka.producer.kafka:139956971476736:INFO:2000:Closing the Kafka producer with 0 secs timeout.\n",
      "2019-08-17 17:29:44,669.669.3923473358154:kafka.producer.kafka:139956971476736:INFO:2000:Proceeding to force close the producer since pending requests could not be completed within timeout 0.\n",
      "2019-08-17 17:29:44,671.671.276330947876:kafka.conn:139954520844032:INFO:2000:<BrokerConnection node_id=0 host=ubuntu:9092 <connected> [IPv4 ('127.0.1.1', 9092)]>: Closing connection. \n"
     ]
    },
    {
     "name": "stdout",
     "output_type": "stream",
     "text": [
      "topic=my-topic partition=0 offset=2385: key=None value={'number_2': '12.139553746880221,8.246554057686522,-2.0071519907625874,-8.800270132197257,21.08519115391448'}\n"
     ]
    },
    {
     "name": "stderr",
     "output_type": "stream",
     "text": [
      "2019-08-17 17:29:44,675.675.7857799530029:kafka.conn:139954881533696:INFO:2000:<BrokerConnection node_id=0 host=ubuntu:9092 <connecting> [IPv4 ('127.0.1.1', 9092)]>: connecting to ubuntu:9092 [('127.0.1.1', 9092) IPv4]\n",
      "2019-08-17 17:29:44,678.678.7652969360352:kafka.conn:139954881533696:INFO:2000:<BrokerConnection node_id=0 host=ubuntu:9092 <connecting> [IPv4 ('127.0.1.1', 9092)]>: Connection complete.\n",
      "2019-08-17 17:29:44,679.679.8293590545654:kafka.conn:139956971476736:INFO:2000:<BrokerConnection node_id=bootstrap-0 host=localhost:9092 <connecting> [IPv6 ('::1', 9092, 0, 0)]>: connecting to localhost:9092 [('::1', 9092, 0, 0) IPv6]\n",
      "2019-08-17 17:29:44,680.680.5431842803955:kafka.conn:139954881533696:INFO:2000:<BrokerConnection node_id=bootstrap-0 host=localhost:9092 <connected> [IPv6 ('::1', 9092, 0, 0)]>: Closing connection. \n",
      "2019-08-17 17:29:44,682.682.4851036071777:kafka.conn:139956971476736:INFO:2000:Probing node bootstrap-0 broker version\n"
     ]
    },
    {
     "name": "stdout",
     "output_type": "stream",
     "text": [
      "topic : result , partition : 0 , offset : 935\n"
     ]
    },
    {
     "name": "stderr",
     "output_type": "stream",
     "text": [
      "2019-08-17 17:29:44,687.687.8323554992676:kafka.conn:139956971476736:INFO:2000:<BrokerConnection node_id=bootstrap-0 host=localhost:9092 <connecting> [IPv6 ('::1', 9092, 0, 0)]>: Connection complete.\n",
      "2019-08-17 17:29:44,722.722.9056358337402:kafka.conn:139956971476736:INFO:1998:Broker version identifed as 1.0.0\n",
      "2019-08-17 17:29:44,724.724.5259284973145:kafka.conn:139956971476736:INFO:1998:Set configuration api_version=(1, 0, 0) to skip auto check_version requests on startup\n",
      "2019-08-17 17:29:44,732.732.323408126831:kafka.producer.kafka:139956971476736:INFO:1998:Closing the Kafka producer with 0 secs timeout.\n",
      "2019-08-17 17:29:44,735.735.790491104126:kafka.producer.kafka:139956971476736:INFO:1998:Proceeding to force close the producer since pending requests could not be completed within timeout 0.\n",
      "2019-08-17 17:29:44,737.737.7126216888428:kafka.conn:139954520844032:INFO:1998:<BrokerConnection node_id=0 host=ubuntu:9092 <connected> [IPv4 ('127.0.1.1', 9092)]>: Closing connection. \n"
     ]
    },
    {
     "name": "stdout",
     "output_type": "stream",
     "text": [
      "topic=my_topic partition=0 offset=2986: key=None value={'number_1': '-9.360791706182912,52.84022540907675,-6.83456629018211,-14.832882019528746,19.625780768019517'}\n"
     ]
    },
    {
     "name": "stderr",
     "output_type": "stream",
     "text": [
      "2019-08-17 17:29:44,742.742.2006130218506:kafka.conn:139956881688320:INFO:1998:<BrokerConnection node_id=0 host=ubuntu:9092 <connecting> [IPv4 ('127.0.1.1', 9092)]>: connecting to ubuntu:9092 [('127.0.1.1', 9092) IPv4]\n",
      "2019-08-17 17:29:44,744.744.635820388794:kafka.conn:139956971476736:INFO:1998:<BrokerConnection node_id=bootstrap-0 host=localhost:9092 <connecting> [IPv6 ('::1', 9092, 0, 0)]>: connecting to localhost:9092 [('::1', 9092, 0, 0) IPv6]\n",
      "2019-08-17 17:29:44,746.746.0000514984131:kafka.conn:139956881688320:INFO:1998:<BrokerConnection node_id=0 host=ubuntu:9092 <connecting> [IPv4 ('127.0.1.1', 9092)]>: Connection complete.\n",
      "2019-08-17 17:29:44,746.746.4718818664551:kafka.conn:139956971476736:INFO:1998:Probing node bootstrap-0 broker version\n",
      "2019-08-17 17:29:44,748.748.0218410491943:kafka.conn:139956881688320:INFO:1998:<BrokerConnection node_id=bootstrap-0 host=localhost:9092 <connected> [IPv6 ('::1', 9092, 0, 0)]>: Closing connection. \n",
      "2019-08-17 17:29:44,749.749.8934268951416:kafka.conn:139956971476736:INFO:1998:<BrokerConnection node_id=bootstrap-0 host=localhost:9092 <connecting> [IPv6 ('::1', 9092, 0, 0)]>: Connection complete.\n"
     ]
    },
    {
     "name": "stdout",
     "output_type": "stream",
     "text": [
      "topic : result , partition : 0 , offset : 936\n"
     ]
    },
    {
     "name": "stderr",
     "output_type": "stream",
     "text": [
      "2019-08-17 17:29:44,793.793.2815551757812:kafka.conn:139956971476736:INFO:2000:Broker version identifed as 1.0.0\n",
      "2019-08-17 17:29:44,794.794.8825359344482:kafka.conn:139956971476736:INFO:2000:Set configuration api_version=(1, 0, 0) to skip auto check_version requests on startup\n",
      "2019-08-17 17:29:44,800.800.0192642211914:kafka.producer.kafka:139956971476736:INFO:2000:Closing the Kafka producer with 0 secs timeout.\n",
      "2019-08-17 17:29:44,804.804.0328025817871:kafka.producer.kafka:139956971476736:INFO:2000:Proceeding to force close the producer since pending requests could not be completed within timeout 0.\n",
      "2019-08-17 17:29:44,805.805.9861660003662:kafka.conn:139954881533696:INFO:2000:<BrokerConnection node_id=0 host=ubuntu:9092 <connected> [IPv4 ('127.0.1.1', 9092)]>: Closing connection. \n"
     ]
    },
    {
     "name": "stdout",
     "output_type": "stream",
     "text": [
      "topic=my-topic partition=0 offset=2386: key=None value={'number_2': '-12.816742731634875,4.093068325247179,-9.088997787264699,-6.447754862535151,-5.142384248819344'}\n"
     ]
    },
    {
     "name": "stderr",
     "output_type": "stream",
     "text": [
      "2019-08-17 17:29:44,810.810.314416885376:kafka.conn:139956881688320:INFO:2000:<BrokerConnection node_id=0 host=ubuntu:9092 <connecting> [IPv4 ('127.0.1.1', 9092)]>: connecting to ubuntu:9092 [('127.0.1.1', 9092) IPv4]\n",
      "2019-08-17 17:29:44,813.813.2123947143555:kafka.conn:139956971476736:INFO:2000:<BrokerConnection node_id=bootstrap-0 host=localhost:9092 <connecting> [IPv6 ('::1', 9092, 0, 0)]>: connecting to localhost:9092 [('::1', 9092, 0, 0) IPv6]\n",
      "2019-08-17 17:29:44,813.813.6053085327148:kafka.conn:139956881688320:INFO:2000:<BrokerConnection node_id=0 host=ubuntu:9092 <connecting> [IPv4 ('127.0.1.1', 9092)]>: Connection complete.\n",
      "2019-08-17 17:29:44,815.815.2778148651123:kafka.conn:139956971476736:INFO:2000:Probing node bootstrap-0 broker version\n",
      "2019-08-17 17:29:44,817.817.6665306091309:kafka.conn:139956881688320:INFO:2000:<BrokerConnection node_id=bootstrap-0 host=localhost:9092 <connected> [IPv6 ('::1', 9092, 0, 0)]>: Closing connection. \n",
      "2019-08-17 17:29:44,819.819.1215991973877:kafka.conn:139956971476736:INFO:2000:<BrokerConnection node_id=bootstrap-0 host=localhost:9092 <connecting> [IPv6 ('::1', 9092, 0, 0)]>: Connection complete.\n"
     ]
    },
    {
     "name": "stdout",
     "output_type": "stream",
     "text": [
      "topic : result , partition : 0 , offset : 937\n"
     ]
    },
    {
     "name": "stderr",
     "output_type": "stream",
     "text": [
      "2019-08-17 17:29:44,857.857.6858043670654:kafka.conn:139956971476736:INFO:1998:Broker version identifed as 1.0.0\n",
      "2019-08-17 17:29:44,859.859.3769073486328:kafka.conn:139956971476736:INFO:1998:Set configuration api_version=(1, 0, 0) to skip auto check_version requests on startup\n",
      "2019-08-17 17:29:44,863.863.184928894043:kafka.producer.kafka:139956971476736:INFO:1998:Closing the Kafka producer with 0 secs timeout.\n",
      "2019-08-17 17:29:44,867.867.4628734588623:kafka.producer.kafka:139956971476736:INFO:1998:Proceeding to force close the producer since pending requests could not be completed within timeout 0.\n",
      "2019-08-17 17:29:44,869.869.2595958709717:kafka.conn:139956881688320:INFO:1998:<BrokerConnection node_id=0 host=ubuntu:9092 <connected> [IPv4 ('127.0.1.1', 9092)]>: Closing connection. \n"
     ]
    },
    {
     "name": "stdout",
     "output_type": "stream",
     "text": [
      "topic=my_topic partition=0 offset=2987: key=None value={'number_1': '-9.27968388215725,-7.8302267816044235,13.004438659637362,51.957540199029125,7.321153893034798'}\n"
     ]
    },
    {
     "name": "stderr",
     "output_type": "stream",
     "text": [
      "2019-08-17 17:29:44,873.873.9309310913086:kafka.conn:139954520844032:INFO:1998:<BrokerConnection node_id=0 host=ubuntu:9092 <connecting> [IPv4 ('127.0.1.1', 9092)]>: connecting to ubuntu:9092 [('127.0.1.1', 9092) IPv4]\n",
      "2019-08-17 17:29:44,876.876.8455982208252:kafka.conn:139954520844032:INFO:1998:<BrokerConnection node_id=0 host=ubuntu:9092 <connecting> [IPv4 ('127.0.1.1', 9092)]>: Connection complete.\n",
      "2019-08-17 17:29:44,877.877.1510124206543:kafka.conn:139956971476736:INFO:1998:<BrokerConnection node_id=bootstrap-0 host=localhost:9092 <connecting> [IPv6 ('::1', 9092, 0, 0)]>: connecting to localhost:9092 [('::1', 9092, 0, 0) IPv6]\n",
      "2019-08-17 17:29:44,878.878.8220882415771:kafka.conn:139954520844032:INFO:1998:<BrokerConnection node_id=bootstrap-0 host=localhost:9092 <connected> [IPv6 ('::1', 9092, 0, 0)]>: Closing connection. \n",
      "2019-08-17 17:29:44,880.880.6643486022949:kafka.conn:139956971476736:INFO:1998:Probing node bootstrap-0 broker version\n"
     ]
    },
    {
     "name": "stdout",
     "output_type": "stream",
     "text": [
      "topic : result , partition : 0 , offset : 938\n"
     ]
    },
    {
     "name": "stderr",
     "output_type": "stream",
     "text": [
      "2019-08-17 17:29:44,886.886.0561847686768:kafka.conn:139956971476736:INFO:1998:<BrokerConnection node_id=bootstrap-0 host=localhost:9092 <connecting> [IPv6 ('::1', 9092, 0, 0)]>: Connection complete.\n",
      "2019-08-17 17:29:44,926.926.6934394836426:kafka.conn:139956971476736:INFO:2000:Broker version identifed as 1.0.0\n",
      "2019-08-17 17:29:44,928.928.3185005187988:kafka.conn:139956971476736:INFO:2000:Set configuration api_version=(1, 0, 0) to skip auto check_version requests on startup\n",
      "2019-08-17 17:29:44,932.932.6145648956299:kafka.producer.kafka:139956971476736:INFO:2000:Closing the Kafka producer with 0 secs timeout.\n",
      "2019-08-17 17:29:44,936.936.5291595458984:kafka.producer.kafka:139956971476736:INFO:2000:Proceeding to force close the producer since pending requests could not be completed within timeout 0.\n",
      "2019-08-17 17:29:44,938.938.4744167327881:kafka.conn:139956881688320:INFO:2000:<BrokerConnection node_id=0 host=ubuntu:9092 <connected> [IPv4 ('127.0.1.1', 9092)]>: Closing connection. \n"
     ]
    },
    {
     "name": "stdout",
     "output_type": "stream",
     "text": [
      "topic=my-topic partition=0 offset=2387: key=None value={'number_2': '3.7692093587629723,4.735895169014195,-0.1276022400533403,-6.878800870540809,7.606303447299738'}\n"
     ]
    },
    {
     "name": "stderr",
     "output_type": "stream",
     "text": [
      "2019-08-17 17:29:44,942.942.9976940155029:kafka.conn:139954529236736:INFO:2000:<BrokerConnection node_id=0 host=ubuntu:9092 <connecting> [IPv4 ('127.0.1.1', 9092)]>: connecting to ubuntu:9092 [('127.0.1.1', 9092) IPv4]\n",
      "2019-08-17 17:29:44,945.945.6498622894287:kafka.conn:139956971476736:INFO:2000:<BrokerConnection node_id=bootstrap-0 host=localhost:9092 <connecting> [IPv6 ('::1', 9092, 0, 0)]>: connecting to localhost:9092 [('::1', 9092, 0, 0) IPv6]\n",
      "2019-08-17 17:29:44,947.947.0088481903076:kafka.conn:139954529236736:INFO:2000:<BrokerConnection node_id=0 host=ubuntu:9092 <connecting> [IPv4 ('127.0.1.1', 9092)]>: Connection complete.\n",
      "2019-08-17 17:29:44,947.947.6315975189209:kafka.conn:139956971476736:INFO:2000:Probing node bootstrap-0 broker version\n",
      "2019-08-17 17:29:44,949.949.2337703704834:kafka.conn:139954529236736:INFO:2000:<BrokerConnection node_id=bootstrap-0 host=localhost:9092 <connected> [IPv6 ('::1', 9092, 0, 0)]>: Closing connection. \n",
      "2019-08-17 17:29:44,951.951.169490814209:kafka.conn:139956971476736:INFO:2000:<BrokerConnection node_id=bootstrap-0 host=localhost:9092 <connecting> [IPv6 ('::1', 9092, 0, 0)]>: Connection complete.\n"
     ]
    },
    {
     "name": "stdout",
     "output_type": "stream",
     "text": [
      "topic : result , partition : 0 , offset : 939\n"
     ]
    },
    {
     "name": "stderr",
     "output_type": "stream",
     "text": [
      "2019-08-17 17:29:44,990.990.9572601318359:kafka.conn:139956971476736:INFO:1998:Broker version identifed as 1.0.0\n",
      "2019-08-17 17:29:44,992.992.6214218139648:kafka.conn:139956971476736:INFO:1998:Set configuration api_version=(1, 0, 0) to skip auto check_version requests on startup\n",
      "2019-08-17 17:29:44,996.996.5713024139404:kafka.producer.kafka:139956971476736:INFO:1998:Closing the Kafka producer with 0 secs timeout.\n",
      "2019-08-17 17:29:45,000.0.8890628814697266:kafka.producer.kafka:139956971476736:INFO:1998:Proceeding to force close the producer since pending requests could not be completed within timeout 0.\n",
      "2019-08-17 17:29:45,002.2.6717185974121094:kafka.conn:139954520844032:INFO:1998:<BrokerConnection node_id=0 host=ubuntu:9092 <connected> [IPv4 ('127.0.1.1', 9092)]>: Closing connection. \n"
     ]
    },
    {
     "name": "stdout",
     "output_type": "stream",
     "text": [
      "topic=my_topic partition=0 offset=2988: key=None value={'number_1': '33.40438948934249,47.509256326971055,-9.867971253901324,-3.219990938467932,4.416219942112321'}\n"
     ]
    },
    {
     "name": "stderr",
     "output_type": "stream",
     "text": [
      "2019-08-17 17:29:45,006.6.783962249755859:kafka.conn:139956890081024:INFO:1998:<BrokerConnection node_id=0 host=ubuntu:9092 <connecting> [IPv4 ('127.0.1.1', 9092)]>: connecting to ubuntu:9092 [('127.0.1.1', 9092) IPv4]\n",
      "2019-08-17 17:29:45,016.16.65663719177246:kafka.conn:139956890081024:INFO:1998:<BrokerConnection node_id=0 host=ubuntu:9092 <connecting> [IPv4 ('127.0.1.1', 9092)]>: Connection complete.\n",
      "2019-08-17 17:29:45,019.19.817590713500977:kafka.conn:139956971476736:INFO:1998:<BrokerConnection node_id=bootstrap-0 host=localhost:9092 <connecting> [IPv6 ('::1', 9092, 0, 0)]>: connecting to localhost:9092 [('::1', 9092, 0, 0) IPv6]\n",
      "2019-08-17 17:29:45,020.20.61295509338379:kafka.conn:139956890081024:INFO:1998:<BrokerConnection node_id=bootstrap-0 host=localhost:9092 <connected> [IPv6 ('::1', 9092, 0, 0)]>: Closing connection. \n",
      "2019-08-17 17:29:45,022.22.684574127197266:kafka.conn:139956971476736:INFO:1998:Probing node bootstrap-0 broker version\n"
     ]
    },
    {
     "name": "stdout",
     "output_type": "stream",
     "text": [
      "topic : result , partition : 0 , offset : 940\n"
     ]
    },
    {
     "name": "stderr",
     "output_type": "stream",
     "text": [
      "2019-08-17 17:29:45,030.30.89165687561035:kafka.conn:139956971476736:INFO:1998:<BrokerConnection node_id=bootstrap-0 host=localhost:9092 <connecting> [IPv6 ('::1', 9092, 0, 0)]>: Connection complete.\n",
      "2019-08-17 17:29:45,059.59.36741828918457:kafka.conn:139956971476736:INFO:2000:Broker version identifed as 1.0.0\n",
      "2019-08-17 17:29:45,061.61.07735633850098:kafka.conn:139956971476736:INFO:2000:Set configuration api_version=(1, 0, 0) to skip auto check_version requests on startup\n",
      "2019-08-17 17:29:45,065.65.24205207824707:kafka.producer.kafka:139956971476736:INFO:2000:Closing the Kafka producer with 0 secs timeout.\n",
      "2019-08-17 17:29:45,069.69.03314590454102:kafka.producer.kafka:139956971476736:INFO:2000:Proceeding to force close the producer since pending requests could not be completed within timeout 0.\n",
      "2019-08-17 17:29:45,070.70.94240188598633:kafka.conn:139954529236736:INFO:2000:<BrokerConnection node_id=0 host=ubuntu:9092 <connected> [IPv4 ('127.0.1.1', 9092)]>: Closing connection. \n"
     ]
    },
    {
     "name": "stdout",
     "output_type": "stream",
     "text": [
      "topic=my-topic partition=0 offset=2388: key=None value={'number_2': '-0.35122626822886116,-10.645647068108614,11.636205429642724,-20.52157216040959,4.66729539586334'}\n"
     ]
    },
    {
     "name": "stderr",
     "output_type": "stream",
     "text": [
      "2019-08-17 17:29:45,075.75.36768913269043:kafka.conn:139956881688320:INFO:2000:<BrokerConnection node_id=0 host=ubuntu:9092 <connecting> [IPv4 ('127.0.1.1', 9092)]>: connecting to ubuntu:9092 [('127.0.1.1', 9092) IPv4]\n",
      "2019-08-17 17:29:45,077.77.89874076843262:kafka.conn:139956971476736:INFO:2000:<BrokerConnection node_id=bootstrap-0 host=localhost:9092 <connecting> [IPv6 ('::1', 9092, 0, 0)]>: connecting to localhost:9092 [('::1', 9092, 0, 0) IPv6]\n",
      "2019-08-17 17:29:45,079.79.25677299499512:kafka.conn:139956881688320:INFO:2000:<BrokerConnection node_id=0 host=ubuntu:9092 <connecting> [IPv4 ('127.0.1.1', 9092)]>: Connection complete.\n",
      "2019-08-17 17:29:45,079.79.6668529510498:kafka.conn:139956971476736:INFO:2000:Probing node bootstrap-0 broker version\n",
      "2019-08-17 17:29:45,081.81.11262321472168:kafka.conn:139956881688320:INFO:2000:<BrokerConnection node_id=bootstrap-0 host=localhost:9092 <connected> [IPv6 ('::1', 9092, 0, 0)]>: Closing connection. \n",
      "2019-08-17 17:29:45,082.82.77535438537598:kafka.conn:139956971476736:INFO:2000:<BrokerConnection node_id=bootstrap-0 host=localhost:9092 <connecting> [IPv6 ('::1', 9092, 0, 0)]>: Connection complete.\n"
     ]
    },
    {
     "name": "stdout",
     "output_type": "stream",
     "text": [
      "topic : result , partition : 0 , offset : 941\n"
     ]
    },
    {
     "name": "stderr",
     "output_type": "stream",
     "text": [
      "2019-08-17 17:29:45,136.136.06953620910645:kafka.conn:139956971476736:INFO:1998:Broker version identifed as 1.0.0\n",
      "2019-08-17 17:29:45,137.137.81380653381348:kafka.conn:139956971476736:INFO:1998:Set configuration api_version=(1, 0, 0) to skip auto check_version requests on startup\n",
      "2019-08-17 17:29:45,144.144.5326805114746:kafka.producer.kafka:139956971476736:INFO:1998:Closing the Kafka producer with 0 secs timeout.\n",
      "2019-08-17 17:29:45,148.148.30684661865234:kafka.producer.kafka:139956971476736:INFO:1998:Proceeding to force close the producer since pending requests could not be completed within timeout 0.\n",
      "2019-08-17 17:29:45,150.150.32291412353516:kafka.conn:139956890081024:INFO:1998:<BrokerConnection node_id=0 host=ubuntu:9092 <connected> [IPv4 ('127.0.1.1', 9092)]>: Closing connection. \n",
      "2019-08-17 17:29:45,154.154.39534187316895:kafka.conn:139956881688320:INFO:1998:<BrokerConnection node_id=0 host=ubuntu:9092 <connecting> [IPv4 ('127.0.1.1', 9092)]>: connecting to ubuntu:9092 [('127.0.1.1', 9092) IPv4]\n"
     ]
    },
    {
     "name": "stdout",
     "output_type": "stream",
     "text": [
      "topic=my_topic partition=0 offset=2989: key=None value={'number_1': '7.724678581567419,6.030764690039003,68.63644975559512,19.0350951809378,24.52333496040778'}\n"
     ]
    },
    {
     "name": "stderr",
     "output_type": "stream",
     "text": [
      "2019-08-17 17:29:45,157.157.05537796020508:kafka.conn:139956881688320:INFO:1998:<BrokerConnection node_id=0 host=ubuntu:9092 <connecting> [IPv4 ('127.0.1.1', 9092)]>: Connection complete.\n",
      "2019-08-17 17:29:45,159.159.58786010742188:kafka.conn:139956881688320:INFO:1998:<BrokerConnection node_id=bootstrap-0 host=localhost:9092 <connected> [IPv6 ('::1', 9092, 0, 0)]>: Closing connection. \n",
      "2019-08-17 17:29:45,160.160.71724891662598:kafka.conn:139956971476736:INFO:1998:<BrokerConnection node_id=bootstrap-0 host=localhost:9092 <connecting> [IPv6 ('::1', 9092, 0, 0)]>: connecting to localhost:9092 [('::1', 9092, 0, 0) IPv6]\n"
     ]
    },
    {
     "name": "stdout",
     "output_type": "stream",
     "text": [
      "topic : result , partition : 0 , offset : 942\n"
     ]
    },
    {
     "name": "stderr",
     "output_type": "stream",
     "text": [
      "2019-08-17 17:29:45,164.164.97468948364258:kafka.conn:139956971476736:INFO:1998:Probing node bootstrap-0 broker version\n",
      "2019-08-17 17:29:45,166.166.89229011535645:kafka.conn:139956971476736:INFO:1998:<BrokerConnection node_id=bootstrap-0 host=localhost:9092 <connecting> [IPv6 ('::1', 9092, 0, 0)]>: Connection complete.\n",
      "2019-08-17 17:29:45,190.190.5219554901123:kafka.conn:139956971476736:INFO:2000:Broker version identifed as 1.0.0\n",
      "2019-08-17 17:29:45,192.192.40832328796387:kafka.conn:139956971476736:INFO:2000:Set configuration api_version=(1, 0, 0) to skip auto check_version requests on startup\n",
      "2019-08-17 17:29:45,197.197.5388526916504:kafka.producer.kafka:139956971476736:INFO:2000:Closing the Kafka producer with 0 secs timeout.\n",
      "2019-08-17 17:29:45,201.201.5528678894043:kafka.producer.kafka:139956971476736:INFO:2000:Proceeding to force close the producer since pending requests could not be completed within timeout 0.\n",
      "2019-08-17 17:29:45,203.203.58824729919434:kafka.conn:139956881688320:INFO:2000:<BrokerConnection node_id=0 host=ubuntu:9092 <connected> [IPv4 ('127.0.1.1', 9092)]>: Closing connection. \n"
     ]
    },
    {
     "name": "stdout",
     "output_type": "stream",
     "text": [
      "topic=my-topic partition=0 offset=2389: key=None value={'number_2': '11.374723709110754,-5.414137748864924,5.068590977476607,-16.730823508938578,-2.0947088174260022'}\n"
     ]
    },
    {
     "name": "stderr",
     "output_type": "stream",
     "text": [
      "2019-08-17 17:29:45,207.207.9484462738037:kafka.conn:139954529236736:INFO:2000:<BrokerConnection node_id=0 host=ubuntu:9092 <connecting> [IPv4 ('127.0.1.1', 9092)]>: connecting to ubuntu:9092 [('127.0.1.1', 9092) IPv4]\n",
      "2019-08-17 17:29:45,210.210.40582656860352:kafka.conn:139956971476736:INFO:2000:<BrokerConnection node_id=bootstrap-0 host=localhost:9092 <connecting> [IPv6 ('::1', 9092, 0, 0)]>: connecting to localhost:9092 [('::1', 9092, 0, 0) IPv6]\n",
      "2019-08-17 17:29:45,211.211.96317672729492:kafka.conn:139954529236736:INFO:2000:<BrokerConnection node_id=0 host=ubuntu:9092 <connecting> [IPv4 ('127.0.1.1', 9092)]>: Connection complete.\n",
      "2019-08-17 17:29:45,212.212.5086784362793:kafka.conn:139956971476736:INFO:2000:Probing node bootstrap-0 broker version\n",
      "2019-08-17 17:29:45,214.214.10655975341797:kafka.conn:139954529236736:INFO:2000:<BrokerConnection node_id=bootstrap-0 host=localhost:9092 <connected> [IPv6 ('::1', 9092, 0, 0)]>: Closing connection. \n",
      "2019-08-17 17:29:45,216.216.05753898620605:kafka.conn:139956971476736:INFO:2000:<BrokerConnection node_id=bootstrap-0 host=localhost:9092 <connecting> [IPv6 ('::1', 9092, 0, 0)]>: Connection complete.\n"
     ]
    },
    {
     "name": "stdout",
     "output_type": "stream",
     "text": [
      "topic : result , partition : 0 , offset : 943\n"
     ]
    },
    {
     "name": "stderr",
     "output_type": "stream",
     "text": [
      "2019-08-17 17:29:45,271.271.94786071777344:kafka.conn:139956971476736:INFO:1998:Broker version identifed as 1.0.0\n",
      "2019-08-17 17:29:45,273.273.6940383911133:kafka.conn:139956971476736:INFO:1998:Set configuration api_version=(1, 0, 0) to skip auto check_version requests on startup\n",
      "2019-08-17 17:29:45,277.277.74643898010254:kafka.producer.kafka:139956971476736:INFO:1998:Closing the Kafka producer with 0 secs timeout.\n",
      "2019-08-17 17:29:45,281.281.7823886871338:kafka.producer.kafka:139956971476736:INFO:1998:Proceeding to force close the producer since pending requests could not be completed within timeout 0.\n",
      "2019-08-17 17:29:45,283.283.78772735595703:kafka.conn:139956881688320:INFO:1998:<BrokerConnection node_id=0 host=ubuntu:9092 <connected> [IPv4 ('127.0.1.1', 9092)]>: Closing connection. \n"
     ]
    },
    {
     "name": "stdout",
     "output_type": "stream",
     "text": [
      "topic=my_topic partition=0 offset=2990: key=None value={'number_1': '5.08895950495215,-11.431979274793914,-1.4908050227788845,-26.63888366458807,19.929274745079248'}\n"
     ]
    },
    {
     "name": "stderr",
     "output_type": "stream",
     "text": [
      "2019-08-17 17:29:45,288.288.47384452819824:kafka.conn:139956890081024:INFO:1998:<BrokerConnection node_id=0 host=ubuntu:9092 <connecting> [IPv4 ('127.0.1.1', 9092)]>: connecting to ubuntu:9092 [('127.0.1.1', 9092) IPv4]\n",
      "2019-08-17 17:29:45,291.291.28026962280273:kafka.conn:139956971476736:INFO:1998:<BrokerConnection node_id=bootstrap-0 host=localhost:9092 <connecting> [IPv6 ('::1', 9092, 0, 0)]>: connecting to localhost:9092 [('::1', 9092, 0, 0) IPv6]\n",
      "2019-08-17 17:29:45,293.293.0614948272705:kafka.conn:139956890081024:INFO:1998:<BrokerConnection node_id=0 host=ubuntu:9092 <connecting> [IPv4 ('127.0.1.1', 9092)]>: Connection complete.\n",
      "2019-08-17 17:29:45,293.293.76912117004395:kafka.conn:139956971476736:INFO:1998:Probing node bootstrap-0 broker version\n",
      "2019-08-17 17:29:45,295.295.41683197021484:kafka.conn:139956890081024:INFO:1998:<BrokerConnection node_id=bootstrap-0 host=localhost:9092 <connected> [IPv6 ('::1', 9092, 0, 0)]>: Closing connection. \n",
      "2019-08-17 17:29:45,297.297.38807678222656:kafka.conn:139956971476736:INFO:1998:<BrokerConnection node_id=bootstrap-0 host=localhost:9092 <connecting> [IPv6 ('::1', 9092, 0, 0)]>: Connection complete.\n"
     ]
    },
    {
     "name": "stdout",
     "output_type": "stream",
     "text": [
      "topic : result , partition : 0 , offset : 944\n"
     ]
    },
    {
     "name": "stderr",
     "output_type": "stream",
     "text": [
      "2019-08-17 17:29:45,324.324.5365619659424:kafka.conn:139956971476736:INFO:2000:Broker version identifed as 1.0.0\n",
      "2019-08-17 17:29:45,326.326.387882232666:kafka.conn:139956971476736:INFO:2000:Set configuration api_version=(1, 0, 0) to skip auto check_version requests on startup\n",
      "2019-08-17 17:29:45,330.330.3062915802002:kafka.producer.kafka:139956971476736:INFO:2000:Closing the Kafka producer with 0 secs timeout.\n",
      "2019-08-17 17:29:45,334.334.0160846710205:kafka.producer.kafka:139956971476736:INFO:2000:Proceeding to force close the producer since pending requests could not be completed within timeout 0.\n",
      "2019-08-17 17:29:45,335.335.9262943267822:kafka.conn:139954529236736:INFO:2000:<BrokerConnection node_id=0 host=ubuntu:9092 <connected> [IPv4 ('127.0.1.1', 9092)]>: Closing connection. \n"
     ]
    },
    {
     "name": "stdout",
     "output_type": "stream",
     "text": [
      "topic=my-topic partition=0 offset=2390: key=None value={'number_2': '0.3399369682123396,3.0584113585891486,4.644027115758493,9.79680500265866,1.6186924467010921'}\n"
     ]
    },
    {
     "name": "stderr",
     "output_type": "stream",
     "text": [
      "2019-08-17 17:29:45,341.341.7925834655762:kafka.conn:139956881688320:INFO:2000:<BrokerConnection node_id=0 host=ubuntu:9092 <connecting> [IPv4 ('127.0.1.1', 9092)]>: connecting to ubuntu:9092 [('127.0.1.1', 9092) IPv4]\n",
      "2019-08-17 17:29:45,342.342.864990234375:kafka.conn:139956971476736:INFO:2000:<BrokerConnection node_id=bootstrap-0 host=localhost:9092 <connecting> [IPv6 ('::1', 9092, 0, 0)]>: connecting to localhost:9092 [('::1', 9092, 0, 0) IPv6]\n",
      "2019-08-17 17:29:45,344.344.623327255249:kafka.conn:139956881688320:INFO:2000:<BrokerConnection node_id=0 host=ubuntu:9092 <connecting> [IPv4 ('127.0.1.1', 9092)]>: Connection complete.\n",
      "2019-08-17 17:29:45,345.345.32737731933594:kafka.conn:139956971476736:INFO:2000:Probing node bootstrap-0 broker version\n",
      "2019-08-17 17:29:45,346.346.84276580810547:kafka.conn:139956881688320:INFO:2000:<BrokerConnection node_id=bootstrap-0 host=localhost:9092 <connected> [IPv6 ('::1', 9092, 0, 0)]>: Closing connection. \n",
      "2019-08-17 17:29:45,355.355.8337688446045:kafka.conn:139956971476736:INFO:2000:<BrokerConnection node_id=bootstrap-0 host=localhost:9092 <connecting> [IPv6 ('::1', 9092, 0, 0)]>: Connection complete.\n"
     ]
    },
    {
     "name": "stdout",
     "output_type": "stream",
     "text": [
      "topic : result , partition : 0 , offset : 945\n"
     ]
    },
    {
     "name": "stderr",
     "output_type": "stream",
     "text": [
      "2019-08-17 17:29:45,406.406.3606262207031:kafka.conn:139956971476736:INFO:1998:Broker version identifed as 1.0.0\n",
      "2019-08-17 17:29:45,407.407.9575538635254:kafka.conn:139956971476736:INFO:1998:Set configuration api_version=(1, 0, 0) to skip auto check_version requests on startup\n",
      "2019-08-17 17:29:45,412.412.05382347106934:kafka.producer.kafka:139956971476736:INFO:1998:Closing the Kafka producer with 0 secs timeout.\n",
      "2019-08-17 17:29:45,415.415.8651828765869:kafka.producer.kafka:139956971476736:INFO:1998:Proceeding to force close the producer since pending requests could not be completed within timeout 0.\n",
      "2019-08-17 17:29:45,417.417.7587032318115:kafka.conn:139956890081024:INFO:1998:<BrokerConnection node_id=0 host=ubuntu:9092 <connected> [IPv4 ('127.0.1.1', 9092)]>: Closing connection. \n",
      "2019-08-17 17:29:45,421.421.339750289917:kafka.conn:139956881688320:INFO:1998:<BrokerConnection node_id=0 host=ubuntu:9092 <connecting> [IPv4 ('127.0.1.1', 9092)]>: connecting to ubuntu:9092 [('127.0.1.1', 9092) IPv4]\n",
      "2019-08-17 17:29:45,423.423.39420318603516:kafka.conn:139956881688320:INFO:1998:<BrokerConnection node_id=0 host=ubuntu:9092 <connecting> [IPv4 ('127.0.1.1', 9092)]>: Connection complete.\n",
      "2019-08-17 17:29:45,425.425.0905513763428:kafka.conn:139956881688320:INFO:1998:<BrokerConnection node_id=bootstrap-0 host=localhost:9092 <connected> [IPv6 ('::1', 9092, 0, 0)]>: Closing connection. \n"
     ]
    },
    {
     "name": "stdout",
     "output_type": "stream",
     "text": [
      "topic : result , partition : 0 , offset : 946\n"
     ]
    },
    {
     "name": "stderr",
     "output_type": "stream",
     "text": [
      "2019-08-17 17:29:45,467.467.1173095703125:kafka.conn:139956971476736:INFO:2000:Broker version identifed as 1.0.0\n",
      "2019-08-17 17:29:45,468.468.69397163391113:kafka.conn:139956971476736:INFO:2000:Set configuration api_version=(1, 0, 0) to skip auto check_version requests on startup\n"
     ]
    },
    {
     "name": "stdout",
     "output_type": "stream",
     "text": [
      "topic=my_topic partition=0 offset=2991: key=None value={'number_1': '-6.439428351668731,10.569424932436162,22.723207359597723,42.21408288978385,7.754738270206195'}\n"
     ]
    },
    {
     "name": "stderr",
     "output_type": "stream",
     "text": [
      "2019-08-17 17:29:45,473.473.38008880615234:kafka.producer.kafka:139956971476736:INFO:2000:Closing the Kafka producer with 0 secs timeout.\n",
      "2019-08-17 17:29:45,475.475.48365592956543:kafka.conn:139956971476736:INFO:1998:<BrokerConnection node_id=bootstrap-0 host=localhost:9092 <connecting> [IPv6 ('::1', 9092, 0, 0)]>: connecting to localhost:9092 [('::1', 9092, 0, 0) IPv6]\n",
      "2019-08-17 17:29:45,477.477.2622585296631:kafka.conn:139956971476736:INFO:1998:Probing node bootstrap-0 broker version\n",
      "2019-08-17 17:29:45,477.477.9782295227051:kafka.producer.kafka:139956971476736:INFO:2000:Proceeding to force close the producer since pending requests could not be completed within timeout 0.\n",
      "2019-08-17 17:29:45,478.478.99723052978516:kafka.conn:139956971476736:INFO:1998:<BrokerConnection node_id=bootstrap-0 host=localhost:9092 <connecting> [IPv6 ('::1', 9092, 0, 0)]>: Connection complete.\n",
      "2019-08-17 17:29:45,480.480.3271293640137:kafka.conn:139956881688320:INFO:2000:<BrokerConnection node_id=0 host=ubuntu:9092 <connected> [IPv4 ('127.0.1.1', 9092)]>: Closing connection. \n"
     ]
    },
    {
     "name": "stdout",
     "output_type": "stream",
     "text": [
      "topic=my-topic partition=0 offset=2391: key=None value={'number_2': '7.947066216371624,5.691914708709254,-2.666089828990998,-1.6733342715877886,4.6788024950295695'}\n"
     ]
    },
    {
     "name": "stderr",
     "output_type": "stream",
     "text": [
      "2019-08-17 17:29:45,485.485.5983257293701:kafka.conn:139954529236736:INFO:2000:<BrokerConnection node_id=0 host=ubuntu:9092 <connecting> [IPv4 ('127.0.1.1', 9092)]>: connecting to ubuntu:9092 [('127.0.1.1', 9092) IPv4]\n",
      "2019-08-17 17:29:45,488.488.4381294250488:kafka.conn:139956971476736:INFO:2000:<BrokerConnection node_id=bootstrap-0 host=localhost:9092 <connecting> [IPv6 ('::1', 9092, 0, 0)]>: connecting to localhost:9092 [('::1', 9092, 0, 0) IPv6]\n",
      "2019-08-17 17:29:45,490.490.065336227417:kafka.conn:139954529236736:INFO:2000:<BrokerConnection node_id=0 host=ubuntu:9092 <connecting> [IPv4 ('127.0.1.1', 9092)]>: Connection complete.\n",
      "2019-08-17 17:29:45,490.490.51594734191895:kafka.conn:139956971476736:INFO:2000:Probing node bootstrap-0 broker version\n",
      "2019-08-17 17:29:45,492.492.01107025146484:kafka.conn:139954529236736:INFO:2000:<BrokerConnection node_id=bootstrap-0 host=localhost:9092 <connected> [IPv6 ('::1', 9092, 0, 0)]>: Closing connection. \n",
      "2019-08-17 17:29:45,494.494.140625:kafka.conn:139956971476736:INFO:2000:<BrokerConnection node_id=bootstrap-0 host=localhost:9092 <connecting> [IPv6 ('::1', 9092, 0, 0)]>: Connection complete.\n"
     ]
    },
    {
     "name": "stdout",
     "output_type": "stream",
     "text": [
      "topic : result , partition : 0 , offset : 947\n"
     ]
    },
    {
     "name": "stderr",
     "output_type": "stream",
     "text": [
      "2019-08-17 17:29:45,583.583.6482048034668:kafka.conn:139956971476736:INFO:1998:Broker version identifed as 1.0.0\n",
      "2019-08-17 17:29:45,585.585.3302478790283:kafka.conn:139956971476736:INFO:1998:Set configuration api_version=(1, 0, 0) to skip auto check_version requests on startup\n",
      "2019-08-17 17:29:45,590.590.599536895752:kafka.producer.kafka:139956971476736:INFO:1998:Closing the Kafka producer with 0 secs timeout.\n",
      "2019-08-17 17:29:45,594.594.5861339569092:kafka.producer.kafka:139956971476736:INFO:1998:Proceeding to force close the producer since pending requests could not be completed within timeout 0.\n",
      "2019-08-17 17:29:45,596.596.4946746826172:kafka.conn:139956881688320:INFO:1998:<BrokerConnection node_id=0 host=ubuntu:9092 <connected> [IPv4 ('127.0.1.1', 9092)]>: Closing connection. \n"
     ]
    },
    {
     "name": "stdout",
     "output_type": "stream",
     "text": [
      "topic=my_topic partition=0 offset=2992: key=None value={'number_1': '6.479320266646382,-22.19621590785185,34.496641885928,18.297010643276646,-28.215925670863854'}\n"
     ]
    },
    {
     "name": "stderr",
     "output_type": "stream",
     "text": [
      "2019-08-17 17:29:45,600.600.9507179260254:kafka.conn:139956890081024:INFO:1998:<BrokerConnection node_id=0 host=ubuntu:9092 <connecting> [IPv4 ('127.0.1.1', 9092)]>: connecting to ubuntu:9092 [('127.0.1.1', 9092) IPv4]\n",
      "2019-08-17 17:29:45,602.602.515697479248:kafka.conn:139956971476736:INFO:2000:Broker version identifed as 1.0.0\n",
      "2019-08-17 17:29:45,603.603.3871173858643:kafka.conn:139956971476736:INFO:1998:<BrokerConnection node_id=bootstrap-0 host=localhost:9092 <connecting> [IPv6 ('::1', 9092, 0, 0)]>: connecting to localhost:9092 [('::1', 9092, 0, 0) IPv6]\n",
      "2019-08-17 17:29:45,604.604.0871143341064:kafka.conn:139956971476736:INFO:2000:Set configuration api_version=(1, 0, 0) to skip auto check_version requests on startup\n",
      "2019-08-17 17:29:45,605.605.0703525543213:kafka.conn:139956890081024:INFO:1998:<BrokerConnection node_id=0 host=ubuntu:9092 <connecting> [IPv4 ('127.0.1.1', 9092)]>: Connection complete.\n",
      "2019-08-17 17:29:45,605.605.9868335723877:kafka.conn:139956971476736:INFO:1998:Probing node bootstrap-0 broker version\n",
      "2019-08-17 17:29:45,609.609.7414493560791:kafka.producer.kafka:139956971476736:INFO:2000:Closing the Kafka producer with 0 secs timeout.\n",
      "2019-08-17 17:29:45,607.607.7306270599365:kafka.conn:139956890081024:INFO:1998:<BrokerConnection node_id=bootstrap-0 host=localhost:9092 <connected> [IPv6 ('::1', 9092, 0, 0)]>: Closing connection. \n",
      "2019-08-17 17:29:45,609.609.642505645752:kafka.conn:139956971476736:INFO:1998:<BrokerConnection node_id=bootstrap-0 host=localhost:9092 <connecting> [IPv6 ('::1', 9092, 0, 0)]>: Connection complete.\n",
      "2019-08-17 17:29:45,613.613.689661026001:kafka.producer.kafka:139956971476736:INFO:2000:Proceeding to force close the producer since pending requests could not be completed within timeout 0.\n"
     ]
    },
    {
     "name": "stdout",
     "output_type": "stream",
     "text": [
      "topic : result , partition : 0 , offset : 948\n"
     ]
    },
    {
     "name": "stderr",
     "output_type": "stream",
     "text": [
      "2019-08-17 17:29:45,615.615.6661510467529:kafka.conn:139954529236736:INFO:2000:<BrokerConnection node_id=0 host=ubuntu:9092 <connected> [IPv4 ('127.0.1.1', 9092)]>: Closing connection. \n"
     ]
    },
    {
     "name": "stdout",
     "output_type": "stream",
     "text": [
      "topic=my-topic partition=0 offset=2392: key=None value={'number_2': '0.8576621543454964,4.499490028298262,4.6990265360222665,-12.407727327117655,9.512843226461486'}\n"
     ]
    },
    {
     "name": "stderr",
     "output_type": "stream",
     "text": [
      "2019-08-17 17:29:45,621.621.2162971496582:kafka.conn:139956881688320:INFO:2000:<BrokerConnection node_id=0 host=ubuntu:9092 <connecting> [IPv4 ('127.0.1.1', 9092)]>: connecting to ubuntu:9092 [('127.0.1.1', 9092) IPv4]\n",
      "2019-08-17 17:29:45,622.622.2891807556152:kafka.conn:139956971476736:INFO:2000:<BrokerConnection node_id=bootstrap-0 host=localhost:9092 <connecting> [IPv6 ('::1', 9092, 0, 0)]>: connecting to localhost:9092 [('::1', 9092, 0, 0) IPv6]\n",
      "2019-08-17 17:29:45,623.623.326301574707:kafka.conn:139956881688320:INFO:2000:<BrokerConnection node_id=0 host=ubuntu:9092 <connecting> [IPv4 ('127.0.1.1', 9092)]>: Connection complete.\n",
      "2019-08-17 17:29:45,624.624.8617172241211:kafka.conn:139956971476736:INFO:2000:Probing node bootstrap-0 broker version\n",
      "2019-08-17 17:29:45,626.626.244068145752:kafka.conn:139956881688320:INFO:2000:<BrokerConnection node_id=bootstrap-0 host=localhost:9092 <connected> [IPv6 ('::1', 9092, 0, 0)]>: Closing connection. \n",
      "2019-08-17 17:29:45,627.627.9137134552002:kafka.conn:139956971476736:INFO:2000:<BrokerConnection node_id=bootstrap-0 host=localhost:9092 <connecting> [IPv6 ('::1', 9092, 0, 0)]>: Connection complete.\n"
     ]
    },
    {
     "name": "stdout",
     "output_type": "stream",
     "text": [
      "topic : result , partition : 0 , offset : 949\n"
     ]
    },
    {
     "name": "stderr",
     "output_type": "stream",
     "text": [
      "2019-08-17 17:29:45,718.718.7094688415527:kafka.conn:139956971476736:INFO:1998:Broker version identifed as 1.0.0\n",
      "2019-08-17 17:29:45,720.720.3996181488037:kafka.conn:139956971476736:INFO:1998:Set configuration api_version=(1, 0, 0) to skip auto check_version requests on startup\n",
      "2019-08-17 17:29:45,724.724.7281074523926:kafka.producer.kafka:139956971476736:INFO:1998:Closing the Kafka producer with 0 secs timeout.\n",
      "2019-08-17 17:29:45,728.728.7144660949707:kafka.producer.kafka:139956971476736:INFO:1998:Proceeding to force close the producer since pending requests could not be completed within timeout 0.\n",
      "2019-08-17 17:29:45,730.730.6628227233887:kafka.conn:139956890081024:INFO:1998:<BrokerConnection node_id=0 host=ubuntu:9092 <connected> [IPv4 ('127.0.1.1', 9092)]>: Closing connection. \n"
     ]
    },
    {
     "name": "stdout",
     "output_type": "stream",
     "text": [
      "topic=my_topic partition=0 offset=2993: key=None value={'number_1': '-44.40532499364956,-16.6073798537781,-0.9664089152075324,-4.651185520409843,1.5877203993738824'}\n"
     ]
    },
    {
     "name": "stderr",
     "output_type": "stream",
     "text": [
      "2019-08-17 17:29:45,735.735.1295948028564:kafka.conn:139956971476736:INFO:2000:Broker version identifed as 1.0.0\n",
      "2019-08-17 17:29:45,735.735.4087829589844:kafka.conn:139956881688320:INFO:1998:<BrokerConnection node_id=0 host=ubuntu:9092 <connecting> [IPv4 ('127.0.1.1', 9092)]>: connecting to ubuntu:9092 [('127.0.1.1', 9092) IPv4]\n",
      "2019-08-17 17:29:45,736.736.9563579559326:kafka.conn:139956971476736:INFO:2000:Set configuration api_version=(1, 0, 0) to skip auto check_version requests on startup\n",
      "2019-08-17 17:29:45,738.738.4929656982422:kafka.conn:139956971476736:INFO:1998:<BrokerConnection node_id=bootstrap-0 host=localhost:9092 <connecting> [IPv6 ('::1', 9092, 0, 0)]>: connecting to localhost:9092 [('::1', 9092, 0, 0) IPv6]\n",
      "2019-08-17 17:29:45,738.738.8827800750732:kafka.conn:139956881688320:INFO:1998:<BrokerConnection node_id=0 host=ubuntu:9092 <connecting> [IPv4 ('127.0.1.1', 9092)]>: Connection complete.\n",
      "2019-08-17 17:29:45,741.741.2328720092773:kafka.producer.kafka:139956971476736:INFO:2000:Closing the Kafka producer with 0 secs timeout.\n",
      "2019-08-17 17:29:45,740.740.57936668396:kafka.conn:139956971476736:INFO:1998:Probing node bootstrap-0 broker version\n",
      "2019-08-17 17:29:45,745.745.0301647186279:kafka.producer.kafka:139956971476736:INFO:2000:Proceeding to force close the producer since pending requests could not be completed within timeout 0.\n",
      "2019-08-17 17:29:45,742.742.1829700469971:kafka.conn:139956881688320:INFO:1998:<BrokerConnection node_id=bootstrap-0 host=localhost:9092 <connected> [IPv6 ('::1', 9092, 0, 0)]>: Closing connection. \n",
      "2019-08-17 17:29:45,746.746.8514442443848:kafka.conn:139956881688320:INFO:2000:<BrokerConnection node_id=0 host=ubuntu:9092 <connected> [IPv4 ('127.0.1.1', 9092)]>: Closing connection. \n",
      "2019-08-17 17:29:45,745.745.7213401794434:kafka.conn:139956971476736:INFO:1998:<BrokerConnection node_id=bootstrap-0 host=localhost:9092 <connecting> [IPv6 ('::1', 9092, 0, 0)]>: Connection complete.\n"
     ]
    },
    {
     "name": "stdout",
     "output_type": "stream",
     "text": [
      "topic : result , partition : 0 , offset : 950\n",
      "topic=my-topic partition=0 offset=2393: key=None value={'number_2': '-5.909723284808386,12.831981782017882,3.4353551362154287,-6.648242607989902,-1.280745209179672'}\n"
     ]
    },
    {
     "name": "stderr",
     "output_type": "stream",
     "text": [
      "2019-08-17 17:29:45,751.751.3992786407471:kafka.conn:139954529236736:INFO:2000:<BrokerConnection node_id=0 host=ubuntu:9092 <connecting> [IPv4 ('127.0.1.1', 9092)]>: connecting to ubuntu:9092 [('127.0.1.1', 9092) IPv4]\n",
      "2019-08-17 17:29:45,753.753.9222240447998:kafka.conn:139956971476736:INFO:2000:<BrokerConnection node_id=bootstrap-0 host=localhost:9092 <connecting> [IPv6 ('::1', 9092, 0, 0)]>: connecting to localhost:9092 [('::1', 9092, 0, 0) IPv6]\n",
      "2019-08-17 17:29:45,755.755.1541328430176:kafka.conn:139954529236736:INFO:2000:<BrokerConnection node_id=0 host=ubuntu:9092 <connecting> [IPv4 ('127.0.1.1', 9092)]>: Connection complete.\n",
      "2019-08-17 17:29:45,756.756.3364505767822:kafka.conn:139956971476736:INFO:2000:Probing node bootstrap-0 broker version\n",
      "2019-08-17 17:29:45,757.757.1477890014648:kafka.conn:139954529236736:INFO:2000:<BrokerConnection node_id=bootstrap-0 host=localhost:9092 <connected> [IPv6 ('::1', 9092, 0, 0)]>: Closing connection. \n",
      "2019-08-17 17:29:45,758.758.7788105010986:kafka.conn:139956971476736:INFO:2000:<BrokerConnection node_id=bootstrap-0 host=localhost:9092 <connecting> [IPv6 ('::1', 9092, 0, 0)]>: Connection complete.\n"
     ]
    },
    {
     "name": "stdout",
     "output_type": "stream",
     "text": [
      "topic : result , partition : 0 , offset : 951\n"
     ]
    },
    {
     "name": "stderr",
     "output_type": "stream",
     "text": [
      "2019-08-17 17:29:45,853.853.9421558380127:kafka.conn:139956971476736:INFO:1998:Broker version identifed as 1.0.0\n",
      "2019-08-17 17:29:45,855.855.6845188140869:kafka.conn:139956971476736:INFO:1998:Set configuration api_version=(1, 0, 0) to skip auto check_version requests on startup\n",
      "2019-08-17 17:29:45,860.860.2228164672852:kafka.producer.kafka:139956971476736:INFO:1998:Closing the Kafka producer with 0 secs timeout.\n",
      "2019-08-17 17:29:45,864.864.2327785491943:kafka.producer.kafka:139956971476736:INFO:1998:Proceeding to force close the producer since pending requests could not be completed within timeout 0.\n",
      "2019-08-17 17:29:45,865.865.792989730835:kafka.conn:139956971476736:INFO:2000:Broker version identifed as 1.0.0\n",
      "2019-08-17 17:29:45,866.866.2095069885254:kafka.conn:139956881688320:INFO:1998:<BrokerConnection node_id=0 host=ubuntu:9092 <connected> [IPv4 ('127.0.1.1', 9092)]>: Closing connection. \n",
      "2019-08-17 17:29:45,867.867.3949241638184:kafka.conn:139956971476736:INFO:2000:Set configuration api_version=(1, 0, 0) to skip auto check_version requests on startup\n"
     ]
    },
    {
     "name": "stdout",
     "output_type": "stream",
     "text": [
      "topic=my_topic partition=0 offset=2994: key=None value={'number_1': '14.686371050641206,30.407588255018307,-10.093636566547119,3.5944577854394977,36.84890088708855'}\n"
     ]
    },
    {
     "name": "stderr",
     "output_type": "stream",
     "text": [
      "2019-08-17 17:29:45,871.871.7782497406006:kafka.producer.kafka:139956971476736:INFO:2000:Closing the Kafka producer with 0 secs timeout.\n",
      "2019-08-17 17:29:45,870.870.5275058746338:kafka.conn:139956890081024:INFO:1998:<BrokerConnection node_id=0 host=ubuntu:9092 <connecting> [IPv4 ('127.0.1.1', 9092)]>: connecting to ubuntu:9092 [('127.0.1.1', 9092) IPv4]\n",
      "2019-08-17 17:29:45,873.873.8574981689453:kafka.conn:139956971476736:INFO:1998:<BrokerConnection node_id=bootstrap-0 host=localhost:9092 <connecting> [IPv6 ('::1', 9092, 0, 0)]>: connecting to localhost:9092 [('::1', 9092, 0, 0) IPv6]\n",
      "2019-08-17 17:29:45,875.875.1749992370605:kafka.conn:139956890081024:INFO:1998:<BrokerConnection node_id=0 host=ubuntu:9092 <connecting> [IPv4 ('127.0.1.1', 9092)]>: Connection complete.\n",
      "2019-08-17 17:29:45,875.875.8866786956787:kafka.producer.kafka:139956971476736:INFO:2000:Proceeding to force close the producer since pending requests could not be completed within timeout 0.\n",
      "2019-08-17 17:29:45,875.875.8301734924316:kafka.conn:139956971476736:INFO:1998:Probing node bootstrap-0 broker version\n",
      "2019-08-17 17:29:45,877.877.7730464935303:kafka.conn:139954529236736:INFO:2000:<BrokerConnection node_id=0 host=ubuntu:9092 <connected> [IPv4 ('127.0.1.1', 9092)]>: Closing connection. \n",
      "2019-08-17 17:29:45,877.877.6183128356934:kafka.conn:139956890081024:INFO:1998:<BrokerConnection node_id=bootstrap-0 host=localhost:9092 <connected> [IPv6 ('::1', 9092, 0, 0)]>: Closing connection. \n",
      "2019-08-17 17:29:45,879.879.6553611755371:kafka.conn:139956971476736:INFO:1998:<BrokerConnection node_id=bootstrap-0 host=localhost:9092 <connecting> [IPv6 ('::1', 9092, 0, 0)]>: Connection complete.\n"
     ]
    },
    {
     "name": "stdout",
     "output_type": "stream",
     "text": [
      "topic=my-topic partition=0 offset=2394: key=None value={'number_2': '-9.85427243995434,-9.204681631561298,0.7398537952000703,-17.14342860813661,1.3330483692655768'}\n"
     ]
    },
    {
     "name": "stderr",
     "output_type": "stream",
     "text": [
      "2019-08-17 17:29:45,882.882.4779987335205:kafka.conn:139956881688320:INFO:2000:<BrokerConnection node_id=0 host=ubuntu:9092 <connecting> [IPv4 ('127.0.1.1', 9092)]>: connecting to ubuntu:9092 [('127.0.1.1', 9092) IPv4]\n"
     ]
    },
    {
     "name": "stdout",
     "output_type": "stream",
     "text": [
      "topic : result , partition : 0 , offset : 952\n"
     ]
    },
    {
     "name": "stderr",
     "output_type": "stream",
     "text": [
      "2019-08-17 17:29:45,885.885.1988315582275:kafka.conn:139956881688320:INFO:2000:<BrokerConnection node_id=0 host=ubuntu:9092 <connecting> [IPv4 ('127.0.1.1', 9092)]>: Connection complete.\n",
      "2019-08-17 17:29:45,886.886.3101005554199:kafka.conn:139956971476736:INFO:2000:<BrokerConnection node_id=bootstrap-0 host=localhost:9092 <connecting> [IPv6 ('::1', 9092, 0, 0)]>: connecting to localhost:9092 [('::1', 9092, 0, 0) IPv6]\n",
      "2019-08-17 17:29:45,886.886.9495391845703:kafka.conn:139956881688320:INFO:2000:<BrokerConnection node_id=bootstrap-0 host=localhost:9092 <connected> [IPv6 ('::1', 9092, 0, 0)]>: Closing connection. \n",
      "2019-08-17 17:29:45,888.888.634443283081:kafka.conn:139956971476736:INFO:2000:Probing node bootstrap-0 broker version\n",
      "2019-08-17 17:29:45,892.892.8289413452148:kafka.conn:139956971476736:INFO:2000:<BrokerConnection node_id=bootstrap-0 host=localhost:9092 <connecting> [IPv6 ('::1', 9092, 0, 0)]>: Connection complete.\n"
     ]
    },
    {
     "name": "stdout",
     "output_type": "stream",
     "text": [
      "topic : result , partition : 0 , offset : 953\n"
     ]
    },
    {
     "name": "stderr",
     "output_type": "stream",
     "text": [
      "2019-08-17 17:29:45,988.988.116979598999:kafka.conn:139956971476736:INFO:1998:Broker version identifed as 1.0.0\n",
      "2019-08-17 17:29:45,990.990.2217388153076:kafka.conn:139956971476736:INFO:1998:Set configuration api_version=(1, 0, 0) to skip auto check_version requests on startup\n",
      "2019-08-17 17:29:45,995.995.844841003418:kafka.producer.kafka:139956971476736:INFO:1998:Closing the Kafka producer with 0 secs timeout.\n",
      "2019-08-17 17:29:45,998.998.4269142150879:kafka.conn:139956971476736:INFO:2000:Broker version identifed as 1.0.0\n",
      "2019-08-17 17:29:45,999.999.7138977050781:kafka.producer.kafka:139956971476736:INFO:1998:Proceeding to force close the producer since pending requests could not be completed within timeout 0.\n",
      "2019-08-17 17:29:46,000.0.24938583374023438:kafka.conn:139956971476736:INFO:2000:Set configuration api_version=(1, 0, 0) to skip auto check_version requests on startup\n",
      "2019-08-17 17:29:46,001.1.67083740234375:kafka.conn:139956890081024:INFO:1998:<BrokerConnection node_id=0 host=ubuntu:9092 <connected> [IPv4 ('127.0.1.1', 9092)]>: Closing connection. \n"
     ]
    },
    {
     "name": "stdout",
     "output_type": "stream",
     "text": [
      "topic=my_topic partition=0 offset=2995: key=None value={'number_1': '-16.742644955413176,11.346019262620299,37.38069037858274,-44.80080989078543,-18.508647390532236'}\n"
     ]
    },
    {
     "name": "stderr",
     "output_type": "stream",
     "text": [
      "2019-08-17 17:29:46,006.6.058216094970703:kafka.conn:139956881688320:INFO:1998:<BrokerConnection node_id=0 host=ubuntu:9092 <connecting> [IPv4 ('127.0.1.1', 9092)]>: connecting to ubuntu:9092 [('127.0.1.1', 9092) IPv4]\n",
      "2019-08-17 17:29:46,005.5.908966064453125:kafka.producer.kafka:139956971476736:INFO:2000:Closing the Kafka producer with 0 secs timeout.\n",
      "2019-08-17 17:29:46,008.8.464574813842773:kafka.conn:139956971476736:INFO:1998:<BrokerConnection node_id=bootstrap-0 host=localhost:9092 <connecting> [IPv6 ('::1', 9092, 0, 0)]>: connecting to localhost:9092 [('::1', 9092, 0, 0) IPv6]\n",
      "2019-08-17 17:29:46,008.8.809804916381836:kafka.conn:139956881688320:INFO:1998:<BrokerConnection node_id=0 host=ubuntu:9092 <connecting> [IPv4 ('127.0.1.1', 9092)]>: Connection complete.\n",
      "2019-08-17 17:29:46,010.10.236978530883789:kafka.producer.kafka:139956971476736:INFO:2000:Proceeding to force close the producer since pending requests could not be completed within timeout 0.\n",
      "2019-08-17 17:29:46,010.10.415315628051758:kafka.conn:139956971476736:INFO:1998:Probing node bootstrap-0 broker version\n",
      "2019-08-17 17:29:46,012.12.340545654296875:kafka.conn:139956881688320:INFO:2000:<BrokerConnection node_id=0 host=ubuntu:9092 <connected> [IPv4 ('127.0.1.1', 9092)]>: Closing connection. \n",
      "2019-08-17 17:29:46,011.11.948347091674805:kafka.conn:139956881688320:INFO:1998:<BrokerConnection node_id=bootstrap-0 host=localhost:9092 <connected> [IPv6 ('::1', 9092, 0, 0)]>: Closing connection. \n"
     ]
    },
    {
     "name": "stdout",
     "output_type": "stream",
     "text": [
      "topic=my-topic partition=0 offset=2395: key=None value={'number_2': '-16.048137556540357,-0.7631486215274697,-9.833235147427102,9.419184611843978,-7.1544548002731565'}\n"
     ]
    },
    {
     "name": "stderr",
     "output_type": "stream",
     "text": [
      "2019-08-17 17:29:46,013.13.999462127685547:kafka.conn:139956971476736:INFO:1998:<BrokerConnection node_id=bootstrap-0 host=localhost:9092 <connecting> [IPv6 ('::1', 9092, 0, 0)]>: Connection complete.\n",
      "2019-08-17 17:29:46,016.16.804933547973633:kafka.conn:139954520844032:INFO:2000:<BrokerConnection node_id=0 host=ubuntu:9092 <connecting> [IPv4 ('127.0.1.1', 9092)]>: connecting to ubuntu:9092 [('127.0.1.1', 9092) IPv4]\n"
     ]
    },
    {
     "name": "stdout",
     "output_type": "stream",
     "text": [
      "topic : result , partition : 0 , offset : 954\n"
     ]
    },
    {
     "name": "stderr",
     "output_type": "stream",
     "text": [
      "2019-08-17 17:29:46,019.19.840002059936523:kafka.conn:139956971476736:INFO:2000:<BrokerConnection node_id=bootstrap-0 host=localhost:9092 <connecting> [IPv6 ('::1', 9092, 0, 0)]>: connecting to localhost:9092 [('::1', 9092, 0, 0) IPv6]\n",
      "2019-08-17 17:29:46,021.21.445751190185547:kafka.conn:139954520844032:INFO:2000:<BrokerConnection node_id=0 host=ubuntu:9092 <connecting> [IPv4 ('127.0.1.1', 9092)]>: Connection complete.\n",
      "2019-08-17 17:29:46,022.22.2017765045166:kafka.conn:139956971476736:INFO:2000:Probing node bootstrap-0 broker version\n",
      "2019-08-17 17:29:46,023.23.93651008605957:kafka.conn:139954520844032:INFO:2000:<BrokerConnection node_id=bootstrap-0 host=localhost:9092 <connected> [IPv6 ('::1', 9092, 0, 0)]>: Closing connection. \n",
      "2019-08-17 17:29:46,026.26.58820152282715:kafka.conn:139956971476736:INFO:2000:<BrokerConnection node_id=bootstrap-0 host=localhost:9092 <connecting> [IPv6 ('::1', 9092, 0, 0)]>: Connection complete.\n"
     ]
    },
    {
     "name": "stdout",
     "output_type": "stream",
     "text": [
      "topic : result , partition : 0 , offset : 955\n"
     ]
    },
    {
     "name": "stderr",
     "output_type": "stream",
     "text": [
      "2019-08-17 17:29:46,123.123.25763702392578:kafka.conn:139956971476736:INFO:1998:Broker version identifed as 1.0.0\n",
      "2019-08-17 17:29:46,124.124.97210502624512:kafka.conn:139956971476736:INFO:1998:Set configuration api_version=(1, 0, 0) to skip auto check_version requests on startup\n",
      "2019-08-17 17:29:46,129.129.17327880859375:kafka.producer.kafka:139956971476736:INFO:1998:Closing the Kafka producer with 0 secs timeout.\n",
      "2019-08-17 17:29:46,133.133.10003280639648:kafka.conn:139956971476736:INFO:2000:Broker version identifed as 1.0.0\n",
      "2019-08-17 17:29:46,133.133.4521770477295:kafka.producer.kafka:139956971476736:INFO:1998:Proceeding to force close the producer since pending requests could not be completed within timeout 0.\n",
      "2019-08-17 17:29:46,134.134.55772399902344:kafka.conn:139956971476736:INFO:2000:Set configuration api_version=(1, 0, 0) to skip auto check_version requests on startup\n",
      "2019-08-17 17:29:46,135.135.2517604827881:kafka.conn:139956881688320:INFO:1998:<BrokerConnection node_id=0 host=ubuntu:9092 <connected> [IPv4 ('127.0.1.1', 9092)]>: Closing connection. \n"
     ]
    },
    {
     "name": "stdout",
     "output_type": "stream",
     "text": [
      "topic=my_topic partition=0 offset=2996: key=None value={'number_1': '-16.983319764403632,19.05777380770143,1.591996110783727,38.16575386475995,38.21599397092024'}\n"
     ]
    },
    {
     "name": "stderr",
     "output_type": "stream",
     "text": [
      "2019-08-17 17:29:46,138.138.89813423156738:kafka.producer.kafka:139956971476736:INFO:2000:Closing the Kafka producer with 0 secs timeout.\n",
      "2019-08-17 17:29:46,139.139.67037200927734:kafka.conn:139956890081024:INFO:1998:<BrokerConnection node_id=0 host=ubuntu:9092 <connecting> [IPv4 ('127.0.1.1', 9092)]>: connecting to ubuntu:9092 [('127.0.1.1', 9092) IPv4]\n",
      "2019-08-17 17:29:46,143.143.46027374267578:kafka.producer.kafka:139956971476736:INFO:2000:Proceeding to force close the producer since pending requests could not be completed within timeout 0.\n",
      "2019-08-17 17:29:46,142.142.98415184020996:kafka.conn:139956971476736:INFO:1998:<BrokerConnection node_id=bootstrap-0 host=localhost:9092 <connecting> [IPv6 ('::1', 9092, 0, 0)]>: connecting to localhost:9092 [('::1', 9092, 0, 0) IPv6]\n",
      "2019-08-17 17:29:46,145.145.369291305542:kafka.conn:139954520844032:INFO:2000:<BrokerConnection node_id=0 host=ubuntu:9092 <connected> [IPv4 ('127.0.1.1', 9092)]>: Closing connection. \n",
      "2019-08-17 17:29:46,143.143.81980895996094:kafka.conn:139956890081024:INFO:1998:<BrokerConnection node_id=0 host=ubuntu:9092 <connecting> [IPv4 ('127.0.1.1', 9092)]>: Connection complete.\n",
      "2019-08-17 17:29:46,145.145.6465721130371:kafka.conn:139956971476736:INFO:1998:Probing node bootstrap-0 broker version\n"
     ]
    },
    {
     "name": "stdout",
     "output_type": "stream",
     "text": [
      "topic=my-topic partition=0 offset=2396: key=None value={'number_2': '-19.462355457213448,2.706707752347546,10.096757110184782,3.7344984702239215,7.945886239573806'}\n"
     ]
    },
    {
     "name": "stderr",
     "output_type": "stream",
     "text": [
      "2019-08-17 17:29:46,147.147.3388671875:kafka.conn:139956890081024:INFO:1998:<BrokerConnection node_id=bootstrap-0 host=localhost:9092 <connected> [IPv6 ('::1', 9092, 0, 0)]>: Closing connection. \n",
      "2019-08-17 17:29:46,151.151.14259719848633:kafka.conn:139956881688320:INFO:2000:<BrokerConnection node_id=0 host=ubuntu:9092 <connecting> [IPv4 ('127.0.1.1', 9092)]>: connecting to ubuntu:9092 [('127.0.1.1', 9092) IPv4]\n",
      "2019-08-17 17:29:46,149.149.22308921813965:kafka.conn:139956971476736:INFO:1998:<BrokerConnection node_id=bootstrap-0 host=localhost:9092 <connecting> [IPv6 ('::1', 9092, 0, 0)]>: Connection complete.\n",
      "2019-08-17 17:29:46,152.152.32205390930176:kafka.conn:139956971476736:INFO:2000:<BrokerConnection node_id=bootstrap-0 host=localhost:9092 <connecting> [IPv6 ('::1', 9092, 0, 0)]>: connecting to localhost:9092 [('::1', 9092, 0, 0) IPv6]\n"
     ]
    },
    {
     "name": "stdout",
     "output_type": "stream",
     "text": [
      "topic : result , partition : 0 , offset : 956\n"
     ]
    },
    {
     "name": "stderr",
     "output_type": "stream",
     "text": [
      "2019-08-17 17:29:46,153.153.99980545043945:kafka.conn:139956881688320:INFO:2000:<BrokerConnection node_id=0 host=ubuntu:9092 <connecting> [IPv4 ('127.0.1.1', 9092)]>: Connection complete.\n",
      "2019-08-17 17:29:46,154.154.68192100524902:kafka.conn:139956971476736:INFO:2000:Probing node bootstrap-0 broker version\n",
      "2019-08-17 17:29:46,156.156.28647804260254:kafka.conn:139956881688320:INFO:2000:<BrokerConnection node_id=bootstrap-0 host=localhost:9092 <connected> [IPv6 ('::1', 9092, 0, 0)]>: Closing connection. \n",
      "2019-08-17 17:29:46,158.158.94341468811035:kafka.conn:139956971476736:INFO:2000:<BrokerConnection node_id=bootstrap-0 host=localhost:9092 <connecting> [IPv6 ('::1', 9092, 0, 0)]>: Connection complete.\n"
     ]
    },
    {
     "name": "stdout",
     "output_type": "stream",
     "text": [
      "topic : result , partition : 0 , offset : 957\n"
     ]
    },
    {
     "name": "stderr",
     "output_type": "stream",
     "text": [
      "2019-08-17 17:29:46,257.257.7342987060547:kafka.conn:139956971476736:INFO:1998:Broker version identifed as 1.0.0\n",
      "2019-08-17 17:29:46,259.259.43851470947266:kafka.conn:139956971476736:INFO:1998:Set configuration api_version=(1, 0, 0) to skip auto check_version requests on startup\n",
      "2019-08-17 17:29:46,263.263.60106468200684:kafka.producer.kafka:139956971476736:INFO:1998:Closing the Kafka producer with 0 secs timeout.\n",
      "2019-08-17 17:29:46,266.266.61086082458496:kafka.conn:139956971476736:INFO:2000:Broker version identifed as 1.0.0\n",
      "2019-08-17 17:29:46,267.267.78101921081543:kafka.producer.kafka:139956971476736:INFO:1998:Proceeding to force close the producer since pending requests could not be completed within timeout 0.\n",
      "2019-08-17 17:29:46,268.268.4183120727539:kafka.conn:139956971476736:INFO:2000:Set configuration api_version=(1, 0, 0) to skip auto check_version requests on startup\n",
      "2019-08-17 17:29:46,269.269.98376846313477:kafka.conn:139956890081024:INFO:1998:<BrokerConnection node_id=0 host=ubuntu:9092 <connected> [IPv4 ('127.0.1.1', 9092)]>: Closing connection. \n",
      "2019-08-17 17:29:46,272.272.80616760253906:kafka.producer.kafka:139956971476736:INFO:2000:Closing the Kafka producer with 0 secs timeout.\n"
     ]
    },
    {
     "name": "stdout",
     "output_type": "stream",
     "text": [
      "topic=my_topic partition=0 offset=2997: key=None value={'number_1': '1.042930689010964,-20.425341951614072,26.256579029335875,13.546130386593555,1.2631620737578935'}\n"
     ]
    },
    {
     "name": "stderr",
     "output_type": "stream",
     "text": [
      "2019-08-17 17:29:46,274.274.64890480041504:kafka.conn:139956881688320:INFO:1998:<BrokerConnection node_id=0 host=ubuntu:9092 <connecting> [IPv4 ('127.0.1.1', 9092)]>: connecting to ubuntu:9092 [('127.0.1.1', 9092) IPv4]\n",
      "2019-08-17 17:29:46,276.276.8559455871582:kafka.producer.kafka:139956971476736:INFO:2000:Proceeding to force close the producer since pending requests could not be completed within timeout 0.\n",
      "2019-08-17 17:29:46,278.278.19085121154785:kafka.conn:139956881688320:INFO:1998:<BrokerConnection node_id=0 host=ubuntu:9092 <connecting> [IPv4 ('127.0.1.1', 9092)]>: Connection complete.\n",
      "2019-08-17 17:29:46,278.278.77354621887207:kafka.conn:139956881688320:INFO:2000:<BrokerConnection node_id=0 host=ubuntu:9092 <connected> [IPv4 ('127.0.1.1', 9092)]>: Closing connection. \n",
      "2019-08-17 17:29:46,278.278.4755229949951:kafka.conn:139956971476736:INFO:1998:<BrokerConnection node_id=bootstrap-0 host=localhost:9092 <connecting> [IPv6 ('::1', 9092, 0, 0)]>: connecting to localhost:9092 [('::1', 9092, 0, 0) IPv6]\n",
      "2019-08-17 17:29:46,279.279.9551486968994:kafka.conn:139956881688320:INFO:1998:<BrokerConnection node_id=bootstrap-0 host=localhost:9092 <connected> [IPv6 ('::1', 9092, 0, 0)]>: Closing connection. \n"
     ]
    },
    {
     "name": "stdout",
     "output_type": "stream",
     "text": [
      "topic=my-topic partition=0 offset=2397: key=None value={'number_2': '-13.529109160500461,10.84419634297792,4.35166847929764,-16.24836432621655,-17.77372123766716'}\n"
     ]
    },
    {
     "name": "stderr",
     "output_type": "stream",
     "text": [
      "2019-08-17 17:29:46,282.282.5593948364258:kafka.conn:139954520844032:INFO:2000:<BrokerConnection node_id=0 host=ubuntu:9092 <connecting> [IPv4 ('127.0.1.1', 9092)]>: connecting to ubuntu:9092 [('127.0.1.1', 9092) IPv4]\n",
      "2019-08-17 17:29:46,281.281.766414642334:kafka.conn:139956971476736:INFO:1998:Probing node bootstrap-0 broker version\n",
      "2019-08-17 17:29:46,286.286.5269184112549:kafka.conn:139954520844032:INFO:2000:<BrokerConnection node_id=0 host=ubuntu:9092 <connecting> [IPv4 ('127.0.1.1', 9092)]>: Connection complete.\n"
     ]
    },
    {
     "name": "stdout",
     "output_type": "stream",
     "text": [
      "topic : result , partition : 0 , offset : 958\n"
     ]
    },
    {
     "name": "stderr",
     "output_type": "stream",
     "text": [
      "2019-08-17 17:29:46,287.287.3532772064209:kafka.conn:139956971476736:INFO:1998:<BrokerConnection node_id=bootstrap-0 host=localhost:9092 <connecting> [IPv6 ('::1', 9092, 0, 0)]>: Connection complete.\n",
      "2019-08-17 17:29:46,287.287.4588966369629:kafka.conn:139956971476736:INFO:2000:<BrokerConnection node_id=bootstrap-0 host=localhost:9092 <connecting> [IPv6 ('::1', 9092, 0, 0)]>: connecting to localhost:9092 [('::1', 9092, 0, 0) IPv6]\n",
      "2019-08-17 17:29:46,288.288.0973815917969:kafka.conn:139954520844032:INFO:2000:<BrokerConnection node_id=bootstrap-0 host=localhost:9092 <connected> [IPv6 ('::1', 9092, 0, 0)]>: Closing connection. \n",
      "2019-08-17 17:29:46,289.289.780855178833:kafka.conn:139956971476736:INFO:2000:Probing node bootstrap-0 broker version\n"
     ]
    },
    {
     "name": "stdout",
     "output_type": "stream",
     "text": [
      "topic : result , partition : 0 , offset : 959\n"
     ]
    },
    {
     "name": "stderr",
     "output_type": "stream",
     "text": [
      "2019-08-17 17:29:46,294.294.54636573791504:kafka.conn:139956971476736:INFO:2000:<BrokerConnection node_id=bootstrap-0 host=localhost:9092 <connecting> [IPv6 ('::1', 9092, 0, 0)]>: Connection complete.\n",
      "2019-08-17 17:29:46,392.392.425537109375:kafka.conn:139956971476736:INFO:1998:Broker version identifed as 1.0.0\n",
      "2019-08-17 17:29:46,394.394.0742015838623:kafka.conn:139956971476736:INFO:1998:Set configuration api_version=(1, 0, 0) to skip auto check_version requests on startup\n",
      "2019-08-17 17:29:46,399.399.44911003112793:kafka.producer.kafka:139956971476736:INFO:1998:Closing the Kafka producer with 0 secs timeout.\n",
      "2019-08-17 17:29:46,399.399.4462490081787:kafka.conn:139956971476736:INFO:2000:Broker version identifed as 1.0.0\n",
      "2019-08-17 17:29:46,401.401.08776092529297:kafka.conn:139956971476736:INFO:2000:Set configuration api_version=(1, 0, 0) to skip auto check_version requests on startup\n",
      "2019-08-17 17:29:46,403.403.40590476989746:kafka.producer.kafka:139956971476736:INFO:1998:Proceeding to force close the producer since pending requests could not be completed within timeout 0.\n",
      "2019-08-17 17:29:46,405.405.23791313171387:kafka.conn:139956881688320:INFO:1998:<BrokerConnection node_id=0 host=ubuntu:9092 <connected> [IPv4 ('127.0.1.1', 9092)]>: Closing connection. \n",
      "2019-08-17 17:29:46,406.406.5396785736084:kafka.producer.kafka:139956971476736:INFO:2000:Closing the Kafka producer with 0 secs timeout.\n"
     ]
    },
    {
     "name": "stdout",
     "output_type": "stream",
     "text": [
      "topic=my_topic partition=0 offset=2998: key=None value={'number_1': '-34.19880207158702,-23.31294015397831,4.82434723411703,18.164898032418616,17.282028429034355'}\n"
     ]
    },
    {
     "name": "stderr",
     "output_type": "stream",
     "text": [
      "2019-08-17 17:29:46,409.409.49511528015137:kafka.conn:139956890081024:INFO:1998:<BrokerConnection node_id=0 host=ubuntu:9092 <connecting> [IPv4 ('127.0.1.1', 9092)]>: connecting to ubuntu:9092 [('127.0.1.1', 9092) IPv4]\n",
      "2019-08-17 17:29:46,410.410.3705883026123:kafka.producer.kafka:139956971476736:INFO:2000:Proceeding to force close the producer since pending requests could not be completed within timeout 0.\n",
      "2019-08-17 17:29:46,412.412.3072624206543:kafka.conn:139954520844032:INFO:2000:<BrokerConnection node_id=0 host=ubuntu:9092 <connected> [IPv4 ('127.0.1.1', 9092)]>: Closing connection. \n",
      "2019-08-17 17:29:46,411.411.73863410949707:kafka.conn:139956971476736:INFO:1998:<BrokerConnection node_id=bootstrap-0 host=localhost:9092 <connecting> [IPv6 ('::1', 9092, 0, 0)]>: connecting to localhost:9092 [('::1', 9092, 0, 0) IPv6]\n",
      "2019-08-17 17:29:46,413.413.1178855895996:kafka.conn:139956890081024:INFO:1998:<BrokerConnection node_id=0 host=ubuntu:9092 <connecting> [IPv4 ('127.0.1.1', 9092)]>: Connection complete.\n"
     ]
    },
    {
     "name": "stdout",
     "output_type": "stream",
     "text": [
      "topic=my-topic partition=0 offset=2398: key=None value={'number_2': '6.288470937836863,-0.628579034265304,0.1677327925451275,-5.9834728252195095,-10.989828259612764'}\n"
     ]
    },
    {
     "name": "stderr",
     "output_type": "stream",
     "text": [
      "2019-08-17 17:29:46,414.414.37506675720215:kafka.conn:139956971476736:INFO:1998:Probing node bootstrap-0 broker version\n",
      "2019-08-17 17:29:46,415.415.90023040771484:kafka.conn:139956890081024:INFO:1998:<BrokerConnection node_id=bootstrap-0 host=localhost:9092 <connected> [IPv6 ('::1', 9092, 0, 0)]>: Closing connection. \n",
      "2019-08-17 17:29:46,418.418.29752922058105:kafka.conn:139954881533696:INFO:2000:<BrokerConnection node_id=0 host=ubuntu:9092 <connecting> [IPv4 ('127.0.1.1', 9092)]>: connecting to ubuntu:9092 [('127.0.1.1', 9092) IPv4]\n",
      "2019-08-17 17:29:46,419.419.48676109313965:kafka.conn:139956971476736:INFO:2000:<BrokerConnection node_id=bootstrap-0 host=localhost:9092 <connecting> [IPv6 ('::1', 9092, 0, 0)]>: connecting to localhost:9092 [('::1', 9092, 0, 0) IPv6]\n",
      "2019-08-17 17:29:46,417.417.74892807006836:kafka.conn:139956971476736:INFO:1998:<BrokerConnection node_id=bootstrap-0 host=localhost:9092 <connecting> [IPv6 ('::1', 9092, 0, 0)]>: Connection complete.\n",
      "2019-08-17 17:29:46,421.421.3142395019531:kafka.conn:139954881533696:INFO:2000:<BrokerConnection node_id=0 host=ubuntu:9092 <connecting> [IPv4 ('127.0.1.1', 9092)]>: Connection complete.\n"
     ]
    },
    {
     "name": "stdout",
     "output_type": "stream",
     "text": [
      "topic : result , partition : 0 , offset : 960\n"
     ]
    },
    {
     "name": "stderr",
     "output_type": "stream",
     "text": [
      "2019-08-17 17:29:46,422.422.055721282959:kafka.conn:139956971476736:INFO:2000:Probing node bootstrap-0 broker version\n",
      "2019-08-17 17:29:46,423.423.5033988952637:kafka.conn:139954881533696:INFO:2000:<BrokerConnection node_id=bootstrap-0 host=localhost:9092 <connected> [IPv6 ('::1', 9092, 0, 0)]>: Closing connection. \n",
      "2019-08-17 17:29:46,425.425.46558380126953:kafka.conn:139956971476736:INFO:2000:<BrokerConnection node_id=bootstrap-0 host=localhost:9092 <connecting> [IPv6 ('::1', 9092, 0, 0)]>: Connection complete.\n"
     ]
    },
    {
     "name": "stdout",
     "output_type": "stream",
     "text": [
      "topic : result , partition : 0 , offset : 961\n"
     ]
    },
    {
     "name": "stderr",
     "output_type": "stream",
     "text": [
      "2019-08-17 17:29:46,525.525.6178379058838:kafka.conn:139956971476736:INFO:1998:Broker version identifed as 1.0.0\n",
      "2019-08-17 17:29:46,527.527.2204875946045:kafka.conn:139956971476736:INFO:1998:Set configuration api_version=(1, 0, 0) to skip auto check_version requests on startup\n",
      "2019-08-17 17:29:46,531.531.2678813934326:kafka.producer.kafka:139956971476736:INFO:1998:Closing the Kafka producer with 0 secs timeout.\n",
      "2019-08-17 17:29:46,533.533.4944725036621:kafka.conn:139956971476736:INFO:2000:Broker version identifed as 1.0.0\n",
      "2019-08-17 17:29:46,535.535.0737571716309:kafka.conn:139956971476736:INFO:2000:Set configuration api_version=(1, 0, 0) to skip auto check_version requests on startup\n",
      "2019-08-17 17:29:46,535.535.3348255157471:kafka.producer.kafka:139956971476736:INFO:1998:Proceeding to force close the producer since pending requests could not be completed within timeout 0.\n",
      "2019-08-17 17:29:46,537.537.3942852020264:kafka.conn:139956890081024:INFO:1998:<BrokerConnection node_id=0 host=ubuntu:9092 <connected> [IPv4 ('127.0.1.1', 9092)]>: Closing connection. \n",
      "2019-08-17 17:29:46,539.539.0791893005371:kafka.producer.kafka:139956971476736:INFO:2000:Closing the Kafka producer with 0 secs timeout.\n"
     ]
    },
    {
     "name": "stdout",
     "output_type": "stream",
     "text": [
      "topic=my_topic partition=0 offset=2999: key=None value={'number_1': '1.3355298643346654,2.0589069278897165,5.59966526686795,24.103723868879392,22.244768677001254'}\n"
     ]
    },
    {
     "name": "stderr",
     "output_type": "stream",
     "text": [
      "2019-08-17 17:29:46,540.540.7721996307373:kafka.producer.kafka:139956971476736:INFO:2000:Proceeding to force close the producer since pending requests could not be completed within timeout 0.\n",
      "2019-08-17 17:29:46,541.541.7904853820801:kafka.conn:139956881688320:INFO:1998:<BrokerConnection node_id=0 host=ubuntu:9092 <connecting> [IPv4 ('127.0.1.1', 9092)]>: connecting to ubuntu:9092 [('127.0.1.1', 9092) IPv4]\n",
      "2019-08-17 17:29:46,544.544.5678234100342:kafka.conn:139956971476736:INFO:1998:<BrokerConnection node_id=bootstrap-0 host=localhost:9092 <connecting> [IPv6 ('::1', 9092, 0, 0)]>: connecting to localhost:9092 [('::1', 9092, 0, 0) IPv6]\n",
      "2019-08-17 17:29:46,544.544.8241233825684:kafka.conn:139954881533696:INFO:2000:<BrokerConnection node_id=0 host=ubuntu:9092 <connected> [IPv4 ('127.0.1.1', 9092)]>: Closing connection. \n",
      "2019-08-17 17:29:46,545.545.9096431732178:kafka.conn:139956881688320:INFO:1998:<BrokerConnection node_id=0 host=ubuntu:9092 <connecting> [IPv4 ('127.0.1.1', 9092)]>: Connection complete.\n",
      "2019-08-17 17:29:46,546.546.677827835083:kafka.conn:139956971476736:INFO:1998:Probing node bootstrap-0 broker version\n"
     ]
    },
    {
     "name": "stdout",
     "output_type": "stream",
     "text": [
      "topic=my-topic partition=0 offset=2399: key=None value={'number_2': '0.38043395215673725,-1.6457726086213307,-2.6940852697936126,-3.907547878997264,-4.931846542297525'}\n"
     ]
    },
    {
     "name": "stderr",
     "output_type": "stream",
     "text": [
      "2019-08-17 17:29:46,548.548.1226444244385:kafka.conn:139956881688320:INFO:1998:<BrokerConnection node_id=bootstrap-0 host=localhost:9092 <connected> [IPv6 ('::1', 9092, 0, 0)]>: Closing connection. \n",
      "2019-08-17 17:29:46,549.549.2010116577148:kafka.conn:139954520844032:INFO:2000:<BrokerConnection node_id=0 host=ubuntu:9092 <connecting> [IPv4 ('127.0.1.1', 9092)]>: connecting to ubuntu:9092 [('127.0.1.1', 9092) IPv4]\n",
      "2019-08-17 17:29:46,551.551.7375469207764:kafka.conn:139956971476736:INFO:2000:<BrokerConnection node_id=bootstrap-0 host=localhost:9092 <connecting> [IPv6 ('::1', 9092, 0, 0)]>: connecting to localhost:9092 [('::1', 9092, 0, 0) IPv6]\n",
      "2019-08-17 17:29:46,550.550.0771999359131:kafka.conn:139956971476736:INFO:1998:<BrokerConnection node_id=bootstrap-0 host=localhost:9092 <connecting> [IPv6 ('::1', 9092, 0, 0)]>: Connection complete.\n",
      "2019-08-17 17:29:46,553.553.1494617462158:kafka.conn:139954520844032:INFO:2000:<BrokerConnection node_id=0 host=ubuntu:9092 <connecting> [IPv4 ('127.0.1.1', 9092)]>: Connection complete.\n"
     ]
    },
    {
     "name": "stdout",
     "output_type": "stream",
     "text": [
      "topic : result , partition : 0 , offset : 962\n"
     ]
    },
    {
     "name": "stderr",
     "output_type": "stream",
     "text": [
      "2019-08-17 17:29:46,553.553.5340309143066:kafka.conn:139956971476736:INFO:2000:Probing node bootstrap-0 broker version\n",
      "2019-08-17 17:29:46,555.555.0570487976074:kafka.conn:139954520844032:INFO:2000:<BrokerConnection node_id=bootstrap-0 host=localhost:9092 <connected> [IPv6 ('::1', 9092, 0, 0)]>: Closing connection. \n",
      "2019-08-17 17:29:46,556.556.854248046875:kafka.conn:139956971476736:INFO:2000:<BrokerConnection node_id=bootstrap-0 host=localhost:9092 <connecting> [IPv6 ('::1', 9092, 0, 0)]>: Connection complete.\n"
     ]
    },
    {
     "name": "stdout",
     "output_type": "stream",
     "text": [
      "topic : result , partition : 0 , offset : 963\n"
     ]
    },
    {
     "name": "stderr",
     "output_type": "stream",
     "text": [
      "2019-08-17 17:29:46,658.658.3809852600098:kafka.conn:139956971476736:INFO:1998:Broker version identifed as 1.0.0\n",
      "2019-08-17 17:29:46,659.659.9810123443604:kafka.conn:139956971476736:INFO:1998:Set configuration api_version=(1, 0, 0) to skip auto check_version requests on startup\n",
      "2019-08-17 17:29:46,664.664.1151905059814:kafka.producer.kafka:139956971476736:INFO:1998:Closing the Kafka producer with 0 secs timeout.\n",
      "2019-08-17 17:29:46,665.665.459156036377:kafka.conn:139956971476736:INFO:2000:Broker version identifed as 1.0.0\n",
      "2019-08-17 17:29:46,667.667.9928302764893:kafka.producer.kafka:139956971476736:INFO:1998:Proceeding to force close the producer since pending requests could not be completed within timeout 0.\n",
      "2019-08-17 17:29:46,668.668.5574054718018:kafka.conn:139956971476736:INFO:2000:Set configuration api_version=(1, 0, 0) to skip auto check_version requests on startup\n",
      "2019-08-17 17:29:46,669.669.947624206543:kafka.conn:139956881688320:INFO:1998:<BrokerConnection node_id=0 host=ubuntu:9092 <connected> [IPv4 ('127.0.1.1', 9092)]>: Closing connection. \n",
      "2019-08-17 17:29:46,672.672.9190349578857:kafka.producer.kafka:139956971476736:INFO:2000:Closing the Kafka producer with 0 secs timeout.\n",
      "2019-08-17 17:29:46,673.673.879861831665:kafka.conn:139956890081024:INFO:1998:<BrokerConnection node_id=0 host=ubuntu:9092 <connecting> [IPv4 ('127.0.1.1', 9092)]>: connecting to ubuntu:9092 [('127.0.1.1', 9092) IPv4]\n",
      "2019-08-17 17:29:46,676.676.2347221374512:kafka.conn:139956890081024:INFO:1998:<BrokerConnection node_id=0 host=ubuntu:9092 <connecting> [IPv4 ('127.0.1.1', 9092)]>: Connection complete.\n",
      "2019-08-17 17:29:46,676.676.7017841339111:kafka.producer.kafka:139956971476736:INFO:2000:Proceeding to force close the producer since pending requests could not be completed within timeout 0.\n",
      "2019-08-17 17:29:46,677.677.8638362884521:kafka.conn:139956890081024:INFO:1998:<BrokerConnection node_id=bootstrap-0 host=localhost:9092 <connected> [IPv6 ('::1', 9092, 0, 0)]>: Closing connection. \n",
      "2019-08-17 17:29:46,678.678.4813404083252:kafka.conn:139954520844032:INFO:2000:<BrokerConnection node_id=0 host=ubuntu:9092 <connected> [IPv4 ('127.0.1.1', 9092)]>: Closing connection. \n"
     ]
    },
    {
     "name": "stdout",
     "output_type": "stream",
     "text": [
      "topic : result , partition : 0 , offset : 964\n"
     ]
    },
    {
     "name": "stderr",
     "output_type": "stream",
     "text": [
      "2019-08-17 17:29:46,683.683.2077503204346:kafka.conn:139956881688320:INFO:2000:<BrokerConnection node_id=0 host=ubuntu:9092 <connecting> [IPv4 ('127.0.1.1', 9092)]>: connecting to ubuntu:9092 [('127.0.1.1', 9092) IPv4]\n",
      "2019-08-17 17:29:46,684.684.9563121795654:kafka.conn:139956881688320:INFO:2000:<BrokerConnection node_id=0 host=ubuntu:9092 <connecting> [IPv4 ('127.0.1.1', 9092)]>: Connection complete.\n",
      "2019-08-17 17:29:46,686.686.3710880279541:kafka.conn:139956881688320:INFO:2000:<BrokerConnection node_id=bootstrap-0 host=localhost:9092 <connected> [IPv6 ('::1', 9092, 0, 0)]>: Closing connection. \n"
     ]
    },
    {
     "name": "stdout",
     "output_type": "stream",
     "text": [
      "topic : result , partition : 0 , offset : 965\n"
     ]
    },
    {
     "name": "stderr",
     "output_type": "stream",
     "text": [
      "Process Process-84:\n",
      "Process Process-83:\n",
      "Traceback (most recent call last):\n"
     ]
    },
    {
     "ename": "KeyboardInterrupt",
     "evalue": "",
     "output_type": "error",
     "traceback": [
      "\u001b[0;31m--------------------------------------------------------------------\u001b[0m",
      "\u001b[0;31mKeyboardInterrupt\u001b[0m                  Traceback (most recent call last)",
      "\u001b[0;32m<ipython-input-89-4f2cff50ca06>\u001b[0m in \u001b[0;36m<module>\u001b[0;34m\u001b[0m\n\u001b[1;32m     21\u001b[0m         \u001b[0mlevel\u001b[0m\u001b[0;34m=\u001b[0m\u001b[0mlogging\u001b[0m\u001b[0;34m.\u001b[0m\u001b[0mINFO\u001b[0m\u001b[0;34m\u001b[0m\u001b[0;34m\u001b[0m\u001b[0m\n\u001b[1;32m     22\u001b[0m     )\n\u001b[0;32m---> 23\u001b[0;31m     \u001b[0mmain\u001b[0m\u001b[0;34m(\u001b[0m\u001b[0;34m)\u001b[0m\u001b[0;34m\u001b[0m\u001b[0;34m\u001b[0m\u001b[0m\n\u001b[0m",
      "\u001b[0;32m<ipython-input-89-4f2cff50ca06>\u001b[0m in \u001b[0;36mmain\u001b[0;34m()\u001b[0m\n\u001b[1;32m     15\u001b[0m \u001b[0;34m\u001b[0m\u001b[0m\n\u001b[1;32m     16\u001b[0m     \u001b[0;32mfor\u001b[0m \u001b[0mjob\u001b[0m \u001b[0;32min\u001b[0m \u001b[0mjobs\u001b[0m\u001b[0;34m:\u001b[0m\u001b[0;34m\u001b[0m\u001b[0;34m\u001b[0m\u001b[0m\n\u001b[0;32m---> 17\u001b[0;31m         \u001b[0mjob\u001b[0m\u001b[0;34m.\u001b[0m\u001b[0mjoin\u001b[0m\u001b[0;34m(\u001b[0m\u001b[0;34m)\u001b[0m\u001b[0;34m\u001b[0m\u001b[0;34m\u001b[0m\u001b[0m\n\u001b[0m\u001b[1;32m     18\u001b[0m \u001b[0;32mif\u001b[0m \u001b[0m__name__\u001b[0m \u001b[0;34m==\u001b[0m \u001b[0;34m\"__main__\"\u001b[0m\u001b[0;34m:\u001b[0m\u001b[0;34m\u001b[0m\u001b[0;34m\u001b[0m\u001b[0m\n\u001b[1;32m     19\u001b[0m     logging.basicConfig(\n",
      "\u001b[0;32m~/anaconda3/envs/kafka/lib/python3.7/multiprocessing/process.py\u001b[0m in \u001b[0;36mjoin\u001b[0;34m(self, timeout)\u001b[0m\n\u001b[1;32m    138\u001b[0m         \u001b[0;32massert\u001b[0m \u001b[0mself\u001b[0m\u001b[0;34m.\u001b[0m\u001b[0m_parent_pid\u001b[0m \u001b[0;34m==\u001b[0m \u001b[0mos\u001b[0m\u001b[0;34m.\u001b[0m\u001b[0mgetpid\u001b[0m\u001b[0;34m(\u001b[0m\u001b[0;34m)\u001b[0m\u001b[0;34m,\u001b[0m \u001b[0;34m'can only join a child process'\u001b[0m\u001b[0;34m\u001b[0m\u001b[0;34m\u001b[0m\u001b[0m\n\u001b[1;32m    139\u001b[0m         \u001b[0;32massert\u001b[0m \u001b[0mself\u001b[0m\u001b[0;34m.\u001b[0m\u001b[0m_popen\u001b[0m \u001b[0;32mis\u001b[0m \u001b[0;32mnot\u001b[0m \u001b[0;32mNone\u001b[0m\u001b[0;34m,\u001b[0m \u001b[0;34m'can only join a started process'\u001b[0m\u001b[0;34m\u001b[0m\u001b[0;34m\u001b[0m\u001b[0m\n\u001b[0;32m--> 140\u001b[0;31m         \u001b[0mres\u001b[0m \u001b[0;34m=\u001b[0m \u001b[0mself\u001b[0m\u001b[0;34m.\u001b[0m\u001b[0m_popen\u001b[0m\u001b[0;34m.\u001b[0m\u001b[0mwait\u001b[0m\u001b[0;34m(\u001b[0m\u001b[0mtimeout\u001b[0m\u001b[0;34m)\u001b[0m\u001b[0;34m\u001b[0m\u001b[0;34m\u001b[0m\u001b[0m\n\u001b[0m\u001b[1;32m    141\u001b[0m         \u001b[0;32mif\u001b[0m \u001b[0mres\u001b[0m \u001b[0;32mis\u001b[0m \u001b[0;32mnot\u001b[0m \u001b[0;32mNone\u001b[0m\u001b[0;34m:\u001b[0m\u001b[0;34m\u001b[0m\u001b[0;34m\u001b[0m\u001b[0m\n\u001b[1;32m    142\u001b[0m             \u001b[0m_children\u001b[0m\u001b[0;34m.\u001b[0m\u001b[0mdiscard\u001b[0m\u001b[0;34m(\u001b[0m\u001b[0mself\u001b[0m\u001b[0;34m)\u001b[0m\u001b[0;34m\u001b[0m\u001b[0;34m\u001b[0m\u001b[0m\n",
      "\u001b[0;32m~/anaconda3/envs/kafka/lib/python3.7/multiprocessing/popen_fork.py\u001b[0m in \u001b[0;36mwait\u001b[0;34m(self, timeout)\u001b[0m\n\u001b[1;32m     46\u001b[0m                     \u001b[0;32mreturn\u001b[0m \u001b[0;32mNone\u001b[0m\u001b[0;34m\u001b[0m\u001b[0;34m\u001b[0m\u001b[0m\n\u001b[1;32m     47\u001b[0m             \u001b[0;31m# This shouldn't block if wait() returned successfully.\u001b[0m\u001b[0;34m\u001b[0m\u001b[0;34m\u001b[0m\u001b[0;34m\u001b[0m\u001b[0m\n\u001b[0;32m---> 48\u001b[0;31m             \u001b[0;32mreturn\u001b[0m \u001b[0mself\u001b[0m\u001b[0;34m.\u001b[0m\u001b[0mpoll\u001b[0m\u001b[0;34m(\u001b[0m\u001b[0mos\u001b[0m\u001b[0;34m.\u001b[0m\u001b[0mWNOHANG\u001b[0m \u001b[0;32mif\u001b[0m \u001b[0mtimeout\u001b[0m \u001b[0;34m==\u001b[0m \u001b[0;36m0.0\u001b[0m \u001b[0;32melse\u001b[0m \u001b[0;36m0\u001b[0m\u001b[0;34m)\u001b[0m\u001b[0;34m\u001b[0m\u001b[0;34m\u001b[0m\u001b[0m\n\u001b[0m\u001b[1;32m     49\u001b[0m         \u001b[0;32mreturn\u001b[0m \u001b[0mself\u001b[0m\u001b[0;34m.\u001b[0m\u001b[0mreturncode\u001b[0m\u001b[0;34m\u001b[0m\u001b[0;34m\u001b[0m\u001b[0m\n\u001b[1;32m     50\u001b[0m \u001b[0;34m\u001b[0m\u001b[0m\n",
      "\u001b[0;32m~/anaconda3/envs/kafka/lib/python3.7/multiprocessing/popen_fork.py\u001b[0m in \u001b[0;36mpoll\u001b[0;34m(self, flag)\u001b[0m\n\u001b[1;32m     26\u001b[0m         \u001b[0;32mif\u001b[0m \u001b[0mself\u001b[0m\u001b[0;34m.\u001b[0m\u001b[0mreturncode\u001b[0m \u001b[0;32mis\u001b[0m \u001b[0;32mNone\u001b[0m\u001b[0;34m:\u001b[0m\u001b[0;34m\u001b[0m\u001b[0;34m\u001b[0m\u001b[0m\n\u001b[1;32m     27\u001b[0m             \u001b[0;32mtry\u001b[0m\u001b[0;34m:\u001b[0m\u001b[0;34m\u001b[0m\u001b[0;34m\u001b[0m\u001b[0m\n\u001b[0;32m---> 28\u001b[0;31m                 \u001b[0mpid\u001b[0m\u001b[0;34m,\u001b[0m \u001b[0msts\u001b[0m \u001b[0;34m=\u001b[0m \u001b[0mos\u001b[0m\u001b[0;34m.\u001b[0m\u001b[0mwaitpid\u001b[0m\u001b[0;34m(\u001b[0m\u001b[0mself\u001b[0m\u001b[0;34m.\u001b[0m\u001b[0mpid\u001b[0m\u001b[0;34m,\u001b[0m \u001b[0mflag\u001b[0m\u001b[0;34m)\u001b[0m\u001b[0;34m\u001b[0m\u001b[0;34m\u001b[0m\u001b[0m\n\u001b[0m\u001b[1;32m     29\u001b[0m             \u001b[0;32mexcept\u001b[0m \u001b[0mOSError\u001b[0m \u001b[0;32mas\u001b[0m \u001b[0me\u001b[0m\u001b[0;34m:\u001b[0m\u001b[0;34m\u001b[0m\u001b[0;34m\u001b[0m\u001b[0m\n\u001b[1;32m     30\u001b[0m                 \u001b[0;31m# Child process not yet created. See #1731717\u001b[0m\u001b[0;34m\u001b[0m\u001b[0;34m\u001b[0m\u001b[0;34m\u001b[0m\u001b[0m\n",
      "\u001b[0;31mKeyboardInterrupt\u001b[0m: "
     ]
    },
    {
     "name": "stderr",
     "output_type": "stream",
     "text": [
      "Traceback (most recent call last):\n",
      "  File \"/root/anaconda3/envs/kafka/lib/python3.7/multiprocessing/process.py\", line 297, in _bootstrap\n",
      "    self.run()\n",
      "  File \"/root/anaconda3/envs/kafka/lib/python3.7/multiprocessing/process.py\", line 297, in _bootstrap\n",
      "    self.run()\n",
      "  File \"/root/anaconda3/envs/kafka/lib/python3.7/multiprocessing/process.py\", line 99, in run\n",
      "    self._target(*self._args, **self._kwargs)\n",
      "  File \"/root/anaconda3/envs/kafka/lib/python3.7/multiprocessing/process.py\", line 99, in run\n",
      "    self._target(*self._args, **self._kwargs)\n",
      "  File \"<ipython-input-86-3a7b4b8db603>\", line 38, in start\n",
      "    self.kafka_wrapper.consume(topic , group)\n",
      "  File \"<ipython-input-86-3a7b4b8db603>\", line 38, in start\n",
      "    self.kafka_wrapper.consume(topic , group)\n",
      "  File \"<ipython-input-86-3a7b4b8db603>\", line 23, in consume\n",
      "    for message in consumer:\n",
      "  File \"<ipython-input-86-3a7b4b8db603>\", line 23, in consume\n",
      "    for message in consumer:\n",
      "  File \"/root/anaconda3/envs/kafka/lib/python3.7/site-packages/kafka/consumer/group.py\", line 1120, in __next__\n",
      "    return next(self._iterator)\n",
      "  File \"/root/anaconda3/envs/kafka/lib/python3.7/site-packages/kafka/consumer/group.py\", line 1120, in __next__\n",
      "    return next(self._iterator)\n",
      "  File \"/root/anaconda3/envs/kafka/lib/python3.7/site-packages/kafka/consumer/group.py\", line 1075, in _message_generator\n",
      "    self._client.poll(timeout_ms=poll_ms)\n",
      "  File \"/root/anaconda3/envs/kafka/lib/python3.7/site-packages/kafka/consumer/group.py\", line 1075, in _message_generator\n",
      "    self._client.poll(timeout_ms=poll_ms)\n",
      "  File \"/root/anaconda3/envs/kafka/lib/python3.7/site-packages/kafka/client_async.py\", line 593, in poll\n",
      "    self._poll(timeout)\n",
      "  File \"/root/anaconda3/envs/kafka/lib/python3.7/site-packages/kafka/client_async.py\", line 593, in poll\n",
      "    self._poll(timeout)\n",
      "  File \"/root/anaconda3/envs/kafka/lib/python3.7/site-packages/kafka/client_async.py\", line 614, in _poll\n",
      "    ready = self._selector.select(timeout)\n",
      "  File \"/root/anaconda3/envs/kafka/lib/python3.7/site-packages/kafka/client_async.py\", line 614, in _poll\n",
      "    ready = self._selector.select(timeout)\n",
      "  File \"/root/anaconda3/envs/kafka/lib/python3.7/selectors.py\", line 468, in select\n",
      "    fd_event_list = self._selector.poll(timeout, max_ev)\n",
      "  File \"/root/anaconda3/envs/kafka/lib/python3.7/selectors.py\", line 468, in select\n",
      "    fd_event_list = self._selector.poll(timeout, max_ev)\n",
      "KeyboardInterrupt\n",
      "KeyboardInterrupt\n",
      "2019-08-17 17:30:20,707.707.9567909240723:kafka.coordinator:139956971476736:INFO:2000:Stopping heartbeat thread\n",
      "2019-08-17 17:30:20,708.708.4665298461914:kafka.coordinator:139956971476736:INFO:1998:Stopping heartbeat thread\n",
      "2019-08-17 17:30:20,709.709.9175453186035:kafka.producer.kafka:139956971476736:INFO:2000:Closing the Kafka producer with 0 secs timeout.\n",
      "2019-08-17 17:30:20,710.710.770845413208:kafka.producer.kafka:139956971476736:INFO:1998:Closing the Kafka producer with 0 secs timeout.\n",
      "2019-08-17 17:30:20,711.711.6365432739258:kafka.producer.kafka:139956971476736:INFO:2000:Proceeding to force close the producer since pending requests could not be completed within timeout 0.\n",
      "2019-08-17 17:30:20,712.712.5003337860107:kafka.producer.kafka:139956971476736:INFO:1998:Proceeding to force close the producer since pending requests could not be completed within timeout 0.\n",
      "2019-08-17 17:30:20,713.713.5050296783447:kafka.conn:139956881688320:INFO:2000:<BrokerConnection node_id=0 host=ubuntu:9092 <connected> [IPv4 ('127.0.1.1', 9092)]>: Closing connection. \n",
      "2019-08-17 17:30:20,714.714.4172191619873:kafka.conn:139956890081024:INFO:1998:<BrokerConnection node_id=0 host=ubuntu:9092 <connected> [IPv4 ('127.0.1.1', 9092)]>: Closing connection. \n"
     ]
    }
   ],
   "source": [
    "from multiprocessing import Process\n",
    "import threading, logging, time\n",
    "\n",
    "def main():\n",
    "    serviceA = ServiceA()\n",
    "    serviceB = ServiceB()\n",
    "\n",
    "    jobs=[]\n",
    "    # The code works fine if I used threading.Thread here instead of Process\n",
    "    jobs.append(Process(target=serviceA.start, args=(\"my_topic\",\"SR1\",))) # my_topic\n",
    "    jobs.append(Process(target=serviceB.start, args=(\"my-topic\",\"SR3\",))) # my-topic\n",
    "\n",
    "    for job in jobs:\n",
    "        job.start()\n",
    "\n",
    "    for job in jobs:\n",
    "        job.join()\n",
    "if __name__ == \"__main__\":\n",
    "    logging.basicConfig(\n",
    "        format='%(asctime)s.%(msecs)s:%(name)s:%(thread)d:%(levelname)s:%(process)d:%(message)s',\n",
    "        level=logging.INFO\n",
    "    )\n",
    "    main()"
   ]
  },
  {
   "cell_type": "code",
   "execution_count": null,
   "metadata": {},
   "outputs": [],
   "source": [
    "from time import sleep\n",
    "from json import dumps\n",
    "from kafka import KafkaProducer\n",
    "import numpy as np\n",
    "\n",
    "producer = KafkaProducer(bootstrap_servers=['localhost:9092'],\n",
    "                         key_serializer = None ,                         \n",
    "                         value_serializer=lambda x: \n",
    "                         dumps(x).encode('utf-8'))\n",
    "def on_send_success(record_metadata):\n",
    "    print(\"topic : {} , partition : {} , offset : {}\".\\\n",
    "          format( record_metadata.topic , record_metadata.partition , record_metadata.offset))\n",
    "\n",
    "    \n",
    "for msg , message in zip(consumer1 , consumer2) :\n",
    "    print(\"=\"*50)\n",
    "    print (\"topic=%s partition=%d offset=%d: key=%s value=%s\" % (message.topic, message.partition,\n",
    "                                          message.offset, message.key,\n",
    "                                          message.value))\n",
    "    print (\"topic=%s partition=%d offset=%d: key=%s value=%s\" % (msg.topic, msg.partition,\n",
    "                                          msg.offset, msg.key,\n",
    "                                          msg.value))\n",
    "    key = str(message.offset) + \" \" + str(msg.offset)\n",
    "    producer.send('output', value= {  key : key }  ).add_callback(on_send_success)\n",
    "    print(\"=\"*50)"
   ]
  },
  {
   "cell_type": "code",
   "execution_count": null,
   "metadata": {},
   "outputs": [],
   "source": [
    "# consume earliest available messages, don't commit offsets\n",
    "KafkaConsumer(auto_offset_reset='earliest', enable_auto_commit=False)\n",
    "\n",
    "# consume json messages\n",
    "KafkaConsumer(value_deserializer=lambda m: json.loads(m.decode('ascii')))\n",
    "\n",
    "# consume msgpack\n",
    "KafkaConsumer(value_deserializer=msgpack.unpackb)\n",
    "\n",
    "# StopIteration if no message after 1sec\n",
    "KafkaConsumer(consumer_timeout_ms=1000)\n",
    "\n",
    "# Subscribe to a regex topic pattern\n",
    "consumer = KafkaConsumer()\n",
    "consumer.subscribe(pattern='^awesome.*')\n",
    "\n",
    "# Use multiple consumers in parallel w/ 0.9 kafka brokers\n",
    "# typically you would run each on a different server / process / CPU\n",
    "consumer1 = KafkaConsumer('my-topic',\n",
    "                          group_id='my-group',\n",
    "                          bootstrap_servers='my.server.com')\n",
    "consumer2 = KafkaConsumer('my-topic',\n",
    "                          group_id='my-group',\n",
    "                          bootstrap_servers='my.server.com')"
   ]
  },
  {
   "cell_type": "code",
   "execution_count": null,
   "metadata": {},
   "outputs": [],
   "source": []
  }
 ],
 "metadata": {
  "kernelspec": {
   "display_name": "kafka",
   "language": "python",
   "name": "kafka"
  },
  "language_info": {
   "codemirror_mode": {
    "name": "ipython",
    "version": 3
   },
   "file_extension": ".py",
   "mimetype": "text/x-python",
   "name": "python",
   "nbconvert_exporter": "python",
   "pygments_lexer": "ipython3",
   "version": "3.7.3"
  }
 },
 "nbformat": 4,
 "nbformat_minor": 2
}
