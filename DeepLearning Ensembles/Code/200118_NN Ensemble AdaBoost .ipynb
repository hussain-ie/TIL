{
 "cells": [
  {
   "cell_type": "code",
   "execution_count": 1,
   "metadata": {},
   "outputs": [],
   "source": [
    "import tensorflow as tf\n",
    "import numpy as np\n",
    "import pandas as pd , sys\n",
    "import matplotlib.pyplot as plt\n",
    "import scikitplot as skplt\n",
    "from IPython.display import clear_output\n",
    "from sklearn.metrics import auc , roc_auc_score\n",
    "from sklearn.model_selection import train_test_split\n",
    "sys.path.append(\"/home/advice/Python/SR/Custom/\")\n",
    "from RAdam import RAdamOptimizer\n",
    "import seaborn as sns\n",
    "import re , os\n",
    "from sklearn.preprocessing import StandardScaler\n",
    "from sklearn.model_selection import train_test_split\n",
    "import scikitplot as skplot"
   ]
  },
  {
   "cell_type": "code",
   "execution_count": 2,
   "metadata": {},
   "outputs": [],
   "source": [
    "import shutil\n",
    "try :\n",
    "    os.makedirs(\"./NNEnsembleResult/adaboost_a\")\n",
    "    os.makedirs(\"./NNEnsembleResult/adaboost_b\")\n",
    "except Exception as e :\n",
    "    shutil.rmtree(\"./NNEnsembleResult/adaboost_a\")\n",
    "    shutil.rmtree(\"./NNEnsembleResult/adaboost_b\")\n",
    "    os.makedirs(\"./NNEnsembleResult/adaboost_a\")\n",
    "    os.makedirs(\"./NNEnsembleResult/adaboost_b\")"
   ]
  },
  {
   "cell_type": "code",
   "execution_count": 3,
   "metadata": {},
   "outputs": [],
   "source": [
    "from tensorflow.contrib.layers import *\n",
    "def get_weight_variable(shape, name=None,\n",
    "                        type='xavier_uniform', regularize=True, **kwargs):\n",
    "    initialise_from_constant = False\n",
    "    if type == 'xavier_uniform':\n",
    "        initial = xavier_initializer(uniform=True, dtype=tf.float32)\n",
    "    elif type == 'xavier_normal':\n",
    "        initial = xavier_initializer(uniform=False, dtype=tf.float32)\n",
    "    elif type == 'he_normal':\n",
    "        initial = variance_scaling_initializer(uniform=False, factor=2.0, mode='FAN_IN', dtype=tf.float32)\n",
    "    elif type == 'he_uniform':\n",
    "        initial = variance_scaling_initializer(uniform=True, factor=2.0, mode='FAN_IN', dtype=tf.float32)\n",
    "    elif type == 'caffe_uniform':\n",
    "        initial = variance_scaling_initializer(uniform=True, factor=1.0, mode='FAN_IN', dtype=tf.float32)\n",
    "    elif type == 'simple':\n",
    "        stddev = kwargs.get('stddev', 0.02)\n",
    "        initial = tf.truncated_normal(shape, stddev=stddev, dtype=tf.float32)\n",
    "        initialise_from_constant = True\n",
    "    elif type == 'bilinear':\n",
    "        weights = _bilinear_upsample_weights(shape)\n",
    "        initial = tf.constant(weights, shape=shape, dtype=tf.float32)\n",
    "        initialise_from_constant = True\n",
    "    else:\n",
    "        raise ValueError('Unknown initialisation requested: %s' % type)\n",
    "\n",
    "    if name is None:  # This keeps to option open to use unnamed Variables\n",
    "        weight = tf.Variable(initial)\n",
    "    else:\n",
    "        if initialise_from_constant:\n",
    "            weight = tf.get_variable(name, initializer=initial)\n",
    "        else:\n",
    "            weight = tf.get_variable(name, shape=shape, initializer=initial)\n",
    "    if regularize:\n",
    "        tf.add_to_collection('weight_variables', weight)\n",
    "    return weight "
   ]
  },
  {
   "cell_type": "code",
   "execution_count": 4,
   "metadata": {},
   "outputs": [],
   "source": [
    "data = pd.read_csv(\"./../Data/income_evaluation.csv\")\n",
    "objcol = data.select_dtypes(\"object\").columns.tolist()\n",
    "data[objcol] = data[objcol].astype(\"category\")\n",
    "data.columns = [i.strip() for i in data.columns.tolist()]"
   ]
  },
  {
   "cell_type": "code",
   "execution_count": 5,
   "metadata": {},
   "outputs": [
    {
     "data": {
      "text/plain": [
       "0     <=50K\n",
       "1     <=50K\n",
       "2     <=50K\n",
       "3     <=50K\n",
       "4     <=50K\n",
       "Name: income, dtype: category\n",
       "Categories (2, object): [<=50K, >50K]"
      ]
     },
     "execution_count": 5,
     "metadata": {},
     "output_type": "execute_result"
    }
   ],
   "source": [
    "data[\"income\"].head()"
   ]
  },
  {
   "cell_type": "code",
   "execution_count": 6,
   "metadata": {},
   "outputs": [
    {
     "data": {
      "text/plain": [
       "0    0\n",
       "1    0\n",
       "2    0\n",
       "3    0\n",
       "4    0\n",
       "dtype: int8"
      ]
     },
     "execution_count": 6,
     "metadata": {},
     "output_type": "execute_result"
    }
   ],
   "source": [
    "data[\"income\"].cat.codes.head()"
   ]
  },
  {
   "cell_type": "code",
   "execution_count": 7,
   "metadata": {},
   "outputs": [],
   "source": [
    "data[\"income\"] = data[\"income\"].cat.codes\n",
    "target = data.pop(\"income\")\n",
    "num_col = data.select_dtypes(\"int\").columns.tolist()"
   ]
  },
  {
   "cell_type": "code",
   "execution_count": 8,
   "metadata": {},
   "outputs": [],
   "source": [
    "cat_col = data.select_dtypes(\"category\").columns.tolist()"
   ]
  },
  {
   "cell_type": "code",
   "execution_count": 9,
   "metadata": {},
   "outputs": [],
   "source": [
    "onehot_data = pd.get_dummies(data , columns= cat_col)"
   ]
  },
  {
   "cell_type": "code",
   "execution_count": 10,
   "metadata": {},
   "outputs": [],
   "source": [
    "# Trval_X , Test_X , Trval_y , Test_y = train_test_split(onehot_data , target , test_size = 0.3)\n",
    "# Trval_X.reset_index(drop=True , inplace=True)\n",
    "# Trval_y.reset_index(drop=True , inplace=True)\n",
    "Train_X , Test_X , Train_y , Test_y = train_test_split(onehot_data , \n",
    "                                                         target , test_size = 0.3)\n",
    "#tr_idx = np.array(Train_X.index.tolist())\n",
    "#va_idx = np.array(Valid_X.index.tolist())"
   ]
  },
  {
   "cell_type": "code",
   "execution_count": 11,
   "metadata": {},
   "outputs": [],
   "source": [
    "one_hot_var = Train_X.columns.tolist()\n",
    "in_var = data.columns.tolist()"
   ]
  },
  {
   "cell_type": "code",
   "execution_count": 12,
   "metadata": {},
   "outputs": [],
   "source": [
    "def OneHotIndex(in_var , num_var , one_hot_var) :\n",
    "    start_idx = 0\n",
    "    key_store = {}\n",
    "    store = []\n",
    "    for idx , col in enumerate(in_var) :\n",
    "        if col in num_var :\n",
    "            aa = [start_idx , start_idx +1]\n",
    "            store.append(aa)\n",
    "            start_idx += 1\n",
    "        else :\n",
    "            find = [idx for idx , ck in enumerate(one_hot_var) if re.search(\"^{}_\".format(col) , ck)]\n",
    "            nn = len(find)\n",
    "            aa = [start_idx , start_idx + nn]\n",
    "            start_idx += nn\n",
    "            store.append(aa)\n",
    "        key_store[col] = aa\n",
    "    return key_store , store"
   ]
  },
  {
   "cell_type": "code",
   "execution_count": 13,
   "metadata": {},
   "outputs": [],
   "source": [
    "key_onehot_store , onehot_store = OneHotIndex(in_var , num_col , one_hot_var)"
   ]
  },
  {
   "cell_type": "code",
   "execution_count": 14,
   "metadata": {},
   "outputs": [],
   "source": [
    "Train_y.reset_index(drop=True ,inplace=True)\n",
    "target_1_list = Train_y[(Train_y == 1) == True].index.tolist()\n",
    "target_0_list = Train_y[(Train_y == 0) == True].index.tolist()"
   ]
  },
  {
   "cell_type": "code",
   "execution_count": 15,
   "metadata": {},
   "outputs": [],
   "source": [
    "ck = list(set(target_1_list) & set(target_0_list))\n",
    "assert ck == [], \"중복 발생 : {}\".format(ck)"
   ]
  },
  {
   "cell_type": "code",
   "execution_count": 16,
   "metadata": {},
   "outputs": [],
   "source": [
    "from sklearn.compose import ColumnTransformer\n",
    "from sklearn.pipeline import Pipeline\n",
    "from sklearn.impute import SimpleImputer\n",
    "from sklearn.preprocessing import StandardScaler, OneHotEncoder\n",
    "\n",
    "\n",
    "numeric_features = num_col \n",
    "numeric_transformer = Pipeline(steps=[\n",
    "    ('imputer', SimpleImputer(strategy='mean')),\n",
    "    ('scaler', StandardScaler())])\n",
    "preprocessor = ColumnTransformer(\n",
    "    transformers=[\n",
    "        ('num', numeric_transformer, numeric_features)])\n",
    "clf = Pipeline(steps=[('preprocessor', preprocessor),])"
   ]
  },
  {
   "cell_type": "code",
   "execution_count": 17,
   "metadata": {},
   "outputs": [
    {
     "name": "stderr",
     "output_type": "stream",
     "text": [
      "/root/anaconda3/lib/python3.6/site-packages/ipykernel_launcher.py:2: SettingWithCopyWarning: \n",
      "A value is trying to be set on a copy of a slice from a DataFrame.\n",
      "Try using .loc[row_indexer,col_indexer] = value instead\n",
      "\n",
      "See the caveats in the documentation: http://pandas.pydata.org/pandas-docs/stable/user_guide/indexing.html#returning-a-view-versus-a-copy\n",
      "  \n",
      "/root/anaconda3/lib/python3.6/site-packages/pandas/core/indexing.py:494: SettingWithCopyWarning: \n",
      "A value is trying to be set on a copy of a slice from a DataFrame.\n",
      "Try using .loc[row_indexer,col_indexer] = value instead\n",
      "\n",
      "See the caveats in the documentation: http://pandas.pydata.org/pandas-docs/stable/user_guide/indexing.html#returning-a-view-versus-a-copy\n",
      "  self.obj[item] = s\n",
      "/root/anaconda3/lib/python3.6/site-packages/ipykernel_launcher.py:4: SettingWithCopyWarning: \n",
      "A value is trying to be set on a copy of a slice from a DataFrame.\n",
      "Try using .loc[row_indexer,col_indexer] = value instead\n",
      "\n",
      "See the caveats in the documentation: http://pandas.pydata.org/pandas-docs/stable/user_guide/indexing.html#returning-a-view-versus-a-copy\n",
      "  after removing the cwd from sys.path.\n",
      "/root/anaconda3/lib/python3.6/site-packages/pandas/core/indexing.py:494: SettingWithCopyWarning: \n",
      "A value is trying to be set on a copy of a slice from a DataFrame.\n",
      "Try using .loc[row_indexer,col_indexer] = value instead\n",
      "\n",
      "See the caveats in the documentation: http://pandas.pydata.org/pandas-docs/stable/user_guide/indexing.html#returning-a-view-versus-a-copy\n",
      "  self.obj[item] = s\n"
     ]
    }
   ],
   "source": [
    "clf.fit(Train_X)\n",
    "Train_X[num_col] = clf.transform(Train_X)\n",
    "#Valid_X[num_col] = clf.transform(Valid_X)\n",
    "Test_X[num_col] = clf.transform(Test_X)"
   ]
  },
  {
   "cell_type": "markdown",
   "metadata": {},
   "source": [
    "## 앙상블 테스트"
   ]
  },
  {
   "cell_type": "code",
   "execution_count": 18,
   "metadata": {},
   "outputs": [],
   "source": [
    "Train_X_np = Train_X.values\n",
    "#Valid_X_np = Valid_X.values\n",
    "Test_X_np = Test_X.values"
   ]
  },
  {
   "cell_type": "code",
   "execution_count": 19,
   "metadata": {},
   "outputs": [],
   "source": [
    "def tf_mish(x, name=\"mish\") :\n",
    "    act = x * tf.nn.tanh(tf.nn.softplus(x))\n",
    "    act = tf.identity(act , name)\n",
    "    return act"
   ]
  },
  {
   "cell_type": "code",
   "execution_count": 20,
   "metadata": {},
   "outputs": [
    {
     "name": "stdout",
     "output_type": "stream",
     "text": [
      "22792 108\n"
     ]
    }
   ],
   "source": [
    "row , dim = Train_X_np.shape\n",
    "print(row,dim)\n",
    "target_n = 2 \n",
    "tf.reset_default_graph()\n",
    "X = tf.placeholder(tf.float32, shape = [ None , dim] , name=\"X\")\n",
    "y = tf.placeholder(tf.float32, shape = [ None , 1] , name=\"y\")\n",
    "DropoutRate = tf.placeholder(tf.float32, name =\"dropoutRate\")\n",
    "training = tf.placeholder_with_default(False, shape=[], name=\"training\")"
   ]
  },
  {
   "cell_type": "code",
   "execution_count": 21,
   "metadata": {},
   "outputs": [
    {
     "name": "stdout",
     "output_type": "stream",
     "text": [
      "['age', 'workclass', 'fnlwgt', 'education', 'education-num', 'marital-status', 'occupation', 'relationship', 'race', 'sex', 'capital-gain', 'capital-loss', 'hours-per-week', 'native-country']\n"
     ]
    }
   ],
   "source": [
    "print(in_var)"
   ]
  },
  {
   "cell_type": "code",
   "execution_count": 22,
   "metadata": {},
   "outputs": [],
   "source": [
    "def variable_select(in_var = None , method = None , select_n = None , NTree = None) :\n",
    "    var_n = len(in_var)\n",
    "    if method== \"sqrt\" :\n",
    "        value =np.sqrt(var_n)\n",
    "    elif method == \"log2\" :\n",
    "        value =np.log2(var_n)\n",
    "    elif method == \"select\" :\n",
    "        value = select_n\n",
    "    else :\n",
    "        value = var_n\n",
    "    return [list(np.random.choice(in_var ,\n",
    "                                  replace = False , \n",
    "                                  size = value)) for _ in range(NTree)]\n",
    "select_var = variable_select(in_var=in_var , method=\"select\" , \n",
    "                               select_n= 10 , NTree= 5)"
   ]
  },
  {
   "cell_type": "code",
   "execution_count": 23,
   "metadata": {},
   "outputs": [
    {
     "name": "stdout",
     "output_type": "stream",
     "text": [
      "[['age', 'education', 'hours-per-week', 'capital-gain', 'fnlwgt', 'occupation', 'sex', 'education-num', 'race', 'marital-status'], ['capital-loss', 'native-country', 'fnlwgt', 'workclass', 'sex', 'occupation', 'education-num', 'marital-status', 'race', 'age'], ['marital-status', 'relationship', 'native-country', 'race', 'education-num', 'education', 'hours-per-week', 'capital-loss', 'age', 'workclass'], ['marital-status', 'workclass', 'capital-loss', 'native-country', 'fnlwgt', 'education', 'sex', 'age', 'capital-gain', 'education-num'], ['workclass', 'sex', 'education-num', 'age', 'education', 'native-country', 'marital-status', 'capital-loss', 'relationship', 'occupation']]\n"
     ]
    }
   ],
   "source": [
    "print(select_var)"
   ]
  },
  {
   "cell_type": "code",
   "execution_count": 24,
   "metadata": {},
   "outputs": [],
   "source": [
    "# var = select_var[0]\n",
    "# x_input = []\n",
    "# for key in var :\n",
    "#     start_node , terminal_node = key_onehot_store[key]\n",
    "#     diff = terminal_node - start_node\n",
    "#     X_Split = tf.slice(X , [0, start_node] , [-1 , diff])\n",
    "#     x_input.append(X_Split)"
   ]
  },
  {
   "cell_type": "code",
   "execution_count": 25,
   "metadata": {},
   "outputs": [],
   "source": [
    "def Classifier_V2(X , hidden = [[],[]], Nensemble = select_var ) :\n",
    "    Ensembles = []\n",
    "    with tf.variable_scope(\"Ensembles\"):\n",
    "        for idx , __vars__ in enumerate(Nensemble) :\n",
    "            x_input = []\n",
    "            for key in __vars__ :\n",
    "                start_node , terminal_node = key_onehot_store[key]\n",
    "                diff = terminal_node - start_node\n",
    "                X_Split = tf.slice(X , [0, start_node] , [-1 , diff])\n",
    "                x_input.append(X_Split)\n",
    "            x_input = tf.concat(x_input , axis = 1)\n",
    "            TOTAL_DIM = x_input.get_shape().as_list()[1]\n",
    "            SELECT = np.random.randint(0 , len(activate_candidate) , 1)[0]\n",
    "            activation = activate_candidate[SELECT]\n",
    "            dims = hidden[idx]\n",
    "            dims = [TOTAL_DIM] + dims\n",
    "            print(dims)\n",
    "            for idx2 , h_dim in enumerate(dims) :\n",
    "                if idx2 == 0 :\n",
    "                    Weight =get_weight_variable(shape = [TOTAL_DIM , h_dim], \n",
    "                                                name=\"W_{}{}\".format(idx , idx2),\n",
    "                                                type='xavier_normal', regularize=True)\n",
    "                    Bias = tf.get_variable(\"Bias_{}{}\".format(idx , idx2),\n",
    "                                           shape = [h_dim] , dtype = tf.float32 , \n",
    "                                           initializer = tf.constant_initializer(0.0))\n",
    "                    Layer = activation(tf.matmul( x_input , Weight) + Bias)\n",
    "                    Layer = tf.contrib.nn.alpha_dropout(Layer , DropoutRate ) \n",
    "                else :\n",
    "                    Weight =get_weight_variable(shape = [dims[idx2-1] ,h_dim ], \n",
    "                                                name=\"W_{}{}\".format(idx , idx2),\n",
    "                                                type='xavier_normal', regularize=True)\n",
    "                    Bias = tf.get_variable(\"Bias_{}{}\".format(idx , idx2),\n",
    "                                           shape = [h_dim] , dtype = tf.float32 , \n",
    "                                           initializer = tf.constant_initializer(0.0))\n",
    "                    Layer = tf.matmul( Layer , Weight) + Bias\n",
    "                    if len(dims) == idx2+1 : \n",
    "                        pass\n",
    "                    else : \n",
    "                        Layer = activation(Layer)\n",
    "                        Layer = tf.contrib.nn.alpha_dropout(Layer , DropoutRate ) \n",
    "            Ensembles.append(Layer)\n",
    "        return Ensembles"
   ]
  },
  {
   "cell_type": "code",
   "execution_count": 26,
   "metadata": {},
   "outputs": [],
   "source": [
    "def tf_mish(x) :\n",
    "    return x * tf.nn.tanh(tf.nn.softplus(x))\n",
    "activate_candidate = \\\n",
    "[tf.nn.selu, tf_mish , tf.nn.leaky_relu , tf.nn.elu ]"
   ]
  },
  {
   "cell_type": "code",
   "execution_count": 27,
   "metadata": {},
   "outputs": [
    {
     "name": "stderr",
     "output_type": "stream",
     "text": [
      "WARNING: Logging before flag parsing goes to stderr.\n",
      "W0118 19:19:14.110527 140431641925376 lazy_loader.py:50] \n",
      "The TensorFlow contrib module will not be included in TensorFlow 2.0.\n",
      "For more information, please see:\n",
      "  * https://github.com/tensorflow/community/blob/master/rfcs/20180907-contrib-sunset.md\n",
      "  * https://github.com/tensorflow/addons\n",
      "  * https://github.com/tensorflow/io (for I/O related ops)\n",
      "If you depend on functionality not listed there, please file an issue.\n",
      "\n"
     ]
    },
    {
     "name": "stdout",
     "output_type": "stream",
     "text": [
      "[50, 50, 50, 2]\n",
      "[84, 80, 50, 2]\n",
      "[89, 60, 50, 2]\n",
      "[81, 70, 50, 2]\n",
      "[100, 40, 20, 2]\n"
     ]
    }
   ],
   "source": [
    "HIDDEN = [\n",
    "    [ 50 , 50,  target_n] , \n",
    "    [ 80 , 50, target_n] ,\n",
    "    [ 60 , 50, target_n] ,\n",
    "    [ 70 , 50, target_n] ,\n",
    "    [ 40 , 20, target_n]\n",
    "         ]\n",
    "NModels = Classifier_V2(X , hidden = HIDDEN , Nensemble= select_var )"
   ]
  },
  {
   "cell_type": "code",
   "execution_count": 28,
   "metadata": {},
   "outputs": [],
   "source": [
    "NModels_MEAN = tf.reduce_mean(NModels , axis = 0)\n",
    "Probs = tf.nn.softmax(NModels_MEAN)\n",
    "y_one_hot = tf.one_hot( tf.cast(tf.squeeze(y , axis = 1 ) , tf.int32) , depth=2)"
   ]
  },
  {
   "cell_type": "code",
   "execution_count": null,
   "metadata": {},
   "outputs": [],
   "source": []
  },
  {
   "cell_type": "code",
   "execution_count": null,
   "metadata": {},
   "outputs": [],
   "source": []
  },
  {
   "cell_type": "code",
   "execution_count": 29,
   "metadata": {},
   "outputs": [],
   "source": [
    "weights = tf.placeholder(tf.float32 , [None , 5], name =\"adaboost_weight\")\n",
    "alpha_value = tf.placeholder(tf.float32 , [5,1,1] , name =\"alpha\")"
   ]
  },
  {
   "cell_type": "code",
   "execution_count": 30,
   "metadata": {},
   "outputs": [],
   "source": [
    "# YPred = tf.one_hot(tf.argmax(Probs,axis=1) ,depth=2)\n",
    "# #Equals = tf.equal(YPred , y_one_hot)\n",
    "# Equals = tf.cast(tf.equal(tf.argmax(YPred, axis = 1) , tf.argmax(y_one_hot, axis = 1)),\n",
    "#                  dtype = tf.float32)\n",
    "# w = weights * tf.reshape(Equals,(-1,1))\n",
    "# err = tf.reduce_sum(w) / tf.reduce_sum(weights)\n",
    "# alpha = tf.log((1-err)/err) \n",
    "# w_ = tf.exp(alpha * tf.reshape(Equals,(-1,1)))\n",
    "# new_w = weights * w_\n",
    "#newProbs=tf.nn.softmax(tf.reduce_sum(alpha * NModels, axis = 0))\n",
    "#newTestProbs=tf.nn.softmax(tf.reduce_sum(alpha_value * NModels, axis = 0))\n"
   ]
  },
  {
   "cell_type": "code",
   "execution_count": 31,
   "metadata": {},
   "outputs": [
    {
     "name": "stdout",
     "output_type": "stream",
     "text": [
      "Tensor(\"concat:0\", shape=(?, 5), dtype=float32)\n"
     ]
    }
   ],
   "source": [
    "WEIGHT = []\n",
    "newProbs = []\n",
    "new_w = []\n",
    "for idx , model in enumerate(NModels) :\n",
    "    mProbs = tf.nn.softmax(model)\n",
    "    mPred = tf.one_hot(tf.argmax(mProbs,axis=1) ,depth=2)\n",
    "    #Equals = tf.equal(YPred , y_one_hot)\n",
    "    Equals = tf.cast(tf.equal(tf.argmax(mPred, axis = 1) , tf.argmax(y_one_hot, axis = 1)),\n",
    "                     dtype = tf.float32)\n",
    "    w_ = tf.slice(weights , [0, idx] , [-1 , 1])\n",
    "    w = w_ * tf.reshape(Equals,(-1,1))\n",
    "    err = tf.reduce_sum(w) / tf.reduce_sum(weights)\n",
    "    alpha = tf.log((1-err)/err) \n",
    "    w_2 = tf.exp(alpha * tf.reshape(Equals,(-1,1)))\n",
    "    new_w.append(w_ * w_2)\n",
    "    WEIGHT.append(alpha)\n",
    "    newProbs.append(alpha * model)\n",
    "    \n",
    "\n",
    "new_w = tf.concat(new_w, axis = 1)\n",
    "print(new_w)\n",
    "    \n",
    "newProbs=tf.nn.softmax(tf.reduce_sum(newProbs, axis = 0))    \n",
    "WEIGHT_Tensor = tf.convert_to_tensor(WEIGHT)\n",
    "WEIGHT_Tensor = tf.reshape(WEIGHT_Tensor, (len(NModels),1,1))\n",
    "newProbs =tf.nn.softmax(\n",
    "    tf.reduce_sum(\n",
    "        tf.multiply(WEIGHT_Tensor,\n",
    "                    tf.convert_to_tensor(NModels))\n",
    "        , axis = 0))    \n",
    "\n",
    "newTestProbs=tf.nn.softmax(\n",
    "    tf.reduce_sum(\n",
    "        tf.multiply(\n",
    "            tf.reshape(alpha_value, (len(NModels),1,1)) ,\n",
    "            tf.convert_to_tensor(NModels)), axis = 0))\n",
    "\n",
    "# #WEIGHT_Tensor\n",
    "# A = tf.convert_to_tensor(NModels)"
   ]
  },
  {
   "cell_type": "code",
   "execution_count": 33,
   "metadata": {},
   "outputs": [],
   "source": [
    "# np.array([100 , 20.,1,1.,30.]).reshape(5,1,1) * A2[:,0:3,:]"
   ]
  },
  {
   "cell_type": "code",
   "execution_count": 34,
   "metadata": {},
   "outputs": [],
   "source": [
    "# tf.InteractiveSession()\n",
    "# #tf.one_hot(y , depth= 2).shape\n",
    "# y = Train_y.values.reshape(-1,1)[0:10].tolist()\n",
    "# tf.one_hot( tf.cast(tf.squeeze(y , axis = 1 ) , tf.int32) , depth=2).eval()"
   ]
  },
  {
   "cell_type": "code",
   "execution_count": 35,
   "metadata": {},
   "outputs": [],
   "source": [
    "from sklearn.utils.class_weight import compute_class_weight\n",
    "y_weight_info = compute_class_weight(class_weight= \"balanced\" , \n",
    "                     classes = np.unique(Train_y),\n",
    "                     y= np.squeeze(Train_y))\n",
    "weight = tf.constant([ y_weight_info[1] ] ) # "
   ]
  },
  {
   "cell_type": "markdown",
   "metadata": {},
   "source": [
    "## Version1 (Averaging)"
   ]
  },
  {
   "cell_type": "code",
   "execution_count": 36,
   "metadata": {},
   "outputs": [],
   "source": [
    "# WCE = tf.nn.weighted_cross_entropy_with_logits(targets = y_one_hot ,\n",
    "#                                                logits = NModels_MEAN , \n",
    "#                                                pos_weight =  weight)\n",
    "# Loss = tf.reduce_mean(WCE)"
   ]
  },
  {
   "cell_type": "code",
   "execution_count": 37,
   "metadata": {},
   "outputs": [],
   "source": [
    "mod = sys.modules[__name__]\n",
    "for idx , Model in enumerate(NModels) :\n",
    "    setattr(mod, 'model_{}_softmax'.format(idx), \n",
    "            tf.argmax( tf.nn.softmax(Model) , axis = 1 ))"
   ]
  },
  {
   "cell_type": "markdown",
   "metadata": {},
   "source": [
    "## Version2 (개별)"
   ]
  },
  {
   "cell_type": "code",
   "execution_count": 38,
   "metadata": {},
   "outputs": [
    {
     "name": "stderr",
     "output_type": "stream",
     "text": [
      "W0118 19:19:14.942119 140431641925376 deprecation.py:506] From <ipython-input-38-71b281ad19c5>:7: calling weighted_cross_entropy_with_logits (from tensorflow.python.ops.nn_impl) with targets is deprecated and will be removed in a future version.\n",
      "Instructions for updating:\n",
      "targets is deprecated, use labels instead\n"
     ]
    }
   ],
   "source": [
    "mod = sys.modules[__name__]\n",
    "Loss = []\n",
    "# Probs = 0\n",
    "for idx , Model in enumerate(NModels) :\n",
    "    loss = tf.nn.weighted_cross_entropy_with_logits(targets = y_one_hot ,\n",
    "                                                     logits = Model , \n",
    "                                                     pos_weight = weight)\n",
    "#     Probs +=tf.nn.softmax(Model)\n",
    "    Loss.append(loss)\n",
    "    #Loss += loss\n",
    "Loss = tf.reduce_mean(Loss)\n",
    "#Loss /= len(NModels)\n",
    "# Probs = tf.nn.softmax(Probs)"
   ]
  },
  {
   "cell_type": "markdown",
   "metadata": {},
   "source": [
    "## L1 L2 Penalty"
   ]
  },
  {
   "cell_type": "code",
   "execution_count": 39,
   "metadata": {},
   "outputs": [],
   "source": [
    "vars = tf.get_collection(tf.GraphKeys.GLOBAL_VARIABLES,scope=\"Ensembles\")\n",
    "L2 = []\n",
    "WEIGHTS = []\n",
    "import re \n",
    "for v in vars :\n",
    "    if re.search('W_' , v.name) :\n",
    "        WEIGHTS.append(v)\n",
    "        L2.append(tf.nn.l2_loss(v))\n",
    "Loss += tf.add_n(L2)  * 0.0001\n",
    "l1_regularizer = tf.contrib.layers.l1_regularizer(scale=0.005, scope=None)\n",
    "regularization_penalty = tf.contrib.layers.apply_regularization(l1_regularizer, WEIGHTS )\n",
    "Loss += regularization_penalty  * 0.0001"
   ]
  },
  {
   "cell_type": "code",
   "execution_count": 40,
   "metadata": {},
   "outputs": [],
   "source": [
    "solver = RAdamOptimizer(learning_rate= 1e-4).minimize(Loss ,var_list = vars )"
   ]
  },
  {
   "cell_type": "code",
   "execution_count": 41,
   "metadata": {},
   "outputs": [
    {
     "name": "stdout",
     "output_type": "stream",
     "text": [
      "(22792, 108)\n",
      "0    17266\n",
      "1     5526\n",
      "Name: income, dtype: int64\n"
     ]
    }
   ],
   "source": [
    "print(Train_X.shape )\n",
    "print(Train_y.value_counts())\n",
    "weight_np = np.ones((len(Train_y), 1)) * (1/len(Train_y))\n",
    "#weight_np"
   ]
  },
  {
   "cell_type": "code",
   "execution_count": null,
   "metadata": {},
   "outputs": [
    {
     "name": "stdout",
     "output_type": "stream",
     "text": [
      "[[13245  4021]\n",
      " [  731  4795]]\n",
      "Epoch : 550 , Loss :0.71740, AUC : 88.48\n",
      "target 1 oversample n :  731\n",
      "[[[1.3863885]]\n",
      "\n",
      " [[1.3861492]]\n",
      "\n",
      " [[1.3870183]]\n",
      "\n",
      " [[1.3868233]]\n",
      "\n",
      " [[1.3938167]]]\n",
      "(22792, 5)\n"
     ]
    },
    {
     "data": {
      "image/png": "[encoded data removed]",
      "text/plain": [
       "<Figure size 432x288 with 1 Axes>"
      ]
     },
     "metadata": {
      "needs_background": "light"
     },
     "output_type": "display_data"
    },
    {
     "data": {
      "image/png": "[encoded data removed]",
      "text/plain": [
       "<Figure size 1080x864 with 6 Axes>"
      ]
     },
     "metadata": {
      "needs_background": "light"
     },
     "output_type": "display_data"
    },
    {
     "name": "stdout",
     "output_type": "stream",
     "text": [
      "552\r"
     ]
    }
   ],
   "source": [
    "from sklearn.metrics import confusion_matrix\n",
    "Epoch = 10000\n",
    "mb_size = 1000\n",
    "config=tf.ConfigProto(log_device_placement=True)\n",
    "config.gpu_options.allow_growth = True\n",
    "sess = tf.Session(config = config)\n",
    "sess.run(tf.global_variables_initializer())\n",
    "_Loss_ = []\n",
    "_Epoch_ = []\n",
    "_Epoch2_ = [0]\n",
    "_trAUC_ , _teAUC_ = [0] , [0]\n",
    "weight_np = np.ones((len(Train_y), 5)) * (1/len(Train_y))\n",
    "print(\"Train\")\n",
    "for epoch in range(Epoch) :\n",
    "    print(epoch , end = \"\\r\")\n",
    "    target1 = np.random.choice(target_1_list ,\n",
    "                               int(len(target_1_list)/2) ,\n",
    "                               replace = False )\n",
    "    target0 = np.random.choice(target_0_list , \n",
    "                               len(target_0_list) ,\n",
    "                               replace = True )\n",
    "    target1 = list(target1)\n",
    "    target0 = list(target0)\n",
    "    if epoch > 10 :\n",
    "        target1 = target1 + 2 * checkpoint \n",
    "    XX = Train_X_np[target1 + target0  , : ]\n",
    "    YY = Train_y.values[target1 + target0]\n",
    "    WW_ = weight_np[target1 + target0, :]\n",
    "    idx = np.random.permutation(len(XX))\n",
    "    XX = XX[idx , : ]\n",
    "    YY = YY[idx]\n",
    "    WW = WW_[idx, :]\n",
    "    batch_iter = int(len(XX) / mb_size)\n",
    "    batchLoss = 0\n",
    "    for idx in range(batch_iter) :\n",
    "        X_mb = XX[idx*mb_size:(idx+1)*mb_size]\n",
    "        Y_mb = YY[idx*mb_size:(idx+1)*mb_size]\n",
    "        Feed = {X : X_mb ,\n",
    "                y : Y_mb.reshape(-1,1) , \n",
    "                weights : WW , \n",
    "                DropoutRate : 0.5 ,\n",
    "                training : True \n",
    "               }\n",
    "        _ , LOSS  = sess.run([solver , Loss] , feed_dict= Feed)\n",
    "        batchLoss += LOSS\n",
    "    batchLoss /= batch_iter\n",
    "    _Loss_.append(batchLoss)\n",
    "    _Epoch_.append(epoch)\n",
    "    \n",
    "    if epoch % 10 == 0 :\n",
    "        Feed = {X : Train_X_np  ,\n",
    "                y : Train_y.values.reshape(-1,1) , \n",
    "                DropoutRate : 1.0 ,\n",
    "                weights : weight_np , \n",
    "                training : True \n",
    "               }\n",
    "        probs , weight_np , alpha_result = sess.run([newProbs, new_w , WEIGHT_Tensor ] , feed_dict= Feed)\n",
    "        weight_np /= np.sum(weight_np , axis = 0)\n",
    "        real_target = np.squeeze(Train_y.values)\n",
    "        pred_target = np.argmax(probs,axis =1)\n",
    "        AUC = roc_auc_score(real_target , probs[:,1])\n",
    "        DD = pd.DataFrame([real_target ,pred_target], index = [\"t\",\"p\"]).T\n",
    "        DD2 = DD[(DD.t == 1) & (DD.p==0)]\n",
    "        checkpoint = DD2.index.tolist()\n",
    "    \n",
    "    msg = \"Epoch : {} , Loss :{:.5f}, AUC : {:.2f}\".format(epoch ,LOSS ,AUC*100)\n",
    "    if (epoch % 50 == 0) & ( epoch > 0 ) :\n",
    "#         __idx__ = np.random.permutation(len(Train_X_np))\n",
    "#         __idx__ = np.random.choice(__idx__ , replace = False, size= 500)\n",
    "#         Feed = { X : Train_X_np[__idx__,:]  ,\n",
    "#                 DropoutRate : 1 ,\n",
    "#                 training : True }\n",
    "        dd = [sess.run( getattr(mod,  \"model_{}_softmax\".format(i)) , \n",
    "                       feed_dict= Feed)  for i in np.arange(len(NModels))]\n",
    "        s = pd.DataFrame(dd)\n",
    "        models = np.arange(s.shape[0])\n",
    "        indexs = np.arange(s.shape[1])\n",
    "        fig, ax = plt.subplots( figsize = (12,8))\n",
    "        plt.pcolor(s)\n",
    "        plt.yticks(np.arange(0.5, len(models), 1),models)\n",
    "        plt.title(msg)\n",
    "        plt.savefig(f\"./NNEnsembleResult/adaboost_b/plot.{epoch:04d}.png\")\n",
    "        plt.close()    \n",
    "        #d = pd.DataFrame(dd).sum(axis = 0)\n",
    "        #plt.scatter( np.arange(len(d)) , d.values)\n",
    "    if (epoch % 10 == 0) & ( epoch > 0 ):\n",
    "        clear_output()\n",
    "        print(confusion_matrix(real_target , pred_target))\n",
    "        print(msg)\n",
    "        print(\"target 1 oversample n : \", len(checkpoint))\n",
    "        print(alpha_result)\n",
    "        print(weight_np.shape)\n",
    "        plt.hist(np.squeeze(weight_np))\n",
    "        plt.show()\n",
    "        trainDD = pd.DataFrame([real_target ,probs[:,1]],\n",
    "                               index = [\"t\",\"prob\"]).T\n",
    "        trainAUC = AUC\n",
    "        Feed = {X : Test_X_np  ,\n",
    "                alpha_value : alpha_result,\n",
    "                DropoutRate : 1.0 ,\n",
    "                training : True ,\n",
    "           }\n",
    "        testprobs  = sess.run(newTestProbs , feed_dict= Feed)\n",
    "        real_target = np.squeeze(Test_y.values)\n",
    "        pred_target = np.argmax(testprobs,axis =1)\n",
    "        testAUC = roc_auc_score(real_target , testprobs[:,1])\n",
    "        testDD = pd.DataFrame([real_target ,testprobs[:,1]],\n",
    "                          index = [\"t\",\"prob\"]).T\n",
    "        ###################################################\n",
    "        fig , axes = plt.subplots(nrows=4 ,ncols=2,\n",
    "                  figsize=(15,12) )\n",
    "        plt.subplots_adjust(left=0.05, bottom=0.1, right=0.99, \n",
    "                            top=0.95, wspace=None, hspace=0.5)\n",
    "        ax = axes.flatten()\n",
    "        sns.boxplot(x=\"t\", y=\"prob\", data=trainDD, ax = ax[0])\n",
    "        ax[0].set_title(\"train : {:.3f}\".format(trainAUC), fontsize= 25)\n",
    "        sns.boxplot(x=\"t\", y=\"prob\", data=testDD, ax = ax[1])\n",
    "        ax[1].set_title(\"test : {:.3f}\".format(testAUC), fontsize= 25)\n",
    "        skplt.metrics.plot_ks_statistic(Train_y.values, probs , \n",
    "                                        ax = ax[2] , \n",
    "                                        title = \"[Train] KS Static PLOT\")\n",
    "        skplt.metrics.plot_ks_statistic(Test_y.values, testprobs ,\n",
    "                                        ax = ax[3], \n",
    "                                        title = \"[Test] KS Static PLOT\")\n",
    "\n",
    "        ax3 = plt.subplot(413)\n",
    "        plt.subplots_adjust(left=0.05, bottom=0.1, right=0.99, \n",
    "                            top=0.95, wspace=None, hspace=0.7)\n",
    "        ax3.plot(_Epoch_ , _Loss_ )\n",
    "        ax3.set_title(msg, fontsize= 20)\n",
    "        _Epoch2_.append(epoch)\n",
    "        _trAUC_.append(trainAUC)\n",
    "        _teAUC_.append(testAUC)\n",
    "        ax4 = plt.subplot(414)\n",
    "        ax4.plot(_Epoch2_ , _trAUC_ , label = \"train auc\")\n",
    "        ax4.plot(_Epoch2_ , _teAUC_ , label = \"test auc\")\n",
    "        ax4.legend()\n",
    "        msg = \"Epoch : {} / AUC | Train : {:.2f} Test : {:.2f}\".format(epoch , \n",
    "                                                               100*trainAUC ,\n",
    "                                                               100*testAUC\n",
    "                                                              )\n",
    "        ax4.set_title(msg, fontsize= 20)\n",
    "        plt.savefig(f\"./NNEnsembleResult/adaboost_a/plot.{epoch:04d}.png\")\n",
    "        plt.show()"
   ]
  },
  {
   "cell_type": "code",
   "execution_count": 46,
   "metadata": {},
   "outputs": [
    {
     "data": {
      "text/plain": [
       "array([5.1951494, 5.0177984, 4.4827447, 4.900904 , 5.2864947],\n",
       "      dtype=float32)"
      ]
     },
     "execution_count": 46,
     "metadata": {},
     "output_type": "execute_result"
    }
   ],
   "source": [
    "np.sum(weight_np, axis = 0)"
   ]
  },
  {
   "cell_type": "code",
   "execution_count": null,
   "metadata": {},
   "outputs": [],
   "source": [
    "os.system(f'ffmpeg -r 20 -i ./NNEnsembleResult/adaboost_a/plot.%04d.png'\n",
    "              f' -crf 15 ./NNEnsembleResult/adaboost_a.mp4')"
   ]
  },
  {
   "cell_type": "code",
   "execution_count": null,
   "metadata": {},
   "outputs": [],
   "source": [
    "os.system(f'ffmpeg -r 20 -i ./NNEnsembleResult/adaboost_b/plot.%04d.png'\n",
    "              f' -crf 15 ./NNEnsembleResult/adaboost_b.mp4')"
   ]
  }
 ],
 "metadata": {
  "kernelspec": {
   "display_name": "base",
   "language": "python",
   "name": "base"
  },
  "language_info": {
   "codemirror_mode": {
    "name": "ipython",
    "version": 3
   },
   "file_extension": ".py",
   "mimetype": "text/x-python",
   "name": "python",
   "nbconvert_exporter": "python",
   "pygments_lexer": "ipython3",
   "version": "3.6.7"
  }
 },
 "nbformat": 4,
 "nbformat_minor": 4
}
