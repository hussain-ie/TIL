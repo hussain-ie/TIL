{
  "nbformat": 4,
  "nbformat_minor": 0,
  "metadata": {
    "colab": {
      "name": "numpy 76~90",
      "version": "0.3.2",
      "provenance": [],
      "collapsed_sections": [],
      "include_colab_link": true
    },
    "kernelspec": {
      "name": "python3",
      "display_name": "Python 3"
    }
  },
  "cells": [
    {
      "cell_type": "markdown",
      "metadata": {
        "id": "view-in-github",
        "colab_type": "text"
      },
      "source": [
        "[View in Colaboratory](https://colab.research.google.com/github/sungreong/TIL/blob/master/(0805)numpy_76~90.ipynb)"
      ]
    },
    {
      "metadata": {
        "id": "aELkua7FSt46",
        "colab_type": "code",
        "colab": {
          "base_uri": "https://localhost:8080/",
          "height": 235
        },
        "outputId": "0b99084b-fae3-4c56-e52a-da70ec9aa6e4"
      },
      "cell_type": "code",
      "source": [
        "## 76 consider a one-dimensional array Z ,  build a two-dimesonal array\n",
        "## whose first row is (Z[0],Z[1],Z[2]) and each subsequent row is shifted by 1 \n",
        "## (last row should be (Z[-3],Z[-2],Z[-1]) \n",
        "import numpy as np\n",
        "from numpy.lib import stride_tricks\n",
        "\n",
        "def rolling(a, window):\n",
        "    shape = (a.size - window + 1, window)\n",
        "    strides = (a.itemsize, a.itemsize)\n",
        "    return stride_tricks.as_strided(a, shape=shape, strides=strides)\n",
        "Z = rolling(np.arange(10), 3)\n",
        "print(\"size = \", np.arange(10).size)\n",
        "print(\"shape=\" , (np.arange(10).size-3 +1 , 3 ))\n",
        "print(\"strides = \" , ( np.arange(10).itemsize , np.arange(10).itemsize ) )\n",
        "print( np.arange(10))\n",
        "print(Z.shape)\n",
        "print(Z)"
      ],
      "execution_count": 8,
      "outputs": [
        {
          "output_type": "stream",
          "text": [
            "size =  10\n",
            "shape= (8, 3)\n",
            "strides =  (8, 8)\n",
            "[0 1 2 3 4 5 6 7 8 9]\n",
            "(8, 3)\n",
            "[[0 1 2]\n",
            " [1 2 3]\n",
            " [2 3 4]\n",
            " [3 4 5]\n",
            " [4 5 6]\n",
            " [5 6 7]\n",
            " [6 7 8]\n",
            " [7 8 9]]\n"
          ],
          "name": "stdout"
        }
      ]
    },
    {
      "metadata": {
        "id": "m38VOhjw0dQt",
        "colab_type": "code",
        "colab": {
          "base_uri": "https://localhost:8080/",
          "height": 151
        },
        "outputId": "eb488ae6-ae3b-4b30-cf59-b14eafbef1dc"
      },
      "cell_type": "code",
      "source": [
        "## 77 HOW TO negative a boolean , or to change the sign of a float inplace\n",
        "Z = np.random.randint(0, 2 , 100)\n",
        "print(Z[0:10] , \"\\n 0 ,1 바꾸기 \")\n",
        "np.logical_not(Z , out= Z)\n",
        "print(Z[0:10])\n",
        "Z = np.random.uniform(-1.0  , 1.0 , 100)\n",
        "print(Z[0:10] , \" \\n  부호 바꾸기 \")\n",
        "np.negative(Z ,out =Z)[0:10]"
      ],
      "execution_count": 14,
      "outputs": [
        {
          "output_type": "stream",
          "text": [
            "[0 0 0 0 0 1 0 0 1 1] \n",
            " 0 ,1 바꾸기 \n",
            "[1 1 1 1 1 0 1 1 0 0]\n",
            "[-0.78680416  0.55293101 -0.05272295  0.64779132  0.59735683 -0.2548658\n",
            "  0.17721895  0.89952008 -0.31654216  0.16920254]  \n",
            "  부호 바꾸기 \n"
          ],
          "name": "stdout"
        },
        {
          "output_type": "execute_result",
          "data": {
            "text/plain": [
              "array([ 0.78680416, -0.55293101,  0.05272295, -0.64779132, -0.59735683,\n",
              "        0.2548658 , -0.17721895, -0.89952008,  0.31654216, -0.16920254])"
            ]
          },
          "metadata": {
            "tags": []
          },
          "execution_count": 14
        }
      ]
    },
    {
      "metadata": {
        "id": "sSCL8tlf2QL_",
        "colab_type": "code",
        "colab": {
          "base_uri": "https://localhost:8080/",
          "height": 386
        },
        "outputId": "12bca14b-6ca9-4d1b-c167-354c0d178906"
      },
      "cell_type": "code",
      "source": [
        "## 78 consider 2 sets of points P0 ,P1 describing lines (2d) and  a point p ,\n",
        "## how to compute distance from p to each line i  (P0[I] , P1[i])?\n",
        "## 잘 모르겠음 \n",
        "def distance(P0 , P1 , p ) :\n",
        "    T = P1-P0\n",
        "    L = (T**2).sum(axis=1)\n",
        "    U = -( (P0[:,0] - p[...,0])*T[:,0] + (P0[:, 1] - p[...,1])*T[:,1] ) /L\n",
        "    U = U.reshape(len(U), 1)\n",
        "    D= P0 + U*T -p\n",
        "    return np.sqrt( (D**2).sum(axis=1 ) )\n",
        "\n",
        "P0 = np.random.uniform(-10 , 10, (10, 2))\n",
        "P1 = np.random.uniform(-10 ,10 , (10, 2))\n",
        "p = np.random.uniform(-10, 10, (1,2))\n",
        "T= P1-P0\n",
        "L = (T**2).sum(axis=1)\n",
        "U = -( (P0[:,0] - p[...,0])*T[:,0] + (P0[:, 1] - p[...,1])*T[:,1] ) /L\n",
        "print(\"before U.shape\", U.shape , \"len(U)\" , len(U))\n",
        "U = U.reshape(len(U), 1)\n",
        "print(\"after U.shape\", U.shape )\n",
        "D= P0 + U*T -p\n",
        "print(\"T = P1 -P0  두 좌표 사이의 차이  \\n\" , P1 -P0 )\n",
        "print(\"L = 차이 제곱의 열을 합침 \\n \" , ( (P1 -P0 )**2).sum(axis=1))\n",
        "print(\" P0 기준으로 두개 값을 빼고 차이를 곱하고  더한다음 부호를 마이ㄴ \\n\" , -( (P0[:,0] - p[...,0])*T[:,0] + (P0[:, 1] - p[...,1])*T[:,1] ) )\n",
        "print(\"distnact, \\n \" , distance(P0, P1 , p ))"
      ],
      "execution_count": 37,
      "outputs": [
        {
          "output_type": "stream",
          "text": [
            "before U.shape (10,) len(U) 10\n",
            "after U.shape (10, 1)\n",
            "T = P1 -P0  두 좌표 사이의 차이  \n",
            " [[ -6.31553802  -3.09433316]\n",
            " [  6.68378575  -8.43118082]\n",
            " [  3.04042493  11.14468256]\n",
            " [ -7.87918415   9.23162829]\n",
            " [ -9.80116184   4.52645624]\n",
            " [  1.46238049  -4.13230569]\n",
            " [ -6.27030117  -0.80879123]\n",
            " [-11.78994556   2.93590711]\n",
            " [ 12.30711365 -10.60880654]\n",
            " [  3.25882352  11.54267316]]\n",
            "L = 차이 제곱의 열을 합침 \n",
            "  [ 49.46091819 115.75780192 133.44813307 147.30450386 116.55157944\n",
            "  19.21450702  39.97082004 147.62236697 264.0118225  143.85323439]\n",
            " P0 기준으로 두개 값을 빼고 차이를 곱하고  더한다음 부호를 마이ㄴ \n",
            " [-30.86817548  11.33674417  85.3954832  117.10550679  62.85064971\n",
            "  -6.08254456   4.49397683  28.45629809 101.37795749 195.50709815]\n",
            "distnact, \n",
            "  [ 5.03824458  0.04447048  2.62864833 12.11104774 14.77196163  8.74699567\n",
            "  3.62864086  1.44063871  3.27527509  3.16603866]\n"
          ],
          "name": "stdout"
        }
      ]
    },
    {
      "metadata": {
        "id": "FaeJGwfY4LnQ",
        "colab_type": "code",
        "colab": {
          "base_uri": "https://localhost:8080/",
          "height": 638
        },
        "outputId": "71dd9775-c93d-4f08-c5cc-896bb5bea035"
      },
      "cell_type": "code",
      "source": [
        "## 80. consider an arbitrary array , write a function that extract a subpart with a fixed shape \n",
        "## and centered on a given element (pad with a fill value when necessary )\n",
        "\n",
        "Z = np.random.randint(0 ,10 , (10, 10))\n",
        "shape =(5,5)\n",
        "fill = 0  ; position=(1,1)\n",
        "\n",
        "R = np.ones(shape , dtype = Z.dtype)*fill\n",
        "P = np.array(list(position)).astype(int)\n",
        "Rs = np.array( list(R.shape)).astype(int)\n",
        "Zs = np.array(list(Z.shape)).astype(int)\n",
        "print(Rs, Zs)\n",
        "R_start = np.zeros((len(shape),)).astype(int)\n",
        "R_stop  = np.array(list(shape)).astype(int)\n",
        "Z_start = (P-Rs//2) ; print(Rs , Rs//2 , Rs%2)\n",
        "Z_stop  = (P+Rs//2)+Rs%2\n",
        "\n",
        "R_start = (R_start - np.minimum(Z_start,0)).tolist() ; print(R_start)\n",
        "Z_start = (np.maximum(Z_start,0)).tolist()\n",
        "R_stop = np.maximum(R_start, (R_stop - np.maximum(Z_stop-Zs,0))).tolist()\n",
        "Z_stop = (np.minimum(Z_stop,Zs)).tolist() ; \n",
        "\n",
        "r= [slice(start, stop) for start ,stop in zip(R_start , R_stop)]\n",
        "z= [slice(start, stop) for start ,stop in zip(Z_start , Z_stop)]\n",
        "print(r) ; print(z ,\"\\n\")\n",
        "print(Z)\n",
        "print(R ,\"\\n \")\n",
        "R[r] = Z[z]\n",
        "print(Z)\n",
        "print(R)"
      ],
      "execution_count": 52,
      "outputs": [
        {
          "output_type": "stream",
          "text": [
            "[5 5] [10 10]\n",
            "[5 5] [2 2] [1 1]\n",
            "[1, 1]\n",
            "[slice(1, 5, None), slice(1, 5, None)]\n",
            "[slice(0, 4, None), slice(0, 4, None)] \n",
            "\n",
            "[[4 5 1 4 8 7 9 8 4 2]\n",
            " [9 2 7 6 2 4 1 6 1 3]\n",
            " [3 1 5 5 5 2 3 1 3 4]\n",
            " [7 5 2 2 6 7 0 6 8 6]\n",
            " [4 0 5 3 4 6 6 7 0 7]\n",
            " [7 7 3 0 9 7 1 8 3 9]\n",
            " [4 9 1 8 4 0 3 0 6 7]\n",
            " [1 3 5 1 3 1 4 1 2 4]\n",
            " [0 9 1 8 6 0 2 2 1 4]\n",
            " [5 3 2 0 3 3 8 2 3 8]]\n",
            "[[0 0 0 0 0]\n",
            " [0 0 0 0 0]\n",
            " [0 0 0 0 0]\n",
            " [0 0 0 0 0]\n",
            " [0 0 0 0 0]] \n",
            " \n",
            "[[4 5 1 4 8 7 9 8 4 2]\n",
            " [9 2 7 6 2 4 1 6 1 3]\n",
            " [3 1 5 5 5 2 3 1 3 4]\n",
            " [7 5 2 2 6 7 0 6 8 6]\n",
            " [4 0 5 3 4 6 6 7 0 7]\n",
            " [7 7 3 0 9 7 1 8 3 9]\n",
            " [4 9 1 8 4 0 3 0 6 7]\n",
            " [1 3 5 1 3 1 4 1 2 4]\n",
            " [0 9 1 8 6 0 2 2 1 4]\n",
            " [5 3 2 0 3 3 8 2 3 8]]\n",
            "[[0 0 0 0 0]\n",
            " [0 4 5 1 4]\n",
            " [0 9 2 7 6]\n",
            " [0 3 1 5 5]\n",
            " [0 7 5 2 2]]\n"
          ],
          "name": "stdout"
        }
      ]
    },
    {
      "metadata": {
        "id": "0Ohgi_2A2QR0",
        "colab_type": "code",
        "colab": {
          "base_uri": "https://localhost:8080/",
          "height": 202
        },
        "outputId": "6d5b2cf5-20cb-4371-a2b1-49453eec5640"
      },
      "cell_type": "code",
      "source": [
        "## 81  consider an array Z = [1,2,3,4,5,6,7,8,9,10, 11,12,13,14] , how to generate an array \n",
        "## R = [[1,2,3,4,], [2,3,4,5,], ..[11,12,13,14]]\n",
        "\n",
        "z = np.arange(1, 15, dtype= np.uint32)\n",
        "r = stride_tricks.as_strided(z ,shape = (11,4), strides = (4 , 4 ))\n",
        "r"
      ],
      "execution_count": 58,
      "outputs": [
        {
          "output_type": "execute_result",
          "data": {
            "text/plain": [
              "array([[ 1,  2,  3,  4],\n",
              "       [ 2,  3,  4,  5],\n",
              "       [ 3,  4,  5,  6],\n",
              "       [ 4,  5,  6,  7],\n",
              "       [ 5,  6,  7,  8],\n",
              "       [ 6,  7,  8,  9],\n",
              "       [ 7,  8,  9, 10],\n",
              "       [ 8,  9, 10, 11],\n",
              "       [ 9, 10, 11, 12],\n",
              "       [10, 11, 12, 13],\n",
              "       [11, 12, 13, 14]], dtype=uint32)"
            ]
          },
          "metadata": {
            "tags": []
          },
          "execution_count": 58
        }
      ]
    },
    {
      "metadata": {
        "id": "Vbmv1oHl2QYQ",
        "colab_type": "code",
        "colab": {
          "base_uri": "https://localhost:8080/",
          "height": 50
        },
        "outputId": "8f015beb-a15b-4fb3-a252-9918806f40ff"
      },
      "cell_type": "code",
      "source": [
        "## 82 compute a matrix rank \n",
        "z = np.random.uniform(0 , 1, (7, 10))\n",
        "u ,s ,v= np.linalg.svd(z)\n",
        "print(u.shape, s.shape, v.shape)\n",
        "rank= np.sum(s > 1e-10)\n",
        "print(rank)"
      ],
      "execution_count": 64,
      "outputs": [
        {
          "output_type": "stream",
          "text": [
            "(7, 7) (7,) (10, 10)\n",
            "7\n"
          ],
          "name": "stdout"
        }
      ]
    },
    {
      "metadata": {
        "id": "LhyNOiWM2Qbq",
        "colab_type": "code",
        "colab": {
          "base_uri": "https://localhost:8080/",
          "height": 50
        },
        "outputId": "f7963ea7-896c-429c-a866-058e26bd3fce"
      },
      "cell_type": "code",
      "source": [
        "## 83 how to find the most frequent value in an array?\n",
        "z = np.random.randint(0  ,10 ,  50)\n",
        "print(np.bincount(z).argmax())\n",
        "print(np.bincount(z))"
      ],
      "execution_count": 69,
      "outputs": [
        {
          "output_type": "stream",
          "text": [
            "0\n",
            "[10  9  5  3  5  2  4  6  1  5]\n"
          ],
          "name": "stdout"
        }
      ]
    },
    {
      "metadata": {
        "id": "Dnp4yWi52Qeq",
        "colab_type": "code",
        "colab": {
          "base_uri": "https://localhost:8080/",
          "height": 252
        },
        "outputId": "da5fe191-ad82-4d8c-b1e6-59c20e7bad43"
      },
      "cell_type": "code",
      "source": [
        "## 84 extract all the contiguous 3x3 blocks from a random 10x10 matrix \n",
        "\n",
        "z= np.random.randint(0 ,5 , (10, 10))\n",
        "n = 3\n",
        "print(z.shape)\n",
        "i = 1+(z.shape[0] -3)\n",
        "j = 1+(z.shape[1]-3)\n",
        "print(z)\n",
        "print(i  , j )\n",
        "print(z.strides + z.strides)\n",
        "c = stride_tricks.as_strided(z , shape=(i , j , n , n ) , strides = z.strides+ z.strides)\n",
        "print(c.shape)"
      ],
      "execution_count": 77,
      "outputs": [
        {
          "output_type": "stream",
          "text": [
            "(10, 10)\n",
            "[[4 0 3 1 2 4 3 4 4 0]\n",
            " [1 1 0 1 3 4 1 3 2 1]\n",
            " [3 3 0 2 1 4 2 1 3 0]\n",
            " [0 4 4 3 0 3 4 3 1 2]\n",
            " [3 0 4 2 2 4 4 4 3 4]\n",
            " [4 0 3 4 4 2 0 0 4 1]\n",
            " [2 3 2 1 0 4 4 3 1 1]\n",
            " [4 2 4 1 2 2 3 2 2 1]\n",
            " [3 1 1 1 0 0 3 2 3 1]\n",
            " [4 0 4 3 0 1 2 0 2 4]]\n",
            "8 8\n",
            "(80, 8, 80, 8)\n",
            "(8, 8, 3, 3)\n"
          ],
          "name": "stdout"
        }
      ]
    },
    {
      "metadata": {
        "id": "zZaBWWKc2QiE",
        "colab_type": "code",
        "colab": {
          "base_uri": "https://localhost:8080/",
          "height": 168
        },
        "outputId": "c1b29239-afeb-4559-e85a-7eb0eb4a3c36"
      },
      "cell_type": "code",
      "source": [
        "## 85 create a 2d array subclass such that Z[i, j ] == Z[j,i]\n",
        "\n",
        "class Symetric(np.ndarray):\n",
        "    def __setitem__(self, index, value):\n",
        "        i,j = index\n",
        "        super(Symetric, self).__setitem__((i,j), value)\n",
        "        super(Symetric, self).__setitem__((j,i), value)\n",
        "\n",
        "def symetric(Z):\n",
        "    return np.asarray(Z + Z.T - np.diag(Z.diagonal())).view(Symetric)\n",
        "\n",
        "S = symetric(np.random.randint(0,10,(4,4)))\n",
        "print(S, \"\\n \")\n",
        "S[2,3] = 42\n",
        "print(S)"
      ],
      "execution_count": 82,
      "outputs": [
        {
          "output_type": "stream",
          "text": [
            "[[ 6 10  9  8]\n",
            " [10  9  4  8]\n",
            " [ 9  4  7 15]\n",
            " [ 8  8 15  6]] \n",
            " \n",
            "[[ 6 10  9  8]\n",
            " [10  9  4  8]\n",
            " [ 9  4  7 42]\n",
            " [ 8  8 42  6]]\n"
          ],
          "name": "stdout"
        }
      ]
    },
    {
      "metadata": {
        "id": "cflvroqI2QlC",
        "colab_type": "code",
        "colab": {
          "base_uri": "https://localhost:8080/",
          "height": 202
        },
        "outputId": "fe284b8f-77e8-4b00-de04-9849fb788481"
      },
      "cell_type": "code",
      "source": [
        "## 86  consider a set of p matrices which shape ( n, n ) and \n",
        "## a set of p vectors with shape (n , 1) .\n",
        "## how to compute the sum of  the p matrix products at once \n",
        "p , n = 10 ,20\n",
        "M = np.ones((p, n , n))\n",
        "V = np.ones( (p, n , 1))\n",
        "S =np.tensordot(M ,V , axes = [[ 0, 2], [0, 1]])\n",
        "print(S.shape , \"\\n \" ,S[10:20, ])"
      ],
      "execution_count": 87,
      "outputs": [
        {
          "output_type": "stream",
          "text": [
            "(20, 1) \n",
            "  [[200.]\n",
            " [200.]\n",
            " [200.]\n",
            " [200.]\n",
            " [200.]\n",
            " [200.]\n",
            " [200.]\n",
            " [200.]\n",
            " [200.]\n",
            " [200.]]\n"
          ],
          "name": "stdout"
        }
      ]
    },
    {
      "metadata": {
        "id": "Ugpf9M592QoM",
        "colab_type": "code",
        "colab": {
          "base_uri": "https://localhost:8080/",
          "height": 185
        },
        "outputId": "da49d0ae-7f52-4f1e-c525-cb1f86ba13fa"
      },
      "cell_type": "code",
      "source": [
        "## 87 consider a 16x16 array , how to get the block-sum (block size is 4 x 4 )?\n",
        "\n",
        "z = np.ones( (16,16 ))\n",
        "k =4\n",
        "print(z.shape)\n",
        "print(\"\\n\" , np.arange(0 , z.shape[0], k ))\n",
        "print('\\n' ,  np.add.reduceat( z , np.arange(0 , z.shape[0] , 8  ) ,axis=0 ))\n",
        "s = np.add.reduceat( np.add.reduceat(z , np.arange(0 , z.shape[0], k) , axis=0 ) , \n",
        "                   np.arange(0, z.shape[1] , k ), axis=1 )\n",
        "\n",
        "\n",
        "print(s)"
      ],
      "execution_count": 96,
      "outputs": [
        {
          "output_type": "stream",
          "text": [
            "(16, 16)\n",
            "\n",
            " [ 0  4  8 12]\n",
            "\n",
            " [[8. 8. 8. 8. 8. 8. 8. 8. 8. 8. 8. 8. 8. 8. 8. 8.]\n",
            " [8. 8. 8. 8. 8. 8. 8. 8. 8. 8. 8. 8. 8. 8. 8. 8.]]\n",
            "[[16. 16. 16. 16.]\n",
            " [16. 16. 16. 16.]\n",
            " [16. 16. 16. 16.]\n",
            " [16. 16. 16. 16.]]\n"
          ],
          "name": "stdout"
        }
      ]
    },
    {
      "metadata": {
        "id": "Ma5yyh6JEToO",
        "colab_type": "code",
        "colab": {
          "base_uri": "https://localhost:8080/",
          "height": 185
        },
        "outputId": "0ccd3dc1-6cd3-43ab-9e0b-d907c0b55f3a"
      },
      "cell_type": "code",
      "source": [
        "## 88 how to implement the game of life using numpy arrays\n",
        "def iterate(z) :\n",
        "    N = ( z[0:-2 ,  0:-2] + z[0:-2 , 1:-1] + z[0:-2 , 2:] + \n",
        "        z[1:-1 , 0:-2] + z[1:-1 , 2:] + \n",
        "        z[2: , 0:-2] + z[2: , 1:-1]  + z[2:, 2:])\n",
        "    \n",
        "    birth = (N==3) & (z[1:-1, 1:-1]==0) \n",
        "    survive = ((N==2) | (N==3)) & (z[1:-1 , 1:-1] == 1)\n",
        "    z[...] =0\n",
        "    z[1:-1 , 1:-1][birth | survive] = 1\n",
        "    return z\n",
        "\n",
        "z = np.random.randint(0 , 2 ,(50, 50))\n",
        "print(z[0:-2 , 0:-2].shape)\n",
        "print(z[0:-2 , 1:-1].shape)\n",
        "print(z[0:-2 , 2: ].shape)\n",
        "for i in range(100): Z = iterate(z)\n",
        "print(Z)"
      ],
      "execution_count": 102,
      "outputs": [
        {
          "output_type": "stream",
          "text": [
            "(48, 48)\n",
            "(48, 48)\n",
            "(48, 48)\n",
            "[[0 0 0 ... 0 0 0]\n",
            " [0 0 0 ... 0 0 0]\n",
            " [0 0 0 ... 0 0 0]\n",
            " ...\n",
            " [0 0 0 ... 0 0 0]\n",
            " [0 0 0 ... 0 0 0]\n",
            " [0 0 0 ... 0 0 0]]\n"
          ],
          "name": "stdout"
        }
      ]
    },
    {
      "metadata": {
        "id": "0YTjoeW42QrN",
        "colab_type": "code",
        "colab": {
          "base_uri": "https://localhost:8080/",
          "height": 67
        },
        "outputId": "53bdebde-28dc-4fb5-93ae-77126225aa5e"
      },
      "cell_type": "code",
      "source": [
        "## 89 how to get the n largest values of an array\n",
        "z= np.arange(10000)\n",
        "np.random.shuffle(z)\n",
        "n = 5\n",
        "print(z[np.argsort(z)[-n: ]])\n",
        "print(z[np.argpartition(-z ,n)])\n",
        "print(z[np.argpartition(-z ,n)[:n]])"
      ],
      "execution_count": 107,
      "outputs": [
        {
          "output_type": "stream",
          "text": [
            "[9995 9996 9997 9998 9999]\n",
            "[9999 9998 9997 ... 1546 1762 2122]\n",
            "[9999 9998 9997 9996 9995]\n"
          ],
          "name": "stdout"
        }
      ]
    },
    {
      "metadata": {
        "id": "6Gu2_oW32QuU",
        "colab_type": "code",
        "colab": {
          "base_uri": "https://localhost:8080/",
          "height": 773
        },
        "outputId": "74f4ec60-0160-4fc4-ae06-8311a6992beb"
      },
      "cell_type": "code",
      "source": [
        "## 90 given an arbitrary number of vectors  build the cartesian product \n",
        "## (every combinations of every item )\n",
        "\n",
        "def cartesian(arrays) :\n",
        "    arrays = [np.asarray(a) for a in arrays ]\n",
        "    shape = (len(x) for x in arrays )\n",
        "    ix = np.indices(shape, dtype= int)\n",
        "    ix = ix.reshape(len(arrays), -1 ).T\n",
        "    \n",
        "    for n ,arr in enumerate(arrays) :\n",
        "        ix[: , n ] = arrays[n][ix[: ,n ] ]\n",
        "        \n",
        "    return ix\n",
        "\n",
        "\n",
        "arrays =([1,2,3], [4,5], [6,7])\n",
        "arrays = [np.asarray(a) for a in arrays ]  ; print(arrays)\n",
        "shape = (len(x) for x in arrays)  ; print(shape) \n",
        "ix = np.indices( shape , dtype= int)  ; print(  ix)\n",
        "print(\"\\n\" , arrays[2] , \"\\n\" )\n",
        "print (cartesian(([1, 2, 3], [4, 5], [6, 7])))"
      ],
      "execution_count": 132,
      "outputs": [
        {
          "output_type": "stream",
          "text": [
            "[array([1, 2, 3]), array([4, 5]), array([6, 7])]\n",
            "<generator object <genexpr> at 0x7fea8f4dfd00>\n",
            "[[[[0 0]\n",
            "   [0 0]]\n",
            "\n",
            "  [[1 1]\n",
            "   [1 1]]\n",
            "\n",
            "  [[2 2]\n",
            "   [2 2]]]\n",
            "\n",
            "\n",
            " [[[0 0]\n",
            "   [1 1]]\n",
            "\n",
            "  [[0 0]\n",
            "   [1 1]]\n",
            "\n",
            "  [[0 0]\n",
            "   [1 1]]]\n",
            "\n",
            "\n",
            " [[[0 1]\n",
            "   [0 1]]\n",
            "\n",
            "  [[0 1]\n",
            "   [0 1]]\n",
            "\n",
            "  [[0 1]\n",
            "   [0 1]]]]\n",
            "\n",
            " [6 7] \n",
            "\n",
            "[[1 4 6]\n",
            " [1 4 7]\n",
            " [1 5 6]\n",
            " [1 5 7]\n",
            " [2 4 6]\n",
            " [2 4 7]\n",
            " [2 5 6]\n",
            " [2 5 7]\n",
            " [3 4 6]\n",
            " [3 4 7]\n",
            " [3 5 6]\n",
            " [3 5 7]]\n"
          ],
          "name": "stdout"
        }
      ]
    },
    {
      "metadata": {
        "id": "Fk8DRFWuH66P",
        "colab_type": "code",
        "colab": {
          "base_uri": "https://localhost:8080/",
          "height": 638
        },
        "outputId": "b4247a08-2b27-44a7-b9c9-ecfd775f3b92"
      },
      "cell_type": "code",
      "source": [
        "np.indices((3,3,3))"
      ],
      "execution_count": 126,
      "outputs": [
        {
          "output_type": "execute_result",
          "data": {
            "text/plain": [
              "array([[[[0, 0, 0],\n",
              "         [0, 0, 0],\n",
              "         [0, 0, 0]],\n",
              "\n",
              "        [[1, 1, 1],\n",
              "         [1, 1, 1],\n",
              "         [1, 1, 1]],\n",
              "\n",
              "        [[2, 2, 2],\n",
              "         [2, 2, 2],\n",
              "         [2, 2, 2]]],\n",
              "\n",
              "\n",
              "       [[[0, 0, 0],\n",
              "         [1, 1, 1],\n",
              "         [2, 2, 2]],\n",
              "\n",
              "        [[0, 0, 0],\n",
              "         [1, 1, 1],\n",
              "         [2, 2, 2]],\n",
              "\n",
              "        [[0, 0, 0],\n",
              "         [1, 1, 1],\n",
              "         [2, 2, 2]]],\n",
              "\n",
              "\n",
              "       [[[0, 1, 2],\n",
              "         [0, 1, 2],\n",
              "         [0, 1, 2]],\n",
              "\n",
              "        [[0, 1, 2],\n",
              "         [0, 1, 2],\n",
              "         [0, 1, 2]],\n",
              "\n",
              "        [[0, 1, 2],\n",
              "         [0, 1, 2],\n",
              "         [0, 1, 2]]]])"
            ]
          },
          "metadata": {
            "tags": []
          },
          "execution_count": 126
        }
      ]
    },
    {
      "metadata": {
        "id": "ZgpImNSs2Qxh",
        "colab_type": "code",
        "colab": {}
      },
      "cell_type": "code",
      "source": [
        ""
      ],
      "execution_count": 0,
      "outputs": []
    },
    {
      "metadata": {
        "id": "cJuQFwmX2Q1A",
        "colab_type": "code",
        "colab": {}
      },
      "cell_type": "code",
      "source": [
        ""
      ],
      "execution_count": 0,
      "outputs": []
    },
    {
      "metadata": {
        "id": "5cfXqVj42Q4e",
        "colab_type": "code",
        "colab": {}
      },
      "cell_type": "code",
      "source": [
        ""
      ],
      "execution_count": 0,
      "outputs": []
    }
  ]
}