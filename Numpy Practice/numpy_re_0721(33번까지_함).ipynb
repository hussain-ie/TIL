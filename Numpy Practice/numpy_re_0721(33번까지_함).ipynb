{
  "nbformat": 4,
  "nbformat_minor": 0,
  "metadata": {
    "colab": {
      "name": "numpy_re_0721(33번까지 함).ipynb",
      "version": "0.3.2",
      "provenance": [],
      "collapsed_sections": [],
      "include_colab_link": true
    },
    "kernelspec": {
      "name": "python3",
      "display_name": "Python 3"
    },
    "accelerator": "GPU"
  },
  "cells": [
    {
      "cell_type": "markdown",
      "metadata": {
        "id": "view-in-github",
        "colab_type": "text"
      },
      "source": [
        "[View in Colaboratory](https://colab.research.google.com/github/sungreong/TIL/blob/master/numpy_re_0721(33%EB%B2%88%EA%B9%8C%EC%A7%80_%ED%95%A8).ipynb)"
      ]
    },
    {
      "metadata": {
        "id": "HQO2cxkQS311",
        "colab_type": "text"
      },
      "cell_type": "markdown",
      "source": [
        "# REMIND \n",
        "\n",
        "https://github.com/sungreong/numpy-100/blob/master/100%20Numpy%20exercises.ipynb\n"
      ]
    },
    {
      "metadata": {
        "id": "A2KWpB58KDlz",
        "colab_type": "code",
        "colab": {}
      },
      "cell_type": "code",
      "source": [
        "import numpy as np"
      ],
      "execution_count": 0,
      "outputs": []
    },
    {
      "metadata": {
        "id": "FAtPTR5jKu48",
        "colab_type": "code",
        "colab": {
          "base_uri": "https://localhost:8080/",
          "height": 34
        },
        "outputId": "f2fae6cd-1db3-4d4b-a7bd-fca23559f5f3"
      },
      "cell_type": "code",
      "source": [
        "print(np.__version__)\n"
      ],
      "execution_count": 6,
      "outputs": [
        {
          "output_type": "stream",
          "text": [
            "1.14.5\n"
          ],
          "name": "stdout"
        }
      ]
    },
    {
      "metadata": {
        "id": "kr16hM3oKu8i",
        "colab_type": "code",
        "colab": {
          "base_uri": "https://localhost:8080/",
          "height": 34
        },
        "outputId": "62c00c62-ef54-4868-cdbf-9f1b25599979"
      },
      "cell_type": "code",
      "source": [
        "z= np.zeros(10) ; print(z)"
      ],
      "execution_count": 8,
      "outputs": [
        {
          "output_type": "stream",
          "text": [
            "[0. 0. 0. 0. 0. 0. 0. 0. 0. 0.]\n"
          ],
          "name": "stdout"
        }
      ]
    },
    {
      "metadata": {
        "id": "rmoVx-PGKu_b",
        "colab_type": "code",
        "colab": {
          "base_uri": "https://localhost:8080/",
          "height": 34
        },
        "outputId": "f44d834d-03a5-409d-bf77-22cd320905e1"
      },
      "cell_type": "code",
      "source": [
        "z = np.zeros((10, 10))\n",
        "print(\"%d bytes\" % (z.size * z.itemsize))"
      ],
      "execution_count": 10,
      "outputs": [
        {
          "output_type": "stream",
          "text": [
            "800 bytes\n"
          ],
          "name": "stdout"
        }
      ]
    },
    {
      "metadata": {
        "id": "LUxJuMXyKvCr",
        "colab_type": "code",
        "colab": {
          "base_uri": "https://localhost:8080/",
          "height": 34
        },
        "outputId": "c68bfc4c-6436-44cf-9cf1-b4442583b26b"
      },
      "cell_type": "code",
      "source": [
        "z = np.zeros(10)\n",
        "z[4] = 1 \n",
        "print(z)"
      ],
      "execution_count": 14,
      "outputs": [
        {
          "output_type": "stream",
          "text": [
            "[0. 0. 0. 0. 1. 0. 0. 0. 0. 0.]\n"
          ],
          "name": "stdout"
        }
      ]
    },
    {
      "metadata": {
        "id": "Sy2Y9fwlKvFv",
        "colab_type": "code",
        "colab": {
          "base_uri": "https://localhost:8080/",
          "height": 51
        },
        "outputId": "7611c564-9d18-4e25-a343-c714285fa04b"
      },
      "cell_type": "code",
      "source": [
        "z = np.arange(10,50) ; print(z)"
      ],
      "execution_count": 15,
      "outputs": [
        {
          "output_type": "stream",
          "text": [
            "[10 11 12 13 14 15 16 17 18 19 20 21 22 23 24 25 26 27 28 29 30 31 32 33\n",
            " 34 35 36 37 38 39 40 41 42 43 44 45 46 47 48 49]\n"
          ],
          "name": "stdout"
        }
      ]
    },
    {
      "metadata": {
        "id": "KZtKMopmKvIg",
        "colab_type": "code",
        "colab": {
          "base_uri": "https://localhost:8080/",
          "height": 102
        },
        "outputId": "7f84b149-40b5-4cc5-d882-1a86fc1299ce"
      },
      "cell_type": "code",
      "source": [
        "z= np.arange(50) ; z = z[::-1] ; print(z)\n",
        "print(z[::10])\n",
        "print(z[::-10])"
      ],
      "execution_count": 24,
      "outputs": [
        {
          "output_type": "stream",
          "text": [
            "[49 48 47 46 45 44 43 42 41 40 39 38 37 36 35 34 33 32 31 30 29 28 27 26\n",
            " 25 24 23 22 21 20 19 18 17 16 15 14 13 12 11 10  9  8  7  6  5  4  3  2\n",
            "  1  0]\n",
            "[49 39 29 19  9]\n",
            "[ 0 10 20 30 40]\n"
          ],
          "name": "stdout"
        }
      ]
    },
    {
      "metadata": {
        "id": "HqtNjiNLKvLL",
        "colab_type": "code",
        "colab": {
          "base_uri": "https://localhost:8080/",
          "height": 68
        },
        "outputId": "7a544fcb-71d8-403b-e4c9-e92cbfa532c8"
      },
      "cell_type": "code",
      "source": [
        "z = np.arange(9).reshape(3,3) ; print(z)"
      ],
      "execution_count": 25,
      "outputs": [
        {
          "output_type": "stream",
          "text": [
            "[[0 1 2]\n",
            " [3 4 5]\n",
            " [6 7 8]]\n"
          ],
          "name": "stdout"
        }
      ]
    },
    {
      "metadata": {
        "id": "J38Z2H25KvN-",
        "colab_type": "code",
        "colab": {
          "base_uri": "https://localhost:8080/",
          "height": 34
        },
        "outputId": "46417c98-9bea-4b24-f202-96b956f79049"
      },
      "cell_type": "code",
      "source": [
        "z = np.nonzero([1,2,0,0,4,9]) ; print(\"0이 아닌 인덱스를 뽑아라\", z)"
      ],
      "execution_count": 27,
      "outputs": [
        {
          "output_type": "stream",
          "text": [
            "0이 아닌 인덱스를 뽑아라 (array([0, 1, 4, 5]),)\n"
          ],
          "name": "stdout"
        }
      ]
    },
    {
      "metadata": {
        "id": "NW1soa9wL5rU",
        "colab_type": "code",
        "colab": {
          "base_uri": "https://localhost:8080/",
          "height": 68
        },
        "outputId": "3732db3b-804d-49d2-ffd0-fb0bdf15b3f6"
      },
      "cell_type": "code",
      "source": [
        "z = np.eye(3) ; print(z)"
      ],
      "execution_count": 29,
      "outputs": [
        {
          "output_type": "stream",
          "text": [
            "[[1. 0. 0.]\n",
            " [0. 1. 0.]\n",
            " [0. 0. 1.]]\n"
          ],
          "name": "stdout"
        }
      ]
    },
    {
      "metadata": {
        "id": "qm3SHSc3L5ua",
        "colab_type": "code",
        "colab": {
          "base_uri": "https://localhost:8080/",
          "height": 204
        },
        "outputId": "941ffa81-34dd-40bf-865c-b2dc9a63a7b4"
      },
      "cell_type": "code",
      "source": [
        "z= np.random.random((3,3,3)) ; print(z)"
      ],
      "execution_count": 31,
      "outputs": [
        {
          "output_type": "stream",
          "text": [
            "[[[0.25015016 0.62092707 0.02289238]\n",
            "  [0.44474229 0.93432844 0.98637549]\n",
            "  [0.09360366 0.30612062 0.30539858]]\n",
            "\n",
            " [[0.43130133 0.92847849 0.87057345]\n",
            "  [0.43158331 0.17093279 0.16842536]\n",
            "  [0.57418676 0.23346049 0.05674516]]\n",
            "\n",
            " [[0.92896413 0.59943054 0.08179984]\n",
            "  [0.77785715 0.00202699 0.7474899 ]\n",
            "  [0.33264012 0.29345347 0.7289561 ]]]\n"
          ],
          "name": "stdout"
        }
      ]
    },
    {
      "metadata": {
        "id": "9fgwPJ5GL5xu",
        "colab_type": "code",
        "colab": {
          "base_uri": "https://localhost:8080/",
          "height": 34
        },
        "outputId": "ea1766f7-13fb-4548-842f-298570a2f6ec"
      },
      "cell_type": "code",
      "source": [
        "z = np.random.randn(3,3,3) ; \n",
        "zmin , zmax = z.min() , z.max()\n",
        "print(zmin ,zmax)"
      ],
      "execution_count": 34,
      "outputs": [
        {
          "output_type": "stream",
          "text": [
            "-1.939209177715225 1.8765346189542902\n"
          ],
          "name": "stdout"
        }
      ]
    },
    {
      "metadata": {
        "id": "ZCyu43gRL51d",
        "colab_type": "code",
        "colab": {
          "base_uri": "https://localhost:8080/",
          "height": 34
        },
        "outputId": "56856d68-bc5c-4876-99a8-f1f4295c7f99"
      },
      "cell_type": "code",
      "source": [
        "z = np.random.randn(30) ; m=z.mean() ; print(m)"
      ],
      "execution_count": 36,
      "outputs": [
        {
          "output_type": "stream",
          "text": [
            "0.2780293972446099\n"
          ],
          "name": "stdout"
        }
      ]
    },
    {
      "metadata": {
        "id": "rwWW8WG1L54o",
        "colab_type": "code",
        "colab": {
          "base_uri": "https://localhost:8080/",
          "height": 204
        },
        "outputId": "83599f7d-8bea-4fcd-bdbb-a34e96695fe4"
      },
      "cell_type": "code",
      "source": [
        "z = np.ones((10, 10) )\n",
        "z[1:-1 , 1:-1] = 0 ; print(z)\n"
      ],
      "execution_count": 43,
      "outputs": [
        {
          "output_type": "stream",
          "text": [
            "[[1. 1. 1. 1. 1. 1. 1. 1. 1. 1.]\n",
            " [1. 0. 0. 0. 0. 0. 0. 0. 0. 1.]\n",
            " [1. 0. 0. 0. 0. 0. 0. 0. 0. 1.]\n",
            " [1. 0. 0. 0. 0. 0. 0. 0. 0. 1.]\n",
            " [1. 0. 0. 0. 0. 0. 0. 0. 0. 1.]\n",
            " [1. 0. 0. 0. 0. 0. 0. 0. 0. 1.]\n",
            " [1. 0. 0. 0. 0. 0. 0. 0. 0. 1.]\n",
            " [1. 0. 0. 0. 0. 0. 0. 0. 0. 1.]\n",
            " [1. 0. 0. 0. 0. 0. 0. 0. 0. 1.]\n",
            " [1. 1. 1. 1. 1. 1. 1. 1. 1. 1.]]\n",
            "[1. 1. 1. 1. 1. 1. 1. 1. 1. 1.]\n"
          ],
          "name": "stdout"
        }
      ]
    },
    {
      "metadata": {
        "id": "73bShHbEL57p",
        "colab_type": "code",
        "colab": {
          "base_uri": "https://localhost:8080/",
          "height": 153
        },
        "outputId": "32a97906-92c0-4d9c-87b2-b7917d65a14f"
      },
      "cell_type": "code",
      "source": [
        "Z = np.ones((5,5))\n",
        "Z = np.pad(Z, pad_width=1, mode='constant', constant_values=10)\n",
        "print(Z)\n",
        "np.shape(Z)"
      ],
      "execution_count": 50,
      "outputs": [
        {
          "output_type": "stream",
          "text": [
            "[[10. 10. 10. 10. 10. 10. 10.]\n",
            " [10.  1.  1.  1.  1.  1. 10.]\n",
            " [10.  1.  1.  1.  1.  1. 10.]\n",
            " [10.  1.  1.  1.  1.  1. 10.]\n",
            " [10.  1.  1.  1.  1.  1. 10.]\n",
            " [10.  1.  1.  1.  1.  1. 10.]\n",
            " [10. 10. 10. 10. 10. 10. 10.]]\n"
          ],
          "name": "stdout"
        },
        {
          "output_type": "execute_result",
          "data": {
            "text/plain": [
              "(7, 7)"
            ]
          },
          "metadata": {
            "tags": []
          },
          "execution_count": 50
        }
      ]
    },
    {
      "metadata": {
        "id": "X2B4dAJ1KvQ2",
        "colab_type": "code",
        "colab": {
          "base_uri": "https://localhost:8080/",
          "height": 102
        },
        "outputId": "87059a0d-6dc3-4321-8564-2718073ca81e"
      },
      "cell_type": "code",
      "source": [
        "print(0*np.nan)\n",
        "print(np.nan == np.nan)\n",
        "print(np.inf > np.nan)\n",
        "print(np.nan - np.nan)\n",
        "print(0.3 == 0.1*3)  # 0.3 == 0.30000000000000004"
      ],
      "execution_count": 53,
      "outputs": [
        {
          "output_type": "stream",
          "text": [
            "nan\n",
            "False\n",
            "False\n",
            "nan\n",
            "False\n"
          ],
          "name": "stdout"
        }
      ]
    },
    {
      "metadata": {
        "id": "zRcPkaVOKvTj",
        "colab_type": "code",
        "colab": {
          "base_uri": "https://localhost:8080/",
          "height": 102
        },
        "outputId": "a9614094-2543-48a0-e567-18c17500e8dc"
      },
      "cell_type": "code",
      "source": [
        "z = np.diag(1+ np.arange(5)  ) ; print(z)"
      ],
      "execution_count": 69,
      "outputs": [
        {
          "output_type": "stream",
          "text": [
            "[[1 0 0 0 0]\n",
            " [0 2 0 0 0]\n",
            " [0 0 3 0 0]\n",
            " [0 0 0 4 0]\n",
            " [0 0 0 0 5]]\n"
          ],
          "name": "stdout"
        }
      ]
    },
    {
      "metadata": {
        "id": "XUrSIPvTKvWa",
        "colab_type": "code",
        "colab": {
          "base_uri": "https://localhost:8080/",
          "height": 153
        },
        "outputId": "38d1e52a-563f-4946-f01d-0587fec86e67"
      },
      "cell_type": "code",
      "source": [
        "z = np.zeros( (8,8) , dtype=\"int\") \n",
        "z[1::2 , ::2] = 1\n",
        "z[::2, 1::2] = 1\n",
        "print(z)"
      ],
      "execution_count": 70,
      "outputs": [
        {
          "output_type": "stream",
          "text": [
            "[[0 1 0 1 0 1 0 1]\n",
            " [1 0 1 0 1 0 1 0]\n",
            " [0 1 0 1 0 1 0 1]\n",
            " [1 0 1 0 1 0 1 0]\n",
            " [0 1 0 1 0 1 0 1]\n",
            " [1 0 1 0 1 0 1 0]\n",
            " [0 1 0 1 0 1 0 1]\n",
            " [1 0 1 0 1 0 1 0]]\n"
          ],
          "name": "stdout"
        }
      ]
    },
    {
      "metadata": {
        "id": "epQnz8bnKvZP",
        "colab_type": "code",
        "colab": {
          "base_uri": "https://localhost:8080/",
          "height": 34
        },
        "outputId": "e40851ba-0a51-4d93-9779-b63e89bc378a"
      },
      "cell_type": "code",
      "source": [
        "print(np.unravel_index( 25 , (10,10,10 )))"
      ],
      "execution_count": 79,
      "outputs": [
        {
          "output_type": "stream",
          "text": [
            "(0, 2, 5)\n"
          ],
          "name": "stdout"
        }
      ]
    },
    {
      "metadata": {
        "id": "Tm6cTtQ7KvcQ",
        "colab_type": "code",
        "colab": {
          "base_uri": "https://localhost:8080/",
          "height": 119
        },
        "outputId": "170ab640-5850-4f4e-93c7-6fe8abdb1dc1"
      },
      "cell_type": "code",
      "source": [
        "z = np.tile(np.array([[0,1] , [1,0] ]) , (3, 2 ) )\n",
        "print(z)"
      ],
      "execution_count": 82,
      "outputs": [
        {
          "output_type": "stream",
          "text": [
            "[[0 1 0 1]\n",
            " [1 0 1 0]\n",
            " [0 1 0 1]\n",
            " [1 0 1 0]\n",
            " [0 1 0 1]\n",
            " [1 0 1 0]]\n"
          ],
          "name": "stdout"
        }
      ]
    },
    {
      "metadata": {
        "id": "M1BoYz9hKvfI",
        "colab_type": "code",
        "colab": {
          "base_uri": "https://localhost:8080/",
          "height": 102
        },
        "outputId": "d8cfea24-9e01-41e6-9471-ba9d92dda03c"
      },
      "cell_type": "code",
      "source": [
        "## 22\n",
        "z= np.random.randn(5,5)\n",
        "zmax ,zmin = z.max(), z.min()\n",
        "z = (z-zmin) / (zmax - zmin )\n",
        "print(z)"
      ],
      "execution_count": 83,
      "outputs": [
        {
          "output_type": "stream",
          "text": [
            "[[0.32249047 0.35274884 0.64658691 0.21173221 0.39937061]\n",
            " [0.88866399 0.41620769 0.         0.23700044 0.06366783]\n",
            " [0.94722432 0.30547375 0.52586019 0.21202882 0.36512038]\n",
            " [1.         0.96541135 0.46320394 0.2001029  0.00987201]\n",
            " [0.32199455 0.24509125 0.7050088  0.54349386 0.61137971]]\n"
          ],
          "name": "stdout"
        }
      ]
    },
    {
      "metadata": {
        "id": "r594yRIkKviG",
        "colab_type": "code",
        "colab": {
          "base_uri": "https://localhost:8080/",
          "height": 34
        },
        "outputId": "5bce0a11-522c-4572-b330-6f3cd1fe4686"
      },
      "cell_type": "code",
      "source": [
        "color = np.dtype( [ (\"r\", np.ubyte , 1) , \n",
        "                  (\"g\" , np.ubyte , 1) ,\n",
        "                  (\"b\", np.ubyte , 1) , \n",
        "                  (\"a\", np.ubyte , 1)])\n",
        "print(color)"
      ],
      "execution_count": 86,
      "outputs": [
        {
          "output_type": "stream",
          "text": [
            "[('r', 'u1'), ('g', 'u1'), ('b', 'u1'), ('a', 'u1')]\n"
          ],
          "name": "stdout"
        }
      ]
    },
    {
      "metadata": {
        "id": "OQIVpeR6Kvkp",
        "colab_type": "code",
        "colab": {
          "base_uri": "https://localhost:8080/",
          "height": 102
        },
        "outputId": "fc782832-d633-4cc8-a9f9-fdf108975123"
      },
      "cell_type": "code",
      "source": [
        "z = np.dot(np.ones((5,3)) , np.ones( (3,2) )) ; print(z)"
      ],
      "execution_count": 88,
      "outputs": [
        {
          "output_type": "stream",
          "text": [
            "[[3. 3.]\n",
            " [3. 3.]\n",
            " [3. 3.]\n",
            " [3. 3.]\n",
            " [3. 3.]]\n"
          ],
          "name": "stdout"
        }
      ]
    },
    {
      "metadata": {
        "id": "BYyVSoJUPmz6",
        "colab_type": "code",
        "colab": {
          "base_uri": "https://localhost:8080/",
          "height": 34
        },
        "outputId": "f678a373-73eb-4687-bd48-84f7e5fa3cfe"
      },
      "cell_type": "code",
      "source": [
        "z = np.arange(11)\n",
        "z[ (3 < z ) & (z <= 8)] *= -1 \n",
        "print(z)"
      ],
      "execution_count": 90,
      "outputs": [
        {
          "output_type": "stream",
          "text": [
            "[ 0  1  2  3 -4 -5 -6 -7 -8  9 10]\n"
          ],
          "name": "stdout"
        }
      ]
    },
    {
      "metadata": {
        "id": "WCngs7hPPm3T",
        "colab_type": "code",
        "colab": {
          "base_uri": "https://localhost:8080/",
          "height": 34
        },
        "outputId": "b5cc13fb-d87f-42a4-db43-eb1e66b1e1cd"
      },
      "cell_type": "code",
      "source": [
        "print( sum( range(5) , -1 ) )\n"
      ],
      "execution_count": 103,
      "outputs": [
        {
          "output_type": "stream",
          "text": [
            "9\n"
          ],
          "name": "stdout"
        }
      ]
    },
    {
      "metadata": {
        "id": "SGwuBnP4Pm6J",
        "colab_type": "code",
        "colab": {
          "base_uri": "https://localhost:8080/",
          "height": 34
        },
        "outputId": "40463670-49b5-4a9a-c798-01c93ae69e5d"
      },
      "cell_type": "code",
      "source": [
        "z / 1 /1 \n",
        "z/ -1 /-1"
      ],
      "execution_count": 113,
      "outputs": [
        {
          "output_type": "execute_result",
          "data": {
            "text/plain": [
              "array([ 0.,  1.,  2.,  3., -4., -5., -6., -7., -8.,  9., 10.])"
            ]
          },
          "metadata": {
            "tags": []
          },
          "execution_count": 113
        }
      ]
    },
    {
      "metadata": {
        "id": "astvPHd9Pm9B",
        "colab_type": "code",
        "colab": {
          "base_uri": "https://localhost:8080/",
          "height": 136
        },
        "outputId": "c26d92fe-8167-48c3-a445-d27b87bf6da2"
      },
      "cell_type": "code",
      "source": [
        "print(np.array(0) / np.array(0) )\n",
        "print(np.array(0) // np.array(0) )\n",
        "print(np.array([np.nan]).astype(int).astype(float))"
      ],
      "execution_count": 115,
      "outputs": [
        {
          "output_type": "stream",
          "text": [
            "nan\n",
            "0\n",
            "[-9.22337204e+18]\n"
          ],
          "name": "stdout"
        },
        {
          "output_type": "stream",
          "text": [
            "/usr/local/lib/python3.6/dist-packages/ipykernel_launcher.py:1: RuntimeWarning: invalid value encountered in true_divide\n",
            "  \"\"\"Entry point for launching an IPython kernel.\n",
            "/usr/local/lib/python3.6/dist-packages/ipykernel_launcher.py:2: RuntimeWarning: divide by zero encountered in floor_divide\n",
            "  \n"
          ],
          "name": "stderr"
        }
      ]
    },
    {
      "metadata": {
        "id": "BrhTbWJ4Pm_w",
        "colab_type": "code",
        "colab": {
          "base_uri": "https://localhost:8080/",
          "height": 85
        },
        "outputId": "bd31b671-9f7a-46f7-bc67-8054e177d5b9"
      },
      "cell_type": "code",
      "source": [
        "z = np.random.uniform(-10 , 10 , 10)\n",
        "print(np.abs(z))\n",
        "print(np.ceil(np.abs(z)))\n",
        "print(np.copysign(np.ceil( np.abs(z)) , z ))"
      ],
      "execution_count": 119,
      "outputs": [
        {
          "output_type": "stream",
          "text": [
            "[4.22705266 4.44916342 6.60173173 6.83310684 3.24358268 6.11558627\n",
            " 2.87818016 8.68527076 0.07744458 6.94174339]\n",
            "[5. 5. 7. 7. 4. 7. 3. 9. 1. 7.]\n",
            "[-5.  5. -7.  7. -4. -7.  3. -9.  1. -7.]\n"
          ],
          "name": "stdout"
        }
      ]
    },
    {
      "metadata": {
        "id": "98pWPknmPnCy",
        "colab_type": "code",
        "colab": {
          "base_uri": "https://localhost:8080/",
          "height": 68
        },
        "outputId": "c24f2df1-48e1-47ee-9767-1cf65cf4b015"
      },
      "cell_type": "code",
      "source": [
        "z1 = np.random.randint(0 ,10 , 10)  ; print(z1)\n",
        "z2 = np.random.randint(0, 10 , 10) ; print(z2)\n",
        "print(np.intersect1d(z1, z2 ))"
      ],
      "execution_count": 120,
      "outputs": [
        {
          "output_type": "stream",
          "text": [
            "[2 0 5 7 2 5 2 7 9 2]\n",
            "[0 8 5 6 8 2 1 9 1 6]\n",
            "[0 2 5 9]\n"
          ],
          "name": "stdout"
        }
      ]
    },
    {
      "metadata": {
        "id": "w48QAmw8PnFg",
        "colab_type": "code",
        "colab": {
          "base_uri": "https://localhost:8080/",
          "height": 34
        },
        "outputId": "3f4c3ad4-7dac-4186-cf97-32c1a55f50a7"
      },
      "cell_type": "code",
      "source": [
        "defaults = np.seterr(all=\"ignore\")\n",
        "z = np.ones(1) / 0\n",
        "\n",
        "_ = np.seterr(**defaults)\n",
        "\n",
        "with np.errstate(divide=\"ignore\") :\n",
        "    z = np.ones(1) / 0\n",
        "    print(z)"
      ],
      "execution_count": 125,
      "outputs": [
        {
          "output_type": "stream",
          "text": [
            "[inf]\n"
          ],
          "name": "stdout"
        }
      ]
    },
    {
      "metadata": {
        "id": "K5hjZ9ZJPnIm",
        "colab_type": "code",
        "colab": {
          "base_uri": "https://localhost:8080/",
          "height": 34
        },
        "outputId": "4e1bd62e-9a0c-4e41-c8a9-1817d6dc1f43"
      },
      "cell_type": "code",
      "source": [
        "np.sqrt(-1) == np.emath.sqrt(-1)"
      ],
      "execution_count": 127,
      "outputs": [
        {
          "output_type": "execute_result",
          "data": {
            "text/plain": [
              "False"
            ]
          },
          "metadata": {
            "tags": []
          },
          "execution_count": 127
        }
      ]
    },
    {
      "metadata": {
        "id": "toXXK3QPPnLl",
        "colab_type": "code",
        "colab": {
          "base_uri": "https://localhost:8080/",
          "height": 68
        },
        "outputId": "3e91b6ab-a1f6-40e6-b7da-9cd3abe72a3c"
      },
      "cell_type": "code",
      "source": [
        "## 33 \n",
        "yesterday = np.datetime64(\"today\", \"D\" ) - np.timedelta64(1, \"D\") ; print(yesterday)\n",
        "today = np.datetime64(\"today\" , \"D\") ; print(today)\n",
        "tomorrow = np.datetime64(\"today\" ,\"D\") + np.timedelta64(10,\"D\") ; print(tomorrow)"
      ],
      "execution_count": 131,
      "outputs": [
        {
          "output_type": "stream",
          "text": [
            "2018-07-20\n",
            "2018-07-21\n",
            "2018-07-31\n"
          ],
          "name": "stdout"
        }
      ]
    },
    {
      "metadata": {
        "id": "9nAD49TlPnO1",
        "colab_type": "code",
        "colab": {}
      },
      "cell_type": "code",
      "source": [
        ""
      ],
      "execution_count": 0,
      "outputs": []
    },
    {
      "metadata": {
        "id": "XZW2aMoVPnSD",
        "colab_type": "code",
        "colab": {}
      },
      "cell_type": "code",
      "source": [
        ""
      ],
      "execution_count": 0,
      "outputs": []
    },
    {
      "metadata": {
        "id": "vnmXhCyDPnVa",
        "colab_type": "code",
        "colab": {}
      },
      "cell_type": "code",
      "source": [
        ""
      ],
      "execution_count": 0,
      "outputs": []
    },
    {
      "metadata": {
        "id": "is5mX1yJPnY4",
        "colab_type": "code",
        "colab": {}
      },
      "cell_type": "code",
      "source": [
        ""
      ],
      "execution_count": 0,
      "outputs": []
    },
    {
      "metadata": {
        "id": "9LsiFFsRPnc0",
        "colab_type": "code",
        "colab": {}
      },
      "cell_type": "code",
      "source": [
        ""
      ],
      "execution_count": 0,
      "outputs": []
    }
  ]
}