{
  "nbformat": 4,
  "nbformat_minor": 0,
  "metadata": {
    "colab": {
      "name": " numpy 67~75 / 0804(토)",
      "version": "0.3.2",
      "provenance": [],
      "collapsed_sections": [],
      "include_colab_link": true
    },
    "kernelspec": {
      "name": "python3",
      "display_name": "Python 3"
    }
  },
  "cells": [
    {
      "cell_type": "markdown",
      "metadata": {
        "id": "view-in-github",
        "colab_type": "text"
      },
      "source": [
        "[View in Colaboratory](https://colab.research.google.com/github/sungreong/TIL/blob/master/numpy_67~75_0804(%ED%86%A0).ipynb)"
      ]
    },
    {
      "metadata": {
        "id": "fWUwdDFuXhXc",
        "colab_type": "code",
        "colab": {
          "base_uri": "https://localhost:8080/",
          "height": 924
        },
        "outputId": "d44fddfb-4b89-4a99-f340-dbcada17ef25"
      },
      "cell_type": "code",
      "source": [
        "## 67 -ex\n",
        "# http://taewan.kim/post/numpy_sum_axis/\n",
        "##    practice  np.sum \n",
        "import numpy as np\n",
        "\n",
        "A = np.random.randint(0 , 10 , (3,4 ,3 ))\n",
        "print(A)\n",
        "print(A.shape)\n",
        "print(\"=\"*10 , \"axis=0\")\n",
        "sum = A.sum(axis=(0))\n",
        "# sum =A.sum(axis= (-2 ,-1 ))\n",
        "print(sum.shape)\n",
        "print(sum)\n",
        "\n",
        "print(\"=\"*10, \"axis=1\" )\n",
        "sum = A.sum(axis=(1))\n",
        "# sum =A.sum(axis= (-2 ,-1 ))\n",
        "print(sum.shape)\n",
        "print(sum)\n",
        "print(\"=\"*10 , \"axis=2\")\n",
        "sum = A.sum(axis=(2))\n",
        "# sum =A.sum(axis= (-2 ,-1 ))\n",
        "print(sum.shape)\n",
        "print(sum)\n",
        "\n",
        "print(\"=\"*10 , \"axis=-1 == axis =2 \\n 마지막 차원 \")\n",
        "sum = A.sum(axis=(-1))\n",
        "# sum =A.sum(axis= (-2 ,-1 ))\n",
        "print(sum.shape)\n",
        "print(sum)\n",
        "\n",
        "print(\"=\"*10 , \"axis=-2  == axis =1 \\n 마지막에서 두번째 차원 \")\n",
        "sum = A.sum(axis=(-2))\n",
        "# sum =A.sum(axis= (-2 ,-1 ))\n",
        "print(sum.shape)\n",
        "print(sum)\n",
        "\n",
        "print(\"=\"*10 , \"axis=-3  == axis =0 \\n 마지막 3번째 차원\")\n",
        "sum = A.sum(axis=(-3))\n",
        "# sum =A.sum(axis= (-2 ,-1 ))\n",
        "print(sum.shape)\n",
        "print(sum)\n",
        "\n",
        "print(\"=\"*10 , \"axis=(-2 , -1 )  == axis =0 \\n 마지막 차원과 마지막에서 두 번째 차원 \")\n",
        "sum = A.sum(axis=(-2, -1 ))\n",
        "# sum =A.sum(axis= (-2 ,-1 ))\n",
        "print(sum.shape)\n",
        "print(sum)"
      ],
      "execution_count": 36,
      "outputs": [
        {
          "output_type": "stream",
          "text": [
            "[[[4 6 8]\n",
            "  [3 8 2]\n",
            "  [4 7 3]\n",
            "  [4 3 6]]\n",
            "\n",
            " [[1 4 5]\n",
            "  [2 7 9]\n",
            "  [3 5 6]\n",
            "  [4 0 7]]\n",
            "\n",
            " [[5 2 7]\n",
            "  [3 4 9]\n",
            "  [6 8 4]\n",
            "  [8 3 5]]]\n",
            "(3, 4, 3)\n",
            "========== axis=0\n",
            "(4, 3)\n",
            "[[10 12 20]\n",
            " [ 8 19 20]\n",
            " [13 20 13]\n",
            " [16  6 18]]\n",
            "========== axis=1\n",
            "(3, 3)\n",
            "[[15 24 19]\n",
            " [10 16 27]\n",
            " [22 17 25]]\n",
            "========== axis=2\n",
            "(3, 4)\n",
            "[[18 13 14 13]\n",
            " [10 18 14 11]\n",
            " [14 16 18 16]]\n",
            "========== axis=-1 == axis =2 \n",
            " 마지막 차원 \n",
            "(3, 4)\n",
            "[[18 13 14 13]\n",
            " [10 18 14 11]\n",
            " [14 16 18 16]]\n",
            "========== axis=-2  == axis =1 \n",
            " 마지막에서 두번째 차원 \n",
            "(3, 3)\n",
            "[[15 24 19]\n",
            " [10 16 27]\n",
            " [22 17 25]]\n",
            "========== axis=-3  == axis =0 \n",
            " 마지막 3번째 차원\n",
            "(4, 3)\n",
            "[[10 12 20]\n",
            " [ 8 19 20]\n",
            " [13 20 13]\n",
            " [16  6 18]]\n",
            "========== axis=(-2 , -1 )  == axis =0 \n",
            " 마지막 차원과 마지막에서 두 번째 차원 \n",
            "(3,)\n",
            "[58 53 64]\n"
          ],
          "name": "stdout"
        }
      ]
    },
    {
      "metadata": {
        "id": "rajBoz5TcJnC",
        "colab_type": "code",
        "colab": {
          "base_uri": "https://localhost:8080/",
          "height": 538
        },
        "outputId": "3223ba4d-749e-432b-c474-538514ac4049"
      },
      "cell_type": "code",
      "source": [
        "import numpy as np\n",
        "## 67 considering a four dimensions array, how to get sum over the last axis at once \n",
        "A = np.random.randint(0 , 10 , (3,4 ,2 ,5  ))\n",
        "##\n",
        "print( \" if B.shape =(3 , 4 , 2 ) \\n  A = [ [B1] , [B2] , [B3] , [B4]  ]  \\n  ===============\")\n",
        "print(A.shape)\n",
        "print(\"=\"*10 , \"axis=( -2 , -1 ) 마지막 차원과 마지막에서 2번째 차원 합치기 \")\n",
        "sum = A.sum(axis=(-2 , -1 ))\n",
        "print(sum.shape)\n",
        "print(sum)\n",
        "print(\"=\"*20)\n",
        "print(A.shape[:-2] + (-1, ) , \"앞에 2차원은 가져오고 -1 형태로\" )\n",
        "h = A.reshape(A.shape[:-2]  + (-1, )) ; print(h , \"\\n =======  \\n\" , h.shape)\n",
        "print(\"=\"*15)\n",
        "sum = h.sum(axis=-1)\n",
        "print(sum)\n"
      ],
      "execution_count": 50,
      "outputs": [
        {
          "output_type": "stream",
          "text": [
            " if B.shape =(3 , 4 , 2 ) \n",
            "  A = [ [B1] , [B2] , [B3] , [B4]  ]  \n",
            "  ===============\n",
            "(3, 4, 2, 5)\n",
            "========== axis=( -2 , -1 ) 마지막 차원과 마지막에서 2번째 차원 합치기 \n",
            "(3, 4)\n",
            "[[54 55 39 42]\n",
            " [50 63 31 46]\n",
            " [65 45 28 34]]\n",
            "====================\n",
            "(3, 4, -1) 앞에 2차원은 가져오고 -1 형태로\n",
            "[[[5 8 7 1 0 7 6 9 6 5]\n",
            "  [6 5 1 9 7 2 8 8 4 5]\n",
            "  [1 4 1 4 4 0 9 4 9 3]\n",
            "  [0 5 3 4 2 3 8 6 8 3]]\n",
            "\n",
            " [[6 7 5 8 0 7 3 2 6 6]\n",
            "  [7 6 8 3 5 7 7 8 7 5]\n",
            "  [6 1 1 7 2 5 1 0 8 0]\n",
            "  [1 1 6 3 7 7 3 9 1 8]]\n",
            "\n",
            " [[6 5 8 6 8 8 9 8 7 0]\n",
            "  [4 4 3 4 0 8 8 8 5 1]\n",
            "  [0 1 6 0 7 0 4 1 5 4]\n",
            "  [0 1 0 9 5 0 2 7 7 3]]] \n",
            " =======  \n",
            " (3, 4, 10)\n",
            "===============\n",
            "[[54 55 39 42]\n",
            " [50 63 31 46]\n",
            " [65 45 28 34]]\n"
          ],
          "name": "stdout"
        }
      ]
    },
    {
      "metadata": {
        "id": "qFnyjd69fmh7",
        "colab_type": "code",
        "colab": {
          "base_uri": "https://localhost:8080/",
          "height": 1701
        },
        "outputId": "1fbfe14e-62c6-46c6-b3ea-a54c14299c26"
      },
      "cell_type": "code",
      "source": [
        "# 68  considering a one-dimensional vector D , how to compute means of subset of D \n",
        "# using a vector S od a same size describing subset indices  \n",
        "import matplotlib.pyplot as plt\n",
        "\n",
        "D = np.random.uniform(0 , 1 , 100)\n",
        "S = np.random.randint(0, 10 , 100)\n",
        "plt.hist(D , bins=\"auto\", label =\" weight\") ; plt.title(\" WEIGHT  D\")\n",
        "plt.show()\n",
        "plt.hist(S , color=\"red\") ; plt.title(\"S\")\n",
        "##################################\n",
        "#############  S 가 0 ~ 10 까지 100개 정도가 생길 껀데 그 구간만큼  \n",
        "############# D 에서 구간의 수만큼 더해진다  이렇게 하면 D_sums 가 생긴다.\n",
        "#####################################\n",
        "D_sums = np.bincount(S, weights= D)\n",
        "plt.show()\n",
        "plt.hist(D_sums , color=\"green\")\n",
        "plt.title(\" D_SUMS /  BINCOUNT S  / WEIGHT D \")\n",
        "plt.show()\n",
        "D_counts = np.bincount(S)\n",
        "plt.hist(D_counts , color=\"yellow\")\n",
        "plt.show()\n",
        "D_means = D_sums / D_counts\n",
        "# print(\"D \\n \" , D , \" \\n  S \\n \" , S )\n",
        "print(\"D_SUM \\n  \",D_sums, \"\\n D_count \\n \", D_counts ,\"\\n\" )\n",
        "print(D_means)\n",
        "\n",
        "import pandas as pd\n",
        "print(pd.Series(D).groupby(S).mean() )"
      ],
      "execution_count": 83,
      "outputs": [
        {
          "output_type": "display_data",
          "data": {
            "image/png": "[encoded data removed]",
            "text/plain": [
              "<matplotlib.figure.Figure at 0x7f5467a51828>"
            ]
          },
          "metadata": {
            "tags": []
          }
        },
        {
          "output_type": "display_data",
          "data": {
            "image/png": "[encoded data removed]",
            "text/plain": [
              "<matplotlib.figure.Figure at 0x7f5467a51d68>"
            ]
          },
          "metadata": {
            "tags": []
          }
        },
        {
          "output_type": "display_data",
          "data": {
            "image/png": "[encoded data removed]",
            "text/plain": [
              "<matplotlib.figure.Figure at 0x7f5469c544a8>"
            ]
          },
          "metadata": {
            "tags": []
          }
        },
        {
          "output_type": "display_data",
          "data": {
            "image/png": "[encoded data removed]",
            "text/plain": [
              "<matplotlib.figure.Figure at 0x7f5467b06518>"
            ]
          },
          "metadata": {
            "tags": []
          }
        },
        {
          "output_type": "stream",
          "text": [
            "D_SUM \n",
            "   [5.25645063 4.6397749  2.78780497 5.3781769  3.49432388 5.0285667\n",
            " 6.27339367 3.86249846 0.89004288 7.65322746] \n",
            " D_count \n",
            "  [12  8  9 11 10 11 12  8  2 17] \n",
            "\n",
            "[0.43803755 0.57997186 0.30975611 0.48892517 0.34943239 0.45714243\n",
            " 0.52278281 0.48281231 0.44502144 0.45018985]\n",
            "0    0.438038\n",
            "1    0.579972\n",
            "2    0.309756\n",
            "3    0.488925\n",
            "4    0.349432\n",
            "5    0.457142\n",
            "6    0.522783\n",
            "7    0.482812\n",
            "8    0.445021\n",
            "9    0.450190\n",
            "dtype: float64\n"
          ],
          "name": "stdout"
        }
      ]
    },
    {
      "metadata": {
        "id": "afLP2W4QfnFh",
        "colab_type": "code",
        "colab": {
          "base_uri": "https://localhost:8080/",
          "height": 218
        },
        "outputId": "14f5d076-8eb0-4af5-9adb-51b413ae5421"
      },
      "cell_type": "code",
      "source": [
        "## 69 how to get the diangonal of a dot product \n",
        "\n",
        "A = np.random.uniform(0, 1, (5,5 ))\n",
        "B = np.random.uniform(0, 1, (5,5 ))\n",
        "## SLOW\n",
        "print(np.dot(A,B))\n",
        "np.diag(np.dot(A,B))\n",
        "## FAST\n",
        "########## * 은 요소별 곱이므로 요소별로 곱해주고  axis=1 로 합해주면 내적값에 대한 diag가 된다.\n",
        "print(\"\\n\" , A*B.T)\n",
        "np.sum(A * B.T , axis= 1)\n",
        "## FASTER\n",
        "np.einsum(\"ij,ji -> i \", A , B)"
      ],
      "execution_count": 89,
      "outputs": [
        {
          "output_type": "stream",
          "text": [
            "[[1.59760343 0.63983997 0.86918033 1.1531898  1.11579164]\n",
            " [1.6589874  1.0779318  1.33654858 1.37835858 1.49731635]\n",
            " [1.69216892 1.21458926 1.54243652 1.40749765 1.88940925]\n",
            " [0.85496228 0.5529649  0.79814636 0.54015801 0.84045705]\n",
            " [2.28278521 1.00191954 1.56444251 1.39469848 2.28167354]]\n",
            "\n",
            " [[0.03705487 0.6890408  0.06406335 0.6851329  0.12231152]\n",
            " [0.51044208 0.29392573 0.1849061  0.03304628 0.05561159]\n",
            " [0.46234943 0.30063057 0.48759757 0.05743281 0.23442616]\n",
            " [0.2221928  0.0160379  0.16456439 0.0968444  0.04051852]\n",
            " [0.03477447 0.79079382 0.6201016  0.0576848  0.77831885]]\n"
          ],
          "name": "stdout"
        },
        {
          "output_type": "execute_result",
          "data": {
            "text/plain": [
              "array([1.59760343, 1.0779318 , 1.54243652, 0.54015801, 2.28167354])"
            ]
          },
          "metadata": {
            "tags": []
          },
          "execution_count": 89
        }
      ]
    },
    {
      "metadata": {
        "id": "JMbO1hw3fnPq",
        "colab_type": "code",
        "colab": {
          "base_uri": "https://localhost:8080/",
          "height": 67
        },
        "outputId": "1220794c-f1b5-46fa-d4ab-e1c167be746d"
      },
      "cell_type": "code",
      "source": [
        "## 70 consider the vector [1,2,3,4,5] \n",
        "## how to build a new vector with 3 consecutive zeros interleaved between each valeus\n",
        "z = np.array([ 1,2, 3, 4, 5 ])\n",
        "nz = 3 \n",
        "print(len(z))\n",
        "z0 = np.zeros( len(z) + (len(z) -1)*(nz)  )\n",
        "print(z0)\n",
        "z0[::nz+1]= z\n",
        "print(z0)"
      ],
      "execution_count": 93,
      "outputs": [
        {
          "output_type": "stream",
          "text": [
            "5\n",
            "[0. 0. 0. 0. 0. 0. 0. 0. 0. 0. 0. 0. 0. 0. 0. 0. 0.]\n",
            "[1. 0. 0. 0. 2. 0. 0. 0. 3. 0. 0. 0. 4. 0. 0. 0. 5.]\n"
          ],
          "name": "stdout"
        }
      ]
    },
    {
      "metadata": {
        "id": "aw5esIgffnST",
        "colab_type": "code",
        "colab": {
          "base_uri": "https://localhost:8080/",
          "height": 538
        },
        "outputId": "2b95b04f-42d7-40f4-e0ee-3f4c10394570"
      },
      "cell_type": "code",
      "source": [
        "## 71 consider an anrray of dimension (5,5,3) , \n",
        "## how to multiply it by an array with dimension (5,5)\n",
        "a = np.ones(( 5, 5, 3 ))\n",
        "b = 2*np.ones( (5, 5) )\n",
        "print( b[: , : , None ].shape )  \n",
        "c = a*b[: , :,None ].shape \n",
        "print( c.shape , \"\\n \" , a*b[: , :,None ] )"
      ],
      "execution_count": 103,
      "outputs": [
        {
          "output_type": "stream",
          "text": [
            "(5, 5, 1)\n",
            "(5, 5, 3) \n",
            "  [[[2. 2. 2.]\n",
            "  [2. 2. 2.]\n",
            "  [2. 2. 2.]\n",
            "  [2. 2. 2.]\n",
            "  [2. 2. 2.]]\n",
            "\n",
            " [[2. 2. 2.]\n",
            "  [2. 2. 2.]\n",
            "  [2. 2. 2.]\n",
            "  [2. 2. 2.]\n",
            "  [2. 2. 2.]]\n",
            "\n",
            " [[2. 2. 2.]\n",
            "  [2. 2. 2.]\n",
            "  [2. 2. 2.]\n",
            "  [2. 2. 2.]\n",
            "  [2. 2. 2.]]\n",
            "\n",
            " [[2. 2. 2.]\n",
            "  [2. 2. 2.]\n",
            "  [2. 2. 2.]\n",
            "  [2. 2. 2.]\n",
            "  [2. 2. 2.]]\n",
            "\n",
            " [[2. 2. 2.]\n",
            "  [2. 2. 2.]\n",
            "  [2. 2. 2.]\n",
            "  [2. 2. 2.]\n",
            "  [2. 2. 2.]]]\n"
          ],
          "name": "stdout"
        }
      ]
    },
    {
      "metadata": {
        "id": "T_6ZBHyLfnVN",
        "colab_type": "code",
        "colab": {
          "base_uri": "https://localhost:8080/",
          "height": 286
        },
        "outputId": "28ce29c8-9310-4303-a162-8946a81508d6"
      },
      "cell_type": "code",
      "source": [
        "##72 how to swap two rows of an array \n",
        "a = np.arange(25).reshape(5,5)\n",
        "print(a[[0,1]], \"\\n\")\n",
        "print(\"before \\n\", a ,\"\\n\")\n",
        "a[[0,1]] =a[[1,0]]\n",
        "print(\"after \\n\" , a)"
      ],
      "execution_count": 109,
      "outputs": [
        {
          "output_type": "stream",
          "text": [
            "[[0 1 2 3 4]\n",
            " [5 6 7 8 9]] \n",
            "\n",
            "before \n",
            " [[ 0  1  2  3  4]\n",
            " [ 5  6  7  8  9]\n",
            " [10 11 12 13 14]\n",
            " [15 16 17 18 19]\n",
            " [20 21 22 23 24]] \n",
            "\n",
            "after \n",
            " [[ 5  6  7  8  9]\n",
            " [ 0  1  2  3  4]\n",
            " [10 11 12 13 14]\n",
            " [15 16 17 18 19]\n",
            " [20 21 22 23 24]]\n"
          ],
          "name": "stdout"
        }
      ]
    },
    {
      "metadata": {
        "id": "lyqGoVoAqwgf",
        "colab_type": "code",
        "colab": {
          "base_uri": "https://localhost:8080/",
          "height": 353
        },
        "outputId": "719c1423-4d95-4999-ab37-2dd235fe60ef"
      },
      "cell_type": "code",
      "source": [
        "# 73 consider a set of 10 triplets describing 10 traiangles (with shared vertices )\n",
        "# find the set of unique segements  composing all the triangles\n",
        "faces = np.random.randint(0 , 100, (10, 3)) ; print(faces[[0,1]] )\n",
        "print(\"\\n\", faces.repeat(2, axis=1)[[0,1]] ,\"\\n\")\n",
        "##\n",
        "F = np.roll( faces.repeat(2, axis=1)  , -1  , axis=1) ; print(\"axis =1 방향인데 -1만큼  굴러라 \\n \",F[[0,1]])\n",
        "print(len(F))\n",
        "F = F.reshape(len(F)*3 ,2 ) ; print(F[[0,1]])\n",
        "F = np.sort(F , axis=1) ; print(F[[0,1]])\n",
        "G = F.view( dtype = [( \"p0\", F.dtype) , (\"p1\", F.dtype)]) ;  print(\"\\n \",G[[0,1]])\n",
        "G = np.unique(G)\n",
        "print(\"\\n\" , G[[0,1]])\n",
        "np.shape(G)"
      ],
      "execution_count": 134,
      "outputs": [
        {
          "output_type": "stream",
          "text": [
            "[[41 24 66]\n",
            " [90 48 65]]\n",
            "\n",
            " [[41 41 24 24 66 66]\n",
            " [90 90 48 48 65 65]] \n",
            "\n",
            "axis =1 방향인데 -1만큼  굴러라 \n",
            "  [[41 24 24 66 66 41]\n",
            " [90 48 48 65 65 90]]\n",
            "10\n",
            "[[41 24]\n",
            " [24 66]]\n",
            "[[24 41]\n",
            " [24 66]]\n",
            "\n",
            "  [[(24, 41)]\n",
            " [(24, 66)]]\n",
            "\n",
            " [(0,  2) (0, 46)]\n"
          ],
          "name": "stdout"
        },
        {
          "output_type": "execute_result",
          "data": {
            "text/plain": [
              "(30,)"
            ]
          },
          "metadata": {
            "tags": []
          },
          "execution_count": 134
        }
      ]
    },
    {
      "metadata": {
        "id": "xJHW5StvfnXr",
        "colab_type": "code",
        "colab": {
          "base_uri": "https://localhost:8080/",
          "height": 101
        },
        "outputId": "cec530d2-49ea-4b66-8838-34eac3ddd536"
      },
      "cell_type": "code",
      "source": [
        "# 74 Given an array c that is a bincount , how to produce an array A such that np.bincount(A)==C?\n",
        "\n",
        "C = np.bincount([1,1,2,3,4,4,6])  ; print(C)\n",
        "print(np.arange(len(C)))\n",
        "A = np.repeat( np.arange( len(C) )  , C) ;\n",
        "print(A) ## c 에서 정해진 것만큼 반복해서 생기기 \n",
        "print( np.bincount(A)==C )\n",
        "np.repeat( np.arange(4),  [ 0, 1 ,2, 3  ])"
      ],
      "execution_count": 146,
      "outputs": [
        {
          "output_type": "stream",
          "text": [
            "[0 2 1 1 2 0 1]\n",
            "[0 1 2 3 4 5 6]\n",
            "[1 1 2 3 4 4 6]\n",
            "[ True  True  True  True  True  True  True]\n"
          ],
          "name": "stdout"
        },
        {
          "output_type": "execute_result",
          "data": {
            "text/plain": [
              "array([1, 2, 2, 3, 3, 3])"
            ]
          },
          "metadata": {
            "tags": []
          },
          "execution_count": 146
        }
      ]
    },
    {
      "metadata": {
        "id": "61Rc7Kp8fnaT",
        "colab_type": "code",
        "colab": {
          "base_uri": "https://localhost:8080/",
          "height": 84
        },
        "outputId": "70a784ba-f25d-4e02-91d2-58499ff7c9d0"
      },
      "cell_type": "code",
      "source": [
        "# 75 how to compute average using a sliding window over an array ?\n",
        "def moving_average(a, n=3) :\n",
        "    ret = np.cumsum(a , dtype = float)\n",
        "    ret[n: ] = ret[n :] - ret[: -n]\n",
        "    return ret[n-1:] / n\n",
        "\n",
        "z= np.arange(20)\n",
        "\n",
        "print(moving_average(z , n=3 ))\n",
        "a = np.cumsum([1,2,3] )\n",
        "print(a)\n",
        "print(np.cumsum([1,2,3] )[1: ] , np.cumsum([1,2,3] )[: -1] , np.cumsum([1,2,3] )[1: ]  - np.cumsum([1,2,3] )[: -1]  ) \n",
        "\n",
        "a[1: ] = np.cumsum([1,2,3] )[1: ] - np.cumsum([1,2,3] )[: -1] \n",
        "print(a)"
      ],
      "execution_count": 162,
      "outputs": [
        {
          "output_type": "stream",
          "text": [
            "[ 1.  2.  3.  4.  5.  6.  7.  8.  9. 10. 11. 12. 13. 14. 15. 16. 17. 18.]\n",
            "[1 3 6]\n",
            "[3 6] [1 3] [2 3]\n",
            "[1 2 3]\n"
          ],
          "name": "stdout"
        }
      ]
    },
    {
      "metadata": {
        "id": "PbuIGI9efndF",
        "colab_type": "code",
        "colab": {}
      },
      "cell_type": "code",
      "source": [
        ""
      ],
      "execution_count": 0,
      "outputs": []
    },
    {
      "metadata": {
        "id": "hkXcnvcufnft",
        "colab_type": "code",
        "colab": {}
      },
      "cell_type": "code",
      "source": [
        ""
      ],
      "execution_count": 0,
      "outputs": []
    },
    {
      "metadata": {
        "id": "3_bBPas6fnie",
        "colab_type": "code",
        "colab": {}
      },
      "cell_type": "code",
      "source": [
        ""
      ],
      "execution_count": 0,
      "outputs": []
    },
    {
      "metadata": {
        "id": "VRjgnW0Gfnl9",
        "colab_type": "code",
        "colab": {}
      },
      "cell_type": "code",
      "source": [
        ""
      ],
      "execution_count": 0,
      "outputs": []
    },
    {
      "metadata": {
        "id": "gTSlZmT6fnO2",
        "colab_type": "code",
        "colab": {}
      },
      "cell_type": "code",
      "source": [
        ""
      ],
      "execution_count": 0,
      "outputs": []
    },
    {
      "metadata": {
        "id": "dQBogNKpfnOE",
        "colab_type": "code",
        "colab": {}
      },
      "cell_type": "code",
      "source": [
        ""
      ],
      "execution_count": 0,
      "outputs": []
    },
    {
      "metadata": {
        "id": "_XuiligNfnNU",
        "colab_type": "code",
        "colab": {}
      },
      "cell_type": "code",
      "source": [
        ""
      ],
      "execution_count": 0,
      "outputs": []
    }
  ]
}