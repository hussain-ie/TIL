{
  "nbformat": 4,
  "nbformat_minor": 0,
  "metadata": {
    "colab": {
      "name": "KoNLP , Text Generation(keras).ipynb",
      "version": "0.3.2",
      "provenance": [],
      "collapsed_sections": []
    },
    "kernelspec": {
      "name": "python3",
      "display_name": "Python 3"
    },
    "accelerator": "GPU"
  },
  "cells": [
    {
      "cell_type": "markdown",
      "metadata": {
        "id": "view-in-github",
        "colab_type": "text"
      },
      "source": [
        "[View in Colaboratory](https://colab.research.google.com/github/sungreong/TIL/blob/master/Konlpy_Text_Generation(keras).ipynb)"
      ]
    },
    {
      "metadata": {
        "id": "VLpr_U6tBOd9",
        "colab_type": "text"
      },
      "cell_type": "markdown",
      "source": [
        "# 참고자료\n",
        "\n",
        "##  http://shakeratos.tistory.com/18  \n",
        "## http://project-marcel.tistory.com/9\n",
        "## https://github.com/konlpy/konlpy/issues/24\n",
        "\n",
        "## https://datascienceschool.net/view-notebook/26607ca8822341878e1cab7c9045007c/"
      ]
    },
    {
      "metadata": {
        "id": "Dez-rh84TC9E",
        "colab_type": "code",
        "colab": {
          "base_uri": "https://localhost:8080/",
          "height": 109
        },
        "outputId": "23bb15ff-94c9-4aa8-e692-41efde2ba480"
      },
      "cell_type": "code",
      "source": [
        "!apt-get install -y -qq software-properties-common python-software-properties module-init-tools\n",
        "!add-apt-repository -y ppa:alessandro-strada/ppa 2>&1 > /dev/null\n",
        "!apt-get update -qq 2>&1 > /dev/null\n",
        "!apt-get -y install -qq google-drive-ocamlfuse fuse\n",
        "from google.colab import auth\n",
        "auth.authenticate_user()\n",
        "from oauth2client.client import GoogleCredentials\n",
        "creds = GoogleCredentials.get_application_default()\n",
        "import getpass\n",
        "!google-drive-ocamlfuse -headless -id={creds.client_id} -secret={creds.client_secret} < /dev/null 2>&1 | grep URL\n",
        "vcode = getpass.getpass()\n",
        "!echo {vcode} | google-drive-ocamlfuse -headless -id={creds.client_id} -secret={creds.client_secret}"
      ],
      "execution_count": 17,
      "outputs": [
        {
          "output_type": "stream",
          "text": [
            "Please, open the following URL in a web browser: https://accounts.google.com/o/oauth2/auth?client_id=32555940559.apps.googleusercontent.com&redirect_uri=urn%3Aietf%3Awg%3Aoauth%3A2.0%3Aoob&scope=https%3A%2F%2Fwww.googleapis.com%2Fauth%2Fdrive&response_type=code&access_type=offline&approval_prompt=force\r\n",
            "··········\n",
            "Please, open the following URL in a web browser: https://accounts.google.com/o/oauth2/auth?client_id=32555940559.apps.googleusercontent.com&redirect_uri=urn%3Aietf%3Awg%3Aoauth%3A2.0%3Aoob&scope=https%3A%2F%2Fwww.googleapis.com%2Fauth%2Fdrive&response_type=code&access_type=offline&approval_prompt=force\n",
            "Please enter the verification code: Access token retrieved correctly.\n"
          ],
          "name": "stdout"
        }
      ]
    },
    {
      "metadata": {
        "id": "b82o73lVTHl6",
        "colab_type": "code",
        "colab": {
          "base_uri": "https://localhost:8080/",
          "height": 107
        },
        "outputId": "aa36db7a-df19-4bc2-d680-dc280e0ba820"
      },
      "cell_type": "code",
      "source": [
        "!mkdir -p drive\n",
        "!google-drive-ocamlfuse drive\n",
        "import os\n",
        "os.chdir(\"drive/GPU\")\n",
        "!ls"
      ],
      "execution_count": 3,
      "outputs": [
        {
          "output_type": "stream",
          "text": [
            "fuse: mountpoint is not empty\r\n",
            "fuse: if you are sure this is safe, use the 'nonempty' mount option\n",
            "annotations\t    drive   images\t    jpype-master  __pycache__\n",
            "annotations.tar.gz  filter  images.tar.gz   model_save\t  torch_gan\n",
            "data\t\t    graphs  imFunctions.py  output\n"
          ],
          "name": "stdout"
        }
      ]
    },
    {
      "metadata": {
        "id": "cQ8QqRYXT5lJ",
        "colab_type": "code",
        "colab": {
          "base_uri": "https://localhost:8080/",
          "height": 287
        },
        "outputId": "f07c6795-7466-430e-dcec-4d28c6db8662"
      },
      "cell_type": "code",
      "source": [
        "!apt-get update\n",
        "\n",
        "!apt-get install g++ openjdk-8-jdk python-dev python3-dev"
      ],
      "execution_count": 2,
      "outputs": [
        {
          "output_type": "stream",
          "text": [
            "Hit:1 http://archive.ubuntu.com/ubuntu artful InRelease\n",
            "Hit:2 http://ppa.launchpad.net/alessandro-strada/ppa/ubuntu artful InRelease\n",
            "Get:3 http://archive.ubuntu.com/ubuntu artful-updates InRelease [88.7 kB]\n",
            "Get:4 http://archive.ubuntu.com/ubuntu artful-backports InRelease [74.6 kB]\n",
            "Get:5 http://security.ubuntu.com/ubuntu artful-security InRelease [83.2 kB]\n",
            "Fetched 247 kB in 0s (282 kB/s)\n",
            "Reading package lists... Done\n",
            "Reading package lists... Done\n",
            "Building dependency tree       \n",
            "Reading state information... Done\n",
            "g++ is already the newest version (4:7.2.0-1ubuntu1).\n",
            "python-dev is already the newest version (2.7.14-2ubuntu1).\n",
            "python3-dev is already the newest version (3.6.3-0ubuntu2).\n",
            "openjdk-8-jdk is already the newest version (8u171-b11-0ubuntu0.17.10.1).\n",
            "0 upgraded, 0 newly installed, 0 to remove and 3 not upgraded.\n"
          ],
          "name": "stdout"
        }
      ]
    },
    {
      "metadata": {
        "id": "30O45xWMUDQy",
        "colab_type": "code",
        "colab": {
          "base_uri": "https://localhost:8080/",
          "height": 107
        },
        "outputId": "40522a2f-dc7c-44f0-a3a4-8b363d9af9dd"
      },
      "cell_type": "code",
      "source": [
        "os.chdir(\"./jpype-master\")\n",
        "!ls"
      ],
      "execution_count": 4,
      "outputs": [
        {
          "output_type": "stream",
          "text": [
            "appveyor\t      dist\t       jpypex\t    setup.py\r\n",
            "appveyor.yml\t      doc\t       LICENSE\t    test\r\n",
            "AUTHORS.rst\t      examples\t       MANIFEST.in  test-requirements-py3.txt\r\n",
            "build\t\t      jpype\t       native\t    test-requirements.txt\r\n",
            "dev-requirements.txt  JPype1.egg-info  README.rst\r\n"
          ],
          "name": "stdout"
        }
      ]
    },
    {
      "metadata": {
        "id": "qNdBmvfgaYQd",
        "colab_type": "code",
        "colab": {
          "base_uri": "https://localhost:8080/",
          "height": 35
        },
        "outputId": "29025cac-1678-412c-8095-0b9d412c4328"
      },
      "cell_type": "code",
      "source": [
        ""
      ],
      "execution_count": 1,
      "outputs": [
        {
          "output_type": "stream",
          "text": [
            "datalab  drive\tjpype-master  master.zip\r\n"
          ],
          "name": "stdout"
        }
      ]
    },
    {
      "metadata": {
        "id": "q1lojbDeTnxj",
        "colab_type": "code",
        "colab": {
          "base_uri": "https://localhost:8080/",
          "height": 125
        },
        "outputId": "1f229f1a-eb64-4ab5-9f1b-e25130b7eb1a"
      },
      "cell_type": "code",
      "source": [
        "!python setup.py build"
      ],
      "execution_count": 5,
      "outputs": [
        {
          "output_type": "stream",
          "text": [
            "Found native jni.h at /usr/lib/jvm/java-8-openjdk-amd64/include\n",
            "running build\n",
            "running build_py\n",
            "running build_ext\n",
            "setup.py:175: FeatureNotice: Turned ON Numpy support for fast Java array access\n",
            "  FeatureNotice)\n"
          ],
          "name": "stdout"
        }
      ]
    },
    {
      "metadata": {
        "id": "DHCMuiryAztU",
        "colab_type": "code",
        "colab": {}
      },
      "cell_type": "code",
      "source": [
        "!python setup.py install\n"
      ],
      "execution_count": 0,
      "outputs": []
    },
    {
      "metadata": {
        "id": "MLlUsIqzCPrC",
        "colab_type": "code",
        "colab": {
          "base_uri": "https://localhost:8080/",
          "height": 55
        },
        "outputId": "20f19246-3f59-49d9-efad-59879292a13b"
      },
      "cell_type": "code",
      "source": [
        "import konlpy\n",
        "\n",
        "from konlpy.tag import Kkma\n",
        "\n",
        "from konlpy.utils import pprint\n",
        "\n",
        "from konlpy.tag import Twitter\n",
        "\n",
        "\n",
        "\n",
        "sentence = u'만 6세 이하의 초등학교 취학 전 자녀를 양육하기 위해서는'\n",
        "\n",
        "words = konlpy.tag.Twitter().pos(sentence)\n",
        "\n",
        "print(words)"
      ],
      "execution_count": 1,
      "outputs": [
        {
          "output_type": "stream",
          "text": [
            "[('만', 'Noun'), ('6', 'Number'), ('세', 'Noun'), ('이하', 'Noun'), ('의', 'Josa'), ('초등학교', 'Noun'), ('취학', 'Noun'), ('전', 'Noun'), ('자녀', 'Noun'), ('를', 'Josa'), ('양육', 'Noun'), ('하기', 'Verb'), ('위해서', 'Verb'), ('는', 'Eomi')]\n"
          ],
          "name": "stdout"
        }
      ]
    },
    {
      "metadata": {
        "id": "g41wIhKYCSxi",
        "colab_type": "code",
        "colab": {}
      },
      "cell_type": "code",
      "source": [
        "!pip install -q keras"
      ],
      "execution_count": 0,
      "outputs": []
    },
    {
      "metadata": {
        "id": "_TE_A9UzCxaJ",
        "colab_type": "code",
        "colab": {}
      },
      "cell_type": "code",
      "source": [
        "from keras.models import Sequential\n",
        "from keras.layers import Dense, Embedding, LSTM, Dropout\n",
        "from keras.optimizers import *\n",
        "from keras.utils import np_utils\n",
        "from keras.preprocessing import sequence\n",
        "from keras.preprocessing.text import Tokenizer\n",
        "\n",
        "from nltk.tokenize import sent_tokenize\n",
        "from konlpy.corpus import kolaw\n",
        "from konlpy.tag import Twitter\n",
        "import numpy as np"
      ],
      "execution_count": 0,
      "outputs": []
    },
    {
      "metadata": {
        "id": "iHHuifxReUum",
        "colab_type": "code",
        "colab": {}
      },
      "cell_type": "code",
      "source": [
        "c = kolaw.open('constitution.txt').read()"
      ],
      "execution_count": 0,
      "outputs": []
    },
    {
      "metadata": {
        "id": "jTB7EVP9eX_m",
        "colab_type": "code",
        "colab": {
          "base_uri": "https://localhost:8080/",
          "height": 71
        },
        "outputId": "99951c41-cf7b-46a6-f865-8f5193ec8254"
      },
      "cell_type": "code",
      "source": [
        "import nltk\n",
        "nltk.download('punkt')\n"
      ],
      "execution_count": 12,
      "outputs": [
        {
          "output_type": "stream",
          "text": [
            "[nltk_data] Downloading package punkt to /content/nltk_data...\n",
            "[nltk_data]   Unzipping tokenizers/punkt.zip.\n"
          ],
          "name": "stdout"
        },
        {
          "output_type": "execute_result",
          "data": {
            "text/plain": [
              "True"
            ]
          },
          "metadata": {
            "tags": []
          },
          "execution_count": 12
        }
      ]
    },
    {
      "metadata": {
        "id": "74uz10-zebqu",
        "colab_type": "code",
        "colab": {}
      },
      "cell_type": "code",
      "source": [
        "senstents = [s for s in sent_tokenize(c)]"
      ],
      "execution_count": 0,
      "outputs": []
    },
    {
      "metadata": {
        "id": "mSsUUSZ5e2FG",
        "colab_type": "code",
        "colab": {
          "base_uri": "https://localhost:8080/",
          "height": 35
        },
        "outputId": "d9a1de01-1edc-467c-d658-4d47f9d2f44d"
      },
      "cell_type": "code",
      "source": [
        "senstents[3]"
      ],
      "execution_count": 14,
      "outputs": [
        {
          "output_type": "execute_result",
          "data": {
            "text/plain": [
              "'제2조 ① 대한민국의 국민이 되는 요건은 법률로 정한다.'"
            ]
          },
          "metadata": {
            "tags": []
          },
          "execution_count": 14
        }
      ]
    },
    {
      "metadata": {
        "id": "jKkFCWu2e-cu",
        "colab_type": "text"
      },
      "cell_type": "markdown",
      "source": [
        "# Preprocessing"
      ]
    },
    {
      "metadata": {
        "id": "2lvwv63le3s9",
        "colab_type": "code",
        "colab": {}
      },
      "cell_type": "code",
      "source": [
        "twitter= Twitter()\n",
        "doc0 = [\" \".join([\"\".join(w) for w, t in twitter.pos(s) \n",
        "                  if t not in ['Number', \"Foreign\"] and w not in [\"제\", \"조\"]]) for s in sent_tokenize(c)]"
      ],
      "execution_count": 0,
      "outputs": []
    },
    {
      "metadata": {
        "id": "_Au19MtKfh1r",
        "colab_type": "code",
        "colab": {
          "base_uri": "https://localhost:8080/",
          "height": 35
        },
        "outputId": "a47826f9-9bf3-49da-f815-b781161468b3"
      },
      "cell_type": "code",
      "source": [
        "len(doc0)"
      ],
      "execution_count": 16,
      "outputs": [
        {
          "output_type": "execute_result",
          "data": {
            "text/plain": [
              "357"
            ]
          },
          "metadata": {
            "tags": []
          },
          "execution_count": 16
        }
      ]
    },
    {
      "metadata": {
        "id": "Z-eW3ASOflpF",
        "colab_type": "code",
        "colab": {
          "base_uri": "https://localhost:8080/",
          "height": 53
        },
        "outputId": "11d8483d-a8bb-405c-8de7-228fd0135bb9"
      },
      "cell_type": "code",
      "source": [
        "doc0[3:5]"
      ],
      "execution_count": 17,
      "outputs": [
        {
          "output_type": "execute_result",
          "data": {
            "text/plain": [
              "['대한민국 의 국민 이 되는 요건 은 법률 로 정한 다 .',\n",
              " '국가 는 법률 이 정하는 바 에 의하여 재외국민 을 보호할 의무 를 진 다 .']"
            ]
          },
          "metadata": {
            "tags": []
          },
          "execution_count": 17
        }
      ]
    },
    {
      "metadata": {
        "id": "hOkGZ5JIfnNM",
        "colab_type": "code",
        "colab": {}
      },
      "cell_type": "code",
      "source": [
        "tokenizer = Tokenizer()\n",
        "tokenizer.fit_on_texts(doc0)\n",
        "doc = [l for l in tokenizer.texts_to_sequences(doc0) if len(l) > 1 ]"
      ],
      "execution_count": 0,
      "outputs": []
    },
    {
      "metadata": {
        "id": "JewgnZKvgANk",
        "colab_type": "code",
        "colab": {
          "base_uri": "https://localhost:8080/",
          "height": 35
        },
        "outputId": "773edd00-0003-4b6d-95a1-3f795ed3cc0e"
      },
      "cell_type": "code",
      "source": [
        "len(doc)"
      ],
      "execution_count": 19,
      "outputs": [
        {
          "output_type": "execute_result",
          "data": {
            "text/plain": [
              "354"
            ]
          },
          "metadata": {
            "tags": []
          },
          "execution_count": 19
        }
      ]
    },
    {
      "metadata": {
        "id": "NOhVaW6WgBuu",
        "colab_type": "code",
        "colab": {
          "base_uri": "https://localhost:8080/",
          "height": 35
        },
        "outputId": "74b6dcbb-ceb5-4308-c771-e5c8a15f5349"
      },
      "cell_type": "code",
      "source": [
        "doc[3]"
      ],
      "execution_count": 21,
      "outputs": [
        {
          "output_type": "execute_result",
          "data": {
            "text/plain": [
              "[101, 1, 19, 6, 177, 653, 5, 9, 20, 37, 3]"
            ]
          },
          "metadata": {
            "tags": []
          },
          "execution_count": 21
        }
      ]
    },
    {
      "metadata": {
        "id": "Cjr0yqGGgCnj",
        "colab_type": "code",
        "colab": {
          "base_uri": "https://localhost:8080/",
          "height": 35
        },
        "outputId": "54ee0a1b-f0d4-4838-8126-74f5e8269d9a"
      },
      "cell_type": "code",
      "source": [
        "maxlen = max([len(x) -1 for x in doc])\n",
        "vocab_size = len(tokenizer.word_index) +1 \n",
        "print(maxlen , vocab_size)"
      ],
      "execution_count": 23,
      "outputs": [
        {
          "output_type": "stream",
          "text": [
            "188 1205\n"
          ],
          "name": "stdout"
        }
      ]
    },
    {
      "metadata": {
        "id": "hMZg4uXygfVL",
        "colab_type": "text"
      },
      "cell_type": "markdown",
      "source": [
        "## Data Generation"
      ]
    },
    {
      "metadata": {
        "id": "3nRukHpqgeXb",
        "colab_type": "code",
        "colab": {}
      },
      "cell_type": "code",
      "source": [
        "def generate_data(X , maxlen, vocab_size) :\n",
        "    for sentence in X :\n",
        "        inputs = []\n",
        "        targets = []\n",
        "        for i in range(1, len(sentence)) :\n",
        "            inputs.append(sentence[0:i])\n",
        "            targets.append(sentence[i])\n",
        "        y= np_utils.to_categorical(targets , vocab_size)\n",
        "        inputs_sequence = sequence.pad_sequences(inputs , maxlen = maxlen)\n",
        "        yield (inputs_sequence , y )"
      ],
      "execution_count": 0,
      "outputs": []
    },
    {
      "metadata": {
        "id": "SJTO9I1YgY66",
        "colab_type": "code",
        "colab": {
          "base_uri": "https://localhost:8080/",
          "height": 1817
        },
        "outputId": "fee53a8d-559d-4403-fbd8-eb9738e3117d"
      },
      "cell_type": "code",
      "source": [
        "for i , (x,y) in enumerate(generate_data(doc, maxlen, vocab_size )) :\n",
        "    print(\"i\", i)\n",
        "    print(\"x\", x.shape , \"\\n\" , x)\n",
        "    print('y', y.shape, \"\\n\", y)\n",
        "    print(\"==============================================\")\n",
        "    if i > 1 :\n",
        "        break"
      ],
      "execution_count": 26,
      "outputs": [
        {
          "output_type": "stream",
          "text": [
            "i 0\n",
            "x (188, 188) \n",
            " [[  0   0   0 ...   0   0 101]\n",
            " [  0   0   0 ...   0 101  24]\n",
            " [  0   0   0 ... 101  24 607]\n",
            " ...\n",
            " [  0   0 101 ... 155   2  18]\n",
            " [  0 101  24 ...   2  18 176]\n",
            " [101  24 607 ...  18 176   7]]\n",
            "y (188, 1205) \n",
            " [[0. 0. 0. ... 0. 0. 0.]\n",
            " [0. 0. 0. ... 0. 0. 0.]\n",
            " [0. 0. 0. ... 0. 0. 0.]\n",
            " ...\n",
            " [0. 0. 0. ... 0. 0. 0.]\n",
            " [0. 0. 0. ... 0. 0. 0.]\n",
            " [0. 0. 0. ... 0. 0. 0.]]\n",
            "==============================================\n",
            "i 1\n",
            "x (5, 188) \n",
            " [[  0   0   0   0   0   0   0   0   0   0   0   0   0   0   0   0   0   0\n",
            "    0   0   0   0   0   0   0   0   0   0   0   0   0   0   0   0   0   0\n",
            "    0   0   0   0   0   0   0   0   0   0   0   0   0   0   0   0   0   0\n",
            "    0   0   0   0   0   0   0   0   0   0   0   0   0   0   0   0   0   0\n",
            "    0   0   0   0   0   0   0   0   0   0   0   0   0   0   0   0   0   0\n",
            "    0   0   0   0   0   0   0   0   0   0   0   0   0   0   0   0   0   0\n",
            "    0   0   0   0   0   0   0   0   0   0   0   0   0   0   0   0   0   0\n",
            "    0   0   0   0   0   0   0   0   0   0   0   0   0   0   0   0   0   0\n",
            "    0   0   0   0   0   0   0   0   0   0   0   0   0   0   0   0   0   0\n",
            "    0   0   0   0   0   0   0   0   0   0   0   0   0   0   0   0   0   0\n",
            "    0   0   0   0   0   0   0  46]\n",
            " [  0   0   0   0   0   0   0   0   0   0   0   0   0   0   0   0   0   0\n",
            "    0   0   0   0   0   0   0   0   0   0   0   0   0   0   0   0   0   0\n",
            "    0   0   0   0   0   0   0   0   0   0   0   0   0   0   0   0   0   0\n",
            "    0   0   0   0   0   0   0   0   0   0   0   0   0   0   0   0   0   0\n",
            "    0   0   0   0   0   0   0   0   0   0   0   0   0   0   0   0   0   0\n",
            "    0   0   0   0   0   0   0   0   0   0   0   0   0   0   0   0   0   0\n",
            "    0   0   0   0   0   0   0   0   0   0   0   0   0   0   0   0   0   0\n",
            "    0   0   0   0   0   0   0   0   0   0   0   0   0   0   0   0   0   0\n",
            "    0   0   0   0   0   0   0   0   0   0   0   0   0   0   0   0   0   0\n",
            "    0   0   0   0   0   0   0   0   0   0   0   0   0   0   0   0   0   0\n",
            "    0   0   0   0   0   0  46 648]\n",
            " [  0   0   0   0   0   0   0   0   0   0   0   0   0   0   0   0   0   0\n",
            "    0   0   0   0   0   0   0   0   0   0   0   0   0   0   0   0   0   0\n",
            "    0   0   0   0   0   0   0   0   0   0   0   0   0   0   0   0   0   0\n",
            "    0   0   0   0   0   0   0   0   0   0   0   0   0   0   0   0   0   0\n",
            "    0   0   0   0   0   0   0   0   0   0   0   0   0   0   0   0   0   0\n",
            "    0   0   0   0   0   0   0   0   0   0   0   0   0   0   0   0   0   0\n",
            "    0   0   0   0   0   0   0   0   0   0   0   0   0   0   0   0   0   0\n",
            "    0   0   0   0   0   0   0   0   0   0   0   0   0   0   0   0   0   0\n",
            "    0   0   0   0   0   0   0   0   0   0   0   0   0   0   0   0   0   0\n",
            "    0   0   0   0   0   0   0   0   0   0   0   0   0   0   0   0   0   0\n",
            "    0   0   0   0   0  46 648 101]\n",
            " [  0   0   0   0   0   0   0   0   0   0   0   0   0   0   0   0   0   0\n",
            "    0   0   0   0   0   0   0   0   0   0   0   0   0   0   0   0   0   0\n",
            "    0   0   0   0   0   0   0   0   0   0   0   0   0   0   0   0   0   0\n",
            "    0   0   0   0   0   0   0   0   0   0   0   0   0   0   0   0   0   0\n",
            "    0   0   0   0   0   0   0   0   0   0   0   0   0   0   0   0   0   0\n",
            "    0   0   0   0   0   0   0   0   0   0   0   0   0   0   0   0   0   0\n",
            "    0   0   0   0   0   0   0   0   0   0   0   0   0   0   0   0   0   0\n",
            "    0   0   0   0   0   0   0   0   0   0   0   0   0   0   0   0   0   0\n",
            "    0   0   0   0   0   0   0   0   0   0   0   0   0   0   0   0   0   0\n",
            "    0   0   0   0   0   0   0   0   0   0   0   0   0   0   0   0   0   0\n",
            "    0   0   0   0  46 648 101   5]\n",
            " [  0   0   0   0   0   0   0   0   0   0   0   0   0   0   0   0   0   0\n",
            "    0   0   0   0   0   0   0   0   0   0   0   0   0   0   0   0   0   0\n",
            "    0   0   0   0   0   0   0   0   0   0   0   0   0   0   0   0   0   0\n",
            "    0   0   0   0   0   0   0   0   0   0   0   0   0   0   0   0   0   0\n",
            "    0   0   0   0   0   0   0   0   0   0   0   0   0   0   0   0   0   0\n",
            "    0   0   0   0   0   0   0   0   0   0   0   0   0   0   0   0   0   0\n",
            "    0   0   0   0   0   0   0   0   0   0   0   0   0   0   0   0   0   0\n",
            "    0   0   0   0   0   0   0   0   0   0   0   0   0   0   0   0   0   0\n",
            "    0   0   0   0   0   0   0   0   0   0   0   0   0   0   0   0   0   0\n",
            "    0   0   0   0   0   0   0   0   0   0   0   0   0   0   0   0   0   0\n",
            "    0   0   0  46 648 101   5 649]]\n",
            "y (5, 1205) \n",
            " [[0. 0. 0. ... 0. 0. 0.]\n",
            " [0. 0. 0. ... 0. 0. 0.]\n",
            " [0. 0. 0. ... 0. 0. 0.]\n",
            " [0. 0. 0. ... 0. 0. 0.]\n",
            " [0. 0. 0. ... 0. 0. 0.]]\n",
            "==============================================\n",
            "i 2\n",
            "x (13, 188) \n",
            " [[  0   0   0 ...   0   0 101]\n",
            " [  0   0   0 ...   0 101   1]\n",
            " [  0   0   0 ... 101   1 437]\n",
            " ...\n",
            " [  0   0   0 ... 651   5  19]\n",
            " [  0   0   0 ...   5  19 326]\n",
            " [  0   0   0 ...  19 326 652]]\n",
            "y (13, 1205) \n",
            " [[0. 1. 0. ... 0. 0. 0.]\n",
            " [0. 0. 0. ... 0. 0. 0.]\n",
            " [0. 0. 0. ... 0. 0. 0.]\n",
            " ...\n",
            " [0. 0. 0. ... 0. 0. 0.]\n",
            " [0. 0. 0. ... 0. 0. 0.]\n",
            " [0. 0. 0. ... 0. 0. 0.]]\n",
            "==============================================\n"
          ],
          "name": "stdout"
        }
      ]
    },
    {
      "metadata": {
        "id": "KolbT9iUhvMx",
        "colab_type": "code",
        "colab": {
          "base_uri": "https://localhost:8080/",
          "height": 89
        },
        "outputId": "6ce0c2fc-caca-4bad-a150-b9797469b731"
      },
      "cell_type": "code",
      "source": [
        "X= [] ; Y = []\n",
        "for x, y in generate_data(doc, maxlen, vocab_size):\n",
        "    X.append(x)\n",
        "    Y.append(y)\n",
        "\n",
        "\n",
        "print(np.shape(X))\n",
        "X = np.concatenate(X)\n",
        "print(np.shape(X))\n",
        "print(np.shape(Y))\n",
        "Y = np.concatenate(Y)\n",
        "print(np.shape(Y))"
      ],
      "execution_count": 30,
      "outputs": [
        {
          "output_type": "stream",
          "text": [
            "(354,)\n",
            "(6923, 188)\n",
            "(354,)\n",
            "(6923, 1205)\n"
          ],
          "name": "stdout"
        }
      ]
    },
    {
      "metadata": {
        "id": "ikJSrhdfiieo",
        "colab_type": "code",
        "colab": {}
      },
      "cell_type": "code",
      "source": [
        "model = Sequential()\n",
        "model.add(Embedding(vocab_size, 100, input_length= maxlen))\n",
        "model.add(LSTM(100, return_sequences=False))\n",
        "model.add(Dropout(0.5))\n",
        "model.add(Dense(vocab_size , activation=\"softmax\"))"
      ],
      "execution_count": 0,
      "outputs": []
    },
    {
      "metadata": {
        "id": "26THgOuai0_2",
        "colab_type": "code",
        "colab": {
          "base_uri": "https://localhost:8080/",
          "height": 287
        },
        "outputId": "a431840d-3cc6-4642-e1ae-b532cdb4aedd"
      },
      "cell_type": "code",
      "source": [
        "model.summary()"
      ],
      "execution_count": 37,
      "outputs": [
        {
          "output_type": "stream",
          "text": [
            "_________________________________________________________________\n",
            "Layer (type)                 Output Shape              Param #   \n",
            "=================================================================\n",
            "embedding_3 (Embedding)      (None, 188, 100)          120500    \n",
            "_________________________________________________________________\n",
            "lstm_3 (LSTM)                (None, 100)               80400     \n",
            "_________________________________________________________________\n",
            "dropout_3 (Dropout)          (None, 100)               0         \n",
            "_________________________________________________________________\n",
            "dense_2 (Dense)              (None, 1205)              121705    \n",
            "=================================================================\n",
            "Total params: 322,605\n",
            "Trainable params: 322,605\n",
            "Non-trainable params: 0\n",
            "_________________________________________________________________\n"
          ],
          "name": "stdout"
        }
      ]
    },
    {
      "metadata": {
        "id": "lgGorglrjcx-",
        "colab_type": "code",
        "colab": {}
      },
      "cell_type": "code",
      "source": [
        "model.compile(loss='categorical_crossentropy', optimizer=RMSprop(), metrics=[\"accuracy\"])\n"
      ],
      "execution_count": 0,
      "outputs": []
    },
    {
      "metadata": {
        "id": "t9uCLVixjf0u",
        "colab_type": "code",
        "colab": {
          "base_uri": "https://localhost:8080/",
          "height": 18053
        },
        "outputId": "8453ae94-3d10-4633-815f-f706efcd4032"
      },
      "cell_type": "code",
      "source": [
        "%%time\n",
        "hist = model.fit(X, Y, epochs=500, batch_size=800, verbose=2)"
      ],
      "execution_count": 42,
      "outputs": [
        {
          "output_type": "stream",
          "text": [
            "Epoch 1/500\n",
            " - 6s - loss: 6.7774 - acc: 0.0329\n",
            "Epoch 2/500\n",
            " - 4s - loss: 5.8667 - acc: 0.0500\n",
            "Epoch 3/500\n",
            " - 4s - loss: 5.7400 - acc: 0.0513\n",
            "Epoch 4/500\n",
            " - 4s - loss: 5.7283 - acc: 0.0487\n",
            "Epoch 5/500\n",
            " - 4s - loss: 5.7090 - acc: 0.0488\n",
            "Epoch 6/500\n",
            " - 4s - loss: 5.6740 - acc: 0.0475\n",
            "Epoch 7/500\n",
            " - 4s - loss: 5.6660 - acc: 0.0508\n",
            "Epoch 8/500\n",
            " - 4s - loss: 5.6335 - acc: 0.0530\n",
            "Epoch 9/500\n",
            " - 4s - loss: 5.6116 - acc: 0.0527\n",
            "Epoch 10/500\n",
            " - 4s - loss: 5.5812 - acc: 0.0526\n",
            "Epoch 11/500\n",
            " - 4s - loss: 5.5496 - acc: 0.0558\n",
            "Epoch 12/500\n",
            " - 4s - loss: 5.5110 - acc: 0.0536\n",
            "Epoch 13/500\n",
            " - 4s - loss: 5.4721 - acc: 0.0582\n",
            "Epoch 14/500\n",
            " - 4s - loss: 5.4355 - acc: 0.0586\n",
            "Epoch 15/500\n",
            " - 4s - loss: 5.3976 - acc: 0.0601\n",
            "Epoch 16/500\n",
            " - 4s - loss: 5.3600 - acc: 0.0630\n",
            "Epoch 17/500\n",
            " - 4s - loss: 5.3315 - acc: 0.0646\n",
            "Epoch 18/500\n",
            " - 4s - loss: 5.2873 - acc: 0.0735\n",
            "Epoch 19/500\n",
            " - 4s - loss: 5.2469 - acc: 0.0774\n",
            "Epoch 20/500\n",
            " - 4s - loss: 5.2119 - acc: 0.0802\n",
            "Epoch 21/500\n",
            " - 4s - loss: 5.1709 - acc: 0.0887\n",
            "Epoch 22/500\n",
            " - 4s - loss: 5.1315 - acc: 0.0916\n",
            "Epoch 23/500\n",
            " - 4s - loss: 5.0853 - acc: 0.0956\n",
            "Epoch 24/500\n",
            " - 4s - loss: 5.0519 - acc: 0.0987\n",
            "Epoch 25/500\n",
            " - 4s - loss: 5.0204 - acc: 0.1024\n",
            "Epoch 26/500\n",
            " - 4s - loss: 4.9813 - acc: 0.1014\n",
            "Epoch 27/500\n",
            " - 4s - loss: 4.9386 - acc: 0.1108\n",
            "Epoch 28/500\n",
            " - 4s - loss: 4.9044 - acc: 0.1184\n",
            "Epoch 29/500\n",
            " - 4s - loss: 4.8694 - acc: 0.1228\n",
            "Epoch 30/500\n",
            " - 4s - loss: 4.8400 - acc: 0.1234\n",
            "Epoch 31/500\n",
            " - 4s - loss: 4.7940 - acc: 0.1366\n",
            "Epoch 32/500\n",
            " - 4s - loss: 4.7564 - acc: 0.1405\n",
            "Epoch 33/500\n",
            " - 4s - loss: 4.7232 - acc: 0.1410\n",
            "Epoch 34/500\n",
            " - 4s - loss: 4.6896 - acc: 0.1498\n",
            "Epoch 35/500\n",
            " - 4s - loss: 4.6562 - acc: 0.1540\n",
            "Epoch 36/500\n",
            " - 4s - loss: 4.6149 - acc: 0.1589\n",
            "Epoch 37/500\n",
            " - 4s - loss: 4.5858 - acc: 0.1644\n",
            "Epoch 38/500\n",
            " - 4s - loss: 4.5486 - acc: 0.1693\n",
            "Epoch 39/500\n",
            " - 4s - loss: 4.5070 - acc: 0.1798\n",
            "Epoch 40/500\n",
            " - 4s - loss: 4.4750 - acc: 0.1798\n",
            "Epoch 41/500\n",
            " - 4s - loss: 4.4397 - acc: 0.1840\n",
            "Epoch 42/500\n",
            " - 4s - loss: 4.3944 - acc: 0.1910\n",
            "Epoch 43/500\n",
            " - 4s - loss: 4.3680 - acc: 0.1993\n",
            "Epoch 44/500\n",
            " - 4s - loss: 4.3313 - acc: 0.2068\n",
            "Epoch 45/500\n",
            " - 4s - loss: 4.3015 - acc: 0.2034\n",
            "Epoch 46/500\n"
          ],
          "name": "stdout"
        },
        {
          "output_type": "stream",
          "text": [
            " - 4s - loss: 4.2726 - acc: 0.2079\n",
            "Epoch 47/500\n",
            " - 4s - loss: 4.2393 - acc: 0.2158\n",
            "Epoch 48/500\n",
            " - 4s - loss: 4.2113 - acc: 0.2171\n",
            "Epoch 49/500\n",
            " - 4s - loss: 4.1741 - acc: 0.2246\n",
            "Epoch 50/500\n",
            " - 4s - loss: 4.1401 - acc: 0.2268\n",
            "Epoch 51/500\n",
            " - 4s - loss: 4.1153 - acc: 0.2340\n",
            "Epoch 52/500\n",
            " - 4s - loss: 4.0856 - acc: 0.2366\n",
            "Epoch 53/500\n",
            " - 4s - loss: 4.0539 - acc: 0.2425\n",
            "Epoch 54/500\n",
            " - 4s - loss: 4.0243 - acc: 0.2456\n",
            "Epoch 55/500\n",
            " - 4s - loss: 3.9948 - acc: 0.2479\n",
            "Epoch 56/500\n",
            " - 4s - loss: 3.9666 - acc: 0.2470\n",
            "Epoch 57/500\n",
            " - 4s - loss: 3.9369 - acc: 0.2567\n",
            "Epoch 58/500\n",
            " - 4s - loss: 3.9073 - acc: 0.2593\n",
            "Epoch 59/500\n",
            " - 4s - loss: 3.8868 - acc: 0.2575\n",
            "Epoch 60/500\n",
            " - 4s - loss: 3.8641 - acc: 0.2632\n",
            "Epoch 61/500\n",
            " - 4s - loss: 3.8352 - acc: 0.2691\n",
            "Epoch 62/500\n",
            " - 4s - loss: 3.7999 - acc: 0.2721\n",
            "Epoch 63/500\n",
            " - 4s - loss: 3.7768 - acc: 0.2752\n",
            "Epoch 64/500\n",
            " - 4s - loss: 3.7471 - acc: 0.2791\n",
            "Epoch 65/500\n",
            " - 4s - loss: 3.7277 - acc: 0.2785\n",
            "Epoch 66/500\n",
            " - 4s - loss: 3.6939 - acc: 0.2887\n",
            "Epoch 67/500\n",
            " - 4s - loss: 3.6614 - acc: 0.2892\n",
            "Epoch 68/500\n",
            " - 4s - loss: 3.6438 - acc: 0.2925\n",
            "Epoch 69/500\n",
            " - 4s - loss: 3.6269 - acc: 0.2882\n",
            "Epoch 70/500\n",
            " - 4s - loss: 3.5942 - acc: 0.2915\n",
            "Epoch 71/500\n",
            " - 4s - loss: 3.5780 - acc: 0.2978\n",
            "Epoch 72/500\n",
            " - 4s - loss: 3.5448 - acc: 0.3046\n",
            "Epoch 73/500\n",
            " - 4s - loss: 3.5169 - acc: 0.3038\n",
            "Epoch 74/500\n",
            " - 4s - loss: 3.5010 - acc: 0.3065\n",
            "Epoch 75/500\n",
            " - 4s - loss: 3.4747 - acc: 0.3133\n",
            "Epoch 76/500\n",
            " - 4s - loss: 3.4512 - acc: 0.3142\n",
            "Epoch 77/500\n",
            " - 4s - loss: 3.4234 - acc: 0.3231\n",
            "Epoch 78/500\n",
            " - 4s - loss: 3.3976 - acc: 0.3224\n",
            "Epoch 79/500\n",
            " - 4s - loss: 3.3729 - acc: 0.3290\n",
            "Epoch 80/500\n",
            " - 4s - loss: 3.3569 - acc: 0.3263\n",
            "Epoch 81/500\n",
            " - 4s - loss: 3.3368 - acc: 0.3259\n",
            "Epoch 82/500\n",
            " - 4s - loss: 3.3205 - acc: 0.3311\n",
            "Epoch 83/500\n",
            " - 4s - loss: 3.2930 - acc: 0.3345\n",
            "Epoch 84/500\n",
            " - 4s - loss: 3.2756 - acc: 0.3383\n",
            "Epoch 85/500\n",
            " - 4s - loss: 3.2427 - acc: 0.3428\n",
            "Epoch 86/500\n",
            " - 4s - loss: 3.2166 - acc: 0.3449\n",
            "Epoch 87/500\n",
            " - 4s - loss: 3.2087 - acc: 0.3376\n",
            "Epoch 88/500\n",
            " - 4s - loss: 3.1817 - acc: 0.3510\n",
            "Epoch 89/500\n",
            " - 4s - loss: 3.1670 - acc: 0.3520\n",
            "Epoch 90/500\n",
            " - 4s - loss: 3.1416 - acc: 0.3555\n",
            "Epoch 91/500\n"
          ],
          "name": "stdout"
        },
        {
          "output_type": "stream",
          "text": [
            " - 4s - loss: 3.1192 - acc: 0.3572\n",
            "Epoch 92/500\n",
            " - 4s - loss: 3.1081 - acc: 0.3611\n",
            "Epoch 93/500\n",
            " - 4s - loss: 3.0823 - acc: 0.3660\n",
            "Epoch 94/500\n",
            " - 4s - loss: 3.0618 - acc: 0.3705\n",
            "Epoch 95/500\n",
            " - 4s - loss: 3.0563 - acc: 0.3689\n",
            "Epoch 96/500\n",
            " - 4s - loss: 3.0276 - acc: 0.3740\n",
            "Epoch 97/500\n",
            " - 4s - loss: 3.0120 - acc: 0.3735\n",
            "Epoch 98/500\n",
            " - 4s - loss: 2.9890 - acc: 0.3734\n",
            "Epoch 99/500\n",
            " - 4s - loss: 2.9589 - acc: 0.3800\n",
            "Epoch 100/500\n",
            " - 4s - loss: 2.9458 - acc: 0.3777\n",
            "Epoch 101/500\n",
            " - 4s - loss: 2.9311 - acc: 0.3861\n",
            "Epoch 102/500\n",
            " - 4s - loss: 2.9193 - acc: 0.3873\n",
            "Epoch 103/500\n",
            " - 4s - loss: 2.8865 - acc: 0.3958\n",
            "Epoch 104/500\n",
            " - 4s - loss: 2.8841 - acc: 0.3920\n",
            "Epoch 105/500\n",
            " - 4s - loss: 2.8495 - acc: 0.3977\n",
            "Epoch 106/500\n",
            " - 4s - loss: 2.8436 - acc: 0.3978\n",
            "Epoch 107/500\n",
            " - 4s - loss: 2.8257 - acc: 0.4004\n",
            "Epoch 108/500\n",
            " - 4s - loss: 2.7976 - acc: 0.4008\n",
            "Epoch 109/500\n",
            " - 4s - loss: 2.7932 - acc: 0.4065\n",
            "Epoch 110/500\n",
            " - 4s - loss: 2.7645 - acc: 0.4159\n",
            "Epoch 111/500\n",
            " - 4s - loss: 2.7610 - acc: 0.4131\n",
            "Epoch 112/500\n",
            " - 4s - loss: 2.7414 - acc: 0.4133\n",
            "Epoch 113/500\n",
            " - 4s - loss: 2.7276 - acc: 0.4127\n",
            "Epoch 114/500\n",
            " - 4s - loss: 2.7144 - acc: 0.4151\n",
            "Epoch 115/500\n",
            " - 4s - loss: 2.6793 - acc: 0.4228\n",
            "Epoch 116/500\n",
            " - 4s - loss: 2.6671 - acc: 0.4235\n",
            "Epoch 117/500\n",
            " - 4s - loss: 2.6748 - acc: 0.4250\n",
            "Epoch 118/500\n",
            " - 4s - loss: 2.6387 - acc: 0.4296\n",
            "Epoch 119/500\n",
            " - 4s - loss: 2.6251 - acc: 0.4284\n",
            "Epoch 120/500\n",
            " - 4s - loss: 2.6124 - acc: 0.4328\n",
            "Epoch 121/500\n",
            " - 4s - loss: 2.5810 - acc: 0.4390\n",
            "Epoch 122/500\n",
            " - 4s - loss: 2.5814 - acc: 0.4369\n",
            "Epoch 123/500\n",
            " - 4s - loss: 2.5531 - acc: 0.4443\n",
            "Epoch 124/500\n",
            " - 4s - loss: 2.5399 - acc: 0.4497\n",
            "Epoch 125/500\n",
            " - 4s - loss: 2.5283 - acc: 0.4515\n",
            "Epoch 126/500\n",
            " - 4s - loss: 2.5181 - acc: 0.4440\n",
            "Epoch 127/500\n",
            " - 4s - loss: 2.5055 - acc: 0.4505\n",
            "Epoch 128/500\n",
            " - 4s - loss: 2.4939 - acc: 0.4559\n",
            "Epoch 129/500\n",
            " - 4s - loss: 2.4855 - acc: 0.4596\n",
            "Epoch 130/500\n",
            " - 4s - loss: 2.4590 - acc: 0.4531\n",
            "Epoch 131/500\n",
            " - 4s - loss: 2.4438 - acc: 0.4619\n",
            "Epoch 132/500\n",
            " - 4s - loss: 2.4322 - acc: 0.4624\n",
            "Epoch 133/500\n",
            " - 4s - loss: 2.4049 - acc: 0.4679\n",
            "Epoch 134/500\n",
            " - 4s - loss: 2.4104 - acc: 0.4648\n",
            "Epoch 135/500\n",
            " - 4s - loss: 2.3933 - acc: 0.4709\n"
          ],
          "name": "stdout"
        },
        {
          "output_type": "stream",
          "text": [
            "Epoch 136/500\n",
            " - 4s - loss: 2.3636 - acc: 0.4758\n",
            "Epoch 137/500\n",
            " - 4s - loss: 2.3621 - acc: 0.4783\n",
            "Epoch 138/500\n",
            " - 4s - loss: 2.3544 - acc: 0.4787\n",
            "Epoch 139/500\n",
            " - 4s - loss: 2.3427 - acc: 0.4866\n",
            "Epoch 140/500\n",
            " - 4s - loss: 2.3228 - acc: 0.4855\n",
            "Epoch 141/500\n",
            " - 4s - loss: 2.3251 - acc: 0.4837\n",
            "Epoch 142/500\n",
            " - 4s - loss: 2.2926 - acc: 0.4881\n",
            "Epoch 143/500\n",
            " - 4s - loss: 2.2759 - acc: 0.4934\n",
            "Epoch 144/500\n",
            " - 4s - loss: 2.2660 - acc: 0.4943\n",
            "Epoch 145/500\n",
            " - 4s - loss: 2.2606 - acc: 0.4940\n",
            "Epoch 146/500\n",
            " - 4s - loss: 2.2367 - acc: 0.5017\n",
            "Epoch 147/500\n",
            " - 4s - loss: 2.2164 - acc: 0.5066\n",
            "Epoch 148/500\n",
            " - 4s - loss: 2.2091 - acc: 0.5108\n",
            "Epoch 149/500\n",
            " - 4s - loss: 2.2100 - acc: 0.5050\n",
            "Epoch 150/500\n",
            " - 4s - loss: 2.1894 - acc: 0.5103\n",
            "Epoch 151/500\n",
            " - 4s - loss: 2.1646 - acc: 0.5141\n",
            "Epoch 152/500\n",
            " - 4s - loss: 2.1486 - acc: 0.5215\n",
            "Epoch 153/500\n",
            " - 4s - loss: 2.1544 - acc: 0.5137\n",
            "Epoch 154/500\n",
            " - 4s - loss: 2.1359 - acc: 0.5243\n",
            "Epoch 155/500\n",
            " - 4s - loss: 2.1190 - acc: 0.5252\n",
            "Epoch 156/500\n",
            " - 4s - loss: 2.1154 - acc: 0.5264\n",
            "Epoch 157/500\n",
            " - 4s - loss: 2.1019 - acc: 0.5291\n",
            "Epoch 158/500\n",
            " - 4s - loss: 2.0857 - acc: 0.5323\n",
            "Epoch 159/500\n",
            " - 4s - loss: 2.0769 - acc: 0.5271\n",
            "Epoch 160/500\n",
            " - 4s - loss: 2.0687 - acc: 0.5321\n",
            "Epoch 161/500\n",
            " - 4s - loss: 2.0565 - acc: 0.5388\n",
            "Epoch 162/500\n",
            " - 4s - loss: 2.0370 - acc: 0.5431\n",
            "Epoch 163/500\n",
            " - 4s - loss: 2.0414 - acc: 0.5359\n",
            "Epoch 164/500\n",
            " - 4s - loss: 2.0232 - acc: 0.5482\n",
            "Epoch 165/500\n",
            " - 4s - loss: 2.0175 - acc: 0.5485\n",
            "Epoch 166/500\n",
            " - 4s - loss: 2.0014 - acc: 0.5441\n",
            "Epoch 167/500\n",
            " - 4s - loss: 1.9795 - acc: 0.5475\n",
            "Epoch 168/500\n",
            " - 4s - loss: 1.9781 - acc: 0.5477\n",
            "Epoch 169/500\n",
            " - 4s - loss: 1.9656 - acc: 0.5545\n",
            "Epoch 170/500\n",
            " - 4s - loss: 1.9558 - acc: 0.5554\n",
            "Epoch 171/500\n",
            " - 4s - loss: 1.9380 - acc: 0.5645\n",
            "Epoch 172/500\n",
            " - 4s - loss: 1.9420 - acc: 0.5609\n",
            "Epoch 173/500\n",
            " - 4s - loss: 1.9349 - acc: 0.5664\n",
            "Epoch 174/500\n",
            " - 4s - loss: 1.9300 - acc: 0.5612\n",
            "Epoch 175/500\n",
            " - 4s - loss: 1.8968 - acc: 0.5716\n",
            "Epoch 176/500\n",
            " - 4s - loss: 1.8994 - acc: 0.5743\n",
            "Epoch 177/500\n",
            " - 4s - loss: 1.8889 - acc: 0.5730\n",
            "Epoch 178/500\n",
            " - 4s - loss: 1.8857 - acc: 0.5775\n",
            "Epoch 179/500\n",
            " - 4s - loss: 1.8699 - acc: 0.5798\n",
            "Epoch 180/500\n",
            " - 4s - loss: 1.8583 - acc: 0.5824\n"
          ],
          "name": "stdout"
        },
        {
          "output_type": "stream",
          "text": [
            "Epoch 181/500\n",
            " - 4s - loss: 1.8437 - acc: 0.5821\n",
            "Epoch 182/500\n",
            " - 4s - loss: 1.8316 - acc: 0.5820\n",
            "Epoch 183/500\n",
            " - 4s - loss: 1.8212 - acc: 0.5860\n",
            "Epoch 184/500\n",
            " - 4s - loss: 1.8113 - acc: 0.5902\n",
            "Epoch 185/500\n",
            " - 4s - loss: 1.8035 - acc: 0.5898\n",
            "Epoch 186/500\n",
            " - 4s - loss: 1.7967 - acc: 0.5865\n",
            "Epoch 187/500\n",
            " - 4s - loss: 1.8008 - acc: 0.5908\n",
            "Epoch 188/500\n",
            " - 4s - loss: 1.7800 - acc: 0.5938\n",
            "Epoch 189/500\n",
            " - 4s - loss: 1.7787 - acc: 0.5996\n",
            "Epoch 190/500\n",
            " - 4s - loss: 1.7654 - acc: 0.5963\n",
            "Epoch 191/500\n",
            " - 4s - loss: 1.7464 - acc: 0.6008\n",
            "Epoch 192/500\n",
            " - 4s - loss: 1.7532 - acc: 0.6000\n",
            "Epoch 193/500\n",
            " - 4s - loss: 1.7298 - acc: 0.6165\n",
            "Epoch 194/500\n",
            " - 4s - loss: 1.7306 - acc: 0.6026\n",
            "Epoch 195/500\n",
            " - 4s - loss: 1.7258 - acc: 0.6097\n",
            "Epoch 196/500\n",
            " - 4s - loss: 1.7151 - acc: 0.6047\n",
            "Epoch 197/500\n",
            " - 4s - loss: 1.7026 - acc: 0.6114\n",
            "Epoch 198/500\n",
            " - 4s - loss: 1.7163 - acc: 0.6099\n",
            "Epoch 199/500\n",
            " - 4s - loss: 1.6736 - acc: 0.6226\n",
            "Epoch 200/500\n",
            " - 4s - loss: 1.6607 - acc: 0.6210\n",
            "Epoch 201/500\n",
            " - 4s - loss: 1.6858 - acc: 0.6203\n",
            "Epoch 202/500\n",
            " - 4s - loss: 1.6600 - acc: 0.6273\n",
            "Epoch 203/500\n",
            " - 4s - loss: 1.6356 - acc: 0.6256\n",
            "Epoch 204/500\n",
            " - 4s - loss: 1.6331 - acc: 0.6269\n",
            "Epoch 205/500\n",
            " - 4s - loss: 1.6312 - acc: 0.6243\n",
            "Epoch 206/500\n",
            " - 4s - loss: 1.6260 - acc: 0.6350\n",
            "Epoch 207/500\n",
            " - 4s - loss: 1.6225 - acc: 0.6295\n",
            "Epoch 208/500\n",
            " - 4s - loss: 1.6241 - acc: 0.6276\n",
            "Epoch 209/500\n",
            " - 4s - loss: 1.6144 - acc: 0.6354\n",
            "Epoch 210/500\n",
            " - 4s - loss: 1.5853 - acc: 0.6432\n",
            "Epoch 211/500\n",
            " - 4s - loss: 1.5819 - acc: 0.6367\n",
            "Epoch 212/500\n",
            " - 4s - loss: 1.5831 - acc: 0.6398\n",
            "Epoch 213/500\n",
            " - 4s - loss: 1.5792 - acc: 0.6341\n",
            "Epoch 214/500\n",
            " - 4s - loss: 1.5730 - acc: 0.6377\n",
            "Epoch 215/500\n",
            " - 4s - loss: 1.5514 - acc: 0.6487\n",
            "Epoch 216/500\n",
            " - 4s - loss: 1.5478 - acc: 0.6476\n",
            "Epoch 217/500\n",
            " - 4s - loss: 1.5460 - acc: 0.6477\n",
            "Epoch 218/500\n",
            " - 4s - loss: 1.5301 - acc: 0.6461\n",
            "Epoch 219/500\n",
            " - 4s - loss: 1.5351 - acc: 0.6478\n",
            "Epoch 220/500\n",
            " - 4s - loss: 1.5305 - acc: 0.6458\n",
            "Epoch 221/500\n",
            " - 4s - loss: 1.5063 - acc: 0.6502\n",
            "Epoch 222/500\n",
            " - 4s - loss: 1.5113 - acc: 0.6574\n",
            "Epoch 223/500\n",
            " - 4s - loss: 1.5069 - acc: 0.6520\n",
            "Epoch 224/500\n",
            " - 4s - loss: 1.4965 - acc: 0.6585\n",
            "Epoch 225/500\n",
            " - 4s - loss: 1.5016 - acc: 0.6539\n"
          ],
          "name": "stdout"
        },
        {
          "output_type": "stream",
          "text": [
            "Epoch 226/500\n",
            " - 4s - loss: 1.4620 - acc: 0.6633\n",
            "Epoch 227/500\n",
            " - 4s - loss: 1.4756 - acc: 0.6608\n",
            "Epoch 228/500\n",
            " - 4s - loss: 1.4641 - acc: 0.6610\n",
            "Epoch 229/500\n",
            " - 4s - loss: 1.4594 - acc: 0.6611\n",
            "Epoch 230/500\n",
            " - 4s - loss: 1.4486 - acc: 0.6692\n",
            "Epoch 231/500\n",
            " - 4s - loss: 1.4493 - acc: 0.6633\n",
            "Epoch 232/500\n",
            " - 4s - loss: 1.4271 - acc: 0.6708\n",
            "Epoch 233/500\n",
            " - 4s - loss: 1.4404 - acc: 0.6720\n",
            "Epoch 234/500\n",
            " - 4s - loss: 1.4325 - acc: 0.6734\n",
            "Epoch 235/500\n",
            " - 4s - loss: 1.4108 - acc: 0.6790\n",
            "Epoch 236/500\n",
            " - 4s - loss: 1.4193 - acc: 0.6753\n",
            "Epoch 237/500\n",
            " - 4s - loss: 1.4069 - acc: 0.6798\n",
            "Epoch 238/500\n",
            " - 4s - loss: 1.4032 - acc: 0.6785\n",
            "Epoch 239/500\n",
            " - 4s - loss: 1.3951 - acc: 0.6760\n",
            "Epoch 240/500\n",
            " - 4s - loss: 1.3861 - acc: 0.6814\n",
            "Epoch 241/500\n",
            " - 4s - loss: 1.3728 - acc: 0.6857\n",
            "Epoch 242/500\n",
            " - 4s - loss: 1.3761 - acc: 0.6815\n",
            "Epoch 243/500\n",
            " - 4s - loss: 1.3685 - acc: 0.6868\n",
            "Epoch 244/500\n",
            " - 4s - loss: 1.3721 - acc: 0.6900\n",
            "Epoch 245/500\n",
            " - 4s - loss: 1.3679 - acc: 0.6816\n",
            "Epoch 246/500\n",
            " - 4s - loss: 1.3526 - acc: 0.6905\n",
            "Epoch 247/500\n",
            " - 4s - loss: 1.3412 - acc: 0.6850\n",
            "Epoch 248/500\n",
            " - 4s - loss: 1.3562 - acc: 0.6857\n",
            "Epoch 249/500\n",
            " - 4s - loss: 1.3216 - acc: 0.6984\n",
            "Epoch 250/500\n",
            " - 4s - loss: 1.3237 - acc: 0.6983\n",
            "Epoch 251/500\n",
            " - 4s - loss: 1.3194 - acc: 0.6959\n",
            "Epoch 252/500\n",
            " - 4s - loss: 1.3095 - acc: 0.7016\n",
            "Epoch 253/500\n",
            " - 4s - loss: 1.3096 - acc: 0.6996\n",
            "Epoch 254/500\n",
            " - 4s - loss: 1.3023 - acc: 0.6948\n",
            "Epoch 255/500\n",
            " - 4s - loss: 1.3080 - acc: 0.7017\n",
            "Epoch 256/500\n",
            " - 4s - loss: 1.2930 - acc: 0.7058\n",
            "Epoch 257/500\n",
            " - 4s - loss: 1.2969 - acc: 0.7003\n",
            "Epoch 258/500\n",
            " - 4s - loss: 1.2725 - acc: 0.7040\n",
            "Epoch 259/500\n",
            " - 4s - loss: 1.2789 - acc: 0.6998\n",
            "Epoch 260/500\n",
            " - 4s - loss: 1.2709 - acc: 0.7056\n",
            "Epoch 261/500\n",
            " - 4s - loss: 1.2757 - acc: 0.6988\n",
            "Epoch 262/500\n",
            " - 4s - loss: 1.2535 - acc: 0.7117\n",
            "Epoch 263/500\n",
            " - 4s - loss: 1.2491 - acc: 0.7127\n",
            "Epoch 264/500\n",
            " - 4s - loss: 1.2564 - acc: 0.7100\n",
            "Epoch 265/500\n",
            " - 4s - loss: 1.2536 - acc: 0.7140\n",
            "Epoch 266/500\n",
            " - 4s - loss: 1.2513 - acc: 0.7101\n",
            "Epoch 267/500\n",
            " - 4s - loss: 1.2504 - acc: 0.7095\n",
            "Epoch 268/500\n",
            " - 4s - loss: 1.2333 - acc: 0.7189\n",
            "Epoch 269/500\n",
            " - 4s - loss: 1.2390 - acc: 0.7157\n",
            "Epoch 270/500\n",
            " - 4s - loss: 1.2038 - acc: 0.7186\n"
          ],
          "name": "stdout"
        },
        {
          "output_type": "stream",
          "text": [
            "Epoch 271/500\n",
            " - 4s - loss: 1.2072 - acc: 0.7146\n",
            "Epoch 272/500\n",
            " - 4s - loss: 1.1928 - acc: 0.7253\n",
            "Epoch 273/500\n",
            " - 4s - loss: 1.2102 - acc: 0.7150\n",
            "Epoch 274/500\n",
            " - 4s - loss: 1.1967 - acc: 0.7178\n",
            "Epoch 275/500\n",
            " - 4s - loss: 1.1962 - acc: 0.7182\n",
            "Epoch 276/500\n",
            " - 4s - loss: 1.2019 - acc: 0.7150\n",
            "Epoch 277/500\n",
            " - 4s - loss: 1.1909 - acc: 0.7191\n",
            "Epoch 278/500\n",
            " - 4s - loss: 1.1847 - acc: 0.7274\n",
            "Epoch 279/500\n",
            " - 4s - loss: 1.1785 - acc: 0.7235\n",
            "Epoch 280/500\n",
            " - 4s - loss: 1.1750 - acc: 0.7227\n",
            "Epoch 281/500\n",
            " - 4s - loss: 1.1752 - acc: 0.7280\n",
            "Epoch 282/500\n",
            " - 4s - loss: 1.1565 - acc: 0.7306\n",
            "Epoch 283/500\n",
            " - 4s - loss: 1.1540 - acc: 0.7302\n",
            "Epoch 284/500\n",
            " - 4s - loss: 1.1536 - acc: 0.7280\n",
            "Epoch 285/500\n",
            " - 4s - loss: 1.1494 - acc: 0.7247\n",
            "Epoch 286/500\n",
            " - 4s - loss: 1.1418 - acc: 0.7339\n",
            "Epoch 287/500\n",
            " - 4s - loss: 1.1432 - acc: 0.7344\n",
            "Epoch 288/500\n",
            " - 4s - loss: 1.1546 - acc: 0.7299\n",
            "Epoch 289/500\n",
            " - 4s - loss: 1.1305 - acc: 0.7386\n",
            "Epoch 290/500\n",
            " - 4s - loss: 1.1234 - acc: 0.7386\n",
            "Epoch 291/500\n",
            " - 4s - loss: 1.1318 - acc: 0.7414\n",
            "Epoch 292/500\n",
            " - 4s - loss: 1.1223 - acc: 0.7453\n",
            "Epoch 293/500\n",
            " - 4s - loss: 1.1143 - acc: 0.7361\n",
            "Epoch 294/500\n",
            " - 4s - loss: 1.1102 - acc: 0.7362\n",
            "Epoch 295/500\n",
            " - 4s - loss: 1.1028 - acc: 0.7396\n",
            "Epoch 296/500\n",
            " - 4s - loss: 1.1084 - acc: 0.7347\n",
            "Epoch 297/500\n",
            " - 4s - loss: 1.0905 - acc: 0.7427\n",
            "Epoch 298/500\n",
            " - 4s - loss: 1.0945 - acc: 0.7413\n",
            "Epoch 299/500\n",
            " - 4s - loss: 1.1008 - acc: 0.7390\n",
            "Epoch 300/500\n",
            " - 4s - loss: 1.0788 - acc: 0.7400\n",
            "Epoch 301/500\n",
            " - 4s - loss: 1.0757 - acc: 0.7485\n",
            "Epoch 302/500\n",
            " - 4s - loss: 1.0816 - acc: 0.7505\n",
            "Epoch 303/500\n",
            " - 4s - loss: 1.0786 - acc: 0.7468\n",
            "Epoch 304/500\n",
            " - 4s - loss: 1.0587 - acc: 0.7503\n",
            "Epoch 305/500\n",
            " - 4s - loss: 1.0641 - acc: 0.7520\n",
            "Epoch 306/500\n",
            " - 4s - loss: 1.0460 - acc: 0.7539\n",
            "Epoch 307/500\n",
            " - 4s - loss: 1.0568 - acc: 0.7563\n",
            "Epoch 308/500\n",
            " - 4s - loss: 1.0477 - acc: 0.7498\n",
            "Epoch 309/500\n",
            " - 4s - loss: 1.0575 - acc: 0.7474\n",
            "Epoch 310/500\n",
            " - 4s - loss: 1.0387 - acc: 0.7575\n",
            "Epoch 311/500\n",
            " - 4s - loss: 1.0352 - acc: 0.7589\n",
            "Epoch 312/500\n",
            " - 4s - loss: 1.0360 - acc: 0.7542\n",
            "Epoch 313/500\n",
            " - 4s - loss: 1.0608 - acc: 0.7500\n",
            "Epoch 314/500\n",
            " - 4s - loss: 1.0170 - acc: 0.7617\n",
            "Epoch 315/500\n",
            " - 4s - loss: 1.0380 - acc: 0.7622\n"
          ],
          "name": "stdout"
        },
        {
          "output_type": "stream",
          "text": [
            "Epoch 316/500\n",
            " - 4s - loss: 1.0085 - acc: 0.7621\n",
            "Epoch 317/500\n",
            " - 4s - loss: 1.0251 - acc: 0.7533\n",
            "Epoch 318/500\n",
            " - 4s - loss: 1.0235 - acc: 0.7544\n",
            "Epoch 319/500\n",
            " - 4s - loss: 1.0285 - acc: 0.7505\n",
            "Epoch 320/500\n",
            " - 4s - loss: 1.0157 - acc: 0.7579\n",
            "Epoch 321/500\n",
            " - 4s - loss: 1.0005 - acc: 0.7651\n",
            "Epoch 322/500\n",
            " - 4s - loss: 1.0037 - acc: 0.7591\n",
            "Epoch 323/500\n",
            " - 4s - loss: 1.0037 - acc: 0.7602\n",
            "Epoch 324/500\n",
            " - 4s - loss: 0.9888 - acc: 0.7679\n",
            "Epoch 325/500\n",
            " - 4s - loss: 0.9917 - acc: 0.7672\n",
            "Epoch 326/500\n",
            " - 4s - loss: 0.9880 - acc: 0.7622\n",
            "Epoch 327/500\n",
            " - 4s - loss: 0.9993 - acc: 0.7680\n",
            "Epoch 328/500\n",
            " - 4s - loss: 0.9860 - acc: 0.7676\n",
            "Epoch 329/500\n",
            " - 4s - loss: 0.9942 - acc: 0.7641\n",
            "Epoch 330/500\n",
            " - 4s - loss: 0.9765 - acc: 0.7700\n",
            "Epoch 331/500\n",
            " - 4s - loss: 0.9819 - acc: 0.7663\n",
            "Epoch 332/500\n",
            " - 4s - loss: 0.9580 - acc: 0.7745\n",
            "Epoch 333/500\n",
            " - 4s - loss: 0.9747 - acc: 0.7656\n",
            "Epoch 334/500\n",
            " - 4s - loss: 0.9602 - acc: 0.7686\n",
            "Epoch 335/500\n",
            " - 4s - loss: 0.9555 - acc: 0.7765\n",
            "Epoch 336/500\n",
            " - 4s - loss: 0.9583 - acc: 0.7745\n",
            "Epoch 337/500\n",
            " - 4s - loss: 0.9641 - acc: 0.7657\n",
            "Epoch 338/500\n",
            " - 4s - loss: 0.9539 - acc: 0.7750\n",
            "Epoch 339/500\n",
            " - 4s - loss: 0.9564 - acc: 0.7744\n",
            "Epoch 340/500\n",
            " - 4s - loss: 0.9517 - acc: 0.7731\n",
            "Epoch 341/500\n",
            " - 4s - loss: 0.9464 - acc: 0.7778\n",
            "Epoch 342/500\n",
            " - 4s - loss: 0.9520 - acc: 0.7726\n",
            "Epoch 343/500\n",
            " - 4s - loss: 0.9388 - acc: 0.7774\n",
            "Epoch 344/500\n",
            " - 4s - loss: 0.9371 - acc: 0.7763\n",
            "Epoch 345/500\n",
            " - 4s - loss: 0.9413 - acc: 0.7728\n",
            "Epoch 346/500\n",
            " - 4s - loss: 0.9276 - acc: 0.7765\n",
            "Epoch 347/500\n",
            " - 4s - loss: 0.9092 - acc: 0.7819\n",
            "Epoch 348/500\n",
            " - 4s - loss: 0.9312 - acc: 0.7791\n",
            "Epoch 349/500\n",
            " - 4s - loss: 0.9097 - acc: 0.7816\n",
            "Epoch 350/500\n",
            " - 4s - loss: 0.9218 - acc: 0.7777\n",
            "Epoch 351/500\n",
            " - 4s - loss: 0.8977 - acc: 0.7872\n",
            "Epoch 352/500\n",
            " - 4s - loss: 0.8978 - acc: 0.7875\n",
            "Epoch 353/500\n",
            " - 4s - loss: 0.9093 - acc: 0.7800\n",
            "Epoch 354/500\n",
            " - 4s - loss: 0.9068 - acc: 0.7817\n",
            "Epoch 355/500\n",
            " - 4s - loss: 0.9065 - acc: 0.7829\n",
            "Epoch 356/500\n",
            " - 4s - loss: 0.9106 - acc: 0.7835\n",
            "Epoch 357/500\n",
            " - 4s - loss: 0.8949 - acc: 0.7833\n",
            "Epoch 358/500\n",
            " - 4s - loss: 0.8931 - acc: 0.7789\n",
            "Epoch 359/500\n",
            " - 4s - loss: 0.8796 - acc: 0.7894\n",
            "Epoch 360/500\n",
            " - 4s - loss: 0.8839 - acc: 0.7926\n"
          ],
          "name": "stdout"
        },
        {
          "output_type": "stream",
          "text": [
            "Epoch 361/500\n",
            " - 4s - loss: 0.8969 - acc: 0.7846\n",
            "Epoch 362/500\n",
            " - 4s - loss: 0.8607 - acc: 0.7932\n",
            "Epoch 363/500\n",
            " - 4s - loss: 0.8759 - acc: 0.7891\n",
            "Epoch 364/500\n",
            " - 4s - loss: 0.8672 - acc: 0.7904\n",
            "Epoch 365/500\n",
            " - 4s - loss: 0.8764 - acc: 0.7862\n",
            "Epoch 366/500\n",
            " - 4s - loss: 0.8722 - acc: 0.7900\n",
            "Epoch 367/500\n",
            " - 4s - loss: 0.8783 - acc: 0.7855\n",
            "Epoch 368/500\n",
            " - 4s - loss: 0.8600 - acc: 0.7919\n",
            "Epoch 369/500\n",
            " - 4s - loss: 0.8634 - acc: 0.7864\n",
            "Epoch 370/500\n",
            " - 4s - loss: 0.8529 - acc: 0.7950\n",
            "Epoch 371/500\n",
            " - 4s - loss: 0.8553 - acc: 0.7975\n",
            "Epoch 372/500\n",
            " - 4s - loss: 0.8493 - acc: 0.7913\n",
            "Epoch 373/500\n",
            " - 4s - loss: 0.8498 - acc: 0.7966\n",
            "Epoch 374/500\n",
            " - 4s - loss: 0.8394 - acc: 0.7978\n",
            "Epoch 375/500\n",
            " - 4s - loss: 0.8474 - acc: 0.7981\n",
            "Epoch 376/500\n",
            " - 4s - loss: 0.8576 - acc: 0.7946\n",
            "Epoch 377/500\n",
            " - 4s - loss: 0.8442 - acc: 0.7958\n",
            "Epoch 378/500\n",
            " - 4s - loss: 0.8395 - acc: 0.7976\n",
            "Epoch 379/500\n",
            " - 4s - loss: 0.8378 - acc: 0.7956\n",
            "Epoch 380/500\n",
            " - 4s - loss: 0.8281 - acc: 0.7966\n",
            "Epoch 381/500\n",
            " - 4s - loss: 0.8375 - acc: 0.7960\n",
            "Epoch 382/500\n",
            " - 4s - loss: 0.8098 - acc: 0.8027\n",
            "Epoch 383/500\n",
            " - 4s - loss: 0.8301 - acc: 0.7998\n",
            "Epoch 384/500\n",
            " - 4s - loss: 0.8208 - acc: 0.8031\n",
            "Epoch 385/500\n",
            " - 4s - loss: 0.8269 - acc: 0.8002\n",
            "Epoch 386/500\n",
            " - 4s - loss: 0.8219 - acc: 0.7994\n",
            "Epoch 387/500\n",
            " - 4s - loss: 0.8364 - acc: 0.7982\n",
            "Epoch 388/500\n",
            " - 4s - loss: 0.8183 - acc: 0.7981\n",
            "Epoch 389/500\n",
            " - 4s - loss: 0.8169 - acc: 0.8001\n",
            "Epoch 390/500\n",
            " - 4s - loss: 0.8185 - acc: 0.7942\n",
            "Epoch 391/500\n",
            " - 4s - loss: 0.8147 - acc: 0.8014\n",
            "Epoch 392/500\n",
            " - 4s - loss: 0.8017 - acc: 0.8089\n",
            "Epoch 393/500\n",
            " - 4s - loss: 0.8013 - acc: 0.8114\n",
            "Epoch 394/500\n",
            " - 4s - loss: 0.8141 - acc: 0.7988\n",
            "Epoch 395/500\n",
            " - 4s - loss: 0.8005 - acc: 0.8015\n",
            "Epoch 396/500\n",
            " - 4s - loss: 0.8001 - acc: 0.8005\n",
            "Epoch 397/500\n",
            " - 4s - loss: 0.8009 - acc: 0.7989\n",
            "Epoch 398/500\n",
            " - 4s - loss: 0.8075 - acc: 0.7995\n",
            "Epoch 399/500\n",
            " - 4s - loss: 0.7893 - acc: 0.8088\n",
            "Epoch 400/500\n",
            " - 4s - loss: 0.7866 - acc: 0.8069\n",
            "Epoch 401/500\n",
            " - 4s - loss: 0.7736 - acc: 0.8174\n",
            "Epoch 402/500\n",
            " - 4s - loss: 0.7930 - acc: 0.8069\n",
            "Epoch 403/500\n",
            " - 4s - loss: 0.7841 - acc: 0.8049\n",
            "Epoch 404/500\n",
            " - 4s - loss: 0.7897 - acc: 0.8050\n",
            "Epoch 405/500\n",
            " - 4s - loss: 0.7860 - acc: 0.8109\n"
          ],
          "name": "stdout"
        },
        {
          "output_type": "stream",
          "text": [
            "Epoch 406/500\n",
            " - 4s - loss: 0.7758 - acc: 0.8103\n",
            "Epoch 407/500\n",
            " - 4s - loss: 0.7653 - acc: 0.8144\n",
            "Epoch 408/500\n",
            " - 4s - loss: 0.7688 - acc: 0.8128\n",
            "Epoch 409/500\n",
            " - 4s - loss: 0.7713 - acc: 0.8108\n",
            "Epoch 410/500\n",
            " - 4s - loss: 0.7658 - acc: 0.8096\n",
            "Epoch 411/500\n",
            " - 4s - loss: 0.7632 - acc: 0.8148\n",
            "Epoch 412/500\n",
            " - 4s - loss: 0.7519 - acc: 0.8189\n",
            "Epoch 413/500\n",
            " - 4s - loss: 0.7671 - acc: 0.8155\n",
            "Epoch 414/500\n",
            " - 4s - loss: 0.7618 - acc: 0.8109\n",
            "Epoch 415/500\n",
            " - 4s - loss: 0.7590 - acc: 0.8160\n",
            "Epoch 416/500\n",
            " - 4s - loss: 0.7561 - acc: 0.8137\n",
            "Epoch 417/500\n",
            " - 4s - loss: 0.7625 - acc: 0.8158\n",
            "Epoch 418/500\n",
            " - 4s - loss: 0.7524 - acc: 0.8168\n",
            "Epoch 419/500\n",
            " - 4s - loss: 0.7505 - acc: 0.8158\n",
            "Epoch 420/500\n",
            " - 4s - loss: 0.7418 - acc: 0.8239\n",
            "Epoch 421/500\n",
            " - 4s - loss: 0.7435 - acc: 0.8225\n",
            "Epoch 422/500\n",
            " - 4s - loss: 0.7536 - acc: 0.8115\n",
            "Epoch 423/500\n",
            " - 4s - loss: 0.7429 - acc: 0.8207\n",
            "Epoch 424/500\n",
            " - 4s - loss: 0.7330 - acc: 0.8216\n",
            "Epoch 425/500\n",
            " - 4s - loss: 0.7334 - acc: 0.8249\n",
            "Epoch 426/500\n",
            " - 4s - loss: 0.7407 - acc: 0.8207\n",
            "Epoch 427/500\n",
            " - 4s - loss: 0.7462 - acc: 0.8150\n",
            "Epoch 428/500\n",
            " - 4s - loss: 0.7238 - acc: 0.8251\n",
            "Epoch 429/500\n",
            " - 4s - loss: 0.7413 - acc: 0.8244\n",
            "Epoch 430/500\n",
            " - 4s - loss: 0.7373 - acc: 0.8164\n",
            "Epoch 431/500\n",
            " - 4s - loss: 0.7316 - acc: 0.8171\n",
            "Epoch 432/500\n",
            " - 4s - loss: 0.7200 - acc: 0.8245\n",
            "Epoch 433/500\n",
            " - 4s - loss: 0.7258 - acc: 0.8233\n",
            "Epoch 434/500\n",
            " - 4s - loss: 0.7060 - acc: 0.8284\n",
            "Epoch 435/500\n",
            " - 4s - loss: 0.7037 - acc: 0.8244\n",
            "Epoch 436/500\n",
            " - 4s - loss: 0.7144 - acc: 0.8262\n",
            "Epoch 437/500\n",
            " - 4s - loss: 0.7205 - acc: 0.8190\n",
            "Epoch 438/500\n",
            " - 4s - loss: 0.7152 - acc: 0.8294\n",
            "Epoch 439/500\n",
            " - 4s - loss: 0.7228 - acc: 0.8219\n",
            "Epoch 440/500\n",
            " - 4s - loss: 0.7059 - acc: 0.8236\n",
            "Epoch 441/500\n",
            " - 4s - loss: 0.7169 - acc: 0.8196\n",
            "Epoch 442/500\n",
            " - 4s - loss: 0.7233 - acc: 0.8173\n",
            "Epoch 443/500\n",
            " - 4s - loss: 0.7049 - acc: 0.8275\n",
            "Epoch 444/500\n",
            " - 4s - loss: 0.6989 - acc: 0.8293\n",
            "Epoch 445/500\n",
            " - 4s - loss: 0.7002 - acc: 0.8265\n",
            "Epoch 446/500\n",
            " - 4s - loss: 0.7082 - acc: 0.8270\n",
            "Epoch 447/500\n",
            " - 4s - loss: 0.6969 - acc: 0.8235\n",
            "Epoch 448/500\n",
            " - 4s - loss: 0.7033 - acc: 0.8236\n",
            "Epoch 449/500\n",
            " - 4s - loss: 0.6889 - acc: 0.8316\n",
            "Epoch 450/500\n",
            " - 4s - loss: 0.6892 - acc: 0.8255\n"
          ],
          "name": "stdout"
        },
        {
          "output_type": "stream",
          "text": [
            "Epoch 451/500\n",
            " - 4s - loss: 0.6989 - acc: 0.8187\n",
            "Epoch 452/500\n",
            " - 4s - loss: 0.6889 - acc: 0.8262\n",
            "Epoch 453/500\n",
            " - 4s - loss: 0.6880 - acc: 0.8317\n",
            "Epoch 454/500\n",
            " - 4s - loss: 0.6817 - acc: 0.8306\n",
            "Epoch 455/500\n",
            " - 4s - loss: 0.6890 - acc: 0.8281\n",
            "Epoch 456/500\n",
            " - 4s - loss: 0.6917 - acc: 0.8255\n",
            "Epoch 457/500\n",
            " - 4s - loss: 0.6798 - acc: 0.8284\n",
            "Epoch 458/500\n",
            " - 4s - loss: 0.6865 - acc: 0.8300\n",
            "Epoch 459/500\n",
            " - 4s - loss: 0.6918 - acc: 0.8272\n",
            "Epoch 460/500\n",
            " - 4s - loss: 0.6770 - acc: 0.8353\n",
            "Epoch 461/500\n",
            " - 4s - loss: 0.6752 - acc: 0.8320\n",
            "Epoch 462/500\n",
            " - 4s - loss: 0.6681 - acc: 0.8314\n",
            "Epoch 463/500\n",
            " - 4s - loss: 0.6766 - acc: 0.8319\n",
            "Epoch 464/500\n",
            " - 4s - loss: 0.6703 - acc: 0.8358\n",
            "Epoch 465/500\n",
            " - 4s - loss: 0.6623 - acc: 0.8349\n",
            "Epoch 466/500\n",
            " - 4s - loss: 0.6753 - acc: 0.8342\n",
            "Epoch 467/500\n",
            " - 4s - loss: 0.6594 - acc: 0.8355\n",
            "Epoch 468/500\n",
            " - 4s - loss: 0.6787 - acc: 0.8323\n",
            "Epoch 469/500\n",
            " - 4s - loss: 0.6693 - acc: 0.8330\n",
            "Epoch 470/500\n",
            " - 4s - loss: 0.6524 - acc: 0.8382\n",
            "Epoch 471/500\n",
            " - 4s - loss: 0.6602 - acc: 0.8326\n",
            "Epoch 472/500\n",
            " - 4s - loss: 0.6577 - acc: 0.8363\n",
            "Epoch 473/500\n",
            " - 4s - loss: 0.6579 - acc: 0.8339\n",
            "Epoch 474/500\n",
            " - 4s - loss: 0.6658 - acc: 0.8349\n",
            "Epoch 475/500\n",
            " - 4s - loss: 0.6544 - acc: 0.8424\n",
            "Epoch 476/500\n",
            " - 4s - loss: 0.6538 - acc: 0.8336\n",
            "Epoch 477/500\n",
            " - 4s - loss: 0.6587 - acc: 0.8333\n",
            "Epoch 478/500\n",
            " - 4s - loss: 0.6527 - acc: 0.8392\n",
            "Epoch 479/500\n",
            " - 4s - loss: 0.6348 - acc: 0.8439\n",
            "Epoch 480/500\n",
            " - 4s - loss: 0.6500 - acc: 0.8361\n",
            "Epoch 481/500\n",
            " - 4s - loss: 0.6518 - acc: 0.8365\n",
            "Epoch 482/500\n",
            " - 4s - loss: 0.6411 - acc: 0.8401\n",
            "Epoch 483/500\n",
            " - 4s - loss: 0.6494 - acc: 0.8375\n",
            "Epoch 484/500\n",
            " - 4s - loss: 0.6532 - acc: 0.8326\n",
            "Epoch 485/500\n",
            " - 4s - loss: 0.6435 - acc: 0.8378\n",
            "Epoch 486/500\n",
            " - 4s - loss: 0.6340 - acc: 0.8414\n",
            "Epoch 487/500\n",
            " - 4s - loss: 0.6550 - acc: 0.8387\n",
            "Epoch 488/500\n",
            " - 4s - loss: 0.6330 - acc: 0.8469\n",
            "Epoch 489/500\n",
            " - 4s - loss: 0.6333 - acc: 0.8411\n",
            "Epoch 490/500\n",
            " - 4s - loss: 0.6168 - acc: 0.8493\n",
            "Epoch 491/500\n",
            " - 4s - loss: 0.6315 - acc: 0.8421\n",
            "Epoch 492/500\n",
            " - 4s - loss: 0.6338 - acc: 0.8395\n",
            "Epoch 493/500\n",
            " - 4s - loss: 0.6184 - acc: 0.8465\n",
            "Epoch 494/500\n",
            " - 4s - loss: 0.6257 - acc: 0.8414\n",
            "Epoch 495/500\n",
            " - 4s - loss: 0.6297 - acc: 0.8421\n"
          ],
          "name": "stdout"
        },
        {
          "output_type": "stream",
          "text": [
            "Epoch 496/500\n",
            " - 4s - loss: 0.6238 - acc: 0.8439\n",
            "Epoch 497/500\n",
            " - 4s - loss: 0.6117 - acc: 0.8483\n",
            "Epoch 498/500\n",
            " - 4s - loss: 0.6261 - acc: 0.8436\n",
            "Epoch 499/500\n",
            " - 4s - loss: 0.6088 - acc: 0.8470\n",
            "Epoch 500/500\n",
            " - 4s - loss: 0.6120 - acc: 0.8465\n",
            "CPU times: user 37min 30s, sys: 8min 6s, total: 45min 36s\n",
            "Wall time: 34min 28s\n"
          ],
          "name": "stdout"
        }
      ]
    },
    {
      "metadata": {
        "id": "5hLWNgCbjpFt",
        "colab_type": "code",
        "colab": {
          "base_uri": "https://localhost:8080/",
          "height": 347
        },
        "outputId": "9be3c8a6-b6b7-4924-85d4-094b7aad15bb"
      },
      "cell_type": "code",
      "source": [
        "import matplotlib.pyplot as plt\n",
        "plt.plot(hist.history['acc'])\n",
        "plt.show()"
      ],
      "execution_count": 44,
      "outputs": [
        {
          "output_type": "display_data",
          "data": {
            "image/png": "[encoded data removed]",
            "text/plain": [
              "<matplotlib.figure.Figure at 0x7fefac639b70>"
            ]
          },
          "metadata": {
            "tags": []
          }
        }
      ]
    },
    {
      "metadata": {
        "id": "cSg55Y2Cj5FU",
        "colab_type": "code",
        "colab": {
          "base_uri": "https://localhost:8080/",
          "height": 35
        },
        "outputId": "3637c465-4bcd-404e-faf4-1ce8bbf3e5de"
      },
      "cell_type": "code",
      "source": [
        "import os\n",
        "os.chdir(\"./content\")\n",
        "!ls"
      ],
      "execution_count": 49,
      "outputs": [
        {
          "output_type": "stream",
          "text": [
            "datalab  drive\tjpype-master  master.zip  nltk_data\r\n"
          ],
          "name": "stdout"
        }
      ]
    },
    {
      "metadata": {
        "id": "_NOf5oBpr77e",
        "colab_type": "code",
        "colab": {
          "base_uri": "https://localhost:8080/",
          "height": 53
        },
        "outputId": "83ff5b9b-bf55-4ba8-8a42-2b07911f3e5d"
      },
      "cell_type": "code",
      "source": [
        "os.chdir(\"./drive/GPU/model_save\")\n",
        "!ls"
      ],
      "execution_count": 50,
      "outputs": [
        {
          "output_type": "stream",
          "text": [
            "model1.h5    model2.h5\tmodel.json  raw.githubusercontent.com\r\n",
            "model1.json  model.h5\tmodel.yaml\r\n"
          ],
          "name": "stdout"
        }
      ]
    },
    {
      "metadata": {
        "id": "7vnGjE1FktyT",
        "colab_type": "code",
        "colab": {
          "base_uri": "https://localhost:8080/",
          "height": 35
        },
        "outputId": "3c34cca9-7bf2-4682-b594-d1fc953c51d4"
      },
      "cell_type": "code",
      "source": [
        "model_json = model.to_json()\n",
        "with open(\"rnn_text.json\", \"w\") as json_file:\n",
        "    json_file.write(model_json)\n",
        "# serialize weights to HDF5\n",
        "model.save_weights(\"rnn_text2.h5\")\n",
        "print(\"Saved model to drive\")\n",
        "model.save(\"rnn_text_gen.hdf5\")"
      ],
      "execution_count": 51,
      "outputs": [
        {
          "output_type": "stream",
          "text": [
            "Saved model to drive\n"
          ],
          "name": "stdout"
        }
      ]
    },
    {
      "metadata": {
        "id": "4mvx0sjOlHfC",
        "colab_type": "code",
        "colab": {}
      },
      "cell_type": "code",
      "source": [
        "from keras.models import load_model\n",
        "model = load_model(\"rnn_text_gen.hdf5\")"
      ],
      "execution_count": 0,
      "outputs": []
    },
    {
      "metadata": {
        "id": "4-bOsL1QlIKj",
        "colab_type": "code",
        "colab": {
          "base_uri": "https://localhost:8080/",
          "height": 89
        },
        "outputId": "834f4a66-c6db-42a8-c096-a00ea68cea4f"
      },
      "cell_type": "code",
      "source": [
        "word_list = '대한민국 의 국민 이 되는 요건 은 법률 로 정한 다 .'.split(\" \")\n",
        "word_list\n",
        "print(word_list[:1])\n",
        "print(word_list[:2])\n",
        "print(word_list[:3])\n",
        "[tokenizer.word_index[w] for w in word_list[:2]]"
      ],
      "execution_count": 70,
      "outputs": [
        {
          "output_type": "stream",
          "text": [
            "['대한민국']\n",
            "['대한민국', '의']\n",
            "['대한민국', '의', '국민']\n"
          ],
          "name": "stdout"
        },
        {
          "output_type": "execute_result",
          "data": {
            "text/plain": [
              "[101, 1]"
            ]
          },
          "metadata": {
            "tags": []
          },
          "execution_count": 70
        }
      ]
    },
    {
      "metadata": {
        "id": "IvHAa8VolRaK",
        "colab_type": "code",
        "colab": {}
      },
      "cell_type": "code",
      "source": [
        "reverse_word_map = dict(map(reversed, tokenizer.word_index.items()))\n"
      ],
      "execution_count": 0,
      "outputs": []
    },
    {
      "metadata": {
        "id": "DZeqZXXOlSEx",
        "colab_type": "code",
        "colab": {
          "base_uri": "https://localhost:8080/",
          "height": 53
        },
        "outputId": "3ca985bc-865b-4d16-cbe0-8c6cd97479d6"
      },
      "cell_type": "code",
      "source": [
        "print(type(reverse_word_map))\n",
        "len(reverse_word_map)"
      ],
      "execution_count": 61,
      "outputs": [
        {
          "output_type": "stream",
          "text": [
            "<class 'dict'>\n"
          ],
          "name": "stdout"
        },
        {
          "output_type": "execute_result",
          "data": {
            "text/plain": [
              "1204"
            ]
          },
          "metadata": {
            "tags": []
          },
          "execution_count": 61
        }
      ]
    },
    {
      "metadata": {
        "id": "_G9bT4m6sdKt",
        "colab_type": "code",
        "colab": {
          "base_uri": "https://localhost:8080/",
          "height": 55
        },
        "outputId": "6c20851a-402a-407a-f6f5-0f213242f286"
      },
      "cell_type": "code",
      "source": [
        "print(tokenizer.word_index)"
      ],
      "execution_count": 66,
      "outputs": [
        {
          "output_type": "stream",
          "text": [
            "{'의': 1, '에': 2, '다': 3, '을': 4, '은': 5, '이': 6, '한': 7, '를': 8, '법률': 9, '는': 10, '수': 11, '대통령': 12, '과': 13, '할': 14, '국가': 15, '또는': 16, '국회': 17, '의하여': 18, '국민': 19, '로': 20, '아니': 21, '있다': 22, '때': 23, '헌법': 24, '으로': 25, '정하는': 26, '그': 27, '야': 28, '에는': 29, '가': 30, '와': 31, '된': 32, '관한': 33, '모든': 34, '바': 35, '적': 36, '정한': 37, '하여': 38, '나': 39, '하며': 40, '가진': 41, '기타': 42, '위하여': 43, '및': 44, '인': 45, '장': 46, '사항': 47, '되': 48, '에서': 49, '권리': 50, '안': 51, '필요한': 52, '지': 53, '없다': 54, '의원': 55, '경제': 56, '정부': 57, '선거': 58, '임명': 59, '자유': 60, '하': 61, '직무': 62, '국무총리': 63, '의무': 64, '조직': 65, '국회의원': 66, '임기': 67, '의결': 68, '공무원': 69, '정당': 70, '경우': 71, '이상': 72, '국무위원': 73, '대법원': 74, '며': 75, '범위': 76, '있어': 77, '일': 78, '이를': 79, '받지': 80, '자': 81, '법관': 82, '관하여': 83, '정책': 84, '헌법재판소': 85, '재적': 86, '회의': 87, '항의': 88, '얻어': 89, '진': 90, '하고': 91, '년': 92, '될': 93, '하고는': 94, '법원': 95, '집회': 96, '중': 97, '과반수': 98, '찬성': 99, '자문': 100, '대한민국': 101, '대한': 102, '서': 103, '조약': 104, '노력하여': 105, '다만': 106, '재판': 107, '의한': 108, '동의': 109, '관리': 110, '탄핵': 111, '권한': 112, '하기': 113, '안전보장': 114, '공포': 115, '이나': 116, '심판': 117, '상': 118, '있': 119, '시행': 120, '재판관': 121, '위원': 122, '기본': 123, '정치': 124, '고': 125, '효력': 126, '대하여': 127, '보호': 128, '받은': 129, '체포': 130, '절차': 131, '형사': 132, '근로': 133, '처분': 134, '출석': 135, '위원회': 136, '행정각부': 137, '명령': 138, '사회': 139, '질서': 140, '제정': 141, '에게': 142, '구속': 143, '없이': 144, '확정': 145, '요구': 146, '상의': 147, '분': 148, '항': 149, '까지': 150, '국정': 151, '사무': 152, '생활': 153, '것': 154, '국민투표': 155, '수립': 156, '받': 157, '이유': 158, '행위': 159, '아닌': 160, '공공': 161, '기관': 162, '공개': 163, '한하여': 164, '하는': 165, '선출': 166, '있는': 167, '국무회의': 168, '둘': 169, '대법관': 170, '지방자치단체': 171, '최초': 172, '민주': 173, '평화': 174, '통일': 175, '개정': 176, '되는': 177, '승인': 178, '누구': 179, '든지': 180, '등': 181, '의하지': 182, '청구': 183, '피고인': 184, '지체': 185, '침해': 186, '군사': 187, '위한': 188, '개발': 189, '면': 190, '규정': 191, '이내': 192, '후': 193, '부터': 194, '회계': 195, '중요한': 196, '처리': 197, '규칙': 198, '자격': 199, '결정': 200, '중임': 201, '응': 202, '제청': 203, '간': 204, '각': 205, '당시': 206, '로써': 207, '책임': 208, '향상': 209, '보장된': 210, '운영': 211, '해산': 212, '발전': 213, '진술': 214, '따라': 215, '없': 216, '심사': 217, '인하여': 218, '언론': 219, '출판': 220, '내용': 221, '군인': 222, '중대한': 223, '제외': 224, '특별한': 225, '기간': 226, '의장': 227, '하지': 228, '재의': 229, '예산안': 230, '심의': 231, '연도': 232, '예산': 233, '필요': 234, '재정': 235, '감사': 236, '계엄': 237, '관': 238, '계획': 239, '개정안': 240, '둔': 241, '감사원': 242, '급': 243, '균형': 244, '육성': 245, '개': 246, '문화': 247, '영역': 248, '균등': 249, '하게': 250, '으로써': 251, '차': 252, '있고': 253, '국제': 254, '국군': 255, '체결': 256, '목적': 257, '평등': 258, '제도': 259, '도': 260, '검사': 261, '영장': 262, '형': 263, '죄': 264, '변호인': 265, '방법': 266, '범죄': 267, '소추': 268, '제한': 269, '재산권': 270, '타인': 271, '복리': 272, '록': 273, '보상': 274, '권': 275, '비상계엄': 276, '선포': 277, '군사법원': 278, '없는': 279, '단체': 280, '집행': 281, '로부터': 282, '교육': 283, '근로자': 284, '조건': 285, '받는': 286, '있으': 287, '구성한': 288, '회': 289, '하거': 290, '임시회': 291, '요구할': 292, '못': 293, '로서': 294, '다음': 295, '전': 296, '지출': 297, '계속': 298, '부담': 299, '발의': 300, '저촉': 301, '내부': 302, '규율': 303, '파면': 304, '후임': 305, '중요': 306, '발': 307, '긴급': 308, '사면': 309, '장이': 310, '원': 311, '선고': 312, '선임': 313, '이용': 314, '농지': 315, '우리': 316, '법': 317, '조국': 318, '민족': 319, '공고': 320, '히': 321, '기회': 322, '능력': 323, '함': 324, '월': 325, '으로부터': 326, '유지': 327, '국토': 328, '중립성': 329, '일반': 330, '지위': 331, '이며': 332, '신분': 333, '활동': 334, '어야': 335, '받으': 336, '제소': 337, '인간': 338, '개인': 339, '가지는': 340, '종교': 341, '인정되': 342, '영전': 343, '신체': 344, '압수': 345, '수색': 346, '처벌': 347, '불리한': 348, '당하지': 349, '현행범인': 350, '증거': 351, '당한': 352, '부의': 353, '주거': 354, '양심': 355, '결사': 356, '배상': 357, '행사': 358, '선거권': 359, '문서': 360, '청원': 361, '군무원': 362, '판결': 363, '으로서': 364, '구금': 365, '자가': 366, '외': 367, '증진': 368, '단체행동권': 369, '복지': 370, '사유': 371, '보장한': 372, '에도': 373, '국방': 374, '속한': 375, '회기': 376, '행한': 377, '이익': 378, '기업체': 379, '계약': 380, '본': 381, '제출': 382, '만료': 383, '안은': 384, '내': 385, '편성': 386, '개시': 387, '일전': 388, '변경': 389, '하려': 390, '상호': 391, '외국': 392, '의견': 393, '정부위원': 394, '해임': 395, '건의': 396, '중앙': 397, '절': 398, '자를': 399, '세': 400, '수행할': 401, '위임': 402, '대통령령': 403, '안녕': 404, '조치': 405, '해제': 406, '면한': 407, '감형': 408, '복권': 409, '명': 410, '대외': 411, '결산': 412, '지명': 413, '평화통일': 414, '행정기관': 415, '원장': 416, '연임': 417, '금고': 418, '여부': 419, '법령': 420, '농': 421, '정은': 422, '제안': 423, '운동': 424, '불의': 425, '계승': 426, '사명': 427, '여': 428, '자율': 429, '조화': 430, '자유민주': 431, '최고': 432, '으로는': 433, '들': 434, '행복': 435, '거쳐': 436, '주권': 437, '영토': 438, '준수': 439, '같은': 440, '의사': 441, '위배': 442, '창달': 443, '으로서의': 444, '존엄': 445, '가지': 446, '앞': 447, '차별': 448, '어떠한': 449, '훈장': 450, '적법': 451, '고문': 452, '자기': 453, '신청': 454, '발부': 455, '제시하여': 456, '장기': 457, '염려': 458, '즉시': 459, '조력': 460, '자의': 461, '가족': 462, '되어야': 463, '자백': 464, '부당': 465, '유죄': 466, '받거': 467, '불이익': 468, '처우': 469, '비밀': 470, '통신': 471, '허가': 472, '시설': 473, '기준': 474, '명예': 475, '피해자': 476, '피해': 477, '과학기술': 478, '보호한': 479, '하되': 480, '초병': 481, '초소': 482, '유독': 483, '음식물': 484, '공급': 485, '포로': 486, '당해': 487, '되었': 488, '던': 489, '불법행위': 490, '손해': 491, '면제': 492, '구조': 493, '평생교육': 494, '포함한': 495, '고용': 496, '적정': 497, '임금': 498, '원칙': 499, '여자': 500, '군': 501, '우선': 502, '단결권': 503, '단체교섭권': 504, '쾌적': 505, '통하여': 506, '있도': 507, '이행': 508, '보통': 509, '직접': 510, '비밀선거': 511, '정하되': 512, '직': 513, '겸': 514, '발언': 515, '남용': 516, '재산': 517, '취득': 518, '정기회': 519, '매년': 520, '기는': 521, '인과': 522, '필요하다': 523, '인정할': 524, '그러하지': 525, '제출할': 526, '이송': 527, '이의': 528, '붙여': 529, '또한': 530, '같다': 531, '날로': 532, '새로운': 533, '경비': 534, '년도': 535, '준': 536, '정하여': 537, '제출한': 538, '비준': 539, '선전포고': 540, '파견': 541, '출석하여': 542, '상황': 543, '답변': 544, '감사원장': 545, '소': 546, '추는': 547, '자는': 548, '보전': 549, '득표': 550, '얻은': 551, '당선자': 552, '후보자': 553, '궐위': 554, '상실': 555, '선서': 556, '보위': 557, '거나': 558, '안위': 559, '강화': 560, '외환': 561, '필요하고': 562, '관계되는': 563, '보고하여': 564, '얻지': 565, '수여': 566, '관계': 567, '보좌': 568, '현역': 569, '속하는': 570, '이하': 571, '조정': 572, '직전': 573, '세입': 574, '출': 575, '위반': 576, '전제': 577, '행정심판': 578, '심리': 579, '군사재판': 580, '관할': 581, '위헌': 582, '헌법소원': 583, '인의': 584, '가입하거': 585, '관여': 586, '지시': 587, '기업': 588, '안정': 589, '규제': 590, '자원': 591, '달성': 592, '농업': 593, '생산': 594, '경영': 595, '지역': 596, '중소기업': 597, '어민': 598, '투표': 599, '부칙': 600, '시행일': 601, '시한': 602, '국회의원선거': 603, '전일': 604, '까지로': 605, '설치될': 606, '유구': 607, '역사': 608, '전통': 609, '빛나는': 610, '건립': 611, '임시정부': 612, '통과': 613, '항거': 614, '이념': 615, '개혁': 616, '입': 617, '각하': 618, '정의': 619, '인도': 620, '동포': 621, '애': 622, '단결': 623, '폐습': 624, '타파': 625, '바탕': 626, '더욱': 627, '확고': 628, '각인': 629, '도로': 630, '발휘하게': 631, '따르는': 632, '완수': 633, '기하': 634, '밖': 635, '항구': 636, '세계': 637, '인류': 638, '공영': 639, '이바지': 640, '자손': 641, '안전': 642, '영원히': 643, '확보': 644, '다짐하면': 645, '걸쳐': 646, '이제': 647, '총강': 648, '민주공화국': 649, '이다': 650, '권력': 651, '나온': 652, '요건': 653, '재외국민': 654, '보호할': 655, '한반도': 656, '부속': 657, '도서': 658, '지향': 659, '입각': 660, '추진한': 661, '노력하고': 662, '침략': 663, '전쟁': 664, '부인': 665, '방위': 666, '신성': 667, '수행함': 668, '법규': 669, '국내법': 670, '외국인': 671, '전체': 672, '봉사자': 673, '설립': 674, '복수정당제': 675, '형성': 676, '참여하는': 677, '데': 678, '가져': 679, '자금': 680, '보조': 681, '전통문화': 682, '가치': 683, '추구': 684, '불가침': 685, '인권': 686, '확인하고': 687, '보장할': 688, '하다': 689, '성별': 690, '특수': 691, '계급': 692, '형태': 693, '창설': 694, '에게만': 695, '특권': 696, '따르': 697, '심문': 698, '보안처분': 699, '강제': 700, '노역': 701, '강요': 702, '해당하는': 703, '범': 704, '도피': 705, '멸': 706, '사후': 707, '스스로': 708, '구할': 709, '붙인': 710, '음': 711, '고지': 712, '에게는': 713, '일시': 714, '장소': 715, '통지': 716, '폭행': 717, '협박': 718, '화': 719, '기망': 720, '라고': 721, '인정될': 722, '정식': 723, '유일': 724, '삼거': 725, '시': 726, '구성하지': 727, '동일한': 728, '거듭': 729, '소급입법': 730, '참정권': 731, '박탈': 732, '친족': 733, '거주': 734, '이전': 735, '직업': 736, '선택': 737, '사생활': 738, '국교': 739, '분리된': 740, '검열': 741, '방송': 742, '신문': 743, '기능': 744, '보장하기': 745, '공중도덕': 746, '윤리': 747, '서는': 748, '학문': 749, '예술': 750, '저작자': 751, '발명가': 752, '예술가': 753, '한계': 754, '적합하도': 755, '공공필요': 756, '수용': 757, '사용': 758, '지급하여': 759, '공무': 760, '담임': 761, '에서는': 762, '기밀': 763, '군용': 764, '물': 765, '신속한': 766, '상당한': 767, '까지는': 768, '무죄': 769, '추정': 770, '사건': 771, '피의자': 772, '불기소처분': 773, '무죄판결': 774, '자신': 775, '경찰': 776, '전투': 777, '훈련': 778, '관련하여': 779, '인한': 780, '생명': 781, '보호하는': 782, '자녀': 783, '적어도': 784, '초등교육': 785, '받게': 786, '의무교육': 787, '무상': 788, '자주성': 789, '전문성': 790, '대학': 791, '자율성': 792, '진흥': 793, '학교': 794, '교육제도': 795, '교육재정': 796, '교원': 797, '보장': 798, '최저임금제': 799, '민주주의': 800, '존엄성': 801, '보장하도': 802, '연소자': 803, '유공': 804, '상이': 805, '군경': 806, '전몰': 807, '경의': 808, '유가족': 809, '부여': 810, '자주': 811, '주요': 812, '방위산업': 813, '체': 814, '종사': 815, '제한하거': 816, '인정하지': 817, '다운': 818, '사회보장': 819, '노력할': 820, '권익': 821, '노인': 822, '청소년': 823, '실시할': 824, '장애자': 825, '질병': 826, '노령': 827, '재해': 828, '예방하고': 829, '위험': 830, '보호하기': 831, '건강하고': 832, '환경': 833, '생활할': 834, '환경보전': 835, '환경권': 836, '주택': 837, '혼인': 838, '양성': 839, '기초': 840, '성립되': 841, '유지되': 842, '모성': 843, '보건': 844, '열거': 845, '경시': 846, '제한할': 847, '제한하는': 848, '본질': 849, '납세': 850, '병역의무': 851, '입법권': 852, '선거구': 853, '비례대표제': 854, '기전': 855, '석방': 856, '표결': 857, '지지': 858, '청렴': 859, '와의': 860, '직위': 861, '알선': 862, '초과': 863, '명시': 864, '가부': 865, '동수': 866, '부결': 867, '있거': 868, '공표': 869, '의안': 870, '폐기': 871, '되어': 872, '환부': 873, '폐회': 874, '일부': 875, '수정': 876, '붙이': 877, '전과': 878, '하면': 879, '국회의장': 880, '경과': 881, '발생한': 882, '마다': 883, '제출하고': 884, '설치된': 885, '법률상': 886, '이미': 887, '사업': 888, '넘어': 889, '연한': 890, '비': 891, '예비': 892, '비는': 893, '총액': 894, '예': 895, '비비': 896, '차기': 897, '가할': 898, '추가경정예산': 899, '각항': 900, '금액': 901, '증가하거': 902, '새': 903, '비목': 904, '설치할': 905, '국채': 906, '모집하거': 907, '미리': 908, '조세': 909, '종목': 910, '세율': 911, '원조': 912, '우호': 913, '통상': 914, '항해': 915, '제약': 916, '강화조약': 917, '지우는': 918, '입법': 919, '에의': 920, '군대': 921, '에서의': 922, '주류': 923, '감사하거': 924, '특정한': 925, '사안': 926, '조사할': 927, '서류': 928, '증인': 929, '증언': 930, '국정감사': 931, '조사': 932, '보고하거': 933, '질문': 934, '응답할': 935, '하여금': 936, '징계': 937, '제명': 938, '위': 939, '배한': 940, '정지': 941, '공직': 942, '그친': 943, '그러나': 944, '민사': 945, '지는': 946, '원수': 947, '대표한': 948, '독립': 949, '성과': 950, '수호': 951, '책무': 952, '성실한': 953, '행정권': 954, '수반': 955, '이상인': 956, '출석한': 957, '다수': 958, '표': 959, '인일': 960, '수가': 961, '총수': 962, '당선': 963, '피선거권': 964, '선거일': 965, '현재': 966, '달': 967, '여야': 968, '내지': 969, '사망하거': 970, '취임': 971, '즈음': 972, '직책': 973, '성실히': 974, '엄숙히': 975, '합': 976, '니다': 977, '사고': 978, '순서': 979, '대행': 980, '외교': 981, '붙일': 982, '외교사절': 983, '신임': 984, '접수': 985, '통수': 986, '구체': 987, '우': 988, '천재': 989, '변': 990, '위기': 991, '유지하기': 992, '기다릴': 993, '여유': 994, '최소한': 995, '교전': 996, '상태': 997, '불가능한': 998, '그때': 999, '폐지': 1000, '당연히': 1001, '회복한': 1002, '전시': 1003, '사변': 1004, '비상': 1005, '사태': 1006, '병력': 1007, '유지할': 1008, '경비계엄': 1009, '통고': 1010, '요구한': 1011, '임': 1012, '서한': 1013, '표시할': 1014, '국법': 1015, '부서': 1016, '공사': 1017, '내란': 1018, '범한': 1019, '재직': 1020, '전직': 1021, '예우': 1022, '행정부': 1023, '행정': 1024, '받아': 1025, '통할': 1026, '구성원': 1027, '선전': 1028, '국유재산': 1029, '획정': 1030, '배정': 1031, '평가': 1032, '분석': 1033, '회부': 1034, '검찰총장': 1035, '합동': 1036, '참모': 1037, '참모총장': 1038, '국립': 1039, '대학교': 1040, '총장': 1041, '대사': 1042, '국영': 1043, '관리자': 1044, '원로': 1045, '구성되는': 1046, '관련되는': 1047, '국내': 1048, '앞서': 1049, '주재': 1050, '소관': 1051, '직권': 1052, '총리': 1053, '령': 1054, '부령': 1055, '설치': 1056, '감찰': 1057, '소속하': 1058, '결과': 1059, '대상': 1060, '사법권': 1061, '구성된': 1062, '최고법원': 1063, '부를': 1064, '독립하여': 1065, '정년': 1066, '징계처분': 1067, '정직': 1068, '감봉': 1069, '심신': 1070, '장해': 1071, '퇴직': 1072, '최종': 1073, '전심': 1074, '사법': 1075, '준용': 1076, '소송': 1077, '방해하거': 1078, '선량': 1079, '풍속': 1080, '해': 1081, '기': 1082, '특별법': 1083, '상고': 1084, '심은': 1085, '하의': 1086, '간첩죄': 1087, '단심': 1088, '사형': 1089, '관장': 1090, '쟁의': 1091, '구성하며': 1092, '인용': 1093, '공정': 1094, '위원장': 1095, '호선': 1096, '선거인명부': 1097, '작성': 1098, '선거운동': 1099, '리하': 1100, '보장되': 1101, '시킬': 1102, '지방자치': 1103, '주민': 1104, '관리하며': 1105, '자치': 1106, '종류': 1107, '의회': 1108, '지방의회': 1109, '장의': 1110, '창의': 1111, '존중함': 1112, '성장': 1113, '소득': 1114, '분배': 1115, '유지하고': 1116, '시장': 1117, '지배': 1118, '경제력': 1119, '방지하며': 1120, '주체': 1121, '통한': 1122, '민주화': 1123, '광물': 1124, '지하자원': 1125, '수산': 1126, '수력': 1127, '이용할': 1128, '자연력': 1129, '일정한': 1130, '채취': 1131, '특허': 1132, '경자': 1133, '유전': 1134, '소작': 1135, '금지된': 1136, '성의': 1137, '합리': 1138, '위하거': 1139, '불가피한': 1140, '사정': 1141, '발생하는': 1142, '임대차': 1143, '위탁': 1144, '인정된': 1145, '모두': 1146, '기반': 1147, '효율': 1148, '이고': 1149, '어업': 1150, '어촌': 1151, '종합': 1152, '지원': 1153, '농수산': 1154, '물의': 1155, '수급': 1156, '유통': 1157, '개선': 1158, '가격': 1159, '모함': 1160, '건전한': 1161, '소비': 1162, '계': 1163, '도하': 1164, '생산품': 1165, '품질': 1166, '촉구하기': 1167, '소비자보호': 1168, '무역': 1169, '조정할': 1170, '긴': 1171, '사영': 1172, '국유': 1173, '공유': 1174, '통제': 1175, '관리할': 1176, '혁신': 1177, '정보': 1178, '인력': 1179, '표준': 1180, '확립한': 1181, '기구': 1182, '연장': 1183, '펼': 1184, '침': 1185, '호': 1186, '보기': 1187, '준비': 1188, '대통령선거': 1189, '실시한': 1190, '공포일': 1191, '실시하며': 1192, '일로': 1193, '임원': 1194, '행하며': 1195, '전임': 1196, '대법원판사': 1197, '단서': 1198, '불구하고': 1199, '적용한': 1200, '지속': 1201, '새로': 1202, '행하고': 1203, '존속': 1204}\n"
          ],
          "name": "stdout"
        }
      ]
    },
    {
      "metadata": {
        "id": "lL3rC1dOlZy0",
        "colab_type": "code",
        "colab": {
          "base_uri": "https://localhost:8080/",
          "height": 287
        },
        "outputId": "052781f8-2b3e-4c06-b239-8f2d88e811ea"
      },
      "cell_type": "code",
      "source": [
        "x = sequence.pad_sequences([[tokenizer.word_index[w] for w in word_list[:2]]], maxlen=maxlen)\n",
        "x"
      ],
      "execution_count": 71,
      "outputs": [
        {
          "output_type": "execute_result",
          "data": {
            "text/plain": [
              "array([[  0,   0,   0,   0,   0,   0,   0,   0,   0,   0,   0,   0,   0,\n",
              "          0,   0,   0,   0,   0,   0,   0,   0,   0,   0,   0,   0,   0,\n",
              "          0,   0,   0,   0,   0,   0,   0,   0,   0,   0,   0,   0,   0,\n",
              "          0,   0,   0,   0,   0,   0,   0,   0,   0,   0,   0,   0,   0,\n",
              "          0,   0,   0,   0,   0,   0,   0,   0,   0,   0,   0,   0,   0,\n",
              "          0,   0,   0,   0,   0,   0,   0,   0,   0,   0,   0,   0,   0,\n",
              "          0,   0,   0,   0,   0,   0,   0,   0,   0,   0,   0,   0,   0,\n",
              "          0,   0,   0,   0,   0,   0,   0,   0,   0,   0,   0,   0,   0,\n",
              "          0,   0,   0,   0,   0,   0,   0,   0,   0,   0,   0,   0,   0,\n",
              "          0,   0,   0,   0,   0,   0,   0,   0,   0,   0,   0,   0,   0,\n",
              "          0,   0,   0,   0,   0,   0,   0,   0,   0,   0,   0,   0,   0,\n",
              "          0,   0,   0,   0,   0,   0,   0,   0,   0,   0,   0,   0,   0,\n",
              "          0,   0,   0,   0,   0,   0,   0,   0,   0,   0,   0,   0,   0,\n",
              "          0,   0,   0,   0,   0,   0,   0,   0,   0,   0,   0,   0,   0,\n",
              "          0,   0,   0,   0, 101,   1]], dtype=int32)"
            ]
          },
          "metadata": {
            "tags": []
          },
          "execution_count": 71
        }
      ]
    },
    {
      "metadata": {
        "id": "DDSpkcSwlbd6",
        "colab_type": "code",
        "colab": {
          "base_uri": "https://localhost:8080/",
          "height": 53
        },
        "outputId": "2cf251b1-712a-4ec1-9914-52dcd887bfb8"
      },
      "cell_type": "code",
      "source": [
        "print(len(model.predict(x)))\n",
        "p = model.predict(x)[0]\n",
        "len(p)"
      ],
      "execution_count": 72,
      "outputs": [
        {
          "output_type": "stream",
          "text": [
            "1\n"
          ],
          "name": "stdout"
        },
        {
          "output_type": "execute_result",
          "data": {
            "text/plain": [
              "1205"
            ]
          },
          "metadata": {
            "tags": []
          },
          "execution_count": 72
        }
      ]
    },
    {
      "metadata": {
        "id": "lBbugMo1lc15",
        "colab_type": "code",
        "colab": {
          "base_uri": "https://localhost:8080/",
          "height": 53
        },
        "outputId": "7af62228-2db5-4e83-90ad-4a5d1d2b24d8"
      },
      "cell_type": "code",
      "source": [
        "idx = np.flip(np.argsort(p), 0)\n",
        "print(len(idx))\n",
        "idx"
      ],
      "execution_count": 74,
      "outputs": [
        {
          "output_type": "stream",
          "text": [
            "1205\n"
          ],
          "name": "stdout"
        },
        {
          "output_type": "execute_result",
          "data": {
            "text/plain": [
              "array([ 438,  437,   19, ...,  436,   89, 1011])"
            ]
          },
          "metadata": {
            "tags": []
          },
          "execution_count": 74
        }
      ]
    },
    {
      "metadata": {
        "id": "CpZTh2uRle0K",
        "colab_type": "code",
        "colab": {
          "base_uri": "https://localhost:8080/",
          "height": 53
        },
        "outputId": "963c3035-1ff1-4aa3-b68e-1f3e6cd4fe80"
      },
      "cell_type": "code",
      "source": [
        "p[idx]"
      ],
      "execution_count": 75,
      "outputs": [
        {
          "output_type": "execute_result",
          "data": {
            "text/plain": [
              "array([3.3499768e-01, 2.4437273e-01, 7.4007072e-02, ..., 3.8910351e-11,\n",
              "       6.9717717e-12, 6.2162051e-12], dtype=float32)"
            ]
          },
          "metadata": {
            "tags": []
          },
          "execution_count": 75
        }
      ]
    },
    {
      "metadata": {
        "id": "Vv-Ekre5lf_4",
        "colab_type": "code",
        "colab": {
          "base_uri": "https://localhost:8080/",
          "height": 107
        },
        "outputId": "fdb9ab18-9cc4-4ad4-850f-74772cdde831"
      },
      "cell_type": "code",
      "source": [
        "for i in idx[:5]:\n",
        "    print(reverse_word_map[i])"
      ],
      "execution_count": 76,
      "outputs": [
        {
          "output_type": "stream",
          "text": [
            "영토\n",
            "주권\n",
            "국민\n",
            "은\n",
            "종류\n"
          ],
          "name": "stdout"
        }
      ]
    },
    {
      "metadata": {
        "id": "iyXETBstloe8",
        "colab_type": "code",
        "colab": {}
      },
      "cell_type": "code",
      "source": [
        "def predict_word(i, n=1):\n",
        "    x = sequence.pad_sequences([[tokenizer.word_index[w] for w in word_list[:i]]], maxlen=maxlen)\n",
        "    p = model.predict(x)[0]\n",
        "    idx = np.flip(np.argsort(p), 0)\n",
        "    for j in idx[:n]:\n",
        "        print('\"', \" \".join(word_list[:i]), '\"', reverse_word_map[j], \" (p={:4.2f}%)\".format(100 * p[j]))"
      ],
      "execution_count": 0,
      "outputs": []
    },
    {
      "metadata": {
        "id": "csVlOrz4lpTS",
        "colab_type": "code",
        "colab": {
          "base_uri": "https://localhost:8080/",
          "height": 71
        },
        "outputId": "822cbc86-4c2e-4752-f567-0f329731a039"
      },
      "cell_type": "code",
      "source": [
        "predict_word(1, n=3)"
      ],
      "execution_count": 78,
      "outputs": [
        {
          "output_type": "stream",
          "text": [
            "\" 대한민국 \" 의  (p=53.93%)\n",
            "\" 대한민국 \" 은  (p=39.62%)\n",
            "\" 대한민국 \" 는  (p=1.71%)\n"
          ],
          "name": "stdout"
        }
      ]
    },
    {
      "metadata": {
        "id": "Ism3FsRnmB4x",
        "colab_type": "code",
        "colab": {
          "base_uri": "https://localhost:8080/",
          "height": 71
        },
        "outputId": "c20d109a-11ac-490e-9410-6626968b50c0"
      },
      "cell_type": "code",
      "source": [
        "predict_word(2, n=3)"
      ],
      "execution_count": 79,
      "outputs": [
        {
          "output_type": "stream",
          "text": [
            "\" 대한민국 의 \" 영토  (p=33.50%)\n",
            "\" 대한민국 의 \" 주권  (p=24.44%)\n",
            "\" 대한민국 의 \" 국민  (p=7.40%)\n"
          ],
          "name": "stdout"
        }
      ]
    },
    {
      "metadata": {
        "id": "QpZbrLzWmkHg",
        "colab_type": "code",
        "colab": {
          "base_uri": "https://localhost:8080/",
          "height": 71
        },
        "outputId": "a5c2f15b-df5f-481a-d98b-89b116136fef"
      },
      "cell_type": "code",
      "source": [
        "predict_word(3, n=3)"
      ],
      "execution_count": 80,
      "outputs": [
        {
          "output_type": "stream",
          "text": [
            "\" 대한민국 의 국민 \" 이  (p=52.06%)\n",
            "\" 대한민국 의 국민 \" 은  (p=29.65%)\n",
            "\" 대한민국 의 국민 \" 의  (p=5.25%)\n"
          ],
          "name": "stdout"
        }
      ]
    },
    {
      "metadata": {
        "id": "cRH6VqbRmlcP",
        "colab_type": "code",
        "colab": {
          "base_uri": "https://localhost:8080/",
          "height": 71
        },
        "outputId": "e9d6ce07-1ac4-4b8c-d723-bebf4ce8725d"
      },
      "cell_type": "code",
      "source": [
        "predict_word(4, n=3)"
      ],
      "execution_count": 81,
      "outputs": [
        {
          "output_type": "stream",
          "text": [
            "\" 대한민국 의 국민 이 \" 되는  (p=91.97%)\n",
            "\" 대한민국 의 국민 이 \" 아닌  (p=1.32%)\n",
            "\" 대한민국 의 국민 이 \" 고문  (p=1.13%)\n"
          ],
          "name": "stdout"
        }
      ]
    },
    {
      "metadata": {
        "id": "V-PqLnKymm5n",
        "colab_type": "code",
        "colab": {
          "base_uri": "https://localhost:8080/",
          "height": 71
        },
        "outputId": "5da170b1-55c8-4411-e3ea-a8e03e718ac1"
      },
      "cell_type": "code",
      "source": [
        "predict_word(5, n=3)"
      ],
      "execution_count": 82,
      "outputs": [
        {
          "output_type": "stream",
          "text": [
            "\" 대한민국 의 국민 이 되는 \" 요건  (p=99.07%)\n",
            "\" 대한민국 의 국민 이 되는 \" 되는  (p=0.06%)\n",
            "\" 대한민국 의 국민 이 되는 \" 만료  (p=0.05%)\n"
          ],
          "name": "stdout"
        }
      ]
    },
    {
      "metadata": {
        "id": "FWhzwdTqm4BI",
        "colab_type": "code",
        "colab": {
          "base_uri": "https://localhost:8080/",
          "height": 71
        },
        "outputId": "d5e66192-b59d-4659-95c2-c1198a2bda26"
      },
      "cell_type": "code",
      "source": [
        "predict_word(6, n=3)"
      ],
      "execution_count": 83,
      "outputs": [
        {
          "output_type": "stream",
          "text": [
            "\" 대한민국 의 국민 이 되는 요건 \" 은  (p=99.40%)\n",
            "\" 대한민국 의 국민 이 되는 요건 \" 과  (p=0.14%)\n",
            "\" 대한민국 의 국민 이 되는 요건 \" 의  (p=0.12%)\n"
          ],
          "name": "stdout"
        }
      ]
    },
    {
      "metadata": {
        "id": "UPsYlCXkm4Ev",
        "colab_type": "code",
        "colab": {
          "base_uri": "https://localhost:8080/",
          "height": 71
        },
        "outputId": "34e6075e-bca7-468e-f123-20856bc919c1"
      },
      "cell_type": "code",
      "source": [
        "predict_word(7, n=3)"
      ],
      "execution_count": 84,
      "outputs": [
        {
          "output_type": "stream",
          "text": [
            "\" 대한민국 의 국민 이 되는 요건 은 \" 법률  (p=99.16%)\n",
            "\" 대한민국 의 국민 이 되는 요건 은 \" 대통령  (p=0.18%)\n",
            "\" 대한민국 의 국민 이 되는 요건 은 \" 국회  (p=0.18%)\n"
          ],
          "name": "stdout"
        }
      ]
    },
    {
      "metadata": {
        "id": "USPH_cfhm4Hv",
        "colab_type": "code",
        "colab": {
          "base_uri": "https://localhost:8080/",
          "height": 71
        },
        "outputId": "c20e09c3-f28d-40d0-ad0d-e90798c130d4"
      },
      "cell_type": "code",
      "source": [
        "predict_word(8, n=3)"
      ],
      "execution_count": 85,
      "outputs": [
        {
          "output_type": "stream",
          "text": [
            "\" 대한민국 의 국민 이 되는 요건 은 법률 \" 로  (p=97.69%)\n",
            "\" 대한민국 의 국민 이 되는 요건 은 법률 \" 이  (p=1.93%)\n",
            "\" 대한민국 의 국민 이 되는 요건 은 법률 \" 에  (p=0.17%)\n"
          ],
          "name": "stdout"
        }
      ]
    },
    {
      "metadata": {
        "id": "Z2xX7oXvm4LA",
        "colab_type": "code",
        "colab": {
          "base_uri": "https://localhost:8080/",
          "height": 71
        },
        "outputId": "c6e8c598-281e-4c22-95ff-56dcfa182975"
      },
      "cell_type": "code",
      "source": [
        "predict_word(9, n=3)"
      ],
      "execution_count": 86,
      "outputs": [
        {
          "output_type": "stream",
          "text": [
            "\" 대한민국 의 국민 이 되는 요건 은 법률 로 \" 정한  (p=99.74%)\n",
            "\" 대한민국 의 국민 이 되는 요건 은 법률 로 \" 정하는  (p=0.12%)\n",
            "\" 대한민국 의 국민 이 되는 요건 은 법률 로 \" 정하되  (p=0.04%)\n"
          ],
          "name": "stdout"
        }
      ]
    },
    {
      "metadata": {
        "id": "rI44O76sm4Nv",
        "colab_type": "code",
        "colab": {
          "base_uri": "https://localhost:8080/",
          "height": 71
        },
        "outputId": "763abaf5-d0b5-49a9-bda6-293a8a3849cc"
      },
      "cell_type": "code",
      "source": [
        "predict_word(10, n=3)"
      ],
      "execution_count": 87,
      "outputs": [
        {
          "output_type": "stream",
          "text": [
            "\" 대한민국 의 국민 이 되는 요건 은 법률 로 정한 \" 다  (p=99.91%)\n",
            "\" 대한민국 의 국민 이 되는 요건 은 법률 로 정한 \" 후  (p=0.02%)\n",
            "\" 대한민국 의 국민 이 되는 요건 은 법률 로 정한 \" 로  (p=0.01%)\n"
          ],
          "name": "stdout"
        }
      ]
    },
    {
      "metadata": {
        "id": "XL_BEpoJm4Q5",
        "colab_type": "code",
        "colab": {}
      },
      "cell_type": "code",
      "source": [
        "def generate(w, n, seed=None):\n",
        "    \n",
        "    if seed is not None:\n",
        "        np.random.seed(seed)\n",
        "    \n",
        "    def _predict_word(sent):\n",
        "        x = sequence.pad_sequences([[tokenizer.word_index[w] for w in sent]], maxlen=maxlen)\n",
        "        p = model.predict(x)[0]\n",
        "        logp = np.log(p)\n",
        "        p = np.exp(logp) / np.sum(np.exp(logp))\n",
        "        p = p[1:]\n",
        "        return np.random.choice(list(tokenizer.word_index.keys()), p=p)\n",
        "\n",
        "    sent = [w]\n",
        "    for i in range(n):\n",
        "        w = _predict_word(sent)\n",
        "        sent.append(w)\n",
        "        \n",
        "    return \" \".join(sent)"
      ],
      "execution_count": 0,
      "outputs": []
    },
    {
      "metadata": {
        "id": "LJsTOxsWnGqf",
        "colab_type": "code",
        "colab": {
          "base_uri": "https://localhost:8080/",
          "height": 35
        },
        "outputId": "60d5f05c-bc81-4bee-db1e-94c16472b77c"
      },
      "cell_type": "code",
      "source": [
        "generate(\"대한민국\", 10, seed=1)"
      ],
      "execution_count": 127,
      "outputs": [
        {
          "output_type": "execute_result",
          "data": {
            "text/plain": [
              "'대한민국 의 영토 의 수립 에 국민 이 이를 중대한 상'"
            ]
          },
          "metadata": {
            "tags": []
          },
          "execution_count": 127
        }
      ]
    },
    {
      "metadata": {
        "id": "h8RalaE5nGtn",
        "colab_type": "code",
        "colab": {
          "base_uri": "https://localhost:8080/",
          "height": 35
        },
        "outputId": "a05941ee-359c-454e-a8d7-1beb424a02d5"
      },
      "cell_type": "code",
      "source": [
        "generate(\"대한민국\", 10, seed=2)"
      ],
      "execution_count": 128,
      "outputs": [
        {
          "output_type": "execute_result",
          "data": {
            "text/plain": [
              "'대한민국 의 은 헌법 과 이 헌법 에 의한 법률 에'"
            ]
          },
          "metadata": {
            "tags": []
          },
          "execution_count": 128
        }
      ]
    },
    {
      "metadata": {
        "id": "3m2d44c7nGxQ",
        "colab_type": "code",
        "colab": {
          "base_uri": "https://localhost:8080/",
          "height": 35
        },
        "outputId": "1755ec42-1554-4793-90da-7e5d2b2589c7"
      },
      "cell_type": "code",
      "source": [
        "generate(\"대한민국\", 10, seed=3)"
      ],
      "execution_count": 129,
      "outputs": [
        {
          "output_type": "execute_result",
          "data": {
            "text/plain": [
              "'대한민국 은 국제 평화 의 유지 에 노력하고 침략 적 전쟁'"
            ]
          },
          "metadata": {
            "tags": []
          },
          "execution_count": 129
        }
      ]
    },
    {
      "metadata": {
        "id": "zTuJptMbnG0W",
        "colab_type": "code",
        "colab": {
          "base_uri": "https://localhost:8080/",
          "height": 35
        },
        "outputId": "d98273d8-ac1b-45f5-d260-258c41513406"
      },
      "cell_type": "code",
      "source": [
        "generate(\"국민\", 10, seed=1)"
      ],
      "execution_count": 130,
      "outputs": [
        {
          "output_type": "execute_result",
          "data": {
            "text/plain": [
              "'국민 은 비상계엄 의 행사 에 필요한 적 으로 하며 국가'"
            ]
          },
          "metadata": {
            "tags": []
          },
          "execution_count": 130
        }
      ]
    },
    {
      "metadata": {
        "id": "HyZSThdWnG30",
        "colab_type": "code",
        "colab": {
          "base_uri": "https://localhost:8080/",
          "height": 35
        },
        "outputId": "4e18538c-45bb-4e10-8bff-fdcbc4132df2"
      },
      "cell_type": "code",
      "source": [
        "generate(\"국민\", 10, seed=3)"
      ],
      "execution_count": 131,
      "outputs": [
        {
          "output_type": "execute_result",
          "data": {
            "text/plain": [
              "'국민 은 소추 의 의무 를 침해 한 다 한 다'"
            ]
          },
          "metadata": {
            "tags": []
          },
          "execution_count": 131
        }
      ]
    },
    {
      "metadata": {
        "id": "tg3QgC8bnG7G",
        "colab_type": "code",
        "colab": {
          "base_uri": "https://localhost:8080/",
          "height": 35
        },
        "outputId": "400a2cf1-b5d0-4304-d3a5-9f904802da68"
      },
      "cell_type": "code",
      "source": [
        "generate(\"세계\", 10, seed=3)"
      ],
      "execution_count": 132,
      "outputs": [
        {
          "output_type": "execute_result",
          "data": {
            "text/plain": [
              "'세계 행위 가 아닌 까지 국무위원 인 그 임기 는 년'"
            ]
          },
          "metadata": {
            "tags": []
          },
          "execution_count": 132
        }
      ]
    }
  ]
}