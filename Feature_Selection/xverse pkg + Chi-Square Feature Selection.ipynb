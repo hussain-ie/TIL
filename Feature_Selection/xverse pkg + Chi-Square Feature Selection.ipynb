{
 "cells": [
  {
   "cell_type": "code",
   "execution_count": 181,
   "metadata": {},
   "outputs": [],
   "source": [
    "import numpy as np\n",
    "import pandas as pd\n",
    "from xverse.feature_subset import FeatureSubset"
   ]
  },
  {
   "cell_type": "code",
   "execution_count": 182,
   "metadata": {},
   "outputs": [],
   "source": [
    "path = \"/home/advice/Python/SR/Data/kdd/uci/uci_creditcard-train-0.2-0.0.csv\"\n",
    "total_var = ['ID', 'LIMIT_BAL', 'SEX', 'EDUCATION', 'MARRIAGE', 'AGE', 'PAY_0', 'PAY_2', 'PAY_3', 'PAY_4', 'PAY_5', 'PAY_6', 'BILL_AMT1', 'BILL_AMT2', 'BILL_AMT3', 'BILL_AMT4', 'BILL_AMT5', 'BILL_AMT6', 'PAY_AMT1', 'PAY_AMT2', 'PAY_AMT3', 'PAY_AMT4', 'PAY_AMT5', 'PAY_AMT6', 'default payment next month', 'sep_idx']\n",
    "in_var = [\"LIMIT_BAL\", \"SEX\", \"EDUCATION\", \"MARRIAGE\", \"AGE\", \"PAY_0\", \"PAY_2\", \"PAY_3\", \"PAY_4\", \"PAY_5\", \"PAY_6\",\n",
    "          \"BILL_AMT1\", \"BILL_AMT2\", \"BILL_AMT3\", \"BILL_AMT4\", \"BILL_AMT5\", \"BILL_AMT6\",\n",
    "          \"PAY_AMT1\", \"PAY_AMT2\", \"PAY_AMT3\", \"PAY_AMT4\", \"PAY_AMT5\", \"PAY_AMT6\"]\n",
    "target_var = ['default payment next month']\n",
    "fac_var = [ 'SEX','EDUCATION','MARRIAGE',]\n",
    "num_var = [i for i in in_var if not i in fac_var]"
   ]
  },
  {
   "cell_type": "code",
   "execution_count": 183,
   "metadata": {},
   "outputs": [],
   "source": [
    "df = pd.read_csv(path)\n",
    "df[fac_var] = df[fac_var].astype(\"category\")"
   ]
  },
  {
   "cell_type": "code",
   "execution_count": 184,
   "metadata": {},
   "outputs": [
    {
     "name": "stdout",
     "output_type": "stream",
     "text": [
      "      Column              Hypothesis\n",
      "0        SEX  Reject Null Hypothesis\n",
      "1  EDUCATION  Reject Null Hypothesis\n",
      "2   MARRIAGE  Reject Null Hypothesis\n"
     ]
    }
   ],
   "source": [
    "chi2_check = []\n",
    "for i in fac_var :\n",
    "    if chi2_contingency(pd.crosstab(df[target_var[0]], df[i]))[1] < 0.05:\n",
    "        chi2_check.append('Reject Null Hypothesis')\n",
    "    else:\n",
    "        chi2_check.append('Fail to Reject Null Hypothesis')\n",
    "res = pd.DataFrame(data = [fac_var, chi2_check] \n",
    "             ).T \n",
    "res.columns = ['Column', 'Hypothesis']\n",
    "print(res)"
   ]
  },
  {
   "cell_type": "code",
   "execution_count": 185,
   "metadata": {},
   "outputs": [],
   "source": [
    "# clf = FeatureSubset(num_var) #select only numeric features\n",
    "# df = clf.fit_transform(df) #returns the dataframe with selected features"
   ]
  },
  {
   "cell_type": "code",
   "execution_count": 186,
   "metadata": {},
   "outputs": [],
   "source": [
    "from xverse.feature_subset import SplitXY\n",
    "clf = SplitXY(target_var) #Split the dataset into X and y\n",
    "X, y = clf.fit_transform(df) #returns features (X) dataset and target(Y) as a numpy array"
   ]
  },
  {
   "cell_type": "code",
   "execution_count": 187,
   "metadata": {},
   "outputs": [],
   "source": [
    "path = \"/home/advice/Python/SR/Data/kdd/uci/uci_creditcard-test-0.2-0.0.csv\"\n",
    "test = pd.read_csv(path)\n",
    "test[fac_var] = test[fac_var].astype(\"category\")"
   ]
  },
  {
   "cell_type": "code",
   "execution_count": 188,
   "metadata": {},
   "outputs": [],
   "source": [
    "testX, testy = clf.transform(test)\n",
    "testX = testX[in_var]"
   ]
  },
  {
   "cell_type": "markdown",
   "metadata": {},
   "source": [
    "## MonotoincBinning\n",
    "\n",
    "* missing이 있어도 missing은 na로 남겨두고 나머지를 처리해줌!"
   ]
  },
  {
   "cell_type": "code",
   "execution_count": 189,
   "metadata": {},
   "outputs": [
    {
     "data": {
      "text/plain": [
       "MonotonicBinning(cardinality_cutoff=5, custom_binning=None, feature_names='all',\n",
       "                 force_bins=4, max_bins=20, prefix=None)"
      ]
     },
     "execution_count": 189,
     "metadata": {},
     "output_type": "execute_result"
    }
   ],
   "source": [
    "from xverse.transformer import MonotonicBinning\n",
    "import numpy as np\n",
    "# custom_binning = {\"AGE\": np.array([10,20,30,40,50,60]) }\n",
    "# feature_names = num_var,\n",
    "# custom_binning = custom_binning\n",
    "clf = MonotonicBinning()\n",
    "XX = X[in_var]\n",
    "clf.fit(XX, y)"
   ]
  },
  {
   "cell_type": "code",
   "execution_count": 190,
   "metadata": {},
   "outputs": [
    {
     "data": {
      "text/plain": [
       "{'LIMIT_BAL': array([  10000.,   80000.,  200000., 1000000.]),\n",
       " 'AGE': array([21., 30., 39., 79.]),\n",
       " 'PAY_0': array([-2.,  0.,  8.]),\n",
       " 'PAY_2': array([-2.,  0.,  8.]),\n",
       " 'PAY_3': array([-2., -1.,  0.,  8.]),\n",
       " 'PAY_4': array([-2.,  0.,  8.]),\n",
       " 'PAY_5': array([-2., -1.,  0.,  8.]),\n",
       " 'PAY_6': array([-2., -1.,  0.,  7.]),\n",
       " 'BILL_AMT1': array([-165580.        ,    8177.66666667,   48512.33333333,\n",
       "         964511.        ]),\n",
       " 'BILL_AMT2': array([-69777.        ,   7678.66666667,  47778.        , 983931.        ]),\n",
       " 'BILL_AMT3': array([-157264.        ,    7307.66666667,   44708.        ,\n",
       "        1664089.        ]),\n",
       " 'BILL_AMT4': array([-170000.        ,    6903.66666667,   38981.33333333,\n",
       "         706864.        ]),\n",
       " 'BILL_AMT5': array([-81334.,   5814.,  33608., 927171.]),\n",
       " 'BILL_AMT6': array([-150953.,    4307.,   31258.,  699944.]),\n",
       " 'PAY_AMT1': array([     0.        ,   1432.        ,   3859.33333333, 873552.        ]),\n",
       " 'PAY_AMT2': array([      0.,    1300.,    3650., 1215471.]),\n",
       " 'PAY_AMT3': array([     0.,   1000.,   3015., 508229.]),\n",
       " 'PAY_AMT4': array([     0.,    700.,   3000., 621000.]),\n",
       " 'PAY_AMT5': array([     0.,    700.,   3000., 388071.]),\n",
       " 'PAY_AMT6': array([     0.,    610.,   3000., 528666.])}"
      ]
     },
     "execution_count": 190,
     "metadata": {},
     "output_type": "execute_result"
    }
   ],
   "source": [
    "clf.bins"
   ]
  },
  {
   "cell_type": "code",
   "execution_count": 191,
   "metadata": {},
   "outputs": [],
   "source": [
    "output_bins = clf.bins #will be used later in this exercise"
   ]
  },
  {
   "cell_type": "code",
   "execution_count": 192,
   "metadata": {},
   "outputs": [],
   "source": [
    "out_X = clf.transform(XX)"
   ]
  },
  {
   "cell_type": "code",
   "execution_count": 193,
   "metadata": {},
   "outputs": [],
   "source": [
    "test_X = clf.transform(testX)"
   ]
  },
  {
   "cell_type": "code",
   "execution_count": 194,
   "metadata": {},
   "outputs": [
    {
     "data": {
      "text/html": [
       "<div>\n",
       "<style scoped>\n",
       "    .dataframe tbody tr th:only-of-type {\n",
       "        vertical-align: middle;\n",
       "    }\n",
       "\n",
       "    .dataframe tbody tr th {\n",
       "        vertical-align: top;\n",
       "    }\n",
       "\n",
       "    .dataframe thead th {\n",
       "        text-align: right;\n",
       "    }\n",
       "</style>\n",
       "<table border=\"1\" class=\"dataframe\">\n",
       "  <thead>\n",
       "    <tr style=\"text-align: right;\">\n",
       "      <th>col_0</th>\n",
       "      <th>0.0</th>\n",
       "      <th>1.0</th>\n",
       "    </tr>\n",
       "    <tr>\n",
       "      <th>LIMIT_BAL</th>\n",
       "      <th></th>\n",
       "      <th></th>\n",
       "    </tr>\n",
       "  </thead>\n",
       "  <tbody>\n",
       "    <tr>\n",
       "      <td>(9999.999, 80000.0]</td>\n",
       "      <td>7553</td>\n",
       "      <td>3246</td>\n",
       "    </tr>\n",
       "    <tr>\n",
       "      <td>(80000.0, 200000.0]</td>\n",
       "      <td>7606</td>\n",
       "      <td>1973</td>\n",
       "    </tr>\n",
       "    <tr>\n",
       "      <td>(200000.0, 1000000.0]</td>\n",
       "      <td>8205</td>\n",
       "      <td>1417</td>\n",
       "    </tr>\n",
       "  </tbody>\n",
       "</table>\n",
       "</div>"
      ],
      "text/plain": [
       "col_0                   0.0   1.0\n",
       "LIMIT_BAL                        \n",
       "(9999.999, 80000.0]    7553  3246\n",
       "(80000.0, 200000.0]    7606  1973\n",
       "(200000.0, 1000000.0]  8205  1417"
      ]
     },
     "execution_count": 194,
     "metadata": {},
     "output_type": "execute_result"
    }
   ],
   "source": [
    "pd.crosstab(out_X[\"LIMIT_BAL\"], y)"
   ]
  },
  {
   "cell_type": "code",
   "execution_count": 195,
   "metadata": {},
   "outputs": [
    {
     "data": {
      "text/html": [
       "<div>\n",
       "<style scoped>\n",
       "    .dataframe tbody tr th:only-of-type {\n",
       "        vertical-align: middle;\n",
       "    }\n",
       "\n",
       "    .dataframe tbody tr th {\n",
       "        vertical-align: top;\n",
       "    }\n",
       "\n",
       "    .dataframe thead th {\n",
       "        text-align: right;\n",
       "    }\n",
       "</style>\n",
       "<table border=\"1\" class=\"dataframe\">\n",
       "  <thead>\n",
       "    <tr style=\"text-align: right;\">\n",
       "      <th>col_0</th>\n",
       "      <th>0.0</th>\n",
       "      <th>1.0</th>\n",
       "    </tr>\n",
       "    <tr>\n",
       "      <th>LIMIT_BAL</th>\n",
       "      <th></th>\n",
       "      <th></th>\n",
       "    </tr>\n",
       "  </thead>\n",
       "  <tbody>\n",
       "    <tr>\n",
       "      <td>(9999.999, 80000.0]</td>\n",
       "      <td>1455</td>\n",
       "      <td>646</td>\n",
       "    </tr>\n",
       "    <tr>\n",
       "      <td>(80000.0, 200000.0]</td>\n",
       "      <td>1538</td>\n",
       "      <td>388</td>\n",
       "    </tr>\n",
       "    <tr>\n",
       "      <td>(200000.0, 1000000.0]</td>\n",
       "      <td>1731</td>\n",
       "      <td>246</td>\n",
       "    </tr>\n",
       "  </tbody>\n",
       "</table>\n",
       "</div>"
      ],
      "text/plain": [
       "col_0                   0.0  1.0\n",
       "LIMIT_BAL                       \n",
       "(9999.999, 80000.0]    1455  646\n",
       "(80000.0, 200000.0]    1538  388\n",
       "(200000.0, 1000000.0]  1731  246"
      ]
     },
     "execution_count": 195,
     "metadata": {},
     "output_type": "execute_result"
    }
   ],
   "source": [
    "pd.crosstab(test_X[\"LIMIT_BAL\"], testy)"
   ]
  },
  {
   "cell_type": "code",
   "execution_count": 196,
   "metadata": {},
   "outputs": [],
   "source": [
    "for col in out_X.columns.tolist() :\n",
    "    out_X[col] = out_X[col].cat.add_categories(\"missing\").fillna(\"missing\")\n",
    "    test_X[col] = test_X[col].cat.add_categories(\"missing\").fillna(\"missing\")"
   ]
  },
  {
   "cell_type": "code",
   "execution_count": 197,
   "metadata": {},
   "outputs": [
    {
     "data": {
      "text/html": [
       "<div>\n",
       "<style scoped>\n",
       "    .dataframe tbody tr th:only-of-type {\n",
       "        vertical-align: middle;\n",
       "    }\n",
       "\n",
       "    .dataframe tbody tr th {\n",
       "        vertical-align: top;\n",
       "    }\n",
       "\n",
       "    .dataframe thead th {\n",
       "        text-align: right;\n",
       "    }\n",
       "</style>\n",
       "<table border=\"1\" class=\"dataframe\">\n",
       "  <thead>\n",
       "    <tr style=\"text-align: right;\">\n",
       "      <th></th>\n",
       "      <th>LIMIT_BAL</th>\n",
       "      <th>SEX</th>\n",
       "      <th>EDUCATION</th>\n",
       "      <th>MARRIAGE</th>\n",
       "      <th>AGE</th>\n",
       "      <th>PAY_0</th>\n",
       "      <th>PAY_2</th>\n",
       "      <th>PAY_3</th>\n",
       "      <th>PAY_4</th>\n",
       "      <th>PAY_5</th>\n",
       "      <th>...</th>\n",
       "      <th>BILL_AMT3</th>\n",
       "      <th>BILL_AMT4</th>\n",
       "      <th>BILL_AMT5</th>\n",
       "      <th>BILL_AMT6</th>\n",
       "      <th>PAY_AMT1</th>\n",
       "      <th>PAY_AMT2</th>\n",
       "      <th>PAY_AMT3</th>\n",
       "      <th>PAY_AMT4</th>\n",
       "      <th>PAY_AMT5</th>\n",
       "      <th>PAY_AMT6</th>\n",
       "    </tr>\n",
       "  </thead>\n",
       "  <tbody>\n",
       "    <tr>\n",
       "      <td>0</td>\n",
       "      <td>(9999.999, 80000.0]</td>\n",
       "      <td>2</td>\n",
       "      <td>2</td>\n",
       "      <td>1</td>\n",
       "      <td>(20.999, 30.0]</td>\n",
       "      <td>(0.0, 8.0]</td>\n",
       "      <td>(0.0, 8.0]</td>\n",
       "      <td>(-2.001, -1.0]</td>\n",
       "      <td>(-2.001, 0.0]</td>\n",
       "      <td>(-2.001, -1.0]</td>\n",
       "      <td>...</td>\n",
       "      <td>(-157264.001, 7307.667]</td>\n",
       "      <td>missing</td>\n",
       "      <td>(-81334.001, 5814.0]</td>\n",
       "      <td>missing</td>\n",
       "      <td>(-0.001, 1432.0]</td>\n",
       "      <td>(-0.001, 1300.0]</td>\n",
       "      <td>(-0.001, 1000.0]</td>\n",
       "      <td>(-0.001, 700.0]</td>\n",
       "      <td>missing</td>\n",
       "      <td>(-0.001, 610.0]</td>\n",
       "    </tr>\n",
       "    <tr>\n",
       "      <td>1</td>\n",
       "      <td>(80000.0, 200000.0]</td>\n",
       "      <td>2</td>\n",
       "      <td>missing</td>\n",
       "      <td>2</td>\n",
       "      <td>(20.999, 30.0]</td>\n",
       "      <td>(-2.001, 0.0]</td>\n",
       "      <td>(0.0, 8.0]</td>\n",
       "      <td>(-1.0, 0.0]</td>\n",
       "      <td>missing</td>\n",
       "      <td>(-1.0, 0.0]</td>\n",
       "      <td>...</td>\n",
       "      <td>(-157264.001, 7307.667]</td>\n",
       "      <td>(-170000.001, 6903.667]</td>\n",
       "      <td>(-81334.001, 5814.0]</td>\n",
       "      <td>(-150953.001, 4307.0]</td>\n",
       "      <td>(-0.001, 1432.0]</td>\n",
       "      <td>(-0.001, 1300.0]</td>\n",
       "      <td>(-0.001, 1000.0]</td>\n",
       "      <td>missing</td>\n",
       "      <td>(-0.001, 700.0]</td>\n",
       "      <td>(610.0, 3000.0]</td>\n",
       "    </tr>\n",
       "    <tr>\n",
       "      <td>2</td>\n",
       "      <td>(80000.0, 200000.0]</td>\n",
       "      <td>2</td>\n",
       "      <td>2</td>\n",
       "      <td>2</td>\n",
       "      <td>missing</td>\n",
       "      <td>(-2.001, 0.0]</td>\n",
       "      <td>(-2.001, 0.0]</td>\n",
       "      <td>(-1.0, 0.0]</td>\n",
       "      <td>(-2.001, 0.0]</td>\n",
       "      <td>(-1.0, 0.0]</td>\n",
       "      <td>...</td>\n",
       "      <td>(7307.667, 44708.0]</td>\n",
       "      <td>(6903.667, 38981.333]</td>\n",
       "      <td>(5814.0, 33608.0]</td>\n",
       "      <td>(4307.0, 31258.0]</td>\n",
       "      <td>(1432.0, 3859.333]</td>\n",
       "      <td>(1300.0, 3650.0]</td>\n",
       "      <td>missing</td>\n",
       "      <td>(700.0, 3000.0]</td>\n",
       "      <td>(700.0, 3000.0]</td>\n",
       "      <td>missing</td>\n",
       "    </tr>\n",
       "    <tr>\n",
       "      <td>3</td>\n",
       "      <td>(9999.999, 80000.0]</td>\n",
       "      <td>2</td>\n",
       "      <td>2</td>\n",
       "      <td>1</td>\n",
       "      <td>(30.0, 39.0]</td>\n",
       "      <td>(-2.001, 0.0]</td>\n",
       "      <td>(-2.001, 0.0]</td>\n",
       "      <td>(-1.0, 0.0]</td>\n",
       "      <td>(-2.001, 0.0]</td>\n",
       "      <td>(-1.0, 0.0]</td>\n",
       "      <td>...</td>\n",
       "      <td>(44708.0, 1664089.0]</td>\n",
       "      <td>(6903.667, 38981.333]</td>\n",
       "      <td>(5814.0, 33608.0]</td>\n",
       "      <td>(4307.0, 31258.0]</td>\n",
       "      <td>(1432.0, 3859.333]</td>\n",
       "      <td>(1300.0, 3650.0]</td>\n",
       "      <td>(1000.0, 3015.0]</td>\n",
       "      <td>(700.0, 3000.0]</td>\n",
       "      <td>missing</td>\n",
       "      <td>(610.0, 3000.0]</td>\n",
       "    </tr>\n",
       "    <tr>\n",
       "      <td>4</td>\n",
       "      <td>(9999.999, 80000.0]</td>\n",
       "      <td>1</td>\n",
       "      <td>missing</td>\n",
       "      <td>missing</td>\n",
       "      <td>(30.0, 39.0]</td>\n",
       "      <td>(-2.001, 0.0]</td>\n",
       "      <td>(-2.001, 0.0]</td>\n",
       "      <td>(-1.0, 0.0]</td>\n",
       "      <td>(-2.001, 0.0]</td>\n",
       "      <td>(-1.0, 0.0]</td>\n",
       "      <td>...</td>\n",
       "      <td>(44708.0, 1664089.0]</td>\n",
       "      <td>(6903.667, 38981.333]</td>\n",
       "      <td>missing</td>\n",
       "      <td>(4307.0, 31258.0]</td>\n",
       "      <td>(1432.0, 3859.333]</td>\n",
       "      <td>(1300.0, 3650.0]</td>\n",
       "      <td>(-0.001, 1000.0]</td>\n",
       "      <td>(700.0, 3000.0]</td>\n",
       "      <td>missing</td>\n",
       "      <td>(610.0, 3000.0]</td>\n",
       "    </tr>\n",
       "  </tbody>\n",
       "</table>\n",
       "<p>5 rows × 23 columns</p>\n",
       "</div>"
      ],
      "text/plain": [
       "             LIMIT_BAL SEX EDUCATION MARRIAGE             AGE          PAY_0  \\\n",
       "0  (9999.999, 80000.0]   2         2        1  (20.999, 30.0]     (0.0, 8.0]   \n",
       "1  (80000.0, 200000.0]   2   missing        2  (20.999, 30.0]  (-2.001, 0.0]   \n",
       "2  (80000.0, 200000.0]   2         2        2         missing  (-2.001, 0.0]   \n",
       "3  (9999.999, 80000.0]   2         2        1    (30.0, 39.0]  (-2.001, 0.0]   \n",
       "4  (9999.999, 80000.0]   1   missing  missing    (30.0, 39.0]  (-2.001, 0.0]   \n",
       "\n",
       "           PAY_2           PAY_3          PAY_4           PAY_5  ...  \\\n",
       "0     (0.0, 8.0]  (-2.001, -1.0]  (-2.001, 0.0]  (-2.001, -1.0]  ...   \n",
       "1     (0.0, 8.0]     (-1.0, 0.0]        missing     (-1.0, 0.0]  ...   \n",
       "2  (-2.001, 0.0]     (-1.0, 0.0]  (-2.001, 0.0]     (-1.0, 0.0]  ...   \n",
       "3  (-2.001, 0.0]     (-1.0, 0.0]  (-2.001, 0.0]     (-1.0, 0.0]  ...   \n",
       "4  (-2.001, 0.0]     (-1.0, 0.0]  (-2.001, 0.0]     (-1.0, 0.0]  ...   \n",
       "\n",
       "                 BILL_AMT3                BILL_AMT4             BILL_AMT5  \\\n",
       "0  (-157264.001, 7307.667]                  missing  (-81334.001, 5814.0]   \n",
       "1  (-157264.001, 7307.667]  (-170000.001, 6903.667]  (-81334.001, 5814.0]   \n",
       "2      (7307.667, 44708.0]    (6903.667, 38981.333]     (5814.0, 33608.0]   \n",
       "3     (44708.0, 1664089.0]    (6903.667, 38981.333]     (5814.0, 33608.0]   \n",
       "4     (44708.0, 1664089.0]    (6903.667, 38981.333]               missing   \n",
       "\n",
       "               BILL_AMT6            PAY_AMT1          PAY_AMT2  \\\n",
       "0                missing    (-0.001, 1432.0]  (-0.001, 1300.0]   \n",
       "1  (-150953.001, 4307.0]    (-0.001, 1432.0]  (-0.001, 1300.0]   \n",
       "2      (4307.0, 31258.0]  (1432.0, 3859.333]  (1300.0, 3650.0]   \n",
       "3      (4307.0, 31258.0]  (1432.0, 3859.333]  (1300.0, 3650.0]   \n",
       "4      (4307.0, 31258.0]  (1432.0, 3859.333]  (1300.0, 3650.0]   \n",
       "\n",
       "           PAY_AMT3         PAY_AMT4         PAY_AMT5         PAY_AMT6  \n",
       "0  (-0.001, 1000.0]  (-0.001, 700.0]          missing  (-0.001, 610.0]  \n",
       "1  (-0.001, 1000.0]          missing  (-0.001, 700.0]  (610.0, 3000.0]  \n",
       "2           missing  (700.0, 3000.0]  (700.0, 3000.0]          missing  \n",
       "3  (1000.0, 3015.0]  (700.0, 3000.0]          missing  (610.0, 3000.0]  \n",
       "4  (-0.001, 1000.0]  (700.0, 3000.0]          missing  (610.0, 3000.0]  \n",
       "\n",
       "[5 rows x 23 columns]"
      ]
     },
     "execution_count": 197,
     "metadata": {},
     "output_type": "execute_result"
    }
   ],
   "source": [
    "out_X.head()"
   ]
  },
  {
   "cell_type": "code",
   "execution_count": 121,
   "metadata": {},
   "outputs": [],
   "source": [
    "from scipy.stats import chi2_contingency"
   ]
  },
  {
   "cell_type": "code",
   "execution_count": 122,
   "metadata": {},
   "outputs": [
    {
     "name": "stdout",
     "output_type": "stream",
     "text": [
      "Chi2 Statistic: 130.30324199695778, p-value: 5.432159376649787e-25\n"
     ]
    }
   ],
   "source": [
    "chi_res  = chi2_contingency(pd.crosstab(out_X['EDUCATION'], y))\n",
    "print('Chi2 Statistic: {}, p-value: {}'.format(chi_res[0], chi_res[1]))"
   ]
  },
  {
   "cell_type": "code",
   "execution_count": 123,
   "metadata": {},
   "outputs": [
    {
     "name": "stdout",
     "output_type": "stream",
     "text": [
      "       Column              Hypothesis\n",
      "0   LIMIT_BAL  Reject Null Hypothesis\n",
      "1         SEX  Reject Null Hypothesis\n",
      "2   EDUCATION  Reject Null Hypothesis\n",
      "3    MARRIAGE  Reject Null Hypothesis\n",
      "4         AGE  Reject Null Hypothesis\n",
      "5       PAY_0  Reject Null Hypothesis\n",
      "6       PAY_2  Reject Null Hypothesis\n",
      "7       PAY_3  Reject Null Hypothesis\n",
      "8       PAY_4  Reject Null Hypothesis\n",
      "9       PAY_5  Reject Null Hypothesis\n",
      "10      PAY_6  Reject Null Hypothesis\n",
      "11  BILL_AMT1  Reject Null Hypothesis\n",
      "12  BILL_AMT2  Reject Null Hypothesis\n",
      "13  BILL_AMT3  Reject Null Hypothesis\n",
      "14  BILL_AMT4  Reject Null Hypothesis\n",
      "15  BILL_AMT5  Reject Null Hypothesis\n",
      "16  BILL_AMT6  Reject Null Hypothesis\n",
      "17   PAY_AMT1  Reject Null Hypothesis\n",
      "18   PAY_AMT2  Reject Null Hypothesis\n",
      "19   PAY_AMT3  Reject Null Hypothesis\n",
      "20   PAY_AMT4  Reject Null Hypothesis\n",
      "21   PAY_AMT5  Reject Null Hypothesis\n",
      "22   PAY_AMT6  Reject Null Hypothesis\n"
     ]
    }
   ],
   "source": [
    "chi2_check = []\n",
    "for i in out_X.columns.tolist():\n",
    "    if chi2_contingency(pd.crosstab(y, out_X[i]))[1] < 0.05:\n",
    "        chi2_check.append('Reject Null Hypothesis')\n",
    "    else:\n",
    "        chi2_check.append('Fail to Reject Null Hypothesis')\n",
    "res = pd.DataFrame(data = [out_X.columns.tolist(), chi2_check] \n",
    "             ).T \n",
    "res.columns = ['Column', 'Hypothesis']\n"
   ]
  },
  {
   "cell_type": "code",
   "execution_count": 124,
   "metadata": {},
   "outputs": [
    {
     "data": {
      "text/html": [
       "<div>\n",
       "<style scoped>\n",
       "    .dataframe tbody tr th:only-of-type {\n",
       "        vertical-align: middle;\n",
       "    }\n",
       "\n",
       "    .dataframe tbody tr th {\n",
       "        vertical-align: top;\n",
       "    }\n",
       "\n",
       "    .dataframe thead th {\n",
       "        text-align: right;\n",
       "    }\n",
       "</style>\n",
       "<table border=\"1\" class=\"dataframe\">\n",
       "  <thead>\n",
       "    <tr style=\"text-align: right;\">\n",
       "      <th></th>\n",
       "      <th>Pair</th>\n",
       "      <th>Hypothesis</th>\n",
       "    </tr>\n",
       "  </thead>\n",
       "  <tbody>\n",
       "    <tr>\n",
       "      <td>0</td>\n",
       "      <td>LIMIT_BAL_(9999.999, 80000.0]</td>\n",
       "      <td>Reject Null Hypothesis</td>\n",
       "    </tr>\n",
       "    <tr>\n",
       "      <td>1</td>\n",
       "      <td>LIMIT_BAL_(80000.0, 200000.0]</td>\n",
       "      <td>Reject Null Hypothesis</td>\n",
       "    </tr>\n",
       "    <tr>\n",
       "      <td>2</td>\n",
       "      <td>LIMIT_BAL_(200000.0, 1000000.0]</td>\n",
       "      <td>Reject Null Hypothesis</td>\n",
       "    </tr>\n",
       "    <tr>\n",
       "      <td>3</td>\n",
       "      <td>LIMIT_BAL_missing</td>\n",
       "      <td>Fail to Reject Null Hypothesis</td>\n",
       "    </tr>\n",
       "    <tr>\n",
       "      <td>4</td>\n",
       "      <td>SEX_1.0</td>\n",
       "      <td>Reject Null Hypothesis</td>\n",
       "    </tr>\n",
       "    <tr>\n",
       "      <td>...</td>\n",
       "      <td>...</td>\n",
       "      <td>...</td>\n",
       "    </tr>\n",
       "    <tr>\n",
       "      <td>88</td>\n",
       "      <td>PAY_AMT5_missing</td>\n",
       "      <td>Fail to Reject Null Hypothesis</td>\n",
       "    </tr>\n",
       "    <tr>\n",
       "      <td>89</td>\n",
       "      <td>PAY_AMT6_(-0.001, 610.0]</td>\n",
       "      <td>Reject Null Hypothesis</td>\n",
       "    </tr>\n",
       "    <tr>\n",
       "      <td>90</td>\n",
       "      <td>PAY_AMT6_(610.0, 3000.0]</td>\n",
       "      <td>Fail to Reject Null Hypothesis</td>\n",
       "    </tr>\n",
       "    <tr>\n",
       "      <td>91</td>\n",
       "      <td>PAY_AMT6_(3000.0, 528666.0]</td>\n",
       "      <td>Reject Null Hypothesis</td>\n",
       "    </tr>\n",
       "    <tr>\n",
       "      <td>92</td>\n",
       "      <td>PAY_AMT6_missing</td>\n",
       "      <td>Fail to Reject Null Hypothesis</td>\n",
       "    </tr>\n",
       "  </tbody>\n",
       "</table>\n",
       "<p>93 rows × 2 columns</p>\n",
       "</div>"
      ],
      "text/plain": [
       "                               Pair                      Hypothesis\n",
       "0     LIMIT_BAL_(9999.999, 80000.0]          Reject Null Hypothesis\n",
       "1     LIMIT_BAL_(80000.0, 200000.0]          Reject Null Hypothesis\n",
       "2   LIMIT_BAL_(200000.0, 1000000.0]          Reject Null Hypothesis\n",
       "3                 LIMIT_BAL_missing  Fail to Reject Null Hypothesis\n",
       "4                           SEX_1.0          Reject Null Hypothesis\n",
       "..                              ...                             ...\n",
       "88                 PAY_AMT5_missing  Fail to Reject Null Hypothesis\n",
       "89         PAY_AMT6_(-0.001, 610.0]          Reject Null Hypothesis\n",
       "90         PAY_AMT6_(610.0, 3000.0]  Fail to Reject Null Hypothesis\n",
       "91      PAY_AMT6_(3000.0, 528666.0]          Reject Null Hypothesis\n",
       "92                 PAY_AMT6_missing  Fail to Reject Null Hypothesis\n",
       "\n",
       "[93 rows x 2 columns]"
      ]
     },
     "execution_count": 124,
     "metadata": {},
     "output_type": "execute_result"
    }
   ],
   "source": [
    "check = {}\n",
    "for i in res[res['Hypothesis'] == 'Reject Null Hypothesis']['Column']:\n",
    "    dummies = pd.get_dummies(out_X[i])\n",
    "    bon_p_value = 0.05/out_X[i].nunique()\n",
    "    for series in dummies:\n",
    "        if chi2_contingency(pd.crosstab(y, dummies[series]))[1] < bon_p_value:\n",
    "            check['{}_{}'.format(i, series)] = 'Reject Null Hypothesis'\n",
    "        else:\n",
    "            check['{}_{}'.format(i, series)] = 'Fail to Reject Null Hypothesis'\n",
    "res_chi_ph = pd.DataFrame(data = [check.keys(), check.values()]).T\n",
    "res_chi_ph.columns = ['Pair', 'Hypothesis']\n",
    "res_chi_ph"
   ]
  },
  {
   "cell_type": "code",
   "execution_count": 198,
   "metadata": {},
   "outputs": [],
   "source": [
    "significant_chi = []\n",
    "for i in res_chi_ph[res_chi_ph['Hypothesis'] == 'Reject Null Hypothesis']['Pair']:\n",
    "    significant_chi.append(i)\n",
    "    # '{}_{}'.format(i.split('-')[0],i.split('-')[1])\n",
    "for i in ['SEX_1.0']:\n",
    "    significant_chi.remove(i)"
   ]
  },
  {
   "cell_type": "code",
   "execution_count": 202,
   "metadata": {},
   "outputs": [
    {
     "data": {
      "text/plain": [
       "'기존 : 93 -> 압축 : 51'"
      ]
     },
     "execution_count": 202,
     "metadata": {},
     "output_type": "execute_result"
    }
   ],
   "source": [
    "f\"기존 : {len(res_chi_ph)} -> 압축 : {len(significant_chi)}\""
   ]
  },
  {
   "cell_type": "code",
   "execution_count": 127,
   "metadata": {},
   "outputs": [],
   "source": [
    "dummy_x = pd.get_dummies(out_X)\n",
    "dummy_test_x = pd.get_dummies(test_X)"
   ]
  },
  {
   "cell_type": "code",
   "execution_count": 151,
   "metadata": {},
   "outputs": [],
   "source": [
    "def roc_curve_plot(model, x , y ) :\n",
    "    preds = model.predict_proba(x)[:,1]\n",
    "    fpr, tpr, threshold = roc_curve(y, preds)\n",
    "    roc_auc = auc(fpr, tpr)\n",
    "    plt.figure(figsize=(10,8))\n",
    "    plt.title('Receiver Operator Characteristic')\n",
    "    plt.plot(fpr, tpr, 'b', label = 'AUC = {}'.format(round(roc_auc, 2)))\n",
    "    plt.legend(loc = 'lower right')\n",
    "    plt.plot([0,1], [0,1], 'r--')\n",
    "    plt.xlim([0,1])\n",
    "    plt.ylim([0,1])\n",
    "    plt.ylabel('True Positive Rate')\n",
    "    plt.xlabel('False Positive Rate')\n",
    "    plt.show()"
   ]
  },
  {
   "cell_type": "code",
   "execution_count": 152,
   "metadata": {},
   "outputs": [
    {
     "name": "stdout",
     "output_type": "stream",
     "text": [
      "81.52898067954698\n",
      "              precision    recall  f1-score   support\n",
      "\n",
      "         0.0       0.83      0.96      0.89      4724\n",
      "         1.0       0.67      0.26      0.38      1280\n",
      "\n",
      "    accuracy                           0.82      6004\n",
      "   macro avg       0.75      0.61      0.63      6004\n",
      "weighted avg       0.79      0.82      0.78      6004\n",
      "\n"
     ]
    }
   ],
   "source": [
    "from sklearn.ensemble import RandomForestClassifier\n",
    "from sklearn.metrics import classification_report, confusion_matrix, roc_curve,auc, accuracy_score\n",
    "rf_model = RandomForestClassifier(max_depth=6, n_jobs=10,n_estimators=100)\n",
    "rf_model.fit(dummy_x[significant_chi], y)\n",
    "#Metrics check\n",
    "predictions = rf_model.predict(dummy_test_x[significant_chi])\n",
    "print(accuracy_score(testy, predictions)*100)\n",
    "print(classification_report(testy,predictions))"
   ]
  },
  {
   "cell_type": "code",
   "execution_count": 158,
   "metadata": {},
   "outputs": [],
   "source": [
    "%matplotlib inline"
   ]
  },
  {
   "cell_type": "code",
   "execution_count": 160,
   "metadata": {},
   "outputs": [
    {
     "data": {
      "image/png": "[encoded data removed]",
      "text/plain": [
       "<Figure size 720x576 with 1 Axes>"
      ]
     },
     "metadata": {
      "needs_background": "light"
     },
     "output_type": "display_data"
    }
   ],
   "source": [
    "roc_curve_plot(rf_model , dummy_test_x[significant_chi], testy)"
   ]
  },
  {
   "cell_type": "code",
   "execution_count": 161,
   "metadata": {},
   "outputs": [
    {
     "name": "stdout",
     "output_type": "stream",
     "text": [
      "81.34576948700865\n",
      "              precision    recall  f1-score   support\n",
      "\n",
      "         0.0       0.82      0.97      0.89      4724\n",
      "         1.0       0.68      0.24      0.35      1280\n",
      "\n",
      "    accuracy                           0.81      6004\n",
      "   macro avg       0.75      0.60      0.62      6004\n",
      "weighted avg       0.79      0.81      0.78      6004\n",
      "\n"
     ]
    }
   ],
   "source": [
    "from sklearn.ensemble import RandomForestClassifier\n",
    "from sklearn.metrics import classification_report, confusion_matrix, roc_curve,auc, accuracy_score\n",
    "rf_model = RandomForestClassifier(max_depth=6, n_jobs=10,n_estimators=100)\n",
    "rf_model.fit(dummy_x, y)\n",
    "#Metrics check\n",
    "predictions = rf_model.predict(dummy_test_x)\n",
    "print(accuracy_score(testy, predictions)*100)\n",
    "print(classification_report(testy,predictions))"
   ]
  },
  {
   "cell_type": "code",
   "execution_count": 162,
   "metadata": {},
   "outputs": [
    {
     "data": {
      "image/png": "[encoded data removed]",
      "text/plain": [
       "<Figure size 720x576 with 1 Axes>"
      ]
     },
     "metadata": {
      "needs_background": "light"
     },
     "output_type": "display_data"
    }
   ],
   "source": [
    "roc_curve_plot(rf_model , dummy_test_x, testy)"
   ]
  },
  {
   "cell_type": "code",
   "execution_count": null,
   "metadata": {},
   "outputs": [],
   "source": []
  }
 ],
 "metadata": {
  "kernelspec": {
   "display_name": "base",
   "language": "python",
   "name": "base"
  },
  "language_info": {
   "codemirror_mode": {
    "name": "ipython",
    "version": 3
   },
   "file_extension": ".py",
   "mimetype": "text/x-python",
   "name": "python",
   "nbconvert_exporter": "python",
   "pygments_lexer": "ipython3",
   "version": "3.6.7"
  }
 },
 "nbformat": 4,
 "nbformat_minor": 2
}
