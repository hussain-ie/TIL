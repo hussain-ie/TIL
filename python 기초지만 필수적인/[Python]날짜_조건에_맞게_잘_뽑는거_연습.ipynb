{
  "nbformat": 4,
  "nbformat_minor": 0,
  "metadata": {
    "colab": {
      "name": "날짜조건에 맞게 잘 뽑는거 연습",
      "version": "0.3.2",
      "provenance": [],
      "include_colab_link": true
    }
  },
  "cells": [
    {
      "cell_type": "markdown",
      "metadata": {
        "id": "view-in-github",
        "colab_type": "text"
      },
      "source": [
        "[View in Colaboratory](https://colab.research.google.com/github/sungreong/TIL/blob/master/[Python]%EB%82%A0%EC%A7%9C_%EC%A1%B0%EA%B1%B4%EC%97%90_%EB%A7%9E%EA%B2%8C_%EC%9E%98_%EB%BD%91%EB%8A%94%EA%B1%B0_%EC%97%B0%EC%8A%B5.ipynb)"
      ]
    },
    {
      "metadata": {
        "id": "YPrpTh4jMgvx",
        "colab_type": "text"
      },
      "cell_type": "markdown",
      "source": [
        "## Dash 안에 넣을 Input 값을 잘 반영하기 위한 연습 \n",
        "\n",
        "해결하야 할 문제 :\n",
        "* 년도를 넣어야하는데, 특정기간만 가져올 수 있는지, \n",
        "* 다 치지 않아도 전체를 가져올 수 있는지,\n",
        "* 이상한 말도 안되는 말을 적었어도 에러없이 가져올 수 있는지"
      ]
    },
    {
      "metadata": {
        "id": "ZbUBL5QBIE2u",
        "colab_type": "text"
      },
      "cell_type": "markdown",
      "source": [
        "# Split"
      ]
    },
    {
      "metadata": {
        "id": "Jen43tSt64Vc",
        "colab_type": "code",
        "colab": {}
      },
      "cell_type": "code",
      "source": [
        "\n",
        "x = [\"08\", \"09\" , \"\"]\n",
        "def str( x ) :\n",
        "    "
      ],
      "execution_count": 0,
      "outputs": []
    },
    {
      "metadata": {
        "id": "cnUgsa0F7Rsx",
        "colab_type": "code",
        "colab": {
          "base_uri": "https://localhost:8080/",
          "height": 34
        },
        "outputId": "97bee2e5-15f6-4358-f029-fd801efd4a4d"
      },
      "cell_type": "code",
      "source": [
        "txt = \"welcome to the jungle\"\n",
        "\n",
        "x = txt.split()\n",
        "\n",
        "print(x)"
      ],
      "execution_count": 1,
      "outputs": [
        {
          "output_type": "stream",
          "text": [
            "['welcome', 'to', 'the', 'jungle']\n"
          ],
          "name": "stdout"
        }
      ]
    },
    {
      "metadata": {
        "id": "ez90j2dIK1-6",
        "colab_type": "text"
      },
      "cell_type": "markdown",
      "source": [
        "## for 문을 형태를 다양하게 가능 "
      ]
    },
    {
      "metadata": {
        "id": "V6XNoaMe7SDk",
        "colab_type": "code",
        "colab": {
          "base_uri": "https://localhost:8080/",
          "height": 52
        },
        "outputId": "bab25fc2-e9f4-45b5-cbdc-a1acf9ffd5ac"
      },
      "cell_type": "code",
      "source": [
        "x = \"082,09,11,12,13\"\n",
        "\n",
        "a =  x.split(\",\")\n",
        "data = []\n",
        "for i in a :\n",
        "    data.append(\"20\"+i)\n",
        "\n",
        "print(data )\n",
        "\n",
        "[\"20\" + x for x in a ]"
      ],
      "execution_count": 168,
      "outputs": [
        {
          "output_type": "stream",
          "text": [
            "['20082', '2009', '2011', '2012', '2013']\n"
          ],
          "name": "stdout"
        },
        {
          "output_type": "execute_result",
          "data": {
            "text/plain": [
              "['20082', '2009', '2011', '2012', '2013']"
            ]
          },
          "metadata": {
            "tags": []
          },
          "execution_count": 168
        }
      ]
    },
    {
      "metadata": {
        "id": "ej-6s91kJ3v6",
        "colab_type": "text"
      },
      "cell_type": "markdown",
      "source": [
        "## List index 로 특정 조건 만족하지 않는 것 지우기\n",
        "* pop \n",
        "* del "
      ]
    },
    {
      "metadata": {
        "id": "LUnD7lDj8H8h",
        "colab_type": "code",
        "colab": {
          "base_uri": "https://localhost:8080/",
          "height": 34
        },
        "outputId": "6f1acd0c-200d-4d66-fcf3-6534d7410591"
      },
      "cell_type": "code",
      "source": [
        "import numpy as np\n",
        "x = \"10,09,11,12,19\"\n",
        "\n",
        "a =  x.split(\",\")\n",
        "\n",
        "count = [len(i) for i in a ] \n",
        "if np.mean(count) != 2 :\n",
        "    print(\" 문법에 맞춰서 넣으시오 EX) 09,10,11,12 전년도가 출력되는 걸로 진행하겠습니다.\")\n",
        "    y = \"08,09,10,11,12,13,14,15,16,17,18\"\n",
        "    a =  y.split(\",\")\n",
        "elif np.mean(count) == 2 :\n",
        "    pass\n",
        "\n",
        "\n",
        "for i in np.arange(len(a)) :\n",
        "    if a[i] > \"18\" :\n",
        "        del a[i]\n",
        "a"
      ],
      "execution_count": 88,
      "outputs": [
        {
          "output_type": "execute_result",
          "data": {
            "text/plain": [
              "['10', '09', '11', '12']"
            ]
          },
          "metadata": {
            "tags": []
          },
          "execution_count": 88
        }
      ]
    },
    {
      "metadata": {
        "id": "DxQJxcLaKBzJ",
        "colab_type": "text"
      },
      "cell_type": "markdown",
      "source": [
        "처음에는 코드가 if 문을 위와 같은 방향으로 진행하다 보니 코드가 길어졌지만 , \n",
        "\n",
        "밑에가는 [  x for x in dataset if  x condition ] 형태로 주니 코드가 훨씬 깔끔해졌다.\n",
        "\n",
        "###  특정날짜 뽑는 Definition 만들기"
      ]
    },
    {
      "metadata": {
        "id": "WGAt2m617bdb",
        "colab_type": "code",
        "colab": {}
      },
      "cell_type": "code",
      "source": [
        "def years(x = None ) :\n",
        "    if x == \"ALL\" or x == \"all\"  :\n",
        "        y = \"08,09,10,11,12,13,14,15,16,17,18\"\n",
        "        a =  y.split(\",\")\n",
        "        \n",
        "    else :\n",
        "        x = x.replace(\" \", \"\")\n",
        "        a = x.split(\",\")\n",
        "        a = [ i  for i in a  if len(i) == 2 ] \n",
        "        a = [ x for x in a if x <= \"18\" and x >= \"08\" and isinstance(np.int(x) , int )  ]\n",
        "        if len(a) == 0 :\n",
        "            print(\"문법에 맞게 넣으시오 틀렸으므로 전체 출력을 진행함\")\n",
        "            y = \"08,09,10,11,12,13,14,15,16,17,18\"\n",
        "            a =  y.split(\",\")\n",
        "    return [ \"20\"+i  for i in np.unique(a) ]"
      ],
      "execution_count": 0,
      "outputs": []
    },
    {
      "metadata": {
        "id": "9bKDrxsiLGFB",
        "colab_type": "text"
      },
      "cell_type": "markdown",
      "source": [
        "# 년도가 맞지 않은 경우 대처가능한지\n",
        "\n",
        "*  대처가능"
      ]
    },
    {
      "metadata": {
        "id": "BB2lVEj9NzUq",
        "colab_type": "code",
        "colab": {
          "base_uri": "https://localhost:8080/",
          "height": 34
        },
        "outputId": "b19f3656-35a9-4721-a059-3102a4cda5d0"
      },
      "cell_type": "code",
      "source": [
        "x = \"08,09,129,18\"\n",
        "\n",
        "years(x)"
      ],
      "execution_count": 202,
      "outputs": [
        {
          "output_type": "execute_result",
          "data": {
            "text/plain": [
              "['2008', '2009', '2018']"
            ]
          },
          "metadata": {
            "tags": []
          },
          "execution_count": 202
        }
      ]
    },
    {
      "metadata": {
        "id": "h9I0NG92LRb6",
        "colab_type": "text"
      },
      "cell_type": "markdown",
      "source": [
        "# 귀찮아서 다 적고 싶지 않을 때 대처가능한지\n",
        "* 대처가능"
      ]
    },
    {
      "metadata": {
        "id": "4quSNM229MVz",
        "colab_type": "code",
        "colab": {
          "base_uri": "https://localhost:8080/",
          "height": 212
        },
        "outputId": "c35ee07f-f65d-4837-c5b7-c836d2461071"
      },
      "cell_type": "code",
      "source": [
        "years(\"ALL\")"
      ],
      "execution_count": 170,
      "outputs": [
        {
          "output_type": "execute_result",
          "data": {
            "text/plain": [
              "['2008',\n",
              " '2009',\n",
              " '2010',\n",
              " '2011',\n",
              " '2012',\n",
              " '2013',\n",
              " '2014',\n",
              " '2015',\n",
              " '2016',\n",
              " '2017',\n",
              " '2018']"
            ]
          },
          "metadata": {
            "tags": []
          },
          "execution_count": 170
        }
      ]
    },
    {
      "metadata": {
        "id": "hBwp5R8iLbIE",
        "colab_type": "text"
      },
      "cell_type": "markdown",
      "source": [
        "# 기간년도안에 만족되는 것을 뽑아 줄 수 있는지 (08~18)\n",
        "* 대처가능 "
      ]
    },
    {
      "metadata": {
        "id": "x5iL2Vu9979Z",
        "colab_type": "code",
        "colab": {
          "base_uri": "https://localhost:8080/",
          "height": 34
        },
        "outputId": "c7dd2b3b-fc80-4710-97dd-09c71080b316"
      },
      "cell_type": "code",
      "source": [
        "x = \"07,08,09,11,20,129\"\n",
        "years(x)"
      ],
      "execution_count": 179,
      "outputs": [
        {
          "output_type": "execute_result",
          "data": {
            "text/plain": [
              "['2008', '2009', '2011']"
            ]
          },
          "metadata": {
            "tags": []
          },
          "execution_count": 179
        }
      ]
    },
    {
      "metadata": {
        "id": "fDGY33iLMChw",
        "colab_type": "text"
      },
      "cell_type": "markdown",
      "source": [
        "# 공백기호 와 중복된 값을 넣을 때 대처가능한지\n",
        "* 대처가능"
      ]
    },
    {
      "metadata": {
        "id": "STWzFsU8CkDL",
        "colab_type": "code",
        "colab": {
          "base_uri": "https://localhost:8080/",
          "height": 34
        },
        "outputId": "3accf06c-f524-4796-ed10-a4c0b42f5924"
      },
      "cell_type": "code",
      "source": [
        "y = \" 08,  09,10,11,12,13,14,15,16,17,18,18,18,18\"\n",
        "years(y)"
      ],
      "execution_count": 182,
      "outputs": [
        {
          "output_type": "execute_result",
          "data": {
            "text/plain": [
              "['2010', '2011', '2012', '2013', '2014', '2015', '2016', '2017', '2018']"
            ]
          },
          "metadata": {
            "tags": []
          },
          "execution_count": 182
        }
      ]
    },
    {
      "metadata": {
        "id": "tbXcgMP9O6re",
        "colab_type": "text"
      },
      "cell_type": "markdown",
      "source": [
        "# 문법에 맞지 않게 넣었을 시 전부 다 출력하게 만들 수 있는지\n",
        "*  틀린 부분이 있다면 그 부분을 제외하고 출력하게 하기"
      ]
    },
    {
      "metadata": {
        "id": "DaBCORx0M5O_",
        "colab_type": "code",
        "colab": {
          "base_uri": "https://localhost:8080/",
          "height": 230
        },
        "outputId": "c97142b9-a84b-416c-fe29-183bc20ebdcf"
      },
      "cell_type": "code",
      "source": [
        "y= \"ab,07\"\n",
        "years(y)"
      ],
      "execution_count": 208,
      "outputs": [
        {
          "output_type": "stream",
          "text": [
            "문법에 맞게 넣으시오 틀렸으므로 전체 출력을 진행함\n"
          ],
          "name": "stdout"
        },
        {
          "output_type": "execute_result",
          "data": {
            "text/plain": [
              "['2008',\n",
              " '2009',\n",
              " '2010',\n",
              " '2011',\n",
              " '2012',\n",
              " '2013',\n",
              " '2014',\n",
              " '2015',\n",
              " '2016',\n",
              " '2017',\n",
              " '2018']"
            ]
          },
          "metadata": {
            "tags": []
          },
          "execution_count": 208
        }
      ]
    },
    {
      "metadata": {
        "id": "YrmlqX4vM7Hh",
        "colab_type": "code",
        "colab": {
          "base_uri": "https://localhost:8080/",
          "height": 34
        },
        "outputId": "2072475b-ab03-4363-aa4b-157c512957ba"
      },
      "cell_type": "code",
      "source": [
        "y= \"ab,07,16\"\n",
        "years(y)"
      ],
      "execution_count": 210,
      "outputs": [
        {
          "output_type": "execute_result",
          "data": {
            "text/plain": [
              "['2016']"
            ]
          },
          "metadata": {
            "tags": []
          },
          "execution_count": 210
        }
      ]
    },
    {
      "metadata": {
        "id": "M8oKVitWNTkg",
        "colab_type": "code",
        "colab": {
          "base_uri": "https://localhost:8080/",
          "height": 230
        },
        "outputId": "cf5a7f94-02f4-46ca-e6fd-85a4b996e885"
      },
      "cell_type": "code",
      "source": [
        "y= \"070809\"\n",
        "years(y)"
      ],
      "execution_count": 211,
      "outputs": [
        {
          "output_type": "stream",
          "text": [
            "문법에 맞게 넣으시오 틀렸으므로 전체 출력을 진행함\n"
          ],
          "name": "stdout"
        },
        {
          "output_type": "execute_result",
          "data": {
            "text/plain": [
              "['2008',\n",
              " '2009',\n",
              " '2010',\n",
              " '2011',\n",
              " '2012',\n",
              " '2013',\n",
              " '2014',\n",
              " '2015',\n",
              " '2016',\n",
              " '2017',\n",
              " '2018']"
            ]
          },
          "metadata": {
            "tags": []
          },
          "execution_count": 211
        }
      ]
    },
    {
      "metadata": {
        "id": "8lIGoxD9PUqY",
        "colab_type": "code",
        "colab": {}
      },
      "cell_type": "code",
      "source": [
        ""
      ],
      "execution_count": 0,
      "outputs": []
    }
  ]
}