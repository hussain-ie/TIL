{
 "cells": [
  {
   "cell_type": "code",
   "execution_count": 1,
   "metadata": {},
   "outputs": [],
   "source": [
    "import tensorflow as tf\n"
   ]
  },
  {
   "cell_type": "code",
   "execution_count": 2,
   "metadata": {},
   "outputs": [],
   "source": [
    "tf.enable_eager_execution()"
   ]
  },
  {
   "cell_type": "markdown",
   "metadata": {},
   "source": [
    "## Layers : common sets of useful operation\n",
    "\n",
    "* highlevel api를 이용해서 쉽게 그래프를 만들 수 있고\n",
    "* tensorflow 에는 keras api를 포함하고 있다. [KERAS](https://keras.io/)"
   ]
  },
  {
   "cell_type": "code",
   "execution_count": 3,
   "metadata": {},
   "outputs": [
    {
     "name": "stdout",
     "output_type": "stream",
     "text": [
      "<tensorflow.python.keras.layers.core.Dense object at 0x7f7caff0fb70>\n",
      "<tensorflow.python.keras.layers.core.Dense object at 0x7f7caff0fba8>\n"
     ]
    }
   ],
   "source": [
    "layer = tf.keras.layers.Dense(100)\n",
    "print(layer)\n",
    "\n",
    "layer = tf.keras.layers.Dense(10, input_shape = (None , 5) , kernel_initializer='VarianceScaling' )\n",
    "print(layer)"
   ]
  },
  {
   "cell_type": "markdown",
   "metadata": {},
   "source": [
    "* Dense(fully connected layer)\n",
    "* Conv2D\n",
    "* LSTM\n",
    "* BatchNormalization\n",
    "* Dropout\n",
    "* ..."
   ]
  },
  {
   "cell_type": "code",
   "execution_count": 4,
   "metadata": {
    "scrolled": false
   },
   "outputs": [
    {
     "data": {
      "text/plain": [
       "<tf.Tensor: id=30, shape=(7, 10), dtype=float32, numpy=\n",
       "array([[0., 0., 0., 0., 0., 0., 0., 0., 0., 0.],\n",
       "       [0., 0., 0., 0., 0., 0., 0., 0., 0., 0.],\n",
       "       [0., 0., 0., 0., 0., 0., 0., 0., 0., 0.],\n",
       "       [0., 0., 0., 0., 0., 0., 0., 0., 0., 0.],\n",
       "       [0., 0., 0., 0., 0., 0., 0., 0., 0., 0.],\n",
       "       [0., 0., 0., 0., 0., 0., 0., 0., 0., 0.],\n",
       "       [0., 0., 0., 0., 0., 0., 0., 0., 0., 0.]], dtype=float32)>"
      ]
     },
     "execution_count": 4,
     "metadata": {},
     "output_type": "execute_result"
    }
   ],
   "source": [
    "layer(tf.zeros([7,5]))"
   ]
  },
  {
   "cell_type": "markdown",
   "metadata": {},
   "source": [
    "weight 와 bias 를 쉽게 뽑을 수 있다."
   ]
  },
  {
   "cell_type": "code",
   "execution_count": 5,
   "metadata": {},
   "outputs": [
    {
     "data": {
      "text/plain": [
       "[<tf.Variable 'dense_1/kernel:0' shape=(5, 10) dtype=float32, numpy=\n",
       " array([[-0.8888217 , -0.53470045, -0.29955214, -0.8848811 , -0.5981041 ,\n",
       "         -0.36125448, -0.6997809 ,  0.58507246,  0.20733865,  0.2194415 ],\n",
       "        [-0.35545313, -0.44151622, -0.26680893,  0.53249115,  0.4655138 ,\n",
       "          0.4607633 , -0.9137804 ,  0.65199673, -0.06211837, -0.2642441 ],\n",
       "        [-0.22805312,  0.24118018, -0.4732811 ,  0.41075438,  0.05155179,\n",
       "          0.3824221 , -0.35395494, -0.5189187 ,  0.82083446, -0.24698256],\n",
       "        [-0.01363474, -0.02513066, -0.5742108 ,  0.57371366,  0.22709303,\n",
       "         -0.33356348,  0.36140713, -0.11957716,  0.55355656,  0.2974325 ],\n",
       "        [ 0.04877688,  0.43516204,  0.09503474,  0.41933873,  0.16476789,\n",
       "          0.5987677 ,  0.30772316,  0.15457508,  0.14290069, -0.11188325]],\n",
       "       dtype=float32)>,\n",
       " <tf.Variable 'dense_1/bias:0' shape=(10,) dtype=float32, numpy=array([0., 0., 0., 0., 0., 0., 0., 0., 0., 0.], dtype=float32)>]"
      ]
     },
     "execution_count": 5,
     "metadata": {},
     "output_type": "execute_result"
    }
   ],
   "source": [
    "layer.variables"
   ]
  },
  {
   "cell_type": "code",
   "execution_count": 6,
   "metadata": {},
   "outputs": [
    {
     "data": {
      "text/plain": [
       "(array([2., 0., 0., 0., 0., 1., 0., 1., 0., 1.]),\n",
       " array([-0.53470045, -0.43771422, -0.34072796, -0.2437417 , -0.14675546,\n",
       "        -0.04976921,  0.04721704,  0.14420329,  0.24118954,  0.33817577,\n",
       "         0.43516204], dtype=float32),\n",
       " <a list of 10 Patch objects>)"
      ]
     },
     "execution_count": 6,
     "metadata": {},
     "output_type": "execute_result"
    }
   ],
   "source": [
    "import matplotlib.pyplot as plt , numpy as np\n",
    "\n",
    "plt.hist(layer.variables[0][: ,0 ])\n",
    "plt.hist(layer.variables[0][: ,1 ])"
   ]
  },
  {
   "cell_type": "code",
   "execution_count": 7,
   "metadata": {},
   "outputs": [
    {
     "data": {
      "text/plain": [
       "<tf.Variable 'dense_1/kernel:0' shape=(5, 10) dtype=float32, numpy=\n",
       "array([[-0.8888217 , -0.53470045, -0.29955214, -0.8848811 , -0.5981041 ,\n",
       "        -0.36125448, -0.6997809 ,  0.58507246,  0.20733865,  0.2194415 ],\n",
       "       [-0.35545313, -0.44151622, -0.26680893,  0.53249115,  0.4655138 ,\n",
       "         0.4607633 , -0.9137804 ,  0.65199673, -0.06211837, -0.2642441 ],\n",
       "       [-0.22805312,  0.24118018, -0.4732811 ,  0.41075438,  0.05155179,\n",
       "         0.3824221 , -0.35395494, -0.5189187 ,  0.82083446, -0.24698256],\n",
       "       [-0.01363474, -0.02513066, -0.5742108 ,  0.57371366,  0.22709303,\n",
       "        -0.33356348,  0.36140713, -0.11957716,  0.55355656,  0.2974325 ],\n",
       "       [ 0.04877688,  0.43516204,  0.09503474,  0.41933873,  0.16476789,\n",
       "         0.5987677 ,  0.30772316,  0.15457508,  0.14290069, -0.11188325]],\n",
       "      dtype=float32)>"
      ]
     },
     "execution_count": 7,
     "metadata": {},
     "output_type": "execute_result"
    }
   ],
   "source": [
    "layer.kernel"
   ]
  },
  {
   "cell_type": "code",
   "execution_count": 8,
   "metadata": {},
   "outputs": [
    {
     "data": {
      "text/plain": [
       "<tf.Variable 'dense_1/bias:0' shape=(10,) dtype=float32, numpy=array([0., 0., 0., 0., 0., 0., 0., 0., 0., 0.], dtype=float32)>"
      ]
     },
     "execution_count": 8,
     "metadata": {},
     "output_type": "execute_result"
    }
   ],
   "source": [
    "layer.bias"
   ]
  },
  {
   "cell_type": "markdown",
   "metadata": {},
   "source": [
    "# Custom layer 시행하기\n",
    "\n",
    "* tf.keras.layers 를 이용해서 하는 것이 가장 좋은 방법이다.\n",
    "* __init__ : 모든  초기화 변수\n",
    "* build : 인풋 텐서와 모양과 나머지 초기화 값\n",
    "* call : forward computation 하는 곳\n",
    "\n",
    "However, the advantage of creating them in build is that it enables late variable creation based on the shape of the inputs the layer will operate on.\n",
    "\n",
    "\n",
    "그러나 빌드에서 생성하는 이점은 계층이 입력 할 입력의 모양을 기반으로 늦게 변수를 만들 수 있다는 것입니다\n",
    "\n",
    "super라는 게 아직 먼가 익숙하지가 않다 torch에서도 항상 쓰는데..\n",
    "https://rednooby.tistory.com/56\n",
    "부모에게 물려받은 것이기 때문에 자식에서 사용을 하려면 super를 무조건 써야한다.\n",
    "굳이 자기 자신을 받으면서 하는 음..."
   ]
  },
  {
   "cell_type": "code",
   "execution_count": 9,
   "metadata": {},
   "outputs": [],
   "source": [
    "class MyDenseLayer(tf.keras.layers.Layer) :\n",
    "    def __init__(self, num_outputs) :\n",
    "        super( MyDenseLayer , self).__init__()\n",
    "        self.num_outputs = num_outputs\n",
    "    \n",
    "    def build(self, input_shape) :\n",
    "        self.kernel = self.add_variable(\"kernel\" , \n",
    "                                       shape = [int(input_shape[-1]) , self.num_outputs])\n",
    "    \n",
    "    def call(self , input) :\n",
    "        return tf.matmul( input , self.kernel)\n",
    "    \n",
    "    \n",
    "        "
   ]
  },
  {
   "cell_type": "code",
   "execution_count": 10,
   "metadata": {},
   "outputs": [
    {
     "name": "stdout",
     "output_type": "stream",
     "text": [
      "tf.Tensor(\n",
      "[[0. 0. 0. 0. 0. 0. 0. 0. 0. 0.]\n",
      " [0. 0. 0. 0. 0. 0. 0. 0. 0. 0.]\n",
      " [0. 0. 0. 0. 0. 0. 0. 0. 0. 0.]\n",
      " [0. 0. 0. 0. 0. 0. 0. 0. 0. 0.]\n",
      " [0. 0. 0. 0. 0. 0. 0. 0. 0. 0.]\n",
      " [0. 0. 0. 0. 0. 0. 0. 0. 0. 0.]\n",
      " [0. 0. 0. 0. 0. 0. 0. 0. 0. 0.]\n",
      " [0. 0. 0. 0. 0. 0. 0. 0. 0. 0.]\n",
      " [0. 0. 0. 0. 0. 0. 0. 0. 0. 0.]\n",
      " [0. 0. 0. 0. 0. 0. 0. 0. 0. 0.]], shape=(10, 10), dtype=float32)\n",
      "[<tf.Variable 'my_dense_layer/kernel:0' shape=(5, 10) dtype=float32, numpy=\n",
      "array([[ 0.11114895, -0.38628456,  0.04475951,  0.22907674,  0.24432003,\n",
      "         0.5164297 , -0.54280853,  0.02737504,  0.58246785,  0.20515329],\n",
      "       [ 0.39979666,  0.41699654, -0.17487335,  0.06389767,  0.56055623,\n",
      "         0.29921663,  0.20023215,  0.5083633 ,  0.47127134,  0.33357966],\n",
      "       [-0.2907082 ,  0.3436225 , -0.5915995 , -0.01680666, -0.15016487,\n",
      "        -0.29097572,  0.11739177,  0.09097111,  0.33567172,  0.11192459],\n",
      "       [-0.1614632 ,  0.51532763, -0.12367606, -0.20169088, -0.5507613 ,\n",
      "         0.54190797,  0.34898627, -0.3373503 ,  0.21988255,  0.57893735],\n",
      "       [-0.35725492,  0.15676522,  0.52461857, -0.08384055,  0.1717546 ,\n",
      "        -0.37775892, -0.09315979, -0.61362875, -0.35817987,  0.10584176]],\n",
      "      dtype=float32)>]\n"
     ]
    }
   ],
   "source": [
    "layer = MyDenseLayer(10)\n",
    "print(layer(tf.zeros([10,5])))\n",
    "print(layer.trainable_variables)"
   ]
  },
  {
   "cell_type": "markdown",
   "metadata": {},
   "source": [
    "## Models : Composing layers \n",
    "\n",
    "* ex) resnet \n",
    "* 각각의 resnet 안에 residual block 이 여러개로 구성되어 있는 형태고 block 안에는 convolution 과 batch norm short cut이 된다."
   ]
  },
  {
   "cell_type": "code",
   "execution_count": 11,
   "metadata": {},
   "outputs": [
    {
     "name": "stdout",
     "output_type": "stream",
     "text": [
      "tf.Tensor(\n",
      "[[[[0. 0. 0.]\n",
      "   [0. 0. 0.]\n",
      "   [0. 0. 0.]]\n",
      "\n",
      "  [[0. 0. 0.]\n",
      "   [0. 0. 0.]\n",
      "   [0. 0. 0.]]]], shape=(1, 2, 3, 3), dtype=float32)\n",
      "['resnet_identity_block/conv2d/kernel:0', 'resnet_identity_block/conv2d/bias:0', 'resnet_identity_block/conv2d_1/kernel:0', 'resnet_identity_block/conv2d_1/bias:0', 'resnet_identity_block/conv2d_2/kernel:0', 'resnet_identity_block/conv2d_2/bias:0']\n"
     ]
    }
   ],
   "source": [
    "class ResnetIdentityBlock(tf.keras.Model):\n",
    "    def __init__(self, kernel_size, filters):\n",
    "        super(ResnetIdentityBlock, self).__init__(name='')\n",
    "        filters1, filters2, filters3 = filters\n",
    "\n",
    "        self.conv2a = tf.keras.layers.Conv2D(filters1, (1, 1))\n",
    "        self.bn2a = tf.keras.layers.BatchNormalization()\n",
    "\n",
    "        self.conv2b = tf.keras.layers.Conv2D(filters2, kernel_size, padding='same')\n",
    "        self.bn2b = tf.keras.layers.BatchNormalization()\n",
    "\n",
    "        self.conv2c = tf.keras.layers.Conv2D(filters3, (1, 1))\n",
    "        self.bn2c = tf.keras.layers.BatchNormalization()\n",
    "\n",
    "    def call(self, input_tensor, training=False):\n",
    "        \n",
    "        x = self.conv2a(input_tensor)\n",
    "        #x = self.bn2a(x, training=training)\n",
    "        x = tf.nn.relu(x)\n",
    "\n",
    "        x = self.conv2b(x)\n",
    "        #x = self.bn2b(x, training=training)\n",
    "        x = tf.nn.relu(x)\n",
    "\n",
    "        x = self.conv2c(x)\n",
    "        #x = self.bn2c(x, training=training)\n",
    "\n",
    "        x += input_tensor\n",
    "        return tf.nn.relu(x)\n",
    "\n",
    "    \n",
    "block = ResnetIdentityBlock(1, [1, 2, 3])\n",
    "print(block(tf.zeros([1, 2, 3, 3])))\n",
    "print([x.name for x in block.trainable_variables])"
   ]
  },
  {
   "cell_type": "markdown",
   "metadata": {},
   "source": [
    "* InternalError: cuDNN launch failure : input shape ([1,2,3,1]) [Op:FusedBatchNorm]\n",
    "\n",
    "* BatchNorm이 안먹어서 뺴고 하니 시행 가능"
   ]
  },
  {
   "cell_type": "code",
   "execution_count": 12,
   "metadata": {
    "scrolled": true
   },
   "outputs": [
    {
     "data": {
      "text/plain": [
       "<tf.Tensor: id=272, shape=(1, 2, 3, 3), dtype=float32, numpy=\n",
       "array([[[[0., 0., 0.],\n",
       "         [0., 0., 0.],\n",
       "         [0., 0., 0.]],\n",
       "\n",
       "        [[0., 0., 0.],\n",
       "         [0., 0., 0.],\n",
       "         [0., 0., 0.]]]], dtype=float32)>"
      ]
     },
     "execution_count": 12,
     "metadata": {},
     "output_type": "execute_result"
    }
   ],
   "source": [
    "my_seq = tf.keras.Sequential([tf.keras.layers.Conv2D(1, (1, 1)),\n",
    "                               #tf.keras.layers.BatchNormalization(),\n",
    "                               tf.keras.layers.Conv2D(2, 1, \n",
    "                                                      padding='same'),\n",
    "                               #tf.keras.layers.BatchNormalization(),\n",
    "                               tf.keras.layers.Conv2D(3, (1, 1)),\n",
    "                             # tf.keras.layers.BatchNormalization()\n",
    "                             ])\n",
    "my_seq(tf.zeros([1, 2, 3, 3]).gpu())"
   ]
  },
  {
   "cell_type": "markdown",
   "metadata": {},
   "source": [
    "## Variables \n",
    "\n"
   ]
  },
  {
   "cell_type": "code",
   "execution_count": 13,
   "metadata": {},
   "outputs": [
    {
     "name": "stdout",
     "output_type": "stream",
     "text": [
      "tf.Tensor(\n",
      "[[2. 2. 2. 2. 2. 2. 2. 2. 2. 2.]\n",
      " [2. 2. 2. 2. 2. 2. 2. 2. 2. 2.]\n",
      " [2. 2. 2. 2. 2. 2. 2. 2. 2. 2.]\n",
      " [2. 2. 2. 2. 2. 2. 2. 2. 2. 2.]\n",
      " [2. 2. 2. 2. 2. 2. 2. 2. 2. 2.]\n",
      " [2. 2. 2. 2. 2. 2. 2. 2. 2. 2.]\n",
      " [2. 2. 2. 2. 2. 2. 2. 2. 2. 2.]\n",
      " [2. 2. 2. 2. 2. 2. 2. 2. 2. 2.]\n",
      " [2. 2. 2. 2. 2. 2. 2. 2. 2. 2.]\n",
      " [2. 2. 2. 2. 2. 2. 2. 2. 2. 2.]], shape=(10, 10), dtype=float32)\n"
     ]
    }
   ],
   "source": [
    "\n",
    "# Using python state\n",
    "x = tf.zeros([10, 10])\n",
    "x += 2  # This is equivalent to x = x + 2, which does not mutate the original\n",
    "        # value of x\n",
    "print(x)"
   ]
  },
  {
   "cell_type": "markdown",
   "metadata": {},
   "source": [
    "Using **Variables** is also a way to quickly let a reader of your code know that this piece of state is mutable.\n"
   ]
  },
  {
   "cell_type": "code",
   "execution_count": 14,
   "metadata": {},
   "outputs": [],
   "source": [
    "\n",
    "v = tf.Variable(1.0)\n",
    "assert v.numpy() == 1.0\n",
    "\n",
    "# Re-assign the value\n",
    "v.assign(3.0)\n",
    "assert v.numpy() == 3.0\n",
    "\n",
    "# Use `v` in a TensorFlow operation like tf.square() and reassign\n",
    "v.assign(tf.square(v))\n",
    "assert v.numpy() == 9.0"
   ]
  },
  {
   "cell_type": "markdown",
   "metadata": {},
   "source": [
    "## Linear Model Fitting Example\n",
    "\n",
    "* Tensor , GradientType , Variable \n",
    "\n",
    "1. 모델정의\n",
    "2. loss정의\n",
    "3. training data 확보\n",
    "4. 데이터를 fitting 하기위해 변수를 조정하게 optimizer를 사용해서 train data를 돌려라"
   ]
  },
  {
   "cell_type": "markdown",
   "metadata": {},
   "source": [
    "## 모델 정의"
   ]
  },
  {
   "cell_type": "code",
   "execution_count": 15,
   "metadata": {},
   "outputs": [],
   "source": [
    "class Model(object):\n",
    "    def __init__(self) :\n",
    "        self.W = tf.Variable(5.0)\n",
    "        self.b = tf.Variable(0.0)\n",
    "        \n",
    "    def __call__(self,x) :\n",
    "        return self.W * x + self.b\n",
    "    \n",
    "model = Model()\n",
    "assert model(3.0).numpy() == 15.0"
   ]
  },
  {
   "cell_type": "markdown",
   "metadata": {},
   "source": [
    "## Loss 정의"
   ]
  },
  {
   "cell_type": "code",
   "execution_count": 22,
   "metadata": {},
   "outputs": [],
   "source": [
    "def loss(predict , y) :\n",
    "    return tf.reduce_sum( tf.square( predict - y ))\n"
   ]
  },
  {
   "cell_type": "markdown",
   "metadata": {},
   "source": [
    "# Training data 확보하기."
   ]
  },
  {
   "cell_type": "code",
   "execution_count": 17,
   "metadata": {},
   "outputs": [],
   "source": [
    "TRUE_W = 3.0\n",
    "TRUE_B = 2.0\n",
    "NUM_EXAMPLES = 1000\n",
    "\n",
    "inputs = tf.random_normal( shape = [NUM_EXAMPLES ])\n",
    "noise = tf.random_normal( shape = [NUM_EXAMPLES ])\n",
    "\n",
    "outputs = inputs * TRUE_W + TRUE_B + noise"
   ]
  },
  {
   "cell_type": "code",
   "execution_count": 23,
   "metadata": {},
   "outputs": [
    {
     "name": "stdout",
     "output_type": "stream",
     "text": [
      "Current loss : \n",
      "9540.645\n"
     ]
    },
    {
     "data": {
      "image/png": "[encoded data removed]",
      "text/plain": [
       "<Figure size 432x288 with 1 Axes>"
      ]
     },
     "metadata": {
      "needs_background": "light"
     },
     "output_type": "display_data"
    }
   ],
   "source": [
    "import matplotlib.pyplot as plt\n",
    "\n",
    "plt.scatter(inputs , outputs , c=\"b\")\n",
    "plt.scatter( inputs , model(inputs), c=\"r\")\n",
    "\n",
    "print(\"Current loss : \")\n",
    "print(loss(model(inputs), outputs).numpy())"
   ]
  },
  {
   "cell_type": "markdown",
   "metadata": {},
   "source": [
    "## Define a training loop\n",
    "\n",
    "gradinet descent 를 사용한다. 'tf.train.Optimizer'"
   ]
  },
  {
   "cell_type": "code",
   "execution_count": 24,
   "metadata": {},
   "outputs": [],
   "source": [
    "def train(model , inputs , outputs , learning_rate) :\n",
    "    with tf.GradientTape() as t :\n",
    "        current_loss = loss(model(inputs), outputs)\n",
    "        \n",
    "    dW , db = t.gradient( current_loss , [model.W , model.b])\n",
    "    model.W.assign_sub(learning_rate* dW)\n",
    "    model.b.assign_sub(learning_rate* db)"
   ]
  },
  {
   "cell_type": "code",
   "execution_count": 25,
   "metadata": {},
   "outputs": [
    {
     "name": "stdout",
     "output_type": "stream",
     "text": [
      "Epoch  0: W=5.00 b=0.00, loss=9540.64453\n",
      "Epoch  1: W=-429.63 b=413.78, loss=376660640.00000\n",
      "Epoch  2: W=92034.54 b=-85386.42, loss=16647367688192.00000\n",
      "Epoch  3: W=-19561272.00 b=17724396.00, loss=736180621717536768.00000\n",
      "Epoch  4: W=4154361600.00 b=-3682762496.00, loss=32570861167474863243264.00000\n",
      "Epoch  5: W=-881641848832.00 b=765917396992.00, loss=1441613787230164407172464640.00000\n",
      "Epoch  6: W=186978280669184.00 b=-159430947635200.00, loss=63828821902683685039486391025664.00000\n",
      "Epoch  7: W=-39630389089665024.00 b=33214154626039808.00, loss=2826901086415508811621145668315250688.00000\n",
      "Epoch  8: W=8395139614465064960.00 b=-6924873215558811648.00, loss=inf\n",
      "Epoch  9: W=-1777508285478305005568.00 b=1444832306816538902528.00, loss=inf\n"
     ]
    }
   ],
   "source": [
    "model = Model()\n",
    "\n",
    "Ws , bs = [] , []\n",
    "epochs = range(10)\n",
    "for epoch in epochs :\n",
    "    Ws.append( model.W.numpy())\n",
    "    bs.append( model.b.numpy())\n",
    "    current_loss = loss(model(inputs), outputs)\n",
    "    \n",
    "    train(model , inputs, outputs, learning_rate= 0.1)\n",
    "    print('Epoch %2d: W=%1.2f b=%1.2f, loss=%2.5f' %\n",
    "        (epoch, Ws[-1], bs[-1], current_loss))\n",
    "    \n"
   ]
  },
  {
   "cell_type": "code",
   "execution_count": null,
   "metadata": {},
   "outputs": [],
   "source": [
    "plt.plot(epochs , Ws , \"r\")\n",
    "plt.plot(epochs , bs, \"b\")\n",
    "plt.plot([TRUE_W] * len(epochs) , \"r--\",[TRUE_B] * len(epochs) , \"b--\")\n",
    "plt.legend([\"W\", \"b\" , \"TRUE W\", \"TRUE B\"])\n",
    "plt.show()\n"
   ]
  },
  {
   "cell_type": "markdown",
   "metadata": {},
   "source": [
    "## 다음에 진행 할 것 \n",
    "\n",
    "https://github.com/moono/tf-eager-on-GAN/blob/master/dcgan_eager_tf_1_12.py"
   ]
  },
  {
   "cell_type": "code",
   "execution_count": null,
   "metadata": {},
   "outputs": [],
   "source": []
  }
 ],
 "metadata": {
  "kernelspec": {
   "display_name": "Python 3",
   "language": "python",
   "name": "python3"
  },
  "language_info": {
   "codemirror_mode": {
    "name": "ipython",
    "version": 3
   },
   "file_extension": ".py",
   "mimetype": "text/x-python",
   "name": "python",
   "nbconvert_exporter": "python",
   "pygments_lexer": "ipython3",
   "version": "3.5.2"
  }
 },
 "nbformat": 4,
 "nbformat_minor": 2
}
