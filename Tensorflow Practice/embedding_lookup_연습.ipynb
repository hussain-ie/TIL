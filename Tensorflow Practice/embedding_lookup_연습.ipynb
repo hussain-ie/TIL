{
 "cells": [
  {
   "cell_type": "code",
   "execution_count": 1,
   "metadata": {},
   "outputs": [
    {
     "name": "stdout",
     "output_type": "stream",
     "text": [
      "No GPU found\n"
     ]
    }
   ],
   "source": [
    "import pandas as pd\n",
    "import numpy as np\n",
    "import matplotlib.pyplot as plt\n",
    "from scipy import stats\n",
    "import os\n",
    "import tensorflow as tf , numpy as np\n",
    "\n",
    "os.environ['CUDA_VISIBLE_DEVICES'] = '-1'\n",
    "\n",
    "if tf.test.gpu_device_name():\n",
    "    print('GPU found')\n",
    "else:\n",
    "    print(\"No GPU found\")\n",
    "    \n",
    "    "
   ]
  },
  {
   "cell_type": "code",
   "execution_count": null,
   "metadata": {},
   "outputs": [
    {
     "name": "stderr",
     "output_type": "stream",
     "text": [
      "/usr/local/lib/python3.5/dist-packages/tensorflow/python/ops/gradients_impl.py:112: UserWarning: Converting sparse IndexedSlices to a dense Tensor of unknown shape. This may consume a large amount of memory.\n",
      "  \"Converting sparse IndexedSlices to a dense Tensor of unknown shape. \"\n"
     ]
    },
    {
     "name": "stdout",
     "output_type": "stream",
     "text": [
      "0.039914772\n",
      "0.03305521\n",
      "0.028434543\n",
      "0.025310863\n",
      "0.023182351\n",
      "0.021708496\n",
      "0.020659985\n",
      "0.019896008\n",
      "0.019325906\n"
     ]
    }
   ],
   "source": [
    "tf.reset_default_graph()\n",
    "def loss_func(G , X , batch_size , index = 0 ):  \n",
    "    G2 = G[index]\n",
    "    X2        = tf.transpose(tf.nn.embedding_lookup(tf.transpose(X), index))    \n",
    "    n1 ,n2    = batch_size , batch_size\n",
    "    data1     = tf.contrib.framework.sort(G2, axis = 0 )\n",
    "    data2     = tf.contrib.framework.sort(X2 , axis = 0 )\n",
    "    data_all  = tf.concat([data1,data2] , axis = 0)\n",
    "    cdf1      = tf.searchsorted(data1,data_all,side='right' ) / ( batch_size)\n",
    "    cdf2      = tf.searchsorted(data2,data_all,side='right')/ ( batch_size)\n",
    "    #d         = tf.reduce_max(tf.abs(cdf1-cdf2))\n",
    "    d         = tf.reduce_mean(tf.square(data1-data2))\n",
    "    return tf.to_float(d)\n",
    "\n",
    "X_dim = 45\n",
    "z_dim = 30\n",
    "h_dim = 45\n",
    "batch_size = 500\n",
    "X = tf.placeholder(tf.float32, shape=[None, X_dim], name=\"X\")\n",
    "z = tf.placeholder(tf.float32, shape=[None, z_dim], name=\"z\")\n",
    "D_W1 = tf.get_variable(\"DW1\",[z_dim, h_dim], dtype=tf.float32)\n",
    "slice_output = tf.matmul(z , D_W1)\n",
    "slice_0 = tf.transpose(tf.nn.embedding_lookup(tf.transpose(slice_output), 0))\n",
    "slice_1 = tf.transpose(tf.nn.embedding_lookup(tf.transpose(slice_output), 1))\n",
    "slice_output = [slice_0 , slice_1]\n",
    "\n",
    "loss1 = loss_func(slice_output , X , batch_size , index = 0 )\n",
    "loss2 = loss_func(slice_output , X , batch_size , index = 1 )\n",
    "loss  = loss1 + loss2\n",
    "# sess = tf.InteractiveSession()\n",
    "X11 = np.random.normal(size= [1000,45])\n",
    "Z11 = np.random.normal(size= [1000,30])\n",
    "# H = np.random.normal(size= [1000,45])\n",
    "# H =[tf.transpose(tf.nn.embedding_lookup(tf.transpose(H), 0))]\n",
    "# index = 0\n",
    "# mb_size = 500\n",
    "# X11 = np.random.normal(size= [1000,45])\n",
    "# H2 = loss_func(H ,X11 , mb_size , index)\n",
    "# print(H2.eval())\n",
    "\n",
    "\n",
    "opt = tf.train.GradientDescentOptimizer(0.0001).minimize(loss)\n",
    "\n",
    "with tf.Session() as sess:\n",
    "    sess.run(tf.global_variables_initializer())\n",
    "    for i in range(10000):\n",
    "        _ , lss = sess.run([opt, loss] , feed_dict={z: Z11 , X : X11})\n",
    "        if i % 1000  == 0:\n",
    "            print(lss)\n"
   ]
  },
  {
   "cell_type": "code",
   "execution_count": null,
   "metadata": {},
   "outputs": [],
   "source": []
  }
 ],
 "metadata": {
  "kernelspec": {
   "display_name": "Python 3",
   "language": "python",
   "name": "python3"
  },
  "language_info": {
   "codemirror_mode": {
    "name": "ipython",
    "version": 3
   },
   "file_extension": ".py",
   "mimetype": "text/x-python",
   "name": "python",
   "nbconvert_exporter": "python",
   "pygments_lexer": "ipython3",
   "version": "3.5.2"
  }
 },
 "nbformat": 4,
 "nbformat_minor": 2
}
