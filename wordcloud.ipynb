{
  "nbformat": 4,
  "nbformat_minor": 0,
  "metadata": {
    "colab": {
      "name": "wordcloud.ipynb",
      "version": "0.3.2",
      "provenance": []
    },
    "kernelspec": {
      "display_name": "Python 3",
      "language": "python",
      "name": "python3"
    }
  },
  "cells": [
    {
      "cell_type": "markdown",
      "metadata": {
        "id": "view-in-github",
        "colab_type": "text"
      },
      "source": [
        "[View in Colaboratory](https://colab.research.google.com/github/sungreong/TIL/blob/master/wordcloud.ipynb)"
      ]
    },
    {
      "metadata": {
        "id": "YYAZBH4IfzKB",
        "colab_type": "code",
        "colab": {}
      },
      "cell_type": "code",
      "source": [
        "import wordcloud\n",
        "\n",
        "from scipy.misc import imread\n",
        "\n",
        "\n",
        "\n",
        "import matplotlib.pyplot as plt\n",
        "\n",
        "from wordcloud import WordCloud, STOPWORDS, ImageColorGenerator\n",
        "\n",
        "import numpy as np\n",
        "\n",
        "from PIL import Image\n",
        "\n",
        "from os import path"
      ],
      "execution_count": 0,
      "outputs": []
    },
    {
      "metadata": {
        "id": "kkTqSIumfzKH",
        "colab_type": "code",
        "colab": {},
        "outputId": "9de52b78-f188-4dd1-95f1-1e40325d0988"
      },
      "cell_type": "code",
      "source": [
        "import os\n",
        "os.getcwd()"
      ],
      "execution_count": 0,
      "outputs": [
        {
          "output_type": "execute_result",
          "data": {
            "text/plain": [
              "'C:\\\\Users\\\\PC'"
            ]
          },
          "metadata": {
            "tags": []
          },
          "execution_count": 3
        }
      ]
    },
    {
      "metadata": {
        "id": "lfusQBoLfzKQ",
        "colab_type": "code",
        "colab": {},
        "outputId": "b10f85a4-d63e-43a7-f61d-e7b8adf53d30"
      },
      "cell_type": "code",
      "source": [
        "text = open(\"./Desktop/삐에로.txt\").read()"
      ],
      "execution_count": 0,
      "outputs": [
        {
          "output_type": "execute_result",
          "data": {
            "text/plain": [
              "'  거리에 사는 슬픈 삐에로  사랑을 찾아다니다 길을 잃어서 울고  달을 가린 구름이 까만 어둠이 너무 무서워  사랑을 불러보다가 보고 싶어서 다시 걷죠 사랑해요 거짓말 아니에요 난 거짓말 못 해요 하늘도 알고 있는데 왜 대만  맘을 모르나요 왜  두고 대 혼자 떠나갔나요 눈물 젖은 얼굴로 웃기만 하는 나는 삐에로 한 사람을 잊지 못해서 이 곳에 서서 기다리죠 사랑해요 거짓말 아니에요 난 거짓말 못 해요 하늘도 알고 있는데 왜 대만  맘을 모르나요 왜  두고 대 혼자 떠나갔나요   거리에 사는 슬픈 삐에로  사랑을 찾아다니다 길을 잃어서 울고  대 기억에 웃고  \\n  거리에 사는 슬픈 삐에로  사랑을 찾아다니다 길을 잃어서 울고  달을 가린 구름이 까만 어둠이 너무 무서워  사랑을 불러보다가 보고 싶어서 다시 걷죠 사랑해요 거짓말 아니에요 난 거짓말 못 해요 하늘도 알고 있는데 왜 대만  맘을 모르나요 왜  두고 대 혼자 떠나갔나요 눈물 젖은 얼굴로 웃기만 하는 나는 삐에로 한 사람을 잊지 못해서 이 곳에 서서 기다리죠 사랑해요 거짓말 아니에요 난 거짓말 못 해요 하늘도 알고 있는데 왜 대만  맘을 모르나요 왜  두고 대 혼자 떠나갔나요   거리에 사는 슬픈 삐에로  사랑을 찾아다니다 길을 잃어서 울고  대 기억에 웃고  \\n  거리에 사는 슬픈 삐에로  사랑을 찾아다니다 길을 잃어서 울고  달을 가린 구름이 까만 어둠이 너무 무서워  사랑을 불러보다가 보고 싶어서 다시 걷죠 사랑해요 거짓말 아니에요 난 거짓말 못 해요 하늘도 알고 있는데 왜 대만  맘을 모르나요 왜  두고 대 혼자 떠나갔나요 눈물 젖은 얼굴로 웃기만 하는 나는 삐에로 한 사람을 잊지 못해서 이 곳에 서서 기다리죠 사랑해요 거짓말 아니에요 난 거짓말 못 해요 하늘도 알고 있는데 왜 대만  맘을 모르나요 왜  두고 대 혼자 떠나갔나요   거리에 사는 슬픈 삐에로  사랑을 찾아다니다 길을 잃어서 울고  대 기억에 웃고  \\n  거리에 사는 슬픈 삐에로  사랑을 찾아다니다 길을 잃어서 울고  달을 가린 구름이 까만 어둠이 너무 무서워  사랑을 불러보다가 보고 싶어서 다시 걷죠 사랑해요 거짓말 아니에요 난 거짓말 못 해요 하늘도 알고 있는데 왜 대만  맘을 모르나요 왜  두고 대 혼자 떠나갔나요 눈물 젖은 얼굴로 웃기만 하는 나는 삐에로 한 사람을 잊지 못해서 이 곳에 서서 기다리죠 사랑해요 거짓말 아니에요 난 거짓말 못 해요 하늘도 알고 있는데 왜 대만  맘을 모르나요 왜  두고 대 혼자 떠나갔나요   거리에 사는 슬픈 삐에로  사랑을 찾아다니다 길을 잃어서 울고  대 기억에 웃고  \\n  거리에 사는 슬픈 삐에로  사랑을 찾아다니다 길을 잃어서 울고  달을 가린 구름이 까만 어둠이 너무 무서워  사랑을 불러보다가 보고 싶어서 다시 걷죠 사랑해요 거짓말 아니에요 난 거짓말 못 해요 하늘도 알고 있는데 왜 대만  맘을 모르나요 왜  두고 대 혼자 떠나갔나요 눈물 젖은 얼굴로 웃기만 하는 나는 삐에로 한 사람을 잊지 못해서 이 곳에 서서 기다리죠 사랑해요 거짓말 아니에요 난 거짓말 못 해요 하늘도 알고 있는데 왜 대만  맘을 모르나요 왜  두고 대 혼자 떠나갔나요   거리에 사는 슬픈 삐에로  사랑을 찾아다니다 길을 잃어서 울고  대 기억에 웃고  \\n  거리에 사는 슬픈 삐에로  사랑을 찾아다니다 길을 잃어서 울고  달을 가린 구름이 까만 어둠이 너무 무서워  사랑을 불러보다가 보고 싶어서 다시 걷죠 사랑해요 거짓말 아니에요 난 거짓말 못 해요 하늘도 알고 있는데 왜 대만  맘을 모르나요 왜  두고 대 혼자 떠나갔나요 눈물 젖은 얼굴로 웃기만 하는 나는 삐에로 한 사람을 잊지 못해서 이 곳에 서서 기다리죠 사랑해요 거짓말 아니에요 난 거짓말 못 해요 하늘도 알고 있는데 왜 대만  맘을 모르나요 왜  두고 대 혼자 떠나갔나요   거리에 사는 슬픈 삐에로  사랑을 찾아다니다 길을 잃어서 울고  대 기억에 웃고  \\n  거리에 사는 슬픈 삐에로  사랑을 찾아다니다 길을 잃어서 울고  달을 가린 구름이 까만 어둠이 너무 무서워  사랑을 불러보다가 보고 싶어서 다시 걷죠 사랑해요 거짓말 아니에요 난 거짓말 못 해요 하늘도 알고 있는데 왜 대만  맘을 모르나요 왜  두고 대 혼자 떠나갔나요 눈물 젖은 얼굴로 웃기만 하는 나는 삐에로 한 사람을 잊지 못해서 이 곳에 서서 기다리죠 사랑해요 거짓말 아니에요 난 거짓말 못 해요 하늘도 알고 있는데 왜 대만  맘을 모르나요 왜  두고 대 혼자 떠나갔나요   거리에 사는 슬픈 삐에로  사랑을 찾아다니다 길을 잃어서 울고  대 기억에 웃고  \\n슬픈 삐에로 슬픈 삐에로  슬픈 삐에로  슬픈 삐에로  슬픈 삐에로  슬픈 삐에로  슬픈 삐에로  슬픈 삐에로  슬픈 삐에로  슬픈 삐에로  슬픈 삐에로  슬픈 삐에로  슬픈 삐에로  슬픈 삐에로  슬픈 삐에로  슬픈 삐에로  슬픈 삐에로  슬픈 삐에로  슬픈 삐에로  슬픈 삐에로  슬픈 삐에로  슬픈 삐에로  슬픈 삐에로  슬픈 삐에로  슬픈 삐에로  슬픈 삐에로  슬픈 삐에로  슬픈 삐에로  슬픈 삐에로  슬픈 삐에로  슬픈 삐에로  슬픈 삐에로  슬픈 삐에로  슬픈 삐에로  슬픈 삐에로  슬픈 삐에로  슬픈 삐에로  슬픈 삐에로  슬픈 삐에로  슬픈 삐에로  슬픈 삐에로  슬픈 삐에로  슬픈 삐에로  슬픈 삐에로  슬픈 삐에로 '"
            ]
          },
          "metadata": {
            "tags": []
          },
          "execution_count": 70
        }
      ]
    },
    {
      "metadata": {
        "id": "ziKQomMPfzKX",
        "colab_type": "code",
        "colab": {},
        "outputId": "0a4d428b-0dac-42be-cd78-ac5dcd0299d7"
      },
      "cell_type": "code",
      "source": [
        "twitter_mask = imread('./Desktop/pi3.png', flatten=True)"
      ],
      "execution_count": 0,
      "outputs": [
        {
          "output_type": "stream",
          "text": [
            "c:\\anaconda3\\envs\\etc\\lib\\site-packages\\ipykernel_launcher.py:1: DeprecationWarning: `imread` is deprecated!\n",
            "`imread` is deprecated in SciPy 1.0.0, and will be removed in 1.2.0.\n",
            "Use ``imageio.imread`` instead.\n",
            "  \"\"\"Entry point for launching an IPython kernel.\n"
          ],
          "name": "stderr"
        }
      ]
    },
    {
      "metadata": {
        "id": "tYAqRIcXfzKd",
        "colab_type": "code",
        "colab": {},
        "outputId": "0cb8cbeb-69c6-4251-8d07-94592f77cd65"
      },
      "cell_type": "code",
      "source": [
        "plt.imshow(twitter_mask )"
      ],
      "execution_count": 0,
      "outputs": [
        {
          "output_type": "execute_result",
          "data": {
            "text/plain": [
              "<matplotlib.image.AxesImage at 0x98ce710>"
            ]
          },
          "metadata": {
            "tags": []
          },
          "execution_count": 14
        },
        {
          "output_type": "display_data",
          "data": {
            "image/png": "[encoded data removed]",
            "text/plain": [
              "<Figure size 432x288 with 1 Axes>"
            ]
          },
          "metadata": {
            "tags": []
          }
        }
      ]
    },
    {
      "metadata": {
        "id": "4sdfuxGQfzKi",
        "colab_type": "code",
        "colab": {}
      },
      "cell_type": "code",
      "source": [
        "np.set_printoptions(threshold=1000)"
      ],
      "execution_count": 0,
      "outputs": []
    },
    {
      "metadata": {
        "id": "L3fmsfdifzKm",
        "colab_type": "code",
        "colab": {},
        "outputId": "1c0c83f2-feaf-4a49-c427-eb59766718ae"
      },
      "cell_type": "code",
      "source": [
        "wc= WordCloud(font_path='C:/Anaconda3/envs/etc/Lib/site-packages/pytagcloud/fonts/TmonMonsori.ttf' ,\n",
        "                      stopwords=STOPWORDS,\n",
        "                      background_color=\"beige\",\n",
        "                      width=500,\n",
        "                      height=500,\n",
        "                      mask=twitter_mask,\n",
        "                      random_state=90               \n",
        "            ).generate(text) "
      ],
      "execution_count": 0,
      "outputs": [
        {
          "output_type": "stream",
          "text": [
            "c:\\anaconda3\\envs\\etc\\lib\\site-packages\\wordcloud\\wordcloud.py:370: UserWarning: mask image should be unsigned byte between 0 and 255. Got a float array\n",
            "  warnings.warn(\"mask image should be unsigned byte between 0\"\n"
          ],
          "name": "stderr"
        }
      ]
    },
    {
      "metadata": {
        "id": "y6onhZuVfzKr",
        "colab_type": "code",
        "colab": {}
      },
      "cell_type": "code",
      "source": [
        ""
      ],
      "execution_count": 0,
      "outputs": []
    },
    {
      "metadata": {
        "id": "IwR7eCY3fzKv",
        "colab_type": "code",
        "colab": {},
        "outputId": "bc3ef574-60a5-4c85-92a7-e4d49a408687"
      },
      "cell_type": "code",
      "source": [
        "import random\n",
        "alice_coloring = np.array(Image.open('./Desktop/pi3.png'))\n",
        "image_colors = ImageColorGenerator(alice_coloring)\n",
        "import matplotlib.pyplot as plt\n",
        "default_colors = wc.to_array()\n",
        "\n",
        "plt.imshow(wc, interpolation=\"bilinear\")\n",
        "wc.to_file(\"./Desktop/a_new_hope.png\")\n",
        "plt.axis(\"off\")\n",
        "plt.figure()"
      ],
      "execution_count": 0,
      "outputs": [
        {
          "output_type": "execute_result",
          "data": {
            "text/plain": [
              "<Figure size 432x288 with 0 Axes>"
            ]
          },
          "metadata": {
            "tags": []
          },
          "execution_count": 125
        },
        {
          "output_type": "display_data",
          "data": {
            "image/png": "[encoded data removed]",
            "text/plain": [
              "<Figure size 432x288 with 1 Axes>"
            ]
          },
          "metadata": {
            "tags": []
          }
        },
        {
          "output_type": "display_data",
          "data": {
            "text/plain": [
              "<Figure size 432x288 with 0 Axes>"
            ]
          },
          "metadata": {
            "tags": []
          }
        }
      ]
    },
    {
      "metadata": {
        "id": "PYKJIA22fzKz",
        "colab_type": "code",
        "colab": {}
      },
      "cell_type": "code",
      "source": [
        ""
      ],
      "execution_count": 0,
      "outputs": []
    },
    {
      "metadata": {
        "id": "ZC_eYlC3fzK3",
        "colab_type": "code",
        "colab": {}
      },
      "cell_type": "code",
      "source": [
        ""
      ],
      "execution_count": 0,
      "outputs": []
    }
  ]
}