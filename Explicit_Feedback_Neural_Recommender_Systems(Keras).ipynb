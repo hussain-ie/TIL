{
  "nbformat": 4,
  "nbformat_minor": 0,
  "metadata": {
    "colab": {
      "name": "Explicit Feedback Neural Recommender Systems (Keras) .ipynb",
      "version": "0.3.2",
      "provenance": [],
      "collapsed_sections": []
    },
    "kernelspec": {
      "name": "python3",
      "display_name": "Python 3"
    },
    "accelerator": "GPU"
  },
  "cells": [
    {
      "cell_type": "markdown",
      "metadata": {
        "id": "view-in-github",
        "colab_type": "text"
      },
      "source": [
        "[View in Colaboratory](https://colab.research.google.com/github/sungreong/TIL/blob/master/Explicit_Feedback_Neural_Recommender_Systems(Keras).ipynb)"
      ]
    },
    {
      "metadata": {
        "id": "I8-0c4289jVf",
        "colab_type": "code",
        "colab": {
          "base_uri": "https://localhost:8080/",
          "height": 53
        },
        "outputId": "97b2c43d-6607-4b88-93aa-2719786c456e"
      },
      "cell_type": "code",
      "source": [
        "%matplotlib inline \n",
        "\n",
        "import matplotlib.pyplot as plt\n",
        "import numpy as np\n",
        "import os.path as op\n",
        "\n",
        "from zipfile import ZipFile\n",
        "try:\n",
        "    from urllib.request import urlretrieve\n",
        "except ImportError:  # Python 2 compat\n",
        "    from urllib import urlretrieve\n",
        "\n",
        "\n",
        "ML_100K_URL = \"http://files.grouplens.org/datasets/movielens/ml-100k.zip\"\n",
        "ML_100K_FILENAME = ML_100K_URL.rsplit('/', 1)[1]\n",
        "ML_100K_FOLDER = 'ml-100k'\n",
        "\n",
        "if not op.exists(ML_100K_FILENAME):\n",
        "    print('Downloading %s to %s...' % (ML_100K_URL, ML_100K_FILENAME))\n",
        "    urlretrieve(ML_100K_URL, ML_100K_FILENAME)\n",
        "\n",
        "if not op.exists(ML_100K_FOLDER):\n",
        "    print('Extracting %s to %s...' % (ML_100K_FILENAME, ML_100K_FOLDER))\n",
        "    ZipFile(ML_100K_FILENAME).extractall('.')"
      ],
      "execution_count": 1,
      "outputs": [
        {
          "output_type": "stream",
          "text": [
            "Downloading http://files.grouplens.org/datasets/movielens/ml-100k.zip to ml-100k.zip...\n",
            "Extracting ml-100k.zip to ml-100k...\n"
          ],
          "name": "stdout"
        }
      ]
    },
    {
      "metadata": {
        "id": "0nhC51zaN1o8",
        "colab_type": "text"
      },
      "cell_type": "markdown",
      "source": [
        "https://github.com/m2dsupsdlclass/lectures-labs/blob/master/labs/03_neural_recsys/Explicit_Feedback_Neural_Recommender_System.ipynb"
      ]
    },
    {
      "metadata": {
        "id": "-Ur0HD069tX7",
        "colab_type": "code",
        "colab": {
          "base_uri": "https://localhost:8080/",
          "height": 35
        },
        "outputId": "5f7fc87a-b554-4519-a1b0-c7b471b12868"
      },
      "cell_type": "code",
      "source": [
        "!ls"
      ],
      "execution_count": 2,
      "outputs": [
        {
          "output_type": "stream",
          "text": [
            "datalab  ml-100k  ml-100k.zip\r\n"
          ],
          "name": "stdout"
        }
      ]
    },
    {
      "metadata": {
        "id": "nGEPa_z0-1aA",
        "colab_type": "text"
      },
      "cell_type": "markdown",
      "source": [
        "# Ratings file\n",
        " 1. 유저\n",
        " 2. 아이템 \n",
        " 3. 1~5점까지 점수"
      ]
    },
    {
      "metadata": {
        "id": "cpzhfwHE9phN",
        "colab_type": "code",
        "colab": {
          "base_uri": "https://localhost:8080/",
          "height": 204
        },
        "outputId": "049caea9-a7de-4226-9a9b-f3cff9e37e4c"
      },
      "cell_type": "code",
      "source": [
        "import pandas as pd\n",
        "\n",
        "raw_ratings = pd.read_csv(op.join(ML_100K_FOLDER, 'u.data'), sep='\\t',\n",
        "                      names=[\"user_id\", \"item_id\", \"rating\", \"timestamp\"])\n",
        "raw_ratings.head()"
      ],
      "execution_count": 3,
      "outputs": [
        {
          "output_type": "execute_result",
          "data": {
            "text/html": [
              "<div>\n",
              "<style scoped>\n",
              "    .dataframe tbody tr th:only-of-type {\n",
              "        vertical-align: middle;\n",
              "    }\n",
              "\n",
              "    .dataframe tbody tr th {\n",
              "        vertical-align: top;\n",
              "    }\n",
              "\n",
              "    .dataframe thead th {\n",
              "        text-align: right;\n",
              "    }\n",
              "</style>\n",
              "<table border=\"1\" class=\"dataframe\">\n",
              "  <thead>\n",
              "    <tr style=\"text-align: right;\">\n",
              "      <th></th>\n",
              "      <th>user_id</th>\n",
              "      <th>item_id</th>\n",
              "      <th>rating</th>\n",
              "      <th>timestamp</th>\n",
              "    </tr>\n",
              "  </thead>\n",
              "  <tbody>\n",
              "    <tr>\n",
              "      <th>0</th>\n",
              "      <td>196</td>\n",
              "      <td>242</td>\n",
              "      <td>3</td>\n",
              "      <td>881250949</td>\n",
              "    </tr>\n",
              "    <tr>\n",
              "      <th>1</th>\n",
              "      <td>186</td>\n",
              "      <td>302</td>\n",
              "      <td>3</td>\n",
              "      <td>891717742</td>\n",
              "    </tr>\n",
              "    <tr>\n",
              "      <th>2</th>\n",
              "      <td>22</td>\n",
              "      <td>377</td>\n",
              "      <td>1</td>\n",
              "      <td>878887116</td>\n",
              "    </tr>\n",
              "    <tr>\n",
              "      <th>3</th>\n",
              "      <td>244</td>\n",
              "      <td>51</td>\n",
              "      <td>2</td>\n",
              "      <td>880606923</td>\n",
              "    </tr>\n",
              "    <tr>\n",
              "      <th>4</th>\n",
              "      <td>166</td>\n",
              "      <td>346</td>\n",
              "      <td>1</td>\n",
              "      <td>886397596</td>\n",
              "    </tr>\n",
              "  </tbody>\n",
              "</table>\n",
              "</div>"
            ],
            "text/plain": [
              "   user_id  item_id  rating  timestamp\n",
              "0      196      242       3  881250949\n",
              "1      186      302       3  891717742\n",
              "2       22      377       1  878887116\n",
              "3      244       51       2  880606923\n",
              "4      166      346       1  886397596"
            ]
          },
          "metadata": {
            "tags": []
          },
          "execution_count": 3
        }
      ]
    },
    {
      "metadata": {
        "id": "aZjxjJWf_KSg",
        "colab_type": "text"
      },
      "cell_type": "markdown",
      "source": [
        "# item metadata file\n"
      ]
    },
    {
      "metadata": {
        "id": "DV0z5YSd-sZx",
        "colab_type": "code",
        "colab": {
          "base_uri": "https://localhost:8080/",
          "height": 204
        },
        "outputId": "6022b9f9-8353-4188-ac79-c2ed65bb92f0"
      },
      "cell_type": "code",
      "source": [
        "m_cols = ['item_id', 'title', 'release_date', 'video_release_date', 'imdb_url']\n",
        "items = pd.read_csv(op.join(ML_100K_FOLDER, 'u.item'), sep='|',\n",
        "                    names=m_cols, usecols=range(5), encoding='latin-1')\n",
        "items.head()"
      ],
      "execution_count": 7,
      "outputs": [
        {
          "output_type": "execute_result",
          "data": {
            "text/html": [
              "<div>\n",
              "<style scoped>\n",
              "    .dataframe tbody tr th:only-of-type {\n",
              "        vertical-align: middle;\n",
              "    }\n",
              "\n",
              "    .dataframe tbody tr th {\n",
              "        vertical-align: top;\n",
              "    }\n",
              "\n",
              "    .dataframe thead th {\n",
              "        text-align: right;\n",
              "    }\n",
              "</style>\n",
              "<table border=\"1\" class=\"dataframe\">\n",
              "  <thead>\n",
              "    <tr style=\"text-align: right;\">\n",
              "      <th></th>\n",
              "      <th>item_id</th>\n",
              "      <th>title</th>\n",
              "      <th>release_date</th>\n",
              "      <th>video_release_date</th>\n",
              "      <th>imdb_url</th>\n",
              "    </tr>\n",
              "  </thead>\n",
              "  <tbody>\n",
              "    <tr>\n",
              "      <th>0</th>\n",
              "      <td>1</td>\n",
              "      <td>Toy Story (1995)</td>\n",
              "      <td>01-Jan-1995</td>\n",
              "      <td>NaN</td>\n",
              "      <td>http://us.imdb.com/M/title-exact?Toy%20Story%2...</td>\n",
              "    </tr>\n",
              "    <tr>\n",
              "      <th>1</th>\n",
              "      <td>2</td>\n",
              "      <td>GoldenEye (1995)</td>\n",
              "      <td>01-Jan-1995</td>\n",
              "      <td>NaN</td>\n",
              "      <td>http://us.imdb.com/M/title-exact?GoldenEye%20(...</td>\n",
              "    </tr>\n",
              "    <tr>\n",
              "      <th>2</th>\n",
              "      <td>3</td>\n",
              "      <td>Four Rooms (1995)</td>\n",
              "      <td>01-Jan-1995</td>\n",
              "      <td>NaN</td>\n",
              "      <td>http://us.imdb.com/M/title-exact?Four%20Rooms%...</td>\n",
              "    </tr>\n",
              "    <tr>\n",
              "      <th>3</th>\n",
              "      <td>4</td>\n",
              "      <td>Get Shorty (1995)</td>\n",
              "      <td>01-Jan-1995</td>\n",
              "      <td>NaN</td>\n",
              "      <td>http://us.imdb.com/M/title-exact?Get%20Shorty%...</td>\n",
              "    </tr>\n",
              "    <tr>\n",
              "      <th>4</th>\n",
              "      <td>5</td>\n",
              "      <td>Copycat (1995)</td>\n",
              "      <td>01-Jan-1995</td>\n",
              "      <td>NaN</td>\n",
              "      <td>http://us.imdb.com/M/title-exact?Copycat%20(1995)</td>\n",
              "    </tr>\n",
              "  </tbody>\n",
              "</table>\n",
              "</div>"
            ],
            "text/plain": [
              "   item_id              title release_date  video_release_date  \\\n",
              "0        1   Toy Story (1995)  01-Jan-1995                 NaN   \n",
              "1        2   GoldenEye (1995)  01-Jan-1995                 NaN   \n",
              "2        3  Four Rooms (1995)  01-Jan-1995                 NaN   \n",
              "3        4  Get Shorty (1995)  01-Jan-1995                 NaN   \n",
              "4        5     Copycat (1995)  01-Jan-1995                 NaN   \n",
              "\n",
              "                                            imdb_url  \n",
              "0  http://us.imdb.com/M/title-exact?Toy%20Story%2...  \n",
              "1  http://us.imdb.com/M/title-exact?GoldenEye%20(...  \n",
              "2  http://us.imdb.com/M/title-exact?Four%20Rooms%...  \n",
              "3  http://us.imdb.com/M/title-exact?Get%20Shorty%...  \n",
              "4  http://us.imdb.com/M/title-exact?Copycat%20(1995)  "
            ]
          },
          "metadata": {
            "tags": []
          },
          "execution_count": 7
        }
      ]
    },
    {
      "metadata": {
        "id": "DwlTVqfE_RAW",
        "colab_type": "code",
        "colab": {
          "base_uri": "https://localhost:8080/",
          "height": 316
        },
        "outputId": "31519458-4814-469a-a31d-34ed7d25e5ed"
      },
      "cell_type": "code",
      "source": [
        "def extract_year(release_date):\n",
        "    if hasattr(release_date, 'split'):\n",
        "        components = release_date.split('-')\n",
        "        if len(components) == 3:\n",
        "            return int(components[2])\n",
        "    # Missing value marker\n",
        "    return 1920\n",
        "\n",
        "\n",
        "items[\"release_year\"] = items[\"release_date\"].map(extract_year)\n",
        "items.hist(\"release_year\", bins=50)"
      ],
      "execution_count": 12,
      "outputs": [
        {
          "output_type": "execute_result",
          "data": {
            "text/plain": [
              "array([[<matplotlib.axes._subplots.AxesSubplot object at 0x7fa8e54f9eb8>]],\n",
              "      dtype=object)"
            ]
          },
          "metadata": {
            "tags": []
          },
          "execution_count": 12
        },
        {
          "output_type": "display_data",
          "data": {
            "image/png": "[encoded data removed]",
            "text/plain": [
              "<matplotlib.figure.Figure at 0x7fa8e54f9898>"
            ]
          },
          "metadata": {
            "tags": []
          }
        }
      ]
    },
    {
      "metadata": {
        "id": "TQToOelh_RDw",
        "colab_type": "code",
        "colab": {}
      },
      "cell_type": "code",
      "source": [
        "all_ratings = pd.merge(items, raw_ratings)"
      ],
      "execution_count": 0,
      "outputs": []
    },
    {
      "metadata": {
        "id": "XayVqrb-_RG4",
        "colab_type": "code",
        "colab": {
          "base_uri": "https://localhost:8080/",
          "height": 204
        },
        "outputId": "0394946b-bcca-42af-b1ed-884d5004809f"
      },
      "cell_type": "code",
      "source": [
        "all_ratings.head()"
      ],
      "execution_count": 17,
      "outputs": [
        {
          "output_type": "execute_result",
          "data": {
            "text/html": [
              "<div>\n",
              "<style scoped>\n",
              "    .dataframe tbody tr th:only-of-type {\n",
              "        vertical-align: middle;\n",
              "    }\n",
              "\n",
              "    .dataframe tbody tr th {\n",
              "        vertical-align: top;\n",
              "    }\n",
              "\n",
              "    .dataframe thead th {\n",
              "        text-align: right;\n",
              "    }\n",
              "</style>\n",
              "<table border=\"1\" class=\"dataframe\">\n",
              "  <thead>\n",
              "    <tr style=\"text-align: right;\">\n",
              "      <th></th>\n",
              "      <th>item_id</th>\n",
              "      <th>title</th>\n",
              "      <th>release_date</th>\n",
              "      <th>video_release_date</th>\n",
              "      <th>imdb_url</th>\n",
              "      <th>release_year</th>\n",
              "      <th>user_id</th>\n",
              "      <th>rating</th>\n",
              "      <th>timestamp</th>\n",
              "    </tr>\n",
              "  </thead>\n",
              "  <tbody>\n",
              "    <tr>\n",
              "      <th>0</th>\n",
              "      <td>1</td>\n",
              "      <td>Toy Story (1995)</td>\n",
              "      <td>01-Jan-1995</td>\n",
              "      <td>NaN</td>\n",
              "      <td>http://us.imdb.com/M/title-exact?Toy%20Story%2...</td>\n",
              "      <td>1995</td>\n",
              "      <td>308</td>\n",
              "      <td>4</td>\n",
              "      <td>887736532</td>\n",
              "    </tr>\n",
              "    <tr>\n",
              "      <th>1</th>\n",
              "      <td>1</td>\n",
              "      <td>Toy Story (1995)</td>\n",
              "      <td>01-Jan-1995</td>\n",
              "      <td>NaN</td>\n",
              "      <td>http://us.imdb.com/M/title-exact?Toy%20Story%2...</td>\n",
              "      <td>1995</td>\n",
              "      <td>287</td>\n",
              "      <td>5</td>\n",
              "      <td>875334088</td>\n",
              "    </tr>\n",
              "    <tr>\n",
              "      <th>2</th>\n",
              "      <td>1</td>\n",
              "      <td>Toy Story (1995)</td>\n",
              "      <td>01-Jan-1995</td>\n",
              "      <td>NaN</td>\n",
              "      <td>http://us.imdb.com/M/title-exact?Toy%20Story%2...</td>\n",
              "      <td>1995</td>\n",
              "      <td>148</td>\n",
              "      <td>4</td>\n",
              "      <td>877019411</td>\n",
              "    </tr>\n",
              "    <tr>\n",
              "      <th>3</th>\n",
              "      <td>1</td>\n",
              "      <td>Toy Story (1995)</td>\n",
              "      <td>01-Jan-1995</td>\n",
              "      <td>NaN</td>\n",
              "      <td>http://us.imdb.com/M/title-exact?Toy%20Story%2...</td>\n",
              "      <td>1995</td>\n",
              "      <td>280</td>\n",
              "      <td>4</td>\n",
              "      <td>891700426</td>\n",
              "    </tr>\n",
              "    <tr>\n",
              "      <th>4</th>\n",
              "      <td>1</td>\n",
              "      <td>Toy Story (1995)</td>\n",
              "      <td>01-Jan-1995</td>\n",
              "      <td>NaN</td>\n",
              "      <td>http://us.imdb.com/M/title-exact?Toy%20Story%2...</td>\n",
              "      <td>1995</td>\n",
              "      <td>66</td>\n",
              "      <td>3</td>\n",
              "      <td>883601324</td>\n",
              "    </tr>\n",
              "  </tbody>\n",
              "</table>\n",
              "</div>"
            ],
            "text/plain": [
              "   item_id             title release_date  video_release_date  \\\n",
              "0        1  Toy Story (1995)  01-Jan-1995                 NaN   \n",
              "1        1  Toy Story (1995)  01-Jan-1995                 NaN   \n",
              "2        1  Toy Story (1995)  01-Jan-1995                 NaN   \n",
              "3        1  Toy Story (1995)  01-Jan-1995                 NaN   \n",
              "4        1  Toy Story (1995)  01-Jan-1995                 NaN   \n",
              "\n",
              "                                            imdb_url  release_year  user_id  \\\n",
              "0  http://us.imdb.com/M/title-exact?Toy%20Story%2...          1995      308   \n",
              "1  http://us.imdb.com/M/title-exact?Toy%20Story%2...          1995      287   \n",
              "2  http://us.imdb.com/M/title-exact?Toy%20Story%2...          1995      148   \n",
              "3  http://us.imdb.com/M/title-exact?Toy%20Story%2...          1995      280   \n",
              "4  http://us.imdb.com/M/title-exact?Toy%20Story%2...          1995       66   \n",
              "\n",
              "   rating  timestamp  \n",
              "0       4  887736532  \n",
              "1       5  875334088  \n",
              "2       4  877019411  \n",
              "3       4  891700426  \n",
              "4       3  883601324  "
            ]
          },
          "metadata": {
            "tags": []
          },
          "execution_count": 17
        }
      ]
    },
    {
      "metadata": {
        "id": "Bbd5mOzcBHKs",
        "colab_type": "text"
      },
      "cell_type": "markdown",
      "source": [
        "# DATA preprocessing\n",
        "* 데이터를 잘 이해하기 위해\n",
        "\n",
        "1. 유저의 수\n",
        "2. 아이템의 수\n",
        "3. 점수의 분포\n",
        "4. 각각 영화의 유명도"
      ]
    },
    {
      "metadata": {
        "id": "RYhK136H_RJm",
        "colab_type": "code",
        "colab": {
          "base_uri": "https://localhost:8080/",
          "height": 53
        },
        "outputId": "6bbef0dd-1480-4d57-f2c1-986e88201fe2"
      },
      "cell_type": "code",
      "source": [
        "max_user_id = all_ratings[\"user_id\"].max()\n",
        "print(max_user_id)\n",
        "max_item_id = all_ratings[\"item_id\"].max()\n",
        "print(max_item_id)"
      ],
      "execution_count": 18,
      "outputs": [
        {
          "output_type": "stream",
          "text": [
            "943\n",
            "1682\n"
          ],
          "name": "stdout"
        }
      ]
    },
    {
      "metadata": {
        "id": "_H3hrLsc_RMn",
        "colab_type": "code",
        "colab": {
          "base_uri": "https://localhost:8080/",
          "height": 179
        },
        "outputId": "5fcf8724-cd97-42c1-9ee7-cb7ea45f8658"
      },
      "cell_type": "code",
      "source": [
        "all_ratings[\"rating\"].describe()"
      ],
      "execution_count": 19,
      "outputs": [
        {
          "output_type": "execute_result",
          "data": {
            "text/plain": [
              "count    100000.000000\n",
              "mean          3.529860\n",
              "std           1.125674\n",
              "min           1.000000\n",
              "25%           3.000000\n",
              "50%           4.000000\n",
              "75%           4.000000\n",
              "max           5.000000\n",
              "Name: rating, dtype: float64"
            ]
          },
          "metadata": {
            "tags": []
          },
          "execution_count": 19
        }
      ]
    },
    {
      "metadata": {
        "id": "wn4pweRFCLMH",
        "colab_type": "code",
        "colab": {
          "base_uri": "https://localhost:8080/",
          "height": 143
        },
        "outputId": "a3445a48-9f16-4146-de3e-ece1376a8310"
      },
      "cell_type": "code",
      "source": [
        "all_ratings.groupby(\"item_id\").size().head()"
      ],
      "execution_count": 24,
      "outputs": [
        {
          "output_type": "execute_result",
          "data": {
            "text/plain": [
              "item_id\n",
              "1    452\n",
              "2    131\n",
              "3     90\n",
              "4    209\n",
              "5     86\n",
              "dtype: int64"
            ]
          },
          "metadata": {
            "tags": []
          },
          "execution_count": 24
        }
      ]
    },
    {
      "metadata": {
        "id": "C832SayL_RP3",
        "colab_type": "code",
        "colab": {
          "base_uri": "https://localhost:8080/",
          "height": 204
        },
        "outputId": "fd100a30-468c-40c9-d985-f6935576a59c"
      },
      "cell_type": "code",
      "source": [
        "popularity = all_ratings.groupby(\"item_id\").size().reset_index(name=\"popularity\")\n",
        "items = pd.merge(popularity , items)\n",
        "items.head()"
      ],
      "execution_count": 22,
      "outputs": [
        {
          "output_type": "execute_result",
          "data": {
            "text/html": [
              "<div>\n",
              "<style scoped>\n",
              "    .dataframe tbody tr th:only-of-type {\n",
              "        vertical-align: middle;\n",
              "    }\n",
              "\n",
              "    .dataframe tbody tr th {\n",
              "        vertical-align: top;\n",
              "    }\n",
              "\n",
              "    .dataframe thead th {\n",
              "        text-align: right;\n",
              "    }\n",
              "</style>\n",
              "<table border=\"1\" class=\"dataframe\">\n",
              "  <thead>\n",
              "    <tr style=\"text-align: right;\">\n",
              "      <th></th>\n",
              "      <th>item_id</th>\n",
              "      <th>popularity</th>\n",
              "      <th>title</th>\n",
              "      <th>release_date</th>\n",
              "      <th>video_release_date</th>\n",
              "      <th>imdb_url</th>\n",
              "      <th>release_year</th>\n",
              "    </tr>\n",
              "  </thead>\n",
              "  <tbody>\n",
              "    <tr>\n",
              "      <th>0</th>\n",
              "      <td>1</td>\n",
              "      <td>452</td>\n",
              "      <td>Toy Story (1995)</td>\n",
              "      <td>01-Jan-1995</td>\n",
              "      <td>NaN</td>\n",
              "      <td>http://us.imdb.com/M/title-exact?Toy%20Story%2...</td>\n",
              "      <td>1995</td>\n",
              "    </tr>\n",
              "    <tr>\n",
              "      <th>1</th>\n",
              "      <td>2</td>\n",
              "      <td>131</td>\n",
              "      <td>GoldenEye (1995)</td>\n",
              "      <td>01-Jan-1995</td>\n",
              "      <td>NaN</td>\n",
              "      <td>http://us.imdb.com/M/title-exact?GoldenEye%20(...</td>\n",
              "      <td>1995</td>\n",
              "    </tr>\n",
              "    <tr>\n",
              "      <th>2</th>\n",
              "      <td>3</td>\n",
              "      <td>90</td>\n",
              "      <td>Four Rooms (1995)</td>\n",
              "      <td>01-Jan-1995</td>\n",
              "      <td>NaN</td>\n",
              "      <td>http://us.imdb.com/M/title-exact?Four%20Rooms%...</td>\n",
              "      <td>1995</td>\n",
              "    </tr>\n",
              "    <tr>\n",
              "      <th>3</th>\n",
              "      <td>4</td>\n",
              "      <td>209</td>\n",
              "      <td>Get Shorty (1995)</td>\n",
              "      <td>01-Jan-1995</td>\n",
              "      <td>NaN</td>\n",
              "      <td>http://us.imdb.com/M/title-exact?Get%20Shorty%...</td>\n",
              "      <td>1995</td>\n",
              "    </tr>\n",
              "    <tr>\n",
              "      <th>4</th>\n",
              "      <td>5</td>\n",
              "      <td>86</td>\n",
              "      <td>Copycat (1995)</td>\n",
              "      <td>01-Jan-1995</td>\n",
              "      <td>NaN</td>\n",
              "      <td>http://us.imdb.com/M/title-exact?Copycat%20(1995)</td>\n",
              "      <td>1995</td>\n",
              "    </tr>\n",
              "  </tbody>\n",
              "</table>\n",
              "</div>"
            ],
            "text/plain": [
              "   item_id  popularity              title release_date  video_release_date  \\\n",
              "0        1         452   Toy Story (1995)  01-Jan-1995                 NaN   \n",
              "1        2         131   GoldenEye (1995)  01-Jan-1995                 NaN   \n",
              "2        3          90  Four Rooms (1995)  01-Jan-1995                 NaN   \n",
              "3        4         209  Get Shorty (1995)  01-Jan-1995                 NaN   \n",
              "4        5          86     Copycat (1995)  01-Jan-1995                 NaN   \n",
              "\n",
              "                                            imdb_url  release_year  \n",
              "0  http://us.imdb.com/M/title-exact?Toy%20Story%2...          1995  \n",
              "1  http://us.imdb.com/M/title-exact?GoldenEye%20(...          1995  \n",
              "2  http://us.imdb.com/M/title-exact?Four%20Rooms%...          1995  \n",
              "3  http://us.imdb.com/M/title-exact?Get%20Shorty%...          1995  \n",
              "4  http://us.imdb.com/M/title-exact?Copycat%20(1995)          1995  "
            ]
          },
          "metadata": {
            "tags": []
          },
          "execution_count": 22
        }
      ]
    },
    {
      "metadata": {
        "id": "rv_FDq9W_RTF",
        "colab_type": "code",
        "colab": {
          "base_uri": "https://localhost:8080/",
          "height": 359
        },
        "outputId": "7fc3434d-2448-41a5-d67f-917dbf92ebd6"
      },
      "cell_type": "code",
      "source": [
        "items.nlargest(10,\"popularity\")"
      ],
      "execution_count": 23,
      "outputs": [
        {
          "output_type": "execute_result",
          "data": {
            "text/html": [
              "<div>\n",
              "<style scoped>\n",
              "    .dataframe tbody tr th:only-of-type {\n",
              "        vertical-align: middle;\n",
              "    }\n",
              "\n",
              "    .dataframe tbody tr th {\n",
              "        vertical-align: top;\n",
              "    }\n",
              "\n",
              "    .dataframe thead th {\n",
              "        text-align: right;\n",
              "    }\n",
              "</style>\n",
              "<table border=\"1\" class=\"dataframe\">\n",
              "  <thead>\n",
              "    <tr style=\"text-align: right;\">\n",
              "      <th></th>\n",
              "      <th>item_id</th>\n",
              "      <th>popularity</th>\n",
              "      <th>title</th>\n",
              "      <th>release_date</th>\n",
              "      <th>video_release_date</th>\n",
              "      <th>imdb_url</th>\n",
              "      <th>release_year</th>\n",
              "    </tr>\n",
              "  </thead>\n",
              "  <tbody>\n",
              "    <tr>\n",
              "      <th>49</th>\n",
              "      <td>50</td>\n",
              "      <td>583</td>\n",
              "      <td>Star Wars (1977)</td>\n",
              "      <td>01-Jan-1977</td>\n",
              "      <td>NaN</td>\n",
              "      <td>http://us.imdb.com/M/title-exact?Star%20Wars%2...</td>\n",
              "      <td>1977</td>\n",
              "    </tr>\n",
              "    <tr>\n",
              "      <th>257</th>\n",
              "      <td>258</td>\n",
              "      <td>509</td>\n",
              "      <td>Contact (1997)</td>\n",
              "      <td>11-Jul-1997</td>\n",
              "      <td>NaN</td>\n",
              "      <td>http://us.imdb.com/Title?Contact+(1997/I)</td>\n",
              "      <td>1997</td>\n",
              "    </tr>\n",
              "    <tr>\n",
              "      <th>99</th>\n",
              "      <td>100</td>\n",
              "      <td>508</td>\n",
              "      <td>Fargo (1996)</td>\n",
              "      <td>14-Feb-1997</td>\n",
              "      <td>NaN</td>\n",
              "      <td>http://us.imdb.com/M/title-exact?Fargo%20(1996)</td>\n",
              "      <td>1997</td>\n",
              "    </tr>\n",
              "    <tr>\n",
              "      <th>180</th>\n",
              "      <td>181</td>\n",
              "      <td>507</td>\n",
              "      <td>Return of the Jedi (1983)</td>\n",
              "      <td>14-Mar-1997</td>\n",
              "      <td>NaN</td>\n",
              "      <td>http://us.imdb.com/M/title-exact?Return%20of%2...</td>\n",
              "      <td>1997</td>\n",
              "    </tr>\n",
              "    <tr>\n",
              "      <th>293</th>\n",
              "      <td>294</td>\n",
              "      <td>485</td>\n",
              "      <td>Liar Liar (1997)</td>\n",
              "      <td>21-Mar-1997</td>\n",
              "      <td>NaN</td>\n",
              "      <td>http://us.imdb.com/Title?Liar+Liar+(1997)</td>\n",
              "      <td>1997</td>\n",
              "    </tr>\n",
              "    <tr>\n",
              "      <th>285</th>\n",
              "      <td>286</td>\n",
              "      <td>481</td>\n",
              "      <td>English Patient, The (1996)</td>\n",
              "      <td>15-Nov-1996</td>\n",
              "      <td>NaN</td>\n",
              "      <td>http://us.imdb.com/M/title-exact?English%20Pat...</td>\n",
              "      <td>1996</td>\n",
              "    </tr>\n",
              "    <tr>\n",
              "      <th>287</th>\n",
              "      <td>288</td>\n",
              "      <td>478</td>\n",
              "      <td>Scream (1996)</td>\n",
              "      <td>20-Dec-1996</td>\n",
              "      <td>NaN</td>\n",
              "      <td>http://us.imdb.com/M/title-exact?Scream%20(1996)</td>\n",
              "      <td>1996</td>\n",
              "    </tr>\n",
              "    <tr>\n",
              "      <th>0</th>\n",
              "      <td>1</td>\n",
              "      <td>452</td>\n",
              "      <td>Toy Story (1995)</td>\n",
              "      <td>01-Jan-1995</td>\n",
              "      <td>NaN</td>\n",
              "      <td>http://us.imdb.com/M/title-exact?Toy%20Story%2...</td>\n",
              "      <td>1995</td>\n",
              "    </tr>\n",
              "    <tr>\n",
              "      <th>299</th>\n",
              "      <td>300</td>\n",
              "      <td>431</td>\n",
              "      <td>Air Force One (1997)</td>\n",
              "      <td>01-Jan-1997</td>\n",
              "      <td>NaN</td>\n",
              "      <td>http://us.imdb.com/M/title-exact?Air+Force+One...</td>\n",
              "      <td>1997</td>\n",
              "    </tr>\n",
              "    <tr>\n",
              "      <th>120</th>\n",
              "      <td>121</td>\n",
              "      <td>429</td>\n",
              "      <td>Independence Day (ID4) (1996)</td>\n",
              "      <td>03-Jul-1996</td>\n",
              "      <td>NaN</td>\n",
              "      <td>http://us.imdb.com/M/title-exact?Independence%...</td>\n",
              "      <td>1996</td>\n",
              "    </tr>\n",
              "  </tbody>\n",
              "</table>\n",
              "</div>"
            ],
            "text/plain": [
              "     item_id  popularity                          title release_date  \\\n",
              "49        50         583               Star Wars (1977)  01-Jan-1977   \n",
              "257      258         509                 Contact (1997)  11-Jul-1997   \n",
              "99       100         508                   Fargo (1996)  14-Feb-1997   \n",
              "180      181         507      Return of the Jedi (1983)  14-Mar-1997   \n",
              "293      294         485               Liar Liar (1997)  21-Mar-1997   \n",
              "285      286         481    English Patient, The (1996)  15-Nov-1996   \n",
              "287      288         478                  Scream (1996)  20-Dec-1996   \n",
              "0          1         452               Toy Story (1995)  01-Jan-1995   \n",
              "299      300         431           Air Force One (1997)  01-Jan-1997   \n",
              "120      121         429  Independence Day (ID4) (1996)  03-Jul-1996   \n",
              "\n",
              "     video_release_date                                           imdb_url  \\\n",
              "49                  NaN  http://us.imdb.com/M/title-exact?Star%20Wars%2...   \n",
              "257                 NaN          http://us.imdb.com/Title?Contact+(1997/I)   \n",
              "99                  NaN    http://us.imdb.com/M/title-exact?Fargo%20(1996)   \n",
              "180                 NaN  http://us.imdb.com/M/title-exact?Return%20of%2...   \n",
              "293                 NaN          http://us.imdb.com/Title?Liar+Liar+(1997)   \n",
              "285                 NaN  http://us.imdb.com/M/title-exact?English%20Pat...   \n",
              "287                 NaN   http://us.imdb.com/M/title-exact?Scream%20(1996)   \n",
              "0                   NaN  http://us.imdb.com/M/title-exact?Toy%20Story%2...   \n",
              "299                 NaN  http://us.imdb.com/M/title-exact?Air+Force+One...   \n",
              "120                 NaN  http://us.imdb.com/M/title-exact?Independence%...   \n",
              "\n",
              "     release_year  \n",
              "49           1977  \n",
              "257          1997  \n",
              "99           1997  \n",
              "180          1997  \n",
              "293          1997  \n",
              "285          1996  \n",
              "287          1996  \n",
              "0            1995  \n",
              "299          1997  \n",
              "120          1996  "
            ]
          },
          "metadata": {
            "tags": []
          },
          "execution_count": 23
        }
      ]
    },
    {
      "metadata": {
        "id": "LCJHEkCS_RWH",
        "colab_type": "code",
        "colab": {
          "base_uri": "https://localhost:8080/",
          "height": 204
        },
        "outputId": "cee20d46-8628-4931-d2c2-6f7b4f20262a"
      },
      "cell_type": "code",
      "source": [
        "all_ratings = pd.merge(popularity, all_ratings)\n",
        "all_ratings.head()"
      ],
      "execution_count": 25,
      "outputs": [
        {
          "output_type": "execute_result",
          "data": {
            "text/html": [
              "<div>\n",
              "<style scoped>\n",
              "    .dataframe tbody tr th:only-of-type {\n",
              "        vertical-align: middle;\n",
              "    }\n",
              "\n",
              "    .dataframe tbody tr th {\n",
              "        vertical-align: top;\n",
              "    }\n",
              "\n",
              "    .dataframe thead th {\n",
              "        text-align: right;\n",
              "    }\n",
              "</style>\n",
              "<table border=\"1\" class=\"dataframe\">\n",
              "  <thead>\n",
              "    <tr style=\"text-align: right;\">\n",
              "      <th></th>\n",
              "      <th>item_id</th>\n",
              "      <th>popularity</th>\n",
              "      <th>title</th>\n",
              "      <th>release_date</th>\n",
              "      <th>video_release_date</th>\n",
              "      <th>imdb_url</th>\n",
              "      <th>release_year</th>\n",
              "      <th>user_id</th>\n",
              "      <th>rating</th>\n",
              "      <th>timestamp</th>\n",
              "    </tr>\n",
              "  </thead>\n",
              "  <tbody>\n",
              "    <tr>\n",
              "      <th>0</th>\n",
              "      <td>1</td>\n",
              "      <td>452</td>\n",
              "      <td>Toy Story (1995)</td>\n",
              "      <td>01-Jan-1995</td>\n",
              "      <td>NaN</td>\n",
              "      <td>http://us.imdb.com/M/title-exact?Toy%20Story%2...</td>\n",
              "      <td>1995</td>\n",
              "      <td>308</td>\n",
              "      <td>4</td>\n",
              "      <td>887736532</td>\n",
              "    </tr>\n",
              "    <tr>\n",
              "      <th>1</th>\n",
              "      <td>1</td>\n",
              "      <td>452</td>\n",
              "      <td>Toy Story (1995)</td>\n",
              "      <td>01-Jan-1995</td>\n",
              "      <td>NaN</td>\n",
              "      <td>http://us.imdb.com/M/title-exact?Toy%20Story%2...</td>\n",
              "      <td>1995</td>\n",
              "      <td>287</td>\n",
              "      <td>5</td>\n",
              "      <td>875334088</td>\n",
              "    </tr>\n",
              "    <tr>\n",
              "      <th>2</th>\n",
              "      <td>1</td>\n",
              "      <td>452</td>\n",
              "      <td>Toy Story (1995)</td>\n",
              "      <td>01-Jan-1995</td>\n",
              "      <td>NaN</td>\n",
              "      <td>http://us.imdb.com/M/title-exact?Toy%20Story%2...</td>\n",
              "      <td>1995</td>\n",
              "      <td>148</td>\n",
              "      <td>4</td>\n",
              "      <td>877019411</td>\n",
              "    </tr>\n",
              "    <tr>\n",
              "      <th>3</th>\n",
              "      <td>1</td>\n",
              "      <td>452</td>\n",
              "      <td>Toy Story (1995)</td>\n",
              "      <td>01-Jan-1995</td>\n",
              "      <td>NaN</td>\n",
              "      <td>http://us.imdb.com/M/title-exact?Toy%20Story%2...</td>\n",
              "      <td>1995</td>\n",
              "      <td>280</td>\n",
              "      <td>4</td>\n",
              "      <td>891700426</td>\n",
              "    </tr>\n",
              "    <tr>\n",
              "      <th>4</th>\n",
              "      <td>1</td>\n",
              "      <td>452</td>\n",
              "      <td>Toy Story (1995)</td>\n",
              "      <td>01-Jan-1995</td>\n",
              "      <td>NaN</td>\n",
              "      <td>http://us.imdb.com/M/title-exact?Toy%20Story%2...</td>\n",
              "      <td>1995</td>\n",
              "      <td>66</td>\n",
              "      <td>3</td>\n",
              "      <td>883601324</td>\n",
              "    </tr>\n",
              "  </tbody>\n",
              "</table>\n",
              "</div>"
            ],
            "text/plain": [
              "   item_id  popularity             title release_date  video_release_date  \\\n",
              "0        1         452  Toy Story (1995)  01-Jan-1995                 NaN   \n",
              "1        1         452  Toy Story (1995)  01-Jan-1995                 NaN   \n",
              "2        1         452  Toy Story (1995)  01-Jan-1995                 NaN   \n",
              "3        1         452  Toy Story (1995)  01-Jan-1995                 NaN   \n",
              "4        1         452  Toy Story (1995)  01-Jan-1995                 NaN   \n",
              "\n",
              "                                            imdb_url  release_year  user_id  \\\n",
              "0  http://us.imdb.com/M/title-exact?Toy%20Story%2...          1995      308   \n",
              "1  http://us.imdb.com/M/title-exact?Toy%20Story%2...          1995      287   \n",
              "2  http://us.imdb.com/M/title-exact?Toy%20Story%2...          1995      148   \n",
              "3  http://us.imdb.com/M/title-exact?Toy%20Story%2...          1995      280   \n",
              "4  http://us.imdb.com/M/title-exact?Toy%20Story%2...          1995       66   \n",
              "\n",
              "   rating  timestamp  \n",
              "0       4  887736532  \n",
              "1       5  875334088  \n",
              "2       4  877019411  \n",
              "3       4  891700426  \n",
              "4       3  883601324  "
            ]
          },
          "metadata": {
            "tags": []
          },
          "execution_count": 25
        }
      ]
    },
    {
      "metadata": {
        "id": "5VVzin7wES4_",
        "colab_type": "code",
        "colab": {}
      },
      "cell_type": "code",
      "source": [
        "from sklearn.model_selection import train_test_split\n",
        "\n",
        "ratings_train, ratings_test = train_test_split(\n",
        "    all_ratings, test_size=0.2, random_state=0)\n",
        "\n",
        "user_id_train = ratings_train['user_id']\n",
        "item_id_train = ratings_train['item_id']\n",
        "rating_train = ratings_train['rating']\n",
        "\n",
        "user_id_test = ratings_test['user_id']\n",
        "item_id_test = ratings_test['item_id']\n",
        "rating_test = ratings_test['rating']"
      ],
      "execution_count": 0,
      "outputs": []
    },
    {
      "metadata": {
        "id": "KV9C0draCata",
        "colab_type": "text"
      },
      "cell_type": "markdown",
      "source": [
        "# 명쾌한 피드백 : 지도학습으로 가르친 ratings prediction\n",
        "\n",
        "# regression problem"
      ]
    },
    {
      "metadata": {
        "id": "Uo40AUiC_RZg",
        "colab_type": "code",
        "colab": {}
      },
      "cell_type": "code",
      "source": [
        "from tensorflow.contrib import keras\n",
        "from keras.layers import Input, Embedding, Flatten, Dense, Dropout\n",
        "from keras.layers import Dot\n",
        "from keras.models import Model"
      ],
      "execution_count": 0,
      "outputs": []
    },
    {
      "metadata": {
        "id": "UIf0kzcW_RcS",
        "colab_type": "code",
        "colab": {}
      },
      "cell_type": "code",
      "source": [
        "user_id_input = Input(shape=[1], name=\"user\")\n",
        "item_id_input = Input(shape=[1], name=\"item\")\n",
        "\n",
        "embedding_size=30\n",
        "user_embedding = Embedding(output_dim = embedding_size, input_dim = max_user_id + 1 , \n",
        "                          input_length=1, name=\"user_embedding\")(user_id_input)\n",
        "\n",
        "item_embedding = Embedding(output_dim = embedding_size, input_dim = max_item_id +1 , \n",
        "                         input_length=1 , name=\"item_embedding\")(item_id_input)\n",
        "\n",
        "\n",
        "# reshape (batch_size , input_length , embedding_size)\n",
        "# to shape ( batch_size, input_length * embedding_size ) = (bath_size, embedding_size)\n",
        "\n",
        "user_vecs = Flatten()(user_embedding)\n",
        "item_vecs = Flatten()(item_embedding)\n",
        "\n",
        "y= Dot(axes=1)([user_vecs, item_vecs])\n",
        "\n",
        "model = Model(inputs=[user_id_input, item_id_input], outputs= y)\n",
        "model.compile(optimizer=\"adam\", loss=\"mae\")"
      ],
      "execution_count": 0,
      "outputs": []
    },
    {
      "metadata": {
        "id": "GgoT7ITo_Rfa",
        "colab_type": "code",
        "colab": {
          "base_uri": "https://localhost:8080/",
          "height": 35
        },
        "outputId": "9f884ca4-e495-4d42-87c7-2726c37e282e"
      },
      "cell_type": "code",
      "source": [
        "\n",
        "# Useful for debugging the output shape of model# Usefu \n",
        "initial_train_preds = model.predict([user_id_train, item_id_train])\n",
        "initial_train_preds.shape"
      ],
      "execution_count": 37,
      "outputs": [
        {
          "output_type": "execute_result",
          "data": {
            "text/plain": [
              "(80000, 1)"
            ]
          },
          "metadata": {
            "tags": []
          },
          "execution_count": 37
        }
      ]
    },
    {
      "metadata": {
        "id": "X72b1RSUEhpG",
        "colab_type": "text"
      },
      "cell_type": "markdown",
      "source": [
        "# Model error\n",
        "initial_train_preds \n",
        "* mean absolute error\n",
        "* mean squared error\n",
        "\n",
        "원래는 pandas series 를 numpy로 옮겨야 하지만 **rating_train.values** 를 사용하면 명쾌하게 이부분은 해결 된다.  \n",
        "**object.shape**를 사용하여 각각의 shape를 계속 체크해야한다.\n",
        "\n",
        "# Monitoring runs\n",
        "\n",
        "keras 는 training 동안 다양한 변수가 잘되는지 감시 할 수 있다.  \n",
        "\n",
        "history.history 는 mdel.fit 함수로 loss 를 포함한다. val_loss 는 validation_loss 이다 . "
      ]
    },
    {
      "metadata": {
        "id": "lGZyOLXCEeUW",
        "colab_type": "code",
        "colab": {
          "base_uri": "https://localhost:8080/",
          "height": 431
        },
        "outputId": "a87c9049-20df-4358-e28b-1c9f799dca24"
      },
      "cell_type": "code",
      "source": [
        "%%time\n",
        "\n",
        "history=model.fit([user_id_train, item_id_train], rating_train, batch_size=64 , epochs=10, validation_split=0.1, shuffle=True)"
      ],
      "execution_count": 39,
      "outputs": [
        {
          "output_type": "stream",
          "text": [
            "Train on 72000 samples, validate on 8000 samples\n",
            "Epoch 1/10\n",
            "72000/72000 [==============================] - 6s 86us/step - loss: 2.9187 - val_loss: 1.3342\n",
            "Epoch 2/10\n",
            "72000/72000 [==============================] - 6s 87us/step - loss: 0.9659 - val_loss: 0.8323\n",
            "Epoch 3/10\n",
            "72000/72000 [==============================] - 6s 87us/step - loss: 0.7788 - val_loss: 0.7809\n",
            "Epoch 4/10\n",
            "25664/72000 [=========>....................] - ETA: 3s - loss: 0.7428"
          ],
          "name": "stdout"
        },
        {
          "output_type": "stream",
          "text": [
            "72000/72000 [==============================] - 6s 86us/step - loss: 0.7445 - val_loss: 0.7654\n",
            "Epoch 5/10\n",
            "72000/72000 [==============================] - 6s 86us/step - loss: 0.7297 - val_loss: 0.7570\n",
            "Epoch 6/10\n",
            "72000/72000 [==============================] - 6s 87us/step - loss: 0.7193 - val_loss: 0.7509\n",
            "Epoch 7/10\n",
            "68992/72000 [===========================>..] - ETA: 0s - loss: 0.7101"
          ],
          "name": "stdout"
        },
        {
          "output_type": "stream",
          "text": [
            "72000/72000 [==============================] - 6s 86us/step - loss: 0.7103 - val_loss: 0.7460\n",
            "Epoch 8/10\n",
            "72000/72000 [==============================] - 6s 87us/step - loss: 0.7015 - val_loss: 0.7466\n",
            "Epoch 9/10\n",
            "72000/72000 [==============================] - 6s 86us/step - loss: 0.6923 - val_loss: 0.7401\n",
            "Epoch 10/10\n",
            "72000/72000 [==============================] - 6s 86us/step - loss: 0.6837 - val_loss: 0.7378\n",
            "CPU times: user 1min 13s, sys: 15.5 s, total: 1min 29s\n",
            "Wall time: 1min 2s\n"
          ],
          "name": "stdout"
        }
      ]
    },
    {
      "metadata": {
        "id": "yvUIb9S-_RiH",
        "colab_type": "code",
        "colab": {
          "base_uri": "https://localhost:8080/",
          "height": 280
        },
        "outputId": "9f3b7140-b2fa-42e7-9042-56932921be21"
      },
      "cell_type": "code",
      "source": [
        "plt.plot(history.history['loss'], label='train')\n",
        "plt.plot(history.history['val_loss'], label='validation')\n",
        "plt.ylim(0, 2)\n",
        "plt.legend(loc='best')\n",
        "plt.title('Loss');\n"
      ],
      "execution_count": 40,
      "outputs": [
        {
          "output_type": "display_data",
          "data": {
            "image/png": "[encoded data removed]",
            "text/plain": [
              "<matplotlib.figure.Figure at 0x7fa880d17f60>"
            ]
          },
          "metadata": {
            "tags": []
          }
        }
      ]
    },
    {
      "metadata": {
        "id": "u3FP-UCZFjOM",
        "colab_type": "text"
      },
      "cell_type": "markdown",
      "source": [
        "## Questions? \n",
        "* 왜  처음 몇번의 epoch는 train loss가 더 높을까?\n",
        "* 왜 케라스는 각각의 epoch 끝에 full training 에서의 training loss를 구하지 않을까?"
      ]
    },
    {
      "metadata": {
        "id": "Lc45tUwNFisk",
        "colab_type": "code",
        "colab": {
          "base_uri": "https://localhost:8080/",
          "height": 53
        },
        "outputId": "e8ce4ff7-9fa2-4a44-b736-8f0910df245d"
      },
      "cell_type": "code",
      "source": [
        "\n",
        "from  sklearn.metrics  import mean_squared_error\n",
        "from sklearn.metrics import mean_absolute_error\n",
        "\n",
        "test_preds = model.predict([user_id_test, item_id_test])\n",
        "print(\"Final test MSE: %0.3f\" % mean_squared_error(test_preds, rating_test))\n",
        "print(\"Final test MAE: %0.3f\" % mean_absolute_error(test_preds, rating_test))"
      ],
      "execution_count": 43,
      "outputs": [
        {
          "output_type": "stream",
          "text": [
            "Final test MSE: 0.915\n",
            "Final test MAE: 0.733\n"
          ],
          "name": "stdout"
        }
      ]
    },
    {
      "metadata": {
        "id": "ZFbNte-n_RlG",
        "colab_type": "code",
        "colab": {
          "base_uri": "https://localhost:8080/",
          "height": 53
        },
        "outputId": "ddcbedd5-5af9-4e49-ab10-11434f6ad715"
      },
      "cell_type": "code",
      "source": [
        "train_preds = model.predict([user_id_train, item_id_train])\n",
        "print(\"Final train MSE: %0.3f\" % mean_squared_error(train_preds, rating_train))\n",
        "print(\"Final train MAE: %0.3f\" % mean_absolute_error(train_preds, rating_train))"
      ],
      "execution_count": 44,
      "outputs": [
        {
          "output_type": "stream",
          "text": [
            "Final train MSE: 0.787\n",
            "Final train MAE: 0.668\n"
          ],
          "name": "stdout"
        }
      ]
    },
    {
      "metadata": {
        "id": "Nc18j5yQGMpi",
        "colab_type": "text"
      },
      "cell_type": "markdown",
      "source": [
        "위에선 fully conneted 에 대한 것을 구해봤다."
      ]
    },
    {
      "metadata": {
        "id": "g-OR-IGA_RoC",
        "colab_type": "code",
        "colab": {}
      },
      "cell_type": "code",
      "source": [
        "from keras.layers import Concatenate"
      ],
      "execution_count": 0,
      "outputs": []
    },
    {
      "metadata": {
        "id": "hsLmMrbV_Rq4",
        "colab_type": "code",
        "colab": {}
      },
      "cell_type": "code",
      "source": [
        "user_id_input = Input(shape=[1], name='user')\n",
        "item_id_input = Input(shape=[1], name='item')\n",
        "\n",
        "embedding_size = 30\n",
        "model1 = Sequential()\n",
        "model2 = Sequential()\n",
        "user_embedding = Embedding(output_dim=embedding_size, input_dim=max_user_id + 1,\n",
        "                           input_length=1, name='user_embedding')(user_id_input)\n",
        "item_embedding = Embedding(output_dim=embedding_size, input_dim=max_item_id + 1,\n",
        "                           input_length=1, name='item_embedding')(item_id_input)\n",
        "\n",
        "# reshape from shape: (batch_size, input_length, embedding_size)\n",
        "# to shape: (batch_size, input_length * embedding_size) which is\n",
        "# equal to shape: (batch_size, embedding_size)\n",
        "user_vecs = Flatten()(user_embedding)\n",
        "item_vecs = Flatten()(item_embedding)\n",
        "\n",
        "input_vecs = Concatenate()([user_vecs, item_vecs])\n",
        "## Error 1: Dropout was too high, preventing any training\n",
        "input_vecs = Dropout(0.5)(input_vecs)\n",
        "\n",
        "x = Dense(64, activation='relu')(input_vecs)\n",
        "\n",
        "## Error 2: output dimension was 2 where we predict only 1-d rating\n",
        "## Error 3: tanh activation squashes the outputs between -1 and 1\n",
        "## when we want to predict values between 1 and 5\n",
        "y = Dense(1)(x)\n",
        "\n",
        "model = Model(inputs=[user_id_input, item_id_input], outputs=y)\n",
        "## Error 4: A binary crossentropy loss is only useful for binary\n",
        "## classification, while we are in regression (use mse or mae)\n",
        "model.compile(optimizer='adam', loss='mae')\n",
        "\n",
        "initial_train_preds = model.predict([user_id_train, item_id_train])"
      ],
      "execution_count": 0,
      "outputs": []
    },
    {
      "metadata": {
        "id": "xT30fEMuGgcr",
        "colab_type": "code",
        "colab": {
          "base_uri": "https://localhost:8080/",
          "height": 251
        },
        "outputId": "f3243b92-c8f9-4cf0-a66e-d063b77a6600"
      },
      "cell_type": "code",
      "source": [
        "%%time\n",
        "history = model.fit([user_id_train, item_id_train], rating_train,\n",
        "                    batch_size=64, epochs=5, validation_split=0.1,\n",
        "                    shuffle=True)"
      ],
      "execution_count": 48,
      "outputs": [
        {
          "output_type": "stream",
          "text": [
            "Train on 72000 samples, validate on 8000 samples\n",
            "Epoch 1/5\n",
            "72000/72000 [==============================] - 9s 119us/step - loss: 1.0171 - val_loss: 0.7590\n",
            "Epoch 2/5\n",
            "72000/72000 [==============================] - 8s 116us/step - loss: 0.7541 - val_loss: 0.7443\n",
            "Epoch 3/5\n",
            "65088/72000 [==========================>...] - ETA: 0s - loss: 0.7374"
          ],
          "name": "stdout"
        },
        {
          "output_type": "stream",
          "text": [
            "72000/72000 [==============================] - 8s 114us/step - loss: 0.7383 - val_loss: 0.7389\n",
            "Epoch 4/5\n",
            "72000/72000 [==============================] - 8s 113us/step - loss: 0.7302 - val_loss: 0.7371\n",
            "Epoch 5/5\n",
            "72000/72000 [==============================] - 8s 114us/step - loss: 0.7239 - val_loss: 0.7313\n",
            "CPU times: user 45.6 s, sys: 10.5 s, total: 56.1 s\n",
            "Wall time: 41.9 s\n"
          ],
          "name": "stdout"
        }
      ]
    },
    {
      "metadata": {
        "id": "IWc1QkhRGggD",
        "colab_type": "code",
        "colab": {
          "base_uri": "https://localhost:8080/",
          "height": 280
        },
        "outputId": "aaf16726-7648-441b-abd9-98618c6b7218"
      },
      "cell_type": "code",
      "source": [
        "plt.plot(history.history['loss'], label='train')\n",
        "plt.plot(history.history['val_loss'], label='validation')\n",
        "plt.ylim(0, 2)\n",
        "plt.legend(loc='best')\n",
        "plt.title('Loss');"
      ],
      "execution_count": 49,
      "outputs": [
        {
          "output_type": "display_data",
          "data": {
            "image/png": "[encoded data removed]",
            "text/plain": [
              "<matplotlib.figure.Figure at 0x7fa880d04f60>"
            ]
          },
          "metadata": {
            "tags": []
          }
        }
      ]
    },
    {
      "metadata": {
        "id": "tCjo3hvCGgi_",
        "colab_type": "code",
        "colab": {
          "base_uri": "https://localhost:8080/",
          "height": 53
        },
        "outputId": "0d61246b-5b50-4753-d96d-cb324d5d793b"
      },
      "cell_type": "code",
      "source": [
        "\n",
        "train_predstrain_p  = model.predict([user_id_train, item_id_train])\n",
        "print(\"Final train MSE: %0.3f\" % mean_squared_error(train_preds, rating_train))\n",
        "print(\"Final train MAE: %0.3f\" % mean_absolute_error(train_preds, rating_train))"
      ],
      "execution_count": 50,
      "outputs": [
        {
          "output_type": "stream",
          "text": [
            "Final train MSE: 0.787\n",
            "Final train MAE: 0.668\n"
          ],
          "name": "stdout"
        }
      ]
    },
    {
      "metadata": {
        "id": "F1-iNSOgGglj",
        "colab_type": "code",
        "colab": {
          "base_uri": "https://localhost:8080/",
          "height": 53
        },
        "outputId": "9f49802a-db05-4a01-8169-1a64b970860a"
      },
      "cell_type": "code",
      "source": [
        "\n",
        "test_predstest_pr  = model.predict([user_id_test, item_id_test])\n",
        "print(\"Final test MSE: %0.3f\" % mean_squared_error(test_preds, rating_test))\n",
        "print(\"Final test MAE: %0.3f\" % mean_absolute_error(test_preds, rating_test))"
      ],
      "execution_count": 51,
      "outputs": [
        {
          "output_type": "stream",
          "text": [
            "Final test MSE: 0.915\n",
            "Final test MAE: 0.733\n"
          ],
          "name": "stdout"
        }
      ]
    },
    {
      "metadata": {
        "id": "K5OzEUDJH5HX",
        "colab_type": "text"
      },
      "cell_type": "markdown",
      "source": [
        "## Model Embeddings\n",
        "* model.get_weights 를 이용하면 학습된 모든 파라미터를 가진 꺼내는 함수가 있다.\n",
        "* 그 가중치는 모델이 만들어 질 때 같은 순서를 같은 순서로 가지게 된다.\n"
      ]
    },
    {
      "metadata": {
        "id": "9js1rg7KGgoE",
        "colab_type": "code",
        "colab": {
          "base_uri": "https://localhost:8080/",
          "height": 521
        },
        "outputId": "864ffffc-41e8-43d7-8ac7-d7e9a48fab83"
      },
      "cell_type": "code",
      "source": [
        "model.summary()"
      ],
      "execution_count": 55,
      "outputs": [
        {
          "output_type": "stream",
          "text": [
            "__________________________________________________________________________________________________\n",
            "Layer (type)                    Output Shape         Param #     Connected to                     \n",
            "==================================================================================================\n",
            "user (InputLayer)               (None, 1)            0                                            \n",
            "__________________________________________________________________________________________________\n",
            "item (InputLayer)               (None, 1)            0                                            \n",
            "__________________________________________________________________________________________________\n",
            "user_embedding (Embedding)      (None, 1, 30)        28320       user[0][0]                       \n",
            "__________________________________________________________________________________________________\n",
            "item_embedding (Embedding)      (None, 1, 30)        50490       item[0][0]                       \n",
            "__________________________________________________________________________________________________\n",
            "flatten_15 (Flatten)            (None, 30)           0           user_embedding[0][0]             \n",
            "__________________________________________________________________________________________________\n",
            "flatten_16 (Flatten)            (None, 30)           0           item_embedding[0][0]             \n",
            "__________________________________________________________________________________________________\n",
            "concatenate_3 (Concatenate)     (None, 60)           0           flatten_15[0][0]                 \n",
            "                                                                 flatten_16[0][0]                 \n",
            "__________________________________________________________________________________________________\n",
            "dropout_3 (Dropout)             (None, 60)           0           concatenate_3[0][0]              \n",
            "__________________________________________________________________________________________________\n",
            "dense_5 (Dense)                 (None, 64)           3904        dropout_3[0][0]                  \n",
            "__________________________________________________________________________________________________\n",
            "dense_6 (Dense)                 (None, 1)            65          dense_5[0][0]                    \n",
            "==================================================================================================\n",
            "Total params: 82,779\n",
            "Trainable params: 82,779\n",
            "Non-trainable params: 0\n",
            "__________________________________________________________________________________________________\n"
          ],
          "name": "stdout"
        }
      ]
    },
    {
      "metadata": {
        "id": "h053Bf-jGgqu",
        "colab_type": "code",
        "colab": {
          "base_uri": "https://localhost:8080/",
          "height": 35
        },
        "outputId": "2530da24-26a5-4039-bb6a-0512327235ea"
      },
      "cell_type": "code",
      "source": [
        "weights = model.get_weights()\n",
        "[w.shape for w in weights]"
      ],
      "execution_count": 56,
      "outputs": [
        {
          "output_type": "execute_result",
          "data": {
            "text/plain": [
              "[(944, 30), (1683, 30), (60, 64), (64,), (64, 1), (1,)]"
            ]
          },
          "metadata": {
            "tags": []
          },
          "execution_count": 56
        }
      ]
    },
    {
      "metadata": {
        "id": "5R3HDlSPGgtW",
        "colab_type": "code",
        "colab": {
          "base_uri": "https://localhost:8080/",
          "height": 179
        },
        "outputId": "d7fd0255-cbd2-42a7-d5d5-17a714a357f4"
      },
      "cell_type": "code",
      "source": [
        "user_embeddigs = weights[0]\n",
        "item_embeddings = weights[1]\n",
        "\n",
        "print(\"First item name from metadata:\", items[\"title\"][1])\n",
        "print(\"Embedding vector for the first item:\")\n",
        "print(item_embeddings.shape)\n",
        "print(item_embeddings[1])\n",
        "print(\"shape:\", item_embeddings[1].shape)\n"
      ],
      "execution_count": 59,
      "outputs": [
        {
          "output_type": "stream",
          "text": [
            "First item name from metadata: GoldenEye (1995)\n",
            "Embedding vector for the first item:\n",
            "(1683, 30)\n",
            "[ 0.04050774  0.03935662 -0.03758998  0.04355044  0.0472622  -0.03672028\n",
            " -0.04318766  0.00511805  0.04097242 -0.00717903 -0.02099108 -0.03261201\n",
            " -0.04783171  0.01191078  0.03665877 -0.01705045  0.0115211   0.03722454\n",
            " -0.01838555  0.01369602 -0.02627811 -0.02252237 -0.02147919 -0.03340856\n",
            "  0.01593249  0.03589339 -0.01124448 -0.02283057 -0.03143322  0.00840206]\n",
            "shape: (30,)\n"
          ],
          "name": "stdout"
        }
      ]
    },
    {
      "metadata": {
        "id": "EAjZWs1gInZR",
        "colab_type": "text"
      },
      "cell_type": "markdown",
      "source": [
        "# Finding most similar items\n",
        "\n",
        "embedding space 안세 점에서 유사한 아이템 찾기\n",
        "\n",
        "* 두 embedding space 간에 cosine similarity  계산한다.\n",
        "* 다른 모든 좀들과 한 점의 embedding space 사이에서 유클리디안 거리를 계산한다.\n",
        "* 가장 유사한 것을 적고 가장 작은  유클리디안 거리의 이름을 꺼내라\n",
        "* 181 영화에서 찾아봐라 하지만 작은 데이터이니만큼 기적을 기대하면 안된다.\n"
      ]
    },
    {
      "metadata": {
        "id": "dz9fL9nR_Rt0",
        "colab_type": "code",
        "colab": {
          "base_uri": "https://localhost:8080/",
          "height": 287
        },
        "outputId": "425cde72-dfc1-450c-b325-ea841e338388"
      },
      "cell_type": "code",
      "source": [
        "EPSILON = 1e-07\n",
        "\n",
        "def cosine(x, y):\n",
        "    dot_pdt = np.dot(x, y.T)\n",
        "    norms = np.linalg.norm(x) * np.linalg.norm(y)\n",
        "    return dot_pdt / (norms + EPSILON)\n",
        "\n",
        "# Computes cosine similarities between x and all item embeddings\n",
        "def cosine_similarities(x):\n",
        "    dot_pdts = np.dot(item_embeddings, x)\n",
        "    norms = np.linalg.norm(x) * np.linalg.norm(item_embeddings, axis=1)\n",
        "    return dot_pdts / (norms + EPSILON)\n",
        "\n",
        "# Computes euclidean distances between x and all item embeddings\n",
        "def euclidean_distances(x):\n",
        "    return np.linalg.norm(item_embeddings - x, axis=1)\n",
        "\n",
        "# Computes top_n most similar items to an idx, \n",
        "def most_similar(idx, top_n=10, mode='euclidean'):\n",
        "    sorted_indexes=0\n",
        "    if mode == 'euclidean':\n",
        "        dists = euclidean_distances(item_embeddings[idx])\n",
        "        sorted_indexes = np.argsort(dists)\n",
        "        idxs = sorted_indexes[0:top_n]\n",
        "        return list(zip(items[\"title\"][idxs], dists[idxs]))\n",
        "    else:\n",
        "        sims = cosine_similarities(item_embeddings[idx])\n",
        "        # [::-1] makes it possible to reverse the order of a numpy\n",
        "        # array, this is required because most similar items have\n",
        "        # a larger cosine similarity value\n",
        "        sorted_indexes = np.argsort(sims)[::-1]\n",
        "        idxs = sorted_indexes[0:top_n]\n",
        "        return list(zip(items[\"title\"][idxs], sims[idxs]))\n",
        "\n",
        "# sanity checks:\n",
        "print(\"cosine of item 1 and item 1: %0.3f\"\n",
        "      % cosine(item_embeddings[1], item_embeddings[1]))\n",
        "euc_dists = euclidean_distances(item_embeddings[1])\n",
        "print(euc_dists.shape)\n",
        "print(euc_dists[1:5])\n",
        "print()\n",
        "\n",
        "# Test on movie 181: Return of the Jedi\n",
        "print(\"Items closest to 'Return of the Jedi':\")\n",
        "for title, dist in most_similar(181, mode=\"euclidean\"):\n",
        "    print(title, dist)"
      ],
      "execution_count": 61,
      "outputs": [
        {
          "output_type": "stream",
          "text": [
            "cosine of item 1 and item 1: 1.000\n",
            "(1683,)\n",
            "[0.         0.25767443 0.25012448 0.23786435]\n",
            "\n",
            "Items closest to 'Return of the Jedi':\n",
            "GoodFellas (1990) 0.0\n",
            "Perez Family, The (1995) 0.11275564\n",
            "Hideaway (1995) 0.13089293\n",
            "Cinema Paradiso (1988) 0.14112218\n",
            "Spellbound (1945) 0.1478062\n",
            "Apartment, The (1960) 0.14826405\n",
            "U Turn (1997) 0.14833906\n",
            "Living in Oblivion (1995) 0.14871171\n",
            "Audrey Rose (1977) 0.14948075\n",
            "Mad Dog Time (1996) 0.14973615\n"
          ],
          "name": "stdout"
        }
      ]
    },
    {
      "metadata": {
        "id": "5WkTl3a2J1h0",
        "colab_type": "code",
        "colab": {
          "base_uri": "https://localhost:8080/",
          "height": 125
        },
        "outputId": "78f183bd-51c1-4623-e64b-659fe98abaa9"
      },
      "cell_type": "code",
      "source": [
        "idx=181\n",
        "print(item_embeddings[idx])\n",
        "items[\"title\"][idx]"
      ],
      "execution_count": 63,
      "outputs": [
        {
          "output_type": "stream",
          "text": [
            "[-0.00869782 -0.04885438  0.03753136 -0.02655383  0.02008405 -0.01855621\n",
            "  0.01091     0.0301121  -0.00481547 -0.03102188  0.00494071  0.03479594\n",
            " -0.01549514  0.01009995 -0.03822652 -0.02761773  0.01701028 -0.02596815\n",
            "  0.00984143  0.02013204 -0.03163414  0.00656409 -0.00246576 -0.00037147\n",
            " -0.04969611 -0.00153876  0.0279072   0.04681653  0.01553727 -0.00594928]\n"
          ],
          "name": "stdout"
        },
        {
          "output_type": "execute_result",
          "data": {
            "text/plain": [
              "'GoodFellas (1990)'"
            ]
          },
          "metadata": {
            "tags": []
          },
          "execution_count": 63
        }
      ]
    },
    {
      "metadata": {
        "id": "g9gPHBxEKN6s",
        "colab_type": "text"
      },
      "cell_type": "markdown",
      "source": [
        "# Visualizing embedding using TSNE\n",
        "\n",
        "\n",
        "참고 : https://github.com/lmcinnes/umap"
      ]
    },
    {
      "metadata": {
        "id": "024Qz2MwJ3Ij",
        "colab_type": "code",
        "colab": {}
      },
      "cell_type": "code",
      "source": [
        "from sklearn.manifold import TSNE\n",
        "\n",
        "item_tsne = TSNE(perplexity=60).fit_transform(item_embeddings)"
      ],
      "execution_count": 0,
      "outputs": []
    },
    {
      "metadata": {
        "id": "6vEKvLRmJ2W8",
        "colab_type": "code",
        "colab": {
          "base_uri": "https://localhost:8080/",
          "height": 575
        },
        "outputId": "fa41f1bf-7924-4796-e8a2-0959bd4b854b"
      },
      "cell_type": "code",
      "source": [
        "import matplotlib.pyplot as plt\n",
        "\n",
        "plt.figure(figsize=(10, 10))\n",
        "plt.scatter(item_tsne[:, 0], item_tsne[:, 1]);\n",
        "plt.xticks(()); plt.yticks(());\n",
        "plt.show()"
      ],
      "execution_count": 70,
      "outputs": [
        {
          "output_type": "display_data",
          "data": {
            "image/png": "[encoded data removed]",
            "text/plain": [
              "<matplotlib.figure.Figure at 0x7fa86b1a1240>"
            ]
          },
          "metadata": {
            "tags": []
          }
        }
      ]
    },
    {
      "metadata": {
        "id": "0QrqiAewJ2dr",
        "colab_type": "code",
        "colab": {
          "base_uri": "https://localhost:8080/",
          "height": 323
        },
        "outputId": "9986530b-34fe-4e4b-f3d3-21cae0ded6ea"
      },
      "cell_type": "code",
      "source": [
        "!pip install umap-learn"
      ],
      "execution_count": 66,
      "outputs": [
        {
          "output_type": "stream",
          "text": [
            "Collecting umap-learn\n",
            "  Downloading https://files.pythonhosted.org/packages/e5/d9/26bf2c04a5689e3bfb25149047c14ad3276bbe67b88b35e415caa8024dde/umap-learn-0.2.3.tar.gz\n",
            "Requirement already satisfied: scikit-learn>=0.16 in /usr/local/lib/python3.6/dist-packages (from umap-learn) (0.19.1)\n",
            "Requirement already satisfied: scipy>=0.19 in /usr/local/lib/python3.6/dist-packages (from umap-learn) (0.19.1)\n",
            "Collecting numba>=0.34 (from umap-learn)\n",
            "\u001b[?25l  Downloading https://files.pythonhosted.org/packages/00/36/41d894e24e0d00d85e7ed10880deb391f6b6679ae43db25ea6d036476c8c/numba-0.38.0-cp36-cp36m-manylinux1_x86_64.whl (1.9MB)\n",
            "\u001b[K    100% |████████████████████████████████| 1.9MB 9.3MB/s \n",
            "\u001b[?25hRequirement already satisfied: numpy>=1.8.2 in /usr/local/lib/python3.6/dist-packages (from scipy>=0.19->umap-learn) (1.14.3)\n",
            "Collecting llvmlite>=0.23.0dev0 (from numba>=0.34->umap-learn)\n",
            "\u001b[?25l  Downloading https://files.pythonhosted.org/packages/4c/71/9ac956af0bc8e6624db7ff1653426a4d3f2fcb72bc6707f022158e62b64f/llvmlite-0.23.0-cp36-cp36m-manylinux1_x86_64.whl (15.8MB)\n",
            "\u001b[K    100% |████████████████████████████████| 15.8MB 2.5MB/s \n",
            "\u001b[?25hBuilding wheels for collected packages: umap-learn\n",
            "  Running setup.py bdist_wheel for umap-learn ... \u001b[?25l-\b \bdone\n",
            "\u001b[?25h  Stored in directory: /content/.cache/pip/wheels/3c/37/81/7d524766f1f6e20fdd5c113afd52b7006a0b01c985f2a43962\n",
            "Successfully built umap-learn\n",
            "Installing collected packages: llvmlite, numba, umap-learn\n",
            "Successfully installed llvmlite-0.23.0 numba-0.38.0 umap-learn-0.2.3\n"
          ],
          "name": "stdout"
        }
      ]
    },
    {
      "metadata": {
        "id": "O5VeGPn0_Ryq",
        "colab_type": "code",
        "colab": {
          "base_uri": "https://localhost:8080/",
          "height": 575
        },
        "outputId": "e7143127-23dd-4f2b-9177-6ce03cc73f47"
      },
      "cell_type": "code",
      "source": [
        "import umap\n",
        "\n",
        "item_umap = umap.UMAP().fit_transform(item_embeddings)\n",
        "plt.figure(figsize=(10, 10))\n",
        "plt.scatter(item_umap[:, 0], item_umap[:, 1]);\n",
        "plt.xticks(()); plt.yticks(());\n",
        "plt.show()"
      ],
      "execution_count": 71,
      "outputs": [
        {
          "output_type": "display_data",
          "data": {
            "image/png": "[encoded data removed]",
            "text/plain": [
              "<matplotlib.figure.Figure at 0x7fa876ad4d68>"
            ]
          },
          "metadata": {
            "tags": []
          }
        }
      ]
    },
    {
      "metadata": {
        "id": "YHjqx1BmLEba",
        "colab_type": "text"
      },
      "cell_type": "markdown",
      "source": [
        "# Using item metadata in the model \n",
        "\n",
        "Using a similar framework as previously, we will build another deep model that can also leverage additional metadata.  \n",
        "The resulting system is therefore an Hybrid Recommender System that does both Collaborative Filtering and Content-based recommendations."
      ]
    },
    {
      "metadata": {
        "id": "IbMGrS-EKsfj",
        "colab_type": "code",
        "colab": {}
      },
      "cell_type": "code",
      "source": [
        "from sklearn.preprocessing import QuantileTransformer\n",
        "\n",
        "meta_columns = ['popularity', 'release_year']\n",
        "\n",
        "scaler = QuantileTransformer()\n",
        "item_meta_train = scaler.fit_transform(ratings_train[meta_columns])\n",
        "item_meta_test = scaler.transform(ratings_test[meta_columns])"
      ],
      "execution_count": 0,
      "outputs": []
    },
    {
      "metadata": {
        "id": "RMcxrjQqLRg6",
        "colab_type": "code",
        "colab": {
          "base_uri": "https://localhost:8080/",
          "height": 143
        },
        "outputId": "e3185999-f385-463c-9ae4-8cf8af0beb44"
      },
      "cell_type": "code",
      "source": [
        "item_meta_train"
      ],
      "execution_count": 73,
      "outputs": [
        {
          "output_type": "execute_result",
          "data": {
            "text/plain": [
              "array([[0.45245245, 0.46896897],\n",
              "       [0.67417417, 0.71671672],\n",
              "       [0.62912913, 0.34734735],\n",
              "       ...,\n",
              "       [0.86536537, 0.56556557],\n",
              "       [0.61161161, 0.71671672],\n",
              "       [0.56056056, 0.1006006 ]])"
            ]
          },
          "metadata": {
            "tags": []
          },
          "execution_count": 73
        }
      ]
    },
    {
      "metadata": {
        "id": "N9tE4KAsLSvL",
        "colab_type": "code",
        "colab": {}
      },
      "cell_type": "code",
      "source": [
        "user_id_input = Input(shape=[1], name='user')\n",
        "item_id_input = Input(shape=[1], name='item')\n",
        "meta_input = Input(shape=[2], name='meta_item')\n",
        "\n",
        "embedding_size = 32\n",
        "user_embedding = Embedding(output_dim=embedding_size, input_dim=max_user_id + 1,\n",
        "                           input_length=1, name='user_embedding')(user_id_input)\n",
        "item_embedding = Embedding(output_dim=embedding_size, input_dim=max_item_id + 1,\n",
        "                           input_length=1, name='item_embedding')(item_id_input)\n",
        "\n",
        "\n",
        "# reshape from shape: (batch_size, input_length, embedding_size)\n",
        "# to shape: (batch_size, input_length * embedding_size) which is\n",
        "# equal to shape: (batch_size, embedding_size)\n",
        "user_vecs = Flatten()(user_embedding)\n",
        "item_vecs = Flatten()(item_embedding)\n",
        "\n",
        "input_vecs = Concatenate()([user_vecs, item_vecs, meta_input])\n",
        "\n",
        "x = Dense(64, activation='relu')(input_vecs)\n",
        "x = Dropout(0.5)(x)\n",
        "x = Dense(32, activation='relu')(x)\n",
        "y = Dense(1)(x)\n",
        "\n",
        "model = Model(inputs=[user_id_input, item_id_input, meta_input], outputs=y)\n",
        "model.compile(optimizer='adam', loss='mae')\n",
        "\n",
        "initial_train_preds = model.predict([user_id_train, item_id_train, item_meta_train])"
      ],
      "execution_count": 0,
      "outputs": []
    },
    {
      "metadata": {
        "id": "zKJWSfw1LZdB",
        "colab_type": "code",
        "colab": {
          "base_uri": "https://localhost:8080/",
          "height": 611
        },
        "outputId": "29f35b02-566b-4cd2-d8c1-7e1239e7dbbb"
      },
      "cell_type": "code",
      "source": [
        "%%time\n",
        "history = model.fit([user_id_train, item_id_train, item_meta_train], rating_train,\n",
        "                    batch_size=64, epochs=15, validation_split=0.1,\n",
        "                    shuffle=True)"
      ],
      "execution_count": 75,
      "outputs": [
        {
          "output_type": "stream",
          "text": [
            "Train on 72000 samples, validate on 8000 samples\n",
            "Epoch 1/15\n",
            "72000/72000 [==============================] - 10s 132us/step - loss: 0.9319 - val_loss: 0.7631\n",
            "Epoch 2/15\n",
            "72000/72000 [==============================] - 10s 133us/step - loss: 0.7604 - val_loss: 0.7427\n",
            "Epoch 3/15\n",
            "48320/72000 [===================>..........] - ETA: 2s - loss: 0.7390"
          ],
          "name": "stdout"
        },
        {
          "output_type": "stream",
          "text": [
            "72000/72000 [==============================] - 9s 130us/step - loss: 0.7396 - val_loss: 0.7362\n",
            "Epoch 4/15\n",
            "72000/72000 [==============================] - 9s 131us/step - loss: 0.7202 - val_loss: 0.7260\n",
            "Epoch 5/15\n",
            "72000/72000 [==============================] - 9s 130us/step - loss: 0.6982 - val_loss: 0.7227\n",
            "Epoch 6/15\n",
            "20800/72000 [=======>......................] - ETA: 6s - loss: 0.6824"
          ],
          "name": "stdout"
        },
        {
          "output_type": "stream",
          "text": [
            "72000/72000 [==============================] - 9s 131us/step - loss: 0.6839 - val_loss: 0.7235\n",
            "Epoch 7/15\n",
            "72000/72000 [==============================] - 9s 130us/step - loss: 0.6731 - val_loss: 0.7163\n",
            "Epoch 8/15\n",
            "72000/72000 [==============================] - 9s 132us/step - loss: 0.6629 - val_loss: 0.7129\n",
            "Epoch 9/15\n",
            "15680/72000 [=====>........................] - ETA: 7s - loss: 0.6561"
          ],
          "name": "stdout"
        },
        {
          "output_type": "stream",
          "text": [
            "72000/72000 [==============================] - 9s 131us/step - loss: 0.6548 - val_loss: 0.7126\n",
            "Epoch 10/15\n",
            "72000/72000 [==============================] - 9s 130us/step - loss: 0.6489 - val_loss: 0.7146\n",
            "Epoch 11/15\n",
            "72000/72000 [==============================] - 9s 131us/step - loss: 0.6425 - val_loss: 0.7154\n",
            "Epoch 12/15\n",
            "14272/72000 [====>.........................] - ETA: 7s - loss: 0.6241"
          ],
          "name": "stdout"
        },
        {
          "output_type": "stream",
          "text": [
            "72000/72000 [==============================] - 9s 131us/step - loss: 0.6385 - val_loss: 0.7150\n",
            "Epoch 13/15\n",
            "72000/72000 [==============================] - 9s 131us/step - loss: 0.6332 - val_loss: 0.7146\n",
            "Epoch 14/15\n",
            "72000/72000 [==============================] - 9s 130us/step - loss: 0.6285 - val_loss: 0.7136\n",
            "Epoch 15/15\n",
            "13952/72000 [====>.........................] - ETA: 7s - loss: 0.6193"
          ],
          "name": "stdout"
        },
        {
          "output_type": "stream",
          "text": [
            "72000/72000 [==============================] - 9s 130us/step - loss: 0.6242 - val_loss: 0.7075\n",
            "CPU times: user 2min 36s, sys: 35 s, total: 3min 11s\n",
            "Wall time: 2min 21s\n"
          ],
          "name": "stdout"
        }
      ]
    },
    {
      "metadata": {
        "id": "y_ngq_2zLfqZ",
        "colab_type": "code",
        "colab": {
          "base_uri": "https://localhost:8080/",
          "height": 53
        },
        "outputId": "7a8696f6-ba56-4091-ee3b-1fb786466401"
      },
      "cell_type": "code",
      "source": [
        "\n",
        "test_predstest_pr  = model.predict([user_id_test, item_id_test, item_meta_test])\n",
        "print(\"Final test MSE: %0.3f\" % mean_squared_error(test_preds, rating_test))\n",
        "print(\"Final test MAE: %0.3f\" % mean_absolute_error(test_preds, rating_test))"
      ],
      "execution_count": 76,
      "outputs": [
        {
          "output_type": "stream",
          "text": [
            "Final test MSE: 0.915\n",
            "Final test MAE: 0.733\n"
          ],
          "name": "stdout"
        }
      ]
    },
    {
      "metadata": {
        "id": "h9a3qcUfLm35",
        "colab_type": "text"
      },
      "cell_type": "markdown",
      "source": [
        "## A recommendataion function for a given user \n",
        "\n",
        "사람들이 보지 못했던 것을 이제 우리는 학습된 모델로 할 수가 있다.\n",
        "\n",
        "* model.predict  을 사용해서 to compute the ratings a user would have given to all items\n",
        "*  recon function을 통해 본 것은 제외하고 보지 않은 것을 추천 할 수 있다."
      ]
    },
    {
      "metadata": {
        "id": "Y6A8S3-GLmbo",
        "colab_type": "code",
        "colab": {
          "base_uri": "https://localhost:8080/",
          "height": 235
        },
        "outputId": "f4195a1e-82d5-4a01-c80b-6abff0ac27bf"
      },
      "cell_type": "code",
      "source": [
        "indexed_items = items.set_index(\"item_id\")\n",
        "\n",
        "indexed_items.head()"
      ],
      "execution_count": 77,
      "outputs": [
        {
          "output_type": "execute_result",
          "data": {
            "text/html": [
              "<div>\n",
              "<style scoped>\n",
              "    .dataframe tbody tr th:only-of-type {\n",
              "        vertical-align: middle;\n",
              "    }\n",
              "\n",
              "    .dataframe tbody tr th {\n",
              "        vertical-align: top;\n",
              "    }\n",
              "\n",
              "    .dataframe thead th {\n",
              "        text-align: right;\n",
              "    }\n",
              "</style>\n",
              "<table border=\"1\" class=\"dataframe\">\n",
              "  <thead>\n",
              "    <tr style=\"text-align: right;\">\n",
              "      <th></th>\n",
              "      <th>popularity</th>\n",
              "      <th>title</th>\n",
              "      <th>release_date</th>\n",
              "      <th>video_release_date</th>\n",
              "      <th>imdb_url</th>\n",
              "      <th>release_year</th>\n",
              "    </tr>\n",
              "    <tr>\n",
              "      <th>item_id</th>\n",
              "      <th></th>\n",
              "      <th></th>\n",
              "      <th></th>\n",
              "      <th></th>\n",
              "      <th></th>\n",
              "      <th></th>\n",
              "    </tr>\n",
              "  </thead>\n",
              "  <tbody>\n",
              "    <tr>\n",
              "      <th>1</th>\n",
              "      <td>452</td>\n",
              "      <td>Toy Story (1995)</td>\n",
              "      <td>01-Jan-1995</td>\n",
              "      <td>NaN</td>\n",
              "      <td>http://us.imdb.com/M/title-exact?Toy%20Story%2...</td>\n",
              "      <td>1995</td>\n",
              "    </tr>\n",
              "    <tr>\n",
              "      <th>2</th>\n",
              "      <td>131</td>\n",
              "      <td>GoldenEye (1995)</td>\n",
              "      <td>01-Jan-1995</td>\n",
              "      <td>NaN</td>\n",
              "      <td>http://us.imdb.com/M/title-exact?GoldenEye%20(...</td>\n",
              "      <td>1995</td>\n",
              "    </tr>\n",
              "    <tr>\n",
              "      <th>3</th>\n",
              "      <td>90</td>\n",
              "      <td>Four Rooms (1995)</td>\n",
              "      <td>01-Jan-1995</td>\n",
              "      <td>NaN</td>\n",
              "      <td>http://us.imdb.com/M/title-exact?Four%20Rooms%...</td>\n",
              "      <td>1995</td>\n",
              "    </tr>\n",
              "    <tr>\n",
              "      <th>4</th>\n",
              "      <td>209</td>\n",
              "      <td>Get Shorty (1995)</td>\n",
              "      <td>01-Jan-1995</td>\n",
              "      <td>NaN</td>\n",
              "      <td>http://us.imdb.com/M/title-exact?Get%20Shorty%...</td>\n",
              "      <td>1995</td>\n",
              "    </tr>\n",
              "    <tr>\n",
              "      <th>5</th>\n",
              "      <td>86</td>\n",
              "      <td>Copycat (1995)</td>\n",
              "      <td>01-Jan-1995</td>\n",
              "      <td>NaN</td>\n",
              "      <td>http://us.imdb.com/M/title-exact?Copycat%20(1995)</td>\n",
              "      <td>1995</td>\n",
              "    </tr>\n",
              "  </tbody>\n",
              "</table>\n",
              "</div>"
            ],
            "text/plain": [
              "         popularity              title release_date  video_release_date  \\\n",
              "item_id                                                                   \n",
              "1               452   Toy Story (1995)  01-Jan-1995                 NaN   \n",
              "2               131   GoldenEye (1995)  01-Jan-1995                 NaN   \n",
              "3                90  Four Rooms (1995)  01-Jan-1995                 NaN   \n",
              "4               209  Get Shorty (1995)  01-Jan-1995                 NaN   \n",
              "5                86     Copycat (1995)  01-Jan-1995                 NaN   \n",
              "\n",
              "                                                  imdb_url  release_year  \n",
              "item_id                                                                   \n",
              "1        http://us.imdb.com/M/title-exact?Toy%20Story%2...          1995  \n",
              "2        http://us.imdb.com/M/title-exact?GoldenEye%20(...          1995  \n",
              "3        http://us.imdb.com/M/title-exact?Four%20Rooms%...          1995  \n",
              "4        http://us.imdb.com/M/title-exact?Get%20Shorty%...          1995  \n",
              "5        http://us.imdb.com/M/title-exact?Copycat%20(1995)          1995  "
            ]
          },
          "metadata": {
            "tags": []
          },
          "execution_count": 77
        }
      ]
    },
    {
      "metadata": {
        "id": "DbcdOLWBLg0i",
        "colab_type": "code",
        "colab": {}
      },
      "cell_type": "code",
      "source": [
        "def recommend(user_id, top_n=10):\n",
        "    item_ids = range(1, max_item_id)\n",
        "    seen_mask = all_ratings[\"user_id\"] == user_id\n",
        "    seen_movies = set(all_ratings[seen_mask][\"item_id\"])\n",
        "    item_ids = list(filter(lambda x: x not in seen_movies, item_ids))\n",
        "\n",
        "    print(\"User %d has seen %d movies, including:\" % (user_id, len(seen_movies)))\n",
        "    for title in all_ratings[seen_mask].nlargest(20, 'popularity')['title']:\n",
        "        print(\"   \", title)\n",
        "    print(\"Computing ratings for %d other movies:\" % len(item_ids))\n",
        "    \n",
        "    item_ids = np.array(item_ids)\n",
        "    user_ids = np.zeros_like(item_ids)\n",
        "    user_ids[:] = user_id\n",
        "    items_meta = scaler.transform(indexed_items[meta_columns].loc[item_ids])\n",
        "    \n",
        "    rating_preds = model.predict([user_ids, item_ids, items_meta])\n",
        "    \n",
        "    item_ids = np.argsort(rating_preds[:, 0])[::-1].tolist()\n",
        "    rec_items = item_ids[:top_n]\n",
        "    return [(items[\"title\"][movie], rating_preds[movie][0])\n",
        "            for movie in rec_items]    "
      ],
      "execution_count": 0,
      "outputs": []
    },
    {
      "metadata": {
        "id": "DQ9StJISMm67",
        "colab_type": "code",
        "colab": {
          "base_uri": "https://localhost:8080/",
          "height": 593
        },
        "outputId": "ba7ca511-43e5-425a-c749-6bd4ad81bdba"
      },
      "cell_type": "code",
      "source": [
        "for title, pred_rating in recommend(10):\n",
        "    print(\"    %0.1f: %s\" % (pred_rating, title))"
      ],
      "execution_count": 80,
      "outputs": [
        {
          "output_type": "stream",
          "text": [
            "User 10 has seen 184 movies, including:\n",
            "    Star Wars (1977)\n",
            "    Fargo (1996)\n",
            "    Liar Liar (1997)\n",
            "    English Patient, The (1996)\n",
            "    Toy Story (1995)\n",
            "    Raiders of the Lost Ark (1981)\n",
            "    Godfather, The (1972)\n",
            "    Pulp Fiction (1994)\n",
            "    Twelve Monkeys (1995)\n",
            "    Silence of the Lambs, The (1991)\n",
            "    Forrest Gump (1994)\n",
            "    Monty Python and the Holy Grail (1974)\n",
            "    Full Monty, The (1997)\n",
            "    Terminator, The (1984)\n",
            "    Dead Man Walking (1995)\n",
            "    Leaving Las Vegas (1995)\n",
            "    Braveheart (1995)\n",
            "    L.A. Confidential (1997)\n",
            "    Alien (1979)\n",
            "    When Harry Met Sally... (1989)\n",
            "Computing ratings for 1497 other movies:\n",
            "    5.4: Cowboy Way, The (1994)\n",
            "    5.2: Out to Sea (1997)\n",
            "    5.1: Audrey Rose (1977)\n",
            "    5.0: Next Karate Kid, The (1994)\n",
            "    5.0: Shadow of Angels (Schatten der Engel) (1976)\n",
            "    4.9: Smile Like Yours, A (1997)\n",
            "    4.9: Of Love and Shadows (1994)\n",
            "    4.9: Horse Whisperer, The (1998)\n",
            "    4.8: Star Maps (1997)\n",
            "    4.8: Frighteners, The (1996)\n"
          ],
          "name": "stdout"
        }
      ]
    },
    {
      "metadata": {
        "id": "vxCEwlaTMncm",
        "colab_type": "code",
        "colab": {
          "base_uri": "https://localhost:8080/",
          "height": 35
        },
        "outputId": "992eda18-4245-48eb-8dd7-0d2a83083c94"
      },
      "cell_type": "code",
      "source": [
        "import numpy as np\n",
        "\n",
        "np.unique(rating_train)"
      ],
      "execution_count": 81,
      "outputs": [
        {
          "output_type": "execute_result",
          "data": {
            "text/plain": [
              "array([1, 2, 3, 4, 5])"
            ]
          },
          "metadata": {
            "tags": []
          },
          "execution_count": 81
        }
      ]
    },
    {
      "metadata": {
        "id": "daUO-j6pNGZN",
        "colab_type": "text"
      },
      "cell_type": "markdown",
      "source": [
        "\n",
        "Maybe we can help the model by forcing it to predict those values by treating the problem as a multiclassification problem. The only required changes are:\n",
        "\n",
        "* setting the final layer to output class membership probabities using a softmax activation with 5 outputs;\n",
        "* optimize the categorical cross-entropy classification loss instead of a regression loss such as MSE or MAE."
      ]
    },
    {
      "metadata": {
        "id": "Smx_vfJPNFs3",
        "colab_type": "code",
        "colab": {
          "base_uri": "https://localhost:8080/",
          "height": 593
        },
        "outputId": "fec10036-f492-4c66-e5fc-a05583fd744c"
      },
      "cell_type": "code",
      "source": [
        "user_id_input = Input(shape=[1], name='user')\n",
        "item_id_input = Input(shape=[1], name='item')\n",
        "\n",
        "embedding_size = 16\n",
        "dense_size = 128\n",
        "dropout_embedding = 0.5\n",
        "dropout_hidden = 0.2\n",
        "\n",
        "user_embedding = Embedding(output_dim=embedding_size, input_dim=max_user_id + 1,\n",
        "                           input_length=1, name='user_embedding')(user_id_input)\n",
        "item_embedding = Embedding(output_dim=embedding_size, input_dim=max_item_id + 1,\n",
        "                           input_length=1, name='item_embedding')(item_id_input)\n",
        "\n",
        "# reshape from shape: (batch_size, input_length, embedding_size)\n",
        "# to shape: (batch_size, input_length * embedding_size) which is\n",
        "# equal to shape: (batch_size, embedding_size)\n",
        "user_vecs = Flatten()(user_embedding)\n",
        "item_vecs = Flatten()(item_embedding)\n",
        "\n",
        "input_vecs = Concatenate()([user_vecs, item_vecs])\n",
        "input_vecs = Dropout(dropout_embedding)(input_vecs)\n",
        "\n",
        "x = Dense(dense_size, activation='relu')(input_vecs)\n",
        "x = Dropout(dropout_hidden)(x)\n",
        "x = Dense(dense_size, activation='relu')(x)\n",
        "y = Dense(5, activation='softmax')(x)\n",
        "\n",
        "model = Model(inputs=[user_id_input, item_id_input], outputs=y)\n",
        "model.compile(optimizer='adam', loss='sparse_categorical_crossentropy')\n",
        "\n",
        "model.summary()"
      ],
      "execution_count": 88,
      "outputs": [
        {
          "output_type": "stream",
          "text": [
            "__________________________________________________________________________________________________\n",
            "Layer (type)                    Output Shape         Param #     Connected to                     \n",
            "==================================================================================================\n",
            "user (InputLayer)               (None, 1)            0                                            \n",
            "__________________________________________________________________________________________________\n",
            "item (InputLayer)               (None, 1)            0                                            \n",
            "__________________________________________________________________________________________________\n",
            "user_embedding (Embedding)      (None, 1, 16)        15104       user[0][0]                       \n",
            "__________________________________________________________________________________________________\n",
            "item_embedding (Embedding)      (None, 1, 16)        26928       item[0][0]                       \n",
            "__________________________________________________________________________________________________\n",
            "flatten_25 (Flatten)            (None, 16)           0           user_embedding[0][0]             \n",
            "__________________________________________________________________________________________________\n",
            "flatten_26 (Flatten)            (None, 16)           0           item_embedding[0][0]             \n",
            "__________________________________________________________________________________________________\n",
            "concatenate_8 (Concatenate)     (None, 32)           0           flatten_25[0][0]                 \n",
            "                                                                 flatten_26[0][0]                 \n",
            "__________________________________________________________________________________________________\n",
            "dropout_11 (Dropout)            (None, 32)           0           concatenate_8[0][0]              \n",
            "__________________________________________________________________________________________________\n",
            "dense_19 (Dense)                (None, 128)          4224        dropout_11[0][0]                 \n",
            "__________________________________________________________________________________________________\n",
            "dropout_12 (Dropout)            (None, 128)          0           dense_19[0][0]                   \n",
            "__________________________________________________________________________________________________\n",
            "dense_20 (Dense)                (None, 128)          16512       dropout_12[0][0]                 \n",
            "__________________________________________________________________________________________________\n",
            "dense_21 (Dense)                (None, 5)            645         dense_20[0][0]                   \n",
            "==================================================================================================\n",
            "Total params: 63,413\n",
            "Trainable params: 63,413\n",
            "Non-trainable params: 0\n",
            "__________________________________________________________________________________________________\n"
          ],
          "name": "stdout"
        }
      ]
    },
    {
      "metadata": {
        "id": "io9he3bNNDJv",
        "colab_type": "code",
        "colab": {
          "base_uri": "https://localhost:8080/",
          "height": 611
        },
        "outputId": "4a634364-356c-41e3-8e25-ca9ed2391371"
      },
      "cell_type": "code",
      "source": [
        "initial_train_preds = model.predict([user_id_train, item_id_train]).argmax(axis=1) + 1\n",
        "print(\"Random init MSE: %0.3f\" % mean_squared_error(initial_train_preds, rating_train))\n",
        "print(\"Random init MAE: %0.3f\" % mean_absolute_error(initial_train_preds, rating_train))\n",
        "\n",
        "\n",
        "history = model.fit([user_id_train, item_id_train], rating_train - 1,\n",
        "                    batch_size=64, epochs=15, validation_split=0.1,\n",
        "                    shuffle=True)\n",
        "\n"
      ],
      "execution_count": 83,
      "outputs": [
        {
          "output_type": "stream",
          "text": [
            "Random init MSE: 4.750\n",
            "Random init MAE: 1.804\n",
            "Train on 72000 samples, validate on 8000 samples\n",
            "Epoch 1/15\n",
            "72000/72000 [==============================] - 10s 135us/step - loss: 1.3680 - val_loss: 1.2785\n",
            "Epoch 2/15\n",
            "72000/72000 [==============================] - 9s 130us/step - loss: 1.2837 - val_loss: 1.2592\n",
            "Epoch 3/15\n",
            "25088/72000 [=========>....................] - ETA: 5s - loss: 1.2587"
          ],
          "name": "stdout"
        },
        {
          "output_type": "stream",
          "text": [
            "72000/72000 [==============================] - 9s 130us/step - loss: 1.2609 - val_loss: 1.2539\n",
            "Epoch 4/15\n",
            "72000/72000 [==============================] - 9s 131us/step - loss: 1.2510 - val_loss: 1.2494\n",
            "Epoch 5/15\n",
            "72000/72000 [==============================] - 9s 131us/step - loss: 1.2446 - val_loss: 1.2448\n",
            "Epoch 6/15\n",
            "16832/72000 [======>.......................] - ETA: 7s - loss: 1.2287"
          ],
          "name": "stdout"
        },
        {
          "output_type": "stream",
          "text": [
            "72000/72000 [==============================] - 9s 132us/step - loss: 1.2362 - val_loss: 1.2483\n",
            "Epoch 7/15\n",
            "72000/72000 [==============================] - 9s 130us/step - loss: 1.2338 - val_loss: 1.2410\n",
            "Epoch 8/15\n",
            "72000/72000 [==============================] - 9s 129us/step - loss: 1.2282 - val_loss: 1.2439\n",
            "Epoch 9/15\n",
            "15424/72000 [=====>........................] - ETA: 7s - loss: 1.2142"
          ],
          "name": "stdout"
        },
        {
          "output_type": "stream",
          "text": [
            "72000/72000 [==============================] - 9s 131us/step - loss: 1.2250 - val_loss: 1.2403\n",
            "Epoch 10/15\n",
            "72000/72000 [==============================] - 9s 131us/step - loss: 1.2227 - val_loss: 1.2394\n",
            "Epoch 11/15\n",
            "72000/72000 [==============================] - 9s 130us/step - loss: 1.2201 - val_loss: 1.2395\n",
            "Epoch 12/15\n",
            "14400/72000 [=====>........................] - ETA: 7s - loss: 1.2057"
          ],
          "name": "stdout"
        },
        {
          "output_type": "stream",
          "text": [
            "72000/72000 [==============================] - 9s 129us/step - loss: 1.2161 - val_loss: 1.2410\n",
            "Epoch 13/15\n",
            "72000/72000 [==============================] - 9s 131us/step - loss: 1.2156 - val_loss: 1.2398\n",
            "Epoch 14/15\n",
            "72000/72000 [==============================] - 9s 130us/step - loss: 1.2142 - val_loss: 1.2412\n",
            "Epoch 15/15\n",
            "14464/72000 [=====>........................] - ETA: 7s - loss: 1.1995"
          ],
          "name": "stdout"
        },
        {
          "output_type": "stream",
          "text": [
            "72000/72000 [==============================] - 9s 131us/step - loss: 1.2137 - val_loss: 1.2394\n"
          ],
          "name": "stdout"
        }
      ]
    },
    {
      "metadata": {
        "id": "lorFhI7SOHIE",
        "colab_type": "code",
        "colab": {
          "base_uri": "https://localhost:8080/",
          "height": 125
        },
        "outputId": "4158f732-c626-470a-b5ff-c3cb01d20fe4"
      },
      "cell_type": "code",
      "source": [
        "rating_train.head() - 1"
      ],
      "execution_count": 94,
      "outputs": [
        {
          "output_type": "execute_result",
          "data": {
            "text/plain": [
              "10382    3\n",
              "73171    3\n",
              "30938    3\n",
              "99310    2\n",
              "58959    4\n",
              "Name: rating, dtype: int64"
            ]
          },
          "metadata": {
            "tags": []
          },
          "execution_count": 94
        }
      ]
    },
    {
      "metadata": {
        "id": "V-9C-iuLM-f4",
        "colab_type": "code",
        "colab": {
          "base_uri": "https://localhost:8080/",
          "height": 280
        },
        "outputId": "86f06bdd-7dab-43a9-d9ee-6b1850e059b9"
      },
      "cell_type": "code",
      "source": [
        "plt.plot(history.history['loss'], label='train')\n",
        "plt.plot(history.history['val_loss'], label='validation')\n",
        "plt.ylim(0, 2)\n",
        "plt.legend(loc='best')\n",
        "plt.title('loss');\n",
        "\n"
      ],
      "execution_count": 86,
      "outputs": [
        {
          "output_type": "display_data",
          "data": {
            "image/png": "[encoded data removed]",
            "text/plain": [
              "<matplotlib.figure.Figure at 0x7fa86be3cc50>"
            ]
          },
          "metadata": {
            "tags": []
          }
        }
      ]
    },
    {
      "metadata": {
        "id": "0OhQtlflNSeM",
        "colab_type": "code",
        "colab": {
          "base_uri": "https://localhost:8080/",
          "height": 53
        },
        "outputId": "fcf4bf45-d55a-4c46-ff3b-b7c38b3ba872"
      },
      "cell_type": "code",
      "source": [
        "test_preds = model.predict([user_id_test, item_id_test]).argmax(axis=1) + 1\n",
        "print(\"Final test MSE: %0.3f\" % mean_squared_error(test_preds, rating_test))\n",
        "print(\"Final test MAE: %0.3f\" % mean_absolute_error(test_preds, rating_test))"
      ],
      "execution_count": 87,
      "outputs": [
        {
          "output_type": "stream",
          "text": [
            "Final test MSE: 1.720\n",
            "Final test MAE: 1.001\n"
          ],
          "name": "stdout"
        }
      ]
    },
    {
      "metadata": {
        "id": "W2kxZdd6NnYm",
        "colab_type": "code",
        "colab": {}
      },
      "cell_type": "code",
      "source": [
        ""
      ],
      "execution_count": 0,
      "outputs": []
    }
  ]
}