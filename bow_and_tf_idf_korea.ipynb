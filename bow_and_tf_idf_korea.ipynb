{
  "nbformat": 4,
  "nbformat_minor": 0,
  "metadata": {
    "colab": {
      "name": "BOW_tf_idf_kor_ver2.ipynb",
      "provenance": [],
      "collapsed_sections": [],
      "include_colab_link": true
    },
    "kernelspec": {
      "name": "python3",
      "display_name": "Python 3"
    }
  },
  "cells": [
    {
      "cell_type": "markdown",
      "metadata": {
        "id": "view-in-github",
        "colab_type": "text"
      },
      "source": [
        "<a href=\"https://colab.research.google.com/github/sungreong/TIL/blob/master/bow_and_tf_idf_korea.ipynb\" target=\"_parent\"><img src=\"https://colab.research.google.com/assets/colab-badge.svg\" alt=\"Open In Colab\"/></a>"
      ]
    },
    {
      "cell_type": "markdown",
      "metadata": {
        "id": "eZtLI48O3hAH",
        "colab_type": "text"
      },
      "source": [
        "\n",
        "\n",
        "\n",
        "## Text Data \n",
        "\n",
        "https://github.com/lovit/textmining_dataset\n",
        "\n",
        "## Mecab 설치\n",
        "\n",
        "https://colab.research.google.com/drive/1tL2WjfE0v_es4YJCLGoEJM5NXs_O_ytW#scrollTo=1lxZgy_vjaah\n"
      ]
    },
    {
      "cell_type": "code",
      "metadata": {
        "id": "UU3ZJ91Y_vD2",
        "colab_type": "code",
        "colab": {}
      },
      "source": [
        "!pip install konlpy\n",
        "!apt-get install openjdk-8-jdk-headless -qq > /dev/null\n",
        "!pip3 install JPype1-py3\n",
        "!apt-get update -qq\n",
        "!apt-get install fonts-nanum* -qq\n",
        "from IPython.display import clear_output\n",
        "clear_output()"
      ],
      "execution_count": 0,
      "outputs": []
    },
    {
      "cell_type": "code",
      "metadata": {
        "id": "x4RXF7lwH6Nl",
        "colab_type": "code",
        "outputId": "d04006b2-8a57-49fc-fa81-d7b5fcc0bc22",
        "colab": {
          "base_uri": "https://localhost:8080/",
          "height": 71
        }
      },
      "source": [
        "import matplotlib as mpl  # 기본 설정 만지는 용도\n",
        "import matplotlib.pyplot as plt  # 그래프 그리는 용도\n",
        "import matplotlib.font_manager as fm  # 폰트 관련 용도\n",
        "from matplotlib import font_manager, rc\n",
        "sys_font=fm.findSystemFonts()\n",
        "print(f\"sys_font number: {len(sys_font)}\")\n",
        "nanum_font = [f for f in sys_font if 'Nanum' in f]\n",
        "print(f\"nanum_font number: {len(nanum_font)}\")\n",
        "path = '/usr/share/fonts/truetype/nanum/NanumGothicEco.ttf'  # 설치된 나눔글꼴중 원하는 녀석의 전체 경로를 가져오자\n",
        "font_name = fm.FontProperties(fname=path, size=10).get_name()\n",
        "print(font_name)\n",
        "plt.rc('font', family=font_name)\n",
        "fm._rebuild()"
      ],
      "execution_count": 0,
      "outputs": [
        {
          "output_type": "stream",
          "text": [
            "sys_font number: 47\n",
            "nanum_font number: 31\n",
            "NanumGothic Eco\n"
          ],
          "name": "stdout"
        }
      ]
    },
    {
      "cell_type": "code",
      "metadata": {
        "id": "XbG_vmNO_4cH",
        "colab_type": "code",
        "outputId": "16fed75a-aed2-40f6-e0e2-ccdde25aaacb",
        "colab": {
          "base_uri": "https://localhost:8080/",
          "height": 89
        }
      },
      "source": [
        "import konlpy\n",
        "import re\n",
        "from konlpy.tag import *\n",
        "import numpy as np\n",
        "from konlpy.utils import pprint\n",
        "import json\n",
        "import os\n",
        "from pprint import pprint\n",
        "import re\n",
        "import nltk\n",
        "\n",
        "\n",
        "kkm = Kkma()\n",
        "pprint(kkm.sentences(u'네, 안녕하세요. 반갑습니다.'))\n",
        "sentence = u'테스트가 필요합니다.'\n",
        "words = konlpy.tag.Twitter().pos(sentence)\n",
        "print(words)"
      ],
      "execution_count": 0,
      "outputs": [
        {
          "output_type": "stream",
          "text": [
            "['네, 안녕하세요.', '반갑습니다.']\n"
          ],
          "name": "stdout"
        },
        {
          "output_type": "stream",
          "text": [
            "/usr/local/lib/python3.6/dist-packages/konlpy/tag/_okt.py:16: UserWarning: \"Twitter\" has changed to \"Okt\" since KoNLPy v0.4.5.\n",
            "  warn('\"Twitter\" has changed to \"Okt\" since KoNLPy v0.4.5.')\n"
          ],
          "name": "stderr"
        },
        {
          "output_type": "stream",
          "text": [
            "[('테스트', 'Noun'), ('가', 'Josa'), ('필요합니다', 'Adjective'), ('.', 'Punctuation')]\n"
          ],
          "name": "stdout"
        }
      ]
    },
    {
      "cell_type": "markdown",
      "metadata": {
        "id": "Jue0JfILAc6_",
        "colab_type": "text"
      },
      "source": [
        "\n",
        "```\n",
        "#!git clone https://github.com/lovit/textmining-dataset.git\n",
        "!apt-get update\n",
        "!apt-get install g++ openjdk-8-jdk python-dev python3-dev\n",
        "!pip3 install JPype1-py3\n",
        "!pip3 install konlpy\n",
        "!JAVA_HOME=\"/usr/lib/jvm/java-8-openjdk-amd64\"\n",
        "```\n",
        "\n",
        "\n",
        "```\n",
        "from lovit_textmining_dataset import version_check\n",
        "from lovit_textmining_dataset import fetch\n",
        "version_check()\n",
        "fetch(dataset='navermovie_comments')\n",
        "from lovit_textmining_dataset.navermovie_comments import load_movie_comments\n",
        "idxs, texts, rates = load_movie_comments(idxs='134963')\n",
        "corpus_path = 'lalaland_comments.txt'\n",
        "with open('lalaland_comments.txt', 'w', encoding='utf-8') as f:\n",
        "    for text in texts:\n",
        "        f.write('{}\\n'.format(text.strip()))\n",
        "\n",
        "```"
      ]
    },
    {
      "cell_type": "markdown",
      "metadata": {
        "id": "AC-_uvOw93Ot",
        "colab_type": "text"
      },
      "source": [
        "## Data Load"
      ]
    },
    {
      "cell_type": "code",
      "metadata": {
        "id": "YIKxiy1TAm-O",
        "colab_type": "code",
        "outputId": "050631bf-fc81-4a84-dd86-e75439d71015",
        "colab": {
          "base_uri": "https://localhost:8080/",
          "height": 35
        }
      },
      "source": [
        "!ls"
      ],
      "execution_count": 0,
      "outputs": [
        {
          "output_type": "stream",
          "text": [
            "lalaland_comments.txt  sample_data\n"
          ],
          "name": "stdout"
        }
      ]
    },
    {
      "cell_type": "code",
      "metadata": {
        "id": "-IJucDVW7XnL",
        "colab_type": "code",
        "colab": {}
      },
      "source": [
        "with open('lalaland_comments.txt', 'r', encoding='utf-8') as f:\n",
        "    lines = f.read().splitlines()"
      ],
      "execution_count": 0,
      "outputs": []
    },
    {
      "cell_type": "code",
      "metadata": {
        "id": "4oDdI0j2A8q0",
        "colab_type": "code",
        "colab": {}
      },
      "source": [
        "okt = Okt()"
      ],
      "execution_count": 0,
      "outputs": []
    },
    {
      "cell_type": "code",
      "metadata": {
        "id": "_1iZWvkXZyTf",
        "colab_type": "code",
        "outputId": "5f854bc8-61a2-4d17-8bf8-c23f0bb1387a",
        "colab": {
          "base_uri": "https://localhost:8080/",
          "height": 35
        }
      },
      "source": [
        "okt.pos(\"스터디를 참석하겠습니다.\" , join = True , stem=True , norm = True)"
      ],
      "execution_count": 0,
      "outputs": [
        {
          "output_type": "execute_result",
          "data": {
            "text/plain": [
              "['스터디/Noun', '를/Josa', '참석/Noun', '하다/Verb', './Punctuation']"
            ]
          },
          "metadata": {
            "tags": []
          },
          "execution_count": 180
        }
      ]
    },
    {
      "cell_type": "markdown",
      "metadata": {
        "id": "ociydLI0ZqHs",
        "colab_type": "text"
      },
      "source": [
        "## 명사만 추출하기"
      ]
    },
    {
      "cell_type": "code",
      "metadata": {
        "id": "2Ip2sMyaYJtM",
        "colab_type": "code",
        "colab": {}
      },
      "source": [
        "from collections import Counter\n",
        "noun_counter = Counter(\n",
        "    [noun for text in lines for noun in okt.nouns(text)]\n",
        ")"
      ],
      "execution_count": 0,
      "outputs": []
    },
    {
      "cell_type": "code",
      "metadata": {
        "id": "qlEjzT2HYZOX",
        "colab_type": "code",
        "outputId": "bdf6be70-903b-4b0e-ebb6-3860e71ea65c",
        "colab": {
          "base_uri": "https://localhost:8080/",
          "height": 89
        }
      },
      "source": [
        "for min_count in [2, 3, 5, 10]:\n",
        "    _counter = {\n",
        "        word for word, freq in noun_counter.items()\n",
        "        if freq >= min_count\n",
        "    }\n",
        "    print('num of nouns (min_count = %d): %d' % (\n",
        "        min_count, len(_counter)))"
      ],
      "execution_count": 0,
      "outputs": [
        {
          "output_type": "stream",
          "text": [
            "num of nouns (min_count = 2): 3493\n",
            "num of nouns (min_count = 3): 2487\n",
            "num of nouns (min_count = 5): 1729\n",
            "num of nouns (min_count = 10): 1067\n"
          ],
          "name": "stdout"
        }
      ]
    },
    {
      "cell_type": "code",
      "metadata": {
        "id": "DxnxBUnPX5vt",
        "colab_type": "code",
        "outputId": "a9f8f078-21bc-4707-c193-24622a8e8a9c",
        "colab": {
          "base_uri": "https://localhost:8080/",
          "height": 53
        }
      },
      "source": [
        "\n",
        "noun_dict = {\n",
        "    word for word, freq in noun_counter.items()\n",
        "    if freq >= 2\n",
        "}\n",
        "\n",
        "def custom_tokenizer(doc):\n",
        "    return [word for word in okt.nouns(doc) if word in noun_dict]\n",
        "\n",
        "print(okt.nouns(lines[0]))\n",
        "print(custom_tokenizer(lines[0]))"
      ],
      "execution_count": 0,
      "outputs": [
        {
          "output_type": "stream",
          "text": [
            "['시사회', '동화', '재즈', '뮤지컬', '만남']\n",
            "['시사회', '동화', '재즈', '뮤지컬', '만남']\n"
          ],
          "name": "stdout"
        }
      ]
    },
    {
      "cell_type": "code",
      "metadata": {
        "id": "pzMOducjBYVC",
        "colab_type": "code",
        "colab": {}
      },
      "source": [
        "def remove(x) :\n",
        "    m = re.sub(r'(?:\\b[0-9a-zA-Zㄱ-ㅎㅏ-ㅣ]\\b|[?!\\W]+)\\s*', ' ', x).strip() \n",
        "    m = \" \".join(m.split())\n",
        "    return m\n",
        "\n",
        "def tokenize(doc):\n",
        "    # norm은 정규화, stem은 근어로 표시하기를 나타냄\n",
        "    return ['/'.join(t) for t in okt.pos(remove(doc), norm=True, stem=True) if t[1] in ['Noun','Adjective']]\n"
      ],
      "execution_count": 0,
      "outputs": []
    },
    {
      "cell_type": "markdown",
      "metadata": {
        "id": "DkQuvCobB6B1",
        "colab_type": "text"
      },
      "source": [
        "## remove 함수 \n",
        "\n",
        "1. 특수기호 제거\n",
        "2. 영어, 숫자 사이에 공백이 있는 한글자들 제거 \n",
        "    * ex1) \n",
        "        * **처리전** 1.기계학습을 이용한 머신러닝이 중요하다. 2.통계기반 학습이 필요하다.\n",
        "        * **처리후** 기계학습을 이용한 머신러닝이 중요하다. 통계기반 학습이 필요하다.\n",
        "    * ex2) 글자사이에 공백이 있는 경우만 제거 \n",
        "        * 총 3건 -> 총 3건\n",
        "        * 총 3 간 -> 총 건\n",
        "        \n",
        "\n",
        "\n",
        "3. 양끝 공백제거 / 중간에 공백은 1개로 처리 \n",
        "4.  한글 자음 모음 제거\n",
        "\n",
        "## okt.pos 함수 \n",
        "* norm : 정규화 \n",
        "* stem : 어간 추출\n",
        "* 품사 태깅"
      ]
    },
    {
      "cell_type": "code",
      "metadata": {
        "id": "Wbor80uVBcxJ",
        "colab_type": "code",
        "colab": {}
      },
      "source": [
        "processing_lines = [tokenize(line) for line in lines]"
      ],
      "execution_count": 0,
      "outputs": []
    },
    {
      "cell_type": "code",
      "metadata": {
        "id": "0ciexPLwB1YQ",
        "colab_type": "code",
        "outputId": "cc575173-e17b-42d3-bf59-cbae3329ec80",
        "colab": {
          "base_uri": "https://localhost:8080/",
          "height": 143
        }
      },
      "source": [
        "processing_lines[0:1]"
      ],
      "execution_count": 0,
      "outputs": [
        {
          "output_type": "execute_result",
          "data": {
            "text/plain": [
              "[['시사회/Noun',\n",
              "  '동화/Noun',\n",
              "  '재즈/Noun',\n",
              "  '뮤지컬/Noun',\n",
              "  '만남/Noun',\n",
              "  '지루하다/Adjective',\n",
              "  '재밌다/Adjective']]"
            ]
          },
          "metadata": {
            "tags": []
          },
          "execution_count": 97
        }
      ]
    },
    {
      "cell_type": "code",
      "metadata": {
        "id": "uUVTyQqzB3Sg",
        "colab_type": "code",
        "outputId": "4423dce3-8628-4080-aff1-990b1716e18f",
        "colab": {
          "base_uri": "https://localhost:8080/",
          "height": 413
        }
      },
      "source": [
        "\n",
        "tokens = [t for d in processing_lines for t in d ]\n",
        "text = nltk.Text(tokens, name='영화리뷰')\n",
        "\n",
        "# 전체 토큰의 개수\n",
        "print(len(text.tokens))\n",
        "\n",
        "# 중복을 제외한 토큰의 개수\n",
        "print(len(set(text.tokens)))            \n",
        "\n",
        "# 출현 빈도가 높은 상위 토큰 20개\n",
        "pprint(text.vocab().most_common(20))"
      ],
      "execution_count": 0,
      "outputs": [
        {
          "output_type": "stream",
          "text": [
            "138496\n",
            "7383\n",
            "[('영화/Noun', 9133),\n",
            " ('관람객/Noun', 8393),\n",
            " ('좋다/Adjective', 3515),\n",
            " ('음악/Noun', 2234),\n",
            " ('있다/Adjective', 1647),\n",
            " ('같다/Adjective', 1630),\n",
            " ('꿈/Noun', 1517),\n",
            " ('아름답다/Adjective', 1378),\n",
            " ('마지막/Noun', 1286),\n",
            " ('없다/Adjective', 1207),\n",
            " ('최고/Noun', 1170),\n",
            " ('사랑/Noun', 1105),\n",
            " ('노래/Noun', 1059),\n",
            " ('재밌다/Adjective', 1056),\n",
            " ('인생/Noun', 1028),\n",
            " ('정말/Noun', 1012),\n",
            " ('것/Noun', 1007),\n",
            " ('현실/Noun', 909),\n",
            " ('여운/Noun', 877),\n",
            " ('생각/Noun', 873)]\n"
          ],
          "name": "stdout"
        }
      ]
    },
    {
      "cell_type": "code",
      "metadata": {
        "id": "Zj_9wjmpGyYt",
        "colab_type": "code",
        "outputId": "66589206-6eca-4467-fdea-a67f325e9c85",
        "colab": {
          "base_uri": "https://localhost:8080/",
          "height": 682
        }
      },
      "source": [
        "plt.figure(figsize=(20,10))\n",
        "text.plot(20)"
      ],
      "execution_count": 0,
      "outputs": [
        {
          "output_type": "display_data",
          "data": {
            "image/png": "[encoded data removed]",
            "text/plain": [
              "<Figure size 1440x720 with 1 Axes>"
            ]
          },
          "metadata": {
            "tags": []
          }
        }
      ]
    },
    {
      "cell_type": "code",
      "metadata": {
        "id": "oq2HBSArCuou",
        "colab_type": "code",
        "colab": {}
      },
      "source": [
        "selected_words = [f[0] for f in text.vocab().most_common(10000)]\n",
        "\n",
        "def term_frequency(doc):\n",
        "    return [doc.count(word) for word in selected_words]\n",
        "\n",
        "bow = [term_frequency(d) for d in processing_lines]"
      ],
      "execution_count": 0,
      "outputs": []
    },
    {
      "cell_type": "code",
      "metadata": {
        "id": "beEqqzzRCxl9",
        "colab_type": "code",
        "outputId": "60ba5566-947b-46d2-f6ee-e6180be0f71a",
        "colab": {
          "base_uri": "https://localhost:8080/",
          "height": 35
        }
      },
      "source": [
        "np.asarray(bow).astype('float32').shape"
      ],
      "execution_count": 0,
      "outputs": [
        {
          "output_type": "execute_result",
          "data": {
            "text/plain": [
              "(15599, 7383)"
            ]
          },
          "metadata": {
            "tags": []
          },
          "execution_count": 101
        }
      ]
    },
    {
      "cell_type": "code",
      "metadata": {
        "id": "o5LY2La-F5fe",
        "colab_type": "code",
        "outputId": "925c2aed-4488-4e33-899d-33dc9cb76eb1",
        "colab": {
          "base_uri": "https://localhost:8080/",
          "height": 35
        }
      },
      "source": [
        "np.sum(np.asarray(bow)[0:1,:])"
      ],
      "execution_count": 0,
      "outputs": [
        {
          "output_type": "execute_result",
          "data": {
            "text/plain": [
              "7"
            ]
          },
          "metadata": {
            "tags": []
          },
          "execution_count": 102
        }
      ]
    },
    {
      "cell_type": "code",
      "metadata": {
        "id": "um9SsJ0VESbs",
        "colab_type": "code",
        "outputId": "65b7da16-e106-4ab8-caf2-61ec1969e560",
        "colab": {
          "base_uri": "https://localhost:8080/",
          "height": 143
        }
      },
      "source": [
        "processing_lines[0:1]"
      ],
      "execution_count": 0,
      "outputs": [
        {
          "output_type": "execute_result",
          "data": {
            "text/plain": [
              "[['시사회/Noun',\n",
              "  '동화/Noun',\n",
              "  '재즈/Noun',\n",
              "  '뮤지컬/Noun',\n",
              "  '만남/Noun',\n",
              "  '지루하다/Adjective',\n",
              "  '재밌다/Adjective']]"
            ]
          },
          "metadata": {
            "tags": []
          },
          "execution_count": 104
        }
      ]
    },
    {
      "cell_type": "markdown",
      "metadata": {
        "id": "GpSOxknRRsOi",
        "colab_type": "text"
      },
      "source": [
        "## Bag of Word"
      ]
    },
    {
      "cell_type": "code",
      "metadata": {
        "id": "9aWJT-J7Qx9i",
        "colab_type": "code",
        "outputId": "ceb4c5a1-0150-48ec-ebe3-7ef1565d1c75",
        "colab": {
          "base_uri": "https://localhost:8080/",
          "height": 146
        }
      },
      "source": [
        "import pandas as pd\n",
        "pd.DataFrame(np.asarray(bow) , columns = selected_words).head(1)"
      ],
      "execution_count": 0,
      "outputs": [
        {
          "output_type": "execute_result",
          "data": {
            "text/html": [
              "<div>\n",
              "<style scoped>\n",
              "    .dataframe tbody tr th:only-of-type {\n",
              "        vertical-align: middle;\n",
              "    }\n",
              "\n",
              "    .dataframe tbody tr th {\n",
              "        vertical-align: top;\n",
              "    }\n",
              "\n",
              "    .dataframe thead th {\n",
              "        text-align: right;\n",
              "    }\n",
              "</style>\n",
              "<table border=\"1\" class=\"dataframe\">\n",
              "  <thead>\n",
              "    <tr style=\"text-align: right;\">\n",
              "      <th></th>\n",
              "      <th>영화/Noun</th>\n",
              "      <th>관람객/Noun</th>\n",
              "      <th>좋다/Adjective</th>\n",
              "      <th>음악/Noun</th>\n",
              "      <th>있다/Adjective</th>\n",
              "      <th>같다/Adjective</th>\n",
              "      <th>꿈/Noun</th>\n",
              "      <th>아름답다/Adjective</th>\n",
              "      <th>마지막/Noun</th>\n",
              "      <th>없다/Adjective</th>\n",
              "      <th>최고/Noun</th>\n",
              "      <th>사랑/Noun</th>\n",
              "      <th>노래/Noun</th>\n",
              "      <th>재밌다/Adjective</th>\n",
              "      <th>인생/Noun</th>\n",
              "      <th>정말/Noun</th>\n",
              "      <th>것/Noun</th>\n",
              "      <th>현실/Noun</th>\n",
              "      <th>여운/Noun</th>\n",
              "      <th>생각/Noun</th>\n",
              "      <th>뮤지컬/Noun</th>\n",
              "      <th>스토리/Noun</th>\n",
              "      <th>감동/Noun</th>\n",
              "      <th>지루하다/Adjective</th>\n",
              "      <th>아니다/Adjective</th>\n",
              "      <th>영상/Noun</th>\n",
              "      <th>장면/Noun</th>\n",
              "      <th>이/Noun</th>\n",
              "      <th>이다/Adjective</th>\n",
              "      <th>더/Noun</th>\n",
              "      <th>사람/Noun</th>\n",
              "      <th>보고/Noun</th>\n",
              "      <th>슬프다/Adjective</th>\n",
              "      <th>그/Noun</th>\n",
              "      <th>수/Noun</th>\n",
              "      <th>진짜/Noun</th>\n",
              "      <th>결말/Noun</th>\n",
              "      <th>내/Noun</th>\n",
              "      <th>처음/Noun</th>\n",
              "      <th>상미/Noun</th>\n",
              "      <th>...</th>\n",
              "      <th>반항/Noun</th>\n",
              "      <th>낄낄/Noun</th>\n",
              "      <th>차질레/Noun</th>\n",
              "      <th>비평/Noun</th>\n",
              "      <th>주변인/Noun</th>\n",
              "      <th>거임/Noun</th>\n",
              "      <th>상술/Noun</th>\n",
              "      <th>도감/Noun</th>\n",
              "      <th>핫/Noun</th>\n",
              "      <th>승부/Noun</th>\n",
              "      <th>별보/Noun</th>\n",
              "      <th>때완/Noun</th>\n",
              "      <th>수천/Noun</th>\n",
              "      <th>티증/Noun</th>\n",
              "      <th>송녕회때/Noun</th>\n",
              "      <th>부서/Noun</th>\n",
              "      <th>필모/Noun</th>\n",
              "      <th>디운/Noun</th>\n",
              "      <th>유재석/Noun</th>\n",
              "      <th>나날/Noun</th>\n",
              "      <th>홀림/Noun</th>\n",
              "      <th>기반/Noun</th>\n",
              "      <th>거란/Noun</th>\n",
              "      <th>해피해피/Noun</th>\n",
              "      <th>맘애/Noun</th>\n",
              "      <th>몸핏오지/Noun</th>\n",
              "      <th>무디/Noun</th>\n",
              "      <th>떫어/Noun</th>\n",
              "      <th>끝맛/Noun</th>\n",
              "      <th>핵추/Noun</th>\n",
              "      <th>청해/Noun</th>\n",
              "      <th>기성/Noun</th>\n",
              "      <th>곡성/Noun</th>\n",
              "      <th>허리우드/Noun</th>\n",
              "      <th>셀브르/Noun</th>\n",
              "      <th>빗장/Noun</th>\n",
              "      <th>빼기/Noun</th>\n",
              "      <th>열거/Noun</th>\n",
              "      <th>제작비/Noun</th>\n",
              "      <th>지지리/Noun</th>\n",
              "    </tr>\n",
              "  </thead>\n",
              "  <tbody>\n",
              "    <tr>\n",
              "      <th>0</th>\n",
              "      <td>0</td>\n",
              "      <td>0</td>\n",
              "      <td>0</td>\n",
              "      <td>0</td>\n",
              "      <td>0</td>\n",
              "      <td>0</td>\n",
              "      <td>0</td>\n",
              "      <td>0</td>\n",
              "      <td>0</td>\n",
              "      <td>0</td>\n",
              "      <td>0</td>\n",
              "      <td>0</td>\n",
              "      <td>0</td>\n",
              "      <td>1</td>\n",
              "      <td>0</td>\n",
              "      <td>0</td>\n",
              "      <td>0</td>\n",
              "      <td>0</td>\n",
              "      <td>0</td>\n",
              "      <td>0</td>\n",
              "      <td>1</td>\n",
              "      <td>0</td>\n",
              "      <td>0</td>\n",
              "      <td>1</td>\n",
              "      <td>0</td>\n",
              "      <td>0</td>\n",
              "      <td>0</td>\n",
              "      <td>0</td>\n",
              "      <td>0</td>\n",
              "      <td>0</td>\n",
              "      <td>0</td>\n",
              "      <td>0</td>\n",
              "      <td>0</td>\n",
              "      <td>0</td>\n",
              "      <td>0</td>\n",
              "      <td>0</td>\n",
              "      <td>0</td>\n",
              "      <td>0</td>\n",
              "      <td>0</td>\n",
              "      <td>0</td>\n",
              "      <td>...</td>\n",
              "      <td>0</td>\n",
              "      <td>0</td>\n",
              "      <td>0</td>\n",
              "      <td>0</td>\n",
              "      <td>0</td>\n",
              "      <td>0</td>\n",
              "      <td>0</td>\n",
              "      <td>0</td>\n",
              "      <td>0</td>\n",
              "      <td>0</td>\n",
              "      <td>0</td>\n",
              "      <td>0</td>\n",
              "      <td>0</td>\n",
              "      <td>0</td>\n",
              "      <td>0</td>\n",
              "      <td>0</td>\n",
              "      <td>0</td>\n",
              "      <td>0</td>\n",
              "      <td>0</td>\n",
              "      <td>0</td>\n",
              "      <td>0</td>\n",
              "      <td>0</td>\n",
              "      <td>0</td>\n",
              "      <td>0</td>\n",
              "      <td>0</td>\n",
              "      <td>0</td>\n",
              "      <td>0</td>\n",
              "      <td>0</td>\n",
              "      <td>0</td>\n",
              "      <td>0</td>\n",
              "      <td>0</td>\n",
              "      <td>0</td>\n",
              "      <td>0</td>\n",
              "      <td>0</td>\n",
              "      <td>0</td>\n",
              "      <td>0</td>\n",
              "      <td>0</td>\n",
              "      <td>0</td>\n",
              "      <td>0</td>\n",
              "      <td>0</td>\n",
              "    </tr>\n",
              "  </tbody>\n",
              "</table>\n",
              "<p>1 rows × 7383 columns</p>\n",
              "</div>"
            ],
            "text/plain": [
              "   영화/Noun  관람객/Noun  좋다/Adjective  ...  열거/Noun  제작비/Noun  지지리/Noun\n",
              "0        0         0             0  ...        0         0         0\n",
              "\n",
              "[1 rows x 7383 columns]"
            ]
          },
          "metadata": {
            "tags": []
          },
          "execution_count": 105
        }
      ]
    },
    {
      "cell_type": "code",
      "metadata": {
        "id": "ESXzDq6ZXrQr",
        "colab_type": "code",
        "outputId": "dc997749-5308-4714-af12-39f51facb922",
        "colab": {
          "base_uri": "https://localhost:8080/",
          "height": 80
        }
      },
      "source": [
        "(pd.DataFrame(np.asarray(bow) , columns = selected_words).head(1)[processing_lines[0:1][0]])"
      ],
      "execution_count": 0,
      "outputs": [
        {
          "output_type": "execute_result",
          "data": {
            "text/html": [
              "<div>\n",
              "<style scoped>\n",
              "    .dataframe tbody tr th:only-of-type {\n",
              "        vertical-align: middle;\n",
              "    }\n",
              "\n",
              "    .dataframe tbody tr th {\n",
              "        vertical-align: top;\n",
              "    }\n",
              "\n",
              "    .dataframe thead th {\n",
              "        text-align: right;\n",
              "    }\n",
              "</style>\n",
              "<table border=\"1\" class=\"dataframe\">\n",
              "  <thead>\n",
              "    <tr style=\"text-align: right;\">\n",
              "      <th></th>\n",
              "      <th>시사회/Noun</th>\n",
              "      <th>동화/Noun</th>\n",
              "      <th>재즈/Noun</th>\n",
              "      <th>뮤지컬/Noun</th>\n",
              "      <th>만남/Noun</th>\n",
              "      <th>지루하다/Adjective</th>\n",
              "      <th>재밌다/Adjective</th>\n",
              "    </tr>\n",
              "  </thead>\n",
              "  <tbody>\n",
              "    <tr>\n",
              "      <th>0</th>\n",
              "      <td>1</td>\n",
              "      <td>1</td>\n",
              "      <td>1</td>\n",
              "      <td>1</td>\n",
              "      <td>1</td>\n",
              "      <td>1</td>\n",
              "      <td>1</td>\n",
              "    </tr>\n",
              "  </tbody>\n",
              "</table>\n",
              "</div>"
            ],
            "text/plain": [
              "   시사회/Noun  동화/Noun  재즈/Noun  뮤지컬/Noun  만남/Noun  지루하다/Adjective  재밌다/Adjective\n",
              "0         1        1        1         1        1               1              1"
            ]
          },
          "metadata": {
            "tags": []
          },
          "execution_count": 118
        }
      ]
    },
    {
      "cell_type": "markdown",
      "metadata": {
        "id": "CRZxgH5edfAp",
        "colab_type": "text"
      },
      "source": [
        "## CountVectorizor 사용"
      ]
    },
    {
      "cell_type": "code",
      "metadata": {
        "id": "0xwtgMbHdKSS",
        "colab_type": "code",
        "outputId": "dafd8119-a71d-43cf-db7d-9cff5d0eb82d",
        "colab": {
          "base_uri": "https://localhost:8080/",
          "height": 35
        }
      },
      "source": [
        "vectorizer = CountVectorizer(\n",
        "    tokenizer= tokenize ,\n",
        "    min_df=0.005,\n",
        "    max_df=0.95\n",
        ")\n",
        "\n",
        "x_sparse = vectorizer.fit_transform(lines)\n",
        "x_sparse.shape"
      ],
      "execution_count": 0,
      "outputs": [
        {
          "output_type": "execute_result",
          "data": {
            "text/plain": [
              "(15599, 263)"
            ]
          },
          "metadata": {
            "tags": []
          },
          "execution_count": 125
        }
      ]
    },
    {
      "cell_type": "code",
      "metadata": {
        "id": "qxFu03_6d0BK",
        "colab_type": "code",
        "outputId": "78e08ee9-545a-46a7-847a-7832cbd3d455",
        "colab": {
          "base_uri": "https://localhost:8080/",
          "height": 80
        }
      },
      "source": [
        "d = pd.DataFrame(x_sparse.toarray(), columns = vectorizer.get_feature_names()).head(1)\n",
        "d.loc[:,(d>0).values.tolist()[0]]"
      ],
      "execution_count": 0,
      "outputs": [
        {
          "output_type": "execute_result",
          "data": {
            "text/html": [
              "<div>\n",
              "<style scoped>\n",
              "    .dataframe tbody tr th:only-of-type {\n",
              "        vertical-align: middle;\n",
              "    }\n",
              "\n",
              "    .dataframe tbody tr th {\n",
              "        vertical-align: top;\n",
              "    }\n",
              "\n",
              "    .dataframe thead th {\n",
              "        text-align: right;\n",
              "    }\n",
              "</style>\n",
              "<table border=\"1\" class=\"dataframe\">\n",
              "  <thead>\n",
              "    <tr style=\"text-align: right;\">\n",
              "      <th></th>\n",
              "      <th>동화/Noun</th>\n",
              "      <th>뮤지컬/Noun</th>\n",
              "      <th>재밌다/Adjective</th>\n",
              "      <th>재즈/Noun</th>\n",
              "      <th>지루하다/Adjective</th>\n",
              "    </tr>\n",
              "  </thead>\n",
              "  <tbody>\n",
              "    <tr>\n",
              "      <th>0</th>\n",
              "      <td>1</td>\n",
              "      <td>1</td>\n",
              "      <td>1</td>\n",
              "      <td>1</td>\n",
              "      <td>1</td>\n",
              "    </tr>\n",
              "  </tbody>\n",
              "</table>\n",
              "</div>"
            ],
            "text/plain": [
              "   동화/Noun  뮤지컬/Noun  재밌다/Adjective  재즈/Noun  지루하다/Adjective\n",
              "0        1         1              1        1               1"
            ]
          },
          "metadata": {
            "tags": []
          },
          "execution_count": 151
        }
      ]
    },
    {
      "cell_type": "markdown",
      "metadata": {
        "id": "mXwWRuhcfKJ4",
        "colab_type": "text"
      },
      "source": [
        "## TF-IDF로 변환하기"
      ]
    },
    {
      "cell_type": "code",
      "metadata": {
        "id": "bf8Y6mqDeJ3_",
        "colab_type": "code",
        "colab": {}
      },
      "source": [
        "from sklearn.feature_extraction.text import TfidfTransformer\n",
        "\n",
        "transformer = TfidfTransformer()\n",
        "tf_idf_X = transformer.fit_transform(x_sparse)"
      ],
      "execution_count": 0,
      "outputs": []
    },
    {
      "cell_type": "code",
      "metadata": {
        "id": "qGd38YCEeRV9",
        "colab_type": "code",
        "outputId": "4635fcf8-497c-45ab-fa39-0b5def339df5",
        "colab": {
          "base_uri": "https://localhost:8080/",
          "height": 80
        }
      },
      "source": [
        "d = pd.DataFrame(tf_idf_X.toarray(), columns = vectorizer.get_feature_names()).head(1)\n",
        "d.loc[:,(d>0).values.tolist()[0]]"
      ],
      "execution_count": 0,
      "outputs": [
        {
          "output_type": "execute_result",
          "data": {
            "text/html": [
              "<div>\n",
              "<style scoped>\n",
              "    .dataframe tbody tr th:only-of-type {\n",
              "        vertical-align: middle;\n",
              "    }\n",
              "\n",
              "    .dataframe tbody tr th {\n",
              "        vertical-align: top;\n",
              "    }\n",
              "\n",
              "    .dataframe thead th {\n",
              "        text-align: right;\n",
              "    }\n",
              "</style>\n",
              "<table border=\"1\" class=\"dataframe\">\n",
              "  <thead>\n",
              "    <tr style=\"text-align: right;\">\n",
              "      <th></th>\n",
              "      <th>동화/Noun</th>\n",
              "      <th>뮤지컬/Noun</th>\n",
              "      <th>재밌다/Adjective</th>\n",
              "      <th>재즈/Noun</th>\n",
              "      <th>지루하다/Adjective</th>\n",
              "    </tr>\n",
              "  </thead>\n",
              "  <tbody>\n",
              "    <tr>\n",
              "      <th>0</th>\n",
              "      <td>0.561098</td>\n",
              "      <td>0.399836</td>\n",
              "      <td>0.377975</td>\n",
              "      <td>0.462993</td>\n",
              "      <td>0.409967</td>\n",
              "    </tr>\n",
              "  </tbody>\n",
              "</table>\n",
              "</div>"
            ],
            "text/plain": [
              "    동화/Noun  뮤지컬/Noun  재밌다/Adjective   재즈/Noun  지루하다/Adjective\n",
              "0  0.561098  0.399836       0.377975  0.462993        0.409967"
            ]
          },
          "metadata": {
            "tags": []
          },
          "execution_count": 152
        }
      ]
    },
    {
      "cell_type": "code",
      "metadata": {
        "id": "CJy-iYq_S3Vj",
        "colab_type": "code",
        "colab": {}
      },
      "source": [
        "from collections import defaultdict\n",
        "\n",
        "def get_ngram_counter(docs, min_count=10, n_range=(1,3)):\n",
        "\n",
        "    def remove(x) :\n",
        "        m = re.sub(r'(?:\\b[0-9a-zA-Zㄱ-ㅎㅏ-ㅣ]\\b|[?!\\W]+)\\s*', ' ', x).strip() \n",
        "        m = \" \".join(m.split())\n",
        "        return m\n",
        "    \n",
        "    def tokenize(doc):\n",
        "        # norm은 정규화, stem은 근어로 표시하기를 나타냄\n",
        "        return ['/'.join(t) for t in okt.pos(remove(doc), norm=True, stem=True ) if t[1] in ['Noun','Adjective']]\n",
        "\n",
        "    def to_ngrams(words, n):\n",
        "        ngrams = []\n",
        "        for b in range(0, len(words) - n + 1):\n",
        "            ngrams.append(tuple(words[b:b+n]))\n",
        "        return ngrams\n",
        "\n",
        "    n_begin, n_end = n_range\n",
        "    ngram_counter = defaultdict(int)\n",
        "    for doc in docs:\n",
        "        words = okt.pos(doc , norm=True, stem=True , join = True) # tokenize(doc)\n",
        "        for n in range(n_begin, n_end + 1):\n",
        "            for ngram in to_ngrams(words, n):\n",
        "                ngram_counter[ngram] += 1\n",
        "\n",
        "    ngram_counter = {\n",
        "        ngram:count for ngram, count in ngram_counter.items()\n",
        "        if count >= min_count\n",
        "    }\n",
        "\n",
        "    return ngram_counter"
      ],
      "execution_count": 0,
      "outputs": []
    },
    {
      "cell_type": "code",
      "metadata": {
        "id": "ZmWSTr4QRPdp",
        "colab_type": "code",
        "colab": {}
      },
      "source": [
        "class NgramTokenizer:\n",
        "\n",
        "    def __init__(self, ngrams, base_tokenizer, n_range=(1, 3)):\n",
        "        self.ngrams = ngrams\n",
        "        self.base_tokenizer = base_tokenizer\n",
        "        self.n_range = n_range\n",
        "\n",
        "    def __call__(self, sent):\n",
        "        return self.tokenize(sent)\n",
        "\n",
        "    def tokenize(self, sent):\n",
        "        if not sent:\n",
        "            return []\n",
        "\n",
        "        unigrams = self.base_tokenizer.pos(sent , norm=True, stem=True, join = True)\n",
        "\n",
        "        n_begin, n_end = self.n_range\n",
        "        ngrams = []\n",
        "        for n in range(n_begin, n_end + 1):\n",
        "            for ngram in self._to_ngrams(unigrams, n):\n",
        "                ngrams.append('-'.join(ngram))\n",
        "        return ngrams\n",
        "\n",
        "    def _to_ngrams(self, words, n):\n",
        "        ngrams = []\n",
        "        for b in range(0, len(words) - n + 1):\n",
        "            ngram = tuple(words[b:b+n])\n",
        "            if ngram in self.ngrams:\n",
        "                ngrams.append(ngram)\n",
        "        return ngrams\n"
      ],
      "execution_count": 0,
      "outputs": []
    },
    {
      "cell_type": "markdown",
      "metadata": {
        "id": "kk8CmYCrce1_",
        "colab_type": "text"
      },
      "source": [
        "## unigram : 단어 1개씩 확인\n",
        "## bigram : 단어 2개씩 확인"
      ]
    },
    {
      "cell_type": "code",
      "metadata": {
        "id": "N4EQS56pUwKu",
        "colab_type": "code",
        "colab": {}
      },
      "source": [
        "ngram_counter = get_ngram_counter(lines , n_range=(1,2))"
      ],
      "execution_count": 0,
      "outputs": []
    },
    {
      "cell_type": "markdown",
      "metadata": {
        "id": "1YCDg1BYWo5a",
        "colab_type": "text"
      },
      "source": [
        "## Unigram"
      ]
    },
    {
      "cell_type": "code",
      "metadata": {
        "id": "uDKdx7SSU3r0",
        "colab_type": "code",
        "outputId": "9a6ab560-ca8e-4547-e247-ee39c0bd7d1a",
        "colab": {
          "base_uri": "https://localhost:8080/",
          "height": 233
        }
      },
      "source": [
        "ngram_tokenizer = NgramTokenizer(ngram_counter, okt, n_range = (1,1))\n",
        "ngram_tokenizer(lines[0])"
      ],
      "execution_count": 0,
      "outputs": [
        {
          "output_type": "execute_result",
          "data": {
            "text/plain": [
              "['시사회/Noun',\n",
              " '에서/Josa',\n",
              " '보고오다/Verb',\n",
              " '동화/Noun',\n",
              " '와/Josa',\n",
              " '재즈/Noun',\n",
              " '뮤지컬/Noun',\n",
              " '의/Josa',\n",
              " '만남/Noun',\n",
              " '지루하다/Adjective',\n",
              " '않다/Verb',\n",
              " '재밌다/Adjective']"
            ]
          },
          "metadata": {
            "tags": []
          },
          "execution_count": 200
        }
      ]
    },
    {
      "cell_type": "code",
      "metadata": {
        "id": "Dy_mq-vnVqWU",
        "colab_type": "code",
        "outputId": "cc9bb6f7-cdbf-4a55-9628-d7246908afcb",
        "colab": {
          "base_uri": "https://localhost:8080/",
          "height": 35
        }
      },
      "source": [
        "from sklearn.feature_extraction.text import CountVectorizer\n",
        "vectorizer = CountVectorizer(\n",
        "    tokenizer = ngram_tokenizer,\n",
        "    lowercase = False,\n",
        "    stop_words = [\"영화/Noun\", '관람객/Noun']\n",
        ")\n",
        "x = vectorizer.fit_transform(lines)\n",
        "x.shape"
      ],
      "execution_count": 0,
      "outputs": [
        {
          "output_type": "execute_result",
          "data": {
            "text/plain": [
              "(15599, 1954)"
            ]
          },
          "metadata": {
            "tags": []
          },
          "execution_count": 201
        }
      ]
    },
    {
      "cell_type": "code",
      "metadata": {
        "id": "hbuFARQBVwES",
        "colab_type": "code",
        "outputId": "c05bb6a6-9fb4-45f7-89e7-4f8de996b3b2",
        "colab": {
          "base_uri": "https://localhost:8080/",
          "height": 80
        }
      },
      "source": [
        "(pd.DataFrame(x.toarray() , columns = vectorizer.get_feature_names()).head(1)\n",
        "[ngram_tokenizer(lines[0])])"
      ],
      "execution_count": 0,
      "outputs": [
        {
          "output_type": "execute_result",
          "data": {
            "text/html": [
              "<div>\n",
              "<style scoped>\n",
              "    .dataframe tbody tr th:only-of-type {\n",
              "        vertical-align: middle;\n",
              "    }\n",
              "\n",
              "    .dataframe tbody tr th {\n",
              "        vertical-align: top;\n",
              "    }\n",
              "\n",
              "    .dataframe thead th {\n",
              "        text-align: right;\n",
              "    }\n",
              "</style>\n",
              "<table border=\"1\" class=\"dataframe\">\n",
              "  <thead>\n",
              "    <tr style=\"text-align: right;\">\n",
              "      <th></th>\n",
              "      <th>시사회/Noun</th>\n",
              "      <th>에서/Josa</th>\n",
              "      <th>보고오다/Verb</th>\n",
              "      <th>동화/Noun</th>\n",
              "      <th>와/Josa</th>\n",
              "      <th>재즈/Noun</th>\n",
              "      <th>뮤지컬/Noun</th>\n",
              "      <th>의/Josa</th>\n",
              "      <th>만남/Noun</th>\n",
              "      <th>지루하다/Adjective</th>\n",
              "      <th>않다/Verb</th>\n",
              "      <th>재밌다/Adjective</th>\n",
              "    </tr>\n",
              "  </thead>\n",
              "  <tbody>\n",
              "    <tr>\n",
              "      <th>0</th>\n",
              "      <td>1</td>\n",
              "      <td>1</td>\n",
              "      <td>1</td>\n",
              "      <td>1</td>\n",
              "      <td>1</td>\n",
              "      <td>1</td>\n",
              "      <td>1</td>\n",
              "      <td>1</td>\n",
              "      <td>1</td>\n",
              "      <td>1</td>\n",
              "      <td>1</td>\n",
              "      <td>1</td>\n",
              "    </tr>\n",
              "  </tbody>\n",
              "</table>\n",
              "</div>"
            ],
            "text/plain": [
              "   시사회/Noun  에서/Josa  보고오다/Verb  ...  지루하다/Adjective  않다/Verb  재밌다/Adjective\n",
              "0         1        1          1  ...               1        1              1\n",
              "\n",
              "[1 rows x 12 columns]"
            ]
          },
          "metadata": {
            "tags": []
          },
          "execution_count": 204
        }
      ]
    },
    {
      "cell_type": "code",
      "metadata": {
        "id": "b5wG5hbRixIQ",
        "colab_type": "code",
        "outputId": "63ab0fce-1bbe-44e5-a4c7-0fd9d729d62a",
        "colab": {
          "base_uri": "https://localhost:8080/",
          "height": 80
        }
      },
      "source": [
        "transformer = TfidfTransformer()\n",
        "tf_idf_unigram_X = transformer.fit_transform(x)\n",
        "(pd.DataFrame(tf_idf_unigram_X.toarray(),\n",
        "             columns = vectorizer.get_feature_names()).head(1)\n",
        "             [ngram_tokenizer(lines[0])])"
      ],
      "execution_count": 0,
      "outputs": [
        {
          "output_type": "execute_result",
          "data": {
            "text/html": [
              "<div>\n",
              "<style scoped>\n",
              "    .dataframe tbody tr th:only-of-type {\n",
              "        vertical-align: middle;\n",
              "    }\n",
              "\n",
              "    .dataframe tbody tr th {\n",
              "        vertical-align: top;\n",
              "    }\n",
              "\n",
              "    .dataframe thead th {\n",
              "        text-align: right;\n",
              "    }\n",
              "</style>\n",
              "<table border=\"1\" class=\"dataframe\">\n",
              "  <thead>\n",
              "    <tr style=\"text-align: right;\">\n",
              "      <th></th>\n",
              "      <th>시사회/Noun</th>\n",
              "      <th>에서/Josa</th>\n",
              "      <th>보고오다/Verb</th>\n",
              "      <th>동화/Noun</th>\n",
              "      <th>와/Josa</th>\n",
              "      <th>재즈/Noun</th>\n",
              "      <th>뮤지컬/Noun</th>\n",
              "      <th>의/Josa</th>\n",
              "      <th>만남/Noun</th>\n",
              "      <th>지루하다/Adjective</th>\n",
              "      <th>않다/Verb</th>\n",
              "      <th>재밌다/Adjective</th>\n",
              "    </tr>\n",
              "  </thead>\n",
              "  <tbody>\n",
              "    <tr>\n",
              "      <th>0</th>\n",
              "      <td>0.440936</td>\n",
              "      <td>0.22202</td>\n",
              "      <td>0.37791</td>\n",
              "      <td>0.313503</td>\n",
              "      <td>0.235528</td>\n",
              "      <td>0.258689</td>\n",
              "      <td>0.223401</td>\n",
              "      <td>0.152124</td>\n",
              "      <td>0.423895</td>\n",
              "      <td>0.229062</td>\n",
              "      <td>0.207324</td>\n",
              "      <td>0.211187</td>\n",
              "    </tr>\n",
              "  </tbody>\n",
              "</table>\n",
              "</div>"
            ],
            "text/plain": [
              "   시사회/Noun  에서/Josa  보고오다/Verb  ...  지루하다/Adjective   않다/Verb  재밌다/Adjective\n",
              "0  0.440936  0.22202    0.37791  ...        0.229062  0.207324       0.211187\n",
              "\n",
              "[1 rows x 12 columns]"
            ]
          },
          "metadata": {
            "tags": []
          },
          "execution_count": 206
        }
      ]
    },
    {
      "cell_type": "markdown",
      "metadata": {
        "id": "HcwxROZ4WkiG",
        "colab_type": "text"
      },
      "source": [
        "## Bigram"
      ]
    },
    {
      "cell_type": "code",
      "metadata": {
        "id": "mmXJL4myRYyx",
        "colab_type": "code",
        "outputId": "18d52caa-1188-4db6-df40-5b47e82cf1ad",
        "colab": {
          "base_uri": "https://localhost:8080/",
          "height": 35
        }
      },
      "source": [
        "ngram_tokenizer = NgramTokenizer(ngram_counter, okt, n_range = (2,2))\n",
        "ngram_tokenizer(lines[0])"
      ],
      "execution_count": 0,
      "outputs": [
        {
          "output_type": "execute_result",
          "data": {
            "text/plain": [
              "['뮤지컬/Noun-의/Josa', '지루하다/Adjective-않다/Verb']"
            ]
          },
          "metadata": {
            "tags": []
          },
          "execution_count": 207
        }
      ]
    },
    {
      "cell_type": "code",
      "metadata": {
        "id": "6vzkh2OBSgH2",
        "colab_type": "code",
        "outputId": "9fb8d88b-694f-4eb1-ada5-7cdde76ea7f2",
        "colab": {
          "base_uri": "https://localhost:8080/",
          "height": 35
        }
      },
      "source": [
        "from sklearn.feature_extraction.text import CountVectorizer\n",
        "\n",
        "\n",
        "vectorizer = CountVectorizer(\n",
        "    tokenizer = ngram_tokenizer,\n",
        "    lowercase = False,\n",
        ")\n",
        "x = vectorizer.fit_transform(lines)\n",
        "x.shape"
      ],
      "execution_count": 0,
      "outputs": [
        {
          "output_type": "execute_result",
          "data": {
            "text/plain": [
              "(15599, 2897)"
            ]
          },
          "metadata": {
            "tags": []
          },
          "execution_count": 208
        }
      ]
    },
    {
      "cell_type": "code",
      "metadata": {
        "id": "SxuyxKktTyRd",
        "colab_type": "code",
        "outputId": "d23f7858-1db2-4bbb-9d08-2499c4d35385",
        "colab": {
          "base_uri": "https://localhost:8080/",
          "height": 80
        }
      },
      "source": [
        "(pd.DataFrame(x.toarray(), \n",
        "              columns = vectorizer.get_feature_names()).head(1)\n",
        "              [ngram_tokenizer(lines[0])])"
      ],
      "execution_count": 0,
      "outputs": [
        {
          "output_type": "execute_result",
          "data": {
            "text/html": [
              "<div>\n",
              "<style scoped>\n",
              "    .dataframe tbody tr th:only-of-type {\n",
              "        vertical-align: middle;\n",
              "    }\n",
              "\n",
              "    .dataframe tbody tr th {\n",
              "        vertical-align: top;\n",
              "    }\n",
              "\n",
              "    .dataframe thead th {\n",
              "        text-align: right;\n",
              "    }\n",
              "</style>\n",
              "<table border=\"1\" class=\"dataframe\">\n",
              "  <thead>\n",
              "    <tr style=\"text-align: right;\">\n",
              "      <th></th>\n",
              "      <th>뮤지컬/Noun-의/Josa</th>\n",
              "      <th>지루하다/Adjective-않다/Verb</th>\n",
              "    </tr>\n",
              "  </thead>\n",
              "  <tbody>\n",
              "    <tr>\n",
              "      <th>0</th>\n",
              "      <td>1</td>\n",
              "      <td>1</td>\n",
              "    </tr>\n",
              "  </tbody>\n",
              "</table>\n",
              "</div>"
            ],
            "text/plain": [
              "   뮤지컬/Noun-의/Josa  지루하다/Adjective-않다/Verb\n",
              "0                1                       1"
            ]
          },
          "metadata": {
            "tags": []
          },
          "execution_count": 209
        }
      ]
    },
    {
      "cell_type": "markdown",
      "metadata": {
        "id": "gZ7bLF7ufvKh",
        "colab_type": "text"
      },
      "source": [
        "## Bigram TF-IDF"
      ]
    },
    {
      "cell_type": "code",
      "metadata": {
        "id": "pk_mq_TMUMRH",
        "colab_type": "code",
        "colab": {}
      },
      "source": [
        "from sklearn.feature_extraction.text import TfidfTransformer\n",
        "\n",
        "transformer = TfidfTransformer()\n",
        "tf_idf_bigram_X = transformer.fit_transform(x)"
      ],
      "execution_count": 0,
      "outputs": []
    },
    {
      "cell_type": "code",
      "metadata": {
        "id": "ro7Q10-Lfeov",
        "colab_type": "code",
        "outputId": "a68b9a64-3c07-45c1-9596-7304dced2298",
        "colab": {
          "base_uri": "https://localhost:8080/",
          "height": 80
        }
      },
      "source": [
        "(pd.DataFrame(tf_idf_bigram_X.toarray(),\n",
        "             columns = vectorizer.get_feature_names()).head(1)\n",
        "             [ngram_tokenizer(lines[0])])"
      ],
      "execution_count": 0,
      "outputs": [
        {
          "output_type": "execute_result",
          "data": {
            "text/html": [
              "<div>\n",
              "<style scoped>\n",
              "    .dataframe tbody tr th:only-of-type {\n",
              "        vertical-align: middle;\n",
              "    }\n",
              "\n",
              "    .dataframe tbody tr th {\n",
              "        vertical-align: top;\n",
              "    }\n",
              "\n",
              "    .dataframe thead th {\n",
              "        text-align: right;\n",
              "    }\n",
              "</style>\n",
              "<table border=\"1\" class=\"dataframe\">\n",
              "  <thead>\n",
              "    <tr style=\"text-align: right;\">\n",
              "      <th></th>\n",
              "      <th>뮤지컬/Noun-의/Josa</th>\n",
              "      <th>지루하다/Adjective-않다/Verb</th>\n",
              "    </tr>\n",
              "  </thead>\n",
              "  <tbody>\n",
              "    <tr>\n",
              "      <th>0</th>\n",
              "      <td>0.751302</td>\n",
              "      <td>0.659959</td>\n",
              "    </tr>\n",
              "  </tbody>\n",
              "</table>\n",
              "</div>"
            ],
            "text/plain": [
              "   뮤지컬/Noun-의/Josa  지루하다/Adjective-않다/Verb\n",
              "0         0.751302                0.659959"
            ]
          },
          "metadata": {
            "tags": []
          },
          "execution_count": 212
        }
      ]
    },
    {
      "cell_type": "code",
      "metadata": {
        "id": "Q9bZQ_njfg9q",
        "colab_type": "code",
        "colab": {}
      },
      "source": [
        "import pickle \n",
        "with open(\"lalaland_comment_rates.pkl\", \"rb\") as r :\n",
        "    rates = pickle.load(r)"
      ],
      "execution_count": 0,
      "outputs": []
    },
    {
      "cell_type": "code",
      "metadata": {
        "id": "Edh6HbOrkpgi",
        "colab_type": "code",
        "colab": {}
      },
      "source": [
        "label = np.where(np.array( rates ) > 5 , 1 ,0 )"
      ],
      "execution_count": 0,
      "outputs": []
    },
    {
      "cell_type": "code",
      "metadata": {
        "id": "el20gBO8kxEn",
        "colab_type": "code",
        "colab": {}
      },
      "source": [
        "from sklearn.model_selection import GridSearchCV\n",
        "from sklearn.pipeline import Pipeline , make_pipeline\n",
        "from sklearn.model_selection import cross_val_score , ShuffleSplit\n",
        "from sklearn import metrics\n",
        "from sklearn.metrics import roc_curve , roc_auc_score , f1_score , classification_report\n",
        "from sklearn.model_selection import train_test_split"
      ],
      "execution_count": 0,
      "outputs": []
    },
    {
      "cell_type": "code",
      "metadata": {
        "id": "EXRSOHHRlP7v",
        "colab_type": "code",
        "colab": {}
      },
      "source": [
        "import matplotlib.pyplot as plt\n",
        "import pandas as pd\n",
        "import seaborn as sns\n",
        "import numpy as np\n",
        "\n",
        "from sklearn.ensemble import RandomForestClassifier\n",
        "from sklearn.ensemble import GradientBoostingClassifier as GBM\n",
        "from sklearn.linear_model import LogisticRegression "
      ],
      "execution_count": 0,
      "outputs": []
    },
    {
      "cell_type": "code",
      "metadata": {
        "id": "rI1bleEHlfSF",
        "colab_type": "code",
        "colab": {}
      },
      "source": [
        "import warnings\n",
        "warnings.filterwarnings(\"ignore\")"
      ],
      "execution_count": 0,
      "outputs": []
    },
    {
      "cell_type": "code",
      "metadata": {
        "id": "qCTxQtUVlhhe",
        "colab_type": "code",
        "colab": {}
      },
      "source": [
        "cv = ShuffleSplit(n_splits=3  , test_size=0.3, random_state=42)"
      ],
      "execution_count": 0,
      "outputs": []
    },
    {
      "cell_type": "code",
      "metadata": {
        "id": "KLGq62Weliib",
        "colab_type": "code",
        "colab": {}
      },
      "source": [
        "pipe_lr = Pipeline([('clf', LogisticRegression(random_state=42))])\n",
        "pipe_rf = Pipeline([('clf', RandomForestClassifier(random_state=42 ,))])\n",
        "pipe_gbm = Pipeline([('clf', GBM(n_estimators  = 1000 , random_state = 42))])"
      ],
      "execution_count": 0,
      "outputs": []
    },
    {
      "cell_type": "code",
      "metadata": {
        "id": "FNTlgDYrlwwd",
        "colab_type": "code",
        "colab": {}
      },
      "source": [
        "depth_range = [5,7,9]\n",
        "min_samples_split_range = [0.5, 0.7 , 0.9]\n",
        "param_range = [0.5, 0.1]\n",
        "param_range_fl = np.logspace(0,-5,2)\n",
        "\n",
        "grid_params_lr = [{'clf__penalty': ['l2'],\n",
        "                   'clf__C': [0.5 ],\n",
        "                   'clf__solver': ['liblinear']}] \n",
        "\n",
        "grid_params_rf = [{'clf__criterion': ['gini', 'entropy'],\n",
        "                   'clf__min_samples_leaf': param_range,\n",
        "                   'clf__max_depth': depth_range,\n",
        "                   'clf__min_samples_split': min_samples_split_range }]\n",
        "\n",
        "grid_params_gbm = [{\"clf__tol\" : param_range_fl , \n",
        "                    'clf__max_depth': depth_range,\n",
        "                    'clf__min_samples_leaf': param_range,\n",
        "                    'clf__loss' : [\"deviance\", \"exponential\"],\n",
        "                   } ]"
      ],
      "execution_count": 0,
      "outputs": []
    },
    {
      "cell_type": "code",
      "metadata": {
        "id": "_2GFXrYrl4Xn",
        "colab_type": "code",
        "colab": {}
      },
      "source": [
        "pipe = [\n",
        "    pipe_lr , pipe_rf , pipe_gbm \n",
        "       ]\n",
        "params = [\n",
        "    grid_params_lr , grid_params_rf ,  grid_params_gbm , \n",
        "]"
      ],
      "execution_count": 0,
      "outputs": []
    },
    {
      "cell_type": "code",
      "metadata": {
        "id": "cZ7SJMo4l9kB",
        "colab_type": "code",
        "colab": {}
      },
      "source": [
        "jobs = 20\n"
      ],
      "execution_count": 0,
      "outputs": []
    },
    {
      "cell_type": "code",
      "metadata": {
        "id": "d7NXmJDbmCT-",
        "colab_type": "code",
        "colab": {}
      },
      "source": [
        "from sklearn.metrics import roc_curve\n",
        "def ModelCurve(X_train ,y_train  , X_test , y_test , title ) :     \n",
        "    grid_dict = {0: 'Logistic Regression', \n",
        "                1: 'Random Forest', \n",
        "                2: \"GradientBoostingClassifer\" \n",
        "                }\n",
        "    plt.style.use('ggplot')\n",
        "    fig , ax = plt.subplots(figsize= (20,10))\n",
        "    plt.plot([0, 1], [0, 1], linestyle='--')\n",
        "    for idx , (param , model) in enumerate(zip(params , pipe)) :\n",
        "        search = GridSearchCV(model, param, iid=True , \n",
        "                            cv=cv , n_jobs=jobs , verbose=-1 )\n",
        "        search.fit(X_train , y_train)\n",
        "        y_pred = search.predict(X_test)\n",
        "        try :\n",
        "            y_prob = search.predict_proba(X_test)\n",
        "        except Exception as e :\n",
        "            pass\n",
        "        AUC = np.mean(y_test == np.round(y_prob[:,1]).astype(int))\n",
        "        fpr, tpr, thresholds = roc_curve(y_test, y_prob[:,1])\n",
        "        plt.plot(fpr, tpr, marker='.', label =  \"AUC : {:.2f} , {}\".format(AUC, grid_dict[idx])   )\n",
        "    plt.legend(fontsize = 20 , loc='center', shadow=True )\n",
        "    plt.title(title , fontsize= 25)\n",
        "    plt.show()"
      ],
      "execution_count": 0,
      "outputs": []
    },
    {
      "cell_type": "code",
      "metadata": {
        "id": "CLyJAt5CmDkQ",
        "colab_type": "code",
        "colab": {}
      },
      "source": [
        "bi_X_train, bi_X_test, bi_y_train, bi_y_test = train_test_split(\n",
        "    tf_idf_bigram_X , label , test_size=0.4, random_state=0)\n"
      ],
      "execution_count": 0,
      "outputs": []
    },
    {
      "cell_type": "code",
      "metadata": {
        "id": "BmksZQEGm2yh",
        "colab_type": "code",
        "outputId": "71b684b7-67fd-4d5b-b868-6f1a5ef9f1fc",
        "colab": {
          "base_uri": "https://localhost:8080/",
          "height": 742
        }
      },
      "source": [
        "ModelCurve(bi_X_train ,bi_y_train  , bi_X_test , bi_y_test, \"BIGRAM TF-IDF\")"
      ],
      "execution_count": 0,
      "outputs": [
        {
          "output_type": "stream",
          "text": [
            "[Parallel(n_jobs=20)]: Using backend LokyBackend with 20 concurrent workers.\n",
            "[Parallel(n_jobs=20)]: Done   3 out of   3 | elapsed:    0.1s finished\n",
            "[Parallel(n_jobs=20)]: Using backend LokyBackend with 20 concurrent workers.\n",
            "[Parallel(n_jobs=20)]: Done 108 out of 108 | elapsed:    1.9s finished\n",
            "[Parallel(n_jobs=20)]: Using backend LokyBackend with 20 concurrent workers.\n",
            "[Parallel(n_jobs=20)]: Done  32 tasks      | elapsed:  1.5min\n",
            "[Parallel(n_jobs=20)]: Done  72 out of  72 | elapsed:  3.2min finished\n"
          ],
          "name": "stderr"
        },
        {
          "output_type": "display_data",
          "data": {
            "image/png": "[encoded data removed]",
            "text/plain": [
              "<Figure size 1440x720 with 1 Axes>"
            ]
          },
          "metadata": {
            "tags": []
          }
        }
      ]
    },
    {
      "cell_type": "code",
      "metadata": {
        "id": "C7XgfWf5nI_8",
        "colab_type": "code",
        "colab": {}
      },
      "source": [
        "uni_X_train, uni_X_test, uni_y_train, uni_y_test =\\\n",
        " train_test_split(tf_idf_unigram_X , label , test_size=0.4, random_state=0) "
      ],
      "execution_count": 0,
      "outputs": []
    },
    {
      "cell_type": "code",
      "metadata": {
        "id": "D-qMpvccm9Pz",
        "colab_type": "code",
        "outputId": "1a13aa4b-f3db-4e5c-e16f-e34837d77a77",
        "colab": {
          "base_uri": "https://localhost:8080/",
          "height": 760
        }
      },
      "source": [
        "ModelCurve(uni_X_train ,uni_y_train  , uni_X_test , uni_y_test, \"UNIGRAM TF-IDF\")"
      ],
      "execution_count": 0,
      "outputs": [
        {
          "output_type": "stream",
          "text": [
            "[Parallel(n_jobs=20)]: Using backend LokyBackend with 20 concurrent workers.\n",
            "[Parallel(n_jobs=20)]: Done   3 out of   3 | elapsed:    6.5s finished\n",
            "[Parallel(n_jobs=20)]: Using backend LokyBackend with 20 concurrent workers.\n",
            "[Parallel(n_jobs=20)]: Done  32 tasks      | elapsed:    4.5s\n",
            "[Parallel(n_jobs=20)]: Done 108 out of 108 | elapsed:    7.6s finished\n",
            "[Parallel(n_jobs=20)]: Using backend LokyBackend with 20 concurrent workers.\n",
            "[Parallel(n_jobs=20)]: Done  32 tasks      | elapsed:  6.5min\n",
            "[Parallel(n_jobs=20)]: Done  72 out of  72 | elapsed: 12.3min finished\n"
          ],
          "name": "stderr"
        },
        {
          "output_type": "display_data",
          "data": {
            "image/png": "[encoded data removed]",
            "text/plain": [
              "<Figure size 1440x720 with 1 Axes>"
            ]
          },
          "metadata": {
            "tags": []
          }
        }
      ]
    },
    {
      "cell_type": "code",
      "metadata": {
        "id": "kkIzAtd7novR",
        "colab_type": "code",
        "colab": {}
      },
      "source": [
        ""
      ],
      "execution_count": 0,
      "outputs": []
    }
  ]
}