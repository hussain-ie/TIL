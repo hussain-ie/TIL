{
 "cells": [
  {
   "cell_type": "markdown",
   "metadata": {},
   "source": [
    "## Library Load"
   ]
  },
  {
   "cell_type": "code",
   "execution_count": 1,
   "metadata": {},
   "outputs": [],
   "source": [
    "import pandas as pd\n",
    "import numpy as np\n",
    "import matplotlib.pyplot as plt\n",
    "import copy as cp\n",
    "import Agile_data\n",
    "import os , re\n",
    "import warnings\n",
    "warnings.filterwarnings(\"ignore\")\n",
    "os.environ['TF_CPP_MIN_LOG_LEVEL'] = '3' \n",
    "import tensorflow as tf\n",
    "tf.enable_eager_execution()"
   ]
  },
  {
   "cell_type": "code",
   "execution_count": 2,
   "metadata": {},
   "outputs": [
    {
     "name": "stdout",
     "output_type": "stream",
     "text": [
      "['Input.tfrecords', '[Wide&Deep]HighAPI로 해보기 _ 데이터 정제 초기버전.ipynb', 'Agile_data.py', 'Lpoint_data', 'Trans_2_Result_ver2.npy', 'Data_proprecessing.py', 'Trans_0_Result.npy', 'Trans_2_Result.npy', 'D2V_model', 'Test_Data_ver2.csv', 'ckpt', '[Wide&Deep]HighAPI로 해보기.ipynb', 'Trans_2_Result_ver2.csv', 'Total_Data.csv', 'Lpoint.R', 'Raw_Total_Data.csv', 'README.md', 'Trans_1_Result.npy', 'Test_Data.csv', '[Wide&Deep]HighAPI tfrecord (에러발생) -> tf.decode.ipynb', 'Trans_1_Result_ver2.npy', 'Test_Data.tfrecords', 'Trans_0_Result_ver2.npy', 'R_version', 'Trans_0_Result_ver2.csv', 'requirements.txt', '__pycache__', '.gitignore', 'Lpoint_data.zip', 'Trans_1_Result.csv', '.ipynb_checkpoints', '[Wide&Deep] Data proprecessing.ipynb', 'Recommendation.py', 'Total_Data_ver2.csv', '[Wide&Deep] Data proprecessing SR.ipynb', '[Wide&Deep] Recommendation.ipynb', 'Trans_2_Result.csv', 'Trans_1_Result_ver2.csv', 'Trans_0_Result.csv', '[Wide&Deep]HighAPI 메모리 너무 차지함 Batch 만들어야함..ipynb', 'Wide_n_Deep.Rproj', '[Wide&Deep] HighAPI Recommendation.ipynb', 'Total_Data.tfrecords']\n"
     ]
    }
   ],
   "source": [
    "dir_ = os.listdir()\n",
    "print(dir_)\n",
    "Input_dir = [ i for i in dir_ if re.search('^Trans([^\"]+).csv$' , i ) is not None ]\n",
    "Target_dir = [ i for i in dir_ if re.search('^Trans([^\"]+).npy$' , i ) is not None ]\n",
    "for idx , target in enumerate(Target_dir) :\n",
    "    if idx == 0 :\n",
    "        train_label = np.load(target)\n",
    "    else :\n",
    "        train_label = np.concatenate([train_label , np.load(target) ])\n",
    "train_label = train_label[:, :-1]"
   ]
  },
  {
   "cell_type": "code",
   "execution_count": 4,
   "metadata": {},
   "outputs": [],
   "source": [
    "_ , _ , _ , _ , \\\n",
    "test_label, test_label_eval = Agile_data.load_test_data()\n",
    "_, Deep_data_test, test_label = Agile_data.load_Wide_Deep_test_data()"
   ]
  },
  {
   "cell_type": "code",
   "execution_count": 5,
   "metadata": {},
   "outputs": [],
   "source": [
    "## Deep_Data를 통해서 다 만들 수 있음\n",
    "def preprocessing( Deep_data , Categorical_data , Segment_data , continuous_data ) :\n",
    "    Deep_data = Deep_data.iloc[:,:300]\n",
    "    Deep_data.columns = \"D2V_\" +  Deep_data.columns\n",
    "    Continuous_col = Deep_data.columns.tolist()\n",
    "    Categorical_col = [\"Gender\" , \"AgeGroup\" ,\"A_residential_area\"] \n",
    "    Categorical_data.columns = Categorical_col\n",
    "    Categorical_Seg = Segment_data.columns.tolist()\n",
    "    columns = continuous_data.columns.tolist()\n",
    "    continuous_data.columns = [\"dadungi\" , \"Deoyoung\" ,\"Robs\", \"himart\"] +\\\n",
    "    [ i for i in columns if re.search(\"[A-D][0-9]{2}\" , i) is not None ]\n",
    "    Continuous_col2 = continuous_data.columns.tolist()\n",
    "    merge_data = pd.concat([Deep_data , Categorical_data , \n",
    "                            continuous_data , Segment_data] , axis = 1)\n",
    "    merge_data[Continuous_col + Continuous_col2] =\\\n",
    "    merge_data[Continuous_col + Continuous_col2 ].astype(float)\n",
    "    merge_data[ Categorical_col + Categorical_Seg ] =\\\n",
    "    merge_data[ Categorical_col + Categorical_Seg ].astype(str)\n",
    "    return merge_data"
   ]
  },
  {
   "cell_type": "code",
   "execution_count": 6,
   "metadata": {},
   "outputs": [],
   "source": [
    "#test_ = preprocessing( Deep_data_test , test_categorical, test_Segment , test_continuous)\n",
    "test_ = pd.read_csv(\"Test_Data_ver2.csv\")"
   ]
  },
  {
   "cell_type": "code",
   "execution_count": 7,
   "metadata": {},
   "outputs": [
    {
     "data": {
      "text/html": [
       "<div>\n",
       "<style scoped>\n",
       "    .dataframe tbody tr th:only-of-type {\n",
       "        vertical-align: middle;\n",
       "    }\n",
       "\n",
       "    .dataframe tbody tr th {\n",
       "        vertical-align: top;\n",
       "    }\n",
       "\n",
       "    .dataframe thead th {\n",
       "        text-align: right;\n",
       "    }\n",
       "</style>\n",
       "<table border=\"1\" class=\"dataframe\">\n",
       "  <thead>\n",
       "    <tr style=\"text-align: right;\">\n",
       "      <th></th>\n",
       "      <th>D2V_0</th>\n",
       "      <th>D2V_1</th>\n",
       "      <th>D2V_2</th>\n",
       "      <th>D2V_3</th>\n",
       "      <th>D2V_4</th>\n",
       "      <th>D2V_5</th>\n",
       "      <th>D2V_6</th>\n",
       "      <th>D2V_7</th>\n",
       "      <th>D2V_8</th>\n",
       "      <th>D2V_9</th>\n",
       "      <th>...</th>\n",
       "      <th>X8</th>\n",
       "      <th>X9</th>\n",
       "      <th>X10</th>\n",
       "      <th>X11</th>\n",
       "      <th>X12</th>\n",
       "      <th>X13</th>\n",
       "      <th>X14</th>\n",
       "      <th>X15</th>\n",
       "      <th>X16</th>\n",
       "      <th>X17</th>\n",
       "    </tr>\n",
       "  </thead>\n",
       "  <tbody>\n",
       "    <tr>\n",
       "      <th>0</th>\n",
       "      <td>-0.000594</td>\n",
       "      <td>-0.001625</td>\n",
       "      <td>0.001628</td>\n",
       "      <td>-0.001452</td>\n",
       "      <td>-0.000558</td>\n",
       "      <td>0.000193</td>\n",
       "      <td>0.001070</td>\n",
       "      <td>0.000033</td>\n",
       "      <td>0.001351</td>\n",
       "      <td>0.000171</td>\n",
       "      <td>...</td>\n",
       "      <td>0.0</td>\n",
       "      <td>0.0</td>\n",
       "      <td>0.0</td>\n",
       "      <td>0.0</td>\n",
       "      <td>0.0</td>\n",
       "      <td>0.0</td>\n",
       "      <td>0.0</td>\n",
       "      <td>0.0</td>\n",
       "      <td>0.0</td>\n",
       "      <td>0.0</td>\n",
       "    </tr>\n",
       "    <tr>\n",
       "      <th>1</th>\n",
       "      <td>-0.221727</td>\n",
       "      <td>0.019435</td>\n",
       "      <td>0.218745</td>\n",
       "      <td>-0.238133</td>\n",
       "      <td>-0.123528</td>\n",
       "      <td>0.418999</td>\n",
       "      <td>-0.030661</td>\n",
       "      <td>-0.324512</td>\n",
       "      <td>0.151676</td>\n",
       "      <td>0.124971</td>\n",
       "      <td>...</td>\n",
       "      <td>0.0</td>\n",
       "      <td>0.0</td>\n",
       "      <td>0.0</td>\n",
       "      <td>0.0</td>\n",
       "      <td>0.0</td>\n",
       "      <td>0.0</td>\n",
       "      <td>1.0</td>\n",
       "      <td>1.0</td>\n",
       "      <td>0.0</td>\n",
       "      <td>1.0</td>\n",
       "    </tr>\n",
       "    <tr>\n",
       "      <th>2</th>\n",
       "      <td>0.000256</td>\n",
       "      <td>-0.001285</td>\n",
       "      <td>-0.000389</td>\n",
       "      <td>-0.000531</td>\n",
       "      <td>-0.000576</td>\n",
       "      <td>0.001388</td>\n",
       "      <td>-0.000344</td>\n",
       "      <td>-0.000520</td>\n",
       "      <td>-0.000369</td>\n",
       "      <td>0.001209</td>\n",
       "      <td>...</td>\n",
       "      <td>0.0</td>\n",
       "      <td>0.0</td>\n",
       "      <td>0.0</td>\n",
       "      <td>0.0</td>\n",
       "      <td>0.0</td>\n",
       "      <td>0.0</td>\n",
       "      <td>0.0</td>\n",
       "      <td>1.0</td>\n",
       "      <td>0.0</td>\n",
       "      <td>1.0</td>\n",
       "    </tr>\n",
       "    <tr>\n",
       "      <th>3</th>\n",
       "      <td>-0.001575</td>\n",
       "      <td>0.000580</td>\n",
       "      <td>0.000439</td>\n",
       "      <td>-0.000652</td>\n",
       "      <td>-0.001440</td>\n",
       "      <td>0.001002</td>\n",
       "      <td>-0.000554</td>\n",
       "      <td>0.000863</td>\n",
       "      <td>0.000561</td>\n",
       "      <td>0.001106</td>\n",
       "      <td>...</td>\n",
       "      <td>0.0</td>\n",
       "      <td>0.0</td>\n",
       "      <td>1.0</td>\n",
       "      <td>0.0</td>\n",
       "      <td>0.0</td>\n",
       "      <td>0.0</td>\n",
       "      <td>1.0</td>\n",
       "      <td>1.0</td>\n",
       "      <td>0.0</td>\n",
       "      <td>1.0</td>\n",
       "    </tr>\n",
       "    <tr>\n",
       "      <th>4</th>\n",
       "      <td>-0.066064</td>\n",
       "      <td>-0.031084</td>\n",
       "      <td>0.217065</td>\n",
       "      <td>-0.348056</td>\n",
       "      <td>-0.025669</td>\n",
       "      <td>0.336278</td>\n",
       "      <td>-0.080632</td>\n",
       "      <td>-0.231821</td>\n",
       "      <td>0.136238</td>\n",
       "      <td>0.113973</td>\n",
       "      <td>...</td>\n",
       "      <td>0.0</td>\n",
       "      <td>0.0</td>\n",
       "      <td>0.0</td>\n",
       "      <td>0.0</td>\n",
       "      <td>0.0</td>\n",
       "      <td>0.0</td>\n",
       "      <td>0.0</td>\n",
       "      <td>1.0</td>\n",
       "      <td>0.0</td>\n",
       "      <td>1.0</td>\n",
       "    </tr>\n",
       "  </tbody>\n",
       "</table>\n",
       "<p>5 rows × 333 columns</p>\n",
       "</div>"
      ],
      "text/plain": [
       "      D2V_0     D2V_1     D2V_2     D2V_3     D2V_4     D2V_5     D2V_6  \\\n",
       "0 -0.000594 -0.001625  0.001628 -0.001452 -0.000558  0.000193  0.001070   \n",
       "1 -0.221727  0.019435  0.218745 -0.238133 -0.123528  0.418999 -0.030661   \n",
       "2  0.000256 -0.001285 -0.000389 -0.000531 -0.000576  0.001388 -0.000344   \n",
       "3 -0.001575  0.000580  0.000439 -0.000652 -0.001440  0.001002 -0.000554   \n",
       "4 -0.066064 -0.031084  0.217065 -0.348056 -0.025669  0.336278 -0.080632   \n",
       "\n",
       "      D2V_7     D2V_8     D2V_9  ...   X8   X9  X10  X11  X12  X13  X14  X15  \\\n",
       "0  0.000033  0.001351  0.000171  ...  0.0  0.0  0.0  0.0  0.0  0.0  0.0  0.0   \n",
       "1 -0.324512  0.151676  0.124971  ...  0.0  0.0  0.0  0.0  0.0  0.0  1.0  1.0   \n",
       "2 -0.000520 -0.000369  0.001209  ...  0.0  0.0  0.0  0.0  0.0  0.0  0.0  1.0   \n",
       "3  0.000863  0.000561  0.001106  ...  0.0  0.0  1.0  0.0  0.0  0.0  1.0  1.0   \n",
       "4 -0.231821  0.136238  0.113973  ...  0.0  0.0  0.0  0.0  0.0  0.0  0.0  1.0   \n",
       "\n",
       "   X16  X17  \n",
       "0  0.0  0.0  \n",
       "1  0.0  1.0  \n",
       "2  0.0  1.0  \n",
       "3  0.0  1.0  \n",
       "4  0.0  1.0  \n",
       "\n",
       "[5 rows x 333 columns]"
      ]
     },
     "execution_count": 7,
     "metadata": {},
     "output_type": "execute_result"
    }
   ],
   "source": [
    "test_.head()"
   ]
  },
  {
   "cell_type": "markdown",
   "metadata": {},
   "source": [
    "```\n",
    "dir_ = os.listdir()\n",
    "print(dir_)\n",
    "Input_dir = [ i for i in dir_ if re.search('^Trans([^\"]+).csv$' , i ) is not None ]\n",
    "Target_dir = [ i for i in dir_ if re.search('^Trans([^\"]+).npy$' , i ) is not None ]\n",
    "\n",
    "Input = pd.DataFrame([])\n",
    "for i in Input_dir :\n",
    "    Input = pd.concat([Input , pd.read_csv(i)])\n",
    "Input.reset_index(drop = True , inplace = True) \n",
    "for idx , target in enumerate(Target_dir) :\n",
    "    if idx == 0 :\n",
    "        train_label = np.load(target)\n",
    "    else :\n",
    "        train_label = np.concatenate([train_label , np.load(target) ])\n",
    "train_label = train_label[:, :-1]\n",
    "target =  np.argmax( train_label , axis = 1).astype(int)\n",
    "LABEL_COLUMN = \"target\"\n",
    "Input[LABEL_COLUMN] = target\n",
    "## 형식에 맞게 변환해줘야함\n",
    "### target : integer \n",
    "### categorical : string\n",
    "Input[CONTINUOUS_COLUMNS] = Input[CONTINUOUS_COLUMNS].astype(float)\n",
    "Input[ Categorical_col + Categorical_Seg ] = Input[ Categorical_col + Categorical_Seg ].astype(str)\n",
    "# Input.to_csv(\"Total_Data.csv\", index = False)\n",
    "```"
   ]
  },
  {
   "cell_type": "code",
   "execution_count": 8,
   "metadata": {},
   "outputs": [],
   "source": [
    "Input = pd.read_csv(\"Total_Data.csv\" , nrows = 1)"
   ]
  },
  {
   "cell_type": "code",
   "execution_count": 9,
   "metadata": {},
   "outputs": [
    {
     "data": {
      "text/plain": [
       "(1, 334)"
      ]
     },
     "execution_count": 9,
     "metadata": {},
     "output_type": "execute_result"
    }
   ],
   "source": [
    "Input.shape"
   ]
  },
  {
   "cell_type": "code",
   "execution_count": 10,
   "metadata": {},
   "outputs": [],
   "source": [
    "columns = Input.columns.tolist()\n",
    "Continuous_col1 = [ i for i in columns if re.search(\"D2V\" , i) is not None ]\n",
    "Continuous_col2 = [ i for i in columns if re.search(\"[A-D][0-9]{2}\" , i) is not None ]\n",
    "Continuous_col3 = [\"dadungi\" , \"Deoyoung\" ,\"Robs\", \"himart\"]\n",
    "Categorical_Seg = [ i for i in columns if re.search(\"^X\" , i) is not None ]\n",
    "Categorical_col = [\"Gender\" , \"AgeGroup\" ,\"A_residential_area\"] "
   ]
  },
  {
   "cell_type": "code",
   "execution_count": 11,
   "metadata": {},
   "outputs": [],
   "source": [
    "assert test_.columns.tolist() + [\"target\"] == Input.columns.tolist()"
   ]
  },
  {
   "cell_type": "code",
   "execution_count": 12,
   "metadata": {},
   "outputs": [],
   "source": [
    "columns = Continuous_col1 + Categorical_col + Continuous_col3 + Continuous_col2 + Categorical_Seg\n",
    "assert len(Input.columns) == len(columns) + 1"
   ]
  },
  {
   "cell_type": "code",
   "execution_count": 13,
   "metadata": {},
   "outputs": [],
   "source": [
    "_CSV_COLUMNS = Input.columns.tolist()\n",
    "_CSV_COLUMN_DEFAULTS = [[0.0]] * len(Continuous_col1) +\\\n",
    "[[\"\"]] * len(Categorical_col) +\\\n",
    "[[0.0]] * len(Continuous_col3 + Continuous_col2) +\\\n",
    "[[\"\"]] * len(Categorical_Seg) +\\\n",
    "[[0]] * 1\n",
    "# _CSV_COLUMN_DEFAULTS = [tf.constant([0.0] , dtype = tf.float64) for name in Continuous_col  ] + \\\n",
    "# [tf.constant([\"\"] , dtype = tf.string ) for name in Categorical_col ] + \\\n",
    "# [tf.constant([0.0] , dtype = tf.float64 ) for name in  Continuous_col3 + Continuous_col2]  + \\\n",
    "# [tf.constant([\"\"] , dtype = tf.string ) for name in Categorical_Seg ] + \\\n",
    "# [tf.constant([0] , dtype = tf.int64  ) for name in [\"target\"]] "
   ]
  },
  {
   "cell_type": "code",
   "execution_count": 13,
   "metadata": {},
   "outputs": [],
   "source": [
    "assert len(_CSV_COLUMNS) == len(_CSV_COLUMN_DEFAULTS)"
   ]
  },
  {
   "cell_type": "code",
   "execution_count": 17,
   "metadata": {},
   "outputs": [],
   "source": [
    "Continuous_col = Continuous_col1.copy()\n",
    "Continuous_col.extend(Continuous_col2) \n",
    "Continuous_col.extend(Continuous_col3)"
   ]
  },
  {
   "cell_type": "code",
   "execution_count": 18,
   "metadata": {
    "scrolled": true
   },
   "outputs": [
    {
     "name": "stdout",
     "output_type": "stream",
     "text": [
      "['D2V_0', 'D2V_1', 'D2V_2', 'D2V_3', 'D2V_4', 'D2V_5', 'D2V_6', 'D2V_7', 'D2V_8', 'D2V_9', 'D2V_10', 'D2V_11', 'D2V_12', 'D2V_13', 'D2V_14', 'D2V_15', 'D2V_16', 'D2V_17', 'D2V_18', 'D2V_19', 'D2V_20', 'D2V_21', 'D2V_22', 'D2V_23', 'D2V_24', 'D2V_25', 'D2V_26', 'D2V_27', 'D2V_28', 'D2V_29', 'D2V_30', 'D2V_31', 'D2V_32', 'D2V_33', 'D2V_34', 'D2V_35', 'D2V_36', 'D2V_37', 'D2V_38', 'D2V_39', 'D2V_40', 'D2V_41', 'D2V_42', 'D2V_43', 'D2V_44', 'D2V_45', 'D2V_46', 'D2V_47', 'D2V_48', 'D2V_49', 'D2V_50', 'D2V_51', 'D2V_52', 'D2V_53', 'D2V_54', 'D2V_55', 'D2V_56', 'D2V_57', 'D2V_58', 'D2V_59', 'D2V_60', 'D2V_61', 'D2V_62', 'D2V_63', 'D2V_64', 'D2V_65', 'D2V_66', 'D2V_67', 'D2V_68', 'D2V_69', 'D2V_70', 'D2V_71', 'D2V_72', 'D2V_73', 'D2V_74', 'D2V_75', 'D2V_76', 'D2V_77', 'D2V_78', 'D2V_79', 'D2V_80', 'D2V_81', 'D2V_82', 'D2V_83', 'D2V_84', 'D2V_85', 'D2V_86', 'D2V_87', 'D2V_88', 'D2V_89', 'D2V_90', 'D2V_91', 'D2V_92', 'D2V_93', 'D2V_94', 'D2V_95', 'D2V_96', 'D2V_97', 'D2V_98', 'D2V_99', 'D2V_100', 'D2V_101', 'D2V_102', 'D2V_103', 'D2V_104', 'D2V_105', 'D2V_106', 'D2V_107', 'D2V_108', 'D2V_109', 'D2V_110', 'D2V_111', 'D2V_112', 'D2V_113', 'D2V_114', 'D2V_115', 'D2V_116', 'D2V_117', 'D2V_118', 'D2V_119', 'D2V_120', 'D2V_121', 'D2V_122', 'D2V_123', 'D2V_124', 'D2V_125', 'D2V_126', 'D2V_127', 'D2V_128', 'D2V_129', 'D2V_130', 'D2V_131', 'D2V_132', 'D2V_133', 'D2V_134', 'D2V_135', 'D2V_136', 'D2V_137', 'D2V_138', 'D2V_139', 'D2V_140', 'D2V_141', 'D2V_142', 'D2V_143', 'D2V_144', 'D2V_145', 'D2V_146', 'D2V_147', 'D2V_148', 'D2V_149', 'D2V_150', 'D2V_151', 'D2V_152', 'D2V_153', 'D2V_154', 'D2V_155', 'D2V_156', 'D2V_157', 'D2V_158', 'D2V_159', 'D2V_160', 'D2V_161', 'D2V_162', 'D2V_163', 'D2V_164', 'D2V_165', 'D2V_166', 'D2V_167', 'D2V_168', 'D2V_169', 'D2V_170', 'D2V_171', 'D2V_172', 'D2V_173', 'D2V_174', 'D2V_175', 'D2V_176', 'D2V_177', 'D2V_178', 'D2V_179', 'D2V_180', 'D2V_181', 'D2V_182', 'D2V_183', 'D2V_184', 'D2V_185', 'D2V_186', 'D2V_187', 'D2V_188', 'D2V_189', 'D2V_190', 'D2V_191', 'D2V_192', 'D2V_193', 'D2V_194', 'D2V_195', 'D2V_196', 'D2V_197', 'D2V_198', 'D2V_199', 'D2V_200', 'D2V_201', 'D2V_202', 'D2V_203', 'D2V_204', 'D2V_205', 'D2V_206', 'D2V_207', 'D2V_208', 'D2V_209', 'D2V_210', 'D2V_211', 'D2V_212', 'D2V_213', 'D2V_214', 'D2V_215', 'D2V_216', 'D2V_217', 'D2V_218', 'D2V_219', 'D2V_220', 'D2V_221', 'D2V_222', 'D2V_223', 'D2V_224', 'D2V_225', 'D2V_226', 'D2V_227', 'D2V_228', 'D2V_229', 'D2V_230', 'D2V_231', 'D2V_232', 'D2V_233', 'D2V_234', 'D2V_235', 'D2V_236', 'D2V_237', 'D2V_238', 'D2V_239', 'D2V_240', 'D2V_241', 'D2V_242', 'D2V_243', 'D2V_244', 'D2V_245', 'D2V_246', 'D2V_247', 'D2V_248', 'D2V_249', 'D2V_250', 'D2V_251', 'D2V_252', 'D2V_253', 'D2V_254', 'D2V_255', 'D2V_256', 'D2V_257', 'D2V_258', 'D2V_259', 'D2V_260', 'D2V_261', 'D2V_262', 'D2V_263', 'D2V_264', 'D2V_265', 'D2V_266', 'D2V_267', 'D2V_268', 'D2V_269', 'D2V_270', 'D2V_271', 'D2V_272', 'D2V_273', 'D2V_274', 'D2V_275', 'D2V_276', 'D2V_277', 'D2V_278', 'D2V_279', 'D2V_280', 'D2V_281', 'D2V_282', 'D2V_283', 'D2V_284', 'D2V_285', 'D2V_286', 'D2V_287', 'D2V_288', 'D2V_289', 'D2V_290', 'D2V_291', 'D2V_292', 'D2V_293', 'D2V_294', 'D2V_295', 'D2V_296', 'D2V_297', 'D2V_298', 'D2V_299', 'A01', 'A02', 'B01', 'B02', 'C01', 'C02', 'C03', 'D01', 'D02', 'dadungi', 'Deoyoung', 'Robs', 'himart']\n"
     ]
    }
   ],
   "source": [
    "print(Continuous_col)"
   ]
  },
  {
   "cell_type": "code",
   "execution_count": 14,
   "metadata": {},
   "outputs": [],
   "source": [
    "_CSV_COLUMNS = Input.columns.tolist()\n",
    "_CSV_COLUMN_DEFAULTS = [[0.0]] * len(Continuous_col1) +\\\n",
    "[[\"\"]] * len(Categorical_col) +\\\n",
    "[[0.0]] * len(Continuous_col3 + Continuous_col2) +\\\n",
    "[[\"\"]] * len(Categorical_Seg) +\\\n",
    "[[0]] * 1\n",
    "# Category_vocab = {}\n",
    "# for byte_var in Categorical_col + Categorical_Seg :\n",
    "#     Category_vocab[byte_var] = Input[byte_var].unique().astype(str).tolist()\n",
    "    \n",
    "FEATURE_NAMES = _CSV_COLUMNS[:-1]\n",
    "TARGET_NAME = 'target'"
   ]
  },
  {
   "cell_type": "markdown",
   "metadata": {},
   "source": [
    "## CSV → tfrecords"
   ]
  },
  {
   "cell_type": "code",
   "execution_count": 112,
   "metadata": {},
   "outputs": [],
   "source": [
    "import csv\n",
    "\n",
    "Category_vocab = {}\n",
    "for byte_var in Categorical_col + Categorical_Seg :\n",
    "    Category_vocab[byte_var] = Input[byte_var].unique().astype(str).tolist()\n",
    "    \n",
    "FEATURE_NAMES = _CSV_COLUMNS[:-1]\n",
    "TARGET_NAME = 'target'\n",
    "\n",
    "def create_csv_iterator(csv_file_path, skip_header):\n",
    "    with tf.gfile.Open(csv_file_path) as csv_file:\n",
    "        reader = csv.reader(csv_file)\n",
    "        if skip_header: # Skip the header\n",
    "            next(reader)\n",
    "        for row in reader:\n",
    "            yield row\n",
    "            \n",
    "def create_example(row , segment ):\n",
    "    \"\"\"\n",
    "    Returns a tensorflow.Example Protocol Buffer object.\n",
    "    \"\"\"\n",
    "    example = tf.train.Example()\n",
    "    \n",
    "    if segment == \"train\" :\n",
    "        col_len = len(_CSV_COLUMNS)\n",
    "    elif segment == \"test\" :\n",
    "        col_len = len(_CSV_COLUMNS) - 1\n",
    "    \n",
    "    for i in range( col_len ):\n",
    "        feature_name = _CSV_COLUMNS[i]\n",
    "        feature_value = row[i]\n",
    "        if feature_name in Continuous_col :\n",
    "            example.features.feature[feature_name].float_list.value.extend([float(feature_value)])\n",
    "        elif feature_name in  Categorical_col + Categorical_Seg :\n",
    "            example.features.feature[feature_name].bytes_list.value.extend([bytes(feature_value, 'utf-8')])\n",
    "        elif feature_name in [TARGET_NAME] :\n",
    "            example.features.feature[feature_name].int64_list.value.extend([int(feature_value)])\n",
    "    return example\n",
    "\n",
    "def create_tfrecords_file(input_csv_file , segment ):\n",
    "    \"\"\"\n",
    "    Creates a TFRecords file for the given input data and\n",
    "    example transfomration function \n",
    "    \"\"\"\n",
    "    output_tfrecord_file = input_csv_file.replace(\"csv\", \"tfrecords\")\n",
    "    writer = tf.python_io.TFRecordWriter(output_tfrecord_file)\n",
    "    \n",
    "    print(\"Creating TFRecords file at\", output_tfrecord_file, \"...\")\n",
    "    \n",
    "    for i, row in enumerate(create_csv_iterator(input_csv_file, skip_header=True)):\n",
    "#         if len(row) == 0:\n",
    "#             continue\n",
    "        \n",
    "        example = create_example(row , segment )\n",
    "        content = example.SerializeToString()\n",
    "        writer.write(content)\n",
    "    writer.close()\n",
    "    \n",
    "    print(\"Finish Writing\", output_tfrecord_file)"
   ]
  },
  {
   "cell_type": "code",
   "execution_count": 17,
   "metadata": {},
   "outputs": [
    {
     "name": "stdout",
     "output_type": "stream",
     "text": [
      "Converting Training Data Files\n",
      "\n"
     ]
    }
   ],
   "source": [
    "print(\"Converting Training Data Files\")\n",
    "#for input_csv_file in train_data_files:\n",
    "#create_tfrecords_file(\"./Total_Data.csv\" , \"train\")\n",
    "#create_tfrecords_file(\"./Test_Data.csv\" , \"test\")\n",
    "print(\"\")"
   ]
  },
  {
   "cell_type": "markdown",
   "metadata": {},
   "source": [
    "---"
   ]
  },
  {
   "cell_type": "code",
   "execution_count": 18,
   "metadata": {},
   "outputs": [],
   "source": [
    "read_f = {}\n",
    "for col in _CSV_COLUMNS :\n",
    "    if col in Continuous_col :\n",
    "        read_f[col] = tf.FixedLenFeature(() ,dtype=tf.float32 , )\n",
    "    elif col in  Categorical_col + Categorical_Seg :\n",
    "        read_f[col] = tf.FixedLenFeature(() , dtype=tf.string)\n",
    "    elif col in [TARGET_NAME]:\n",
    "        read_f[col] = tf.FixedLenFeature(() ,dtype = tf.int64)"
   ]
  },
  {
   "cell_type": "markdown",
   "metadata": {},
   "source": [
    "## tfrecord 버전"
   ]
  },
  {
   "cell_type": "code",
   "execution_count": 95,
   "metadata": {},
   "outputs": [],
   "source": [
    "def input_fn(filename, predict=False):\n",
    "    def parser(serialized_exp):\n",
    "        if predict == False :\n",
    "            print(\"Train\")\n",
    "            columns = tf.parse_single_example(serialized=serialized_exp,features=read_f)\n",
    "            label = columns[TARGET_NAME]\n",
    "            del columns[TARGET_NAME]\n",
    "            features = columns\n",
    "        elif predict == True :\n",
    "            print(\"Test\")\n",
    "            read_f2 = read_f.copy()\n",
    "            del read_f2[\"target\"]\n",
    "            columns = tf.parse_single_example(serialized=serialized_exp,features=read_f2)\n",
    "            features = columns    \n",
    "            label = tf.constant((), dtype = tf.int64)\n",
    "        return features, label\n",
    "    \n",
    "    dataset= tf.data.TFRecordDataset(filenames=filename)\n",
    "    if predict == False:\n",
    "        print(\"Train\")\n",
    "        dataset = dataset.shuffle(buffer_size=10000) # _NUM_EXAMPLES['train']\n",
    "        dataset = dataset.map(parser , num_parallel_calls=16)\n",
    "        num_epochs = 100\n",
    "        dataset = dataset.repeat(num_epochs)\n",
    "        dataset = dataset.batch(256 , drop_remainder= True)\n",
    "#         dataset = dataset.apply(tf.data.experimental.shuffle_and_repeat(buffer_size=100,count=-1))\n",
    "#         dataset = dataset.apply(tf.data.experimental.map_and_batch(\n",
    "#             map_func=parser, batch_size=128, num_parallel_batches = 16))\n",
    "        #dataset = dataset.cache().prefetch(buffer_size = 50) \n",
    "        dataset = dataset.make_one_shot_iterator()\n",
    "        batch_feature , batch_label = dataset.get_next()\n",
    "        return batch_feature , batch_label\n",
    "    else :\n",
    "        print(\"Test\")\n",
    "        dataset = dataset.map(parser).batch(1000)\n",
    "#         dataset = dataset.apply(tf.data.experimental.shuffle_and_repeat(buffer_size=100,count=-1))\n",
    "#         dataset = dataset.apply(tf.data.experimental.map_and_batch(\n",
    "#             map_func=parser, batch_size=128, num_parallel_batches = 16))\n",
    "#         dataset = dataset.cache().prefetch(buffer_size = 50) \n",
    "    # BP:number of elements / batches consumed by a training step\n",
    "        dataset = dataset.make_one_shot_iterator()\n",
    "        batch_feature , batch_label = dataset.get_next()\n",
    "        return batch_feature , batch_label\n",
    "\n",
    "def train_input_fn():\n",
    "    return input_fn(filename=\"./Total_Data.tfrecords\" , predict = False )\n",
    "\n",
    "def test_input_fn():\n",
    "    return input_fn(filename=\"./Test_Data.tfrecords\" , predict = True )\n"
   ]
  },
  {
   "cell_type": "markdown",
   "metadata": {},
   "source": [
    "---"
   ]
  },
  {
   "cell_type": "markdown",
   "metadata": {},
   "source": [
    "## BASE 시작"
   ]
  },
  {
   "cell_type": "code",
   "execution_count": 19,
   "metadata": {},
   "outputs": [
    {
     "name": "stdout",
     "output_type": "stream",
     "text": [
      "\n",
      "WARNING: The TensorFlow contrib module will not be included in TensorFlow 2.0.\n",
      "For more information, please see:\n",
      "  * https://github.com/tensorflow/community/blob/master/rfcs/20180907-contrib-sunset.md\n",
      "  * https://github.com/tensorflow/addons\n",
      "If you depend on functionality not listed there, please file an issue.\n",
      "\n"
     ]
    }
   ],
   "source": [
    "Continous_base =\\\n",
    "[ tf.contrib.layers.real_valued_column( continuous ) for continuous in Continuous_col ]"
   ]
  },
  {
   "cell_type": "code",
   "execution_count": 20,
   "metadata": {},
   "outputs": [
    {
     "name": "stdout",
     "output_type": "stream",
     "text": [
      "['X1', 'X2', 'X3', 'X4', 'X5', 'X6', 'X7', 'X8', 'X9', 'X10', 'X11', 'X12', 'X13', 'X14', 'X15', 'X16', 'X17']\n"
     ]
    }
   ],
   "source": [
    "print(Categorical_Seg)"
   ]
  },
  {
   "cell_type": "code",
   "execution_count": 21,
   "metadata": {},
   "outputs": [],
   "source": [
    "Categorical_base = []\n",
    "for i in Categorical_Seg :\n",
    "    key = Input[i].astype(str).unique().tolist()\n",
    "    if len(key) < 5 :\n",
    "        value = tf.contrib.layers.sparse_column_with_keys(i , keys = key)\n",
    "        Categorical_base.append(value)\n",
    "    else :\n",
    "        bucket_size = 1000 if len(key) > 10 else 100\n",
    "#         value = tf.feature_column.categorical_column_with_vocabulary_list(\n",
    "#             key= i ,vocabulary_list= key )\n",
    "        value = tf.contrib.layers.sparse_column_with_hash_bucket(i , hash_bucket_size= bucket_size  )\n",
    "        Categorical_base.append(value)"
   ]
  },
  {
   "cell_type": "code",
   "execution_count": 22,
   "metadata": {},
   "outputs": [],
   "source": [
    "Seg = Categorical_Seg\n",
    "Seg_dict = dict(zip(Seg , list(np.arange(len(Seg)))))"
   ]
  },
  {
   "cell_type": "code",
   "execution_count": 23,
   "metadata": {},
   "outputs": [],
   "source": [
    "cross_col = [[Seg[i], Seg[i + j + 1]]\n",
    "        for i in range(16) for j in range(16-i)]\n",
    "Cross_Columns = []\n",
    "for i , j in cross_col :\n",
    "    id1 , id2 = Seg_dict[i] , Seg_dict[j]\n",
    "    cross_tf = tf.contrib.layers.crossed_column\\\n",
    "    ([Categorical_base[id1], Categorical_base[id2]],\n",
    "     hash_bucket_size=int(1e4))\n",
    "    Cross_Columns.append(cross_tf)"
   ]
  },
  {
   "cell_type": "code",
   "execution_count": 24,
   "metadata": {},
   "outputs": [
    {
     "name": "stdout",
     "output_type": "stream",
     "text": [
      "[['X1', 'X2'], ['X1', 'X3'], ['X1', 'X4'], ['X1', 'X5'], ['X1', 'X6'], ['X1', 'X7'], ['X1', 'X8'], ['X1', 'X9'], ['X1', 'X10'], ['X1', 'X11'], ['X1', 'X12'], ['X1', 'X13'], ['X1', 'X14'], ['X1', 'X15'], ['X1', 'X16'], ['X1', 'X17'], ['X2', 'X3'], ['X2', 'X4'], ['X2', 'X5'], ['X2', 'X6'], ['X2', 'X7'], ['X2', 'X8'], ['X2', 'X9'], ['X2', 'X10'], ['X2', 'X11'], ['X2', 'X12'], ['X2', 'X13'], ['X2', 'X14'], ['X2', 'X15'], ['X2', 'X16'], ['X2', 'X17'], ['X3', 'X4'], ['X3', 'X5'], ['X3', 'X6'], ['X3', 'X7'], ['X3', 'X8'], ['X3', 'X9'], ['X3', 'X10'], ['X3', 'X11'], ['X3', 'X12'], ['X3', 'X13'], ['X3', 'X14'], ['X3', 'X15'], ['X3', 'X16'], ['X3', 'X17'], ['X4', 'X5'], ['X4', 'X6'], ['X4', 'X7'], ['X4', 'X8'], ['X4', 'X9'], ['X4', 'X10'], ['X4', 'X11'], ['X4', 'X12'], ['X4', 'X13'], ['X4', 'X14'], ['X4', 'X15'], ['X4', 'X16'], ['X4', 'X17'], ['X5', 'X6'], ['X5', 'X7'], ['X5', 'X8'], ['X5', 'X9'], ['X5', 'X10'], ['X5', 'X11'], ['X5', 'X12'], ['X5', 'X13'], ['X5', 'X14'], ['X5', 'X15'], ['X5', 'X16'], ['X5', 'X17'], ['X6', 'X7'], ['X6', 'X8'], ['X6', 'X9'], ['X6', 'X10'], ['X6', 'X11'], ['X6', 'X12'], ['X6', 'X13'], ['X6', 'X14'], ['X6', 'X15'], ['X6', 'X16'], ['X6', 'X17'], ['X7', 'X8'], ['X7', 'X9'], ['X7', 'X10'], ['X7', 'X11'], ['X7', 'X12'], ['X7', 'X13'], ['X7', 'X14'], ['X7', 'X15'], ['X7', 'X16'], ['X7', 'X17'], ['X8', 'X9'], ['X8', 'X10'], ['X8', 'X11'], ['X8', 'X12'], ['X8', 'X13'], ['X8', 'X14'], ['X8', 'X15'], ['X8', 'X16'], ['X8', 'X17'], ['X9', 'X10'], ['X9', 'X11'], ['X9', 'X12'], ['X9', 'X13'], ['X9', 'X14'], ['X9', 'X15'], ['X9', 'X16'], ['X9', 'X17'], ['X10', 'X11'], ['X10', 'X12'], ['X10', 'X13'], ['X10', 'X14'], ['X10', 'X15'], ['X10', 'X16'], ['X10', 'X17'], ['X11', 'X12'], ['X11', 'X13'], ['X11', 'X14'], ['X11', 'X15'], ['X11', 'X16'], ['X11', 'X17'], ['X12', 'X13'], ['X12', 'X14'], ['X12', 'X15'], ['X12', 'X16'], ['X12', 'X17'], ['X13', 'X14'], ['X13', 'X15'], ['X13', 'X16'], ['X13', 'X17'], ['X14', 'X15'], ['X14', 'X16'], ['X14', 'X17'], ['X15', 'X16'], ['X15', 'X17'], ['X16', 'X17']]\n"
     ]
    }
   ],
   "source": [
    "print(cross_col)"
   ]
  },
  {
   "cell_type": "code",
   "execution_count": 25,
   "metadata": {},
   "outputs": [],
   "source": [
    "Categorical_base2 =\\\n",
    "[ tf.contrib.layers.sparse_column_with_keys( Cat , keys = Input[Cat].unique().tolist() ) for Cat in Categorical_col ]"
   ]
  },
  {
   "cell_type": "code",
   "execution_count": 26,
   "metadata": {},
   "outputs": [
    {
     "name": "stdout",
     "output_type": "stream",
     "text": [
      "['Gender', 'AgeGroup', 'A_residential_area']\n"
     ]
    }
   ],
   "source": [
    "print(Categorical_col)"
   ]
  },
  {
   "cell_type": "markdown",
   "metadata": {},
   "source": [
    "Wide Columns\n",
    "---\n",
    "\n",
    "--- "
   ]
  },
  {
   "cell_type": "code",
   "execution_count": 27,
   "metadata": {},
   "outputs": [],
   "source": [
    "wide_columns  = Categorical_base + Categorical_base2 + Cross_Columns"
   ]
  },
  {
   "cell_type": "markdown",
   "metadata": {},
   "source": [
    "#https://tensorflowkorea.gitbooks.io/tensorflow-kr/content/g3doc/tutorials/wide_and_deep/"
   ]
  },
  {
   "cell_type": "code",
   "execution_count": 28,
   "metadata": {},
   "outputs": [
    {
     "name": "stdout",
     "output_type": "stream",
     "text": [
      "WARNING:tensorflow:The default stddev value of initializer was changed from \"1/sqrt(vocab_size)\" to \"1/sqrt(dimension)\" in core implementation (tf.feature_column.embedding_column).\n",
      "WARNING:tensorflow:The default stddev value of initializer was changed from \"1/sqrt(vocab_size)\" to \"1/sqrt(dimension)\" in core implementation (tf.feature_column.embedding_column).\n",
      "WARNING:tensorflow:The default stddev value of initializer was changed from \"1/sqrt(vocab_size)\" to \"1/sqrt(dimension)\" in core implementation (tf.feature_column.embedding_column).\n"
     ]
    }
   ],
   "source": [
    "embed_col = []\n",
    "for idx , i in enumerate(Categorical_col) :\n",
    "    key = Categorical_base2[idx]\n",
    "    k = 8\n",
    "    dim = int( np.ceil( np.sqrt(Input[i].nunique()) ) ) * k\n",
    "    emb = tf.contrib.layers.embedding_column(key , dimension=dim)\n",
    "    embed_col.append(emb)"
   ]
  },
  {
   "cell_type": "code",
   "execution_count": 29,
   "metadata": {},
   "outputs": [
    {
     "data": {
      "text/plain": [
       "[_EmbeddingColumn(sparse_id_column=_SparseColumnKeys(column_name='Gender', is_integerized=False, bucket_size=None, lookup_config=_SparseIdLookupConfig(vocabulary_file=None, keys=('F',), num_oov_buckets=0, vocab_size=1, default_value=-1), combiner='sum', dtype=tf.string), dimension=8, combiner='mean', initializer=<tensorflow.python.ops.init_ops.TruncatedNormal object at 0x7f271f570940>, ckpt_to_load_from=None, tensor_name_in_ckpt=None, shared_embedding_name=None, shared_vocab_size=None, max_norm=None, trainable=True),\n",
       " _EmbeddingColumn(sparse_id_column=_SparseColumnKeys(column_name='AgeGroup', is_integerized=False, bucket_size=None, lookup_config=_SparseIdLookupConfig(vocabulary_file=None, keys=('45세~49세',), num_oov_buckets=0, vocab_size=1, default_value=-1), combiner='sum', dtype=tf.string), dimension=8, combiner='mean', initializer=<tensorflow.python.ops.init_ops.TruncatedNormal object at 0x7f270b063208>, ckpt_to_load_from=None, tensor_name_in_ckpt=None, shared_embedding_name=None, shared_vocab_size=None, max_norm=None, trainable=True),\n",
       " _EmbeddingColumn(sparse_id_column=_SparseColumnKeys(column_name='A_residential_area', is_integerized=False, bucket_size=None, lookup_config=_SparseIdLookupConfig(vocabulary_file=None, keys=('A100',), num_oov_buckets=0, vocab_size=1, default_value=-1), combiner='sum', dtype=tf.string), dimension=8, combiner='mean', initializer=<tensorflow.python.ops.init_ops.TruncatedNormal object at 0x7f27277bec88>, ckpt_to_load_from=None, tensor_name_in_ckpt=None, shared_embedding_name=None, shared_vocab_size=None, max_norm=None, trainable=True)]"
      ]
     },
     "execution_count": 29,
     "metadata": {},
     "output_type": "execute_result"
    }
   ],
   "source": [
    "embed_col"
   ]
  },
  {
   "cell_type": "markdown",
   "metadata": {},
   "source": [
    "Deep Columns\n",
    "---\n",
    "\n",
    "--- "
   ]
  },
  {
   "cell_type": "code",
   "execution_count": 30,
   "metadata": {},
   "outputs": [],
   "source": [
    "deep_columns = embed_col + Continous_base"
   ]
  },
  {
   "cell_type": "markdown",
   "metadata": {},
   "source": [
    "# Train Model"
   ]
  },
  {
   "cell_type": "code",
   "execution_count": 31,
   "metadata": {},
   "outputs": [
    {
     "name": "stdout",
     "output_type": "stream",
     "text": [
      "INFO:tensorflow:Using config: {'_model_dir': '/var/disk/WideDeep', '_tf_random_seed': None, '_save_summary_steps': 100, '_save_checkpoints_steps': None, '_save_checkpoints_secs': 600, '_session_config': device_count {\n",
      "  key: \"GPU\"\n",
      "}\n",
      "intra_op_parallelism_threads: 8\n",
      "inter_op_parallelism_threads: 8\n",
      "gpu_options {\n",
      "  allow_growth: true\n",
      "}\n",
      "log_device_placement: true\n",
      ", '_keep_checkpoint_max': 5, '_keep_checkpoint_every_n_hours': 10000, '_log_step_count_steps': 100, '_train_distribute': None, '_device_fn': None, '_protocol': None, '_eval_distribute': None, '_experimental_distribute': None, '_service': None, '_cluster_spec': <tensorflow.python.training.server_lib.ClusterSpec object at 0x7f270b063dd8>, '_task_type': 'worker', '_task_id': 0, '_global_id_in_cluster': 0, '_master': '', '_evaluation_master': '', '_is_chief': True, '_num_ps_replicas': 0, '_num_worker_replicas': 1}\n"
     ]
    }
   ],
   "source": [
    "inter_op = 8\n",
    "intra_op = 8\n",
    "config = tf.ConfigProto(device_count={'GPU': 0},\n",
    "                        log_device_placement=True , \n",
    "                        inter_op_parallelism_threads=inter_op,\n",
    "                        intra_op_parallelism_threads=intra_op)\n",
    "config.gpu_options.allow_growth = True\n",
    "run_config = tf.estimator.RunConfig().replace(\n",
    "    session_config=config)\n",
    "model_dir = \"/var/disk/WideDeep\"\n",
    "m = tf.estimator.DNNLinearCombinedClassifier(\n",
    "    model_dir=model_dir,\n",
    "    linear_feature_columns=wide_columns,\n",
    "    dnn_feature_columns=deep_columns,\n",
    "    dnn_activation_fn=tf.nn.leaky_relu ,\n",
    "    n_classes = test_label_eval.shape[1] , \n",
    "    batch_norm = True,\n",
    "    dnn_dropout = 0.3,\n",
    "    dnn_hidden_units=[200 ,  150 , 100 , 50],\n",
    "    dnn_optimizer=tf.train.AdamOptimizer(learning_rate = 0.01) , \n",
    "    linear_optimizer=tf.train.AdamOptimizer(learning_rate = 0.01),\n",
    "    config=run_config\n",
    ")     "
   ]
  },
  {
   "cell_type": "markdown",
   "metadata": {},
   "source": [
    "## 학습 및 평가"
   ]
  },
  {
   "cell_type": "code",
   "execution_count": 142,
   "metadata": {
    "scrolled": true
   },
   "outputs": [
    {
     "name": "stdout",
     "output_type": "stream",
     "text": [
      "False\n",
      "INFO:tensorflow:Calling model_fn.\n",
      "INFO:tensorflow:Done calling model_fn.\n",
      "INFO:tensorflow:Create CheckpointSaverHook.\n",
      "INFO:tensorflow:Graph was finalized.\n",
      "INFO:tensorflow:Running local_init_op.\n",
      "INFO:tensorflow:Done running local_init_op.\n",
      "INFO:tensorflow:Saving checkpoints for 0 into /var/disk/WideDeep/model.ckpt.\n",
      "INFO:tensorflow:loss = 434.84457, step = 1\n",
      "INFO:tensorflow:Saving checkpoints for 100 into /var/disk/WideDeep/model.ckpt.\n",
      "INFO:tensorflow:Loss for final step: 501.9146.\n",
      "False\n",
      "INFO:tensorflow:Calling model_fn.\n",
      "INFO:tensorflow:Done calling model_fn.\n",
      "INFO:tensorflow:Starting evaluation at 2019-07-20T04:42:52Z\n",
      "INFO:tensorflow:Graph was finalized.\n",
      "INFO:tensorflow:Restoring parameters from /var/disk/WideDeep/model.ckpt-100\n",
      "INFO:tensorflow:Running local_init_op.\n",
      "INFO:tensorflow:Done running local_init_op.\n",
      "INFO:tensorflow:Evaluation [1/1]\n",
      "INFO:tensorflow:Finished evaluation at 2019-07-20-04:43:06\n",
      "INFO:tensorflow:Saving dict for global step 100: accuracy = 0.171875, average_loss = 4.444233, global_step = 100, loss = 284.4309\n",
      "INFO:tensorflow:Saving 'checkpoint_path' summary for global step 100: /var/disk/WideDeep/model.ckpt-100\n",
      "accuracy: 0.171875\n",
      "average_loss: 4.444233\n",
      "global_step: 100\n",
      "loss: 284.4309\n"
     ]
    }
   ],
   "source": [
    "# train\n",
    "m.train(input_fn=train_input_fn , \n",
    "        ##steps= 100 ,\n",
    "        max_steps=100 ,\n",
    "       )\n",
    "results = m.evaluate(input_fn=train_input_fn , steps=1)\n",
    "for key in sorted(results):\n",
    "    print(\"%s: %s\" % (key, results[key]))"
   ]
  },
  {
   "cell_type": "markdown",
   "metadata": {},
   "source": [
    "## tf.contrib.learn 으로 했을 때 "
   ]
  },
  {
   "cell_type": "code",
   "execution_count": 103,
   "metadata": {},
   "outputs": [],
   "source": [
    "def get_inputs(data , seg, index ):\n",
    "    data = data.iloc[index : (index+1)  : ]\n",
    "    continuous_cols = {k: tf.constant(data[k].values)\n",
    "                       for k in CONTINUOUS_COLUMNS}\n",
    "    categorical_cols = {k: tf.SparseTensor( indices=[[i, 0] for i in range(data[k].size)], values=data[k].astype(str).values , \n",
    "                                           dense_shape=[data[k].size, 1] ) for k in CATEGORICAL_COLUMNS}\n",
    "\n",
    "    feature_cols = {**continuous_cols , **categorical_cols}\n",
    "    if seg == \"train\" :\n",
    "        labels = tf.constant( data[[\"target\"]].values , dtype = tf.int64 )\n",
    "        #tf.constant(np.array([[1]] * data.shape[0] ).reshape(-1,1) , dtype = tf.int64 ) # , name =\"target\" \n",
    "    elif seg == \"test\" :\n",
    "        labels = None\n",
    "    return feature_cols , labels\n",
    "\n",
    "def train_input_fn():\n",
    "    return get_inputs(Input ,  \"train\"  , 1 )\n",
    "\n",
    "def test_input_fn():\n",
    "    return get_inputs(test_ , \"test\" , 1)\n"
   ]
  },
  {
   "cell_type": "code",
   "execution_count": 51,
   "metadata": {},
   "outputs": [
    {
     "name": "stdout",
     "output_type": "stream",
     "text": [
      "Start==\n",
      "WARNING:tensorflow:Rank of input Tensor (1) should be the same as output_rank (2) for column. Will attempt to expand dims. It is highly recommended that you resize your input, as this behavior may change.\n",
      "WARNING:tensorflow:Rank of input Tensor (1) should be the same as output_rank (2) for column. Will attempt to expand dims. It is highly recommended that you resize your input, as this behavior may change.\n",
      "WARNING:tensorflow:Rank of input Tensor (1) should be the same as output_rank (2) for column. Will attempt to expand dims. It is highly recommended that you resize your input, as this behavior may change.\n",
      "WARNING:tensorflow:Rank of input Tensor (1) should be the same as output_rank (2) for column. Will attempt to expand dims. It is highly recommended that you resize your input, as this behavior may change.\n",
      "WARNING:tensorflow:Rank of input Tensor (1) should be the same as output_rank (2) for column. Will attempt to expand dims. It is highly recommended that you resize your input, as this behavior may change.\n",
      "WARNING:tensorflow:Rank of input Tensor (1) should be the same as output_rank (2) for column. Will attempt to expand dims. It is highly recommended that you resize your input, as this behavior may change.\n",
      "WARNING:tensorflow:Rank of input Tensor (1) should be the same as output_rank (2) for column. Will attempt to expand dims. It is highly recommended that you resize your input, as this behavior may change.\n",
      "WARNING:tensorflow:Rank of input Tensor (1) should be the same as output_rank (2) for column. Will attempt to expand dims. It is highly recommended that you resize your input, as this behavior may change.\n",
      "WARNING:tensorflow:Rank of input Tensor (1) should be the same as output_rank (2) for column. Will attempt to expand dims. It is highly recommended that you resize your input, as this behavior may change.\n",
      "WARNING:tensorflow:Rank of input Tensor (1) should be the same as output_rank (2) for column. Will attempt to expand dims. It is highly recommended that you resize your input, as this behavior may change.\n",
      "WARNING:tensorflow:Rank of input Tensor (1) should be the same as output_rank (2) for column. Will attempt to expand dims. It is highly recommended that you resize your input, as this behavior may change.\n",
      "WARNING:tensorflow:Rank of input Tensor (1) should be the same as output_rank (2) for column. Will attempt to expand dims. It is highly recommended that you resize your input, as this behavior may change.\n",
      "WARNING:tensorflow:Rank of input Tensor (1) should be the same as output_rank (2) for column. Will attempt to expand dims. It is highly recommended that you resize your input, as this behavior may change.\n",
      "WARNING:tensorflow:Rank of input Tensor (1) should be the same as output_rank (2) for column. Will attempt to expand dims. It is highly recommended that you resize your input, as this behavior may change.\n",
      "WARNING:tensorflow:Rank of input Tensor (1) should be the same as output_rank (2) for column. Will attempt to expand dims. It is highly recommended that you resize your input, as this behavior may change.\n",
      "WARNING:tensorflow:Rank of input Tensor (1) should be the same as output_rank (2) for column. Will attempt to expand dims. It is highly recommended that you resize your input, as this behavior may change.\n",
      "WARNING:tensorflow:Rank of input Tensor (1) should be the same as output_rank (2) for column. Will attempt to expand dims. It is highly recommended that you resize your input, as this behavior may change.\n",
      "WARNING:tensorflow:Rank of input Tensor (1) should be the same as output_rank (2) for column. Will attempt to expand dims. It is highly recommended that you resize your input, as this behavior may change.\n",
      "WARNING:tensorflow:Rank of input Tensor (1) should be the same as output_rank (2) for column. Will attempt to expand dims. It is highly recommended that you resize your input, as this behavior may change.\n",
      "WARNING:tensorflow:Rank of input Tensor (1) should be the same as output_rank (2) for column. Will attempt to expand dims. It is highly recommended that you resize your input, as this behavior may change.\n",
      "WARNING:tensorflow:Rank of input Tensor (1) should be the same as output_rank (2) for column. Will attempt to expand dims. It is highly recommended that you resize your input, as this behavior may change.\n",
      "WARNING:tensorflow:Rank of input Tensor (1) should be the same as output_rank (2) for column. Will attempt to expand dims. It is highly recommended that you resize your input, as this behavior may change.\n",
      "WARNING:tensorflow:Rank of input Tensor (1) should be the same as output_rank (2) for column. Will attempt to expand dims. It is highly recommended that you resize your input, as this behavior may change.\n",
      "WARNING:tensorflow:Rank of input Tensor (1) should be the same as output_rank (2) for column. Will attempt to expand dims. It is highly recommended that you resize your input, as this behavior may change.\n",
      "WARNING:tensorflow:Rank of input Tensor (1) should be the same as output_rank (2) for column. Will attempt to expand dims. It is highly recommended that you resize your input, as this behavior may change.\n",
      "WARNING:tensorflow:Rank of input Tensor (1) should be the same as output_rank (2) for column. Will attempt to expand dims. It is highly recommended that you resize your input, as this behavior may change.\n",
      "WARNING:tensorflow:Rank of input Tensor (1) should be the same as output_rank (2) for column. Will attempt to expand dims. It is highly recommended that you resize your input, as this behavior may change.\n",
      "WARNING:tensorflow:Rank of input Tensor (1) should be the same as output_rank (2) for column. Will attempt to expand dims. It is highly recommended that you resize your input, as this behavior may change.\n",
      "WARNING:tensorflow:Rank of input Tensor (1) should be the same as output_rank (2) for column. Will attempt to expand dims. It is highly recommended that you resize your input, as this behavior may change.\n",
      "WARNING:tensorflow:Rank of input Tensor (1) should be the same as output_rank (2) for column. Will attempt to expand dims. It is highly recommended that you resize your input, as this behavior may change.\n",
      "WARNING:tensorflow:Rank of input Tensor (1) should be the same as output_rank (2) for column. Will attempt to expand dims. It is highly recommended that you resize your input, as this behavior may change.\n",
      "WARNING:tensorflow:Rank of input Tensor (1) should be the same as output_rank (2) for column. Will attempt to expand dims. It is highly recommended that you resize your input, as this behavior may change.\n",
      "WARNING:tensorflow:Rank of input Tensor (1) should be the same as output_rank (2) for column. Will attempt to expand dims. It is highly recommended that you resize your input, as this behavior may change.\n",
      "WARNING:tensorflow:Rank of input Tensor (1) should be the same as output_rank (2) for column. Will attempt to expand dims. It is highly recommended that you resize your input, as this behavior may change.\n",
      "WARNING:tensorflow:Rank of input Tensor (1) should be the same as output_rank (2) for column. Will attempt to expand dims. It is highly recommended that you resize your input, as this behavior may change.\n",
      "WARNING:tensorflow:Rank of input Tensor (1) should be the same as output_rank (2) for column. Will attempt to expand dims. It is highly recommended that you resize your input, as this behavior may change.\n",
      "WARNING:tensorflow:Rank of input Tensor (1) should be the same as output_rank (2) for column. Will attempt to expand dims. It is highly recommended that you resize your input, as this behavior may change.\n",
      "WARNING:tensorflow:Rank of input Tensor (1) should be the same as output_rank (2) for column. Will attempt to expand dims. It is highly recommended that you resize your input, as this behavior may change.\n",
      "WARNING:tensorflow:Rank of input Tensor (1) should be the same as output_rank (2) for column. Will attempt to expand dims. It is highly recommended that you resize your input, as this behavior may change.\n",
      "WARNING:tensorflow:Rank of input Tensor (1) should be the same as output_rank (2) for column. Will attempt to expand dims. It is highly recommended that you resize your input, as this behavior may change.\n"
     ]
    },
    {
     "name": "stdout",
     "output_type": "stream",
     "text": [
      "WARNING:tensorflow:Rank of input Tensor (1) should be the same as output_rank (2) for column. Will attempt to expand dims. It is highly recommended that you resize your input, as this behavior may change.\n",
      "WARNING:tensorflow:Rank of input Tensor (1) should be the same as output_rank (2) for column. Will attempt to expand dims. It is highly recommended that you resize your input, as this behavior may change.\n",
      "WARNING:tensorflow:Rank of input Tensor (1) should be the same as output_rank (2) for column. Will attempt to expand dims. It is highly recommended that you resize your input, as this behavior may change.\n",
      "WARNING:tensorflow:Rank of input Tensor (1) should be the same as output_rank (2) for column. Will attempt to expand dims. It is highly recommended that you resize your input, as this behavior may change.\n",
      "WARNING:tensorflow:Rank of input Tensor (1) should be the same as output_rank (2) for column. Will attempt to expand dims. It is highly recommended that you resize your input, as this behavior may change.\n",
      "WARNING:tensorflow:Rank of input Tensor (1) should be the same as output_rank (2) for column. Will attempt to expand dims. It is highly recommended that you resize your input, as this behavior may change.\n",
      "WARNING:tensorflow:Rank of input Tensor (1) should be the same as output_rank (2) for column. Will attempt to expand dims. It is highly recommended that you resize your input, as this behavior may change.\n",
      "WARNING:tensorflow:Rank of input Tensor (1) should be the same as output_rank (2) for column. Will attempt to expand dims. It is highly recommended that you resize your input, as this behavior may change.\n",
      "WARNING:tensorflow:Rank of input Tensor (1) should be the same as output_rank (2) for column. Will attempt to expand dims. It is highly recommended that you resize your input, as this behavior may change.\n",
      "WARNING:tensorflow:Rank of input Tensor (1) should be the same as output_rank (2) for column. Will attempt to expand dims. It is highly recommended that you resize your input, as this behavior may change.\n",
      "WARNING:tensorflow:Rank of input Tensor (1) should be the same as output_rank (2) for column. Will attempt to expand dims. It is highly recommended that you resize your input, as this behavior may change.\n",
      "WARNING:tensorflow:Rank of input Tensor (1) should be the same as output_rank (2) for column. Will attempt to expand dims. It is highly recommended that you resize your input, as this behavior may change.\n",
      "WARNING:tensorflow:Rank of input Tensor (1) should be the same as output_rank (2) for column. Will attempt to expand dims. It is highly recommended that you resize your input, as this behavior may change.\n",
      "WARNING:tensorflow:Rank of input Tensor (1) should be the same as output_rank (2) for column. Will attempt to expand dims. It is highly recommended that you resize your input, as this behavior may change.\n",
      "WARNING:tensorflow:Rank of input Tensor (1) should be the same as output_rank (2) for column. Will attempt to expand dims. It is highly recommended that you resize your input, as this behavior may change.\n",
      "WARNING:tensorflow:Rank of input Tensor (1) should be the same as output_rank (2) for column. Will attempt to expand dims. It is highly recommended that you resize your input, as this behavior may change.\n",
      "WARNING:tensorflow:Rank of input Tensor (1) should be the same as output_rank (2) for column. Will attempt to expand dims. It is highly recommended that you resize your input, as this behavior may change.\n",
      "WARNING:tensorflow:Rank of input Tensor (1) should be the same as output_rank (2) for column. Will attempt to expand dims. It is highly recommended that you resize your input, as this behavior may change.\n",
      "WARNING:tensorflow:Rank of input Tensor (1) should be the same as output_rank (2) for column. Will attempt to expand dims. It is highly recommended that you resize your input, as this behavior may change.\n",
      "WARNING:tensorflow:Rank of input Tensor (1) should be the same as output_rank (2) for column. Will attempt to expand dims. It is highly recommended that you resize your input, as this behavior may change.\n",
      "WARNING:tensorflow:Rank of input Tensor (1) should be the same as output_rank (2) for column. Will attempt to expand dims. It is highly recommended that you resize your input, as this behavior may change.\n",
      "WARNING:tensorflow:Rank of input Tensor (1) should be the same as output_rank (2) for column. Will attempt to expand dims. It is highly recommended that you resize your input, as this behavior may change.\n",
      "WARNING:tensorflow:Rank of input Tensor (1) should be the same as output_rank (2) for column. Will attempt to expand dims. It is highly recommended that you resize your input, as this behavior may change.\n",
      "WARNING:tensorflow:Rank of input Tensor (1) should be the same as output_rank (2) for column. Will attempt to expand dims. It is highly recommended that you resize your input, as this behavior may change.\n",
      "WARNING:tensorflow:Rank of input Tensor (1) should be the same as output_rank (2) for column. Will attempt to expand dims. It is highly recommended that you resize your input, as this behavior may change.\n",
      "WARNING:tensorflow:Rank of input Tensor (1) should be the same as output_rank (2) for column. Will attempt to expand dims. It is highly recommended that you resize your input, as this behavior may change.\n",
      "WARNING:tensorflow:Rank of input Tensor (1) should be the same as output_rank (2) for column. Will attempt to expand dims. It is highly recommended that you resize your input, as this behavior may change.\n",
      "WARNING:tensorflow:Rank of input Tensor (1) should be the same as output_rank (2) for column. Will attempt to expand dims. It is highly recommended that you resize your input, as this behavior may change.\n",
      "WARNING:tensorflow:Rank of input Tensor (1) should be the same as output_rank (2) for column. Will attempt to expand dims. It is highly recommended that you resize your input, as this behavior may change.\n",
      "WARNING:tensorflow:Rank of input Tensor (1) should be the same as output_rank (2) for column. Will attempt to expand dims. It is highly recommended that you resize your input, as this behavior may change.\n",
      "WARNING:tensorflow:Rank of input Tensor (1) should be the same as output_rank (2) for column. Will attempt to expand dims. It is highly recommended that you resize your input, as this behavior may change.\n",
      "WARNING:tensorflow:Rank of input Tensor (1) should be the same as output_rank (2) for column. Will attempt to expand dims. It is highly recommended that you resize your input, as this behavior may change.\n",
      "WARNING:tensorflow:Rank of input Tensor (1) should be the same as output_rank (2) for column. Will attempt to expand dims. It is highly recommended that you resize your input, as this behavior may change.\n",
      "WARNING:tensorflow:Rank of input Tensor (1) should be the same as output_rank (2) for column. Will attempt to expand dims. It is highly recommended that you resize your input, as this behavior may change.\n",
      "WARNING:tensorflow:Rank of input Tensor (1) should be the same as output_rank (2) for column. Will attempt to expand dims. It is highly recommended that you resize your input, as this behavior may change.\n",
      "WARNING:tensorflow:Rank of input Tensor (1) should be the same as output_rank (2) for column. Will attempt to expand dims. It is highly recommended that you resize your input, as this behavior may change.\n",
      "WARNING:tensorflow:Rank of input Tensor (1) should be the same as output_rank (2) for column. Will attempt to expand dims. It is highly recommended that you resize your input, as this behavior may change.\n",
      "WARNING:tensorflow:Rank of input Tensor (1) should be the same as output_rank (2) for column. Will attempt to expand dims. It is highly recommended that you resize your input, as this behavior may change.\n",
      "WARNING:tensorflow:Rank of input Tensor (1) should be the same as output_rank (2) for column. Will attempt to expand dims. It is highly recommended that you resize your input, as this behavior may change.\n",
      "WARNING:tensorflow:Rank of input Tensor (1) should be the same as output_rank (2) for column. Will attempt to expand dims. It is highly recommended that you resize your input, as this behavior may change.\n"
     ]
    },
    {
     "name": "stdout",
     "output_type": "stream",
     "text": [
      "WARNING:tensorflow:Rank of input Tensor (1) should be the same as output_rank (2) for column. Will attempt to expand dims. It is highly recommended that you resize your input, as this behavior may change.\n",
      "WARNING:tensorflow:Rank of input Tensor (1) should be the same as output_rank (2) for column. Will attempt to expand dims. It is highly recommended that you resize your input, as this behavior may change.\n",
      "WARNING:tensorflow:Rank of input Tensor (1) should be the same as output_rank (2) for column. Will attempt to expand dims. It is highly recommended that you resize your input, as this behavior may change.\n",
      "WARNING:tensorflow:Rank of input Tensor (1) should be the same as output_rank (2) for column. Will attempt to expand dims. It is highly recommended that you resize your input, as this behavior may change.\n",
      "WARNING:tensorflow:Rank of input Tensor (1) should be the same as output_rank (2) for column. Will attempt to expand dims. It is highly recommended that you resize your input, as this behavior may change.\n",
      "WARNING:tensorflow:Rank of input Tensor (1) should be the same as output_rank (2) for column. Will attempt to expand dims. It is highly recommended that you resize your input, as this behavior may change.\n",
      "WARNING:tensorflow:Rank of input Tensor (1) should be the same as output_rank (2) for column. Will attempt to expand dims. It is highly recommended that you resize your input, as this behavior may change.\n",
      "WARNING:tensorflow:Rank of input Tensor (1) should be the same as output_rank (2) for column. Will attempt to expand dims. It is highly recommended that you resize your input, as this behavior may change.\n",
      "WARNING:tensorflow:Rank of input Tensor (1) should be the same as output_rank (2) for column. Will attempt to expand dims. It is highly recommended that you resize your input, as this behavior may change.\n",
      "WARNING:tensorflow:Rank of input Tensor (1) should be the same as output_rank (2) for column. Will attempt to expand dims. It is highly recommended that you resize your input, as this behavior may change.\n",
      "WARNING:tensorflow:Rank of input Tensor (1) should be the same as output_rank (2) for column. Will attempt to expand dims. It is highly recommended that you resize your input, as this behavior may change.\n",
      "WARNING:tensorflow:Rank of input Tensor (1) should be the same as output_rank (2) for column. Will attempt to expand dims. It is highly recommended that you resize your input, as this behavior may change.\n",
      "WARNING:tensorflow:Rank of input Tensor (1) should be the same as output_rank (2) for column. Will attempt to expand dims. It is highly recommended that you resize your input, as this behavior may change.\n",
      "WARNING:tensorflow:Rank of input Tensor (1) should be the same as output_rank (2) for column. Will attempt to expand dims. It is highly recommended that you resize your input, as this behavior may change.\n",
      "WARNING:tensorflow:Rank of input Tensor (1) should be the same as output_rank (2) for column. Will attempt to expand dims. It is highly recommended that you resize your input, as this behavior may change.\n",
      "WARNING:tensorflow:Rank of input Tensor (1) should be the same as output_rank (2) for column. Will attempt to expand dims. It is highly recommended that you resize your input, as this behavior may change.\n",
      "WARNING:tensorflow:Rank of input Tensor (1) should be the same as output_rank (2) for column. Will attempt to expand dims. It is highly recommended that you resize your input, as this behavior may change.\n",
      "WARNING:tensorflow:Rank of input Tensor (1) should be the same as output_rank (2) for column. Will attempt to expand dims. It is highly recommended that you resize your input, as this behavior may change.\n",
      "WARNING:tensorflow:Rank of input Tensor (1) should be the same as output_rank (2) for column. Will attempt to expand dims. It is highly recommended that you resize your input, as this behavior may change.\n",
      "WARNING:tensorflow:Rank of input Tensor (1) should be the same as output_rank (2) for column. Will attempt to expand dims. It is highly recommended that you resize your input, as this behavior may change.\n",
      "WARNING:tensorflow:Rank of input Tensor (1) should be the same as output_rank (2) for column. Will attempt to expand dims. It is highly recommended that you resize your input, as this behavior may change.\n",
      "WARNING:tensorflow:Rank of input Tensor (1) should be the same as output_rank (2) for column. Will attempt to expand dims. It is highly recommended that you resize your input, as this behavior may change.\n",
      "WARNING:tensorflow:Rank of input Tensor (1) should be the same as output_rank (2) for column. Will attempt to expand dims. It is highly recommended that you resize your input, as this behavior may change.\n",
      "WARNING:tensorflow:Rank of input Tensor (1) should be the same as output_rank (2) for column. Will attempt to expand dims. It is highly recommended that you resize your input, as this behavior may change.\n",
      "WARNING:tensorflow:Rank of input Tensor (1) should be the same as output_rank (2) for column. Will attempt to expand dims. It is highly recommended that you resize your input, as this behavior may change.\n",
      "WARNING:tensorflow:Rank of input Tensor (1) should be the same as output_rank (2) for column. Will attempt to expand dims. It is highly recommended that you resize your input, as this behavior may change.\n",
      "WARNING:tensorflow:Rank of input Tensor (1) should be the same as output_rank (2) for column. Will attempt to expand dims. It is highly recommended that you resize your input, as this behavior may change.\n",
      "WARNING:tensorflow:Rank of input Tensor (1) should be the same as output_rank (2) for column. Will attempt to expand dims. It is highly recommended that you resize your input, as this behavior may change.\n",
      "WARNING:tensorflow:Rank of input Tensor (1) should be the same as output_rank (2) for column. Will attempt to expand dims. It is highly recommended that you resize your input, as this behavior may change.\n",
      "WARNING:tensorflow:Rank of input Tensor (1) should be the same as output_rank (2) for column. Will attempt to expand dims. It is highly recommended that you resize your input, as this behavior may change.\n",
      "WARNING:tensorflow:Rank of input Tensor (1) should be the same as output_rank (2) for column. Will attempt to expand dims. It is highly recommended that you resize your input, as this behavior may change.\n",
      "WARNING:tensorflow:Rank of input Tensor (1) should be the same as output_rank (2) for column. Will attempt to expand dims. It is highly recommended that you resize your input, as this behavior may change.\n",
      "WARNING:tensorflow:Rank of input Tensor (1) should be the same as output_rank (2) for column. Will attempt to expand dims. It is highly recommended that you resize your input, as this behavior may change.\n",
      "WARNING:tensorflow:Rank of input Tensor (1) should be the same as output_rank (2) for column. Will attempt to expand dims. It is highly recommended that you resize your input, as this behavior may change.\n",
      "WARNING:tensorflow:Rank of input Tensor (1) should be the same as output_rank (2) for column. Will attempt to expand dims. It is highly recommended that you resize your input, as this behavior may change.\n",
      "WARNING:tensorflow:Rank of input Tensor (1) should be the same as output_rank (2) for column. Will attempt to expand dims. It is highly recommended that you resize your input, as this behavior may change.\n",
      "WARNING:tensorflow:Rank of input Tensor (1) should be the same as output_rank (2) for column. Will attempt to expand dims. It is highly recommended that you resize your input, as this behavior may change.\n",
      "WARNING:tensorflow:Rank of input Tensor (1) should be the same as output_rank (2) for column. Will attempt to expand dims. It is highly recommended that you resize your input, as this behavior may change.\n",
      "WARNING:tensorflow:Rank of input Tensor (1) should be the same as output_rank (2) for column. Will attempt to expand dims. It is highly recommended that you resize your input, as this behavior may change.\n",
      "WARNING:tensorflow:Rank of input Tensor (1) should be the same as output_rank (2) for column. Will attempt to expand dims. It is highly recommended that you resize your input, as this behavior may change.\n"
     ]
    },
    {
     "name": "stdout",
     "output_type": "stream",
     "text": [
      "WARNING:tensorflow:Rank of input Tensor (1) should be the same as output_rank (2) for column. Will attempt to expand dims. It is highly recommended that you resize your input, as this behavior may change.\n",
      "WARNING:tensorflow:Rank of input Tensor (1) should be the same as output_rank (2) for column. Will attempt to expand dims. It is highly recommended that you resize your input, as this behavior may change.\n",
      "WARNING:tensorflow:Rank of input Tensor (1) should be the same as output_rank (2) for column. Will attempt to expand dims. It is highly recommended that you resize your input, as this behavior may change.\n",
      "WARNING:tensorflow:Rank of input Tensor (1) should be the same as output_rank (2) for column. Will attempt to expand dims. It is highly recommended that you resize your input, as this behavior may change.\n",
      "WARNING:tensorflow:Rank of input Tensor (1) should be the same as output_rank (2) for column. Will attempt to expand dims. It is highly recommended that you resize your input, as this behavior may change.\n",
      "WARNING:tensorflow:Rank of input Tensor (1) should be the same as output_rank (2) for column. Will attempt to expand dims. It is highly recommended that you resize your input, as this behavior may change.\n",
      "WARNING:tensorflow:Rank of input Tensor (1) should be the same as output_rank (2) for column. Will attempt to expand dims. It is highly recommended that you resize your input, as this behavior may change.\n",
      "WARNING:tensorflow:Rank of input Tensor (1) should be the same as output_rank (2) for column. Will attempt to expand dims. It is highly recommended that you resize your input, as this behavior may change.\n",
      "WARNING:tensorflow:Rank of input Tensor (1) should be the same as output_rank (2) for column. Will attempt to expand dims. It is highly recommended that you resize your input, as this behavior may change.\n",
      "WARNING:tensorflow:Rank of input Tensor (1) should be the same as output_rank (2) for column. Will attempt to expand dims. It is highly recommended that you resize your input, as this behavior may change.\n",
      "WARNING:tensorflow:Rank of input Tensor (1) should be the same as output_rank (2) for column. Will attempt to expand dims. It is highly recommended that you resize your input, as this behavior may change.\n",
      "WARNING:tensorflow:Rank of input Tensor (1) should be the same as output_rank (2) for column. Will attempt to expand dims. It is highly recommended that you resize your input, as this behavior may change.\n",
      "WARNING:tensorflow:Rank of input Tensor (1) should be the same as output_rank (2) for column. Will attempt to expand dims. It is highly recommended that you resize your input, as this behavior may change.\n",
      "WARNING:tensorflow:Rank of input Tensor (1) should be the same as output_rank (2) for column. Will attempt to expand dims. It is highly recommended that you resize your input, as this behavior may change.\n",
      "WARNING:tensorflow:Rank of input Tensor (1) should be the same as output_rank (2) for column. Will attempt to expand dims. It is highly recommended that you resize your input, as this behavior may change.\n",
      "WARNING:tensorflow:Rank of input Tensor (1) should be the same as output_rank (2) for column. Will attempt to expand dims. It is highly recommended that you resize your input, as this behavior may change.\n",
      "WARNING:tensorflow:Rank of input Tensor (1) should be the same as output_rank (2) for column. Will attempt to expand dims. It is highly recommended that you resize your input, as this behavior may change.\n",
      "WARNING:tensorflow:Rank of input Tensor (1) should be the same as output_rank (2) for column. Will attempt to expand dims. It is highly recommended that you resize your input, as this behavior may change.\n",
      "WARNING:tensorflow:Rank of input Tensor (1) should be the same as output_rank (2) for column. Will attempt to expand dims. It is highly recommended that you resize your input, as this behavior may change.\n",
      "WARNING:tensorflow:Rank of input Tensor (1) should be the same as output_rank (2) for column. Will attempt to expand dims. It is highly recommended that you resize your input, as this behavior may change.\n",
      "WARNING:tensorflow:Rank of input Tensor (1) should be the same as output_rank (2) for column. Will attempt to expand dims. It is highly recommended that you resize your input, as this behavior may change.\n",
      "WARNING:tensorflow:Rank of input Tensor (1) should be the same as output_rank (2) for column. Will attempt to expand dims. It is highly recommended that you resize your input, as this behavior may change.\n",
      "WARNING:tensorflow:Rank of input Tensor (1) should be the same as output_rank (2) for column. Will attempt to expand dims. It is highly recommended that you resize your input, as this behavior may change.\n",
      "WARNING:tensorflow:Rank of input Tensor (1) should be the same as output_rank (2) for column. Will attempt to expand dims. It is highly recommended that you resize your input, as this behavior may change.\n",
      "WARNING:tensorflow:Rank of input Tensor (1) should be the same as output_rank (2) for column. Will attempt to expand dims. It is highly recommended that you resize your input, as this behavior may change.\n",
      "WARNING:tensorflow:Rank of input Tensor (1) should be the same as output_rank (2) for column. Will attempt to expand dims. It is highly recommended that you resize your input, as this behavior may change.\n",
      "WARNING:tensorflow:Rank of input Tensor (1) should be the same as output_rank (2) for column. Will attempt to expand dims. It is highly recommended that you resize your input, as this behavior may change.\n",
      "WARNING:tensorflow:Rank of input Tensor (1) should be the same as output_rank (2) for column. Will attempt to expand dims. It is highly recommended that you resize your input, as this behavior may change.\n",
      "WARNING:tensorflow:Rank of input Tensor (1) should be the same as output_rank (2) for column. Will attempt to expand dims. It is highly recommended that you resize your input, as this behavior may change.\n",
      "WARNING:tensorflow:Rank of input Tensor (1) should be the same as output_rank (2) for column. Will attempt to expand dims. It is highly recommended that you resize your input, as this behavior may change.\n",
      "WARNING:tensorflow:Rank of input Tensor (1) should be the same as output_rank (2) for column. Will attempt to expand dims. It is highly recommended that you resize your input, as this behavior may change.\n",
      "WARNING:tensorflow:Rank of input Tensor (1) should be the same as output_rank (2) for column. Will attempt to expand dims. It is highly recommended that you resize your input, as this behavior may change.\n",
      "WARNING:tensorflow:Rank of input Tensor (1) should be the same as output_rank (2) for column. Will attempt to expand dims. It is highly recommended that you resize your input, as this behavior may change.\n",
      "WARNING:tensorflow:Rank of input Tensor (1) should be the same as output_rank (2) for column. Will attempt to expand dims. It is highly recommended that you resize your input, as this behavior may change.\n",
      "WARNING:tensorflow:Rank of input Tensor (1) should be the same as output_rank (2) for column. Will attempt to expand dims. It is highly recommended that you resize your input, as this behavior may change.\n",
      "WARNING:tensorflow:Rank of input Tensor (1) should be the same as output_rank (2) for column. Will attempt to expand dims. It is highly recommended that you resize your input, as this behavior may change.\n",
      "WARNING:tensorflow:Rank of input Tensor (1) should be the same as output_rank (2) for column. Will attempt to expand dims. It is highly recommended that you resize your input, as this behavior may change.\n",
      "WARNING:tensorflow:Rank of input Tensor (1) should be the same as output_rank (2) for column. Will attempt to expand dims. It is highly recommended that you resize your input, as this behavior may change.\n",
      "WARNING:tensorflow:Rank of input Tensor (1) should be the same as output_rank (2) for column. Will attempt to expand dims. It is highly recommended that you resize your input, as this behavior may change.\n",
      "WARNING:tensorflow:Rank of input Tensor (1) should be the same as output_rank (2) for column. Will attempt to expand dims. It is highly recommended that you resize your input, as this behavior may change.\n"
     ]
    },
    {
     "name": "stdout",
     "output_type": "stream",
     "text": [
      "WARNING:tensorflow:Rank of input Tensor (1) should be the same as output_rank (2) for column. Will attempt to expand dims. It is highly recommended that you resize your input, as this behavior may change.\n",
      "WARNING:tensorflow:Rank of input Tensor (1) should be the same as output_rank (2) for column. Will attempt to expand dims. It is highly recommended that you resize your input, as this behavior may change.\n",
      "WARNING:tensorflow:Rank of input Tensor (1) should be the same as output_rank (2) for column. Will attempt to expand dims. It is highly recommended that you resize your input, as this behavior may change.\n",
      "WARNING:tensorflow:Rank of input Tensor (1) should be the same as output_rank (2) for column. Will attempt to expand dims. It is highly recommended that you resize your input, as this behavior may change.\n",
      "WARNING:tensorflow:Rank of input Tensor (1) should be the same as output_rank (2) for column. Will attempt to expand dims. It is highly recommended that you resize your input, as this behavior may change.\n",
      "WARNING:tensorflow:Rank of input Tensor (1) should be the same as output_rank (2) for column. Will attempt to expand dims. It is highly recommended that you resize your input, as this behavior may change.\n",
      "WARNING:tensorflow:Rank of input Tensor (1) should be the same as output_rank (2) for column. Will attempt to expand dims. It is highly recommended that you resize your input, as this behavior may change.\n",
      "WARNING:tensorflow:Rank of input Tensor (1) should be the same as output_rank (2) for column. Will attempt to expand dims. It is highly recommended that you resize your input, as this behavior may change.\n",
      "WARNING:tensorflow:Rank of input Tensor (1) should be the same as output_rank (2) for column. Will attempt to expand dims. It is highly recommended that you resize your input, as this behavior may change.\n",
      "WARNING:tensorflow:Rank of input Tensor (1) should be the same as output_rank (2) for column. Will attempt to expand dims. It is highly recommended that you resize your input, as this behavior may change.\n",
      "WARNING:tensorflow:Rank of input Tensor (1) should be the same as output_rank (2) for column. Will attempt to expand dims. It is highly recommended that you resize your input, as this behavior may change.\n",
      "WARNING:tensorflow:Rank of input Tensor (1) should be the same as output_rank (2) for column. Will attempt to expand dims. It is highly recommended that you resize your input, as this behavior may change.\n",
      "WARNING:tensorflow:Rank of input Tensor (1) should be the same as output_rank (2) for column. Will attempt to expand dims. It is highly recommended that you resize your input, as this behavior may change.\n",
      "WARNING:tensorflow:Rank of input Tensor (1) should be the same as output_rank (2) for column. Will attempt to expand dims. It is highly recommended that you resize your input, as this behavior may change.\n",
      "WARNING:tensorflow:Rank of input Tensor (1) should be the same as output_rank (2) for column. Will attempt to expand dims. It is highly recommended that you resize your input, as this behavior may change.\n",
      "WARNING:tensorflow:Rank of input Tensor (1) should be the same as output_rank (2) for column. Will attempt to expand dims. It is highly recommended that you resize your input, as this behavior may change.\n",
      "WARNING:tensorflow:Rank of input Tensor (1) should be the same as output_rank (2) for column. Will attempt to expand dims. It is highly recommended that you resize your input, as this behavior may change.\n",
      "WARNING:tensorflow:Rank of input Tensor (1) should be the same as output_rank (2) for column. Will attempt to expand dims. It is highly recommended that you resize your input, as this behavior may change.\n",
      "WARNING:tensorflow:Rank of input Tensor (1) should be the same as output_rank (2) for column. Will attempt to expand dims. It is highly recommended that you resize your input, as this behavior may change.\n",
      "WARNING:tensorflow:Rank of input Tensor (1) should be the same as output_rank (2) for column. Will attempt to expand dims. It is highly recommended that you resize your input, as this behavior may change.\n",
      "WARNING:tensorflow:Rank of input Tensor (1) should be the same as output_rank (2) for column. Will attempt to expand dims. It is highly recommended that you resize your input, as this behavior may change.\n",
      "WARNING:tensorflow:Rank of input Tensor (1) should be the same as output_rank (2) for column. Will attempt to expand dims. It is highly recommended that you resize your input, as this behavior may change.\n",
      "WARNING:tensorflow:Rank of input Tensor (1) should be the same as output_rank (2) for column. Will attempt to expand dims. It is highly recommended that you resize your input, as this behavior may change.\n",
      "WARNING:tensorflow:Rank of input Tensor (1) should be the same as output_rank (2) for column. Will attempt to expand dims. It is highly recommended that you resize your input, as this behavior may change.\n",
      "WARNING:tensorflow:Rank of input Tensor (1) should be the same as output_rank (2) for column. Will attempt to expand dims. It is highly recommended that you resize your input, as this behavior may change.\n",
      "WARNING:tensorflow:Rank of input Tensor (1) should be the same as output_rank (2) for column. Will attempt to expand dims. It is highly recommended that you resize your input, as this behavior may change.\n",
      "WARNING:tensorflow:Rank of input Tensor (1) should be the same as output_rank (2) for column. Will attempt to expand dims. It is highly recommended that you resize your input, as this behavior may change.\n",
      "WARNING:tensorflow:Rank of input Tensor (1) should be the same as output_rank (2) for column. Will attempt to expand dims. It is highly recommended that you resize your input, as this behavior may change.\n",
      "WARNING:tensorflow:Rank of input Tensor (1) should be the same as output_rank (2) for column. Will attempt to expand dims. It is highly recommended that you resize your input, as this behavior may change.\n",
      "WARNING:tensorflow:Rank of input Tensor (1) should be the same as output_rank (2) for column. Will attempt to expand dims. It is highly recommended that you resize your input, as this behavior may change.\n",
      "WARNING:tensorflow:Rank of input Tensor (1) should be the same as output_rank (2) for column. Will attempt to expand dims. It is highly recommended that you resize your input, as this behavior may change.\n",
      "WARNING:tensorflow:Rank of input Tensor (1) should be the same as output_rank (2) for column. Will attempt to expand dims. It is highly recommended that you resize your input, as this behavior may change.\n",
      "WARNING:tensorflow:Rank of input Tensor (1) should be the same as output_rank (2) for column. Will attempt to expand dims. It is highly recommended that you resize your input, as this behavior may change.\n",
      "WARNING:tensorflow:Rank of input Tensor (1) should be the same as output_rank (2) for column. Will attempt to expand dims. It is highly recommended that you resize your input, as this behavior may change.\n",
      "WARNING:tensorflow:Rank of input Tensor (1) should be the same as output_rank (2) for column. Will attempt to expand dims. It is highly recommended that you resize your input, as this behavior may change.\n",
      "WARNING:tensorflow:Rank of input Tensor (1) should be the same as output_rank (2) for column. Will attempt to expand dims. It is highly recommended that you resize your input, as this behavior may change.\n",
      "WARNING:tensorflow:Rank of input Tensor (1) should be the same as output_rank (2) for column. Will attempt to expand dims. It is highly recommended that you resize your input, as this behavior may change.\n",
      "WARNING:tensorflow:Rank of input Tensor (1) should be the same as output_rank (2) for column. Will attempt to expand dims. It is highly recommended that you resize your input, as this behavior may change.\n",
      "WARNING:tensorflow:Rank of input Tensor (1) should be the same as output_rank (2) for column. Will attempt to expand dims. It is highly recommended that you resize your input, as this behavior may change.\n",
      "WARNING:tensorflow:Rank of input Tensor (1) should be the same as output_rank (2) for column. Will attempt to expand dims. It is highly recommended that you resize your input, as this behavior may change.\n"
     ]
    },
    {
     "name": "stdout",
     "output_type": "stream",
     "text": [
      "WARNING:tensorflow:Rank of input Tensor (1) should be the same as output_rank (2) for column. Will attempt to expand dims. It is highly recommended that you resize your input, as this behavior may change.\n",
      "WARNING:tensorflow:Rank of input Tensor (1) should be the same as output_rank (2) for column. Will attempt to expand dims. It is highly recommended that you resize your input, as this behavior may change.\n",
      "WARNING:tensorflow:Rank of input Tensor (1) should be the same as output_rank (2) for column. Will attempt to expand dims. It is highly recommended that you resize your input, as this behavior may change.\n",
      "WARNING:tensorflow:Rank of input Tensor (1) should be the same as output_rank (2) for column. Will attempt to expand dims. It is highly recommended that you resize your input, as this behavior may change.\n",
      "WARNING:tensorflow:Rank of input Tensor (1) should be the same as output_rank (2) for column. Will attempt to expand dims. It is highly recommended that you resize your input, as this behavior may change.\n",
      "WARNING:tensorflow:Rank of input Tensor (1) should be the same as output_rank (2) for column. Will attempt to expand dims. It is highly recommended that you resize your input, as this behavior may change.\n",
      "WARNING:tensorflow:Rank of input Tensor (1) should be the same as output_rank (2) for column. Will attempt to expand dims. It is highly recommended that you resize your input, as this behavior may change.\n",
      "WARNING:tensorflow:Rank of input Tensor (1) should be the same as output_rank (2) for column. Will attempt to expand dims. It is highly recommended that you resize your input, as this behavior may change.\n",
      "WARNING:tensorflow:Rank of input Tensor (1) should be the same as output_rank (2) for column. Will attempt to expand dims. It is highly recommended that you resize your input, as this behavior may change.\n",
      "WARNING:tensorflow:Rank of input Tensor (1) should be the same as output_rank (2) for column. Will attempt to expand dims. It is highly recommended that you resize your input, as this behavior may change.\n",
      "WARNING:tensorflow:Rank of input Tensor (1) should be the same as output_rank (2) for column. Will attempt to expand dims. It is highly recommended that you resize your input, as this behavior may change.\n",
      "WARNING:tensorflow:Rank of input Tensor (1) should be the same as output_rank (2) for column. Will attempt to expand dims. It is highly recommended that you resize your input, as this behavior may change.\n",
      "WARNING:tensorflow:Rank of input Tensor (1) should be the same as output_rank (2) for column. Will attempt to expand dims. It is highly recommended that you resize your input, as this behavior may change.\n",
      "WARNING:tensorflow:Rank of input Tensor (1) should be the same as output_rank (2) for column. Will attempt to expand dims. It is highly recommended that you resize your input, as this behavior may change.\n",
      "WARNING:tensorflow:Rank of input Tensor (1) should be the same as output_rank (2) for column. Will attempt to expand dims. It is highly recommended that you resize your input, as this behavior may change.\n",
      "WARNING:tensorflow:Rank of input Tensor (1) should be the same as output_rank (2) for column. Will attempt to expand dims. It is highly recommended that you resize your input, as this behavior may change.\n",
      "WARNING:tensorflow:Rank of input Tensor (1) should be the same as output_rank (2) for column. Will attempt to expand dims. It is highly recommended that you resize your input, as this behavior may change.\n",
      "WARNING:tensorflow:Rank of input Tensor (1) should be the same as output_rank (2) for column. Will attempt to expand dims. It is highly recommended that you resize your input, as this behavior may change.\n",
      "WARNING:tensorflow:Rank of input Tensor (1) should be the same as output_rank (2) for column. Will attempt to expand dims. It is highly recommended that you resize your input, as this behavior may change.\n",
      "WARNING:tensorflow:Rank of input Tensor (1) should be the same as output_rank (2) for column. Will attempt to expand dims. It is highly recommended that you resize your input, as this behavior may change.\n",
      "WARNING:tensorflow:Rank of input Tensor (1) should be the same as output_rank (2) for column. Will attempt to expand dims. It is highly recommended that you resize your input, as this behavior may change.\n",
      "WARNING:tensorflow:Rank of input Tensor (1) should be the same as output_rank (2) for column. Will attempt to expand dims. It is highly recommended that you resize your input, as this behavior may change.\n",
      "WARNING:tensorflow:Rank of input Tensor (1) should be the same as output_rank (2) for column. Will attempt to expand dims. It is highly recommended that you resize your input, as this behavior may change.\n",
      "WARNING:tensorflow:Rank of input Tensor (1) should be the same as output_rank (2) for column. Will attempt to expand dims. It is highly recommended that you resize your input, as this behavior may change.\n",
      "WARNING:tensorflow:Rank of input Tensor (1) should be the same as output_rank (2) for column. Will attempt to expand dims. It is highly recommended that you resize your input, as this behavior may change.\n",
      "WARNING:tensorflow:Rank of input Tensor (1) should be the same as output_rank (2) for column. Will attempt to expand dims. It is highly recommended that you resize your input, as this behavior may change.\n",
      "WARNING:tensorflow:Rank of input Tensor (1) should be the same as output_rank (2) for column. Will attempt to expand dims. It is highly recommended that you resize your input, as this behavior may change.\n",
      "WARNING:tensorflow:Rank of input Tensor (1) should be the same as output_rank (2) for column. Will attempt to expand dims. It is highly recommended that you resize your input, as this behavior may change.\n",
      "WARNING:tensorflow:Rank of input Tensor (1) should be the same as output_rank (2) for column. Will attempt to expand dims. It is highly recommended that you resize your input, as this behavior may change.\n",
      "WARNING:tensorflow:Rank of input Tensor (1) should be the same as output_rank (2) for column. Will attempt to expand dims. It is highly recommended that you resize your input, as this behavior may change.\n",
      "WARNING:tensorflow:Rank of input Tensor (1) should be the same as output_rank (2) for column. Will attempt to expand dims. It is highly recommended that you resize your input, as this behavior may change.\n",
      "WARNING:tensorflow:Rank of input Tensor (1) should be the same as output_rank (2) for column. Will attempt to expand dims. It is highly recommended that you resize your input, as this behavior may change.\n",
      "WARNING:tensorflow:Rank of input Tensor (1) should be the same as output_rank (2) for column. Will attempt to expand dims. It is highly recommended that you resize your input, as this behavior may change.\n",
      "WARNING:tensorflow:Rank of input Tensor (1) should be the same as output_rank (2) for column. Will attempt to expand dims. It is highly recommended that you resize your input, as this behavior may change.\n",
      "WARNING:tensorflow:Rank of input Tensor (1) should be the same as output_rank (2) for column. Will attempt to expand dims. It is highly recommended that you resize your input, as this behavior may change.\n",
      "WARNING:tensorflow:Rank of input Tensor (1) should be the same as output_rank (2) for column. Will attempt to expand dims. It is highly recommended that you resize your input, as this behavior may change.\n",
      "WARNING:tensorflow:Rank of input Tensor (1) should be the same as output_rank (2) for column. Will attempt to expand dims. It is highly recommended that you resize your input, as this behavior may change.\n",
      "WARNING:tensorflow:Rank of input Tensor (1) should be the same as output_rank (2) for column. Will attempt to expand dims. It is highly recommended that you resize your input, as this behavior may change.\n",
      "WARNING:tensorflow:Rank of input Tensor (1) should be the same as output_rank (2) for column. Will attempt to expand dims. It is highly recommended that you resize your input, as this behavior may change.\n",
      "WARNING:tensorflow:Rank of input Tensor (1) should be the same as output_rank (2) for column. Will attempt to expand dims. It is highly recommended that you resize your input, as this behavior may change.\n"
     ]
    },
    {
     "name": "stdout",
     "output_type": "stream",
     "text": [
      "WARNING:tensorflow:Rank of input Tensor (1) should be the same as output_rank (2) for column. Will attempt to expand dims. It is highly recommended that you resize your input, as this behavior may change.\n",
      "WARNING:tensorflow:Rank of input Tensor (1) should be the same as output_rank (2) for column. Will attempt to expand dims. It is highly recommended that you resize your input, as this behavior may change.\n",
      "WARNING:tensorflow:Rank of input Tensor (1) should be the same as output_rank (2) for column. Will attempt to expand dims. It is highly recommended that you resize your input, as this behavior may change.\n",
      "WARNING:tensorflow:Rank of input Tensor (1) should be the same as output_rank (2) for column. Will attempt to expand dims. It is highly recommended that you resize your input, as this behavior may change.\n",
      "WARNING:tensorflow:Rank of input Tensor (1) should be the same as output_rank (2) for column. Will attempt to expand dims. It is highly recommended that you resize your input, as this behavior may change.\n",
      "WARNING:tensorflow:Rank of input Tensor (1) should be the same as output_rank (2) for column. Will attempt to expand dims. It is highly recommended that you resize your input, as this behavior may change.\n",
      "WARNING:tensorflow:Rank of input Tensor (1) should be the same as output_rank (2) for column. Will attempt to expand dims. It is highly recommended that you resize your input, as this behavior may change.\n",
      "WARNING:tensorflow:Rank of input Tensor (1) should be the same as output_rank (2) for column. Will attempt to expand dims. It is highly recommended that you resize your input, as this behavior may change.\n",
      "WARNING:tensorflow:Rank of input Tensor (1) should be the same as output_rank (2) for column. Will attempt to expand dims. It is highly recommended that you resize your input, as this behavior may change.\n",
      "WARNING:tensorflow:Rank of input Tensor (1) should be the same as output_rank (2) for column. Will attempt to expand dims. It is highly recommended that you resize your input, as this behavior may change.\n",
      "WARNING:tensorflow:Rank of input Tensor (1) should be the same as output_rank (2) for column. Will attempt to expand dims. It is highly recommended that you resize your input, as this behavior may change.\n",
      "WARNING:tensorflow:Rank of input Tensor (1) should be the same as output_rank (2) for column. Will attempt to expand dims. It is highly recommended that you resize your input, as this behavior may change.\n",
      "WARNING:tensorflow:Rank of input Tensor (1) should be the same as output_rank (2) for column. Will attempt to expand dims. It is highly recommended that you resize your input, as this behavior may change.\n",
      "WARNING:tensorflow:Rank of input Tensor (1) should be the same as output_rank (2) for column. Will attempt to expand dims. It is highly recommended that you resize your input, as this behavior may change.\n",
      "WARNING:tensorflow:Rank of input Tensor (1) should be the same as output_rank (2) for column. Will attempt to expand dims. It is highly recommended that you resize your input, as this behavior may change.\n",
      "WARNING:tensorflow:Rank of input Tensor (1) should be the same as output_rank (2) for column. Will attempt to expand dims. It is highly recommended that you resize your input, as this behavior may change.\n",
      "WARNING:tensorflow:Rank of input Tensor (1) should be the same as output_rank (2) for column. Will attempt to expand dims. It is highly recommended that you resize your input, as this behavior may change.\n",
      "WARNING:tensorflow:Rank of input Tensor (1) should be the same as output_rank (2) for column. Will attempt to expand dims. It is highly recommended that you resize your input, as this behavior may change.\n",
      "WARNING:tensorflow:Rank of input Tensor (1) should be the same as output_rank (2) for column. Will attempt to expand dims. It is highly recommended that you resize your input, as this behavior may change.\n",
      "WARNING:tensorflow:Rank of input Tensor (1) should be the same as output_rank (2) for column. Will attempt to expand dims. It is highly recommended that you resize your input, as this behavior may change.\n",
      "WARNING:tensorflow:Rank of input Tensor (1) should be the same as output_rank (2) for column. Will attempt to expand dims. It is highly recommended that you resize your input, as this behavior may change.\n",
      "WARNING:tensorflow:Rank of input Tensor (1) should be the same as output_rank (2) for column. Will attempt to expand dims. It is highly recommended that you resize your input, as this behavior may change.\n",
      "WARNING:tensorflow:Rank of input Tensor (1) should be the same as output_rank (2) for column. Will attempt to expand dims. It is highly recommended that you resize your input, as this behavior may change.\n",
      "WARNING:tensorflow:Rank of input Tensor (1) should be the same as output_rank (2) for column. Will attempt to expand dims. It is highly recommended that you resize your input, as this behavior may change.\n",
      "WARNING:tensorflow:Rank of input Tensor (1) should be the same as output_rank (2) for column. Will attempt to expand dims. It is highly recommended that you resize your input, as this behavior may change.\n",
      "WARNING:tensorflow:Rank of input Tensor (1) should be the same as output_rank (2) for column. Will attempt to expand dims. It is highly recommended that you resize your input, as this behavior may change.\n",
      "WARNING:tensorflow:Rank of input Tensor (1) should be the same as output_rank (2) for column. Will attempt to expand dims. It is highly recommended that you resize your input, as this behavior may change.\n",
      "WARNING:tensorflow:Rank of input Tensor (1) should be the same as output_rank (2) for column. Will attempt to expand dims. It is highly recommended that you resize your input, as this behavior may change.\n",
      "WARNING:tensorflow:Rank of input Tensor (1) should be the same as output_rank (2) for column. Will attempt to expand dims. It is highly recommended that you resize your input, as this behavior may change.\n",
      "WARNING:tensorflow:Rank of input Tensor (1) should be the same as output_rank (2) for column. Will attempt to expand dims. It is highly recommended that you resize your input, as this behavior may change.\n",
      "WARNING:tensorflow:Rank of input Tensor (1) should be the same as output_rank (2) for column. Will attempt to expand dims. It is highly recommended that you resize your input, as this behavior may change.\n",
      "WARNING:tensorflow:Rank of input Tensor (1) should be the same as output_rank (2) for column. Will attempt to expand dims. It is highly recommended that you resize your input, as this behavior may change.\n",
      "WARNING:tensorflow:Rank of input Tensor (1) should be the same as output_rank (2) for column. Will attempt to expand dims. It is highly recommended that you resize your input, as this behavior may change.\n",
      "WARNING:tensorflow:Rank of input Tensor (1) should be the same as output_rank (2) for column. Will attempt to expand dims. It is highly recommended that you resize your input, as this behavior may change.\n",
      "WARNING:tensorflow:Rank of input Tensor (1) should be the same as output_rank (2) for column. Will attempt to expand dims. It is highly recommended that you resize your input, as this behavior may change.\n",
      "WARNING:tensorflow:Rank of input Tensor (1) should be the same as output_rank (2) for column. Will attempt to expand dims. It is highly recommended that you resize your input, as this behavior may change.\n",
      "WARNING:tensorflow:Rank of input Tensor (1) should be the same as output_rank (2) for column. Will attempt to expand dims. It is highly recommended that you resize your input, as this behavior may change.\n",
      "WARNING:tensorflow:Rank of input Tensor (1) should be the same as output_rank (2) for column. Will attempt to expand dims. It is highly recommended that you resize your input, as this behavior may change.\n",
      "WARNING:tensorflow:Rank of input Tensor (1) should be the same as output_rank (2) for column. Will attempt to expand dims. It is highly recommended that you resize your input, as this behavior may change.\n",
      "WARNING:tensorflow:Rank of input Tensor (1) should be the same as output_rank (2) for column. Will attempt to expand dims. It is highly recommended that you resize your input, as this behavior may change.\n"
     ]
    },
    {
     "name": "stdout",
     "output_type": "stream",
     "text": [
      "WARNING:tensorflow:Rank of input Tensor (1) should be the same as output_rank (2) for column. Will attempt to expand dims. It is highly recommended that you resize your input, as this behavior may change.\n",
      "WARNING:tensorflow:Rank of input Tensor (1) should be the same as output_rank (2) for column. Will attempt to expand dims. It is highly recommended that you resize your input, as this behavior may change.\n",
      "WARNING:tensorflow:Rank of input Tensor (1) should be the same as output_rank (2) for column. Will attempt to expand dims. It is highly recommended that you resize your input, as this behavior may change.\n",
      "WARNING:tensorflow:Rank of input Tensor (1) should be the same as output_rank (2) for column. Will attempt to expand dims. It is highly recommended that you resize your input, as this behavior may change.\n",
      "WARNING:tensorflow:Rank of input Tensor (1) should be the same as output_rank (2) for column. Will attempt to expand dims. It is highly recommended that you resize your input, as this behavior may change.\n",
      "WARNING:tensorflow:Rank of input Tensor (1) should be the same as output_rank (2) for column. Will attempt to expand dims. It is highly recommended that you resize your input, as this behavior may change.\n",
      "WARNING:tensorflow:Rank of input Tensor (1) should be the same as output_rank (2) for column. Will attempt to expand dims. It is highly recommended that you resize your input, as this behavior may change.\n",
      "WARNING:tensorflow:Rank of input Tensor (1) should be the same as output_rank (2) for column. Will attempt to expand dims. It is highly recommended that you resize your input, as this behavior may change.\n",
      "WARNING:tensorflow:Rank of input Tensor (1) should be the same as output_rank (2) for column. Will attempt to expand dims. It is highly recommended that you resize your input, as this behavior may change.\n",
      "WARNING:tensorflow:Rank of input Tensor (1) should be the same as output_rank (2) for column. Will attempt to expand dims. It is highly recommended that you resize your input, as this behavior may change.\n",
      "WARNING:tensorflow:Rank of input Tensor (1) should be the same as output_rank (2) for column. Will attempt to expand dims. It is highly recommended that you resize your input, as this behavior may change.\n",
      "WARNING:tensorflow:Rank of input Tensor (1) should be the same as output_rank (2) for column. Will attempt to expand dims. It is highly recommended that you resize your input, as this behavior may change.\n",
      "WARNING:tensorflow:Rank of input Tensor (1) should be the same as output_rank (2) for column. Will attempt to expand dims. It is highly recommended that you resize your input, as this behavior may change.\n",
      "WARNING:tensorflow:Rank of input Tensor (1) should be the same as output_rank (2) for column. Will attempt to expand dims. It is highly recommended that you resize your input, as this behavior may change.\n",
      "WARNING:tensorflow:Rank of input Tensor (1) should be the same as output_rank (2) for column. Will attempt to expand dims. It is highly recommended that you resize your input, as this behavior may change.\n",
      "WARNING:tensorflow:Rank of input Tensor (1) should be the same as output_rank (2) for column. Will attempt to expand dims. It is highly recommended that you resize your input, as this behavior may change.\n",
      "WARNING:tensorflow:Rank of input Tensor (1) should be the same as output_rank (2) for column. Will attempt to expand dims. It is highly recommended that you resize your input, as this behavior may change.\n",
      "WARNING:tensorflow:Rank of input Tensor (1) should be the same as output_rank (2) for column. Will attempt to expand dims. It is highly recommended that you resize your input, as this behavior may change.\n",
      "WARNING:tensorflow:Rank of input Tensor (1) should be the same as output_rank (2) for column. Will attempt to expand dims. It is highly recommended that you resize your input, as this behavior may change.\n",
      "WARNING:tensorflow:Rank of input Tensor (1) should be the same as output_rank (2) for column. Will attempt to expand dims. It is highly recommended that you resize your input, as this behavior may change.\n",
      "WARNING:tensorflow:Rank of input Tensor (1) should be the same as output_rank (2) for column. Will attempt to expand dims. It is highly recommended that you resize your input, as this behavior may change.\n",
      "WARNING:tensorflow:Rank of input Tensor (1) should be the same as output_rank (2) for column. Will attempt to expand dims. It is highly recommended that you resize your input, as this behavior may change.\n",
      "WARNING:tensorflow:Rank of input Tensor (1) should be the same as output_rank (2) for column. Will attempt to expand dims. It is highly recommended that you resize your input, as this behavior may change.\n",
      "WARNING:tensorflow:Rank of input Tensor (1) should be the same as output_rank (2) for column. Will attempt to expand dims. It is highly recommended that you resize your input, as this behavior may change.\n",
      "WARNING:tensorflow:Rank of input Tensor (1) should be the same as output_rank (2) for column. Will attempt to expand dims. It is highly recommended that you resize your input, as this behavior may change.\n",
      "WARNING:tensorflow:Rank of input Tensor (1) should be the same as output_rank (2) for column. Will attempt to expand dims. It is highly recommended that you resize your input, as this behavior may change.\n",
      "WARNING:tensorflow:Rank of input Tensor (1) should be the same as output_rank (2) for column. Will attempt to expand dims. It is highly recommended that you resize your input, as this behavior may change.\n",
      "WARNING:tensorflow:Rank of input Tensor (1) should be the same as output_rank (2) for column. Will attempt to expand dims. It is highly recommended that you resize your input, as this behavior may change.\n",
      "WARNING:tensorflow:Rank of input Tensor (1) should be the same as output_rank (2) for column. Will attempt to expand dims. It is highly recommended that you resize your input, as this behavior may change.\n",
      "WARNING:tensorflow:Rank of input Tensor (1) should be the same as output_rank (2) for column. Will attempt to expand dims. It is highly recommended that you resize your input, as this behavior may change.\n",
      "WARNING:tensorflow:Rank of input Tensor (1) should be the same as output_rank (2) for column. Will attempt to expand dims. It is highly recommended that you resize your input, as this behavior may change.\n",
      "WARNING:tensorflow:Rank of input Tensor (1) should be the same as output_rank (2) for column. Will attempt to expand dims. It is highly recommended that you resize your input, as this behavior may change.\n",
      "WARNING:tensorflow:Rank of input Tensor (1) should be the same as output_rank (2) for column. Will attempt to expand dims. It is highly recommended that you resize your input, as this behavior may change.\n",
      "INFO:tensorflow:Create CheckpointSaverHook.\n",
      "INFO:tensorflow:Graph was finalized.\n",
      "INFO:tensorflow:Running local_init_op.\n",
      "INFO:tensorflow:Done running local_init_op.\n",
      "INFO:tensorflow:Saving checkpoints for 0 into /var/disk/WideDeep/model.ckpt.\n",
      "INFO:tensorflow:loss = 6.7813683, step = 2\n",
      "INFO:tensorflow:Saving checkpoints for 102 into /var/disk/WideDeep/model.ckpt.\n",
      "INFO:tensorflow:Loss for final step: 3.7312318e-06.\n",
      "eval time :  333.37402534484863\n"
     ]
    }
   ],
   "source": [
    "import time\n",
    "start = time.time()\n",
    "m.fit(input_fn=train_input_fn , \n",
    "        ##steps= 100 ,\n",
    "        max_steps=100 ,\n",
    "       )\n",
    "print(\"eval time : \" , time.time() - start)"
   ]
  },
  {
   "cell_type": "markdown",
   "metadata": {},
   "source": [
    "# tf.decode_csv 버전 \n",
    "## Error 발생 해결1[URL](https://stackoverflow.com/questions/39730528/typeerror-signature-mismatch-keys-must-be-dtype-dtype-string-got-dtype)"
   ]
  },
  {
   "cell_type": "code",
   "execution_count": 32,
   "metadata": {},
   "outputs": [],
   "source": [
    "Columns = Input.columns.tolist()\n",
    "CONTINUOUS_COLUMNS = list(set(Continuous_col))\n",
    "CATEGORICAL_COLUMNS = Categorical_col +  Categorical_Seg"
   ]
  },
  {
   "cell_type": "code",
   "execution_count": 33,
   "metadata": {},
   "outputs": [
    {
     "name": "stdout",
     "output_type": "stream",
     "text": [
      "Categorical : \n",
      " ['Gender', 'AgeGroup', 'A_residential_area', 'X1', 'X2', 'X3', 'X4', 'X5', 'X6', 'X7', 'X8', 'X9', 'X10', 'X11', 'X12', 'X13', 'X14', 'X15', 'X16', 'X17']\n",
      " \n",
      "Continuous : \n",
      " ['D2V_166', 'D2V_196', 'D2V_15', 'D2V_7', 'D2V_101', 'D2V_178', 'D2V_9', 'D2V_226', 'D2V_146', 'D2V_12', 'D2V_190', 'D2V_259', 'D2V_145', 'A02', 'D2V_14', 'D2V_122', 'D2V_243', 'D2V_45', 'D2V_251', 'D2V_278', 'D2V_119', 'D2V_295', 'D2V_84', 'D2V_123', 'D2V_206', 'D2V_263', 'D2V_34', 'D2V_239', 'D2V_59', 'D2V_279', 'himart', 'C03', 'D2V_116', 'D2V_172', 'D2V_132', 'D2V_240', 'D2V_293', 'D2V_128', 'D2V_202', 'D2V_161', 'D2V_213', 'D2V_257', 'A01', 'D2V_77', 'D2V_69', 'D2V_175', 'D2V_266', 'D2V_168', 'D2V_79', 'D2V_203', 'D2V_154', 'D2V_218', 'D2V_148', 'D2V_246', 'D2V_8', 'D2V_160', 'D2V_234', 'D2V_215', 'D2V_167', 'D2V_87', 'D2V_28', 'D2V_19', 'D2V_180', 'D2V_241', 'D2V_76', 'D2V_150', 'D2V_229', 'D2V_232', 'D2V_297', 'D2V_195', 'D2V_285', 'D01', 'D2V_36', 'D2V_52', 'D2V_57', 'D2V_46', 'D2V_80', 'D2V_95', 'D2V_91', 'D2V_105', 'D2V_183', 'D2V_187', 'D2V_227', 'D2V_235', 'D2V_233', 'Robs', 'D2V_289', 'D2V_220', 'D2V_192', 'D2V_208', 'D2V_49', 'D2V_26', 'D2V_11', 'D2V_23', 'D2V_62', 'D2V_54', 'D2V_41', 'D2V_20', 'D2V_252', 'D2V_117', 'D2V_70', 'D2V_113', 'D2V_42', 'D2V_258', 'D2V_158', 'D2V_51', 'D2V_217', 'D2V_269', 'D2V_39', 'D2V_184', 'Deoyoung', 'D2V_30', 'D2V_176', 'D2V_29', 'D2V_256', 'D2V_22', 'D2V_179', 'D2V_185', 'D2V_65', 'D2V_24', 'D2V_86', 'D2V_276', 'D2V_156', 'D2V_216', 'D2V_13', 'D2V_137', 'D2V_32', 'D2V_214', 'D2V_288', 'D2V_294', 'D2V_0', 'D2V_283', 'D2V_110', 'D2V_40', 'D2V_242', 'D2V_21', 'D2V_135', 'D2V_181', 'D2V_247', 'D2V_219', 'D2V_204', 'D2V_98', 'D2V_186', 'D2V_272', 'D2V_299', 'D2V_282', 'D2V_223', 'D2V_106', 'D2V_1', 'D2V_210', 'D2V_99', 'D2V_68', 'D2V_207', 'D2V_273', 'D2V_93', 'D2V_108', 'dadungi', 'D2V_264', 'D2V_115', 'D2V_170', 'D2V_111', 'D2V_162', 'D2V_38', 'D2V_134', 'D2V_56', 'D2V_157', 'D2V_249', 'D2V_261', 'D2V_245', 'D2V_4', 'D2V_287', 'D2V_88', 'D2V_155', 'D2V_275', 'D2V_244', 'D2V_114', 'D2V_191', 'D2V_127', 'D2V_112', 'D2V_27', 'D2V_18', 'D2V_136', 'D2V_74', 'D2V_131', 'D2V_141', 'D2V_248', 'D2V_63', 'D2V_96', 'C01', 'D2V_78', 'D2V_5', 'D2V_43', 'D2V_224', 'D2V_174', 'D2V_16', 'D2V_230', 'D2V_271', 'D2V_50', 'D2V_291', 'D2V_292', 'D2V_221', 'D2V_25', 'D2V_163', 'D2V_109', 'D2V_286', 'B01', 'D2V_164', 'D2V_129', 'B02', 'D2V_138', 'D2V_133', 'D2V_212', 'D2V_61', 'D2V_296', 'D2V_55', 'D2V_201', 'D2V_144', 'D2V_2', 'D2V_222', 'D2V_142', 'D2V_298', 'D2V_124', 'D2V_118', 'D2V_205', 'D2V_90', 'D2V_152', 'D2V_17', 'D2V_120', 'D2V_189', 'D2V_255', 'D2V_130', 'D2V_171', 'D2V_274', 'D2V_236', 'D2V_121', 'D2V_35', 'D2V_33', 'D2V_104', 'D2V_107', 'D2V_153', 'D2V_188', 'D2V_165', 'D2V_53', 'D2V_31', 'D2V_237', 'D2V_268', 'D2V_209', 'D2V_182', 'D2V_94', 'D2V_100', 'D2V_83', 'D2V_200', 'D2V_225', 'D2V_211', 'D2V_139', 'D2V_284', 'D2V_47', 'D2V_67', 'D2V_10', 'D2V_92', 'D2V_89', 'D2V_290', 'D2V_159', 'D2V_81', 'D2V_3', 'D2V_151', 'D2V_198', 'D2V_73', 'D2V_262', 'D2V_253', 'D2V_71', 'D2V_267', 'D2V_265', 'D2V_270', 'D2V_281', 'D2V_75', 'D2V_143', 'D2V_66', 'D2V_193', 'D2V_44', 'D2V_280', 'D2V_199', 'D2V_103', 'D2V_126', 'C02', 'D2V_149', 'D2V_250', 'D2V_64', 'D2V_169', 'D2V_254', 'D2V_231', 'D2V_37', 'D2V_60', 'D2V_173', 'D02', 'D2V_6', 'D2V_82', 'D2V_125', 'D2V_140', 'D2V_197', 'D2V_102', 'D2V_58', 'D2V_177', 'D2V_228', 'D2V_147', 'D2V_260', 'D2V_194', 'D2V_277', 'D2V_48', 'D2V_72', 'D2V_97', 'D2V_238', 'D2V_85']\n"
     ]
    }
   ],
   "source": [
    "\n",
    "print(\"Categorical : \\n\" ,  CATEGORICAL_COLUMNS)\n",
    "print(\" \")\n",
    "print(\"Continuous : \\n\" ,  CONTINUOUS_COLUMNS)"
   ]
  },
  {
   "cell_type": "code",
   "execution_count": 34,
   "metadata": {},
   "outputs": [],
   "source": [
    "columns = Input.columns.tolist()\n",
    "Continuous_col1 = [ i for i in columns if re.search(\"D2V\" , i) is not None ]\n",
    "Continuous_col2 = [ i for i in columns if re.search(\"[A-D][0-9]{2}\" , i) is not None ]\n",
    "Continuous_col3 = [\"dadungi\" , \"Deoyoung\" ,\"Robs\", \"himart\"]\n",
    "Categorical_Seg = [ i for i in columns if re.search(\"^X\" , i) is not None ]\n",
    "Categorical_col = [\"Gender\" , \"AgeGroup\" ,\"A_residential_area\"] "
   ]
  },
  {
   "cell_type": "code",
   "execution_count": 35,
   "metadata": {},
   "outputs": [],
   "source": [
    "_CSV_COLUMN_DEFAULTS = [[0.0]] * len(Continuous_col1) +\\\n",
    "[[\"\"]] * len(Categorical_col) +\\\n",
    "[[0.0]] * len(Continuous_col3 + Continuous_col2) +\\\n",
    "[[\"\"]] * len(Categorical_Seg) +\\\n",
    "[[0]] * 1"
   ]
  },
  {
   "cell_type": "code",
   "execution_count": 36,
   "metadata": {},
   "outputs": [],
   "source": [
    "assert len(_CSV_COLUMN_DEFAULTS) == len(_CSV_COLUMNS)"
   ]
  },
  {
   "cell_type": "code",
   "execution_count": 37,
   "metadata": {},
   "outputs": [],
   "source": [
    "def input_fn(data_file, num_epochs, shuffle, batch_size , Eval ):\n",
    "    def parse_csv(data_file ):\n",
    "        print('Parsing', data_file)\n",
    "        if Eval == \"train\" :\n",
    "            print(Eval)\n",
    "            columns = tf.decode_csv(data_file , record_defaults=_CSV_COLUMN_DEFAULTS)\n",
    "            features = dict(zip(_CSV_COLUMNS, columns))\n",
    "            labels = features.pop('target')\n",
    "        elif Eval == \"test\" :\n",
    "            print(Eval)\n",
    "            columns = tf.decode_csv(data_file , record_defaults=_CSV_COLUMN_DEFAULTS[:-1])\n",
    "            features = dict(zip(_CSV_COLUMNS[:-1] , columns))\n",
    "            labels = tf.constant([1] , dtype = tf.int64 , shape = () ) # , name =\"target\" \n",
    "            #labels = None\n",
    "        return features, labels\n",
    "    \n",
    "    dataset = tf.data.TextLineDataset(data_file).skip(1)\n",
    "    # .skip(1)\n",
    "    if shuffle :\n",
    "        dataset = dataset.shuffle(buffer_size=10000) # _NUM_EXAMPLES['train']\n",
    "    dataset = dataset.map(parse_csv, num_parallel_calls=10)\n",
    "    if Eval == \"train\" :\n",
    "        print(Eval)\n",
    "        dataset = dataset.repeat(num_epochs)\n",
    "        dataset = dataset.batch(batch_size , drop_remainder= True)\n",
    "    else :\n",
    "        print(Eval)\n",
    "        dataset = dataset.batch(batch_size , drop_remainder= True)\n",
    "#     iterator = dataset.make_one_shot_iterator()\n",
    "#     batch_features, batch_labels = iterator.get_next()\n",
    "#batch_features , batch_labels\n",
    "    iterator = dataset.make_one_shot_iterator()\n",
    "    batch_features, batch_labels = iterator.get_next()\n",
    "    return batch_features, batch_labels\n",
    "\n",
    "def train_input_fn():\n",
    "    return input_fn(data_file = \"./Total_Data_ver2.csv\" ,\n",
    "                    num_epochs= 10 ,\n",
    "                    shuffle= True ,\n",
    "                    batch_size= 256,\n",
    "                    Eval = \"train\"\n",
    "                   )\n",
    "\n",
    "def csv_input(data):\n",
    "    continuous_cols = {k: tf.constant(data[k].values)\n",
    "                       for k in CONTINUOUS_COLUMNS}\n",
    "    categorical_cols = {k: tf.SparseTensor( indices=[[i, 0] for i in range(data[k].size)], values=data[k].astype(str).values , \n",
    "                                           dense_shape=[data[k].size, 1] ) for k in CATEGORICAL_COLUMNS}\n",
    "\n",
    "    feature_cols = {**continuous_cols , **categorical_cols}\n",
    "    #labels = tf.constant(np.array([[1]] * data.shape[0] ).reshape(-1,1) , dtype = tf.int64 ) # , name =\"target\" \n",
    "    labels = None\n",
    "    return feature_cols , labels\n",
    "\n",
    "def test_input_fn():\n",
    "    #one = input_fn_v2(data = test_)    \n",
    "    two = input_fn(data_file = \"./Test_Data_ver2.csv\" ,\n",
    "                   num_epochs= 1 ,\n",
    "                   shuffle= False ,\n",
    "                   batch_size= 1000 ,\n",
    "                   Eval = \"test\")\n",
    "    return two \n",
    "\n",
    "def csv_input_fn():\n",
    "    csv = csv_input(data = test_)    \n",
    "    return csv"
   ]
  },
  {
   "cell_type": "markdown",
   "metadata": {},
   "source": [
    "## Train"
   ]
  },
  {
   "cell_type": "code",
   "execution_count": null,
   "metadata": {},
   "outputs": [
    {
     "name": "stdout",
     "output_type": "stream",
     "text": [
      "WARNING:tensorflow:From /root/anaconda3/lib/python3.6/site-packages/tensorflow/python/framework/op_def_library.py:263: colocate_with (from tensorflow.python.framework.ops) is deprecated and will be removed in a future version.\n",
      "Instructions for updating:\n",
      "Colocations handled automatically by placer.\n",
      "Parsing Tensor(\"arg0:0\", shape=(), dtype=string, device=/device:CPU:0)\n",
      "train\n",
      "train\n",
      "INFO:tensorflow:Calling model_fn.\n",
      "WARNING:tensorflow:From /root/anaconda3/lib/python3.6/site-packages/tensorflow/contrib/layers/python/layers/feature_column.py:1901: to_float (from tensorflow.python.ops.math_ops) is deprecated and will be removed in a future version.\n",
      "Instructions for updating:\n",
      "Use tf.cast instead.\n",
      "WARNING:tensorflow:From /root/anaconda3/lib/python3.6/site-packages/tensorflow/python/ops/lookup_ops.py:1137: to_int64 (from tensorflow.python.ops.math_ops) is deprecated and will be removed in a future version.\n",
      "Instructions for updating:\n",
      "Use tf.cast instead.\n",
      "WARNING:tensorflow:From /root/anaconda3/lib/python3.6/site-packages/tensorflow/python/keras/layers/core.py:143: calling dropout (from tensorflow.python.ops.nn_ops) with keep_prob is deprecated and will be removed in a future version.\n",
      "Instructions for updating:\n",
      "Please use `rate` instead of `keep_prob`. Rate should be set to `rate = 1 - keep_prob`.\n",
      "WARNING:tensorflow:From /root/anaconda3/lib/python3.6/site-packages/tensorflow/contrib/layers/python/layers/feature_column.py:2390: calling sparse_feature_cross (from tensorflow.contrib.layers.python.ops.sparse_feature_cross_op) with hash_key=None is deprecated and will be removed after 2016-11-20.\n",
      "Instructions for updating:\n",
      "The default behavior of sparse_feature_cross is changing, the default\n",
      "value for hash_key will change to SPARSE_FEATURE_CROSS_DEFAULT_HASH_KEY.\n",
      "From that point on sparse_feature_cross will always use FingerprintCat64\n",
      "to concatenate the feature fingerprints. And the underlying\n",
      "_sparse_feature_cross_op.sparse_feature_cross operation will be marked\n",
      "as deprecated.\n",
      "WARNING:tensorflow:From /root/anaconda3/lib/python3.6/site-packages/tensorflow/python/ops/math_ops.py:3066: to_int32 (from tensorflow.python.ops.math_ops) is deprecated and will be removed in a future version.\n",
      "Instructions for updating:\n",
      "Use tf.cast instead.\n",
      "INFO:tensorflow:Done calling model_fn.\n",
      "INFO:tensorflow:Create CheckpointSaverHook.\n",
      "INFO:tensorflow:Graph was finalized.\n",
      "WARNING:tensorflow:From /root/anaconda3/lib/python3.6/site-packages/tensorflow/python/training/saver.py:1266: checkpoint_exists (from tensorflow.python.training.checkpoint_management) is deprecated and will be removed in a future version.\n",
      "Instructions for updating:\n",
      "Use standard file APIs to check for files with this prefix.\n",
      "INFO:tensorflow:Restoring parameters from /var/disk/WideDeep/model.ckpt-5934\n",
      "WARNING:tensorflow:From /root/anaconda3/lib/python3.6/site-packages/tensorflow/python/training/saver.py:1070: get_checkpoint_mtimes (from tensorflow.python.training.checkpoint_management) is deprecated and will be removed in a future version.\n",
      "Instructions for updating:\n",
      "Use standard file utilities to get mtimes.\n",
      "INFO:tensorflow:Running local_init_op.\n",
      "INFO:tensorflow:Done running local_init_op.\n",
      "INFO:tensorflow:Saving checkpoints for 5934 into /var/disk/WideDeep/model.ckpt.\n",
      "INFO:tensorflow:loss = 1248.5259, step = 5935\n",
      "INFO:tensorflow:Saving checkpoints for 5990 into /var/disk/WideDeep/model.ckpt.\n",
      "WARNING:tensorflow:From /root/anaconda3/lib/python3.6/site-packages/tensorflow/python/training/saver.py:966: remove_checkpoint (from tensorflow.python.training.checkpoint_management) is deprecated and will be removed in a future version.\n",
      "Instructions for updating:\n",
      "Use standard file APIs to delete files with this prefix.\n",
      "INFO:tensorflow:global_step/sec: 0.0862173\n",
      "INFO:tensorflow:loss = 1198.9767, step = 6035 (1159.862 sec)\n",
      "INFO:tensorflow:Saving checkpoints for 6037 into /var/disk/WideDeep/model.ckpt.\n",
      "INFO:tensorflow:Saving checkpoints for 6082 into /var/disk/WideDeep/model.ckpt.\n",
      "INFO:tensorflow:Saving checkpoints for 6127 into /var/disk/WideDeep/model.ckpt.\n",
      "INFO:tensorflow:global_step/sec: 0.0682802\n",
      "INFO:tensorflow:loss = 1206.2949, step = 6135 (1464.554 sec)\n",
      "INFO:tensorflow:Saving checkpoints for 6171 into /var/disk/WideDeep/model.ckpt.\n",
      "INFO:tensorflow:Saving checkpoints for 6216 into /var/disk/WideDeep/model.ckpt.\n",
      "INFO:tensorflow:global_step/sec: 0.0758451\n",
      "INFO:tensorflow:loss = 1201.669, step = 6235 (1318.477 sec)\n",
      "INFO:tensorflow:Saving checkpoints for 6261 into /var/disk/WideDeep/model.ckpt.\n",
      "INFO:tensorflow:Saving checkpoints for 6307 into /var/disk/WideDeep/model.ckpt.\n",
      "INFO:tensorflow:global_step/sec: 0.076776\n",
      "INFO:tensorflow:loss = 1212.3043, step = 6335 (1302.489 sec)\n",
      "INFO:tensorflow:Saving checkpoints for 6352 into /var/disk/WideDeep/model.ckpt.\n",
      "INFO:tensorflow:Saving checkpoints for 6398 into /var/disk/WideDeep/model.ckpt.\n",
      "INFO:tensorflow:global_step/sec: 0.0773639\n",
      "INFO:tensorflow:loss = 1164.6119, step = 6435 (1292.593 sec)\n",
      "INFO:tensorflow:Saving checkpoints for 6444 into /var/disk/WideDeep/model.ckpt.\n",
      "INFO:tensorflow:Saving checkpoints for 6489 into /var/disk/WideDeep/model.ckpt.\n",
      "INFO:tensorflow:Saving checkpoints for 6534 into /var/disk/WideDeep/model.ckpt.\n",
      "INFO:tensorflow:global_step/sec: 0.0685152\n",
      "INFO:tensorflow:loss = 1161.0149, step = 6535 (1459.531 sec)\n",
      "INFO:tensorflow:Saving checkpoints for 6579 into /var/disk/WideDeep/model.ckpt.\n",
      "INFO:tensorflow:Saving checkpoints for 6624 into /var/disk/WideDeep/model.ckpt.\n",
      "INFO:tensorflow:global_step/sec: 0.0765262\n",
      "INFO:tensorflow:loss = 1129.895, step = 6635 (1306.742 sec)\n",
      "INFO:tensorflow:Saving checkpoints for 6669 into /var/disk/WideDeep/model.ckpt.\n",
      "INFO:tensorflow:Saving checkpoints for 6714 into /var/disk/WideDeep/model.ckpt.\n",
      "INFO:tensorflow:global_step/sec: 0.0761428\n",
      "INFO:tensorflow:loss = 1145.7087, step = 6735 (1313.323 sec)\n",
      "INFO:tensorflow:Saving checkpoints for 6758 into /var/disk/WideDeep/model.ckpt.\n",
      "INFO:tensorflow:Saving checkpoints for 6802 into /var/disk/WideDeep/model.ckpt.\n",
      "INFO:tensorflow:global_step/sec: 0.0756255\n",
      "INFO:tensorflow:loss = 1188.1687, step = 6835 (1322.306 sec)\n",
      "INFO:tensorflow:Saving checkpoints for 6846 into /var/disk/WideDeep/model.ckpt.\n",
      "INFO:tensorflow:Saving checkpoints for 6890 into /var/disk/WideDeep/model.ckpt.\n",
      "INFO:tensorflow:Saving checkpoints for 6934 into /var/disk/WideDeep/model.ckpt.\n",
      "INFO:tensorflow:global_step/sec: 0.0669907\n",
      "INFO:tensorflow:loss = 1172.6138, step = 6935 (1492.745 sec)\n",
      "INFO:tensorflow:Saving checkpoints for 6978 into /var/disk/WideDeep/model.ckpt.\n",
      "INFO:tensorflow:Saving checkpoints for 7022 into /var/disk/WideDeep/model.ckpt.\n",
      "INFO:tensorflow:global_step/sec: 0.0751489\n",
      "INFO:tensorflow:loss = 1239.567, step = 7035 (1330.691 sec)\n",
      "INFO:tensorflow:Saving checkpoints for 7065 into /var/disk/WideDeep/model.ckpt.\n",
      "INFO:tensorflow:Saving checkpoints for 7108 into /var/disk/WideDeep/model.ckpt.\n",
      "INFO:tensorflow:global_step/sec: 0.0746104\n",
      "INFO:tensorflow:loss = 1307.3811, step = 7135 (1340.295 sec)\n",
      "INFO:tensorflow:Saving checkpoints for 7152 into /var/disk/WideDeep/model.ckpt.\n",
      "INFO:tensorflow:Saving checkpoints for 7196 into /var/disk/WideDeep/model.ckpt.\n",
      "INFO:tensorflow:global_step/sec: 0.0748496\n",
      "INFO:tensorflow:loss = 1244.0345, step = 7235 (1336.012 sec)\n",
      "INFO:tensorflow:Saving checkpoints for 7240 into /var/disk/WideDeep/model.ckpt.\n",
      "INFO:tensorflow:Saving checkpoints for 7284 into /var/disk/WideDeep/model.ckpt.\n",
      "INFO:tensorflow:Saving checkpoints for 7328 into /var/disk/WideDeep/model.ckpt.\n",
      "INFO:tensorflow:global_step/sec: 0.0669442\n",
      "INFO:tensorflow:loss = 1205.344, step = 7335 (1493.781 sec)\n",
      "INFO:tensorflow:Saving checkpoints for 7372 into /var/disk/WideDeep/model.ckpt.\n",
      "INFO:tensorflow:Saving checkpoints for 7416 into /var/disk/WideDeep/model.ckpt.\n",
      "INFO:tensorflow:global_step/sec: 0.0748685\n",
      "INFO:tensorflow:loss = 1269.0872, step = 7435 (1335.675 sec)\n",
      "INFO:tensorflow:Saving checkpoints for 7460 into /var/disk/WideDeep/model.ckpt.\n",
      "INFO:tensorflow:Saving checkpoints for 7505 into /var/disk/WideDeep/model.ckpt.\n",
      "INFO:tensorflow:global_step/sec: 0.0764851\n",
      "INFO:tensorflow:loss = 1204.9734, step = 7535 (1307.444 sec)\n",
      "INFO:tensorflow:Saving checkpoints for 7550 into /var/disk/WideDeep/model.ckpt.\n",
      "INFO:tensorflow:Saving checkpoints for 7595 into /var/disk/WideDeep/model.ckpt.\n"
     ]
    },
    {
     "name": "stdout",
     "output_type": "stream",
     "text": [
      "INFO:tensorflow:global_step/sec: 0.0768879\n",
      "INFO:tensorflow:loss = 1157.5503, step = 7635 (1300.595 sec)\n",
      "INFO:tensorflow:Saving checkpoints for 7641 into /var/disk/WideDeep/model.ckpt.\n",
      "INFO:tensorflow:Saving checkpoints for 7686 into /var/disk/WideDeep/model.ckpt.\n",
      "INFO:tensorflow:Saving checkpoints for 7732 into /var/disk/WideDeep/model.ckpt.\n",
      "INFO:tensorflow:global_step/sec: 0.0689675\n",
      "INFO:tensorflow:loss = 1167.3651, step = 7735 (1449.959 sec)\n",
      "INFO:tensorflow:Saving checkpoints for 7778 into /var/disk/WideDeep/model.ckpt.\n",
      "INFO:tensorflow:Saving checkpoints for 7824 into /var/disk/WideDeep/model.ckpt.\n",
      "INFO:tensorflow:global_step/sec: 0.0774354\n",
      "INFO:tensorflow:loss = 1168.7927, step = 7835 (1291.400 sec)\n",
      "INFO:tensorflow:Saving checkpoints for 7869 into /var/disk/WideDeep/model.ckpt.\n",
      "INFO:tensorflow:Saving checkpoints for 7914 into /var/disk/WideDeep/model.ckpt.\n",
      "INFO:tensorflow:global_step/sec: 0.0764808\n",
      "INFO:tensorflow:loss = 1138.9304, step = 7935 (1307.517 sec)\n",
      "INFO:tensorflow:Saving checkpoints for 7959 into /var/disk/WideDeep/model.ckpt.\n",
      "INFO:tensorflow:Saving checkpoints for 8004 into /var/disk/WideDeep/model.ckpt.\n",
      "INFO:tensorflow:global_step/sec: 0.0759965\n",
      "INFO:tensorflow:loss = 1218.3328, step = 8035 (1315.852 sec)\n",
      "INFO:tensorflow:Saving checkpoints for 8049 into /var/disk/WideDeep/model.ckpt.\n",
      "INFO:tensorflow:Saving checkpoints for 8094 into /var/disk/WideDeep/model.ckpt.\n",
      "INFO:tensorflow:global_step/sec: 0.0754243\n",
      "INFO:tensorflow:loss = 1079.5194, step = 8135 (1325.829 sec)\n",
      "INFO:tensorflow:Saving checkpoints for 8138 into /var/disk/WideDeep/model.ckpt.\n",
      "INFO:tensorflow:Saving checkpoints for 8182 into /var/disk/WideDeep/model.ckpt.\n",
      "INFO:tensorflow:Saving checkpoints for 8227 into /var/disk/WideDeep/model.ckpt.\n",
      "INFO:tensorflow:global_step/sec: 0.0679248\n",
      "INFO:tensorflow:loss = 1201.3427, step = 8235 (1472.216 sec)\n",
      "INFO:tensorflow:Saving checkpoints for 8271 into /var/disk/WideDeep/model.ckpt.\n",
      "INFO:tensorflow:Saving checkpoints for 8315 into /var/disk/WideDeep/model.ckpt.\n",
      "INFO:tensorflow:global_step/sec: 0.0753631\n",
      "INFO:tensorflow:loss = 1121.9856, step = 8335 (1326.909 sec)\n",
      "INFO:tensorflow:Saving checkpoints for 8360 into /var/disk/WideDeep/model.ckpt.\n",
      "INFO:tensorflow:Saving checkpoints for 8404 into /var/disk/WideDeep/model.ckpt.\n",
      "INFO:tensorflow:global_step/sec: 0.0756258\n",
      "INFO:tensorflow:loss = 1138.1, step = 8435 (1322.300 sec)\n",
      "INFO:tensorflow:Saving checkpoints for 8449 into /var/disk/WideDeep/model.ckpt.\n",
      "INFO:tensorflow:Saving checkpoints for 8494 into /var/disk/WideDeep/model.ckpt.\n",
      "INFO:tensorflow:global_step/sec: 0.0766379\n",
      "INFO:tensorflow:loss = 1235.0134, step = 8535 (1304.837 sec)\n",
      "INFO:tensorflow:Saving checkpoints for 8539 into /var/disk/WideDeep/model.ckpt.\n",
      "INFO:tensorflow:Saving checkpoints for 8584 into /var/disk/WideDeep/model.ckpt.\n",
      "INFO:tensorflow:Saving checkpoints for 8628 into /var/disk/WideDeep/model.ckpt.\n",
      "INFO:tensorflow:global_step/sec: 0.0675764\n",
      "INFO:tensorflow:loss = 1212.9459, step = 8635 (1479.806 sec)\n",
      "INFO:tensorflow:Saving checkpoints for 8672 into /var/disk/WideDeep/model.ckpt.\n",
      "INFO:tensorflow:Saving checkpoints for 8716 into /var/disk/WideDeep/model.ckpt.\n",
      "INFO:tensorflow:global_step/sec: 0.0743737\n",
      "INFO:tensorflow:loss = 1218.1831, step = 8735 (1344.562 sec)\n",
      "INFO:tensorflow:Saving checkpoints for 8759 into /var/disk/WideDeep/model.ckpt.\n"
     ]
    }
   ],
   "source": [
    "m.train(input_fn=train_input_fn , \n",
    "        max_steps= 10000 ,)"
   ]
  },
  {
   "cell_type": "code",
   "execution_count": 186,
   "metadata": {},
   "outputs": [
    {
     "name": "stdout",
     "output_type": "stream",
     "text": [
      "Parsing Tensor(\"arg0:0\", shape=(), dtype=string, device=/device:CPU:0)\n",
      "train\n",
      "train\n",
      "INFO:tensorflow:Calling model_fn.\n",
      "INFO:tensorflow:Done calling model_fn.\n",
      "INFO:tensorflow:Starting evaluation at 2019-07-20T12:27:04Z\n"
     ]
    },
    {
     "name": "stderr",
     "output_type": "stream",
     "text": [
      "Exception ignored in: <generator object get_controller at 0x7f00600c45c8>\n",
      "Traceback (most recent call last):\n",
      "  File \"/root/anaconda3/lib/python3.6/site-packages/tensorflow/python/framework/ops.py\", line 5253, in get_controller\n",
      "    yield g\n",
      "  File \"/root/anaconda3/lib/python3.6/contextlib.py\", line 99, in __exit__\n",
      "    self.gen.throw(type, value, traceback)\n",
      "  File \"/root/anaconda3/lib/python3.6/site-packages/tensorflow/python/framework/ops.py\", line 5069, in get_controller\n",
      "    type(default))\n",
      "AssertionError: Nesting violated for default stack of <class 'tensorflow.python.framework.ops.Graph'> objects\n"
     ]
    },
    {
     "name": "stdout",
     "output_type": "stream",
     "text": [
      "INFO:tensorflow:Graph was finalized.\n",
      "INFO:tensorflow:Restoring parameters from /var/disk/WideDeep/model.ckpt-1093\n",
      "INFO:tensorflow:Running local_init_op.\n",
      "INFO:tensorflow:Done running local_init_op.\n",
      "INFO:tensorflow:Evaluation [1/1]\n",
      "INFO:tensorflow:Finished evaluation at 2019-07-20-12:27:28\n",
      "INFO:tensorflow:Saving dict for global step 1093: accuracy = 0.01, average_loss = 5.6170087, global_step = 1093, loss = 561.70087\n",
      "INFO:tensorflow:Saving 'checkpoint_path' summary for global step 1093: /var/disk/WideDeep/model.ckpt-1093\n",
      "accuracy: 0.01\n",
      "average_loss: 5.6170087\n",
      "global_step: 1093\n",
      "loss: 561.70087\n"
     ]
    }
   ],
   "source": [
    "results = m.evaluate(input_fn=train_input_fn , steps=1)\n",
    "for key in sorted(results):\n",
    "    print(\"%s: %s\" % (key, results[key]))"
   ]
  },
  {
   "cell_type": "markdown",
   "metadata": {},
   "source": [
    "## TEST CSV Version"
   ]
  },
  {
   "cell_type": "markdown",
   "metadata": {},
   "source": [
    "## [Predict 해결법](https://stackoverflow.com/questions/46857382/tensorflow-estimator-predict-gives-warningtensorflowinput-graph-does-not-con)"
   ]
  },
  {
   "cell_type": "code",
   "execution_count": 273,
   "metadata": {},
   "outputs": [
    {
     "name": "stdout",
     "output_type": "stream",
     "text": [
      "WARNING:tensorflow:Input graph does not use tf.data.Dataset or contain a QueueRunner. That means predict yields forever. This is probably a mistake.\n",
      "INFO:tensorflow:Calling model_fn.\n",
      "INFO:tensorflow:Done calling model_fn.\n",
      "INFO:tensorflow:Graph was finalized.\n",
      "INFO:tensorflow:Restoring parameters from /var/disk/WideDeep/model.ckpt-1093\n",
      "INFO:tensorflow:Running local_init_op.\n",
      "INFO:tensorflow:Done running local_init_op.\n",
      "Start\n",
      "eval time :  2261.6151793003082\n"
     ]
    }
   ],
   "source": [
    "start = time.time()\n",
    "csvProb = m.predict(input_fn= csv_input_fn ,predict_keys=\"probabilities\" )\n",
    "for i in np.arange( test_.shape[0] ) :   \n",
    "    prob_next = csvProb.__next__()[\"probabilities\"].reshape(1, -1 )\n",
    "    if i == 0 :\n",
    "        print('Start')\n",
    "        prob = prob_next\n",
    "    else :\n",
    "        prob = np.concatenate((prob,prob_next),axis = 0)\n",
    "print(\"eval time : \" , time.time() - start)    "
   ]
  },
  {
   "cell_type": "code",
   "execution_count": 328,
   "metadata": {},
   "outputs": [],
   "source": [
    "def get_acc(score_matrix, top_n, test_matix):\n",
    "    avg_acc = 0\n",
    "    for i in range(len(score_matrix)):\n",
    "        top = score_matrix.iloc[i].nlargest(top_n).index\n",
    "        tmp = 0\n",
    "        for j in range(len(top)):\n",
    "            true_buy = [i.split(\"/\")[0] for i in test_matix[\"item\"][0].split()]\n",
    "            if top[j] in true_buy :\n",
    "                tmp += 1\n",
    "\n",
    "        acc = tmp / len(top)\n",
    "        avg_acc += acc / len(score_matrix)\n",
    "\n",
    "    return avg_acc"
   ]
  },
  {
   "cell_type": "markdown",
   "metadata": {},
   "source": [
    "## 몇개 이상 구매한 사람 기준으로 추천해줬을 때"
   ]
  },
  {
   "cell_type": "code",
   "execution_count": 343,
   "metadata": {},
   "outputs": [],
   "source": [
    "score_pd = pd.DataFrame(prob, columns=test_label_eval.columns)\n",
    "cond = list(np.sum(test_label_eval.values , axis = 1) > 10)\n",
    "cond_pd = score_pd[cond].reset_index(drop= True)\n",
    "test_pd = test_label[cond].reset_index(drop= True)"
   ]
  },
  {
   "cell_type": "code",
   "execution_count": 344,
   "metadata": {},
   "outputs": [
    {
     "data": {
      "text/plain": [
       "0.1845468053491822"
      ]
     },
     "execution_count": 344,
     "metadata": {},
     "output_type": "execute_result"
    }
   ],
   "source": [
    "get_acc(cond_pd, 10 , test_pd)"
   ]
  },
  {
   "cell_type": "code",
   "execution_count": 290,
   "metadata": {},
   "outputs": [],
   "source": [
    "def get_acc_v2(prob, N , test_label_eval) :\n",
    "    avg_acc = 0\n",
    "    def top_n(data , n ) :\n",
    "        return list(map(lambda x: np.argpartition(x, -n)[-n:][0], data ))[0]\n",
    "    \n",
    "    for idx in np.arange(prob.shape[0]) :\n",
    "        true_label =\\\n",
    "        np.where(test_label_eval.iloc[idx : (idx+1),:].values == 1 )[1].tolist()\n",
    "        recommend = [top_n(prob , i) for i in np.arange(1,N+1)]\n",
    "        true_label = np.where(test_label_eval.iloc[idx : (idx+1),:].values == 1 )[1].tolist()\n",
    "        correct = 0\n",
    "        for rec in recommend :\n",
    "            if rec in true_label :\n",
    "                correct += 1 \n",
    "        acc = correct / min( len(recommend) , len(true_label)) \n",
    "        avg_acc += acc / len(prob)\n",
    "    return avg_acc"
   ]
  },
  {
   "cell_type": "code",
   "execution_count": null,
   "metadata": {},
   "outputs": [],
   "source": [
    "cond_pd = score_pd[cond].reset_index(drop= True)\n",
    "test_eval_pd = test_label[cond].reset_index(drop= True)\n",
    "get_acc_v2(prob, 10 , test_label_eval)"
   ]
  },
  {
   "cell_type": "markdown",
   "metadata": {},
   "source": [
    "## Column 이름 한글 사용 불가능\n",
    "\n",
    "* tensorflow에서 scope name의 regular expression 정해놓음"
   ]
  },
  {
   "cell_type": "code",
   "execution_count": null,
   "metadata": {},
   "outputs": [],
   "source": [
    "name ='A거주지역_embedding'\n",
    "_VALID_SCOPE_NAME_REGEX = re.compile(\"^[A-Za-z0-9_.\\\\-/]*$\")\n",
    "if not _VALID_SCOPE_NAME_REGEX.match(name):\n",
    "    raise ValueError(\"'%s' is not a valid scope name\" % name)"
   ]
  },
  {
   "cell_type": "code",
   "execution_count": null,
   "metadata": {},
   "outputs": [],
   "source": [
    "y_out_prob = m.predict(input_fn=train_input_fn ) \n",
    "# ,predict_keys=\"probabilities\""
   ]
  },
  {
   "cell_type": "code",
   "execution_count": null,
   "metadata": {},
   "outputs": [],
   "source": [
    "y_out_prob = m.predict_proba(input_fn=train_input_fn )"
   ]
  },
  {
   "cell_type": "code",
   "execution_count": null,
   "metadata": {},
   "outputs": [],
   "source": [
    "y_out_prob[0:5,0:5]"
   ]
  }
 ],
 "metadata": {
  "kernelspec": {
   "display_name": "base",
   "language": "python",
   "name": "base"
  },
  "language_info": {
   "codemirror_mode": {
    "name": "ipython",
    "version": 3
   },
   "file_extension": ".py",
   "mimetype": "text/x-python",
   "name": "python",
   "nbconvert_exporter": "python",
   "pygments_lexer": "ipython3",
   "version": "3.6.7"
  }
 },
 "nbformat": 4,
 "nbformat_minor": 2
}
