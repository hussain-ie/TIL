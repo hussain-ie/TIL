{
 "cells": [
  {
   "cell_type": "code",
   "execution_count": 1,
   "metadata": {},
   "outputs": [
    {
     "name": "stdout",
     "output_type": "stream",
     "text": [
      "\n",
      "    사용하면 좋은 패키지\n",
      "    train_validation_test_split / cat2dict / code2cat / colorlist / onehotencoding / roccurve  / ProbDensity\n",
      "    pycm import *  \n",
      "    ConfusionMatrix(actual_vector=``test_y``, predict_vector= ``pred`` ) \n",
      "    사용하면 통계량값 다 얻을 수 있음\n",
      "    \n"
     ]
    }
   ],
   "source": [
    "import pandas as pd\n",
    "import json\n",
    "import numpy as np , re\n",
    "import tensorflow as tf\n",
    "import seaborn as sns\n",
    "import matplotlib.pyplot as plt\n",
    "from sklearn import datasets , sys\n",
    "from sklearn.preprocessing import MinMaxScaler\n",
    "sys.path.append('/home/advice/Python/SR/Custom/')\n",
    "from jupyter_tensorboard import *\n",
    "from utility import *\n",
    "from Init import *\n",
    "from Activations import *\n",
    "from wasserstein import Wasserstein\n",
    "from IPython.display import clear_output\n",
    "import os , re\n",
    "import collections\n",
    "from collections import Counter\n",
    "import warnings"
   ]
  },
  {
   "cell_type": "code",
   "execution_count": 2,
   "metadata": {},
   "outputs": [],
   "source": [
    "#pd.read_json(\"./Cloth/modcloth_final_data.json\" , orient='columns')\n",
    "# mc_df = pd.read_json('./Cloth/modcloth_final_data.json', lines=True)\n",
    "# mc_df.isna().sum()\n",
    "# mc_df.head()"
   ]
  },
  {
   "cell_type": "code",
   "execution_count": 3,
   "metadata": {},
   "outputs": [],
   "source": [
    "rtr_df = pd.read_json('./Cloth/renttherunway_final_data.json', lines=True)"
   ]
  },
  {
   "cell_type": "code",
   "execution_count": 4,
   "metadata": {},
   "outputs": [
    {
     "data": {
      "text/plain": [
       "(192544, 15)"
      ]
     },
     "execution_count": 4,
     "metadata": {},
     "output_type": "execute_result"
    }
   ],
   "source": [
    "rtr_df.shape"
   ]
  },
  {
   "cell_type": "code",
   "execution_count": 5,
   "metadata": {},
   "outputs": [
    {
     "name": "stdout",
     "output_type": "stream",
     "text": [
      "Profiling 존재\n"
     ]
    }
   ],
   "source": [
    "import pandas_profiling\n",
    "if os.path.isfile(\"Cloth_profiling.html\")  :\n",
    "    print(\"Profiling 존재\")\n",
    "    pass\n",
    "else :\n",
    "    profile = rtr_df.profile_report(title='Girl Cloth Profiling Report')\n",
    "    profile.to_file(output_file=\"Cloth_profiling.html\")"
   ]
  },
  {
   "cell_type": "code",
   "execution_count": 6,
   "metadata": {},
   "outputs": [
    {
     "data": {
      "text/plain": [
       "fit                   0\n",
       "user_id               0\n",
       "bust size         18411\n",
       "item_id               0\n",
       "weight            29982\n",
       "rating               82\n",
       "rented for           10\n",
       "review_text           0\n",
       "body type         14637\n",
       "review_summary        0\n",
       "category              0\n",
       "height              677\n",
       "size                  0\n",
       "age                 960\n",
       "review_date           0\n",
       "dtype: int64"
      ]
     },
     "execution_count": 6,
     "metadata": {},
     "output_type": "execute_result"
    }
   ],
   "source": [
    "rtr_df.isna().sum()"
   ]
  },
  {
   "cell_type": "code",
   "execution_count": 7,
   "metadata": {},
   "outputs": [
    {
     "data": {
      "text/plain": [
       "0         14\n",
       "1         12\n",
       "2          4\n",
       "3          8\n",
       "4         12\n",
       "          ..\n",
       "192539     8\n",
       "192540     4\n",
       "192541     8\n",
       "192542    16\n",
       "192543    16\n",
       "Name: size, Length: 192544, dtype: int64"
      ]
     },
     "execution_count": 7,
     "metadata": {},
     "output_type": "execute_result"
    }
   ],
   "source": [
    "rtr_df[\"size\"]"
   ]
  },
  {
   "cell_type": "code",
   "execution_count": 8,
   "metadata": {},
   "outputs": [
    {
     "data": {
      "text/plain": [
       "0         5' 8\"\n",
       "1         5' 6\"\n",
       "2         5' 4\"\n",
       "3         5' 5\"\n",
       "4         5' 9\"\n",
       "          ...  \n",
       "192539    5' 9\"\n",
       "192540    5' 1\"\n",
       "192541    5' 8\"\n",
       "192542    5' 6\"\n",
       "192543    5' 6\"\n",
       "Name: height, Length: 192544, dtype: object"
      ]
     },
     "execution_count": 8,
     "metadata": {},
     "output_type": "execute_result"
    }
   ],
   "source": [
    "rtr_df.height"
   ]
  },
  {
   "cell_type": "code",
   "execution_count": 9,
   "metadata": {},
   "outputs": [],
   "source": [
    "id_weight = rtr_df[[\"user_id\", \"weight\"]].groupby(\"user_id\").agg({\"weight\" : np.unique})\n",
    "d = id_weight.reset_index()[\"weight\"]"
   ]
  },
  {
   "cell_type": "code",
   "execution_count": 10,
   "metadata": {},
   "outputs": [
    {
     "data": {
      "text/plain": [
       "18271"
      ]
     },
     "execution_count": 10,
     "metadata": {},
     "output_type": "execute_result"
    }
   ],
   "source": [
    "store = []\n",
    "for idx , i in enumerate(d.values.tolist()) :\n",
    "    try :\n",
    "        if re.search(\"lbs\" , i) is not None :\n",
    "            pass\n",
    "        else :\n",
    "            store.append(idx)\n",
    "    except Exception as e :\n",
    "        store.append(idx)\n",
    "len(store)"
   ]
  },
  {
   "cell_type": "code",
   "execution_count": 11,
   "metadata": {},
   "outputs": [
    {
     "data": {
      "text/plain": [
       "nan                                          13227\n",
       "[nan nan]                                     2926\n",
       "[nan nan nan]                                  999\n",
       "[nan nan nan nan]                              433\n",
       "[nan nan nan nan nan]                          231\n",
       "[nan nan nan nan nan nan]                      128\n",
       "[nan nan nan nan nan nan nan]                   89\n",
       "[nan nan nan nan nan nan nan nan]               55\n",
       "[nan nan nan nan nan nan nan nan nan]           38\n",
       "[nan nan nan nan nan nan nan nan nan nan]       28\n",
       "Name: weight, dtype: int64"
      ]
     },
     "execution_count": 11,
     "metadata": {},
     "output_type": "execute_result"
    }
   ],
   "source": [
    "d[store].astype(str).value_counts().iloc[0:10]"
   ]
  },
  {
   "cell_type": "markdown",
   "metadata": {},
   "source": [
    "## 전처리 (height , weight)"
   ]
  },
  {
   "cell_type": "code",
   "execution_count": 12,
   "metadata": {},
   "outputs": [],
   "source": [
    "def weight_preprocessing(data) :\n",
    "    data[\"weight\"] = \\\n",
    "    data[\"weight\"].map(lambda x : float(re.sub('lbs', '' , x )) * 0.453592)\n",
    "    return data\n",
    "\n",
    "def height_preprocessing(data) :\n",
    "    data[\"height\"] = \\\n",
    "    data[\"height\"].map(lambda x : round( 2.54 * (float(re.sub(r'[^A-Za-z0-9]+', ' ' , x ).split(\" \")[0])*12 + float(re.sub(r'[^A-Za-z0-9]+', ' ' , x ).split(\" \")[1])  ) , 1 ))\n",
    "    return data\n",
    "\n",
    "def Weight_Height_Preprocessing(f , data , col ) :\n",
    "    T_F = data[col].isna()\n",
    "    not_na = data[~T_F]\n",
    "    na = data[T_F]\n",
    "    not_na2 = f(not_na)\n",
    "    newdata = not_na2.groupby(['size','fit',\"category\"], group_keys=False).\\\n",
    "    apply(lambda x: x[col].mean() ).reset_index()\n",
    "    newdata.columns = newdata.columns.tolist()[:3] + [col]\n",
    "    na2 = pd.merge( na.drop([col],axis = 1) , newdata ,  how = \"left\")\n",
    "    na3 = na2[not_na2.columns]\n",
    "    na3[col].fillna((na3[col].mean()), inplace=True)\n",
    "    final = pd.concat([not_na2 , na3 ] , axis = 0)\n",
    "    return final"
   ]
  },
  {
   "cell_type": "code",
   "execution_count": 13,
   "metadata": {},
   "outputs": [],
   "source": [
    "rtr_df2 = rtr_df.copy()"
   ]
  },
  {
   "cell_type": "code",
   "execution_count": 14,
   "metadata": {},
   "outputs": [
    {
     "name": "stderr",
     "output_type": "stream",
     "text": [
      "/root/anaconda3/lib/python3.6/site-packages/ipykernel_launcher.py:3: SettingWithCopyWarning: \n",
      "A value is trying to be set on a copy of a slice from a DataFrame.\n",
      "Try using .loc[row_indexer,col_indexer] = value instead\n",
      "\n",
      "See the caveats in the documentation: http://pandas.pydata.org/pandas-docs/stable/user_guide/indexing.html#returning-a-view-versus-a-copy\n",
      "  This is separate from the ipykernel package so we can avoid doing imports until\n",
      "/root/anaconda3/lib/python3.6/site-packages/pandas/core/generic.py:6288: SettingWithCopyWarning: \n",
      "A value is trying to be set on a copy of a slice from a DataFrame\n",
      "\n",
      "See the caveats in the documentation: http://pandas.pydata.org/pandas-docs/stable/user_guide/indexing.html#returning-a-view-versus-a-copy\n",
      "  self._update_inplace(new_data)\n",
      "/root/anaconda3/lib/python3.6/site-packages/ipykernel_launcher.py:8: SettingWithCopyWarning: \n",
      "A value is trying to be set on a copy of a slice from a DataFrame.\n",
      "Try using .loc[row_indexer,col_indexer] = value instead\n",
      "\n",
      "See the caveats in the documentation: http://pandas.pydata.org/pandas-docs/stable/user_guide/indexing.html#returning-a-view-versus-a-copy\n",
      "  \n"
     ]
    }
   ],
   "source": [
    "rtr_df2 = Weight_Height_Preprocessing(weight_preprocessing , rtr_df2 , \"weight\")\n",
    "rtr_df2 = Weight_Height_Preprocessing(height_preprocessing , rtr_df2 , \"height\")"
   ]
  },
  {
   "cell_type": "code",
   "execution_count": 15,
   "metadata": {},
   "outputs": [
    {
     "data": {
      "text/plain": [
       "height    0\n",
       "weight    0\n",
       "dtype: int64"
      ]
     },
     "execution_count": 15,
     "metadata": {},
     "output_type": "execute_result"
    }
   ],
   "source": [
    "rtr_df2[[\"height\", \"weight\"]].isna().sum()"
   ]
  },
  {
   "cell_type": "markdown",
   "metadata": {},
   "source": [
    "```\n",
    "rtr_df[\"weight\"] = \\\n",
    "rtr_df[\"weight\"].map(lambda x : float(re.sub('lbs', '' , x )) * 0.453592)\n",
    "rtr_df[\"height\"] = \\\n",
    "rtr_df[\"height\"].map(lambda x : round( 2.54 * (float(re.sub(r'[^A-Za-z0-9]+', ' ' , x ).split(\" \")[0])*12 + float(re.sub(r'[^A-Za-z0-9]+', ' ' , x ).split(\" \")[1])  ) , 1 ))\n",
    "```"
   ]
  },
  {
   "cell_type": "code",
   "execution_count": 16,
   "metadata": {},
   "outputs": [
    {
     "data": {
      "text/html": [
       "<div>\n",
       "<style scoped>\n",
       "    .dataframe tbody tr th:only-of-type {\n",
       "        vertical-align: middle;\n",
       "    }\n",
       "\n",
       "    .dataframe tbody tr th {\n",
       "        vertical-align: top;\n",
       "    }\n",
       "\n",
       "    .dataframe thead th {\n",
       "        text-align: right;\n",
       "    }\n",
       "</style>\n",
       "<table border=\"1\" class=\"dataframe\">\n",
       "  <thead>\n",
       "    <tr style=\"text-align: right;\">\n",
       "      <th></th>\n",
       "      <th>fit</th>\n",
       "      <th>user_id</th>\n",
       "      <th>bust size</th>\n",
       "      <th>item_id</th>\n",
       "      <th>weight</th>\n",
       "      <th>rating</th>\n",
       "      <th>rented for</th>\n",
       "      <th>review_text</th>\n",
       "      <th>body type</th>\n",
       "      <th>review_summary</th>\n",
       "      <th>category</th>\n",
       "      <th>height</th>\n",
       "      <th>size</th>\n",
       "      <th>age</th>\n",
       "      <th>review_date</th>\n",
       "    </tr>\n",
       "  </thead>\n",
       "  <tbody>\n",
       "    <tr>\n",
       "      <th>0</th>\n",
       "      <td>fit</td>\n",
       "      <td>420272</td>\n",
       "      <td>34d</td>\n",
       "      <td>2260466</td>\n",
       "      <td>62.142104</td>\n",
       "      <td>10.0</td>\n",
       "      <td>vacation</td>\n",
       "      <td>An adorable romper! Belt and zipper were a lit...</td>\n",
       "      <td>hourglass</td>\n",
       "      <td>So many compliments!</td>\n",
       "      <td>romper</td>\n",
       "      <td>172.7</td>\n",
       "      <td>14</td>\n",
       "      <td>28.0</td>\n",
       "      <td>April 20, 2016</td>\n",
       "    </tr>\n",
       "    <tr>\n",
       "      <th>1</th>\n",
       "      <td>fit</td>\n",
       "      <td>273551</td>\n",
       "      <td>34b</td>\n",
       "      <td>153475</td>\n",
       "      <td>59.874144</td>\n",
       "      <td>10.0</td>\n",
       "      <td>other</td>\n",
       "      <td>I rented this dress for a photo shoot. The the...</td>\n",
       "      <td>straight &amp; narrow</td>\n",
       "      <td>I felt so glamourous!!!</td>\n",
       "      <td>gown</td>\n",
       "      <td>167.6</td>\n",
       "      <td>12</td>\n",
       "      <td>36.0</td>\n",
       "      <td>June 18, 2013</td>\n",
       "    </tr>\n",
       "    <tr>\n",
       "      <th>3</th>\n",
       "      <td>fit</td>\n",
       "      <td>909926</td>\n",
       "      <td>34c</td>\n",
       "      <td>126335</td>\n",
       "      <td>61.234920</td>\n",
       "      <td>8.0</td>\n",
       "      <td>formal affair</td>\n",
       "      <td>I rented this for my company's black tie award...</td>\n",
       "      <td>pear</td>\n",
       "      <td>Dress arrived on time and in perfect condition.</td>\n",
       "      <td>dress</td>\n",
       "      <td>165.1</td>\n",
       "      <td>8</td>\n",
       "      <td>34.0</td>\n",
       "      <td>February 12, 2014</td>\n",
       "    </tr>\n",
       "  </tbody>\n",
       "</table>\n",
       "</div>"
      ],
      "text/plain": [
       "   fit  user_id bust size  item_id     weight  rating     rented for  \\\n",
       "0  fit   420272       34d  2260466  62.142104    10.0       vacation   \n",
       "1  fit   273551       34b   153475  59.874144    10.0          other   \n",
       "3  fit   909926       34c   126335  61.234920     8.0  formal affair   \n",
       "\n",
       "                                         review_text          body type  \\\n",
       "0  An adorable romper! Belt and zipper were a lit...          hourglass   \n",
       "1  I rented this dress for a photo shoot. The the...  straight & narrow   \n",
       "3  I rented this for my company's black tie award...               pear   \n",
       "\n",
       "                                     review_summary category  height  size  \\\n",
       "0                              So many compliments!   romper   172.7    14   \n",
       "1                           I felt so glamourous!!!     gown   167.6    12   \n",
       "3  Dress arrived on time and in perfect condition.     dress   165.1     8   \n",
       "\n",
       "    age        review_date  \n",
       "0  28.0     April 20, 2016  \n",
       "1  36.0      June 18, 2013  \n",
       "3  34.0  February 12, 2014  "
      ]
     },
     "execution_count": 16,
     "metadata": {},
     "output_type": "execute_result"
    }
   ],
   "source": [
    "rtr_df2.head(3)"
   ]
  },
  {
   "cell_type": "code",
   "execution_count": 17,
   "metadata": {},
   "outputs": [
    {
     "data": {
      "text/plain": [
       "fit                   0\n",
       "user_id               0\n",
       "bust size         18411\n",
       "item_id               0\n",
       "weight                0\n",
       "rating               82\n",
       "rented for           10\n",
       "review_text           0\n",
       "body type         14637\n",
       "review_summary        0\n",
       "category              0\n",
       "height                0\n",
       "size                  0\n",
       "age                 960\n",
       "review_date           0\n",
       "dtype: int64"
      ]
     },
     "execution_count": 17,
     "metadata": {},
     "output_type": "execute_result"
    }
   ],
   "source": [
    "rtr_df2.isna().sum()"
   ]
  },
  {
   "cell_type": "code",
   "execution_count": 18,
   "metadata": {},
   "outputs": [],
   "source": [
    "rtr_df2[\"body type\"].fillna(\"Secret\" , inplace = True)\n",
    "rtr_df2[\"bust size\"].fillna(\"Secret\" , inplace = True)\n",
    "rtr_df2[\"rented for\"].fillna(\"Secret\" , inplace = True)"
   ]
  },
  {
   "cell_type": "code",
   "execution_count": 19,
   "metadata": {},
   "outputs": [
    {
     "data": {
      "text/plain": [
       "fit                 0\n",
       "user_id             0\n",
       "bust size           0\n",
       "item_id             0\n",
       "weight              0\n",
       "rating             82\n",
       "rented for          0\n",
       "review_text         0\n",
       "body type           0\n",
       "review_summary      0\n",
       "category            0\n",
       "height              0\n",
       "size                0\n",
       "age               960\n",
       "review_date         0\n",
       "dtype: int64"
      ]
     },
     "execution_count": 19,
     "metadata": {},
     "output_type": "execute_result"
    }
   ],
   "source": [
    "rtr_df2.isna().sum()"
   ]
  },
  {
   "cell_type": "markdown",
   "metadata": {},
   "source": [
    "## rating 같은 경우에는 review_summary를 확인을 해서 좋은 감정 표현이 있으면 점수를 높게주고, 아니면 낮게주는 방식으로 할 수 있지만, 귀찮음"
   ]
  },
  {
   "cell_type": "code",
   "execution_count": 20,
   "metadata": {},
   "outputs": [],
   "source": [
    "rtr_df2.dropna(subset = [\"rating\"], axis = 0 , inplace = True)"
   ]
  },
  {
   "cell_type": "code",
   "execution_count": 21,
   "metadata": {},
   "outputs": [
    {
     "data": {
      "text/plain": [
       "fit                 0\n",
       "user_id             0\n",
       "bust size           0\n",
       "item_id             0\n",
       "weight              0\n",
       "rating              0\n",
       "rented for          0\n",
       "review_text         0\n",
       "body type           0\n",
       "review_summary      0\n",
       "category            0\n",
       "height              0\n",
       "size                0\n",
       "age               959\n",
       "review_date         0\n",
       "dtype: int64"
      ]
     },
     "execution_count": 21,
     "metadata": {},
     "output_type": "execute_result"
    }
   ],
   "source": [
    "rtr_df2.isna().sum()"
   ]
  },
  {
   "cell_type": "markdown",
   "metadata": {},
   "source": [
    "## age 같은 경우에 이상한 결측치가 많음\n",
    "\n",
    "> 0살? 120살?"
   ]
  },
  {
   "cell_type": "code",
   "execution_count": 22,
   "metadata": {},
   "outputs": [
    {
     "data": {
      "image/png": "[encoded data removed]",
      "text/plain": [
       "<Figure size 1080x720 with 4 Axes>"
      ]
     },
     "metadata": {},
     "output_type": "display_data"
    }
   ],
   "source": [
    "numeric_type = [\"size\", \"age\" , \"weight\", \"height\"]\n",
    "fig, ax = plt.subplots(2, 2, figsize=(15, 10))\n",
    "for var, subplot in zip(numeric_type, ax.flatten()):\n",
    "    sns.boxplot( x = var , data=rtr_df2 ,ax=subplot)"
   ]
  },
  {
   "cell_type": "code",
   "execution_count": 23,
   "metadata": {},
   "outputs": [],
   "source": [
    "detect = (rtr_df2[\"age\"] < 10) | (rtr_df2[\"age\"] > 90)\n",
    "strange_age = rtr_df2[detect].age.values.tolist()\n",
    "mean_age = int(rtr_df2[~detect][\"age\"].mean())\n",
    "rtr_df2.age.replace(strange_age , mean_age , inplace = True )"
   ]
  },
  {
   "cell_type": "code",
   "execution_count": 24,
   "metadata": {},
   "outputs": [
    {
     "data": {
      "image/png": "[encoded data removed]",
      "text/plain": [
       "<Figure size 1080x720 with 4 Axes>"
      ]
     },
     "metadata": {},
     "output_type": "display_data"
    }
   ],
   "source": [
    "numeric_type = [\"size\", \"age\" , \"weight\", \"height\"]\n",
    "fig, ax = plt.subplots(2, 2, figsize=(15, 10))\n",
    "for var, subplot in zip(numeric_type, ax.flatten()):\n",
    "    sns.boxplot( x = var , data=rtr_df2 ,ax=subplot)"
   ]
  },
  {
   "cell_type": "code",
   "execution_count": 25,
   "metadata": {},
   "outputs": [],
   "source": [
    "min_max_age = rtr_df2.age.describe()[[\"min\" , \"max\"]].values\n",
    "bucket = [min(min_max_age) , 20 , 24, 29 , 32 , 35 , 38, 44 , 60 , max(min_max_age)]\n",
    "age = pd.cut(rtr_df2[\"age\"], bucket , labels = [\"14~20\" , \"21~24\" , \"25~29\"  , \"30~32\"  , \"33~35\" ,\n",
    "                                                \"36~38\" , \"39~44\" , \"45~60\" , \"61~88\" ])\n",
    "age = age.cat.add_categories(\"Secret\").fillna(\"Secret\")\n",
    "rtr_df2[\"age\"] = age"
   ]
  },
  {
   "cell_type": "code",
   "execution_count": 26,
   "metadata": {},
   "outputs": [
    {
     "data": {
      "text/plain": [
       "fit               0\n",
       "user_id           0\n",
       "bust size         0\n",
       "item_id           0\n",
       "weight            0\n",
       "rating            0\n",
       "rented for        0\n",
       "review_text       0\n",
       "body type         0\n",
       "review_summary    0\n",
       "category          0\n",
       "height            0\n",
       "size              0\n",
       "age               0\n",
       "review_date       0\n",
       "dtype: int64"
      ]
     },
     "execution_count": 26,
     "metadata": {},
     "output_type": "execute_result"
    }
   ],
   "source": [
    "rtr_df2.isna().sum()"
   ]
  },
  {
   "cell_type": "code",
   "execution_count": 27,
   "metadata": {},
   "outputs": [],
   "source": [
    "rtr_df = rtr_df2.copy()"
   ]
  },
  {
   "cell_type": "code",
   "execution_count": 28,
   "metadata": {},
   "outputs": [],
   "source": [
    "target = rtr_df[\"item_id\"]\n",
    "#data = rtr_df.drop([\"item_id\"],axis = 1)\n",
    "target =target.apply(lambda x : \"Item_\" + str(x))\n",
    "rtr_df[\"item_id\"] = target\n",
    "target = pd.get_dummies(target)\n",
    "data = rtr_df"
   ]
  },
  {
   "cell_type": "code",
   "execution_count": 29,
   "metadata": {},
   "outputs": [],
   "source": [
    "data[\"month\"] , data[\"day\"] , data[\"year\"]= zip(*data[\"review_date\"].apply(lambda x : x.split()))\n",
    "data[\"day\"] = data[\"day\"].apply(lambda x : int(re.sub(\",\", \"\" , x)))"
   ]
  },
  {
   "cell_type": "code",
   "execution_count": 30,
   "metadata": {},
   "outputs": [],
   "source": [
    "data.drop([\"review_date\"], axis =1 , inplace = True)"
   ]
  },
  {
   "cell_type": "code",
   "execution_count": 73,
   "metadata": {},
   "outputs": [],
   "source": [
    " X_train , X_test , y_train, y_test = train_test_split(\n",
    "        data, target , test_size=int(rtr_df.shape[0] * 0.3), random_state=1234, \n",
    "     shuffle=True)"
   ]
  },
  {
   "cell_type": "code",
   "execution_count": 74,
   "metadata": {},
   "outputs": [
    {
     "data": {
      "text/plain": [
       "((134724, 17), (57738, 17), (134724, 5850), (57738, 5850))"
      ]
     },
     "execution_count": 74,
     "metadata": {},
     "output_type": "execute_result"
    }
   ],
   "source": [
    "X_train.shape , X_test.shape , y_train.shape , y_test.shape"
   ]
  },
  {
   "cell_type": "code",
   "execution_count": 75,
   "metadata": {},
   "outputs": [
    {
     "data": {
      "text/html": [
       "<div>\n",
       "<style scoped>\n",
       "    .dataframe tbody tr th:only-of-type {\n",
       "        vertical-align: middle;\n",
       "    }\n",
       "\n",
       "    .dataframe tbody tr th {\n",
       "        vertical-align: top;\n",
       "    }\n",
       "\n",
       "    .dataframe thead th {\n",
       "        text-align: right;\n",
       "    }\n",
       "</style>\n",
       "<table border=\"1\" class=\"dataframe\">\n",
       "  <thead>\n",
       "    <tr style=\"text-align: right;\">\n",
       "      <th></th>\n",
       "      <th>fit</th>\n",
       "      <th>user_id</th>\n",
       "      <th>bust size</th>\n",
       "      <th>item_id</th>\n",
       "      <th>weight</th>\n",
       "      <th>rating</th>\n",
       "      <th>rented for</th>\n",
       "      <th>review_text</th>\n",
       "      <th>body type</th>\n",
       "      <th>review_summary</th>\n",
       "      <th>category</th>\n",
       "      <th>height</th>\n",
       "      <th>size</th>\n",
       "      <th>age</th>\n",
       "      <th>month</th>\n",
       "      <th>day</th>\n",
       "      <th>year</th>\n",
       "    </tr>\n",
       "  </thead>\n",
       "  <tbody>\n",
       "    <tr>\n",
       "      <th>101158</th>\n",
       "      <td>fit</td>\n",
       "      <td>141730</td>\n",
       "      <td>36c</td>\n",
       "      <td>Item_1036192</td>\n",
       "      <td>77.11064</td>\n",
       "      <td>8.0</td>\n",
       "      <td>party</td>\n",
       "      <td>The seem line around the upper belly area is s...</td>\n",
       "      <td>pear</td>\n",
       "      <td>The dress was comfortable and amazing. The lac...</td>\n",
       "      <td>dress</td>\n",
       "      <td>177.8</td>\n",
       "      <td>24</td>\n",
       "      <td>33~35</td>\n",
       "      <td>May</td>\n",
       "      <td>10</td>\n",
       "      <td>2017</td>\n",
       "    </tr>\n",
       "    <tr>\n",
       "      <th>170583</th>\n",
       "      <td>large</td>\n",
       "      <td>399803</td>\n",
       "      <td>34c</td>\n",
       "      <td>Item_183194</td>\n",
       "      <td>56.69900</td>\n",
       "      <td>6.0</td>\n",
       "      <td>wedding</td>\n",
       "      <td>I got this dress in the mail, and couldn't wai...</td>\n",
       "      <td>hourglass</td>\n",
       "      <td>Comfortable, flowy, pretty dress, but man was ...</td>\n",
       "      <td>dress</td>\n",
       "      <td>157.5</td>\n",
       "      <td>8</td>\n",
       "      <td>25~29</td>\n",
       "      <td>June</td>\n",
       "      <td>10</td>\n",
       "      <td>2014</td>\n",
       "    </tr>\n",
       "    <tr>\n",
       "      <th>179152</th>\n",
       "      <td>fit</td>\n",
       "      <td>840452</td>\n",
       "      <td>36b</td>\n",
       "      <td>Item_265806</td>\n",
       "      <td>77.11064</td>\n",
       "      <td>10.0</td>\n",
       "      <td>everyday</td>\n",
       "      <td>Fitted up top, which was perfect for me (no ne...</td>\n",
       "      <td>pear</td>\n",
       "      <td>Long length is great for the tall ladies.</td>\n",
       "      <td>maxi</td>\n",
       "      <td>177.8</td>\n",
       "      <td>16</td>\n",
       "      <td>25~29</td>\n",
       "      <td>June</td>\n",
       "      <td>15</td>\n",
       "      <td>2016</td>\n",
       "    </tr>\n",
       "    <tr>\n",
       "      <th>84077</th>\n",
       "      <td>fit</td>\n",
       "      <td>865094</td>\n",
       "      <td>34b</td>\n",
       "      <td>Item_145906</td>\n",
       "      <td>63.50288</td>\n",
       "      <td>8.0</td>\n",
       "      <td>wedding</td>\n",
       "      <td>It fit great and was very flattering</td>\n",
       "      <td>pear</td>\n",
       "      <td>I got so many compliments on this dress!</td>\n",
       "      <td>gown</td>\n",
       "      <td>157.5</td>\n",
       "      <td>12</td>\n",
       "      <td>30~32</td>\n",
       "      <td>August</td>\n",
       "      <td>14</td>\n",
       "      <td>2014</td>\n",
       "    </tr>\n",
       "    <tr>\n",
       "      <th>101461</th>\n",
       "      <td>fit</td>\n",
       "      <td>149629</td>\n",
       "      <td>32b</td>\n",
       "      <td>Item_187164</td>\n",
       "      <td>54.43104</td>\n",
       "      <td>10.0</td>\n",
       "      <td>party</td>\n",
       "      <td>Loved this dress! This is my favorite Herve I ...</td>\n",
       "      <td>hourglass</td>\n",
       "      <td>LOVE!</td>\n",
       "      <td>dress</td>\n",
       "      <td>162.6</td>\n",
       "      <td>4</td>\n",
       "      <td>30~32</td>\n",
       "      <td>August</td>\n",
       "      <td>21</td>\n",
       "      <td>2012</td>\n",
       "    </tr>\n",
       "  </tbody>\n",
       "</table>\n",
       "</div>"
      ],
      "text/plain": [
       "          fit  user_id bust size       item_id    weight  rating rented for  \\\n",
       "101158    fit   141730       36c  Item_1036192  77.11064     8.0      party   \n",
       "170583  large   399803       34c   Item_183194  56.69900     6.0    wedding   \n",
       "179152    fit   840452       36b   Item_265806  77.11064    10.0   everyday   \n",
       "84077     fit   865094       34b   Item_145906  63.50288     8.0    wedding   \n",
       "101461    fit   149629       32b   Item_187164  54.43104    10.0      party   \n",
       "\n",
       "                                              review_text  body type  \\\n",
       "101158  The seem line around the upper belly area is s...       pear   \n",
       "170583  I got this dress in the mail, and couldn't wai...  hourglass   \n",
       "179152  Fitted up top, which was perfect for me (no ne...       pear   \n",
       "84077                It fit great and was very flattering       pear   \n",
       "101461  Loved this dress! This is my favorite Herve I ...  hourglass   \n",
       "\n",
       "                                           review_summary category  height  \\\n",
       "101158  The dress was comfortable and amazing. The lac...    dress   177.8   \n",
       "170583  Comfortable, flowy, pretty dress, but man was ...    dress   157.5   \n",
       "179152          Long length is great for the tall ladies.     maxi   177.8   \n",
       "84077            I got so many compliments on this dress!     gown   157.5   \n",
       "101461                                              LOVE!    dress   162.6   \n",
       "\n",
       "        size    age   month  day  year  \n",
       "101158    24  33~35     May   10  2017  \n",
       "170583     8  25~29    June   10  2014  \n",
       "179152    16  25~29    June   15  2016  \n",
       "84077     12  30~32  August   14  2014  \n",
       "101461     4  30~32  August   21  2012  "
      ]
     },
     "execution_count": 75,
     "metadata": {},
     "output_type": "execute_result"
    }
   ],
   "source": [
    "X_train.head()"
   ]
  },
  {
   "cell_type": "code",
   "execution_count": 48,
   "metadata": {},
   "outputs": [
    {
     "data": {
      "text/html": [
       "<div>\n",
       "<style scoped>\n",
       "    .dataframe tbody tr th:only-of-type {\n",
       "        vertical-align: middle;\n",
       "    }\n",
       "\n",
       "    .dataframe tbody tr th {\n",
       "        vertical-align: top;\n",
       "    }\n",
       "\n",
       "    .dataframe thead th {\n",
       "        text-align: right;\n",
       "    }\n",
       "</style>\n",
       "<table border=\"1\" class=\"dataframe\">\n",
       "  <thead>\n",
       "    <tr style=\"text-align: right;\">\n",
       "      <th></th>\n",
       "      <th>fit</th>\n",
       "      <th>rented for</th>\n",
       "      <th>rating</th>\n",
       "    </tr>\n",
       "  </thead>\n",
       "  <tbody>\n",
       "    <tr>\n",
       "      <th>0</th>\n",
       "      <td>fit</td>\n",
       "      <td>Secret</td>\n",
       "      <td>8.571429</td>\n",
       "    </tr>\n",
       "    <tr>\n",
       "      <th>1</th>\n",
       "      <td>fit</td>\n",
       "      <td>date</td>\n",
       "      <td>9.216871</td>\n",
       "    </tr>\n",
       "    <tr>\n",
       "      <th>2</th>\n",
       "      <td>fit</td>\n",
       "      <td>everyday</td>\n",
       "      <td>9.133858</td>\n",
       "    </tr>\n",
       "    <tr>\n",
       "      <th>3</th>\n",
       "      <td>fit</td>\n",
       "      <td>formal affair</td>\n",
       "      <td>9.397632</td>\n",
       "    </tr>\n",
       "    <tr>\n",
       "      <th>4</th>\n",
       "      <td>fit</td>\n",
       "      <td>other</td>\n",
       "      <td>9.320281</td>\n",
       "    </tr>\n",
       "  </tbody>\n",
       "</table>\n",
       "</div>"
      ],
      "text/plain": [
       "   fit     rented for    rating\n",
       "0  fit         Secret  8.571429\n",
       "1  fit           date  9.216871\n",
       "2  fit       everyday  9.133858\n",
       "3  fit  formal affair  9.397632\n",
       "4  fit          other  9.320281"
      ]
     },
     "execution_count": 48,
     "metadata": {},
     "output_type": "execute_result"
    }
   ],
   "source": [
    "X_train.groupby([\"fit\" , \"rented for\"]).agg({\"rating\" : \"mean\" }).reset_index().head()"
   ]
  },
  {
   "cell_type": "code",
   "execution_count": 50,
   "metadata": {},
   "outputs": [
    {
     "data": {
      "text/plain": [
       "Item_126335    1596\n",
       "Item_123793    1212\n",
       "Item_174086    1209\n",
       "Item_132738    1097\n",
       "Item_145906    1057\n",
       "Item_127865     965\n",
       "Item_136110     847\n",
       "Item_131533     748\n",
       "Item_137585     741\n",
       "Item_172027     707\n",
       "Name: item_id, dtype: int64"
      ]
     },
     "execution_count": 50,
     "metadata": {},
     "output_type": "execute_result"
    }
   ],
   "source": [
    "X_train[\"item_id\"].value_counts().head(10)"
   ]
  },
  {
   "cell_type": "code",
   "execution_count": null,
   "metadata": {},
   "outputs": [],
   "source": [
    "X_train[\"user_id\"].value_counts().head()"
   ]
  },
  {
   "cell_type": "code",
   "execution_count": 39,
   "metadata": {},
   "outputs": [
    {
     "data": {
      "text/plain": [
       "(5701, 3)"
      ]
     },
     "execution_count": 39,
     "metadata": {},
     "output_type": "execute_result"
    }
   ],
   "source": [
    "X_train.groupby([\"category\", \"item_id\"]).count()[\"user_id\"].reset_index().shape"
   ]
  },
  {
   "cell_type": "code",
   "execution_count": 52,
   "metadata": {},
   "outputs": [
    {
     "name": "stderr",
     "output_type": "stream",
     "text": [
      "/root/anaconda3/lib/python3.6/site-packages/ipykernel_launcher.py:1: SettingWithCopyWarning: \n",
      "A value is trying to be set on a copy of a slice from a DataFrame.\n",
      "Try using .loc[row_indexer,col_indexer] = value instead\n",
      "\n",
      "See the caveats in the documentation: http://pandas.pydata.org/pandas-docs/stable/user_guide/indexing.html#returning-a-view-versus-a-copy\n",
      "  \"\"\"Entry point for launching an IPython kernel.\n"
     ]
    }
   ],
   "source": [
    "X_train[\"age\"]  = X_train.age.astype(str)"
   ]
  },
  {
   "cell_type": "code",
   "execution_count": 76,
   "metadata": {},
   "outputs": [
    {
     "data": {
      "text/plain": [
       "month             June\n",
       "item_id    Item_183194\n",
       "age              25~29\n",
       "Name: 170583, dtype: object"
      ]
     },
     "execution_count": 76,
     "metadata": {},
     "output_type": "execute_result"
    }
   ],
   "source": [
    "X_train[[\"month\" ,\"item_id\" , \"age\"]].iloc[1]"
   ]
  },
  {
   "cell_type": "markdown",
   "metadata": {},
   "source": [
    "## doc2vec을 어떻게 활용할 수 있을까? (아이템을 묶긴 해야함)\n",
    "\n",
    "* 글자와 구매 상품을 묶으면 합리적일까?\n",
    "* 글자와 구매 상품 그리고 카테고리를 묶으면 효과적일까? <br>\n",
    "**리뷰의 평가와 가장 연관이 있는 것은 무엇일까?**\n",
    "* 개인적인 생각으로는 **fit** 이 제일 영향을 줄 것 같다. \n",
    "* 리뷰를 적을 때 fit 정도에 따라서 작다 크다 이런 표현을 쓸 것 같다. 하지만 이건 너무 상대적인 개념이기 때문에 같은 제품에 여러 fit이 나오는데 자기 체형하고 연관되어있기 때문에 부적절한거 같다.\n",
    "* Review ~ (item + age bucket)\n",
    "    * 왠만하면 나이에 따라 유행하는 옷이 다를 것이니 같이 고려하면 좋을 것 같다"
   ]
  },
  {
   "cell_type": "code",
   "execution_count": null,
   "metadata": {},
   "outputs": [],
   "source": [
    "var = [\"review_text\", \"review_summary\" , ]\n",
    "tag = [\"item_id\" , \"age\"]\n",
    "train_docs = [(\" \".join(row[ var ]) , \n",
    "               str(row['year']) + \"/\" + row['item_id']+ \"/\" +row[\"age\"]) for idx, row in X_train.iterrows()]\n",
    "test_docs = [(\" \".join(row[ var ]) , \n",
    "              str(row['year'])+ \"/\" + row['item_id']+ \"/\" +row[\"age\"]) for idx, row in X_test.iterrows()]"
   ]
  },
  {
   "cell_type": "code",
   "execution_count": null,
   "metadata": {},
   "outputs": [],
   "source": [
    "X_train.drop(var , axis = 1 , inplace = True)\n",
    "X_test.drop(var , axis = 1 , inplace = True )"
   ]
  },
  {
   "cell_type": "code",
   "execution_count": null,
   "metadata": {},
   "outputs": [],
   "source": [
    "X_train.head()"
   ]
  },
  {
   "cell_type": "code",
   "execution_count": 58,
   "metadata": {},
   "outputs": [],
   "source": [
    "X_train.to_csv( \"Cloth_TRAIN.csv\" , index = False )\n",
    "X_test.to_csv( \"Cloth_TEST.csv\" , index = False )"
   ]
  },
  {
   "cell_type": "code",
   "execution_count": 59,
   "metadata": {},
   "outputs": [
    {
     "name": "stderr",
     "output_type": "stream",
     "text": [
      "paramiko missing, opening SSH/SCP/SFTP paths will be disabled.  `pip install paramiko` to suppress\n"
     ]
    }
   ],
   "source": [
    "from IPython.display import Image\n",
    "from multiprocessing import Pool\n",
    "from gensim.models import doc2vec\n",
    "from collections import namedtuple\n",
    "import multiprocessing"
   ]
  },
  {
   "cell_type": "code",
   "execution_count": null,
   "metadata": {},
   "outputs": [],
   "source": [
    "TaggedDocument = namedtuple('TaggedDocument', 'words tags')\n",
    "def TagDoc(data) :\n",
    "    import string\n",
    "    from nltk.tokenize import word_tokenize\n",
    "    from nltk.corpus import stopwords\n",
    "    from nltk.stem.porter import PorterStemmer\n",
    "    porter = PorterStemmer()\n",
    "    stop_words = set(stopwords.words('english'))\n",
    "    stop_words2 = stop_words | {\"\"}\n",
    "    tagged_train_docs = []\n",
    "    for d , c in data :\n",
    "        tokens = word_tokenize(d.lower())\n",
    "        table = str.maketrans('', '', string.punctuation)\n",
    "        words = [w.translate(table) for w in tokens]\n",
    "        words = [w for w in words if not w in stop_words2 ]\n",
    "        words = [porter.stem(word) for word in words]\n",
    "        Tag_Doc = TaggedDocument(words , [c]) \n",
    "        tagged_train_docs.append(Tag_Doc)\n",
    "    return tagged_train_docs"
   ]
  },
  {
   "cell_type": "code",
   "execution_count": null,
   "metadata": {},
   "outputs": [],
   "source": [
    "tagged_test_docs = TagDoc(test_docs)\n",
    "tagged_train_docs = TagDoc(train_docs)"
   ]
  },
  {
   "cell_type": "code",
   "execution_count": null,
   "metadata": {},
   "outputs": [],
   "source": [
    "# for i in df.columns[1:]:\n",
    "#     df['{}1'.format(i)], df['{}2'.format(i)] = zip(*df[i].apply(lambda x: list(x)))\n",
    "\n",
    "import pickle\n",
    "with open(\"Tagged_Train_Docs.p\" , \"wb\") as p :\n",
    "    pickle.dump(tagged_train_docs , p)\n",
    "with open(\"Tagged_Test_Docs.p\" , \"wb\") as p :\n",
    "    pickle.dump(tagged_test_docs , p)"
   ]
  },
  {
   "cell_type": "code",
   "execution_count": null,
   "metadata": {},
   "outputs": [],
   "source": [
    "if True:\n",
    "    doc_vectorizer = doc2vec.Doc2Vec(\n",
    "    dm = 1,            # PV-DM\n",
    "    dbow_words = 1,    # w2v simultaneous with DBOW d2v / default 0\n",
    "    window = 8,        # distance between the predicted word and context words \n",
    "    size = 300,        # vector size \n",
    "    sample = 1e-5,     # threshold for configuring\n",
    "    min_count = 3,     # ignore with freq lower\n",
    "    negative = 10,     # negative sampling / default 5\n",
    "    seed = 2019,\n",
    "    workers = 30,       # single cpu -> reproducible \n",
    "    alpha = 0.05,      # learning-rate\n",
    "    min_alpha = 0.05   # min learning-rate\n",
    "\n",
    "    )\n",
    "    \n",
    "    doc_vectorizer.build_vocab(tagged_train_docs)\n",
    "    print(str(doc_vectorizer))\n",
    "    \n",
    "    for epoch in range(50):\n",
    "        print(epoch)\n",
    "        doc_vectorizer.train(tagged_train_docs, epochs = doc_vectorizer.iter ,\n",
    "                             total_examples = doc_vectorizer.corpus_count )\n",
    "        doc_vectorizer.alpha -= 0.002\n",
    "        doc_vectorizer.min_alpha = doc_vectorizer.alpha\n",
    "    \n",
    "    print(\"Doc2Vec 학습 완료.\")\n",
    "# To save"
   ]
  },
  {
   "cell_type": "code",
   "execution_count": 84,
   "metadata": {},
   "outputs": [],
   "source": [
    "doc_vectorizer.save('./Cloth_User2Vec.model')"
   ]
  },
  {
   "cell_type": "code",
   "execution_count": 85,
   "metadata": {},
   "outputs": [
    {
     "name": "stdout",
     "output_type": "stream",
     "text": [
      "Load\n"
     ]
    }
   ],
   "source": [
    "print(\"Load\")\n",
    "doc_vectorizer=doc2vec.Doc2Vec.load('./Cloth_User2Vec.model')"
   ]
  },
  {
   "cell_type": "code",
   "execution_count": 86,
   "metadata": {},
   "outputs": [],
   "source": [
    "train_item = [doc_vectorizer.infer_vector(doc.words) for doc in tagged_train_docs]\n",
    "test_item = [doc_vectorizer.infer_vector(doc.words) for doc in tagged_test_docs]"
   ]
  },
  {
   "cell_type": "code",
   "execution_count": 87,
   "metadata": {},
   "outputs": [],
   "source": [
    "train_item_pd = pd.DataFrame(train_item)\n",
    "test_item_pd = pd.DataFrame(test_item)\n",
    "train_item_pd.columns = [\"Item_Age_\" + str(i) for i in train_item_pd.columns.tolist()]\n",
    "test_item_pd.columns = [\"Item_Age_\" + str(i) for i in test_item_pd.columns.tolist()]"
   ]
  },
  {
   "cell_type": "code",
   "execution_count": 89,
   "metadata": {},
   "outputs": [
    {
     "data": {
      "text/html": [
       "<div>\n",
       "<style scoped>\n",
       "    .dataframe tbody tr th:only-of-type {\n",
       "        vertical-align: middle;\n",
       "    }\n",
       "\n",
       "    .dataframe tbody tr th {\n",
       "        vertical-align: top;\n",
       "    }\n",
       "\n",
       "    .dataframe thead th {\n",
       "        text-align: right;\n",
       "    }\n",
       "</style>\n",
       "<table border=\"1\" class=\"dataframe\">\n",
       "  <thead>\n",
       "    <tr style=\"text-align: right;\">\n",
       "      <th></th>\n",
       "      <th>Item_Age_0</th>\n",
       "      <th>Item_Age_1</th>\n",
       "      <th>Item_Age_2</th>\n",
       "      <th>Item_Age_3</th>\n",
       "      <th>Item_Age_4</th>\n",
       "      <th>Item_Age_5</th>\n",
       "      <th>Item_Age_6</th>\n",
       "      <th>Item_Age_7</th>\n",
       "      <th>Item_Age_8</th>\n",
       "      <th>Item_Age_9</th>\n",
       "      <th>...</th>\n",
       "      <th>Item_Age_290</th>\n",
       "      <th>Item_Age_291</th>\n",
       "      <th>Item_Age_292</th>\n",
       "      <th>Item_Age_293</th>\n",
       "      <th>Item_Age_294</th>\n",
       "      <th>Item_Age_295</th>\n",
       "      <th>Item_Age_296</th>\n",
       "      <th>Item_Age_297</th>\n",
       "      <th>Item_Age_298</th>\n",
       "      <th>Item_Age_299</th>\n",
       "    </tr>\n",
       "  </thead>\n",
       "  <tbody>\n",
       "    <tr>\n",
       "      <th>0</th>\n",
       "      <td>0.033927</td>\n",
       "      <td>0.030585</td>\n",
       "      <td>-0.025080</td>\n",
       "      <td>-0.054029</td>\n",
       "      <td>-0.041128</td>\n",
       "      <td>-0.000305</td>\n",
       "      <td>-0.008617</td>\n",
       "      <td>0.039155</td>\n",
       "      <td>-0.026958</td>\n",
       "      <td>-0.079836</td>\n",
       "      <td>...</td>\n",
       "      <td>-0.013011</td>\n",
       "      <td>0.012371</td>\n",
       "      <td>-0.007729</td>\n",
       "      <td>0.003361</td>\n",
       "      <td>0.035664</td>\n",
       "      <td>-0.070409</td>\n",
       "      <td>-0.006274</td>\n",
       "      <td>-0.025972</td>\n",
       "      <td>-0.020863</td>\n",
       "      <td>-0.044886</td>\n",
       "    </tr>\n",
       "    <tr>\n",
       "      <th>1</th>\n",
       "      <td>-0.000934</td>\n",
       "      <td>-0.000994</td>\n",
       "      <td>0.000816</td>\n",
       "      <td>0.001080</td>\n",
       "      <td>-0.000562</td>\n",
       "      <td>0.000373</td>\n",
       "      <td>0.000708</td>\n",
       "      <td>-0.001435</td>\n",
       "      <td>-0.000469</td>\n",
       "      <td>-0.001134</td>\n",
       "      <td>...</td>\n",
       "      <td>-0.000091</td>\n",
       "      <td>0.001158</td>\n",
       "      <td>-0.001262</td>\n",
       "      <td>0.001336</td>\n",
       "      <td>-0.000700</td>\n",
       "      <td>0.001566</td>\n",
       "      <td>0.001626</td>\n",
       "      <td>-0.001288</td>\n",
       "      <td>-0.001555</td>\n",
       "      <td>-0.000459</td>\n",
       "    </tr>\n",
       "    <tr>\n",
       "      <th>2</th>\n",
       "      <td>-0.005453</td>\n",
       "      <td>-0.014091</td>\n",
       "      <td>0.002323</td>\n",
       "      <td>0.015815</td>\n",
       "      <td>0.008671</td>\n",
       "      <td>-0.001880</td>\n",
       "      <td>0.001726</td>\n",
       "      <td>-0.009988</td>\n",
       "      <td>0.005885</td>\n",
       "      <td>0.013818</td>\n",
       "      <td>...</td>\n",
       "      <td>-0.001604</td>\n",
       "      <td>0.003766</td>\n",
       "      <td>0.002093</td>\n",
       "      <td>-0.001674</td>\n",
       "      <td>-0.002020</td>\n",
       "      <td>0.008864</td>\n",
       "      <td>0.003061</td>\n",
       "      <td>0.002652</td>\n",
       "      <td>-0.002859</td>\n",
       "      <td>0.010739</td>\n",
       "    </tr>\n",
       "    <tr>\n",
       "      <th>3</th>\n",
       "      <td>0.001590</td>\n",
       "      <td>0.001079</td>\n",
       "      <td>-0.001556</td>\n",
       "      <td>0.000281</td>\n",
       "      <td>-0.000919</td>\n",
       "      <td>0.000312</td>\n",
       "      <td>0.001131</td>\n",
       "      <td>-0.000905</td>\n",
       "      <td>-0.000436</td>\n",
       "      <td>0.000442</td>\n",
       "      <td>...</td>\n",
       "      <td>0.000198</td>\n",
       "      <td>0.000354</td>\n",
       "      <td>0.000941</td>\n",
       "      <td>-0.001159</td>\n",
       "      <td>0.000862</td>\n",
       "      <td>-0.000538</td>\n",
       "      <td>0.000748</td>\n",
       "      <td>-0.001463</td>\n",
       "      <td>-0.001147</td>\n",
       "      <td>0.001416</td>\n",
       "    </tr>\n",
       "    <tr>\n",
       "      <th>4</th>\n",
       "      <td>-0.001656</td>\n",
       "      <td>0.000128</td>\n",
       "      <td>0.000513</td>\n",
       "      <td>0.000662</td>\n",
       "      <td>-0.000692</td>\n",
       "      <td>0.001134</td>\n",
       "      <td>0.000203</td>\n",
       "      <td>-0.000086</td>\n",
       "      <td>0.000971</td>\n",
       "      <td>0.000367</td>\n",
       "      <td>...</td>\n",
       "      <td>-0.001176</td>\n",
       "      <td>0.001601</td>\n",
       "      <td>0.000222</td>\n",
       "      <td>0.001241</td>\n",
       "      <td>-0.001555</td>\n",
       "      <td>0.000416</td>\n",
       "      <td>0.001064</td>\n",
       "      <td>-0.000295</td>\n",
       "      <td>-0.000734</td>\n",
       "      <td>-0.001562</td>\n",
       "    </tr>\n",
       "  </tbody>\n",
       "</table>\n",
       "<p>5 rows × 300 columns</p>\n",
       "</div>"
      ],
      "text/plain": [
       "   Item_Age_0  Item_Age_1  Item_Age_2  Item_Age_3  Item_Age_4  Item_Age_5  \\\n",
       "0    0.033927    0.030585   -0.025080   -0.054029   -0.041128   -0.000305   \n",
       "1   -0.000934   -0.000994    0.000816    0.001080   -0.000562    0.000373   \n",
       "2   -0.005453   -0.014091    0.002323    0.015815    0.008671   -0.001880   \n",
       "3    0.001590    0.001079   -0.001556    0.000281   -0.000919    0.000312   \n",
       "4   -0.001656    0.000128    0.000513    0.000662   -0.000692    0.001134   \n",
       "\n",
       "   Item_Age_6  Item_Age_7  Item_Age_8  Item_Age_9  ...  Item_Age_290  \\\n",
       "0   -0.008617    0.039155   -0.026958   -0.079836  ...     -0.013011   \n",
       "1    0.000708   -0.001435   -0.000469   -0.001134  ...     -0.000091   \n",
       "2    0.001726   -0.009988    0.005885    0.013818  ...     -0.001604   \n",
       "3    0.001131   -0.000905   -0.000436    0.000442  ...      0.000198   \n",
       "4    0.000203   -0.000086    0.000971    0.000367  ...     -0.001176   \n",
       "\n",
       "   Item_Age_291  Item_Age_292  Item_Age_293  Item_Age_294  Item_Age_295  \\\n",
       "0      0.012371     -0.007729      0.003361      0.035664     -0.070409   \n",
       "1      0.001158     -0.001262      0.001336     -0.000700      0.001566   \n",
       "2      0.003766      0.002093     -0.001674     -0.002020      0.008864   \n",
       "3      0.000354      0.000941     -0.001159      0.000862     -0.000538   \n",
       "4      0.001601      0.000222      0.001241     -0.001555      0.000416   \n",
       "\n",
       "   Item_Age_296  Item_Age_297  Item_Age_298  Item_Age_299  \n",
       "0     -0.006274     -0.025972     -0.020863     -0.044886  \n",
       "1      0.001626     -0.001288     -0.001555     -0.000459  \n",
       "2      0.003061      0.002652     -0.002859      0.010739  \n",
       "3      0.000748     -0.001463     -0.001147      0.001416  \n",
       "4      0.001064     -0.000295     -0.000734     -0.001562  \n",
       "\n",
       "[5 rows x 300 columns]"
      ]
     },
     "execution_count": 89,
     "metadata": {},
     "output_type": "execute_result"
    }
   ],
   "source": [
    "train_item_pd.head()"
   ]
  },
  {
   "cell_type": "code",
   "execution_count": 270,
   "metadata": {},
   "outputs": [],
   "source": [
    "X_train = pd.read_csv( \"Cloth_TRAIN.csv\"  )\n",
    "X_test = pd.read_csv( \"Cloth_TEST.csv\" )"
   ]
  },
  {
   "cell_type": "code",
   "execution_count": 271,
   "metadata": {},
   "outputs": [
    {
     "data": {
      "text/plain": [
       "((134724, 15), (57738, 15))"
      ]
     },
     "execution_count": 271,
     "metadata": {},
     "output_type": "execute_result"
    }
   ],
   "source": [
    "X_train.shape , X_test.shape"
   ]
  },
  {
   "cell_type": "markdown",
   "metadata": {},
   "source": [
    "## **category** 변수\n",
    "\n",
    "```\n",
    "tr_Segment = X_train[\"category\"]\n",
    "te_Segment = X_test[\"category\"]\n",
    "X_train.drop([\"category\"] , axis = 1 , inplace = True)\n",
    "X_test.drop([\"category\"] , axis = 1 , inplace = True)\n",
    "print(tr_Segment.shape , te_Segment.shape)\n",
    "X_train[X_train.user_id == 691468].sort_values([\"year\", \"month\" , \"day\"]).head()\n",
    "Total_Seg = list(set(tr_Segment.values.tolist()) | set(te_Segment.values.tolist() ))\n",
    "print(Total_Seg)\n",
    "assert len(Total_Seg) == len( np.unique(Total_Seg))\n",
    "Seg_dummy = pd.get_dummies(pd.concat([tr_Segment , te_Segment ], axis = 0))\n",
    "print(Seg_dummy.shape)\n",
    "tr_Seg_dummy = Seg_dummy.iloc[ :tr_Segment.shape[0] , :]\n",
    "te_Seg_dummy = Seg_dummy.iloc[tr_Segment.shape[0] : , :]\n",
    "print(tr_Seg_dummy.shape , te_Seg_dummy.shape)\n",
    "tr_Seg_dummy.head()\n",
    "```\n",
    "\n",
    "## rented for 도 Segment 역할을 기대할 수 있음.\n",
    "\n",
    "```\n",
    "tr_Rent_Segment = X_train[\"rented for\"]\n",
    "te_Rent_Segment = X_test[\"rented for\"]\n",
    "X_train.drop([\"rented for\"] , axis = 1 , inplace = True)\n",
    "X_test.drop([\"rented for\"] , axis = 1 , inplace = True)\n",
    "Total_Rent_Seg = list(set(tr_Rent_Segment.values.tolist()) | set(te_Rent_Segment.values.tolist() ))\n",
    "Rent_Seg_dummy = pd.get_dummies(pd.concat([tr_Rent_Segment , te_Rent_Segment ], axis = 0))\n",
    "Rent_tr_Seg_dummy = Rent_Seg_dummy.iloc[ :tr_Rent_Segment.shape[0] , :]\n",
    "Rent_te_Seg_dummy = Rent_Seg_dummy.iloc[tr_Rent_Segment.shape[0] : , :]\n",
    "```"
   ]
  },
  {
   "cell_type": "markdown",
   "metadata": {},
   "source": [
    "## 저장\n",
    "```\n",
    "X_train.to_csv(\"User_Item_TRAIN.csv\" , index = False )\n",
    "X_test.to_csv(\"User_Item_TEST.csv\" , index = False )\n",
    "\n",
    "## Segment\n",
    "tr_Seg_dummy.columns  = \"Category_\"+ tr_Seg_dummy.columns \n",
    "te_Seg_dummy.columns  = \"Category_\"+ te_Seg_dummy.columns \n",
    "Rent_tr_Seg_dummy.columns  = \"Rent_\"+ Rent_tr_Seg_dummy.columns \n",
    "Rent_te_Seg_dummy.columns  = \"Rent_\"+ Rent_te_Seg_dummy.columns \n",
    "\n",
    "pd.concat([tr_Seg_dummy , Rent_tr_Seg_dummy], axis = 1).to_csv(\"Rent_Category_TRAIN.csv\", index = False)\n",
    "pd.concat([te_Seg_dummy , Rent_te_Seg_dummy], axis = 1).to_csv(\"Rent_Category_TEST.csv\" ,index = False)\n",
    "X_train = pd.read_csv(\"User_Item_TRAIN.csv\" )\n",
    "X_test = pd.read_csv(\"User_Item_TEST.csv\" )\n",
    "## merge\n",
    "X_train = pd.concat([X_train , tr_Seg_dummy.reset_index(drop= True) ,\n",
    "                     Rent_tr_Seg_dummy.reset_index(drop= True) ] , axis = 1)\n",
    "X_test = pd.concat([X_test , te_Seg_dummy.reset_index(drop= True) ,\n",
    "                    Rent_te_Seg_dummy.reset_index(drop= True) ] , axis = 1)\n",
    "\n",
    "## Doc2Vec\n",
    "train_item_pd.to_csv(\"Review_Doc2Vec_TRAIN.csv\" , index = False )\n",
    "test_item_pd.to_csv(\"Review_Doc2Vec_TEST.csv\" , index = False )\n",
    "X_train = pd.concat([X_train , train_item_pd  ] , axis = 1)\n",
    "X_test = pd.concat([X_test , test_item_pd  ] , axis = 1)\n",
    "## \n",
    "X_train.drop([ \"user_id\" , \"item_id\"] , axis = 1).to_csv(\"Final_Train.csv\" , index = False)\n",
    "X_test.drop([ \"user_id\" , \"item_id\"] , axis = 1).to_csv(\"Final_Test.csv\" , index = False)\n",
    "```"
   ]
  },
  {
   "cell_type": "code",
   "execution_count": 274,
   "metadata": {},
   "outputs": [
    {
     "name": "stdout",
     "output_type": "stream",
     "text": [
      "(134724, 315)\n"
     ]
    },
    {
     "data": {
      "text/html": [
       "<div>\n",
       "<style scoped>\n",
       "    .dataframe tbody tr th:only-of-type {\n",
       "        vertical-align: middle;\n",
       "    }\n",
       "\n",
       "    .dataframe tbody tr th {\n",
       "        vertical-align: top;\n",
       "    }\n",
       "\n",
       "    .dataframe thead th {\n",
       "        text-align: right;\n",
       "    }\n",
       "</style>\n",
       "<table border=\"1\" class=\"dataframe\">\n",
       "  <thead>\n",
       "    <tr style=\"text-align: right;\">\n",
       "      <th></th>\n",
       "      <th>fit</th>\n",
       "      <th>user_id</th>\n",
       "      <th>bust size</th>\n",
       "      <th>item_id</th>\n",
       "      <th>weight</th>\n",
       "      <th>rating</th>\n",
       "      <th>rented for</th>\n",
       "      <th>body type</th>\n",
       "      <th>category</th>\n",
       "      <th>height</th>\n",
       "      <th>...</th>\n",
       "      <th>Item_Age_290</th>\n",
       "      <th>Item_Age_291</th>\n",
       "      <th>Item_Age_292</th>\n",
       "      <th>Item_Age_293</th>\n",
       "      <th>Item_Age_294</th>\n",
       "      <th>Item_Age_295</th>\n",
       "      <th>Item_Age_296</th>\n",
       "      <th>Item_Age_297</th>\n",
       "      <th>Item_Age_298</th>\n",
       "      <th>Item_Age_299</th>\n",
       "    </tr>\n",
       "  </thead>\n",
       "  <tbody>\n",
       "    <tr>\n",
       "      <th>0</th>\n",
       "      <td>fit</td>\n",
       "      <td>141730</td>\n",
       "      <td>36c</td>\n",
       "      <td>Item_1036192</td>\n",
       "      <td>77.11064</td>\n",
       "      <td>8.0</td>\n",
       "      <td>party</td>\n",
       "      <td>pear</td>\n",
       "      <td>dress</td>\n",
       "      <td>177.8</td>\n",
       "      <td>...</td>\n",
       "      <td>-0.013011</td>\n",
       "      <td>0.012371</td>\n",
       "      <td>-0.007729</td>\n",
       "      <td>0.003361</td>\n",
       "      <td>0.035664</td>\n",
       "      <td>-0.070409</td>\n",
       "      <td>-0.006274</td>\n",
       "      <td>-0.025972</td>\n",
       "      <td>-0.020863</td>\n",
       "      <td>-0.044886</td>\n",
       "    </tr>\n",
       "    <tr>\n",
       "      <th>1</th>\n",
       "      <td>large</td>\n",
       "      <td>399803</td>\n",
       "      <td>34c</td>\n",
       "      <td>Item_183194</td>\n",
       "      <td>56.69900</td>\n",
       "      <td>6.0</td>\n",
       "      <td>wedding</td>\n",
       "      <td>hourglass</td>\n",
       "      <td>dress</td>\n",
       "      <td>157.5</td>\n",
       "      <td>...</td>\n",
       "      <td>-0.000091</td>\n",
       "      <td>0.001158</td>\n",
       "      <td>-0.001262</td>\n",
       "      <td>0.001336</td>\n",
       "      <td>-0.000700</td>\n",
       "      <td>0.001566</td>\n",
       "      <td>0.001626</td>\n",
       "      <td>-0.001288</td>\n",
       "      <td>-0.001555</td>\n",
       "      <td>-0.000459</td>\n",
       "    </tr>\n",
       "    <tr>\n",
       "      <th>2</th>\n",
       "      <td>fit</td>\n",
       "      <td>840452</td>\n",
       "      <td>36b</td>\n",
       "      <td>Item_265806</td>\n",
       "      <td>77.11064</td>\n",
       "      <td>10.0</td>\n",
       "      <td>everyday</td>\n",
       "      <td>pear</td>\n",
       "      <td>maxi</td>\n",
       "      <td>177.8</td>\n",
       "      <td>...</td>\n",
       "      <td>-0.001604</td>\n",
       "      <td>0.003766</td>\n",
       "      <td>0.002093</td>\n",
       "      <td>-0.001674</td>\n",
       "      <td>-0.002020</td>\n",
       "      <td>0.008864</td>\n",
       "      <td>0.003061</td>\n",
       "      <td>0.002652</td>\n",
       "      <td>-0.002859</td>\n",
       "      <td>0.010739</td>\n",
       "    </tr>\n",
       "    <tr>\n",
       "      <th>3</th>\n",
       "      <td>fit</td>\n",
       "      <td>865094</td>\n",
       "      <td>34b</td>\n",
       "      <td>Item_145906</td>\n",
       "      <td>63.50288</td>\n",
       "      <td>8.0</td>\n",
       "      <td>wedding</td>\n",
       "      <td>pear</td>\n",
       "      <td>gown</td>\n",
       "      <td>157.5</td>\n",
       "      <td>...</td>\n",
       "      <td>0.000198</td>\n",
       "      <td>0.000354</td>\n",
       "      <td>0.000941</td>\n",
       "      <td>-0.001159</td>\n",
       "      <td>0.000862</td>\n",
       "      <td>-0.000538</td>\n",
       "      <td>0.000748</td>\n",
       "      <td>-0.001463</td>\n",
       "      <td>-0.001147</td>\n",
       "      <td>0.001416</td>\n",
       "    </tr>\n",
       "    <tr>\n",
       "      <th>4</th>\n",
       "      <td>fit</td>\n",
       "      <td>149629</td>\n",
       "      <td>32b</td>\n",
       "      <td>Item_187164</td>\n",
       "      <td>54.43104</td>\n",
       "      <td>10.0</td>\n",
       "      <td>party</td>\n",
       "      <td>hourglass</td>\n",
       "      <td>dress</td>\n",
       "      <td>162.6</td>\n",
       "      <td>...</td>\n",
       "      <td>-0.001176</td>\n",
       "      <td>0.001601</td>\n",
       "      <td>0.000222</td>\n",
       "      <td>0.001241</td>\n",
       "      <td>-0.001555</td>\n",
       "      <td>0.000416</td>\n",
       "      <td>0.001064</td>\n",
       "      <td>-0.000295</td>\n",
       "      <td>-0.000734</td>\n",
       "      <td>-0.001562</td>\n",
       "    </tr>\n",
       "  </tbody>\n",
       "</table>\n",
       "<p>5 rows × 315 columns</p>\n",
       "</div>"
      ],
      "text/plain": [
       "     fit  user_id bust size       item_id    weight  rating rented for  \\\n",
       "0    fit   141730       36c  Item_1036192  77.11064     8.0      party   \n",
       "1  large   399803       34c   Item_183194  56.69900     6.0    wedding   \n",
       "2    fit   840452       36b   Item_265806  77.11064    10.0   everyday   \n",
       "3    fit   865094       34b   Item_145906  63.50288     8.0    wedding   \n",
       "4    fit   149629       32b   Item_187164  54.43104    10.0      party   \n",
       "\n",
       "   body type category  height  ...  Item_Age_290 Item_Age_291 Item_Age_292  \\\n",
       "0       pear    dress   177.8  ...     -0.013011     0.012371    -0.007729   \n",
       "1  hourglass    dress   157.5  ...     -0.000091     0.001158    -0.001262   \n",
       "2       pear     maxi   177.8  ...     -0.001604     0.003766     0.002093   \n",
       "3       pear     gown   157.5  ...      0.000198     0.000354     0.000941   \n",
       "4  hourglass    dress   162.6  ...     -0.001176     0.001601     0.000222   \n",
       "\n",
       "   Item_Age_293  Item_Age_294  Item_Age_295  Item_Age_296  Item_Age_297  \\\n",
       "0      0.003361      0.035664     -0.070409     -0.006274     -0.025972   \n",
       "1      0.001336     -0.000700      0.001566      0.001626     -0.001288   \n",
       "2     -0.001674     -0.002020      0.008864      0.003061      0.002652   \n",
       "3     -0.001159      0.000862     -0.000538      0.000748     -0.001463   \n",
       "4      0.001241     -0.001555      0.000416      0.001064     -0.000295   \n",
       "\n",
       "   Item_Age_298  Item_Age_299  \n",
       "0     -0.020863     -0.044886  \n",
       "1     -0.001555     -0.000459  \n",
       "2     -0.002859      0.010739  \n",
       "3     -0.001147      0.001416  \n",
       "4     -0.000734     -0.001562  \n",
       "\n",
       "[5 rows x 315 columns]"
      ]
     },
     "execution_count": 274,
     "metadata": {},
     "output_type": "execute_result"
    }
   ],
   "source": [
    "\n",
    "X_train = pd.concat([X_train , train_item_pd  ] , axis = 1)\n",
    "X_test = pd.concat([X_test , test_item_pd  ] , axis = 1)\n",
    "print(X_train.shape)\n",
    "X_train.head()"
   ]
  },
  {
   "cell_type": "code",
   "execution_count": 361,
   "metadata": {},
   "outputs": [
    {
     "data": {
      "text/plain": [
       "['fit',\n",
       " 'bust size',\n",
       " 'item_id',\n",
       " 'weight',\n",
       " 'rating',\n",
       " 'rented for',\n",
       " 'body type',\n",
       " 'category',\n",
       " 'height',\n",
       " 'size',\n",
       " 'age',\n",
       " 'month',\n",
       " 'day',\n",
       " 'year',\n",
       " 'Item_Age_0',\n",
       " 'Item_Age_1',\n",
       " 'Item_Age_2',\n",
       " 'Item_Age_3',\n",
       " 'Item_Age_4',\n",
       " 'Item_Age_5',\n",
       " 'Item_Age_6',\n",
       " 'Item_Age_7',\n",
       " 'Item_Age_8',\n",
       " 'Item_Age_9',\n",
       " 'Item_Age_10',\n",
       " 'Item_Age_11',\n",
       " 'Item_Age_12',\n",
       " 'Item_Age_13',\n",
       " 'Item_Age_14',\n",
       " 'Item_Age_15',\n",
       " 'Item_Age_16',\n",
       " 'Item_Age_17',\n",
       " 'Item_Age_18',\n",
       " 'Item_Age_19',\n",
       " 'Item_Age_20',\n",
       " 'Item_Age_21',\n",
       " 'Item_Age_22',\n",
       " 'Item_Age_23',\n",
       " 'Item_Age_24',\n",
       " 'Item_Age_25',\n",
       " 'Item_Age_26',\n",
       " 'Item_Age_27',\n",
       " 'Item_Age_28',\n",
       " 'Item_Age_29',\n",
       " 'Item_Age_30',\n",
       " 'Item_Age_31',\n",
       " 'Item_Age_32',\n",
       " 'Item_Age_33',\n",
       " 'Item_Age_34',\n",
       " 'Item_Age_35',\n",
       " 'Item_Age_36',\n",
       " 'Item_Age_37',\n",
       " 'Item_Age_38',\n",
       " 'Item_Age_39',\n",
       " 'Item_Age_40',\n",
       " 'Item_Age_41',\n",
       " 'Item_Age_42',\n",
       " 'Item_Age_43',\n",
       " 'Item_Age_44',\n",
       " 'Item_Age_45',\n",
       " 'Item_Age_46',\n",
       " 'Item_Age_47',\n",
       " 'Item_Age_48',\n",
       " 'Item_Age_49',\n",
       " 'Item_Age_50',\n",
       " 'Item_Age_51',\n",
       " 'Item_Age_52',\n",
       " 'Item_Age_53',\n",
       " 'Item_Age_54',\n",
       " 'Item_Age_55',\n",
       " 'Item_Age_56',\n",
       " 'Item_Age_57',\n",
       " 'Item_Age_58',\n",
       " 'Item_Age_59',\n",
       " 'Item_Age_60',\n",
       " 'Item_Age_61',\n",
       " 'Item_Age_62',\n",
       " 'Item_Age_63',\n",
       " 'Item_Age_64',\n",
       " 'Item_Age_65',\n",
       " 'Item_Age_66',\n",
       " 'Item_Age_67',\n",
       " 'Item_Age_68',\n",
       " 'Item_Age_69',\n",
       " 'Item_Age_70',\n",
       " 'Item_Age_71',\n",
       " 'Item_Age_72',\n",
       " 'Item_Age_73',\n",
       " 'Item_Age_74',\n",
       " 'Item_Age_75',\n",
       " 'Item_Age_76',\n",
       " 'Item_Age_77',\n",
       " 'Item_Age_78',\n",
       " 'Item_Age_79',\n",
       " 'Item_Age_80',\n",
       " 'Item_Age_81',\n",
       " 'Item_Age_82',\n",
       " 'Item_Age_83',\n",
       " 'Item_Age_84',\n",
       " 'Item_Age_85',\n",
       " 'Item_Age_86',\n",
       " 'Item_Age_87',\n",
       " 'Item_Age_88',\n",
       " 'Item_Age_89',\n",
       " 'Item_Age_90',\n",
       " 'Item_Age_91',\n",
       " 'Item_Age_92',\n",
       " 'Item_Age_93',\n",
       " 'Item_Age_94',\n",
       " 'Item_Age_95',\n",
       " 'Item_Age_96',\n",
       " 'Item_Age_97',\n",
       " 'Item_Age_98',\n",
       " 'Item_Age_99',\n",
       " 'Item_Age_100',\n",
       " 'Item_Age_101',\n",
       " 'Item_Age_102',\n",
       " 'Item_Age_103',\n",
       " 'Item_Age_104',\n",
       " 'Item_Age_105',\n",
       " 'Item_Age_106',\n",
       " 'Item_Age_107',\n",
       " 'Item_Age_108',\n",
       " 'Item_Age_109',\n",
       " 'Item_Age_110',\n",
       " 'Item_Age_111',\n",
       " 'Item_Age_112',\n",
       " 'Item_Age_113',\n",
       " 'Item_Age_114',\n",
       " 'Item_Age_115',\n",
       " 'Item_Age_116',\n",
       " 'Item_Age_117',\n",
       " 'Item_Age_118',\n",
       " 'Item_Age_119',\n",
       " 'Item_Age_120',\n",
       " 'Item_Age_121',\n",
       " 'Item_Age_122',\n",
       " 'Item_Age_123',\n",
       " 'Item_Age_124',\n",
       " 'Item_Age_125',\n",
       " 'Item_Age_126',\n",
       " 'Item_Age_127',\n",
       " 'Item_Age_128',\n",
       " 'Item_Age_129',\n",
       " 'Item_Age_130',\n",
       " 'Item_Age_131',\n",
       " 'Item_Age_132',\n",
       " 'Item_Age_133',\n",
       " 'Item_Age_134',\n",
       " 'Item_Age_135',\n",
       " 'Item_Age_136',\n",
       " 'Item_Age_137',\n",
       " 'Item_Age_138',\n",
       " 'Item_Age_139',\n",
       " 'Item_Age_140',\n",
       " 'Item_Age_141',\n",
       " 'Item_Age_142',\n",
       " 'Item_Age_143',\n",
       " 'Item_Age_144',\n",
       " 'Item_Age_145',\n",
       " 'Item_Age_146',\n",
       " 'Item_Age_147',\n",
       " 'Item_Age_148',\n",
       " 'Item_Age_149',\n",
       " 'Item_Age_150',\n",
       " 'Item_Age_151',\n",
       " 'Item_Age_152',\n",
       " 'Item_Age_153',\n",
       " 'Item_Age_154',\n",
       " 'Item_Age_155',\n",
       " 'Item_Age_156',\n",
       " 'Item_Age_157',\n",
       " 'Item_Age_158',\n",
       " 'Item_Age_159',\n",
       " 'Item_Age_160',\n",
       " 'Item_Age_161',\n",
       " 'Item_Age_162',\n",
       " 'Item_Age_163',\n",
       " 'Item_Age_164',\n",
       " 'Item_Age_165',\n",
       " 'Item_Age_166',\n",
       " 'Item_Age_167',\n",
       " 'Item_Age_168',\n",
       " 'Item_Age_169',\n",
       " 'Item_Age_170',\n",
       " 'Item_Age_171',\n",
       " 'Item_Age_172',\n",
       " 'Item_Age_173',\n",
       " 'Item_Age_174',\n",
       " 'Item_Age_175',\n",
       " 'Item_Age_176',\n",
       " 'Item_Age_177',\n",
       " 'Item_Age_178',\n",
       " 'Item_Age_179',\n",
       " 'Item_Age_180',\n",
       " 'Item_Age_181',\n",
       " 'Item_Age_182',\n",
       " 'Item_Age_183',\n",
       " 'Item_Age_184',\n",
       " 'Item_Age_185',\n",
       " 'Item_Age_186',\n",
       " 'Item_Age_187',\n",
       " 'Item_Age_188',\n",
       " 'Item_Age_189',\n",
       " 'Item_Age_190',\n",
       " 'Item_Age_191',\n",
       " 'Item_Age_192',\n",
       " 'Item_Age_193',\n",
       " 'Item_Age_194',\n",
       " 'Item_Age_195',\n",
       " 'Item_Age_196',\n",
       " 'Item_Age_197',\n",
       " 'Item_Age_198',\n",
       " 'Item_Age_199',\n",
       " 'Item_Age_200',\n",
       " 'Item_Age_201',\n",
       " 'Item_Age_202',\n",
       " 'Item_Age_203',\n",
       " 'Item_Age_204',\n",
       " 'Item_Age_205',\n",
       " 'Item_Age_206',\n",
       " 'Item_Age_207',\n",
       " 'Item_Age_208',\n",
       " 'Item_Age_209',\n",
       " 'Item_Age_210',\n",
       " 'Item_Age_211',\n",
       " 'Item_Age_212',\n",
       " 'Item_Age_213',\n",
       " 'Item_Age_214',\n",
       " 'Item_Age_215',\n",
       " 'Item_Age_216',\n",
       " 'Item_Age_217',\n",
       " 'Item_Age_218',\n",
       " 'Item_Age_219',\n",
       " 'Item_Age_220',\n",
       " 'Item_Age_221',\n",
       " 'Item_Age_222',\n",
       " 'Item_Age_223',\n",
       " 'Item_Age_224',\n",
       " 'Item_Age_225',\n",
       " 'Item_Age_226',\n",
       " 'Item_Age_227',\n",
       " 'Item_Age_228',\n",
       " 'Item_Age_229',\n",
       " 'Item_Age_230',\n",
       " 'Item_Age_231',\n",
       " 'Item_Age_232',\n",
       " 'Item_Age_233',\n",
       " 'Item_Age_234',\n",
       " 'Item_Age_235',\n",
       " 'Item_Age_236',\n",
       " 'Item_Age_237',\n",
       " 'Item_Age_238',\n",
       " 'Item_Age_239',\n",
       " 'Item_Age_240',\n",
       " 'Item_Age_241',\n",
       " 'Item_Age_242',\n",
       " 'Item_Age_243',\n",
       " 'Item_Age_244',\n",
       " 'Item_Age_245',\n",
       " 'Item_Age_246',\n",
       " 'Item_Age_247',\n",
       " 'Item_Age_248',\n",
       " 'Item_Age_249',\n",
       " 'Item_Age_250',\n",
       " 'Item_Age_251',\n",
       " 'Item_Age_252',\n",
       " 'Item_Age_253',\n",
       " 'Item_Age_254',\n",
       " 'Item_Age_255',\n",
       " 'Item_Age_256',\n",
       " 'Item_Age_257',\n",
       " 'Item_Age_258',\n",
       " 'Item_Age_259',\n",
       " 'Item_Age_260',\n",
       " 'Item_Age_261',\n",
       " 'Item_Age_262',\n",
       " 'Item_Age_263',\n",
       " 'Item_Age_264',\n",
       " 'Item_Age_265',\n",
       " 'Item_Age_266',\n",
       " 'Item_Age_267',\n",
       " 'Item_Age_268',\n",
       " 'Item_Age_269',\n",
       " 'Item_Age_270',\n",
       " 'Item_Age_271',\n",
       " 'Item_Age_272',\n",
       " 'Item_Age_273',\n",
       " 'Item_Age_274',\n",
       " 'Item_Age_275',\n",
       " 'Item_Age_276',\n",
       " 'Item_Age_277',\n",
       " 'Item_Age_278',\n",
       " 'Item_Age_279',\n",
       " 'Item_Age_280',\n",
       " 'Item_Age_281',\n",
       " 'Item_Age_282',\n",
       " 'Item_Age_283',\n",
       " 'Item_Age_284',\n",
       " 'Item_Age_285',\n",
       " 'Item_Age_286',\n",
       " 'Item_Age_287',\n",
       " 'Item_Age_288',\n",
       " 'Item_Age_289',\n",
       " 'Item_Age_290',\n",
       " 'Item_Age_291',\n",
       " 'Item_Age_292',\n",
       " 'Item_Age_293',\n",
       " 'Item_Age_294',\n",
       " 'Item_Age_295',\n",
       " 'Item_Age_296',\n",
       " 'Item_Age_297',\n",
       " 'Item_Age_298',\n",
       " 'Item_Age_299']"
      ]
     },
     "execution_count": 361,
     "metadata": {},
     "output_type": "execute_result"
    }
   ],
   "source": [
    "X_train.columns.tolist()"
   ]
  },
  {
   "cell_type": "code",
   "execution_count": null,
   "metadata": {},
   "outputs": [],
   "source": [
    "X_train.head()"
   ]
  },
  {
   "cell_type": "code",
   "execution_count": 276,
   "metadata": {},
   "outputs": [
    {
     "data": {
      "text/html": [
       "<div>\n",
       "<style scoped>\n",
       "    .dataframe tbody tr th:only-of-type {\n",
       "        vertical-align: middle;\n",
       "    }\n",
       "\n",
       "    .dataframe tbody tr th {\n",
       "        vertical-align: top;\n",
       "    }\n",
       "\n",
       "    .dataframe thead th {\n",
       "        text-align: right;\n",
       "    }\n",
       "</style>\n",
       "<table border=\"1\" class=\"dataframe\">\n",
       "  <thead>\n",
       "    <tr style=\"text-align: right;\">\n",
       "      <th></th>\n",
       "      <th>fit</th>\n",
       "      <th>bust size</th>\n",
       "      <th>item_id</th>\n",
       "      <th>weight</th>\n",
       "      <th>rating</th>\n",
       "      <th>rented for</th>\n",
       "      <th>body type</th>\n",
       "      <th>category</th>\n",
       "      <th>height</th>\n",
       "      <th>size</th>\n",
       "      <th>age</th>\n",
       "      <th>month</th>\n",
       "      <th>day</th>\n",
       "      <th>year</th>\n",
       "      <th>Item_Age_0</th>\n",
       "    </tr>\n",
       "  </thead>\n",
       "  <tbody>\n",
       "    <tr>\n",
       "      <th>10</th>\n",
       "      <td>fit</td>\n",
       "      <td>32d</td>\n",
       "      <td>Item_2264245</td>\n",
       "      <td>58.96696</td>\n",
       "      <td>10.0</td>\n",
       "      <td>work</td>\n",
       "      <td>Secret</td>\n",
       "      <td>jumpsuit</td>\n",
       "      <td>160.0</td>\n",
       "      <td>8</td>\n",
       "      <td>36~38</td>\n",
       "      <td>December</td>\n",
       "      <td>10</td>\n",
       "      <td>2015</td>\n",
       "      <td>0.000144</td>\n",
       "    </tr>\n",
       "  </tbody>\n",
       "</table>\n",
       "</div>"
      ],
      "text/plain": [
       "    fit bust size       item_id    weight  rating rented for body type  \\\n",
       "10  fit       32d  Item_2264245  58.96696    10.0       work    Secret   \n",
       "\n",
       "    category  height  size    age     month  day  year  Item_Age_0  \n",
       "10  jumpsuit   160.0     8  36~38  December   10  2015    0.000144  "
      ]
     },
     "execution_count": 276,
     "metadata": {},
     "output_type": "execute_result"
    }
   ],
   "source": [
    "X_train.iloc[10:11,:15].head()"
   ]
  },
  {
   "cell_type": "markdown",
   "metadata": {},
   "source": [
    "## 전처리 들어가기위한 추가적인 작업\n",
    "\n",
    "* Train / Test 데이터가 전부 필요함!"
   ]
  },
  {
   "cell_type": "code",
   "execution_count": null,
   "metadata": {},
   "outputs": [],
   "source": [
    "X_train = X_train.drop([ \"user_id\" ] , axis = 1)\n",
    "X_test = X_test.drop([ \"user_id\" ] , axis = 1)\n",
    "##\n",
    "from sklearn import preprocessing\n",
    "le = preprocessing.LabelEncoder()\n",
    "label_info = pd.concat([X_train , X_test], axis = 0)[\"item_id\"].unique().tolist()\n",
    "##\n",
    "le.fit(label_info)\n",
    "X_train[\"item_id\"] = le.transform(X_train[\"item_id\"])\n",
    "X_test[\"item_id\"] = le.transform(X_test[\"item_id\"])\n",
    "##\n",
    "Replace_Column = [re.sub(\" \" , \"_\" , i) for i in X_train.columns.tolist()]\n",
    "X_train.columns = Replace_Column\n",
    "X_test.columns = Replace_Column"
   ]
  },
  {
   "cell_type": "code",
   "execution_count": 18,
   "metadata": {},
   "outputs": [],
   "source": [
    "## 필수!\n",
    "obj_list = X_train.select_dtypes(\"object\").columns.tolist()\n",
    "obj_list += [\"year\",\"day\"]\n",
    "uni_key = {}\n",
    "for i in obj_list :\n",
    "    uni_key[i] = list(set(X_train[i].unique().astype(str)) | set(X_test[i].unique().astype(str)))"
   ]
  },
  {
   "cell_type": "markdown",
   "metadata": {},
   "source": [
    "---"
   ]
  },
  {
   "cell_type": "code",
   "execution_count": null,
   "metadata": {},
   "outputs": [],
   "source": [
    "columns = X_train.columns.tolist()\n",
    "columns.remove(\"item_id\")\n",
    "Continuous_col1 = [ i for i in columns if re.search(\"Item_Age\" , i) is not None ]\n",
    "Continuous_col2 = [\"weight\", \"rating\", \"height\", \"size\"]\n",
    "Continuous_col = cp.deepcopy(Continuous_col1)\n",
    "Continuous_col.extend(Continuous_col2) \n",
    "Categorical_col = list(set(columns).difference( set(Continuous_col)))\n",
    "##\n",
    "X_train = X_train[Continuous_col + Categorical_col  + [\"item_id\"]]\n",
    "X_test = X_test[Continuous_col + Categorical_col  + [\"item_id\"]]\n",
    "X_train.to_csv(\"Final_Train_2.csv\", index = False)\n",
    "X_test.to_csv(\"Final_Test_2.csv\", index = False)"
   ]
  },
  {
   "cell_type": "markdown",
   "metadata": {},
   "source": [
    "---"
   ]
  },
  {
   "cell_type": "code",
   "execution_count": 281,
   "metadata": {},
   "outputs": [
    {
     "name": "stdout",
     "output_type": "stream",
     "text": [
      "['fit', 'bust size', 'item_id', 'weight', 'rating', 'rented for', 'body type', 'category', 'height', 'size', 'age', 'month', 'day', 'year']\n"
     ]
    }
   ],
   "source": [
    "print(X_train.columns.tolist()[:-300])"
   ]
  },
  {
   "cell_type": "markdown",
   "metadata": {},
   "source": [
    "```\n",
    "\n",
    "##\n",
    "Replace_Column = [re.sub(\" \" , \"_\" , i) for i in X_train.columns.tolist()]\n",
    "X_train.columns = Replace_Column\n",
    "X_test.columns = Replace_Column\n",
    "\n",
    "## 값 컬럼 순서바꾸기\n",
    "X_train = X_train[Continuous_col + Categorical_col  + [\"item_id\"]]\n",
    "X_test = X_test[Continuous_col + Categorical_col  + [\"item_id\"]]\n",
    "\n",
    "X_train.to_csv(\"Final_Train_2.csv\", index = False)\n",
    "X_test.to_csv(\"Final_Test_2.csv\", index = False)\n",
    "```"
   ]
  },
  {
   "cell_type": "markdown",
   "metadata": {},
   "source": [
    "---\n",
    "---\n",
    "\n",
    "# **훈련 코드**\n",
    "\n",
    "* 필요한 것\n",
    "    * 잘 정리된 Table \n",
    "        * 이름\n",
    "        \n",
    "---\n",
    "---"
   ]
  },
  {
   "cell_type": "code",
   "execution_count": 1,
   "metadata": {},
   "outputs": [
    {
     "name": "stdout",
     "output_type": "stream",
     "text": [
      "\n",
      "    사용하면 좋은 패키지\n",
      "    train_validation_test_split / cat2dict / code2cat / colorlist / onehotencoding / roccurve  / ProbDensity\n",
      "    pycm import *  \n",
      "    ConfusionMatrix(actual_vector=``test_y``, predict_vector= ``pred`` ) \n",
      "    사용하면 통계량값 다 얻을 수 있음\n",
      "    \n"
     ]
    }
   ],
   "source": [
    "import pandas as pd\n",
    "import json\n",
    "import numpy as np , re\n",
    "import tensorflow as tf\n",
    "import seaborn as sns\n",
    "import matplotlib.pyplot as plt\n",
    "from sklearn import datasets , sys\n",
    "from sklearn.preprocessing import MinMaxScaler\n",
    "sys.path.append('/home/advice/Python/SR/Custom/')\n",
    "from jupyter_tensorboard import *\n",
    "from utility import *\n",
    "from Init import *\n",
    "from Activations import *\n",
    "from wasserstein import Wasserstein\n",
    "from IPython.display import clear_output\n",
    "import os , re\n",
    "import collections\n",
    "from collections import Counter\n",
    "import warnings"
   ]
  },
  {
   "cell_type": "code",
   "execution_count": 2,
   "metadata": {},
   "outputs": [],
   "source": [
    "X_train = pd.read_csv(\"Final_Train_2.csv\")\n",
    "X_test = pd.read_csv(\"Final_Test_2.csv\")"
   ]
  },
  {
   "cell_type": "markdown",
   "metadata": {},
   "source": [
    "## 쪼개서 넣어보기!\n",
    "\n",
    "---\n",
    "```\n",
    "def change_character(x) :\n",
    "    x = re.sub(\"\\W\",\"_\",x) \n",
    "    return x\n",
    "\n",
    "X_train[\"bust_size\"] = X_train[\"bust_size\"].apply(lambda x : change_character(x))\n",
    "X_test[\"bust_size\"] = X_test[\"bust_size\"].apply(lambda x : change_character(x))\n",
    "\n",
    "train_1 , train_2 = train_test_split(\n",
    "        X_train, test_size=int(X_train.shape[0] * 0.2), random_state=1234, \n",
    "     shuffle=True)\n",
    "\n",
    "train_1.to_csv(\"Final_Train_Split_1.csv\" , index = False)\n",
    "train_2.to_csv(\"Final_Train_Split_2.csv\" , index = False)\n",
    "X_train.to_csv(\"Final_Train_2.csv\" , index = False)\n",
    "X_test.to_csv(\"Final_Test_2.csv\" , index = False)\n",
    "\n",
    "```\n",
    "---"
   ]
  },
  {
   "cell_type": "code",
   "execution_count": 3,
   "metadata": {},
   "outputs": [],
   "source": [
    "# train_1 , train_2 = train_test_split(\n",
    "#         X_train, test_size=int(X_train.shape[0] * 0.4), random_state=1234, \n",
    "#      shuffle=True)\n",
    "\n",
    "# train_1.to_csv(\"Final_Train_Split_1.csv\" , index = False)\n",
    "# train_2.to_csv(\"Final_Train_Split_2.csv\" , index = False)"
   ]
  },
  {
   "cell_type": "code",
   "execution_count": 4,
   "metadata": {},
   "outputs": [],
   "source": [
    "## 필수!\n",
    "obj_list = X_train.select_dtypes(\"object\").columns.tolist()\n",
    "obj_list += [\"year\",\"day\"]\n",
    "uni_key = {}\n",
    "for i in obj_list :\n",
    "    uni_key[i] = list(set(X_train[i].unique().astype(str)) | set(X_test[i].unique().astype(str)))"
   ]
  },
  {
   "cell_type": "code",
   "execution_count": 5,
   "metadata": {},
   "outputs": [],
   "source": [
    "#uni_key"
   ]
  },
  {
   "cell_type": "code",
   "execution_count": 6,
   "metadata": {},
   "outputs": [],
   "source": [
    "label_info = pd.concat([X_train , X_test], axis = 0)[\"item_id\"].unique().tolist()"
   ]
  },
  {
   "cell_type": "code",
   "execution_count": 7,
   "metadata": {},
   "outputs": [],
   "source": [
    "columns = X_train.columns.tolist()\n",
    "columns.remove(\"item_id\")"
   ]
  },
  {
   "cell_type": "code",
   "execution_count": 8,
   "metadata": {},
   "outputs": [],
   "source": [
    "Continuous_col1 = [ i for i in columns if re.search(\"Item_Age\" , i) is not None ]"
   ]
  },
  {
   "cell_type": "code",
   "execution_count": 9,
   "metadata": {},
   "outputs": [],
   "source": [
    "Continuous_col2 = [\"weight\", \"rating\", \"height\", \"size\"]"
   ]
  },
  {
   "cell_type": "code",
   "execution_count": 10,
   "metadata": {},
   "outputs": [],
   "source": [
    "Categorical_col = list(set(columns).difference( set(Continuous_col1) | set(Continuous_col2)  ))"
   ]
  },
  {
   "cell_type": "code",
   "execution_count": 11,
   "metadata": {},
   "outputs": [
    {
     "name": "stdout",
     "output_type": "stream",
     "text": [
      "['fit', 'month', 'bust_size', 'rented_for', 'category', 'year', 'body_type', 'day', 'age']\n"
     ]
    }
   ],
   "source": [
    "print(Categorical_col)"
   ]
  },
  {
   "cell_type": "code",
   "execution_count": 12,
   "metadata": {},
   "outputs": [],
   "source": [
    "import copy as cp\n",
    "Continuous_col = cp.deepcopy(Continuous_col1)\n",
    "Continuous_col.extend(Continuous_col2) "
   ]
  },
  {
   "cell_type": "code",
   "execution_count": null,
   "metadata": {},
   "outputs": [],
   "source": []
  },
  {
   "cell_type": "code",
   "execution_count": 13,
   "metadata": {},
   "outputs": [],
   "source": [
    "#X_train.to_csv(\"Final_Train_2.csv\", index = False)\n",
    "#X_test.to_csv(\"Final_Test_2.csv\", index = False)"
   ]
  },
  {
   "cell_type": "code",
   "execution_count": 14,
   "metadata": {},
   "outputs": [],
   "source": [
    "Continous_base =\\\n",
    "[ tf.contrib.layers.real_valued_column( continuous ) for continuous in Continuous_col ]"
   ]
  },
  {
   "cell_type": "code",
   "execution_count": 15,
   "metadata": {},
   "outputs": [],
   "source": [
    "# Continous_base = []\n",
    "# for continuous in Continuous_col :\n",
    "#     if re.search(\"Item\" , continuous) :\n",
    "#         value = tf.contrib.layers.real_valued_column( continuous )\n",
    "#         Continous_base.append(value)\n",
    "#     else :\n",
    "#         value = tf.feature_column.numeric_column( continuous ) \n",
    "#         Continous_base.append(value)"
   ]
  },
  {
   "cell_type": "code",
   "execution_count": 16,
   "metadata": {},
   "outputs": [
    {
     "name": "stdout",
     "output_type": "stream",
     "text": [
      "['weight', 'rating', 'height', 'size']\n"
     ]
    }
   ],
   "source": [
    "print(Continuous_col[300:])"
   ]
  },
  {
   "cell_type": "code",
   "execution_count": 17,
   "metadata": {},
   "outputs": [],
   "source": [
    "numeric_type = Continuous_col[300:]\n",
    "quantile_ = X_train[numeric_type+ [\"year\", \"day\"]].describe( percentiles = [0.15 , 0.25, 0.5 , 0.75 , 0.85  ] ).reset_index()"
   ]
  },
  {
   "cell_type": "code",
   "execution_count": 18,
   "metadata": {},
   "outputs": [],
   "source": [
    "quantile_2 = quantile_[quantile_[\"index\"].str.contains(\"%\")].iloc[:,1:].astype(int)"
   ]
  },
  {
   "cell_type": "code",
   "execution_count": 19,
   "metadata": {},
   "outputs": [
    {
     "data": {
      "text/html": [
       "<div>\n",
       "<style scoped>\n",
       "    .dataframe tbody tr th:only-of-type {\n",
       "        vertical-align: middle;\n",
       "    }\n",
       "\n",
       "    .dataframe tbody tr th {\n",
       "        vertical-align: top;\n",
       "    }\n",
       "\n",
       "    .dataframe thead th {\n",
       "        text-align: right;\n",
       "    }\n",
       "</style>\n",
       "<table border=\"1\" class=\"dataframe\">\n",
       "  <thead>\n",
       "    <tr style=\"text-align: right;\">\n",
       "      <th></th>\n",
       "      <th>weight</th>\n",
       "      <th>rating</th>\n",
       "      <th>height</th>\n",
       "      <th>size</th>\n",
       "      <th>year</th>\n",
       "      <th>day</th>\n",
       "    </tr>\n",
       "  </thead>\n",
       "  <tbody>\n",
       "    <tr>\n",
       "      <th>4</th>\n",
       "      <td>54</td>\n",
       "      <td>8</td>\n",
       "      <td>157</td>\n",
       "      <td>4</td>\n",
       "      <td>2014</td>\n",
       "      <td>5</td>\n",
       "    </tr>\n",
       "    <tr>\n",
       "      <th>5</th>\n",
       "      <td>56</td>\n",
       "      <td>8</td>\n",
       "      <td>160</td>\n",
       "      <td>8</td>\n",
       "      <td>2015</td>\n",
       "      <td>8</td>\n",
       "    </tr>\n",
       "    <tr>\n",
       "      <th>6</th>\n",
       "      <td>61</td>\n",
       "      <td>10</td>\n",
       "      <td>165</td>\n",
       "      <td>12</td>\n",
       "      <td>2016</td>\n",
       "      <td>15</td>\n",
       "    </tr>\n",
       "    <tr>\n",
       "      <th>7</th>\n",
       "      <td>68</td>\n",
       "      <td>10</td>\n",
       "      <td>170</td>\n",
       "      <td>16</td>\n",
       "      <td>2017</td>\n",
       "      <td>23</td>\n",
       "    </tr>\n",
       "    <tr>\n",
       "      <th>8</th>\n",
       "      <td>72</td>\n",
       "      <td>10</td>\n",
       "      <td>172</td>\n",
       "      <td>20</td>\n",
       "      <td>2017</td>\n",
       "      <td>26</td>\n",
       "    </tr>\n",
       "  </tbody>\n",
       "</table>\n",
       "</div>"
      ],
      "text/plain": [
       "   weight  rating  height  size  year  day\n",
       "4      54       8     157     4  2014    5\n",
       "5      56       8     160     8  2015    8\n",
       "6      61      10     165    12  2016   15\n",
       "7      68      10     170    16  2017   23\n",
       "8      72      10     172    20  2017   26"
      ]
     },
     "execution_count": 19,
     "metadata": {},
     "output_type": "execute_result"
    }
   ],
   "source": [
    "quantile_2"
   ]
  },
  {
   "cell_type": "markdown",
   "metadata": {},
   "source": [
    "## bucketized Column [설명](https://locslab.github.io/Tensorflow-feature-columns(1)/)"
   ]
  },
  {
   "cell_type": "code",
   "execution_count": 20,
   "metadata": {},
   "outputs": [
    {
     "name": "stdout",
     "output_type": "stream",
     "text": [
      "['weight', 'rating', 'height', 'size']\n"
     ]
    }
   ],
   "source": [
    "print(Continuous_col[300:])"
   ]
  },
  {
   "cell_type": "code",
   "execution_count": 21,
   "metadata": {},
   "outputs": [],
   "source": [
    "bucket_list = []\n",
    "for idx , i in enumerate(Continuous_col[300:]) :\n",
    "    idx2 = idx + 300\n",
    "    if i in [\"weight\" , \"height\", \"size\"] :\n",
    "        bucket = tf.contrib.layers.bucketized_column(Continous_base[idx2] , \n",
    "                                                     boundaries= quantile_2[i].values.tolist()\n",
    "                                                    )\n",
    "        bucket_list.append(bucket)"
   ]
  },
  {
   "cell_type": "code",
   "execution_count": 22,
   "metadata": {},
   "outputs": [
    {
     "data": {
      "text/plain": [
       "[_BucketizedColumn(source_column=_RealValuedColumn(column_name='weight', dimension=1, default_value=None, dtype=tf.float32, normalizer=None), boundaries=(54, 56, 61, 68, 72)),\n",
       " _BucketizedColumn(source_column=_RealValuedColumn(column_name='height', dimension=1, default_value=None, dtype=tf.float32, normalizer=None), boundaries=(157, 160, 165, 170, 172)),\n",
       " _BucketizedColumn(source_column=_RealValuedColumn(column_name='size', dimension=1, default_value=None, dtype=tf.float32, normalizer=None), boundaries=(4, 8, 12, 16, 20))]"
      ]
     },
     "execution_count": 22,
     "metadata": {},
     "output_type": "execute_result"
    }
   ],
   "source": [
    "bucket_list"
   ]
  },
  {
   "cell_type": "markdown",
   "metadata": {},
   "source": [
    "\n",
    "* tf.feature_column.categorical_column_with_vocabulary_list [설명](https://stackoverflow.com/questions/48697799/tensorflow-feature-column-for-variable-list-of-values)\n",
    "    * vocab 으로써 개수를 세는 방법을 해놓은 것\n",
    "* tf.contrib.layers.sparse_column_with_hash_bucket [설명](https://liusida.github.io/2016/10/30/hash-bucket/)\n",
    "    * hash로 만든 다음 bucket_size로 나눠주는 방법이므로 흐음 글자가 아닌 경우에는 그냥하는게?\n",
    "    * 만약에 가능한 값의 세트를 미리 알 수 없다면 어떻게 해야 하나 ? 문제없다. 우리는 sparse_column_with_hash_bucket을 대신 사용할 수 있다. [설명2](https://tensorflowkorea.gitbooks.io/tensorflow-kr/content/g3doc/tutorials/wide/)\n",
    "        * 결국 train을 데이터만 가지고 했는데, 만약 새로운 것이 나올 수 있는 것이 있다면 hash를 쓰면 된다!\n"
   ]
  },
  {
   "cell_type": "code",
   "execution_count": 23,
   "metadata": {},
   "outputs": [
    {
     "name": "stdout",
     "output_type": "stream",
     "text": [
      "['fit', 'month', 'bust_size', 'rented_for', 'category', 'year', 'body_type', 'day', 'age']\n"
     ]
    }
   ],
   "source": [
    "print(Categorical_col)"
   ]
  },
  {
   "cell_type": "code",
   "execution_count": 24,
   "metadata": {},
   "outputs": [],
   "source": [
    "Categorical_base = []\n",
    "all_know = [\"year\", \"month\", \"day\" , \"age\" , \"fit\"]\n",
    "not_all_know = list(set(Categorical_col).difference(set(all_know)))\n",
    "for i in Categorical_col :\n",
    "    key = uni_key[i]\n",
    "    if i in  all_know :\n",
    "        value = tf.contrib.layers.sparse_column_with_keys(i , keys = key)\n",
    "        Categorical_base.append(value)\n",
    "    elif i in not_all_know : \n",
    "        bucket_size = 200 if len(key) > 10 else 100\n",
    "        value = tf.contrib.layers.sparse_column_with_hash_bucket(i ,\n",
    "                                                                 hash_bucket_size= bucket_size  )\n",
    "        Categorical_base.append(value)"
   ]
  },
  {
   "cell_type": "markdown",
   "metadata": {},
   "source": [
    "## 변수들간에 **Cross Column** 그 후에 one hot encoding\n",
    "\n",
    "[설명1](https://excelsior-cjh.tistory.com/175)"
   ]
  },
  {
   "cell_type": "code",
   "execution_count": 25,
   "metadata": {},
   "outputs": [],
   "source": [
    "import itertools\n",
    "Cross_Columns = []\n",
    "for ii in range(2,  3 ):\n",
    "    for subset in itertools.combinations(Categorical_base   , ii):\n",
    "        cross_tf = tf.contrib.layers.crossed_column\\\n",
    "            (list(subset) ,hash_bucket_size=int(1e4) ,)\n",
    "        cross_tf = tf.feature_column.indicator_column(cross_tf)\n",
    "        Cross_Columns.append(cross_tf)\n",
    "\n",
    "for ii in range(2,  3 ):\n",
    "    for subset in itertools.combinations(bucket_list   , ii):\n",
    "        cross_tf = tf.contrib.layers.crossed_column\\\n",
    "            (list(subset) ,hash_bucket_size=int(1e4) ,)\n",
    "        cross_tf = tf.feature_column.indicator_column(cross_tf)\n",
    "        Cross_Columns.append(cross_tf)\n"
   ]
  },
  {
   "cell_type": "code",
   "execution_count": 26,
   "metadata": {},
   "outputs": [
    {
     "name": "stdout",
     "output_type": "stream",
     "text": [
      "39\n"
     ]
    },
    {
     "data": {
      "text/plain": [
       "[IndicatorColumn(categorical_column=_CrossedColumn(columns=(_SparseColumnKeys(column_name='fit', is_integerized=False, bucket_size=None, lookup_config=_SparseIdLookupConfig(vocabulary_file=None, keys=('fit', 'large', 'small'), num_oov_buckets=0, vocab_size=3, default_value=-1), combiner='sum', dtype=tf.string), _SparseColumnKeys(column_name='month', is_integerized=False, bucket_size=None, lookup_config=_SparseIdLookupConfig(vocabulary_file=None, keys=('February', 'November', 'December', 'September', 'January', 'April', 'March', 'June', 'May', 'October', 'August', 'July'), num_oov_buckets=0, vocab_size=12, default_value=-1), combiner='sum', dtype=tf.string)), hash_bucket_size=10000, hash_key=None, combiner='sum', ckpt_to_load_from=None, tensor_name_in_ckpt=None)),\n",
       " IndicatorColumn(categorical_column=_CrossedColumn(columns=(_SparseColumnHashed(column_name='bust_size', is_integerized=False, bucket_size=200, lookup_config=None, combiner='sum', dtype=tf.string), _SparseColumnKeys(column_name='fit', is_integerized=False, bucket_size=None, lookup_config=_SparseIdLookupConfig(vocabulary_file=None, keys=('fit', 'large', 'small'), num_oov_buckets=0, vocab_size=3, default_value=-1), combiner='sum', dtype=tf.string)), hash_bucket_size=10000, hash_key=None, combiner='sum', ckpt_to_load_from=None, tensor_name_in_ckpt=None))]"
      ]
     },
     "execution_count": 26,
     "metadata": {},
     "output_type": "execute_result"
    }
   ],
   "source": [
    "print(len(Cross_Columns))\n",
    "Cross_Columns[0:2]"
   ]
  },
  {
   "cell_type": "markdown",
   "metadata": {},
   "source": [
    "## 여기에 넣어야 할 듯"
   ]
  },
  {
   "cell_type": "code",
   "execution_count": 27,
   "metadata": {},
   "outputs": [],
   "source": [
    "wide_columns  = Categorical_base +\\\n",
    "Cross_Columns + Continous_base[0:300] + bucket_list"
   ]
  },
  {
   "cell_type": "code",
   "execution_count": 28,
   "metadata": {},
   "outputs": [
    {
     "name": "stdout",
     "output_type": "stream",
     "text": [
      "351\n"
     ]
    },
    {
     "data": {
      "text/plain": [
       "[_SparseColumnKeys(column_name='fit', is_integerized=False, bucket_size=None, lookup_config=_SparseIdLookupConfig(vocabulary_file=None, keys=('fit', 'large', 'small'), num_oov_buckets=0, vocab_size=3, default_value=-1), combiner='sum', dtype=tf.string),\n",
       " _SparseColumnKeys(column_name='month', is_integerized=False, bucket_size=None, lookup_config=_SparseIdLookupConfig(vocabulary_file=None, keys=('February', 'November', 'December', 'September', 'January', 'April', 'March', 'June', 'May', 'October', 'August', 'July'), num_oov_buckets=0, vocab_size=12, default_value=-1), combiner='sum', dtype=tf.string)]"
      ]
     },
     "execution_count": 28,
     "metadata": {},
     "output_type": "execute_result"
    }
   ],
   "source": [
    "print(len(wide_columns))\n",
    "wide_columns[0:2]"
   ]
  },
  {
   "cell_type": "code",
   "execution_count": 29,
   "metadata": {},
   "outputs": [
    {
     "data": {
      "text/plain": [
       "['fit',\n",
       " 'month',\n",
       " 'bust_size',\n",
       " 'rented_for',\n",
       " 'category',\n",
       " 'year',\n",
       " 'body_type',\n",
       " 'day',\n",
       " 'age']"
      ]
     },
     "execution_count": 29,
     "metadata": {},
     "output_type": "execute_result"
    }
   ],
   "source": [
    "Categorical_col"
   ]
  },
  {
   "cell_type": "code",
   "execution_count": 30,
   "metadata": {},
   "outputs": [
    {
     "data": {
      "text/plain": [
       "_SparseColumnKeys(column_name='fit', is_integerized=False, bucket_size=None, lookup_config=_SparseIdLookupConfig(vocabulary_file=None, keys=('fit', 'large', 'small'), num_oov_buckets=0, vocab_size=3, default_value=-1), combiner='sum', dtype=tf.string)"
      ]
     },
     "execution_count": 30,
     "metadata": {},
     "output_type": "execute_result"
    }
   ],
   "source": [
    "Categorical_base[0]"
   ]
  },
  {
   "cell_type": "markdown",
   "metadata": {},
   "source": [
    "## Embedding Column"
   ]
  },
  {
   "cell_type": "code",
   "execution_count": 31,
   "metadata": {},
   "outputs": [
    {
     "name": "stdout",
     "output_type": "stream",
     "text": [
      "['month', 'bust_size', 'rented_for', 'category', 'year', 'body_type', 'day', 'age']\n"
     ]
    }
   ],
   "source": [
    "Emb_Col = list(set(Categorical_col).difference(set([\"fit\"])))\n",
    "print(Emb_Col)"
   ]
  },
  {
   "cell_type": "code",
   "execution_count": 32,
   "metadata": {},
   "outputs": [
    {
     "name": "stdout",
     "output_type": "stream",
     "text": [
      "fit\n",
      "WARNING:tensorflow:The default stddev value of initializer was changed from \"1/sqrt(vocab_size)\" to \"1/sqrt(dimension)\" in core implementation (tf.feature_column.embedding_column).\n",
      "month\n",
      "WARNING:tensorflow:The default stddev value of initializer was changed from \"1/sqrt(vocab_size)\" to \"1/sqrt(dimension)\" in core implementation (tf.feature_column.embedding_column).\n",
      "bust_size\n",
      "WARNING:tensorflow:The default stddev value of initializer was changed from \"1/sqrt(vocab_size)\" to \"1/sqrt(dimension)\" in core implementation (tf.feature_column.embedding_column).\n",
      "category\n",
      "WARNING:tensorflow:The default stddev value of initializer was changed from \"1/sqrt(vocab_size)\" to \"1/sqrt(dimension)\" in core implementation (tf.feature_column.embedding_column).\n",
      "year\n",
      "WARNING:tensorflow:The default stddev value of initializer was changed from \"1/sqrt(vocab_size)\" to \"1/sqrt(dimension)\" in core implementation (tf.feature_column.embedding_column).\n",
      "body_type\n",
      "WARNING:tensorflow:The default stddev value of initializer was changed from \"1/sqrt(vocab_size)\" to \"1/sqrt(dimension)\" in core implementation (tf.feature_column.embedding_column).\n",
      "day\n",
      "WARNING:tensorflow:The default stddev value of initializer was changed from \"1/sqrt(vocab_size)\" to \"1/sqrt(dimension)\" in core implementation (tf.feature_column.embedding_column).\n",
      "age\n",
      "WARNING:tensorflow:The default stddev value of initializer was changed from \"1/sqrt(vocab_size)\" to \"1/sqrt(dimension)\" in core implementation (tf.feature_column.embedding_column).\n"
     ]
    }
   ],
   "source": [
    "embed_col = []\n",
    "for idx , i in enumerate(Categorical_col) :\n",
    "    if idx == 3 :\n",
    "        continue\n",
    "    print(i)\n",
    "    base = Categorical_base[idx]\n",
    "    key = uni_key[i]\n",
    "    emb = tf.contrib.layers.embedding_column(base , dimension= int(len(key)/2))\n",
    "    embed_col.append(emb)"
   ]
  },
  {
   "cell_type": "markdown",
   "metadata": {},
   "source": [
    "## Deep Columns"
   ]
  },
  {
   "cell_type": "code",
   "execution_count": 33,
   "metadata": {},
   "outputs": [],
   "source": [
    "deep_columns = embed_col + Continous_base  # + bucket_list  # [0:300]"
   ]
  },
  {
   "cell_type": "code",
   "execution_count": 34,
   "metadata": {},
   "outputs": [
    {
     "name": "stdout",
     "output_type": "stream",
     "text": [
      "312\n"
     ]
    },
    {
     "data": {
      "text/plain": [
       "[_EmbeddingColumn(sparse_id_column=_SparseColumnKeys(column_name='fit', is_integerized=False, bucket_size=None, lookup_config=_SparseIdLookupConfig(vocabulary_file=None, keys=('fit', 'large', 'small'), num_oov_buckets=0, vocab_size=3, default_value=-1), combiner='sum', dtype=tf.string), dimension=1, combiner='mean', initializer=<tensorflow.python.ops.init_ops.TruncatedNormal object at 0x7f8496260f98>, ckpt_to_load_from=None, tensor_name_in_ckpt=None, shared_embedding_name=None, shared_vocab_size=None, max_norm=None, trainable=True),\n",
       " _EmbeddingColumn(sparse_id_column=_SparseColumnKeys(column_name='month', is_integerized=False, bucket_size=None, lookup_config=_SparseIdLookupConfig(vocabulary_file=None, keys=('February', 'November', 'December', 'September', 'January', 'April', 'March', 'June', 'May', 'October', 'August', 'July'), num_oov_buckets=0, vocab_size=12, default_value=-1), combiner='sum', dtype=tf.string), dimension=6, combiner='mean', initializer=<tensorflow.python.ops.init_ops.TruncatedNormal object at 0x7f8496260fd0>, ckpt_to_load_from=None, tensor_name_in_ckpt=None, shared_embedding_name=None, shared_vocab_size=None, max_norm=None, trainable=True),\n",
       " _EmbeddingColumn(sparse_id_column=_SparseColumnHashed(column_name='bust_size', is_integerized=False, bucket_size=200, lookup_config=None, combiner='sum', dtype=tf.string), dimension=53, combiner='mean', initializer=<tensorflow.python.ops.init_ops.TruncatedNormal object at 0x7f8496260f60>, ckpt_to_load_from=None, tensor_name_in_ckpt=None, shared_embedding_name=None, shared_vocab_size=None, max_norm=None, trainable=True),\n",
       " _EmbeddingColumn(sparse_id_column=_SparseColumnHashed(column_name='category', is_integerized=False, bucket_size=200, lookup_config=None, combiner='sum', dtype=tf.string), dimension=34, combiner='mean', initializer=<tensorflow.python.ops.init_ops.TruncatedNormal object at 0x7f8496260f28>, ckpt_to_load_from=None, tensor_name_in_ckpt=None, shared_embedding_name=None, shared_vocab_size=None, max_norm=None, trainable=True)]"
      ]
     },
     "execution_count": 34,
     "metadata": {},
     "output_type": "execute_result"
    }
   ],
   "source": [
    "print(len(deep_columns))\n",
    "deep_columns[0:4]"
   ]
  },
  {
   "cell_type": "code",
   "execution_count": 52,
   "metadata": {},
   "outputs": [
    {
     "name": "stdout",
     "output_type": "stream",
     "text": [
      "INFO:tensorflow:Using config: {'_model_dir': '/var/disk/Cloth_Rec', '_tf_random_seed': None, '_save_summary_steps': 100, '_save_checkpoints_steps': None, '_save_checkpoints_secs': 600, '_session_config': device_count {\n",
      "  key: \"GPU\"\n",
      "}\n",
      "intra_op_parallelism_threads: 12\n",
      "inter_op_parallelism_threads: 12\n",
      "gpu_options {\n",
      "  allow_growth: true\n",
      "}\n",
      ", '_keep_checkpoint_max': 5, '_keep_checkpoint_every_n_hours': 10000, '_log_step_count_steps': 100, '_train_distribute': None, '_device_fn': None, '_protocol': None, '_eval_distribute': None, '_experimental_distribute': None, '_service': None, '_cluster_spec': <tensorflow.python.training.server_lib.ClusterSpec object at 0x7f843f80ce80>, '_task_type': 'worker', '_task_id': 0, '_global_id_in_cluster': 0, '_master': '', '_evaluation_master': '', '_is_chief': True, '_num_ps_replicas': 0, '_num_worker_replicas': 1}\n"
     ]
    }
   ],
   "source": [
    "inter_op = 12\n",
    "intra_op = 12\n",
    "config = tf.ConfigProto(device_count={'GPU': 0},\n",
    "                        log_device_placement=False , \n",
    "                        inter_op_parallelism_threads=inter_op,\n",
    "                        intra_op_parallelism_threads=intra_op)\n",
    "config.gpu_options.allow_growth = True\n",
    "run_config = tf.estimator.RunConfig().replace(\n",
    "    session_config=config)\n",
    "model_dir = \"/var/disk/Cloth_Rec\"\n",
    "m = tf.estimator.DNNLinearCombinedClassifier(\n",
    "    model_dir=model_dir,\n",
    "    linear_feature_columns=wide_columns,\n",
    "    dnn_feature_columns=deep_columns,\n",
    "    dnn_activation_fn=tf.nn.leaky_relu ,\n",
    "    n_classes = len(np.unique(label_info))  , \n",
    "    batch_norm = True,\n",
    "    dnn_dropout = 0.3,\n",
    "    dnn_hidden_units=[200 ,  150 , 100 , 50],\n",
    "    dnn_optimizer= tf.train.ProximalAdagradOptimizer(\n",
    "        learning_rate=0.01,\n",
    "        l1_regularization_strength=0.001,\n",
    "        l2_regularization_strength=0.001),\n",
    "    linear_optimizer= tf.train.ProximalAdagradOptimizer(\n",
    "        learning_rate=0.01,\n",
    "        l1_regularization_strength=0.001,\n",
    "        l2_regularization_strength=0.001),\n",
    "    config=run_config,\n",
    "#     warm_start_from= \"/var/disk/Cloth_Rec/\" 안됨\n",
    ") "
   ]
  },
  {
   "cell_type": "code",
   "execution_count": 36,
   "metadata": {},
   "outputs": [],
   "source": [
    "Columns = X_train.columns.tolist()\n",
    "CONTINUOUS_COLUMNS = Continuous_col\n",
    "CATEGORICAL_COLUMNS = Categorical_col"
   ]
  },
  {
   "cell_type": "code",
   "execution_count": 37,
   "metadata": {},
   "outputs": [],
   "source": [
    "assert len(Columns) == len(CONTINUOUS_COLUMNS) + len(CATEGORICAL_COLUMNS) + 1"
   ]
  },
  {
   "cell_type": "code",
   "execution_count": 38,
   "metadata": {},
   "outputs": [
    {
     "data": {
      "text/plain": [
       "['fit',\n",
       " 'month',\n",
       " 'bust_size',\n",
       " 'rented_for',\n",
       " 'category',\n",
       " 'year',\n",
       " 'body_type',\n",
       " 'day',\n",
       " 'age']"
      ]
     },
     "execution_count": 38,
     "metadata": {},
     "output_type": "execute_result"
    }
   ],
   "source": [
    "len(Categorical_col)\n",
    "Categorical_col"
   ]
  },
  {
   "cell_type": "code",
   "execution_count": 39,
   "metadata": {},
   "outputs": [],
   "source": [
    "_CSV_COLUMNS = Columns\n",
    "_CSV_COLUMN_DEFAULTS = [[0.0]] * len(Continuous_col) +\\\n",
    "[[\"\"]] * (len(Categorical_col) )+\\\n",
    "[[0]] * 1"
   ]
  },
  {
   "cell_type": "code",
   "execution_count": 40,
   "metadata": {},
   "outputs": [
    {
     "data": {
      "text/plain": [
       "(['weight',\n",
       "  'rating',\n",
       "  'height',\n",
       "  'size',\n",
       "  'year',\n",
       "  'month',\n",
       "  'body_type',\n",
       "  'fit',\n",
       "  'category',\n",
       "  'bust_size',\n",
       "  'age',\n",
       "  'rented_for',\n",
       "  'day',\n",
       "  'item_id'],\n",
       " [[0.0],\n",
       "  [0.0],\n",
       "  [0.0],\n",
       "  [0.0],\n",
       "  [''],\n",
       "  [''],\n",
       "  [''],\n",
       "  [''],\n",
       "  [''],\n",
       "  [''],\n",
       "  [''],\n",
       "  [''],\n",
       "  [''],\n",
       "  [0]])"
      ]
     },
     "execution_count": 40,
     "metadata": {},
     "output_type": "execute_result"
    }
   ],
   "source": [
    "assert len(_CSV_COLUMNS) == len(_CSV_COLUMN_DEFAULTS)\n",
    "_CSV_COLUMNS[300:], _CSV_COLUMN_DEFAULTS[300:]"
   ]
  },
  {
   "cell_type": "code",
   "execution_count": 41,
   "metadata": {},
   "outputs": [],
   "source": [
    "def input_fn(data_file, num_epochs, shuffle, batch_size , Eval ):\n",
    "    def parse_csv(data_file ):\n",
    "        #print('Parsing', data_file)\n",
    "        columns = tf.decode_csv(data_file , record_defaults=_CSV_COLUMN_DEFAULTS)\n",
    "        features = dict(zip(_CSV_COLUMNS, columns))\n",
    "        labels = features.pop('item_id')\n",
    "        return features, labels\n",
    "    \n",
    "    dataset = tf.data.TextLineDataset(data_file).skip(1)\n",
    "    dataset = dataset.map(parse_csv, num_parallel_calls=30)\n",
    "    if shuffle :\n",
    "        dataset = dataset.shuffle(buffer_size=10000) \n",
    "    if Eval == \"train\" :\n",
    "        dataset = dataset.repeat(num_epochs)\n",
    "        dataset = dataset.batch(batch_size , drop_remainder= True)\n",
    "    else :\n",
    "        dataset = dataset.repeat(1)\n",
    "        dataset = dataset.batch(batch_size , drop_remainder= True)\n",
    "    iterator = dataset.make_one_shot_iterator()\n",
    "    batch_features, batch_labels = iterator.get_next()\n",
    "    return batch_features, batch_labels\n",
    "\n",
    "def train_input_fn():\n",
    "    return input_fn(data_file = \"./Final_Train_2.csv\" ,\n",
    "                    num_epochs= 10 ,\n",
    "                    shuffle= True ,\n",
    "                    batch_size= 256,\n",
    "                    Eval = \"train\"\n",
    "                   )\n",
    "\n",
    "def test_input_fn():\n",
    "    return input_fn(data_file = \"./Final_Test_2.csv\" ,\n",
    "                    num_epochs= 1 ,\n",
    "                    shuffle= False ,\n",
    "                    batch_size= 1,\n",
    "                    Eval = \"test\"\n",
    "                   )\n",
    "\n",
    "def csv_input(data):\n",
    "    continuous_cols = {k: tf.constant(data[k].values)\n",
    "                       for k in CONTINUOUS_COLUMNS}\n",
    "    categorical_cols = {k: tf.SparseTensor( indices=[[i, 0] for i in range(data[k].size)], values=data[k].astype(str).values , \n",
    "                                           dense_shape=[data[k].size, 1] ) for k in CATEGORICAL_COLUMNS}\n",
    "\n",
    "    feature_cols = {**continuous_cols , **categorical_cols}\n",
    "    labels = data[\"item_id\"]\n",
    "    return feature_cols , labels\n",
    "\n",
    "def csv_input_fn():\n",
    "    csv = csv_input(data = X_test)    \n",
    "    return csv"
   ]
  },
  {
   "cell_type": "code",
   "execution_count": 42,
   "metadata": {},
   "outputs": [],
   "source": [
    "del X_train"
   ]
  },
  {
   "cell_type": "markdown",
   "metadata": {},
   "source": [
    "---\n",
    "\n",
    "## 훈련\n",
    "\n",
    "* 문제점\n",
    "    * 모델이 저장이 안된다 흐음.......................\n",
    "---"
   ]
  },
  {
   "cell_type": "code",
   "execution_count": 54,
   "metadata": {},
   "outputs": [
    {
     "name": "stdout",
     "output_type": "stream",
     "text": [
      "Results at epoch 80\n",
      "==============================\n",
      "accuracy: 0.075669646\n",
      "average_loss: 5.601428\n",
      "global_step: 6736\n",
      "loss: 716.9828\n",
      "INFO:tensorflow:Calling model_fn.\n",
      "INFO:tensorflow:Done calling model_fn.\n",
      "INFO:tensorflow:Create CheckpointSaverHook.\n",
      "INFO:tensorflow:Graph was finalized.\n",
      "INFO:tensorflow:Restoring parameters from /var/disk/Cloth_Rec/model.ckpt-6736\n",
      "INFO:tensorflow:Running local_init_op.\n",
      "INFO:tensorflow:Done running local_init_op.\n",
      "INFO:tensorflow:Saving checkpoints for 6736 into /var/disk/Cloth_Rec/model.ckpt.\n",
      "INFO:tensorflow:loss = 680.12616, step = 6737\n",
      "INFO:tensorflow:Saving checkpoints for 6797 into /var/disk/Cloth_Rec/model.ckpt.\n",
      "INFO:tensorflow:global_step/sec: 0.0980303\n",
      "INFO:tensorflow:loss = 651.86304, step = 6837 (1020.097 sec)\n",
      "INFO:tensorflow:Saving checkpoints for 6854 into /var/disk/Cloth_Rec/model.ckpt.\n",
      "INFO:tensorflow:Saving checkpoints for 6911 into /var/disk/Cloth_Rec/model.ckpt.\n",
      "INFO:tensorflow:global_step/sec: 0.0930374\n",
      "INFO:tensorflow:loss = 642.81714, step = 6937 (1074.836 sec)\n",
      "INFO:tensorflow:Saving checkpoints for 6968 into /var/disk/Cloth_Rec/model.ckpt.\n",
      "INFO:tensorflow:Saving checkpoints for 7026 into /var/disk/Cloth_Rec/model.ckpt.\n",
      "INFO:tensorflow:global_step/sec: 0.0936582\n",
      "INFO:tensorflow:loss = 628.7968, step = 7037 (1067.712 sec)\n",
      "INFO:tensorflow:Saving checkpoints for 7083 into /var/disk/Cloth_Rec/model.ckpt.\n",
      "INFO:tensorflow:global_step/sec: 0.099142\n",
      "INFO:tensorflow:loss = 647.14465, step = 7137 (1008.654 sec)\n",
      "INFO:tensorflow:Saving checkpoints for 7141 into /var/disk/Cloth_Rec/model.ckpt.\n",
      "INFO:tensorflow:Saving checkpoints for 7198 into /var/disk/Cloth_Rec/model.ckpt.\n",
      "INFO:tensorflow:global_step/sec: 0.0934973\n",
      "INFO:tensorflow:loss = 635.6045, step = 7237 (1069.549 sec)\n",
      "INFO:tensorflow:Saving checkpoints for 7255 into /var/disk/Cloth_Rec/model.ckpt.\n",
      "INFO:tensorflow:Saving checkpoints for 7312 into /var/disk/Cloth_Rec/model.ckpt.\n",
      "INFO:tensorflow:global_step/sec: 0.0931853\n",
      "INFO:tensorflow:loss = 674.2286, step = 7337 (1073.130 sec)\n"
     ]
    },
    {
     "ename": "KeyboardInterrupt",
     "evalue": "",
     "output_type": "error",
     "traceback": [
      "\u001b[0;31m---------------------------------------------------------------------------\u001b[0m",
      "\u001b[0;31mKeyboardInterrupt\u001b[0m                         Traceback (most recent call last)",
      "\u001b[0;32m<ipython-input-54-02fb9289eb2c>\u001b[0m in \u001b[0;36m<module>\u001b[0;34m\u001b[0m\n\u001b[1;32m      4\u001b[0m \u001b[0mepochs_per_eval\u001b[0m \u001b[0;34m=\u001b[0m \u001b[0;36m10\u001b[0m\u001b[0;34m\u001b[0m\u001b[0;34m\u001b[0m\u001b[0m\n\u001b[1;32m      5\u001b[0m \u001b[0;32mfor\u001b[0m \u001b[0mn\u001b[0m \u001b[0;32min\u001b[0m \u001b[0mrange\u001b[0m\u001b[0;34m(\u001b[0m\u001b[0mtrain_epochs\u001b[0m \u001b[0;34m//\u001b[0m \u001b[0mepochs_per_eval\u001b[0m \u001b[0;34m)\u001b[0m\u001b[0;34m:\u001b[0m\u001b[0;34m\u001b[0m\u001b[0;34m\u001b[0m\u001b[0m\n\u001b[0;32m----> 6\u001b[0;31m     m.train(input_fn=lambda: input_fn(\n\u001b[0m\u001b[1;32m      7\u001b[0m         \"./Final_Train_Split_1.csv\" , 1 , True, 128 ,\"train\"))\n\u001b[1;32m      8\u001b[0m     results = m.evaluate(input_fn=lambda: input_fn(\n",
      "\u001b[0;32m~/anaconda3/lib/python3.6/site-packages/tensorflow_estimator/python/estimator/estimator.py\u001b[0m in \u001b[0;36mtrain\u001b[0;34m(self, input_fn, hooks, steps, max_steps, saving_listeners)\u001b[0m\n\u001b[1;32m    356\u001b[0m \u001b[0;34m\u001b[0m\u001b[0m\n\u001b[1;32m    357\u001b[0m       \u001b[0msaving_listeners\u001b[0m \u001b[0;34m=\u001b[0m \u001b[0m_check_listeners_type\u001b[0m\u001b[0;34m(\u001b[0m\u001b[0msaving_listeners\u001b[0m\u001b[0;34m)\u001b[0m\u001b[0;34m\u001b[0m\u001b[0;34m\u001b[0m\u001b[0m\n\u001b[0;32m--> 358\u001b[0;31m       \u001b[0mloss\u001b[0m \u001b[0;34m=\u001b[0m \u001b[0mself\u001b[0m\u001b[0;34m.\u001b[0m\u001b[0m_train_model\u001b[0m\u001b[0;34m(\u001b[0m\u001b[0minput_fn\u001b[0m\u001b[0;34m,\u001b[0m \u001b[0mhooks\u001b[0m\u001b[0;34m,\u001b[0m \u001b[0msaving_listeners\u001b[0m\u001b[0;34m)\u001b[0m\u001b[0;34m\u001b[0m\u001b[0;34m\u001b[0m\u001b[0m\n\u001b[0m\u001b[1;32m    359\u001b[0m       \u001b[0mlogging\u001b[0m\u001b[0;34m.\u001b[0m\u001b[0minfo\u001b[0m\u001b[0;34m(\u001b[0m\u001b[0;34m'Loss for final step: %s.'\u001b[0m\u001b[0;34m,\u001b[0m \u001b[0mloss\u001b[0m\u001b[0;34m)\u001b[0m\u001b[0;34m\u001b[0m\u001b[0;34m\u001b[0m\u001b[0m\n\u001b[1;32m    360\u001b[0m       \u001b[0;32mreturn\u001b[0m \u001b[0mself\u001b[0m\u001b[0;34m\u001b[0m\u001b[0;34m\u001b[0m\u001b[0m\n",
      "\u001b[0;32m~/anaconda3/lib/python3.6/site-packages/tensorflow_estimator/python/estimator/estimator.py\u001b[0m in \u001b[0;36m_train_model\u001b[0;34m(self, input_fn, hooks, saving_listeners)\u001b[0m\n\u001b[1;32m   1122\u001b[0m       \u001b[0;32mreturn\u001b[0m \u001b[0mself\u001b[0m\u001b[0;34m.\u001b[0m\u001b[0m_train_model_distributed\u001b[0m\u001b[0;34m(\u001b[0m\u001b[0minput_fn\u001b[0m\u001b[0;34m,\u001b[0m \u001b[0mhooks\u001b[0m\u001b[0;34m,\u001b[0m \u001b[0msaving_listeners\u001b[0m\u001b[0;34m)\u001b[0m\u001b[0;34m\u001b[0m\u001b[0;34m\u001b[0m\u001b[0m\n\u001b[1;32m   1123\u001b[0m     \u001b[0;32melse\u001b[0m\u001b[0;34m:\u001b[0m\u001b[0;34m\u001b[0m\u001b[0;34m\u001b[0m\u001b[0m\n\u001b[0;32m-> 1124\u001b[0;31m       \u001b[0;32mreturn\u001b[0m \u001b[0mself\u001b[0m\u001b[0;34m.\u001b[0m\u001b[0m_train_model_default\u001b[0m\u001b[0;34m(\u001b[0m\u001b[0minput_fn\u001b[0m\u001b[0;34m,\u001b[0m \u001b[0mhooks\u001b[0m\u001b[0;34m,\u001b[0m \u001b[0msaving_listeners\u001b[0m\u001b[0;34m)\u001b[0m\u001b[0;34m\u001b[0m\u001b[0;34m\u001b[0m\u001b[0m\n\u001b[0m\u001b[1;32m   1125\u001b[0m \u001b[0;34m\u001b[0m\u001b[0m\n\u001b[1;32m   1126\u001b[0m   \u001b[0;32mdef\u001b[0m \u001b[0m_train_model_default\u001b[0m\u001b[0;34m(\u001b[0m\u001b[0mself\u001b[0m\u001b[0;34m,\u001b[0m \u001b[0minput_fn\u001b[0m\u001b[0;34m,\u001b[0m \u001b[0mhooks\u001b[0m\u001b[0;34m,\u001b[0m \u001b[0msaving_listeners\u001b[0m\u001b[0;34m)\u001b[0m\u001b[0;34m:\u001b[0m\u001b[0;34m\u001b[0m\u001b[0;34m\u001b[0m\u001b[0m\n",
      "\u001b[0;32m~/anaconda3/lib/python3.6/site-packages/tensorflow_estimator/python/estimator/estimator.py\u001b[0m in \u001b[0;36m_train_model_default\u001b[0;34m(self, input_fn, hooks, saving_listeners)\u001b[0m\n\u001b[1;32m   1156\u001b[0m       return self._train_with_estimator_spec(estimator_spec, worker_hooks,\n\u001b[1;32m   1157\u001b[0m                                              \u001b[0mhooks\u001b[0m\u001b[0;34m,\u001b[0m \u001b[0mglobal_step_tensor\u001b[0m\u001b[0;34m,\u001b[0m\u001b[0;34m\u001b[0m\u001b[0;34m\u001b[0m\u001b[0m\n\u001b[0;32m-> 1158\u001b[0;31m                                              saving_listeners)\n\u001b[0m\u001b[1;32m   1159\u001b[0m \u001b[0;34m\u001b[0m\u001b[0m\n\u001b[1;32m   1160\u001b[0m   \u001b[0;32mdef\u001b[0m \u001b[0m_train_model_distributed\u001b[0m\u001b[0;34m(\u001b[0m\u001b[0mself\u001b[0m\u001b[0;34m,\u001b[0m \u001b[0minput_fn\u001b[0m\u001b[0;34m,\u001b[0m \u001b[0mhooks\u001b[0m\u001b[0;34m,\u001b[0m \u001b[0msaving_listeners\u001b[0m\u001b[0;34m)\u001b[0m\u001b[0;34m:\u001b[0m\u001b[0;34m\u001b[0m\u001b[0;34m\u001b[0m\u001b[0m\n",
      "\u001b[0;32m~/anaconda3/lib/python3.6/site-packages/tensorflow_estimator/python/estimator/estimator.py\u001b[0m in \u001b[0;36m_train_with_estimator_spec\u001b[0;34m(self, estimator_spec, worker_hooks, hooks, global_step_tensor, saving_listeners)\u001b[0m\n\u001b[1;32m   1405\u001b[0m       \u001b[0many_step_done\u001b[0m \u001b[0;34m=\u001b[0m \u001b[0;32mFalse\u001b[0m\u001b[0;34m\u001b[0m\u001b[0;34m\u001b[0m\u001b[0m\n\u001b[1;32m   1406\u001b[0m       \u001b[0;32mwhile\u001b[0m \u001b[0;32mnot\u001b[0m \u001b[0mmon_sess\u001b[0m\u001b[0;34m.\u001b[0m\u001b[0mshould_stop\u001b[0m\u001b[0;34m(\u001b[0m\u001b[0;34m)\u001b[0m\u001b[0;34m:\u001b[0m\u001b[0;34m\u001b[0m\u001b[0;34m\u001b[0m\u001b[0m\n\u001b[0;32m-> 1407\u001b[0;31m         \u001b[0m_\u001b[0m\u001b[0;34m,\u001b[0m \u001b[0mloss\u001b[0m \u001b[0;34m=\u001b[0m \u001b[0mmon_sess\u001b[0m\u001b[0;34m.\u001b[0m\u001b[0mrun\u001b[0m\u001b[0;34m(\u001b[0m\u001b[0;34m[\u001b[0m\u001b[0mestimator_spec\u001b[0m\u001b[0;34m.\u001b[0m\u001b[0mtrain_op\u001b[0m\u001b[0;34m,\u001b[0m \u001b[0mestimator_spec\u001b[0m\u001b[0;34m.\u001b[0m\u001b[0mloss\u001b[0m\u001b[0;34m]\u001b[0m\u001b[0;34m)\u001b[0m\u001b[0;34m\u001b[0m\u001b[0;34m\u001b[0m\u001b[0m\n\u001b[0m\u001b[1;32m   1408\u001b[0m         \u001b[0many_step_done\u001b[0m \u001b[0;34m=\u001b[0m \u001b[0;32mTrue\u001b[0m\u001b[0;34m\u001b[0m\u001b[0;34m\u001b[0m\u001b[0m\n\u001b[1;32m   1409\u001b[0m     \u001b[0;32mif\u001b[0m \u001b[0;32mnot\u001b[0m \u001b[0many_step_done\u001b[0m\u001b[0;34m:\u001b[0m\u001b[0;34m\u001b[0m\u001b[0;34m\u001b[0m\u001b[0m\n",
      "\u001b[0;32m~/anaconda3/lib/python3.6/site-packages/tensorflow/python/training/monitored_session.py\u001b[0m in \u001b[0;36mrun\u001b[0;34m(self, fetches, feed_dict, options, run_metadata)\u001b[0m\n\u001b[1;32m    674\u001b[0m                           \u001b[0mfeed_dict\u001b[0m\u001b[0;34m=\u001b[0m\u001b[0mfeed_dict\u001b[0m\u001b[0;34m,\u001b[0m\u001b[0;34m\u001b[0m\u001b[0;34m\u001b[0m\u001b[0m\n\u001b[1;32m    675\u001b[0m                           \u001b[0moptions\u001b[0m\u001b[0;34m=\u001b[0m\u001b[0moptions\u001b[0m\u001b[0;34m,\u001b[0m\u001b[0;34m\u001b[0m\u001b[0;34m\u001b[0m\u001b[0m\n\u001b[0;32m--> 676\u001b[0;31m                           run_metadata=run_metadata)\n\u001b[0m\u001b[1;32m    677\u001b[0m \u001b[0;34m\u001b[0m\u001b[0m\n\u001b[1;32m    678\u001b[0m   \u001b[0;32mdef\u001b[0m \u001b[0mrun_step_fn\u001b[0m\u001b[0;34m(\u001b[0m\u001b[0mself\u001b[0m\u001b[0;34m,\u001b[0m \u001b[0mstep_fn\u001b[0m\u001b[0;34m)\u001b[0m\u001b[0;34m:\u001b[0m\u001b[0;34m\u001b[0m\u001b[0;34m\u001b[0m\u001b[0m\n",
      "\u001b[0;32m~/anaconda3/lib/python3.6/site-packages/tensorflow/python/training/monitored_session.py\u001b[0m in \u001b[0;36mrun\u001b[0;34m(self, fetches, feed_dict, options, run_metadata)\u001b[0m\n\u001b[1;32m   1169\u001b[0m                               \u001b[0mfeed_dict\u001b[0m\u001b[0;34m=\u001b[0m\u001b[0mfeed_dict\u001b[0m\u001b[0;34m,\u001b[0m\u001b[0;34m\u001b[0m\u001b[0;34m\u001b[0m\u001b[0m\n\u001b[1;32m   1170\u001b[0m                               \u001b[0moptions\u001b[0m\u001b[0;34m=\u001b[0m\u001b[0moptions\u001b[0m\u001b[0;34m,\u001b[0m\u001b[0;34m\u001b[0m\u001b[0;34m\u001b[0m\u001b[0m\n\u001b[0;32m-> 1171\u001b[0;31m                               run_metadata=run_metadata)\n\u001b[0m\u001b[1;32m   1172\u001b[0m       \u001b[0;32mexcept\u001b[0m \u001b[0m_PREEMPTION_ERRORS\u001b[0m \u001b[0;32mas\u001b[0m \u001b[0me\u001b[0m\u001b[0;34m:\u001b[0m\u001b[0;34m\u001b[0m\u001b[0;34m\u001b[0m\u001b[0m\n\u001b[1;32m   1173\u001b[0m         logging.info('An error was raised. This may be due to a preemption in '\n",
      "\u001b[0;32m~/anaconda3/lib/python3.6/site-packages/tensorflow/python/training/monitored_session.py\u001b[0m in \u001b[0;36mrun\u001b[0;34m(self, *args, **kwargs)\u001b[0m\n\u001b[1;32m   1253\u001b[0m   \u001b[0;32mdef\u001b[0m \u001b[0mrun\u001b[0m\u001b[0;34m(\u001b[0m\u001b[0mself\u001b[0m\u001b[0;34m,\u001b[0m \u001b[0;34m*\u001b[0m\u001b[0margs\u001b[0m\u001b[0;34m,\u001b[0m \u001b[0;34m**\u001b[0m\u001b[0mkwargs\u001b[0m\u001b[0;34m)\u001b[0m\u001b[0;34m:\u001b[0m\u001b[0;34m\u001b[0m\u001b[0;34m\u001b[0m\u001b[0m\n\u001b[1;32m   1254\u001b[0m     \u001b[0;32mtry\u001b[0m\u001b[0;34m:\u001b[0m\u001b[0;34m\u001b[0m\u001b[0;34m\u001b[0m\u001b[0m\n\u001b[0;32m-> 1255\u001b[0;31m       \u001b[0;32mreturn\u001b[0m \u001b[0mself\u001b[0m\u001b[0;34m.\u001b[0m\u001b[0m_sess\u001b[0m\u001b[0;34m.\u001b[0m\u001b[0mrun\u001b[0m\u001b[0;34m(\u001b[0m\u001b[0;34m*\u001b[0m\u001b[0margs\u001b[0m\u001b[0;34m,\u001b[0m \u001b[0;34m**\u001b[0m\u001b[0mkwargs\u001b[0m\u001b[0;34m)\u001b[0m\u001b[0;34m\u001b[0m\u001b[0;34m\u001b[0m\u001b[0m\n\u001b[0m\u001b[1;32m   1256\u001b[0m     \u001b[0;32mexcept\u001b[0m \u001b[0m_PREEMPTION_ERRORS\u001b[0m\u001b[0;34m:\u001b[0m\u001b[0;34m\u001b[0m\u001b[0;34m\u001b[0m\u001b[0m\n\u001b[1;32m   1257\u001b[0m       \u001b[0;32mraise\u001b[0m\u001b[0;34m\u001b[0m\u001b[0;34m\u001b[0m\u001b[0m\n",
      "\u001b[0;32m~/anaconda3/lib/python3.6/site-packages/tensorflow/python/training/monitored_session.py\u001b[0m in \u001b[0;36mrun\u001b[0;34m(self, fetches, feed_dict, options, run_metadata)\u001b[0m\n\u001b[1;32m   1325\u001b[0m                                   \u001b[0mfeed_dict\u001b[0m\u001b[0;34m=\u001b[0m\u001b[0mfeed_dict\u001b[0m\u001b[0;34m,\u001b[0m\u001b[0;34m\u001b[0m\u001b[0;34m\u001b[0m\u001b[0m\n\u001b[1;32m   1326\u001b[0m                                   \u001b[0moptions\u001b[0m\u001b[0;34m=\u001b[0m\u001b[0moptions\u001b[0m\u001b[0;34m,\u001b[0m\u001b[0;34m\u001b[0m\u001b[0;34m\u001b[0m\u001b[0m\n\u001b[0;32m-> 1327\u001b[0;31m                                   run_metadata=run_metadata)\n\u001b[0m\u001b[1;32m   1328\u001b[0m \u001b[0;34m\u001b[0m\u001b[0m\n\u001b[1;32m   1329\u001b[0m     \u001b[0;32mfor\u001b[0m \u001b[0mhook\u001b[0m \u001b[0;32min\u001b[0m \u001b[0mself\u001b[0m\u001b[0;34m.\u001b[0m\u001b[0m_hooks\u001b[0m\u001b[0;34m:\u001b[0m\u001b[0;34m\u001b[0m\u001b[0;34m\u001b[0m\u001b[0m\n",
      "\u001b[0;32m~/anaconda3/lib/python3.6/site-packages/tensorflow/python/training/monitored_session.py\u001b[0m in \u001b[0;36mrun\u001b[0;34m(self, *args, **kwargs)\u001b[0m\n\u001b[1;32m   1089\u001b[0m \u001b[0;34m\u001b[0m\u001b[0m\n\u001b[1;32m   1090\u001b[0m   \u001b[0;32mdef\u001b[0m \u001b[0mrun\u001b[0m\u001b[0;34m(\u001b[0m\u001b[0mself\u001b[0m\u001b[0;34m,\u001b[0m \u001b[0;34m*\u001b[0m\u001b[0margs\u001b[0m\u001b[0;34m,\u001b[0m \u001b[0;34m**\u001b[0m\u001b[0mkwargs\u001b[0m\u001b[0;34m)\u001b[0m\u001b[0;34m:\u001b[0m\u001b[0;34m\u001b[0m\u001b[0;34m\u001b[0m\u001b[0m\n\u001b[0;32m-> 1091\u001b[0;31m     \u001b[0;32mreturn\u001b[0m \u001b[0mself\u001b[0m\u001b[0;34m.\u001b[0m\u001b[0m_sess\u001b[0m\u001b[0;34m.\u001b[0m\u001b[0mrun\u001b[0m\u001b[0;34m(\u001b[0m\u001b[0;34m*\u001b[0m\u001b[0margs\u001b[0m\u001b[0;34m,\u001b[0m \u001b[0;34m**\u001b[0m\u001b[0mkwargs\u001b[0m\u001b[0;34m)\u001b[0m\u001b[0;34m\u001b[0m\u001b[0;34m\u001b[0m\u001b[0m\n\u001b[0m\u001b[1;32m   1092\u001b[0m \u001b[0;34m\u001b[0m\u001b[0m\n\u001b[1;32m   1093\u001b[0m   \u001b[0;32mdef\u001b[0m \u001b[0mrun_step_fn\u001b[0m\u001b[0;34m(\u001b[0m\u001b[0mself\u001b[0m\u001b[0;34m,\u001b[0m \u001b[0mstep_fn\u001b[0m\u001b[0;34m,\u001b[0m \u001b[0mraw_session\u001b[0m\u001b[0;34m,\u001b[0m \u001b[0mrun_with_hooks\u001b[0m\u001b[0;34m)\u001b[0m\u001b[0;34m:\u001b[0m\u001b[0;34m\u001b[0m\u001b[0;34m\u001b[0m\u001b[0m\n",
      "\u001b[0;32m~/anaconda3/lib/python3.6/site-packages/tensorflow/python/client/session.py\u001b[0m in \u001b[0;36mrun\u001b[0;34m(self, fetches, feed_dict, options, run_metadata)\u001b[0m\n\u001b[1;32m    927\u001b[0m     \u001b[0;32mtry\u001b[0m\u001b[0;34m:\u001b[0m\u001b[0;34m\u001b[0m\u001b[0;34m\u001b[0m\u001b[0m\n\u001b[1;32m    928\u001b[0m       result = self._run(None, fetches, feed_dict, options_ptr,\n\u001b[0;32m--> 929\u001b[0;31m                          run_metadata_ptr)\n\u001b[0m\u001b[1;32m    930\u001b[0m       \u001b[0;32mif\u001b[0m \u001b[0mrun_metadata\u001b[0m\u001b[0;34m:\u001b[0m\u001b[0;34m\u001b[0m\u001b[0;34m\u001b[0m\u001b[0m\n\u001b[1;32m    931\u001b[0m         \u001b[0mproto_data\u001b[0m \u001b[0;34m=\u001b[0m \u001b[0mtf_session\u001b[0m\u001b[0;34m.\u001b[0m\u001b[0mTF_GetBuffer\u001b[0m\u001b[0;34m(\u001b[0m\u001b[0mrun_metadata_ptr\u001b[0m\u001b[0;34m)\u001b[0m\u001b[0;34m\u001b[0m\u001b[0;34m\u001b[0m\u001b[0m\n",
      "\u001b[0;32m~/anaconda3/lib/python3.6/site-packages/tensorflow/python/client/session.py\u001b[0m in \u001b[0;36m_run\u001b[0;34m(self, handle, fetches, feed_dict, options, run_metadata)\u001b[0m\n\u001b[1;32m   1150\u001b[0m     \u001b[0;32mif\u001b[0m \u001b[0mfinal_fetches\u001b[0m \u001b[0;32mor\u001b[0m \u001b[0mfinal_targets\u001b[0m \u001b[0;32mor\u001b[0m \u001b[0;34m(\u001b[0m\u001b[0mhandle\u001b[0m \u001b[0;32mand\u001b[0m \u001b[0mfeed_dict_tensor\u001b[0m\u001b[0;34m)\u001b[0m\u001b[0;34m:\u001b[0m\u001b[0;34m\u001b[0m\u001b[0;34m\u001b[0m\u001b[0m\n\u001b[1;32m   1151\u001b[0m       results = self._do_run(handle, final_targets, final_fetches,\n\u001b[0;32m-> 1152\u001b[0;31m                              feed_dict_tensor, options, run_metadata)\n\u001b[0m\u001b[1;32m   1153\u001b[0m     \u001b[0;32melse\u001b[0m\u001b[0;34m:\u001b[0m\u001b[0;34m\u001b[0m\u001b[0;34m\u001b[0m\u001b[0m\n\u001b[1;32m   1154\u001b[0m       \u001b[0mresults\u001b[0m \u001b[0;34m=\u001b[0m \u001b[0;34m[\u001b[0m\u001b[0;34m]\u001b[0m\u001b[0;34m\u001b[0m\u001b[0;34m\u001b[0m\u001b[0m\n",
      "\u001b[0;32m~/anaconda3/lib/python3.6/site-packages/tensorflow/python/client/session.py\u001b[0m in \u001b[0;36m_do_run\u001b[0;34m(self, handle, target_list, fetch_list, feed_dict, options, run_metadata)\u001b[0m\n\u001b[1;32m   1326\u001b[0m     \u001b[0;32mif\u001b[0m \u001b[0mhandle\u001b[0m \u001b[0;32mis\u001b[0m \u001b[0;32mNone\u001b[0m\u001b[0;34m:\u001b[0m\u001b[0;34m\u001b[0m\u001b[0;34m\u001b[0m\u001b[0m\n\u001b[1;32m   1327\u001b[0m       return self._do_call(_run_fn, feeds, fetches, targets, options,\n\u001b[0;32m-> 1328\u001b[0;31m                            run_metadata)\n\u001b[0m\u001b[1;32m   1329\u001b[0m     \u001b[0;32melse\u001b[0m\u001b[0;34m:\u001b[0m\u001b[0;34m\u001b[0m\u001b[0;34m\u001b[0m\u001b[0m\n\u001b[1;32m   1330\u001b[0m       \u001b[0;32mreturn\u001b[0m \u001b[0mself\u001b[0m\u001b[0;34m.\u001b[0m\u001b[0m_do_call\u001b[0m\u001b[0;34m(\u001b[0m\u001b[0m_prun_fn\u001b[0m\u001b[0;34m,\u001b[0m \u001b[0mhandle\u001b[0m\u001b[0;34m,\u001b[0m \u001b[0mfeeds\u001b[0m\u001b[0;34m,\u001b[0m \u001b[0mfetches\u001b[0m\u001b[0;34m)\u001b[0m\u001b[0;34m\u001b[0m\u001b[0;34m\u001b[0m\u001b[0m\n",
      "\u001b[0;32m~/anaconda3/lib/python3.6/site-packages/tensorflow/python/client/session.py\u001b[0m in \u001b[0;36m_do_call\u001b[0;34m(self, fn, *args)\u001b[0m\n\u001b[1;32m   1332\u001b[0m   \u001b[0;32mdef\u001b[0m \u001b[0m_do_call\u001b[0m\u001b[0;34m(\u001b[0m\u001b[0mself\u001b[0m\u001b[0;34m,\u001b[0m \u001b[0mfn\u001b[0m\u001b[0;34m,\u001b[0m \u001b[0;34m*\u001b[0m\u001b[0margs\u001b[0m\u001b[0;34m)\u001b[0m\u001b[0;34m:\u001b[0m\u001b[0;34m\u001b[0m\u001b[0;34m\u001b[0m\u001b[0m\n\u001b[1;32m   1333\u001b[0m     \u001b[0;32mtry\u001b[0m\u001b[0;34m:\u001b[0m\u001b[0;34m\u001b[0m\u001b[0;34m\u001b[0m\u001b[0m\n\u001b[0;32m-> 1334\u001b[0;31m       \u001b[0;32mreturn\u001b[0m \u001b[0mfn\u001b[0m\u001b[0;34m(\u001b[0m\u001b[0;34m*\u001b[0m\u001b[0margs\u001b[0m\u001b[0;34m)\u001b[0m\u001b[0;34m\u001b[0m\u001b[0;34m\u001b[0m\u001b[0m\n\u001b[0m\u001b[1;32m   1335\u001b[0m     \u001b[0;32mexcept\u001b[0m \u001b[0merrors\u001b[0m\u001b[0;34m.\u001b[0m\u001b[0mOpError\u001b[0m \u001b[0;32mas\u001b[0m \u001b[0me\u001b[0m\u001b[0;34m:\u001b[0m\u001b[0;34m\u001b[0m\u001b[0;34m\u001b[0m\u001b[0m\n\u001b[1;32m   1336\u001b[0m       \u001b[0mmessage\u001b[0m \u001b[0;34m=\u001b[0m \u001b[0mcompat\u001b[0m\u001b[0;34m.\u001b[0m\u001b[0mas_text\u001b[0m\u001b[0;34m(\u001b[0m\u001b[0me\u001b[0m\u001b[0;34m.\u001b[0m\u001b[0mmessage\u001b[0m\u001b[0;34m)\u001b[0m\u001b[0;34m\u001b[0m\u001b[0;34m\u001b[0m\u001b[0m\n",
      "\u001b[0;32m~/anaconda3/lib/python3.6/site-packages/tensorflow/python/client/session.py\u001b[0m in \u001b[0;36m_run_fn\u001b[0;34m(feed_dict, fetch_list, target_list, options, run_metadata)\u001b[0m\n\u001b[1;32m   1317\u001b[0m       \u001b[0mself\u001b[0m\u001b[0;34m.\u001b[0m\u001b[0m_extend_graph\u001b[0m\u001b[0;34m(\u001b[0m\u001b[0;34m)\u001b[0m\u001b[0;34m\u001b[0m\u001b[0;34m\u001b[0m\u001b[0m\n\u001b[1;32m   1318\u001b[0m       return self._call_tf_sessionrun(\n\u001b[0;32m-> 1319\u001b[0;31m           options, feed_dict, fetch_list, target_list, run_metadata)\n\u001b[0m\u001b[1;32m   1320\u001b[0m \u001b[0;34m\u001b[0m\u001b[0m\n\u001b[1;32m   1321\u001b[0m     \u001b[0;32mdef\u001b[0m \u001b[0m_prun_fn\u001b[0m\u001b[0;34m(\u001b[0m\u001b[0mhandle\u001b[0m\u001b[0;34m,\u001b[0m \u001b[0mfeed_dict\u001b[0m\u001b[0;34m,\u001b[0m \u001b[0mfetch_list\u001b[0m\u001b[0;34m)\u001b[0m\u001b[0;34m:\u001b[0m\u001b[0;34m\u001b[0m\u001b[0;34m\u001b[0m\u001b[0m\n",
      "\u001b[0;32m~/anaconda3/lib/python3.6/site-packages/tensorflow/python/client/session.py\u001b[0m in \u001b[0;36m_call_tf_sessionrun\u001b[0;34m(self, options, feed_dict, fetch_list, target_list, run_metadata)\u001b[0m\n\u001b[1;32m   1405\u001b[0m     return tf_session.TF_SessionRun_wrapper(\n\u001b[1;32m   1406\u001b[0m         \u001b[0mself\u001b[0m\u001b[0;34m.\u001b[0m\u001b[0m_session\u001b[0m\u001b[0;34m,\u001b[0m \u001b[0moptions\u001b[0m\u001b[0;34m,\u001b[0m \u001b[0mfeed_dict\u001b[0m\u001b[0;34m,\u001b[0m \u001b[0mfetch_list\u001b[0m\u001b[0;34m,\u001b[0m \u001b[0mtarget_list\u001b[0m\u001b[0;34m,\u001b[0m\u001b[0;34m\u001b[0m\u001b[0;34m\u001b[0m\u001b[0m\n\u001b[0;32m-> 1407\u001b[0;31m         run_metadata)\n\u001b[0m\u001b[1;32m   1408\u001b[0m \u001b[0;34m\u001b[0m\u001b[0m\n\u001b[1;32m   1409\u001b[0m   \u001b[0;32mdef\u001b[0m \u001b[0m_call_tf_sessionprun\u001b[0m\u001b[0;34m(\u001b[0m\u001b[0mself\u001b[0m\u001b[0;34m,\u001b[0m \u001b[0mhandle\u001b[0m\u001b[0;34m,\u001b[0m \u001b[0mfeed_dict\u001b[0m\u001b[0;34m,\u001b[0m \u001b[0mfetch_list\u001b[0m\u001b[0;34m)\u001b[0m\u001b[0;34m:\u001b[0m\u001b[0;34m\u001b[0m\u001b[0;34m\u001b[0m\u001b[0m\n",
      "\u001b[0;31mKeyboardInterrupt\u001b[0m: "
     ]
    }
   ],
   "source": [
    "tf.reset_default_graph()\n",
    "from IPython.display import clear_output\n",
    "train_epochs = 100\n",
    "epochs_per_eval = 10\n",
    "for n in range(train_epochs // epochs_per_eval ):\n",
    "    m.train(input_fn=lambda: input_fn(\n",
    "        \"./Final_Train_Split_1.csv\" , 1 , True, 128 ,\"train\"))\n",
    "    results = m.evaluate(input_fn=lambda: input_fn(\n",
    "        \"./Final_Train_Split_2.csv\"   , 1 , False , 128 ,\"train\" ))\n",
    "    clear_output()\n",
    "    print('Results at epoch', (n + 1) * epochs_per_eval )\n",
    "    print('=' * 30)\n",
    "    for key in sorted(results):\n",
    "        print('%s: %s' % (key, results[key]))"
   ]
  },
  {
   "cell_type": "code",
   "execution_count": 60,
   "metadata": {},
   "outputs": [
    {
     "data": {
      "text/plain": [
       "array(['34a', '32aa', '34d', '36c', '32b', '34b', '36d', '34c', '32d',\n",
       "       '34ddd_e', '32c', '34dd', 'Secret', '36b', '32a', '36a', '32dd',\n",
       "       '38d', '32ddd_e', '34d_', '34f', '32d_', '38d_', '40d', '38c',\n",
       "       '32f', '36g', '38a', '38dd', '42g', '30b', '34aa', '36ddd_e',\n",
       "       '36d_', '36dd', '38b', '30ddd_e', '28ddd_e', '36f', '38f', '34g',\n",
       "       '28b', '28a', '40dd', '30c', '38g', '38ddd_e', '42ddd_e', '28dd',\n",
       "       '40ddd_e', '42b', '38i', '36aa', '32g', '30d', '28c', '30a', '40b',\n",
       "       '42d', '40c', '44dd', '36i', '30dd', '42c', '38h', '34h', '28f',\n",
       "       '32i', '44ddd_e', '32h', '34i', '30g', '44d', '30i', '40h', '42dd',\n",
       "       '46f', '28g', '36h', '30h', '36j', '30f', '42f', '28aa', '48dd',\n",
       "       '28d', '34j', '40g', '44f', '30aa', '44c', '40f', '40j', '46c',\n",
       "       '44b'], dtype=object)"
      ]
     },
     "execution_count": 60,
     "metadata": {},
     "output_type": "execute_result"
    }
   ],
   "source": [
    "X_test[\"bust_size\"].unique()"
   ]
  },
  {
   "cell_type": "code",
   "execution_count": 144,
   "metadata": {},
   "outputs": [
    {
     "name": "stdout",
     "output_type": "stream",
     "text": [
      "==============================\n",
      "accuracy: 0.013217157\n",
      "average_loss: 8.349853\n",
      "global_step: 105\n",
      "loss: 534.39056\n"
     ]
    }
   ],
   "source": [
    "tf.reset_default_graph()\n",
    "results = m.evaluate(input_fn=lambda: input_fn(\n",
    "        \"./Final_Test_2.csv\"   , 1 , False , 64 ,\"test\" ))\n",
    "clear_output()\n",
    "#print('Results at epoch', (n + 1) * epochs_per_eval )\n",
    "print('=' * 30)\n",
    "for key in sorted(results):\n",
    "    print('%s: %s' % (key, results[key]))"
   ]
  },
  {
   "cell_type": "code",
   "execution_count": 93,
   "metadata": {},
   "outputs": [
    {
     "data": {
      "text/html": [
       "<div>\n",
       "<style scoped>\n",
       "    .dataframe tbody tr th:only-of-type {\n",
       "        vertical-align: middle;\n",
       "    }\n",
       "\n",
       "    .dataframe tbody tr th {\n",
       "        vertical-align: top;\n",
       "    }\n",
       "\n",
       "    .dataframe thead th {\n",
       "        text-align: right;\n",
       "    }\n",
       "</style>\n",
       "<table border=\"1\" class=\"dataframe\">\n",
       "  <thead>\n",
       "    <tr style=\"text-align: right;\">\n",
       "      <th></th>\n",
       "      <th>Item_Age_0</th>\n",
       "      <th>Item_Age_1</th>\n",
       "      <th>Item_Age_2</th>\n",
       "      <th>Item_Age_3</th>\n",
       "      <th>Item_Age_4</th>\n",
       "      <th>Item_Age_5</th>\n",
       "      <th>Item_Age_6</th>\n",
       "      <th>Item_Age_7</th>\n",
       "      <th>Item_Age_8</th>\n",
       "      <th>Item_Age_9</th>\n",
       "      <th>...</th>\n",
       "      <th>year</th>\n",
       "      <th>month</th>\n",
       "      <th>body_type</th>\n",
       "      <th>fit</th>\n",
       "      <th>category</th>\n",
       "      <th>bust_size</th>\n",
       "      <th>age</th>\n",
       "      <th>rented_for</th>\n",
       "      <th>day</th>\n",
       "      <th>item_id</th>\n",
       "    </tr>\n",
       "  </thead>\n",
       "  <tbody>\n",
       "    <tr>\n",
       "      <th>0</th>\n",
       "      <td>-0.008466</td>\n",
       "      <td>-0.000089</td>\n",
       "      <td>0.006522</td>\n",
       "      <td>0.016325</td>\n",
       "      <td>0.006045</td>\n",
       "      <td>0.001574</td>\n",
       "      <td>0.006565</td>\n",
       "      <td>0.000004</td>\n",
       "      <td>0.013291</td>\n",
       "      <td>0.008455</td>\n",
       "      <td>...</td>\n",
       "      <td>2016</td>\n",
       "      <td>April</td>\n",
       "      <td>petite</td>\n",
       "      <td>fit</td>\n",
       "      <td>dress</td>\n",
       "      <td>34a</td>\n",
       "      <td>33~35</td>\n",
       "      <td>formal affair</td>\n",
       "      <td>11</td>\n",
       "      <td>3669</td>\n",
       "    </tr>\n",
       "    <tr>\n",
       "      <th>1</th>\n",
       "      <td>-0.000462</td>\n",
       "      <td>0.000063</td>\n",
       "      <td>-0.001010</td>\n",
       "      <td>0.000836</td>\n",
       "      <td>0.000474</td>\n",
       "      <td>-0.001322</td>\n",
       "      <td>0.001206</td>\n",
       "      <td>0.001160</td>\n",
       "      <td>0.001164</td>\n",
       "      <td>0.001182</td>\n",
       "      <td>...</td>\n",
       "      <td>2017</td>\n",
       "      <td>April</td>\n",
       "      <td>athletic</td>\n",
       "      <td>small</td>\n",
       "      <td>dress</td>\n",
       "      <td>32aa</td>\n",
       "      <td>33~35</td>\n",
       "      <td>work</td>\n",
       "      <td>7</td>\n",
       "      <td>1087</td>\n",
       "    </tr>\n",
       "    <tr>\n",
       "      <th>2</th>\n",
       "      <td>0.001222</td>\n",
       "      <td>-0.000259</td>\n",
       "      <td>-0.001369</td>\n",
       "      <td>0.001333</td>\n",
       "      <td>-0.000826</td>\n",
       "      <td>0.000709</td>\n",
       "      <td>-0.000428</td>\n",
       "      <td>0.001347</td>\n",
       "      <td>0.000234</td>\n",
       "      <td>-0.001064</td>\n",
       "      <td>...</td>\n",
       "      <td>2016</td>\n",
       "      <td>April</td>\n",
       "      <td>athletic</td>\n",
       "      <td>fit</td>\n",
       "      <td>gown</td>\n",
       "      <td>34a</td>\n",
       "      <td>25~29</td>\n",
       "      <td>wedding</td>\n",
       "      <td>18</td>\n",
       "      <td>1974</td>\n",
       "    </tr>\n",
       "    <tr>\n",
       "      <th>3</th>\n",
       "      <td>-0.000805</td>\n",
       "      <td>0.001145</td>\n",
       "      <td>0.001189</td>\n",
       "      <td>0.000435</td>\n",
       "      <td>0.000996</td>\n",
       "      <td>-0.000362</td>\n",
       "      <td>0.001577</td>\n",
       "      <td>0.000075</td>\n",
       "      <td>0.001507</td>\n",
       "      <td>0.001534</td>\n",
       "      <td>...</td>\n",
       "      <td>2015</td>\n",
       "      <td>February</td>\n",
       "      <td>hourglass</td>\n",
       "      <td>small</td>\n",
       "      <td>gown</td>\n",
       "      <td>34d</td>\n",
       "      <td>39~44</td>\n",
       "      <td>formal affair</td>\n",
       "      <td>11</td>\n",
       "      <td>899</td>\n",
       "    </tr>\n",
       "    <tr>\n",
       "      <th>4</th>\n",
       "      <td>0.000905</td>\n",
       "      <td>0.001530</td>\n",
       "      <td>-0.000079</td>\n",
       "      <td>0.000312</td>\n",
       "      <td>-0.000005</td>\n",
       "      <td>0.001244</td>\n",
       "      <td>0.001147</td>\n",
       "      <td>-0.000281</td>\n",
       "      <td>0.001617</td>\n",
       "      <td>0.000024</td>\n",
       "      <td>...</td>\n",
       "      <td>2016</td>\n",
       "      <td>December</td>\n",
       "      <td>hourglass</td>\n",
       "      <td>fit</td>\n",
       "      <td>blazer</td>\n",
       "      <td>36c</td>\n",
       "      <td>39~44</td>\n",
       "      <td>work</td>\n",
       "      <td>5</td>\n",
       "      <td>3005</td>\n",
       "    </tr>\n",
       "  </tbody>\n",
       "</table>\n",
       "<p>5 rows × 314 columns</p>\n",
       "</div>"
      ],
      "text/plain": [
       "   Item_Age_0  Item_Age_1  Item_Age_2  Item_Age_3  Item_Age_4  Item_Age_5  \\\n",
       "0   -0.008466   -0.000089    0.006522    0.016325    0.006045    0.001574   \n",
       "1   -0.000462    0.000063   -0.001010    0.000836    0.000474   -0.001322   \n",
       "2    0.001222   -0.000259   -0.001369    0.001333   -0.000826    0.000709   \n",
       "3   -0.000805    0.001145    0.001189    0.000435    0.000996   -0.000362   \n",
       "4    0.000905    0.001530   -0.000079    0.000312   -0.000005    0.001244   \n",
       "\n",
       "   Item_Age_6  Item_Age_7  Item_Age_8  Item_Age_9  ...  year     month  \\\n",
       "0    0.006565    0.000004    0.013291    0.008455  ...  2016     April   \n",
       "1    0.001206    0.001160    0.001164    0.001182  ...  2017     April   \n",
       "2   -0.000428    0.001347    0.000234   -0.001064  ...  2016     April   \n",
       "3    0.001577    0.000075    0.001507    0.001534  ...  2015  February   \n",
       "4    0.001147   -0.000281    0.001617    0.000024  ...  2016  December   \n",
       "\n",
       "   body_type    fit  category  bust_size    age     rented_for  day  item_id  \n",
       "0     petite    fit     dress        34a  33~35  formal affair   11     3669  \n",
       "1   athletic  small     dress       32aa  33~35           work    7     1087  \n",
       "2   athletic    fit      gown        34a  25~29        wedding   18     1974  \n",
       "3  hourglass  small      gown        34d  39~44  formal affair   11      899  \n",
       "4  hourglass    fit    blazer        36c  39~44           work    5     3005  \n",
       "\n",
       "[5 rows x 314 columns]"
      ]
     },
     "execution_count": 93,
     "metadata": {},
     "output_type": "execute_result"
    }
   ],
   "source": [
    "X_test.head()"
   ]
  },
  {
   "cell_type": "code",
   "execution_count": 63,
   "metadata": {},
   "outputs": [],
   "source": [
    "X_test = pd.read_csv( \"Final_Test_2.csv\" )"
   ]
  },
  {
   "cell_type": "code",
   "execution_count": null,
   "metadata": {},
   "outputs": [],
   "source": [
    "csvProb = m.predict(input_fn= test_input_fn , predict_keys=\"probabilities\" )"
   ]
  },
  {
   "cell_type": "code",
   "execution_count": 58,
   "metadata": {},
   "outputs": [
    {
     "data": {
      "text/plain": [
       "array([7.6593460e-05, 2.6773071e-04, 1.3101994e-04, ..., 1.6896569e-04,\n",
       "       1.5041925e-04, 2.2421032e-04], dtype=float32)"
      ]
     },
     "execution_count": 58,
     "metadata": {},
     "output_type": "execute_result"
    }
   ],
   "source": [
    "next(csvProb)[\"probabilities\"]"
   ]
  },
  {
   "cell_type": "code",
   "execution_count": 56,
   "metadata": {},
   "outputs": [
    {
     "name": "stdout",
     "output_type": "stream",
     "text": [
      "INFO:tensorflow:Calling model_fn.\n",
      "INFO:tensorflow:Done calling model_fn.\n",
      "INFO:tensorflow:Graph was finalized.\n",
      "INFO:tensorflow:Restoring parameters from /var/disk/Cloth_Rec/model.ckpt-7312\n",
      "INFO:tensorflow:Running local_init_op.\n",
      "INFO:tensorflow:Done running local_init_op.\n",
      "0\n",
      "10000\n",
      "20000\n",
      "30000\n",
      "40000\n",
      "50000\n"
     ]
    },
    {
     "ename": "StopIteration",
     "evalue": "",
     "output_type": "error",
     "traceback": [
      "\u001b[0;31m---------------------------------------------------------------------------\u001b[0m",
      "\u001b[0;31mStopIteration\u001b[0m                             Traceback (most recent call last)",
      "\u001b[0;32m<ipython-input-56-ea46cb71f706>\u001b[0m in \u001b[0;36m<module>\u001b[0;34m\u001b[0m\n\u001b[1;32m      5\u001b[0m \u001b[0mresults\u001b[0m \u001b[0;34m=\u001b[0m \u001b[0;34m[\u001b[0m\u001b[0;34m]\u001b[0m\u001b[0;34m\u001b[0m\u001b[0;34m\u001b[0m\u001b[0m\n\u001b[1;32m      6\u001b[0m \u001b[0;32mwhile\u001b[0m \u001b[0;32mTrue\u001b[0m \u001b[0;34m:\u001b[0m\u001b[0;34m\u001b[0m\u001b[0;34m\u001b[0m\u001b[0m\n\u001b[0;32m----> 7\u001b[0;31m     \u001b[0mprob_next\u001b[0m \u001b[0;34m=\u001b[0m \u001b[0mnext\u001b[0m\u001b[0;34m(\u001b[0m\u001b[0mcsvProb\u001b[0m\u001b[0;34m)\u001b[0m\u001b[0;34m[\u001b[0m\u001b[0;34m\"probabilities\"\u001b[0m\u001b[0;34m]\u001b[0m\u001b[0;34m.\u001b[0m\u001b[0mreshape\u001b[0m\u001b[0;34m(\u001b[0m\u001b[0;36m1\u001b[0m\u001b[0;34m,\u001b[0m \u001b[0;34m-\u001b[0m\u001b[0;36m1\u001b[0m \u001b[0;34m)\u001b[0m\u001b[0;34m\u001b[0m\u001b[0;34m\u001b[0m\u001b[0m\n\u001b[0m\u001b[1;32m      8\u001b[0m     \u001b[0;32mif\u001b[0m \u001b[0mi\u001b[0m \u001b[0;34m%\u001b[0m \u001b[0;36m10000\u001b[0m \u001b[0;34m==\u001b[0m \u001b[0;36m0\u001b[0m \u001b[0;34m:\u001b[0m\u001b[0;34m\u001b[0m\u001b[0;34m\u001b[0m\u001b[0m\n\u001b[1;32m      9\u001b[0m         \u001b[0mprint\u001b[0m\u001b[0;34m(\u001b[0m\u001b[0mi\u001b[0m\u001b[0;34m)\u001b[0m\u001b[0;34m\u001b[0m\u001b[0;34m\u001b[0m\u001b[0m\n",
      "\u001b[0;31mStopIteration\u001b[0m: "
     ]
    }
   ],
   "source": [
    "import time\n",
    "start = time.time()\n",
    "csvProb = m.predict(input_fn= test_input_fn , predict_keys=\"probabilities\" )\n",
    "i = 0 \n",
    "results = []\n",
    "while True :\n",
    "    try :\n",
    "        prob_next = next(csvProb)[\"probabilities\"].reshape(1, -1 )\n",
    "        if i % 10000 == 0 :\n",
    "            print(i)\n",
    "        results.append(prob_next)\n",
    "        i += 1 \n",
    "#         if i == 0 :\n",
    "#             i +=1\n",
    "#             print('Start')\n",
    "#             prob = prob_next\n",
    "#         else :\n",
    "#             i +=1\n",
    "#             prob = np.concatenate((prob,prob_next),axis = 0)\n",
    "            \n",
    "    except Exception as e :\n",
    "        print(e)\n",
    "        break\n",
    "print(\"eval time : \" , time.time() - start)    "
   ]
  },
  {
   "cell_type": "code",
   "execution_count": 62,
   "metadata": {},
   "outputs": [
    {
     "data": {
      "text/plain": [
       "(57738, 5850)"
      ]
     },
     "execution_count": 62,
     "metadata": {},
     "output_type": "execute_result"
    }
   ],
   "source": [
    "Result = np.squeeze(np.array(results))\n",
    "Result.shape"
   ]
  },
  {
   "cell_type": "code",
   "execution_count": 99,
   "metadata": {},
   "outputs": [],
   "source": [
    "C_X_train = pd.read_csv( \"Cloth_TRAIN.csv\" )\n",
    "C_X_test = pd.read_csv( \"Cloth_TEST.csv\" )"
   ]
  },
  {
   "cell_type": "code",
   "execution_count": 100,
   "metadata": {},
   "outputs": [
    {
     "data": {
      "text/plain": [
       "((134724, 15), (57738, 15))"
      ]
     },
     "execution_count": 100,
     "metadata": {},
     "output_type": "execute_result"
    }
   ],
   "source": [
    "C_X_train.shape , C_X_test.shape"
   ]
  },
  {
   "cell_type": "code",
   "execution_count": 152,
   "metadata": {},
   "outputs": [],
   "source": [
    "id_item = C_X_test[[\"user_id\", \"item_id\"]].groupby(\"user_id\").agg({\"item_id\" : np.unique}).reset_index(\"user_id\")\n",
    "id_item[\"item_id\"] = id_item[\"item_id\"].apply(lambda x : x.tolist() if type(x) == np.ndarray else [x] )"
   ]
  },
  {
   "cell_type": "code",
   "execution_count": 153,
   "metadata": {},
   "outputs": [
    {
     "data": {
      "text/plain": [
       "0                [Item_1323121]\n",
       "1                [Item_1149455]\n",
       "2    [Item_132135, Item_716777]\n",
       "3                 [Item_354557]\n",
       "4                 [Item_137585]\n",
       "Name: item_id, dtype: object"
      ]
     },
     "execution_count": 153,
     "metadata": {},
     "output_type": "execute_result"
    }
   ],
   "source": [
    "id_item[\"item_id\"].head()"
   ]
  },
  {
   "cell_type": "code",
   "execution_count": 101,
   "metadata": {},
   "outputs": [
    {
     "data": {
      "text/plain": [
       "LabelEncoder()"
      ]
     },
     "execution_count": 101,
     "metadata": {},
     "output_type": "execute_result"
    }
   ],
   "source": [
    "train_item = pd.read_csv(\"Cloth_TRAIN.csv\" , usecols = [\"item_id\"])\n",
    "test_item = pd.read_csv(\"Cloth_TEST.csv\", usecols =[ \"item_id\"])\n",
    "from sklearn import preprocessing\n",
    "le = preprocessing.LabelEncoder()\n",
    "label_info = pd.concat([train_item , test_item ], axis = 0)[\"item_id\"].unique().tolist()\n",
    "##\n",
    "le.fit(label_info)"
   ]
  },
  {
   "cell_type": "code",
   "execution_count": 102,
   "metadata": {},
   "outputs": [
    {
     "data": {
      "text/plain": [
       "(57738, 1)"
      ]
     },
     "execution_count": 102,
     "metadata": {},
     "output_type": "execute_result"
    }
   ],
   "source": [
    "test_item.shape"
   ]
  },
  {
   "cell_type": "code",
   "execution_count": 103,
   "metadata": {},
   "outputs": [],
   "source": [
    "pd_Result = pd.DataFrame(Result)\n",
    "pd_Result.columns = le.inverse_transform(pd_Result.columns.tolist()).tolist()"
   ]
  },
  {
   "cell_type": "code",
   "execution_count": 120,
   "metadata": {},
   "outputs": [
    {
     "data": {
      "text/plain": [
       "['Item_263699']"
      ]
     },
     "execution_count": 120,
     "metadata": {},
     "output_type": "execute_result"
    }
   ],
   "source": [
    "id_item.loc[id_item.user_id == C_X_test[\"user_id\"].iloc[0], \"item_id\"].values.tolist()[0]"
   ]
  },
  {
   "cell_type": "code",
   "execution_count": 155,
   "metadata": {},
   "outputs": [],
   "source": [
    "def get_acc(score_matrix, top_n, test_matix , Label ):\n",
    "    avg_acc = 0\n",
    "    for i in range(len(score_matrix)):\n",
    "        top = score_matrix.iloc[i].nlargest(top_n).index.tolist()\n",
    "        tmp = 0\n",
    "        User_id = Label[\"user_id\"].iloc[i]\n",
    "        true_buy = test_matix.loc[test_matix.user_id == User_id , \"item_id\"].values.tolist()[0]\n",
    "        for j in range(len(top)):\n",
    "            if top[j] in true_buy :\n",
    "                tmp += 1\n",
    "\n",
    "        acc = tmp / len(top)\n",
    "        avg_acc += acc / len(score_matrix)\n",
    "    return print(\"Hit rate of Top {}: {:>.5f}\".format(top_n, avg_acc))"
   ]
  },
  {
   "cell_type": "code",
   "execution_count": 156,
   "metadata": {},
   "outputs": [
    {
     "name": "stdout",
     "output_type": "stream",
     "text": [
      "Hit rate of Top 5: 0.04362\n"
     ]
    }
   ],
   "source": [
    "get_acc(pd_Result, 5 , id_item , C_X_test )"
   ]
  },
  {
   "cell_type": "code",
   "execution_count": 175,
   "metadata": {},
   "outputs": [],
   "source": [
    "def get_acc_idx(score_matrix, top_n, test_matix , Label  , idx):\n",
    "    avg_acc = 0\n",
    "    i = idx\n",
    "    top = score_matrix.iloc[i].nlargest(top_n).index.tolist()\n",
    "    tmp = 0\n",
    "    User_id = Label[\"user_id\"].iloc[i]\n",
    "    true_buy = test_matix.loc[test_matix.user_id == User_id , \"item_id\"].values.tolist()[0]\n",
    "    for j in range(len(top)):\n",
    "        if top[j] in true_buy :\n",
    "            tmp += 1\n",
    "    acc = tmp / len(top)\n",
    "    return print(\"User : {} \\n 실제 구매 : {} \\n 추천 상품 : {} \\n Hit Rate ({}) : {:.3f}\".format(\n",
    "        User_id , \n",
    "        \" | \".join(true_buy) ,\n",
    "        \" | \".join(top) ,\n",
    "        top_n, acc))"
   ]
  },
  {
   "cell_type": "code",
   "execution_count": 182,
   "metadata": {},
   "outputs": [
    {
     "name": "stdout",
     "output_type": "stream",
     "text": [
      "User : 553336 \n",
      " 실제 구매 : Item_1787191 | Item_1913010 \n",
      " 추천 상품 : Item_1295171 | Item_1787191 | Item_1982904 \n",
      " Hit Rate (3) : 0.333\n"
     ]
    }
   ],
   "source": [
    "get_acc_idx(pd_Result, 3 , id_item , C_X_test , 1000 )"
   ]
  },
  {
   "cell_type": "markdown",
   "metadata": {},
   "source": [
    "---\n",
    "\n",
    "Predict 너무 느림 개선하는 방법\n",
    "[1](https://github.com/marcsto/rl/blob/master/src/fast_predict2.py)\n",
    "[2](https://gist.github.com/mikeoconnor0308/521ae2eb1555edc6550014ce0500e6a2)\n",
    "[3](https://github.com/ahmed-18/tensorflow/tree/master/tf.contrib.learn)\n",
    "\n",
    "---"
   ]
  },
  {
   "cell_type": "code",
   "execution_count": 51,
   "metadata": {},
   "outputs": [],
   "source": [
    "class FastPredict:\n",
    "    def __init__(self, estimator, input_fn):\n",
    "        self.estimator = estimator\n",
    "        self.first_run = True\n",
    "        self.closed = False\n",
    "        self.input_fn = input_fn\n",
    "\n",
    "    def _create_generator(self):\n",
    "        while not self.closed:\n",
    "            yield self.next_features\n",
    "\n",
    "    def predict(self, feature_batch):\n",
    "        \"\"\" Runs a prediction on a set of features. Calling multiple times\n",
    "            does *not* regenerate the graph which makes predict much faster.\n",
    "            feature_batch a list of list of features. IMPORTANT: If you're only classifying 1 thing,\n",
    "            you still need to make it a batch of 1 by wrapping it in a list (i.e. predict([my_feature]), not predict(my_feature) \n",
    "        \"\"\"\n",
    "        self.next_features = feature_batch\n",
    "        if self.first_run:\n",
    "            self.batch_size = len(feature_batch)\n",
    "            self.predictions = self.estimator.predict(\n",
    "                input_fn=self.input_fn( self._create_generator ) , predict_keys=\"probabilities\"  ) # (self._create_generator)\n",
    "            self.first_run = False\n",
    "        elif self.batch_size != len(feature_batch):\n",
    "            raise ValueError(\"All batches must be of the same size. First-batch:\" + str(self.batch_size) + \" This-batch:\" + str(len(feature_batch)))\n",
    "\n",
    "        results = []\n",
    "        print(\"Start Predict!\")\n",
    "        for i in range(self.batch_size):\n",
    "            if i % 1000 == 0 :\n",
    "                print(\"Pass : \" , i)\n",
    "            results.append(next(self.predictions))\n",
    "        return results\n",
    "\n",
    "    def close(self):\n",
    "        self.closed = True\n",
    "        try:\n",
    "            next(self.predictions)\n",
    "        except:\n",
    "            print(\"Exception in fast_predict. This is probably OK\")\n",
    "\n",
    "\n",
    "def example_input_fn(generator):\n",
    "    \"\"\" An example input function to pass to predict. It must take a generator as input \"\"\"\n",
    "\n",
    "    def _inner_input_fn():\n",
    "        dataset = tf.data.Dataset().from_generator(generator, output_types=(tf.float32)).batch(1)\n",
    "        iterator = dataset.make_one_shot_iterator()\n",
    "        features = iterator.get_next()\n",
    "        return {'x': features}\n",
    "\n",
    "    return _inner_input_fn\n",
    "\n",
    "def test_input_fn(data_file):\n",
    "    data_file = \"./Final_Test_2.csv\"\n",
    "    def parse_csv(data_file ):\n",
    "        #print('Parsing', data_file)\n",
    "        columns = tf.decode_csv(data_file , record_defaults=_CSV_COLUMN_DEFAULTS)\n",
    "        features = dict(zip(_CSV_COLUMNS, columns))\n",
    "        labels = features.pop('item_id')\n",
    "        return features, labels\n",
    "    dataset = tf.data.TextLineDataset(data_file).skip(1)\n",
    "    dataset = dataset.map(parse_csv, num_parallel_calls=30)\n",
    "    dataset = dataset.batch(1 , drop_remainder= True)\n",
    "    iterator = dataset.make_one_shot_iterator()\n",
    "    batch_features, batch_labels = iterator.get_next()\n",
    "    return batch_features, batch_labels"
   ]
  },
  {
   "cell_type": "code",
   "execution_count": 47,
   "metadata": {},
   "outputs": [
    {
     "name": "stdout",
     "output_type": "stream",
     "text": [
      "Start Predict!\n",
      "Pass :  0\n",
      "INFO:tensorflow:Calling model_fn.\n",
      "INFO:tensorflow:Done calling model_fn.\n",
      "INFO:tensorflow:Graph was finalized.\n",
      "INFO:tensorflow:Restoring parameters from /var/disk/Cloth_Rec/model.ckpt-0\n",
      "INFO:tensorflow:Running local_init_op.\n",
      "INFO:tensorflow:Done running local_init_op.\n",
      "eval time :  41.927210330963135\n"
     ]
    }
   ],
   "source": [
    "import time\n",
    "start = time.time()\n",
    "classifier  = FastPredict(m , test_input_fn )\n",
    "Pred = classifier.predict([1])\n",
    "print(\"eval time : \" , time.time() - start)    "
   ]
  },
  {
   "cell_type": "code",
   "execution_count": 50,
   "metadata": {},
   "outputs": [
    {
     "data": {
      "text/plain": [
       "[{'logits': array([-0.62727016,  0.5396911 , -0.1465367 , ...,  0.16989131,\n",
       "         -0.10556017,  0.43474567], dtype=float32),\n",
       "  'probabilities': array([8.2932158e-05, 2.6639603e-04, 1.3412286e-04, ..., 1.8404574e-04,\n",
       "         1.3973290e-04, 2.3985597e-04], dtype=float32),\n",
       "  'class_ids': array([2862]),\n",
       "  'classes': array([b'2862'], dtype=object)}]"
      ]
     },
     "execution_count": 50,
     "metadata": {},
     "output_type": "execute_result"
    }
   ],
   "source": [
    "Pred"
   ]
  },
  {
   "cell_type": "code",
   "execution_count": 150,
   "metadata": {},
   "outputs": [
    {
     "data": {
      "text/plain": [
       "<__main__.FastPredict at 0x7f063214e400>"
      ]
     },
     "execution_count": 150,
     "metadata": {},
     "output_type": "execute_result"
    }
   ],
   "source": [
    "import time\n",
    "start = time.time()\n",
    "\n",
    "i = 0 \n",
    "while True :\n",
    "    prob_next = csvProb.__next__()[\"probabilities\"].reshape(1, -1 )\n",
    "    if i % 2000 == 0 :\n",
    "        print(i)\n",
    "    try :\n",
    "        if i == 0 :\n",
    "            i +=1\n",
    "            print('Start')\n",
    "            prob = prob_next\n",
    "        else :\n",
    "            i +=1\n",
    "            prob = np.concatenate((prob,prob_next),axis = 0)\n",
    "            \n",
    "    except Exception as e :\n",
    "        print(e)\n",
    "        break\n",
    "print(\"eval time : \" , time.time() - start)    "
   ]
  },
  {
   "cell_type": "code",
   "execution_count": null,
   "metadata": {},
   "outputs": [],
   "source": []
  }
 ],
 "metadata": {
  "kernelspec": {
   "display_name": "base",
   "language": "python",
   "name": "base"
  },
  "language_info": {
   "codemirror_mode": {
    "name": "ipython",
    "version": 3
   },
   "file_extension": ".py",
   "mimetype": "text/x-python",
   "name": "python",
   "nbconvert_exporter": "python",
   "pygments_lexer": "ipython3",
   "version": "3.6.7"
  }
 },
 "nbformat": 4,
 "nbformat_minor": 2
}
