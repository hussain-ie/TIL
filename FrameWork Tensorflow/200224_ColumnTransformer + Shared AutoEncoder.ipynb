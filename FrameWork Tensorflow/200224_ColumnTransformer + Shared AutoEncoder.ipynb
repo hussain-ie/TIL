{
 "cells": [
  {
   "cell_type": "code",
   "execution_count": 242,
   "metadata": {},
   "outputs": [],
   "source": [
    "import tensorflow as tf\n",
    "import numpy as np\n",
    "import pandas as pd , sys\n",
    "import matplotlib.pyplot as plt\n",
    "import scikitplot as skplt\n",
    "from IPython.display import clear_output\n",
    "from sklearn.metrics import auc , roc_auc_score\n",
    "from sklearn.model_selection import train_test_split\n",
    "sys.path.append(\"/home/advice/Python/SR/Custom/\")\n",
    "from RAdam import RAdamOptimizer\n",
    "import seaborn as sns\n",
    "import re , os\n",
    "from sklearn.preprocessing import StandardScaler\n",
    "from sklearn.model_selection import train_test_split\n",
    "import scikitplot as skplot\n",
    "from ColumnMatch import MatchVariable"
   ]
  },
  {
   "cell_type": "code",
   "execution_count": 243,
   "metadata": {},
   "outputs": [
    {
     "name": "stdout",
     "output_type": "stream",
     "text": [
      "The autoreload extension is already loaded. To reload it, use:\n",
      "  %reload_ext autoreload\n"
     ]
    }
   ],
   "source": [
    "%load_ext autoreload\n",
    "%autoreload 2"
   ]
  },
  {
   "cell_type": "code",
   "execution_count": 244,
   "metadata": {},
   "outputs": [],
   "source": [
    "from tensorflow.contrib.layers import *\n",
    "def get_weight_variable(shape, name=None,\n",
    "                        type='xavier_uniform', regularize=True, **kwargs):\n",
    "    initialise_from_constant = False\n",
    "    if type == 'xavier_uniform':\n",
    "        initial = xavier_initializer(uniform=True, dtype=tf.float32)\n",
    "    elif type == 'xavier_normal':\n",
    "        initial = xavier_initializer(uniform=False, dtype=tf.float32)\n",
    "    elif type == 'he_normal':\n",
    "        initial = variance_scaling_initializer(uniform=False, factor=2.0, mode='FAN_IN', dtype=tf.float32)\n",
    "    elif type == 'he_uniform':\n",
    "        initial = variance_scaling_initializer(uniform=True, factor=2.0, mode='FAN_IN', dtype=tf.float32)\n",
    "    elif type == 'caffe_uniform':\n",
    "        initial = variance_scaling_initializer(uniform=True, factor=1.0, mode='FAN_IN', dtype=tf.float32)\n",
    "    elif type == 'simple':\n",
    "        stddev = kwargs.get('stddev', 0.02)\n",
    "        initial = tf.truncated_normal(shape, stddev=stddev, dtype=tf.float32)\n",
    "        initialise_from_constant = True\n",
    "    elif type == 'bilinear':\n",
    "        weights = _bilinear_upsample_weights(shape)\n",
    "        initial = tf.constant(weights, shape=shape, dtype=tf.float32)\n",
    "        initialise_from_constant = True\n",
    "    else:\n",
    "        raise ValueError('Unknown initialisation requested: %s' % type)\n",
    "\n",
    "    if name is None:  # This keeps to option open to use unnamed Variables\n",
    "        weight = tf.Variable(initial)\n",
    "    else:\n",
    "        if initialise_from_constant:\n",
    "            weight = tf.get_variable(name, initializer=initial)\n",
    "        else:\n",
    "            weight = tf.get_variable(name, shape=shape, initializer=initial)\n",
    "    if regularize:\n",
    "        tf.add_to_collection('weight_variables', weight)\n",
    "    return weight "
   ]
  },
  {
   "cell_type": "code",
   "execution_count": 245,
   "metadata": {},
   "outputs": [
    {
     "data": {
      "text/plain": [
       "'/home/advice/Python/SR/Data'"
      ]
     },
     "execution_count": 245,
     "metadata": {},
     "output_type": "execute_result"
    }
   ],
   "source": [
    "import os\n",
    "os.path.abspath(\"./../../../Data/\")"
   ]
  },
  {
   "cell_type": "code",
   "execution_count": 246,
   "metadata": {},
   "outputs": [],
   "source": [
    "data = pd.read_csv(\"./../../../Data/kdd/uci/uci_creditcard-train-0.2-0.0.csv\")\n",
    "in_var = [\"LIMIT_BAL\", \"SEX\", \"EDUCATION\", \"MARRIAGE\", \"AGE\", \"PAY_0\", \"PAY_2\", \"PAY_3\", \"PAY_4\", \"PAY_5\", \"PAY_6\",\n",
    "          \"BILL_AMT1\", \"BILL_AMT2\", \"BILL_AMT3\", \"BILL_AMT4\", \"BILL_AMT5\", \"BILL_AMT6\",\n",
    "          \"PAY_AMT1\", \"PAY_AMT2\", \"PAY_AMT3\", \"PAY_AMT4\", \"PAY_AMT5\", \"PAY_AMT6\"]\n",
    "target_var = ['default payment next month']\n",
    "fac_var = [ 'SEX','EDUCATION','MARRIAGE',]\n",
    "num_var = [i for i in in_var if not i in fac_var]\n",
    "#in_var = num_var + fac_var\n",
    "data[fac_var] = data[fac_var].astype(\"category\")"
   ]
  },
  {
   "cell_type": "code",
   "execution_count": 247,
   "metadata": {},
   "outputs": [],
   "source": [
    "cat_col = data.select_dtypes(\"category\").columns.tolist()\n",
    "onehot_data = pd.get_dummies(data , columns= cat_col)"
   ]
  },
  {
   "cell_type": "code",
   "execution_count": 248,
   "metadata": {},
   "outputs": [],
   "source": [
    "select_var = in_var + target_var + [\"sep_idx\"]\n",
    "data = data[select_var]"
   ]
  },
  {
   "cell_type": "code",
   "execution_count": 249,
   "metadata": {},
   "outputs": [],
   "source": [
    "train = data[data.sep_idx ==1 ]\n",
    "valid = data[data.sep_idx ==0 ]\n",
    "## \n",
    "train = data\n",
    "_ = train.pop(\"sep_idx\")\n",
    "_ = valid.pop(\"sep_idx\")"
   ]
  },
  {
   "cell_type": "code",
   "execution_count": 250,
   "metadata": {},
   "outputs": [],
   "source": [
    "Train_X = pd.get_dummies(train , columns= cat_col)\n",
    "Train_y = Train_X.pop(target_var[0])"
   ]
  },
  {
   "cell_type": "code",
   "execution_count": 251,
   "metadata": {},
   "outputs": [],
   "source": [
    "num_var = ['LIMIT_BAL', 'AGE', 'PAY_0', 'PAY_2', 'PAY_3', 'PAY_4', 'PAY_5', 'PAY_6', 'BILL_AMT1', 'BILL_AMT2', 'BILL_AMT3', 'BILL_AMT4', 'BILL_AMT5', 'BILL_AMT6', 'PAY_AMT1', 'PAY_AMT2', 'PAY_AMT3', 'PAY_AMT4', 'PAY_AMT5', 'PAY_AMT6']"
   ]
  },
  {
   "cell_type": "code",
   "execution_count": 252,
   "metadata": {},
   "outputs": [],
   "source": [
    "one_hot_var = Train_X.columns.tolist()\n",
    "#in_var = data.columns.tolist()"
   ]
  },
  {
   "cell_type": "code",
   "execution_count": 253,
   "metadata": {},
   "outputs": [],
   "source": [
    "MV = MatchVariable()\n",
    "in_var = MV.match_invar(one_hot_var , in_var)"
   ]
  },
  {
   "cell_type": "code",
   "execution_count": 254,
   "metadata": {},
   "outputs": [],
   "source": [
    "key_onehot_store , onehot_store = MV.OneHotIndex(in_var , num_var , one_hot_var)"
   ]
  },
  {
   "cell_type": "code",
   "execution_count": 255,
   "metadata": {},
   "outputs": [],
   "source": [
    "#key_onehot_store , onehot_store = OneHotIndex(in_var , num_var , one_hot_var)"
   ]
  },
  {
   "cell_type": "code",
   "execution_count": 256,
   "metadata": {},
   "outputs": [],
   "source": [
    "test = pd.read_csv(\"./../../../Data/kdd/uci/uci_creditcard-test-0.2-0.0.csv\")\n",
    "Test_y = test.pop(target_var[0])\n",
    "Test_X = pd.get_dummies(test , columns= fac_var)[one_hot_var]"
   ]
  },
  {
   "cell_type": "code",
   "execution_count": 257,
   "metadata": {},
   "outputs": [],
   "source": [
    "Train_y.reset_index(drop=True ,inplace=True)\n",
    "target_1_list = Train_y[(Train_y == 1) == True].index.tolist()\n",
    "target_0_list = Train_y[(Train_y == 0) == True].index.tolist()"
   ]
  },
  {
   "cell_type": "code",
   "execution_count": 258,
   "metadata": {},
   "outputs": [],
   "source": [
    "ck = list(set(target_1_list) & set(target_0_list))\n",
    "assert ck == [], \"중복 발생 : {}\".format(ck)"
   ]
  },
  {
   "cell_type": "code",
   "execution_count": 259,
   "metadata": {},
   "outputs": [],
   "source": [
    "from sklearn.compose import ColumnTransformer\n",
    "from sklearn.pipeline import Pipeline\n",
    "from sklearn.impute import SimpleImputer\n",
    "from sklearn.preprocessing import (\n",
    "    StandardScaler, OneHotEncoder ,\n",
    "    MinMaxScaler , RobustScaler,\n",
    "    PowerTransformer\n",
    ")"
   ]
  },
  {
   "cell_type": "code",
   "execution_count": 260,
   "metadata": {},
   "outputs": [],
   "source": [
    "from sklearn.compose import ColumnTransformer\n",
    "from sklearn.preprocessing import StandardScaler, OneHotEncoder\n",
    "from sklearn.base import BaseEstimator\n",
    "from sklearn.base import TransformerMixin\n",
    "from collections import Counter\n",
    "from copy import deepcopy\n",
    "class FeatureSelector(BaseEstimator, TransformerMixin):\n",
    "    #Class Constructor \n",
    "    def __init__(self, feature_names):\n",
    "        self.feature_names = feature_names\n",
    "    #Return self nothing else to do here    \n",
    "    def fit(self, X, y = None):\n",
    "        return self\n",
    "    #Method that describes what we need this transformer to do\n",
    "    def transform(self, X, y = None):\n",
    "        return X[self.feature_names]\n",
    "    \n",
    "class OutlierTransformer(BaseEstimator, TransformerMixin ):\n",
    "    #Class constructor method that takes a boolean as its argument\n",
    "    def __init__(self, new_features = True , multiple_outlier_n = 5):\n",
    "        self.multiple_outlier_n = multiple_outlier_n\n",
    "        self.new_features = new_features\n",
    "    #Return self nothing else to do here    \n",
    "    def fit( self, X:pd.DataFrame, y = None )-> dict:\n",
    "        self.Detect_Outlier = {}\n",
    "        df = deepcopy(X)\n",
    "        outlier_indices = [] \n",
    "        # convert columns to numerical\n",
    "        self.totalcol = df.columns.tolist()\n",
    "        print(self.totalcol)\n",
    "        for name in self.totalcol :\n",
    "            selectvar = df[name]\n",
    "            Q1, Q3 = selectvar.quantile([0.25,0.75]).values\n",
    "            IQR = Q3 - Q1\n",
    "            minimum , maximum = (Q1 - 1.5 * IQR) , (Q3 + 1.5 * IQR)\n",
    "            select_idx = (selectvar  < minimum ) | (selectvar > maximum)\n",
    "            outlier_list_col = selectvar[select_idx].index.tolist()\n",
    "            outlier_indices.extend(outlier_list_col)\n",
    "            self.Detect_Outlier[name] = [minimum , maximum]\n",
    "        outlier_indices = Counter(outlier_indices) \n",
    "        multiple_outliers = list(k for k, v in outlier_indices.items() if v > self.multiple_outlier_n)\n",
    "        print(f\"{self.multiple_outlier_n} Column Dudicated Outlier Index : {len(multiple_outliers)}\")\n",
    "        return self\n",
    "    \n",
    "    def transform(self, X:pd.DataFrame , y = None ) -> pd.DataFrame :\n",
    "        df = deepcopy(X)\n",
    "        for name in self.totalcol :\n",
    "            selectvar = df[name]\n",
    "            Q1, Q3 = selectvar.quantile([0.25,0.75]).values\n",
    "            IQR = Q3 - Q1\n",
    "            minimum , maximum = self.Detect_Outlier[name]\n",
    "            select_idx = (selectvar  < minimum ) | (selectvar > maximum)\n",
    "            selectvar[select_idx] = np.nan\n",
    "            df[name] = selectvar\n",
    "        print(df.shape)\n",
    "        return df    \n",
    "    def get_feature(self) :\n",
    "        return self.totalcol"
   ]
  },
  {
   "cell_type": "code",
   "execution_count": 261,
   "metadata": {},
   "outputs": [],
   "source": [
    "numeric_pipe = Pipeline([(\"Outlier\", OutlierTransformer(multiple_outlier_n=5)),\n",
    "                         (\"imputer\", SimpleImputer(strategy='mean')),\n",
    "                         (\"scaler2\", MinMaxScaler(feature_range=(-2,2)))])\n",
    "col_transformer = ColumnTransformer(transformers=[(\"nums\",numeric_pipe , num_var)],n_jobs=None)"
   ]
  },
  {
   "cell_type": "code",
   "execution_count": 262,
   "metadata": {},
   "outputs": [
    {
     "name": "stdout",
     "output_type": "stream",
     "text": [
      "['LIMIT_BAL', 'AGE', 'PAY_0', 'PAY_2', 'PAY_3', 'PAY_4', 'PAY_5', 'PAY_6', 'BILL_AMT1', 'BILL_AMT2', 'BILL_AMT3', 'BILL_AMT4', 'BILL_AMT5', 'BILL_AMT6', 'PAY_AMT1', 'PAY_AMT2', 'PAY_AMT3', 'PAY_AMT4', 'PAY_AMT5', 'PAY_AMT6']\n",
      "5 Column Dudicated Outlier Index : 1718\n",
      "(30000, 20)\n",
      "(30000, 20)\n",
      "(6004, 20)\n"
     ]
    }
   ],
   "source": [
    "col_transformer.fit(Train_X)\n",
    "Train_X[num_var] = col_transformer.transform(Train_X)\n",
    "Test_X[num_var] = col_transformer.transform(Test_X)"
   ]
  },
  {
   "cell_type": "code",
   "execution_count": 263,
   "metadata": {},
   "outputs": [
    {
     "name": "stdout",
     "output_type": "stream",
     "text": [
      "['LIMIT_BAL', 'AGE', 'PAY_0', 'PAY_2', 'PAY_3', 'PAY_4', 'PAY_5', 'PAY_6', 'BILL_AMT1', 'BILL_AMT2', 'BILL_AMT3', 'BILL_AMT4', 'BILL_AMT5', 'BILL_AMT6', 'PAY_AMT1', 'PAY_AMT2', 'PAY_AMT3', 'PAY_AMT4', 'PAY_AMT5', 'PAY_AMT6']\n"
     ]
    }
   ],
   "source": [
    "print(col_transformer.named_transformers_[\"nums\"].steps[0][1].totalcol)"
   ]
  },
  {
   "cell_type": "markdown",
   "metadata": {},
   "source": [
    "## 앙상블 테스트"
   ]
  },
  {
   "cell_type": "code",
   "execution_count": 264,
   "metadata": {},
   "outputs": [],
   "source": [
    "Train_X_np = Train_X.values\n",
    "#Valid_X_np = Valid_X.values\n",
    "Test_X_np = Test_X.values"
   ]
  },
  {
   "cell_type": "code",
   "execution_count": 265,
   "metadata": {},
   "outputs": [
    {
     "data": {
      "text/plain": [
       "array([[-1.92156863, -1.69230769,  0.2980045 , ...,  1.        ,\n",
       "         0.        ,  0.        ],\n",
       "       [-1.1372549 , -1.48717949, -0.66666667, ...,  0.        ,\n",
       "         1.        ,  0.        ],\n",
       "       [-1.37254902, -0.54243209,  0.66666667, ...,  0.        ,\n",
       "         1.        ,  0.        ],\n",
       "       ...,\n",
       "       [-1.45098039, -0.66666667,  0.2980045 , ...,  0.        ,\n",
       "         0.        ,  0.        ],\n",
       "       [-0.90196078,  0.25641026,  0.2980045 , ...,  0.        ,\n",
       "         1.        ,  0.        ],\n",
       "       [-1.45098039,  0.05128205,  2.        , ...,  0.        ,\n",
       "         0.        ,  0.        ]])"
      ]
     },
     "execution_count": 265,
     "metadata": {},
     "output_type": "execute_result"
    }
   ],
   "source": [
    "Train_X_np"
   ]
  },
  {
   "cell_type": "code",
   "execution_count": 266,
   "metadata": {},
   "outputs": [
    {
     "name": "stdout",
     "output_type": "stream",
     "text": [
      "30000 33\n"
     ]
    }
   ],
   "source": [
    "row , dim = Train_X_np.shape\n",
    "print(row,dim)\n",
    "target_n = 2 \n",
    "tf.reset_default_graph()\n",
    "X = tf.placeholder(tf.float32, shape = [ None , dim])\n",
    "y = tf.placeholder(tf.float32, shape = [ None , 1])\n",
    "DropoutRate = tf.placeholder(tf.float32, name =\"dropoutRate\")\n",
    "training = tf.placeholder_with_default(False, shape=[], name=\"training\")"
   ]
  },
  {
   "cell_type": "code",
   "execution_count": 267,
   "metadata": {},
   "outputs": [],
   "source": [
    "TOTAL_DIM , h_dim , h_dim2 = dim , 20 , 10\n",
    "Weight1 =get_weight_variable(shape = [TOTAL_DIM , h_dim], \n",
    "                            name=f\"W1\",type='he_normal', regularize=True)\n",
    "Weight2 =get_weight_variable(shape = [h_dim , h_dim2], \n",
    "                            name=f\"W2\",type='he_normal', regularize=True)"
   ]
  },
  {
   "cell_type": "code",
   "execution_count": 268,
   "metadata": {},
   "outputs": [],
   "source": [
    "encodelayer1 = tf.matmul(X ,Weight1)\n",
    "code = tf.matmul(encodelayer1, Weight2)\n",
    "decodelayer1 = tf.matmul(code, Weight2 , transpose_a=False , transpose_b=True )\n",
    "trans_x = tf.matmul(decodelayer1, Weight1 , transpose_a=False , transpose_b=True )"
   ]
  },
  {
   "cell_type": "code",
   "execution_count": 269,
   "metadata": {},
   "outputs": [],
   "source": [
    "loss = tf.reduce_mean(tf.square(X - trans_x))"
   ]
  },
  {
   "cell_type": "code",
   "execution_count": 270,
   "metadata": {},
   "outputs": [],
   "source": [
    "vars = tf.trainable_variables()"
   ]
  },
  {
   "cell_type": "code",
   "execution_count": 273,
   "metadata": {},
   "outputs": [
    {
     "name": "stdout",
     "output_type": "stream",
     "text": [
      "[<tf.Variable 'W1:0' shape=(33, 20) dtype=float32_ref>, <tf.Variable 'W2:0' shape=(20, 10) dtype=float32_ref>]\n"
     ]
    }
   ],
   "source": [
    "print(vars)"
   ]
  },
  {
   "cell_type": "code",
   "execution_count": 271,
   "metadata": {},
   "outputs": [],
   "source": [
    "solver = tf.train.AdamOptimizer(learning_rate= 1e-4).minimize(loss ,var_list = vars )"
   ]
  },
  {
   "cell_type": "code",
   "execution_count": 272,
   "metadata": {},
   "outputs": [
    {
     "data": {
      "image/png": "[encoded data removed]",
      "text/plain": [
       "<Figure size 432x288 with 1 Axes>"
      ]
     },
     "metadata": {
      "needs_background": "light"
     },
     "output_type": "display_data"
    },
    {
     "name": "stdout",
     "output_type": "stream",
     "text": [
      "9999\r"
     ]
    }
   ],
   "source": [
    "Epoch = 10000\n",
    "mb_size = 1000\n",
    "config=tf.ConfigProto(log_device_placement=True)\n",
    "config.gpu_options.allow_growth = True\n",
    "sess = tf.Session(config = config)\n",
    "init = tf.group(tf.global_variables_initializer(), tf.local_variables_initializer())\n",
    "sess.run(init)\n",
    "_Loss_ = []\n",
    "_Epoch_ = []\n",
    "print(\"Train\")\n",
    "for epoch in range(Epoch) :\n",
    "    print(epoch , end = \"\\r\")\n",
    "    idx = np.random.permutation(len(Train_X_np))\n",
    "    XX = Train_X_np[idx , : ]\n",
    "    batch_iter = int(len(XX) / mb_size)\n",
    "    batchLoss = 0\n",
    "    for idx in range(batch_iter) :\n",
    "        X_mb = XX[idx*mb_size:(idx+1)*mb_size]\n",
    "        Feed = {X : X_mb }\n",
    "        _ , LOSS  = sess.run([solver , loss] , feed_dict= Feed)\n",
    "        batchLoss += LOSS\n",
    "    batchLoss /= batch_iter\n",
    "    _Loss_.append(batchLoss)\n",
    "    _Epoch_.append(epoch)\n",
    "    if epoch % 100 == 0 :\n",
    "        clear_output()\n",
    "        plt.plot(_Epoch_ , _Loss_ )\n",
    "        select= np.argmin(_Loss_)\n",
    "        msg = f\"Epoch : {epoch}, Loss : {batchLoss:.3f}, minimum : {_Loss_[select]:.3f}\"\n",
    "        plt.title(msg)\n",
    "        plt.show()"
   ]
  },
  {
   "cell_type": "code",
   "execution_count": 239,
   "metadata": {},
   "outputs": [
    {
     "data": {
      "text/plain": [
       "1039"
      ]
     },
     "execution_count": 239,
     "metadata": {},
     "output_type": "execute_result"
    }
   ],
   "source": []
  },
  {
   "cell_type": "code",
   "execution_count": null,
   "metadata": {},
   "outputs": [],
   "source": []
  }
 ],
 "metadata": {
  "kernelspec": {
   "display_name": "base",
   "language": "python",
   "name": "base"
  },
  "language_info": {
   "codemirror_mode": {
    "name": "ipython",
    "version": 3
   },
   "file_extension": ".py",
   "mimetype": "text/x-python",
   "name": "python",
   "nbconvert_exporter": "python",
   "pygments_lexer": "ipython3",
   "version": "3.6.7"
  }
 },
 "nbformat": 4,
 "nbformat_minor": 2
}
