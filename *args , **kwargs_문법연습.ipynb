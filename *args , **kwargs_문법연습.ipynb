{
  "nbformat": 4,
  "nbformat_minor": 0,
  "metadata": {
    "colab": {
      "name": "*args , **kwargs 문법.ipynb",
      "version": "0.3.2",
      "provenance": [],
      "collapsed_sections": [],
      "include_colab_link": true
    },
    "kernelspec": {
      "name": "python3",
      "display_name": "Python 3"
    }
  },
  "cells": [
    {
      "cell_type": "markdown",
      "metadata": {
        "id": "view-in-github",
        "colab_type": "text"
      },
      "source": [
        "[View in Colaboratory](https://colab.research.google.com/github/sungreong/TIL/blob/master/*args%20,%20**kwargs_%EB%AC%B8%EB%B2%95%EC%97%B0%EC%8A%B5.ipynb)"
      ]
    },
    {
      "metadata": {
        "id": "TlzDElq79d0C",
        "colab_type": "text"
      },
      "cell_type": "markdown",
      "source": [
        "## *args\n"
      ]
    },
    {
      "metadata": {
        "id": "ltUlwqMsPC0e",
        "colab_type": "code",
        "colab": {
          "base_uri": "https://localhost:8080/",
          "height": 143
        },
        "outputId": "3343dca9-6bc5-42b3-c157-034e6e38dfb0"
      },
      "cell_type": "code",
      "source": [
        "def a(*args) :\n",
        "    print(args)\n",
        "  \n",
        "print(\" tuple 출력 \")\n",
        "print(a(1,2,3,4) )\n",
        "print(a((1,2,3,4)))\n",
        "print(a((1,2),3,4))"
      ],
      "execution_count": 42,
      "outputs": [
        {
          "output_type": "stream",
          "text": [
            " tuple 출력 \n",
            "(1, 2, 3, 4)\n",
            "None\n",
            "((1, 2, 3, 4),)\n",
            "None\n",
            "((1, 2), 3, 4)\n",
            "None\n"
          ],
          "name": "stdout"
        }
      ]
    },
    {
      "metadata": {
        "id": "qa9vxXZbRIfk",
        "colab_type": "code",
        "colab": {
          "base_uri": "https://localhost:8080/",
          "height": 89
        },
        "outputId": "001ad854-4b58-4eaf-f3e9-ec4fc9b041c0"
      },
      "cell_type": "code",
      "source": [
        "numbers = [1, 2, 3, 4, 5, 6]\n",
        "*a, = numbers\n",
        "print(*a)\n",
        "*a, b = numbers\n",
        "print(*a , \"/\" , b)\n",
        "*a, b ,  = numbers\n",
        "print(*a , \"/\" , b)\n",
        "a, *b , c  = numbers\n",
        "print(a , \"/\" , *b , \"/\" , c)"
      ],
      "execution_count": 84,
      "outputs": [
        {
          "output_type": "stream",
          "text": [
            "1 2 3 4 5 6\n",
            "1 2 3 4 5 / 6\n",
            "1 2 3 4 5 / 6\n",
            "1 / 2 3 4 5 / 6\n"
          ],
          "name": "stdout"
        }
      ]
    },
    {
      "metadata": {
        "id": "Bj-Hp4CkPyeF",
        "colab_type": "code",
        "colab": {
          "base_uri": "https://localhost:8080/",
          "height": 89
        },
        "outputId": "f98628e3-c561-4e1d-9a63-71be481dd099"
      },
      "cell_type": "code",
      "source": [
        "def test_var_args(f_arg, *argv):\n",
        "    print (\"첫 번째 인자:\", f_arg)\n",
        "    i = 1\n",
        "    for arg in argv:\n",
        "        print (\"*argv의 {i}번째 다른 인자 {arg}\".format(i=i , arg = arg))\n",
        "        i +=1\n",
        "\n",
        "test_var_args('야숩', 'python', '달걀', 'test')"
      ],
      "execution_count": 55,
      "outputs": [
        {
          "output_type": "stream",
          "text": [
            "첫 번째 인자: 야숩\n",
            "*argv의 1번째 다른 인자 python\n",
            "*argv의 2번째 다른 인자 달걀\n",
            "*argv의 3번째 다른 인자 test\n"
          ],
          "name": "stdout"
        }
      ]
    },
    {
      "metadata": {
        "id": "ZrDVcMK2SEZx",
        "colab_type": "code",
        "colab": {
          "base_uri": "https://localhost:8080/",
          "height": 287
        },
        "outputId": "51d5f845-25ac-41b5-ac4f-852d0899a0ab"
      },
      "cell_type": "code",
      "source": [
        "def multiply( *args ) :\n",
        "    print(\"*args : \" , *args)\n",
        "    print(\"args : \" , args)\n",
        "    \n",
        "    z = 1\n",
        "    for num in args :\n",
        "        z *=num\n",
        "    print(z)\n",
        "    \n",
        "multiply(10,2,3 )\n",
        "a = (2,3,4,5)\n",
        "print(\"옳은 예\")\n",
        "multiply( *a )\n",
        "print(\" 틀린 예\")\n",
        "multiply( a )\n",
        "### (tuple) 형태로 for문 작동한다. \n",
        "for i in (1,2,3,4) :\n",
        "    print(i)"
      ],
      "execution_count": 101,
      "outputs": [
        {
          "output_type": "stream",
          "text": [
            "*args :  10 2 3\n",
            "args :  (10, 2, 3)\n",
            "60\n",
            "옳은 예\n",
            "*args :  2 3 4 5\n",
            "args :  (2, 3, 4, 5)\n",
            "120\n",
            " 틀린 예\n",
            "*args :  (2, 3, 4, 5)\n",
            "args :  ((2, 3, 4, 5),)\n",
            "(2, 3, 4, 5)\n",
            "1\n",
            "2\n",
            "3\n",
            "4\n"
          ],
          "name": "stdout"
        }
      ]
    },
    {
      "metadata": {
        "id": "-BHXk9UsSg6g",
        "colab_type": "code",
        "colab": {
          "base_uri": "https://localhost:8080/",
          "height": 125
        },
        "outputId": "ce63ed11-3d2b-4b20-f8cf-79d7577145e7"
      },
      "cell_type": "code",
      "source": [
        "def test_args_kwargs(arg1, arg2, arg3):\n",
        "    print( \"arg1:\", arg1)\n",
        "    print( \"arg2:\", arg2)\n",
        "    print( \"arg3:\", arg3)\n",
        "    \n",
        "args = (\"two\", 3,5)\n",
        "test_args_kwargs(*args)\n",
        "kwargs = {\"arg3\": 3, \"arg2\": \"two\",\"arg1\":5}\n",
        "test_args_kwargs(**kwargs)"
      ],
      "execution_count": 77,
      "outputs": [
        {
          "output_type": "stream",
          "text": [
            "arg1: two\n",
            "arg2: 3\n",
            "arg3: 5\n",
            "arg1: 5\n",
            "arg2: two\n",
            "arg3: 3\n"
          ],
          "name": "stdout"
        }
      ]
    },
    {
      "metadata": {
        "id": "7rOcLfN0Uuyp",
        "colab_type": "code",
        "colab": {
          "base_uri": "https://localhost:8080/",
          "height": 53
        },
        "outputId": "eef378b9-9f9f-4f78-da28-6cac40bcb05d"
      },
      "cell_type": "code",
      "source": [
        "def print_three_things(a, b, c):\n",
        "    print( 'a = {0}, b = {1}, c = {2}'.format(a,b,c))\n",
        "    \n",
        "mylist = ['aardvark', 'baboon', 'cat']\n",
        "print(*mylist)\n",
        "print_three_things(*mylist)"
      ],
      "execution_count": 89,
      "outputs": [
        {
          "output_type": "stream",
          "text": [
            "aardvark baboon cat\n",
            "a = aardvark, b = baboon, c = cat\n"
          ],
          "name": "stdout"
        }
      ]
    },
    {
      "metadata": {
        "id": "U3i7SRUW9WnP",
        "colab_type": "code",
        "colab": {
          "base_uri": "https://localhost:8080/",
          "height": 442
        },
        "outputId": "0a88ac34-14e1-4f97-98c8-fd539bd94060"
      },
      "cell_type": "code",
      "source": [
        "import numpy as np\n",
        "\n",
        "def sum_two(a,b) :\n",
        "    return  a + b \n",
        "\n",
        "def sum_args(*args ) :\n",
        "    sum = 0 \n",
        "    for arg in args :\n",
        "        sum +=arg\n",
        "    return sum\n",
        "    \n",
        "\n",
        "print(sum_two(1,2))\n",
        "print(\"np.arange : \" , np.arange(10) , type(np.arange(10)) , \"Unpacking =>  *np.arange(10) : \" , *np.arange(10))\n",
        "print(sum_args(np.arange(10)))\n",
        "print(sum_args(*np.arange(10)))\n",
        "values = (1,2,3,4)\n",
        "print(values , type(values) , \"Unpacking =>  *values : \",*values)\n",
        "print(sum_args(*values))\n",
        "## error 발생 tupple 은 안된다.\n",
        "print(sum_args( values ))"
      ],
      "execution_count": 22,
      "outputs": [
        {
          "output_type": "stream",
          "text": [
            "3\n",
            "np.arange :  [0 1 2 3 4 5 6 7 8 9] <class 'numpy.ndarray'> Unpacking =>  *np.arange(10) :  0 1 2 3 4 5 6 7 8 9\n",
            "[0 1 2 3 4 5 6 7 8 9]\n",
            "45\n",
            "(1, 2, 3, 4) <class 'tuple'> Unpacking , *values :  1 2 3 4\n",
            "10\n"
          ],
          "name": "stdout"
        },
        {
          "output_type": "error",
          "ename": "TypeError",
          "evalue": "ignored",
          "traceback": [
            "\u001b[0;31m---------------------------------------------------------------------------\u001b[0m",
            "\u001b[0;31mTypeError\u001b[0m                                 Traceback (most recent call last)",
            "\u001b[0;32m<ipython-input-22-67e71af6f90a>\u001b[0m in \u001b[0;36m<module>\u001b[0;34m()\u001b[0m\n\u001b[1;32m     19\u001b[0m \u001b[0mprint\u001b[0m\u001b[0;34m(\u001b[0m\u001b[0msum_args\u001b[0m\u001b[0;34m(\u001b[0m\u001b[0;34m*\u001b[0m\u001b[0mvalues\u001b[0m\u001b[0;34m)\u001b[0m\u001b[0;34m)\u001b[0m\u001b[0;34m\u001b[0m\u001b[0m\n\u001b[1;32m     20\u001b[0m \u001b[0;31m## error 발생 tupple 은 안된다.\u001b[0m\u001b[0;34m\u001b[0m\u001b[0;34m\u001b[0m\u001b[0m\n\u001b[0;32m---> 21\u001b[0;31m \u001b[0mprint\u001b[0m\u001b[0;34m(\u001b[0m\u001b[0msum_args\u001b[0m\u001b[0;34m(\u001b[0m \u001b[0mvalues\u001b[0m \u001b[0;34m)\u001b[0m\u001b[0;34m)\u001b[0m\u001b[0;34m\u001b[0m\u001b[0m\n\u001b[0m",
            "\u001b[0;32m<ipython-input-22-67e71af6f90a>\u001b[0m in \u001b[0;36msum_args\u001b[0;34m(*args)\u001b[0m\n\u001b[1;32m      7\u001b[0m     \u001b[0msum\u001b[0m \u001b[0;34m=\u001b[0m \u001b[0;36m0\u001b[0m\u001b[0;34m\u001b[0m\u001b[0m\n\u001b[1;32m      8\u001b[0m     \u001b[0;32mfor\u001b[0m \u001b[0marg\u001b[0m \u001b[0;32min\u001b[0m \u001b[0margs\u001b[0m \u001b[0;34m:\u001b[0m\u001b[0;34m\u001b[0m\u001b[0m\n\u001b[0;32m----> 9\u001b[0;31m         \u001b[0msum\u001b[0m \u001b[0;34m+=\u001b[0m\u001b[0marg\u001b[0m\u001b[0;34m\u001b[0m\u001b[0m\n\u001b[0m\u001b[1;32m     10\u001b[0m     \u001b[0;32mreturn\u001b[0m \u001b[0msum\u001b[0m\u001b[0;34m\u001b[0m\u001b[0m\n\u001b[1;32m     11\u001b[0m \u001b[0;34m\u001b[0m\u001b[0m\n",
            "\u001b[0;31mTypeError\u001b[0m: unsupported operand type(s) for +=: 'int' and 'tuple'"
          ]
        }
      ]
    },
    {
      "metadata": {
        "id": "6UCtbvATMs5i",
        "colab_type": "text"
      },
      "cell_type": "markdown",
      "source": [
        "# **kwargs "
      ]
    },
    {
      "metadata": {
        "id": "9t3AhU7bPXqM",
        "colab_type": "code",
        "colab": {
          "base_uri": "https://localhost:8080/",
          "height": 35
        },
        "outputId": "cd15d361-f8f2-4723-9b93-11fa7b56f7e7"
      },
      "cell_type": "code",
      "source": [
        "def b(**kwargs ) :\n",
        "    print(kwargs)\n",
        "    \n",
        "b(a=1 , b=2, c= 3 )"
      ],
      "execution_count": 49,
      "outputs": [
        {
          "output_type": "stream",
          "text": [
            "{'a': 1, 'b': 2, 'c': 3}\n"
          ],
          "name": "stdout"
        }
      ]
    },
    {
      "metadata": {
        "id": "Q2Zr8FUgMirE",
        "colab_type": "code",
        "colab": {
          "base_uri": "https://localhost:8080/",
          "height": 143
        },
        "outputId": "692a5c7a-6fa2-4391-c735-45eb587bd176"
      },
      "cell_type": "code",
      "source": [
        "def myprofile_two(name , age ) : \n",
        "    print(\"{name}님의 나이는 {age}입니다\".format(name = name , age = age ))\n",
        "    \n",
        "profile_tuple = (\"홍길동\" , 25)\n",
        "print( myprofile_two(*profile_tuple) )\n",
        "\n",
        "profile_dict = {\n",
        "    \"name\" : \"홍길동\" , \n",
        "    \"age\" : 25 \n",
        "}\n",
        "\n",
        "print(*profile_dict)\n",
        "print( myprofile_two( *profile_dict ))\n",
        "print( myprofile_two(**profile_dict))\n"
      ],
      "execution_count": 28,
      "outputs": [
        {
          "output_type": "stream",
          "text": [
            "홍길동님의 나이는 25입니다\n",
            "None\n",
            "name age\n",
            "name님의 나이는 age입니다\n",
            "None\n",
            "홍길동님의 나이는 25입니다\n",
            "None\n"
          ],
          "name": "stdout"
        }
      ]
    },
    {
      "metadata": {
        "id": "gWCU6W7XRwxU",
        "colab_type": "code",
        "colab": {
          "base_uri": "https://localhost:8080/",
          "height": 269
        },
        "outputId": "c6748e29-4af4-4715-ac0e-15815a440651"
      },
      "cell_type": "code",
      "source": [
        "def intro(**data):\n",
        "    print(\"\\nData type of argument:\",type(data))\n",
        "\n",
        "    for key, value in data.items():\n",
        "        print(\"{} is {}\".format(key,value))\n",
        "\n",
        "intro(Firstname=\"Sita\", Lastname=\"Sharma\", Age=22, Phone=1234567890)\n",
        "intro(Firstname=\"John\", Lastname=\"Wood\", Email=\"johnwood@nomail.com\", Country=\"Wakanda\", Age=25, Phone=9876543210)"
      ],
      "execution_count": 70,
      "outputs": [
        {
          "output_type": "stream",
          "text": [
            "\n",
            "Data type of argument: <class 'dict'>\n",
            "Firstname is Sita\n",
            "Lastname is Sharma\n",
            "Age is 22\n",
            "Phone is 1234567890\n",
            "\n",
            "Data type of argument: <class 'dict'>\n",
            "Firstname is John\n",
            "Lastname is Wood\n",
            "Email is johnwood@nomail.com\n",
            "Country is Wakanda\n",
            "Age is 25\n",
            "Phone is 9876543210\n"
          ],
          "name": "stdout"
        }
      ]
    },
    {
      "metadata": {
        "id": "wnY-V9Z1UIuJ",
        "colab_type": "code",
        "colab": {
          "base_uri": "https://localhost:8080/",
          "height": 71
        },
        "outputId": "8d843d6f-6941-4d4b-ed9c-d08b4d64a081"
      },
      "cell_type": "code",
      "source": [
        "def test_var_kwargs(farg, **kwargs):\n",
        "    print( \"formal arg:\", farg)\n",
        "    for key in kwargs:\n",
        "        print( \"another keyword arg: %s: %s\" % (key, kwargs[key]))\n",
        "\n",
        "test_var_kwargs(farg=1, myarg2=\"two\", myarg3=3)"
      ],
      "execution_count": 86,
      "outputs": [
        {
          "output_type": "stream",
          "text": [
            "formal arg: 1\n",
            "another keyword arg: myarg2: two\n",
            "another keyword arg: myarg3: 3\n"
          ],
          "name": "stdout"
        }
      ]
    },
    {
      "metadata": {
        "id": "hm9g8hnKN6zp",
        "colab_type": "text"
      },
      "cell_type": "markdown",
      "source": [
        "# *    :    list 나 tuple 을 Unpacking \n",
        "# **  : dictionary 를 Unpacking"
      ]
    },
    {
      "metadata": {
        "id": "z64ZUrs3N5Do",
        "colab_type": "code",
        "colab": {
          "base_uri": "https://localhost:8080/",
          "height": 107
        },
        "outputId": "cd967ec2-8d8c-4798-dd7f-f5a328c1ca64"
      },
      "cell_type": "code",
      "source": [
        "profile_dict_many = {\n",
        "    \"name\" : \"이성령\" ,\n",
        "    \"age\" : 26 , \n",
        "    \"height\" : 180 , \n",
        "    \"country\" : \"대한민국\"\n",
        "}\n",
        "\n",
        "def myprofile_kwargs(**kwargs) :\n",
        "    for key , value in kwargs.items() :\n",
        "        print(\"{key} == {value}\".format( key = key , value = value ))\n",
        "        \n",
        "\n",
        "print(myprofile_kwargs( **profile_dict_many))\n"
      ],
      "execution_count": 56,
      "outputs": [
        {
          "output_type": "stream",
          "text": [
            "name == 이성령\n",
            "age == 26\n",
            "height == 180\n",
            "country == 대한민국\n",
            "None\n"
          ],
          "name": "stdout"
        }
      ]
    },
    {
      "metadata": {
        "id": "XeAQtNmUQeX7",
        "colab_type": "code",
        "colab": {
          "base_uri": "https://localhost:8080/",
          "height": 280
        },
        "outputId": "390aa421-e4bf-4d31-8a97-4b52363cf84c"
      },
      "cell_type": "code",
      "source": [
        "def test_args_kwargs(arg1, arg2, arg3):\n",
        "        print (\"인자1:\", arg1)\n",
        "        print (\"인자2:\", arg2)\n",
        "        print (\"인자3:\", arg3)\n",
        "        \n",
        "args = (\"two\", 3, 5)\n",
        "\n",
        "print(test_args_kwargs(*args))\n",
        "\n"
      ],
      "execution_count": 61,
      "outputs": [
        {
          "output_type": "stream",
          "text": [
            "인자1: two\n",
            "인자2: 3\n",
            "인자3: 5\n",
            "None\n"
          ],
          "name": "stdout"
        },
        {
          "output_type": "error",
          "ename": "TypeError",
          "evalue": "ignored",
          "traceback": [
            "\u001b[0;31m---------------------------------------------------------------------------\u001b[0m",
            "\u001b[0;31mTypeError\u001b[0m                                 Traceback (most recent call last)",
            "\u001b[0;32m<ipython-input-61-244fa164ba6d>\u001b[0m in \u001b[0;36m<module>\u001b[0;34m()\u001b[0m\n\u001b[1;32m     10\u001b[0m \u001b[0;31m##  arg(숫자)는 위 함수의 인자의 이름과 같아야합니다.\u001b[0m\u001b[0;34m\u001b[0m\u001b[0;34m\u001b[0m\u001b[0m\n\u001b[1;32m     11\u001b[0m \u001b[0mkwargs\u001b[0m \u001b[0;34m=\u001b[0m \u001b[0;34m{\u001b[0m\u001b[0;34m\"인자3:\"\u001b[0m\u001b[0;34m:\u001b[0m \u001b[0;36m3\u001b[0m\u001b[0;34m,\u001b[0m \u001b[0;34m\"인자2:\"\u001b[0m\u001b[0;34m:\u001b[0m \u001b[0;34m\"two\"\u001b[0m\u001b[0;34m,\u001b[0m \u001b[0;34m\"인자1:\"\u001b[0m\u001b[0;34m:\u001b[0m \u001b[0;36m5\u001b[0m\u001b[0;34m}\u001b[0m\u001b[0;34m\u001b[0m\u001b[0m\n\u001b[0;32m---> 12\u001b[0;31m \u001b[0mtest_args_kwargs\u001b[0m\u001b[0;34m(\u001b[0m \u001b[0;34m**\u001b[0m\u001b[0mkwargs\u001b[0m \u001b[0;34m)\u001b[0m\u001b[0;34m\u001b[0m\u001b[0m\n\u001b[0m",
            "\u001b[0;31mTypeError\u001b[0m: test_args_kwargs() got an unexpected keyword argument '인자3:'"
          ]
        }
      ]
    },
    {
      "metadata": {
        "id": "wdAZc0QUN5WR",
        "colab_type": "text"
      },
      "cell_type": "markdown",
      "source": [
        ""
      ]
    }
  ]
}