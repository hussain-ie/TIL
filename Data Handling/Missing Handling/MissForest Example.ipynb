{
 "cells": [
  {
   "cell_type": "code",
   "execution_count": 251,
   "metadata": {},
   "outputs": [],
   "source": [
    "from missingpy import MissForest\n",
    "import numpy as np\n",
    "import pandas as pd"
   ]
  },
  {
   "cell_type": "code",
   "execution_count": 309,
   "metadata": {},
   "outputs": [],
   "source": [
    "tr1 = list(\"ABCD\")\n",
    "tr2 = ['pooh', 'rabbit', 'piglet', 'Christopher']\n",
    "va1 = list(\"ABCDE\")\n",
    "va2 = ['pooh', 'rabbit', 'piglet', 'Christopher', \"bird\", \"coco\"]"
   ]
  },
  {
   "cell_type": "code",
   "execution_count": 310,
   "metadata": {},
   "outputs": [],
   "source": [
    "tr1_ = np.random.choice(tr1, 1000 , p=[0.5, 0.1, 0.1, 0.3])\n",
    "va1_ = np.random.choice(va1, 500 , p=[0.4, 0.1, 0.1, 0.3,0.1])\n",
    "tr2_ = np.random.choice(tr2, 1000 , p=[0.5, 0.1, 0.1, 0.3])\n",
    "va2_ = np.random.choice(va2, 500 , p=[0.5, 0.1, 0.09, 0.25,0.05,0.01])"
   ]
  },
  {
   "cell_type": "code",
   "execution_count": 311,
   "metadata": {},
   "outputs": [],
   "source": [
    "tr_n = np.random.normal(size = (1000 , 10))\n",
    "va_n = np.random.normal(size = (500 , 10))"
   ]
  },
  {
   "cell_type": "code",
   "execution_count": 255,
   "metadata": {},
   "outputs": [],
   "source": [
    "Tr = pd.DataFrame(tr_n, columns= [ \"Cols{}\".format(i) for i in np.arange(10)])"
   ]
  },
  {
   "cell_type": "code",
   "execution_count": 256,
   "metadata": {},
   "outputs": [],
   "source": [
    "Va = pd.DataFrame(va_n , columns= [ \"Cols{}\".format(i) for i in np.arange(10)])"
   ]
  },
  {
   "cell_type": "code",
   "execution_count": 257,
   "metadata": {},
   "outputs": [],
   "source": [
    "Tr[\"Col_Fac1\"] = tr1_\n",
    "Tr[\"Col_Fac2\"] = tr2_\n",
    "Va[\"Col_Fac1\"] = va1_\n",
    "Va[\"Col_Fac2\"] = va2_"
   ]
  },
  {
   "cell_type": "code",
   "execution_count": 258,
   "metadata": {},
   "outputs": [
    {
     "data": {
      "text/html": [
       "<div>\n",
       "<style scoped>\n",
       "    .dataframe tbody tr th:only-of-type {\n",
       "        vertical-align: middle;\n",
       "    }\n",
       "\n",
       "    .dataframe tbody tr th {\n",
       "        vertical-align: top;\n",
       "    }\n",
       "\n",
       "    .dataframe thead th {\n",
       "        text-align: right;\n",
       "    }\n",
       "</style>\n",
       "<table border=\"1\" class=\"dataframe\">\n",
       "  <thead>\n",
       "    <tr style=\"text-align: right;\">\n",
       "      <th></th>\n",
       "      <th>Cols0</th>\n",
       "      <th>Cols1</th>\n",
       "      <th>Cols2</th>\n",
       "      <th>Cols3</th>\n",
       "      <th>Cols4</th>\n",
       "      <th>Cols5</th>\n",
       "      <th>Cols6</th>\n",
       "      <th>Cols7</th>\n",
       "      <th>Cols8</th>\n",
       "      <th>Cols9</th>\n",
       "      <th>Col_Fac1</th>\n",
       "      <th>Col_Fac2</th>\n",
       "    </tr>\n",
       "  </thead>\n",
       "  <tbody>\n",
       "    <tr>\n",
       "      <td>0</td>\n",
       "      <td>1.000810</td>\n",
       "      <td>0.594519</td>\n",
       "      <td>-1.148063</td>\n",
       "      <td>-0.060060</td>\n",
       "      <td>0.722268</td>\n",
       "      <td>-0.591073</td>\n",
       "      <td>-2.349230</td>\n",
       "      <td>-1.134429</td>\n",
       "      <td>-0.049367</td>\n",
       "      <td>0.299794</td>\n",
       "      <td>A</td>\n",
       "      <td>Christopher</td>\n",
       "    </tr>\n",
       "    <tr>\n",
       "      <td>1</td>\n",
       "      <td>-0.031933</td>\n",
       "      <td>0.876172</td>\n",
       "      <td>0.560942</td>\n",
       "      <td>1.302315</td>\n",
       "      <td>1.053462</td>\n",
       "      <td>1.256597</td>\n",
       "      <td>-2.706752</td>\n",
       "      <td>-0.725914</td>\n",
       "      <td>-1.400529</td>\n",
       "      <td>-1.428877</td>\n",
       "      <td>A</td>\n",
       "      <td>pooh</td>\n",
       "    </tr>\n",
       "    <tr>\n",
       "      <td>2</td>\n",
       "      <td>-0.276633</td>\n",
       "      <td>-1.421927</td>\n",
       "      <td>-0.141082</td>\n",
       "      <td>-0.990817</td>\n",
       "      <td>-0.523672</td>\n",
       "      <td>0.503468</td>\n",
       "      <td>-0.872561</td>\n",
       "      <td>-0.397737</td>\n",
       "      <td>0.532623</td>\n",
       "      <td>1.316479</td>\n",
       "      <td>A</td>\n",
       "      <td>pooh</td>\n",
       "    </tr>\n",
       "    <tr>\n",
       "      <td>3</td>\n",
       "      <td>0.096472</td>\n",
       "      <td>-0.085093</td>\n",
       "      <td>0.729092</td>\n",
       "      <td>1.226028</td>\n",
       "      <td>-0.096815</td>\n",
       "      <td>1.448163</td>\n",
       "      <td>0.625146</td>\n",
       "      <td>0.264715</td>\n",
       "      <td>1.561072</td>\n",
       "      <td>-1.076675</td>\n",
       "      <td>A</td>\n",
       "      <td>pooh</td>\n",
       "    </tr>\n",
       "    <tr>\n",
       "      <td>4</td>\n",
       "      <td>0.066091</td>\n",
       "      <td>1.266297</td>\n",
       "      <td>-1.054634</td>\n",
       "      <td>-0.079544</td>\n",
       "      <td>0.787605</td>\n",
       "      <td>-1.232349</td>\n",
       "      <td>0.629026</td>\n",
       "      <td>0.535090</td>\n",
       "      <td>0.283848</td>\n",
       "      <td>-1.091094</td>\n",
       "      <td>A</td>\n",
       "      <td>pooh</td>\n",
       "    </tr>\n",
       "  </tbody>\n",
       "</table>\n",
       "</div>"
      ],
      "text/plain": [
       "      Cols0     Cols1     Cols2     Cols3     Cols4     Cols5     Cols6  \\\n",
       "0  1.000810  0.594519 -1.148063 -0.060060  0.722268 -0.591073 -2.349230   \n",
       "1 -0.031933  0.876172  0.560942  1.302315  1.053462  1.256597 -2.706752   \n",
       "2 -0.276633 -1.421927 -0.141082 -0.990817 -0.523672  0.503468 -0.872561   \n",
       "3  0.096472 -0.085093  0.729092  1.226028 -0.096815  1.448163  0.625146   \n",
       "4  0.066091  1.266297 -1.054634 -0.079544  0.787605 -1.232349  0.629026   \n",
       "\n",
       "      Cols7     Cols8     Cols9 Col_Fac1     Col_Fac2  \n",
       "0 -1.134429 -0.049367  0.299794        A  Christopher  \n",
       "1 -0.725914 -1.400529 -1.428877        A         pooh  \n",
       "2 -0.397737  0.532623  1.316479        A         pooh  \n",
       "3  0.264715  1.561072 -1.076675        A         pooh  \n",
       "4  0.535090  0.283848 -1.091094        A         pooh  "
      ]
     },
     "execution_count": 258,
     "metadata": {},
     "output_type": "execute_result"
    }
   ],
   "source": [
    "Tr.head()"
   ]
  },
  {
   "cell_type": "code",
   "execution_count": 259,
   "metadata": {},
   "outputs": [],
   "source": [
    "No , ori = Tr.shape\n",
    "p_miss = 0.2\n",
    "p_miss_vec = p_miss * np.ones((No,1)) \n",
    "Missing = np.zeros((No,ori))\n",
    "ori_Missing = np.zeros((No,ori))\n",
    "for idx , st in enumerate(np.arange(ori)) :\n",
    "    A = np.random.uniform(0., 1., size = [No,])\n",
    "    A1 = np.expand_dims(A , axis = 1)\n",
    "    B_ = A > p_miss_vec[idx]\n",
    "    ori_Missing[:,idx] = 1.*B_\n",
    "    B = A1 > p_miss_vec"
   ]
  },
  {
   "cell_type": "code",
   "execution_count": 260,
   "metadata": {},
   "outputs": [],
   "source": [
    "No , ori = Va.shape\n",
    "p_miss = 0.2\n",
    "p_miss_vec = p_miss * np.ones((No,1)) \n",
    "Missing = np.zeros((No,ori))\n",
    "va_Missing = np.zeros((No,ori))\n",
    "for idx , st in enumerate(np.arange(ori)) :\n",
    "    A = np.random.uniform(0., 1., size = [No,])\n",
    "    A1 = np.expand_dims(A , axis = 1)\n",
    "    B_ = A > p_miss_vec[idx]\n",
    "    va_Missing[:,idx] = 1.*B_\n",
    "    B = A1 > p_miss_vec"
   ]
  },
  {
   "cell_type": "code",
   "execution_count": 261,
   "metadata": {},
   "outputs": [],
   "source": [
    "MaskVector = 1-ori_Missing\n",
    "VaMaskVector = 1-va_Missing"
   ]
  },
  {
   "cell_type": "code",
   "execution_count": 262,
   "metadata": {},
   "outputs": [],
   "source": [
    "Tr[MaskVector == 1 ]= np.nan"
   ]
  },
  {
   "cell_type": "code",
   "execution_count": 263,
   "metadata": {},
   "outputs": [],
   "source": [
    "Va[VaMaskVector==1] = np.nan"
   ]
  },
  {
   "cell_type": "code",
   "execution_count": 264,
   "metadata": {},
   "outputs": [],
   "source": [
    "fac_var = [\"Col_Fac1\" , \"Col_Fac2\"]"
   ]
  },
  {
   "cell_type": "code",
   "execution_count": 265,
   "metadata": {},
   "outputs": [],
   "source": [
    "change_nan = {}\n",
    "for col in fac_var :\n",
    "    unis = list(set(Va[col].unique()).difference(set(Tr[col].unique())))\n",
    "    temp = {}\n",
    "    for uni in unis :\n",
    "        temp[uni] = np.nan\n",
    "    change_nan[col] = temp"
   ]
  },
  {
   "cell_type": "code",
   "execution_count": 266,
   "metadata": {},
   "outputs": [],
   "source": [
    "Va2 = Va.replace(change_nan)"
   ]
  },
  {
   "cell_type": "code",
   "execution_count": 267,
   "metadata": {},
   "outputs": [],
   "source": [
    "from sklearn.preprocessing import LabelEncoder"
   ]
  },
  {
   "cell_type": "code",
   "execution_count": 268,
   "metadata": {},
   "outputs": [],
   "source": [
    "le_info = {}\n",
    "for col in fac_var :\n",
    "    Tr[col] = Tr[col].fillna(\"NaN\")\n",
    "    Va2[col] = Va2[col].fillna(\"NaN\")\n",
    "    le = LabelEncoder()\n",
    "    x = Tr[col].unique()\n",
    "    le_info[col] = le.fit(x)\n",
    "    le.fit(x)\n",
    "    Tr[col] = le.transform(Tr[col])\n",
    "    Va2[col] = le.transform(Va2[col])\n",
    "    "
   ]
  },
  {
   "cell_type": "code",
   "execution_count": 269,
   "metadata": {},
   "outputs": [
    {
     "data": {
      "text/plain": [
       "array(['Christopher', 'NaN', 'piglet', 'pooh', 'rabbit'], dtype=object)"
      ]
     },
     "execution_count": 269,
     "metadata": {},
     "output_type": "execute_result"
    }
   ],
   "source": [
    "le_info[col].classes_"
   ]
  },
  {
   "cell_type": "code",
   "execution_count": 270,
   "metadata": {},
   "outputs": [],
   "source": [
    "Tr[MaskVector == 1 ]= np.nan\n",
    "Va2[VaMaskVector==1] = np.nan"
   ]
  },
  {
   "cell_type": "code",
   "execution_count": 283,
   "metadata": {},
   "outputs": [
    {
     "data": {
      "text/plain": [
       "(1000, 12)"
      ]
     },
     "execution_count": 283,
     "metadata": {},
     "output_type": "execute_result"
    }
   ],
   "source": [
    "Tr.shape"
   ]
  },
  {
   "cell_type": "code",
   "execution_count": 272,
   "metadata": {},
   "outputs": [
    {
     "data": {
      "text/html": [
       "<div>\n",
       "<style scoped>\n",
       "    .dataframe tbody tr th:only-of-type {\n",
       "        vertical-align: middle;\n",
       "    }\n",
       "\n",
       "    .dataframe tbody tr th {\n",
       "        vertical-align: top;\n",
       "    }\n",
       "\n",
       "    .dataframe thead th {\n",
       "        text-align: right;\n",
       "    }\n",
       "</style>\n",
       "<table border=\"1\" class=\"dataframe\">\n",
       "  <thead>\n",
       "    <tr style=\"text-align: right;\">\n",
       "      <th></th>\n",
       "      <th>Cols0</th>\n",
       "      <th>Cols1</th>\n",
       "      <th>Cols2</th>\n",
       "      <th>Cols3</th>\n",
       "      <th>Cols4</th>\n",
       "      <th>Cols5</th>\n",
       "      <th>Cols6</th>\n",
       "      <th>Cols7</th>\n",
       "      <th>Cols8</th>\n",
       "      <th>Cols9</th>\n",
       "      <th>Col_Fac1</th>\n",
       "      <th>Col_Fac2</th>\n",
       "    </tr>\n",
       "  </thead>\n",
       "  <tbody>\n",
       "    <tr>\n",
       "      <td>0</td>\n",
       "      <td>0.603992</td>\n",
       "      <td>NaN</td>\n",
       "      <td>1.239086</td>\n",
       "      <td>0.701347</td>\n",
       "      <td>0.188039</td>\n",
       "      <td>0.336490</td>\n",
       "      <td>-1.212993</td>\n",
       "      <td>NaN</td>\n",
       "      <td>-1.598586</td>\n",
       "      <td>-0.625069</td>\n",
       "      <td>1.0</td>\n",
       "      <td>3.0</td>\n",
       "    </tr>\n",
       "    <tr>\n",
       "      <td>1</td>\n",
       "      <td>-1.077091</td>\n",
       "      <td>-0.499064</td>\n",
       "      <td>NaN</td>\n",
       "      <td>NaN</td>\n",
       "      <td>0.302632</td>\n",
       "      <td>0.468250</td>\n",
       "      <td>-0.268063</td>\n",
       "      <td>1.670784</td>\n",
       "      <td>-2.221267</td>\n",
       "      <td>NaN</td>\n",
       "      <td>0.0</td>\n",
       "      <td>2.0</td>\n",
       "    </tr>\n",
       "    <tr>\n",
       "      <td>2</td>\n",
       "      <td>-0.196444</td>\n",
       "      <td>0.616799</td>\n",
       "      <td>-0.621783</td>\n",
       "      <td>NaN</td>\n",
       "      <td>-0.961934</td>\n",
       "      <td>-0.910513</td>\n",
       "      <td>0.930005</td>\n",
       "      <td>-1.268798</td>\n",
       "      <td>1.665802</td>\n",
       "      <td>0.992605</td>\n",
       "      <td>NaN</td>\n",
       "      <td>3.0</td>\n",
       "    </tr>\n",
       "    <tr>\n",
       "      <td>3</td>\n",
       "      <td>-1.344711</td>\n",
       "      <td>NaN</td>\n",
       "      <td>-1.456352</td>\n",
       "      <td>-0.477139</td>\n",
       "      <td>0.908473</td>\n",
       "      <td>0.891397</td>\n",
       "      <td>-0.647684</td>\n",
       "      <td>1.283270</td>\n",
       "      <td>-1.087352</td>\n",
       "      <td>0.292320</td>\n",
       "      <td>3.0</td>\n",
       "      <td>3.0</td>\n",
       "    </tr>\n",
       "    <tr>\n",
       "      <td>4</td>\n",
       "      <td>NaN</td>\n",
       "      <td>NaN</td>\n",
       "      <td>-1.253494</td>\n",
       "      <td>NaN</td>\n",
       "      <td>NaN</td>\n",
       "      <td>0.741311</td>\n",
       "      <td>1.442377</td>\n",
       "      <td>-0.044404</td>\n",
       "      <td>-0.276880</td>\n",
       "      <td>0.756467</td>\n",
       "      <td>4.0</td>\n",
       "      <td>NaN</td>\n",
       "    </tr>\n",
       "  </tbody>\n",
       "</table>\n",
       "</div>"
      ],
      "text/plain": [
       "      Cols0     Cols1     Cols2     Cols3     Cols4     Cols5     Cols6  \\\n",
       "0  0.603992       NaN  1.239086  0.701347  0.188039  0.336490 -1.212993   \n",
       "1 -1.077091 -0.499064       NaN       NaN  0.302632  0.468250 -0.268063   \n",
       "2 -0.196444  0.616799 -0.621783       NaN -0.961934 -0.910513  0.930005   \n",
       "3 -1.344711       NaN -1.456352 -0.477139  0.908473  0.891397 -0.647684   \n",
       "4       NaN       NaN -1.253494       NaN       NaN  0.741311  1.442377   \n",
       "\n",
       "      Cols7     Cols8     Cols9  Col_Fac1  Col_Fac2  \n",
       "0       NaN -1.598586 -0.625069       1.0       3.0  \n",
       "1  1.670784 -2.221267       NaN       0.0       2.0  \n",
       "2 -1.268798  1.665802  0.992605       NaN       3.0  \n",
       "3  1.283270 -1.087352  0.292320       3.0       3.0  \n",
       "4 -0.044404 -0.276880  0.756467       4.0       NaN  "
      ]
     },
     "execution_count": 272,
     "metadata": {},
     "output_type": "execute_result"
    }
   ],
   "source": [
    "Va2.head()"
   ]
  },
  {
   "cell_type": "code",
   "execution_count": 273,
   "metadata": {},
   "outputs": [],
   "source": [
    "UseCols = Tr.columns.tolist()"
   ]
  },
  {
   "cell_type": "code",
   "execution_count": 285,
   "metadata": {},
   "outputs": [
    {
     "data": {
      "text/html": [
       "<div>\n",
       "<style scoped>\n",
       "    .dataframe tbody tr th:only-of-type {\n",
       "        vertical-align: middle;\n",
       "    }\n",
       "\n",
       "    .dataframe tbody tr th {\n",
       "        vertical-align: top;\n",
       "    }\n",
       "\n",
       "    .dataframe thead th {\n",
       "        text-align: right;\n",
       "    }\n",
       "</style>\n",
       "<table border=\"1\" class=\"dataframe\">\n",
       "  <thead>\n",
       "    <tr style=\"text-align: right;\">\n",
       "      <th></th>\n",
       "      <th>Cols0</th>\n",
       "      <th>Cols1</th>\n",
       "      <th>Cols2</th>\n",
       "      <th>Cols3</th>\n",
       "      <th>Cols4</th>\n",
       "      <th>Cols5</th>\n",
       "      <th>Cols6</th>\n",
       "      <th>Cols7</th>\n",
       "      <th>Cols8</th>\n",
       "      <th>Cols9</th>\n",
       "      <th>Col_Fac1</th>\n",
       "      <th>Col_Fac2</th>\n",
       "    </tr>\n",
       "  </thead>\n",
       "  <tbody>\n",
       "    <tr>\n",
       "      <td>0</td>\n",
       "      <td>1.000810</td>\n",
       "      <td>0.594519</td>\n",
       "      <td>-1.148063</td>\n",
       "      <td>-0.060060</td>\n",
       "      <td>0.722268</td>\n",
       "      <td>-0.591073</td>\n",
       "      <td>-2.349230</td>\n",
       "      <td>-1.134429</td>\n",
       "      <td>NaN</td>\n",
       "      <td>0.299794</td>\n",
       "      <td>0.0</td>\n",
       "      <td>NaN</td>\n",
       "    </tr>\n",
       "    <tr>\n",
       "      <td>1</td>\n",
       "      <td>-0.031933</td>\n",
       "      <td>0.876172</td>\n",
       "      <td>0.560942</td>\n",
       "      <td>1.302315</td>\n",
       "      <td>1.053462</td>\n",
       "      <td>1.256597</td>\n",
       "      <td>-2.706752</td>\n",
       "      <td>NaN</td>\n",
       "      <td>-1.400529</td>\n",
       "      <td>-1.428877</td>\n",
       "      <td>0.0</td>\n",
       "      <td>3.0</td>\n",
       "    </tr>\n",
       "    <tr>\n",
       "      <td>2</td>\n",
       "      <td>-0.276633</td>\n",
       "      <td>NaN</td>\n",
       "      <td>NaN</td>\n",
       "      <td>-0.990817</td>\n",
       "      <td>-0.523672</td>\n",
       "      <td>NaN</td>\n",
       "      <td>-0.872561</td>\n",
       "      <td>-0.397737</td>\n",
       "      <td>0.532623</td>\n",
       "      <td>1.316479</td>\n",
       "      <td>NaN</td>\n",
       "      <td>3.0</td>\n",
       "    </tr>\n",
       "    <tr>\n",
       "      <td>3</td>\n",
       "      <td>0.096472</td>\n",
       "      <td>-0.085093</td>\n",
       "      <td>0.729092</td>\n",
       "      <td>1.226028</td>\n",
       "      <td>-0.096815</td>\n",
       "      <td>1.448163</td>\n",
       "      <td>0.625146</td>\n",
       "      <td>0.264715</td>\n",
       "      <td>1.561072</td>\n",
       "      <td>-1.076675</td>\n",
       "      <td>0.0</td>\n",
       "      <td>3.0</td>\n",
       "    </tr>\n",
       "    <tr>\n",
       "      <td>4</td>\n",
       "      <td>0.066091</td>\n",
       "      <td>1.266297</td>\n",
       "      <td>-1.054634</td>\n",
       "      <td>-0.079544</td>\n",
       "      <td>0.787605</td>\n",
       "      <td>-1.232349</td>\n",
       "      <td>0.629026</td>\n",
       "      <td>0.535090</td>\n",
       "      <td>NaN</td>\n",
       "      <td>-1.091094</td>\n",
       "      <td>0.0</td>\n",
       "      <td>3.0</td>\n",
       "    </tr>\n",
       "    <tr>\n",
       "      <td>...</td>\n",
       "      <td>...</td>\n",
       "      <td>...</td>\n",
       "      <td>...</td>\n",
       "      <td>...</td>\n",
       "      <td>...</td>\n",
       "      <td>...</td>\n",
       "      <td>...</td>\n",
       "      <td>...</td>\n",
       "      <td>...</td>\n",
       "      <td>...</td>\n",
       "      <td>...</td>\n",
       "      <td>...</td>\n",
       "    </tr>\n",
       "    <tr>\n",
       "      <td>995</td>\n",
       "      <td>NaN</td>\n",
       "      <td>NaN</td>\n",
       "      <td>-0.006303</td>\n",
       "      <td>0.091700</td>\n",
       "      <td>1.822651</td>\n",
       "      <td>1.376154</td>\n",
       "      <td>0.314510</td>\n",
       "      <td>NaN</td>\n",
       "      <td>NaN</td>\n",
       "      <td>NaN</td>\n",
       "      <td>3.0</td>\n",
       "      <td>NaN</td>\n",
       "    </tr>\n",
       "    <tr>\n",
       "      <td>996</td>\n",
       "      <td>NaN</td>\n",
       "      <td>0.510390</td>\n",
       "      <td>-0.660670</td>\n",
       "      <td>-0.107580</td>\n",
       "      <td>0.707544</td>\n",
       "      <td>NaN</td>\n",
       "      <td>0.410404</td>\n",
       "      <td>-0.157719</td>\n",
       "      <td>0.887572</td>\n",
       "      <td>0.137327</td>\n",
       "      <td>0.0</td>\n",
       "      <td>3.0</td>\n",
       "    </tr>\n",
       "    <tr>\n",
       "      <td>997</td>\n",
       "      <td>0.509715</td>\n",
       "      <td>NaN</td>\n",
       "      <td>-0.250233</td>\n",
       "      <td>-0.861112</td>\n",
       "      <td>1.267642</td>\n",
       "      <td>-0.039763</td>\n",
       "      <td>-1.075931</td>\n",
       "      <td>0.511904</td>\n",
       "      <td>-0.004915</td>\n",
       "      <td>-0.214769</td>\n",
       "      <td>NaN</td>\n",
       "      <td>NaN</td>\n",
       "    </tr>\n",
       "    <tr>\n",
       "      <td>998</td>\n",
       "      <td>-0.456225</td>\n",
       "      <td>NaN</td>\n",
       "      <td>2.241182</td>\n",
       "      <td>1.891051</td>\n",
       "      <td>0.266414</td>\n",
       "      <td>0.444757</td>\n",
       "      <td>1.356393</td>\n",
       "      <td>1.697328</td>\n",
       "      <td>1.968724</td>\n",
       "      <td>-0.386520</td>\n",
       "      <td>0.0</td>\n",
       "      <td>NaN</td>\n",
       "    </tr>\n",
       "    <tr>\n",
       "      <td>999</td>\n",
       "      <td>0.444156</td>\n",
       "      <td>1.793753</td>\n",
       "      <td>0.027414</td>\n",
       "      <td>-1.065338</td>\n",
       "      <td>-0.434807</td>\n",
       "      <td>0.070437</td>\n",
       "      <td>NaN</td>\n",
       "      <td>0.542341</td>\n",
       "      <td>-0.606299</td>\n",
       "      <td>0.457556</td>\n",
       "      <td>0.0</td>\n",
       "      <td>0.0</td>\n",
       "    </tr>\n",
       "  </tbody>\n",
       "</table>\n",
       "<p>1000 rows × 12 columns</p>\n",
       "</div>"
      ],
      "text/plain": [
       "        Cols0     Cols1     Cols2     Cols3     Cols4     Cols5     Cols6  \\\n",
       "0    1.000810  0.594519 -1.148063 -0.060060  0.722268 -0.591073 -2.349230   \n",
       "1   -0.031933  0.876172  0.560942  1.302315  1.053462  1.256597 -2.706752   \n",
       "2   -0.276633       NaN       NaN -0.990817 -0.523672       NaN -0.872561   \n",
       "3    0.096472 -0.085093  0.729092  1.226028 -0.096815  1.448163  0.625146   \n",
       "4    0.066091  1.266297 -1.054634 -0.079544  0.787605 -1.232349  0.629026   \n",
       "..        ...       ...       ...       ...       ...       ...       ...   \n",
       "995       NaN       NaN -0.006303  0.091700  1.822651  1.376154  0.314510   \n",
       "996       NaN  0.510390 -0.660670 -0.107580  0.707544       NaN  0.410404   \n",
       "997  0.509715       NaN -0.250233 -0.861112  1.267642 -0.039763 -1.075931   \n",
       "998 -0.456225       NaN  2.241182  1.891051  0.266414  0.444757  1.356393   \n",
       "999  0.444156  1.793753  0.027414 -1.065338 -0.434807  0.070437       NaN   \n",
       "\n",
       "        Cols7     Cols8     Cols9  Col_Fac1  Col_Fac2  \n",
       "0   -1.134429       NaN  0.299794       0.0       NaN  \n",
       "1         NaN -1.400529 -1.428877       0.0       3.0  \n",
       "2   -0.397737  0.532623  1.316479       NaN       3.0  \n",
       "3    0.264715  1.561072 -1.076675       0.0       3.0  \n",
       "4    0.535090       NaN -1.091094       0.0       3.0  \n",
       "..        ...       ...       ...       ...       ...  \n",
       "995       NaN       NaN       NaN       3.0       NaN  \n",
       "996 -0.157719  0.887572  0.137327       0.0       3.0  \n",
       "997  0.511904 -0.004915 -0.214769       NaN       NaN  \n",
       "998  1.697328  1.968724 -0.386520       0.0       NaN  \n",
       "999  0.542341 -0.606299  0.457556       0.0       0.0  \n",
       "\n",
       "[1000 rows x 12 columns]"
      ]
     },
     "execution_count": 285,
     "metadata": {},
     "output_type": "execute_result"
    }
   ],
   "source": [
    "Tr"
   ]
  },
  {
   "cell_type": "code",
   "execution_count": 286,
   "metadata": {},
   "outputs": [
    {
     "data": {
      "text/plain": [
       "MissForest(bootstrap=True, class_weight=None, copy=True,\n",
       "           criterion=('mse', 'gini'), decreasing=False, max_depth=5,\n",
       "           max_features='auto', max_iter=10, max_leaf_nodes=None,\n",
       "           min_impurity_decrease=0.0, min_samples_leaf=1, min_samples_split=2,\n",
       "           min_weight_fraction_leaf=0.0, missing_values=nan, n_estimators=100,\n",
       "           n_jobs=-1, oob_score=False, random_state=None, verbose=0,\n",
       "           warm_start=False)"
      ]
     },
     "execution_count": 286,
     "metadata": {},
     "output_type": "execute_result"
    }
   ],
   "source": [
    "cat_var = [idx for idx , col in enumerate(UseCols) if col in fac_var]\n",
    "MISSForest_algo = MissForest(verbose = 0, n_jobs  = -1 , max_depth=5)\n",
    "MISSForest_algo.fit(X =Tr  , cat_vars= cat_var)"
   ]
  },
  {
   "cell_type": "code",
   "execution_count": 287,
   "metadata": {},
   "outputs": [
    {
     "name": "stdout",
     "output_type": "stream",
     "text": [
      "Iteration: 0\n",
      "Iteration: 1\n",
      "Iteration: 2\n",
      "Iteration: 3\n",
      "Iteration: 4\n",
      "Iteration: 5\n",
      "Iteration: 6\n"
     ]
    }
   ],
   "source": [
    "Tr_imputed = MISSForest_algo.transform(Tr)"
   ]
  },
  {
   "cell_type": "code",
   "execution_count": 289,
   "metadata": {},
   "outputs": [],
   "source": [
    "Tr_imputed = pd.DataFrame(Tr_imputed, columns= UseCols)"
   ]
  },
  {
   "cell_type": "code",
   "execution_count": 301,
   "metadata": {},
   "outputs": [],
   "source": [
    "Tr_imputed[fac_var] = Tr_imputed[fac_var].astype(int)"
   ]
  },
  {
   "cell_type": "code",
   "execution_count": 290,
   "metadata": {},
   "outputs": [
    {
     "name": "stdout",
     "output_type": "stream",
     "text": [
      "Iteration: 0\n",
      "Iteration: 1\n",
      "Iteration: 2\n",
      "Iteration: 3\n",
      "Iteration: 4\n",
      "Iteration: 5\n"
     ]
    }
   ],
   "source": [
    "Va_imputed = MISSForest_algo.transform(Va2)"
   ]
  },
  {
   "cell_type": "code",
   "execution_count": 291,
   "metadata": {},
   "outputs": [],
   "source": [
    "Va_imputed = pd.DataFrame(Va_imputed, columns= UseCols).head()"
   ]
  },
  {
   "cell_type": "code",
   "execution_count": 302,
   "metadata": {},
   "outputs": [],
   "source": [
    "Va_imputed[fac_var] = Va_imputed[fac_var].astype(int)"
   ]
  },
  {
   "cell_type": "code",
   "execution_count": 304,
   "metadata": {},
   "outputs": [],
   "source": [
    "for col in fac_var :\n",
    "    Tr_imputed[col] = le_info[col].inverse_transform(Tr_imputed[col])\n",
    "    Va_imputed[col] = le_info[col].inverse_transform(Va_imputed[col])"
   ]
  },
  {
   "cell_type": "code",
   "execution_count": 308,
   "metadata": {},
   "outputs": [
    {
     "data": {
      "text/plain": [
       "Cols0       0\n",
       "Cols1       0\n",
       "Cols2       0\n",
       "Cols3       0\n",
       "Cols4       0\n",
       "Cols5       0\n",
       "Cols6       0\n",
       "Cols7       0\n",
       "Cols8       0\n",
       "Cols9       0\n",
       "Col_Fac1    0\n",
       "Col_Fac2    0\n",
       "dtype: int64"
      ]
     },
     "execution_count": 308,
     "metadata": {},
     "output_type": "execute_result"
    }
   ],
   "source": [
    "Tr_imputed.isna().sum()"
   ]
  },
  {
   "cell_type": "code",
   "execution_count": 307,
   "metadata": {},
   "outputs": [
    {
     "data": {
      "text/plain": [
       "Cols0       0\n",
       "Cols1       0\n",
       "Cols2       0\n",
       "Cols3       0\n",
       "Cols4       0\n",
       "Cols5       0\n",
       "Cols6       0\n",
       "Cols7       0\n",
       "Cols8       0\n",
       "Cols9       0\n",
       "Col_Fac1    0\n",
       "Col_Fac2    0\n",
       "dtype: int64"
      ]
     },
     "execution_count": 307,
     "metadata": {},
     "output_type": "execute_result"
    }
   ],
   "source": [
    "Va_imputed.isna().sum()"
   ]
  },
  {
   "cell_type": "code",
   "execution_count": null,
   "metadata": {},
   "outputs": [],
   "source": []
  }
 ],
 "metadata": {
  "kernelspec": {
   "display_name": "base",
   "language": "python",
   "name": "base"
  },
  "language_info": {
   "codemirror_mode": {
    "name": "ipython",
    "version": 3
   },
   "file_extension": ".py",
   "mimetype": "text/x-python",
   "name": "python",
   "nbconvert_exporter": "python",
   "pygments_lexer": "ipython3",
   "version": "3.6.7"
  }
 },
 "nbformat": 4,
 "nbformat_minor": 2
}
