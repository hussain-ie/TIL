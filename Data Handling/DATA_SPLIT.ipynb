{
 "cells": [
  {
   "cell_type": "code",
   "execution_count": 1,
   "source": [
    "import numpy as np\n",
    "from collections import Counter\n"
   ],
   "outputs": [],
   "metadata": {}
  },
  {
   "cell_type": "code",
   "execution_count": 139,
   "source": [
    "def split_random(size , p) :\n",
    "    #sep_key = [\"train\",\"valid\",\"test\"][:len(p)]\n",
    "    sep_key = [0,1,2][:len(p)]\n",
    "    return np.random.choice(sep_key,size=size , p=p)\n",
    "\n",
    "from collections import namedtuple\n",
    "SEPIDX = namedtuple(\"Seperate\", [\"target\" , \"idx\",\"split_idx\"])\n",
    "\n",
    "class SplitIndex(object) :\n",
    "    def __init__(self,arr) :\n",
    "        self.arr = arr \n",
    "        sep_key = [\"train\",\"valid\",\"test\"]\n",
    "        self.idx_dict = {idx:sep  for idx , sep in enumerate(sep_key)}\n",
    "    \n",
    "    def __call__(self,p , mode=\"random\") :\n",
    "        self.p = p\n",
    "        assert np.isclose(np.sum(p),1) , \"sum of p is 1\"\n",
    "        if mode == \"random\" :\n",
    "            V = split_random(len(self.arr), self.p)\n",
    "            a = np.array([np.arange(len(target)) , V]).T\n",
    "        elif mode == \"stratified\" :\n",
    "            a = self._split_stratified(self.arr)\n",
    "        self.a = self._sort_by_idx(a) \n",
    "        return self.a \n",
    "\n",
    "    def _sort_by_idx(self, a ) :\n",
    "        a = a[a[:, 0].argsort()]\n",
    "        return a \n",
    "\n",
    "    def _split_stratified(self,arr) :\n",
    "        result = []\n",
    "        for i in np.unique(arr) :\n",
    "            idxs = np.where(arr==i)[0]\n",
    "            split_idx = split_random(len(idxs),self.p)\n",
    "            result.append(SEPIDX(target=i , idx = idxs , split_idx = split_idx))\n",
    "        idxs = []\n",
    "        split_idxs = []\n",
    "        for namedtuple in result :\n",
    "            idxs.extend(namedtuple.idx)\n",
    "            split_idxs.extend(namedtuple.split_idx)\n",
    "        a = np.array([idxs , split_idxs]).T\n",
    "        \n",
    "        return a\n",
    "\n",
    "    def print_count(self,) :\n",
    "        s , k , c, ss = \"split\", \"target\", \"count\" , \"sum\"\n",
    "        print(f\"|{s:10s}|{k:10s}|{c:10s}|{ss:10s}|\")\n",
    "        print(\"| :------- | :------- | :------- | :------- |\")\n",
    "        for sep_idx in np.unique(self.a[:,1]) :\n",
    "            idxs = np.where(self.a[:,1]==sep_idx)\n",
    "            self.prettyproint_counter(self.idx_dict[sep_idx] , Counter(self.arr[idxs]))\n",
    "\n",
    "    def prettyproint_counter(self,name , Counter) :\n",
    "\n",
    "        dict_ = dict(Counter)\n",
    "        sorted_key_value = sorted(dict_.items(), key = lambda key_value : key_value[0])\n",
    "        for idx , (key, value) in enumerate(sorted_key_value):\n",
    "            if idx == 0 :\n",
    "                s = int(np.sum(list(Counter.values())))\n",
    "                print(f\"|{name:10s}|{str(key):10s}|{str(value):10s}|{str(s):10s}|\")\n",
    "            else :\n",
    "                s = \"\"\n",
    "                print(f\"|{name:10s}|{str(key):10s}|{str(value):10s}|{s:10s}|\")\n"
   ],
   "outputs": [],
   "metadata": {}
  },
  {
   "cell_type": "markdown",
   "source": [
    "|split     |target    |count     |sum       |\n",
    "| :------- | :------- | :------- | :------- |\n",
    "|train     |0         |44        |62        |\n",
    "|train     |1         |18        |          |\n",
    "|valid     |0         |17        |38        |\n",
    "|valid     |1         |21        |          |"
   ],
   "metadata": {}
  },
  {
   "cell_type": "code",
   "execution_count": 150,
   "source": [
    "target = np.random.choice([0,1,2],size=1000 , p=[0.6,0.3,0.1])\n",
    "split_idx = SplitIndex(target)\n",
    "idx_split_value = split_idx(p=[0.6,0.3,0.1],mode=\"stratified\")"
   ],
   "outputs": [],
   "metadata": {}
  },
  {
   "cell_type": "code",
   "execution_count": 151,
   "source": [
    "split_idx.print_count()\n"
   ],
   "outputs": [
    {
     "output_type": "stream",
     "name": "stdout",
     "text": [
      "|split     |target    |count     |sum       |\n",
      "| :------- | :------- | :------- | :------- |\n",
      "|train     |0         |357       |592       |\n",
      "|train     |1         |171       |          |\n",
      "|train     |2         |64        |          |\n",
      "|valid     |0         |173       |296       |\n",
      "|valid     |1         |99        |          |\n",
      "|valid     |2         |24        |          |\n",
      "|test      |0         |68        |112       |\n",
      "|test      |1         |35        |          |\n",
      "|test      |2         |9         |          |\n"
     ]
    }
   ],
   "metadata": {}
  },
  {
   "cell_type": "code",
   "execution_count": 152,
   "source": [
    "idx_split_value"
   ],
   "outputs": [
    {
     "output_type": "execute_result",
     "data": {
      "text/plain": [
       "array([[  0,   2],\n",
       "       [  1,   1],\n",
       "       [  2,   0],\n",
       "       ...,\n",
       "       [997,   0],\n",
       "       [998,   0],\n",
       "       [999,   1]])"
      ]
     },
     "metadata": {},
     "execution_count": 152
    }
   ],
   "metadata": {}
  },
  {
   "cell_type": "code",
   "execution_count": 120,
   "source": [],
   "outputs": [
    {
     "output_type": "execute_result",
     "data": {
      "text/plain": [
       "[0, 1, 2]"
      ]
     },
     "metadata": {},
     "execution_count": 120
    }
   ],
   "metadata": {}
  },
  {
   "cell_type": "code",
   "execution_count": null,
   "source": [],
   "outputs": [],
   "metadata": {}
  }
 ],
 "metadata": {
  "orig_nbformat": 4,
  "language_info": {
   "name": "python",
   "version": "3.8.10",
   "mimetype": "text/x-python",
   "codemirror_mode": {
    "name": "ipython",
    "version": 3
   },
   "pygments_lexer": "ipython3",
   "nbconvert_exporter": "python",
   "file_extension": ".py"
  },
  "kernelspec": {
   "name": "python3",
   "display_name": "Python 3.8.10 64-bit ('snkr': conda)"
  },
  "interpreter": {
   "hash": "6b98cd8fb10152bd6cb9d401873ccd7ad679b1c22166d7bde5465ea3aded53fe"
  }
 },
 "nbformat": 4,
 "nbformat_minor": 2
}