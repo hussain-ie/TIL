{
  "nbformat": 4,
  "nbformat_minor": 0,
  "metadata": {
    "colab": {
      "name": "RE : Regular Expression(정규표현식).ipynb",
      "version": "0.3.2",
      "provenance": [],
      "collapsed_sections": []
    },
    "kernelspec": {
      "name": "python3",
      "display_name": "Python 3"
    },
    "accelerator": "GPU"
  },
  "cells": [
    {
      "cell_type": "markdown",
      "metadata": {
        "id": "view-in-github",
        "colab_type": "text"
      },
      "source": [
        "[View in Colaboratory](https://colab.research.google.com/github/sungreong/TIL/blob/master/RE_Regular_Expression(%EC%A0%95%EA%B7%9C%ED%91%9C%ED%98%84%EC%8B%9D).ipynb)"
      ]
    },
    {
      "metadata": {
        "id": "uAeE1y8fa_bo",
        "colab_type": "text"
      },
      "cell_type": "markdown",
      "source": [
        "## Reference : http://devanix.tistory.com/296   기호들 잘 정리되어 있는 사이트\n",
        "\n",
        " \n",
        "\n"
      ]
    },
    {
      "metadata": {
        "id": "Y_swqp8zMZND",
        "colab_type": "text"
      },
      "cell_type": "markdown",
      "source": [
        "## re.match() vs re.search()\n",
        "\n",
        "### re.match\n",
        "1. 대상 문자열의 시작부터 검색\n",
        "\n",
        "### re.search()\n",
        "1. 대상 문자열 전체에 대해서 검색을 수행한다.\n",
        "\n",
        "ex) 검색의 대상이 되는 문자열에 공백이 있거나 또는 검색 키워드와 일치하는 문자열이 대상 문자열의 중간 이후에 존재하는 경우\n",
        "**re.match()함수는 검색을 못함**"
      ]
    },
    {
      "metadata": {
        "id": "5LxXdQVjMI3o",
        "colab_type": "code",
        "colab": {
          "base_uri": "https://localhost:8080/",
          "height": 34
        },
        "outputId": "7061fc78-dde8-4f99-9c9a-5d4b63d58dbe"
      },
      "cell_type": "code",
      "source": [
        "import re\n",
        "bool(re.match('[0-9]*th' , \"    35th\")) # 문자열에 공백이 있는 경우  검색을 못함"
      ],
      "execution_count": 5,
      "outputs": [
        {
          "output_type": "execute_result",
          "data": {
            "text/plain": [
              "False"
            ]
          },
          "metadata": {
            "tags": []
          },
          "execution_count": 5
        }
      ]
    },
    {
      "metadata": {
        "id": "RABNO1MMM9sp",
        "colab_type": "code",
        "colab": {
          "base_uri": "https://localhost:8080/",
          "height": 34
        },
        "outputId": "3c875998-f2fb-47e3-dda2-f120d4f51c33"
      },
      "cell_type": "code",
      "source": [
        "bool(re.search('[0-9]*th' , \"    35th\"))  #  공백이 있어도 가능 "
      ],
      "execution_count": 6,
      "outputs": [
        {
          "output_type": "execute_result",
          "data": {
            "text/plain": [
              "True"
            ]
          },
          "metadata": {
            "tags": []
          },
          "execution_count": 6
        }
      ]
    },
    {
      "metadata": {
        "id": "nGOK55aaNUWp",
        "colab_type": "code",
        "colab": {
          "base_uri": "https://localhost:8080/",
          "height": 34
        },
        "outputId": "fbd43b00-06bf-4177-dc0b-164bba0bce34"
      },
      "cell_type": "code",
      "source": [
        "bool(re.match(\"ba\" , \"this is banana\")) # 문자열 시작부터 검색 해당하는 것이 중간에 있는 경우 -> 검색을 못함"
      ],
      "execution_count": 7,
      "outputs": [
        {
          "output_type": "execute_result",
          "data": {
            "text/plain": [
              "False"
            ]
          },
          "metadata": {
            "tags": []
          },
          "execution_count": 7
        }
      ]
    },
    {
      "metadata": {
        "id": "bSQ6yioKNlKY",
        "colab_type": "code",
        "colab": {
          "base_uri": "https://localhost:8080/",
          "height": 34
        },
        "outputId": "90510a6b-002c-4c5d-c974-50cc826cc48b"
      },
      "cell_type": "code",
      "source": [
        "bool(re.search(\"ba\", \"this is banana\")) # 중간에 있어도 문자열 전체에 대한 검색으로 검색가능"
      ],
      "execution_count": 9,
      "outputs": [
        {
          "output_type": "execute_result",
          "data": {
            "text/plain": [
              "True"
            ]
          },
          "metadata": {
            "tags": []
          },
          "execution_count": 9
        }
      ]
    },
    {
      "metadata": {
        "id": "JkY7gY4PNuLn",
        "colab_type": "text"
      },
      "cell_type": "markdown",
      "source": [
        "## re.split()\n",
        "* 대상 문자열을 입력된 패턴을 구분자로 하여 분리\n",
        "* \":\" , \".\" , \" \" 문자를 구분자로 사용"
      ]
    },
    {
      "metadata": {
        "id": "QXO5oWmSNoUA",
        "colab_type": "code",
        "colab": {
          "base_uri": "https://localhost:8080/",
          "height": 70
        },
        "outputId": "bc2361d6-ee8c-43ac-973d-27e7bd66bc79"
      },
      "cell_type": "code",
      "source": [
        "print(re.split(\"[:. ]+\" , \"apple.orange:banana tomato\"))  #  \":\" \".\" , \" \" 가 있으면 구분자로 하여 분리 가능\n",
        "print(re.split(\"([!:. ])+\", \"apple.orange:banana tomato!BOOL\" ))  #  패턴에 괄호() 를 사용하면 해당 분리 문자도 결과 문자열에 포함\n",
        "print(re.split(\"([!:. ])+\", \"apple.orange:banana tomato!BOOL\" ,maxsplit = 2 ) ) # maxsplit 최대 2 개 까지 설정 가능"
      ],
      "execution_count": 18,
      "outputs": [
        {
          "output_type": "stream",
          "text": [
            "['apple', 'orange', 'banana', 'tomato']\n",
            "['apple', '.', 'orange', ':', 'banana', ' ', 'tomato', '!', 'BOOL']\n",
            "['apple', '.', 'orange', ':', 'banana tomato!BOOL']\n"
          ],
          "name": "stdout"
        }
      ]
    },
    {
      "metadata": {
        "id": "IJOCkoamPfGz",
        "colab_type": "text"
      },
      "cell_type": "markdown",
      "source": [
        "## re.findall()\n",
        "*  검색 문자열에서 패턴과 매칭되는 모든 경우를 찾아 리스트로 변환"
      ]
    },
    {
      "metadata": {
        "id": "wLbuQ5KiOAbX",
        "colab_type": "code",
        "colab": {
          "base_uri": "https://localhost:8080/",
          "height": 52
        },
        "outputId": "098b7ef4-cc53-4702-a656-792337fa59b5"
      },
      "cell_type": "code",
      "source": [
        "print(re.findall(r\"app\\w*\" , \"application orange apple!! app1234 apron appapp\"))  ## 매치되는 문자열이 있는 경우 \n",
        "## *w = 숫자 또는 문자와 매치됨 [a-zA-Z0-9_] => 그래서 \"\"!!\"\" 는 출력이 안됨 \n",
        "\n",
        "print(re.findall(r\"app\\W*\" , \"application orange apple!! app1234 apron\"))  ## 매치되는 문자열이 있는 경우 \n",
        "## \\W = 숫자 또는 문자가 아닌 것과 매치됨 [^a-zA-Z0-9_]\n",
        "\n",
        "## * 0회 이상 반복할 때 사용하는 기호 "
      ],
      "execution_count": 27,
      "outputs": [
        {
          "output_type": "stream",
          "text": [
            "['application', 'apple', 'app1234', 'appapp']\n",
            "['app', 'app', 'app']\n"
          ],
          "name": "stdout"
        }
      ]
    },
    {
      "metadata": {
        "id": "BSjA12oeOblG",
        "colab_type": "code",
        "colab": {
          "base_uri": "https://localhost:8080/",
          "height": 34
        },
        "outputId": "c4e87f22-a7f6-43dc-dd18-01282d10c77b"
      },
      "cell_type": "code",
      "source": [
        "re.findall(r\"king\\w*\" ,\"application orange apple \")"
      ],
      "execution_count": 29,
      "outputs": [
        {
          "output_type": "execute_result",
          "data": {
            "text/plain": [
              "[]"
            ]
          },
          "metadata": {
            "tags": []
          },
          "execution_count": 29
        }
      ]
    },
    {
      "metadata": {
        "id": "yW-spjQFQ4VA",
        "colab_type": "text"
      },
      "cell_type": "markdown",
      "source": [
        "## re.sub()\n",
        "\n",
        "* 패턴과 일치하는 문자열 변경"
      ]
    },
    {
      "metadata": {
        "id": "om_0MMw7Q19g",
        "colab_type": "code",
        "colab": {
          "base_uri": "https://localhost:8080/",
          "height": 70
        },
        "outputId": "d204c325-8e11-4ead-d701-ddae912979b9"
      },
      "cell_type": "code",
      "source": [
        "print(re.sub(\"-\", \"-!-\", \"123456-123456\")) # 형식 변경 가능\n",
        "\n",
        "## 필드 구분자를 통일\n",
        "print(re.sub(r\"[:|\\s\\d]\" , \", \", \"apple:orange banana|tomato01abc\"))   # 01 을 쓰게 되니 빈 스페이스 하나 존재하게 된다.\n",
        "\n",
        "## \\s : 화이트 스페이스 문자와 매치됨 [ \\t\\n\\r\\f\\v]\n",
        "## \\d : 모든 숫자와 매치됨 [0-9]\n",
        "print(re.sub(r\"[\\D]\" , \", \", \"apple:orange banana|tomato01abc\"))   # 01 을 쓰게 되니 빈 스페이스 하나 존재하게 된다.\n",
        "\n",
        "## \t\\D  : 숫자가 아닌 문자와 매치됨 [^0-9]  그래서 숫자 아닌 것들은 다 \" , \"바꿔줌"
      ],
      "execution_count": 38,
      "outputs": [
        {
          "output_type": "stream",
          "text": [
            "123456-!-123456\n",
            "apple, orange, banana, tomato, , abc\n",
            ", , , , , , , , , , , , , , , , , , , , , , , , , , 01, , , \n"
          ],
          "name": "stdout"
        }
      ]
    },
    {
      "metadata": {
        "id": "EfXMC-z4RCDQ",
        "colab_type": "code",
        "colab": {
          "base_uri": "https://localhost:8080/",
          "height": 70
        },
        "outputId": "5877bd24-021a-4bbf-c8f6-d9b95db5f7b5"
      },
      "cell_type": "code",
      "source": [
        "## 문자열의 변경 횟수 제한\n",
        "print(re.sub(r\"[:,|\\s]\", \", \", \"apple:orange banana|tomato\" , 2)  ) \n",
        "\n",
        "## 변경할 문자에 대해서 매칭된 문자열을 사용할 수도 있다.\n",
        "print( re.sub(r\"\\b(\\d{4}-\\d{4})\\b\" ,r\"<I>\\1</I>\", \"Copyright Derick 1990-2009\") )\n",
        "\n",
        "## \\b : 단어의 경계를 나타냄 단어는 영문자 혹은 숫자의 연속 문자열\n",
        "\n",
        "## \" ( ) \" 매칭시킬 패턴 중 변결할 문자열에 사용할 부분에 대해서는 소괄호로 감싸주기 \n",
        "\n",
        "## \\d{4} : 4개 까지 모든숫자와 매칭\n",
        "\n",
        "## \\1  : 변결할 문자열에 대해서는  \\<숫자> 형태로 사용  \n",
        "\n",
        "print( re.sub(r\"\\b(?P<year>\\d{4}-\\d{4})\\b\" , r\"<ASI>\\g<year><\\I>\"  , \"Copyright Derick 1990-2009\" ) )\n",
        "\n",
        "## ? : 0회 OR 1회 \n",
        "## ?P<year> :  매칭시킬 패턴에 명시적으로 이름을 지정 \n",
        "#  \\g<year> :  변경할 문자열에서도 그 이름을 형태로 사용"
      ],
      "execution_count": 49,
      "outputs": [
        {
          "output_type": "stream",
          "text": [
            "apple, orange, banana|tomato\n",
            "Copyright Derick <I>1990-2009</I>\n",
            "Copyright Derick <ASI>1990-2009<\\I>\n"
          ],
          "name": "stdout"
        }
      ]
    },
    {
      "metadata": {
        "id": "_ECMDgUpU04V",
        "colab_type": "text"
      },
      "cell_type": "markdown",
      "source": [
        "# Math 객체"
      ]
    },
    {
      "metadata": {
        "id": "z-Qb4JftSb4G",
        "colab_type": "code",
        "colab": {
          "base_uri": "https://localhost:8080/",
          "height": 158
        },
        "outputId": "6477db9b-29e0-4601-b173-722fd0eb4eb2"
      },
      "cell_type": "code",
      "source": [
        "# 일반적인 형식의 전화번호를 인삭하여 Math 객체가 지원하는 메소드 분석\n",
        "import math\n",
        "telchecker = re.compile(r\"(\\d{2,3})-(\\d{3,4})-(\\d{4})\")\n",
        "\n",
        "m = telchecker.match(\"02-123-4567\")\n",
        "\n",
        "print(\"매칭된 문자열을  튜플로 변환해주기\" , m.groups() ) ## \n",
        "\n",
        "print(\" 첫번째로 매칭된 문자열\" , m.group(1) , type(m.group(1)))\n",
        "\n",
        "print(\"두 번째와 세 번째 매칭된 문자열을 튜플로 변환\" , m.group(2,3) )\n",
        "\n",
        "print(\"매칭된 전체 문자열의 시작 인덱스\" , m.start())\n",
        "\n",
        "print(\"매칭된 전체 문자열의 종료 인덱스\", m.end() )\n",
        "\n",
        "print(\"두번째 매칭된 문자열 ('123') 의 시작 인덱스\" , m.start(2))\n",
        "\n",
        "print(\"두번째 매칭된 문자열 ('123') 의 종료 인덱스\" , m.end(2))\n",
        "\n",
        "print(\"지역변호를 제외한 전화번호 출력\" , m.string[m.start(2) : m.end(3)])\n"
      ],
      "execution_count": 74,
      "outputs": [
        {
          "output_type": "stream",
          "text": [
            "매칭된 문자열을  튜플로 변환해주기 ('02', '123', '4567')\n",
            " 첫번째로 매칭된 문자열 02 <class 'str'>\n",
            "두 번째와 세 번째 매칭된 문자열을 튜플로 변환 ('123', '4567')\n",
            "매칭된 전체 문자열의 시작 인덱스 0\n",
            "매칭된 전체 문자열의 종료 인덱스 11\n",
            "두번째 매칭된 문자열 ('123') 의 시작 인덱스 3\n",
            "두번째 매칭된 문자열 ('123') 의 종료 인덱스 6\n",
            "지역변호를 제외한 전화번호 출력 123-4567\n"
          ],
          "name": "stdout"
        }
      ]
    },
    {
      "metadata": {
        "id": "CgYltcipa8Nn",
        "colab_type": "text"
      },
      "cell_type": "markdown",
      "source": [
        "## 정규식 작성시 '(?<이름>..)' 형식으로 매칭 결과에 대해 이름을 부여하고,\n",
        "\n",
        "## groupdict() 메서드를 이용하여 사전 형태로 이름과 검색된 문자쌍을 얻음.\n"
      ]
    },
    {
      "metadata": {
        "id": "xamBO6PbV_nQ",
        "colab_type": "code",
        "colab": {
          "base_uri": "https://localhost:8080/",
          "height": 70
        },
        "outputId": "c18a5117-12a1-4daa-9778-7c92f10e19ee"
      },
      "cell_type": "code",
      "source": [
        "c = re.compile(r\"(?P<area>\\d+)-(?P<exchange>\\d+)-(?P<user>\\d+)\")\n",
        "\n",
        "m = c.match(\"02-123-4567\")\n",
        "\n",
        "print(m.group(\"area\"))\n",
        "\n",
        "print(m.start(\"user\"))\n",
        "\n",
        "m.groupdict()"
      ],
      "execution_count": 76,
      "outputs": [
        {
          "output_type": "stream",
          "text": [
            "02\n",
            "7\n"
          ],
          "name": "stdout"
        },
        {
          "output_type": "execute_result",
          "data": {
            "text/plain": [
              "{'area': '02', 'exchange': '123', 'user': '4567'}"
            ]
          },
          "metadata": {
            "tags": []
          },
          "execution_count": 76
        }
      ]
    },
    {
      "metadata": {
        "id": "3JWP35C1bdFe",
        "colab_type": "text"
      },
      "cell_type": "markdown",
      "source": [
        "## 로우 문자열 표기법 (raw string notation)\n",
        "\n",
        "escape 문자열을 표현하기위해 **\\**  문자를 사요하기 때문에\n",
        "\n",
        "문자 **W**를 정규표현식으로 표현하기 위해서는 '\\\\\\\\'로, 일반 문자열에선느 '\\\\'로 표현해야 합니다.\n",
        "\n",
        "그래서 **\\APPLE** 이란 문자열을 검색하기 위해서는 아래와 같이 매우 복잡한 형식으로 표현해야합니다.\n",
        "\n",
        "로우 문자열 표기법은 문자열 앞에 **'r'** 을 더한 것으로 **\\** 문자를 escape 문자열로 처리하지 않고 일반 문자와 동일하게 처리합니다\n",
        "\n",
        "이렇게 함으로써 정규표현식 및 문자열에서는 **'\\'** 를 간단하게 표현 할 수 있습니다. 일반적으로 정규표현식이 문자열에서는 이러한 편리함 때문에 많이 사용된다."
      ]
    },
    {
      "metadata": {
        "id": "TNjFqItpbXMO",
        "colab_type": "code",
        "colab": {
          "base_uri": "https://localhost:8080/",
          "height": 34
        },
        "outputId": "209d30a5-a603-435c-edb0-83ca322ad509"
      },
      "cell_type": "code",
      "source": [
        "bool(re.search(\"\\\\\\\\\\\\w+\", \"\\\\apple\")) \n",
        "\n"
      ],
      "execution_count": 77,
      "outputs": [
        {
          "output_type": "execute_result",
          "data": {
            "text/plain": [
              "True"
            ]
          },
          "metadata": {
            "tags": []
          },
          "execution_count": 77
        }
      ]
    },
    {
      "metadata": {
        "id": "aQspdFDAb6ju",
        "colab_type": "code",
        "colab": {
          "base_uri": "https://localhost:8080/",
          "height": 52
        },
        "outputId": "aa191e48-12d1-4686-e5d8-25e24c234182"
      },
      "cell_type": "code",
      "source": [
        "print(bool(re.search(\"\\\\\\\\\\w+\" , \"\\\\apple\")))\n",
        "\n",
        "print(bool(re.search(r\"\\\\\\w+\" , r\"\\apple\" )))"
      ],
      "execution_count": 78,
      "outputs": [
        {
          "output_type": "stream",
          "text": [
            "True\n",
            "True\n"
          ],
          "name": "stdout"
        }
      ]
    },
    {
      "metadata": {
        "id": "IerCMGHbcvHD",
        "colab_type": "code",
        "colab": {}
      },
      "cell_type": "code",
      "source": [
        ""
      ],
      "execution_count": 0,
      "outputs": []
    }
  ]
}