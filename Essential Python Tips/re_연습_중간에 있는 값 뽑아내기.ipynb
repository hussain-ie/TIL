{
 "cells": [
  {
   "cell_type": "markdown",
   "metadata": {},
   "source": [
    "## 목표 SVM , MLP , RF , GBM , GLM 만 가져오기"
   ]
  },
  {
   "cell_type": "code",
   "execution_count": 676,
   "metadata": {},
   "outputs": [],
   "source": [
    "import os ,re"
   ]
  },
  {
   "cell_type": "code",
   "execution_count": 677,
   "metadata": {},
   "outputs": [],
   "source": [
    "ex = os.listdir(\"./classifier/\")"
   ]
  },
  {
   "cell_type": "code",
   "execution_count": 680,
   "metadata": {},
   "outputs": [
    {
     "data": {
      "text/plain": [
       "['1926_과학기술표준분류1-중_SVM.joblib',\n",
       " '1926_과학기술표준분류1-중_MLP.joblib',\n",
       " '1926_과학기술표준분류1-중_RF.joblib',\n",
       " '1926_과학기술표준분류1-중_GBM.pkl',\n",
       " '1926_과학기술표준분류1-중_GLM.joblib']"
      ]
     },
     "execution_count": 680,
     "metadata": {},
     "output_type": "execute_result"
    }
   ],
   "source": [
    "ex"
   ]
  },
  {
   "cell_type": "markdown",
   "metadata": {},
   "source": [
    "1 . split을 잘 사용해서, 특정 조건에 만족하는 것을 가져오게 한다."
   ]
  },
  {
   "cell_type": "code",
   "execution_count": 694,
   "metadata": {},
   "outputs": [
    {
     "data": {
      "text/plain": [
       "['SVM', 'MLP', 'RF', 'GBM', 'GLM']"
      ]
     },
     "execution_count": 694,
     "metadata": {},
     "output_type": "execute_result"
    }
   ],
   "source": [
    "[i.split(\"_\")[-1].split(\".\")[0] for i in ex]"
   ]
  },
  {
   "cell_type": "markdown",
   "metadata": {},
   "source": [
    "2. re.sub 와 re.findall 을 통해서 가져오기"
   ]
  },
  {
   "cell_type": "code",
   "execution_count": 699,
   "metadata": {},
   "outputs": [
    {
     "data": {
      "text/plain": [
       "['SVM', 'MLP', 'RF', 'GBM', 'GLM']"
      ]
     },
     "execution_count": 699,
     "metadata": {},
     "output_type": "execute_result"
    }
   ],
   "source": [
    "[ re.sub(\"[_.]\", \"\", re.findall(r\"_[A-Za-z]*.\", i)[-1]) for i in ex ]\n"
   ]
  },
  {
   "cell_type": "markdown",
   "metadata": {},
   "source": [
    "3. 끝자리 .joblib 와 다양한 문법을 통해서 한번에 찾기"
   ]
  },
  {
   "cell_type": "code",
   "execution_count": 706,
   "metadata": {},
   "outputs": [
    {
     "data": {
      "text/plain": [
       "'SVM'"
      ]
     },
     "execution_count": 706,
     "metadata": {},
     "output_type": "execute_result"
    }
   ],
   "source": [
    "x = 'sksksk_가가가_SVM.joblib'\n",
    "xx = re.search('[^_]*?(?=[.]joblib$)', x)\n",
    "xx.group(0)\n"
   ]
  },
  {
   "cell_type": "markdown",
   "metadata": {},
   "source": [
    "목표 : `가가가`를 찾고 싶다.\n",
    "\n",
    "* (?<=_) 이것이 참 편리했다\n",
    "* ?=[_]  끝단에 이것을 하면 제거가 되는 듯\n",
    "\n",
    "* 관련 언급 [URL](https://docs.python.org/2/library/re.html)"
   ]
  },
  {
   "cell_type": "code",
   "execution_count": 713,
   "metadata": {},
   "outputs": [
    {
     "data": {
      "text/plain": [
       "['가가가']"
      ]
     },
     "execution_count": 713,
     "metadata": {},
     "output_type": "execute_result"
    }
   ],
   "source": [
    "x = 'sksksk_가가가_SVM.joblib'\n",
    "p2 = re.compile(r'(?<=_)\\w{1,15}(?=[_][^_]+$)')\n",
    "p2.findall(x)"
   ]
  },
  {
   "cell_type": "markdown",
   "metadata": {},
   "source": [
    "## 문제 발생\n",
    "\n",
    "* 조건을 _ _ 찾다보니 _###_에 있는 것은 전부다 찾게 됨 \n",
    "* 물론 {1,10}을 줄이면 되지만, 그렇게 조작하면 원하는 방법이 아니므로"
   ]
  },
  {
   "cell_type": "code",
   "execution_count": 718,
   "metadata": {},
   "outputs": [
    {
     "data": {
      "text/plain": [
       "['sksksk_가가가']"
      ]
     },
     "execution_count": 718,
     "metadata": {},
     "output_type": "execute_result"
    }
   ],
   "source": [
    "x = 'hi_sksksk_가가가_SVM.joblib'\n",
    "p2 = re.compile(r'(?<=_)\\w{1,10}(?=[_][^_]+$)')\n",
    "p2.findall(x)"
   ]
  },
  {
   "cell_type": "markdown",
   "metadata": {},
   "source": [
    "## 해결 방법\n",
    "\n",
    "* (?<=_) 2번 해버리기...\n"
   ]
  },
  {
   "cell_type": "code",
   "execution_count": 720,
   "metadata": {},
   "outputs": [
    {
     "data": {
      "text/plain": [
       "['가가가']"
      ]
     },
     "execution_count": 720,
     "metadata": {},
     "output_type": "execute_result"
    }
   ],
   "source": [
    "x = 'hi_sksksk_가가가_SVM.joblib'\n",
    "p2 = re.compile(r'(?<=_)\\w+(?=[_][^_]+$)')\n",
    "d = p2.findall(x)\n",
    "p2 = re.compile(r'(?<=_)\\w+')\n",
    "p2.findall(d[0])"
   ]
  }
 ],
 "metadata": {
  "kernelspec": {
   "display_name": "Python 3",
   "language": "python",
   "name": "python3"
  },
  "language_info": {
   "codemirror_mode": {
    "name": "ipython",
    "version": 3
   },
   "file_extension": ".py",
   "mimetype": "text/x-python",
   "name": "python",
   "nbconvert_exporter": "python",
   "pygments_lexer": "ipython3",
   "version": "3.5.3"
  }
 },
 "nbformat": 4,
 "nbformat_minor": 2
}
