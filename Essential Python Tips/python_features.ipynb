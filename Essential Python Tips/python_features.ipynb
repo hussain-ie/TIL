{
 "cells": [
  {
   "cell_type": "code",
   "execution_count": 2,
   "metadata": {},
   "outputs": [
    {
     "name": "stdout",
     "output_type": "stream",
     "text": [
      "Season.winter\n",
      "winter\n",
      "1\n"
     ]
    }
   ],
   "source": [
    "\n",
    "from enum import Enum\n",
    "\n",
    "#using class\n",
    "class Season(Enum):\n",
    "    winter = 1\n",
    "    summer = 2\n",
    "    spring = 3\n",
    "    autumn = 4\n",
    "print(Season.winter)    \n",
    "print(Season.winter.name)\n",
    "print(Season.winter.value)"
   ]
  },
  {
   "cell_type": "code",
   "execution_count": 3,
   "metadata": {},
   "outputs": [
    {
     "name": "stdout",
     "output_type": "stream",
     "text": [
      "f\n",
      "o\n"
     ]
    }
   ],
   "source": [
    "for letter in 'foo':\n",
    "    print(letter)\n",
    "    if letter == 'o':\n",
    "        break\n",
    "else:\n",
    "    print(\"Letters have been printed\")"
   ]
  },
  {
   "cell_type": "code",
   "execution_count": 4,
   "metadata": {},
   "outputs": [
    {
     "name": "stdout",
     "output_type": "stream",
     "text": [
      "location: Coordinate(longitude=90, latitude=37.5)\n",
      "90 37.5\n"
     ]
    }
   ],
   "source": [
    "\n",
    "from collections import namedtuple\n",
    "\n",
    "Coordinate = namedtuple(\"Coordinate\", \"longitude latitude\")\n",
    "location = Coordinate(90, 37.5)\n",
    "print(\"location:\", location)\n",
    "\n",
    "# accessing attributes with dot notation\n",
    "print(location.longitude, location.latitude)"
   ]
  },
  {
   "cell_type": "code",
   "execution_count": 5,
   "metadata": {},
   "outputs": [
    {
     "name": "stdout",
     "output_type": "stream",
     "text": [
      "location: Coordinate(longitude=90, latitude=37.5)\n",
      "90 37.5\n"
     ]
    }
   ],
   "source": [
    "\n",
    "from collections import namedtuple\n",
    "\n",
    "Coordinate = namedtuple(\"Coordinate\",[ \"longitude\",\"latitude\"])\n",
    "location = Coordinate(90, 37.5)\n",
    "print(\"location:\", location)\n",
    "\n",
    "# accessing attributes with dot notation\n",
    "print(location.longitude, location.latitude)"
   ]
  },
  {
   "cell_type": "code",
   "execution_count": null,
   "metadata": {},
   "outputs": [],
   "source": []
  }
 ],
 "metadata": {
  "interpreter": {
   "hash": "38b5ce590bfb403198350048ccc407e83ab3bc2a686a615a40b62faaf3fcd5b3"
  },
  "kernelspec": {
   "display_name": "Python 3.8.10 64-bit ('proj1': conda)",
   "name": "python3"
  },
  "language_info": {
   "codemirror_mode": {
    "name": "ipython",
    "version": 3
   },
   "file_extension": ".py",
   "mimetype": "text/x-python",
   "name": "python",
   "nbconvert_exporter": "python",
   "pygments_lexer": "ipython3",
   "version": "3.8.10"
  },
  "orig_nbformat": 4
 },
 "nbformat": 4,
 "nbformat_minor": 2
}