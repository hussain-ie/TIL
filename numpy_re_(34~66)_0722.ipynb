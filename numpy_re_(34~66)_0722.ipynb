{
  "nbformat": 4,
  "nbformat_minor": 0,
  "metadata": {
    "colab": {
      "name": "numpy_re_(34~66)_0722",
      "version": "0.3.2",
      "provenance": [],
      "collapsed_sections": [],
      "include_colab_link": true
    },
    "kernelspec": {
      "name": "python3",
      "display_name": "Python 3"
    }
  },
  "cells": [
    {
      "cell_type": "markdown",
      "metadata": {
        "id": "view-in-github",
        "colab_type": "text"
      },
      "source": [
        "[View in Colaboratory](https://colab.research.google.com/github/sungreong/TIL/blob/master/numpy_re_(34~66)_0722.ipynb)"
      ]
    },
    {
      "metadata": {
        "id": "2u-V7bHGfBzR",
        "colab_type": "text"
      },
      "cell_type": "markdown",
      "source": [
        "https://github.com/sungreong/numpy-100/blob/master/100%20Numpy%20exercises.ipynb"
      ]
    },
    {
      "metadata": {
        "id": "qCNd-Ej3e3C2",
        "colab_type": "code",
        "colab": {}
      },
      "cell_type": "code",
      "source": [
        "import numpy as np\n"
      ],
      "execution_count": 0,
      "outputs": []
    },
    {
      "metadata": {
        "id": "O1qzwmLWfDLB",
        "colab_type": "code",
        "colab": {
          "base_uri": "https://localhost:8080/",
          "height": 153
        },
        "outputId": "0f90db26-2643-4dbe-b927-9cb3fd79a2f2"
      },
      "cell_type": "code",
      "source": [
        "z = np.arange(\"2016-07-06\", \"2016-09\" , dtype= \"datetime64[M]\") ; print(z)\n",
        "z = np.arange(\"2016-07\", \"2016-08\" , dtype= \"datetime64[D]\") ; print(z)"
      ],
      "execution_count": 6,
      "outputs": [
        {
          "output_type": "stream",
          "text": [
            "['2016-07' '2016-08']\n",
            "['2016-07-01' '2016-07-02' '2016-07-03' '2016-07-04' '2016-07-05'\n",
            " '2016-07-06' '2016-07-07' '2016-07-08' '2016-07-09' '2016-07-10'\n",
            " '2016-07-11' '2016-07-12' '2016-07-13' '2016-07-14' '2016-07-15'\n",
            " '2016-07-16' '2016-07-17' '2016-07-18' '2016-07-19' '2016-07-20'\n",
            " '2016-07-21' '2016-07-22' '2016-07-23' '2016-07-24' '2016-07-25'\n",
            " '2016-07-26' '2016-07-27' '2016-07-28' '2016-07-29' '2016-07-30'\n",
            " '2016-07-31']\n"
          ],
          "name": "stdout"
        }
      ]
    },
    {
      "metadata": {
        "id": "lxT7GOYbfDNx",
        "colab_type": "code",
        "colab": {
          "base_uri": "https://localhost:8080/",
          "height": 34
        },
        "outputId": "a496746a-ee1d-4624-d4a8-46d54b0d6236"
      },
      "cell_type": "code",
      "source": [
        "a = np.ones(3) * 1\n",
        "b = np.ones(3) * 2\n",
        "c = np.ones(3) * 3\n",
        "np.add(a,b, out= b)\n",
        "np.divide(a , 2 ,  out = a)\n",
        "np.negative(a, out = a )\n",
        "np.multiply(a,b, out = a)"
      ],
      "execution_count": 8,
      "outputs": [
        {
          "output_type": "execute_result",
          "data": {
            "text/plain": [
              "array([-1.5, -1.5, -1.5])"
            ]
          },
          "metadata": {
            "tags": []
          },
          "execution_count": 8
        }
      ]
    },
    {
      "metadata": {
        "id": "lj4yML7UfDQ4",
        "colab_type": "code",
        "colab": {
          "base_uri": "https://localhost:8080/",
          "height": 170
        },
        "outputId": "09247472-fa6f-4117-cbb9-e521a4d7fc85"
      },
      "cell_type": "code",
      "source": [
        "z= np.random.uniform(0, 10, 10)\n",
        "print(z)\n",
        "print(z % 1 )\n",
        "print(z -z %1)  # \n",
        "print(np.floor(z)) # 버림\n",
        "print(np.ceil(z) -1 ) #올림\n",
        "print(z.astype(int))\n",
        "print(np.trunc(z))"
      ],
      "execution_count": 11,
      "outputs": [
        {
          "output_type": "stream",
          "text": [
            "[0.49056886 8.72219578 2.4943571  1.58888967 7.65332412 3.93440576\n",
            " 6.2233729  4.0480877  9.66091388 7.26561565]\n",
            "[0.49056886 0.72219578 0.4943571  0.58888967 0.65332412 0.93440576\n",
            " 0.2233729  0.0480877  0.66091388 0.26561565]\n",
            "[0. 8. 2. 1. 7. 3. 6. 4. 9. 7.]\n",
            "[0. 8. 2. 1. 7. 3. 6. 4. 9. 7.]\n",
            "[0. 8. 2. 1. 7. 3. 6. 4. 9. 7.]\n",
            "[0 8 2 1 7 3 6 4 9 7]\n",
            "[0. 8. 2. 1. 7. 3. 6. 4. 9. 7.]\n"
          ],
          "name": "stdout"
        }
      ]
    },
    {
      "metadata": {
        "id": "diPaBHNufDTl",
        "colab_type": "code",
        "colab": {
          "base_uri": "https://localhost:8080/",
          "height": 119
        },
        "outputId": "c1d93f4c-aae5-480e-a196-098b59e8a848"
      },
      "cell_type": "code",
      "source": [
        "z = np.zeros( (5,5))\n",
        "print(np.arange(5)+1)\n",
        "z += np.arange(5)+1\n",
        "print(z)"
      ],
      "execution_count": 16,
      "outputs": [
        {
          "output_type": "stream",
          "text": [
            "[1 2 3 4 5]\n",
            "[[1. 2. 3. 4. 5.]\n",
            " [1. 2. 3. 4. 5.]\n",
            " [1. 2. 3. 4. 5.]\n",
            " [1. 2. 3. 4. 5.]\n",
            " [1. 2. 3. 4. 5.]]\n"
          ],
          "name": "stdout"
        }
      ]
    },
    {
      "metadata": {
        "id": "32uf6i-efDWm",
        "colab_type": "code",
        "colab": {
          "base_uri": "https://localhost:8080/",
          "height": 34
        },
        "outputId": "8db189e3-103f-4640-fa71-1da58f81ddd3"
      },
      "cell_type": "code",
      "source": [
        "def generate() : \n",
        "    for x in range(10) :\n",
        "        yield x\n",
        "        \n",
        "\n",
        "z= np.fromiter(generate() , dtype= float , count = -1 )\n",
        "print(z)"
      ],
      "execution_count": 21,
      "outputs": [
        {
          "output_type": "stream",
          "text": [
            "[0. 1. 2. 3. 4. 5. 6. 7. 8. 9.]\n"
          ],
          "name": "stdout"
        }
      ]
    },
    {
      "metadata": {
        "id": "_hOtXaz4fDZ0",
        "colab_type": "code",
        "colab": {
          "base_uri": "https://localhost:8080/",
          "height": 102
        },
        "outputId": "a2e4d550-81cc-4df3-fb34-79260e49789d"
      },
      "cell_type": "code",
      "source": [
        "z = np.linspace(0, 1, 10, endpoint=False)[1:]\n",
        "print(len(z))\n",
        "print(z)\n",
        "z = np.linspace(0, 1, 10, endpoint=True)[1:]\n",
        "print(len(z))\n",
        "print(z)"
      ],
      "execution_count": 25,
      "outputs": [
        {
          "output_type": "stream",
          "text": [
            "9\n",
            "[0.1 0.2 0.3 0.4 0.5 0.6 0.7 0.8 0.9]\n",
            "9\n",
            "[0.11111111 0.22222222 0.33333333 0.44444444 0.55555556 0.66666667\n",
            " 0.77777778 0.88888889 1.        ]\n"
          ],
          "name": "stdout"
        }
      ]
    },
    {
      "metadata": {
        "id": "aO817Yp1fDc-",
        "colab_type": "code",
        "colab": {
          "base_uri": "https://localhost:8080/",
          "height": 51
        },
        "outputId": "17df1c8b-6a0e-4053-b796-800c429b655b"
      },
      "cell_type": "code",
      "source": [
        "z= np.random.random(10)\n",
        "z.sort()\n",
        "print(z)"
      ],
      "execution_count": 26,
      "outputs": [
        {
          "output_type": "stream",
          "text": [
            "[0.06732237 0.11420995 0.27034006 0.36405174 0.53436073 0.65314827\n",
            " 0.73057824 0.73887462 0.85804025 0.92102931]\n"
          ],
          "name": "stdout"
        }
      ]
    },
    {
      "metadata": {
        "id": "YMzH15xlfDgE",
        "colab_type": "code",
        "colab": {
          "base_uri": "https://localhost:8080/",
          "height": 51
        },
        "outputId": "8b19cf7b-f395-4d72-b545-9c308fbe6aec"
      },
      "cell_type": "code",
      "source": [
        "z = np.arange(10)\n",
        "print( np.sum(z) )\n",
        "print(np.add.reduce(z) )"
      ],
      "execution_count": 30,
      "outputs": [
        {
          "output_type": "stream",
          "text": [
            "45\n",
            "45\n"
          ],
          "name": "stdout"
        }
      ]
    },
    {
      "metadata": {
        "id": "zOUqQySKfDjQ",
        "colab_type": "code",
        "colab": {
          "base_uri": "https://localhost:8080/",
          "height": 51
        },
        "outputId": "c1fc3230-8fab-4ec7-87ae-15b8749c3454"
      },
      "cell_type": "code",
      "source": [
        "a = np.random.randint(0, 2, 5)\n",
        "b = np.random.randint(0, 2, 5)\n",
        "\n",
        "equal = np.allclose(a,b)\n",
        "print(equal)\n",
        "\n",
        "equal = np.array_equal(a,b)\n",
        "print(equal)"
      ],
      "execution_count": 31,
      "outputs": [
        {
          "output_type": "stream",
          "text": [
            "False\n",
            "False\n"
          ],
          "name": "stdout"
        }
      ]
    },
    {
      "metadata": {
        "id": "olXfuow4fDmf",
        "colab_type": "code",
        "colab": {
          "base_uri": "https://localhost:8080/",
          "height": 215
        },
        "outputId": "b82e06bd-61fe-4bef-a608-1ad4304a553d"
      },
      "cell_type": "code",
      "source": [
        "z= np.zeros(10)\n",
        "z.flags.writeable= False\n",
        "print(z)\n",
        "z[0]=1\n"
      ],
      "execution_count": 37,
      "outputs": [
        {
          "output_type": "stream",
          "text": [
            "[0. 0. 0. 0. 0. 0. 0. 0. 0. 0.]\n"
          ],
          "name": "stdout"
        },
        {
          "output_type": "error",
          "ename": "ValueError",
          "evalue": "ignored",
          "traceback": [
            "\u001b[0;31m---------------------------------------------------------------------------\u001b[0m",
            "\u001b[0;31mValueError\u001b[0m                                Traceback (most recent call last)",
            "\u001b[0;32m<ipython-input-37-26a598ce4b6d>\u001b[0m in \u001b[0;36m<module>\u001b[0;34m()\u001b[0m\n\u001b[1;32m      2\u001b[0m \u001b[0mz\u001b[0m\u001b[0;34m.\u001b[0m\u001b[0mflags\u001b[0m\u001b[0;34m.\u001b[0m\u001b[0mwriteable\u001b[0m\u001b[0;34m=\u001b[0m \u001b[0;32mFalse\u001b[0m\u001b[0;34m\u001b[0m\u001b[0m\n\u001b[1;32m      3\u001b[0m \u001b[0mprint\u001b[0m\u001b[0;34m(\u001b[0m\u001b[0mz\u001b[0m\u001b[0;34m)\u001b[0m\u001b[0;34m\u001b[0m\u001b[0m\n\u001b[0;32m----> 4\u001b[0;31m \u001b[0mz\u001b[0m\u001b[0;34m[\u001b[0m\u001b[0;36m0\u001b[0m\u001b[0;34m]\u001b[0m\u001b[0;34m=\u001b[0m\u001b[0;36m1\u001b[0m\u001b[0;34m\u001b[0m\u001b[0m\n\u001b[0m",
            "\u001b[0;31mValueError\u001b[0m: assignment destination is read-only"
          ]
        }
      ]
    },
    {
      "metadata": {
        "id": "ddIH2LLSfDpl",
        "colab_type": "code",
        "colab": {
          "base_uri": "https://localhost:8080/",
          "height": 85
        },
        "outputId": "6d0d059d-5edf-4b51-fed7-187ecaa87113"
      },
      "cell_type": "code",
      "source": [
        "z = np.random.random( ( 10 ,2 ) ) \n",
        "x, y = z[: ,0] , z[: , 1]\n",
        "r= np.sqrt(x**2 + y**2)\n",
        "t = np.arctan2(y,x)\n",
        "print(r) ; print(t)"
      ],
      "execution_count": 38,
      "outputs": [
        {
          "output_type": "stream",
          "text": [
            "[0.83011177 0.79758799 0.92032537 1.30674715 1.03205106 0.93648813\n",
            " 0.65912715 0.54609043 1.00251136 0.96533514]\n",
            "[0.84578348 1.1038597  0.37246456 0.80981099 0.49024628 0.42991514\n",
            " 0.46855096 0.72837814 1.48503274 0.03042592]\n"
          ],
          "name": "stdout"
        }
      ]
    },
    {
      "metadata": {
        "id": "Icl9M45PfDsd",
        "colab_type": "code",
        "colab": {
          "base_uri": "https://localhost:8080/",
          "height": 68
        },
        "outputId": "04408839-41d8-49b9-c895-ba73e8c0af11"
      },
      "cell_type": "code",
      "source": [
        "z= np.random.random(10)\n",
        "print(z.argmax())\n",
        "z[z.argmax()] = 0\n",
        "print(z)"
      ],
      "execution_count": 40,
      "outputs": [
        {
          "output_type": "stream",
          "text": [
            "1\n",
            "[0.7450398  0.         0.80961017 0.21481072 0.5079989  0.45128934\n",
            " 0.36473039 0.68919575 0.25234901 0.73372271]\n"
          ],
          "name": "stdout"
        }
      ]
    },
    {
      "metadata": {
        "id": "1rEm6vN_fDvc",
        "colab_type": "code",
        "colab": {
          "base_uri": "https://localhost:8080/",
          "height": 187
        },
        "outputId": "84ecf7cb-a44e-4098-f119-09c5790edfdd"
      },
      "cell_type": "code",
      "source": [
        "z = np.zeros( ( 5, 5 ) , [(\"x\", float) , (\"y\", float)])\n",
        "print(z)\n",
        "z[\"x\"] , z[\"y\"] = np.meshgrid(np.linspace( 0, 1,5) , np.linspace(0 , 1, 5))\n",
        "print(z)"
      ],
      "execution_count": 42,
      "outputs": [
        {
          "output_type": "stream",
          "text": [
            "[[(0., 0.) (0., 0.) (0., 0.) (0., 0.) (0., 0.)]\n",
            " [(0., 0.) (0., 0.) (0., 0.) (0., 0.) (0., 0.)]\n",
            " [(0., 0.) (0., 0.) (0., 0.) (0., 0.) (0., 0.)]\n",
            " [(0., 0.) (0., 0.) (0., 0.) (0., 0.) (0., 0.)]\n",
            " [(0., 0.) (0., 0.) (0., 0.) (0., 0.) (0., 0.)]]\n",
            "[[(0.  , 0.  ) (0.25, 0.  ) (0.5 , 0.  ) (0.75, 0.  ) (1.  , 0.  )]\n",
            " [(0.  , 0.25) (0.25, 0.25) (0.5 , 0.25) (0.75, 0.25) (1.  , 0.25)]\n",
            " [(0.  , 0.5 ) (0.25, 0.5 ) (0.5 , 0.5 ) (0.75, 0.5 ) (1.  , 0.5 )]\n",
            " [(0.  , 0.75) (0.25, 0.75) (0.5 , 0.75) (0.75, 0.75) (1.  , 0.75)]\n",
            " [(0.  , 1.  ) (0.25, 1.  ) (0.5 , 1.  ) (0.75, 1.  ) (1.  , 1.  )]]\n"
          ],
          "name": "stdout"
        }
      ]
    },
    {
      "metadata": {
        "id": "-sK4T2hZfDyg",
        "colab_type": "code",
        "colab": {
          "base_uri": "https://localhost:8080/",
          "height": 187
        },
        "outputId": "9b36b7b4-e5c7-44a8-caf1-d392c047bdd7"
      },
      "cell_type": "code",
      "source": [
        "x = np.arange(8)\n",
        "y =  x + 0.5 \n",
        "print(np.subtract.outer(x,y ))\n",
        "print(np.shape(np.subtract.outer(x,y )))\n",
        "c = 1.0 / np.subtract.outer(x, y) \n",
        "print(np.linalg.det(c))"
      ],
      "execution_count": 45,
      "outputs": [
        {
          "output_type": "stream",
          "text": [
            "[[-0.5 -1.5 -2.5 -3.5 -4.5 -5.5 -6.5 -7.5]\n",
            " [ 0.5 -0.5 -1.5 -2.5 -3.5 -4.5 -5.5 -6.5]\n",
            " [ 1.5  0.5 -0.5 -1.5 -2.5 -3.5 -4.5 -5.5]\n",
            " [ 2.5  1.5  0.5 -0.5 -1.5 -2.5 -3.5 -4.5]\n",
            " [ 3.5  2.5  1.5  0.5 -0.5 -1.5 -2.5 -3.5]\n",
            " [ 4.5  3.5  2.5  1.5  0.5 -0.5 -1.5 -2.5]\n",
            " [ 5.5  4.5  3.5  2.5  1.5  0.5 -0.5 -1.5]\n",
            " [ 6.5  5.5  4.5  3.5  2.5  1.5  0.5 -0.5]]\n",
            "(8, 8)\n",
            "3638.163637117973\n"
          ],
          "name": "stdout"
        }
      ]
    },
    {
      "metadata": {
        "id": "d0cpLuwVfD1l",
        "colab_type": "code",
        "colab": {
          "base_uri": "https://localhost:8080/",
          "height": 289
        },
        "outputId": "900c3f52-f110-4b02-f330-08f185146494"
      },
      "cell_type": "code",
      "source": [
        "np.set_printoptions(threshold=np.nan)\n",
        "z= np.zeros(( 16, 16))\n",
        "print(z)"
      ],
      "execution_count": 48,
      "outputs": [
        {
          "output_type": "stream",
          "text": [
            "[[0. 0. 0. 0. 0. 0. 0. 0. 0. 0. 0. 0. 0. 0. 0. 0.]\n",
            " [0. 0. 0. 0. 0. 0. 0. 0. 0. 0. 0. 0. 0. 0. 0. 0.]\n",
            " [0. 0. 0. 0. 0. 0. 0. 0. 0. 0. 0. 0. 0. 0. 0. 0.]\n",
            " [0. 0. 0. 0. 0. 0. 0. 0. 0. 0. 0. 0. 0. 0. 0. 0.]\n",
            " [0. 0. 0. 0. 0. 0. 0. 0. 0. 0. 0. 0. 0. 0. 0. 0.]\n",
            " [0. 0. 0. 0. 0. 0. 0. 0. 0. 0. 0. 0. 0. 0. 0. 0.]\n",
            " [0. 0. 0. 0. 0. 0. 0. 0. 0. 0. 0. 0. 0. 0. 0. 0.]\n",
            " [0. 0. 0. 0. 0. 0. 0. 0. 0. 0. 0. 0. 0. 0. 0. 0.]\n",
            " [0. 0. 0. 0. 0. 0. 0. 0. 0. 0. 0. 0. 0. 0. 0. 0.]\n",
            " [0. 0. 0. 0. 0. 0. 0. 0. 0. 0. 0. 0. 0. 0. 0. 0.]\n",
            " [0. 0. 0. 0. 0. 0. 0. 0. 0. 0. 0. 0. 0. 0. 0. 0.]\n",
            " [0. 0. 0. 0. 0. 0. 0. 0. 0. 0. 0. 0. 0. 0. 0. 0.]\n",
            " [0. 0. 0. 0. 0. 0. 0. 0. 0. 0. 0. 0. 0. 0. 0. 0.]\n",
            " [0. 0. 0. 0. 0. 0. 0. 0. 0. 0. 0. 0. 0. 0. 0. 0.]\n",
            " [0. 0. 0. 0. 0. 0. 0. 0. 0. 0. 0. 0. 0. 0. 0. 0.]\n",
            " [0. 0. 0. 0. 0. 0. 0. 0. 0. 0. 0. 0. 0. 0. 0. 0.]]\n"
          ],
          "name": "stdout"
        }
      ]
    },
    {
      "metadata": {
        "id": "R3Wgk0irfD40",
        "colab_type": "code",
        "colab": {
          "base_uri": "https://localhost:8080/",
          "height": 34
        },
        "outputId": "27e62e2d-1189-4186-e4f0-f5e2c3867df2"
      },
      "cell_type": "code",
      "source": [
        "z = np.arange(100)\n",
        "v = np.random.uniform(0, 100)\n",
        "index = ((np.abs(z-v)).argmin())\n",
        "print(index , z[index])"
      ],
      "execution_count": 49,
      "outputs": [
        {
          "output_type": "stream",
          "text": [
            "93 93\n"
          ],
          "name": "stdout"
        }
      ]
    },
    {
      "metadata": {
        "id": "9-MyJE5UfD79",
        "colab_type": "code",
        "colab": {
          "base_uri": "https://localhost:8080/",
          "height": 102
        },
        "outputId": "4e6f7cec-64f9-414d-d9c4-591c5de53586"
      },
      "cell_type": "code",
      "source": [
        "z = np.zeros(10 , [ (\"position\" , [ (\"x\" , float) , (\"y\", float)]) ,\n",
        "                            (\"color\" , [ (\"r\" , float , 1 ) , \n",
        "                                            (\"g\" , float , 1) ,\n",
        "                                            (\"b\", float , 1  )])])\n",
        "\n",
        "print(z)"
      ],
      "execution_count": 51,
      "outputs": [
        {
          "output_type": "stream",
          "text": [
            "[((0., 0.), (0., 0., 0.)) ((0., 0.), (0., 0., 0.))\n",
            " ((0., 0.), (0., 0., 0.)) ((0., 0.), (0., 0., 0.))\n",
            " ((0., 0.), (0., 0., 0.)) ((0., 0.), (0., 0., 0.))\n",
            " ((0., 0.), (0., 0., 0.)) ((0., 0.), (0., 0., 0.))\n",
            " ((0., 0.), (0., 0., 0.)) ((0., 0.), (0., 0., 0.))]\n"
          ],
          "name": "stdout"
        }
      ]
    },
    {
      "metadata": {
        "id": "ab53PzPQfD_X",
        "colab_type": "code",
        "colab": {
          "base_uri": "https://localhost:8080/",
          "height": 714
        },
        "outputId": "16dd9bb5-e14d-4d62-ea4d-52dc9252e983"
      },
      "cell_type": "code",
      "source": [
        "z= np.random.random( ( 10 , 2 ))\n",
        "x, y = np.atleast_2d(z[:, 0] , z[:, 1])\n",
        "d = np.sqrt( (x-x.T)**2 + (y-y.T)**2)\n",
        "print(d)\n",
        "\n",
        "import scipy\n",
        "import scipy.spatial\n",
        "print(\"=\"*100)\n",
        "z= np.random.random( ( 10, 2 ))\n",
        "d= scipy.spatial.distance.cdist(z,z)\n",
        "print(d)"
      ],
      "execution_count": 56,
      "outputs": [
        {
          "output_type": "stream",
          "text": [
            "[[0.         0.91954616 0.34065892 0.8879132  0.16267062 0.13564186\n",
            "  0.86907416 0.25849748 0.51593029 0.61322695]\n",
            " [0.91954616 0.         0.8384588  0.41203524 1.0221768  0.86482435\n",
            "  0.22825235 0.67174811 0.70403836 0.35714695]\n",
            " [0.34065892 0.8384588  0.         0.96150982 0.29416928 0.20540023\n",
            "  0.87621894 0.2708477  0.72905804 0.64588   ]\n",
            " [0.8879132  0.41203524 0.96150982 0.         1.03386569 0.89483234\n",
            "  0.18423079 0.71088742 0.46115349 0.31650873]\n",
            " [0.16267062 1.0221768  0.29416928 1.03386569 0.         0.15758078\n",
            "  0.99852097 0.35173777 0.67809136 0.74420325]\n",
            " [0.13564186 0.86482435 0.20540023 0.89483234 0.15758078 0.\n",
            "  0.84792691 0.19618029 0.5801184  0.59591611]\n",
            " [0.86907416 0.22825235 0.87621894 0.18423079 0.99852097 0.84792691\n",
            "  0.         0.65328303 0.53735842 0.25586826]\n",
            " [0.25849748 0.67174811 0.2708477  0.71088742 0.35173777 0.19618029\n",
            "  0.65328303 0.         0.46295207 0.40403421]\n",
            " [0.51593029 0.70403836 0.72905804 0.46115349 0.67809136 0.5801184\n",
            "  0.53735842 0.46295207 0.         0.35617778]\n",
            " [0.61322695 0.35714695 0.64588    0.31650873 0.74420325 0.59591611\n",
            "  0.25586826 0.40403421 0.35617778 0.        ]]\n",
            "====================================================================================================\n",
            "[[0.         0.31037599 0.13282143 0.23160695 0.32206031 0.69862821\n",
            "  0.10204069 0.65214137 0.63138516 0.24223149]\n",
            " [0.31037599 0.         0.26770396 0.49498925 0.24696574 0.76205584\n",
            "  0.41157504 0.94274163 0.92318719 0.37436852]\n",
            " [0.13282143 0.26770396 0.         0.36301063 0.37891966 0.81498156\n",
            "  0.19590327 0.76563321 0.74425884 0.13452304]\n",
            " [0.23160695 0.49498925 0.36301063 0.         0.38150092 0.54838698\n",
            "  0.19591934 0.44981614 0.43109115 0.45102891]\n",
            " [0.32206031 0.24696574 0.37891966 0.38150092 0.         0.51561795\n",
            "  0.40782621 0.81662139 0.80010295 0.51304999]\n",
            " [0.69862821 0.76205584 0.81498156 0.54838698 0.51561795 0.\n",
            "  0.72161734 0.73247821 0.72866816 0.93982142]\n",
            " [0.10204069 0.41157504 0.19590327 0.19591934 0.40782621 0.72161734\n",
            "  0.         0.56973122 0.54835738 0.25818615]\n",
            " [0.65214137 0.94274163 0.76563321 0.44981614 0.81662139 0.73247821\n",
            "  0.56973122 0.         0.02198114 0.80294874]\n",
            " [0.63138516 0.92318719 0.74425884 0.43109115 0.80010295 0.72866816\n",
            "  0.54835738 0.02198114 0.         0.78101847]\n",
            " [0.24223149 0.37436852 0.13452304 0.45102891 0.51304999 0.93982142\n",
            "  0.25818615 0.80294874 0.78101847 0.        ]]\n"
          ],
          "name": "stdout"
        }
      ]
    },
    {
      "metadata": {
        "id": "mCysMEkyfECk",
        "colab_type": "code",
        "colab": {
          "base_uri": "https://localhost:8080/",
          "height": 51
        },
        "outputId": "696879cc-267b-4e71-875c-fe4adaa38b91"
      },
      "cell_type": "code",
      "source": [
        "z= np.arange(10, dtype= np.float32) \n",
        "print(z)\n",
        "z= z.astype(np.int32 , copy =False)\n",
        "print(z)\n",
        "0"
      ],
      "execution_count": 58,
      "outputs": [
        {
          "output_type": "stream",
          "text": [
            "[0. 1. 2. 3. 4. 5. 6. 7. 8. 9.]\n",
            "[0 1 2 3 4 5 6 7 8 9]\n"
          ],
          "name": "stdout"
        }
      ]
    },
    {
      "metadata": {
        "id": "uu5oemhffEF2",
        "colab_type": "code",
        "colab": {
          "base_uri": "https://localhost:8080/",
          "height": 323
        },
        "outputId": "8b37c48f-77d8-4c16-869a-17dee812b73b"
      },
      "cell_type": "code",
      "source": [
        "z= np.arange(9).reshape(3,3) \n",
        "for index ,value in np.ndenumerate(z) :\n",
        "    print(index , value) ;\n",
        "\n",
        "for index in np.ndindex(z.shape) :\n",
        "    print(index, z[index])"
      ],
      "execution_count": 60,
      "outputs": [
        {
          "output_type": "stream",
          "text": [
            "(0, 0) 0\n",
            "(0, 1) 1\n",
            "(0, 2) 2\n",
            "(1, 0) 3\n",
            "(1, 1) 4\n",
            "(1, 2) 5\n",
            "(2, 0) 6\n",
            "(2, 1) 7\n",
            "(2, 2) 8\n",
            "(0, 0) 0\n",
            "(0, 1) 1\n",
            "(0, 2) 2\n",
            "(1, 0) 3\n",
            "(1, 1) 4\n",
            "(1, 2) 5\n",
            "(2, 0) 6\n",
            "(2, 1) 7\n",
            "(2, 2) 8\n"
          ],
          "name": "stdout"
        }
      ]
    },
    {
      "metadata": {
        "id": "fHfKVi4SfEI_",
        "colab_type": "code",
        "colab": {
          "base_uri": "https://localhost:8080/",
          "height": 391
        },
        "outputId": "fe0e2bbf-2325-4036-f9a1-24d7087c2edd"
      },
      "cell_type": "code",
      "source": [
        "x, y = np.meshgrid( np.linspace(-1 , 1, 10) , np.linspace(-1 , 1 , 10)) \n",
        "print(np.shape(x)) ; print(np.shape(y))\n",
        "d= np.sqrt(x*x+y*y)\n",
        "\n",
        "sigma , mu = 1.0, 0.0\n",
        "g = np.exp(-( (d-mu)**2 / (2.0*sigma**2 )))\n",
        "print(g)"
      ],
      "execution_count": 66,
      "outputs": [
        {
          "output_type": "stream",
          "text": [
            "(10, 10)\n",
            "(10, 10)\n",
            "[[0.36787944 0.44822088 0.51979489 0.57375342 0.60279818 0.60279818\n",
            "  0.57375342 0.51979489 0.44822088 0.36787944]\n",
            " [0.44822088 0.54610814 0.63331324 0.69905581 0.73444367 0.73444367\n",
            "  0.69905581 0.63331324 0.54610814 0.44822088]\n",
            " [0.51979489 0.63331324 0.73444367 0.81068432 0.85172308 0.85172308\n",
            "  0.81068432 0.73444367 0.63331324 0.51979489]\n",
            " [0.57375342 0.69905581 0.81068432 0.89483932 0.9401382  0.9401382\n",
            "  0.89483932 0.81068432 0.69905581 0.57375342]\n",
            " [0.60279818 0.73444367 0.85172308 0.9401382  0.98773022 0.98773022\n",
            "  0.9401382  0.85172308 0.73444367 0.60279818]\n",
            " [0.60279818 0.73444367 0.85172308 0.9401382  0.98773022 0.98773022\n",
            "  0.9401382  0.85172308 0.73444367 0.60279818]\n",
            " [0.57375342 0.69905581 0.81068432 0.89483932 0.9401382  0.9401382\n",
            "  0.89483932 0.81068432 0.69905581 0.57375342]\n",
            " [0.51979489 0.63331324 0.73444367 0.81068432 0.85172308 0.85172308\n",
            "  0.81068432 0.73444367 0.63331324 0.51979489]\n",
            " [0.44822088 0.54610814 0.63331324 0.69905581 0.73444367 0.73444367\n",
            "  0.69905581 0.63331324 0.54610814 0.44822088]\n",
            " [0.36787944 0.44822088 0.51979489 0.57375342 0.60279818 0.60279818\n",
            "  0.57375342 0.51979489 0.44822088 0.36787944]]\n"
          ],
          "name": "stdout"
        }
      ]
    },
    {
      "metadata": {
        "id": "rJ6JNUZhfELx",
        "colab_type": "code",
        "colab": {
          "base_uri": "https://localhost:8080/",
          "height": 204
        },
        "outputId": "94e23bd8-aa54-4066-b439-f12b617b2ca3"
      },
      "cell_type": "code",
      "source": [
        "n = 10 \n",
        "p =3 \n",
        "z= np.zeros( ( n, n))\n",
        "print(np.random.choice( range(n*n) , p , replace= False))\n",
        "np.put(z, np.random.choice( range(n*n) , p , replace= False) , 1 )\n",
        "print(z)"
      ],
      "execution_count": 68,
      "outputs": [
        {
          "output_type": "stream",
          "text": [
            "[24 16 17]\n",
            "[[0. 0. 0. 0. 0. 0. 0. 0. 0. 0.]\n",
            " [0. 0. 0. 0. 0. 0. 0. 0. 0. 0.]\n",
            " [0. 0. 0. 0. 0. 0. 1. 0. 0. 0.]\n",
            " [0. 0. 0. 0. 0. 0. 0. 0. 0. 0.]\n",
            " [0. 0. 0. 0. 0. 0. 0. 0. 0. 0.]\n",
            " [0. 0. 0. 0. 0. 0. 0. 0. 0. 0.]\n",
            " [0. 0. 0. 0. 0. 0. 0. 0. 0. 0.]\n",
            " [0. 0. 0. 1. 0. 0. 0. 0. 0. 0.]\n",
            " [0. 0. 0. 0. 0. 0. 0. 0. 0. 1.]\n",
            " [0. 0. 0. 0. 0. 0. 0. 0. 0. 0.]]\n"
          ],
          "name": "stdout"
        }
      ]
    },
    {
      "metadata": {
        "id": "oIuGqpnMfEPH",
        "colab_type": "code",
        "colab": {
          "base_uri": "https://localhost:8080/",
          "height": 294
        },
        "outputId": "a9f5925f-09ac-4d8e-dd1f-3c15bf856c16"
      },
      "cell_type": "code",
      "source": [
        "x= np.random.rand(5, 10)\n",
        "d = x.mean(axis=1  ,  keepdims=True)\n",
        "print(np.shape(d))\n",
        "y = x - x.mean(axis=1  ,  keepdims=True)\n",
        "print(y)"
      ],
      "execution_count": 73,
      "outputs": [
        {
          "output_type": "stream",
          "text": [
            "(5, 1)\n",
            "[[0.42261421]\n",
            " [0.56821618]\n",
            " [0.33549065]\n",
            " [0.59154217]\n",
            " [0.42955991]]\n",
            "[[ 0.10326636 -0.24285499  0.022474   -0.39346364 -0.16396142  0.32636138\n",
            "   0.13703116 -0.03160567  0.10303264  0.1397202 ]\n",
            " [-0.04422726  0.03964843 -0.37286671 -0.47688715  0.01295303  0.38004908\n",
            "  -0.03873096  0.28764444  0.34885521 -0.13643811]\n",
            " [ 0.47547125  0.08164749  0.02476461  0.27756808 -0.1855128  -0.28347994\n",
            "  -0.20981396 -0.2693139   0.3078191  -0.21914993]\n",
            " [ 0.06516226 -0.07048697  0.22114143 -0.15107547  0.08165365 -0.35744428\n",
            "   0.02667448  0.28643086  0.21329306 -0.31534903]\n",
            " [ 0.44108531  0.43796625  0.35197144  0.15489017 -0.11873359 -0.40318535\n",
            "  -0.26588368 -0.25673675 -0.36269344  0.02131964]]\n"
          ],
          "name": "stdout"
        }
      ]
    },
    {
      "metadata": {
        "id": "hAJDW6MFmZ5y",
        "colab_type": "code",
        "colab": {
          "base_uri": "https://localhost:8080/",
          "height": 118
        },
        "outputId": "aa4230d3-e983-489a-c9fb-bca853d55ca8"
      },
      "cell_type": "code",
      "source": [
        "z= np.random.randint( 0 , 10 , (3,3))\n",
        "print(z) \n",
        "## 특정열 정렬시키기\n",
        "print(z[z[:,1].argsort()] )"
      ],
      "execution_count": 75,
      "outputs": [
        {
          "output_type": "stream",
          "text": [
            "[[0 3 5]\n",
            " [5 2 0]\n",
            " [2 9 9]]\n",
            "[[5 2 0]\n",
            " [0 3 5]\n",
            " [2 9 9]]\n"
          ],
          "name": "stdout"
        }
      ]
    },
    {
      "metadata": {
        "id": "bh-Pzh2mmZ8p",
        "colab_type": "code",
        "colab": {
          "base_uri": "https://localhost:8080/",
          "height": 101
        },
        "outputId": "2424d751-9be0-4b77-8655-17d71532d81f"
      },
      "cell_type": "code",
      "source": [
        "z= np.random.randint(0 ,3, (3,10 ))\n",
        "print(z)\n",
        "print( z.any(axis=0) )\n",
        "print((~z.any(axis=0)).any())"
      ],
      "execution_count": 80,
      "outputs": [
        {
          "output_type": "stream",
          "text": [
            "[[0 1 1 0 2 2 0 2 1 2]\n",
            " [1 0 2 1 2 0 0 1 0 1]\n",
            " [2 1 1 1 0 2 0 0 2 1]]\n",
            "[ True  True  True  True  True  True False  True  True  True]\n",
            "True\n"
          ],
          "name": "stdout"
        }
      ]
    },
    {
      "metadata": {
        "id": "qk6hG83pmZ_b",
        "colab_type": "code",
        "colab": {
          "base_uri": "https://localhost:8080/",
          "height": 50
        },
        "outputId": "bbf076c7-83b9-4123-d3e7-b380b472b254"
      },
      "cell_type": "code",
      "source": [
        "z= np.random.uniform(0, 1, 10)\n",
        "a= 0.6\n",
        "m = z.flat[np.abs(z-a).argmin()]\n",
        "print(m)\n",
        "m = z[np.abs(z-a).argmin()]\n",
        "print(m)"
      ],
      "execution_count": 83,
      "outputs": [
        {
          "output_type": "stream",
          "text": [
            "0.6259335375936687\n",
            "0.6259335375936687\n"
          ],
          "name": "stdout"
        }
      ]
    },
    {
      "metadata": {
        "id": "a2tPsXTLmaCU",
        "colab_type": "code",
        "colab": {
          "base_uri": "https://localhost:8080/",
          "height": 151
        },
        "outputId": "2da50311-5db2-4757-f28e-b5b8fe3f1511"
      },
      "cell_type": "code",
      "source": [
        "a  = np.arange(3).reshape(3,1) ; print(a)\n",
        "b= np.arange(3).reshape(1, 3)  ; print(b)\n",
        "it = np.nditer([a,b , None]) ; print(it)\n",
        "for x, y, z in it : \n",
        "    z[...] = x+y\n",
        "print([it.operands[2]])\n",
        "\n"
      ],
      "execution_count": 89,
      "outputs": [
        {
          "output_type": "stream",
          "text": [
            "[[0]\n",
            " [1]\n",
            " [2]]\n",
            "[[0 1 2]]\n",
            "<numpy.nditer object at 0x7fbad23428f0>\n",
            "[array([[0, 1, 2],\n",
            "       [1, 2, 3],\n",
            "       [2, 3, 4]])]\n"
          ],
          "name": "stdout"
        }
      ]
    },
    {
      "metadata": {
        "id": "V31aPGr0maFV",
        "colab_type": "code",
        "colab": {}
      },
      "cell_type": "code",
      "source": [
        ""
      ],
      "execution_count": 0,
      "outputs": []
    },
    {
      "metadata": {
        "id": "_v6XVzBpmaIT",
        "colab_type": "code",
        "colab": {
          "base_uri": "https://localhost:8080/",
          "height": 84
        },
        "outputId": "a7757d63-4443-498b-deff-2d52b8c1c123"
      },
      "cell_type": "code",
      "source": [
        "z= np.ones(10)\n",
        "l = np.random.randint(0 , len(z) , 20)\n",
        "print(l)\n",
        "# 나오는 숫자를 카운트하는 것 -= bincount\n",
        "print(np.bincount(l , minlength =len(z)))\n",
        "z += np.bincount(l , minlength =len(z))\n",
        "print(z)\n",
        "\n",
        "np.add.at(z,l,1)\n",
        "print(z)"
      ],
      "execution_count": 93,
      "outputs": [
        {
          "output_type": "stream",
          "text": [
            "[7 2 1 4 1 5 9 3 8 1 0 7 5 0 1 1 7 9 2 1]\n",
            "[2 6 2 1 1 2 0 3 1 2]\n",
            "[3. 7. 3. 2. 2. 3. 1. 4. 2. 3.]\n",
            "[ 5. 13.  5.  3.  3.  5.  1.  7.  3.  5.]\n"
          ],
          "name": "stdout"
        }
      ]
    },
    {
      "metadata": {
        "id": "whUdGjeKo8v2",
        "colab_type": "code",
        "colab": {
          "base_uri": "https://localhost:8080/",
          "height": 34
        },
        "outputId": "cd4989ba-fe59-48e5-cefc-713e4a835f1b"
      },
      "cell_type": "code",
      "source": [
        "## 65 번까지 \n",
        "\n",
        "x= [1,2,3,4,5,6]\n",
        "y = [1,3,9,3,4,1]\n",
        "f = np.bincount(y, x)\n",
        "print(f)\n",
        "##  y 가 1 부터 9 숫자 사이에 있으므로  0 부터 9 까지의 인덱스가 생성된다.\n",
        "## 그 중 1에 인덱스가 매칭이 되는 x는 1, 6 \n",
        "## 2 는 없고, 3은 2와 4  / 4는 5 / 5는 없고 /6도 없고/ 7도 없고/8도없고/9는 3 \n",
        "## 결과겂은 이것들의 합을 하면 빈도가 나온다."
      ],
      "execution_count": 100,
      "outputs": [
        {
          "output_type": "stream",
          "text": [
            "[0. 7. 0. 6. 5. 0. 0. 0. 0. 3.]\n"
          ],
          "name": "stdout"
        }
      ]
    },
    {
      "metadata": {
        "id": "oEmoP1fVqZ_J",
        "colab_type": "code",
        "colab": {}
      },
      "cell_type": "code",
      "source": [
        ","
      ],
      "execution_count": 0,
      "outputs": []
    }
  ]
}