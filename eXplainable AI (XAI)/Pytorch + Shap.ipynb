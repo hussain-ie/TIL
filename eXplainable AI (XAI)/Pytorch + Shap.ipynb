{
 "cells": [
  {
   "cell_type": "markdown",
   "metadata": {},
   "source": [
    "## 난 Pytorch를 굳이 쓰지 않지만, 일관성을 위해 일단 연습을 해본다.\n",
    "\n",
    "### Iris 데이터와 pytorch api를 사용하여 모델을 만든 후 shap 로 해석하기\n",
    "\n",
    "#### 먼가 다른 xgboost 에 사용되는 `dependence_plot`  , `force_plot` 사용해야 할 것 같은데, summary_plot 만 가능하고 나머지는 에러가 발생한다...\n",
    "\n",
    "#### 원래는 image_plot 사용한다.\n",
    "\n",
    "## [SHAP Document Url](https://github.com/slundberg/shap/blob/master/notebooks/deep_explainer/PyTorch%20Deep%20Explainer%20MNIST%20example.ipynb)"
   ]
  },
  {
   "cell_type": "code",
   "execution_count": 1,
   "metadata": {},
   "outputs": [],
   "source": [
    "\n",
    "import torch, torchvision\n",
    "from torchvision import datasets, transforms\n",
    "from torch import nn, optim\n",
    "from torch.nn import functional as F\n",
    "\n",
    "import numpy as np\n",
    "import shap"
   ]
  },
  {
   "cell_type": "markdown",
   "metadata": {},
   "source": [
    "## Torch는 잘모르니, 일단 복붙"
   ]
  },
  {
   "cell_type": "code",
   "execution_count": 20,
   "metadata": {
    "scrolled": true
   },
   "outputs": [
    {
     "name": "stdout",
     "output_type": "stream",
     "text": [
      "tensor(1.1300, grad_fn=<NllLossBackward>)\n",
      "tensor(0.7495, grad_fn=<NllLossBackward>)\n",
      "tensor(0.6203, grad_fn=<NllLossBackward>)\n",
      "tensor(0.5951, grad_fn=<NllLossBackward>)\n",
      "tensor(0.5856, grad_fn=<NllLossBackward>)\n",
      "tensor(0.5806, grad_fn=<NllLossBackward>)\n",
      "tensor(0.5774, grad_fn=<NllLossBackward>)\n",
      "tensor(0.5752, grad_fn=<NllLossBackward>)\n",
      "tensor(0.5735, grad_fn=<NllLossBackward>)\n",
      "tensor(0.5722, grad_fn=<NllLossBackward>)\n",
      "0.9736842105263158\n"
     ]
    }
   ],
   "source": [
    "import sklearn.datasets\n",
    "\n",
    "from sklearn.datasets import load_iris\n",
    "from sklearn.utils import shuffle\n",
    "from sklearn.model_selection import train_test_split\n",
    "import torch\n",
    "import torch.optim as optim\n",
    "import torch.nn as nn\n",
    "import torch.nn.functional as F\n",
    "\n",
    "\n",
    "hl = 10\n",
    "lr = 0.005\n",
    "num_epoch = 1000\n",
    "\n",
    "\n",
    "class Net(nn.Module):\n",
    "    def __init__(self):\n",
    "        \n",
    "        super(Net, self).__init__()\n",
    "        self.fc1 = nn.Linear(4, hl)\n",
    "        self.fc2 = nn.Linear(hl, 3)\n",
    "        self.softmax = torch.nn.Softmax(dim=1)\n",
    "\n",
    "\n",
    "    def forward(self, x):\n",
    "        out = self.fc1(x)\n",
    "        out = F.relu(out)\n",
    "        out = self.fc2(out)\n",
    "        out = self.softmax(out)\n",
    "        return out\n",
    "\n",
    "    \n",
    "if __name__ == '__main__':\n",
    "    iris = sklearn.datasets.load_iris()\n",
    "    x, y = shuffle(iris.data,iris.target)\n",
    "    xtrain, xtest, ytrain, ytest = train_test_split(x, y, test_size=0.25, random_state=33)\n",
    "\n",
    "    net = Net()\n",
    "    criterion = nn.CrossEntropyLoss()\n",
    "    optimizer = optim.Adam(net.parameters(), lr=lr)\n",
    "\n",
    "    # train\n",
    "    for epoch in range(num_epoch):\n",
    "        trainx = torch.Tensor(xtrain).float()\n",
    "        trainy = torch.Tensor(ytrain).long()\n",
    "\n",
    "        optimizer.zero_grad()\n",
    "        y_pred = net(trainx)\n",
    "        loss = criterion(y_pred, trainy)\n",
    "        loss.backward()\n",
    "        optimizer.step()\n",
    "\n",
    "        if epoch % 100 == 0:\n",
    "            print(loss) # cross entropy\n",
    "\n",
    "\n",
    "    # test\n",
    "    testx = torch.Tensor(xtest).float()\n",
    "    testy = torch.Tensor(ytest).long()\n",
    "    y_pred = net(testx)\n",
    "    _, predicted = torch.max(y_pred, 1)\n",
    "\n",
    "    acc = torch.sum(testy == predicted).numpy() / len(testx)\n",
    "    print(acc)\n"
   ]
  },
  {
   "cell_type": "markdown",
   "metadata": {},
   "source": [
    "# 위에서 사용한 Class로 지정한 `model` 를 활용한다."
   ]
  },
  {
   "cell_type": "code",
   "execution_count": 80,
   "metadata": {},
   "outputs": [],
   "source": [
    "# since shuffle=True, this is a random sample of test data\n",
    "\n",
    "background = trainx\n",
    "test = testx.narrow(0, 0, 20)\n",
    "\n",
    "e = shap.DeepExplainer(net, background  )\n",
    "shap_values = e.shap_values(test)"
   ]
  },
  {
   "cell_type": "code",
   "execution_count": 81,
   "metadata": {},
   "outputs": [],
   "source": [
    "\n",
    "shap_numpy = [np.swapaxes(np.swapaxes(s, 0, -1), 0, 1) for s in shap_values]\n",
    "test_numpy = np.swapaxes(np.swapaxes(test.numpy(), 0, -1), 0, 1)"
   ]
  },
  {
   "cell_type": "code",
   "execution_count": 75,
   "metadata": {},
   "outputs": [
    {
     "data": {
      "image/png": "[encoded data removed]",
      "text/plain": [
       "<Figure size 576x223.2 with 1 Axes>"
      ]
     },
     "metadata": {
      "needs_background": "light"
     },
     "output_type": "display_data"
    }
   ],
   "source": [
    "shap.summary_plot(shap_numpy, -test_numpy, plot_type=\"bar\")"
   ]
  },
  {
   "cell_type": "code",
   "execution_count": 89,
   "metadata": {},
   "outputs": [
    {
     "ename": "TypeError",
     "evalue": "unsupported operand type(s) for +: 'float' and 'NoneType'",
     "output_type": "error",
     "traceback": [
      "\u001b[0;31m---------------------------------------------------------------------------\u001b[0m",
      "\u001b[0;31mTypeError\u001b[0m                                 Traceback (most recent call last)",
      "\u001b[0;32m<ipython-input-89-b885646ef3e1>\u001b[0m in \u001b[0;36m<module>\u001b[0;34m\u001b[0m\n\u001b[0;32m----> 1\u001b[0;31m \u001b[0mshap\u001b[0m\u001b[0;34m.\u001b[0m\u001b[0mforce_plot\u001b[0m\u001b[0;34m(\u001b[0m\u001b[0me\u001b[0m\u001b[0;34m.\u001b[0m\u001b[0mexpected_value\u001b[0m\u001b[0;34m,\u001b[0m \u001b[0mshap_numpy\u001b[0m\u001b[0;34m[\u001b[0m\u001b[0;36m0\u001b[0m\u001b[0;34m]\u001b[0m\u001b[0;34m,\u001b[0m \u001b[0mtest_numpy\u001b[0m\u001b[0;34m[\u001b[0m\u001b[0;36m0\u001b[0m\u001b[0;34m]\u001b[0m\u001b[0;34m)\u001b[0m\u001b[0;34m\u001b[0m\u001b[0m\n\u001b[0m",
      "\u001b[0;32m~/.local/lib/python3.5/site-packages/shap/plots/force.py\u001b[0m in \u001b[0;36mforce_plot\u001b[0;34m(base_value, shap_values, features, feature_names, out_names, link, plot_cmap, matplotlib, show, figsize, ordering_keys, ordering_keys_time_format)\u001b[0m\n\u001b[1;32m    122\u001b[0m             e = AdditiveExplanation(\n\u001b[1;32m    123\u001b[0m                 \u001b[0mbase_value\u001b[0m\u001b[0;34m,\u001b[0m\u001b[0;34m\u001b[0m\u001b[0m\n\u001b[0;32m--> 124\u001b[0;31m                 \u001b[0mnp\u001b[0m\u001b[0;34m.\u001b[0m\u001b[0msum\u001b[0m\u001b[0;34m(\u001b[0m\u001b[0mshap_values\u001b[0m\u001b[0;34m[\u001b[0m\u001b[0mi\u001b[0m\u001b[0;34m,\u001b[0m \u001b[0;34m:\u001b[0m\u001b[0;34m]\u001b[0m\u001b[0;34m)\u001b[0m \u001b[0;34m+\u001b[0m \u001b[0mbase_value\u001b[0m\u001b[0;34m,\u001b[0m\u001b[0;34m\u001b[0m\u001b[0m\n\u001b[0m\u001b[1;32m    125\u001b[0m                 \u001b[0mshap_values\u001b[0m\u001b[0;34m[\u001b[0m\u001b[0mi\u001b[0m\u001b[0;34m,\u001b[0m \u001b[0;34m:\u001b[0m\u001b[0;34m]\u001b[0m\u001b[0;34m,\u001b[0m\u001b[0;34m\u001b[0m\u001b[0m\n\u001b[1;32m    126\u001b[0m                 \u001b[0;32mNone\u001b[0m\u001b[0;34m,\u001b[0m\u001b[0;34m\u001b[0m\u001b[0m\n",
      "\u001b[0;31mTypeError\u001b[0m: unsupported operand type(s) for +: 'float' and 'NoneType'"
     ]
    }
   ],
   "source": [
    "shap.force_plot(e.expected_value, shap_numpy[0], test_numpy[0])"
   ]
  },
  {
   "cell_type": "code",
   "execution_count": null,
   "metadata": {},
   "outputs": [],
   "source": []
  }
 ],
 "metadata": {
  "kernelspec": {
   "display_name": "Python 3",
   "language": "python",
   "name": "python3"
  },
  "language_info": {
   "codemirror_mode": {
    "name": "ipython",
    "version": 3
   },
   "file_extension": ".py",
   "mimetype": "text/x-python",
   "name": "python",
   "nbconvert_exporter": "python",
   "pygments_lexer": "ipython3",
   "version": "3.5.2"
  }
 },
 "nbformat": 4,
 "nbformat_minor": 2
}
