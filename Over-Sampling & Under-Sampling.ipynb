{
 "cells": [
  {
   "cell_type": "markdown",
   "metadata": {},
   "source": [
    "# Over Sampling & Under Sampling\n",
    "\n",
    "* 흔하게 일반적인 데이터들은 데이터 불균형을 가지고 있다.\n",
    "* 일반적으로 이런 방법에 대해서 가장 쉬운 방법은 적은 데이터 기준으로 맞추던지(UnderSampling)  큰 데이터 기준으로 맞추는 것(Over Sampling) 이다.\n",
    "* 일단 ` imbalanced-learn`  패키지를 활용하여 쉽게 해보는 방법을 알아보자\n",
    "\n",
    "## [Document Url](https://imbalanced-learn.readthedocs.io/en/stable/over_sampling.html)"
   ]
  },
  {
   "cell_type": "markdown",
   "metadata": {},
   "source": [
    "## OverSampling\n",
    "\n",
    "`SMOTE` , `ADASYN` 새로운 샘플을 생성할 때 같은 알고리즘을 사용한다. KNN으로 사용한다. \n",
    "$x_{new} = x_i + \\lambda x ( x_{zi} - x_i )$\n",
    "`SMOTE-NC` 는 categorical features를 수행하기 때문에 다소 다르게 생성시킨다. \n",
    "* 다른 `SMOTE` `ADASYN` 의 다른 `변종` 들은 각각 다른 $X_i$ 를 뽑기 떄문에 다르게 생성된다.\n",
    "* `regularSMOTE`\n",
    "* `borderlineSMOTE`\n",
    "* `SVMSMOTE`"
   ]
  },
  {
   "cell_type": "markdown",
   "metadata": {},
   "source": [
    "## Under Sampling\n",
    "* `ClusterCentroids`\n",
    "    * 줄어든 데이터에서 군집을 잘 표현할 수 있는 방법인다\n",
    "    * Sparse matrices를 지원한다. 그러나 새로운 샘플은 생성되지 않는다. \n",
    "* `RandomUnderSampler`\n",
    "    * fast and easy way\n",
    "    * replacement = True 로 하면 bootstrap 사용 가능하다.\n",
    "* `NearMiss`\n",
    "    * Nearest Neighbor 알고리즘 사용한다. \n",
    "* `EditedNearestNeighbours`\n",
    "    * Nearset Neighbor 알고리즘을 사용하되, neighborhood 에 있지 않을 것 같은 것은 제거한다.\n",
    "* `CondensedNearestNeighbour`\n",
    "    * 1 nearest neighbor 규칙을 사용해서 반복적으로 제거할지 안할지 결정한다.\n",
    "    * CondensedNearestNeighbour is sensitive to noise and will add noisy samples.\n",
    "* `OneSidedSelection`\n",
    "    * In the contrary, OneSidedSelection will use TomekLinks to remove noisy samples\n",
    "* `InstanceHardnessThreshold`\n",
    "    * 분류 모델이 데이터 및 샘플을 훈련시키고 낮은 확률들을 제거한다."
   ]
  },
  {
   "cell_type": "code",
   "execution_count": 3,
   "metadata": {},
   "outputs": [],
   "source": [
    "from sklearn.datasets import make_classification"
   ]
  },
  {
   "cell_type": "code",
   "execution_count": 4,
   "metadata": {},
   "outputs": [],
   "source": [
    "X , y = make_classification( n_samples=5000 , n_features= 2 , n_informative= 2 , \n",
    "                            n_redundant=0, n_repeated=0, n_classes=3,\n",
    "                            n_clusters_per_class=1,\n",
    "                            weights=[0.01, 0.05, 0.94],\n",
    "                            class_sep=0.8, random_state=0)"
   ]
  },
  {
   "cell_type": "markdown",
   "metadata": {},
   "source": [
    "## OverSampling\n",
    "\n",
    "`SMOTE` , `ADASYN` 새로운 샘플을 생성할 때 같은 알고리즘을 사용한다. KNN으로 사용한다. \n",
    "$x_{new} = x_i + \\lambda x ( x_{zi} - x_i )$\n",
    "`SMOTE-NC` 는 categorical features를 수행하기 때문에 다소 다르게 생성시킨다. \n",
    "* 다른 `SMOTE` `ADASYN` 의 다른 `변종` 들은 각각 다른 $X_i$ 를 뽑기 떄문에 다르게 생성된다.\n",
    "* `regularSMOTE`\n",
    "* `borderlineSMOTE`\n",
    "* `SVMSMOTE`"
   ]
  },
  {
   "cell_type": "code",
   "execution_count": 15,
   "metadata": {},
   "outputs": [
    {
     "name": "stdout",
     "output_type": "stream",
     "text": [
      "{0: 64, 1: 262, 2: 4674}\n",
      "Counter({2: 4674, 1: 262, 0: 64})\n"
     ]
    }
   ],
   "source": [
    "import numpy as np , collections\n",
    "\n",
    "unique, counts = np.unique( y, return_counts=True)\n",
    "method1 = dict(zip(unique, counts))\n",
    "\n",
    "method2 = collections.Counter(y)\n",
    "\n",
    "print(method1)\n",
    "print(method2)\n",
    "\n"
   ]
  },
  {
   "cell_type": "code",
   "execution_count": 16,
   "metadata": {},
   "outputs": [],
   "source": [
    "from imblearn.over_sampling import RandomOverSampler"
   ]
  },
  {
   "cell_type": "code",
   "execution_count": 17,
   "metadata": {},
   "outputs": [],
   "source": [
    "ros = RandomOverSampler(random_state=0)"
   ]
  },
  {
   "cell_type": "code",
   "execution_count": 18,
   "metadata": {},
   "outputs": [],
   "source": [
    "X_resampled, y_resampled = ros.fit_resample(X, y)"
   ]
  },
  {
   "cell_type": "code",
   "execution_count": 20,
   "metadata": {},
   "outputs": [
    {
     "data": {
      "text/plain": [
       "Counter({0: 4674, 1: 4674, 2: 4674})"
      ]
     },
     "execution_count": 20,
     "metadata": {},
     "output_type": "execute_result"
    }
   ],
   "source": [
    "collections.Counter(y_resampled)"
   ]
  },
  {
   "cell_type": "markdown",
   "metadata": {},
   "source": [
    "## From random `over-sampling` to `SMOTE` and `ADASYN`"
   ]
  },
  {
   "cell_type": "code",
   "execution_count": 29,
   "metadata": {},
   "outputs": [
    {
     "data": {
      "text/plain": [
       "Counter({0: 4674, 1: 4674, 2: 4674})"
      ]
     },
     "execution_count": 29,
     "metadata": {},
     "output_type": "execute_result"
    }
   ],
   "source": [
    "from imblearn.over_sampling import SMOTE, ADASYN\n",
    "X_resampled, y_resampled = SMOTE().fit_resample(X , y)\n",
    "collections.Counter(y_resampled)"
   ]
  },
  {
   "cell_type": "code",
   "execution_count": 28,
   "metadata": {},
   "outputs": [
    {
     "data": {
      "text/plain": [
       "Counter({0: 4673, 1: 4662, 2: 4674})"
      ]
     },
     "execution_count": 28,
     "metadata": {},
     "output_type": "execute_result"
    }
   ],
   "source": [
    "X_resampled, y_resampled = ADASYN().fit_resample(X, y)\n",
    "collections.Counter(y_resampled)"
   ]
  },
  {
   "cell_type": "markdown",
   "metadata": {},
   "source": [
    "## `SMOTE` 의 변종 `BorderlineSMOTE`"
   ]
  },
  {
   "cell_type": "code",
   "execution_count": 30,
   "metadata": {},
   "outputs": [],
   "source": [
    "from imblearn.over_sampling import BorderlineSMOTE"
   ]
  },
  {
   "cell_type": "code",
   "execution_count": 32,
   "metadata": {},
   "outputs": [
    {
     "data": {
      "text/plain": [
       "Counter({0: 4674, 1: 4674, 2: 4674})"
      ]
     },
     "execution_count": 32,
     "metadata": {},
     "output_type": "execute_result"
    }
   ],
   "source": [
    "X_resampled, y_resampled = BorderlineSMOTE().fit_resample(X, y)\n",
    "collections.Counter(y_resampled)"
   ]
  },
  {
   "cell_type": "code",
   "execution_count": 35,
   "metadata": {},
   "outputs": [
    {
     "name": "stdout",
     "output_type": "stream",
     "text": [
      "Counter({1: 30, 0: 20})\n"
     ]
    },
    {
     "data": {
      "text/plain": [
       "Counter({0: 30, 1: 30})"
      ]
     },
     "execution_count": 35,
     "metadata": {},
     "output_type": "execute_result"
    }
   ],
   "source": [
    "from imblearn.over_sampling import SMOTENC\n",
    "rng = np.random.RandomState(42)\n",
    "n_samples = 50\n",
    "X = np.empty((n_samples, 3), dtype=object)\n",
    "X[:, 0] = rng.choice(['A', 'B', 'C'], size=n_samples).astype(object)\n",
    "X[:, 1] = rng.randn(n_samples)\n",
    "X[:, 2] = rng.randint(3, size=n_samples)\n",
    "y = np.array([0] * 20 + [1] * 30)\n",
    "print(collections.Counter(y))\n",
    "smote_nc = SMOTENC(categorical_features=[0, 2], random_state=0)\n",
    "X_resampled, y_resampled = smote_nc.fit_resample(X, y)\n",
    "collections.Counter(y_resampled)"
   ]
  },
  {
   "cell_type": "markdown",
   "metadata": {},
   "source": [
    "## Under Sampling\n",
    "* `ClusterCentroids`\n",
    "    * 줄어든 데이터에서 군집을 잘 표현할 수 있는 방법인다\n",
    "    * Sparse matrices를 지원한다. 그러나 새로운 샘플은 생성되지 않는다. \n",
    "* `RandomUnderSampler`\n",
    "    * fast and easy way\n",
    "    * replacement = True 로 하면 bootstrap 사용 가능하다.\n",
    "* `NearMiss`\n",
    "    * Nearest Neighbor 알고리즘 사용한다. \n",
    "* `EditedNearestNeighbours`\n",
    "    * Nearset Neighbor 알고리즘을 사용하되, neighborhood 에 있지 않을 것 같은 것은 제거한다.\n",
    "* `CondensedNearestNeighbour`\n",
    "    * 1 nearest neighbor 규칙을 사용해서 반복적으로 제거할지 안할지 결정한다.\n",
    "    * CondensedNearestNeighbour is sensitive to noise and will add noisy samples.\n",
    "* `OneSidedSelection`\n",
    "    * In the contrary, OneSidedSelection will use TomekLinks to remove noisy samples\n",
    "* `InstanceHardnessThreshold`\n",
    "    * 분류 모델이 데이터 및 샘플을 훈련시키고 낮은 확률들을 제거한다."
   ]
  },
  {
   "cell_type": "code",
   "execution_count": 36,
   "metadata": {},
   "outputs": [],
   "source": [
    "X , y = make_classification( n_samples=5000 , n_features= 2 , n_informative= 2 , \n",
    "                            n_redundant=0, n_repeated=0, n_classes=3,\n",
    "                            n_clusters_per_class=1,\n",
    "                            weights=[0.01, 0.05, 0.94],\n",
    "                            class_sep=0.8, random_state=0)"
   ]
  },
  {
   "cell_type": "code",
   "execution_count": 38,
   "metadata": {},
   "outputs": [
    {
     "data": {
      "text/plain": [
       "Counter({0: 64, 1: 262, 2: 4674})"
      ]
     },
     "execution_count": 38,
     "metadata": {},
     "output_type": "execute_result"
    }
   ],
   "source": [
    "collections.Counter(y)"
   ]
  },
  {
   "cell_type": "code",
   "execution_count": 37,
   "metadata": {},
   "outputs": [],
   "source": [
    "from imblearn.under_sampling import ClusterCentroids"
   ]
  },
  {
   "cell_type": "code",
   "execution_count": 39,
   "metadata": {},
   "outputs": [
    {
     "data": {
      "text/plain": [
       "Counter({0: 64, 1: 64, 2: 64})"
      ]
     },
     "execution_count": 39,
     "metadata": {},
     "output_type": "execute_result"
    }
   ],
   "source": [
    "cc = ClusterCentroids(random_state=0)\n",
    "X_resampled, y_resampled = cc.fit_resample(X, y)\n",
    "collections.Counter(y_resampled)"
   ]
  },
  {
   "cell_type": "code",
   "execution_count": 40,
   "metadata": {},
   "outputs": [
    {
     "data": {
      "text/plain": [
       "Counter({0: 64, 1: 64, 2: 64})"
      ]
     },
     "execution_count": 40,
     "metadata": {},
     "output_type": "execute_result"
    }
   ],
   "source": [
    "from imblearn.under_sampling import RandomUnderSampler\n",
    "rus = RandomUnderSampler(random_state=0)\n",
    "X_resampled, y_resampled = rus.fit_resample(X, y)\n",
    "collections.Counter(y_resampled)"
   ]
  },
  {
   "cell_type": "code",
   "execution_count": 41,
   "metadata": {},
   "outputs": [
    {
     "data": {
      "text/plain": [
       "Counter({0: 64, 1: 64, 2: 64})"
      ]
     },
     "execution_count": 41,
     "metadata": {},
     "output_type": "execute_result"
    }
   ],
   "source": [
    "rus = RandomUnderSampler(random_state=0, replacement=True)\n",
    "X_resampled, y_resampled = rus.fit_resample(X, y)\n",
    "collections.Counter(y_resampled)"
   ]
  },
  {
   "cell_type": "code",
   "execution_count": 42,
   "metadata": {},
   "outputs": [
    {
     "data": {
      "text/plain": [
       "Counter({0: 64, 1: 64, 2: 64})"
      ]
     },
     "execution_count": 42,
     "metadata": {},
     "output_type": "execute_result"
    }
   ],
   "source": [
    "from imblearn.under_sampling import NearMiss\n",
    "nm1 = NearMiss(version=1)\n",
    "X_resampled_nm1, y_resampled = nm1.fit_resample(X, y)\n",
    "collections.Counter(y_resampled)"
   ]
  },
  {
   "cell_type": "code",
   "execution_count": 50,
   "metadata": {},
   "outputs": [
    {
     "name": "stdout",
     "output_type": "stream",
     "text": [
      "Real : [(0, 64), (1, 262), (2, 4674)]\n"
     ]
    }
   ],
   "source": [
    "print(\"Real :\" , sorted(collections.Counter(y).items()))"
   ]
  },
  {
   "cell_type": "code",
   "execution_count": 43,
   "metadata": {},
   "outputs": [
    {
     "data": {
      "text/plain": [
       "Counter({0: 64, 1: 213, 2: 4568})"
      ]
     },
     "execution_count": 43,
     "metadata": {},
     "output_type": "execute_result"
    }
   ],
   "source": [
    "from imblearn.under_sampling import EditedNearestNeighbours\n",
    "enn = EditedNearestNeighbours()\n",
    "X_resampled, y_resampled = enn.fit_resample(X, y)\n",
    "collections.Counter(y_resampled)"
   ]
  },
  {
   "cell_type": "code",
   "execution_count": 44,
   "metadata": {},
   "outputs": [
    {
     "data": {
      "text/plain": [
       "Counter({0: 64, 1: 24, 2: 115})"
      ]
     },
     "execution_count": 44,
     "metadata": {},
     "output_type": "execute_result"
    }
   ],
   "source": [
    "from imblearn.under_sampling import CondensedNearestNeighbour\n",
    "cnn = CondensedNearestNeighbour(random_state=0)\n",
    "X_resampled, y_resampled = cnn.fit_resample(X, y)\n",
    "collections.Counter(y_resampled)"
   ]
  },
  {
   "cell_type": "code",
   "execution_count": 45,
   "metadata": {},
   "outputs": [
    {
     "data": {
      "text/plain": [
       "Counter({0: 64, 1: 174, 2: 4404})"
      ]
     },
     "execution_count": 45,
     "metadata": {},
     "output_type": "execute_result"
    }
   ],
   "source": [
    "from imblearn.under_sampling import OneSidedSelection\n",
    "oss = OneSidedSelection(random_state=0)\n",
    "X_resampled, y_resampled = oss.fit_resample(X, y)\n",
    "collections.Counter(y_resampled)"
   ]
  },
  {
   "cell_type": "code",
   "execution_count": 46,
   "metadata": {},
   "outputs": [
    {
     "data": {
      "text/plain": [
       "Counter({0: 64, 1: 234, 2: 4666})"
      ]
     },
     "execution_count": 46,
     "metadata": {},
     "output_type": "execute_result"
    }
   ],
   "source": [
    "from imblearn.under_sampling import NeighbourhoodCleaningRule\n",
    "ncr = NeighbourhoodCleaningRule()\n",
    "X_resampled, y_resampled = ncr.fit_resample(X, y)\n",
    "collections.Counter(y_resampled)"
   ]
  },
  {
   "cell_type": "code",
   "execution_count": 53,
   "metadata": {},
   "outputs": [
    {
     "data": {
      "text/plain": [
       "Counter({0: 64, 1: 64, 2: 64})"
      ]
     },
     "execution_count": 53,
     "metadata": {},
     "output_type": "execute_result"
    }
   ],
   "source": [
    "from imblearn.under_sampling import InstanceHardnessThreshold\n",
    "from sklearn.linear_model import LogisticRegression\n",
    "iht = InstanceHardnessThreshold(random_state=0,cv=10,\n",
    "                                estimator=LogisticRegression(solver='lbfgs', multi_class='auto'))\n",
    "X_resampled, y_resampled = iht.fit_resample(X, y)\n",
    "collections.Counter(y_resampled)"
   ]
  },
  {
   "cell_type": "code",
   "execution_count": null,
   "metadata": {},
   "outputs": [],
   "source": []
  }
 ],
 "metadata": {
  "kernelspec": {
   "display_name": "Python 3",
   "language": "python",
   "name": "python3"
  },
  "language_info": {
   "codemirror_mode": {
    "name": "ipython",
    "version": 3
   },
   "file_extension": ".py",
   "mimetype": "text/x-python",
   "name": "python",
   "nbconvert_exporter": "python",
   "pygments_lexer": "ipython3",
   "version": "3.5.2"
  }
 },
 "nbformat": 4,
 "nbformat_minor": 2
}
