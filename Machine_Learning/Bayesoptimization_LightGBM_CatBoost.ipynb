{
 "cells": [
  {
   "cell_type": "markdown",
   "metadata": {},
   "source": [
    "## Library Load"
   ]
  },
  {
   "cell_type": "code",
   "execution_count": 1,
   "metadata": {},
   "outputs": [
    {
     "name": "stdout",
     "output_type": "stream",
     "text": [
      "3.6.7 | packaged by conda-forge | (default, Feb 28 2019, 09:07:38) \n",
      "[GCC 7.3.0]\n",
      "\n",
      "    사용하면 좋은 패키지\n",
      "    train_validation_test_split / cat2dict / code2cat / colorlist / onehotencoding / roccurve  / ProbDensity\n",
      "    pycm import *  \n",
      "    ConfusionMatrix(actual_vector=``test_y``, predict_vector= ``pred`` ) \n",
      "    사용하면 통계량값 다 얻을 수 있음\n",
      "    \n"
     ]
    }
   ],
   "source": [
    "## models\n",
    "from sklearn.ensemble import RandomForestClassifier as RF\n",
    "from sklearn.ensemble import GradientBoostingClassifier as GBM\n",
    "import lightgbm as lgb\n",
    "import xgboost as xgb\n",
    "from catboost import CatBoostClassifier, Pool\n",
    "\n",
    "## sklearn \n",
    "from sklearn.preprocessing import LabelEncoder\n",
    "import sklearn\n",
    "from sklearn.model_selection import train_test_split\n",
    "from sklearn.metrics import confusion_matrix\n",
    "from sklearn.metrics import roc_auc_score as roc\n",
    "from sklearn.preprocessing import RobustScaler , StandardScaler\n",
    "from sklearn.metrics import accuracy_score\n",
    "from sklearn.model_selection import StratifiedKFold\n",
    "from sklearn.model_selection import ParameterGrid\n",
    "from sklearn.metrics import f1_score\n",
    "\n",
    "## utils\n",
    "from itertools import product, chain\n",
    "from tqdm import tqdm\n",
    "import pandas as pd\n",
    "import numpy as np\n",
    "import matplotlib.pyplot as plt\n",
    "import itertools\n",
    "import sys\n",
    "import pickle\n",
    "from pycm import * \n",
    "## custom\n",
    "print(sys.version)\n",
    "sys.path.append('/home/advice/Python/SR/Custom/')\n",
    "from cat_num_corrplot import *\n",
    "from Init import *\n",
    "from CompressData import *\n",
    "from visualization import *\n",
    "from utility import * \n",
    "\n",
    "scaler = RobustScaler()\n",
    "le = LabelEncoder()\n",
    "\n",
    "import warnings\n",
    "warnings.filterwarnings(\"ignore\")\n"
   ]
  },
  {
   "cell_type": "markdown",
   "metadata": {},
   "source": [
    "# 1. UMAP을 이용해서 시각화 했을 때 분리되는 것을 바탕으로 어떠한 데이터인지?? 데이터를 좀 더 심화하기\n",
    "# 2. Catboost , lightgbm , UMAP 의 작동원리는 먼지?\n",
    "## 확실하게 알기! \n",
    "# 3. Bayesian Optimization\n",
    "\n",
    "# Accuracy에 대해서 어떠한 기준으로 할 지 \n",
    "## 잘 안나온다는 근거!\n",
    "## score 분포가 정규성을 가지게 자체적으로 기업에 대한 다양하게 하고 있는데, 마스터 그레이드를 만들어서 금융감독원이 보는 표준이 있어서 \n",
    "# 데이터 EDA를 좀 더 잘하고, \n",
    "# Feature Engineering를 좀 더 해서 Feature를 뽑아 낼 수 있는지? \n",
    "* 생각해본 것 Date를 좀 더 쪼개서 표현 할 수 있지 않을까?\n",
    "*  Location을 Embedding만 따로 잘 학습을 해서, 대체해서 넣으면 효과가 있지 않을까?"
   ]
  },
  {
   "cell_type": "code",
   "execution_count": 2,
   "metadata": {},
   "outputs": [],
   "source": [
    "data = pd.read_csv(\"./../Data/Rain/GAIN_Data.csv\")"
   ]
  },
  {
   "cell_type": "code",
   "execution_count": 3,
   "metadata": {},
   "outputs": [],
   "source": [
    "import pickle ,re \n",
    "with open(\"./Umap_Output/index_info.p\", \"rb\") as p :\n",
    "    index_info = pickle.load(p)"
   ]
  },
  {
   "cell_type": "code",
   "execution_count": 4,
   "metadata": {},
   "outputs": [],
   "source": [
    "def ProbDensity(prob , idx , title = \"\") :\n",
    "    try :\n",
    "        sns.distplot(prob[idx], label = \"rain\" ) \n",
    "        sns.distplot(prob[~idx], label = \"not rain\" ).set_title( title , fontsize = 20) \n",
    "    except :\n",
    "        sns.distplot(prob[idx,1], label = \"rain\" ) \n",
    "        sns.distplot(prob[~idx,1], label = \"not rain\").set_title( title , fontsize = 20) "
   ]
  },
  {
   "cell_type": "code",
   "execution_count": 9,
   "metadata": {},
   "outputs": [],
   "source": [
    "from datetime import datetime\n",
    "year = lambda x: datetime.strptime(x, \"%Y-%m-%d\" ).year\n",
    "day_of_week = lambda x: datetime.strptime(x, \"%Y-%m-%d\" ).weekday()\n",
    "month = lambda x: datetime.strptime(x, \"%Y-%m-%d\" ).month\n",
    "week_number = lambda x: datetime.strptime(x, \"%Y-%m-%d\" ).strftime('%V')\n",
    "data['year'] = data['Date'].map(year)\n",
    "data[\"day_of_week\"] = data[\"Date\"].map(day_of_week)\n",
    "data['month'] = data['Date'].map(month)\n",
    "data[\"week_number\"] = data[\"Date\"].map(week_number)\n",
    "data = data.drop([\"RISK_MM\"], axis = 1) # 'Location'  'Date' "
   ]
  },
  {
   "cell_type": "code",
   "execution_count": 10,
   "metadata": {},
   "outputs": [],
   "source": [
    "data[[\"year\",\"day_of_week\", \"month\",\"week_number\"]] = data[[\"year\",\"day_of_week\", \"month\",\"week_number\"]].astype(\"object\")"
   ]
  },
  {
   "cell_type": "code",
   "execution_count": 11,
   "metadata": {},
   "outputs": [
    {
     "name": "stdout",
     "output_type": "stream",
     "text": [
      "['Location', 'WindGustDir', 'WindDir9am', 'WindDir3pm', 'RainToday', 'RainTomorrow', 'Date', 'year', 'day_of_week', 'month', 'week_number']\n"
     ]
    }
   ],
   "source": [
    "catcols = data.select_dtypes(\"object\").columns.tolist()\n",
    "print(catcols)"
   ]
  },
  {
   "cell_type": "code",
   "execution_count": 12,
   "metadata": {},
   "outputs": [],
   "source": [
    "data2 = data.copy()"
   ]
  },
  {
   "cell_type": "code",
   "execution_count": 13,
   "metadata": {},
   "outputs": [
    {
     "name": "stdout",
     "output_type": "stream",
     "text": [
      "   Location  month  day_of_week  Shunshine_mean  Shunshine_std  \\\n",
      "0  Adelaide      1            0       10.218895       3.898430   \n",
      "1  Adelaide      1            1        9.261932       4.489069   \n",
      "2  Adelaide      1            2       10.458043       3.444014   \n",
      "3  Adelaide      1            3        9.967706       4.244898   \n",
      "4  Adelaide      1            4        9.802007       3.751733   \n",
      "\n",
      "   Humidity3pm_mean  Humidity3pm_std  Pressure3pm_mean  Pressure3pm_std  \n",
      "0         31.051282        18.444724       1011.735895         4.121223  \n",
      "1         32.054132        16.499074        994.915328       103.968874  \n",
      "2         34.567072        14.589849        997.045434        95.096990  \n",
      "3         31.025000        18.741819       1010.972499         5.876249  \n",
      "4         33.575000        17.959909       1011.015002         5.366544  \n"
     ]
    }
   ],
   "source": [
    "## Location 과 달별로 평균 햇빛량 \n",
    "newdata = data.groupby(['Location','month', \"day_of_week\"], group_keys=False).\\\n",
    "agg({\"Sunshine\" : [\"mean\",\"std\"],\"Humidity3pm\" :[\"mean\",\"std\"] , \"Pressure3pm\" :[\"mean\",\"std\"] }).reset_index()\n",
    "newdata.columns = [\"Location\", 'month', \"day_of_week\" , \n",
    "                   \"Shunshine_mean\",\"Shunshine_std\",\n",
    "                   \"Humidity3pm_mean\", \"Humidity3pm_std\",\n",
    "                   \"Pressure3pm_mean\", \"Pressure3pm_std\"\n",
    "                  ]\n",
    "print(newdata.head())\n",
    "data = pd.merge(data2, newdata, how='left')"
   ]
  },
  {
   "cell_type": "markdown",
   "metadata": {},
   "source": [
    "## Category 변수를 Numeric으로 안에서 자동을 변환해주는 것이 내장되어있는 Ligthgbm, Catboost"
   ]
  },
  {
   "cell_type": "markdown",
   "metadata": {},
   "source": [
    "## CatBoost"
   ]
  },
  {
   "cell_type": "code",
   "execution_count": 17,
   "metadata": {},
   "outputs": [
    {
     "data": {
      "text/plain": [
       "((99535, 32), (42658, 32), (99535, 36), (42658, 36))"
      ]
     },
     "execution_count": 17,
     "metadata": {},
     "output_type": "execute_result"
    }
   ],
   "source": [
    "cat_x = data.drop(columns = [\"RainTomorrow\"] , axis = 1)\n",
    "cat_y = data[\"RainTomorrow\"]\n",
    "cat_y = np.where(cat_y == \"Yes\", 1, 0)\n",
    "cat_x[numeric_feature] = pd.DataFrame(scaler.fit_transform(cat_x[numeric_feature].values) , columns = numeric_feature )\n",
    "cat_features = np.where(cat_x.dtypes.astype(\"str\").isin([\"category\",\"object\"]))[0]\n",
    "catX_train, catX_Test, caty_train, caty_Test =\\\n",
    "cat_x.iloc[index_info[0],] , cat_x.iloc[index_info[1],]  , cat_y[index_info[0]] , cat_y[index_info[1]]\n",
    "catX_train.reset_index(drop = True ,inplace= True)\n",
    "catX_Test.reset_index(drop = True ,inplace= True)\n",
    "train_umap.reset_index(drop = True ,inplace= True)\n",
    "test_umap.reset_index(drop = True ,inplace= True)"
   ]
  },
  {
   "cell_type": "code",
   "execution_count": 18,
   "metadata": {},
   "outputs": [
    {
     "name": "stdout",
     "output_type": "stream",
     "text": [
      "['Location', 'WindGustDir', 'WindDir9am', 'WindDir3pm', 'RainToday', 'Date', 'year', 'day_of_week', 'month', 'week_number']\n"
     ]
    }
   ],
   "source": [
    "print(catX_train.iloc[:,cat_features].columns.tolist())"
   ]
  },
  {
   "cell_type": "markdown",
   "metadata": {},
   "source": [
    "## **Catboost** Bayesian Optimization\n",
    "\n"
   ]
  },
  {
   "cell_type": "code",
   "execution_count": 21,
   "metadata": {},
   "outputs": [],
   "source": [
    "from bayes_opt import BayesianOptimization"
   ]
  },
  {
   "cell_type": "code",
   "execution_count": 51,
   "metadata": {},
   "outputs": [
    {
     "name": "stdout",
     "output_type": "stream",
     "text": [
      "|   iter    |  target   | baggin... | border... |   depth   | l2_lea... | learni... | max_le... | min_da... |\n",
      "-------------------------------------------------------------------------------------------------------------\n"
     ]
    },
    {
     "name": "stderr",
     "output_type": "stream",
     "text": [
      "Warning: less than 75% gpu memory available for training. Free: 876.0625 Total: 876.0625\n",
      "Warning: less than 75% gpu memory available for training. Free: 876.0625 Total: 876.0625\n",
      "Warning: less than 75% gpu memory available for training. Free: 876.0625 Total: 876.0625\n",
      "Warning: less than 75% gpu memory available for training. Free: 876.0625 Total: 876.0625\n",
      "Warning: less than 75% gpu memory available for training. Free: 876.0625 Total: 876.0625\n"
     ]
    },
    {
     "name": "stdout",
     "output_type": "stream",
     "text": [
      "| \u001b[0m 1       \u001b[0m | \u001b[0m 0.8428  \u001b[0m | \u001b[0m 5.488   \u001b[0m | \u001b[0m 183.8   \u001b[0m | \u001b[0m 7.405   \u001b[0m | \u001b[0m 100.0   \u001b[0m | \u001b[0m 0.04294 \u001b[0m | \u001b[0m 200.0   \u001b[0m | \u001b[0m 3.188   \u001b[0m |\n"
     ]
    },
    {
     "name": "stderr",
     "output_type": "stream",
     "text": [
      "Warning: less than 75% gpu memory available for training. Free: 876.0625 Total: 876.0625\n",
      "Warning: less than 75% gpu memory available for training. Free: 876.0625 Total: 876.0625\n",
      "Warning: less than 75% gpu memory available for training. Free: 876.0625 Total: 876.0625\n",
      "Warning: less than 75% gpu memory available for training. Free: 876.0625 Total: 876.0625\n",
      "Warning: less than 75% gpu memory available for training. Free: 876.0625 Total: 876.0625\n"
     ]
    },
    {
     "name": "stdout",
     "output_type": "stream",
     "text": [
      "| \u001b[95m 2       \u001b[0m | \u001b[95m 0.8504  \u001b[0m | \u001b[95m 8.918   \u001b[0m | \u001b[95m 245.9   \u001b[0m | \u001b[95m 6.53    \u001b[0m | \u001b[95m 100.0   \u001b[0m | \u001b[95m 0.05336 \u001b[0m | \u001b[95m 200.0   \u001b[0m | \u001b[95m 5.628   \u001b[0m |\n"
     ]
    },
    {
     "name": "stderr",
     "output_type": "stream",
     "text": [
      "Warning: less than 75% gpu memory available for training. Free: 876.0625 Total: 876.0625\n",
      "Warning: less than 75% gpu memory available for training. Free: 876.0625 Total: 876.0625\n",
      "Warning: less than 75% gpu memory available for training. Free: 876.0625 Total: 876.0625\n",
      "Warning: less than 75% gpu memory available for training. Free: 876.0625 Total: 876.0625\n",
      "Warning: less than 75% gpu memory available for training. Free: 876.0625 Total: 876.0625\n"
     ]
    },
    {
     "name": "stdout",
     "output_type": "stream",
     "text": [
      "| \u001b[95m 3       \u001b[0m | \u001b[95m 0.8613  \u001b[0m | \u001b[95m 0.7104  \u001b[0m | \u001b[95m 26.78   \u001b[0m | \u001b[95m 5.081   \u001b[0m | \u001b[95m 100.0   \u001b[0m | \u001b[95m 0.07804 \u001b[0m | \u001b[95m 200.0   \u001b[0m | \u001b[95m 5.893   \u001b[0m |\n"
     ]
    },
    {
     "name": "stderr",
     "output_type": "stream",
     "text": [
      "Warning: less than 75% gpu memory available for training. Free: 876.0625 Total: 876.0625\n",
      "Warning: less than 75% gpu memory available for training. Free: 876.0625 Total: 876.0625\n",
      "Warning: less than 75% gpu memory available for training. Free: 876.0625 Total: 876.0625\n",
      "Warning: less than 75% gpu memory available for training. Free: 876.0625 Total: 876.0625\n",
      "Warning: less than 75% gpu memory available for training. Free: 876.0625 Total: 876.0625\n"
     ]
    },
    {
     "name": "stdout",
     "output_type": "stream",
     "text": [
      "| \u001b[0m 4       \u001b[0m | \u001b[0m 0.8522  \u001b[0m | \u001b[0m 7.992   \u001b[0m | \u001b[0m 120.4   \u001b[0m | \u001b[0m 8.114   \u001b[0m | \u001b[0m 100.0   \u001b[0m | \u001b[0m 0.06435 \u001b[0m | \u001b[0m 200.0   \u001b[0m | \u001b[0m 5.723   \u001b[0m |\n"
     ]
    },
    {
     "name": "stderr",
     "output_type": "stream",
     "text": [
      "Warning: less than 75% gpu memory available for training. Free: 876.0625 Total: 876.0625\n",
      "Warning: less than 75% gpu memory available for training. Free: 876.0625 Total: 876.0625\n",
      "Warning: less than 75% gpu memory available for training. Free: 876.0625 Total: 876.0625\n",
      "Warning: less than 75% gpu memory available for training. Free: 876.0625 Total: 876.0625\n",
      "Warning: less than 75% gpu memory available for training. Free: 876.0625 Total: 876.0625\n"
     ]
    },
    {
     "name": "stdout",
     "output_type": "stream",
     "text": [
      "| \u001b[0m 5       \u001b[0m | \u001b[0m 0.8441  \u001b[0m | \u001b[0m 5.218   \u001b[0m | \u001b[0m 108.7   \u001b[0m | \u001b[0m 6.056   \u001b[0m | \u001b[0m 100.0   \u001b[0m | \u001b[0m 0.04616 \u001b[0m | \u001b[0m 200.0   \u001b[0m | \u001b[0m 1.094   \u001b[0m |\n"
     ]
    },
    {
     "name": "stderr",
     "output_type": "stream",
     "text": [
      "Warning: less than 75% gpu memory available for training. Free: 876.0625 Total: 876.0625\n",
      "Warning: less than 75% gpu memory available for training. Free: 876.0625 Total: 876.0625\n",
      "Warning: less than 75% gpu memory available for training. Free: 876.0625 Total: 876.0625\n",
      "Warning: less than 75% gpu memory available for training. Free: 876.0625 Total: 876.0625\n",
      "Warning: less than 75% gpu memory available for training. Free: 876.0625 Total: 876.0625\n"
     ]
    },
    {
     "name": "stdout",
     "output_type": "stream",
     "text": [
      "| \u001b[0m 6       \u001b[0m | \u001b[0m 0.8522  \u001b[0m | \u001b[0m 9.697   \u001b[0m | \u001b[0m 6.608   \u001b[0m | \u001b[0m 8.472   \u001b[0m | \u001b[0m 100.0   \u001b[0m | \u001b[0m 0.09572 \u001b[0m | \u001b[0m 200.0   \u001b[0m | \u001b[0m 5.98    \u001b[0m |\n"
     ]
    },
    {
     "name": "stderr",
     "output_type": "stream",
     "text": [
      "Warning: less than 75% gpu memory available for training. Free: 876.0625 Total: 876.0625\n",
      "Warning: less than 75% gpu memory available for training. Free: 876.0625 Total: 876.0625\n",
      "Warning: less than 75% gpu memory available for training. Free: 876.0625 Total: 876.0625\n",
      "Warning: less than 75% gpu memory available for training. Free: 876.0625 Total: 876.0625\n",
      "Warning: less than 75% gpu memory available for training. Free: 876.0625 Total: 876.0625\n"
     ]
    },
    {
     "name": "stdout",
     "output_type": "stream",
     "text": [
      "| \u001b[95m 7       \u001b[0m | \u001b[95m 0.8675  \u001b[0m | \u001b[95m 0.421   \u001b[0m | \u001b[95m 254.2   \u001b[0m | \u001b[95m 8.867   \u001b[0m | \u001b[95m 100.0   \u001b[0m | \u001b[95m 0.07286 \u001b[0m | \u001b[95m 200.0   \u001b[0m | \u001b[95m 5.924   \u001b[0m |\n"
     ]
    },
    {
     "name": "stderr",
     "output_type": "stream",
     "text": [
      "Warning: less than 75% gpu memory available for training. Free: 876.0625 Total: 876.0625\n",
      "Warning: less than 75% gpu memory available for training. Free: 876.0625 Total: 876.0625\n",
      "Warning: less than 75% gpu memory available for training. Free: 876.0625 Total: 876.0625\n",
      "Warning: less than 75% gpu memory available for training. Free: 876.0625 Total: 876.0625\n",
      "Warning: less than 75% gpu memory available for training. Free: 876.0625 Total: 876.0625\n"
     ]
    },
    {
     "name": "stdout",
     "output_type": "stream",
     "text": [
      "| \u001b[0m 8       \u001b[0m | \u001b[0m 0.8453  \u001b[0m | \u001b[0m 0.01484 \u001b[0m | \u001b[0m 50.78   \u001b[0m | \u001b[0m 8.704   \u001b[0m | \u001b[0m 100.0   \u001b[0m | \u001b[0m 0.01732 \u001b[0m | \u001b[0m 200.0   \u001b[0m | \u001b[0m 5.589   \u001b[0m |\n"
     ]
    },
    {
     "name": "stderr",
     "output_type": "stream",
     "text": [
      "Warning: less than 75% gpu memory available for training. Free: 876.0625 Total: 876.0625\n",
      "Warning: less than 75% gpu memory available for training. Free: 876.0625 Total: 876.0625\n",
      "Warning: less than 75% gpu memory available for training. Free: 876.0625 Total: 876.0625\n",
      "Warning: less than 75% gpu memory available for training. Free: 876.0625 Total: 876.0625\n",
      "Warning: less than 75% gpu memory available for training. Free: 876.0625 Total: 876.0625\n"
     ]
    },
    {
     "name": "stdout",
     "output_type": "stream",
     "text": [
      "| \u001b[0m 9       \u001b[0m | \u001b[0m 0.8118  \u001b[0m | \u001b[0m 1.353e-0\u001b[0m | \u001b[0m 5.0     \u001b[0m | \u001b[0m 5.0     \u001b[0m | \u001b[0m 100.0   \u001b[0m | \u001b[0m 0.001   \u001b[0m | \u001b[0m 200.0   \u001b[0m | \u001b[0m 6.0     \u001b[0m |\n"
     ]
    },
    {
     "name": "stderr",
     "output_type": "stream",
     "text": [
      "Warning: less than 75% gpu memory available for training. Free: 876.0625 Total: 876.0625\n",
      "Warning: less than 75% gpu memory available for training. Free: 876.0625 Total: 876.0625\n",
      "Warning: less than 75% gpu memory available for training. Free: 876.0625 Total: 876.0625\n",
      "Warning: less than 75% gpu memory available for training. Free: 876.0625 Total: 876.0625\n",
      "Warning: less than 75% gpu memory available for training. Free: 876.0625 Total: 876.0625\n"
     ]
    },
    {
     "name": "stdout",
     "output_type": "stream",
     "text": [
      "| \u001b[0m 10      \u001b[0m | \u001b[0m 0.8466  \u001b[0m | \u001b[0m 10.0    \u001b[0m | \u001b[0m 55.3    \u001b[0m | \u001b[0m 5.0     \u001b[0m | \u001b[0m 100.0   \u001b[0m | \u001b[0m 0.1     \u001b[0m | \u001b[0m 200.0   \u001b[0m | \u001b[0m 6.0     \u001b[0m |\n"
     ]
    },
    {
     "name": "stderr",
     "output_type": "stream",
     "text": [
      "Warning: less than 75% gpu memory available for training. Free: 876.0625 Total: 876.0625\n",
      "Warning: less than 75% gpu memory available for training. Free: 876.0625 Total: 876.0625\n",
      "Warning: less than 75% gpu memory available for training. Free: 876.0625 Total: 876.0625\n",
      "Warning: less than 75% gpu memory available for training. Free: 876.0625 Total: 876.0625\n",
      "Warning: less than 75% gpu memory available for training. Free: 876.0625 Total: 876.0625\n"
     ]
    },
    {
     "name": "stdout",
     "output_type": "stream",
     "text": [
      "| \u001b[0m 11      \u001b[0m | \u001b[0m 0.8541  \u001b[0m | \u001b[0m 10.0    \u001b[0m | \u001b[0m 29.22   \u001b[0m | \u001b[0m 8.99    \u001b[0m | \u001b[0m 100.0   \u001b[0m | \u001b[0m 0.09016 \u001b[0m | \u001b[0m 200.0   \u001b[0m | \u001b[0m 1.0     \u001b[0m |\n"
     ]
    },
    {
     "name": "stderr",
     "output_type": "stream",
     "text": [
      "Warning: less than 75% gpu memory available for training. Free: 876.0625 Total: 876.0625\n",
      "Warning: less than 75% gpu memory available for training. Free: 876.0625 Total: 876.0625\n",
      "Warning: less than 75% gpu memory available for training. Free: 876.0625 Total: 876.0625\n",
      "Warning: less than 75% gpu memory available for training. Free: 876.0625 Total: 876.0625\n",
      "Warning: less than 75% gpu memory available for training. Free: 876.0625 Total: 876.0625\n"
     ]
    },
    {
     "name": "stdout",
     "output_type": "stream",
     "text": [
      "| \u001b[0m 12      \u001b[0m | \u001b[0m 0.8612  \u001b[0m | \u001b[0m 0.0     \u001b[0m | \u001b[0m 147.4   \u001b[0m | \u001b[0m 5.0     \u001b[0m | \u001b[0m 100.0   \u001b[0m | \u001b[0m 0.1     \u001b[0m | \u001b[0m 200.0   \u001b[0m | \u001b[0m 6.0     \u001b[0m |\n"
     ]
    },
    {
     "name": "stderr",
     "output_type": "stream",
     "text": [
      "Warning: less than 75% gpu memory available for training. Free: 876.0625 Total: 876.0625\n",
      "Warning: less than 75% gpu memory available for training. Free: 876.0625 Total: 876.0625\n",
      "Warning: less than 75% gpu memory available for training. Free: 876.0625 Total: 876.0625\n",
      "Warning: less than 75% gpu memory available for training. Free: 876.0625 Total: 876.0625\n",
      "Warning: less than 75% gpu memory available for training. Free: 876.0625 Total: 876.0625\n"
     ]
    },
    {
     "name": "stdout",
     "output_type": "stream",
     "text": [
      "| \u001b[0m 13      \u001b[0m | \u001b[0m 0.8623  \u001b[0m | \u001b[0m 0.0     \u001b[0m | \u001b[0m 225.3   \u001b[0m | \u001b[0m 5.0     \u001b[0m | \u001b[0m 100.0   \u001b[0m | \u001b[0m 0.1     \u001b[0m | \u001b[0m 200.0   \u001b[0m | \u001b[0m 6.0     \u001b[0m |\n"
     ]
    },
    {
     "name": "stderr",
     "output_type": "stream",
     "text": [
      "Warning: less than 75% gpu memory available for training. Free: 876.0625 Total: 876.0625\n",
      "Warning: less than 75% gpu memory available for training. Free: 876.0625 Total: 876.0625\n",
      "Warning: less than 75% gpu memory available for training. Free: 876.0625 Total: 876.0625\n",
      "Warning: less than 75% gpu memory available for training. Free: 876.0625 Total: 876.0625\n",
      "Warning: less than 75% gpu memory available for training. Free: 876.0625 Total: 876.0625\n"
     ]
    },
    {
     "name": "stdout",
     "output_type": "stream",
     "text": [
      "| \u001b[0m 14      \u001b[0m | \u001b[0m 0.8157  \u001b[0m | \u001b[0m 0.0     \u001b[0m | \u001b[0m 251.9   \u001b[0m | \u001b[0m 5.0     \u001b[0m | \u001b[0m 100.0   \u001b[0m | \u001b[0m 0.001   \u001b[0m | \u001b[0m 200.0   \u001b[0m | \u001b[0m 1.0     \u001b[0m |\n"
     ]
    },
    {
     "name": "stderr",
     "output_type": "stream",
     "text": [
      "Warning: less than 75% gpu memory available for training. Free: 876.0625 Total: 876.0625\n",
      "Warning: less than 75% gpu memory available for training. Free: 876.0625 Total: 876.0625\n",
      "Warning: less than 75% gpu memory available for training. Free: 876.0625 Total: 876.0625\n",
      "Warning: less than 75% gpu memory available for training. Free: 876.0625 Total: 876.0625\n",
      "Warning: less than 75% gpu memory available for training. Free: 876.0625 Total: 876.0625\n"
     ]
    },
    {
     "name": "stdout",
     "output_type": "stream",
     "text": [
      "| \u001b[0m 15      \u001b[0m | \u001b[0m 0.8284  \u001b[0m | \u001b[0m 0.0     \u001b[0m | \u001b[0m 221.2   \u001b[0m | \u001b[0m 8.99    \u001b[0m | \u001b[0m 100.0   \u001b[0m | \u001b[0m 0.001   \u001b[0m | \u001b[0m 200.0   \u001b[0m | \u001b[0m 4.213   \u001b[0m |\n",
      "=============================================================================================================\n"
     ]
    }
   ],
   "source": [
    "import warnings\n",
    "warnings.filterwarnings(\"ignore\")\n",
    "\n",
    "def catboost_eval(bagging_temperature ,\n",
    "                  depth , \n",
    "                  learning_rate ,\n",
    "                  min_data_in_leaf , \n",
    "                  max_leaves , \n",
    "                  l2_leaf_reg , \n",
    "                  border_count):\n",
    "    n_splits=5\n",
    "    skf = StratifiedKFold(n_splits=n_splits, shuffle=True, random_state=RANDOM_STATE)\n",
    "    f1 = []\n",
    "    predict = None\n",
    "    params = {}\n",
    "    params['iterations'] = 1000\n",
    "    params['custom_loss'] = 'TotalF1'\n",
    "    params['eval_metric'] = 'TotalF1'\n",
    "    params['random_seed'] = 1234\n",
    "    params['learning_rate'] = learning_rate\n",
    "    params['min_data_in_leaf'] = int(round(min_data_in_leaf))\n",
    "    params['depth'] = int(round(depth))\n",
    "    #params['max_leaves'] = int(round(max_leaves))\n",
    "    #params['l2_leaf_reg'] = int(round(l2_leaf_reg))\n",
    "    params['border_count'] = int(round(border_count))\n",
    "    params['bagging_temperature'] = int(round(bagging_temperature))\n",
    "    X , y = catX_train.values , caty_train\n",
    "    for tr_ind, val_ind in skf.split(X , y):\n",
    "        X_train = X[tr_ind]\n",
    "        y_train = y[tr_ind]\n",
    "        X_valid = X[val_ind]\n",
    "        y_valid = y[val_ind]\n",
    "        ## https://catboost.ai/docs/concepts/python-reference_catboost_eval-metrics.html\n",
    "        clf = CatBoostClassifier(**params , \n",
    "                                 task_type = \"GPU\" , \n",
    "                                 leaf_estimation_iterations = 10,\n",
    "                                 use_best_model=True,\n",
    "                                 od_type=\"Iter\",\n",
    "                                 logging_level='Silent',\n",
    "                                )\n",
    "        clf.fit(X_train, \n",
    "                y_train,\n",
    "                cat_features=cat_features,\n",
    "                eval_set=(X_valid, y_valid),\n",
    "                verbose = False ,\n",
    "        )\n",
    "        \n",
    "        y_pred = clf.predict(X_valid)\n",
    "        \n",
    "        f1_value = f1_score(y_valid.astype(int) ,\n",
    "                            y_pred.astype(int)  ,\n",
    "                            average='weighted')\n",
    "        f1.append(f1_value)\n",
    "    return sum(f1)/n_splits\n",
    "\n",
    "## min_data_in_leaf , max_leaves , 추가 하니 먼가 잘 안됨.\n",
    "catBO = BayesianOptimization(catboost_eval,\n",
    "                             {'bagging_temperature': (0, 10),\n",
    "                              'depth': (5, 8.99) ,\n",
    "                              \"learning_rate\" : (0.001,0.1) , \n",
    "                              \"min_data_in_leaf\" : (1,6) , \n",
    "                              'max_leaves' : (200,200)  ,\n",
    "                              'l2_leaf_reg': (100, 100)  ,\n",
    "                              'border_count': (5, 255) ,\n",
    "                             },\n",
    "                             random_state=0)\n",
    "init_round=5\n",
    "opt_round = 10\n",
    "catBO.maximize(init_points=init_round, n_iter=opt_round)\n",
    "with open(\"catboost_GOODParam.p\",\"wb\") as wb :\n",
    "    pickle.dump(catBO.max , wb)"
   ]
  },
  {
   "cell_type": "code",
   "execution_count": 328,
   "metadata": {},
   "outputs": [
    {
     "data": {
      "text/plain": [
       "{'depth': 8, 'l2_leaf_reg': 1e-19, 'loss_function': 'Logloss'}"
      ]
     },
     "execution_count": 328,
     "metadata": {},
     "output_type": "execute_result"
    }
   ],
   "source": [
    "param = {'depth': 8, 'l2_leaf_reg': 1e-19, 'loss_function': 'Logloss'}"
   ]
  },
  {
   "cell_type": "code",
   "execution_count": 331,
   "metadata": {
    "scrolled": true
   },
   "outputs": [
    {
     "name": "stderr",
     "output_type": "stream",
     "text": [
      "Warning: less than 75% gpu memory available for training. Free: 1037.0625 Total: 1037.0625\n"
     ]
    },
    {
     "name": "stdout",
     "output_type": "stream",
     "text": [
      "F1 :  0.7028471818710053\n",
      "AUC :  0.9179343947007178\n",
      "logloss :  0.2875514196869243\n"
     ]
    }
   ],
   "source": [
    "from catboost import CatBoostClassifier, Pool\n",
    "clf = CatBoostClassifier(iterations=2500,\n",
    "                         loss_function = param['loss_function'],\n",
    "                         depth=param['depth'],\n",
    "                         l2_leaf_reg = param['l2_leaf_reg'],\n",
    "                         eval_metric = 'TotalF1',\n",
    "                         task_type = \"GPU\" , \n",
    "                         leaf_estimation_iterations = 10,\n",
    "                         use_best_model=False)\n",
    "X ,  y = catX_train , caty_train\n",
    "clf.fit(X = X, y = y, cat_features = cat_features, verbose=False , plot= False )\n",
    "test_X ,test_y =  catX_Test , caty_Test\n",
    "test_pool = Pool( data =test_X, label = test_y , cat_features = list(cat_features))\n",
    "CatBoost_eval = clf.eval_metrics(test_pool, ['AUC','Logloss', \"F1\"], plot=False)\n",
    "F1_index  = np.argmax(CatBoost_eval['F1'])\n",
    "CatBoost_AUC  = CatBoost_eval['AUC'][F1_index ]\n",
    "CatBoost_Logloss = CatBoost_eval['Logloss'][F1_index]\n",
    "CatBoost_F1 = CatBoost_eval['F1'][F1_index]\n",
    "print(\"F1 : \" ,CatBoost_F1)\n",
    "print(\"AUC : \", CatBoost_AUC)\n",
    "print(\"logloss : \" , CatBoost_Logloss)"
   ]
  },
  {
   "cell_type": "code",
   "execution_count": 334,
   "metadata": {},
   "outputs": [],
   "source": [
    "clf.save_model(\"catboost_model\")"
   ]
  },
  {
   "cell_type": "markdown",
   "metadata": {},
   "source": [
    "## Basic CatBoost "
   ]
  },
  {
   "cell_type": "code",
   "execution_count": 288,
   "metadata": {},
   "outputs": [
    {
     "name": "stderr",
     "output_type": "stream",
     "text": [
      "Warning: less than 75% gpu memory available for training. Free: 1037.0625 Total: 1037.0625\n"
     ]
    },
    {
     "name": "stdout",
     "output_type": "stream",
     "text": [
      "F1 :  0.6977744203614388\n",
      "AUC :  0.9176457670332635\n",
      "logloss :  0.2887043942291006\n"
     ]
    }
   ],
   "source": [
    "from catboost import CatBoostClassifier, Pool\n",
    "CatBoost = CatBoostClassifier(random_seed = 1234 , iterations= 500 , task_type = \"GPU\")\n",
    "### catX_train , caty_train ADD_catX_train\n",
    "X ,  y = catX_train , caty_train\n",
    "CatBoost.fit(X = X, y = y, cat_features = cat_features, verbose=False , plot= False )\n",
    "### catX_Test , caty_Test  ADD_catX_Test\n",
    "test_X ,test_y =  catX_Test , caty_Test\n",
    "test_pool = Pool( data =test_X, label = test_y , cat_features = list(cat_features))\n",
    "CatBoost_eval = CatBoost.eval_metrics(test_pool, ['AUC','Logloss', \"F1\"], plot=False)\n",
    "F1_index  = np.argmax(CatBoost_eval['F1'])\n",
    "CatBoost_AUC  = CatBoost_eval['AUC'][F1_index ]\n",
    "CatBoost_Logloss = CatBoost_eval['Logloss'][F1_index]\n",
    "CatBoost_F1 = CatBoost_eval['F1'][F1_index]\n",
    "print(\"F1 : \" ,CatBoost_F1)\n",
    "print(\"AUC : \", CatBoost_AUC)\n",
    "print(\"logloss : \" , CatBoost_Logloss)"
   ]
  },
  {
   "cell_type": "code",
   "execution_count": 289,
   "metadata": {},
   "outputs": [
    {
     "data": {
      "image/png": "[encoded data removed]",
      "text/plain": [
       "<Figure size 842.4x595.44 with 1 Axes>"
      ]
     },
     "metadata": {},
     "output_type": "display_data"
    }
   ],
   "source": [
    "import seaborn as sns\n",
    "sns.set(rc={'figure.figsize':(11.7,8.27)})\n",
    "cat_feature_imp = pd.DataFrame([CatBoost.feature_names_ , CatBoost.feature_importances_]).T\n",
    "cat_feature_imp.columns = [\"feature\",\"varimp\"]\n",
    "cat_feature_imp = cat_feature_imp.sort_values(by=\"varimp\", ascending = False)\n",
    "sns.barplot(y=\"feature\", x=\"varimp\",data = cat_feature_imp, )\n",
    "plt.show()"
   ]
  },
  {
   "cell_type": "code",
   "execution_count": 20,
   "metadata": {},
   "outputs": [],
   "source": [
    "rainidx = caty_Test == 1"
   ]
  },
  {
   "cell_type": "code",
   "execution_count": 302,
   "metadata": {},
   "outputs": [
    {
     "name": "stdout",
     "output_type": "stream",
     "text": [
      "Predict     0           1           \n",
      "Actual\n",
      "0           31435       1741        \n",
      "\n",
      "1           3473        6009        \n",
      "\n",
      "\n",
      "\n",
      "\n",
      "\n",
      "Overall Statistics : \n",
      "\n",
      "95% CI                                                            (0.87466,0.88088)\n",
      "AUNP                                                              0.79062\n",
      "AUNU                                                              0.79062\n",
      "Bennett S                                                         0.75554\n",
      "CBA                                                               0.76712\n",
      "Chi-Squared                                                       16758.0229\n",
      "Chi-Squared DF                                                    1\n",
      "Conditional Entropy                                               0.44152\n",
      "Cramer V                                                          0.62677\n",
      "Cross Entropy                                                     0.77189\n",
      "Gwet AC1                                                          0.81963\n",
      "Hamming Loss                                                      0.12223\n",
      "Joint Entropy                                                     1.20583\n",
      "KL Divergence                                                     0.00758\n",
      "Kappa                                                             0.62181\n",
      "Kappa 95% CI                                                      (0.61219,0.63143)\n",
      "Kappa No Prevalence                                               0.75554\n",
      "Kappa Standard Error                                              0.00491\n",
      "Kappa Unbiased                                                    0.62084\n",
      "Lambda A                                                          0.45012\n",
      "Lambda B                                                          0.32723\n",
      "Mutual Information                                                0.24221\n",
      "NIR                                                               0.77772\n",
      "Overall ACC                                                       0.87777\n",
      "Overall CEN                                                       0.44425\n",
      "Overall J                                                         (1.39315,0.69657)\n",
      "Overall MCC                                                       0.62677\n",
      "Overall MCEN                                                      0.35184\n",
      "Overall RACC                                                      0.67681\n",
      "Overall RACCU                                                     0.67763\n",
      "P-Value                                                           None\n",
      "PPV Macro                                                         0.83793\n",
      "PPV Micro                                                         0.87777\n",
      "Pearson C                                                         0.53108\n",
      "Phi-Squared                                                       0.39285\n",
      "RCI                                                               0.3169\n",
      "RR                                                                21329.0\n",
      "Reference Entropy                                                 0.76431\n",
      "Response Entropy                                                  0.68373\n",
      "SOA1(Landis & Koch)                                               Substantial\n",
      "SOA2(Fleiss)                                                      Intermediate to Good\n",
      "SOA3(Altman)                                                      Good\n",
      "SOA4(Cicchetti)                                                   Good\n",
      "Scott PI                                                          0.62084\n",
      "Standard Error                                                    0.00159\n",
      "TPR Macro                                                         0.79062\n",
      "TPR Micro                                                         0.87777\n",
      "Zero-one Loss                                                     5214\n",
      "\n",
      "Class Statistics :\n",
      "\n",
      "Classes                                                           0             1             \n",
      "ACC(Accuracy)                                                     0.87777       0.87777       \n",
      "AM(Difference between automatic and manual classification)        1732          -1732         \n",
      "AUC(Area under the roc curve)                                     0.79062       0.79062       \n",
      "AUCI(AUC value interpretation)                                    Good          Good          \n",
      "BCD(Bray-Curtis dissimilarity)                                    0.0203        0.0203        \n",
      "BM(Informedness or bookmaker informedness)                        0.58125       0.58125       \n",
      "CEN(Confusion entropy)                                            0.35425       0.79986       \n",
      "DOR(Diagnostic odds ratio)                                        31.24008      31.24008      \n",
      "DP(Discriminant power)                                            0.82408       0.82408       \n",
      "DPI(Discriminant power interpretation)                            Poor          Poor          \n",
      "ERR(Error rate)                                                   0.12223       0.12223       \n",
      "F0.5(F0.5 score)                                                  0.90954       0.74218       \n",
      "F1(F1 score - harmonic mean of precision and sensitivity)         0.92342       0.69742       \n",
      "F2(F2 score)                                                      0.93773       0.65776       \n",
      "FDR(False discovery rate)                                         0.09949       0.22465       \n",
      "FN(False negative/miss/type 2 error)                              1741          3473          \n",
      "FNR(Miss rate or false negative rate)                             0.05248       0.36627       \n",
      "FOR(False omission rate)                                          0.22465       0.09949       \n",
      "FP(False positive/type 1 error/false alarm)                       3473          1741          \n",
      "FPR(Fall-out or false positive rate)                              0.36627       0.05248       \n",
      "G(G-measure geometric mean of precision and sensitivity)          0.92372       0.70097       \n",
      "GI(Gini index)                                                    0.58125       0.58125       \n",
      "GM(G-mean geometric mean of specificity and sensitivity)          0.7749        0.7749        \n",
      "IBA(Index of balanced accuracy)                                   0.7889        0.41205       \n",
      "IS(Information score)                                             0.21149       1.80248       \n",
      "J(Jaccard index)                                                  0.85773       0.53542       \n",
      "LS(Lift score)                                                    1.15788       3.4882        \n",
      "MCC(Matthews correlation coefficient)                             0.62677       0.62677       \n",
      "MCEN(Modified confusion entropy)                                  0.53097       0.94072       \n",
      "MK(Markedness)                                                    0.67586       0.67586       \n",
      "N(Condition negative)                                             9482          33176         \n",
      "NLR(Negative likelihood ratio)                                    0.08281       0.38656       \n",
      "NPV(Negative predictive value)                                    0.77535       0.90051       \n",
      "OP(Optimized precision)                                           0.67932       0.67932       \n",
      "P(Condition positive or support)                                  33176         9482          \n",
      "PLR(Positive likelihood ratio)                                    2.58693       12.07612      \n",
      "PLRI(Positive likelihood ratio interpretation)                    Poor          Good          \n",
      "POP(Population)                                                   42658         42658         \n",
      "PPV(Precision or positive predictive value)                       0.90051       0.77535       \n",
      "PRE(Prevalence)                                                   0.77772       0.22228       \n",
      "RACC(Random accuracy)                                             0.63643       0.04038       \n",
      "RACCU(Random accuracy unbiased)                                   0.63684       0.0408        \n",
      "TN(True negative/correct rejection)                               6009          31435         \n",
      "TNR(Specificity or true negative rate)                            0.63373       0.94752       \n",
      "TON(Test outcome negative)                                        7750          34908         \n",
      "TOP(Test outcome positive)                                        34908         7750          \n",
      "TP(True positive/hit)                                             31435         6009          \n",
      "TPR(Sensitivity, recall, hit rate, or true positive rate)         0.94752       0.63373       \n",
      "Y(Youden index)                                                   0.58125       0.58125       \n",
      "dInd(Distance index)                                              0.37001       0.37001       \n",
      "sInd(Similarity index)                                            0.73836       0.73836       \n",
      "\n"
     ]
    }
   ],
   "source": [
    "catprob = CatBoost.predict_proba(test_X)\n",
    "y_true = caty_Test\n",
    "y_hat = np.round(catprob[:,1]).astype(int)\n",
    "cat_result = ConfusionMatrix(y_true, y_hat)\n",
    "print(cat_reulst)"
   ]
  },
  {
   "cell_type": "code",
   "execution_count": 293,
   "metadata": {},
   "outputs": [
    {
     "name": "stderr",
     "output_type": "stream",
     "text": [
      "/root/anaconda3/lib/python3.6/site-packages/scipy/stats/stats.py:1713: FutureWarning: Using a non-tuple sequence for multidimensional indexing is deprecated; use `arr[tuple(seq)]` instead of `arr[seq]`. In the future this will be interpreted as an array index, `arr[np.array(seq)]`, which will result either in an error or a different result.\n",
      "  return np.add.reduce(sorted[indexer] * weights, axis=axis) / sumval\n"
     ]
    },
    {
     "data": {
      "image/png": "[encoded data removed]",
      "text/plain": [
       "<Figure size 842.4x595.44 with 1 Axes>"
      ]
     },
     "metadata": {},
     "output_type": "display_data"
    }
   ],
   "source": [
    "ProbDensity(catprob , rainidx, title = \"Catboost\")"
   ]
  },
  {
   "cell_type": "markdown",
   "metadata": {},
   "source": [
    "## LightGBM"
   ]
  },
  {
   "cell_type": "code",
   "execution_count": 21,
   "metadata": {},
   "outputs": [],
   "source": [
    "#catX_train[]\n",
    "char = catX_train.select_dtypes(\"object\").columns.tolist()\n",
    "lgb_train = catX_train.copy()\n",
    "lgb_test = catX_Test.copy()\n",
    "for i in char :\n",
    "    lgb_train[i] = lgb_train[i].astype(\"category\").cat.codes\n",
    "    lgb_test[i] = lgb_test[i].astype(\"category\").cat.codes"
   ]
  },
  {
   "cell_type": "code",
   "execution_count": 25,
   "metadata": {},
   "outputs": [
    {
     "name": "stdout",
     "output_type": "stream",
     "text": [
      "['Location', 'WindGustDir', 'WindDir9am', 'WindDir3pm', 'RainToday', 'Date', 'year', 'day_of_week', 'month', 'week_number']\n"
     ]
    }
   ],
   "source": [
    "lgb_train = lgb_train # .astype(float)\n",
    "lgb_test  = lgb_test # .astype(float)\n",
    "cat_feature_name = list(lgb_train.columns[cat_features])\n",
    "print(cat_feature_name)\n",
    "d_train = lgb.Dataset(lgb_train, label=caty_train, \n",
    "                      categorical_feature=cat_feature_name,\n",
    "                      free_raw_data=False\n",
    "                     )"
   ]
  },
  {
   "cell_type": "markdown",
   "metadata": {},
   "source": [
    "## **Bayes Optimization** Lightgbm \n"
   ]
  },
  {
   "cell_type": "code",
   "execution_count": null,
   "metadata": {},
   "outputs": [
    {
     "name": "stdout",
     "output_type": "stream",
     "text": [
      "|   iter    |  target   | baggin... | featur... | lambda_l1 | lambda_l2 | max_depth | min_ch... | min_sp... | num_le... |\n",
      "-------------------------------------------------------------------------------------------------------------------------\n",
      "[200]\tcv_agg's auc: 0.901739 + 0.00269936\n",
      "[400]\tcv_agg's auc: 0.906298 + 0.00259413\n",
      "[600]\tcv_agg's auc: 0.908788 + 0.00253752\n",
      "[800]\tcv_agg's auc: 0.910619 + 0.00248095\n",
      "[1000]\tcv_agg's auc: 0.911702 + 0.00249626\n",
      "[1200]\tcv_agg's auc: 0.912119 + 0.00240634\n",
      "[1400]\tcv_agg's auc: 0.912415 + 0.0024339\n",
      "[1600]\tcv_agg's auc: 0.912712 + 0.00239692\n",
      "| \u001b[0m 1       \u001b[0m | \u001b[0m 0.9127  \u001b[0m | \u001b[0m 0.9098  \u001b[0m | \u001b[0m 0.6722  \u001b[0m | \u001b[0m 3.014   \u001b[0m | \u001b[0m 1.635   \u001b[0m | \u001b[0m 6.69    \u001b[0m | \u001b[0m 34.07   \u001b[0m | \u001b[0m 0.04432 \u001b[0m | \u001b[0m 42.73   \u001b[0m |\n",
      "[200]\tcv_agg's auc: 0.899619 + 0.00334921\n",
      "[400]\tcv_agg's auc: 0.905059 + 0.00319014\n",
      "[600]\tcv_agg's auc: 0.90766 + 0.0029595\n",
      "[800]\tcv_agg's auc: 0.908977 + 0.00286414\n",
      "[1000]\tcv_agg's auc: 0.910199 + 0.00278494\n",
      "[1200]\tcv_agg's auc: 0.911079 + 0.00260136\n",
      "[1400]\tcv_agg's auc: 0.911749 + 0.00256113\n",
      "[1600]\tcv_agg's auc: 0.912103 + 0.00253393\n",
      "[1800]\tcv_agg's auc: 0.912553 + 0.00248771\n",
      "[2000]\tcv_agg's auc: 0.912829 + 0.00237484\n",
      "[2200]\tcv_agg's auc: 0.912978 + 0.00239705\n",
      "[2400]\tcv_agg's auc: 0.913058 + 0.00226819\n",
      "| \u001b[95m 2       \u001b[0m | \u001b[95m 0.9131  \u001b[0m | \u001b[95m 0.9927  \u001b[0m | \u001b[95m 0.4068  \u001b[0m | \u001b[95m 3.959   \u001b[0m | \u001b[95m 1.587   \u001b[0m | \u001b[95m 7.266   \u001b[0m | \u001b[95m 46.65   \u001b[0m | \u001b[95m 0.008033\u001b[0m | \u001b[95m 25.83   \u001b[0m |\n",
      "[200]\tcv_agg's auc: 0.902754 + 0.00267606\n",
      "[400]\tcv_agg's auc: 0.907811 + 0.00274259\n",
      "[600]\tcv_agg's auc: 0.91082 + 0.00270598\n",
      "[800]\tcv_agg's auc: 0.911844 + 0.00267275\n",
      "[1000]\tcv_agg's auc: 0.912427 + 0.00261949\n",
      "[1200]\tcv_agg's auc: 0.912831 + 0.00253129\n",
      "[1400]\tcv_agg's auc: 0.91303 + 0.00253401\n",
      "[1600]\tcv_agg's auc: 0.913102 + 0.00244665\n",
      "[1800]\tcv_agg's auc: 0.913328 + 0.0024481\n",
      "[2000]\tcv_agg's auc: 0.913509 + 0.00247686\n",
      "[2200]\tcv_agg's auc: 0.913629 + 0.0024841\n",
      "| \u001b[95m 3       \u001b[0m | \u001b[95m 0.9136  \u001b[0m | \u001b[95m 0.804   \u001b[0m | \u001b[95m 0.7661  \u001b[0m | \u001b[95m 3.891   \u001b[0m | \u001b[95m 2.61    \u001b[0m | \u001b[95m 8.905   \u001b[0m | \u001b[95m 40.96   \u001b[0m | \u001b[95m 0.04669 \u001b[0m | \u001b[95m 40.39   \u001b[0m |\n",
      "[200]\tcv_agg's auc: 0.90194 + 0.00305906\n",
      "[400]\tcv_agg's auc: 0.906598 + 0.0029718\n",
      "[600]\tcv_agg's auc: 0.908719 + 0.00273713\n",
      "[800]\tcv_agg's auc: 0.909992 + 0.00275373\n",
      "[1000]\tcv_agg's auc: 0.911044 + 0.00265297\n",
      "[1200]\tcv_agg's auc: 0.911555 + 0.00269092\n",
      "[1400]\tcv_agg's auc: 0.911965 + 0.00266281\n",
      "[1600]\tcv_agg's auc: 0.912233 + 0.00254383\n",
      "[1800]\tcv_agg's auc: 0.912359 + 0.0025055\n",
      "| \u001b[0m 4       \u001b[0m | \u001b[0m 0.9124  \u001b[0m | \u001b[0m 0.8237  \u001b[0m | \u001b[0m 0.6119  \u001b[0m | \u001b[0m 0.7168  \u001b[0m | \u001b[0m 2.834   \u001b[0m | \u001b[0m 7.082   \u001b[0m | \u001b[0m 23.66   \u001b[0m | \u001b[0m 0.02719 \u001b[0m | \u001b[0m 40.26   \u001b[0m |\n",
      "[200]\tcv_agg's auc: 0.901839 + 0.00320288\n",
      "[400]\tcv_agg's auc: 0.906507 + 0.0030597\n",
      "[600]\tcv_agg's auc: 0.908218 + 0.00298826\n",
      "[800]\tcv_agg's auc: 0.909099 + 0.00289442\n",
      "[1000]\tcv_agg's auc: 0.910348 + 0.00286609\n",
      "[1200]\tcv_agg's auc: 0.911198 + 0.00268002\n",
      "[1400]\tcv_agg's auc: 0.91178 + 0.00265218\n",
      "[1600]\tcv_agg's auc: 0.91204 + 0.00252121\n",
      "[1800]\tcv_agg's auc: 0.912296 + 0.00263276\n",
      "| \u001b[0m 5       \u001b[0m | \u001b[0m 0.9123  \u001b[0m | \u001b[0m 0.8912  \u001b[0m | \u001b[0m 0.5547  \u001b[0m | \u001b[0m 0.09395 \u001b[0m | \u001b[0m 1.853   \u001b[0m | \u001b[0m 7.442   \u001b[0m | \u001b[0m 32.76   \u001b[0m | \u001b[0m 0.09443 \u001b[0m | \u001b[0m 38.32   \u001b[0m |\n",
      "[200]\tcv_agg's auc: 0.897057 + 0.00296827\n",
      "[400]\tcv_agg's auc: 0.903107 + 0.00297514\n",
      "[600]\tcv_agg's auc: 0.906059 + 0.00286583\n",
      "[800]\tcv_agg's auc: 0.907335 + 0.00279671\n",
      "[1000]\tcv_agg's auc: 0.908818 + 0.0026787\n",
      "[1200]\tcv_agg's auc: 0.910056 + 0.00255059\n",
      "[1400]\tcv_agg's auc: 0.911242 + 0.00257281\n",
      "[1600]\tcv_agg's auc: 0.911976 + 0.00246431\n",
      "[1800]\tcv_agg's auc: 0.912495 + 0.0025826\n",
      "[2000]\tcv_agg's auc: 0.912711 + 0.002609\n",
      "[2200]\tcv_agg's auc: 0.912969 + 0.00253812\n",
      "[2400]\tcv_agg's auc: 0.913215 + 0.00253384\n"
     ]
    }
   ],
   "source": [
    "from bayes_opt import BayesianOptimization\n",
    "n_folds = 5\n",
    "random_seed=6\n",
    "learning_rate=0.05\n",
    "\n",
    "from sklearn.metrics import f1_score\n",
    "\n",
    "def lgb_f1_score(y_hat, data):\n",
    "    y_true = data.get_label()\n",
    "    y_hat = np.round(y_hat) # scikits f1 doesn't like probabilities\n",
    "    return 'f1', f1_score(y_true, y_hat), True\n",
    "\n",
    "def learning_rate_005_decay_power_099(current_iter):\n",
    "    base_learning_rate = 0.05\n",
    "    lr = base_learning_rate  * np.power(.99, current_iter)\n",
    "    return lr if lr > 1e-3 else 1e-3\n",
    "\n",
    "def lgb_eval(num_leaves, feature_fraction, bagging_fraction, max_depth, lambda_l1, lambda_l2, min_split_gain, min_child_weight):\n",
    "    params = {'application':'binary','num_iterations':4000, \n",
    "              'learning_rate':0.05, 'early_stopping_round':100,\n",
    "              'metric':'auc',\n",
    "              \"objective\" : \"binary\",\n",
    "              \"num_threads\" : 20 ,\n",
    "             }\n",
    "    params[\"num_leaves\"] = int(round(num_leaves))\n",
    "    params['feature_fraction'] = max(min(feature_fraction, 1), 0)\n",
    "    params['bagging_fraction'] = max(min(bagging_fraction, 1), 0)\n",
    "    params['max_depth'] = int(round(max_depth))\n",
    "    params['lambda_l1'] = max(lambda_l1, 0)\n",
    "    params['lambda_l2'] = max(lambda_l2, 0)\n",
    "    params['min_split_gain'] = min_split_gain\n",
    "    params['min_child_weight'] = min_child_weight\n",
    "    evals_result = {}\n",
    "    cv_result = lgb.cv(params, d_train,\n",
    "                       nfold=n_folds, seed=random_seed, \n",
    "                       stratified=True, verbose_eval =200, \n",
    "                       metrics=['auc',\"binary_logloss\"],\n",
    "                       feval=lgb_f1_score, evals_result=evals_result\n",
    "                      )\n",
    "    return max(cv_result['auc-mean'])\n",
    "\n",
    "from scipy.stats import randint as sp_randint\n",
    "from scipy.stats import uniform as sp_uniform\n",
    "\n",
    "lgbBO = BayesianOptimization(lgb_eval, {'num_leaves': (24, 45),\n",
    "                                        'feature_fraction': (0.1, 0.9),\n",
    "                                        'bagging_fraction': (0.8, 1),\n",
    "                                        'max_depth': (5, 8.99),\n",
    "                                        'lambda_l1': (0, 5),\n",
    "                                        'lambda_l2': (0, 3),\n",
    "                                        'min_split_gain': (0.001, 0.1),\n",
    "                                        'min_child_weight': (5, 50)}, random_state=0)\n",
    "init_round=5\n",
    "opt_round = 10\n",
    "lgbBO.maximize(init_points=init_round, n_iter=opt_round)\n",
    "lgbBO.points_to_csv(\"lgb_bayes_opt_result.csv\")\n",
    "params = lgbBO.res['max']['max_params']\n",
    "lgb2 = lgb.train(params, d_train , 100)\n",
    "#lgb2 = lgb.train(params, d_train, 100)\n",
    "lgb_prob = lgb2.predict( lgb_test.values )"
   ]
  },
  {
   "cell_type": "code",
   "execution_count": 298,
   "metadata": {},
   "outputs": [
    {
     "name": "stdout",
     "output_type": "stream",
     "text": [
      "['Location', 'WindGustDir', 'WindDir9am', 'WindDir3pm', 'RainToday', 'Date', 'year', 'day_of_week', 'month', 'week_number']\n"
     ]
    },
    {
     "name": "stderr",
     "output_type": "stream",
     "text": [
      "/root/anaconda3/lib/python3.6/site-packages/lightgbm/basic.py:1205: UserWarning: Using categorical_feature in Dataset.\n",
      "  warnings.warn('Using categorical_feature in Dataset.')\n"
     ]
    }
   ],
   "source": [
    "params = {'application': 'binary',\n",
    "          \"max_depth\" : 8 , \n",
    "          \"metric\" : \"f1\", \n",
    "          'is_unbalance': 'true',\n",
    "          'objective':'binary',\n",
    "          'device': 'gpu',\n",
    "          'gpu_platform_id': 0,\n",
    "          'gpu_device_id': 0\n",
    "         }\n",
    "\n",
    "def lgb_f1_score(y_hat, data):\n",
    "    y_true = data.get_label()\n",
    "    y_hat = np.round(y_hat) # scikits f1 doesn't like probabilities\n",
    "    return 'f1', f1_score(y_true, y_hat), True\n",
    "\n",
    "eval_result_2 = {}\n",
    "lgb2 = lgb.train(params, d_train , 100)\n",
    "#lgb2 = lgb.train(params, d_train, 100)\n",
    "lgb_prob = lgb2.predict( lgb_test.values )"
   ]
  },
  {
   "cell_type": "code",
   "execution_count": 299,
   "metadata": {},
   "outputs": [
    {
     "name": "stdout",
     "output_type": "stream",
     "text": [
      "Predict     0           1           \n",
      "Actual\n",
      "0           27462       5714        \n",
      "\n",
      "1           2465        7017        \n",
      "\n",
      "\n",
      "\n",
      "\n",
      "\n",
      "Overall Statistics : \n",
      "\n",
      "95% CI                                                            (0.80453,0.812)\n",
      "AUNP                                                              0.7839\n",
      "AUNU                                                              0.7839\n",
      "Bennett S                                                         0.61653\n",
      "CBA                                                               0.68947\n",
      "Chi-Squared                                                       11355.09508\n",
      "Chi-Squared DF                                                    1\n",
      "Conditional Entropy                                               0.69922\n",
      "Cramer V                                                          0.51594\n",
      "Cross Entropy                                                     0.78546\n",
      "Gwet AC1                                                          0.68816\n",
      "Hamming Loss                                                      0.19173\n",
      "Joint Entropy                                                     1.46353\n",
      "KL Divergence                                                     0.02115\n",
      "Kappa                                                             0.5059\n",
      "Kappa 95% CI                                                      (0.49627,0.51553)\n",
      "Kappa No Prevalence                                               0.61653\n",
      "Kappa Standard Error                                              0.00491\n",
      "Kappa Unbiased                                                    0.50218\n",
      "Lambda A                                                          0.13742\n",
      "Lambda B                                                          0.35755\n",
      "Mutual Information                                                0.18016\n",
      "NIR                                                               0.77772\n",
      "Overall ACC                                                       0.80827\n",
      "Overall CEN                                                       0.59007\n",
      "Overall J                                                         (1.23228,0.61614)\n",
      "Overall MCC                                                       0.51594\n",
      "Overall MCEN                                                      0.45855\n",
      "Overall RACC                                                      0.61195\n",
      "Overall RACCU                                                     0.61485\n",
      "P-Value                                                           None\n",
      "PPV Macro                                                         0.7344\n",
      "PPV Micro                                                         0.80827\n",
      "Pearson C                                                         0.45851\n",
      "Phi-Squared                                                       0.26619\n",
      "RCI                                                               0.23572\n",
      "RR                                                                21329.0\n",
      "Reference Entropy                                                 0.76431\n",
      "Response Entropy                                                  0.87938\n",
      "SOA1(Landis & Koch)                                               Moderate\n",
      "SOA2(Fleiss)                                                      Intermediate to Good\n",
      "SOA3(Altman)                                                      Moderate\n",
      "SOA4(Cicchetti)                                                   Fair\n",
      "Scott PI                                                          0.50218\n",
      "Standard Error                                                    0.00191\n",
      "TPR Macro                                                         0.7839\n",
      "TPR Micro                                                         0.80827\n",
      "Zero-one Loss                                                     8179\n",
      "\n",
      "Class Statistics :\n",
      "\n",
      "Classes                                                           0             1             \n",
      "ACC(Accuracy)                                                     0.80827       0.80827       \n",
      "AM(Difference between automatic and manual classification)        -3249         3249          \n",
      "AUC(Area under the roc curve)                                     0.7839        0.7839        \n",
      "AUCI(AUC value interpretation)                                    Good          Good          \n",
      "BCD(Bray-Curtis dissimilarity)                                    0.03808       0.03808       \n",
      "BM(Informedness or bookmaker informedness)                        0.5678        0.5678        \n",
      "CEN(Confusion entropy)                                            0.49651       0.85586       \n",
      "DOR(Diagnostic odds ratio)                                        13.68127      13.68127      \n",
      "DP(Discriminant power)                                            0.62638       0.62638       \n",
      "DPI(Discriminant power interpretation)                            Poor          Poor          \n",
      "ERR(Error rate)                                                   0.19173       0.19173       \n",
      "F0.5(F0.5 score)                                                  0.89813       0.58082       \n",
      "F1(F1 score - harmonic mean of precision and sensitivity)         0.87039       0.63179       \n",
      "F2(F2 score)                                                      0.8443        0.69257       \n",
      "FDR(False discovery rate)                                         0.08237       0.44883       \n",
      "FN(False negative/miss/type 2 error)                              5714          2465          \n",
      "FNR(Miss rate or false negative rate)                             0.17223       0.25997       \n",
      "FOR(False omission rate)                                          0.44883       0.08237       \n",
      "FP(False positive/type 1 error/false alarm)                       2465          5714          \n",
      "FPR(Fall-out or false positive rate)                              0.25997       0.17223       \n",
      "G(G-measure geometric mean of precision and sensitivity)          0.87154       0.63866       \n",
      "GI(Gini index)                                                    0.5678        0.5678        \n",
      "GM(G-mean geometric mean of specificity and sensitivity)          0.78267       0.78267       \n",
      "IBA(Index of balanced accuracy)                                   0.66632       0.55883       \n",
      "IS(Information score)                                             0.23867       1.31013       \n",
      "J(Jaccard index)                                                  0.77052       0.46177       \n",
      "LS(Lift score)                                                    1.1799        2.47964       \n",
      "MCC(Matthews correlation coefficient)                             0.51594       0.51594       \n",
      "MCEN(Modified confusion entropy)                                  0.68994       0.95626       \n",
      "MK(Markedness)                                                    0.46881       0.46881       \n",
      "N(Condition negative)                                             9482          33176         \n",
      "NLR(Negative likelihood ratio)                                    0.23274       0.31406       \n",
      "NPV(Negative predictive value)                                    0.55117       0.91763       \n",
      "OP(Optimized precision)                                           0.75231       0.75231       \n",
      "P(Condition positive or support)                                  33176         9482          \n",
      "PLR(Positive likelihood ratio)                                    3.18413       4.2967        \n",
      "PLRI(Positive likelihood ratio interpretation)                    Poor          Poor          \n",
      "POP(Population)                                                   42658         42658         \n",
      "PPV(Precision or positive predictive value)                       0.91763       0.55117       \n",
      "PRE(Prevalence)                                                   0.77772       0.22228       \n",
      "RACC(Random accuracy)                                             0.54561       0.06634       \n",
      "RACCU(Random accuracy unbiased)                                   0.54707       0.06779       \n",
      "TN(True negative/correct rejection)                               7017          27462         \n",
      "TNR(Specificity or true negative rate)                            0.74003       0.82777       \n",
      "TON(Test outcome negative)                                        12731         29927         \n",
      "TOP(Test outcome positive)                                        29927         12731         \n",
      "TP(True positive/hit)                                             27462         7017          \n",
      "TPR(Sensitivity, recall, hit rate, or true positive rate)         0.82777       0.74003       \n",
      "Y(Youden index)                                                   0.5678        0.5678        \n",
      "dInd(Distance index)                                              0.31184       0.31184       \n",
      "sInd(Similarity index)                                            0.77949       0.77949       \n",
      "\n"
     ]
    }
   ],
   "source": [
    "y_true = caty_Test\n",
    "y_hat = np.round(lgb_prob).astype(int)\n",
    "lgb_result = ConfusionMatrix(y_true, y_hat)\n",
    "print(lgb_result)"
   ]
  },
  {
   "cell_type": "code",
   "execution_count": 300,
   "metadata": {},
   "outputs": [
    {
     "data": {
      "image/png": "[encoded data removed]",
      "text/plain": [
       "<Figure size 842.4x595.44 with 1 Axes>"
      ]
     },
     "metadata": {},
     "output_type": "display_data"
    }
   ],
   "source": [
    "ProbDensity(lgb_prob , rainidx, \"LightGBM\")"
   ]
  },
  {
   "cell_type": "markdown",
   "metadata": {},
   "source": [
    "##  Catboost **vs** Lightgbm"
   ]
  },
  {
   "cell_type": "code",
   "execution_count": 303,
   "metadata": {},
   "outputs": [
    {
     "name": "stdout",
     "output_type": "stream",
     "text": [
      "Best : catboost\n",
      "\n",
      "Rank  Name        Class-Score   Overall-Score\n",
      "1     catboost    3.2           3.05\n",
      "2     lightgbm    2.7           2.43333\n",
      "\n",
      "catboost \n",
      " Predict     0           1           \n",
      "Actual\n",
      "0           31435       1741        \n",
      "\n",
      "1           3473        6009        \n",
      "\n",
      "\n",
      "\n",
      "\n",
      "\n",
      "Overall Statistics : \n",
      "\n",
      "95% CI                                                            (0.87466,0.88088)\n",
      "AUNP                                                              0.79062\n",
      "AUNU                                                              0.79062\n",
      "Bennett S                                                         0.75554\n",
      "CBA                                                               0.76712\n",
      "Chi-Squared                                                       16758.0229\n",
      "Chi-Squared DF                                                    1\n",
      "Conditional Entropy                                               0.44152\n",
      "Cramer V                                                          0.62677\n",
      "Cross Entropy                                                     0.77189\n",
      "Gwet AC1                                                          0.81963\n",
      "Hamming Loss                                                      0.12223\n",
      "Joint Entropy                                                     1.20583\n",
      "KL Divergence                                                     0.00758\n",
      "Kappa                                                             0.62181\n",
      "Kappa 95% CI                                                      (0.61219,0.63143)\n",
      "Kappa No Prevalence                                               0.75554\n",
      "Kappa Standard Error                                              0.00491\n",
      "Kappa Unbiased                                                    0.62084\n",
      "Lambda A                                                          0.45012\n",
      "Lambda B                                                          0.32723\n",
      "Mutual Information                                                0.24221\n",
      "NIR                                                               0.77772\n",
      "Overall ACC                                                       0.87777\n",
      "Overall CEN                                                       0.44425\n",
      "Overall J                                                         (1.39315,0.69657)\n",
      "Overall MCC                                                       0.62677\n",
      "Overall MCEN                                                      0.35184\n",
      "Overall RACC                                                      0.67681\n",
      "Overall RACCU                                                     0.67763\n",
      "P-Value                                                           None\n",
      "PPV Macro                                                         0.83793\n",
      "PPV Micro                                                         0.87777\n",
      "Pearson C                                                         0.53108\n",
      "Phi-Squared                                                       0.39285\n",
      "RCI                                                               0.3169\n",
      "RR                                                                21329.0\n",
      "Reference Entropy                                                 0.76431\n",
      "Response Entropy                                                  0.68373\n",
      "SOA1(Landis & Koch)                                               Substantial\n",
      "SOA2(Fleiss)                                                      Intermediate to Good\n",
      "SOA3(Altman)                                                      Good\n",
      "SOA4(Cicchetti)                                                   Good\n",
      "Scott PI                                                          0.62084\n",
      "Standard Error                                                    0.00159\n",
      "TPR Macro                                                         0.79062\n",
      "TPR Micro                                                         0.87777\n",
      "Zero-one Loss                                                     5214\n",
      "\n",
      "Class Statistics :\n",
      "\n",
      "Classes                                                           0             1             \n",
      "ACC(Accuracy)                                                     0.87777       0.87777       \n",
      "AM(Difference between automatic and manual classification)        1732          -1732         \n",
      "AUC(Area under the roc curve)                                     0.79062       0.79062       \n",
      "AUCI(AUC value interpretation)                                    Good          Good          \n",
      "BCD(Bray-Curtis dissimilarity)                                    0.0203        0.0203        \n",
      "BM(Informedness or bookmaker informedness)                        0.58125       0.58125       \n",
      "CEN(Confusion entropy)                                            0.35425       0.79986       \n",
      "DOR(Diagnostic odds ratio)                                        31.24008      31.24008      \n",
      "DP(Discriminant power)                                            0.82408       0.82408       \n",
      "DPI(Discriminant power interpretation)                            Poor          Poor          \n",
      "ERR(Error rate)                                                   0.12223       0.12223       \n",
      "F0.5(F0.5 score)                                                  0.90954       0.74218       \n",
      "F1(F1 score - harmonic mean of precision and sensitivity)         0.92342       0.69742       \n",
      "F2(F2 score)                                                      0.93773       0.65776       \n",
      "FDR(False discovery rate)                                         0.09949       0.22465       \n",
      "FN(False negative/miss/type 2 error)                              1741          3473          \n",
      "FNR(Miss rate or false negative rate)                             0.05248       0.36627       \n",
      "FOR(False omission rate)                                          0.22465       0.09949       \n",
      "FP(False positive/type 1 error/false alarm)                       3473          1741          \n",
      "FPR(Fall-out or false positive rate)                              0.36627       0.05248       \n",
      "G(G-measure geometric mean of precision and sensitivity)          0.92372       0.70097       \n",
      "GI(Gini index)                                                    0.58125       0.58125       \n",
      "GM(G-mean geometric mean of specificity and sensitivity)          0.7749        0.7749        \n",
      "IBA(Index of balanced accuracy)                                   0.7889        0.41205       \n",
      "IS(Information score)                                             0.21149       1.80248       \n",
      "J(Jaccard index)                                                  0.85773       0.53542       \n",
      "LS(Lift score)                                                    1.15788       3.4882        \n",
      "MCC(Matthews correlation coefficient)                             0.62677       0.62677       \n",
      "MCEN(Modified confusion entropy)                                  0.53097       0.94072       \n",
      "MK(Markedness)                                                    0.67586       0.67586       \n",
      "N(Condition negative)                                             9482          33176         \n",
      "NLR(Negative likelihood ratio)                                    0.08281       0.38656       \n",
      "NPV(Negative predictive value)                                    0.77535       0.90051       \n",
      "OP(Optimized precision)                                           0.67932       0.67932       \n",
      "P(Condition positive or support)                                  33176         9482          \n",
      "PLR(Positive likelihood ratio)                                    2.58693       12.07612      \n",
      "PLRI(Positive likelihood ratio interpretation)                    Poor          Good          \n",
      "POP(Population)                                                   42658         42658         \n",
      "PPV(Precision or positive predictive value)                       0.90051       0.77535       \n",
      "PRE(Prevalence)                                                   0.77772       0.22228       \n",
      "RACC(Random accuracy)                                             0.63643       0.04038       \n",
      "RACCU(Random accuracy unbiased)                                   0.63684       0.0408        \n",
      "TN(True negative/correct rejection)                               6009          31435         \n",
      "TNR(Specificity or true negative rate)                            0.63373       0.94752       \n",
      "TON(Test outcome negative)                                        7750          34908         \n",
      "TOP(Test outcome positive)                                        34908         7750          \n",
      "TP(True positive/hit)                                             31435         6009          \n",
      "TPR(Sensitivity, recall, hit rate, or true positive rate)         0.94752       0.63373       \n",
      "Y(Youden index)                                                   0.58125       0.58125       \n",
      "dInd(Distance index)                                              0.37001       0.37001       \n",
      "sInd(Similarity index)                                            0.73836       0.73836       \n",
      "\n"
     ]
    }
   ],
   "source": [
    "cp = Compare({\"catboost\":cat_result , \"lightgbm\":lgb_result })\n",
    "print(cp)\n",
    "print(cp.best_name , \"\\n\" , cp.best)"
   ]
  },
  {
   "cell_type": "code",
   "execution_count": 189,
   "metadata": {},
   "outputs": [
    {
     "data": {
      "image/png": "[encoded data removed]",
      "text/plain": [
       "<Figure size 842.4x595.44 with 1 Axes>"
      ]
     },
     "metadata": {},
     "output_type": "display_data"
    }
   ],
   "source": [
    "feature_importance = pd.DataFrame([lgb2.feature_name() , lgb2.feature_importance()]).T\n",
    "feature_importance.columns = [\"feature\", \"varimp\"]\n",
    "feature_importance = feature_importance.sort_values([\"varimp\"], ascending = False)\n",
    "sns.barplot(y=\"feature\", x=\"varimp\",data = feature_importance)\n",
    "plt.show()"
   ]
  }
 ],
 "metadata": {
  "kernelspec": {
   "display_name": "Python 3",
   "language": "python",
   "name": "python3"
  },
  "language_info": {
   "codemirror_mode": {
    "name": "ipython",
    "version": 3
   },
   "file_extension": ".py",
   "mimetype": "text/x-python",
   "name": "python",
   "nbconvert_exporter": "python",
   "pygments_lexer": "ipython3",
   "version": "3.6.7"
  }
 },
 "nbformat": 4,
 "nbformat_minor": 2
}
