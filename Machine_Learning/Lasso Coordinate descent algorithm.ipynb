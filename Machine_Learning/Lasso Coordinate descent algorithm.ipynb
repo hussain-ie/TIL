{
 "cells": [
  {
   "cell_type": "markdown",
   "metadata": {},
   "source": [
    "<br>\n",
    "<center><font size = 15> Coordinate descent algorithm을 이용한 LASSO 추정 </font></center>\n",
    "<br>\n",
    "\n",
    "<img  height = 2000px src = \"./img/lasso_coor.PNG\">\n",
    "\n",
    "<br>\n",
    "<br>\n",
    "\n",
    "\n",
    "\n",
    "<div style = \"width : 400px; paddig-right:10px; float : right;\">\n",
    "    <font size = 8>\n",
    "        190524 이성령\n",
    "    </font></div>"
   ]
  },
  {
   "cell_type": "markdown",
   "metadata": {},
   "source": [
    "# Library Load"
   ]
  },
  {
   "cell_type": "code",
   "execution_count": 1,
   "metadata": {},
   "outputs": [
    {
     "data": {
      "text/html": [
       "        <script type=\"text/javascript\">\n",
       "        window.PlotlyConfig = {MathJaxConfig: 'local'};\n",
       "        if (window.MathJax) {MathJax.Hub.Config({SVG: {font: \"STIX-Web\"}});}\n",
       "        if (typeof require !== 'undefined') {\n",
       "        require.undef(\"plotly\");\n",
       "        requirejs.config({\n",
       "            paths: {\n",
       "                'plotly': ['https://cdn.plot.ly/plotly-latest.min']\n",
       "            }\n",
       "        });\n",
       "        require(['plotly'], function(Plotly) {\n",
       "            window._Plotly = Plotly;\n",
       "        });\n",
       "        }\n",
       "        </script>\n",
       "        "
      ]
     },
     "metadata": {},
     "output_type": "display_data"
    }
   ],
   "source": [
    "import numpy as np\n",
    "import matplotlib.pyplot as plt\n",
    "from sklearn.linear_model import  Lasso , LassoCV\n",
    "from sklearn.metrics import mean_squared_error\n",
    "import pandas as pd , re\n",
    "import plotly.plotly as py\n",
    "import plotly.graph_objs as go\n",
    "from plotly.offline import download_plotlyjs, init_notebook_mode, plot, iplot\n",
    "init_notebook_mode(connected=True)\n",
    "import warnings\n",
    "np.random.seed(19510)"
   ]
  },
  {
   "cell_type": "markdown",
   "metadata": {},
   "source": [
    "## Functions"
   ]
  },
  {
   "cell_type": "code",
   "execution_count": 2,
   "metadata": {},
   "outputs": [],
   "source": [
    "def random_uniform(size) :\n",
    "    _  = np.random.uniform(low = -1 , high = 1 , size = [size])[:,np.newaxis]\n",
    "    return _\n",
    "\n",
    "def noise(size) :\n",
    "    _  = np.random.normal(loc = 0 , scale = 1 , size = [size])[:,np.newaxis]\n",
    "    return _\n",
    "\n",
    "def generate_x(size) :\n",
    "    total = random_uniform(size)\n",
    "    for _ in np.arange(19) :\n",
    "        column = random_uniform(size)\n",
    "        total = np.concatenate( (total , column) , axis = 1)\n",
    "    return total\n",
    "\n",
    "def plotting(data , title , lambda_list , ax ) :\n",
    "    for idx , i in enumerate(data.columns.tolist()) :\n",
    "        ax.plot(np.array(lambda_list) , data.loc[:,i].values , label = str(idx))\n",
    "    ax.legend(frameon=False, loc='upper center', ncol=10)\n",
    "    ax.set_title(title, color =\"black\", fontsize = 20)\n",
    "    \n",
    "def Loop_func(lambda_list , f , train_x , train_y , test_x , test_y ) :\n",
    "    train_mse  , test_mse = [] , []\n",
    "    coef = pd.DataFrame()\n",
    "    for i in lambda_list :\n",
    "        func = f(alpha=i)\n",
    "        func.fit(train_x , train_y )\n",
    "        string = str(func)\n",
    "        if re.split(r\"[(]\", string)[0] == \"Ridge\" :\n",
    "            func_coef = pd.DataFrame(func.coef_)\n",
    "        else :\n",
    "            func_coef = pd.DataFrame(func.coef_).T\n",
    "        coef = pd.concat([ coef , func_coef ], axis = 0)\n",
    "        func_train_mse = mean_squared_error(train_y , func.predict(train_x) )\n",
    "        func_test_mse = mean_squared_error(test_y , func.predict(test_x) )\n",
    "        train_mse.append(func_train_mse)\n",
    "        test_mse.append(func_test_mse)\n",
    "    coef.reset_index(drop= True , inplace= True)\n",
    "    return train_mse  , test_mse , coef\n",
    "\n",
    "def loss_plot(x , y , label , ax ) :\n",
    "    ax.plot(x,y, label = label)\n",
    "    ax.legend(fontsize = 15)\n",
    "    label2 = re.split(\" \" , label)\n",
    "    ax.set_title( label2[0] , fontsize = 30)\n",
    "    arg_min = np.argmin(y)\n",
    "    ax.text(x[arg_min] , y[arg_min], r\"{} mse : {:.3f} , lambda : {:.5f}\".format(label2[1] , y[arg_min] , x[arg_min]) , fontsize = 15)"
   ]
  },
  {
   "cell_type": "markdown",
   "metadata": {},
   "source": [
    "## Data Generate"
   ]
  },
  {
   "cell_type": "code",
   "execution_count": 3,
   "metadata": {},
   "outputs": [],
   "source": [
    "train_n = 100\n",
    "train_x = generate_x(train_n)\n",
    "test_n = 10000\n",
    "test_x = generate_x(test_n)"
   ]
  },
  {
   "cell_type": "markdown",
   "metadata": {},
   "source": [
    "# Case1\n",
    "\n",
    "## $\\beta_1 = \\beta_2 = 1 , $\n",
    "## $\\beta_3 = \\beta_4 = ... = \\beta_{20} = 0$"
   ]
  },
  {
   "cell_type": "code",
   "execution_count": 4,
   "metadata": {},
   "outputs": [],
   "source": [
    "beta = np.array([1] * 2 + [0] * 18)[ :, np.newaxis ]\n",
    "train_eps = noise(train_n)\n",
    "test_eps = noise(test_n)\n",
    "train_y = train_x.dot(beta) + train_eps\n",
    "test_y  = test_x.dot(beta) + test_eps\n",
    "##\n",
    "\n",
    "Lasso_lambda_list = np.linspace(1e-5 , 0.35 , 100)\n",
    "\n",
    "lasso_train_mse  , lasso_test_mse , lasso_coef = Loop_func(Lasso_lambda_list , Lasso, train_x , train_y, test_x , test_y)\n"
   ]
  },
  {
   "cell_type": "markdown",
   "metadata": {},
   "source": [
    "## Lassocv를 통해 K=10 일 때의 최적의 alpha 구하기"
   ]
  },
  {
   "cell_type": "markdown",
   "metadata": {},
   "source": [
    "## 결국 구해야 하는 것과 알아야 하는 것\n",
    "* lambda 는 결국 cv를 통해서 얻은 최적값\n",
    "* j번째 coef 값\n",
    "* j번째 x와 y간의 corr\n",
    "* 한개씩 업데이트를 하는데, 자기 자신을 제외한 나머지들의 correlation들의 합"
   ]
  },
  {
   "cell_type": "code",
   "execution_count": 5,
   "metadata": {},
   "outputs": [
    {
     "name": "stdout",
     "output_type": "stream",
     "text": [
      "Best Alpha : 0.042029806612334804\n",
      "coefficient : [ 0.82478003  0.7851741   0.          0.10372369 -0.          0.10283864\n",
      " -0.          0.13194043  0.         -0.         -0.         -0.2538367\n",
      "  0.          0.         -0.         -0.         -0.          0.21818703\n",
      "  0.         -0.11857493]\n"
     ]
    },
    {
     "name": "stderr",
     "output_type": "stream",
     "text": [
      "/root/anaconda3/lib/python3.6/site-packages/sklearn/linear_model/coordinate_descent.py:1094: DataConversionWarning:\n",
      "\n",
      "A column-vector y was passed when a 1d array was expected. Please change the shape of y to (n_samples, ), for example using ravel().\n",
      "\n"
     ]
    }
   ],
   "source": [
    "np.random.seed(19510)\n",
    "reg = LassoCV(cv=5, random_state=0).fit(train_x , train_y )\n",
    "best_alpha = reg.alpha_\n",
    "x_corr = pd.DataFrame(train_x).corr().values\n",
    "print(\"Best Alpha : {}\".format(best_alpha))\n",
    "print(\"coefficient : {}\".format(reg.coef_))"
   ]
  },
  {
   "cell_type": "code",
   "execution_count": 6,
   "metadata": {},
   "outputs": [
    {
     "data": {
      "text/plain": [
       "array([ 0.82478003,  0.7851741 ,  0.        ,  0.10372369, -0.        ,\n",
       "        0.10283864, -0.        ,  0.13194043,  0.        , -0.        ,\n",
       "       -0.        , -0.2538367 ,  0.        ,  0.        , -0.        ,\n",
       "       -0.        , -0.        ,  0.21818703,  0.        , -0.11857493])"
      ]
     },
     "execution_count": 6,
     "metadata": {},
     "output_type": "execute_result"
    }
   ],
   "source": [
    "TEST = Lasso(alpha=best_alpha).fit(train_x, train_y)\n",
    "TEST.coef_"
   ]
  },
  {
   "cell_type": "markdown",
   "metadata": {},
   "source": [
    "## 3. Lasso Problem\n",
    "\n",
    "<font size = 5> $\\sum_{j=1}^{p}(y_j - \\beta_j)^2 + \\lambda \\sum_{j=1}^{p}|\\beta_j|$ </font >\n",
    "\n",
    "<font size = 4; color = \"green\"  > $if\\;\\; \\beta > 0\\,\\,, $ </font >\n",
    "\n",
    "$\\;\\; \\sum_{j=1}^{p}(y_j - \\beta_j)^2 + \\lambda \\sum_{j=1}^{p}\\beta_j$\n",
    "\n",
    "$\\;\\; \\sum (\\beta^2-(y-\\frac{\\lambda}{2}))^2 + y^2-(y-\\frac{\\lambda}{2})^2) $\n",
    "\n",
    "$\\;\\; (\\beta - y + \\frac{\\lambda}{2})^2 + \\lambda y - \\frac{\\lambda^2}{4}$\n",
    "\n",
    "$\\;\\; min\\hat\\beta =  y-\\frac{\\lambda}{2} (\\beta>0)  \\qquad  y-\\frac{\\lambda}{2} > 0 $ \n",
    "\n",
    "\n",
    "\n",
    "<font size = 4; color = \"green\"  > $if\\;\\; \\beta < 0\\,\\,, $  </font >\n",
    "\n",
    "$\\;\\; \\sum_{j=1}^{p}(y_j - \\beta_j)^2 - \\lambda \\sum_{j=1}^{p}\\beta_j$\n",
    "\n",
    "$\\;\\; \\sum (\\beta^2-(y+\\frac{\\lambda}{2}))^2 + y^2-(y+\\frac{\\lambda}{2})^2) $\n",
    "\n",
    "$\\;\\; (\\beta - y - \\frac{\\lambda}{2})^2 - \\lambda y - \\frac{\\lambda^2}{4}$\n",
    "\n",
    "$\\;\\; min\\hat\\beta =  y + \\frac{\\lambda}{2} (\\beta>0)  \\qquad  y+ \\frac{\\lambda}{2} < 0 $ \n",
    "\n",
    "\n",
    "> <font size = 5; color = \"red\"  > Soft-Thresholding </font >\n",
    "\n",
    "* wavelet shrinkage이라고 불린다고 하고 합니다.\n",
    "* image-denoising에서 이 경우를 적용하면, 강조하고 싶은 부분을 강조해주는 효과가 있다고 합니다.\n",
    "\n",
    "$\\hat\\beta_j^L=\n",
    "\\begin{cases}\n",
    "y_j-\\frac{\\lambda}{2} , & \\mbox{if } y_j > \\frac{\\lambda}{2} \\\\\n",
    "y_j+\\frac{\\lambda}{2}, & \\mbox{if }y_j < - \\frac{\\lambda}{2} \\\\\n",
    "0 , & \\mbox{if } |y_j| \\le \\frac{\\lambda}{2} \\\\\n",
    "\\end{cases}\n",
    "= \\begin{cases}\n",
    "\\hat\\beta_j-\\frac{\\lambda}{2} , & \\mbox{if } \\hat\\beta_j > \\frac{\\lambda}{2} \\\\\n",
    "\\hat\\beta_j+\\frac{\\lambda}{2}, & \\mbox{if }\\hat\\beta_j< -\\frac{\\lambda}{2} \\\\\n",
    "0 , & \\mbox{if } |\\hat\\beta_j| \\le \\frac{\\lambda}{2} \\\\\n",
    "\\end{cases}\n",
    "$\n",
    "\n"
   ]
  },
  {
   "cell_type": "markdown",
   "metadata": {},
   "source": [
    "$\\hat\\beta = sign(y)(|y|-\\frac{\\lambda}{2})_+$\n",
    "\n",
    "$(|y|-\\frac{\\lambda}{2})_+=\n",
    "\\begin{cases}\n",
    "|y_j|-\\frac{\\lambda}{2} , & \\mbox{if } |y_j| > \\frac{\\lambda}{2} \\\\\n",
    "0 , & \\mbox{if } |y_j| < - \\frac{\\lambda}{2} \\\\\n",
    "\\end{cases}\n",
    "$\n",
    "\n",
    "\n",
    "$y = r_{j,y}-\\sum_{l \\neq j }\\alpha_jr_{l,j}$ \n",
    "\n",
    "$r_{i,j} = corr(x_i,x_j) $"
   ]
  },
  {
   "cell_type": "code",
   "execution_count": 8,
   "metadata": {},
   "outputs": [
    {
     "name": "stdout",
     "output_type": "stream",
     "text": [
      "Iteration : 32 ,\n",
      "Dist :  0.0\n",
      "Coordinate Descent : \n",
      " [ 0.4384162766998976    0.4221386154610102    0.0390262975748355\n",
      "  0.09356878063212302  -0.00638351765772854   0.11588841496624547\n",
      " -0.04315549890425299   0.1393691004995831    0.\n",
      " -0.                   -0.                   -0.17805698575629736\n",
      "  0.                    0.                   -0.04503708527489583\n",
      "  0.                   -0.007894085619709959  0.11091489026565637\n",
      "  0.039372944144943606 -0.11505485416195504 ] \n",
      "Best coefficient : \n",
      " [ 0.8247800332329711   0.7851740973085213   0.\n",
      "  0.10372369042089918 -0.                   0.10283863521387279\n",
      " -0.                   0.13194042689094157  0.\n",
      " -0.                  -0.                  -0.2538367013971219\n",
      "  0.                   0.                  -0.\n",
      " -0.                  -0.                   0.2181870288488784\n",
      "  0.                  -0.11857493091514436]\n"
     ]
    }
   ],
   "source": [
    "## init 값\n",
    "np.set_printoptions(precision= 10000)\n",
    "from scipy.spatial.distance import euclidean\n",
    "coef = np.random.uniform(1,2,20)\n",
    "x_corr = pd.DataFrame(train_x).corr().values\n",
    "rang = np.arange(20)\n",
    "tol = 1e-300\n",
    "max_num = 1000\n",
    "num = 0\n",
    "dist_list = []\n",
    "while True :\n",
    "    pre_coef = np.copy(coef)\n",
    "    coef     = np.copy(coef)\n",
    "    for idx in rang :\n",
    "        select_x = train_x[:,idx]\n",
    "        r_xy = np.corrcoef(select_x , np.squeeze(train_y))[0,1]\n",
    "        select_xx = np.where(rang != idx )[0]\n",
    "        r_xx = np.sum(x_corr[idx,:][select_xx] * coef[select_xx])\n",
    "        t = r_xy - r_xx\n",
    "        term = np.abs(t) - best_alpha/2\n",
    "        term = term if term > 0 else 0\n",
    "        coef[idx] = np.sign(t)*term\n",
    "        dist = euclidean(pre_coef , coef)\n",
    "    if (dist < tol) | (num > max_num)  :\n",
    "        print(\"Iteration : {} ,\".format(num) )\n",
    "        print(\"Dist : \", dist)\n",
    "        print(\"Coordinate Descent : \\n {} \".format(coef) )\n",
    "        break\n",
    "    else :\n",
    "        num += 1 \n",
    "        dist_list.append(dist)\n",
    "        coef = np.copy(coef)\n",
    "print(\"Best coefficient : \\n {}\".format(reg.coef_))\n"
   ]
  },
  {
   "cell_type": "code",
   "execution_count": 9,
   "metadata": {},
   "outputs": [
    {
     "data": {
      "application/vnd.plotly.v1+json": {
       "config": {
        "linkText": "Export to plot.ly",
        "plotlyServerURL": "https://plot.ly",
        "responsive": true,
        "showLink": false
       },
       "data": [
        {
         "marker": {
          "color": "rgba(55, 128, 191, 0.7)"
         },
         "name": "Cross Validatiaon Coef",
         "type": "bar",
         "uid": "b7ed3f4c-6aec-481e-91c8-6e919efa02a3",
         "x": [
          0,
          1,
          2,
          3,
          4,
          5,
          6,
          7,
          8,
          9,
          10,
          11,
          12,
          13,
          14,
          15,
          16,
          17,
          18,
          19
         ],
         "y": [
          0.8247800332329711,
          0.7851740973085213,
          0,
          0.10372369042089918,
          0,
          0.10283863521387279,
          0,
          0.13194042689094157,
          0,
          0,
          0,
          -0.2538367013971219,
          0,
          0,
          0,
          0,
          0,
          0.2181870288488784,
          0,
          -0.11857493091514436
         ]
        },
        {
         "base": 0,
         "marker": {
          "color": "rgba(219, 64, 82, 0.7)"
         },
         "name": "Coordinate Desecnt Coef",
         "type": "bar",
         "uid": "5a77ba38-8834-4e1e-9240-c7efc9381f23",
         "x": [
          0,
          1,
          2,
          3,
          4,
          5,
          6,
          7,
          8,
          9,
          10,
          11,
          12,
          13,
          14,
          15,
          16,
          17,
          18,
          19
         ],
         "y": [
          0.4384162766998976,
          0.4221386154610102,
          0.0390262975748355,
          0.09356878063212302,
          -0.00638351765772854,
          0.11588841496624547,
          -0.04315549890425299,
          0.1393691004995831,
          0,
          0,
          0,
          -0.17805698575629736,
          0,
          0,
          -0.04503708527489583,
          0,
          -0.007894085619709959,
          0.11091489026565637,
          0.039372944144943606,
          -0.11505485416195504
         ]
        }
       ],
       "layout": {
        "showlegend": true,
        "title": {
         "text": "Coefficeint [CrossValidation and Coordinate Descent]"
        },
        "updatemenus": [
         {
          "active": -1,
          "buttons": [
           {
            "args": [
             {
              "visible": [
               true,
               false
              ]
             },
             {
              "title": "Coordinate Descent Coef"
             }
            ],
            "label": "CoordinateDeScent",
            "method": "update"
           },
           {
            "args": [
             {
              "visible": [
               false,
               true
              ]
             },
             {
              "title": "CrossValidation Coef"
             }
            ],
            "label": "CrossValidation",
            "method": "update"
           },
           {
            "args": [
             {
              "visible": [
               true,
               true
              ]
             },
             {
              "title": "Coefficeint [CrossValidation and Coordinate Descent]"
             }
            ],
            "label": "Both",
            "method": "update"
           }
          ],
          "type": "buttons"
         }
        ]
       }
      },
      "text/html": [
       "<div>\n",
       "        \n",
       "        \n",
       "            <div id=\"aa07c249-3b8b-44eb-bbcf-312ebb7ac098\" class=\"plotly-graph-div\" style=\"height:525px; width:100%;\"></div>\n",
       "            <script type=\"text/javascript\">\n",
       "                require([\"plotly\"], function(Plotly) {\n",
       "                    window.PLOTLYENV=window.PLOTLYENV || {};\n",
       "                    window.PLOTLYENV.BASE_URL='https://plot.ly';\n",
       "                    \n",
       "                if (document.getElementById(\"aa07c249-3b8b-44eb-bbcf-312ebb7ac098\")) {\n",
       "                    Plotly.newPlot(\n",
       "                        'aa07c249-3b8b-44eb-bbcf-312ebb7ac098',\n",
       "                        [{\"marker\": {\"color\": \"rgba(55, 128, 191, 0.7)\"}, \"name\": \"Cross Validatiaon Coef\", \"type\": \"bar\", \"uid\": \"18e07a72-b61b-4581-b03a-a3fcb15d2096\", \"x\": [0, 1, 2, 3, 4, 5, 6, 7, 8, 9, 10, 11, 12, 13, 14, 15, 16, 17, 18, 19], \"y\": [0.8247800332329711, 0.7851740973085213, 0.0, 0.10372369042089918, -0.0, 0.10283863521387279, -0.0, 0.13194042689094157, 0.0, -0.0, -0.0, -0.2538367013971219, 0.0, 0.0, -0.0, -0.0, -0.0, 0.2181870288488784, 0.0, -0.11857493091514436]}, {\"base\": 0, \"marker\": {\"color\": \"rgba(219, 64, 82, 0.7)\"}, \"name\": \"Coordinate Desecnt Coef\", \"type\": \"bar\", \"uid\": \"1dbcbbfc-fe8b-467e-bf35-204b5e1ecfd5\", \"x\": [0, 1, 2, 3, 4, 5, 6, 7, 8, 9, 10, 11, 12, 13, 14, 15, 16, 17, 18, 19], \"y\": [0.4384162766998976, 0.4221386154610102, 0.0390262975748355, 0.09356878063212302, -0.00638351765772854, 0.11588841496624547, -0.04315549890425299, 0.1393691004995831, 0.0, -0.0, -0.0, -0.17805698575629736, 0.0, 0.0, -0.04503708527489583, 0.0, -0.007894085619709959, 0.11091489026565637, 0.039372944144943606, -0.11505485416195504]}],\n",
       "                        {\"showlegend\": true, \"title\": {\"text\": \"Coefficeint [CrossValidation and Coordinate Descent]\"}, \"updatemenus\": [{\"active\": -1, \"buttons\": [{\"args\": [{\"visible\": [true, false]}, {\"title\": \"Coordinate Descent Coef\"}], \"label\": \"CoordinateDeScent\", \"method\": \"update\"}, {\"args\": [{\"visible\": [false, true]}, {\"title\": \"CrossValidation Coef\"}], \"label\": \"CrossValidation\", \"method\": \"update\"}, {\"args\": [{\"visible\": [true, true]}, {\"title\": \"Coefficeint [CrossValidation and Coordinate Descent]\"}], \"label\": \"Both\", \"method\": \"update\"}], \"type\": \"buttons\"}]},\n",
       "                        {\"showLink\": false, \"linkText\": \"Export to plot.ly\", \"plotlyServerURL\": \"https://plot.ly\", \"responsive\": true}\n",
       "                    ).then(function(){\n",
       "                            \n",
       "var gd = document.getElementById('aa07c249-3b8b-44eb-bbcf-312ebb7ac098');\n",
       "var x = new MutationObserver(function (mutations, observer) {{\n",
       "        var display = window.getComputedStyle(gd).display;\n",
       "        if (!display || display === 'none') {{\n",
       "            console.log([gd, 'removed!']);\n",
       "            Plotly.purge(gd);\n",
       "            observer.disconnect();\n",
       "        }}\n",
       "}});\n",
       "\n",
       "// Listen for the removal of the full notebook cells\n",
       "var notebookContainer = gd.closest('#notebook-container');\n",
       "if (notebookContainer) {{\n",
       "    x.observe(notebookContainer, {childList: true});\n",
       "}}\n",
       "\n",
       "// Listen for the clearing of the current output cell\n",
       "var outputEl = gd.closest('.output');\n",
       "if (outputEl) {{\n",
       "    x.observe(outputEl, {childList: true});\n",
       "}}\n",
       "\n",
       "                        })\n",
       "                };\n",
       "                });\n",
       "            </script>\n",
       "        </div>"
      ]
     },
     "metadata": {},
     "output_type": "display_data"
    }
   ],
   "source": [
    "\n",
    "data = [\n",
    "    go.Bar(\n",
    "        x = list(rang) , \n",
    "        y = reg.coef_  ,\n",
    "        marker = dict(\n",
    "          color='rgba(55, 128, 191, 0.7)',\n",
    "        ),\n",
    "        name = 'Cross Validatiaon Coef'\n",
    "    ),\n",
    "    go.Bar(\n",
    "        x = list(rang),\n",
    "        y = coef ,\n",
    "        base = 0,\n",
    "        marker = dict(\n",
    "          color='rgba(219, 64, 82, 0.7)',\n",
    "        ),\n",
    "        name = 'Coordinate Desecnt Coef'\n",
    "    )\n",
    "]\n",
    "\n",
    "updatemenus = list([\n",
    "    dict(type=\"buttons\",\n",
    "         active=-1,\n",
    "         buttons=list([\n",
    "            dict(label = 'CoordinateDeScent',\n",
    "                 method = 'update',\n",
    "                 args = [{'visible': [True,False]},\n",
    "                         {'title': 'Coordinate Descent Coef'}]),\n",
    "            dict(label = 'CrossValidation',\n",
    "                 method = 'update',\n",
    "                 args = [{'visible': [False, True]},\n",
    "                         {'title': 'CrossValidation Coef'}]),\n",
    "            dict(label = 'Both',\n",
    "                 method = 'update',\n",
    "                 args = [{'visible': [True,  True]},\n",
    "                         {'title': 'Coefficeint [CrossValidation and Coordinate Descent]'}])\n",
    "        ]),\n",
    "    )\n",
    "])\n",
    "\n",
    "layout = dict(title='Coefficeint [CrossValidation and Coordinate Descent]', showlegend=True,\n",
    "              updatemenus=updatemenus)\n",
    "\n",
    "\n",
    "fig = go.Figure(data=data, layout=layout)\n",
    "iplot(fig, filename='base-bar')"
   ]
  },
  {
   "cell_type": "code",
   "execution_count": null,
   "metadata": {},
   "outputs": [],
   "source": []
  }
 ],
 "metadata": {
  "kernelspec": {
   "display_name": "Python 3",
   "language": "python",
   "name": "python3"
  },
  "language_info": {
   "codemirror_mode": {
    "name": "ipython",
    "version": 3
   },
   "file_extension": ".py",
   "mimetype": "text/x-python",
   "name": "python",
   "nbconvert_exporter": "python",
   "pygments_lexer": "ipython3",
   "version": "3.6.7"
  }
 },
 "nbformat": 4,
 "nbformat_minor": 2
}
